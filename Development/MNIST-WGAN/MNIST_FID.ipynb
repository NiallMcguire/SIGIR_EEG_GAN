{
 "cells": [
  {
   "cell_type": "code",
   "execution_count": 2,
   "metadata": {
    "collapsed": true,
    "ExecuteTime": {
     "start_time": "2023-10-19T12:34:45.389171Z",
     "end_time": "2023-10-19T12:34:45.470480Z"
    }
   },
   "outputs": [],
   "source": [
    "import torch\n",
    "import torchvision\n",
    "from torchvision import transforms\n",
    "import numpy as np\n",
    "\n",
    "\n",
    "image_path = './'\n",
    "transform = transforms.Compose([\n",
    "    transforms.ToTensor(),\n",
    "    transforms.Normalize(mean=(0.5), std=(0.5))\n",
    "])\n",
    "mnist_dataset = torchvision.datasets.MNIST(root=image_path,\n",
    "                                           train=True,\n",
    "                                           transform=transform,\n",
    "                                           download=True)\n",
    "\n",
    "batch_size = 64\n",
    "\n",
    "torch.manual_seed(1)\n",
    "np.random.seed(1)\n",
    "\n",
    "## Set up the dataset\n",
    "from torch.utils.data import DataLoader\n",
    "mnist_dl = DataLoader(mnist_dataset, batch_size=batch_size,\n",
    "                      shuffle=True, drop_last=True)\n"
   ]
  },
  {
   "cell_type": "code",
   "execution_count": 5,
   "outputs": [
    {
     "name": "stdout",
     "output_type": "stream",
     "text": [
      "Saved 59968 images to mnist_images.\n"
     ]
    }
   ],
   "source": [
    "import os\n",
    "import numpy as np\n",
    "from torchvision.datasets import MNIST\n",
    "from PIL import Image\n",
    "\n",
    "# Replace with the path to your MNIST data loader\n",
    "mnist_data_loader = mnist_dl\n",
    "\n",
    "# Define the folder where you want to save the images\n",
    "output_folder = 'mnist_images'\n",
    "\n",
    "# Create the output folder if it doesn't exist\n",
    "os.makedirs(output_folder, exist_ok=True)\n",
    "\n",
    "# Iterate through the DataLoader and save the images\n",
    "for batch_idx, (images, labels) in enumerate(mnist_data_loader):\n",
    "    for i in range(len(images)):\n",
    "        image = images[i].numpy()\n",
    "        image = (image * 255).astype(np.uint8)\n",
    "        image = Image.fromarray(image[0], mode='L')  # Convert to grayscale PIL image\n",
    "        image.save(os.path.join(output_folder, f'image_{batch_idx * len(images) + i:04d}.png'))\n",
    "\n",
    "print(f\"Saved {len(mnist_data_loader) * len(images)} images to {output_folder}.\")\n"
   ],
   "metadata": {
    "collapsed": false,
    "ExecuteTime": {
     "start_time": "2023-10-19T12:36:36.570293Z",
     "end_time": "2023-10-19T12:37:26.484032Z"
    }
   }
  },
  {
   "cell_type": "markdown",
   "source": [],
   "metadata": {
    "collapsed": false
   }
  },
  {
   "cell_type": "code",
   "execution_count": null,
   "outputs": [],
   "source": [
    "from pytorch_fid import fid_score\n",
    "from pytorch_fid.inception import InceptionV3\n",
    "\n",
    "# Paths to the folders containing real and generated images\n",
    "real_images_path = 'path_to_real_images_folder'\n",
    "generated_images_path = 'path_to_generated_images_folder'\n",
    "\n",
    "# Create instances of the InceptionV3 model for both datasets\n",
    "real_dataset = InceptionV3([real_images_path], device='cuda', batch_size=50)\n",
    "generated_dataset = InceptionV3([generated_images_path], device='cuda', batch_size=50)\n",
    "\n",
    "# Calculate the FID score\n",
    "fid = fid_score.calculate_fid(real_dataset, generated_dataset)\n",
    "\n",
    "print(f'FID Score: {fid:.2f}')\n"
   ],
   "metadata": {
    "collapsed": false
   }
  }
 ],
 "metadata": {
  "kernelspec": {
   "display_name": "Python 3",
   "language": "python",
   "name": "python3"
  },
  "language_info": {
   "codemirror_mode": {
    "name": "ipython",
    "version": 2
   },
   "file_extension": ".py",
   "mimetype": "text/x-python",
   "name": "python",
   "nbconvert_exporter": "python",
   "pygments_lexer": "ipython2",
   "version": "2.7.6"
  }
 },
 "nbformat": 4,
 "nbformat_minor": 0
}
