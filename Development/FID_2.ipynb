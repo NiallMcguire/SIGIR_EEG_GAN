{
 "cells": [
  {
   "cell_type": "code",
   "execution_count": 1,
   "metadata": {
    "collapsed": true,
    "ExecuteTime": {
     "start_time": "2023-10-19T13:11:58.605539Z",
     "end_time": "2023-10-19T13:12:06.737530Z"
    }
   },
   "outputs": [
    {
     "data": {
      "text/plain": "'\\nimport pytorch_fid.fid_score as fid_score\\n\\nreal_dataset_path = \\'real_dataset\\'\\ngenerated_dataset_path = \\'generated_dataset\\'\\n\\n# Define the batch size, device, and dims\\nbatch_size = 50  # You can adjust this based on your available memory\\ndevice = \\'cuda\\' if torch.cuda.is_available() else \\'cpu\\'  # Use GPU if available\\ndims = 2048  # Inceptionv3 feature dimensions (default)\\n\\nfid_value = fid_score.calculate_fid_given_paths(\\n    [real_dataset_path, generated_dataset_path],\\n    batch_size=batch_size,\\n    device=device,\\n    dims=dims\\n)\\n\\nprint(f\"FID Score: {fid_value:.2f}\")\\n\\n# Step 4: Optional - Visualize the Toy Datasets\\n# To visualize the toy datasets, you can use the following code:\\n'"
     },
     "execution_count": 1,
     "metadata": {},
     "output_type": "execute_result"
    }
   ],
   "source": [
    "import torch\n",
    "import torchvision\n",
    "from torchvision import transforms\n",
    "from torch.utils.data import DataLoader, Dataset\n",
    "import os\n",
    "import numpy as np\n",
    "import matplotlib.pyplot as plt\n",
    "\n",
    "# Step 1: Create Toy Datasets\n",
    "\n",
    "# Create a function to generate a toy dataset\n",
    "def create_toy_dataset(num_samples, random_seed=42):\n",
    "    torch.manual_seed(random_seed)\n",
    "    data = torch.randn(num_samples, 3, 64, 64)  # Create random data for the toy dataset\n",
    "    return data\n",
    "\n",
    "# Create toy datasets\n",
    "real_dataset = create_toy_dataset(1000)\n",
    "generated_dataset = create_toy_dataset(1000)\n",
    "\n",
    "# Step 2: Save the Toy Datasets\n",
    "\n",
    "# Create directories to save the datasets\n",
    "os.makedirs('real_dataset', exist_ok=True)\n",
    "os.makedirs('generated_dataset', exist_ok=True)\n",
    "\n",
    "# Save the real and generated datasets\n",
    "for i in range(len(real_dataset)):\n",
    "    torchvision.utils.save_image(real_dataset[i], f'real_dataset/sample_{i}.png')\n",
    "    torchvision.utils.save_image(generated_dataset[i], f'generated_dataset/sample_{i}.png')\n",
    "\n",
    "# Step 3: Calculate FID\n",
    "\n",
    "# Calculate FID\n",
    "'''\n",
    "import pytorch_fid.fid_score as fid_score\n",
    "\n",
    "real_dataset_path = 'real_dataset'\n",
    "generated_dataset_path = 'generated_dataset'\n",
    "\n",
    "# Define the batch size, device, and dims\n",
    "batch_size = 50  # You can adjust this based on your available memory\n",
    "device = 'cuda' if torch.cuda.is_available() else 'cpu'  # Use GPU if available\n",
    "dims = 2048  # Inceptionv3 feature dimensions (default)\n",
    "\n",
    "fid_value = fid_score.calculate_fid_given_paths(\n",
    "    [real_dataset_path, generated_dataset_path],\n",
    "    batch_size=batch_size,\n",
    "    device=device,\n",
    "    dims=dims\n",
    ")\n",
    "\n",
    "print(f\"FID Score: {fid_value:.2f}\")\n",
    "\n",
    "# Step 4: Optional - Visualize the Toy Datasets\n",
    "# To visualize the toy datasets, you can use the following code:\n",
    "'''"
   ]
  },
  {
   "cell_type": "code",
   "execution_count": 4,
   "outputs": [],
   "source": [],
   "metadata": {
    "collapsed": false,
    "ExecuteTime": {
     "start_time": "2023-10-18T19:44:31.389542Z",
     "end_time": "2023-10-18T19:44:31.394998Z"
    }
   }
  },
  {
   "cell_type": "code",
   "execution_count": null,
   "outputs": [],
   "source": [],
   "metadata": {
    "collapsed": false
   }
  }
 ],
 "metadata": {
  "kernelspec": {
   "display_name": "Python 3",
   "language": "python",
   "name": "python3"
  },
  "language_info": {
   "codemirror_mode": {
    "name": "ipython",
    "version": 2
   },
   "file_extension": ".py",
   "mimetype": "text/x-python",
   "name": "python",
   "nbconvert_exporter": "python",
   "pygments_lexer": "ipython2",
   "version": "2.7.6"
  }
 },
 "nbformat": 4,
 "nbformat_minor": 0
}
