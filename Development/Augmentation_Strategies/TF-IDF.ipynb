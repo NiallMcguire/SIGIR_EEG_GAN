{
 "cells": [
  {
   "cell_type": "code",
   "execution_count": 1,
   "metadata": {
    "collapsed": true,
    "ExecuteTime": {
     "start_time": "2024-03-19T17:27:45.994801Z",
     "end_time": "2024-03-19T17:27:46.006107Z"
    }
   },
   "outputs": [],
   "source": [
    "import pickle"
   ]
  },
  {
   "cell_type": "code",
   "execution_count": 2,
   "outputs": [],
   "source": [
    "# To load the lists from the file:\n",
    "with open(r\"C:\\Users\\gxb18167\\PycharmProjects\\EEG-To-Text\\SIGIR_Development\\EEG-GAN\\EEG_Text_Pairs_Sentence.pkl\", 'rb') as file:\n",
    "    EEG_word_level_embeddings = pickle.load(file)\n",
    "    EEG_word_level_labels = pickle.load(file)"
   ],
   "metadata": {
    "collapsed": false,
    "ExecuteTime": {
     "start_time": "2024-03-19T17:27:46.003882Z",
     "end_time": "2024-03-19T17:27:47.270291Z"
    }
   }
  },
  {
   "cell_type": "code",
   "execution_count": 11,
   "outputs": [],
   "source": [
    "list_of_sentences = []\n",
    "\n",
    "Sentence = []\n",
    "for i in range(len(EEG_word_level_labels)):\n",
    "    if EEG_word_level_labels[i] == \"SOS\" and Sentence != []:\n",
    "        list_of_sentences.append(Sentence)\n",
    "        Sentence = []\n",
    "    elif EEG_word_level_labels[i] != \"SOS\":\n",
    "        Sentence.append(EEG_word_level_labels[i])\n",
    "\n"
   ],
   "metadata": {
    "collapsed": false,
    "ExecuteTime": {
     "start_time": "2024-03-19T17:31:48.577850Z",
     "end_time": "2024-03-19T17:31:48.656344Z"
    }
   }
  },
  {
   "cell_type": "code",
   "execution_count": 14,
   "outputs": [
    {
     "data": {
      "text/plain": "['She',\n 'now',\n 'speaker',\n 'author,',\n 'and',\n 'a',\n 'fellow',\n 'the',\n 'American',\n 'Enterprise',\n 'Institute.']"
     },
     "execution_count": 14,
     "metadata": {},
     "output_type": "execute_result"
    }
   ],
   "source": [
    "list_of_sentences[-1]"
   ],
   "metadata": {
    "collapsed": false,
    "ExecuteTime": {
     "start_time": "2024-03-19T17:31:55.531258Z",
     "end_time": "2024-03-19T17:31:55.556575Z"
    }
   }
  },
  {
   "cell_type": "code",
   "execution_count": null,
   "outputs": [],
   "source": [],
   "metadata": {
    "collapsed": false
   }
  }
 ],
 "metadata": {
  "kernelspec": {
   "display_name": "Python 3",
   "language": "python",
   "name": "python3"
  },
  "language_info": {
   "codemirror_mode": {
    "name": "ipython",
    "version": 2
   },
   "file_extension": ".py",
   "mimetype": "text/x-python",
   "name": "python",
   "nbconvert_exporter": "python",
   "pygments_lexer": "ipython2",
   "version": "2.7.6"
  }
 },
 "nbformat": 4,
 "nbformat_minor": 0
}
