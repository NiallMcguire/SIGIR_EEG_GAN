{
 "cells": [
  {
   "cell_type": "code",
   "execution_count": 2,
   "metadata": {
    "collapsed": true,
    "ExecuteTime": {
     "start_time": "2023-12-07T15:28:14.566075Z",
     "end_time": "2023-12-07T15:28:16.090569Z"
    }
   },
   "outputs": [],
   "source": [
    "import pickle\n",
    "import pandas as pd\n",
    "import numpy as np"
   ]
  },
  {
   "cell_type": "code",
   "execution_count": 6,
   "outputs": [],
   "source": [
    "def load_in_participant_data(path, subject):\n",
    "    with open(path, 'rb') as pickle_file:\n",
    "        loaded_data = pickle.load(pickle_file)\n",
    "\n",
    "    loaded_data = loaded_data[subject]\n",
    "\n",
    "    NeedToSearch = loaded_data[0]\n",
    "    CorrectSearch = loaded_data[1]\n",
    "    IncorrectSearch = loaded_data[2]\n",
    "\n",
    "    return NeedToSearch, CorrectSearch, IncorrectSearch"
   ],
   "metadata": {
    "collapsed": false,
    "ExecuteTime": {
     "start_time": "2023-12-07T15:29:24.616848Z",
     "end_time": "2023-12-07T15:29:24.638253Z"
    }
   }
  },
  {
   "cell_type": "code",
   "execution_count": 53,
   "outputs": [],
   "source": [
    "import numpy as np\n",
    "from scipy.stats import skew, kurtosis\n",
    "from scipy.signal import welch\n",
    "\n",
    "\n",
    "def extract_features_extended(eeg_segment):\n",
    "    features = []\n",
    "\n",
    "    # Basic statistical features for each channel\n",
    "    mean_vals = np.mean(eeg_segment, axis=1)\n",
    "    std_devs = np.std(eeg_segment, axis=1)\n",
    "    max_vals = np.max(eeg_segment, axis=1)\n",
    "    min_vals = np.min(eeg_segment, axis=1)\n",
    "    skewness_vals = skew(eeg_segment, axis=1)\n",
    "    kurtosis_vals = kurtosis(eeg_segment, axis=1)\n",
    "\n",
    "    features.extend(mean_vals)\n",
    "    features.extend(std_devs)\n",
    "    features.extend(max_vals)\n",
    "    features.extend(min_vals)\n",
    "    features.extend(skewness_vals)\n",
    "    features.extend(kurtosis_vals)\n",
    "\n",
    "    # Frequency domain features using Welch's method\n",
    "    for channel_data in eeg_segment:\n",
    "        f, psd = welch(channel_data, fs=500, nperseg=256)\n",
    "        psd_bands = [np.sum(psd[(f >= low) & (f < high)]) for (low, high) in [(0, 4), (4, 8), (8, 12), (12, 30), (30, 50)]]\n",
    "        spectral_entropy = -np.sum(psd * np.log2(psd + 1e-12))  # Avoid log(0)\n",
    "        peak_frequency = f[np.argmax(psd)]\n",
    "\n",
    "        features.extend(psd_bands)\n",
    "        features.append(spectral_entropy)\n",
    "        features.append(peak_frequency)\n",
    "\n",
    "    # Time-domain features\n",
    "    for channel_data in eeg_segment:\n",
    "        hjorth_params = [np.var(channel_data), np.var(np.diff(channel_data)), np.var(np.diff(np.diff(channel_data)))]\n",
    "        zero_cross_rate = np.sum(np.diff(np.sign(channel_data)) != 0) / len(channel_data)\n",
    "        waveform_length = np.sum(np.abs(np.diff(channel_data)))\n",
    "\n",
    "        features.extend(hjorth_params)\n",
    "        features.append(zero_cross_rate)\n",
    "        features.append(waveform_length)\n",
    "\n",
    "    return np.array(features)\n",
    "\n",
    "\n"
   ],
   "metadata": {
    "collapsed": false,
    "ExecuteTime": {
     "start_time": "2023-12-07T15:43:50.080829Z",
     "end_time": "2023-12-07T15:43:51.151110Z"
    }
   }
  },
  {
   "cell_type": "code",
   "execution_count": 62,
   "outputs": [],
   "source": [
    "def segments_to_features(Event):\n",
    "    Event_Queries = Event[0]\n",
    "    Event_IDs = Event[1]\n",
    "\n",
    "    EEG_Query_Features = []\n",
    "    for sentences in range(len(Event_Queries)):\n",
    "        EEG_sentence_features = []\n",
    "        for words in range(len(Event_Queries[sentences])):\n",
    "            #EEG_segment_ID = Event_IDs[sentences][words]\n",
    "            EEG_segments = Event_Queries[sentences][words][0]\n",
    "            features = extract_features_extended(EEG_segments)\n",
    "            EEG_sentence_features.append(features)\n",
    "        EEG_Query_Features.append(EEG_sentence_features)\n",
    "\n",
    "    return EEG_Query_Features, Event_IDs\n",
    "\n"
   ],
   "metadata": {
    "collapsed": false,
    "ExecuteTime": {
     "start_time": "2023-12-07T15:56:20.367209Z",
     "end_time": "2023-12-07T15:56:20.384161Z"
    }
   }
  },
  {
   "cell_type": "code",
   "execution_count": 63,
   "outputs": [],
   "source": [
    "ParticipantList = [\"01\", \"02\", \"03\", \"04\", \"05\",\"08\", \"09\", \"10\", \"11\", \"12\", \"13\", \"14\", \"15\", \"16\", \"17\", \"18\", \"19\", \"20\", \"21\", \"22\", \"23\", \"24\"]"
   ],
   "metadata": {
    "collapsed": false,
    "ExecuteTime": {
     "start_time": "2023-12-07T15:56:21.272453Z",
     "end_time": "2023-12-07T15:56:21.321296Z"
    }
   }
  },
  {
   "cell_type": "code",
   "execution_count": null,
   "outputs": [],
   "source": [],
   "metadata": {
    "collapsed": false
   }
  },
  {
   "cell_type": "code",
   "execution_count": 64,
   "outputs": [],
   "source": [
    "path = fr\"C:\\Users\\gxb18167\\PycharmProjects\\SIGIR_EEG_GAN\\Development\\Information-Need\\Data\\DataSegments\\EEG_Event_Segments.pkl\""
   ],
   "metadata": {
    "collapsed": false,
    "ExecuteTime": {
     "start_time": "2023-12-07T15:56:21.775600Z",
     "end_time": "2023-12-07T15:56:21.798499Z"
    }
   }
  },
  {
   "cell_type": "code",
   "execution_count": 65,
   "outputs": [],
   "source": [
    "ParticipantFeatureDict = {}\n",
    "for subject in ParticipantList:\n",
    "    NeedToSearch, CorrectSearch, IncorrectSearch = load_in_participant_data(path, subject)\n",
    "    NeedToSearchFeatures = segments_to_features(NeedToSearch)\n",
    "    CorrectSearchFeatures = segments_to_features(CorrectSearch)\n",
    "    IncorrectSearchFeatures = segments_to_features(IncorrectSearch)\n",
    "\n",
    "    ParticipantFeatureDict[subject] = [NeedToSearchFeatures, CorrectSearchFeatures, IncorrectSearchFeatures]\n",
    "\n",
    "pickle_file_path = fr'C:\\Users\\gxb18167\\PycharmProjects\\SIGIR_EEG_GAN\\Development\\Information-Need\\Data\\stat_features\\Participant_Features.pkl'\n",
    "\n",
    "# Open the file in binary write mode and use pickle.dump to save the data\n",
    "with open(pickle_file_path, 'wb') as pickle_file:\n",
    "    pickle.dump(ParticipantFeatureDict, pickle_file)"
   ],
   "metadata": {
    "collapsed": false,
    "ExecuteTime": {
     "start_time": "2023-12-07T15:56:23.022907Z",
     "end_time": "2023-12-07T15:56:26.875887Z"
    }
   }
  },
  {
   "cell_type": "code",
   "execution_count": 68,
   "outputs": [
    {
     "data": {
      "text/plain": "18"
     },
     "execution_count": 68,
     "metadata": {},
     "output_type": "execute_result"
    }
   ],
   "source": [],
   "metadata": {
    "collapsed": false,
    "ExecuteTime": {
     "start_time": "2023-12-07T15:56:41.151364Z",
     "end_time": "2023-12-07T15:56:41.179672Z"
    }
   }
  },
  {
   "cell_type": "code",
   "execution_count": 52,
   "outputs": [],
   "source": [],
   "metadata": {
    "collapsed": false,
    "ExecuteTime": {
     "start_time": "2023-12-07T15:39:49.141022Z",
     "end_time": "2023-12-07T15:39:49.155434Z"
    }
   }
  },
  {
   "cell_type": "code",
   "execution_count": 54,
   "outputs": [],
   "source": [],
   "metadata": {
    "collapsed": false,
    "ExecuteTime": {
     "start_time": "2023-12-07T15:44:17.443418Z",
     "end_time": "2023-12-07T15:44:19.251724Z"
    }
   }
  },
  {
   "cell_type": "code",
   "execution_count": 58,
   "outputs": [],
   "source": [],
   "metadata": {
    "collapsed": false,
    "ExecuteTime": {
     "start_time": "2023-12-07T15:44:45.246586Z",
     "end_time": "2023-12-07T15:44:45.269120Z"
    }
   }
  },
  {
   "cell_type": "code",
   "execution_count": null,
   "outputs": [],
   "source": [],
   "metadata": {
    "collapsed": false
   }
  }
 ],
 "metadata": {
  "kernelspec": {
   "display_name": "Python 3",
   "language": "python",
   "name": "python3"
  },
  "language_info": {
   "codemirror_mode": {
    "name": "ipython",
    "version": 2
   },
   "file_extension": ".py",
   "mimetype": "text/x-python",
   "name": "python",
   "nbconvert_exporter": "python",
   "pygments_lexer": "ipython2",
   "version": "2.7.6"
  }
 },
 "nbformat": 4,
 "nbformat_minor": 0
}
