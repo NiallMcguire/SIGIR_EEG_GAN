{
 "cells": [
  {
   "cell_type": "code",
   "execution_count": 1,
   "metadata": {
    "collapsed": true,
    "ExecuteTime": {
     "start_time": "2023-12-11T13:49:31.340586Z",
     "end_time": "2023-12-11T13:49:33.537713Z"
    }
   },
   "outputs": [],
   "source": [
    "import pickle\n",
    "import pandas as pd\n",
    "from sklearn.metrics import precision_recall_fscore_support, accuracy_score"
   ]
  },
  {
   "cell_type": "code",
   "execution_count": 2,
   "outputs": [],
   "source": [
    "def load_in_data(path):\n",
    "    with open(path, 'rb') as f:\n",
    "        data = pickle.load(f)\n",
    "    return data"
   ],
   "metadata": {
    "collapsed": false,
    "ExecuteTime": {
     "start_time": "2023-12-11T13:49:33.544684Z",
     "end_time": "2023-12-11T13:49:33.554093Z"
    }
   }
  },
  {
   "cell_type": "code",
   "execution_count": 3,
   "outputs": [],
   "source": [
    "def get_selected_features(SearchFeatures, include_segments=2):\n",
    "    all_selected_eeg = []\n",
    "    all_selected_ids = []\n",
    "    for index in range(len(SearchFeatures[1])):\n",
    "        sentence_eeg = SearchFeatures[0][index]\n",
    "        sentence_ids = SearchFeatures[1][index]\n",
    "\n",
    "        selected_ids = sentence_ids[-include_segments:]\n",
    "        selected_eeg = sentence_eeg[-include_segments:]\n",
    "\n",
    "        all_selected_eeg.append(selected_eeg)\n",
    "        all_selected_ids.append(selected_ids)\n",
    "\n",
    "    return all_selected_eeg"
   ],
   "metadata": {
    "collapsed": false,
    "ExecuteTime": {
     "start_time": "2023-12-11T13:49:33.560634Z",
     "end_time": "2023-12-11T13:49:33.577862Z"
    }
   }
  },
  {
   "cell_type": "code",
   "execution_count": 4,
   "outputs": [],
   "source": [
    "def get_search_x_y(SearchFeatures, label):\n",
    "    X_data = []\n",
    "    Y_Data = []\n",
    "\n",
    "    for index in range(len(SearchFeatures)):\n",
    "        sentence_eeg = SearchFeatures[index]\n",
    "        for eeg in sentence_eeg:\n",
    "            #print(eeg.shape)\n",
    "            X_data.append(eeg)\n",
    "            Y_Data.append(label)\n",
    "    return X_data, Y_Data"
   ],
   "metadata": {
    "collapsed": false,
    "ExecuteTime": {
     "start_time": "2023-12-11T13:49:33.578676Z",
     "end_time": "2023-12-11T13:49:33.589578Z"
    }
   }
  },
  {
   "cell_type": "code",
   "execution_count": 5,
   "outputs": [],
   "source": [
    "def combine_data(NeedToSearch_X, CorrectSearch_X, IncorrectSearch_X, NeedToSearch_Y, CorrectSearch_Y, IncorrectSearch_Y):\n",
    "    X_data = NeedToSearch_X + CorrectSearch_X[:len(NeedToSearch_X)] + IncorrectSearch_X[:len(NeedToSearch_X)]\n",
    "    Y_data = NeedToSearch_Y + CorrectSearch_Y[:len(NeedToSearch_X)] + IncorrectSearch_Y[:len(NeedToSearch_X)]\n",
    "    return X_data, Y_data"
   ],
   "metadata": {
    "collapsed": false,
    "ExecuteTime": {
     "start_time": "2023-12-11T13:49:33.588075Z",
     "end_time": "2023-12-11T13:49:33.606108Z"
    }
   }
  },
  {
   "cell_type": "code",
   "execution_count": 6,
   "outputs": [],
   "source": [
    "def get_all_subject_x_y(data, include_segments=2):\n",
    "    X_data_all = []\n",
    "    Y_data_all = []\n",
    "\n",
    "    if include_segments < 2:\n",
    "        raise ValueError(\"include_segments must be greater than 1\")\n",
    "\n",
    "    for key in data.keys():\n",
    "        subject = data[key]\n",
    "\n",
    "\n",
    "        NeedToSearchFeatures, CorrectSearchFeatures, IncorrectSearchFeatures = subject\n",
    "        Selected_NeedToSearchFeatures = get_selected_features(NeedToSearchFeatures, include_segments)\n",
    "        Selected_CorrectSearchFeatures = get_selected_features(CorrectSearchFeatures, include_segments)\n",
    "        Selected_IncorrectSearchFeatures = get_selected_features(IncorrectSearchFeatures, include_segments)\n",
    "\n",
    "        NeedToSearch_X, NeedToSearch_Y = get_search_x_y(Selected_NeedToSearchFeatures, label=0)\n",
    "        CorrectSearch_X, CorrectSearch_Y = get_search_x_y(Selected_CorrectSearchFeatures, label=1)\n",
    "        IncorrectSearch_X, IncorrectSearch_Y = get_search_x_y(Selected_IncorrectSearchFeatures, label=1)\n",
    "\n",
    "        X_data, Y_data = combine_data(NeedToSearch_X, CorrectSearch_X, IncorrectSearch_X, NeedToSearch_Y, CorrectSearch_Y, IncorrectSearch_Y)\n",
    "        X_data_all += X_data\n",
    "        Y_data_all += Y_data\n",
    "    return X_data_all, Y_data_all"
   ],
   "metadata": {
    "collapsed": false,
    "ExecuteTime": {
     "start_time": "2023-12-11T13:49:33.606108Z",
     "end_time": "2023-12-11T13:49:33.643101Z"
    }
   }
  },
  {
   "cell_type": "code",
   "execution_count": 7,
   "outputs": [],
   "source": [
    "\n",
    "def get_metrics(model, X_Test, Y_Test):\n",
    "    y_pred = model.predict(X_Test)\n",
    "    precision, recall, f1, support = precision_recall_fscore_support(Y_Test, y_pred, average='weighted')\n",
    "    accuracy = accuracy_score(Y_Test, y_pred)\n",
    "    print(precision, recall, f1, accuracy)\n",
    "    metrics = [precision, recall, f1, accuracy]\n",
    "    return accuracy"
   ],
   "metadata": {
    "collapsed": false,
    "ExecuteTime": {
     "start_time": "2023-12-11T13:49:33.828451Z",
     "end_time": "2023-12-11T13:49:33.862352Z"
    }
   }
  },
  {
   "cell_type": "code",
   "execution_count": 8,
   "outputs": [],
   "source": [
    "path = r\"C:\\Users\\gxb18167\\PycharmProjects\\SIGIR_EEG_GAN\\Development\\Information-Need\\Data\\stat_features\\Participant_Features.pkl\""
   ],
   "metadata": {
    "collapsed": false,
    "ExecuteTime": {
     "start_time": "2023-12-11T13:49:34.321973Z",
     "end_time": "2023-12-11T13:49:34.366314Z"
    }
   }
  },
  {
   "cell_type": "code",
   "execution_count": 9,
   "outputs": [],
   "source": [
    "data = load_in_data(path)"
   ],
   "metadata": {
    "collapsed": false,
    "ExecuteTime": {
     "start_time": "2023-12-11T13:49:36.018926Z",
     "end_time": "2023-12-11T13:49:36.172265Z"
    }
   }
  },
  {
   "cell_type": "code",
   "execution_count": 11,
   "outputs": [],
   "source": [
    "X, Y = get_all_subject_x_y(data, include_segments=5)"
   ],
   "metadata": {
    "collapsed": false,
    "ExecuteTime": {
     "start_time": "2023-12-11T13:49:43.887719Z",
     "end_time": "2023-12-11T13:49:43.899778Z"
    }
   }
  },
  {
   "cell_type": "code",
   "execution_count": 13,
   "outputs": [
    {
     "data": {
      "text/plain": "array([ 1.49825479e-06, -8.09130058e-07,  1.60667683e-06, -8.09050425e-07,\n        2.49860436e-06, -8.04779068e-07,  4.24182238e-07, -8.09326648e-07,\n       -5.44481250e-08, -8.07417304e-07,  6.53281403e-07, -8.07446100e-07,\n        1.52634518e-06, -8.05504856e-07,  1.28239362e-06, -8.06638344e-07,\n        1.22700198e-06, -8.05085875e-07,  5.82518561e-07, -8.08358259e-07,\n        7.93489121e-08, -8.08689608e-07, -8.06897382e-07,  7.17620936e-07,\n       -8.04523232e-07,  8.22317115e-07, -8.05302258e-07, -8.09876285e-07,\n        9.38104941e-07, -8.02474300e-07,  2.11826637e-07, -8.09654109e-07,\n        5.10846209e-07, -8.04721487e-07,  1.97834776e-06,  1.99827838e-06,\n        2.79608204e-06,  1.99805815e-06,  3.75353928e-06,  1.99561565e-06,\n        1.72122768e-06,  2.00176869e-06,  1.56348623e-06,  1.99750534e-06,\n        3.12263694e-06,  1.99686680e-06,  4.37347816e-06,  1.99482189e-06,\n        4.36788326e-06,  1.99479955e-06,  3.40320836e-06,  1.99273812e-06,\n        1.61311647e-06,  1.99659223e-06,  1.74056183e-06,  1.99718468e-06,\n        1.98820697e-06,  3.31919928e-06,  1.99476667e-06,  2.34547527e-06,\n        1.99247713e-06,  1.99834960e-06,  2.24451095e-06,  1.99221976e-06,\n        4.60258942e-06,  1.99231500e-06,  3.47068701e-06,  1.99113722e-06,\n        5.65068717e-06,  4.47222466e-06,  7.61172956e-06,  4.46059913e-06,\n        1.00259784e-05,  4.44522053e-06,  4.07919228e-06,  4.46383112e-06,\n        3.04204236e-06,  4.46330145e-06,  6.99339054e-06,  4.45982500e-06,\n        1.01347906e-05,  4.43973473e-06,  8.79092317e-06,  4.43276139e-06,\n        7.57660155e-06,  4.43156360e-06,  4.39802461e-06,  4.42490198e-06,\n        3.95079645e-06,  4.45280667e-06,  4.45477606e-06,  7.82658430e-06,\n        4.45281830e-06,  5.93129459e-06,  4.44523257e-06,  4.44314562e-06,\n        5.53996475e-06,  4.44689878e-06,  1.05201902e-05,  4.43788960e-06,\n        8.17634147e-06,  4.43802021e-06, -3.94154297e-06, -4.63203428e-06,\n       -7.23401850e-06, -4.63310808e-06, -1.13061719e-05, -4.61576022e-06,\n       -4.79212644e-06, -4.62603542e-06, -4.73883569e-06, -4.63254491e-06,\n       -5.99955817e-06, -4.62789048e-06, -7.57627540e-06, -4.62729559e-06,\n       -8.94681085e-06, -4.63073655e-06, -7.46516279e-06, -4.62898104e-06,\n       -4.31568014e-06, -4.63279315e-06, -3.79656542e-06, -4.63100611e-06,\n       -4.60811289e-06, -6.76853494e-06, -4.62801128e-06, -5.60601571e-06,\n       -4.62696065e-06, -4.62324660e-06, -5.54102703e-06, -4.62559641e-06,\n       -8.32680480e-06, -4.63021715e-06, -6.55068666e-06, -4.62636742e-06,\n       -6.81664743e-01,  4.18246550e-01, -6.55497140e-01,  4.14244334e-01,\n       -1.16357426e+00,  4.12698481e-01, -5.36418629e-01,  4.18165572e-01,\n       -4.95630748e-01,  4.15615608e-01,  3.50687825e-02,  4.14648598e-01,\n       -1.39189888e-01,  4.08742061e-01, -3.54790391e-01,  4.07678995e-01,\n       -6.04257759e-01,  4.06955010e-01,  1.27382378e-01,  4.09871902e-01,\n        8.57618562e-02,  4.14406304e-01,  4.15928208e-01,  7.14748460e-02,\n        4.08407011e-01, -4.94662861e-02,  4.12874457e-01,  4.18853700e-01,\n       -2.61495669e-01,  4.09718792e-01,  2.38979570e-01,  4.10919560e-01,\n        1.33581655e-01,  4.06982030e-01,  3.47531799e-01, -2.89950859e-01,\n        3.45948750e-01, -3.03338644e-01,  1.59811125e+00, -3.16681319e-01,\n        1.79370175e-01, -3.09194764e-01, -1.23259757e-01, -2.98308644e-01,\n       -7.31551382e-01, -3.02171024e-01, -9.13173390e-01, -3.13868421e-01,\n       -6.75738263e-01, -3.15976925e-01, -2.52325828e-01, -3.14469346e-01,\n        1.56043503e-01, -3.15870387e-01, -5.55555527e-01, -3.04159941e-01,\n       -2.85269920e-01, -5.22730141e-01, -3.14113259e-01, -1.52570217e-02,\n       -3.00088256e-01, -3.11942709e-01, -1.34469646e-02, -3.08177245e-01,\n       -6.24857409e-01, -3.00703552e-01, -6.76191820e-01, -3.09734634e-01,\n        3.50491426e-13,  1.45834569e-13,  2.98024186e-13,  2.91903709e-13,\n        1.81337533e-13,  5.03768809e-11,  1.95312500e+00,  7.76587361e-13,\n        1.06576339e-13,  4.05778173e-14,  8.34883585e-14,  8.16282707e-14,\n        4.31131237e-11,  1.95312500e+00,  1.41359517e-12,  6.97915216e-13,\n        2.50501733e-13,  2.59230176e-13,  2.98698801e-13,  1.15372353e-10,\n        1.95312500e+00,  7.77276378e-13,  1.06073632e-13,  4.03149606e-14,\n        8.29691897e-14,  8.17238090e-14,  4.30914209e-11,  1.95312500e+00,\n        2.33964207e-12,  5.95484867e-13,  4.21489373e-13,  4.87920083e-13,\n        4.74328219e-13,  1.70155400e-10,  1.95312500e+00,  7.74965333e-13,\n        1.05058051e-13,  4.02388485e-14,  8.19237202e-14,  8.11731309e-14,\n        4.28937339e-11,  1.95312500e+00,  2.58863556e-13,  3.55514291e-13,\n        1.66027597e-13,  5.47806136e-13,  2.17584202e-13,  6.14603277e-11,\n        5.85937500e+00,  7.75988677e-13,  1.05696346e-13,  4.00139724e-14,\n        8.28766152e-14,  8.15292329e-14,  4.30032820e-11,  1.95312500e+00,\n        2.92152684e-13,  1.01701802e-13,  1.00667718e-13,  4.05606587e-13,\n        1.92111983e-13,  4.37102525e-11,  1.95312500e+00,  7.77032824e-13,\n        1.06231643e-13,  4.04015838e-14,  8.29724528e-14,  8.17410691e-14,\n        4.30930989e-11,  1.95312500e+00,  2.73323017e-12,  2.41801375e-13,\n        2.96990005e-13,  3.27047604e-13,  1.32990405e-13,  1.45588365e-10,\n        1.95312500e+00,  7.75647716e-13,  1.06092572e-13,  4.03294122e-14,\n        8.29429133e-14,  8.17486015e-14,  4.30295753e-11,  1.95312500e+00,\n        4.74529887e-12,  2.73125978e-13,  4.51116643e-13,  3.28053119e-13,\n        1.55893292e-13,  2.29604324e-10,  1.95312500e+00,  7.76208793e-13,\n        1.05551672e-13,  3.99919710e-14,  8.27815297e-14,  8.15192471e-14,\n        4.30003491e-11,  1.95312500e+00,  4.18735707e-12,  4.53252581e-13,\n        2.01865921e-13,  3.78048583e-13,  3.27349903e-13,  2.14955823e-10,\n        1.95312500e+00,  7.77124061e-13,  1.05549354e-13,  3.99044242e-14,\n        8.25659409e-14,  8.15144563e-14,  4.30228420e-11,  1.95312500e+00,\n        1.38275064e-12,  4.54067376e-13,  1.28500299e-13,  3.68975855e-13,\n        8.80209325e-13,  1.27570337e-10,  1.95312500e+00,  7.76106518e-13,\n        1.05371243e-13,  3.97603041e-14,  8.24323690e-14,  8.15516238e-14,\n        4.29683950e-11,  1.95312500e+00,  5.63574577e-13,  1.74692978e-13,\n        7.96488480e-14,  2.00029687e-13,  7.69025288e-14,  4.34589746e-11,\n        1.95312500e+00,  7.77151864e-13,  1.05434037e-13,  3.96905879e-14,\n        8.23601164e-14,  8.17759481e-14,  4.30148188e-11,  1.95312500e+00,\n        6.66027169e-13,  1.52968126e-13,  4.75290393e-14,  2.54648472e-13,\n        1.22066287e-13,  4.97224563e-11,  1.95312500e+00,  7.76917553e-13,\n        1.05864643e-13,  4.02027049e-14,  8.27916248e-14,  8.16906612e-14,\n        4.30560364e-11,  1.95312500e+00,  7.67207117e-13,  1.06853937e-13,\n        4.05085102e-14,  8.16153977e-14,  8.02080339e-14,  4.26210737e-11,\n        1.95312500e+00,  2.84254609e-12,  4.30319502e-13,  1.00840034e-13,\n        2.65589287e-13,  1.58808105e-13,  1.47982185e-10,  1.95312500e+00,\n        7.78214786e-13,  1.05277880e-13,  3.98211831e-14,  8.27034794e-14,\n        8.18340701e-14,  4.30697613e-11,  1.95312500e+00,  1.00061865e-12,\n        3.14184503e-13,  7.18111997e-14,  3.16686292e-13,  1.86994480e-13,\n        7.47005178e-11,  1.95312500e+00,  7.74996510e-13,  1.06079273e-13,\n        4.06200845e-14,  8.21785401e-14,  8.16217135e-14,  4.29798068e-11,\n        1.95312500e+00,  7.74700075e-13,  1.04990614e-13,  3.91105707e-14,\n        8.19124898e-14,  8.24215269e-14,  4.28854530e-11,  1.95312500e+00,\n        1.00654067e-12,  1.97770040e-13,  6.86501390e-14,  1.63367823e-13,\n        1.07894013e-13,  6.10235987e-11,  1.95312500e+00,  7.75497628e-13,\n        1.05402056e-13,  4.00986965e-14,  8.22816668e-14,  8.16558751e-14,\n        4.29570825e-11,  1.95312500e+00,  7.11242328e-12,  7.31164108e-13,\n        5.08380979e-13,  4.75528668e-13,  1.49892887e-13,  3.43537854e-10,\n        1.95312500e+00,  7.71150135e-13,  1.06030439e-13,  4.01569138e-14,\n        8.22426122e-14,  8.10479113e-14,  4.27874832e-11,  1.95312500e+00,\n        3.32227797e-12,  4.65992021e-13,  1.28681607e-13,  2.73042826e-13,\n        1.51173814e-13,  1.68652540e-10,  1.95312500e+00,  7.75592664e-13,\n        1.05147102e-13,  4.01450601e-14,  8.34426484e-14,  8.15684601e-14,\n        4.29943329e-11,  1.95312500e+00,  3.91385985e-12,  1.53910025e-13,\n        2.53107908e-14,  3.50000000e-02,  1.25027010e-04,  3.99311647e-12,\n        5.26811888e-14,  1.01288872e-14,  1.75000000e-02,  7.28734652e-05,\n        7.81807476e-12,  2.11238897e-13,  3.60272066e-14,  3.50000000e-02,\n        1.46337717e-04,  3.99223637e-12,  5.25638757e-14,  1.01200220e-14,\n        1.75000000e-02,  7.28475683e-05,  1.40890571e-11,  3.93577980e-13,\n        7.17862947e-14,  2.00000000e-02,  1.99134920e-04,  3.98248184e-12,\n        5.20679424e-14,  1.00271878e-14,  1.75000000e-02,  7.25248893e-05,\n        2.96262472e-12,  1.90151528e-13,  3.41840063e-14,  7.25000000e-02,\n        1.33412338e-04,  4.00707791e-12,  5.25080435e-14,  1.01095150e-14,\n        1.75000000e-02,  7.27378988e-05,  2.44448918e-12,  1.63937685e-13,\n        3.77537000e-14,  8.50000000e-02,  1.28006562e-04,  3.99002757e-12,\n        5.26211538e-14,  1.01331427e-14,  1.75000000e-02,  7.28656173e-05,\n        9.75086146e-12,  1.09939887e-13,  1.73419737e-14,  2.25000000e-02,\n        1.06686780e-04,  3.98747700e-12,  5.25998639e-14,  1.01289209e-14,\n        1.75000000e-02,  7.28684593e-05,  1.91273113e-11,  1.60189736e-13,\n        2.85085219e-14,  1.75000000e-02,  1.29096981e-04,  3.97931438e-12,\n        5.23554349e-14,  1.00929930e-14,  1.75000000e-02,  7.27130610e-05,\n        1.90784041e-11,  2.14445031e-13,  3.67022735e-14,  1.75000000e-02,\n        1.46947146e-04,  3.97922524e-12,  5.22708294e-14,  1.00685539e-14,\n        1.75000000e-02,  7.26779384e-05,  1.15818271e-11,  4.35745296e-13,\n        9.64417157e-14,  3.75000000e-02,  2.10024982e-04,  3.97100521e-12,\n        5.23512942e-14,  1.00879186e-14,  1.75000000e-02,  7.27081718e-05,\n        2.60214473e-12,  6.58375211e-14,  1.23378404e-14,  4.25000000e-02,\n        7.82138662e-05,  3.98638054e-12,  5.25379441e-14,  1.01261647e-14,\n        1.75000000e-02,  7.28228986e-05,  3.02955547e-12,  1.04332124e-13,\n        2.30773851e-14,  4.50000000e-02,  1.00266174e-04,  3.98874663e-12,\n        5.25439984e-14,  1.01230620e-14,  1.75000000e-02,  7.28436329e-05,\n        3.95296694e-12,  5.18684934e-14,  9.96498838e-15,  2.25000000e-02,\n        7.23172862e-05,  1.10170838e-11,  1.30927940e-13,  2.35521422e-14,\n        1.75000000e-02,  1.16274150e-04,  3.97909406e-12,  5.24027579e-14,\n        1.00934315e-14,  1.75000000e-02,  7.27437792e-05,  5.50125422e-12,\n        1.36296291e-13,  2.67000754e-14,  3.75000000e-02,  1.20208498e-04,\n        3.96996511e-12,  5.23273955e-14,  1.00792149e-14,  2.25000000e-02,\n        7.27596466e-05,  3.99340112e-12,  5.25917997e-14,  1.01402479e-14,\n        1.75000000e-02,  7.28670048e-05,  5.03782940e-12,  7.82662221e-14,\n        1.45483274e-14,  3.00000000e-02,  9.03227712e-05,  3.96893956e-12,\n        5.23157790e-14,  1.00708222e-14,  1.75000000e-02,  7.26736758e-05,\n        2.11838294e-11,  1.96888491e-13,  2.79147388e-14,  3.25000000e-02,\n        1.47261760e-04,  3.96931907e-12,  5.22107291e-14,  1.00420976e-14,\n        1.75000000e-02,  7.26231269e-05,  1.20456683e-11,  1.36550393e-13,\n        2.32327888e-14,  1.75000000e-02,  1.19210620e-04,  3.96462742e-12,\n        5.23973282e-14,  1.00915635e-14,  1.75000000e-02,  7.27563599e-05])"
     },
     "execution_count": 13,
     "metadata": {},
     "output_type": "execute_result"
    }
   ],
   "source": [
    "X[0]"
   ],
   "metadata": {
    "collapsed": false,
    "ExecuteTime": {
     "start_time": "2023-12-11T13:49:51.276415Z",
     "end_time": "2023-12-11T13:49:51.414962Z"
    }
   }
  },
  {
   "cell_type": "code",
   "execution_count": 14,
   "outputs": [],
   "source": [],
   "metadata": {
    "collapsed": false,
    "ExecuteTime": {
     "start_time": "2023-12-11T13:50:48.989924Z",
     "end_time": "2023-12-11T13:50:49.005206Z"
    }
   }
  },
  {
   "cell_type": "code",
   "execution_count": 15,
   "outputs": [
    {
     "data": {
      "text/plain": "array([[[ 1.49825479e-06, -8.09130058e-07,  1.60667683e-06,\n         -8.09050425e-07,  2.49860436e-06, -8.04779068e-07,\n          4.24182238e-07, -8.09326648e-07, -5.44481250e-08],\n        [-8.07417304e-07,  6.53281403e-07, -8.07446100e-07,\n          1.52634518e-06, -8.05504856e-07,  1.28239362e-06,\n         -8.06638344e-07,  1.22700198e-06, -8.05085875e-07],\n        [ 5.82518561e-07, -8.08358259e-07,  7.93489121e-08,\n         -8.08689608e-07, -8.06897382e-07,  7.17620936e-07,\n         -8.04523232e-07,  8.22317115e-07, -8.05302258e-07],\n        [-8.09876285e-07,  9.38104941e-07, -8.02474300e-07,\n          2.11826637e-07, -8.09654109e-07,  5.10846209e-07,\n         -8.04721487e-07,  1.97834776e-06,  1.99827838e-06],\n        [ 2.79608204e-06,  1.99805815e-06,  3.75353928e-06,\n          1.99561565e-06,  1.72122768e-06,  2.00176869e-06,\n          1.56348623e-06,  1.99750534e-06,  3.12263694e-06],\n        [ 1.99686680e-06,  4.37347816e-06,  1.99482189e-06,\n          4.36788326e-06,  1.99479955e-06,  3.40320836e-06,\n          1.99273812e-06,  1.61311647e-06,  1.99659223e-06],\n        [ 1.74056183e-06,  1.99718468e-06,  1.98820697e-06,\n          3.31919928e-06,  1.99476667e-06,  2.34547527e-06,\n          1.99247713e-06,  1.99834960e-06,  2.24451095e-06],\n        [ 1.99221976e-06,  4.60258942e-06,  1.99231500e-06,\n          3.47068701e-06,  1.99113722e-06,  5.65068717e-06,\n          4.47222466e-06,  7.61172956e-06,  4.46059913e-06],\n        [ 1.00259784e-05,  4.44522053e-06,  4.07919228e-06,\n          4.46383112e-06,  3.04204236e-06,  4.46330145e-06,\n          6.99339054e-06,  4.45982500e-06,  1.01347906e-05],\n        [ 4.43973473e-06,  8.79092317e-06,  4.43276139e-06,\n          7.57660155e-06,  4.43156360e-06,  4.39802461e-06,\n          4.42490198e-06,  3.95079645e-06,  4.45280667e-06],\n        [ 4.45477606e-06,  7.82658430e-06,  4.45281830e-06,\n          5.93129459e-06,  4.44523257e-06,  4.44314562e-06,\n          5.53996475e-06,  4.44689878e-06,  1.05201902e-05],\n        [ 4.43788960e-06,  8.17634147e-06,  4.43802021e-06,\n         -3.94154297e-06, -4.63203428e-06, -7.23401850e-06,\n         -4.63310808e-06, -1.13061719e-05, -4.61576022e-06],\n        [-4.79212644e-06, -4.62603542e-06, -4.73883569e-06,\n         -4.63254491e-06, -5.99955817e-06, -4.62789048e-06,\n         -7.57627540e-06, -4.62729559e-06, -8.94681085e-06],\n        [-4.63073655e-06, -7.46516279e-06, -4.62898104e-06,\n         -4.31568014e-06, -4.63279315e-06, -3.79656542e-06,\n         -4.63100611e-06, -4.60811289e-06, -6.76853494e-06],\n        [-4.62801128e-06, -5.60601571e-06, -4.62696065e-06,\n         -4.62324660e-06, -5.54102703e-06, -4.62559641e-06,\n         -8.32680480e-06, -4.63021715e-06, -6.55068666e-06],\n        [-4.62636742e-06, -6.81664743e-01,  4.18246550e-01,\n         -6.55497140e-01,  4.14244334e-01, -1.16357426e+00,\n          4.12698481e-01, -5.36418629e-01,  4.18165572e-01],\n        [-4.95630748e-01,  4.15615608e-01,  3.50687825e-02,\n          4.14648598e-01, -1.39189888e-01,  4.08742061e-01,\n         -3.54790391e-01,  4.07678995e-01, -6.04257759e-01],\n        [ 4.06955010e-01,  1.27382378e-01,  4.09871902e-01,\n          8.57618562e-02,  4.14406304e-01,  4.15928208e-01,\n          7.14748460e-02,  4.08407011e-01, -4.94662861e-02],\n        [ 4.12874457e-01,  4.18853700e-01, -2.61495669e-01,\n          4.09718792e-01,  2.38979570e-01,  4.10919560e-01,\n          1.33581655e-01,  4.06982030e-01,  3.47531799e-01],\n        [-2.89950859e-01,  3.45948750e-01, -3.03338644e-01,\n          1.59811125e+00, -3.16681319e-01,  1.79370175e-01,\n         -3.09194764e-01, -1.23259757e-01, -2.98308644e-01],\n        [-7.31551382e-01, -3.02171024e-01, -9.13173390e-01,\n         -3.13868421e-01, -6.75738263e-01, -3.15976925e-01,\n         -2.52325828e-01, -3.14469346e-01,  1.56043503e-01],\n        [-3.15870387e-01, -5.55555527e-01, -3.04159941e-01,\n         -2.85269920e-01, -5.22730141e-01, -3.14113259e-01,\n         -1.52570217e-02, -3.00088256e-01, -3.11942709e-01],\n        [-1.34469646e-02, -3.08177245e-01, -6.24857409e-01,\n         -3.00703552e-01, -6.76191820e-01, -3.09734634e-01,\n          3.50491426e-13,  1.45834569e-13,  2.98024186e-13],\n        [ 2.91903709e-13,  1.81337533e-13,  5.03768809e-11,\n          1.95312500e+00,  7.76587361e-13,  1.06576339e-13,\n          4.05778173e-14,  8.34883585e-14,  8.16282707e-14],\n        [ 4.31131237e-11,  1.95312500e+00,  1.41359517e-12,\n          6.97915216e-13,  2.50501733e-13,  2.59230176e-13,\n          2.98698801e-13,  1.15372353e-10,  1.95312500e+00],\n        [ 7.77276378e-13,  1.06073632e-13,  4.03149606e-14,\n          8.29691897e-14,  8.17238090e-14,  4.30914209e-11,\n          1.95312500e+00,  2.33964207e-12,  5.95484867e-13],\n        [ 4.21489373e-13,  4.87920083e-13,  4.74328219e-13,\n          1.70155400e-10,  1.95312500e+00,  7.74965333e-13,\n          1.05058051e-13,  4.02388485e-14,  8.19237202e-14],\n        [ 8.11731309e-14,  4.28937339e-11,  1.95312500e+00,\n          2.58863556e-13,  3.55514291e-13,  1.66027597e-13,\n          5.47806136e-13,  2.17584202e-13,  6.14603277e-11],\n        [ 5.85937500e+00,  7.75988677e-13,  1.05696346e-13,\n          4.00139724e-14,  8.28766152e-14,  8.15292329e-14,\n          4.30032820e-11,  1.95312500e+00,  2.92152684e-13],\n        [ 1.01701802e-13,  1.00667718e-13,  4.05606587e-13,\n          1.92111983e-13,  4.37102525e-11,  1.95312500e+00,\n          7.77032824e-13,  1.06231643e-13,  4.04015838e-14],\n        [ 8.29724528e-14,  8.17410691e-14,  4.30930989e-11,\n          1.95312500e+00,  2.73323017e-12,  2.41801375e-13,\n          2.96990005e-13,  3.27047604e-13,  1.32990405e-13],\n        [ 1.45588365e-10,  1.95312500e+00,  7.75647716e-13,\n          1.06092572e-13,  4.03294122e-14,  8.29429133e-14,\n          8.17486015e-14,  4.30295753e-11,  1.95312500e+00],\n        [ 4.74529887e-12,  2.73125978e-13,  4.51116643e-13,\n          3.28053119e-13,  1.55893292e-13,  2.29604324e-10,\n          1.95312500e+00,  7.76208793e-13,  1.05551672e-13],\n        [ 3.99919710e-14,  8.27815297e-14,  8.15192471e-14,\n          4.30003491e-11,  1.95312500e+00,  4.18735707e-12,\n          4.53252581e-13,  2.01865921e-13,  3.78048583e-13],\n        [ 3.27349903e-13,  2.14955823e-10,  1.95312500e+00,\n          7.77124061e-13,  1.05549354e-13,  3.99044242e-14,\n          8.25659409e-14,  8.15144563e-14,  4.30228420e-11],\n        [ 1.95312500e+00,  1.38275064e-12,  4.54067376e-13,\n          1.28500299e-13,  3.68975855e-13,  8.80209325e-13,\n          1.27570337e-10,  1.95312500e+00,  7.76106518e-13],\n        [ 1.05371243e-13,  3.97603041e-14,  8.24323690e-14,\n          8.15516238e-14,  4.29683950e-11,  1.95312500e+00,\n          5.63574577e-13,  1.74692978e-13,  7.96488480e-14],\n        [ 2.00029687e-13,  7.69025288e-14,  4.34589746e-11,\n          1.95312500e+00,  7.77151864e-13,  1.05434037e-13,\n          3.96905879e-14,  8.23601164e-14,  8.17759481e-14],\n        [ 4.30148188e-11,  1.95312500e+00,  6.66027169e-13,\n          1.52968126e-13,  4.75290393e-14,  2.54648472e-13,\n          1.22066287e-13,  4.97224563e-11,  1.95312500e+00],\n        [ 7.76917553e-13,  1.05864643e-13,  4.02027049e-14,\n          8.27916248e-14,  8.16906612e-14,  4.30560364e-11,\n          1.95312500e+00,  7.67207117e-13,  1.06853937e-13],\n        [ 4.05085102e-14,  8.16153977e-14,  8.02080339e-14,\n          4.26210737e-11,  1.95312500e+00,  2.84254609e-12,\n          4.30319502e-13,  1.00840034e-13,  2.65589287e-13],\n        [ 1.58808105e-13,  1.47982185e-10,  1.95312500e+00,\n          7.78214786e-13,  1.05277880e-13,  3.98211831e-14,\n          8.27034794e-14,  8.18340701e-14,  4.30697613e-11],\n        [ 1.95312500e+00,  1.00061865e-12,  3.14184503e-13,\n          7.18111997e-14,  3.16686292e-13,  1.86994480e-13,\n          7.47005178e-11,  1.95312500e+00,  7.74996510e-13],\n        [ 1.06079273e-13,  4.06200845e-14,  8.21785401e-14,\n          8.16217135e-14,  4.29798068e-11,  1.95312500e+00,\n          7.74700075e-13,  1.04990614e-13,  3.91105707e-14],\n        [ 8.19124898e-14,  8.24215269e-14,  4.28854530e-11,\n          1.95312500e+00,  1.00654067e-12,  1.97770040e-13,\n          6.86501390e-14,  1.63367823e-13,  1.07894013e-13],\n        [ 6.10235987e-11,  1.95312500e+00,  7.75497628e-13,\n          1.05402056e-13,  4.00986965e-14,  8.22816668e-14,\n          8.16558751e-14,  4.29570825e-11,  1.95312500e+00],\n        [ 7.11242328e-12,  7.31164108e-13,  5.08380979e-13,\n          4.75528668e-13,  1.49892887e-13,  3.43537854e-10,\n          1.95312500e+00,  7.71150135e-13,  1.06030439e-13],\n        [ 4.01569138e-14,  8.22426122e-14,  8.10479113e-14,\n          4.27874832e-11,  1.95312500e+00,  3.32227797e-12,\n          4.65992021e-13,  1.28681607e-13,  2.73042826e-13],\n        [ 1.51173814e-13,  1.68652540e-10,  1.95312500e+00,\n          7.75592664e-13,  1.05147102e-13,  4.01450601e-14,\n          8.34426484e-14,  8.15684601e-14,  4.29943329e-11],\n        [ 1.95312500e+00,  3.91385985e-12,  1.53910025e-13,\n          2.53107908e-14,  3.50000000e-02,  1.25027010e-04,\n          3.99311647e-12,  5.26811888e-14,  1.01288872e-14],\n        [ 1.75000000e-02,  7.28734652e-05,  7.81807476e-12,\n          2.11238897e-13,  3.60272066e-14,  3.50000000e-02,\n          1.46337717e-04,  3.99223637e-12,  5.25638757e-14],\n        [ 1.01200220e-14,  1.75000000e-02,  7.28475683e-05,\n          1.40890571e-11,  3.93577980e-13,  7.17862947e-14,\n          2.00000000e-02,  1.99134920e-04,  3.98248184e-12],\n        [ 5.20679424e-14,  1.00271878e-14,  1.75000000e-02,\n          7.25248893e-05,  2.96262472e-12,  1.90151528e-13,\n          3.41840063e-14,  7.25000000e-02,  1.33412338e-04],\n        [ 4.00707791e-12,  5.25080435e-14,  1.01095150e-14,\n          1.75000000e-02,  7.27378988e-05,  2.44448918e-12,\n          1.63937685e-13,  3.77537000e-14,  8.50000000e-02],\n        [ 1.28006562e-04,  3.99002757e-12,  5.26211538e-14,\n          1.01331427e-14,  1.75000000e-02,  7.28656173e-05,\n          9.75086146e-12,  1.09939887e-13,  1.73419737e-14],\n        [ 2.25000000e-02,  1.06686780e-04,  3.98747700e-12,\n          5.25998639e-14,  1.01289209e-14,  1.75000000e-02,\n          7.28684593e-05,  1.91273113e-11,  1.60189736e-13],\n        [ 2.85085219e-14,  1.75000000e-02,  1.29096981e-04,\n          3.97931438e-12,  5.23554349e-14,  1.00929930e-14,\n          1.75000000e-02,  7.27130610e-05,  1.90784041e-11],\n        [ 2.14445031e-13,  3.67022735e-14,  1.75000000e-02,\n          1.46947146e-04,  3.97922524e-12,  5.22708294e-14,\n          1.00685539e-14,  1.75000000e-02,  7.26779384e-05],\n        [ 1.15818271e-11,  4.35745296e-13,  9.64417157e-14,\n          3.75000000e-02,  2.10024982e-04,  3.97100521e-12,\n          5.23512942e-14,  1.00879186e-14,  1.75000000e-02],\n        [ 7.27081718e-05,  2.60214473e-12,  6.58375211e-14,\n          1.23378404e-14,  4.25000000e-02,  7.82138662e-05,\n          3.98638054e-12,  5.25379441e-14,  1.01261647e-14],\n        [ 1.75000000e-02,  7.28228986e-05,  3.02955547e-12,\n          1.04332124e-13,  2.30773851e-14,  4.50000000e-02,\n          1.00266174e-04,  3.98874663e-12,  5.25439984e-14],\n        [ 1.01230620e-14,  1.75000000e-02,  7.28436329e-05,\n          3.95296694e-12,  5.18684934e-14,  9.96498838e-15,\n          2.25000000e-02,  7.23172862e-05,  1.10170838e-11],\n        [ 1.30927940e-13,  2.35521422e-14,  1.75000000e-02,\n          1.16274150e-04,  3.97909406e-12,  5.24027579e-14,\n          1.00934315e-14,  1.75000000e-02,  7.27437792e-05],\n        [ 5.50125422e-12,  1.36296291e-13,  2.67000754e-14,\n          3.75000000e-02,  1.20208498e-04,  3.96996511e-12,\n          5.23273955e-14,  1.00792149e-14,  2.25000000e-02],\n        [ 7.27596466e-05,  3.99340112e-12,  5.25917997e-14,\n          1.01402479e-14,  1.75000000e-02,  7.28670048e-05,\n          5.03782940e-12,  7.82662221e-14,  1.45483274e-14],\n        [ 3.00000000e-02,  9.03227712e-05,  3.96893956e-12,\n          5.23157790e-14,  1.00708222e-14,  1.75000000e-02,\n          7.26736758e-05,  2.11838294e-11,  1.96888491e-13],\n        [ 2.79147388e-14,  3.25000000e-02,  1.47261760e-04,\n          3.96931907e-12,  5.22107291e-14,  1.00420976e-14,\n          1.75000000e-02,  7.26231269e-05,  1.20456683e-11],\n        [ 1.36550393e-13,  2.32327888e-14,  1.75000000e-02,\n          1.19210620e-04,  3.96462742e-12,  5.23973282e-14,\n          1.00915635e-14,  1.75000000e-02,  7.27563599e-05]]])"
     },
     "execution_count": 15,
     "metadata": {},
     "output_type": "execute_result"
    }
   ],
   "source": [],
   "metadata": {
    "collapsed": false,
    "ExecuteTime": {
     "start_time": "2023-12-11T13:50:52.046246Z",
     "end_time": "2023-12-11T13:50:52.064709Z"
    }
   }
  },
  {
   "cell_type": "code",
   "execution_count": 77,
   "outputs": [],
   "source": [
    "from sklearn.model_selection import train_test_split\n",
    "from sklearn.ensemble import RandomForestClassifier\n",
    "\n",
    "X_train, X_test, y_train, y_test = train_test_split(X, Y, test_size=0.2, random_state=1)"
   ],
   "metadata": {
    "collapsed": false,
    "ExecuteTime": {
     "start_time": "2023-12-08T13:35:17.930350Z",
     "end_time": "2023-12-08T13:35:17.960060Z"
    }
   }
  },
  {
   "cell_type": "code",
   "execution_count": 78,
   "outputs": [
    {
     "data": {
      "text/plain": "RandomForestClassifier(max_depth=20, random_state=0)",
      "text/html": "<style>#sk-container-id-16 {color: black;background-color: white;}#sk-container-id-16 pre{padding: 0;}#sk-container-id-16 div.sk-toggleable {background-color: white;}#sk-container-id-16 label.sk-toggleable__label {cursor: pointer;display: block;width: 100%;margin-bottom: 0;padding: 0.3em;box-sizing: border-box;text-align: center;}#sk-container-id-16 label.sk-toggleable__label-arrow:before {content: \"▸\";float: left;margin-right: 0.25em;color: #696969;}#sk-container-id-16 label.sk-toggleable__label-arrow:hover:before {color: black;}#sk-container-id-16 div.sk-estimator:hover label.sk-toggleable__label-arrow:before {color: black;}#sk-container-id-16 div.sk-toggleable__content {max-height: 0;max-width: 0;overflow: hidden;text-align: left;background-color: #f0f8ff;}#sk-container-id-16 div.sk-toggleable__content pre {margin: 0.2em;color: black;border-radius: 0.25em;background-color: #f0f8ff;}#sk-container-id-16 input.sk-toggleable__control:checked~div.sk-toggleable__content {max-height: 200px;max-width: 100%;overflow: auto;}#sk-container-id-16 input.sk-toggleable__control:checked~label.sk-toggleable__label-arrow:before {content: \"▾\";}#sk-container-id-16 div.sk-estimator input.sk-toggleable__control:checked~label.sk-toggleable__label {background-color: #d4ebff;}#sk-container-id-16 div.sk-label input.sk-toggleable__control:checked~label.sk-toggleable__label {background-color: #d4ebff;}#sk-container-id-16 input.sk-hidden--visually {border: 0;clip: rect(1px 1px 1px 1px);clip: rect(1px, 1px, 1px, 1px);height: 1px;margin: -1px;overflow: hidden;padding: 0;position: absolute;width: 1px;}#sk-container-id-16 div.sk-estimator {font-family: monospace;background-color: #f0f8ff;border: 1px dotted black;border-radius: 0.25em;box-sizing: border-box;margin-bottom: 0.5em;}#sk-container-id-16 div.sk-estimator:hover {background-color: #d4ebff;}#sk-container-id-16 div.sk-parallel-item::after {content: \"\";width: 100%;border-bottom: 1px solid gray;flex-grow: 1;}#sk-container-id-16 div.sk-label:hover label.sk-toggleable__label {background-color: #d4ebff;}#sk-container-id-16 div.sk-serial::before {content: \"\";position: absolute;border-left: 1px solid gray;box-sizing: border-box;top: 0;bottom: 0;left: 50%;z-index: 0;}#sk-container-id-16 div.sk-serial {display: flex;flex-direction: column;align-items: center;background-color: white;padding-right: 0.2em;padding-left: 0.2em;position: relative;}#sk-container-id-16 div.sk-item {position: relative;z-index: 1;}#sk-container-id-16 div.sk-parallel {display: flex;align-items: stretch;justify-content: center;background-color: white;position: relative;}#sk-container-id-16 div.sk-item::before, #sk-container-id-16 div.sk-parallel-item::before {content: \"\";position: absolute;border-left: 1px solid gray;box-sizing: border-box;top: 0;bottom: 0;left: 50%;z-index: -1;}#sk-container-id-16 div.sk-parallel-item {display: flex;flex-direction: column;z-index: 1;position: relative;background-color: white;}#sk-container-id-16 div.sk-parallel-item:first-child::after {align-self: flex-end;width: 50%;}#sk-container-id-16 div.sk-parallel-item:last-child::after {align-self: flex-start;width: 50%;}#sk-container-id-16 div.sk-parallel-item:only-child::after {width: 0;}#sk-container-id-16 div.sk-dashed-wrapped {border: 1px dashed gray;margin: 0 0.4em 0.5em 0.4em;box-sizing: border-box;padding-bottom: 0.4em;background-color: white;}#sk-container-id-16 div.sk-label label {font-family: monospace;font-weight: bold;display: inline-block;line-height: 1.2em;}#sk-container-id-16 div.sk-label-container {text-align: center;}#sk-container-id-16 div.sk-container {/* jupyter's `normalize.less` sets `[hidden] { display: none; }` but bootstrap.min.css set `[hidden] { display: none !important; }` so we also need the `!important` here to be able to override the default hidden behavior on the sphinx rendered scikit-learn.org. See: https://github.com/scikit-learn/scikit-learn/issues/21755 */display: inline-block !important;position: relative;}#sk-container-id-16 div.sk-text-repr-fallback {display: none;}</style><div id=\"sk-container-id-16\" class=\"sk-top-container\"><div class=\"sk-text-repr-fallback\"><pre>RandomForestClassifier(max_depth=20, random_state=0)</pre><b>In a Jupyter environment, please rerun this cell to show the HTML representation or trust the notebook. <br />On GitHub, the HTML representation is unable to render, please try loading this page with nbviewer.org.</b></div><div class=\"sk-container\" hidden><div class=\"sk-item\"><div class=\"sk-estimator sk-toggleable\"><input class=\"sk-toggleable__control sk-hidden--visually\" id=\"sk-estimator-id-16\" type=\"checkbox\" checked><label for=\"sk-estimator-id-16\" class=\"sk-toggleable__label sk-toggleable__label-arrow\">RandomForestClassifier</label><div class=\"sk-toggleable__content\"><pre>RandomForestClassifier(max_depth=20, random_state=0)</pre></div></div></div></div></div>"
     },
     "execution_count": 78,
     "metadata": {},
     "output_type": "execute_result"
    }
   ],
   "source": [
    "clf = RandomForestClassifier(max_depth=20, random_state=0)\n",
    "clf.fit(X_train, y_train)"
   ],
   "metadata": {
    "collapsed": false,
    "ExecuteTime": {
     "start_time": "2023-12-08T13:35:18.166197Z",
     "end_time": "2023-12-08T13:35:24.731776Z"
    }
   }
  },
  {
   "cell_type": "code",
   "execution_count": 79,
   "outputs": [
    {
     "name": "stdout",
     "output_type": "stream",
     "text": [
      "0.6470810758724445 0.6557077625570776 0.5721182352022074 0.6557077625570776\n"
     ]
    },
    {
     "data": {
      "text/plain": "0.6557077625570776"
     },
     "execution_count": 79,
     "metadata": {},
     "output_type": "execute_result"
    }
   ],
   "source": [
    "get_metrics(clf, X_test, y_test)"
   ],
   "metadata": {
    "collapsed": false,
    "ExecuteTime": {
     "start_time": "2023-12-08T13:35:24.737216Z",
     "end_time": "2023-12-08T13:35:24.797643Z"
    }
   }
  },
  {
   "cell_type": "code",
   "execution_count": 77,
   "outputs": [],
   "source": [],
   "metadata": {
    "collapsed": false,
    "ExecuteTime": {
     "start_time": "2023-12-08T12:05:36.169361Z",
     "end_time": "2023-12-08T12:05:36.207622Z"
    }
   }
  },
  {
   "cell_type": "code",
   "execution_count": 78,
   "outputs": [
    {
     "data": {
      "text/plain": "216"
     },
     "execution_count": 78,
     "metadata": {},
     "output_type": "execute_result"
    }
   ],
   "source": [],
   "metadata": {
    "collapsed": false,
    "ExecuteTime": {
     "start_time": "2023-12-08T12:05:50.873098Z",
     "end_time": "2023-12-08T12:05:50.951435Z"
    }
   }
  },
  {
   "cell_type": "code",
   "execution_count": null,
   "outputs": [],
   "source": [],
   "metadata": {
    "collapsed": false
   }
  }
 ],
 "metadata": {
  "kernelspec": {
   "display_name": "Python 3",
   "language": "python",
   "name": "python3"
  },
  "language_info": {
   "codemirror_mode": {
    "name": "ipython",
    "version": 2
   },
   "file_extension": ".py",
   "mimetype": "text/x-python",
   "name": "python",
   "nbconvert_exporter": "python",
   "pygments_lexer": "ipython2",
   "version": "2.7.6"
  }
 },
 "nbformat": 4,
 "nbformat_minor": 0
}
