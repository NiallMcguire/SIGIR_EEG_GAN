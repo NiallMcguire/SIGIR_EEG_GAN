{
 "cells": [
  {
   "cell_type": "code",
   "execution_count": 9,
   "metadata": {
    "collapsed": true,
    "ExecuteTime": {
     "start_time": "2023-11-27T15:48:38.305452Z",
     "end_time": "2023-11-27T15:48:38.316959Z"
    }
   },
   "outputs": [],
   "source": [
    "import pickle\n",
    "import pandas as pd\n",
    "import DataSetupEEG\n",
    "DSE = DataSetupEEG.DataSetup()"
   ]
  },
  {
   "cell_type": "code",
   "execution_count": 10,
   "outputs": [],
   "source": [
    "with open('10-Participant_df_dict.pkl', 'rb') as file:\n",
    "    loaded_dictionary = pickle.load(file)"
   ],
   "metadata": {
    "collapsed": false,
    "ExecuteTime": {
     "start_time": "2023-11-27T15:48:38.487775Z",
     "end_time": "2023-11-27T15:48:38.559675Z"
    }
   }
  },
  {
   "cell_type": "code",
   "execution_count": 11,
   "outputs": [
    {
     "data": {
      "text/plain": "     TimeStamp        1Mean0        2Mean0        3Mean0        4Mean0  \\\n0      115.666 -1.087528e-17 -3.113330e-16 -2.924480e-15 -1.677853e-14   \n1      117.266 -6.583364e-18  2.320108e-16  2.986084e-15  1.833788e-14   \n2      118.866 -2.873402e-18  2.135687e-16  2.566851e-15  1.732367e-14   \n3      120.466 -1.927725e-18 -4.344854e-19  1.797459e-16  4.812823e-15   \n4      122.066 -1.782237e-18 -7.163765e-19 -8.078516e-17  2.815752e-15   \n..         ...           ...           ...           ...           ...   \n160   6940.274 -1.123900e-17 -7.922902e-16 -8.456241e-15 -5.304697e-14   \n161   6941.874 -4.801128e-18 -8.462856e-17 -9.355394e-16 -7.121595e-15   \n162   6943.474 -5.237594e-18  3.571514e-16  4.499010e-15  2.972707e-14   \n163   6956.270 -7.056203e-18  4.655008e-19  8.545418e-16  1.153219e-14   \n164   6960.014 -4.546522e-18  1.013024e-15  1.254672e-14  7.477137e-14   \n\n           5Mean0        6Mean0        7Mean0        8Mean0        9Mean0  \\\n0   -7.151682e-14 -2.458818e-13 -7.112214e-13 -1.782861e-12 -3.972729e-12   \n1    7.852315e-14  2.678977e-13  7.752553e-13  1.968467e-12  4.479880e-12   \n2    8.741035e-14  3.498259e-13  1.141129e-12  3.127970e-12  7.433074e-12   \n3    4.570844e-14  2.492929e-13  9.505537e-13  2.820215e-12  6.962417e-12   \n4    4.011792e-14  2.507942e-13  1.023585e-12  3.165054e-12  8.041730e-12   \n..            ...           ...           ...           ...           ...   \n160 -2.474720e-13 -9.223929e-13 -2.839853e-12 -7.432384e-12 -1.700023e-11   \n161 -3.822630e-14 -1.518597e-13 -4.710922e-13 -1.195801e-12 -2.575715e-12   \n162  1.410947e-13  5.280207e-13  1.625975e-12  4.256036e-12  9.749184e-12   \n163  8.254790e-14  3.902433e-13  1.366112e-12  3.819966e-12  8.997635e-12   \n164  2.937967e-13  8.697706e-13  2.094143e-12  4.306096e-12  7.805999e-12   \n\n     ...  33Average_nonlinear_enegy3  34Average_nonlinear_enegy3  \\\n0    ...                       142.0                       163.0   \n1    ...                       187.0                       195.0   \n2    ...                       197.0                       197.0   \n3    ...                       193.0                       195.0   \n4    ...                       133.0                       158.0   \n..   ...                         ...                         ...   \n160  ...                       196.0                       196.0   \n161  ...                       172.0                       189.0   \n162  ...                       192.0                       196.0   \n163  ...                       171.0                       182.0   \n164  ...                       171.0                       177.0   \n\n     35Average_nonlinear_enegy3  36Average_nonlinear_enegy3  \\\n0                         168.0                       169.0   \n1                         195.0                       195.0   \n2                         197.0                       197.0   \n3                         196.0                       196.0   \n4                         166.0                       168.0   \n..                          ...                         ...   \n160                       196.0                       196.0   \n161                       191.0                       192.0   \n162                       196.0                       196.0   \n163                       183.0                       188.0   \n164                       181.0                       185.0   \n\n     37Average_nonlinear_enegy3  38Average_nonlinear_enegy3  \\\n0                         163.0                       165.0   \n1                         195.0                       194.0   \n2                         197.0                       197.0   \n3                         195.0                       193.0   \n4                         174.0                       168.0   \n..                          ...                         ...   \n160                       196.0                       196.0   \n161                       193.0                       194.0   \n162                       196.0                       196.0   \n163                       189.0                       183.0   \n164                       186.0                       184.0   \n\n     39Average_nonlinear_enegy3  40Average_nonlinear_enegy3  \\\n0                         148.0                       127.0   \n1                         185.0                       168.0   \n2                         197.0                       196.0   \n3                         191.0                       188.0   \n4                         135.0                       116.0   \n..                          ...                         ...   \n160                       196.0                       194.0   \n161                       189.0                       126.0   \n162                       196.0                       183.0   \n163                       168.0                       158.0   \n164                       154.0                       148.0   \n\n     41Average_nonlinear_enegy3  Event_ID  \n0                         157.0        22  \n1                         192.0        23  \n2                         196.0        24  \n3                         192.0        25  \n4                         143.0        26  \n..                          ...       ...  \n160                       197.0        30  \n161                       191.0        31  \n162                       197.0        32  \n163                       179.0        36  \n164                       176.0        37  \n\n[165 rows x 1150 columns]",
      "text/html": "<div>\n<style scoped>\n    .dataframe tbody tr th:only-of-type {\n        vertical-align: middle;\n    }\n\n    .dataframe tbody tr th {\n        vertical-align: top;\n    }\n\n    .dataframe thead th {\n        text-align: right;\n    }\n</style>\n<table border=\"1\" class=\"dataframe\">\n  <thead>\n    <tr style=\"text-align: right;\">\n      <th></th>\n      <th>TimeStamp</th>\n      <th>1Mean0</th>\n      <th>2Mean0</th>\n      <th>3Mean0</th>\n      <th>4Mean0</th>\n      <th>5Mean0</th>\n      <th>6Mean0</th>\n      <th>7Mean0</th>\n      <th>8Mean0</th>\n      <th>9Mean0</th>\n      <th>...</th>\n      <th>33Average_nonlinear_enegy3</th>\n      <th>34Average_nonlinear_enegy3</th>\n      <th>35Average_nonlinear_enegy3</th>\n      <th>36Average_nonlinear_enegy3</th>\n      <th>37Average_nonlinear_enegy3</th>\n      <th>38Average_nonlinear_enegy3</th>\n      <th>39Average_nonlinear_enegy3</th>\n      <th>40Average_nonlinear_enegy3</th>\n      <th>41Average_nonlinear_enegy3</th>\n      <th>Event_ID</th>\n    </tr>\n  </thead>\n  <tbody>\n    <tr>\n      <th>0</th>\n      <td>115.666</td>\n      <td>-1.087528e-17</td>\n      <td>-3.113330e-16</td>\n      <td>-2.924480e-15</td>\n      <td>-1.677853e-14</td>\n      <td>-7.151682e-14</td>\n      <td>-2.458818e-13</td>\n      <td>-7.112214e-13</td>\n      <td>-1.782861e-12</td>\n      <td>-3.972729e-12</td>\n      <td>...</td>\n      <td>142.0</td>\n      <td>163.0</td>\n      <td>168.0</td>\n      <td>169.0</td>\n      <td>163.0</td>\n      <td>165.0</td>\n      <td>148.0</td>\n      <td>127.0</td>\n      <td>157.0</td>\n      <td>22</td>\n    </tr>\n    <tr>\n      <th>1</th>\n      <td>117.266</td>\n      <td>-6.583364e-18</td>\n      <td>2.320108e-16</td>\n      <td>2.986084e-15</td>\n      <td>1.833788e-14</td>\n      <td>7.852315e-14</td>\n      <td>2.678977e-13</td>\n      <td>7.752553e-13</td>\n      <td>1.968467e-12</td>\n      <td>4.479880e-12</td>\n      <td>...</td>\n      <td>187.0</td>\n      <td>195.0</td>\n      <td>195.0</td>\n      <td>195.0</td>\n      <td>195.0</td>\n      <td>194.0</td>\n      <td>185.0</td>\n      <td>168.0</td>\n      <td>192.0</td>\n      <td>23</td>\n    </tr>\n    <tr>\n      <th>2</th>\n      <td>118.866</td>\n      <td>-2.873402e-18</td>\n      <td>2.135687e-16</td>\n      <td>2.566851e-15</td>\n      <td>1.732367e-14</td>\n      <td>8.741035e-14</td>\n      <td>3.498259e-13</td>\n      <td>1.141129e-12</td>\n      <td>3.127970e-12</td>\n      <td>7.433074e-12</td>\n      <td>...</td>\n      <td>197.0</td>\n      <td>197.0</td>\n      <td>197.0</td>\n      <td>197.0</td>\n      <td>197.0</td>\n      <td>197.0</td>\n      <td>197.0</td>\n      <td>196.0</td>\n      <td>196.0</td>\n      <td>24</td>\n    </tr>\n    <tr>\n      <th>3</th>\n      <td>120.466</td>\n      <td>-1.927725e-18</td>\n      <td>-4.344854e-19</td>\n      <td>1.797459e-16</td>\n      <td>4.812823e-15</td>\n      <td>4.570844e-14</td>\n      <td>2.492929e-13</td>\n      <td>9.505537e-13</td>\n      <td>2.820215e-12</td>\n      <td>6.962417e-12</td>\n      <td>...</td>\n      <td>193.0</td>\n      <td>195.0</td>\n      <td>196.0</td>\n      <td>196.0</td>\n      <td>195.0</td>\n      <td>193.0</td>\n      <td>191.0</td>\n      <td>188.0</td>\n      <td>192.0</td>\n      <td>25</td>\n    </tr>\n    <tr>\n      <th>4</th>\n      <td>122.066</td>\n      <td>-1.782237e-18</td>\n      <td>-7.163765e-19</td>\n      <td>-8.078516e-17</td>\n      <td>2.815752e-15</td>\n      <td>4.011792e-14</td>\n      <td>2.507942e-13</td>\n      <td>1.023585e-12</td>\n      <td>3.165054e-12</td>\n      <td>8.041730e-12</td>\n      <td>...</td>\n      <td>133.0</td>\n      <td>158.0</td>\n      <td>166.0</td>\n      <td>168.0</td>\n      <td>174.0</td>\n      <td>168.0</td>\n      <td>135.0</td>\n      <td>116.0</td>\n      <td>143.0</td>\n      <td>26</td>\n    </tr>\n    <tr>\n      <th>...</th>\n      <td>...</td>\n      <td>...</td>\n      <td>...</td>\n      <td>...</td>\n      <td>...</td>\n      <td>...</td>\n      <td>...</td>\n      <td>...</td>\n      <td>...</td>\n      <td>...</td>\n      <td>...</td>\n      <td>...</td>\n      <td>...</td>\n      <td>...</td>\n      <td>...</td>\n      <td>...</td>\n      <td>...</td>\n      <td>...</td>\n      <td>...</td>\n      <td>...</td>\n      <td>...</td>\n    </tr>\n    <tr>\n      <th>160</th>\n      <td>6940.274</td>\n      <td>-1.123900e-17</td>\n      <td>-7.922902e-16</td>\n      <td>-8.456241e-15</td>\n      <td>-5.304697e-14</td>\n      <td>-2.474720e-13</td>\n      <td>-9.223929e-13</td>\n      <td>-2.839853e-12</td>\n      <td>-7.432384e-12</td>\n      <td>-1.700023e-11</td>\n      <td>...</td>\n      <td>196.0</td>\n      <td>196.0</td>\n      <td>196.0</td>\n      <td>196.0</td>\n      <td>196.0</td>\n      <td>196.0</td>\n      <td>196.0</td>\n      <td>194.0</td>\n      <td>197.0</td>\n      <td>30</td>\n    </tr>\n    <tr>\n      <th>161</th>\n      <td>6941.874</td>\n      <td>-4.801128e-18</td>\n      <td>-8.462856e-17</td>\n      <td>-9.355394e-16</td>\n      <td>-7.121595e-15</td>\n      <td>-3.822630e-14</td>\n      <td>-1.518597e-13</td>\n      <td>-4.710922e-13</td>\n      <td>-1.195801e-12</td>\n      <td>-2.575715e-12</td>\n      <td>...</td>\n      <td>172.0</td>\n      <td>189.0</td>\n      <td>191.0</td>\n      <td>192.0</td>\n      <td>193.0</td>\n      <td>194.0</td>\n      <td>189.0</td>\n      <td>126.0</td>\n      <td>191.0</td>\n      <td>31</td>\n    </tr>\n    <tr>\n      <th>162</th>\n      <td>6943.474</td>\n      <td>-5.237594e-18</td>\n      <td>3.571514e-16</td>\n      <td>4.499010e-15</td>\n      <td>2.972707e-14</td>\n      <td>1.410947e-13</td>\n      <td>5.280207e-13</td>\n      <td>1.625975e-12</td>\n      <td>4.256036e-12</td>\n      <td>9.749184e-12</td>\n      <td>...</td>\n      <td>192.0</td>\n      <td>196.0</td>\n      <td>196.0</td>\n      <td>196.0</td>\n      <td>196.0</td>\n      <td>196.0</td>\n      <td>196.0</td>\n      <td>183.0</td>\n      <td>197.0</td>\n      <td>32</td>\n    </tr>\n    <tr>\n      <th>163</th>\n      <td>6956.270</td>\n      <td>-7.056203e-18</td>\n      <td>4.655008e-19</td>\n      <td>8.545418e-16</td>\n      <td>1.153219e-14</td>\n      <td>8.254790e-14</td>\n      <td>3.902433e-13</td>\n      <td>1.366112e-12</td>\n      <td>3.819966e-12</td>\n      <td>8.997635e-12</td>\n      <td>...</td>\n      <td>171.0</td>\n      <td>182.0</td>\n      <td>183.0</td>\n      <td>188.0</td>\n      <td>189.0</td>\n      <td>183.0</td>\n      <td>168.0</td>\n      <td>158.0</td>\n      <td>179.0</td>\n      <td>36</td>\n    </tr>\n    <tr>\n      <th>164</th>\n      <td>6960.014</td>\n      <td>-4.546522e-18</td>\n      <td>1.013024e-15</td>\n      <td>1.254672e-14</td>\n      <td>7.477137e-14</td>\n      <td>2.937967e-13</td>\n      <td>8.697706e-13</td>\n      <td>2.094143e-12</td>\n      <td>4.306096e-12</td>\n      <td>7.805999e-12</td>\n      <td>...</td>\n      <td>171.0</td>\n      <td>177.0</td>\n      <td>181.0</td>\n      <td>185.0</td>\n      <td>186.0</td>\n      <td>184.0</td>\n      <td>154.0</td>\n      <td>148.0</td>\n      <td>176.0</td>\n      <td>37</td>\n    </tr>\n  </tbody>\n</table>\n<p>165 rows × 1150 columns</p>\n</div>"
     },
     "execution_count": 11,
     "metadata": {},
     "output_type": "execute_result"
    }
   ],
   "source": [
    "loaded_dictionary[\"01\"][0]"
   ],
   "metadata": {
    "collapsed": false,
    "ExecuteTime": {
     "start_time": "2023-11-27T15:48:38.697367Z",
     "end_time": "2023-11-27T15:48:38.731218Z"
    }
   }
  },
  {
   "cell_type": "code",
   "execution_count": 12,
   "outputs": [],
   "source": [
    "def create_all_participant_df(loaded_dictionary):\n",
    "    all_participant_NeedToSearch = pd.DataFrame()\n",
    "    all_participant_CorrectSearch = pd.DataFrame()\n",
    "    all_participant_IncorrectSearch = pd.DataFrame()\n",
    "    for key in loaded_dictionary.keys():\n",
    "\n",
    "        if key != \"06\":\n",
    "            all_participant_NeedToSearch = all_participant_NeedToSearch.append(loaded_dictionary[key][0])\n",
    "\n",
    "        all_participant_CorrectSearch = all_participant_CorrectSearch.append(loaded_dictionary[key][1])\n",
    "        all_participant_IncorrectSearch = all_participant_IncorrectSearch.append(loaded_dictionary[key][2])\n",
    "\n",
    "    all_participant_NeedToSearch['Label'] = 0\n",
    "    all_participant_CorrectSearch['Label'] = 1\n",
    "    all_participant_IncorrectSearch['Label'] = 1\n",
    "    return all_participant_NeedToSearch, all_participant_CorrectSearch, all_participant_IncorrectSearch"
   ],
   "metadata": {
    "collapsed": false,
    "ExecuteTime": {
     "start_time": "2023-11-27T15:48:38.992716Z",
     "end_time": "2023-11-27T15:48:39.077193Z"
    }
   }
  },
  {
   "cell_type": "code",
   "execution_count": 13,
   "outputs": [
    {
     "name": "stderr",
     "output_type": "stream",
     "text": [
      "C:\\Users\\gxb18167\\AppData\\Local\\Temp\\ipykernel_11908\\299860806.py:8: FutureWarning: The frame.append method is deprecated and will be removed from pandas in a future version. Use pandas.concat instead.\n",
      "  all_participant_NeedToSearch = all_participant_NeedToSearch.append(loaded_dictionary[key][0])\n",
      "C:\\Users\\gxb18167\\AppData\\Local\\Temp\\ipykernel_11908\\299860806.py:10: FutureWarning: The frame.append method is deprecated and will be removed from pandas in a future version. Use pandas.concat instead.\n",
      "  all_participant_CorrectSearch = all_participant_CorrectSearch.append(loaded_dictionary[key][1])\n",
      "C:\\Users\\gxb18167\\AppData\\Local\\Temp\\ipykernel_11908\\299860806.py:11: FutureWarning: The frame.append method is deprecated and will be removed from pandas in a future version. Use pandas.concat instead.\n",
      "  all_participant_IncorrectSearch = all_participant_IncorrectSearch.append(loaded_dictionary[key][2])\n",
      "C:\\Users\\gxb18167\\AppData\\Local\\Temp\\ipykernel_11908\\299860806.py:10: FutureWarning: The frame.append method is deprecated and will be removed from pandas in a future version. Use pandas.concat instead.\n",
      "  all_participant_CorrectSearch = all_participant_CorrectSearch.append(loaded_dictionary[key][1])\n",
      "C:\\Users\\gxb18167\\AppData\\Local\\Temp\\ipykernel_11908\\299860806.py:11: FutureWarning: The frame.append method is deprecated and will be removed from pandas in a future version. Use pandas.concat instead.\n",
      "  all_participant_IncorrectSearch = all_participant_IncorrectSearch.append(loaded_dictionary[key][2])\n",
      "C:\\Users\\gxb18167\\AppData\\Local\\Temp\\ipykernel_11908\\299860806.py:8: FutureWarning: The frame.append method is deprecated and will be removed from pandas in a future version. Use pandas.concat instead.\n",
      "  all_participant_NeedToSearch = all_participant_NeedToSearch.append(loaded_dictionary[key][0])\n",
      "C:\\Users\\gxb18167\\AppData\\Local\\Temp\\ipykernel_11908\\299860806.py:10: FutureWarning: The frame.append method is deprecated and will be removed from pandas in a future version. Use pandas.concat instead.\n",
      "  all_participant_CorrectSearch = all_participant_CorrectSearch.append(loaded_dictionary[key][1])\n",
      "C:\\Users\\gxb18167\\AppData\\Local\\Temp\\ipykernel_11908\\299860806.py:11: FutureWarning: The frame.append method is deprecated and will be removed from pandas in a future version. Use pandas.concat instead.\n",
      "  all_participant_IncorrectSearch = all_participant_IncorrectSearch.append(loaded_dictionary[key][2])\n",
      "C:\\Users\\gxb18167\\AppData\\Local\\Temp\\ipykernel_11908\\299860806.py:8: FutureWarning: The frame.append method is deprecated and will be removed from pandas in a future version. Use pandas.concat instead.\n",
      "  all_participant_NeedToSearch = all_participant_NeedToSearch.append(loaded_dictionary[key][0])\n",
      "C:\\Users\\gxb18167\\AppData\\Local\\Temp\\ipykernel_11908\\299860806.py:10: FutureWarning: The frame.append method is deprecated and will be removed from pandas in a future version. Use pandas.concat instead.\n",
      "  all_participant_CorrectSearch = all_participant_CorrectSearch.append(loaded_dictionary[key][1])\n",
      "C:\\Users\\gxb18167\\AppData\\Local\\Temp\\ipykernel_11908\\299860806.py:11: FutureWarning: The frame.append method is deprecated and will be removed from pandas in a future version. Use pandas.concat instead.\n",
      "  all_participant_IncorrectSearch = all_participant_IncorrectSearch.append(loaded_dictionary[key][2])\n",
      "C:\\Users\\gxb18167\\AppData\\Local\\Temp\\ipykernel_11908\\299860806.py:10: FutureWarning: The frame.append method is deprecated and will be removed from pandas in a future version. Use pandas.concat instead.\n",
      "  all_participant_CorrectSearch = all_participant_CorrectSearch.append(loaded_dictionary[key][1])\n",
      "C:\\Users\\gxb18167\\AppData\\Local\\Temp\\ipykernel_11908\\299860806.py:11: FutureWarning: The frame.append method is deprecated and will be removed from pandas in a future version. Use pandas.concat instead.\n",
      "  all_participant_IncorrectSearch = all_participant_IncorrectSearch.append(loaded_dictionary[key][2])\n",
      "C:\\Users\\gxb18167\\AppData\\Local\\Temp\\ipykernel_11908\\299860806.py:8: FutureWarning: The frame.append method is deprecated and will be removed from pandas in a future version. Use pandas.concat instead.\n",
      "  all_participant_NeedToSearch = all_participant_NeedToSearch.append(loaded_dictionary[key][0])\n",
      "C:\\Users\\gxb18167\\AppData\\Local\\Temp\\ipykernel_11908\\299860806.py:10: FutureWarning: The frame.append method is deprecated and will be removed from pandas in a future version. Use pandas.concat instead.\n",
      "  all_participant_CorrectSearch = all_participant_CorrectSearch.append(loaded_dictionary[key][1])\n",
      "C:\\Users\\gxb18167\\AppData\\Local\\Temp\\ipykernel_11908\\299860806.py:11: FutureWarning: The frame.append method is deprecated and will be removed from pandas in a future version. Use pandas.concat instead.\n",
      "  all_participant_IncorrectSearch = all_participant_IncorrectSearch.append(loaded_dictionary[key][2])\n",
      "C:\\Users\\gxb18167\\AppData\\Local\\Temp\\ipykernel_11908\\299860806.py:8: FutureWarning: The frame.append method is deprecated and will be removed from pandas in a future version. Use pandas.concat instead.\n",
      "  all_participant_NeedToSearch = all_participant_NeedToSearch.append(loaded_dictionary[key][0])\n",
      "C:\\Users\\gxb18167\\AppData\\Local\\Temp\\ipykernel_11908\\299860806.py:10: FutureWarning: The frame.append method is deprecated and will be removed from pandas in a future version. Use pandas.concat instead.\n",
      "  all_participant_CorrectSearch = all_participant_CorrectSearch.append(loaded_dictionary[key][1])\n",
      "C:\\Users\\gxb18167\\AppData\\Local\\Temp\\ipykernel_11908\\299860806.py:11: FutureWarning: The frame.append method is deprecated and will be removed from pandas in a future version. Use pandas.concat instead.\n",
      "  all_participant_IncorrectSearch = all_participant_IncorrectSearch.append(loaded_dictionary[key][2])\n",
      "C:\\Users\\gxb18167\\AppData\\Local\\Temp\\ipykernel_11908\\299860806.py:8: FutureWarning: The frame.append method is deprecated and will be removed from pandas in a future version. Use pandas.concat instead.\n",
      "  all_participant_NeedToSearch = all_participant_NeedToSearch.append(loaded_dictionary[key][0])\n",
      "C:\\Users\\gxb18167\\AppData\\Local\\Temp\\ipykernel_11908\\299860806.py:10: FutureWarning: The frame.append method is deprecated and will be removed from pandas in a future version. Use pandas.concat instead.\n",
      "  all_participant_CorrectSearch = all_participant_CorrectSearch.append(loaded_dictionary[key][1])\n",
      "C:\\Users\\gxb18167\\AppData\\Local\\Temp\\ipykernel_11908\\299860806.py:11: FutureWarning: The frame.append method is deprecated and will be removed from pandas in a future version. Use pandas.concat instead.\n",
      "  all_participant_IncorrectSearch = all_participant_IncorrectSearch.append(loaded_dictionary[key][2])\n"
     ]
    }
   ],
   "source": [
    "all_participant_NeedToSearch, all_participant_CorrectSearch, all_participant_IncorrectSearch = create_all_participant_df(loaded_dictionary)"
   ],
   "metadata": {
    "collapsed": false,
    "ExecuteTime": {
     "start_time": "2023-11-27T15:48:39.010927Z",
     "end_time": "2023-11-27T15:48:39.286060Z"
    }
   }
  },
  {
   "cell_type": "code",
   "execution_count": 14,
   "outputs": [],
   "source": [
    "X_CorrectSearch = all_participant_CorrectSearch.sample(n=606, random_state=1)\n",
    "X_IncorrectSearch = all_participant_IncorrectSearch.sample(n=607, random_state=1)"
   ],
   "metadata": {
    "collapsed": false,
    "ExecuteTime": {
     "start_time": "2023-11-27T15:48:40.031983Z",
     "end_time": "2023-11-27T15:48:40.211056Z"
    }
   }
  },
  {
   "cell_type": "code",
   "execution_count": 36,
   "outputs": [],
   "source": [
    "X_dataframe = pd.concat([all_participant_NeedToSearch, X_CorrectSearch, X_IncorrectSearch])\n",
    "X_dataframe = X_dataframe.drop(['TimeStamp', \"Event_ID\"], axis=1)"
   ],
   "metadata": {
    "collapsed": false,
    "ExecuteTime": {
     "start_time": "2023-11-27T15:52:52.474771Z",
     "end_time": "2023-11-27T15:52:52.563726Z"
    }
   }
  },
  {
   "cell_type": "code",
   "execution_count": 37,
   "outputs": [],
   "source": [
    "Windows, Labels = DSE.create_rolling_window(X_dataframe)"
   ],
   "metadata": {
    "collapsed": false,
    "ExecuteTime": {
     "start_time": "2023-11-27T15:52:52.906839Z",
     "end_time": "2023-11-27T15:52:52.958049Z"
    }
   }
  },
  {
   "cell_type": "code",
   "execution_count": 38,
   "outputs": [
    {
     "data": {
      "text/plain": "2360"
     },
     "execution_count": 38,
     "metadata": {},
     "output_type": "execute_result"
    }
   ],
   "source": [
    "len(Labels)"
   ],
   "metadata": {
    "collapsed": false,
    "ExecuteTime": {
     "start_time": "2023-11-27T15:52:53.189702Z",
     "end_time": "2023-11-27T15:52:53.213871Z"
    }
   }
  },
  {
   "cell_type": "code",
   "execution_count": 39,
   "outputs": [
    {
     "data": {
      "text/plain": "array([[-1.08752816e-17, -3.11332992e-16, -2.92447960e-15, ...,\n         1.48000000e+02,  1.27000000e+02,  1.57000000e+02],\n       [-6.58336443e-18,  2.32010756e-16,  2.98608372e-15, ...,\n         1.85000000e+02,  1.68000000e+02,  1.92000000e+02],\n       [-2.87340216e-18,  2.13568657e-16,  2.56685119e-15, ...,\n         1.97000000e+02,  1.96000000e+02,  1.96000000e+02],\n       [-1.92772550e-18, -4.34485401e-19,  1.79745941e-16, ...,\n         1.91000000e+02,  1.88000000e+02,  1.92000000e+02]])"
     },
     "execution_count": 39,
     "metadata": {},
     "output_type": "execute_result"
    }
   ],
   "source": [
    "Windows[0]"
   ],
   "metadata": {
    "collapsed": false,
    "ExecuteTime": {
     "start_time": "2023-11-27T15:52:53.526909Z",
     "end_time": "2023-11-27T15:52:53.553634Z"
    }
   }
  },
  {
   "cell_type": "code",
   "execution_count": 40,
   "outputs": [],
   "source": [
    "from sklearn.model_selection import train_test_split\n",
    "import numpy as np\n",
    "\n",
    "\n",
    "X_train, X_test, y_train, y_test = train_test_split(Windows, Labels, test_size=0.2, random_state=42)"
   ],
   "metadata": {
    "collapsed": false,
    "ExecuteTime": {
     "start_time": "2023-11-27T15:52:54.158374Z",
     "end_time": "2023-11-27T15:52:54.260703Z"
    }
   }
  },
  {
   "cell_type": "code",
   "execution_count": 68,
   "outputs": [],
   "source": [
    "\n",
    "\n",
    "from keras.utils import to_categorical\n",
    "\n",
    "import numpy as np\n",
    "import tensorflow as tf\n",
    "from keras.models import Sequential\n",
    "from keras.layers import Dense\n",
    "from keras.layers import Dropout\n",
    "from keras.layers import LSTM, GRU\n",
    "from keras.layers import Bidirectional\n",
    "from sklearn.metrics import precision_recall_fscore_support\n",
    "from keras.layers import GRU, Dense\n",
    "from keras.models import Sequential\n",
    "from sklearn.model_selection import train_test_split\n",
    "import tensorflow as tf"
   ],
   "metadata": {
    "collapsed": false,
    "ExecuteTime": {
     "start_time": "2023-11-27T15:58:22.250178Z",
     "end_time": "2023-11-27T15:58:22.259061Z"
    }
   }
  },
  {
   "cell_type": "code",
   "execution_count": 62,
   "outputs": [],
   "source": [
    "\n",
    "\n",
    "def modelFit_GRU(X_Train, y_train_cat):\n",
    "    # Split the training data into training and validation sets\n",
    "    X_train, X_val, y_train, y_val = train_test_split(X_Train, y_train_cat, test_size=0.1, random_state=42)\n",
    "\n",
    "    model1 = Sequential()\n",
    "    model1.add(GRU(256, return_sequences=True, input_shape=(X_Train.shape[1], X_Train.shape[2])))\n",
    "    model1.add(GRU(128, return_sequences=False))\n",
    "    model1.add(Dense(2, activation='softmax'))\n",
    "    model1.summary()\n",
    "\n",
    "    model1.compile(loss='binary_crossentropy',  # Use 'binary_crossentropy' for binary classification\n",
    "                   optimizer='adam',\n",
    "                   metrics=['accuracy'])\n",
    "\n",
    "    history = model1.fit(\n",
    "        X_train,\n",
    "        y_train,\n",
    "        validation_data=(X_val, y_val),\n",
    "        batch_size=8,\n",
    "        epochs=200,\n",
    "        callbacks=[\n",
    "            EarlyStopping(\n",
    "                monitor='val_loss',\n",
    "                patience=5,\n",
    "                restore_best_weights=True\n",
    "            )\n",
    "        ]\n",
    "    )\n",
    "\n",
    "    return model1\n"
   ],
   "metadata": {
    "collapsed": false,
    "ExecuteTime": {
     "start_time": "2023-11-27T15:57:31.847867Z",
     "end_time": "2023-11-27T15:57:31.865090Z"
    }
   }
  },
  {
   "cell_type": "code",
   "execution_count": 63,
   "outputs": [],
   "source": [
    "Train_X = np.array(X_train)\n",
    "Train_Y = np.array(y_train)\n",
    "\n",
    "Test_X = np.array(X_test)\n",
    "Test_Y = np.array(y_test)"
   ],
   "metadata": {
    "collapsed": false,
    "ExecuteTime": {
     "start_time": "2023-11-27T15:57:32.177127Z",
     "end_time": "2023-11-27T15:57:32.288715Z"
    }
   }
  },
  {
   "cell_type": "code",
   "execution_count": 64,
   "outputs": [],
   "source": [],
   "metadata": {
    "collapsed": false,
    "ExecuteTime": {
     "start_time": "2023-11-27T15:57:32.733956Z",
     "end_time": "2023-11-27T15:57:32.760412Z"
    }
   }
  },
  {
   "cell_type": "code",
   "execution_count": 65,
   "outputs": [
    {
     "name": "stdout",
     "output_type": "stream",
     "text": [
      "Model: \"sequential_4\"\n",
      "_________________________________________________________________\n",
      " Layer (type)                Output Shape              Param #   \n",
      "=================================================================\n",
      " gru_8 (GRU)                 (None, 4, 256)            1079808   \n",
      "                                                                 \n",
      " gru_9 (GRU)                 (None, 128)               148224    \n",
      "                                                                 \n",
      " dense_4 (Dense)             (None, 2)                 258       \n",
      "                                                                 \n",
      "=================================================================\n",
      "Total params: 1,228,290\n",
      "Trainable params: 1,228,290\n",
      "Non-trainable params: 0\n",
      "_________________________________________________________________\n",
      "Epoch 1/200\n",
      "399/425 [===========================>..] - ETA: 0s - loss: 0.7122 - accuracy: 0.4937"
     ]
    },
    {
     "ename": "KeyboardInterrupt",
     "evalue": "",
     "output_type": "error",
     "traceback": [
      "\u001B[1;31m---------------------------------------------------------------------------\u001B[0m",
      "\u001B[1;31mKeyboardInterrupt\u001B[0m                         Traceback (most recent call last)",
      "Cell \u001B[1;32mIn[65], line 1\u001B[0m\n\u001B[1;32m----> 1\u001B[0m model \u001B[38;5;241m=\u001B[39m \u001B[43mmodelFit_GRU\u001B[49m\u001B[43m(\u001B[49m\u001B[43mTrain_X\u001B[49m\u001B[43m,\u001B[49m\u001B[43m \u001B[49m\u001B[43my_train_cat\u001B[49m\u001B[43m)\u001B[49m\n",
      "Cell \u001B[1;32mIn[62], line 28\u001B[0m, in \u001B[0;36mmodelFit_GRU\u001B[1;34m(X_Train, y_train_cat)\u001B[0m\n\u001B[0;32m     22\u001B[0m model1\u001B[38;5;241m.\u001B[39msummary()\n\u001B[0;32m     24\u001B[0m model1\u001B[38;5;241m.\u001B[39mcompile(loss\u001B[38;5;241m=\u001B[39m\u001B[38;5;124m'\u001B[39m\u001B[38;5;124mbinary_crossentropy\u001B[39m\u001B[38;5;124m'\u001B[39m,  \u001B[38;5;66;03m# Use 'binary_crossentropy' for binary classification\u001B[39;00m\n\u001B[0;32m     25\u001B[0m                optimizer\u001B[38;5;241m=\u001B[39m\u001B[38;5;124m'\u001B[39m\u001B[38;5;124madam\u001B[39m\u001B[38;5;124m'\u001B[39m,\n\u001B[0;32m     26\u001B[0m                metrics\u001B[38;5;241m=\u001B[39m[\u001B[38;5;124m'\u001B[39m\u001B[38;5;124maccuracy\u001B[39m\u001B[38;5;124m'\u001B[39m])\n\u001B[1;32m---> 28\u001B[0m history \u001B[38;5;241m=\u001B[39m \u001B[43mmodel1\u001B[49m\u001B[38;5;241;43m.\u001B[39;49m\u001B[43mfit\u001B[49m\u001B[43m(\u001B[49m\n\u001B[0;32m     29\u001B[0m \u001B[43m    \u001B[49m\u001B[43mX_train\u001B[49m\u001B[43m,\u001B[49m\n\u001B[0;32m     30\u001B[0m \u001B[43m    \u001B[49m\u001B[43my_train\u001B[49m\u001B[43m,\u001B[49m\n\u001B[0;32m     31\u001B[0m \u001B[43m    \u001B[49m\u001B[43mvalidation_data\u001B[49m\u001B[38;5;241;43m=\u001B[39;49m\u001B[43m(\u001B[49m\u001B[43mX_val\u001B[49m\u001B[43m,\u001B[49m\u001B[43m \u001B[49m\u001B[43my_val\u001B[49m\u001B[43m)\u001B[49m\u001B[43m,\u001B[49m\n\u001B[0;32m     32\u001B[0m \u001B[43m    \u001B[49m\u001B[43mbatch_size\u001B[49m\u001B[38;5;241;43m=\u001B[39;49m\u001B[38;5;241;43m4\u001B[39;49m\u001B[43m,\u001B[49m\n\u001B[0;32m     33\u001B[0m \u001B[43m    \u001B[49m\u001B[43mepochs\u001B[49m\u001B[38;5;241;43m=\u001B[39;49m\u001B[38;5;241;43m200\u001B[39;49m\u001B[43m,\u001B[49m\n\u001B[0;32m     34\u001B[0m \u001B[43m    \u001B[49m\u001B[43mcallbacks\u001B[49m\u001B[38;5;241;43m=\u001B[39;49m\u001B[43m[\u001B[49m\n\u001B[0;32m     35\u001B[0m \u001B[43m        \u001B[49m\u001B[43mEarlyStopping\u001B[49m\u001B[43m(\u001B[49m\n\u001B[0;32m     36\u001B[0m \u001B[43m            \u001B[49m\u001B[43mmonitor\u001B[49m\u001B[38;5;241;43m=\u001B[39;49m\u001B[38;5;124;43m'\u001B[39;49m\u001B[38;5;124;43mval_loss\u001B[39;49m\u001B[38;5;124;43m'\u001B[39;49m\u001B[43m,\u001B[49m\n\u001B[0;32m     37\u001B[0m \u001B[43m            \u001B[49m\u001B[43mpatience\u001B[49m\u001B[38;5;241;43m=\u001B[39;49m\u001B[38;5;241;43m5\u001B[39;49m\u001B[43m,\u001B[49m\n\u001B[0;32m     38\u001B[0m \u001B[43m            \u001B[49m\u001B[43mrestore_best_weights\u001B[49m\u001B[38;5;241;43m=\u001B[39;49m\u001B[38;5;28;43;01mTrue\u001B[39;49;00m\n\u001B[0;32m     39\u001B[0m \u001B[43m        \u001B[49m\u001B[43m)\u001B[49m\n\u001B[0;32m     40\u001B[0m \u001B[43m    \u001B[49m\u001B[43m]\u001B[49m\n\u001B[0;32m     41\u001B[0m \u001B[43m\u001B[49m\u001B[43m)\u001B[49m\n\u001B[0;32m     43\u001B[0m \u001B[38;5;28;01mreturn\u001B[39;00m model1\n",
      "File \u001B[1;32m~\\Anaconda3\\lib\\site-packages\\keras\\utils\\traceback_utils.py:65\u001B[0m, in \u001B[0;36mfilter_traceback.<locals>.error_handler\u001B[1;34m(*args, **kwargs)\u001B[0m\n\u001B[0;32m     63\u001B[0m filtered_tb \u001B[38;5;241m=\u001B[39m \u001B[38;5;28;01mNone\u001B[39;00m\n\u001B[0;32m     64\u001B[0m \u001B[38;5;28;01mtry\u001B[39;00m:\n\u001B[1;32m---> 65\u001B[0m     \u001B[38;5;28;01mreturn\u001B[39;00m fn(\u001B[38;5;241m*\u001B[39margs, \u001B[38;5;241m*\u001B[39m\u001B[38;5;241m*\u001B[39mkwargs)\n\u001B[0;32m     66\u001B[0m \u001B[38;5;28;01mexcept\u001B[39;00m \u001B[38;5;167;01mException\u001B[39;00m \u001B[38;5;28;01mas\u001B[39;00m e:\n\u001B[0;32m     67\u001B[0m     filtered_tb \u001B[38;5;241m=\u001B[39m _process_traceback_frames(e\u001B[38;5;241m.\u001B[39m__traceback__)\n",
      "File \u001B[1;32m~\\Anaconda3\\lib\\site-packages\\keras\\engine\\training.py:1564\u001B[0m, in \u001B[0;36mModel.fit\u001B[1;34m(self, x, y, batch_size, epochs, verbose, callbacks, validation_split, validation_data, shuffle, class_weight, sample_weight, initial_epoch, steps_per_epoch, validation_steps, validation_batch_size, validation_freq, max_queue_size, workers, use_multiprocessing)\u001B[0m\n\u001B[0;32m   1556\u001B[0m \u001B[38;5;28;01mwith\u001B[39;00m tf\u001B[38;5;241m.\u001B[39mprofiler\u001B[38;5;241m.\u001B[39mexperimental\u001B[38;5;241m.\u001B[39mTrace(\n\u001B[0;32m   1557\u001B[0m     \u001B[38;5;124m\"\u001B[39m\u001B[38;5;124mtrain\u001B[39m\u001B[38;5;124m\"\u001B[39m,\n\u001B[0;32m   1558\u001B[0m     epoch_num\u001B[38;5;241m=\u001B[39mepoch,\n\u001B[1;32m   (...)\u001B[0m\n\u001B[0;32m   1561\u001B[0m     _r\u001B[38;5;241m=\u001B[39m\u001B[38;5;241m1\u001B[39m,\n\u001B[0;32m   1562\u001B[0m ):\n\u001B[0;32m   1563\u001B[0m     callbacks\u001B[38;5;241m.\u001B[39mon_train_batch_begin(step)\n\u001B[1;32m-> 1564\u001B[0m     tmp_logs \u001B[38;5;241m=\u001B[39m \u001B[38;5;28;43mself\u001B[39;49m\u001B[38;5;241;43m.\u001B[39;49m\u001B[43mtrain_function\u001B[49m\u001B[43m(\u001B[49m\u001B[43miterator\u001B[49m\u001B[43m)\u001B[49m\n\u001B[0;32m   1565\u001B[0m     \u001B[38;5;28;01mif\u001B[39;00m data_handler\u001B[38;5;241m.\u001B[39mshould_sync:\n\u001B[0;32m   1566\u001B[0m         context\u001B[38;5;241m.\u001B[39masync_wait()\n",
      "File \u001B[1;32m~\\Anaconda3\\lib\\site-packages\\tensorflow\\python\\util\\traceback_utils.py:150\u001B[0m, in \u001B[0;36mfilter_traceback.<locals>.error_handler\u001B[1;34m(*args, **kwargs)\u001B[0m\n\u001B[0;32m    148\u001B[0m filtered_tb \u001B[38;5;241m=\u001B[39m \u001B[38;5;28;01mNone\u001B[39;00m\n\u001B[0;32m    149\u001B[0m \u001B[38;5;28;01mtry\u001B[39;00m:\n\u001B[1;32m--> 150\u001B[0m   \u001B[38;5;28;01mreturn\u001B[39;00m fn(\u001B[38;5;241m*\u001B[39margs, \u001B[38;5;241m*\u001B[39m\u001B[38;5;241m*\u001B[39mkwargs)\n\u001B[0;32m    151\u001B[0m \u001B[38;5;28;01mexcept\u001B[39;00m \u001B[38;5;167;01mException\u001B[39;00m \u001B[38;5;28;01mas\u001B[39;00m e:\n\u001B[0;32m    152\u001B[0m   filtered_tb \u001B[38;5;241m=\u001B[39m _process_traceback_frames(e\u001B[38;5;241m.\u001B[39m__traceback__)\n",
      "File \u001B[1;32m~\\Anaconda3\\lib\\site-packages\\tensorflow\\python\\eager\\def_function.py:915\u001B[0m, in \u001B[0;36mFunction.__call__\u001B[1;34m(self, *args, **kwds)\u001B[0m\n\u001B[0;32m    912\u001B[0m compiler \u001B[38;5;241m=\u001B[39m \u001B[38;5;124m\"\u001B[39m\u001B[38;5;124mxla\u001B[39m\u001B[38;5;124m\"\u001B[39m \u001B[38;5;28;01mif\u001B[39;00m \u001B[38;5;28mself\u001B[39m\u001B[38;5;241m.\u001B[39m_jit_compile \u001B[38;5;28;01melse\u001B[39;00m \u001B[38;5;124m\"\u001B[39m\u001B[38;5;124mnonXla\u001B[39m\u001B[38;5;124m\"\u001B[39m\n\u001B[0;32m    914\u001B[0m \u001B[38;5;28;01mwith\u001B[39;00m OptionalXlaContext(\u001B[38;5;28mself\u001B[39m\u001B[38;5;241m.\u001B[39m_jit_compile):\n\u001B[1;32m--> 915\u001B[0m   result \u001B[38;5;241m=\u001B[39m \u001B[38;5;28mself\u001B[39m\u001B[38;5;241m.\u001B[39m_call(\u001B[38;5;241m*\u001B[39margs, \u001B[38;5;241m*\u001B[39m\u001B[38;5;241m*\u001B[39mkwds)\n\u001B[0;32m    917\u001B[0m new_tracing_count \u001B[38;5;241m=\u001B[39m \u001B[38;5;28mself\u001B[39m\u001B[38;5;241m.\u001B[39mexperimental_get_tracing_count()\n\u001B[0;32m    918\u001B[0m without_tracing \u001B[38;5;241m=\u001B[39m (tracing_count \u001B[38;5;241m==\u001B[39m new_tracing_count)\n",
      "File \u001B[1;32m~\\Anaconda3\\lib\\site-packages\\tensorflow\\python\\eager\\def_function.py:947\u001B[0m, in \u001B[0;36mFunction._call\u001B[1;34m(self, *args, **kwds)\u001B[0m\n\u001B[0;32m    944\u001B[0m   \u001B[38;5;28mself\u001B[39m\u001B[38;5;241m.\u001B[39m_lock\u001B[38;5;241m.\u001B[39mrelease()\n\u001B[0;32m    945\u001B[0m   \u001B[38;5;66;03m# In this case we have created variables on the first call, so we run the\u001B[39;00m\n\u001B[0;32m    946\u001B[0m   \u001B[38;5;66;03m# defunned version which is guaranteed to never create variables.\u001B[39;00m\n\u001B[1;32m--> 947\u001B[0m   \u001B[38;5;28;01mreturn\u001B[39;00m \u001B[38;5;28mself\u001B[39m\u001B[38;5;241m.\u001B[39m_stateless_fn(\u001B[38;5;241m*\u001B[39margs, \u001B[38;5;241m*\u001B[39m\u001B[38;5;241m*\u001B[39mkwds)  \u001B[38;5;66;03m# pylint: disable=not-callable\u001B[39;00m\n\u001B[0;32m    948\u001B[0m \u001B[38;5;28;01melif\u001B[39;00m \u001B[38;5;28mself\u001B[39m\u001B[38;5;241m.\u001B[39m_stateful_fn \u001B[38;5;129;01mis\u001B[39;00m \u001B[38;5;129;01mnot\u001B[39;00m \u001B[38;5;28;01mNone\u001B[39;00m:\n\u001B[0;32m    949\u001B[0m   \u001B[38;5;66;03m# Release the lock early so that multiple threads can perform the call\u001B[39;00m\n\u001B[0;32m    950\u001B[0m   \u001B[38;5;66;03m# in parallel.\u001B[39;00m\n\u001B[0;32m    951\u001B[0m   \u001B[38;5;28mself\u001B[39m\u001B[38;5;241m.\u001B[39m_lock\u001B[38;5;241m.\u001B[39mrelease()\n",
      "File \u001B[1;32m~\\Anaconda3\\lib\\site-packages\\tensorflow\\python\\eager\\function.py:2496\u001B[0m, in \u001B[0;36mFunction.__call__\u001B[1;34m(self, *args, **kwargs)\u001B[0m\n\u001B[0;32m   2493\u001B[0m \u001B[38;5;28;01mwith\u001B[39;00m \u001B[38;5;28mself\u001B[39m\u001B[38;5;241m.\u001B[39m_lock:\n\u001B[0;32m   2494\u001B[0m   (graph_function,\n\u001B[0;32m   2495\u001B[0m    filtered_flat_args) \u001B[38;5;241m=\u001B[39m \u001B[38;5;28mself\u001B[39m\u001B[38;5;241m.\u001B[39m_maybe_define_function(args, kwargs)\n\u001B[1;32m-> 2496\u001B[0m \u001B[38;5;28;01mreturn\u001B[39;00m \u001B[43mgraph_function\u001B[49m\u001B[38;5;241;43m.\u001B[39;49m\u001B[43m_call_flat\u001B[49m\u001B[43m(\u001B[49m\n\u001B[0;32m   2497\u001B[0m \u001B[43m    \u001B[49m\u001B[43mfiltered_flat_args\u001B[49m\u001B[43m,\u001B[49m\u001B[43m \u001B[49m\u001B[43mcaptured_inputs\u001B[49m\u001B[38;5;241;43m=\u001B[39;49m\u001B[43mgraph_function\u001B[49m\u001B[38;5;241;43m.\u001B[39;49m\u001B[43mcaptured_inputs\u001B[49m\u001B[43m)\u001B[49m\n",
      "File \u001B[1;32m~\\Anaconda3\\lib\\site-packages\\tensorflow\\python\\eager\\function.py:1862\u001B[0m, in \u001B[0;36mConcreteFunction._call_flat\u001B[1;34m(self, args, captured_inputs, cancellation_manager)\u001B[0m\n\u001B[0;32m   1858\u001B[0m possible_gradient_type \u001B[38;5;241m=\u001B[39m gradients_util\u001B[38;5;241m.\u001B[39mPossibleTapeGradientTypes(args)\n\u001B[0;32m   1859\u001B[0m \u001B[38;5;28;01mif\u001B[39;00m (possible_gradient_type \u001B[38;5;241m==\u001B[39m gradients_util\u001B[38;5;241m.\u001B[39mPOSSIBLE_GRADIENT_TYPES_NONE\n\u001B[0;32m   1860\u001B[0m     \u001B[38;5;129;01mand\u001B[39;00m executing_eagerly):\n\u001B[0;32m   1861\u001B[0m   \u001B[38;5;66;03m# No tape is watching; skip to running the function.\u001B[39;00m\n\u001B[1;32m-> 1862\u001B[0m   \u001B[38;5;28;01mreturn\u001B[39;00m \u001B[38;5;28mself\u001B[39m\u001B[38;5;241m.\u001B[39m_build_call_outputs(\u001B[38;5;28;43mself\u001B[39;49m\u001B[38;5;241;43m.\u001B[39;49m\u001B[43m_inference_function\u001B[49m\u001B[38;5;241;43m.\u001B[39;49m\u001B[43mcall\u001B[49m\u001B[43m(\u001B[49m\n\u001B[0;32m   1863\u001B[0m \u001B[43m      \u001B[49m\u001B[43mctx\u001B[49m\u001B[43m,\u001B[49m\u001B[43m \u001B[49m\u001B[43margs\u001B[49m\u001B[43m,\u001B[49m\u001B[43m \u001B[49m\u001B[43mcancellation_manager\u001B[49m\u001B[38;5;241;43m=\u001B[39;49m\u001B[43mcancellation_manager\u001B[49m\u001B[43m)\u001B[49m)\n\u001B[0;32m   1864\u001B[0m forward_backward \u001B[38;5;241m=\u001B[39m \u001B[38;5;28mself\u001B[39m\u001B[38;5;241m.\u001B[39m_select_forward_and_backward_functions(\n\u001B[0;32m   1865\u001B[0m     args,\n\u001B[0;32m   1866\u001B[0m     possible_gradient_type,\n\u001B[0;32m   1867\u001B[0m     executing_eagerly)\n\u001B[0;32m   1868\u001B[0m forward_function, args_with_tangents \u001B[38;5;241m=\u001B[39m forward_backward\u001B[38;5;241m.\u001B[39mforward()\n",
      "File \u001B[1;32m~\\Anaconda3\\lib\\site-packages\\tensorflow\\python\\eager\\function.py:499\u001B[0m, in \u001B[0;36m_EagerDefinedFunction.call\u001B[1;34m(self, ctx, args, cancellation_manager)\u001B[0m\n\u001B[0;32m    497\u001B[0m \u001B[38;5;28;01mwith\u001B[39;00m _InterpolateFunctionError(\u001B[38;5;28mself\u001B[39m):\n\u001B[0;32m    498\u001B[0m   \u001B[38;5;28;01mif\u001B[39;00m cancellation_manager \u001B[38;5;129;01mis\u001B[39;00m \u001B[38;5;28;01mNone\u001B[39;00m:\n\u001B[1;32m--> 499\u001B[0m     outputs \u001B[38;5;241m=\u001B[39m \u001B[43mexecute\u001B[49m\u001B[38;5;241;43m.\u001B[39;49m\u001B[43mexecute\u001B[49m\u001B[43m(\u001B[49m\n\u001B[0;32m    500\u001B[0m \u001B[43m        \u001B[49m\u001B[38;5;28;43mstr\u001B[39;49m\u001B[43m(\u001B[49m\u001B[38;5;28;43mself\u001B[39;49m\u001B[38;5;241;43m.\u001B[39;49m\u001B[43msignature\u001B[49m\u001B[38;5;241;43m.\u001B[39;49m\u001B[43mname\u001B[49m\u001B[43m)\u001B[49m\u001B[43m,\u001B[49m\n\u001B[0;32m    501\u001B[0m \u001B[43m        \u001B[49m\u001B[43mnum_outputs\u001B[49m\u001B[38;5;241;43m=\u001B[39;49m\u001B[38;5;28;43mself\u001B[39;49m\u001B[38;5;241;43m.\u001B[39;49m\u001B[43m_num_outputs\u001B[49m\u001B[43m,\u001B[49m\n\u001B[0;32m    502\u001B[0m \u001B[43m        \u001B[49m\u001B[43minputs\u001B[49m\u001B[38;5;241;43m=\u001B[39;49m\u001B[43margs\u001B[49m\u001B[43m,\u001B[49m\n\u001B[0;32m    503\u001B[0m \u001B[43m        \u001B[49m\u001B[43mattrs\u001B[49m\u001B[38;5;241;43m=\u001B[39;49m\u001B[43mattrs\u001B[49m\u001B[43m,\u001B[49m\n\u001B[0;32m    504\u001B[0m \u001B[43m        \u001B[49m\u001B[43mctx\u001B[49m\u001B[38;5;241;43m=\u001B[39;49m\u001B[43mctx\u001B[49m\u001B[43m)\u001B[49m\n\u001B[0;32m    505\u001B[0m   \u001B[38;5;28;01melse\u001B[39;00m:\n\u001B[0;32m    506\u001B[0m     outputs \u001B[38;5;241m=\u001B[39m execute\u001B[38;5;241m.\u001B[39mexecute_with_cancellation(\n\u001B[0;32m    507\u001B[0m         \u001B[38;5;28mstr\u001B[39m(\u001B[38;5;28mself\u001B[39m\u001B[38;5;241m.\u001B[39msignature\u001B[38;5;241m.\u001B[39mname),\n\u001B[0;32m    508\u001B[0m         num_outputs\u001B[38;5;241m=\u001B[39m\u001B[38;5;28mself\u001B[39m\u001B[38;5;241m.\u001B[39m_num_outputs,\n\u001B[1;32m   (...)\u001B[0m\n\u001B[0;32m    511\u001B[0m         ctx\u001B[38;5;241m=\u001B[39mctx,\n\u001B[0;32m    512\u001B[0m         cancellation_manager\u001B[38;5;241m=\u001B[39mcancellation_manager)\n",
      "File \u001B[1;32m~\\Anaconda3\\lib\\site-packages\\tensorflow\\python\\eager\\execute.py:54\u001B[0m, in \u001B[0;36mquick_execute\u001B[1;34m(op_name, num_outputs, inputs, attrs, ctx, name)\u001B[0m\n\u001B[0;32m     52\u001B[0m \u001B[38;5;28;01mtry\u001B[39;00m:\n\u001B[0;32m     53\u001B[0m   ctx\u001B[38;5;241m.\u001B[39mensure_initialized()\n\u001B[1;32m---> 54\u001B[0m   tensors \u001B[38;5;241m=\u001B[39m \u001B[43mpywrap_tfe\u001B[49m\u001B[38;5;241;43m.\u001B[39;49m\u001B[43mTFE_Py_Execute\u001B[49m\u001B[43m(\u001B[49m\u001B[43mctx\u001B[49m\u001B[38;5;241;43m.\u001B[39;49m\u001B[43m_handle\u001B[49m\u001B[43m,\u001B[49m\u001B[43m \u001B[49m\u001B[43mdevice_name\u001B[49m\u001B[43m,\u001B[49m\u001B[43m \u001B[49m\u001B[43mop_name\u001B[49m\u001B[43m,\u001B[49m\n\u001B[0;32m     55\u001B[0m \u001B[43m                                      \u001B[49m\u001B[43minputs\u001B[49m\u001B[43m,\u001B[49m\u001B[43m \u001B[49m\u001B[43mattrs\u001B[49m\u001B[43m,\u001B[49m\u001B[43m \u001B[49m\u001B[43mnum_outputs\u001B[49m\u001B[43m)\u001B[49m\n\u001B[0;32m     56\u001B[0m \u001B[38;5;28;01mexcept\u001B[39;00m core\u001B[38;5;241m.\u001B[39m_NotOkStatusException \u001B[38;5;28;01mas\u001B[39;00m e:\n\u001B[0;32m     57\u001B[0m   \u001B[38;5;28;01mif\u001B[39;00m name \u001B[38;5;129;01mis\u001B[39;00m \u001B[38;5;129;01mnot\u001B[39;00m \u001B[38;5;28;01mNone\u001B[39;00m:\n",
      "\u001B[1;31mKeyboardInterrupt\u001B[0m: "
     ]
    }
   ],
   "source": [],
   "metadata": {
    "collapsed": false,
    "ExecuteTime": {
     "start_time": "2023-11-27T15:51:06.394357Z",
     "end_time": "2023-11-27T15:51:06.419713Z"
    }
   }
  },
  {
   "cell_type": "code",
   "execution_count": 49,
   "outputs": [
    {
     "name": "stdout",
     "output_type": "stream",
     "text": [
      "15/15 [==============================] - 0s 4ms/step\n"
     ]
    },
    {
     "ename": "ValueError",
     "evalue": "Classification metrics can't handle a mix of binary and continuous-multioutput targets",
     "output_type": "error",
     "traceback": [
      "\u001B[1;31m---------------------------------------------------------------------------\u001B[0m",
      "\u001B[1;31mValueError\u001B[0m                                Traceback (most recent call last)",
      "Cell \u001B[1;32mIn[49], line 1\u001B[0m\n\u001B[1;32m----> 1\u001B[0m accuracy \u001B[38;5;241m=\u001B[39m \u001B[43mget_metrics\u001B[49m\u001B[43m(\u001B[49m\u001B[43mmodel\u001B[49m\u001B[43m,\u001B[49m\u001B[43m \u001B[49m\u001B[43mTest_X\u001B[49m\u001B[43m,\u001B[49m\u001B[43m \u001B[49m\u001B[43my_test\u001B[49m\u001B[43m)\u001B[49m\n",
      "Cell \u001B[1;32mIn[42], line 6\u001B[0m, in \u001B[0;36mget_metrics\u001B[1;34m(model, X_Test, Y_Test)\u001B[0m\n\u001B[0;32m      4\u001B[0m \u001B[38;5;28;01mdef\u001B[39;00m \u001B[38;5;21mget_metrics\u001B[39m(model, X_Test, Y_Test):\n\u001B[0;32m      5\u001B[0m     y_pred \u001B[38;5;241m=\u001B[39m model\u001B[38;5;241m.\u001B[39mpredict(X_Test)\n\u001B[1;32m----> 6\u001B[0m     precision, recall, f1, support \u001B[38;5;241m=\u001B[39m \u001B[43mprecision_recall_fscore_support\u001B[49m\u001B[43m(\u001B[49m\u001B[43mY_Test\u001B[49m\u001B[43m,\u001B[49m\u001B[43m \u001B[49m\u001B[43my_pred\u001B[49m\u001B[43m,\u001B[49m\u001B[43m \u001B[49m\u001B[43maverage\u001B[49m\u001B[38;5;241;43m=\u001B[39;49m\u001B[38;5;124;43m'\u001B[39;49m\u001B[38;5;124;43mweighted\u001B[39;49m\u001B[38;5;124;43m'\u001B[39;49m\u001B[43m)\u001B[49m\n\u001B[0;32m      7\u001B[0m     accuracy \u001B[38;5;241m=\u001B[39m accuracy_score(Y_Test, y_pred)\n\u001B[0;32m      8\u001B[0m     \u001B[38;5;28mprint\u001B[39m(precision, recall, f1, accuracy)\n",
      "File \u001B[1;32m~\\Anaconda3\\lib\\site-packages\\sklearn\\metrics\\_classification.py:1573\u001B[0m, in \u001B[0;36mprecision_recall_fscore_support\u001B[1;34m(y_true, y_pred, beta, labels, pos_label, average, warn_for, sample_weight, zero_division)\u001B[0m\n\u001B[0;32m   1571\u001B[0m \u001B[38;5;28;01mif\u001B[39;00m beta \u001B[38;5;241m<\u001B[39m \u001B[38;5;241m0\u001B[39m:\n\u001B[0;32m   1572\u001B[0m     \u001B[38;5;28;01mraise\u001B[39;00m \u001B[38;5;167;01mValueError\u001B[39;00m(\u001B[38;5;124m\"\u001B[39m\u001B[38;5;124mbeta should be >=0 in the F-beta score\u001B[39m\u001B[38;5;124m\"\u001B[39m)\n\u001B[1;32m-> 1573\u001B[0m labels \u001B[38;5;241m=\u001B[39m \u001B[43m_check_set_wise_labels\u001B[49m\u001B[43m(\u001B[49m\u001B[43my_true\u001B[49m\u001B[43m,\u001B[49m\u001B[43m \u001B[49m\u001B[43my_pred\u001B[49m\u001B[43m,\u001B[49m\u001B[43m \u001B[49m\u001B[43maverage\u001B[49m\u001B[43m,\u001B[49m\u001B[43m \u001B[49m\u001B[43mlabels\u001B[49m\u001B[43m,\u001B[49m\u001B[43m \u001B[49m\u001B[43mpos_label\u001B[49m\u001B[43m)\u001B[49m\n\u001B[0;32m   1575\u001B[0m \u001B[38;5;66;03m# Calculate tp_sum, pred_sum, true_sum ###\u001B[39;00m\n\u001B[0;32m   1576\u001B[0m samplewise \u001B[38;5;241m=\u001B[39m average \u001B[38;5;241m==\u001B[39m \u001B[38;5;124m\"\u001B[39m\u001B[38;5;124msamples\u001B[39m\u001B[38;5;124m\"\u001B[39m\n",
      "File \u001B[1;32m~\\Anaconda3\\lib\\site-packages\\sklearn\\metrics\\_classification.py:1374\u001B[0m, in \u001B[0;36m_check_set_wise_labels\u001B[1;34m(y_true, y_pred, average, labels, pos_label)\u001B[0m\n\u001B[0;32m   1371\u001B[0m \u001B[38;5;28;01mif\u001B[39;00m average \u001B[38;5;129;01mnot\u001B[39;00m \u001B[38;5;129;01min\u001B[39;00m average_options \u001B[38;5;129;01mand\u001B[39;00m average \u001B[38;5;241m!=\u001B[39m \u001B[38;5;124m\"\u001B[39m\u001B[38;5;124mbinary\u001B[39m\u001B[38;5;124m\"\u001B[39m:\n\u001B[0;32m   1372\u001B[0m     \u001B[38;5;28;01mraise\u001B[39;00m \u001B[38;5;167;01mValueError\u001B[39;00m(\u001B[38;5;124m\"\u001B[39m\u001B[38;5;124maverage has to be one of \u001B[39m\u001B[38;5;124m\"\u001B[39m \u001B[38;5;241m+\u001B[39m \u001B[38;5;28mstr\u001B[39m(average_options))\n\u001B[1;32m-> 1374\u001B[0m y_type, y_true, y_pred \u001B[38;5;241m=\u001B[39m \u001B[43m_check_targets\u001B[49m\u001B[43m(\u001B[49m\u001B[43my_true\u001B[49m\u001B[43m,\u001B[49m\u001B[43m \u001B[49m\u001B[43my_pred\u001B[49m\u001B[43m)\u001B[49m\n\u001B[0;32m   1375\u001B[0m \u001B[38;5;66;03m# Convert to Python primitive type to avoid NumPy type / Python str\u001B[39;00m\n\u001B[0;32m   1376\u001B[0m \u001B[38;5;66;03m# comparison. See https://github.com/numpy/numpy/issues/6784\u001B[39;00m\n\u001B[0;32m   1377\u001B[0m present_labels \u001B[38;5;241m=\u001B[39m unique_labels(y_true, y_pred)\u001B[38;5;241m.\u001B[39mtolist()\n",
      "File \u001B[1;32m~\\Anaconda3\\lib\\site-packages\\sklearn\\metrics\\_classification.py:95\u001B[0m, in \u001B[0;36m_check_targets\u001B[1;34m(y_true, y_pred)\u001B[0m\n\u001B[0;32m     92\u001B[0m     y_type \u001B[38;5;241m=\u001B[39m {\u001B[38;5;124m\"\u001B[39m\u001B[38;5;124mmulticlass\u001B[39m\u001B[38;5;124m\"\u001B[39m}\n\u001B[0;32m     94\u001B[0m \u001B[38;5;28;01mif\u001B[39;00m \u001B[38;5;28mlen\u001B[39m(y_type) \u001B[38;5;241m>\u001B[39m \u001B[38;5;241m1\u001B[39m:\n\u001B[1;32m---> 95\u001B[0m     \u001B[38;5;28;01mraise\u001B[39;00m \u001B[38;5;167;01mValueError\u001B[39;00m(\n\u001B[0;32m     96\u001B[0m         \u001B[38;5;124m\"\u001B[39m\u001B[38;5;124mClassification metrics can\u001B[39m\u001B[38;5;124m'\u001B[39m\u001B[38;5;124mt handle a mix of \u001B[39m\u001B[38;5;132;01m{0}\u001B[39;00m\u001B[38;5;124m and \u001B[39m\u001B[38;5;132;01m{1}\u001B[39;00m\u001B[38;5;124m targets\u001B[39m\u001B[38;5;124m\"\u001B[39m\u001B[38;5;241m.\u001B[39mformat(\n\u001B[0;32m     97\u001B[0m             type_true, type_pred\n\u001B[0;32m     98\u001B[0m         )\n\u001B[0;32m     99\u001B[0m     )\n\u001B[0;32m    101\u001B[0m \u001B[38;5;66;03m# We can't have more than one value on y_type => The set is no more needed\u001B[39;00m\n\u001B[0;32m    102\u001B[0m y_type \u001B[38;5;241m=\u001B[39m y_type\u001B[38;5;241m.\u001B[39mpop()\n",
      "\u001B[1;31mValueError\u001B[0m: Classification metrics can't handle a mix of binary and continuous-multioutput targets"
     ]
    }
   ],
   "source": [],
   "metadata": {
    "collapsed": false,
    "ExecuteTime": {
     "start_time": "2023-11-27T14:49:33.845270Z",
     "end_time": "2023-11-27T14:49:33.877478Z"
    }
   }
  },
  {
   "cell_type": "code",
   "execution_count": null,
   "outputs": [],
   "source": [],
   "metadata": {
    "collapsed": false
   }
  }
 ],
 "metadata": {
  "kernelspec": {
   "display_name": "Python 3",
   "language": "python",
   "name": "python3"
  },
  "language_info": {
   "codemirror_mode": {
    "name": "ipython",
    "version": 2
   },
   "file_extension": ".py",
   "mimetype": "text/x-python",
   "name": "python",
   "nbconvert_exporter": "python",
   "pygments_lexer": "ipython2",
   "version": "2.7.6"
  }
 },
 "nbformat": 4,
 "nbformat_minor": 0
}
