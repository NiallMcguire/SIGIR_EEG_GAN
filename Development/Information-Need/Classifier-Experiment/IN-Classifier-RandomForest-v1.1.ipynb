{
 "cells": [
  {
   "cell_type": "code",
   "execution_count": 1,
   "metadata": {
    "collapsed": true,
    "ExecuteTime": {
     "start_time": "2023-11-27T15:59:05.576903Z",
     "end_time": "2023-11-27T15:59:06.316061Z"
    }
   },
   "outputs": [],
   "source": [
    "import pickle\n",
    "import pandas as pd"
   ]
  },
  {
   "cell_type": "code",
   "execution_count": 2,
   "outputs": [],
   "source": [
    "with open('10-Participant_df_dict.pkl', 'rb') as file:\n",
    "    loaded_dictionary = pickle.load(file)"
   ],
   "metadata": {
    "collapsed": false,
    "ExecuteTime": {
     "start_time": "2023-11-27T15:59:06.321407Z",
     "end_time": "2023-11-27T15:59:06.424226Z"
    }
   }
  },
  {
   "cell_type": "code",
   "execution_count": 3,
   "outputs": [
    {
     "data": {
      "text/plain": "     TimeStamp        1Mean0        2Mean0        3Mean0        4Mean0  \\\n0      115.666 -1.087528e-17 -3.113330e-16 -2.924480e-15 -1.677853e-14   \n1      117.266 -6.583364e-18  2.320108e-16  2.986084e-15  1.833788e-14   \n2      118.866 -2.873402e-18  2.135687e-16  2.566851e-15  1.732367e-14   \n3      120.466 -1.927725e-18 -4.344854e-19  1.797459e-16  4.812823e-15   \n4      122.066 -1.782237e-18 -7.163765e-19 -8.078516e-17  2.815752e-15   \n..         ...           ...           ...           ...           ...   \n160   6940.274 -1.123900e-17 -7.922902e-16 -8.456241e-15 -5.304697e-14   \n161   6941.874 -4.801128e-18 -8.462856e-17 -9.355394e-16 -7.121595e-15   \n162   6943.474 -5.237594e-18  3.571514e-16  4.499010e-15  2.972707e-14   \n163   6956.270 -7.056203e-18  4.655008e-19  8.545418e-16  1.153219e-14   \n164   6960.014 -4.546522e-18  1.013024e-15  1.254672e-14  7.477137e-14   \n\n           5Mean0        6Mean0        7Mean0        8Mean0        9Mean0  \\\n0   -7.151682e-14 -2.458818e-13 -7.112214e-13 -1.782861e-12 -3.972729e-12   \n1    7.852315e-14  2.678977e-13  7.752553e-13  1.968467e-12  4.479880e-12   \n2    8.741035e-14  3.498259e-13  1.141129e-12  3.127970e-12  7.433074e-12   \n3    4.570844e-14  2.492929e-13  9.505537e-13  2.820215e-12  6.962417e-12   \n4    4.011792e-14  2.507942e-13  1.023585e-12  3.165054e-12  8.041730e-12   \n..            ...           ...           ...           ...           ...   \n160 -2.474720e-13 -9.223929e-13 -2.839853e-12 -7.432384e-12 -1.700023e-11   \n161 -3.822630e-14 -1.518597e-13 -4.710922e-13 -1.195801e-12 -2.575715e-12   \n162  1.410947e-13  5.280207e-13  1.625975e-12  4.256036e-12  9.749184e-12   \n163  8.254790e-14  3.902433e-13  1.366112e-12  3.819966e-12  8.997635e-12   \n164  2.937967e-13  8.697706e-13  2.094143e-12  4.306096e-12  7.805999e-12   \n\n     ...  33Average_nonlinear_enegy3  34Average_nonlinear_enegy3  \\\n0    ...                       142.0                       163.0   \n1    ...                       187.0                       195.0   \n2    ...                       197.0                       197.0   \n3    ...                       193.0                       195.0   \n4    ...                       133.0                       158.0   \n..   ...                         ...                         ...   \n160  ...                       196.0                       196.0   \n161  ...                       172.0                       189.0   \n162  ...                       192.0                       196.0   \n163  ...                       171.0                       182.0   \n164  ...                       171.0                       177.0   \n\n     35Average_nonlinear_enegy3  36Average_nonlinear_enegy3  \\\n0                         168.0                       169.0   \n1                         195.0                       195.0   \n2                         197.0                       197.0   \n3                         196.0                       196.0   \n4                         166.0                       168.0   \n..                          ...                         ...   \n160                       196.0                       196.0   \n161                       191.0                       192.0   \n162                       196.0                       196.0   \n163                       183.0                       188.0   \n164                       181.0                       185.0   \n\n     37Average_nonlinear_enegy3  38Average_nonlinear_enegy3  \\\n0                         163.0                       165.0   \n1                         195.0                       194.0   \n2                         197.0                       197.0   \n3                         195.0                       193.0   \n4                         174.0                       168.0   \n..                          ...                         ...   \n160                       196.0                       196.0   \n161                       193.0                       194.0   \n162                       196.0                       196.0   \n163                       189.0                       183.0   \n164                       186.0                       184.0   \n\n     39Average_nonlinear_enegy3  40Average_nonlinear_enegy3  \\\n0                         148.0                       127.0   \n1                         185.0                       168.0   \n2                         197.0                       196.0   \n3                         191.0                       188.0   \n4                         135.0                       116.0   \n..                          ...                         ...   \n160                       196.0                       194.0   \n161                       189.0                       126.0   \n162                       196.0                       183.0   \n163                       168.0                       158.0   \n164                       154.0                       148.0   \n\n     41Average_nonlinear_enegy3  Event_ID  \n0                         157.0        22  \n1                         192.0        23  \n2                         196.0        24  \n3                         192.0        25  \n4                         143.0        26  \n..                          ...       ...  \n160                       197.0        30  \n161                       191.0        31  \n162                       197.0        32  \n163                       179.0        36  \n164                       176.0        37  \n\n[165 rows x 1150 columns]",
      "text/html": "<div>\n<style scoped>\n    .dataframe tbody tr th:only-of-type {\n        vertical-align: middle;\n    }\n\n    .dataframe tbody tr th {\n        vertical-align: top;\n    }\n\n    .dataframe thead th {\n        text-align: right;\n    }\n</style>\n<table border=\"1\" class=\"dataframe\">\n  <thead>\n    <tr style=\"text-align: right;\">\n      <th></th>\n      <th>TimeStamp</th>\n      <th>1Mean0</th>\n      <th>2Mean0</th>\n      <th>3Mean0</th>\n      <th>4Mean0</th>\n      <th>5Mean0</th>\n      <th>6Mean0</th>\n      <th>7Mean0</th>\n      <th>8Mean0</th>\n      <th>9Mean0</th>\n      <th>...</th>\n      <th>33Average_nonlinear_enegy3</th>\n      <th>34Average_nonlinear_enegy3</th>\n      <th>35Average_nonlinear_enegy3</th>\n      <th>36Average_nonlinear_enegy3</th>\n      <th>37Average_nonlinear_enegy3</th>\n      <th>38Average_nonlinear_enegy3</th>\n      <th>39Average_nonlinear_enegy3</th>\n      <th>40Average_nonlinear_enegy3</th>\n      <th>41Average_nonlinear_enegy3</th>\n      <th>Event_ID</th>\n    </tr>\n  </thead>\n  <tbody>\n    <tr>\n      <th>0</th>\n      <td>115.666</td>\n      <td>-1.087528e-17</td>\n      <td>-3.113330e-16</td>\n      <td>-2.924480e-15</td>\n      <td>-1.677853e-14</td>\n      <td>-7.151682e-14</td>\n      <td>-2.458818e-13</td>\n      <td>-7.112214e-13</td>\n      <td>-1.782861e-12</td>\n      <td>-3.972729e-12</td>\n      <td>...</td>\n      <td>142.0</td>\n      <td>163.0</td>\n      <td>168.0</td>\n      <td>169.0</td>\n      <td>163.0</td>\n      <td>165.0</td>\n      <td>148.0</td>\n      <td>127.0</td>\n      <td>157.0</td>\n      <td>22</td>\n    </tr>\n    <tr>\n      <th>1</th>\n      <td>117.266</td>\n      <td>-6.583364e-18</td>\n      <td>2.320108e-16</td>\n      <td>2.986084e-15</td>\n      <td>1.833788e-14</td>\n      <td>7.852315e-14</td>\n      <td>2.678977e-13</td>\n      <td>7.752553e-13</td>\n      <td>1.968467e-12</td>\n      <td>4.479880e-12</td>\n      <td>...</td>\n      <td>187.0</td>\n      <td>195.0</td>\n      <td>195.0</td>\n      <td>195.0</td>\n      <td>195.0</td>\n      <td>194.0</td>\n      <td>185.0</td>\n      <td>168.0</td>\n      <td>192.0</td>\n      <td>23</td>\n    </tr>\n    <tr>\n      <th>2</th>\n      <td>118.866</td>\n      <td>-2.873402e-18</td>\n      <td>2.135687e-16</td>\n      <td>2.566851e-15</td>\n      <td>1.732367e-14</td>\n      <td>8.741035e-14</td>\n      <td>3.498259e-13</td>\n      <td>1.141129e-12</td>\n      <td>3.127970e-12</td>\n      <td>7.433074e-12</td>\n      <td>...</td>\n      <td>197.0</td>\n      <td>197.0</td>\n      <td>197.0</td>\n      <td>197.0</td>\n      <td>197.0</td>\n      <td>197.0</td>\n      <td>197.0</td>\n      <td>196.0</td>\n      <td>196.0</td>\n      <td>24</td>\n    </tr>\n    <tr>\n      <th>3</th>\n      <td>120.466</td>\n      <td>-1.927725e-18</td>\n      <td>-4.344854e-19</td>\n      <td>1.797459e-16</td>\n      <td>4.812823e-15</td>\n      <td>4.570844e-14</td>\n      <td>2.492929e-13</td>\n      <td>9.505537e-13</td>\n      <td>2.820215e-12</td>\n      <td>6.962417e-12</td>\n      <td>...</td>\n      <td>193.0</td>\n      <td>195.0</td>\n      <td>196.0</td>\n      <td>196.0</td>\n      <td>195.0</td>\n      <td>193.0</td>\n      <td>191.0</td>\n      <td>188.0</td>\n      <td>192.0</td>\n      <td>25</td>\n    </tr>\n    <tr>\n      <th>4</th>\n      <td>122.066</td>\n      <td>-1.782237e-18</td>\n      <td>-7.163765e-19</td>\n      <td>-8.078516e-17</td>\n      <td>2.815752e-15</td>\n      <td>4.011792e-14</td>\n      <td>2.507942e-13</td>\n      <td>1.023585e-12</td>\n      <td>3.165054e-12</td>\n      <td>8.041730e-12</td>\n      <td>...</td>\n      <td>133.0</td>\n      <td>158.0</td>\n      <td>166.0</td>\n      <td>168.0</td>\n      <td>174.0</td>\n      <td>168.0</td>\n      <td>135.0</td>\n      <td>116.0</td>\n      <td>143.0</td>\n      <td>26</td>\n    </tr>\n    <tr>\n      <th>...</th>\n      <td>...</td>\n      <td>...</td>\n      <td>...</td>\n      <td>...</td>\n      <td>...</td>\n      <td>...</td>\n      <td>...</td>\n      <td>...</td>\n      <td>...</td>\n      <td>...</td>\n      <td>...</td>\n      <td>...</td>\n      <td>...</td>\n      <td>...</td>\n      <td>...</td>\n      <td>...</td>\n      <td>...</td>\n      <td>...</td>\n      <td>...</td>\n      <td>...</td>\n      <td>...</td>\n    </tr>\n    <tr>\n      <th>160</th>\n      <td>6940.274</td>\n      <td>-1.123900e-17</td>\n      <td>-7.922902e-16</td>\n      <td>-8.456241e-15</td>\n      <td>-5.304697e-14</td>\n      <td>-2.474720e-13</td>\n      <td>-9.223929e-13</td>\n      <td>-2.839853e-12</td>\n      <td>-7.432384e-12</td>\n      <td>-1.700023e-11</td>\n      <td>...</td>\n      <td>196.0</td>\n      <td>196.0</td>\n      <td>196.0</td>\n      <td>196.0</td>\n      <td>196.0</td>\n      <td>196.0</td>\n      <td>196.0</td>\n      <td>194.0</td>\n      <td>197.0</td>\n      <td>30</td>\n    </tr>\n    <tr>\n      <th>161</th>\n      <td>6941.874</td>\n      <td>-4.801128e-18</td>\n      <td>-8.462856e-17</td>\n      <td>-9.355394e-16</td>\n      <td>-7.121595e-15</td>\n      <td>-3.822630e-14</td>\n      <td>-1.518597e-13</td>\n      <td>-4.710922e-13</td>\n      <td>-1.195801e-12</td>\n      <td>-2.575715e-12</td>\n      <td>...</td>\n      <td>172.0</td>\n      <td>189.0</td>\n      <td>191.0</td>\n      <td>192.0</td>\n      <td>193.0</td>\n      <td>194.0</td>\n      <td>189.0</td>\n      <td>126.0</td>\n      <td>191.0</td>\n      <td>31</td>\n    </tr>\n    <tr>\n      <th>162</th>\n      <td>6943.474</td>\n      <td>-5.237594e-18</td>\n      <td>3.571514e-16</td>\n      <td>4.499010e-15</td>\n      <td>2.972707e-14</td>\n      <td>1.410947e-13</td>\n      <td>5.280207e-13</td>\n      <td>1.625975e-12</td>\n      <td>4.256036e-12</td>\n      <td>9.749184e-12</td>\n      <td>...</td>\n      <td>192.0</td>\n      <td>196.0</td>\n      <td>196.0</td>\n      <td>196.0</td>\n      <td>196.0</td>\n      <td>196.0</td>\n      <td>196.0</td>\n      <td>183.0</td>\n      <td>197.0</td>\n      <td>32</td>\n    </tr>\n    <tr>\n      <th>163</th>\n      <td>6956.270</td>\n      <td>-7.056203e-18</td>\n      <td>4.655008e-19</td>\n      <td>8.545418e-16</td>\n      <td>1.153219e-14</td>\n      <td>8.254790e-14</td>\n      <td>3.902433e-13</td>\n      <td>1.366112e-12</td>\n      <td>3.819966e-12</td>\n      <td>8.997635e-12</td>\n      <td>...</td>\n      <td>171.0</td>\n      <td>182.0</td>\n      <td>183.0</td>\n      <td>188.0</td>\n      <td>189.0</td>\n      <td>183.0</td>\n      <td>168.0</td>\n      <td>158.0</td>\n      <td>179.0</td>\n      <td>36</td>\n    </tr>\n    <tr>\n      <th>164</th>\n      <td>6960.014</td>\n      <td>-4.546522e-18</td>\n      <td>1.013024e-15</td>\n      <td>1.254672e-14</td>\n      <td>7.477137e-14</td>\n      <td>2.937967e-13</td>\n      <td>8.697706e-13</td>\n      <td>2.094143e-12</td>\n      <td>4.306096e-12</td>\n      <td>7.805999e-12</td>\n      <td>...</td>\n      <td>171.0</td>\n      <td>177.0</td>\n      <td>181.0</td>\n      <td>185.0</td>\n      <td>186.0</td>\n      <td>184.0</td>\n      <td>154.0</td>\n      <td>148.0</td>\n      <td>176.0</td>\n      <td>37</td>\n    </tr>\n  </tbody>\n</table>\n<p>165 rows × 1150 columns</p>\n</div>"
     },
     "execution_count": 3,
     "metadata": {},
     "output_type": "execute_result"
    }
   ],
   "source": [
    "loaded_dictionary[\"01\"][0]"
   ],
   "metadata": {
    "collapsed": false,
    "ExecuteTime": {
     "start_time": "2023-11-27T15:59:06.424226Z",
     "end_time": "2023-11-27T15:59:06.471957Z"
    }
   }
  },
  {
   "cell_type": "code",
   "execution_count": 36,
   "outputs": [],
   "source": [
    "def create_all_participant_df(loaded_dictionary):\n",
    "    all_participant_NeedToSearch = pd.DataFrame()\n",
    "    all_participant_CorrectSearch = pd.DataFrame()\n",
    "    all_participant_IncorrectSearch = pd.DataFrame()\n",
    "    for key in loaded_dictionary.keys():\n",
    "\n",
    "        if key != \"06\":\n",
    "            all_participant_NeedToSearch = all_participant_NeedToSearch.append(loaded_dictionary[key][0])\n",
    "\n",
    "        all_participant_CorrectSearch = all_participant_CorrectSearch.append(loaded_dictionary[key][1])\n",
    "        all_participant_IncorrectSearch = all_participant_IncorrectSearch.append(loaded_dictionary[key][2])\n",
    "\n",
    "    all_participant_NeedToSearch['Label'] = 0\n",
    "    all_participant_CorrectSearch['Label'] = 1\n",
    "    all_participant_IncorrectSearch['Label'] = 1\n",
    "\n",
    "    all_participant_NeedToSearch = all_participant_NeedToSearch.dropna()\n",
    "    all_participant_CorrectSearch = all_participant_CorrectSearch.dropna()\n",
    "    all_participant_IncorrectSearch = all_participant_IncorrectSearch.dropna()\n",
    "\n",
    "    return all_participant_NeedToSearch, all_participant_CorrectSearch, all_participant_IncorrectSearch"
   ],
   "metadata": {
    "collapsed": false,
    "ExecuteTime": {
     "start_time": "2023-11-27T16:04:42.207982Z",
     "end_time": "2023-11-27T16:04:42.240069Z"
    }
   }
  },
  {
   "cell_type": "code",
   "execution_count": 56,
   "outputs": [
    {
     "name": "stderr",
     "output_type": "stream",
     "text": [
      "C:\\Users\\gxb18167\\AppData\\Local\\Temp\\ipykernel_18500\\3216284455.py:8: FutureWarning: The frame.append method is deprecated and will be removed from pandas in a future version. Use pandas.concat instead.\n",
      "  all_participant_NeedToSearch = all_participant_NeedToSearch.append(loaded_dictionary[key][0])\n",
      "C:\\Users\\gxb18167\\AppData\\Local\\Temp\\ipykernel_18500\\3216284455.py:10: FutureWarning: The frame.append method is deprecated and will be removed from pandas in a future version. Use pandas.concat instead.\n",
      "  all_participant_CorrectSearch = all_participant_CorrectSearch.append(loaded_dictionary[key][1])\n",
      "C:\\Users\\gxb18167\\AppData\\Local\\Temp\\ipykernel_18500\\3216284455.py:11: FutureWarning: The frame.append method is deprecated and will be removed from pandas in a future version. Use pandas.concat instead.\n",
      "  all_participant_IncorrectSearch = all_participant_IncorrectSearch.append(loaded_dictionary[key][2])\n",
      "C:\\Users\\gxb18167\\AppData\\Local\\Temp\\ipykernel_18500\\3216284455.py:10: FutureWarning: The frame.append method is deprecated and will be removed from pandas in a future version. Use pandas.concat instead.\n",
      "  all_participant_CorrectSearch = all_participant_CorrectSearch.append(loaded_dictionary[key][1])\n",
      "C:\\Users\\gxb18167\\AppData\\Local\\Temp\\ipykernel_18500\\3216284455.py:11: FutureWarning: The frame.append method is deprecated and will be removed from pandas in a future version. Use pandas.concat instead.\n",
      "  all_participant_IncorrectSearch = all_participant_IncorrectSearch.append(loaded_dictionary[key][2])\n",
      "C:\\Users\\gxb18167\\AppData\\Local\\Temp\\ipykernel_18500\\3216284455.py:8: FutureWarning: The frame.append method is deprecated and will be removed from pandas in a future version. Use pandas.concat instead.\n",
      "  all_participant_NeedToSearch = all_participant_NeedToSearch.append(loaded_dictionary[key][0])\n",
      "C:\\Users\\gxb18167\\AppData\\Local\\Temp\\ipykernel_18500\\3216284455.py:10: FutureWarning: The frame.append method is deprecated and will be removed from pandas in a future version. Use pandas.concat instead.\n",
      "  all_participant_CorrectSearch = all_participant_CorrectSearch.append(loaded_dictionary[key][1])\n",
      "C:\\Users\\gxb18167\\AppData\\Local\\Temp\\ipykernel_18500\\3216284455.py:11: FutureWarning: The frame.append method is deprecated and will be removed from pandas in a future version. Use pandas.concat instead.\n",
      "  all_participant_IncorrectSearch = all_participant_IncorrectSearch.append(loaded_dictionary[key][2])\n",
      "C:\\Users\\gxb18167\\AppData\\Local\\Temp\\ipykernel_18500\\3216284455.py:8: FutureWarning: The frame.append method is deprecated and will be removed from pandas in a future version. Use pandas.concat instead.\n",
      "  all_participant_NeedToSearch = all_participant_NeedToSearch.append(loaded_dictionary[key][0])\n",
      "C:\\Users\\gxb18167\\AppData\\Local\\Temp\\ipykernel_18500\\3216284455.py:10: FutureWarning: The frame.append method is deprecated and will be removed from pandas in a future version. Use pandas.concat instead.\n",
      "  all_participant_CorrectSearch = all_participant_CorrectSearch.append(loaded_dictionary[key][1])\n",
      "C:\\Users\\gxb18167\\AppData\\Local\\Temp\\ipykernel_18500\\3216284455.py:11: FutureWarning: The frame.append method is deprecated and will be removed from pandas in a future version. Use pandas.concat instead.\n",
      "  all_participant_IncorrectSearch = all_participant_IncorrectSearch.append(loaded_dictionary[key][2])\n",
      "C:\\Users\\gxb18167\\AppData\\Local\\Temp\\ipykernel_18500\\3216284455.py:10: FutureWarning: The frame.append method is deprecated and will be removed from pandas in a future version. Use pandas.concat instead.\n",
      "  all_participant_CorrectSearch = all_participant_CorrectSearch.append(loaded_dictionary[key][1])\n",
      "C:\\Users\\gxb18167\\AppData\\Local\\Temp\\ipykernel_18500\\3216284455.py:11: FutureWarning: The frame.append method is deprecated and will be removed from pandas in a future version. Use pandas.concat instead.\n",
      "  all_participant_IncorrectSearch = all_participant_IncorrectSearch.append(loaded_dictionary[key][2])\n",
      "C:\\Users\\gxb18167\\AppData\\Local\\Temp\\ipykernel_18500\\3216284455.py:8: FutureWarning: The frame.append method is deprecated and will be removed from pandas in a future version. Use pandas.concat instead.\n",
      "  all_participant_NeedToSearch = all_participant_NeedToSearch.append(loaded_dictionary[key][0])\n",
      "C:\\Users\\gxb18167\\AppData\\Local\\Temp\\ipykernel_18500\\3216284455.py:10: FutureWarning: The frame.append method is deprecated and will be removed from pandas in a future version. Use pandas.concat instead.\n",
      "  all_participant_CorrectSearch = all_participant_CorrectSearch.append(loaded_dictionary[key][1])\n",
      "C:\\Users\\gxb18167\\AppData\\Local\\Temp\\ipykernel_18500\\3216284455.py:11: FutureWarning: The frame.append method is deprecated and will be removed from pandas in a future version. Use pandas.concat instead.\n",
      "  all_participant_IncorrectSearch = all_participant_IncorrectSearch.append(loaded_dictionary[key][2])\n",
      "C:\\Users\\gxb18167\\AppData\\Local\\Temp\\ipykernel_18500\\3216284455.py:8: FutureWarning: The frame.append method is deprecated and will be removed from pandas in a future version. Use pandas.concat instead.\n",
      "  all_participant_NeedToSearch = all_participant_NeedToSearch.append(loaded_dictionary[key][0])\n",
      "C:\\Users\\gxb18167\\AppData\\Local\\Temp\\ipykernel_18500\\3216284455.py:10: FutureWarning: The frame.append method is deprecated and will be removed from pandas in a future version. Use pandas.concat instead.\n",
      "  all_participant_CorrectSearch = all_participant_CorrectSearch.append(loaded_dictionary[key][1])\n",
      "C:\\Users\\gxb18167\\AppData\\Local\\Temp\\ipykernel_18500\\3216284455.py:11: FutureWarning: The frame.append method is deprecated and will be removed from pandas in a future version. Use pandas.concat instead.\n",
      "  all_participant_IncorrectSearch = all_participant_IncorrectSearch.append(loaded_dictionary[key][2])\n",
      "C:\\Users\\gxb18167\\AppData\\Local\\Temp\\ipykernel_18500\\3216284455.py:8: FutureWarning: The frame.append method is deprecated and will be removed from pandas in a future version. Use pandas.concat instead.\n",
      "  all_participant_NeedToSearch = all_participant_NeedToSearch.append(loaded_dictionary[key][0])\n",
      "C:\\Users\\gxb18167\\AppData\\Local\\Temp\\ipykernel_18500\\3216284455.py:10: FutureWarning: The frame.append method is deprecated and will be removed from pandas in a future version. Use pandas.concat instead.\n",
      "  all_participant_CorrectSearch = all_participant_CorrectSearch.append(loaded_dictionary[key][1])\n",
      "C:\\Users\\gxb18167\\AppData\\Local\\Temp\\ipykernel_18500\\3216284455.py:11: FutureWarning: The frame.append method is deprecated and will be removed from pandas in a future version. Use pandas.concat instead.\n",
      "  all_participant_IncorrectSearch = all_participant_IncorrectSearch.append(loaded_dictionary[key][2])\n"
     ]
    }
   ],
   "source": [
    "all_participant_NeedToSearch, all_participant_CorrectSearch, all_participant_IncorrectSearch = create_all_participant_df(loaded_dictionary)"
   ],
   "metadata": {
    "collapsed": false,
    "ExecuteTime": {
     "start_time": "2023-11-27T16:05:49.089234Z",
     "end_time": "2023-11-27T16:05:49.396583Z"
    }
   }
  },
  {
   "cell_type": "code",
   "execution_count": 179,
   "outputs": [],
   "source": [
    "X_CorrectSearch = all_participant_CorrectSearch.sample(n=606, random_state=1)\n",
    "X_IncorrectSearch = all_participant_IncorrectSearch.sample(n=607, random_state=1)"
   ],
   "metadata": {
    "collapsed": false,
    "ExecuteTime": {
     "start_time": "2023-11-27T16:16:01.798078Z",
     "end_time": "2023-11-27T16:16:01.830070Z"
    }
   }
  },
  {
   "cell_type": "code",
   "execution_count": 179,
   "outputs": [],
   "source": [],
   "metadata": {
    "collapsed": false,
    "ExecuteTime": {
     "start_time": "2023-11-27T16:16:02.038094Z",
     "end_time": "2023-11-27T16:16:02.054731Z"
    }
   }
  },
  {
   "cell_type": "code",
   "execution_count": 180,
   "outputs": [],
   "source": [
    "X_dataframe = pd.concat([all_participant_NeedToSearch, X_CorrectSearch, X_IncorrectSearch])"
   ],
   "metadata": {
    "collapsed": false,
    "ExecuteTime": {
     "start_time": "2023-11-27T16:16:02.365479Z",
     "end_time": "2023-11-27T16:16:02.409890Z"
    }
   }
  },
  {
   "cell_type": "code",
   "execution_count": 181,
   "outputs": [
    {
     "data": {
      "text/plain": "1    1213\n0    1200\nName: Label, dtype: int64"
     },
     "execution_count": 181,
     "metadata": {},
     "output_type": "execute_result"
    }
   ],
   "source": [
    "X_dataframe['Label'].value_counts()"
   ],
   "metadata": {
    "collapsed": false,
    "ExecuteTime": {
     "start_time": "2023-11-27T16:16:02.769263Z",
     "end_time": "2023-11-27T16:16:02.796289Z"
    }
   }
  },
  {
   "cell_type": "code",
   "execution_count": 182,
   "outputs": [],
   "source": [],
   "metadata": {
    "collapsed": false,
    "ExecuteTime": {
     "start_time": "2023-11-27T16:16:16.058992Z",
     "end_time": "2023-11-27T16:16:16.079371Z"
    }
   }
  },
  {
   "cell_type": "code",
   "execution_count": 182,
   "outputs": [],
   "source": [],
   "metadata": {
    "collapsed": false,
    "ExecuteTime": {
     "start_time": "2023-11-27T16:16:16.537082Z",
     "end_time": "2023-11-27T16:16:16.587031Z"
    }
   }
  },
  {
   "cell_type": "code",
   "execution_count": 182,
   "outputs": [],
   "source": [],
   "metadata": {
    "collapsed": false,
    "ExecuteTime": {
     "start_time": "2023-11-27T16:16:17.281477Z",
     "end_time": "2023-11-27T16:16:17.282953Z"
    }
   }
  },
  {
   "cell_type": "code",
   "execution_count": 183,
   "outputs": [],
   "source": [
    "Y_dataframe = X_dataframe['Label']\n",
    "X_dataframe = X_dataframe.drop(['Label', 'TimeStamp', \"Event_ID\"], axis=1)"
   ],
   "metadata": {
    "collapsed": false,
    "ExecuteTime": {
     "start_time": "2023-11-27T16:16:26.409274Z",
     "end_time": "2023-11-27T16:16:26.438201Z"
    }
   }
  },
  {
   "cell_type": "code",
   "execution_count": 183,
   "outputs": [],
   "source": [],
   "metadata": {
    "collapsed": false,
    "ExecuteTime": {
     "start_time": "2023-11-27T16:16:26.886322Z",
     "end_time": "2023-11-27T16:16:26.919023Z"
    }
   }
  },
  {
   "cell_type": "code",
   "execution_count": 184,
   "outputs": [
    {
     "name": "stdout",
     "output_type": "stream",
     "text": [
      "2413\n",
      "2413\n"
     ]
    }
   ],
   "source": [
    "print(len(X_dataframe))\n",
    "print(len(Y_dataframe))"
   ],
   "metadata": {
    "collapsed": false,
    "ExecuteTime": {
     "start_time": "2023-11-27T16:16:27.254735Z",
     "end_time": "2023-11-27T16:16:27.276585Z"
    }
   }
  },
  {
   "cell_type": "code",
   "execution_count": 185,
   "outputs": [],
   "source": [
    "from sklearn.metrics import precision_recall_fscore_support, accuracy_score\n",
    "\n",
    "\n",
    "def get_metrics(model, X_Test, Y_Test):\n",
    "    y_pred = model.predict(X_Test)\n",
    "    precision, recall, f1, support = precision_recall_fscore_support(Y_Test, y_pred, average='weighted')\n",
    "    accuracy = accuracy_score(Y_Test, y_pred)\n",
    "    print(precision, recall, f1, accuracy)\n",
    "    metrics = [precision, recall, f1, accuracy]\n",
    "    return accuracy"
   ],
   "metadata": {
    "collapsed": false,
    "ExecuteTime": {
     "start_time": "2023-11-27T16:16:28.907490Z",
     "end_time": "2023-11-27T16:16:28.940652Z"
    }
   }
  },
  {
   "cell_type": "code",
   "execution_count": 186,
   "outputs": [],
   "source": [
    "from sklearn.model_selection import train_test_split\n",
    "from sklearn.ensemble import RandomForestClassifier\n",
    "\n",
    "X_train, X_test, y_train, y_test = train_test_split(X_dataframe, Y_dataframe, test_size=0.2, random_state=1)"
   ],
   "metadata": {
    "collapsed": false,
    "ExecuteTime": {
     "start_time": "2023-11-27T16:16:29.476951Z",
     "end_time": "2023-11-27T16:16:29.528934Z"
    }
   }
  },
  {
   "cell_type": "code",
   "execution_count": 186,
   "outputs": [],
   "source": [],
   "metadata": {
    "collapsed": false,
    "ExecuteTime": {
     "start_time": "2023-11-27T16:16:29.821105Z",
     "end_time": "2023-11-27T16:16:29.844582Z"
    }
   }
  },
  {
   "cell_type": "code",
   "execution_count": 187,
   "outputs": [
    {
     "data": {
      "text/plain": "RandomForestClassifier(max_depth=15, random_state=1)",
      "text/html": "<style>#sk-container-id-21 {color: black;background-color: white;}#sk-container-id-21 pre{padding: 0;}#sk-container-id-21 div.sk-toggleable {background-color: white;}#sk-container-id-21 label.sk-toggleable__label {cursor: pointer;display: block;width: 100%;margin-bottom: 0;padding: 0.3em;box-sizing: border-box;text-align: center;}#sk-container-id-21 label.sk-toggleable__label-arrow:before {content: \"▸\";float: left;margin-right: 0.25em;color: #696969;}#sk-container-id-21 label.sk-toggleable__label-arrow:hover:before {color: black;}#sk-container-id-21 div.sk-estimator:hover label.sk-toggleable__label-arrow:before {color: black;}#sk-container-id-21 div.sk-toggleable__content {max-height: 0;max-width: 0;overflow: hidden;text-align: left;background-color: #f0f8ff;}#sk-container-id-21 div.sk-toggleable__content pre {margin: 0.2em;color: black;border-radius: 0.25em;background-color: #f0f8ff;}#sk-container-id-21 input.sk-toggleable__control:checked~div.sk-toggleable__content {max-height: 200px;max-width: 100%;overflow: auto;}#sk-container-id-21 input.sk-toggleable__control:checked~label.sk-toggleable__label-arrow:before {content: \"▾\";}#sk-container-id-21 div.sk-estimator input.sk-toggleable__control:checked~label.sk-toggleable__label {background-color: #d4ebff;}#sk-container-id-21 div.sk-label input.sk-toggleable__control:checked~label.sk-toggleable__label {background-color: #d4ebff;}#sk-container-id-21 input.sk-hidden--visually {border: 0;clip: rect(1px 1px 1px 1px);clip: rect(1px, 1px, 1px, 1px);height: 1px;margin: -1px;overflow: hidden;padding: 0;position: absolute;width: 1px;}#sk-container-id-21 div.sk-estimator {font-family: monospace;background-color: #f0f8ff;border: 1px dotted black;border-radius: 0.25em;box-sizing: border-box;margin-bottom: 0.5em;}#sk-container-id-21 div.sk-estimator:hover {background-color: #d4ebff;}#sk-container-id-21 div.sk-parallel-item::after {content: \"\";width: 100%;border-bottom: 1px solid gray;flex-grow: 1;}#sk-container-id-21 div.sk-label:hover label.sk-toggleable__label {background-color: #d4ebff;}#sk-container-id-21 div.sk-serial::before {content: \"\";position: absolute;border-left: 1px solid gray;box-sizing: border-box;top: 0;bottom: 0;left: 50%;z-index: 0;}#sk-container-id-21 div.sk-serial {display: flex;flex-direction: column;align-items: center;background-color: white;padding-right: 0.2em;padding-left: 0.2em;position: relative;}#sk-container-id-21 div.sk-item {position: relative;z-index: 1;}#sk-container-id-21 div.sk-parallel {display: flex;align-items: stretch;justify-content: center;background-color: white;position: relative;}#sk-container-id-21 div.sk-item::before, #sk-container-id-21 div.sk-parallel-item::before {content: \"\";position: absolute;border-left: 1px solid gray;box-sizing: border-box;top: 0;bottom: 0;left: 50%;z-index: -1;}#sk-container-id-21 div.sk-parallel-item {display: flex;flex-direction: column;z-index: 1;position: relative;background-color: white;}#sk-container-id-21 div.sk-parallel-item:first-child::after {align-self: flex-end;width: 50%;}#sk-container-id-21 div.sk-parallel-item:last-child::after {align-self: flex-start;width: 50%;}#sk-container-id-21 div.sk-parallel-item:only-child::after {width: 0;}#sk-container-id-21 div.sk-dashed-wrapped {border: 1px dashed gray;margin: 0 0.4em 0.5em 0.4em;box-sizing: border-box;padding-bottom: 0.4em;background-color: white;}#sk-container-id-21 div.sk-label label {font-family: monospace;font-weight: bold;display: inline-block;line-height: 1.2em;}#sk-container-id-21 div.sk-label-container {text-align: center;}#sk-container-id-21 div.sk-container {/* jupyter's `normalize.less` sets `[hidden] { display: none; }` but bootstrap.min.css set `[hidden] { display: none !important; }` so we also need the `!important` here to be able to override the default hidden behavior on the sphinx rendered scikit-learn.org. See: https://github.com/scikit-learn/scikit-learn/issues/21755 */display: inline-block !important;position: relative;}#sk-container-id-21 div.sk-text-repr-fallback {display: none;}</style><div id=\"sk-container-id-21\" class=\"sk-top-container\"><div class=\"sk-text-repr-fallback\"><pre>RandomForestClassifier(max_depth=15, random_state=1)</pre><b>In a Jupyter environment, please rerun this cell to show the HTML representation or trust the notebook. <br />On GitHub, the HTML representation is unable to render, please try loading this page with nbviewer.org.</b></div><div class=\"sk-container\" hidden><div class=\"sk-item\"><div class=\"sk-estimator sk-toggleable\"><input class=\"sk-toggleable__control sk-hidden--visually\" id=\"sk-estimator-id-21\" type=\"checkbox\" checked><label for=\"sk-estimator-id-21\" class=\"sk-toggleable__label sk-toggleable__label-arrow\">RandomForestClassifier</label><div class=\"sk-toggleable__content\"><pre>RandomForestClassifier(max_depth=15, random_state=1)</pre></div></div></div></div></div>"
     },
     "execution_count": 187,
     "metadata": {},
     "output_type": "execute_result"
    }
   ],
   "source": [
    "clf = RandomForestClassifier(max_depth=15, random_state=1)\n",
    "clf.fit(X_train, y_train)"
   ],
   "metadata": {
    "collapsed": false,
    "ExecuteTime": {
     "start_time": "2023-11-27T16:16:30.337623Z",
     "end_time": "2023-11-27T16:16:34.483007Z"
    }
   }
  },
  {
   "cell_type": "code",
   "execution_count": 188,
   "outputs": [
    {
     "name": "stdout",
     "output_type": "stream",
     "text": [
      "0.5795715266202569 0.577639751552795 0.5778027103563834 0.577639751552795\n",
      "0.577639751552795\n"
     ]
    }
   ],
   "source": [
    "metrics = get_metrics(clf, X_test, y_test)\n",
    "\n",
    "print(metrics)"
   ],
   "metadata": {
    "collapsed": false,
    "ExecuteTime": {
     "start_time": "2023-11-27T16:16:35.697710Z",
     "end_time": "2023-11-27T16:16:35.757038Z"
    }
   }
  },
  {
   "cell_type": "code",
   "execution_count": 189,
   "outputs": [],
   "source": [
    "import numpy as np\n",
    "from matplotlib import pyplot as plt\n",
    "from sklearn.metrics import classification_report, confusion_matrix\n",
    "import seaborn as sns\n",
    "\n",
    "\n",
    "def create_confusion_matrix_plot(model, X_Test, Y_Test, classes,show_plot=False):\n",
    "    \"\"\"\n",
    "    Creator : Niall\n",
    "\n",
    "    Function used to print a confusion matrix and classification report for a given model\n",
    "\n",
    "    Args:\n",
    "        model: the trained model\n",
    "        X_Test: the X test data\n",
    "        Y_Test: the Y labels for the test data\n",
    "        classes: a list containing the class names as string\n",
    "\n",
    "    Returns:\n",
    "        prints the confusion matrix and returns a dictionary containing the classification report\n",
    "\n",
    "    \"\"\"\n",
    "    y_pred = model.predict(X_Test)\n",
    "\n",
    "    clr = classification_report(Y_Test, y_pred, target_names=classes)\n",
    "    dict_clr = classification_report(Y_Test, y_pred, target_names=classes, output_dict=True)\n",
    "\n",
    "    cm = confusion_matrix(Y_Test, y_pred)\n",
    "\n",
    "\n",
    "    if show_plot:\n",
    "        plt.figure(figsize=(8, 8))\n",
    "        sns.heatmap(cm, annot=True, vmin=0, fmt='g', cbar=False, cmap='Blues')\n",
    "        plt.tick_params(labelsize=25)\n",
    "        plt.xticks(np.arange(len(classes)) + 0.5, classes)\n",
    "        plt.yticks(np.arange(len(classes)) + 0.5, classes)\n",
    "        plt.xlabel(\"Predicted\", fontdict={'size': 25})\n",
    "        plt.ylabel(\"Actual\", fontdict={'size': 25})\n",
    "        plt.title(\"Confusion Matrix\", fontdict={'size': 25})\n",
    "        plt.savefig(\"ConfusionMatrix.png\")\n",
    "        plt.show()\n",
    "\n",
    "\n",
    "    print(\"Classification Report:\\n----------------------\\n\", clr)\n",
    "    return cm,dict_clr"
   ],
   "metadata": {
    "collapsed": false,
    "ExecuteTime": {
     "start_time": "2023-11-27T16:16:36.967091Z",
     "end_time": "2023-11-27T16:16:36.982956Z"
    }
   }
  },
  {
   "cell_type": "code",
   "execution_count": 190,
   "outputs": [
    {
     "data": {
      "text/plain": "<Figure size 800x800 with 1 Axes>",
      "image/png": "[encoded data removed]"
     },
     "metadata": {},
     "output_type": "display_data"
    },
    {
     "name": "stdout",
     "output_type": "stream",
     "text": [
      "Classification Report:\n",
      "----------------------\n",
      "               precision    recall  f1-score   support\n",
      "\n",
      "          IN       0.55      0.60      0.57       230\n",
      "        NoIN       0.60      0.56      0.58       253\n",
      "\n",
      "    accuracy                           0.58       483\n",
      "   macro avg       0.58      0.58      0.58       483\n",
      "weighted avg       0.58      0.58      0.58       483\n",
      "\n"
     ]
    },
    {
     "data": {
      "text/plain": "(array([[137,  93],\n        [111, 142]], dtype=int64),\n {'IN': {'precision': 0.5524193548387096,\n   'recall': 0.5956521739130435,\n   'f1-score': 0.5732217573221757,\n   'support': 230},\n  'NoIN': {'precision': 0.6042553191489362,\n   'recall': 0.5612648221343873,\n   'f1-score': 0.581967213114754,\n   'support': 253},\n  'accuracy': 0.577639751552795,\n  'macro avg': {'precision': 0.578337336993823,\n   'recall': 0.5784584980237154,\n   'f1-score': 0.5775944852184649,\n   'support': 483},\n  'weighted avg': {'precision': 0.5795715266202569,\n   'recall': 0.577639751552795,\n   'f1-score': 0.5778027103563834,\n   'support': 483}})"
     },
     "execution_count": 190,
     "metadata": {},
     "output_type": "execute_result"
    }
   ],
   "source": [
    "create_confusion_matrix_plot(clf, X_test, y_test, [\"IN\", \"NoIN\"], show_plot=True)"
   ],
   "metadata": {
    "collapsed": false,
    "ExecuteTime": {
     "start_time": "2023-11-27T16:16:37.663391Z",
     "end_time": "2023-11-27T16:16:37.901987Z"
    }
   }
  },
  {
   "cell_type": "code",
   "execution_count": null,
   "outputs": [],
   "source": [],
   "metadata": {
    "collapsed": false
   }
  }
 ],
 "metadata": {
  "kernelspec": {
   "display_name": "Python 3",
   "language": "python",
   "name": "python3"
  },
  "language_info": {
   "codemirror_mode": {
    "name": "ipython",
    "version": 2
   },
   "file_extension": ".py",
   "mimetype": "text/x-python",
   "name": "python",
   "nbconvert_exporter": "python",
   "pygments_lexer": "ipython2",
   "version": "2.7.6"
  }
 },
 "nbformat": 4,
 "nbformat_minor": 0
}
