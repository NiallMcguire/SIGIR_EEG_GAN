{
 "cells": [
  {
   "cell_type": "code",
   "execution_count": 1,
   "metadata": {
    "collapsed": true,
    "ExecuteTime": {
     "start_time": "2023-11-27T13:56:46.509448Z",
     "end_time": "2023-11-27T13:56:47.858654Z"
    }
   },
   "outputs": [
    {
     "name": "stdout",
     "output_type": "stream",
     "text": [
      "haar family: haar\n",
      "db family: db1, db2, db3, db4, db5, db6, db7, db8, db9, db10, db11, db12, db13, db14, db15, db16, db17, db18, db19, db20, db21, db22, db23, db24, db25, db26, db27, db28, db29, db30, db31, db32, db33, db34, db35, db36, db37, db38\n",
      "sym family: sym2, sym3, sym4, sym5, sym6, sym7, sym8, sym9, sym10, sym11, sym12, sym13, sym14, sym15, sym16, sym17, sym18, sym19, sym20\n",
      "coif family: coif1, coif2, coif3, coif4, coif5, coif6, coif7, coif8, coif9, coif10, coif11, coif12, coif13, coif14, coif15, coif16, coif17\n",
      "bior family: bior1.1, bior1.3, bior1.5, bior2.2, bior2.4, bior2.6, bior2.8, bior3.1, bior3.3, bior3.5, bior3.7, bior3.9, bior4.4, bior5.5, bior6.8\n",
      "rbio family: rbio1.1, rbio1.3, rbio1.5, rbio2.2, rbio2.4, rbio2.6, rbio2.8, rbio3.1, rbio3.3, rbio3.5, rbio3.7, rbio3.9, rbio4.4, rbio5.5, rbio6.8\n",
      "dmey family: dmey\n",
      "gaus family: gaus1, gaus2, gaus3, gaus4, gaus5, gaus6, gaus7, gaus8\n",
      "mexh family: mexh\n",
      "morl family: morl\n",
      "cgau family: cgau1, cgau2, cgau3, cgau4, cgau5, cgau6, cgau7, cgau8\n",
      "shan family: shan\n",
      "fbsp family: fbsp\n",
      "cmor family: cmor\n"
     ]
    }
   ],
   "source": [
    "import pickle\n",
    "import Feature_Extraction\n",
    "import pandas as pd"
   ]
  },
  {
   "cell_type": "code",
   "execution_count": 2,
   "outputs": [],
   "source": [
    "fe = Feature_Extraction.FeatureExtraction()"
   ],
   "metadata": {
    "collapsed": false,
    "ExecuteTime": {
     "start_time": "2023-11-27T13:56:47.862969Z",
     "end_time": "2023-11-27T13:56:47.906327Z"
    }
   }
  },
  {
   "cell_type": "code",
   "execution_count": 3,
   "outputs": [],
   "source": [
    "def load_in_participant_data(path):\n",
    "    with open(path, 'rb') as pickle_file:\n",
    "        loaded_data = pickle.load(pickle_file)\n",
    "\n",
    "    NeedToSearch = loaded_data['NeedToSearch']\n",
    "    CorrectSearch = loaded_data['CorrectSearch']\n",
    "    IncorrectSearch = loaded_data['IncorrectSearch']\n",
    "\n",
    "    return NeedToSearch, CorrectSearch, IncorrectSearch"
   ],
   "metadata": {
    "collapsed": false,
    "ExecuteTime": {
     "start_time": "2023-11-27T13:56:47.874843Z",
     "end_time": "2023-11-27T13:56:47.906814Z"
    }
   }
  },
  {
   "cell_type": "code",
   "execution_count": 29,
   "outputs": [],
   "source": [
    "def search_condition_feature_dataframe(SearchFeatures):\n",
    "    feature_set = []\n",
    "    if len(SearchFeatures[0]) == 0:\n",
    "        return 0\n",
    "    for i in range(len(SearchFeatures[0])):\n",
    "        EEG_features = fe.format_features(SearchFeatures[0][i])\n",
    "        feature_set.append(EEG_features)\n",
    "    result_df = pd.concat(feature_set, ignore_index=True)\n",
    "    result_df['Event_ID'] = SearchFeatures[1]\n",
    "    return result_df\n"
   ],
   "metadata": {
    "collapsed": false,
    "ExecuteTime": {
     "start_time": "2023-11-27T14:12:54.756204Z",
     "end_time": "2023-11-27T14:12:54.773928Z"
    }
   }
  },
  {
   "cell_type": "code",
   "execution_count": 29,
   "outputs": [],
   "source": [],
   "metadata": {
    "collapsed": false,
    "ExecuteTime": {
     "start_time": "2023-11-27T14:12:55.189216Z",
     "end_time": "2023-11-27T14:12:55.204763Z"
    }
   }
  },
  {
   "cell_type": "code",
   "execution_count": 29,
   "outputs": [],
   "source": [],
   "metadata": {
    "collapsed": false,
    "ExecuteTime": {
     "start_time": "2023-11-27T14:12:55.379059Z",
     "end_time": "2023-11-27T14:12:55.412510Z"
    }
   }
  },
  {
   "cell_type": "code",
   "execution_count": 29,
   "outputs": [],
   "source": [],
   "metadata": {
    "collapsed": false,
    "ExecuteTime": {
     "start_time": "2023-11-27T14:12:55.669355Z",
     "end_time": "2023-11-27T14:12:55.684638Z"
    }
   }
  },
  {
   "cell_type": "code",
   "execution_count": 32,
   "outputs": [],
   "source": [
    "ParticipantList = [\"01\", \"02\", \"03\", \"04\", \"05\", \"06\", \"08\", \"09\", \"10\"]"
   ],
   "metadata": {
    "collapsed": false,
    "ExecuteTime": {
     "start_time": "2023-11-27T14:13:19.358049Z",
     "end_time": "2023-11-27T14:13:19.367899Z"
    }
   }
  },
  {
   "cell_type": "code",
   "execution_count": 33,
   "outputs": [
    {
     "name": "stdout",
     "output_type": "stream",
     "text": [
      "Loading in participant 01 data\n",
      "Loading in participant 02 data\n",
      "Loading in participant 03 data\n",
      "Loading in participant 04 data\n",
      "Loading in participant 05 data\n",
      "Loading in participant 06 data\n",
      "Loading in participant 08 data\n",
      "Loading in participant 09 data\n",
      "Loading in participant 10 data\n"
     ]
    }
   ],
   "source": [
    "Participant_df_dict = {}\n",
    "\n",
    "for participant in ParticipantList:\n",
    "    path = fr\"C:\\Users\\gxb18167\\PycharmProjects\\SIGIR_EEG_GAN\\Development\\Information-Need\\EEG-NeedToSearch-DataSegments\\participant_0{participant}_Features.pkl\"\n",
    "\n",
    "    print(f\"Loading in participant {participant} data\")\n",
    "\n",
    "    NeedToSearch, CorrectSearch, IncorrectSearch = load_in_participant_data(path)\n",
    "\n",
    "    NeedToSearch_df = search_condition_feature_dataframe(NeedToSearch)\n",
    "    CorrectSearch_df = search_condition_feature_dataframe(CorrectSearch)\n",
    "    IncorrectSearch_df = search_condition_feature_dataframe(IncorrectSearch)\n",
    "\n",
    "    Participant_df_dict[participant] = [NeedToSearch_df, CorrectSearch_df, IncorrectSearch_df]\n",
    "\n"
   ],
   "metadata": {
    "collapsed": false,
    "ExecuteTime": {
     "start_time": "2023-11-27T14:13:19.915962Z",
     "end_time": "2023-11-27T14:18:46.217451Z"
    }
   }
  },
  {
   "cell_type": "code",
   "execution_count": 35,
   "outputs": [],
   "source": [
    "with open('10-Participant_df_dict.pkl', 'wb') as file:\n",
    "    pickle.dump(Participant_df_dict, file)"
   ],
   "metadata": {
    "collapsed": false,
    "ExecuteTime": {
     "start_time": "2023-11-27T14:20:27.146989Z",
     "end_time": "2023-11-27T14:20:27.249841Z"
    }
   }
  },
  {
   "cell_type": "code",
   "execution_count": null,
   "outputs": [],
   "source": [],
   "metadata": {
    "collapsed": false
   }
  }
 ],
 "metadata": {
  "kernelspec": {
   "display_name": "Python 3",
   "language": "python",
   "name": "python3"
  },
  "language_info": {
   "codemirror_mode": {
    "name": "ipython",
    "version": 2
   },
   "file_extension": ".py",
   "mimetype": "text/x-python",
   "name": "python",
   "nbconvert_exporter": "python",
   "pygments_lexer": "ipython2",
   "version": "2.7.6"
  }
 },
 "nbformat": 4,
 "nbformat_minor": 0
}
