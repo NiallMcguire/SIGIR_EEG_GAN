{
 "cells": [
  {
   "cell_type": "code",
   "execution_count": 1,
   "metadata": {
    "collapsed": true,
    "ExecuteTime": {
     "start_time": "2023-11-23T12:44:39.847401Z",
     "end_time": "2023-11-23T12:44:41.819010Z"
    }
   },
   "outputs": [
    {
     "name": "stdout",
     "output_type": "stream",
     "text": [
      "haar family: haar\n",
      "db family: db1, db2, db3, db4, db5, db6, db7, db8, db9, db10, db11, db12, db13, db14, db15, db16, db17, db18, db19, db20, db21, db22, db23, db24, db25, db26, db27, db28, db29, db30, db31, db32, db33, db34, db35, db36, db37, db38\n",
      "sym family: sym2, sym3, sym4, sym5, sym6, sym7, sym8, sym9, sym10, sym11, sym12, sym13, sym14, sym15, sym16, sym17, sym18, sym19, sym20\n",
      "coif family: coif1, coif2, coif3, coif4, coif5, coif6, coif7, coif8, coif9, coif10, coif11, coif12, coif13, coif14, coif15, coif16, coif17\n",
      "bior family: bior1.1, bior1.3, bior1.5, bior2.2, bior2.4, bior2.6, bior2.8, bior3.1, bior3.3, bior3.5, bior3.7, bior3.9, bior4.4, bior5.5, bior6.8\n",
      "rbio family: rbio1.1, rbio1.3, rbio1.5, rbio2.2, rbio2.4, rbio2.6, rbio2.8, rbio3.1, rbio3.3, rbio3.5, rbio3.7, rbio3.9, rbio4.4, rbio5.5, rbio6.8\n",
      "dmey family: dmey\n",
      "gaus family: gaus1, gaus2, gaus3, gaus4, gaus5, gaus6, gaus7, gaus8\n",
      "mexh family: mexh\n",
      "morl family: morl\n",
      "cgau family: cgau1, cgau2, cgau3, cgau4, cgau5, cgau6, cgau7, cgau8\n",
      "shan family: shan\n",
      "fbsp family: fbsp\n",
      "cmor family: cmor\n"
     ]
    }
   ],
   "source": [
    "import pickle\n",
    "import Feature_Extraction\n",
    "import pandas as pd"
   ]
  },
  {
   "cell_type": "code",
   "execution_count": 2,
   "outputs": [],
   "source": [
    "path = r\"C:\\Users\\gxb18167\\PycharmProjects\\SIGIR_EEG_GAN\\Development\\Information-Need\\EEG-NeedToSearch-DataSegments\\participant_001_EEG_data.pkl\""
   ],
   "metadata": {
    "collapsed": false,
    "ExecuteTime": {
     "start_time": "2023-11-23T12:44:41.819010Z",
     "end_time": "2023-11-23T12:44:41.838125Z"
    }
   }
  },
  {
   "cell_type": "code",
   "execution_count": 2,
   "outputs": [],
   "source": [],
   "metadata": {
    "collapsed": false,
    "ExecuteTime": {
     "start_time": "2023-11-23T12:44:41.838125Z",
     "end_time": "2023-11-23T12:44:41.888075Z"
    }
   }
  },
  {
   "cell_type": "code",
   "execution_count": 3,
   "outputs": [],
   "source": [
    "def load_in_participant_data(path):\n",
    "    with open(path, 'rb') as pickle_file:\n",
    "        loaded_data = pickle.load(pickle_file)\n",
    "\n",
    "    NeedToSearch = loaded_data[0]\n",
    "    CorrectSearch = loaded_data[1]\n",
    "    IncorrectSearch = loaded_data[2]\n",
    "\n",
    "    return NeedToSearch, CorrectSearch, IncorrectSearch"
   ],
   "metadata": {
    "collapsed": false,
    "ExecuteTime": {
     "start_time": "2023-11-23T12:44:41.854249Z",
     "end_time": "2023-11-23T12:44:41.893727Z"
    }
   }
  },
  {
   "cell_type": "code",
   "execution_count": 4,
   "outputs": [],
   "source": [
    "NeedToSearch, CorrectSearch, IncorrectSearch = load_in_participant_data(path)"
   ],
   "metadata": {
    "collapsed": false,
    "ExecuteTime": {
     "start_time": "2023-11-23T12:44:41.872007Z",
     "end_time": "2023-11-23T12:44:41.991304Z"
    }
   }
  },
  {
   "cell_type": "code",
   "execution_count": 5,
   "outputs": [
    {
     "data": {
      "text/plain": "array([115.666, 115.668, 115.67 , 115.672, 115.674, 115.676, 115.678,\n       115.68 , 115.682, 115.684, 115.686, 115.688, 115.69 , 115.692,\n       115.694, 115.696, 115.698, 115.7  , 115.702, 115.704, 115.706,\n       115.708, 115.71 , 115.712, 115.714, 115.716, 115.718, 115.72 ,\n       115.722, 115.724, 115.726, 115.728, 115.73 , 115.732, 115.734,\n       115.736, 115.738, 115.74 , 115.742, 115.744, 115.746, 115.748,\n       115.75 , 115.752, 115.754, 115.756, 115.758, 115.76 , 115.762,\n       115.764, 115.766, 115.768, 115.77 , 115.772, 115.774, 115.776,\n       115.778, 115.78 , 115.782, 115.784, 115.786, 115.788, 115.79 ,\n       115.792, 115.794, 115.796, 115.798, 115.8  , 115.802, 115.804,\n       115.806, 115.808, 115.81 , 115.812, 115.814, 115.816, 115.818,\n       115.82 , 115.822, 115.824, 115.826, 115.828, 115.83 , 115.832,\n       115.834, 115.836, 115.838, 115.84 , 115.842, 115.844, 115.846,\n       115.848, 115.85 , 115.852, 115.854, 115.856, 115.858, 115.86 ,\n       115.862, 115.864, 115.866, 115.868, 115.87 , 115.872, 115.874,\n       115.876, 115.878, 115.88 , 115.882, 115.884, 115.886, 115.888,\n       115.89 , 115.892, 115.894, 115.896, 115.898, 115.9  , 115.902,\n       115.904, 115.906, 115.908, 115.91 , 115.912, 115.914, 115.916,\n       115.918, 115.92 , 115.922, 115.924, 115.926, 115.928, 115.93 ,\n       115.932, 115.934, 115.936, 115.938, 115.94 , 115.942, 115.944,\n       115.946, 115.948, 115.95 , 115.952, 115.954, 115.956, 115.958,\n       115.96 , 115.962, 115.964, 115.966, 115.968, 115.97 , 115.972,\n       115.974, 115.976, 115.978, 115.98 , 115.982, 115.984, 115.986,\n       115.988, 115.99 , 115.992, 115.994, 115.996, 115.998, 116.   ,\n       116.002, 116.004, 116.006, 116.008, 116.01 , 116.012, 116.014,\n       116.016, 116.018, 116.02 , 116.022, 116.024, 116.026, 116.028,\n       116.03 , 116.032, 116.034, 116.036, 116.038, 116.04 , 116.042,\n       116.044, 116.046, 116.048, 116.05 , 116.052, 116.054, 116.056,\n       116.058, 116.06 , 116.062, 116.064, 116.066, 116.068, 116.07 ,\n       116.072, 116.074, 116.076, 116.078, 116.08 , 116.082, 116.084,\n       116.086, 116.088, 116.09 , 116.092, 116.094, 116.096, 116.098,\n       116.1  , 116.102, 116.104, 116.106, 116.108, 116.11 , 116.112,\n       116.114, 116.116, 116.118, 116.12 , 116.122, 116.124, 116.126,\n       116.128, 116.13 , 116.132, 116.134, 116.136, 116.138, 116.14 ,\n       116.142, 116.144, 116.146, 116.148, 116.15 , 116.152, 116.154,\n       116.156, 116.158, 116.16 , 116.162, 116.164, 116.166, 116.168,\n       116.17 , 116.172, 116.174, 116.176, 116.178, 116.18 , 116.182,\n       116.184, 116.186, 116.188, 116.19 , 116.192, 116.194, 116.196,\n       116.198, 116.2  , 116.202, 116.204, 116.206, 116.208, 116.21 ,\n       116.212, 116.214, 116.216, 116.218, 116.22 , 116.222, 116.224,\n       116.226, 116.228, 116.23 , 116.232, 116.234, 116.236, 116.238,\n       116.24 , 116.242, 116.244, 116.246, 116.248, 116.25 , 116.252,\n       116.254, 116.256, 116.258, 116.26 , 116.262, 116.264, 116.266,\n       116.268, 116.27 , 116.272, 116.274, 116.276, 116.278, 116.28 ,\n       116.282, 116.284, 116.286, 116.288, 116.29 , 116.292, 116.294,\n       116.296, 116.298, 116.3  , 116.302, 116.304, 116.306, 116.308,\n       116.31 , 116.312, 116.314, 116.316, 116.318, 116.32 , 116.322,\n       116.324, 116.326, 116.328, 116.33 , 116.332, 116.334, 116.336,\n       116.338, 116.34 , 116.342, 116.344, 116.346, 116.348, 116.35 ,\n       116.352, 116.354, 116.356, 116.358, 116.36 , 116.362, 116.364,\n       116.366, 116.368, 116.37 , 116.372, 116.374, 116.376, 116.378,\n       116.38 , 116.382, 116.384, 116.386, 116.388, 116.39 , 116.392,\n       116.394, 116.396, 116.398, 116.4  , 116.402, 116.404, 116.406,\n       116.408, 116.41 , 116.412, 116.414, 116.416, 116.418, 116.42 ,\n       116.422, 116.424, 116.426, 116.428, 116.43 , 116.432, 116.434,\n       116.436, 116.438, 116.44 , 116.442, 116.444, 116.446, 116.448,\n       116.45 , 116.452, 116.454, 116.456, 116.458, 116.46 , 116.462,\n       116.464])"
     },
     "execution_count": 5,
     "metadata": {},
     "output_type": "execute_result"
    }
   ],
   "source": [
    "NeedToSearch[0][0][1]"
   ],
   "metadata": {
    "collapsed": false,
    "ExecuteTime": {
     "start_time": "2023-11-23T12:44:41.989301Z",
     "end_time": "2023-11-23T12:44:42.004305Z"
    }
   }
  },
  {
   "cell_type": "code",
   "execution_count": 6,
   "outputs": [],
   "source": [
    "df = pd.DataFrame(NeedToSearch[0][0][0])\n",
    "df = df.T\n",
    "df_time = pd.DataFrame(NeedToSearch[0][0][1])"
   ],
   "metadata": {
    "collapsed": false,
    "ExecuteTime": {
     "start_time": "2023-11-23T12:44:42.004801Z",
     "end_time": "2023-11-23T12:44:42.025448Z"
    }
   }
  },
  {
   "cell_type": "code",
   "execution_count": 7,
   "outputs": [],
   "source": [
    "fe = Feature_Extraction.FeatureExtraction()"
   ],
   "metadata": {
    "collapsed": false,
    "ExecuteTime": {
     "start_time": "2023-11-23T12:44:42.013802Z",
     "end_time": "2023-11-23T12:44:42.025448Z"
    }
   }
  },
  {
   "cell_type": "code",
   "execution_count": 8,
   "outputs": [
    {
     "data": {
      "text/plain": "           0\n0    115.666\n1    115.668\n2    115.670\n3    115.672\n4    115.674\n..       ...\n395  116.456\n396  116.458\n397  116.460\n398  116.462\n399  116.464\n\n[400 rows x 1 columns]",
      "text/html": "<div>\n<style scoped>\n    .dataframe tbody tr th:only-of-type {\n        vertical-align: middle;\n    }\n\n    .dataframe tbody tr th {\n        vertical-align: top;\n    }\n\n    .dataframe thead th {\n        text-align: right;\n    }\n</style>\n<table border=\"1\" class=\"dataframe\">\n  <thead>\n    <tr style=\"text-align: right;\">\n      <th></th>\n      <th>0</th>\n    </tr>\n  </thead>\n  <tbody>\n    <tr>\n      <th>0</th>\n      <td>115.666</td>\n    </tr>\n    <tr>\n      <th>1</th>\n      <td>115.668</td>\n    </tr>\n    <tr>\n      <th>2</th>\n      <td>115.670</td>\n    </tr>\n    <tr>\n      <th>3</th>\n      <td>115.672</td>\n    </tr>\n    <tr>\n      <th>4</th>\n      <td>115.674</td>\n    </tr>\n    <tr>\n      <th>...</th>\n      <td>...</td>\n    </tr>\n    <tr>\n      <th>395</th>\n      <td>116.456</td>\n    </tr>\n    <tr>\n      <th>396</th>\n      <td>116.458</td>\n    </tr>\n    <tr>\n      <th>397</th>\n      <td>116.460</td>\n    </tr>\n    <tr>\n      <th>398</th>\n      <td>116.462</td>\n    </tr>\n    <tr>\n      <th>399</th>\n      <td>116.464</td>\n    </tr>\n  </tbody>\n</table>\n<p>400 rows × 1 columns</p>\n</div>"
     },
     "execution_count": 8,
     "metadata": {},
     "output_type": "execute_result"
    }
   ],
   "source": [
    "df_time"
   ],
   "metadata": {
    "collapsed": false,
    "ExecuteTime": {
     "start_time": "2023-11-23T12:44:42.025448Z",
     "end_time": "2023-11-23T12:44:42.057279Z"
    }
   }
  },
  {
   "cell_type": "code",
   "execution_count": 9,
   "outputs": [],
   "source": [
    "df['time'] = df_time"
   ],
   "metadata": {
    "collapsed": false,
    "ExecuteTime": {
     "start_time": "2023-11-23T12:44:42.057279Z",
     "end_time": "2023-11-23T12:44:42.093802Z"
    }
   }
  },
  {
   "cell_type": "code",
   "execution_count": 10,
   "outputs": [],
   "source": [
    "start = df['time'][0]\n",
    "end = df['time'][len(df)-1]"
   ],
   "metadata": {
    "collapsed": false,
    "ExecuteTime": {
     "start_time": "2023-11-23T12:44:42.072823Z",
     "end_time": "2023-11-23T12:44:42.166757Z"
    }
   }
  },
  {
   "cell_type": "code",
   "execution_count": 10,
   "outputs": [],
   "source": [],
   "metadata": {
    "collapsed": false,
    "ExecuteTime": {
     "start_time": "2023-11-23T12:44:42.093802Z",
     "end_time": "2023-11-23T12:44:42.182660Z"
    }
   }
  },
  {
   "cell_type": "code",
   "execution_count": 11,
   "outputs": [
    {
     "name": "stderr",
     "output_type": "stream",
     "text": [
      "C:\\Users\\gxb18167\\PycharmProjects\\SIGIR_EEG_GAN\\Development\\Information-Need\\Feature_Extraction.py:338: FutureWarning: iteritems is deprecated and will be removed in a future version. Use .items instead.\n",
      "  for name, values in data.iteritems():  # step through columns\n",
      "C:\\Users\\gxb18167\\PycharmProjects\\SIGIR_EEG_GAN\\Development\\Information-Need\\Feature_Extraction.py:387: FutureWarning: iteritems is deprecated and will be removed in a future version. Use .items instead.\n",
      "  for name, values in data.iteritems():  # step through columns\n",
      "C:\\Users\\gxb18167\\PycharmProjects\\SIGIR_EEG_GAN\\Development\\Information-Need\\Feature_Extraction.py:398: FutureWarning: iteritems is deprecated and will be removed in a future version. Use .items instead.\n",
      "  for name, values in data.iteritems():  # step through columns\n",
      "C:\\Users\\gxb18167\\PycharmProjects\\SIGIR_EEG_GAN\\Development\\Information-Need\\Feature_Extraction.py:148: RuntimeWarning: invalid value encountered in divide\n",
      "  pj = np.divide(Ej, Etot)\n"
     ]
    }
   ],
   "source": [
    "features = fe.create_feature_set(start, end, df)"
   ],
   "metadata": {
    "collapsed": false,
    "ExecuteTime": {
     "start_time": "2023-11-23T12:44:42.104320Z",
     "end_time": "2023-11-23T12:44:45.839127Z"
    }
   }
  },
  {
   "cell_type": "code",
   "execution_count": 12,
   "outputs": [
    {
     "data": {
      "text/plain": "dict_keys(['Mean', 'SD', 'Skewness', 'Kurtosis', 'Curve_length', 'No_peaks', 'Average_nonlinear_enegy', 'Window_Time_Stamp'])"
     },
     "execution_count": 12,
     "metadata": {},
     "output_type": "execute_result"
    }
   ],
   "source": [
    "features.keys()"
   ],
   "metadata": {
    "collapsed": false,
    "ExecuteTime": {
     "start_time": "2023-11-23T12:44:45.839627Z",
     "end_time": "2023-11-23T12:44:45.898033Z"
    }
   }
  },
  {
   "cell_type": "code",
   "execution_count": 13,
   "outputs": [
    {
     "data": {
      "text/plain": "4"
     },
     "execution_count": 13,
     "metadata": {},
     "output_type": "execute_result"
    }
   ],
   "source": [
    "len(features['Curve_length'])"
   ],
   "metadata": {
    "collapsed": false,
    "ExecuteTime": {
     "start_time": "2023-11-23T12:44:45.856958Z",
     "end_time": "2023-11-23T12:44:45.900049Z"
    }
   }
  },
  {
   "cell_type": "code",
   "execution_count": 13,
   "outputs": [],
   "source": [],
   "metadata": {
    "collapsed": false,
    "ExecuteTime": {
     "start_time": "2023-11-23T12:44:45.866012Z",
     "end_time": "2023-11-23T12:44:45.900049Z"
    }
   }
  }
 ],
 "metadata": {
  "kernelspec": {
   "display_name": "Python 3",
   "language": "python",
   "name": "python3"
  },
  "language_info": {
   "codemirror_mode": {
    "name": "ipython",
    "version": 2
   },
   "file_extension": ".py",
   "mimetype": "text/x-python",
   "name": "python",
   "nbconvert_exporter": "python",
   "pygments_lexer": "ipython2",
   "version": "2.7.6"
  }
 },
 "nbformat": 4,
 "nbformat_minor": 0
}
