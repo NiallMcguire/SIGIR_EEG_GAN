{
 "cells": [
  {
   "cell_type": "code",
   "execution_count": 1,
   "metadata": {
    "collapsed": true,
    "ExecuteTime": {
     "start_time": "2023-11-27T13:56:46.509448Z",
     "end_time": "2023-11-27T13:56:47.858654Z"
    }
   },
   "outputs": [
    {
     "name": "stdout",
     "output_type": "stream",
     "text": [
      "haar family: haar\n",
      "db family: db1, db2, db3, db4, db5, db6, db7, db8, db9, db10, db11, db12, db13, db14, db15, db16, db17, db18, db19, db20, db21, db22, db23, db24, db25, db26, db27, db28, db29, db30, db31, db32, db33, db34, db35, db36, db37, db38\n",
      "sym family: sym2, sym3, sym4, sym5, sym6, sym7, sym8, sym9, sym10, sym11, sym12, sym13, sym14, sym15, sym16, sym17, sym18, sym19, sym20\n",
      "coif family: coif1, coif2, coif3, coif4, coif5, coif6, coif7, coif8, coif9, coif10, coif11, coif12, coif13, coif14, coif15, coif16, coif17\n",
      "bior family: bior1.1, bior1.3, bior1.5, bior2.2, bior2.4, bior2.6, bior2.8, bior3.1, bior3.3, bior3.5, bior3.7, bior3.9, bior4.4, bior5.5, bior6.8\n",
      "rbio family: rbio1.1, rbio1.3, rbio1.5, rbio2.2, rbio2.4, rbio2.6, rbio2.8, rbio3.1, rbio3.3, rbio3.5, rbio3.7, rbio3.9, rbio4.4, rbio5.5, rbio6.8\n",
      "dmey family: dmey\n",
      "gaus family: gaus1, gaus2, gaus3, gaus4, gaus5, gaus6, gaus7, gaus8\n",
      "mexh family: mexh\n",
      "morl family: morl\n",
      "cgau family: cgau1, cgau2, cgau3, cgau4, cgau5, cgau6, cgau7, cgau8\n",
      "shan family: shan\n",
      "fbsp family: fbsp\n",
      "cmor family: cmor\n"
     ]
    }
   ],
   "source": [
    "import pickle\n",
    "import Feature_Extraction\n",
    "import pandas as pd"
   ]
  },
  {
   "cell_type": "code",
   "execution_count": 2,
   "outputs": [],
   "source": [
    "fe = Feature_Extraction.FeatureExtraction()"
   ],
   "metadata": {
    "collapsed": false,
    "ExecuteTime": {
     "start_time": "2023-11-27T13:56:47.862969Z",
     "end_time": "2023-11-27T13:56:47.906327Z"
    }
   }
  },
  {
   "cell_type": "code",
   "execution_count": 3,
   "outputs": [],
   "source": [
    "def load_in_participant_data(path):\n",
    "    with open(path, 'rb') as pickle_file:\n",
    "        loaded_data = pickle.load(pickle_file)\n",
    "\n",
    "    NeedToSearch = loaded_data['NeedToSearch']\n",
    "    CorrectSearch = loaded_data['CorrectSearch']\n",
    "    IncorrectSearch = loaded_data['IncorrectSearch']\n",
    "\n",
    "    return NeedToSearch, CorrectSearch, IncorrectSearch"
   ],
   "metadata": {
    "collapsed": false,
    "ExecuteTime": {
     "start_time": "2023-11-27T13:56:47.874843Z",
     "end_time": "2023-11-27T13:56:47.906814Z"
    }
   }
  },
  {
   "cell_type": "code",
   "execution_count": 9,
   "outputs": [],
   "source": [
    "def search_condition_feature_dataframe(NeedToSearch):\n",
    "    feature_set = []\n",
    "    for i in range(len(NeedToSearch[0])):\n",
    "        EEG_features = fe.format_features(NeedToSearch[0][i])\n",
    "        feature_set.append(EEG_features)\n",
    "    result_df = pd.concat(feature_set, ignore_index=True)\n",
    "    result_df['Event_ID'] = NeedToSearch[1]\n",
    "    return result_df\n"
   ],
   "metadata": {
    "collapsed": false,
    "ExecuteTime": {
     "start_time": "2023-11-27T13:57:23.467202Z",
     "end_time": "2023-11-27T13:57:23.481342Z"
    }
   }
  },
  {
   "cell_type": "code",
   "execution_count": 10,
   "outputs": [],
   "source": [
    "path = r\"C:\\Users\\gxb18167\\PycharmProjects\\SIGIR_EEG_GAN\\Development\\Information-Need\\EEG-NeedToSearch-DataSegments\\participant_008_Features.pkl\""
   ],
   "metadata": {
    "collapsed": false,
    "ExecuteTime": {
     "start_time": "2023-11-27T13:57:23.864930Z",
     "end_time": "2023-11-27T13:57:23.892405Z"
    }
   }
  },
  {
   "cell_type": "code",
   "execution_count": 11,
   "outputs": [],
   "source": [
    "NeedToSearch, CorrectSearch, IncorrectSearch = load_in_participant_data(path)"
   ],
   "metadata": {
    "collapsed": false,
    "ExecuteTime": {
     "start_time": "2023-11-27T13:57:24.255191Z",
     "end_time": "2023-11-27T13:57:24.642171Z"
    }
   }
  },
  {
   "cell_type": "code",
   "execution_count": 12,
   "outputs": [],
   "source": [
    "NeedToSearch_df = search_condition_feature_dataframe(NeedToSearch)"
   ],
   "metadata": {
    "collapsed": false,
    "ExecuteTime": {
     "start_time": "2023-11-27T13:57:24.751947Z",
     "end_time": "2023-11-27T13:57:32.569797Z"
    }
   }
  },
  {
   "cell_type": "code",
   "execution_count": 13,
   "outputs": [
    {
     "data": {
      "text/plain": "     TimeStamp        1Mean0        2Mean0        3Mean0        4Mean0  \\\n0       63.322 -9.711372e-18 -1.157440e-17  4.068412e-16  1.128124e-15   \n1       64.922 -6.874342e-18  1.733482e-16  2.519450e-15  1.401447e-14   \n2       66.522 -7.019831e-18  9.187010e-17  1.313614e-15  6.317607e-15   \n3       68.122 -5.092105e-18  2.898509e-18  1.630750e-16  1.382542e-15   \n4       88.782 -1.218468e-17 -1.509788e-17  6.625906e-16  5.090537e-15   \n..         ...           ...           ...           ...           ...   \n266   5873.474 -5.383083e-18 -1.630573e-16 -1.301060e-15 -3.668537e-15   \n267   5875.074 -7.092575e-18 -2.050208e-16 -2.173073e-15 -1.277363e-14   \n268   5876.674 -6.292387e-18 -1.127376e-18  4.459081e-16  3.912081e-15   \n269   5889.546 -7.347180e-18  1.451987e-16  2.809270e-15  2.202058e-14   \n270   5893.946 -6.474248e-18  5.476259e-16  6.571058e-15  4.035523e-14   \n\n           5Mean0        6Mean0        7Mean0        8Mean0        9Mean0  \\\n0   -9.883924e-15 -9.302095e-14 -4.215028e-13 -1.356951e-12 -3.515609e-12   \n1    4.397001e-14  7.999973e-14  3.550573e-14 -3.194239e-13 -1.425695e-12   \n2    1.465022e-14  4.746541e-15 -9.663829e-14 -4.452473e-13 -1.297206e-12   \n3    1.013082e-14  5.508083e-14  2.200484e-13  6.871055e-13  1.778269e-12   \n4    2.013311e-14  5.349042e-14  1.038547e-13  1.464096e-13  1.188696e-13   \n..            ...           ...           ...           ...           ...   \n266  6.510764e-15  9.756630e-14  4.605103e-13  1.483933e-12  3.814017e-12   \n267 -5.025824e-14 -1.471394e-13 -3.423862e-13 -6.596892e-13 -1.073512e-12   \n268  2.014562e-14  7.601149e-14  2.282257e-13  5.717270e-13  1.235250e-12   \n269  1.106450e-13  4.102632e-13  1.207759e-12  2.961918e-12  6.263096e-12   \n270  1.762433e-13  6.135496e-13  1.791897e-12  4.528664e-12  1.015037e-11   \n\n     ...  33Average_nonlinear_enegy3  34Average_nonlinear_enegy3  \\\n0    ...                       193.0                       196.0   \n1    ...                       177.0                       187.0   \n2    ...                       124.0                       156.0   \n3    ...                       137.0                       154.0   \n4    ...                       159.0                       177.0   \n..   ...                         ...                         ...   \n266  ...                       149.0                       165.0   \n267  ...                       148.0                       169.0   \n268  ...                       176.0                       189.0   \n269  ...                       145.0                       165.0   \n270  ...                       148.0                       173.0   \n\n     35Average_nonlinear_enegy3  36Average_nonlinear_enegy3  \\\n0                         196.0                       196.0   \n1                         190.0                       192.0   \n2                         165.0                       169.0   \n3                         162.0                       168.0   \n4                         180.0                       183.0   \n..                          ...                         ...   \n266                       168.0                       167.0   \n267                       171.0                       169.0   \n268                       189.0                       188.0   \n269                       174.0                       176.0   \n270                       177.0                       178.0   \n\n     37Average_nonlinear_enegy3  38Average_nonlinear_enegy3  \\\n0                         196.0                       196.0   \n1                         191.0                       190.0   \n2                         169.0                       169.0   \n3                         171.0                       161.0   \n4                         185.0                       182.0   \n..                          ...                         ...   \n266                       160.0                       153.0   \n267                       169.0                       161.0   \n268                       184.0                       180.0   \n269                       175.0                       166.0   \n270                       175.0                       166.0   \n\n     39Average_nonlinear_enegy3  40Average_nonlinear_enegy3  \\\n0                         188.0                       180.0   \n1                         171.0                       144.0   \n2                         114.0                        83.0   \n3                         134.0                       114.0   \n4                         155.0                       133.0   \n..                          ...                         ...   \n266                       123.0                       121.0   \n267                       107.0                       101.0   \n268                       154.0                       154.0   \n269                       124.0                       112.0   \n270                       125.0                       116.0   \n\n     41Average_nonlinear_enegy3  Event_ID  \n0                         197.0        22  \n1                         185.0        23  \n2                         147.0        24  \n3                         149.0        25  \n4                         175.0        36  \n..                          ...       ...  \n266                       157.0        24  \n267                       164.0        25  \n268                       184.0        26  \n269                       158.0        36  \n270                       165.0        37  \n\n[271 rows x 1150 columns]",
      "text/html": "<div>\n<style scoped>\n    .dataframe tbody tr th:only-of-type {\n        vertical-align: middle;\n    }\n\n    .dataframe tbody tr th {\n        vertical-align: top;\n    }\n\n    .dataframe thead th {\n        text-align: right;\n    }\n</style>\n<table border=\"1\" class=\"dataframe\">\n  <thead>\n    <tr style=\"text-align: right;\">\n      <th></th>\n      <th>TimeStamp</th>\n      <th>1Mean0</th>\n      <th>2Mean0</th>\n      <th>3Mean0</th>\n      <th>4Mean0</th>\n      <th>5Mean0</th>\n      <th>6Mean0</th>\n      <th>7Mean0</th>\n      <th>8Mean0</th>\n      <th>9Mean0</th>\n      <th>...</th>\n      <th>33Average_nonlinear_enegy3</th>\n      <th>34Average_nonlinear_enegy3</th>\n      <th>35Average_nonlinear_enegy3</th>\n      <th>36Average_nonlinear_enegy3</th>\n      <th>37Average_nonlinear_enegy3</th>\n      <th>38Average_nonlinear_enegy3</th>\n      <th>39Average_nonlinear_enegy3</th>\n      <th>40Average_nonlinear_enegy3</th>\n      <th>41Average_nonlinear_enegy3</th>\n      <th>Event_ID</th>\n    </tr>\n  </thead>\n  <tbody>\n    <tr>\n      <th>0</th>\n      <td>63.322</td>\n      <td>-9.711372e-18</td>\n      <td>-1.157440e-17</td>\n      <td>4.068412e-16</td>\n      <td>1.128124e-15</td>\n      <td>-9.883924e-15</td>\n      <td>-9.302095e-14</td>\n      <td>-4.215028e-13</td>\n      <td>-1.356951e-12</td>\n      <td>-3.515609e-12</td>\n      <td>...</td>\n      <td>193.0</td>\n      <td>196.0</td>\n      <td>196.0</td>\n      <td>196.0</td>\n      <td>196.0</td>\n      <td>196.0</td>\n      <td>188.0</td>\n      <td>180.0</td>\n      <td>197.0</td>\n      <td>22</td>\n    </tr>\n    <tr>\n      <th>1</th>\n      <td>64.922</td>\n      <td>-6.874342e-18</td>\n      <td>1.733482e-16</td>\n      <td>2.519450e-15</td>\n      <td>1.401447e-14</td>\n      <td>4.397001e-14</td>\n      <td>7.999973e-14</td>\n      <td>3.550573e-14</td>\n      <td>-3.194239e-13</td>\n      <td>-1.425695e-12</td>\n      <td>...</td>\n      <td>177.0</td>\n      <td>187.0</td>\n      <td>190.0</td>\n      <td>192.0</td>\n      <td>191.0</td>\n      <td>190.0</td>\n      <td>171.0</td>\n      <td>144.0</td>\n      <td>185.0</td>\n      <td>23</td>\n    </tr>\n    <tr>\n      <th>2</th>\n      <td>66.522</td>\n      <td>-7.019831e-18</td>\n      <td>9.187010e-17</td>\n      <td>1.313614e-15</td>\n      <td>6.317607e-15</td>\n      <td>1.465022e-14</td>\n      <td>4.746541e-15</td>\n      <td>-9.663829e-14</td>\n      <td>-4.452473e-13</td>\n      <td>-1.297206e-12</td>\n      <td>...</td>\n      <td>124.0</td>\n      <td>156.0</td>\n      <td>165.0</td>\n      <td>169.0</td>\n      <td>169.0</td>\n      <td>169.0</td>\n      <td>114.0</td>\n      <td>83.0</td>\n      <td>147.0</td>\n      <td>24</td>\n    </tr>\n    <tr>\n      <th>3</th>\n      <td>68.122</td>\n      <td>-5.092105e-18</td>\n      <td>2.898509e-18</td>\n      <td>1.630750e-16</td>\n      <td>1.382542e-15</td>\n      <td>1.013082e-14</td>\n      <td>5.508083e-14</td>\n      <td>2.200484e-13</td>\n      <td>6.871055e-13</td>\n      <td>1.778269e-12</td>\n      <td>...</td>\n      <td>137.0</td>\n      <td>154.0</td>\n      <td>162.0</td>\n      <td>168.0</td>\n      <td>171.0</td>\n      <td>161.0</td>\n      <td>134.0</td>\n      <td>114.0</td>\n      <td>149.0</td>\n      <td>25</td>\n    </tr>\n    <tr>\n      <th>4</th>\n      <td>88.782</td>\n      <td>-1.218468e-17</td>\n      <td>-1.509788e-17</td>\n      <td>6.625906e-16</td>\n      <td>5.090537e-15</td>\n      <td>2.013311e-14</td>\n      <td>5.349042e-14</td>\n      <td>1.038547e-13</td>\n      <td>1.464096e-13</td>\n      <td>1.188696e-13</td>\n      <td>...</td>\n      <td>159.0</td>\n      <td>177.0</td>\n      <td>180.0</td>\n      <td>183.0</td>\n      <td>185.0</td>\n      <td>182.0</td>\n      <td>155.0</td>\n      <td>133.0</td>\n      <td>175.0</td>\n      <td>36</td>\n    </tr>\n    <tr>\n      <th>...</th>\n      <td>...</td>\n      <td>...</td>\n      <td>...</td>\n      <td>...</td>\n      <td>...</td>\n      <td>...</td>\n      <td>...</td>\n      <td>...</td>\n      <td>...</td>\n      <td>...</td>\n      <td>...</td>\n      <td>...</td>\n      <td>...</td>\n      <td>...</td>\n      <td>...</td>\n      <td>...</td>\n      <td>...</td>\n      <td>...</td>\n      <td>...</td>\n      <td>...</td>\n      <td>...</td>\n    </tr>\n    <tr>\n      <th>266</th>\n      <td>5873.474</td>\n      <td>-5.383083e-18</td>\n      <td>-1.630573e-16</td>\n      <td>-1.301060e-15</td>\n      <td>-3.668537e-15</td>\n      <td>6.510764e-15</td>\n      <td>9.756630e-14</td>\n      <td>4.605103e-13</td>\n      <td>1.483933e-12</td>\n      <td>3.814017e-12</td>\n      <td>...</td>\n      <td>149.0</td>\n      <td>165.0</td>\n      <td>168.0</td>\n      <td>167.0</td>\n      <td>160.0</td>\n      <td>153.0</td>\n      <td>123.0</td>\n      <td>121.0</td>\n      <td>157.0</td>\n      <td>24</td>\n    </tr>\n    <tr>\n      <th>267</th>\n      <td>5875.074</td>\n      <td>-7.092575e-18</td>\n      <td>-2.050208e-16</td>\n      <td>-2.173073e-15</td>\n      <td>-1.277363e-14</td>\n      <td>-5.025824e-14</td>\n      <td>-1.471394e-13</td>\n      <td>-3.423862e-13</td>\n      <td>-6.596892e-13</td>\n      <td>-1.073512e-12</td>\n      <td>...</td>\n      <td>148.0</td>\n      <td>169.0</td>\n      <td>171.0</td>\n      <td>169.0</td>\n      <td>169.0</td>\n      <td>161.0</td>\n      <td>107.0</td>\n      <td>101.0</td>\n      <td>164.0</td>\n      <td>25</td>\n    </tr>\n    <tr>\n      <th>268</th>\n      <td>5876.674</td>\n      <td>-6.292387e-18</td>\n      <td>-1.127376e-18</td>\n      <td>4.459081e-16</td>\n      <td>3.912081e-15</td>\n      <td>2.014562e-14</td>\n      <td>7.601149e-14</td>\n      <td>2.282257e-13</td>\n      <td>5.717270e-13</td>\n      <td>1.235250e-12</td>\n      <td>...</td>\n      <td>176.0</td>\n      <td>189.0</td>\n      <td>189.0</td>\n      <td>188.0</td>\n      <td>184.0</td>\n      <td>180.0</td>\n      <td>154.0</td>\n      <td>154.0</td>\n      <td>184.0</td>\n      <td>26</td>\n    </tr>\n    <tr>\n      <th>269</th>\n      <td>5889.546</td>\n      <td>-7.347180e-18</td>\n      <td>1.451987e-16</td>\n      <td>2.809270e-15</td>\n      <td>2.202058e-14</td>\n      <td>1.106450e-13</td>\n      <td>4.102632e-13</td>\n      <td>1.207759e-12</td>\n      <td>2.961918e-12</td>\n      <td>6.263096e-12</td>\n      <td>...</td>\n      <td>145.0</td>\n      <td>165.0</td>\n      <td>174.0</td>\n      <td>176.0</td>\n      <td>175.0</td>\n      <td>166.0</td>\n      <td>124.0</td>\n      <td>112.0</td>\n      <td>158.0</td>\n      <td>36</td>\n    </tr>\n    <tr>\n      <th>270</th>\n      <td>5893.946</td>\n      <td>-6.474248e-18</td>\n      <td>5.476259e-16</td>\n      <td>6.571058e-15</td>\n      <td>4.035523e-14</td>\n      <td>1.762433e-13</td>\n      <td>6.135496e-13</td>\n      <td>1.791897e-12</td>\n      <td>4.528664e-12</td>\n      <td>1.015037e-11</td>\n      <td>...</td>\n      <td>148.0</td>\n      <td>173.0</td>\n      <td>177.0</td>\n      <td>178.0</td>\n      <td>175.0</td>\n      <td>166.0</td>\n      <td>125.0</td>\n      <td>116.0</td>\n      <td>165.0</td>\n      <td>37</td>\n    </tr>\n  </tbody>\n</table>\n<p>271 rows × 1150 columns</p>\n</div>"
     },
     "execution_count": 13,
     "metadata": {},
     "output_type": "execute_result"
    }
   ],
   "source": [
    "NeedToSearch_df"
   ],
   "metadata": {
    "collapsed": false,
    "ExecuteTime": {
     "start_time": "2023-11-27T13:57:33.363035Z",
     "end_time": "2023-11-27T13:57:33.426153Z"
    }
   }
  },
  {
   "cell_type": "code",
   "execution_count": 34,
   "outputs": [],
   "source": [],
   "metadata": {
    "collapsed": false,
    "ExecuteTime": {
     "start_time": "2023-11-27T13:55:45.287658Z",
     "end_time": "2023-11-27T13:55:45.304432Z"
    }
   }
  },
  {
   "cell_type": "code",
   "execution_count": 34,
   "outputs": [],
   "source": [],
   "metadata": {
    "collapsed": false,
    "ExecuteTime": {
     "start_time": "2023-11-27T13:55:46.468900Z",
     "end_time": "2023-11-27T13:55:46.500272Z"
    }
   }
  },
  {
   "cell_type": "code",
   "execution_count": null,
   "outputs": [],
   "source": [],
   "metadata": {
    "collapsed": false
   }
  }
 ],
 "metadata": {
  "kernelspec": {
   "display_name": "Python 3",
   "language": "python",
   "name": "python3"
  },
  "language_info": {
   "codemirror_mode": {
    "name": "ipython",
    "version": 2
   },
   "file_extension": ".py",
   "mimetype": "text/x-python",
   "name": "python",
   "nbconvert_exporter": "python",
   "pygments_lexer": "ipython2",
   "version": "2.7.6"
  }
 },
 "nbformat": 4,
 "nbformat_minor": 0
}
