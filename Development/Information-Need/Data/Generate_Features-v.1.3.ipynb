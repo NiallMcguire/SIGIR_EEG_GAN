{
 "cells": [
  {
   "cell_type": "code",
   "execution_count": 1,
   "metadata": {
    "collapsed": true,
    "ExecuteTime": {
     "start_time": "2023-11-28T11:39:03.182464Z",
     "end_time": "2023-11-28T11:39:03.202955Z"
    }
   },
   "outputs": [
    {
     "name": "stdout",
     "output_type": "stream",
     "text": [
      "haar family: haar\n",
      "db family: db1, db2, db3, db4, db5, db6, db7, db8, db9, db10, db11, db12, db13, db14, db15, db16, db17, db18, db19, db20, db21, db22, db23, db24, db25, db26, db27, db28, db29, db30, db31, db32, db33, db34, db35, db36, db37, db38\n",
      "sym family: sym2, sym3, sym4, sym5, sym6, sym7, sym8, sym9, sym10, sym11, sym12, sym13, sym14, sym15, sym16, sym17, sym18, sym19, sym20\n",
      "coif family: coif1, coif2, coif3, coif4, coif5, coif6, coif7, coif8, coif9, coif10, coif11, coif12, coif13, coif14, coif15, coif16, coif17\n",
      "bior family: bior1.1, bior1.3, bior1.5, bior2.2, bior2.4, bior2.6, bior2.8, bior3.1, bior3.3, bior3.5, bior3.7, bior3.9, bior4.4, bior5.5, bior6.8\n",
      "rbio family: rbio1.1, rbio1.3, rbio1.5, rbio2.2, rbio2.4, rbio2.6, rbio2.8, rbio3.1, rbio3.3, rbio3.5, rbio3.7, rbio3.9, rbio4.4, rbio5.5, rbio6.8\n",
      "dmey family: dmey\n",
      "gaus family: gaus1, gaus2, gaus3, gaus4, gaus5, gaus6, gaus7, gaus8\n",
      "mexh family: mexh\n",
      "morl family: morl\n",
      "cgau family: cgau1, cgau2, cgau3, cgau4, cgau5, cgau6, cgau7, cgau8\n",
      "shan family: shan\n",
      "fbsp family: fbsp\n",
      "cmor family: cmor\n"
     ]
    }
   ],
   "source": [
    "import pickle\n",
    "import Feature_Extraction\n",
    "import pandas as pd\n",
    "import numpy as np"
   ]
  },
  {
   "cell_type": "code",
   "execution_count": 2,
   "outputs": [],
   "source": [
    "def load_in_participant_data(path):\n",
    "    with open(path, 'rb') as pickle_file:\n",
    "        loaded_data = pickle.load(pickle_file)\n",
    "\n",
    "    NeedToSearch = loaded_data[0]\n",
    "    CorrectSearch = loaded_data[1]\n",
    "    IncorrectSearch = loaded_data[2]\n",
    "\n",
    "    return NeedToSearch, CorrectSearch, IncorrectSearch"
   ],
   "metadata": {
    "collapsed": false,
    "ExecuteTime": {
     "start_time": "2023-11-28T11:40:18.101826Z",
     "end_time": "2023-11-28T11:40:18.117493Z"
    }
   }
  },
  {
   "cell_type": "code",
   "execution_count": 3,
   "outputs": [],
   "source": [
    "import numpy as np\n",
    "from scipy.stats import skew, kurtosis\n",
    "from scipy.signal import welch\n",
    "\n",
    "\n",
    "def extract_features_extended(eeg_segment):\n",
    "    features = []\n",
    "\n",
    "    # Basic statistical features for each channel\n",
    "    mean_vals = np.mean(eeg_segment, axis=1)\n",
    "    std_devs = np.std(eeg_segment, axis=1)\n",
    "    max_vals = np.max(eeg_segment, axis=1)\n",
    "    min_vals = np.min(eeg_segment, axis=1)\n",
    "    skewness_vals = skew(eeg_segment, axis=1)\n",
    "    kurtosis_vals = kurtosis(eeg_segment, axis=1)\n",
    "\n",
    "    features.extend(mean_vals)\n",
    "    features.extend(std_devs)\n",
    "    features.extend(max_vals)\n",
    "    features.extend(min_vals)\n",
    "    features.extend(skewness_vals)\n",
    "    features.extend(kurtosis_vals)\n",
    "\n",
    "    # Frequency domain features using Welch's method\n",
    "    for channel_data in eeg_segment:\n",
    "        f, psd = welch(channel_data, fs=500, nperseg=256)\n",
    "        psd_bands = [np.sum(psd[(f >= low) & (f < high)]) for (low, high) in [(0, 4), (4, 8), (8, 12), (12, 30), (30, 50)]]\n",
    "        spectral_entropy = -np.sum(psd * np.log2(psd + 1e-12))  # Avoid log(0)\n",
    "        peak_frequency = f[np.argmax(psd)]\n",
    "\n",
    "        features.extend(psd_bands)\n",
    "        features.append(spectral_entropy)\n",
    "        features.append(peak_frequency)\n",
    "\n",
    "    # Time-domain features\n",
    "    for channel_data in eeg_segment:\n",
    "        hjorth_params = [np.var(channel_data), np.var(np.diff(channel_data)), np.var(np.diff(np.diff(channel_data)))]\n",
    "        zero_cross_rate = np.sum(np.diff(np.sign(channel_data)) != 0) / len(channel_data)\n",
    "        waveform_length = np.sum(np.abs(np.diff(channel_data)))\n",
    "\n",
    "        features.extend(hjorth_params)\n",
    "        features.append(zero_cross_rate)\n",
    "        features.append(waveform_length)\n",
    "\n",
    "    return np.array(features)\n",
    "\n",
    "\n"
   ],
   "metadata": {
    "collapsed": false,
    "ExecuteTime": {
     "start_time": "2023-11-28T11:40:18.117493Z",
     "end_time": "2023-11-28T11:40:18.166148Z"
    }
   }
  },
  {
   "cell_type": "code",
   "execution_count": 4,
   "outputs": [],
   "source": [
    "def create_event_condition_features(event_condition):\n",
    "    list_of_events = event_condition[0]\n",
    "    list_of_events_id = event_condition[1]\n",
    "    Feature_list = []\n",
    "\n",
    "    for event in list_of_events:\n",
    "        event_data = event[0]\n",
    "        event_time = event[1]\n",
    "\n",
    "\n",
    "        features = extract_features_extended(event_data)\n",
    "        Feature_list.append(features)\n",
    "\n",
    "    return Feature_list, list_of_events_id\n"
   ],
   "metadata": {
    "collapsed": false,
    "ExecuteTime": {
     "start_time": "2023-11-28T11:40:18.133927Z",
     "end_time": "2023-11-28T11:40:18.166148Z"
    }
   }
  },
  {
   "cell_type": "code",
   "execution_count": 10,
   "outputs": [],
   "source": [
    "ParticipantList = [\"01\", \"02\", \"03\", \"04\", \"05\",\"08\", \"09\", \"10\", \"11\", \"12\", \"13\", \"14\", \"15\", \"16\", \"17\", \"18\", \"19\", \"20\", \"21\", \"22\", \"23\", \"24\"]"
   ],
   "metadata": {
    "collapsed": false,
    "ExecuteTime": {
     "start_time": "2023-11-28T12:06:31.841915Z",
     "end_time": "2023-11-28T12:06:31.857559Z"
    }
   }
  },
  {
   "cell_type": "code",
   "execution_count": 11,
   "outputs": [
    {
     "name": "stderr",
     "output_type": "stream",
     "text": [
      "C:\\Users\\gxb18167\\AppData\\Local\\Temp\\ipykernel_12736\\475317819.py:14: RuntimeWarning: Precision loss occurred in moment calculation due to catastrophic cancellation. This occurs when the data are nearly identical. Results may be unreliable.\n",
      "  skewness_vals = skew(eeg_segment, axis=1)\n",
      "C:\\Users\\gxb18167\\AppData\\Local\\Temp\\ipykernel_12736\\475317819.py:15: RuntimeWarning: Precision loss occurred in moment calculation due to catastrophic cancellation. This occurs when the data are nearly identical. Results may be unreliable.\n",
      "  kurtosis_vals = kurtosis(eeg_segment, axis=1)\n"
     ]
    }
   ],
   "source": [
    "for participant_number in ParticipantList:\n",
    "\n",
    "    path = fr\"C:\\Users\\gxb18167\\PycharmProjects\\SIGIR_EEG_GAN\\Development\\Information-Need\\Data\\DataSegments\\participant_0{participant_number}_EEG_data.pkl\"\n",
    "\n",
    "    NeedToSearch, CorrectSearch, IncorrectSearch = load_in_participant_data(path)\n",
    "\n",
    "    NeedToSearch_features = create_event_condition_features(NeedToSearch)\n",
    "    CorrectSearch_features = create_event_condition_features(CorrectSearch)\n",
    "    IncorrectSearch_features = create_event_condition_features(IncorrectSearch)\n",
    "\n",
    "    Participant_Features = {\n",
    "        'NeedToSearch': NeedToSearch_features,\n",
    "        'CorrectSearch': CorrectSearch_features,\n",
    "        'IncorrectSearch': IncorrectSearch_features\n",
    "    }\n",
    "\n",
    "    pickle_file_path = fr'C:\\Users\\gxb18167\\PycharmProjects\\SIGIR_EEG_GAN\\Development\\Information-Need\\Data\\stat_features\\participant_0{participant_number}_Features.pkl'\n",
    "\n",
    "    # Open the file in binary write mode and use pickle.dump to save the data\n",
    "    with open(pickle_file_path, 'wb') as pickle_file:\n",
    "        pickle.dump(Participant_Features, pickle_file)"
   ],
   "metadata": {
    "collapsed": false,
    "ExecuteTime": {
     "start_time": "2023-11-28T12:06:35.919430Z",
     "end_time": "2023-11-28T12:11:58.516109Z"
    }
   }
  },
  {
   "cell_type": "code",
   "execution_count": 53,
   "outputs": [],
   "source": [],
   "metadata": {
    "collapsed": false,
    "ExecuteTime": {
     "start_time": "2023-11-28T11:39:04.688769Z",
     "end_time": "2023-11-28T11:39:04.700034Z"
    }
   }
  },
  {
   "cell_type": "code",
   "execution_count": 55,
   "outputs": [],
   "source": [],
   "metadata": {
    "collapsed": false,
    "ExecuteTime": {
     "start_time": "2023-11-28T11:39:30.069828Z",
     "end_time": "2023-11-28T11:39:30.086643Z"
    }
   }
  },
  {
   "cell_type": "code",
   "execution_count": 41,
   "outputs": [],
   "source": [],
   "metadata": {
    "collapsed": false,
    "ExecuteTime": {
     "start_time": "2023-11-28T11:38:17.155536Z",
     "end_time": "2023-11-28T11:38:17.202638Z"
    }
   }
  },
  {
   "cell_type": "code",
   "execution_count": 41,
   "outputs": [],
   "source": [],
   "metadata": {
    "collapsed": false,
    "ExecuteTime": {
     "start_time": "2023-11-28T11:38:17.721845Z",
     "end_time": "2023-11-28T11:38:17.737756Z"
    }
   }
  },
  {
   "cell_type": "code",
   "execution_count": null,
   "outputs": [],
   "source": [],
   "metadata": {
    "collapsed": false
   }
  }
 ],
 "metadata": {
  "kernelspec": {
   "display_name": "Python 3",
   "language": "python",
   "name": "python3"
  },
  "language_info": {
   "codemirror_mode": {
    "name": "ipython",
    "version": 2
   },
   "file_extension": ".py",
   "mimetype": "text/x-python",
   "name": "python",
   "nbconvert_exporter": "python",
   "pygments_lexer": "ipython2",
   "version": "2.7.6"
  }
 },
 "nbformat": 4,
 "nbformat_minor": 0
}
