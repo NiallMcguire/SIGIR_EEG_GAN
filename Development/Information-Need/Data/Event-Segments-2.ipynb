{
 "cells": [
  {
   "cell_type": "code",
   "execution_count": 9,
   "metadata": {
    "collapsed": true,
    "ExecuteTime": {
     "start_time": "2023-11-22T15:57:55.183721Z",
     "end_time": "2023-11-22T15:57:55.202639Z"
    }
   },
   "outputs": [],
   "source": [
    "import preprocessing_pipeline as pp\n",
    "import mne\n",
    "import numpy as np\n",
    "import pickle"
   ]
  },
  {
   "cell_type": "code",
   "execution_count": 9,
   "outputs": [],
   "source": [],
   "metadata": {
    "collapsed": false,
    "ExecuteTime": {
     "start_time": "2023-11-22T15:57:55.378125Z",
     "end_time": "2023-11-22T15:57:55.396358Z"
    }
   }
  },
  {
   "cell_type": "code",
   "execution_count": 10,
   "outputs": [],
   "source": [
    "def load_raw_data(path):\n",
    "    raw = pp.load_eeg_data(path, eeg_format=\"cnt\", use_montage_creator=True, montage_type='standard_1020')\n",
    "    raw = pp.add_stimulus_to_raw(raw)\n",
    "    raw = pp.bandpass_filter(raw)\n",
    "    raw = pp.average_rereference(raw)\n",
    "\n",
    "    events = mne.find_events(raw, stim_channel='STI')\n",
    "    return raw, events"
   ],
   "metadata": {
    "collapsed": false,
    "ExecuteTime": {
     "start_time": "2023-11-22T15:57:55.573420Z",
     "end_time": "2023-11-22T15:57:55.591695Z"
    }
   }
  },
  {
   "cell_type": "code",
   "execution_count": 11,
   "outputs": [],
   "source": [
    "def get_need_to_search_event_times(events):\n",
    "    #Load in the IDs specific to word displays, as well as NeedToSearch conditional IDs\n",
    "    NeedToSearchIDs = [21,22,23,24,25,26,27,28,29,30,31,32,33,4,5,6,9]\n",
    "\n",
    "    events_times = mne.pick_events(events,include=NeedToSearchIDs)\n",
    "    events_times = np.array(events_times == 4, 34, events_times) #Change 4 & 5 to 34 & 35 to allow loop to run\n",
    "    events_times = np.where(events_times == 5, 35, events_times)\n",
    "    events_times = np.where(events_times == 6, 36, events_times) #Change 6 & 9 to 34 & 35 to allow loop to run\n",
    "    events_times = np.where(events_times == 9, 37, events_times)\n",
    "\n",
    "    #Segment all trials into lists of events\n",
    "    event_sequence_list = []\n",
    "    event_sequence = []\n",
    "    event_id_max = 0\n",
    "    for x in events_times:\n",
    "        event_info = x\n",
    "        event_id = event_info[2]\n",
    "        #print(event_id_max)\n",
    "        if event_id > event_id_max:\n",
    "            event_id_max = event_id\n",
    "            event_sequence.append(event_info)\n",
    "        else:\n",
    "            event_sequence_list.append(event_sequence)\n",
    "            event_sequence = []\n",
    "            event_id_max = 0\n",
    "\n",
    "    #Find all trials that contain both 34 and 35 e.g. NeedToSearch conditions\n",
    "    NeedToSearchEventTimes = []\n",
    "    CorrectEventTimes = []\n",
    "    InCorrectEventTimes = []\n",
    "    for x in event_sequence_list:\n",
    "        event_sequence = x\n",
    "        if any(34 and 35 in array for array in event_sequence) == True:\n",
    "            NeedToSearchEventTimes.append(event_sequence)\n",
    "        elif any(34 in array for array in event_sequence) == True:\n",
    "            CorrectEventTimes.append(event_sequence)\n",
    "        elif any(35 in array for array in event_sequence) == True:\n",
    "            InCorrectEventTimes.append(event_sequence)\n",
    "\n",
    "    return NeedToSearchEventTimes, CorrectEventTimes, InCorrectEventTimes\n",
    "\n"
   ],
   "metadata": {
    "collapsed": false,
    "ExecuteTime": {
     "start_time": "2023-11-22T15:57:55.859609Z",
     "end_time": "2023-11-22T15:57:55.875932Z"
    }
   }
  },
  {
   "cell_type": "code",
   "execution_count": 12,
   "outputs": [
    {
     "ename": "SyntaxError",
     "evalue": "invalid syntax (2200075877.py, line 7)",
     "output_type": "error",
     "traceback": [
      "\u001B[1;36m  Cell \u001B[1;32mIn[12], line 7\u001B[1;36m\u001B[0m\n\u001B[1;33m    start_index =\u001B[0m\n\u001B[1;37m                 ^\u001B[0m\n\u001B[1;31mSyntaxError\u001B[0m\u001B[1;31m:\u001B[0m invalid syntax\n"
     ]
    }
   ],
   "source": [
    "def get_eeg_time_segments(raw, EventTimes):\n",
    "\n",
    "    sample_rate = 500 #TODO - get this from raw\n",
    "    eeg_time_segments = []\n",
    "    for event_sequence in EventTimes:\n",
    "        for event in event_sequence:\n",
    "            start_index =\n",
    "        start_index = x[2][0]\n",
    "        end_index = int(start_index + (0.8*sample_rate))\n",
    "        cropped_data = raw[:, start_index:end_index]\n",
    "        eeg_time_segments.append(cropped_data)\n",
    "    return eeg_time_segments"
   ],
   "metadata": {
    "collapsed": false,
    "ExecuteTime": {
     "start_time": "2023-11-22T15:42:37.994417Z",
     "end_time": "2023-11-22T15:42:38.026800Z"
    }
   }
  },
  {
   "cell_type": "code",
   "execution_count": null,
   "outputs": [
    {
     "name": "stdout",
     "output_type": "stream",
     "text": [
      "Reading 0 ... 3507399  =      0.000 ...  7014.798 secs...\n"
     ]
    },
    {
     "name": "stderr",
     "output_type": "stream",
     "text": [
      "C:\\Users\\gxb18167\\PycharmProjects\\SIGIR_EEG_GAN\\Development\\Information-Need\\Data\\preprocessing_pipeline.py:137: RuntimeWarning: Could not define the number of bytes automatically. Defaulting to 2.\n",
      "  raw = mne.io.read_raw_cnt(file, preload=preload)\n",
      "C:\\Users\\gxb18167\\PycharmProjects\\SIGIR_EEG_GAN\\Development\\Information-Need\\Data\\preprocessing_pipeline.py:53: RuntimeWarning: Not setting positions of 2 misc channels found in montage:\n",
      "['A1', 'A2']\n",
      "Consider setting the channel types to be of EEG/sEEG/ECoG/DBS/fNIRS using inst.set_channel_types before calling inst.set_montage, or omit these channels when creating your montage.\n",
      "  self.raw.set_montage(montage)\n"
     ]
    },
    {
     "name": "stdout",
     "output_type": "stream",
     "text": [
      "Creating RawArray with float64 data, n_channels=1, n_times=3507400\n",
      "    Range : 0 ... 3507399 =      0.000 ...  7014.798 secs\n",
      "Ready.\n"
     ]
    }
   ],
   "source": [
    "participant_number = \"01\"\n",
    "path = fr\"I:\\Science\\CIS-YASHMOSH\\niallmcguire\\dominika\\Raw Data\\0{participant_number}\\0{participant_number}.cnt\"\n",
    "raw, events = load_raw_data(path)\n"
   ],
   "metadata": {
    "collapsed": false,
    "pycharm": {
     "is_executing": true
    }
   }
  },
  {
   "cell_type": "code",
   "execution_count": null,
   "outputs": [],
   "source": [
    "NeedToSearchEventTimes = get_need_to_search_event_times(events)"
   ],
   "metadata": {
    "collapsed": false,
    "pycharm": {
     "is_executing": true
    }
   }
  },
  {
   "cell_type": "code",
   "execution_count": null,
   "outputs": [],
   "source": [
    "NeedToSearchEventTimes"
   ],
   "metadata": {
    "collapsed": false,
    "pycharm": {
     "is_executing": true
    }
   }
  },
  {
   "cell_type": "code",
   "execution_count": 177,
   "outputs": [
    {
     "name": "stdout",
     "output_type": "stream",
     "text": [
      "Reading 0 ... 3507399  =      0.000 ...  7014.798 secs...\n"
     ]
    },
    {
     "name": "stderr",
     "output_type": "stream",
     "text": [
      "C:\\Users\\gxb18167\\PycharmProjects\\SIGIR_EEG_GAN\\Development\\Information-Need\\Data\\preprocessing_pipeline.py:137: RuntimeWarning: Could not define the number of bytes automatically. Defaulting to 2.\n",
      "  raw = mne.io.read_raw_cnt(file, preload=preload)\n",
      "C:\\Users\\gxb18167\\PycharmProjects\\SIGIR_EEG_GAN\\Development\\Information-Need\\Data\\preprocessing_pipeline.py:53: RuntimeWarning: Not setting positions of 2 misc channels found in montage:\n",
      "['A1', 'A2']\n",
      "Consider setting the channel types to be of EEG/sEEG/ECoG/DBS/fNIRS using inst.set_channel_types before calling inst.set_montage, or omit these channels when creating your montage.\n",
      "  self.raw.set_montage(montage)\n"
     ]
    },
    {
     "name": "stdout",
     "output_type": "stream",
     "text": [
      "Creating RawArray with float64 data, n_channels=1, n_times=3507400\n",
      "    Range : 0 ... 3507399 =      0.000 ...  7014.798 secs\n",
      "Ready.\n",
      "1839 events found\n",
      "Event IDs: [  1   2   3   4   5   6   7   8   9  10  11  12  13  14  20  21  22  23\n",
      "  24  25  26  27  28  29  30  31  32  33  34  35  36  39  44  55  56  57\n",
      "  58  59  60  61  62  63  64  65  66  67  68  69  70  71  72  73  74  75\n",
      "  76  77  78  79  80  81  82  83  84  85  86  87  88  89  90  91  92  93\n",
      "  94  95  96  97  98  99 100 101 102 103 104 105 106 107 108 109 110 111\n",
      " 112 113 114 115 116 117 118 119 120 121 122 123 124 125 126 127 128 129\n",
      " 130 131 132 133 134 135 136 137 138 139 140 141 142 143 144 145 146 147\n",
      " 148 149 150 151 152 154 155 156 157 158 159 160 161 162 163 164 165 166\n",
      " 167 168 169 170 171 173 174 175]\n"
     ]
    }
   ],
   "source": [
    "ParticipantList = [\"01\", \"02\", \"03\", \"04\", \"05\", \"06\", \"08\", \"09\", \"10\",\n",
    "                   \"11\", \"12\", \"13\", \"14\", \"15\", \"16\", \"18\", \"19\", \"20\",\n",
    "                   \"21\", \"22\", \"23\", \"24\"]\n",
    "\n",
    "for participant_number in ParticipantList:\n",
    "    path = fr\"I:\\Science\\CIS-YASHMOSH\\niallmcguire\\dominika\\Raw Data\\0{participant_number}\\0{participant_number}.cnt\"\n",
    "    raw, events = load_raw_data(path)\n",
    "    NeedToSearchEventTimes = get_need_to_search_event_times(events)\n",
    "    NeedToSearchEEGSegments = get_eeg_time_segments(raw, NeedToSearchEventTimes)\n",
    "    pickle_file_path = fr'C:\\Users\\gxb18167\\PycharmProjects\\SIGIR_EEG_GAN\\Development\\Information-Need\\EEG-NeedToSearch-DataSegments\\participant_0{participant_number}_EEG_data.pkl'\n",
    "\n",
    "    # Open the file in binary write mode and use pickle.dump to save the data\n",
    "    with open(pickle_file_path, 'wb') as pickle_file:\n",
    "        pickle.dump(NeedToSearchEEGSegments, pickle_file)\n"
   ],
   "metadata": {
    "collapsed": false,
    "ExecuteTime": {
     "start_time": "2023-11-22T15:37:27.429177Z",
     "end_time": "2023-11-22T15:38:08.038430Z"
    }
   }
  },
  {
   "cell_type": "code",
   "execution_count": 186,
   "outputs": [],
   "source": [],
   "metadata": {
    "collapsed": false,
    "ExecuteTime": {
     "start_time": "2023-11-22T15:42:41.303975Z",
     "end_time": "2023-11-22T15:42:41.327058Z"
    }
   }
  },
  {
   "cell_type": "code",
   "execution_count": 186,
   "outputs": [],
   "source": [],
   "metadata": {
    "collapsed": false,
    "ExecuteTime": {
     "start_time": "2023-11-22T15:42:42.019405Z",
     "end_time": "2023-11-22T15:42:42.035729Z"
    }
   }
  },
  {
   "cell_type": "code",
   "execution_count": 186,
   "outputs": [],
   "source": [],
   "metadata": {
    "collapsed": false,
    "ExecuteTime": {
     "start_time": "2023-11-22T15:42:44.998198Z",
     "end_time": "2023-11-22T15:42:45.014391Z"
    }
   }
  },
  {
   "cell_type": "code",
   "execution_count": 186,
   "outputs": [],
   "source": [],
   "metadata": {
    "collapsed": false,
    "ExecuteTime": {
     "start_time": "2023-11-22T15:42:46.973664Z",
     "end_time": "2023-11-22T15:42:46.996160Z"
    }
   }
  },
  {
   "cell_type": "code",
   "execution_count": 188,
   "outputs": [],
   "source": [],
   "metadata": {
    "collapsed": false,
    "ExecuteTime": {
     "start_time": "2023-11-22T15:44:11.891817Z",
     "end_time": "2023-11-22T15:44:11.956097Z"
    }
   }
  },
  {
   "cell_type": "code",
   "execution_count": 188,
   "outputs": [],
   "source": [
    "'''\n",
    "# Specify the file path where you saved the pickle file\n",
    "pickle_file_path = 'your_file_path.pkl'\n",
    "\n",
    "# Open the file in binary read mode and use pickle.load to load the data\n",
    "with open(pickle_file_path, 'rb') as pickle_file:\n",
    "    loaded_data = pickle.load(pickle_file)\n",
    "\n",
    "# Now 'loaded_data' contains the data structure you saved\n",
    "'''"
   ],
   "metadata": {
    "collapsed": false,
    "ExecuteTime": {
     "start_time": "2023-11-22T15:44:12.351671Z",
     "end_time": "2023-11-22T15:44:12.430040Z"
    }
   }
  },
  {
   "cell_type": "code",
   "execution_count": null,
   "outputs": [],
   "source": [],
   "metadata": {
    "collapsed": false,
    "ExecuteTime": {
     "start_time": "2023-11-21T12:39:27.307106Z",
     "end_time": "2023-11-21T12:39:27.324325Z"
    }
   }
  },
  {
   "cell_type": "code",
   "execution_count": null,
   "outputs": [],
   "source": [],
   "metadata": {
    "collapsed": false,
    "ExecuteTime": {
     "start_time": "2023-11-21T12:39:27.484315Z",
     "end_time": "2023-11-21T12:39:27.515695Z"
    }
   }
  },
  {
   "cell_type": "code",
   "execution_count": null,
   "outputs": [],
   "source": [],
   "metadata": {
    "collapsed": false,
    "ExecuteTime": {
     "start_time": "2023-11-21T12:39:27.625464Z",
     "end_time": "2023-11-21T12:39:27.656916Z"
    }
   }
  },
  {
   "cell_type": "code",
   "execution_count": null,
   "outputs": [],
   "source": [],
   "metadata": {
    "collapsed": false,
    "ExecuteTime": {
     "start_time": "2023-11-21T12:39:27.992161Z",
     "end_time": "2023-11-21T12:39:28.022245Z"
    }
   }
  },
  {
   "cell_type": "code",
   "execution_count": null,
   "outputs": [],
   "source": [],
   "metadata": {
    "collapsed": false
   }
  }
 ],
 "metadata": {
  "kernelspec": {
   "display_name": "Python 3",
   "language": "python",
   "name": "python3"
  },
  "language_info": {
   "codemirror_mode": {
    "name": "ipython",
    "version": 2
   },
   "file_extension": ".py",
   "mimetype": "text/x-python",
   "name": "python",
   "nbconvert_exporter": "python",
   "pygments_lexer": "ipython2",
   "version": "2.7.6"
  }
 },
 "nbformat": 4,
 "nbformat_minor": 0
}
