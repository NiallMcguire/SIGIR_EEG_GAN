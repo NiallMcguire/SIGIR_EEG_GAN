{
 "cells": [
  {
   "cell_type": "code",
   "execution_count": 14,
   "metadata": {
    "collapsed": true,
    "ExecuteTime": {
     "start_time": "2023-11-22T17:05:11.556828Z",
     "end_time": "2023-11-22T17:05:11.589932Z"
    }
   },
   "outputs": [],
   "source": [
    "import preprocessing_pipeline as pp\n",
    "import mne\n",
    "import numpy as np\n",
    "import pickle"
   ]
  },
  {
   "cell_type": "code",
   "execution_count": 14,
   "outputs": [],
   "source": [],
   "metadata": {
    "collapsed": false,
    "ExecuteTime": {
     "start_time": "2023-11-22T17:05:11.728635Z",
     "end_time": "2023-11-22T17:05:11.740631Z"
    }
   }
  },
  {
   "cell_type": "code",
   "execution_count": 15,
   "outputs": [],
   "source": [
    "def load_raw_data(path):\n",
    "    raw = pp.load_eeg_data(path, eeg_format=\"cnt\", use_montage_creator=True, montage_type='standard_1020')\n",
    "    raw = pp.add_stimulus_to_raw(raw)\n",
    "    raw = pp.bandpass_filter(raw)\n",
    "    raw = pp.average_rereference(raw)\n",
    "\n",
    "    events = mne.find_events(raw, stim_channel='STI')\n",
    "    return raw, events"
   ],
   "metadata": {
    "collapsed": false,
    "ExecuteTime": {
     "start_time": "2023-11-22T17:05:11.882992Z",
     "end_time": "2023-11-22T17:05:11.895999Z"
    }
   }
  },
  {
   "cell_type": "code",
   "execution_count": 32,
   "outputs": [],
   "source": [
    "def get_need_to_search_event_times(events):\n",
    "    #Load in the IDs specific to word displays, as well as NeedToSearch conditional IDs\n",
    "    NeedToSearchIDs = [21,22,23,24,25,26,27,28,29,30,31,32,33,4,5,6,9]\n",
    "\n",
    "    events_times = mne.pick_events(events,include=NeedToSearchIDs)\n",
    "    events_times = np.where(events_times == 4, 34, events_times) #Change 4 & 5 to 34 & 35 to allow loop to run\n",
    "    events_times = np.where(events_times == 5, 35, events_times)\n",
    "    events_times = np.where(events_times == 6, 36, events_times) #Change 6 & 9 to 34 & 35 to allow loop to run\n",
    "    events_times = np.where(events_times == 9, 37, events_times)\n",
    "\n",
    "    #Segment all trials into lists of events\n",
    "    event_sequence_list = []\n",
    "    event_sequence = []\n",
    "    event_id_max = 0\n",
    "    for x in events_times:\n",
    "        event_info = x\n",
    "        event_id = event_info[2]\n",
    "        #print(event_id_max)\n",
    "        if event_id > event_id_max:\n",
    "            event_id_max = event_id\n",
    "            event_sequence.append(event_info)\n",
    "        else:\n",
    "            event_sequence_list.append(event_sequence)\n",
    "            event_sequence = []\n",
    "            event_id_max = 0\n",
    "\n",
    "    #Find all trials that contain both 34 and 35 e.g. NeedToSearch conditions\n",
    "    NeedToSearchEventTimes = []\n",
    "    CorrectEventTimes = []\n",
    "    InCorrectEventTimes = []\n",
    "    for x in event_sequence_list:\n",
    "        event_sequence = x\n",
    "        if any(36 and 37 in array for array in event_sequence) == True:\n",
    "            NeedToSearchEventTimes.append(event_sequence)\n",
    "        elif any(34 in array for array in event_sequence) == True:\n",
    "            CorrectEventTimes.append(event_sequence)\n",
    "        elif any(35 in array for array in event_sequence) == True:\n",
    "            InCorrectEventTimes.append(event_sequence)\n",
    "\n",
    "    return NeedToSearchEventTimes, CorrectEventTimes, InCorrectEventTimes\n",
    "\n"
   ],
   "metadata": {
    "collapsed": false,
    "ExecuteTime": {
     "start_time": "2023-11-22T17:13:57.934563Z",
     "end_time": "2023-11-22T17:13:58.006193Z"
    }
   }
  },
  {
   "cell_type": "code",
   "execution_count": 66,
   "outputs": [],
   "source": [
    "def get_eeg_time_segments(raw, EventTimes):\n",
    "    raw_copy = raw.copy()\n",
    "    sample_rate = 500 #TODO - get this from raw\n",
    "    eeg_time_segments = []\n",
    "    egg_event_ids = []\n",
    "    for event_sequence in EventTimes:\n",
    "        for event in event_sequence:\n",
    "            start_index = event[0]\n",
    "\n",
    "            end_index = int(start_index + (0.8*sample_rate))\n",
    "            cropped_data = raw_copy[:, start_index:end_index]\n",
    "            eeg_time_segments.append(cropped_data)\n",
    "            egg_event_ids.append(event[2])\n",
    "    return eeg_time_segments, egg_event_ids"
   ],
   "metadata": {
    "collapsed": false,
    "ExecuteTime": {
     "start_time": "2023-11-22T17:19:10.739041Z",
     "end_time": "2023-11-22T17:19:10.768791Z"
    }
   }
  },
  {
   "cell_type": "code",
   "execution_count": 18,
   "outputs": [
    {
     "name": "stdout",
     "output_type": "stream",
     "text": [
      "Reading 0 ... 3507399  =      0.000 ...  7014.798 secs...\n"
     ]
    },
    {
     "name": "stderr",
     "output_type": "stream",
     "text": [
      "C:\\Users\\gxb18167\\PycharmProjects\\SIGIR_EEG_GAN\\Development\\Information-Need\\Data\\preprocessing_pipeline.py:137: RuntimeWarning: Could not define the number of bytes automatically. Defaulting to 2.\n",
      "  raw = mne.io.read_raw_cnt(file, preload=preload)\n",
      "C:\\Users\\gxb18167\\PycharmProjects\\SIGIR_EEG_GAN\\Development\\Information-Need\\Data\\preprocessing_pipeline.py:53: RuntimeWarning: Not setting positions of 2 misc channels found in montage:\n",
      "['A1', 'A2']\n",
      "Consider setting the channel types to be of EEG/sEEG/ECoG/DBS/fNIRS using inst.set_channel_types before calling inst.set_montage, or omit these channels when creating your montage.\n",
      "  self.raw.set_montage(montage)\n"
     ]
    },
    {
     "name": "stdout",
     "output_type": "stream",
     "text": [
      "Creating RawArray with float64 data, n_channels=1, n_times=3507400\n",
      "    Range : 0 ... 3507399 =      0.000 ...  7014.798 secs\n",
      "Ready.\n",
      "Filtering raw data in 1 contiguous segment\n",
      "Setting up band-pass filter from 0.5 - 50 Hz\n",
      "\n",
      "FIR filter parameters\n",
      "---------------------\n",
      "Designing a one-pass, zero-phase, non-causal bandpass filter:\n",
      "- Windowed time-domain design (firwin) method\n",
      "- Hamming window with 0.0194 passband ripple and 53 dB stopband attenuation\n",
      "- Lower passband edge: 0.50\n",
      "- Lower transition bandwidth: 0.10 Hz (-6 dB cutoff frequency: 0.45 Hz)\n",
      "- Upper passband edge: 50.00 Hz\n",
      "- Upper transition bandwidth: 0.50 Hz (-6 dB cutoff frequency: 50.25 Hz)\n",
      "- Filter length: 16501 samples (33.002 sec)\n",
      "\n"
     ]
    },
    {
     "name": "stderr",
     "output_type": "stream",
     "text": [
      "[Parallel(n_jobs=4)]: Using backend LokyBackend with 4 concurrent workers.\n",
      "[Parallel(n_jobs=4)]: Done  14 tasks      | elapsed:   10.1s\n",
      "[Parallel(n_jobs=4)]: Done  34 out of  34 | elapsed:   16.8s finished\n"
     ]
    },
    {
     "name": "stdout",
     "output_type": "stream",
     "text": [
      "Applying average reference.\n",
      "Applying a custom ('EEG',) reference.\n",
      "1839 events found\n",
      "Event IDs: [  1   2   3   4   5   6   7   8   9  10  11  12  13  14  20  21  22  23\n",
      "  24  25  26  27  28  29  30  31  32  33  34  35  36  39  44  55  56  57\n",
      "  58  59  60  61  62  63  64  65  66  67  68  69  70  71  72  73  74  75\n",
      "  76  77  78  79  80  81  82  83  84  85  86  87  88  89  90  91  92  93\n",
      "  94  95  96  97  98  99 100 101 102 103 104 105 106 107 108 109 110 111\n",
      " 112 113 114 115 116 117 118 119 120 121 122 123 124 125 126 127 128 129\n",
      " 130 131 132 133 134 135 136 137 138 139 140 141 142 143 144 145 146 147\n",
      " 148 149 150 151 152 154 155 156 157 158 159 160 161 162 163 164 165 166\n",
      " 167 168 169 170 171 173 174 175]\n"
     ]
    }
   ],
   "source": [
    "participant_number = \"01\"\n",
    "path = fr\"I:\\Science\\CIS-YASHMOSH\\niallmcguire\\dominika\\Raw Data\\0{participant_number}\\0{participant_number}.cnt\"\n",
    "raw, events = load_raw_data(path)\n"
   ],
   "metadata": {
    "collapsed": false,
    "ExecuteTime": {
     "start_time": "2023-11-22T17:05:13.732411Z",
     "end_time": "2023-11-22T17:06:54.051216Z"
    }
   }
  },
  {
   "cell_type": "code",
   "execution_count": 64,
   "outputs": [],
   "source": [
    "NeedToSearchEventTimes, CorrectEventTimes, InCorrectEventTimes  = get_need_to_search_event_times(events)"
   ],
   "metadata": {
    "collapsed": false,
    "ExecuteTime": {
     "start_time": "2023-11-22T17:19:02.528835Z",
     "end_time": "2023-11-22T17:19:02.592499Z"
    }
   }
  },
  {
   "cell_type": "code",
   "execution_count": 68,
   "outputs": [
    {
     "ename": "TypeError",
     "evalue": "only length-1 arrays can be converted to Python scalars",
     "output_type": "error",
     "traceback": [
      "\u001B[1;31m---------------------------------------------------------------------------\u001B[0m",
      "\u001B[1;31mTypeError\u001B[0m                                 Traceback (most recent call last)",
      "Cell \u001B[1;32mIn[68], line 3\u001B[0m\n\u001B[0;32m      1\u001B[0m \u001B[38;5;66;03m#NeedToSearchEEGSegments, NeedToSearchEventIDs = get_eeg_time_segments(raw, NeedToSearchEventTimes)\u001B[39;00m\n\u001B[0;32m      2\u001B[0m \u001B[38;5;66;03m#CorrectEventTimes, CorrectEventIDs = get_eeg_time_segments(raw, CorrectEventTimes)\u001B[39;00m\n\u001B[1;32m----> 3\u001B[0m InCorrectEventTimes, InCorrectEventIDs \u001B[38;5;241m=\u001B[39m \u001B[43mget_eeg_time_segments\u001B[49m\u001B[43m(\u001B[49m\u001B[43mraw\u001B[49m\u001B[43m,\u001B[49m\u001B[43m \u001B[49m\u001B[43mInCorrectEventTimes\u001B[49m\u001B[43m)\u001B[49m\n",
      "Cell \u001B[1;32mIn[66], line 10\u001B[0m, in \u001B[0;36mget_eeg_time_segments\u001B[1;34m(raw, EventTimes)\u001B[0m\n\u001B[0;32m      7\u001B[0m \u001B[38;5;28;01mfor\u001B[39;00m event \u001B[38;5;129;01min\u001B[39;00m event_sequence:\n\u001B[0;32m      8\u001B[0m     start_index \u001B[38;5;241m=\u001B[39m event[\u001B[38;5;241m0\u001B[39m]\n\u001B[1;32m---> 10\u001B[0m     end_index \u001B[38;5;241m=\u001B[39m \u001B[38;5;28;43mint\u001B[39;49m\u001B[43m(\u001B[49m\u001B[43mstart_index\u001B[49m\u001B[43m \u001B[49m\u001B[38;5;241;43m+\u001B[39;49m\u001B[43m \u001B[49m\u001B[43m(\u001B[49m\u001B[38;5;241;43m0.8\u001B[39;49m\u001B[38;5;241;43m*\u001B[39;49m\u001B[43msample_rate\u001B[49m\u001B[43m)\u001B[49m\u001B[43m)\u001B[49m\n\u001B[0;32m     11\u001B[0m     cropped_data \u001B[38;5;241m=\u001B[39m raw_copy[:, start_index:end_index]\n\u001B[0;32m     12\u001B[0m     eeg_time_segments\u001B[38;5;241m.\u001B[39mappend(cropped_data)\n",
      "\u001B[1;31mTypeError\u001B[0m: only length-1 arrays can be converted to Python scalars"
     ]
    }
   ],
   "source": [
    "#NeedToSearchEEGSegments, NeedToSearchEventIDs = get_eeg_time_segments(raw, NeedToSearchEventTimes)\n",
    "#CorrectEventTimes, CorrectEventIDs = get_eeg_time_segments(raw, CorrectEventTimes)\n",
    "InCorrectEventTimes, InCorrectEventIDs = get_eeg_time_segments(raw, InCorrectEventTimes)"
   ],
   "metadata": {
    "collapsed": false,
    "ExecuteTime": {
     "start_time": "2023-11-22T17:19:03.125332Z",
     "end_time": "2023-11-22T17:19:04.147326Z"
    }
   }
  },
  {
   "cell_type": "code",
   "execution_count": 53,
   "outputs": [
    {
     "data": {
      "text/plain": "[[array([85499,     0,    22], dtype=int64),\n  array([86299,     0,    23], dtype=int64),\n  array([87099,     0,    24], dtype=int64),\n  array([87899,     0,    25], dtype=int64),\n  array([88699,     0,    26], dtype=int64),\n  array([89499,     0,    27], dtype=int64),\n  array([90299,     0,    28], dtype=int64),\n  array([91099,     0,    29], dtype=int64),\n  array([102477,      0,     35], dtype=int64)],\n [array([110215,      0,     22], dtype=int64),\n  array([111015,      0,     23], dtype=int64),\n  array([111815,      0,     24], dtype=int64),\n  array([129475,      0,     35], dtype=int64)],\n [array([138181,      0,     22], dtype=int64),\n  array([138981,      0,     23], dtype=int64),\n  array([139781,      0,     24], dtype=int64),\n  array([140581,      0,     25], dtype=int64),\n  array([141381,      0,     26], dtype=int64),\n  array([142181,      0,     27], dtype=int64),\n  array([142981,      0,     28], dtype=int64),\n  array([143781,      0,     29], dtype=int64),\n  array([144581,      0,     30], dtype=int64),\n  array([145381,      0,     31], dtype=int64),\n  array([156843,      0,     35], dtype=int64)],\n [array([329759,      0,     22], dtype=int64),\n  array([330559,      0,     23], dtype=int64),\n  array([331359,      0,     24], dtype=int64),\n  array([343783,      0,     35], dtype=int64)],\n [array([374759,      0,     22], dtype=int64),\n  array([375559,      0,     23], dtype=int64),\n  array([376359,      0,     24], dtype=int64),\n  array([377159,      0,     25], dtype=int64),\n  array([377959,      0,     26], dtype=int64),\n  array([378759,      0,     27], dtype=int64),\n  array([379559,      0,     28], dtype=int64),\n  array([380359,      0,     29], dtype=int64),\n  array([391557,      0,     35], dtype=int64)],\n [array([401641,      0,     22], dtype=int64),\n  array([402441,      0,     23], dtype=int64),\n  array([403241,      0,     24], dtype=int64),\n  array([404041,      0,     25], dtype=int64),\n  array([404841,      0,     26], dtype=int64),\n  array([405641,      0,     27], dtype=int64),\n  array([406441,      0,     28], dtype=int64),\n  array([407241,      0,     29], dtype=int64),\n  array([408041,      0,     30], dtype=int64),\n  array([408841,      0,     31], dtype=int64),\n  array([417877,      0,     35], dtype=int64)],\n [array([450991,      0,     22], dtype=int64),\n  array([451791,      0,     23], dtype=int64),\n  array([452591,      0,     24], dtype=int64),\n  array([466029,      0,     35], dtype=int64)],\n [array([472775,      0,     22], dtype=int64),\n  array([473575,      0,     23], dtype=int64),\n  array([474375,      0,     24], dtype=int64),\n  array([475175,      0,     25], dtype=int64),\n  array([475975,      0,     26], dtype=int64),\n  array([476775,      0,     27], dtype=int64),\n  array([477575,      0,     28], dtype=int64),\n  array([478375,      0,     29], dtype=int64),\n  array([479175,      0,     30], dtype=int64),\n  array([479973,      0,     31], dtype=int64),\n  array([487061,      0,     35], dtype=int64)],\n [array([497107,      0,     22], dtype=int64),\n  array([497907,      0,     23], dtype=int64),\n  array([498707,      0,     24], dtype=int64),\n  array([499507,      0,     25], dtype=int64),\n  array([500307,      0,     26], dtype=int64),\n  array([501107,      0,     27], dtype=int64),\n  array([501907,      0,     28], dtype=int64),\n  array([502707,      0,     29], dtype=int64),\n  array([503507,      0,     30], dtype=int64),\n  array([512349,      0,     35], dtype=int64)],\n [array([542257,      0,     22], dtype=int64),\n  array([543057,      0,     23], dtype=int64),\n  array([543857,      0,     24], dtype=int64),\n  array([544657,      0,     25], dtype=int64),\n  array([545457,      0,     26], dtype=int64),\n  array([552803,      0,     35], dtype=int64)],\n [array([559739,      0,     22], dtype=int64),\n  array([560539,      0,     23], dtype=int64),\n  array([561339,      0,     24], dtype=int64),\n  array([562139,      0,     25], dtype=int64),\n  array([562941,      0,     26], dtype=int64),\n  array([563741,      0,     27], dtype=int64),\n  array([564539,      0,     28], dtype=int64),\n  array([565339,      0,     29], dtype=int64),\n  array([566139,      0,     30], dtype=int64),\n  array([577203,      0,     35], dtype=int64)],\n [array([583573,      0,     22], dtype=int64),\n  array([584373,      0,     23], dtype=int64),\n  array([585173,      0,     24], dtype=int64),\n  array([585973,      0,     25], dtype=int64),\n  array([600395,      0,     35], dtype=int64)],\n [array([635455,      0,     22], dtype=int64),\n  array([636255,      0,     23], dtype=int64),\n  array([637055,      0,     24], dtype=int64),\n  array([637855,      0,     25], dtype=int64),\n  array([638655,      0,     26], dtype=int64),\n  array([639455,      0,     27], dtype=int64),\n  array([640255,      0,     28], dtype=int64),\n  array([641055,      0,     29], dtype=int64),\n  array([641855,      0,     30], dtype=int64),\n  array([642655,      0,     31], dtype=int64),\n  array([643455,      0,     32], dtype=int64),\n  array([644255,      0,     33], dtype=int64),\n  array([654883,      0,     35], dtype=int64)],\n [array([682005,      0,     22], dtype=int64),\n  array([682805,      0,     23], dtype=int64),\n  array([683605,      0,     24], dtype=int64),\n  array([684405,      0,     25], dtype=int64),\n  array([685205,      0,     26], dtype=int64),\n  array([686005,      0,     27], dtype=int64),\n  array([686805,      0,     28], dtype=int64),\n  array([687605,      0,     29], dtype=int64),\n  array([696923,      0,     35], dtype=int64)],\n [array([956801,      0,     22], dtype=int64),\n  array([957601,      0,     23], dtype=int64),\n  array([958401,      0,     24], dtype=int64),\n  array([959201,      0,     25], dtype=int64),\n  array([960001,      0,     26], dtype=int64),\n  array([960801,      0,     27], dtype=int64),\n  array([971047,      0,     35], dtype=int64)],\n [array([1374463,       0,      22], dtype=int64),\n  array([1375263,       0,      23], dtype=int64),\n  array([1386457,       0,      35], dtype=int64)],\n [array([1418495,       0,      22], dtype=int64),\n  array([1419295,       0,      23], dtype=int64),\n  array([1420095,       0,      24], dtype=int64),\n  array([1420895,       0,      25], dtype=int64),\n  array([1421695,       0,      26], dtype=int64),\n  array([1422495,       0,      27], dtype=int64),\n  array([1423295,       0,      28], dtype=int64),\n  array([1424095,       0,      29], dtype=int64),\n  array([1431857,       0,      35], dtype=int64)],\n [array([1623321,       0,      22], dtype=int64),\n  array([1624121,       0,      23], dtype=int64),\n  array([1624921,       0,      24], dtype=int64),\n  array([1625721,       0,      25], dtype=int64),\n  array([1626521,       0,      26], dtype=int64),\n  array([1627321,       0,      27], dtype=int64),\n  array([1628121,       0,      28], dtype=int64),\n  array([1628921,       0,      29], dtype=int64),\n  array([1636369,       0,      35], dtype=int64)],\n [array([1731487,       0,      22], dtype=int64),\n  array([1732287,       0,      23], dtype=int64),\n  array([1733087,       0,      24], dtype=int64),\n  array([1733887,       0,      25], dtype=int64),\n  array([1734687,       0,      26], dtype=int64),\n  array([1735487,       0,      27], dtype=int64),\n  array([1736287,       0,      28], dtype=int64),\n  array([1737087,       0,      29], dtype=int64),\n  array([1737887,       0,      30], dtype=int64),\n  array([1738687,       0,      31], dtype=int64),\n  array([1751023,       0,      35], dtype=int64)],\n [array([1804919,       0,      22], dtype=int64),\n  array([1805719,       0,      23], dtype=int64),\n  array([1806519,       0,      24], dtype=int64),\n  array([1807319,       0,      25], dtype=int64),\n  array([1808119,       0,      26], dtype=int64),\n  array([1808919,       0,      27], dtype=int64),\n  array([1809719,       0,      28], dtype=int64),\n  array([1817061,       0,      35], dtype=int64)],\n [array([2008599,       0,      22], dtype=int64),\n  array([2009399,       0,      23], dtype=int64),\n  array([2010197,       0,      24], dtype=int64),\n  array([2010997,       0,      25], dtype=int64),\n  array([2011799,       0,      26], dtype=int64),\n  array([2022649,       0,      35], dtype=int64)],\n [array([2689951,       0,      21], dtype=int64),\n  array([2690751,       0,      22], dtype=int64),\n  array([2691551,       0,      23], dtype=int64),\n  array([2700421,       0,      35], dtype=int64)],\n [array([2706985,       0,      22], dtype=int64),\n  array([2707785,       0,      23], dtype=int64),\n  array([2708585,       0,      24], dtype=int64),\n  array([2709385,       0,      25], dtype=int64),\n  array([2710185,       0,      26], dtype=int64),\n  array([2710985,       0,      27], dtype=int64),\n  array([2711785,       0,      28], dtype=int64),\n  array([2712585,       0,      29], dtype=int64),\n  array([2713385,       0,      30], dtype=int64),\n  array([2714185,       0,      31], dtype=int64),\n  array([2714985,       0,      32], dtype=int64),\n  array([2715785,       0,      33], dtype=int64),\n  array([2724123,       0,      35], dtype=int64)],\n [array([2746735,       0,      22], dtype=int64),\n  array([2747535,       0,      23], dtype=int64),\n  array([2748335,       0,      24], dtype=int64),\n  array([2749145,       0,      25], dtype=int64),\n  array([2749951,       0,      26], dtype=int64),\n  array([2750751,       0,      27], dtype=int64),\n  array([2751551,       0,      28], dtype=int64),\n  array([2761683,       0,      35], dtype=int64)],\n [array([2767951,       0,      22], dtype=int64),\n  array([2768751,       0,      23], dtype=int64),\n  array([2769551,       0,      24], dtype=int64),\n  array([2770351,       0,      25], dtype=int64),\n  array([2771151,       0,      26], dtype=int64),\n  array([2771951,       0,      27], dtype=int64),\n  array([2772751,       0,      28], dtype=int64),\n  array([2773551,       0,      29], dtype=int64),\n  array([2774351,       0,      30], dtype=int64),\n  array([2775151,       0,      31], dtype=int64),\n  array([2775951,       0,      32], dtype=int64),\n  array([2776751,       0,      33], dtype=int64),\n  array([2785355,       0,      35], dtype=int64)],\n [array([2791951,       0,      22], dtype=int64),\n  array([2792751,       0,      23], dtype=int64),\n  array([2793551,       0,      24], dtype=int64),\n  array([2794351,       0,      25], dtype=int64),\n  array([2795151,       0,      26], dtype=int64),\n  array([2795951,       0,      27], dtype=int64),\n  array([2796751,       0,      28], dtype=int64),\n  array([2801595,       0,      35], dtype=int64)],\n [array([2809101,       0,      22], dtype=int64),\n  array([2809901,       0,      23], dtype=int64),\n  array([2810701,       0,      24], dtype=int64),\n  array([2811501,       0,      25], dtype=int64),\n  array([2821251,       0,      35], dtype=int64)],\n [array([2875333,       0,      22], dtype=int64),\n  array([2876133,       0,      23], dtype=int64),\n  array([2876933,       0,      24], dtype=int64),\n  array([2877733,       0,      25], dtype=int64),\n  array([2878533,       0,      26], dtype=int64),\n  array([2891843,       0,      35], dtype=int64)],\n [array([2954581,       0,      22], dtype=int64),\n  array([2955381,       0,      23], dtype=int64),\n  array([2956181,       0,      24], dtype=int64),\n  array([2956981,       0,      25], dtype=int64),\n  array([2957781,       0,      26], dtype=int64),\n  array([2958581,       0,      27], dtype=int64),\n  array([2959381,       0,      28], dtype=int64),\n  array([2960181,       0,      29], dtype=int64),\n  array([2960981,       0,      30], dtype=int64),\n  array([2961781,       0,      31], dtype=int64),\n  array([2974871,       0,      35], dtype=int64)],\n [array([3169993,       0,      22], dtype=int64),\n  array([3170793,       0,      23], dtype=int64),\n  array([3171595,       0,      24], dtype=int64),\n  array([3172393,       0,      25], dtype=int64),\n  array([3173193,       0,      26], dtype=int64),\n  array([3173993,       0,      27], dtype=int64),\n  array([3174793,       0,      28], dtype=int64),\n  array([3175593,       0,      29], dtype=int64),\n  array([3176393,       0,      30], dtype=int64),\n  array([3177193,       0,      31], dtype=int64),\n  array([3177993,       0,      32], dtype=int64),\n  array([3178793,       0,      33], dtype=int64),\n  array([3189477,       0,      35], dtype=int64)],\n [array([3239793,       0,      22], dtype=int64),\n  array([3240593,       0,      23], dtype=int64),\n  array([3241393,       0,      24], dtype=int64),\n  array([3242193,       0,      25], dtype=int64),\n  array([3242993,       0,      26], dtype=int64),\n  array([3243793,       0,      27], dtype=int64),\n  array([3244593,       0,      28], dtype=int64),\n  array([3245393,       0,      29], dtype=int64),\n  array([3246193,       0,      30], dtype=int64),\n  array([3254883,       0,      35], dtype=int64)],\n [array([3261459,       0,      22], dtype=int64),\n  array([3262259,       0,      23], dtype=int64),\n  array([3263059,       0,      24], dtype=int64),\n  array([3263857,       0,      25], dtype=int64),\n  array([3264657,       0,      26], dtype=int64),\n  array([3265457,       0,      27], dtype=int64),\n  array([3266257,       0,      28], dtype=int64),\n  array([3277457,       0,      35], dtype=int64)],\n [array([3379223,       0,      22], dtype=int64),\n  array([3380023,       0,      23], dtype=int64),\n  array([3380823,       0,      24], dtype=int64),\n  array([3381623,       0,      25], dtype=int64),\n  array([3382423,       0,      26], dtype=int64),\n  array([3383223,       0,      27], dtype=int64),\n  array([3384023,       0,      28], dtype=int64),\n  array([3384823,       0,      29], dtype=int64),\n  array([3393313,       0,      35], dtype=int64)],\n [array([3421255,       0,      22], dtype=int64),\n  array([3422055,       0,      23], dtype=int64),\n  array([3422855,       0,      24], dtype=int64),\n  array([3423655,       0,      25], dtype=int64),\n  array([3424455,       0,      26], dtype=int64),\n  array([3425255,       0,      27], dtype=int64),\n  array([3426055,       0,      28], dtype=int64),\n  array([3426855,       0,      29], dtype=int64),\n  array([3427655,       0,      30], dtype=int64),\n  array([3428455,       0,      31], dtype=int64),\n  array([3429255,       0,      32], dtype=int64),\n  array([3430055,       0,      33], dtype=int64),\n  array([3436455,       0,      35], dtype=int64)]]"
     },
     "execution_count": 53,
     "metadata": {},
     "output_type": "execute_result"
    }
   ],
   "source": [
    "InCorrectEventTimes"
   ],
   "metadata": {
    "collapsed": false,
    "ExecuteTime": {
     "start_time": "2023-11-22T17:17:30.385644Z",
     "end_time": "2023-11-22T17:17:30.424284Z"
    }
   }
  },
  {
   "cell_type": "code",
   "execution_count": 177,
   "outputs": [
    {
     "name": "stdout",
     "output_type": "stream",
     "text": [
      "Reading 0 ... 3507399  =      0.000 ...  7014.798 secs...\n"
     ]
    },
    {
     "name": "stderr",
     "output_type": "stream",
     "text": [
      "C:\\Users\\gxb18167\\PycharmProjects\\SIGIR_EEG_GAN\\Development\\Information-Need\\Data\\preprocessing_pipeline.py:137: RuntimeWarning: Could not define the number of bytes automatically. Defaulting to 2.\n",
      "  raw = mne.io.read_raw_cnt(file, preload=preload)\n",
      "C:\\Users\\gxb18167\\PycharmProjects\\SIGIR_EEG_GAN\\Development\\Information-Need\\Data\\preprocessing_pipeline.py:53: RuntimeWarning: Not setting positions of 2 misc channels found in montage:\n",
      "['A1', 'A2']\n",
      "Consider setting the channel types to be of EEG/sEEG/ECoG/DBS/fNIRS using inst.set_channel_types before calling inst.set_montage, or omit these channels when creating your montage.\n",
      "  self.raw.set_montage(montage)\n"
     ]
    },
    {
     "name": "stdout",
     "output_type": "stream",
     "text": [
      "Creating RawArray with float64 data, n_channels=1, n_times=3507400\n",
      "    Range : 0 ... 3507399 =      0.000 ...  7014.798 secs\n",
      "Ready.\n",
      "1839 events found\n",
      "Event IDs: [  1   2   3   4   5   6   7   8   9  10  11  12  13  14  20  21  22  23\n",
      "  24  25  26  27  28  29  30  31  32  33  34  35  36  39  44  55  56  57\n",
      "  58  59  60  61  62  63  64  65  66  67  68  69  70  71  72  73  74  75\n",
      "  76  77  78  79  80  81  82  83  84  85  86  87  88  89  90  91  92  93\n",
      "  94  95  96  97  98  99 100 101 102 103 104 105 106 107 108 109 110 111\n",
      " 112 113 114 115 116 117 118 119 120 121 122 123 124 125 126 127 128 129\n",
      " 130 131 132 133 134 135 136 137 138 139 140 141 142 143 144 145 146 147\n",
      " 148 149 150 151 152 154 155 156 157 158 159 160 161 162 163 164 165 166\n",
      " 167 168 169 170 171 173 174 175]\n"
     ]
    }
   ],
   "source": [
    "ParticipantList = [\"01\", \"02\", \"03\", \"04\", \"05\", \"06\", \"08\", \"09\", \"10\",\n",
    "                   \"11\", \"12\", \"13\", \"14\", \"15\", \"16\", \"18\", \"19\", \"20\",\n",
    "                   \"21\", \"22\", \"23\", \"24\"]\n",
    "\n",
    "for participant_number in ParticipantList:\n",
    "    path = fr\"I:\\Science\\CIS-YASHMOSH\\niallmcguire\\dominika\\Raw Data\\0{participant_number}\\0{participant_number}.cnt\"\n",
    "    raw, events = load_raw_data(path)\n",
    "    NeedToSearchEventTimes = get_need_to_search_event_times(events)\n",
    "    NeedToSearchEEGSegments = get_eeg_time_segments(raw, NeedToSearchEventTimes)\n",
    "    pickle_file_path = fr'C:\\Users\\gxb18167\\PycharmProjects\\SIGIR_EEG_GAN\\Development\\Information-Need\\EEG-NeedToSearch-DataSegments\\participant_0{participant_number}_EEG_data.pkl'\n",
    "\n",
    "    # Open the file in binary write mode and use pickle.dump to save the data\n",
    "    with open(pickle_file_path, 'wb') as pickle_file:\n",
    "        pickle.dump(NeedToSearchEEGSegments, pickle_file)\n"
   ],
   "metadata": {
    "collapsed": false,
    "ExecuteTime": {
     "start_time": "2023-11-22T15:37:27.429177Z",
     "end_time": "2023-11-22T15:38:08.038430Z"
    }
   }
  },
  {
   "cell_type": "code",
   "execution_count": 186,
   "outputs": [],
   "source": [],
   "metadata": {
    "collapsed": false,
    "ExecuteTime": {
     "start_time": "2023-11-22T15:42:41.303975Z",
     "end_time": "2023-11-22T15:42:41.327058Z"
    }
   }
  },
  {
   "cell_type": "code",
   "execution_count": 186,
   "outputs": [],
   "source": [],
   "metadata": {
    "collapsed": false,
    "ExecuteTime": {
     "start_time": "2023-11-22T15:42:42.019405Z",
     "end_time": "2023-11-22T15:42:42.035729Z"
    }
   }
  },
  {
   "cell_type": "code",
   "execution_count": 186,
   "outputs": [],
   "source": [],
   "metadata": {
    "collapsed": false,
    "ExecuteTime": {
     "start_time": "2023-11-22T15:42:44.998198Z",
     "end_time": "2023-11-22T15:42:45.014391Z"
    }
   }
  },
  {
   "cell_type": "code",
   "execution_count": 186,
   "outputs": [],
   "source": [],
   "metadata": {
    "collapsed": false,
    "ExecuteTime": {
     "start_time": "2023-11-22T15:42:46.973664Z",
     "end_time": "2023-11-22T15:42:46.996160Z"
    }
   }
  },
  {
   "cell_type": "code",
   "execution_count": 188,
   "outputs": [],
   "source": [],
   "metadata": {
    "collapsed": false,
    "ExecuteTime": {
     "start_time": "2023-11-22T15:44:11.891817Z",
     "end_time": "2023-11-22T15:44:11.956097Z"
    }
   }
  },
  {
   "cell_type": "code",
   "execution_count": 188,
   "outputs": [],
   "source": [
    "'''\n",
    "# Specify the file path where you saved the pickle file\n",
    "pickle_file_path = 'your_file_path.pkl'\n",
    "\n",
    "# Open the file in binary read mode and use pickle.load to load the data\n",
    "with open(pickle_file_path, 'rb') as pickle_file:\n",
    "    loaded_data = pickle.load(pickle_file)\n",
    "\n",
    "# Now 'loaded_data' contains the data structure you saved\n",
    "'''"
   ],
   "metadata": {
    "collapsed": false,
    "ExecuteTime": {
     "start_time": "2023-11-22T15:44:12.351671Z",
     "end_time": "2023-11-22T15:44:12.430040Z"
    }
   }
  },
  {
   "cell_type": "code",
   "execution_count": null,
   "outputs": [],
   "source": [],
   "metadata": {
    "collapsed": false,
    "ExecuteTime": {
     "start_time": "2023-11-21T12:39:27.307106Z",
     "end_time": "2023-11-21T12:39:27.324325Z"
    }
   }
  },
  {
   "cell_type": "code",
   "execution_count": null,
   "outputs": [],
   "source": [],
   "metadata": {
    "collapsed": false,
    "ExecuteTime": {
     "start_time": "2023-11-21T12:39:27.484315Z",
     "end_time": "2023-11-21T12:39:27.515695Z"
    }
   }
  },
  {
   "cell_type": "code",
   "execution_count": null,
   "outputs": [],
   "source": [],
   "metadata": {
    "collapsed": false,
    "ExecuteTime": {
     "start_time": "2023-11-21T12:39:27.625464Z",
     "end_time": "2023-11-21T12:39:27.656916Z"
    }
   }
  },
  {
   "cell_type": "code",
   "execution_count": null,
   "outputs": [],
   "source": [],
   "metadata": {
    "collapsed": false,
    "ExecuteTime": {
     "start_time": "2023-11-21T12:39:27.992161Z",
     "end_time": "2023-11-21T12:39:28.022245Z"
    }
   }
  },
  {
   "cell_type": "code",
   "execution_count": null,
   "outputs": [],
   "source": [],
   "metadata": {
    "collapsed": false
   }
  }
 ],
 "metadata": {
  "kernelspec": {
   "display_name": "Python 3",
   "language": "python",
   "name": "python3"
  },
  "language_info": {
   "codemirror_mode": {
    "name": "ipython",
    "version": 2
   },
   "file_extension": ".py",
   "mimetype": "text/x-python",
   "name": "python",
   "nbconvert_exporter": "python",
   "pygments_lexer": "ipython2",
   "version": "2.7.6"
  }
 },
 "nbformat": 4,
 "nbformat_minor": 0
}
