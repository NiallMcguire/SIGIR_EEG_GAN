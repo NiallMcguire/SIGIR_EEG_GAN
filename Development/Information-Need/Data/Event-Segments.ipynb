{
 "cells": [
  {
   "cell_type": "code",
   "execution_count": 48,
   "metadata": {
    "collapsed": true,
    "ExecuteTime": {
     "start_time": "2023-11-21T12:45:35.475992Z",
     "end_time": "2023-11-21T12:45:35.486895Z"
    }
   },
   "outputs": [],
   "source": [
    "import preprocessing_pipeline as pp\n",
    "import mne\n",
    "import numpy as np\n",
    "import pickle"
   ]
  },
  {
   "cell_type": "code",
   "execution_count": 34,
   "outputs": [],
   "source": [],
   "metadata": {
    "collapsed": false,
    "ExecuteTime": {
     "start_time": "2023-11-21T12:41:56.247934Z",
     "end_time": "2023-11-21T12:41:56.280388Z"
    }
   }
  },
  {
   "cell_type": "code",
   "execution_count": 35,
   "outputs": [],
   "source": [
    "def load_raw_data(path):\n",
    "    raw = pp.load_eeg_data(path, eeg_format=\"cnt\", use_montage_creator=True, montage_type='standard_1020')\n",
    "    raw = pp.add_stimulus_to_raw(raw)\n",
    "    events = mne.find_events(raw, stim_channel='STI')\n",
    "    return raw, events"
   ],
   "metadata": {
    "collapsed": false,
    "ExecuteTime": {
     "start_time": "2023-11-21T12:41:56.377547Z",
     "end_time": "2023-11-21T12:41:56.409293Z"
    }
   }
  },
  {
   "cell_type": "code",
   "execution_count": 36,
   "outputs": [],
   "source": [
    "def get_need_to_search_event_times(events):\n",
    "    #Load in the IDs specific to word displays, as well as NeedToSearch conditional IDs\n",
    "    NeedToSearchIDs = [21,22,23,24,25,26,27,28,29,30,31,32,33,6,9]\n",
    "    events_times = mne.pick_events(events,include=NeedToSearchIDs)\n",
    "    events_times = np.where(events_times == 6, 34, events_times) #Change 6 & 9 to 34 & 35 to allow loop to run\n",
    "    events_times = np.where(events_times == 9, 35, events_times)\n",
    "\n",
    "    #Segment all trials into lists of events\n",
    "    event_sequence_list = []\n",
    "    event_sequence = []\n",
    "    event_id_max = 0\n",
    "    for x in events_times:\n",
    "        event_info = x\n",
    "        event_id = event_info[2]\n",
    "        #print(event_id_max)\n",
    "        if event_id > event_id_max:\n",
    "            event_id_max = event_id\n",
    "            event_sequence.append(event_info)\n",
    "        else:\n",
    "            event_sequence_list.append(event_sequence)\n",
    "            event_sequence = []\n",
    "            event_id_max = 0\n",
    "\n",
    "    #Find all trials that contain both 34 and 35 e.g. NeedToSearch conditions\n",
    "    NeedToSearchEventTimes = []\n",
    "    for x in event_sequence_list:\n",
    "        event_sequence = x\n",
    "        value_present = any(34 and 35 in array for array in event_sequence)\n",
    "        if value_present:\n",
    "            NeedToSearchEventTimes.append(event_sequence)\n",
    "\n",
    "    return NeedToSearchEventTimes\n",
    "\n"
   ],
   "metadata": {
    "collapsed": false,
    "ExecuteTime": {
     "start_time": "2023-11-21T12:41:56.556361Z",
     "end_time": "2023-11-21T12:41:56.563762Z"
    }
   }
  },
  {
   "cell_type": "code",
   "execution_count": 37,
   "outputs": [],
   "source": [
    "def get_eeg_time_segments(raw, NeedToSearchEventTimes):\n",
    "    sample_rate = 500 #TODO - get this from raw\n",
    "    eeg_time_segments = []\n",
    "    for x in NeedToSearchEventTimes:\n",
    "        start_index = x[2][0]\n",
    "        end_index = int(start_index + (0.8*sample_rate))\n",
    "        cropped_data = raw[:, start_index:end_index]\n",
    "        eeg_time_segments.append(cropped_data)\n",
    "    return eeg_time_segments"
   ],
   "metadata": {
    "collapsed": false,
    "ExecuteTime": {
     "start_time": "2023-11-21T12:41:56.716630Z",
     "end_time": "2023-11-21T12:41:56.742086Z"
    }
   }
  },
  {
   "cell_type": "code",
   "execution_count": 57,
   "outputs": [
    {
     "name": "stdout",
     "output_type": "stream",
     "text": [
      "Reading 0 ... 3507399  =      0.000 ...  7014.798 secs...\n"
     ]
    },
    {
     "name": "stderr",
     "output_type": "stream",
     "text": [
      "C:\\Users\\gxb18167\\PycharmProjects\\SIGIR_EEG_GAN\\Development\\Information-Need\\Data\\preprocessing_pipeline.py:137: RuntimeWarning: Could not define the number of bytes automatically. Defaulting to 2.\n",
      "  raw = mne.io.read_raw_cnt(file, preload=preload)\n",
      "C:\\Users\\gxb18167\\PycharmProjects\\SIGIR_EEG_GAN\\Development\\Information-Need\\Data\\preprocessing_pipeline.py:53: RuntimeWarning: Not setting positions of 2 misc channels found in montage:\n",
      "['A1', 'A2']\n",
      "Consider setting the channel types to be of EEG/sEEG/ECoG/DBS/fNIRS using inst.set_channel_types before calling inst.set_montage, or omit these channels when creating your montage.\n",
      "  self.raw.set_montage(montage)\n"
     ]
    },
    {
     "name": "stdout",
     "output_type": "stream",
     "text": [
      "Creating RawArray with float64 data, n_channels=1, n_times=3507400\n",
      "    Range : 0 ... 3507399 =      0.000 ...  7014.798 secs\n",
      "Ready.\n",
      "1839 events found\n",
      "Event IDs: [  1   2   3   4   5   6   7   8   9  10  11  12  13  14  20  21  22  23\n",
      "  24  25  26  27  28  29  30  31  32  33  34  35  36  39  44  55  56  57\n",
      "  58  59  60  61  62  63  64  65  66  67  68  69  70  71  72  73  74  75\n",
      "  76  77  78  79  80  81  82  83  84  85  86  87  88  89  90  91  92  93\n",
      "  94  95  96  97  98  99 100 101 102 103 104 105 106 107 108 109 110 111\n",
      " 112 113 114 115 116 117 118 119 120 121 122 123 124 125 126 127 128 129\n",
      " 130 131 132 133 134 135 136 137 138 139 140 141 142 143 144 145 146 147\n",
      " 148 149 150 151 152 154 155 156 157 158 159 160 161 162 163 164 165 166\n",
      " 167 168 169 170 171 173 174 175]\n",
      "Reading 0 ... 2586879  =      0.000 ...  5173.758 secs...\n"
     ]
    },
    {
     "name": "stderr",
     "output_type": "stream",
     "text": [
      "C:\\Users\\gxb18167\\PycharmProjects\\SIGIR_EEG_GAN\\Development\\Information-Need\\Data\\preprocessing_pipeline.py:137: RuntimeWarning: Could not define the number of bytes automatically. Defaulting to 2.\n",
      "  raw = mne.io.read_raw_cnt(file, preload=preload)\n",
      "C:\\Users\\gxb18167\\PycharmProjects\\SIGIR_EEG_GAN\\Development\\Information-Need\\Data\\preprocessing_pipeline.py:53: RuntimeWarning: Not setting positions of 2 misc channels found in montage:\n",
      "['A1', 'A2']\n",
      "Consider setting the channel types to be of EEG/sEEG/ECoG/DBS/fNIRS using inst.set_channel_types before calling inst.set_montage, or omit these channels when creating your montage.\n",
      "  self.raw.set_montage(montage)\n"
     ]
    },
    {
     "name": "stdout",
     "output_type": "stream",
     "text": [
      "Creating RawArray with float64 data, n_channels=1, n_times=2586880\n",
      "    Range : 0 ... 2586879 =      0.000 ...  5173.758 secs\n",
      "Ready.\n",
      "1836 events found\n",
      "Event IDs: [  1   2   3   4   5   6   7   8   9  11  12  13  14  16  21  22  23  24\n",
      "  25  26  27  28  29  30  31  32  33  34  36  37  55  56  57  58  59  60\n",
      "  61  62  63  64  65  66  67  68  69  70  71  72  73  74  75  76  77  78\n",
      "  79  80  81  82  83  84  85  86  87  88  89  90  91  92  93  94  95  96\n",
      "  97  98  99 100 101 102 103 104 105 106 107 108 109 110 111 112 113 114\n",
      " 115 116 117 118 119 120 121 122 123 124 125 126 127 128 129 130 131 132\n",
      " 133 134 135 136 137 138 139 140 141 142 143 144 145 146 147 148 149 151\n",
      " 152 153 154 155 156 157 158 159 160 161 162 163 164 165 166 167 168 169\n",
      " 170 171 172 173 174 175]\n",
      "Reading 0 ... 2633159  =      0.000 ...  5266.318 secs...\n"
     ]
    },
    {
     "name": "stderr",
     "output_type": "stream",
     "text": [
      "C:\\Users\\gxb18167\\PycharmProjects\\SIGIR_EEG_GAN\\Development\\Information-Need\\Data\\preprocessing_pipeline.py:137: RuntimeWarning: Could not define the number of bytes automatically. Defaulting to 2.\n",
      "  raw = mne.io.read_raw_cnt(file, preload=preload)\n",
      "C:\\Users\\gxb18167\\PycharmProjects\\SIGIR_EEG_GAN\\Development\\Information-Need\\Data\\preprocessing_pipeline.py:53: RuntimeWarning: Not setting positions of 2 misc channels found in montage:\n",
      "['A1', 'A2']\n",
      "Consider setting the channel types to be of EEG/sEEG/ECoG/DBS/fNIRS using inst.set_channel_types before calling inst.set_montage, or omit these channels when creating your montage.\n",
      "  self.raw.set_montage(montage)\n"
     ]
    },
    {
     "name": "stdout",
     "output_type": "stream",
     "text": [
      "Creating RawArray with float64 data, n_channels=1, n_times=2633160\n",
      "    Range : 0 ... 2633159 =      0.000 ...  5266.318 secs\n",
      "Ready.\n",
      "1837 events found\n",
      "Event IDs: [  1   2   3   4   5   6   7   8   9  10  11  12  13  14  16  19  21  22\n",
      "  23  24  25  26  27  28  29  30  31  32  33  36  55  56  57  58  59  60\n",
      "  61  62  63  64  65  66  67  68  69  70  71  72  73  74  75  76  77  78\n",
      "  79  80  81  82  83  84  85  86  87  88  89  90  91  92  93  94  95  96\n",
      "  97  98  99 100 101 102 103 104 105 106 107 108 109 110 111 112 113 114\n",
      " 115 116 117 118 119 120 121 122 123 124 125 126 127 128 129 130 131 132\n",
      " 133 134 135 136 137 138 139 140 141 142 143 144 145 146 147 148 149 150\n",
      " 151 152 153 154 155 157 159 160 161 162 163 164 165 166 167 168 169 170\n",
      " 172 173 174 175]\n",
      "Reading 0 ... 2620599  =      0.000 ...  5241.198 secs...\n"
     ]
    },
    {
     "name": "stderr",
     "output_type": "stream",
     "text": [
      "C:\\Users\\gxb18167\\PycharmProjects\\SIGIR_EEG_GAN\\Development\\Information-Need\\Data\\preprocessing_pipeline.py:137: RuntimeWarning: Could not define the number of bytes automatically. Defaulting to 2.\n",
      "  raw = mne.io.read_raw_cnt(file, preload=preload)\n",
      "C:\\Users\\gxb18167\\PycharmProjects\\SIGIR_EEG_GAN\\Development\\Information-Need\\Data\\preprocessing_pipeline.py:53: RuntimeWarning: Not setting positions of 2 misc channels found in montage:\n",
      "['A1', 'A2']\n",
      "Consider setting the channel types to be of EEG/sEEG/ECoG/DBS/fNIRS using inst.set_channel_types before calling inst.set_montage, or omit these channels when creating your montage.\n",
      "  self.raw.set_montage(montage)\n"
     ]
    },
    {
     "name": "stdout",
     "output_type": "stream",
     "text": [
      "Creating RawArray with float64 data, n_channels=1, n_times=2620600\n",
      "    Range : 0 ... 2620599 =      0.000 ...  5241.198 secs\n",
      "Ready.\n",
      "1835 events found\n",
      "Event IDs: [  1   2   3   4   5   6   7   8   9  10  11  12  13  14  21  22  23  24\n",
      "  25  26  27  28  29  30  31  32  33  44  55  56  57  58  59  60  61  62\n",
      "  63  64  65  66  67  68  69  70  71  72  73  74  75  76  77  78  79  80\n",
      "  81  82  83  84  85  86  87  88  89  90  91  92  93  94  95  96  97  98\n",
      "  99 100 101 102 103 104 105 106 107 108 109 110 111 112 113 114 115 116\n",
      " 117 118 119 120 121 122 123 124 125 126 127 128 129 130 131 132 133 134\n",
      " 135 136 137 138 139 140 141 142 143 144 145 146 148 149 150 151 152 153\n",
      " 154 155 156 157 158 159 160 161 162 163 164 165 166 167 168 169 170 171\n",
      " 172 173 174 175]\n",
      "Reading 0 ... 2570119  =      0.000 ...  5140.238 secs...\n"
     ]
    },
    {
     "name": "stderr",
     "output_type": "stream",
     "text": [
      "C:\\Users\\gxb18167\\PycharmProjects\\SIGIR_EEG_GAN\\Development\\Information-Need\\Data\\preprocessing_pipeline.py:137: RuntimeWarning: Could not define the number of bytes automatically. Defaulting to 2.\n",
      "  raw = mne.io.read_raw_cnt(file, preload=preload)\n",
      "C:\\Users\\gxb18167\\PycharmProjects\\SIGIR_EEG_GAN\\Development\\Information-Need\\Data\\preprocessing_pipeline.py:53: RuntimeWarning: Not setting positions of 2 misc channels found in montage:\n",
      "['A1', 'A2']\n",
      "Consider setting the channel types to be of EEG/sEEG/ECoG/DBS/fNIRS using inst.set_channel_types before calling inst.set_montage, or omit these channels when creating your montage.\n",
      "  self.raw.set_montage(montage)\n"
     ]
    },
    {
     "name": "stdout",
     "output_type": "stream",
     "text": [
      "Creating RawArray with float64 data, n_channels=1, n_times=2570120\n",
      "    Range : 0 ... 2570119 =      0.000 ...  5140.238 secs\n",
      "Ready.\n",
      "1839 events found\n",
      "Event IDs: [  1   2   3   4   5   6   7   8   9  11  12  13  14  19  21  22  23  24\n",
      "  25  26  27  28  29  30  31  32  33  34  35  36  43  46  55  56  57  58\n",
      "  59  60  61  62  63  64  65  66  67  68  69  70  71  72  73  74  75  76\n",
      "  77  78  79  80  81  82  83  84  85  86  87  88  89  90  91  92  93  94\n",
      "  95  96  97  98  99 100 101 102 103 104 105 106 107 108 109 110 111 112\n",
      " 113 114 115 116 117 118 119 120 121 122 123 124 125 126 127 128 129 130\n",
      " 131 132 133 134 135 136 137 138 139 140 141 142 143 144 145 146 147 148\n",
      " 149 150 151 152 153 154 155 157 158 159 160 161 162 163 164 165 166 167\n",
      " 168 169 170 171 172 173 174 175]\n",
      "Reading 0 ... 2654159  =      0.000 ...  5308.318 secs...\n"
     ]
    },
    {
     "name": "stderr",
     "output_type": "stream",
     "text": [
      "C:\\Users\\gxb18167\\PycharmProjects\\SIGIR_EEG_GAN\\Development\\Information-Need\\Data\\preprocessing_pipeline.py:137: RuntimeWarning: Could not define the number of bytes automatically. Defaulting to 2.\n",
      "  raw = mne.io.read_raw_cnt(file, preload=preload)\n",
      "C:\\Users\\gxb18167\\PycharmProjects\\SIGIR_EEG_GAN\\Development\\Information-Need\\Data\\preprocessing_pipeline.py:53: RuntimeWarning: Not setting positions of 2 misc channels found in montage:\n",
      "['A1', 'A2']\n",
      "Consider setting the channel types to be of EEG/sEEG/ECoG/DBS/fNIRS using inst.set_channel_types before calling inst.set_montage, or omit these channels when creating your montage.\n",
      "  self.raw.set_montage(montage)\n"
     ]
    },
    {
     "name": "stdout",
     "output_type": "stream",
     "text": [
      "Creating RawArray with float64 data, n_channels=1, n_times=2654160\n",
      "    Range : 0 ... 2654159 =      0.000 ...  5308.318 secs\n",
      "Ready.\n",
      "1841 events found\n",
      "Event IDs: [  1   2   3   4   5   6   7   8  10  11  12  13  14  17  18  20  21  22\n",
      "  23  24  25  26  27  28  29  30  31  32  33  35  38  43  55  56  57  58\n",
      "  59  60  61  62  63  64  65  66  67  68  69  70  71  72  73  74  75  76\n",
      "  77  78  79  80  81  82  83  84  85  86  87  88  89  90  91  92  93  94\n",
      "  95  96  97  98  99 100 101 102 103 104 105 106 107 108 109 110 111 112\n",
      " 113 114 115 116 117 118 119 120 121 122 123 124 125 126 127 128 129 130\n",
      " 131 132 133 134 135 136 137 138 139 140 141 142 143 144 145 146 147 148\n",
      " 149 150 151 152 153 154 155 156 157 158 159 160 161 162 163 164 165 166\n",
      " 167 168 169 170 171 172 174 175]\n",
      "Reading 0 ... 2988079  =      0.000 ...  5976.158 secs...\n"
     ]
    },
    {
     "name": "stderr",
     "output_type": "stream",
     "text": [
      "C:\\Users\\gxb18167\\PycharmProjects\\SIGIR_EEG_GAN\\Development\\Information-Need\\Data\\preprocessing_pipeline.py:137: RuntimeWarning:   Could not parse meas date from the header. Setting to None.\n",
      "  raw = mne.io.read_raw_cnt(file, preload=preload)\n",
      "C:\\Users\\gxb18167\\PycharmProjects\\SIGIR_EEG_GAN\\Development\\Information-Need\\Data\\preprocessing_pipeline.py:137: RuntimeWarning: Could not define the number of bytes automatically. Defaulting to 2.\n",
      "  raw = mne.io.read_raw_cnt(file, preload=preload)\n",
      "C:\\Users\\gxb18167\\PycharmProjects\\SIGIR_EEG_GAN\\Development\\Information-Need\\Data\\preprocessing_pipeline.py:53: RuntimeWarning: Not setting positions of 2 misc channels found in montage:\n",
      "['A1', 'A2']\n",
      "Consider setting the channel types to be of EEG/sEEG/ECoG/DBS/fNIRS using inst.set_channel_types before calling inst.set_montage, or omit these channels when creating your montage.\n",
      "  self.raw.set_montage(montage)\n"
     ]
    },
    {
     "name": "stdout",
     "output_type": "stream",
     "text": [
      "Creating RawArray with float64 data, n_channels=1, n_times=2988080\n",
      "    Range : 0 ... 2988079 =      0.000 ...  5976.158 secs\n",
      "Ready.\n",
      "1833 events found\n",
      "Event IDs: [  1   2   3   4   5   6   7   8   9  10  11  12  13  14  17  21  22  23\n",
      "  24  25  26  27  28  29  30  31  32  33  38  39  55  56  57  58  59  60\n",
      "  61  62  63  64  65  66  67  68  69  70  71  72  73  74  75  76  77  78\n",
      "  79  80  81  82  83  84  85  86  87  88  89  90  91  92  93  94  95  96\n",
      "  97  98  99 100 101 102 103 104 105 106 107 108 109 110 111 112 113 114\n",
      " 115 116 117 118 119 120 121 122 123 124 125 126 127 128 129 130 131 132\n",
      " 133 134 135 137 138 139 141 142 143 144 145 146 147 148 149 150 151 152\n",
      " 153 154 155 156 157 158 160 161 162 164 165 166 167 168 169 170 171 172\n",
      " 173 175]\n",
      "Reading 0 ... 2978879  =      0.000 ...  5957.758 secs...\n"
     ]
    },
    {
     "name": "stderr",
     "output_type": "stream",
     "text": [
      "C:\\Users\\gxb18167\\PycharmProjects\\SIGIR_EEG_GAN\\Development\\Information-Need\\Data\\preprocessing_pipeline.py:137: RuntimeWarning:   Could not parse meas date from the header. Setting to None.\n",
      "  raw = mne.io.read_raw_cnt(file, preload=preload)\n",
      "C:\\Users\\gxb18167\\PycharmProjects\\SIGIR_EEG_GAN\\Development\\Information-Need\\Data\\preprocessing_pipeline.py:137: RuntimeWarning: Could not define the number of bytes automatically. Defaulting to 2.\n",
      "  raw = mne.io.read_raw_cnt(file, preload=preload)\n",
      "C:\\Users\\gxb18167\\PycharmProjects\\SIGIR_EEG_GAN\\Development\\Information-Need\\Data\\preprocessing_pipeline.py:53: RuntimeWarning: Not setting positions of 2 misc channels found in montage:\n",
      "['A1', 'A2']\n",
      "Consider setting the channel types to be of EEG/sEEG/ECoG/DBS/fNIRS using inst.set_channel_types before calling inst.set_montage, or omit these channels when creating your montage.\n",
      "  self.raw.set_montage(montage)\n"
     ]
    },
    {
     "name": "stdout",
     "output_type": "stream",
     "text": [
      "Creating RawArray with float64 data, n_channels=1, n_times=2978880\n",
      "    Range : 0 ... 2978879 =      0.000 ...  5957.758 secs\n",
      "Ready.\n",
      "1666 events found\n",
      "Event IDs: [  1   2   3   4   5   6   7   8   9  11  12  13  14  21  22  23  24  25\n",
      "  26  27  28  29  30  31  32  33  38  47  55  56  57  58  59  60  61  63\n",
      "  64  65  66  67  68  69  70  71  72  73  74  75  76  77  78  79  80  81\n",
      "  82  83  84  85  86  87  89  90  91  92  93  94  95  96  97  98  99 100\n",
      " 101 102 104 105 106 108 109 110 111 113 114 115 116 117 118 119 120 121\n",
      " 122 123 124 125 126 128 129 130 131 132 134 135 136 137 139 140 141 143\n",
      " 144 145 146 147 149 150 151 152 153 154 155 156 157 158 159 160 161 162\n",
      " 163 165 166 167 169 170 172 173 174 175]\n",
      "Reading 0 ... 2366119  =      0.000 ...  4732.238 secs...\n"
     ]
    },
    {
     "name": "stderr",
     "output_type": "stream",
     "text": [
      "C:\\Users\\gxb18167\\PycharmProjects\\SIGIR_EEG_GAN\\Development\\Information-Need\\Data\\preprocessing_pipeline.py:137: RuntimeWarning:   Could not parse meas date from the header. Setting to None.\n",
      "  raw = mne.io.read_raw_cnt(file, preload=preload)\n",
      "C:\\Users\\gxb18167\\PycharmProjects\\SIGIR_EEG_GAN\\Development\\Information-Need\\Data\\preprocessing_pipeline.py:137: RuntimeWarning: Could not define the number of bytes automatically. Defaulting to 2.\n",
      "  raw = mne.io.read_raw_cnt(file, preload=preload)\n",
      "C:\\Users\\gxb18167\\PycharmProjects\\SIGIR_EEG_GAN\\Development\\Information-Need\\Data\\preprocessing_pipeline.py:53: RuntimeWarning: Not setting positions of 2 misc channels found in montage:\n",
      "['A1', 'A2']\n",
      "Consider setting the channel types to be of EEG/sEEG/ECoG/DBS/fNIRS using inst.set_channel_types before calling inst.set_montage, or omit these channels when creating your montage.\n",
      "  self.raw.set_montage(montage)\n"
     ]
    },
    {
     "name": "stdout",
     "output_type": "stream",
     "text": [
      "Creating RawArray with float64 data, n_channels=1, n_times=2366120\n",
      "    Range : 0 ... 2366119 =      0.000 ...  4732.238 secs\n",
      "Ready.\n",
      "1831 events found\n",
      "Event IDs: [  1   2   3   4   5   6   7   8   9  11  12  13  14  21  22  23  24  25\n",
      "  26  27  28  29  30  31  32  33  37  55  56  57  58  59  60  61  62  63\n",
      "  64  65  66  67  68  69  70  71  72  73  74  75  76  77  78  79  80  81\n",
      "  82  83  84  85  86  87  88  89  90  91  92  93  94  95  96  97  98  99\n",
      " 100 101 103 104 105 106 107 108 109 110 111 112 113 114 115 116 117 118\n",
      " 119 120 121 122 123 124 125 126 127 128 129 130 131 132 133 134 135 136\n",
      " 137 138 139 140 141 142 143 144 145 146 147 148 149 150 151 152 153 154\n",
      " 155 156 157 158 159 160 161 162 163 164 165 166 168 169 170 171 172 173\n",
      " 174 175]\n",
      "Reading 0 ... 2515359  =      0.000 ...  5030.718 secs...\n"
     ]
    },
    {
     "name": "stderr",
     "output_type": "stream",
     "text": [
      "C:\\Users\\gxb18167\\PycharmProjects\\SIGIR_EEG_GAN\\Development\\Information-Need\\Data\\preprocessing_pipeline.py:137: RuntimeWarning:   Could not parse meas date from the header. Setting to None.\n",
      "  raw = mne.io.read_raw_cnt(file, preload=preload)\n",
      "C:\\Users\\gxb18167\\PycharmProjects\\SIGIR_EEG_GAN\\Development\\Information-Need\\Data\\preprocessing_pipeline.py:137: RuntimeWarning: Could not define the number of bytes automatically. Defaulting to 2.\n",
      "  raw = mne.io.read_raw_cnt(file, preload=preload)\n",
      "C:\\Users\\gxb18167\\PycharmProjects\\SIGIR_EEG_GAN\\Development\\Information-Need\\Data\\preprocessing_pipeline.py:53: RuntimeWarning: Not setting positions of 2 misc channels found in montage:\n",
      "['A1', 'A2']\n",
      "Consider setting the channel types to be of EEG/sEEG/ECoG/DBS/fNIRS using inst.set_channel_types before calling inst.set_montage, or omit these channels when creating your montage.\n",
      "  self.raw.set_montage(montage)\n"
     ]
    },
    {
     "name": "stdout",
     "output_type": "stream",
     "text": [
      "Creating RawArray with float64 data, n_channels=1, n_times=2515360\n",
      "    Range : 0 ... 2515359 =      0.000 ...  5030.718 secs\n",
      "Ready.\n",
      "1836 events found\n",
      "Event IDs: [  1   2   3   4   5   6   7   8   9  10  11  12  13  14  15  16  21  22\n",
      "  23  24  25  26  27  28  29  30  31  32  33  34  55  56  57  58  59  60\n",
      "  61  62  63  64  65  66  67  68  69  70  71  72  73  74  75  76  77  78\n",
      "  79  80  81  82  83  84  85  86  87  88  89  90  91  92  93  94  95  96\n",
      "  97  98  99 100 101 102 103 104 105 106 107 108 109 110 111 112 113 114\n",
      " 115 116 117 118 119 120 121 122 123 124 125 126 127 128 129 130 131 132\n",
      " 133 134 135 136 137 138 139 140 141 142 143 144 145 146 147 148 149 150\n",
      " 151 152 153 154 155 156 157 158 159 160 161 162 163 164 165 167 168 169\n",
      " 170 171 172 173 174 175]\n",
      "Reading 0 ... 2733759  =      0.000 ...  5467.518 secs...\n"
     ]
    },
    {
     "name": "stderr",
     "output_type": "stream",
     "text": [
      "C:\\Users\\gxb18167\\PycharmProjects\\SIGIR_EEG_GAN\\Development\\Information-Need\\Data\\preprocessing_pipeline.py:137: RuntimeWarning:   Could not parse meas date from the header. Setting to None.\n",
      "  raw = mne.io.read_raw_cnt(file, preload=preload)\n",
      "C:\\Users\\gxb18167\\PycharmProjects\\SIGIR_EEG_GAN\\Development\\Information-Need\\Data\\preprocessing_pipeline.py:137: RuntimeWarning: Could not define the number of bytes automatically. Defaulting to 2.\n",
      "  raw = mne.io.read_raw_cnt(file, preload=preload)\n",
      "C:\\Users\\gxb18167\\PycharmProjects\\SIGIR_EEG_GAN\\Development\\Information-Need\\Data\\preprocessing_pipeline.py:53: RuntimeWarning: Not setting positions of 2 misc channels found in montage:\n",
      "['A1', 'A2']\n",
      "Consider setting the channel types to be of EEG/sEEG/ECoG/DBS/fNIRS using inst.set_channel_types before calling inst.set_montage, or omit these channels when creating your montage.\n",
      "  self.raw.set_montage(montage)\n"
     ]
    },
    {
     "name": "stdout",
     "output_type": "stream",
     "text": [
      "Creating RawArray with float64 data, n_channels=1, n_times=2733760\n",
      "    Range : 0 ... 2733759 =      0.000 ...  5467.518 secs\n",
      "Ready.\n",
      "1837 events found\n",
      "Event IDs: [  1   2   3   4   5   6   7   8   9  10  11  12  13  14  16  21  22  23\n",
      "  24  25  26  27  28  29  30  31  32  33  41  55  56  57  58  59  60  61\n",
      "  62  63  64  65  66  67  68  69  70  71  72  73  74  75  76  77  78  79\n",
      "  80  81  82  83  84  85  86  87  88  89  90  91  92  93  94  95  96  97\n",
      "  98  99 100 101 102 103 104 105 106 107 108 109 110 111 112 113 114 115\n",
      " 116 117 118 119 120 121 122 123 124 125 126 127 128 129 130 131 132 133\n",
      " 134 135 136 137 138 139 140 141 142 143 144 145 146 147 148 149 150 151\n",
      " 152 153 154 155 156 157 158 159 160 161 162 163 164 165 166 167 168 170\n",
      " 171 172 173 174 175]\n",
      "Reading 0 ... 2660279  =      0.000 ...  5320.558 secs...\n"
     ]
    },
    {
     "name": "stderr",
     "output_type": "stream",
     "text": [
      "C:\\Users\\gxb18167\\PycharmProjects\\SIGIR_EEG_GAN\\Development\\Information-Need\\Data\\preprocessing_pipeline.py:137: RuntimeWarning:   Could not parse meas date from the header. Setting to None.\n",
      "  raw = mne.io.read_raw_cnt(file, preload=preload)\n",
      "C:\\Users\\gxb18167\\PycharmProjects\\SIGIR_EEG_GAN\\Development\\Information-Need\\Data\\preprocessing_pipeline.py:137: RuntimeWarning: Could not define the number of bytes automatically. Defaulting to 2.\n",
      "  raw = mne.io.read_raw_cnt(file, preload=preload)\n",
      "C:\\Users\\gxb18167\\PycharmProjects\\SIGIR_EEG_GAN\\Development\\Information-Need\\Data\\preprocessing_pipeline.py:53: RuntimeWarning: Not setting positions of 2 misc channels found in montage:\n",
      "['A1', 'A2']\n",
      "Consider setting the channel types to be of EEG/sEEG/ECoG/DBS/fNIRS using inst.set_channel_types before calling inst.set_montage, or omit these channels when creating your montage.\n",
      "  self.raw.set_montage(montage)\n"
     ]
    },
    {
     "name": "stdout",
     "output_type": "stream",
     "text": [
      "Creating RawArray with float64 data, n_channels=1, n_times=2660280\n",
      "    Range : 0 ... 2660279 =      0.000 ...  5320.558 secs\n",
      "Ready.\n",
      "1831 events found\n",
      "Event IDs: [  1   2   3   4   5   6   7   8   9  11  12  13  14  16  17  21  22  23\n",
      "  24  25  26  27  28  29  30  31  32  33  38  55  56  57  58  59  60  61\n",
      "  62  63  64  65  66  67  68  69  70  71  72  73  74  75  76  77  78  79\n",
      "  80  81  82  83  84  85  86  87  88  89  90  91  92  93  94  95  96  97\n",
      "  98  99 100 101 102 103 104 105 106 107 108 109 110 111 112 113 114 115\n",
      " 116 117 118 119 120 121 122 123 124 125 126 127 128 129 130 131 132 133\n",
      " 134 135 136 137 138 139 140 141 142 143 144 145 146 147 148 150 151 152\n",
      " 153 154 155 156 157 158 159 160 161 162 163 164 165 166 167 168 169 170\n",
      " 171 172 173 174 175]\n",
      "Reading 0 ... 2476279  =      0.000 ...  4952.558 secs...\n"
     ]
    },
    {
     "name": "stderr",
     "output_type": "stream",
     "text": [
      "C:\\Users\\gxb18167\\PycharmProjects\\SIGIR_EEG_GAN\\Development\\Information-Need\\Data\\preprocessing_pipeline.py:137: RuntimeWarning:   Could not parse meas date from the header. Setting to None.\n",
      "  raw = mne.io.read_raw_cnt(file, preload=preload)\n",
      "C:\\Users\\gxb18167\\PycharmProjects\\SIGIR_EEG_GAN\\Development\\Information-Need\\Data\\preprocessing_pipeline.py:137: RuntimeWarning: Could not define the number of bytes automatically. Defaulting to 2.\n",
      "  raw = mne.io.read_raw_cnt(file, preload=preload)\n",
      "C:\\Users\\gxb18167\\PycharmProjects\\SIGIR_EEG_GAN\\Development\\Information-Need\\Data\\preprocessing_pipeline.py:53: RuntimeWarning: Not setting positions of 2 misc channels found in montage:\n",
      "['A1', 'A2']\n",
      "Consider setting the channel types to be of EEG/sEEG/ECoG/DBS/fNIRS using inst.set_channel_types before calling inst.set_montage, or omit these channels when creating your montage.\n",
      "  self.raw.set_montage(montage)\n"
     ]
    },
    {
     "name": "stdout",
     "output_type": "stream",
     "text": [
      "Creating RawArray with float64 data, n_channels=1, n_times=2476280\n",
      "    Range : 0 ... 2476279 =      0.000 ...  4952.558 secs\n",
      "Ready.\n",
      "1834 events found\n",
      "Event IDs: [  1   2   3   4   5   6   7   8   9  10  11  12  13  14  16  21  22  23\n",
      "  24  25  26  27  28  29  30  31  32  33  55  56  57  58  59  60  61  62\n",
      "  63  64  65  66  67  68  69  70  71  72  73  74  75  76  77  78  79  80\n",
      "  81  82  83  84  85  86  87  88  89  90  91  92  93  94  95  96  97  98\n",
      "  99 100 101 102 103 104 105 106 107 108 109 110 111 112 113 114 115 116\n",
      " 117 118 119 120 121 122 123 124 125 126 127 128 129 130 131 132 133 134\n",
      " 135 136 137 138 139 140 141 142 143 144 145 146 147 148 149 150 151 152\n",
      " 153 154 155 156 157 159 160 161 162 163 164 165 166 167 168 169 170 171\n",
      " 172 173 174]\n",
      "Reading 0 ... 2640319  =      0.000 ...  5280.638 secs...\n"
     ]
    },
    {
     "name": "stderr",
     "output_type": "stream",
     "text": [
      "C:\\Users\\gxb18167\\PycharmProjects\\SIGIR_EEG_GAN\\Development\\Information-Need\\Data\\preprocessing_pipeline.py:137: RuntimeWarning:   Could not parse meas date from the header. Setting to None.\n",
      "  raw = mne.io.read_raw_cnt(file, preload=preload)\n",
      "C:\\Users\\gxb18167\\PycharmProjects\\SIGIR_EEG_GAN\\Development\\Information-Need\\Data\\preprocessing_pipeline.py:137: RuntimeWarning: Could not define the number of bytes automatically. Defaulting to 2.\n",
      "  raw = mne.io.read_raw_cnt(file, preload=preload)\n",
      "C:\\Users\\gxb18167\\PycharmProjects\\SIGIR_EEG_GAN\\Development\\Information-Need\\Data\\preprocessing_pipeline.py:53: RuntimeWarning: Not setting positions of 2 misc channels found in montage:\n",
      "['A1', 'A2']\n",
      "Consider setting the channel types to be of EEG/sEEG/ECoG/DBS/fNIRS using inst.set_channel_types before calling inst.set_montage, or omit these channels when creating your montage.\n",
      "  self.raw.set_montage(montage)\n"
     ]
    },
    {
     "name": "stdout",
     "output_type": "stream",
     "text": [
      "Creating RawArray with float64 data, n_channels=1, n_times=2640320\n",
      "    Range : 0 ... 2640319 =      0.000 ...  5280.638 secs\n",
      "Ready.\n",
      "1829 events found\n",
      "Event IDs: [  1   2   3   4   5   6   7   8   9  10  11  12  13  14  16  20  21  22\n",
      "  23  24  25  26  27  28  29  30  31  32  33  55  56  57  58  59  60  61\n",
      "  62  63  64  65  66  67  68  69  70  71  72  73  74  75  76  77  78  79\n",
      "  80  81  82  83  84  85  86  87  88  89  90  91  92  93  94  95  96  97\n",
      "  98  99 100 101 102 103 104 105 106 107 108 109 110 111 112 113 114 115\n",
      " 116 117 118 119 120 121 122 123 124 125 126 127 128 129 130 131 132 133\n",
      " 134 135 136 137 138 139 140 142 143 144 145 146 147 148 149 150 151 152\n",
      " 153 154 155 156 157 158 159 160 161 162 163 165 166 167 168 169 170 171\n",
      " 172 173 174 175]\n",
      "Reading 0 ... 2558719  =      0.000 ...  5117.438 secs...\n"
     ]
    },
    {
     "name": "stderr",
     "output_type": "stream",
     "text": [
      "C:\\Users\\gxb18167\\PycharmProjects\\SIGIR_EEG_GAN\\Development\\Information-Need\\Data\\preprocessing_pipeline.py:137: RuntimeWarning: Could not define the number of bytes automatically. Defaulting to 2.\n",
      "  raw = mne.io.read_raw_cnt(file, preload=preload)\n",
      "C:\\Users\\gxb18167\\PycharmProjects\\SIGIR_EEG_GAN\\Development\\Information-Need\\Data\\preprocessing_pipeline.py:53: RuntimeWarning: Not setting positions of 2 misc channels found in montage:\n",
      "['A1', 'A2']\n",
      "Consider setting the channel types to be of EEG/sEEG/ECoG/DBS/fNIRS using inst.set_channel_types before calling inst.set_montage, or omit these channels when creating your montage.\n",
      "  self.raw.set_montage(montage)\n"
     ]
    },
    {
     "name": "stdout",
     "output_type": "stream",
     "text": [
      "Creating RawArray with float64 data, n_channels=1, n_times=2558720\n",
      "    Range : 0 ... 2558719 =      0.000 ...  5117.438 secs\n",
      "Ready.\n",
      "1829 events found\n",
      "Event IDs: [  1   2   3   4   5   6   7   8   9  10  11  12  13  14  21  22  23  24\n",
      "  25  26  27  28  29  30  31  32  33  37  40  44  55  56  57  58  59  60\n",
      "  61  62  63  64  65  66  67  68  69  70  71  72  73  74  75  76  77  78\n",
      "  79  80  81  82  83  84  85  86  87  88  89  90  91  92  93  94  95  96\n",
      "  97  98  99 100 101 102 103 104 105 106 107 108 109 110 111 112 113 114\n",
      " 115 116 117 118 119 120 121 122 123 124 125 126 127 128 129 130 132 133\n",
      " 134 135 136 138 139 140 141 142 143 144 145 146 147 148 149 150 151 153\n",
      " 154 155 156 157 158 159 160 161 162 163 164 165 166 167 168 169 170 171\n",
      " 173 174 175]\n",
      "Reading 0 ... 2694959  =      0.000 ...  5389.918 secs...\n"
     ]
    },
    {
     "name": "stderr",
     "output_type": "stream",
     "text": [
      "C:\\Users\\gxb18167\\PycharmProjects\\SIGIR_EEG_GAN\\Development\\Information-Need\\Data\\preprocessing_pipeline.py:137: RuntimeWarning: Could not define the number of bytes automatically. Defaulting to 2.\n",
      "  raw = mne.io.read_raw_cnt(file, preload=preload)\n",
      "C:\\Users\\gxb18167\\PycharmProjects\\SIGIR_EEG_GAN\\Development\\Information-Need\\Data\\preprocessing_pipeline.py:53: RuntimeWarning: Not setting positions of 2 misc channels found in montage:\n",
      "['A1', 'A2']\n",
      "Consider setting the channel types to be of EEG/sEEG/ECoG/DBS/fNIRS using inst.set_channel_types before calling inst.set_montage, or omit these channels when creating your montage.\n",
      "  self.raw.set_montage(montage)\n"
     ]
    },
    {
     "name": "stdout",
     "output_type": "stream",
     "text": [
      "Creating RawArray with float64 data, n_channels=1, n_times=2694960\n",
      "    Range : 0 ... 2694959 =      0.000 ...  5389.918 secs\n",
      "Ready.\n",
      "1831 events found\n",
      "Event IDs: [  1   2   3   4   5   6   7   8   9  10  11  12  13  14  21  22  23  24\n",
      "  25  26  27  28  29  30  31  32  33  37  39  55  56  57  58  59  60  61\n",
      "  62  63  64  65  66  67  68  69  70  71  72  73  74  75  76  77  78  79\n",
      "  80  81  82  83  84  85  86  87  88  89  90  91  92  93  94  95  96  97\n",
      "  98  99 100 101 102 103 104 105 106 107 108 109 110 111 112 113 114 115\n",
      " 116 117 118 119 120 121 122 123 124 125 126 127 128 129 130 131 132 133\n",
      " 134 135 136 137 138 139 140 141 142 143 144 145 146 147 148 149 150 151\n",
      " 153 154 155 156 157 158 159 160 161 162 164 165 166 167 168 169 170 171\n",
      " 172 173 174 175]\n",
      "Reading 0 ... 2485439  =      0.000 ...  4970.878 secs...\n"
     ]
    },
    {
     "name": "stderr",
     "output_type": "stream",
     "text": [
      "C:\\Users\\gxb18167\\PycharmProjects\\SIGIR_EEG_GAN\\Development\\Information-Need\\Data\\preprocessing_pipeline.py:137: RuntimeWarning:   Could not parse meas date from the header. Setting to None.\n",
      "  raw = mne.io.read_raw_cnt(file, preload=preload)\n",
      "C:\\Users\\gxb18167\\PycharmProjects\\SIGIR_EEG_GAN\\Development\\Information-Need\\Data\\preprocessing_pipeline.py:137: RuntimeWarning: Could not define the number of bytes automatically. Defaulting to 2.\n",
      "  raw = mne.io.read_raw_cnt(file, preload=preload)\n",
      "C:\\Users\\gxb18167\\PycharmProjects\\SIGIR_EEG_GAN\\Development\\Information-Need\\Data\\preprocessing_pipeline.py:53: RuntimeWarning: Not setting positions of 2 misc channels found in montage:\n",
      "['A1', 'A2']\n",
      "Consider setting the channel types to be of EEG/sEEG/ECoG/DBS/fNIRS using inst.set_channel_types before calling inst.set_montage, or omit these channels when creating your montage.\n",
      "  self.raw.set_montage(montage)\n"
     ]
    },
    {
     "name": "stdout",
     "output_type": "stream",
     "text": [
      "Creating RawArray with float64 data, n_channels=1, n_times=2485440\n",
      "    Range : 0 ... 2485439 =      0.000 ...  4970.878 secs\n",
      "Ready.\n",
      "1837 events found\n",
      "Event IDs: [  1   2   3   4   5   6   7   8   9  10  11  12  13  14  15  21  22  23\n",
      "  24  25  26  27  28  29  30  31  32  33  39  43  55  56  57  58  59  60\n",
      "  61  62  63  64  65  66  67  68  69  70  71  72  73  74  75  76  77  78\n",
      "  79  80  81  82  83  84  85  86  87  88  89  90  91  92  93  94  95  96\n",
      "  97  98  99 100 101 102 103 104 105 106 107 108 109 110 111 112 113 114\n",
      " 115 116 117 118 119 120 121 122 123 124 125 126 127 128 129 130 131 132\n",
      " 133 134 136 137 138 139 140 141 142 143 144 145 146 147 148 149 150 151\n",
      " 152 153 154 155 156 157 158 159 160 162 163 164 165 166 167 168 169 171\n",
      " 172 173 174 175]\n",
      "Reading 0 ... 2375919  =      0.000 ...  4751.838 secs...\n"
     ]
    },
    {
     "name": "stderr",
     "output_type": "stream",
     "text": [
      "C:\\Users\\gxb18167\\PycharmProjects\\SIGIR_EEG_GAN\\Development\\Information-Need\\Data\\preprocessing_pipeline.py:137: RuntimeWarning:   Could not parse meas date from the header. Setting to None.\n",
      "  raw = mne.io.read_raw_cnt(file, preload=preload)\n",
      "C:\\Users\\gxb18167\\PycharmProjects\\SIGIR_EEG_GAN\\Development\\Information-Need\\Data\\preprocessing_pipeline.py:137: RuntimeWarning: Could not define the number of bytes automatically. Defaulting to 2.\n",
      "  raw = mne.io.read_raw_cnt(file, preload=preload)\n",
      "C:\\Users\\gxb18167\\PycharmProjects\\SIGIR_EEG_GAN\\Development\\Information-Need\\Data\\preprocessing_pipeline.py:53: RuntimeWarning: Not setting positions of 2 misc channels found in montage:\n",
      "['A1', 'A2']\n",
      "Consider setting the channel types to be of EEG/sEEG/ECoG/DBS/fNIRS using inst.set_channel_types before calling inst.set_montage, or omit these channels when creating your montage.\n",
      "  self.raw.set_montage(montage)\n"
     ]
    },
    {
     "name": "stdout",
     "output_type": "stream",
     "text": [
      "Creating RawArray with float64 data, n_channels=1, n_times=2375920\n",
      "    Range : 0 ... 2375919 =      0.000 ...  4751.838 secs\n",
      "Ready.\n",
      "1838 events found\n",
      "Event IDs: [  1   2   3   4   5   6   7   8   9  11  12  13  14  21  22  23  24  25\n",
      "  26  27  28  29  30  31  32  33  34  39  55  56  57  58  59  60  61  62\n",
      "  63  64  65  66  67  68  69  70  71  72  73  74  75  76  77  78  79  80\n",
      "  81  82  83  84  85  86  87  88  89  90  91  92  93  94  95  96  97  98\n",
      "  99 100 101 102 103 104 105 106 107 108 109 110 111 112 113 114 115 116\n",
      " 117 118 119 120 121 122 123 124 125 126 127 128 129 130 131 132 133 134\n",
      " 136 137 138 139 140 141 143 144 145 146 147 148 150 151 152 153 154 155\n",
      " 156 157 158 159 160 161 162 163 164 165 166 167 168 169 170 171 172 173\n",
      " 174 175]\n",
      "Reading 0 ... 2396439  =      0.000 ...  4792.878 secs...\n"
     ]
    },
    {
     "name": "stderr",
     "output_type": "stream",
     "text": [
      "C:\\Users\\gxb18167\\PycharmProjects\\SIGIR_EEG_GAN\\Development\\Information-Need\\Data\\preprocessing_pipeline.py:137: RuntimeWarning:   Could not parse meas date from the header. Setting to None.\n",
      "  raw = mne.io.read_raw_cnt(file, preload=preload)\n",
      "C:\\Users\\gxb18167\\PycharmProjects\\SIGIR_EEG_GAN\\Development\\Information-Need\\Data\\preprocessing_pipeline.py:137: RuntimeWarning: Could not define the number of bytes automatically. Defaulting to 2.\n",
      "  raw = mne.io.read_raw_cnt(file, preload=preload)\n",
      "C:\\Users\\gxb18167\\PycharmProjects\\SIGIR_EEG_GAN\\Development\\Information-Need\\Data\\preprocessing_pipeline.py:53: RuntimeWarning: Not setting positions of 2 misc channels found in montage:\n",
      "['A1', 'A2']\n",
      "Consider setting the channel types to be of EEG/sEEG/ECoG/DBS/fNIRS using inst.set_channel_types before calling inst.set_montage, or omit these channels when creating your montage.\n",
      "  self.raw.set_montage(montage)\n"
     ]
    },
    {
     "ename": "KeyboardInterrupt",
     "evalue": "",
     "output_type": "error",
     "traceback": [
      "\u001B[1;31m---------------------------------------------------------------------------\u001B[0m",
      "\u001B[1;31mKeyboardInterrupt\u001B[0m                         Traceback (most recent call last)",
      "Cell \u001B[1;32mIn[57], line 7\u001B[0m\n\u001B[0;32m      5\u001B[0m \u001B[38;5;28;01mfor\u001B[39;00m participant_number \u001B[38;5;129;01min\u001B[39;00m ParticipantList:\n\u001B[0;32m      6\u001B[0m     path \u001B[38;5;241m=\u001B[39m \u001B[38;5;124mfr\u001B[39m\u001B[38;5;124m\"\u001B[39m\u001B[38;5;124mI:\u001B[39m\u001B[38;5;124m\\\u001B[39m\u001B[38;5;124mScience\u001B[39m\u001B[38;5;124m\\\u001B[39m\u001B[38;5;124mCIS-YASHMOSH\u001B[39m\u001B[38;5;124m\\\u001B[39m\u001B[38;5;124mniallmcguire\u001B[39m\u001B[38;5;124m\\\u001B[39m\u001B[38;5;124mdominika\u001B[39m\u001B[38;5;124m\\\u001B[39m\u001B[38;5;124mRaw Data\u001B[39m\u001B[38;5;124m\\\u001B[39m\u001B[38;5;124m0\u001B[39m\u001B[38;5;132;01m{\u001B[39;00mparticipant_number\u001B[38;5;132;01m}\u001B[39;00m\u001B[38;5;124m\\\u001B[39m\u001B[38;5;124m0\u001B[39m\u001B[38;5;132;01m{\u001B[39;00mparticipant_number\u001B[38;5;132;01m}\u001B[39;00m\u001B[38;5;124m.cnt\u001B[39m\u001B[38;5;124m\"\u001B[39m\n\u001B[1;32m----> 7\u001B[0m     raw, events \u001B[38;5;241m=\u001B[39m \u001B[43mload_raw_data\u001B[49m\u001B[43m(\u001B[49m\u001B[43mpath\u001B[49m\u001B[43m)\u001B[49m\n\u001B[0;32m      8\u001B[0m     NeedToSearchEventTimes \u001B[38;5;241m=\u001B[39m get_need_to_search_event_times(events)\n\u001B[0;32m      9\u001B[0m     NeedToSearchEEGSegments \u001B[38;5;241m=\u001B[39m get_eeg_time_segments(raw, NeedToSearchEventTimes)\n",
      "Cell \u001B[1;32mIn[35], line 3\u001B[0m, in \u001B[0;36mload_raw_data\u001B[1;34m(path)\u001B[0m\n\u001B[0;32m      1\u001B[0m \u001B[38;5;28;01mdef\u001B[39;00m \u001B[38;5;21mload_raw_data\u001B[39m(path):\n\u001B[0;32m      2\u001B[0m     raw \u001B[38;5;241m=\u001B[39m pp\u001B[38;5;241m.\u001B[39mload_eeg_data(path, eeg_format\u001B[38;5;241m=\u001B[39m\u001B[38;5;124m\"\u001B[39m\u001B[38;5;124mcnt\u001B[39m\u001B[38;5;124m\"\u001B[39m, use_montage_creator\u001B[38;5;241m=\u001B[39m\u001B[38;5;28;01mTrue\u001B[39;00m, montage_type\u001B[38;5;241m=\u001B[39m\u001B[38;5;124m'\u001B[39m\u001B[38;5;124mstandard_1020\u001B[39m\u001B[38;5;124m'\u001B[39m)\n\u001B[1;32m----> 3\u001B[0m     raw \u001B[38;5;241m=\u001B[39m \u001B[43mpp\u001B[49m\u001B[38;5;241;43m.\u001B[39;49m\u001B[43madd_stimulus_to_raw\u001B[49m\u001B[43m(\u001B[49m\u001B[43mraw\u001B[49m\u001B[43m)\u001B[49m\n\u001B[0;32m      4\u001B[0m     events \u001B[38;5;241m=\u001B[39m mne\u001B[38;5;241m.\u001B[39mfind_events(raw, stim_channel\u001B[38;5;241m=\u001B[39m\u001B[38;5;124m'\u001B[39m\u001B[38;5;124mSTI\u001B[39m\u001B[38;5;124m'\u001B[39m)\n\u001B[0;32m      5\u001B[0m     \u001B[38;5;28;01mreturn\u001B[39;00m raw, events\n",
      "File \u001B[1;32m~\\PycharmProjects\\SIGIR_EEG_GAN\\Development\\Information-Need\\Data\\preprocessing_pipeline.py:226\u001B[0m, in \u001B[0;36madd_stimulus_to_raw\u001B[1;34m(raw)\u001B[0m\n\u001B[0;32m    222\u001B[0m \u001B[38;5;28;01mfor\u001B[39;00m annot \u001B[38;5;129;01min\u001B[39;00m raw\u001B[38;5;241m.\u001B[39mannotations:\n\u001B[0;32m    223\u001B[0m     \u001B[38;5;66;03m# Check if the event ID is in your list of IDs\u001B[39;00m\n\u001B[0;32m    224\u001B[0m     \u001B[38;5;28;01mif\u001B[39;00m \u001B[38;5;28mint\u001B[39m(annot[\u001B[38;5;124m\"\u001B[39m\u001B[38;5;124mdescription\u001B[39m\u001B[38;5;124m\"\u001B[39m]) \u001B[38;5;129;01min\u001B[39;00m event_ids:\n\u001B[0;32m    225\u001B[0m         \u001B[38;5;66;03m# Find the sample corresponding to the annotation onset\u001B[39;00m\n\u001B[1;32m--> 226\u001B[0m         sample \u001B[38;5;241m=\u001B[39m \u001B[38;5;28mint\u001B[39m(\u001B[43mraw\u001B[49m\u001B[38;5;241;43m.\u001B[39;49m\u001B[43mtime_as_index\u001B[49m\u001B[43m(\u001B[49m\u001B[43mannot\u001B[49m\u001B[43m[\u001B[49m\u001B[38;5;124;43m\"\u001B[39;49m\u001B[38;5;124;43monset\u001B[39;49m\u001B[38;5;124;43m\"\u001B[39;49m\u001B[43m]\u001B[49m\u001B[43m)\u001B[49m)\n\u001B[0;32m    228\u001B[0m         \u001B[38;5;66;03m# Add a marker to the stimulus channel\u001B[39;00m\n\u001B[0;32m    229\u001B[0m         stim_data[\u001B[38;5;241m0\u001B[39m, sample] \u001B[38;5;241m=\u001B[39m \u001B[38;5;28mint\u001B[39m(annot[\u001B[38;5;124m\"\u001B[39m\u001B[38;5;124mdescription\u001B[39m\u001B[38;5;124m\"\u001B[39m])\n",
      "File \u001B[1;32m~\\Anaconda3\\lib\\site-packages\\mne\\io\\base.py:574\u001B[0m, in \u001B[0;36mBaseRaw.time_as_index\u001B[1;34m(self, times, use_rounding, origin)\u001B[0m\n\u001B[0;32m    571\u001B[0m     delta \u001B[38;5;241m=\u001B[39m (origin \u001B[38;5;241m-\u001B[39m first_samp_in_abs_time)\u001B[38;5;241m.\u001B[39mtotal_seconds()\n\u001B[0;32m    572\u001B[0m times \u001B[38;5;241m=\u001B[39m np\u001B[38;5;241m.\u001B[39matleast_1d(times) \u001B[38;5;241m+\u001B[39m delta\n\u001B[1;32m--> 574\u001B[0m \u001B[38;5;28;01mreturn\u001B[39;00m \u001B[38;5;28;43msuper\u001B[39;49m\u001B[43m(\u001B[49m\u001B[43mBaseRaw\u001B[49m\u001B[43m,\u001B[49m\u001B[43m \u001B[49m\u001B[38;5;28;43mself\u001B[39;49m\u001B[43m)\u001B[49m\u001B[38;5;241;43m.\u001B[39;49m\u001B[43mtime_as_index\u001B[49m\u001B[43m(\u001B[49m\u001B[43mtimes\u001B[49m\u001B[43m,\u001B[49m\u001B[43m \u001B[49m\u001B[43muse_rounding\u001B[49m\u001B[43m)\u001B[49m\n",
      "File \u001B[1;32m~\\Anaconda3\\lib\\site-packages\\mne\\utils\\mixin.py:602\u001B[0m, in \u001B[0;36mTimeMixin.time_as_index\u001B[1;34m(self, times, use_rounding)\u001B[0m\n\u001B[0;32m    600\u001B[0m \u001B[38;5;28;01melse\u001B[39;00m:\n\u001B[0;32m    601\u001B[0m     sfreq \u001B[38;5;241m=\u001B[39m \u001B[38;5;28mself\u001B[39m\u001B[38;5;241m.\u001B[39minfo[\u001B[38;5;124m'\u001B[39m\u001B[38;5;124msfreq\u001B[39m\u001B[38;5;124m'\u001B[39m]\n\u001B[1;32m--> 602\u001B[0m index \u001B[38;5;241m=\u001B[39m (np\u001B[38;5;241m.\u001B[39matleast_1d(times) \u001B[38;5;241m-\u001B[39m \u001B[38;5;28;43mself\u001B[39;49m\u001B[38;5;241;43m.\u001B[39;49m\u001B[43mtimes\u001B[49m[\u001B[38;5;241m0\u001B[39m]) \u001B[38;5;241m*\u001B[39m sfreq\n\u001B[0;32m    603\u001B[0m \u001B[38;5;28;01mif\u001B[39;00m use_rounding:\n\u001B[0;32m    604\u001B[0m     index \u001B[38;5;241m=\u001B[39m np\u001B[38;5;241m.\u001B[39mround(index)\n",
      "File \u001B[1;32m~\\Anaconda3\\lib\\site-packages\\mne\\io\\base.py:1548\u001B[0m, in \u001B[0;36mBaseRaw.times\u001B[1;34m(self)\u001B[0m\n\u001B[0;32m   1545\u001B[0m \u001B[38;5;129m@property\u001B[39m\n\u001B[0;32m   1546\u001B[0m \u001B[38;5;28;01mdef\u001B[39;00m \u001B[38;5;21mtimes\u001B[39m(\u001B[38;5;28mself\u001B[39m):\n\u001B[0;32m   1547\u001B[0m \u001B[38;5;250m    \u001B[39m\u001B[38;5;124;03m\"\"\"Time points.\"\"\"\u001B[39;00m\n\u001B[1;32m-> 1548\u001B[0m     out \u001B[38;5;241m=\u001B[39m \u001B[43m_arange_div\u001B[49m\u001B[43m(\u001B[49m\u001B[38;5;28;43mself\u001B[39;49m\u001B[38;5;241;43m.\u001B[39;49m\u001B[43mn_times\u001B[49m\u001B[43m,\u001B[49m\u001B[43m \u001B[49m\u001B[38;5;28;43mfloat\u001B[39;49m\u001B[43m(\u001B[49m\u001B[38;5;28;43mself\u001B[39;49m\u001B[38;5;241;43m.\u001B[39;49m\u001B[43minfo\u001B[49m\u001B[43m[\u001B[49m\u001B[38;5;124;43m'\u001B[39;49m\u001B[38;5;124;43msfreq\u001B[39;49m\u001B[38;5;124;43m'\u001B[39;49m\u001B[43m]\u001B[49m\u001B[43m)\u001B[49m\u001B[43m)\u001B[49m\n\u001B[0;32m   1549\u001B[0m     out\u001B[38;5;241m.\u001B[39mflags[\u001B[38;5;124m'\u001B[39m\u001B[38;5;124mWRITEABLE\u001B[39m\u001B[38;5;124m'\u001B[39m] \u001B[38;5;241m=\u001B[39m \u001B[38;5;28;01mFalse\u001B[39;00m\n\u001B[0;32m   1550\u001B[0m     \u001B[38;5;28;01mreturn\u001B[39;00m out\n",
      "File \u001B[1;32m~\\Anaconda3\\lib\\site-packages\\mne\\utils\\numerics.py:1097\u001B[0m, in \u001B[0;36m_arange_div_fallback\u001B[1;34m(n, d)\u001B[0m\n\u001B[0;32m   1096\u001B[0m \u001B[38;5;28;01mdef\u001B[39;00m \u001B[38;5;21m_arange_div_fallback\u001B[39m(n, d):\n\u001B[1;32m-> 1097\u001B[0m     x \u001B[38;5;241m=\u001B[39m \u001B[43mnp\u001B[49m\u001B[38;5;241;43m.\u001B[39;49m\u001B[43marange\u001B[49m\u001B[43m(\u001B[49m\u001B[43mn\u001B[49m\u001B[43m,\u001B[49m\u001B[43m \u001B[49m\u001B[43mdtype\u001B[49m\u001B[38;5;241;43m=\u001B[39;49m\u001B[43mnp\u001B[49m\u001B[38;5;241;43m.\u001B[39;49m\u001B[43mfloat64\u001B[49m\u001B[43m)\u001B[49m\n\u001B[0;32m   1098\u001B[0m     x \u001B[38;5;241m/\u001B[39m\u001B[38;5;241m=\u001B[39m d\n\u001B[0;32m   1099\u001B[0m     \u001B[38;5;28;01mreturn\u001B[39;00m x\n",
      "\u001B[1;31mKeyboardInterrupt\u001B[0m: "
     ]
    }
   ],
   "source": [
    "ParticipantList = [\"01\", \"02\", \"03\", \"04\", \"05\", \"06\", \"08\", \"09\", \"10\",\n",
    "                   \"11\", \"12\", \"13\", \"14\", \"15\", \"16\", \"18\", \"19\", \"20\",\n",
    "                   \"21\", \"22\", \"23\", \"24\"]\n",
    "\n",
    "for participant_number in ParticipantList:\n",
    "    path = fr\"I:\\Science\\CIS-YASHMOSH\\niallmcguire\\dominika\\Raw Data\\0{participant_number}\\0{participant_number}.cnt\"\n",
    "    raw, events = load_raw_data(path)\n",
    "    NeedToSearchEventTimes = get_need_to_search_event_times(events)\n",
    "    NeedToSearchEEGSegments = get_eeg_time_segments(raw, NeedToSearchEventTimes)\n",
    "    pickle_file_path = fr'C:\\Users\\gxb18167\\PycharmProjects\\SIGIR_EEG_GAN\\Development\\Information-Need\\EEG-NeedToSearch-DataSegments\\participant_0{participant_number}_EEG_data.pkl'\n",
    "\n",
    "    # Open the file in binary write mode and use pickle.dump to save the data\n",
    "    with open(pickle_file_path, 'wb') as pickle_file:\n",
    "        pickle.dump(NeedToSearchEEGSegments, pickle_file)\n"
   ],
   "metadata": {
    "collapsed": false,
    "ExecuteTime": {
     "start_time": "2023-11-21T12:44:47.942631Z",
     "end_time": "2023-11-21T12:44:47.957718Z"
    }
   }
  },
  {
   "cell_type": "code",
   "execution_count": 54,
   "outputs": [],
   "source": [],
   "metadata": {
    "collapsed": false,
    "ExecuteTime": {
     "start_time": "2023-11-21T12:48:30.978297Z",
     "end_time": "2023-11-21T12:48:31.003834Z"
    }
   }
  },
  {
   "cell_type": "code",
   "execution_count": 54,
   "outputs": [],
   "source": [],
   "metadata": {
    "collapsed": false,
    "ExecuteTime": {
     "start_time": "2023-11-21T12:50:06.249499Z",
     "end_time": "2023-11-21T12:50:06.265327Z"
    }
   }
  },
  {
   "cell_type": "code",
   "execution_count": 40,
   "outputs": [],
   "source": [],
   "metadata": {
    "collapsed": false,
    "ExecuteTime": {
     "start_time": "2023-11-21T12:42:26.977412Z",
     "end_time": "2023-11-21T12:42:27.025859Z"
    }
   }
  },
  {
   "cell_type": "code",
   "execution_count": 53,
   "outputs": [],
   "source": [],
   "metadata": {
    "collapsed": false,
    "ExecuteTime": {
     "start_time": "2023-11-21T12:48:26.427360Z",
     "end_time": "2023-11-21T12:48:26.449616Z"
    }
   }
  },
  {
   "cell_type": "code",
   "execution_count": 53,
   "outputs": [],
   "source": [],
   "metadata": {
    "collapsed": false,
    "ExecuteTime": {
     "start_time": "2023-11-21T12:48:26.665698Z",
     "end_time": "2023-11-21T12:48:26.683963Z"
    }
   }
  },
  {
   "cell_type": "code",
   "execution_count": 54,
   "outputs": [
    {
     "data": {
      "text/plain": "\"\\n# Specify the file path where you saved the pickle file\\npickle_file_path = 'your_file_path.pkl'\\n\\n# Open the file in binary read mode and use pickle.load to load the data\\nwith open(pickle_file_path, 'rb') as pickle_file:\\n    loaded_data = pickle.load(pickle_file)\\n\\n# Now 'loaded_data' contains the data structure you saved\\n\""
     },
     "execution_count": 54,
     "metadata": {},
     "output_type": "execute_result"
    }
   ],
   "source": [
    "'''\n",
    "# Specify the file path where you saved the pickle file\n",
    "pickle_file_path = 'your_file_path.pkl'\n",
    "\n",
    "# Open the file in binary read mode and use pickle.load to load the data\n",
    "with open(pickle_file_path, 'rb') as pickle_file:\n",
    "    loaded_data = pickle.load(pickle_file)\n",
    "\n",
    "# Now 'loaded_data' contains the data structure you saved\n",
    "'''"
   ],
   "metadata": {
    "collapsed": false,
    "ExecuteTime": {
     "start_time": "2023-11-21T12:48:27.028148Z",
     "end_time": "2023-11-21T12:48:27.037553Z"
    }
   }
  },
  {
   "cell_type": "code",
   "execution_count": 22,
   "outputs": [],
   "source": [],
   "metadata": {
    "collapsed": false,
    "ExecuteTime": {
     "start_time": "2023-11-21T12:39:27.307106Z",
     "end_time": "2023-11-21T12:39:27.324325Z"
    }
   }
  },
  {
   "cell_type": "code",
   "execution_count": 22,
   "outputs": [],
   "source": [],
   "metadata": {
    "collapsed": false,
    "ExecuteTime": {
     "start_time": "2023-11-21T12:39:27.484315Z",
     "end_time": "2023-11-21T12:39:27.515695Z"
    }
   }
  },
  {
   "cell_type": "code",
   "execution_count": 22,
   "outputs": [],
   "source": [],
   "metadata": {
    "collapsed": false,
    "ExecuteTime": {
     "start_time": "2023-11-21T12:39:27.625464Z",
     "end_time": "2023-11-21T12:39:27.656916Z"
    }
   }
  },
  {
   "cell_type": "code",
   "execution_count": 22,
   "outputs": [],
   "source": [],
   "metadata": {
    "collapsed": false,
    "ExecuteTime": {
     "start_time": "2023-11-21T12:39:27.992161Z",
     "end_time": "2023-11-21T12:39:28.022245Z"
    }
   }
  },
  {
   "cell_type": "code",
   "execution_count": null,
   "outputs": [],
   "source": [],
   "metadata": {
    "collapsed": false
   }
  }
 ],
 "metadata": {
  "kernelspec": {
   "display_name": "Python 3",
   "language": "python",
   "name": "python3"
  },
  "language_info": {
   "codemirror_mode": {
    "name": "ipython",
    "version": 2
   },
   "file_extension": ".py",
   "mimetype": "text/x-python",
   "name": "python",
   "nbconvert_exporter": "python",
   "pygments_lexer": "ipython2",
   "version": "2.7.6"
  }
 },
 "nbformat": 4,
 "nbformat_minor": 0
}
