{
 "cells": [
  {
   "cell_type": "code",
   "execution_count": 1,
   "metadata": {
    "collapsed": true,
    "ExecuteTime": {
     "start_time": "2023-11-21T10:22:03.205688Z",
     "end_time": "2023-11-21T10:22:08.811598Z"
    }
   },
   "outputs": [],
   "source": [
    "import preprocessing_pipeline as pp\n",
    "import mne"
   ]
  },
  {
   "cell_type": "code",
   "execution_count": 2,
   "outputs": [],
   "source": [
    "path = r\"I:\\Science\\CIS-YASHMOSH\\niallmcguire\\dominika\\Raw Data\\001\\001.cnt\""
   ],
   "metadata": {
    "collapsed": false,
    "ExecuteTime": {
     "start_time": "2023-11-21T10:22:08.803323Z",
     "end_time": "2023-11-21T10:22:08.811598Z"
    }
   }
  },
  {
   "cell_type": "code",
   "execution_count": 3,
   "outputs": [],
   "source": [
    "def load_raw_data(path):\n",
    "    raw = pp.load_eeg_data(path, eeg_format=\"cnt\", use_montage_creator=True, montage_type='standard_1020')\n",
    "    raw = pp.add_stimulus_to_raw(raw)\n",
    "    events = mne.find_events(raw, stim_channel='STI')\n",
    "    return raw, events"
   ],
   "metadata": {
    "collapsed": false,
    "ExecuteTime": {
     "start_time": "2023-11-21T10:23:15.304866Z",
     "end_time": "2023-11-21T10:23:15.386104Z"
    }
   }
  },
  {
   "cell_type": "code",
   "execution_count": null,
   "outputs": [
    {
     "name": "stdout",
     "output_type": "stream",
     "text": [
      "Reading 0 ... 3507399  =      0.000 ...  7014.798 secs...\n"
     ]
    },
    {
     "name": "stderr",
     "output_type": "stream",
     "text": [
      "C:\\Users\\gxb18167\\PycharmProjects\\SIGIR_EEG_GAN\\Development\\Information-Need\\Data\\preprocessing_pipeline.py:137: RuntimeWarning: Could not define the number of bytes automatically. Defaulting to 2.\n",
      "  raw = mne.io.read_raw_cnt(file, preload=preload)\n",
      "C:\\Users\\gxb18167\\PycharmProjects\\SIGIR_EEG_GAN\\Development\\Information-Need\\Data\\preprocessing_pipeline.py:53: RuntimeWarning: Not setting positions of 2 misc channels found in montage:\n",
      "['A1', 'A2']\n",
      "Consider setting the channel types to be of EEG/sEEG/ECoG/DBS/fNIRS using inst.set_channel_types before calling inst.set_montage, or omit these channels when creating your montage.\n",
      "  self.raw.set_montage(montage)\n"
     ]
    }
   ],
   "source": [
    "raw, events = load_raw_data(path)"
   ],
   "metadata": {
    "collapsed": false,
    "ExecuteTime": {
     "start_time": "2023-11-21T10:23:18.162675Z",
     "end_time": "2023-11-21T10:24:12.340401Z"
    },
    "pycharm": {
     "is_executing": true
    }
   }
  },
  {
   "cell_type": "code",
   "execution_count": null,
   "outputs": [],
   "source": [
    "events_times = mne.pick_events(events)"
   ],
   "metadata": {
    "collapsed": false,
    "ExecuteTime": {
     "start_time": "2023-11-21T10:38:20.925067Z",
     "end_time": "2023-11-21T10:38:20.960552Z"
    },
    "pycharm": {
     "is_executing": true
    }
   }
  },
  {
   "cell_type": "code",
   "execution_count": null,
   "outputs": [],
   "source": [
    "events_times"
   ],
   "metadata": {
    "collapsed": false,
    "ExecuteTime": {
     "start_time": "2023-11-21T10:38:23.410179Z",
     "end_time": "2023-11-21T10:38:33.324233Z"
    },
    "pycharm": {
     "is_executing": true
    }
   }
  },
  {
   "cell_type": "code",
   "execution_count": null,
   "outputs": [],
   "source": [],
   "metadata": {
    "collapsed": false
   }
  }
 ],
 "metadata": {
  "kernelspec": {
   "display_name": "Python 3",
   "language": "python",
   "name": "python3"
  },
  "language_info": {
   "codemirror_mode": {
    "name": "ipython",
    "version": 2
   },
   "file_extension": ".py",
   "mimetype": "text/x-python",
   "name": "python",
   "nbconvert_exporter": "python",
   "pygments_lexer": "ipython2",
   "version": "2.7.6"
  }
 },
 "nbformat": 4,
 "nbformat_minor": 0
}
