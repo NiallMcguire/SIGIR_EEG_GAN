{
 "cells": [
  {
   "cell_type": "code",
   "execution_count": 1,
   "metadata": {
    "collapsed": true,
    "ExecuteTime": {
     "start_time": "2023-11-21T12:33:20.167519Z",
     "end_time": "2023-11-21T12:33:25.288984Z"
    }
   },
   "outputs": [],
   "source": [
    "import preprocessing_pipeline as pp\n",
    "import mne\n",
    "import numpy as np\n"
   ]
  },
  {
   "cell_type": "code",
   "execution_count": 2,
   "outputs": [],
   "source": [
    "path = r\"I:\\Science\\CIS-YASHMOSH\\niallmcguire\\dominika\\Raw Data\\001\\001.cnt\""
   ],
   "metadata": {
    "collapsed": false,
    "ExecuteTime": {
     "start_time": "2023-11-21T12:33:25.294584Z",
     "end_time": "2023-11-21T12:33:25.304529Z"
    }
   }
  },
  {
   "cell_type": "code",
   "execution_count": 3,
   "outputs": [],
   "source": [
    "def load_raw_data(path):\n",
    "    raw = pp.load_eeg_data(path, eeg_format=\"cnt\", use_montage_creator=True, montage_type='standard_1020')\n",
    "    raw = pp.add_stimulus_to_raw(raw)\n",
    "    events = mne.find_events(raw, stim_channel='STI')\n",
    "    return raw, events"
   ],
   "metadata": {
    "collapsed": false,
    "ExecuteTime": {
     "start_time": "2023-11-21T12:33:25.311475Z",
     "end_time": "2023-11-21T12:33:25.330094Z"
    }
   }
  },
  {
   "cell_type": "code",
   "execution_count": 4,
   "outputs": [],
   "source": [
    "def get_need_to_search_event_times(events):\n",
    "    #Load in the IDs specific to word displays, as well as NeedToSearch conditional IDs\n",
    "    NeedToSearchIDs = [21,22,23,24,25,26,27,28,29,30,31,32,33,6,9]\n",
    "    events_times = mne.pick_events(events,include=NeedToSearchIDs)\n",
    "    events_times = np.where(events_times == 6, 34, events_times) #Change 6 & 9 to 34 & 35 to allow loop to run\n",
    "    events_times = np.where(events_times == 9, 35, events_times)\n",
    "\n",
    "    #Segment all trials into lists of events\n",
    "    event_sequence_list = []\n",
    "    event_sequence = []\n",
    "    event_id_max = 0\n",
    "    for x in events_times:\n",
    "        event_info = x\n",
    "        event_id = event_info[2]\n",
    "        #print(event_id_max)\n",
    "        if event_id > event_id_max:\n",
    "            event_id_max = event_id\n",
    "            event_sequence.append(event_info)\n",
    "        else:\n",
    "            event_sequence_list.append(event_sequence)\n",
    "            event_sequence = []\n",
    "            event_id_max = 0\n",
    "\n",
    "    #Find all trials that contain both 34 and 35 e.g. NeedToSearch conditions\n",
    "    NeedToSearchEventTimes = []\n",
    "    for x in event_sequence_list:\n",
    "        event_sequence = x\n",
    "        value_present = any(34 and 35 in array for array in event_sequence)\n",
    "        if value_present:\n",
    "            NeedToSearchEventTimes.append(event_sequence)\n",
    "\n",
    "    return NeedToSearchEventTimes\n",
    "\n"
   ],
   "metadata": {
    "collapsed": false,
    "ExecuteTime": {
     "start_time": "2023-11-21T12:33:25.330094Z",
     "end_time": "2023-11-21T12:33:25.377482Z"
    }
   }
  },
  {
   "cell_type": "code",
   "execution_count": 16,
   "outputs": [],
   "source": [
    "def get_eeg_time_segments(raw, NeedToSearchEventTimes):\n",
    "    sample_rate = 500 #TODO - get this from raw\n",
    "    eeg_time_segments = []\n",
    "    for x in NeedToSearchEventTimes:\n",
    "        start_index = x[2][0]\n",
    "        end_index = int(start_index + (0.8*sample_rate))\n",
    "        cropped_data = raw[:, start_index:end_index]\n",
    "        eeg_time_segments.append(cropped_data)\n",
    "    return eeg_time_segments"
   ],
   "metadata": {
    "collapsed": false,
    "ExecuteTime": {
     "start_time": "2023-11-21T12:36:04.054306Z",
     "end_time": "2023-11-21T12:36:04.070691Z"
    }
   }
  },
  {
   "cell_type": "code",
   "execution_count": 17,
   "outputs": [
    {
     "name": "stdout",
     "output_type": "stream",
     "text": [
      "Reading 0 ... 3507399  =      0.000 ...  7014.798 secs...\n"
     ]
    },
    {
     "name": "stderr",
     "output_type": "stream",
     "text": [
      "C:\\Users\\gxb18167\\PycharmProjects\\SIGIR_EEG_GAN\\Development\\Information-Need\\Data\\preprocessing_pipeline.py:137: RuntimeWarning: Could not define the number of bytes automatically. Defaulting to 2.\n",
      "  raw = mne.io.read_raw_cnt(file, preload=preload)\n",
      "C:\\Users\\gxb18167\\PycharmProjects\\SIGIR_EEG_GAN\\Development\\Information-Need\\Data\\preprocessing_pipeline.py:53: RuntimeWarning: Not setting positions of 2 misc channels found in montage:\n",
      "['A1', 'A2']\n",
      "Consider setting the channel types to be of EEG/sEEG/ECoG/DBS/fNIRS using inst.set_channel_types before calling inst.set_montage, or omit these channels when creating your montage.\n",
      "  self.raw.set_montage(montage)\n"
     ]
    },
    {
     "name": "stdout",
     "output_type": "stream",
     "text": [
      "Creating RawArray with float64 data, n_channels=1, n_times=3507400\n",
      "    Range : 0 ... 3507399 =      0.000 ...  7014.798 secs\n",
      "Ready.\n",
      "1839 events found\n",
      "Event IDs: [  1   2   3   4   5   6   7   8   9  10  11  12  13  14  20  21  22  23\n",
      "  24  25  26  27  28  29  30  31  32  33  34  35  36  39  44  55  56  57\n",
      "  58  59  60  61  62  63  64  65  66  67  68  69  70  71  72  73  74  75\n",
      "  76  77  78  79  80  81  82  83  84  85  86  87  88  89  90  91  92  93\n",
      "  94  95  96  97  98  99 100 101 102 103 104 105 106 107 108 109 110 111\n",
      " 112 113 114 115 116 117 118 119 120 121 122 123 124 125 126 127 128 129\n",
      " 130 131 132 133 134 135 136 137 138 139 140 141 142 143 144 145 146 147\n",
      " 148 149 150 151 152 154 155 156 157 158 159 160 161 162 163 164 165 166\n",
      " 167 168 169 170 171 173 174 175]\n"
     ]
    }
   ],
   "source": [
    "raw, events = load_raw_data(path)"
   ],
   "metadata": {
    "collapsed": false,
    "ExecuteTime": {
     "start_time": "2023-11-21T12:36:04.272125Z",
     "end_time": "2023-11-21T12:37:02.998311Z"
    }
   }
  },
  {
   "cell_type": "code",
   "execution_count": 18,
   "outputs": [
    {
     "data": {
      "text/plain": "[[array([57033,     0,    21], dtype=int64),\n  array([57833,     0,    22], dtype=int64),\n  array([58633,     0,    23], dtype=int64),\n  array([59433,     0,    24], dtype=int64),\n  array([60233,     0,    25], dtype=int64),\n  array([61033,     0,    26], dtype=int64),\n  array([61833,     0,    27], dtype=int64),\n  array([62633,     0,    28], dtype=int64),\n  array([77685,     0,    34], dtype=int64),\n  array([80445,     0,    35], dtype=int64)],\n [array([164797,      0,     22], dtype=int64),\n  array([165597,      0,     23], dtype=int64),\n  array([166397,      0,     24], dtype=int64),\n  array([167197,      0,     25], dtype=int64),\n  array([167997,      0,     26], dtype=int64),\n  array([168797,      0,     27], dtype=int64),\n  array([169597,      0,     28], dtype=int64),\n  array([184235,      0,     34], dtype=int64),\n  array([187099,      0,     35], dtype=int64)],\n [array([213595,      0,     22], dtype=int64),\n  array([214395,      0,     23], dtype=int64),\n  array([215195,      0,     24], dtype=int64),\n  array([215995,      0,     25], dtype=int64),\n  array([216795,      0,     26], dtype=int64),\n  array([217595,      0,     27], dtype=int64),\n  array([218395,      0,     28], dtype=int64),\n  array([219195,      0,     29], dtype=int64),\n  array([219995,      0,     30], dtype=int64),\n  array([220795,      0,     31], dtype=int64),\n  array([221595,      0,     32], dtype=int64),\n  array([233665,      0,     34], dtype=int64),\n  array([236337,      0,     35], dtype=int64)],\n [array([351625,      0,     22], dtype=int64),\n  array([352425,      0,     23], dtype=int64),\n  array([353225,      0,     24], dtype=int64),\n  array([354025,      0,     25], dtype=int64),\n  array([354825,      0,     26], dtype=int64),\n  array([355625,      0,     27], dtype=int64),\n  array([356425,      0,     28], dtype=int64),\n  array([357225,      0,     29], dtype=int64),\n  array([358025,      0,     30], dtype=int64),\n  array([358825,      0,     31], dtype=int64),\n  array([359625,      0,     32], dtype=int64),\n  array([360425,      0,     33], dtype=int64),\n  array([367485,      0,     34], dtype=int64),\n  array([369877,      0,     35], dtype=int64)],\n [array([607657,      0,     22], dtype=int64),\n  array([608457,      0,     23], dtype=int64),\n  array([622347,      0,     34], dtype=int64),\n  array([625595,      0,     35], dtype=int64)],\n [array([662273,      0,     22], dtype=int64),\n  array([663073,      0,     23], dtype=int64),\n  array([663873,      0,     24], dtype=int64),\n  array([664673,      0,     25], dtype=int64),\n  array([665473,      0,     26], dtype=int64),\n  array([666273,      0,     27], dtype=int64),\n  array([674883,      0,     34], dtype=int64),\n  array([677211,      0,     35], dtype=int64)],\n [array([852903,      0,     22], dtype=int64),\n  array([853703,      0,     23], dtype=int64),\n  array([854503,      0,     24], dtype=int64),\n  array([855303,      0,     25], dtype=int64),\n  array([856103,      0,     26], dtype=int64),\n  array([856903,      0,     27], dtype=int64),\n  array([857703,      0,     28], dtype=int64),\n  array([858503,      0,     29], dtype=int64),\n  array([859303,      0,     30], dtype=int64),\n  array([860103,      0,     31], dtype=int64),\n  array([860903,      0,     32], dtype=int64),\n  array([861703,      0,     33], dtype=int64),\n  array([868983,      0,     34], dtype=int64),\n  array([870927,      0,     35], dtype=int64)],\n [array([1324765,       0,      22], dtype=int64),\n  array([1325565,       0,      23], dtype=int64),\n  array([1339451,       0,      34], dtype=int64),\n  array([1342291,       0,      35], dtype=int64)],\n [array([1461961,       0,      22], dtype=int64),\n  array([1462761,       0,      23], dtype=int64),\n  array([1463561,       0,      24], dtype=int64),\n  array([1464361,       0,      25], dtype=int64),\n  array([1465161,       0,      26], dtype=int64),\n  array([1465961,       0,      27], dtype=int64),\n  array([1466761,       0,      28], dtype=int64),\n  array([1467561,       0,      29], dtype=int64),\n  array([1468361,       0,      30], dtype=int64),\n  array([1477303,       0,      34], dtype=int64),\n  array([1482343,       0,      35], dtype=int64)],\n [array([1823917,       0,      22], dtype=int64),\n  array([1824717,       0,      23], dtype=int64),\n  array([1825517,       0,      24], dtype=int64),\n  array([1826317,       0,      25], dtype=int64),\n  array([1827117,       0,      26], dtype=int64),\n  array([1827917,       0,      27], dtype=int64),\n  array([1834389,       0,      34], dtype=int64),\n  array([1836821,       0,      35], dtype=int64)],\n [array([1864467,       0,      22], dtype=int64),\n  array([1865267,       0,      23], dtype=int64),\n  array([1866067,       0,      24], dtype=int64),\n  array([1866867,       0,      25], dtype=int64),\n  array([1867667,       0,      26], dtype=int64),\n  array([1868467,       0,      27], dtype=int64),\n  array([1869267,       0,      28], dtype=int64),\n  array([1870067,       0,      29], dtype=int64),\n  array([1870867,       0,      30], dtype=int64),\n  array([1871667,       0,      31], dtype=int64),\n  array([1872467,       0,      32], dtype=int64),\n  array([1873267,       0,      33], dtype=int64),\n  array([1881339,       0,      34], dtype=int64),\n  array([1884003,       0,      35], dtype=int64)],\n [array([1948049,       0,      22], dtype=int64),\n  array([1948849,       0,      23], dtype=int64),\n  array([1949649,       0,      24], dtype=int64),\n  array([1950449,       0,      25], dtype=int64),\n  array([1956235,       0,      34], dtype=int64),\n  array([1958123,       0,      35], dtype=int64)],\n [array([2086710,       0,      22], dtype=int64),\n  array([2087511,       0,      23], dtype=int64),\n  array([2096359,       0,      34], dtype=int64),\n  array([2098479,       0,      35], dtype=int64)],\n [array([2105095,       0,      22], dtype=int64),\n  array([2105895,       0,      23], dtype=int64),\n  array([2106695,       0,      24], dtype=int64),\n  array([2107495,       0,      25], dtype=int64),\n  array([2108295,       0,      26], dtype=int64),\n  array([2109095,       0,      27], dtype=int64),\n  array([2116855,       0,      34], dtype=int64),\n  array([2119447,       0,      35], dtype=int64)],\n [array([3002881,       0,      22], dtype=int64),\n  array([3003679,       0,      23], dtype=int64),\n  array([3004479,       0,      24], dtype=int64),\n  array([3005279,       0,      25], dtype=int64),\n  array([3006079,       0,      26], dtype=int64),\n  array([3006881,       0,      27], dtype=int64),\n  array([3007681,       0,      28], dtype=int64),\n  array([3008479,       0,      29], dtype=int64),\n  array([3009279,       0,      30], dtype=int64),\n  array([3010079,       0,      31], dtype=int64),\n  array([3016503,       0,      34], dtype=int64),\n  array([3018583,       0,      35], dtype=int64)],\n [array([3058329,       0,      22], dtype=int64),\n  array([3059129,       0,      23], dtype=int64),\n  array([3059929,       0,      24], dtype=int64),\n  array([3060729,       0,      25], dtype=int64),\n  array([3061529,       0,      26], dtype=int64),\n  array([3062329,       0,      27], dtype=int64),\n  array([3063129,       0,      28], dtype=int64),\n  array([3063929,       0,      29], dtype=int64),\n  array([3074231,       0,      34], dtype=int64),\n  array([3076543,       0,      35], dtype=int64)],\n [array([3220359,       0,      22], dtype=int64),\n  array([3221159,       0,      23], dtype=int64),\n  array([3232475,       0,      34], dtype=int64),\n  array([3234683,       0,      35], dtype=int64)],\n [array([3463739,       0,      22], dtype=int64),\n  array([3464537,       0,      23], dtype=int64),\n  array([3465337,       0,      24], dtype=int64),\n  array([3466137,       0,      25], dtype=int64),\n  array([3466937,       0,      26], dtype=int64),\n  array([3467737,       0,      27], dtype=int64),\n  array([3468537,       0,      28], dtype=int64),\n  array([3469337,       0,      29], dtype=int64),\n  array([3470137,       0,      30], dtype=int64),\n  array([3470937,       0,      31], dtype=int64),\n  array([3471737,       0,      32], dtype=int64),\n  array([3478135,       0,      34], dtype=int64),\n  array([3480007,       0,      35], dtype=int64)]]"
     },
     "execution_count": 18,
     "metadata": {},
     "output_type": "execute_result"
    }
   ],
   "source": [
    "NeedToSearchEventTimes = get_need_to_search_event_times(events)\n",
    "NeedToSearchEventTimes"
   ],
   "metadata": {
    "collapsed": false,
    "ExecuteTime": {
     "start_time": "2023-11-21T12:37:02.999337Z",
     "end_time": "2023-11-21T12:37:03.058972Z"
    }
   }
  },
  {
   "cell_type": "code",
   "execution_count": 19,
   "outputs": [],
   "source": [
    "NeedToSearchEEGSegments = get_eeg_time_segments(raw, NeedToSearchEventTimes)"
   ],
   "metadata": {
    "collapsed": false,
    "ExecuteTime": {
     "start_time": "2023-11-21T12:39:00.684003Z",
     "end_time": "2023-11-21T12:39:00.703788Z"
    }
   }
  },
  {
   "cell_type": "code",
   "execution_count": 22,
   "outputs": [],
   "source": [],
   "metadata": {
    "collapsed": false,
    "ExecuteTime": {
     "start_time": "2023-11-21T12:39:25.922710Z",
     "end_time": "2023-11-21T12:39:25.949310Z"
    }
   }
  },
  {
   "cell_type": "code",
   "execution_count": 22,
   "outputs": [],
   "source": [],
   "metadata": {
    "collapsed": false,
    "ExecuteTime": {
     "start_time": "2023-11-21T12:39:27.012895Z",
     "end_time": "2023-11-21T12:39:27.044888Z"
    }
   }
  },
  {
   "cell_type": "code",
   "execution_count": 22,
   "outputs": [],
   "source": [],
   "metadata": {
    "collapsed": false,
    "ExecuteTime": {
     "start_time": "2023-11-21T12:39:27.142269Z",
     "end_time": "2023-11-21T12:39:27.173404Z"
    }
   }
  },
  {
   "cell_type": "code",
   "execution_count": 22,
   "outputs": [],
   "source": [],
   "metadata": {
    "collapsed": false,
    "ExecuteTime": {
     "start_time": "2023-11-21T12:39:27.307106Z",
     "end_time": "2023-11-21T12:39:27.324325Z"
    }
   }
  },
  {
   "cell_type": "code",
   "execution_count": 22,
   "outputs": [],
   "source": [],
   "metadata": {
    "collapsed": false,
    "ExecuteTime": {
     "start_time": "2023-11-21T12:39:27.484315Z",
     "end_time": "2023-11-21T12:39:27.515695Z"
    }
   }
  },
  {
   "cell_type": "code",
   "execution_count": 22,
   "outputs": [],
   "source": [],
   "metadata": {
    "collapsed": false,
    "ExecuteTime": {
     "start_time": "2023-11-21T12:39:27.625464Z",
     "end_time": "2023-11-21T12:39:27.656916Z"
    }
   }
  },
  {
   "cell_type": "code",
   "execution_count": 22,
   "outputs": [],
   "source": [],
   "metadata": {
    "collapsed": false,
    "ExecuteTime": {
     "start_time": "2023-11-21T12:39:27.992161Z",
     "end_time": "2023-11-21T12:39:28.022245Z"
    }
   }
  },
  {
   "cell_type": "code",
   "execution_count": null,
   "outputs": [],
   "source": [],
   "metadata": {
    "collapsed": false
   }
  }
 ],
 "metadata": {
  "kernelspec": {
   "display_name": "Python 3",
   "language": "python",
   "name": "python3"
  },
  "language_info": {
   "codemirror_mode": {
    "name": "ipython",
    "version": 2
   },
   "file_extension": ".py",
   "mimetype": "text/x-python",
   "name": "python",
   "nbconvert_exporter": "python",
   "pygments_lexer": "ipython2",
   "version": "2.7.6"
  }
 },
 "nbformat": 4,
 "nbformat_minor": 0
}
