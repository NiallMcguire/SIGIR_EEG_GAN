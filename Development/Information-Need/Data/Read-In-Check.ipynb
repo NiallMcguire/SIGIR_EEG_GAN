{
 "cells": [
  {
   "cell_type": "code",
   "execution_count": 1,
   "metadata": {
    "collapsed": true,
    "ExecuteTime": {
     "start_time": "2023-11-21T10:12:50.737069Z",
     "end_time": "2023-11-21T10:12:55.739321Z"
    }
   },
   "outputs": [],
   "source": [
    "import preprocessing_pipeline as pp\n",
    "import mne"
   ]
  },
  {
   "cell_type": "code",
   "execution_count": 2,
   "outputs": [],
   "source": [
    "path = r\"I:\\Science\\CIS-YASHMOSH\\niallmcguire\\dominika\\Raw Data\\001\\001.cnt\""
   ],
   "metadata": {
    "collapsed": false,
    "ExecuteTime": {
     "start_time": "2023-11-21T10:12:55.739321Z",
     "end_time": "2023-11-21T10:12:55.739321Z"
    }
   }
  },
  {
   "cell_type": "code",
   "execution_count": 3,
   "outputs": [
    {
     "name": "stdout",
     "output_type": "stream",
     "text": [
      "Reading 0 ... 3507399  =      0.000 ...  7014.798 secs...\n"
     ]
    },
    {
     "name": "stderr",
     "output_type": "stream",
     "text": [
      "C:\\Users\\gxb18167\\PycharmProjects\\SIGIR_EEG_GAN\\Development\\Information-Need\\Data\\preprocessing_pipeline.py:137: RuntimeWarning: Could not define the number of bytes automatically. Defaulting to 2.\n",
      "  raw = mne.io.read_raw_cnt(file, preload=preload)\n",
      "C:\\Users\\gxb18167\\PycharmProjects\\SIGIR_EEG_GAN\\Development\\Information-Need\\Data\\preprocessing_pipeline.py:53: RuntimeWarning: Not setting positions of 2 misc channels found in montage:\n",
      "['A1', 'A2']\n",
      "Consider setting the channel types to be of EEG/sEEG/ECoG/DBS/fNIRS using inst.set_channel_types before calling inst.set_montage, or omit these channels when creating your montage.\n",
      "  self.raw.set_montage(montage)\n"
     ]
    }
   ],
   "source": [
    "raw = pp.load_eeg_data(path, eeg_format=\"cnt\", use_montage_creator=True, montage_type='standard_1020')"
   ],
   "metadata": {
    "collapsed": false,
    "ExecuteTime": {
     "start_time": "2023-11-21T10:12:55.751521Z",
     "end_time": "2023-11-21T10:13:32.087820Z"
    }
   }
  },
  {
   "cell_type": "code",
   "execution_count": 20,
   "outputs": [
    {
     "data": {
      "text/plain": "<RawCNT | 001.cnt, 41 x 3507400 (7014.8 s), ~1.07 GB, data loaded>",
      "text/html": "<table class=\"table table-hover table-striped table-sm table-responsive small\">\n    <tr>\n        <th>Measurement date</th>\n        \n        <td>April 01, 2002  01:27:33 GMT</td>\n        \n    </tr>\n    <tr>\n        <th>Experimenter</th>\n        \n        <td>Unknown</td>\n        \n    </tr>\n        <th>Participant</th>\n        \n            \n        \n    </tr>\n    <tr>\n        <th>Digitized points</th>\n        \n        <td>37 points</td>\n        \n    </tr>\n    <tr>\n        <th>Good channels</th>\n        <td>4 EOG, 34 EEG, 2 misc, 1 Stimulus</td>\n    </tr>\n    <tr>\n        <th>Bad channels</th>\n        <td>None</td>\n    </tr>\n    <tr>\n        <th>EOG channels</th>\n        <td>HEOL, HEOR, VEOU, VEOL</td>\n    </tr>\n    <tr>\n        <th>ECG channels</th>\n        <td>Not available</td>\n    \n    <tr>\n        <th>Sampling frequency</th>\n        <td>500.00 Hz</td>\n    </tr>\n    \n    \n    <tr>\n        <th>Highpass</th>\n        <td>0.00 Hz</td>\n    </tr>\n    \n    \n    <tr>\n        <th>Lowpass</th>\n        <td>250.00 Hz</td>\n    </tr>\n    \n    \n    \n    <tr>\n        <th>Filenames</th>\n        <td>001.cnt</td>\n    </tr>\n    \n    <tr>\n        <th>Duration</th>\n        <td>01:56:55 (HH:MM:SS)</td>\n    </tr>\n</table>"
     },
     "execution_count": 20,
     "metadata": {},
     "output_type": "execute_result"
    }
   ],
   "source": [
    "raw"
   ],
   "metadata": {
    "collapsed": false,
    "ExecuteTime": {
     "start_time": "2023-11-21T10:19:01.625651Z",
     "end_time": "2023-11-21T10:19:01.707942Z"
    }
   }
  },
  {
   "cell_type": "code",
   "execution_count": 4,
   "outputs": [
    {
     "name": "stdout",
     "output_type": "stream",
     "text": [
      "Creating RawArray with float64 data, n_channels=1, n_times=3507400\n",
      "    Range : 0 ... 3507399 =      0.000 ...  7014.798 secs\n",
      "Ready.\n"
     ]
    }
   ],
   "source": [
    "raw = pp.add_stimulus_to_raw(raw)"
   ],
   "metadata": {
    "collapsed": false,
    "ExecuteTime": {
     "start_time": "2023-11-21T10:13:32.089322Z",
     "end_time": "2023-11-21T10:14:37.321101Z"
    }
   }
  },
  {
   "cell_type": "code",
   "execution_count": 15,
   "outputs": [],
   "source": [
    "start_index, end_index = raw.time_as_index([0, 1])"
   ],
   "metadata": {
    "collapsed": false,
    "ExecuteTime": {
     "start_time": "2023-11-21T10:18:18.179117Z",
     "end_time": "2023-11-21T10:18:18.235043Z"
    }
   }
  },
  {
   "cell_type": "code",
   "execution_count": 14,
   "outputs": [
    {
     "data": {
      "text/plain": "(41, 3507400)"
     },
     "execution_count": 14,
     "metadata": {},
     "output_type": "execute_result"
    }
   ],
   "source": [
    "raw._data.shape"
   ],
   "metadata": {
    "collapsed": false,
    "ExecuteTime": {
     "start_time": "2023-11-21T10:16:48.433688Z",
     "end_time": "2023-11-21T10:16:48.480051Z"
    }
   }
  },
  {
   "cell_type": "code",
   "execution_count": 16,
   "outputs": [],
   "source": [
    "segment_data = raw._data[:, start_index:end_index]"
   ],
   "metadata": {
    "collapsed": false,
    "ExecuteTime": {
     "start_time": "2023-11-21T10:18:38.916976Z",
     "end_time": "2023-11-21T10:18:38.939172Z"
    }
   }
  },
  {
   "cell_type": "code",
   "execution_count": 19,
   "outputs": [
    {
     "data": {
      "text/plain": "array([[-8.72110117e-06, -1.22346383e-05, -4.70563013e-06, ...,\n        -1.25483470e-06, -1.71912354e-05,  6.27417350e-08],\n       [-6.27417350e-08, -6.27417350e-08, -6.27417350e-08, ...,\n        -6.27417350e-08, -6.27417350e-08,  0.00000000e+00],\n       [-3.01160328e-06, -1.65010763e-05, -9.03480984e-06, ...,\n        -9.53674372e-06,  1.33012478e-05, -1.00386776e-05],\n       ...,\n       [-1.09170619e-05, -1.66893015e-05, -1.12935123e-05, ...,\n        -6.96433259e-06, -4.89385533e-06, -7.77997514e-06],\n       [-6.27417350e-08, -6.27417350e-08, -6.27417350e-08, ...,\n        -6.27417350e-08, -6.27417350e-08, -6.27417350e-08],\n       [ 0.00000000e+00,  0.00000000e+00,  0.00000000e+00, ...,\n         0.00000000e+00,  0.00000000e+00,  0.00000000e+00]])"
     },
     "execution_count": 19,
     "metadata": {},
     "output_type": "execute_result"
    }
   ],
   "source": [
    "segment_data"
   ],
   "metadata": {
    "collapsed": false,
    "ExecuteTime": {
     "start_time": "2023-11-21T10:18:53.433009Z",
     "end_time": "2023-11-21T10:18:53.471012Z"
    }
   }
  },
  {
   "cell_type": "code",
   "execution_count": 5,
   "outputs": [
    {
     "name": "stdout",
     "output_type": "stream",
     "text": [
      "1839 events found\n",
      "Event IDs: [  1   2   3   4   5   6   7   8   9  10  11  12  13  14  20  21  22  23\n",
      "  24  25  26  27  28  29  30  31  32  33  34  35  36  39  44  55  56  57\n",
      "  58  59  60  61  62  63  64  65  66  67  68  69  70  71  72  73  74  75\n",
      "  76  77  78  79  80  81  82  83  84  85  86  87  88  89  90  91  92  93\n",
      "  94  95  96  97  98  99 100 101 102 103 104 105 106 107 108 109 110 111\n",
      " 112 113 114 115 116 117 118 119 120 121 122 123 124 125 126 127 128 129\n",
      " 130 131 132 133 134 135 136 137 138 139 140 141 142 143 144 145 146 147\n",
      " 148 149 150 151 152 154 155 156 157 158 159 160 161 162 163 164 165 166\n",
      " 167 168 169 170 171 173 174 175]\n"
     ]
    }
   ],
   "source": [
    "events = mne.find_events(raw, stim_channel='STI')"
   ],
   "metadata": {
    "collapsed": false,
    "ExecuteTime": {
     "start_time": "2023-11-16T14:51:36.106451Z",
     "end_time": "2023-11-16T14:51:36.284909Z"
    }
   }
  },
  {
   "cell_type": "code",
   "execution_count": 6,
   "outputs": [
    {
     "data": {
      "text/plain": "array([[   2843,       0,     117],\n       [   4333,       0,      21],\n       [   5133,       0,      22],\n       ...,\n       [3496631,       0,       4],\n       [3497705,       0,      13],\n       [3498519,       0,       8]], dtype=int64)"
     },
     "execution_count": 6,
     "metadata": {},
     "output_type": "execute_result"
    }
   ],
   "source": [
    "events = mne.pick_events(events)\n",
    "#first column is onset of ID\n",
    "#third column is ID itself\n",
    "events"
   ],
   "metadata": {
    "collapsed": false,
    "ExecuteTime": {
     "start_time": "2023-11-16T14:51:36.218970Z",
     "end_time": "2023-11-16T14:51:36.344655Z"
    }
   }
  },
  {
   "cell_type": "code",
   "execution_count": 35,
   "outputs": [],
   "source": [
    "event_ids = ['1', '2', '3', '4', '5', '6', '7', '8', '9', '10']\n",
    "\n",
    "labels = {\n",
    "    '1': 'I know',\n",
    "    '2': 'FOK',\n",
    "    '3': 'I do not know',\n",
    "    '4': 'correct answer choice',\n",
    "    '5': 'incorrect answer choice',\n",
    "    '6': 'I do not know (answer choice)',\n",
    "    '7': 'low confidence',\n",
    "    '8': 'high confidence',\n",
    "    '9': 'I want to know',\n",
    "    '10': 'I do not want to know'\n",
    "}\n",
    "\n",
    "\n",
    "level_mapping = {\n",
    "    'KNOW': ['1'],\n",
    "    'FOK': ['2'],\n",
    "    'NKNOW': ['3'],\n",
    "    'MR-C': ['4'],\n",
    "    'MR-I': ['5'],\n",
    "    'MR-N': ['6'],\n",
    "    'CJ-Low': ['7'],\n",
    "    'CJ-High': ['8'],\n",
    "    'SD-SEARCH': ['9'],\n",
    "    'SD-NOSEARCH': ['10']\n",
    "}"
   ],
   "metadata": {
    "collapsed": false,
    "ExecuteTime": {
     "start_time": "2023-11-16T16:36:14.885971Z",
     "end_time": "2023-11-16T16:36:14.894932Z"
    }
   }
  },
  {
   "cell_type": "code",
   "execution_count": 36,
   "outputs": [],
   "source": [
    "all_events = [event for sublist in level_mapping.values() for event in sublist]"
   ],
   "metadata": {
    "collapsed": false,
    "ExecuteTime": {
     "start_time": "2023-11-16T16:36:15.166111Z",
     "end_time": "2023-11-16T16:36:15.211952Z"
    }
   }
  },
  {
   "cell_type": "code",
   "execution_count": 41,
   "outputs": [
    {
     "name": "stderr",
     "output_type": "stream",
     "text": [
      "C:\\Users\\gxb18167\\AppData\\Local\\Temp\\ipykernel_22600\\2939864765.py:1: RuntimeWarning: event 1 missing from event_id will be ignored\n",
      "  fig = mne.viz.plot_events(\n",
      "C:\\Users\\gxb18167\\AppData\\Local\\Temp\\ipykernel_22600\\2939864765.py:1: RuntimeWarning: event 2 missing from event_id will be ignored\n",
      "  fig = mne.viz.plot_events(\n",
      "C:\\Users\\gxb18167\\AppData\\Local\\Temp\\ipykernel_22600\\2939864765.py:1: RuntimeWarning: event 3 missing from event_id will be ignored\n",
      "  fig = mne.viz.plot_events(\n",
      "C:\\Users\\gxb18167\\AppData\\Local\\Temp\\ipykernel_22600\\2939864765.py:1: RuntimeWarning: event 4 missing from event_id will be ignored\n",
      "  fig = mne.viz.plot_events(\n",
      "C:\\Users\\gxb18167\\AppData\\Local\\Temp\\ipykernel_22600\\2939864765.py:1: RuntimeWarning: event 5 missing from event_id will be ignored\n",
      "  fig = mne.viz.plot_events(\n",
      "C:\\Users\\gxb18167\\AppData\\Local\\Temp\\ipykernel_22600\\2939864765.py:1: RuntimeWarning: event 6 missing from event_id will be ignored\n",
      "  fig = mne.viz.plot_events(\n",
      "C:\\Users\\gxb18167\\AppData\\Local\\Temp\\ipykernel_22600\\2939864765.py:1: RuntimeWarning: event 7 missing from event_id will be ignored\n",
      "  fig = mne.viz.plot_events(\n",
      "C:\\Users\\gxb18167\\AppData\\Local\\Temp\\ipykernel_22600\\2939864765.py:1: RuntimeWarning: event 8 missing from event_id will be ignored\n",
      "  fig = mne.viz.plot_events(\n",
      "C:\\Users\\gxb18167\\AppData\\Local\\Temp\\ipykernel_22600\\2939864765.py:1: RuntimeWarning: event 9 missing from event_id will be ignored\n",
      "  fig = mne.viz.plot_events(\n",
      "C:\\Users\\gxb18167\\AppData\\Local\\Temp\\ipykernel_22600\\2939864765.py:1: RuntimeWarning: event 10 missing from event_id will be ignored\n",
      "  fig = mne.viz.plot_events(\n",
      "C:\\Users\\gxb18167\\AppData\\Local\\Temp\\ipykernel_22600\\2939864765.py:1: RuntimeWarning: event 11 missing from event_id will be ignored\n",
      "  fig = mne.viz.plot_events(\n",
      "C:\\Users\\gxb18167\\AppData\\Local\\Temp\\ipykernel_22600\\2939864765.py:1: RuntimeWarning: event 12 missing from event_id will be ignored\n",
      "  fig = mne.viz.plot_events(\n",
      "C:\\Users\\gxb18167\\AppData\\Local\\Temp\\ipykernel_22600\\2939864765.py:1: RuntimeWarning: event 13 missing from event_id will be ignored\n",
      "  fig = mne.viz.plot_events(\n",
      "C:\\Users\\gxb18167\\AppData\\Local\\Temp\\ipykernel_22600\\2939864765.py:1: RuntimeWarning: event 14 missing from event_id will be ignored\n",
      "  fig = mne.viz.plot_events(\n",
      "C:\\Users\\gxb18167\\AppData\\Local\\Temp\\ipykernel_22600\\2939864765.py:1: RuntimeWarning: event 20 missing from event_id will be ignored\n",
      "  fig = mne.viz.plot_events(\n",
      "C:\\Users\\gxb18167\\AppData\\Local\\Temp\\ipykernel_22600\\2939864765.py:1: RuntimeWarning: event 22 missing from event_id will be ignored\n",
      "  fig = mne.viz.plot_events(\n",
      "C:\\Users\\gxb18167\\AppData\\Local\\Temp\\ipykernel_22600\\2939864765.py:1: RuntimeWarning: event 23 missing from event_id will be ignored\n",
      "  fig = mne.viz.plot_events(\n",
      "C:\\Users\\gxb18167\\AppData\\Local\\Temp\\ipykernel_22600\\2939864765.py:1: RuntimeWarning: event 24 missing from event_id will be ignored\n",
      "  fig = mne.viz.plot_events(\n",
      "C:\\Users\\gxb18167\\AppData\\Local\\Temp\\ipykernel_22600\\2939864765.py:1: RuntimeWarning: event 25 missing from event_id will be ignored\n",
      "  fig = mne.viz.plot_events(\n",
      "C:\\Users\\gxb18167\\AppData\\Local\\Temp\\ipykernel_22600\\2939864765.py:1: RuntimeWarning: event 26 missing from event_id will be ignored\n",
      "  fig = mne.viz.plot_events(\n",
      "C:\\Users\\gxb18167\\AppData\\Local\\Temp\\ipykernel_22600\\2939864765.py:1: RuntimeWarning: event 27 missing from event_id will be ignored\n",
      "  fig = mne.viz.plot_events(\n",
      "C:\\Users\\gxb18167\\AppData\\Local\\Temp\\ipykernel_22600\\2939864765.py:1: RuntimeWarning: event 28 missing from event_id will be ignored\n",
      "  fig = mne.viz.plot_events(\n",
      "C:\\Users\\gxb18167\\AppData\\Local\\Temp\\ipykernel_22600\\2939864765.py:1: RuntimeWarning: event 29 missing from event_id will be ignored\n",
      "  fig = mne.viz.plot_events(\n",
      "C:\\Users\\gxb18167\\AppData\\Local\\Temp\\ipykernel_22600\\2939864765.py:1: RuntimeWarning: event 30 missing from event_id will be ignored\n",
      "  fig = mne.viz.plot_events(\n",
      "C:\\Users\\gxb18167\\AppData\\Local\\Temp\\ipykernel_22600\\2939864765.py:1: RuntimeWarning: event 31 missing from event_id will be ignored\n",
      "  fig = mne.viz.plot_events(\n",
      "C:\\Users\\gxb18167\\AppData\\Local\\Temp\\ipykernel_22600\\2939864765.py:1: RuntimeWarning: event 32 missing from event_id will be ignored\n",
      "  fig = mne.viz.plot_events(\n",
      "C:\\Users\\gxb18167\\AppData\\Local\\Temp\\ipykernel_22600\\2939864765.py:1: RuntimeWarning: event 33 missing from event_id will be ignored\n",
      "  fig = mne.viz.plot_events(\n",
      "C:\\Users\\gxb18167\\AppData\\Local\\Temp\\ipykernel_22600\\2939864765.py:1: RuntimeWarning: event 34 missing from event_id will be ignored\n",
      "  fig = mne.viz.plot_events(\n",
      "C:\\Users\\gxb18167\\AppData\\Local\\Temp\\ipykernel_22600\\2939864765.py:1: RuntimeWarning: event 35 missing from event_id will be ignored\n",
      "  fig = mne.viz.plot_events(\n",
      "C:\\Users\\gxb18167\\AppData\\Local\\Temp\\ipykernel_22600\\2939864765.py:1: RuntimeWarning: event 36 missing from event_id will be ignored\n",
      "  fig = mne.viz.plot_events(\n",
      "C:\\Users\\gxb18167\\AppData\\Local\\Temp\\ipykernel_22600\\2939864765.py:1: RuntimeWarning: event 39 missing from event_id will be ignored\n",
      "  fig = mne.viz.plot_events(\n",
      "C:\\Users\\gxb18167\\AppData\\Local\\Temp\\ipykernel_22600\\2939864765.py:1: RuntimeWarning: event 44 missing from event_id will be ignored\n",
      "  fig = mne.viz.plot_events(\n",
      "C:\\Users\\gxb18167\\AppData\\Local\\Temp\\ipykernel_22600\\2939864765.py:1: RuntimeWarning: event 55 missing from event_id will be ignored\n",
      "  fig = mne.viz.plot_events(\n",
      "C:\\Users\\gxb18167\\AppData\\Local\\Temp\\ipykernel_22600\\2939864765.py:1: RuntimeWarning: event 56 missing from event_id will be ignored\n",
      "  fig = mne.viz.plot_events(\n",
      "C:\\Users\\gxb18167\\AppData\\Local\\Temp\\ipykernel_22600\\2939864765.py:1: RuntimeWarning: event 57 missing from event_id will be ignored\n",
      "  fig = mne.viz.plot_events(\n",
      "C:\\Users\\gxb18167\\AppData\\Local\\Temp\\ipykernel_22600\\2939864765.py:1: RuntimeWarning: event 58 missing from event_id will be ignored\n",
      "  fig = mne.viz.plot_events(\n",
      "C:\\Users\\gxb18167\\AppData\\Local\\Temp\\ipykernel_22600\\2939864765.py:1: RuntimeWarning: event 59 missing from event_id will be ignored\n",
      "  fig = mne.viz.plot_events(\n",
      "C:\\Users\\gxb18167\\AppData\\Local\\Temp\\ipykernel_22600\\2939864765.py:1: RuntimeWarning: event 60 missing from event_id will be ignored\n",
      "  fig = mne.viz.plot_events(\n",
      "C:\\Users\\gxb18167\\AppData\\Local\\Temp\\ipykernel_22600\\2939864765.py:1: RuntimeWarning: event 61 missing from event_id will be ignored\n",
      "  fig = mne.viz.plot_events(\n",
      "C:\\Users\\gxb18167\\AppData\\Local\\Temp\\ipykernel_22600\\2939864765.py:1: RuntimeWarning: event 62 missing from event_id will be ignored\n",
      "  fig = mne.viz.plot_events(\n",
      "C:\\Users\\gxb18167\\AppData\\Local\\Temp\\ipykernel_22600\\2939864765.py:1: RuntimeWarning: event 63 missing from event_id will be ignored\n",
      "  fig = mne.viz.plot_events(\n",
      "C:\\Users\\gxb18167\\AppData\\Local\\Temp\\ipykernel_22600\\2939864765.py:1: RuntimeWarning: event 64 missing from event_id will be ignored\n",
      "  fig = mne.viz.plot_events(\n",
      "C:\\Users\\gxb18167\\AppData\\Local\\Temp\\ipykernel_22600\\2939864765.py:1: RuntimeWarning: event 65 missing from event_id will be ignored\n",
      "  fig = mne.viz.plot_events(\n",
      "C:\\Users\\gxb18167\\AppData\\Local\\Temp\\ipykernel_22600\\2939864765.py:1: RuntimeWarning: event 66 missing from event_id will be ignored\n",
      "  fig = mne.viz.plot_events(\n",
      "C:\\Users\\gxb18167\\AppData\\Local\\Temp\\ipykernel_22600\\2939864765.py:1: RuntimeWarning: event 67 missing from event_id will be ignored\n",
      "  fig = mne.viz.plot_events(\n",
      "C:\\Users\\gxb18167\\AppData\\Local\\Temp\\ipykernel_22600\\2939864765.py:1: RuntimeWarning: event 68 missing from event_id will be ignored\n",
      "  fig = mne.viz.plot_events(\n",
      "C:\\Users\\gxb18167\\AppData\\Local\\Temp\\ipykernel_22600\\2939864765.py:1: RuntimeWarning: event 69 missing from event_id will be ignored\n",
      "  fig = mne.viz.plot_events(\n",
      "C:\\Users\\gxb18167\\AppData\\Local\\Temp\\ipykernel_22600\\2939864765.py:1: RuntimeWarning: event 70 missing from event_id will be ignored\n",
      "  fig = mne.viz.plot_events(\n",
      "C:\\Users\\gxb18167\\AppData\\Local\\Temp\\ipykernel_22600\\2939864765.py:1: RuntimeWarning: event 71 missing from event_id will be ignored\n",
      "  fig = mne.viz.plot_events(\n",
      "C:\\Users\\gxb18167\\AppData\\Local\\Temp\\ipykernel_22600\\2939864765.py:1: RuntimeWarning: event 72 missing from event_id will be ignored\n",
      "  fig = mne.viz.plot_events(\n",
      "C:\\Users\\gxb18167\\AppData\\Local\\Temp\\ipykernel_22600\\2939864765.py:1: RuntimeWarning: event 73 missing from event_id will be ignored\n",
      "  fig = mne.viz.plot_events(\n",
      "C:\\Users\\gxb18167\\AppData\\Local\\Temp\\ipykernel_22600\\2939864765.py:1: RuntimeWarning: event 74 missing from event_id will be ignored\n",
      "  fig = mne.viz.plot_events(\n",
      "C:\\Users\\gxb18167\\AppData\\Local\\Temp\\ipykernel_22600\\2939864765.py:1: RuntimeWarning: event 75 missing from event_id will be ignored\n",
      "  fig = mne.viz.plot_events(\n",
      "C:\\Users\\gxb18167\\AppData\\Local\\Temp\\ipykernel_22600\\2939864765.py:1: RuntimeWarning: event 76 missing from event_id will be ignored\n",
      "  fig = mne.viz.plot_events(\n",
      "C:\\Users\\gxb18167\\AppData\\Local\\Temp\\ipykernel_22600\\2939864765.py:1: RuntimeWarning: event 77 missing from event_id will be ignored\n",
      "  fig = mne.viz.plot_events(\n",
      "C:\\Users\\gxb18167\\AppData\\Local\\Temp\\ipykernel_22600\\2939864765.py:1: RuntimeWarning: event 78 missing from event_id will be ignored\n",
      "  fig = mne.viz.plot_events(\n",
      "C:\\Users\\gxb18167\\AppData\\Local\\Temp\\ipykernel_22600\\2939864765.py:1: RuntimeWarning: event 79 missing from event_id will be ignored\n",
      "  fig = mne.viz.plot_events(\n",
      "C:\\Users\\gxb18167\\AppData\\Local\\Temp\\ipykernel_22600\\2939864765.py:1: RuntimeWarning: event 80 missing from event_id will be ignored\n",
      "  fig = mne.viz.plot_events(\n",
      "C:\\Users\\gxb18167\\AppData\\Local\\Temp\\ipykernel_22600\\2939864765.py:1: RuntimeWarning: event 81 missing from event_id will be ignored\n",
      "  fig = mne.viz.plot_events(\n",
      "C:\\Users\\gxb18167\\AppData\\Local\\Temp\\ipykernel_22600\\2939864765.py:1: RuntimeWarning: event 82 missing from event_id will be ignored\n",
      "  fig = mne.viz.plot_events(\n",
      "C:\\Users\\gxb18167\\AppData\\Local\\Temp\\ipykernel_22600\\2939864765.py:1: RuntimeWarning: event 83 missing from event_id will be ignored\n",
      "  fig = mne.viz.plot_events(\n",
      "C:\\Users\\gxb18167\\AppData\\Local\\Temp\\ipykernel_22600\\2939864765.py:1: RuntimeWarning: event 84 missing from event_id will be ignored\n",
      "  fig = mne.viz.plot_events(\n",
      "C:\\Users\\gxb18167\\AppData\\Local\\Temp\\ipykernel_22600\\2939864765.py:1: RuntimeWarning: event 85 missing from event_id will be ignored\n",
      "  fig = mne.viz.plot_events(\n",
      "C:\\Users\\gxb18167\\AppData\\Local\\Temp\\ipykernel_22600\\2939864765.py:1: RuntimeWarning: event 86 missing from event_id will be ignored\n",
      "  fig = mne.viz.plot_events(\n",
      "C:\\Users\\gxb18167\\AppData\\Local\\Temp\\ipykernel_22600\\2939864765.py:1: RuntimeWarning: event 87 missing from event_id will be ignored\n",
      "  fig = mne.viz.plot_events(\n",
      "C:\\Users\\gxb18167\\AppData\\Local\\Temp\\ipykernel_22600\\2939864765.py:1: RuntimeWarning: event 88 missing from event_id will be ignored\n",
      "  fig = mne.viz.plot_events(\n",
      "C:\\Users\\gxb18167\\AppData\\Local\\Temp\\ipykernel_22600\\2939864765.py:1: RuntimeWarning: event 89 missing from event_id will be ignored\n",
      "  fig = mne.viz.plot_events(\n",
      "C:\\Users\\gxb18167\\AppData\\Local\\Temp\\ipykernel_22600\\2939864765.py:1: RuntimeWarning: event 90 missing from event_id will be ignored\n",
      "  fig = mne.viz.plot_events(\n",
      "C:\\Users\\gxb18167\\AppData\\Local\\Temp\\ipykernel_22600\\2939864765.py:1: RuntimeWarning: event 91 missing from event_id will be ignored\n",
      "  fig = mne.viz.plot_events(\n",
      "C:\\Users\\gxb18167\\AppData\\Local\\Temp\\ipykernel_22600\\2939864765.py:1: RuntimeWarning: event 92 missing from event_id will be ignored\n",
      "  fig = mne.viz.plot_events(\n",
      "C:\\Users\\gxb18167\\AppData\\Local\\Temp\\ipykernel_22600\\2939864765.py:1: RuntimeWarning: event 93 missing from event_id will be ignored\n",
      "  fig = mne.viz.plot_events(\n",
      "C:\\Users\\gxb18167\\AppData\\Local\\Temp\\ipykernel_22600\\2939864765.py:1: RuntimeWarning: event 94 missing from event_id will be ignored\n",
      "  fig = mne.viz.plot_events(\n",
      "C:\\Users\\gxb18167\\AppData\\Local\\Temp\\ipykernel_22600\\2939864765.py:1: RuntimeWarning: event 95 missing from event_id will be ignored\n",
      "  fig = mne.viz.plot_events(\n",
      "C:\\Users\\gxb18167\\AppData\\Local\\Temp\\ipykernel_22600\\2939864765.py:1: RuntimeWarning: event 96 missing from event_id will be ignored\n",
      "  fig = mne.viz.plot_events(\n",
      "C:\\Users\\gxb18167\\AppData\\Local\\Temp\\ipykernel_22600\\2939864765.py:1: RuntimeWarning: event 97 missing from event_id will be ignored\n",
      "  fig = mne.viz.plot_events(\n",
      "C:\\Users\\gxb18167\\AppData\\Local\\Temp\\ipykernel_22600\\2939864765.py:1: RuntimeWarning: event 98 missing from event_id will be ignored\n",
      "  fig = mne.viz.plot_events(\n",
      "C:\\Users\\gxb18167\\AppData\\Local\\Temp\\ipykernel_22600\\2939864765.py:1: RuntimeWarning: event 99 missing from event_id will be ignored\n",
      "  fig = mne.viz.plot_events(\n",
      "C:\\Users\\gxb18167\\AppData\\Local\\Temp\\ipykernel_22600\\2939864765.py:1: RuntimeWarning: event 100 missing from event_id will be ignored\n",
      "  fig = mne.viz.plot_events(\n",
      "C:\\Users\\gxb18167\\AppData\\Local\\Temp\\ipykernel_22600\\2939864765.py:1: RuntimeWarning: event 101 missing from event_id will be ignored\n",
      "  fig = mne.viz.plot_events(\n",
      "C:\\Users\\gxb18167\\AppData\\Local\\Temp\\ipykernel_22600\\2939864765.py:1: RuntimeWarning: event 102 missing from event_id will be ignored\n",
      "  fig = mne.viz.plot_events(\n",
      "C:\\Users\\gxb18167\\AppData\\Local\\Temp\\ipykernel_22600\\2939864765.py:1: RuntimeWarning: event 103 missing from event_id will be ignored\n",
      "  fig = mne.viz.plot_events(\n",
      "C:\\Users\\gxb18167\\AppData\\Local\\Temp\\ipykernel_22600\\2939864765.py:1: RuntimeWarning: event 104 missing from event_id will be ignored\n",
      "  fig = mne.viz.plot_events(\n",
      "C:\\Users\\gxb18167\\AppData\\Local\\Temp\\ipykernel_22600\\2939864765.py:1: RuntimeWarning: event 105 missing from event_id will be ignored\n",
      "  fig = mne.viz.plot_events(\n",
      "C:\\Users\\gxb18167\\AppData\\Local\\Temp\\ipykernel_22600\\2939864765.py:1: RuntimeWarning: event 106 missing from event_id will be ignored\n",
      "  fig = mne.viz.plot_events(\n",
      "C:\\Users\\gxb18167\\AppData\\Local\\Temp\\ipykernel_22600\\2939864765.py:1: RuntimeWarning: event 107 missing from event_id will be ignored\n",
      "  fig = mne.viz.plot_events(\n",
      "C:\\Users\\gxb18167\\AppData\\Local\\Temp\\ipykernel_22600\\2939864765.py:1: RuntimeWarning: event 108 missing from event_id will be ignored\n",
      "  fig = mne.viz.plot_events(\n",
      "C:\\Users\\gxb18167\\AppData\\Local\\Temp\\ipykernel_22600\\2939864765.py:1: RuntimeWarning: event 109 missing from event_id will be ignored\n",
      "  fig = mne.viz.plot_events(\n",
      "C:\\Users\\gxb18167\\AppData\\Local\\Temp\\ipykernel_22600\\2939864765.py:1: RuntimeWarning: event 110 missing from event_id will be ignored\n",
      "  fig = mne.viz.plot_events(\n",
      "C:\\Users\\gxb18167\\AppData\\Local\\Temp\\ipykernel_22600\\2939864765.py:1: RuntimeWarning: event 111 missing from event_id will be ignored\n",
      "  fig = mne.viz.plot_events(\n",
      "C:\\Users\\gxb18167\\AppData\\Local\\Temp\\ipykernel_22600\\2939864765.py:1: RuntimeWarning: event 112 missing from event_id will be ignored\n",
      "  fig = mne.viz.plot_events(\n",
      "C:\\Users\\gxb18167\\AppData\\Local\\Temp\\ipykernel_22600\\2939864765.py:1: RuntimeWarning: event 113 missing from event_id will be ignored\n",
      "  fig = mne.viz.plot_events(\n",
      "C:\\Users\\gxb18167\\AppData\\Local\\Temp\\ipykernel_22600\\2939864765.py:1: RuntimeWarning: event 114 missing from event_id will be ignored\n",
      "  fig = mne.viz.plot_events(\n",
      "C:\\Users\\gxb18167\\AppData\\Local\\Temp\\ipykernel_22600\\2939864765.py:1: RuntimeWarning: event 115 missing from event_id will be ignored\n",
      "  fig = mne.viz.plot_events(\n",
      "C:\\Users\\gxb18167\\AppData\\Local\\Temp\\ipykernel_22600\\2939864765.py:1: RuntimeWarning: event 116 missing from event_id will be ignored\n",
      "  fig = mne.viz.plot_events(\n",
      "C:\\Users\\gxb18167\\AppData\\Local\\Temp\\ipykernel_22600\\2939864765.py:1: RuntimeWarning: event 117 missing from event_id will be ignored\n",
      "  fig = mne.viz.plot_events(\n",
      "C:\\Users\\gxb18167\\AppData\\Local\\Temp\\ipykernel_22600\\2939864765.py:1: RuntimeWarning: event 118 missing from event_id will be ignored\n",
      "  fig = mne.viz.plot_events(\n",
      "C:\\Users\\gxb18167\\AppData\\Local\\Temp\\ipykernel_22600\\2939864765.py:1: RuntimeWarning: event 119 missing from event_id will be ignored\n",
      "  fig = mne.viz.plot_events(\n",
      "C:\\Users\\gxb18167\\AppData\\Local\\Temp\\ipykernel_22600\\2939864765.py:1: RuntimeWarning: event 120 missing from event_id will be ignored\n",
      "  fig = mne.viz.plot_events(\n",
      "C:\\Users\\gxb18167\\AppData\\Local\\Temp\\ipykernel_22600\\2939864765.py:1: RuntimeWarning: event 121 missing from event_id will be ignored\n",
      "  fig = mne.viz.plot_events(\n",
      "C:\\Users\\gxb18167\\AppData\\Local\\Temp\\ipykernel_22600\\2939864765.py:1: RuntimeWarning: event 122 missing from event_id will be ignored\n",
      "  fig = mne.viz.plot_events(\n",
      "C:\\Users\\gxb18167\\AppData\\Local\\Temp\\ipykernel_22600\\2939864765.py:1: RuntimeWarning: event 123 missing from event_id will be ignored\n",
      "  fig = mne.viz.plot_events(\n",
      "C:\\Users\\gxb18167\\AppData\\Local\\Temp\\ipykernel_22600\\2939864765.py:1: RuntimeWarning: event 124 missing from event_id will be ignored\n",
      "  fig = mne.viz.plot_events(\n",
      "C:\\Users\\gxb18167\\AppData\\Local\\Temp\\ipykernel_22600\\2939864765.py:1: RuntimeWarning: event 125 missing from event_id will be ignored\n",
      "  fig = mne.viz.plot_events(\n",
      "C:\\Users\\gxb18167\\AppData\\Local\\Temp\\ipykernel_22600\\2939864765.py:1: RuntimeWarning: event 126 missing from event_id will be ignored\n",
      "  fig = mne.viz.plot_events(\n",
      "C:\\Users\\gxb18167\\AppData\\Local\\Temp\\ipykernel_22600\\2939864765.py:1: RuntimeWarning: event 127 missing from event_id will be ignored\n",
      "  fig = mne.viz.plot_events(\n",
      "C:\\Users\\gxb18167\\AppData\\Local\\Temp\\ipykernel_22600\\2939864765.py:1: RuntimeWarning: event 128 missing from event_id will be ignored\n",
      "  fig = mne.viz.plot_events(\n",
      "C:\\Users\\gxb18167\\AppData\\Local\\Temp\\ipykernel_22600\\2939864765.py:1: RuntimeWarning: event 129 missing from event_id will be ignored\n",
      "  fig = mne.viz.plot_events(\n",
      "C:\\Users\\gxb18167\\AppData\\Local\\Temp\\ipykernel_22600\\2939864765.py:1: RuntimeWarning: event 130 missing from event_id will be ignored\n",
      "  fig = mne.viz.plot_events(\n",
      "C:\\Users\\gxb18167\\AppData\\Local\\Temp\\ipykernel_22600\\2939864765.py:1: RuntimeWarning: event 131 missing from event_id will be ignored\n",
      "  fig = mne.viz.plot_events(\n",
      "C:\\Users\\gxb18167\\AppData\\Local\\Temp\\ipykernel_22600\\2939864765.py:1: RuntimeWarning: event 132 missing from event_id will be ignored\n",
      "  fig = mne.viz.plot_events(\n",
      "C:\\Users\\gxb18167\\AppData\\Local\\Temp\\ipykernel_22600\\2939864765.py:1: RuntimeWarning: event 133 missing from event_id will be ignored\n",
      "  fig = mne.viz.plot_events(\n",
      "C:\\Users\\gxb18167\\AppData\\Local\\Temp\\ipykernel_22600\\2939864765.py:1: RuntimeWarning: event 134 missing from event_id will be ignored\n",
      "  fig = mne.viz.plot_events(\n",
      "C:\\Users\\gxb18167\\AppData\\Local\\Temp\\ipykernel_22600\\2939864765.py:1: RuntimeWarning: event 135 missing from event_id will be ignored\n",
      "  fig = mne.viz.plot_events(\n",
      "C:\\Users\\gxb18167\\AppData\\Local\\Temp\\ipykernel_22600\\2939864765.py:1: RuntimeWarning: event 136 missing from event_id will be ignored\n",
      "  fig = mne.viz.plot_events(\n",
      "C:\\Users\\gxb18167\\AppData\\Local\\Temp\\ipykernel_22600\\2939864765.py:1: RuntimeWarning: event 137 missing from event_id will be ignored\n",
      "  fig = mne.viz.plot_events(\n",
      "C:\\Users\\gxb18167\\AppData\\Local\\Temp\\ipykernel_22600\\2939864765.py:1: RuntimeWarning: event 138 missing from event_id will be ignored\n",
      "  fig = mne.viz.plot_events(\n",
      "C:\\Users\\gxb18167\\AppData\\Local\\Temp\\ipykernel_22600\\2939864765.py:1: RuntimeWarning: event 139 missing from event_id will be ignored\n",
      "  fig = mne.viz.plot_events(\n",
      "C:\\Users\\gxb18167\\AppData\\Local\\Temp\\ipykernel_22600\\2939864765.py:1: RuntimeWarning: event 140 missing from event_id will be ignored\n",
      "  fig = mne.viz.plot_events(\n",
      "C:\\Users\\gxb18167\\AppData\\Local\\Temp\\ipykernel_22600\\2939864765.py:1: RuntimeWarning: event 141 missing from event_id will be ignored\n",
      "  fig = mne.viz.plot_events(\n",
      "C:\\Users\\gxb18167\\AppData\\Local\\Temp\\ipykernel_22600\\2939864765.py:1: RuntimeWarning: event 142 missing from event_id will be ignored\n",
      "  fig = mne.viz.plot_events(\n",
      "C:\\Users\\gxb18167\\AppData\\Local\\Temp\\ipykernel_22600\\2939864765.py:1: RuntimeWarning: event 143 missing from event_id will be ignored\n",
      "  fig = mne.viz.plot_events(\n",
      "C:\\Users\\gxb18167\\AppData\\Local\\Temp\\ipykernel_22600\\2939864765.py:1: RuntimeWarning: event 144 missing from event_id will be ignored\n",
      "  fig = mne.viz.plot_events(\n",
      "C:\\Users\\gxb18167\\AppData\\Local\\Temp\\ipykernel_22600\\2939864765.py:1: RuntimeWarning: event 145 missing from event_id will be ignored\n",
      "  fig = mne.viz.plot_events(\n",
      "C:\\Users\\gxb18167\\AppData\\Local\\Temp\\ipykernel_22600\\2939864765.py:1: RuntimeWarning: event 146 missing from event_id will be ignored\n",
      "  fig = mne.viz.plot_events(\n",
      "C:\\Users\\gxb18167\\AppData\\Local\\Temp\\ipykernel_22600\\2939864765.py:1: RuntimeWarning: event 147 missing from event_id will be ignored\n",
      "  fig = mne.viz.plot_events(\n",
      "C:\\Users\\gxb18167\\AppData\\Local\\Temp\\ipykernel_22600\\2939864765.py:1: RuntimeWarning: event 148 missing from event_id will be ignored\n",
      "  fig = mne.viz.plot_events(\n",
      "C:\\Users\\gxb18167\\AppData\\Local\\Temp\\ipykernel_22600\\2939864765.py:1: RuntimeWarning: event 149 missing from event_id will be ignored\n",
      "  fig = mne.viz.plot_events(\n",
      "C:\\Users\\gxb18167\\AppData\\Local\\Temp\\ipykernel_22600\\2939864765.py:1: RuntimeWarning: event 150 missing from event_id will be ignored\n",
      "  fig = mne.viz.plot_events(\n",
      "C:\\Users\\gxb18167\\AppData\\Local\\Temp\\ipykernel_22600\\2939864765.py:1: RuntimeWarning: event 151 missing from event_id will be ignored\n",
      "  fig = mne.viz.plot_events(\n",
      "C:\\Users\\gxb18167\\AppData\\Local\\Temp\\ipykernel_22600\\2939864765.py:1: RuntimeWarning: event 152 missing from event_id will be ignored\n",
      "  fig = mne.viz.plot_events(\n",
      "C:\\Users\\gxb18167\\AppData\\Local\\Temp\\ipykernel_22600\\2939864765.py:1: RuntimeWarning: event 154 missing from event_id will be ignored\n",
      "  fig = mne.viz.plot_events(\n",
      "C:\\Users\\gxb18167\\AppData\\Local\\Temp\\ipykernel_22600\\2939864765.py:1: RuntimeWarning: event 155 missing from event_id will be ignored\n",
      "  fig = mne.viz.plot_events(\n",
      "C:\\Users\\gxb18167\\AppData\\Local\\Temp\\ipykernel_22600\\2939864765.py:1: RuntimeWarning: event 156 missing from event_id will be ignored\n",
      "  fig = mne.viz.plot_events(\n",
      "C:\\Users\\gxb18167\\AppData\\Local\\Temp\\ipykernel_22600\\2939864765.py:1: RuntimeWarning: event 157 missing from event_id will be ignored\n",
      "  fig = mne.viz.plot_events(\n",
      "C:\\Users\\gxb18167\\AppData\\Local\\Temp\\ipykernel_22600\\2939864765.py:1: RuntimeWarning: event 158 missing from event_id will be ignored\n",
      "  fig = mne.viz.plot_events(\n",
      "C:\\Users\\gxb18167\\AppData\\Local\\Temp\\ipykernel_22600\\2939864765.py:1: RuntimeWarning: event 159 missing from event_id will be ignored\n",
      "  fig = mne.viz.plot_events(\n",
      "C:\\Users\\gxb18167\\AppData\\Local\\Temp\\ipykernel_22600\\2939864765.py:1: RuntimeWarning: event 160 missing from event_id will be ignored\n",
      "  fig = mne.viz.plot_events(\n",
      "C:\\Users\\gxb18167\\AppData\\Local\\Temp\\ipykernel_22600\\2939864765.py:1: RuntimeWarning: event 161 missing from event_id will be ignored\n",
      "  fig = mne.viz.plot_events(\n",
      "C:\\Users\\gxb18167\\AppData\\Local\\Temp\\ipykernel_22600\\2939864765.py:1: RuntimeWarning: event 162 missing from event_id will be ignored\n",
      "  fig = mne.viz.plot_events(\n",
      "C:\\Users\\gxb18167\\AppData\\Local\\Temp\\ipykernel_22600\\2939864765.py:1: RuntimeWarning: event 163 missing from event_id will be ignored\n",
      "  fig = mne.viz.plot_events(\n",
      "C:\\Users\\gxb18167\\AppData\\Local\\Temp\\ipykernel_22600\\2939864765.py:1: RuntimeWarning: event 164 missing from event_id will be ignored\n",
      "  fig = mne.viz.plot_events(\n",
      "C:\\Users\\gxb18167\\AppData\\Local\\Temp\\ipykernel_22600\\2939864765.py:1: RuntimeWarning: event 165 missing from event_id will be ignored\n",
      "  fig = mne.viz.plot_events(\n",
      "C:\\Users\\gxb18167\\AppData\\Local\\Temp\\ipykernel_22600\\2939864765.py:1: RuntimeWarning: event 166 missing from event_id will be ignored\n",
      "  fig = mne.viz.plot_events(\n",
      "C:\\Users\\gxb18167\\AppData\\Local\\Temp\\ipykernel_22600\\2939864765.py:1: RuntimeWarning: event 167 missing from event_id will be ignored\n",
      "  fig = mne.viz.plot_events(\n",
      "C:\\Users\\gxb18167\\AppData\\Local\\Temp\\ipykernel_22600\\2939864765.py:1: RuntimeWarning: event 168 missing from event_id will be ignored\n",
      "  fig = mne.viz.plot_events(\n",
      "C:\\Users\\gxb18167\\AppData\\Local\\Temp\\ipykernel_22600\\2939864765.py:1: RuntimeWarning: event 169 missing from event_id will be ignored\n",
      "  fig = mne.viz.plot_events(\n",
      "C:\\Users\\gxb18167\\AppData\\Local\\Temp\\ipykernel_22600\\2939864765.py:1: RuntimeWarning: event 170 missing from event_id will be ignored\n",
      "  fig = mne.viz.plot_events(\n",
      "C:\\Users\\gxb18167\\AppData\\Local\\Temp\\ipykernel_22600\\2939864765.py:1: RuntimeWarning: event 171 missing from event_id will be ignored\n",
      "  fig = mne.viz.plot_events(\n",
      "C:\\Users\\gxb18167\\AppData\\Local\\Temp\\ipykernel_22600\\2939864765.py:1: RuntimeWarning: event 173 missing from event_id will be ignored\n",
      "  fig = mne.viz.plot_events(\n",
      "C:\\Users\\gxb18167\\AppData\\Local\\Temp\\ipykernel_22600\\2939864765.py:1: RuntimeWarning: event 174 missing from event_id will be ignored\n",
      "  fig = mne.viz.plot_events(\n",
      "C:\\Users\\gxb18167\\AppData\\Local\\Temp\\ipykernel_22600\\2939864765.py:1: RuntimeWarning: event 175 missing from event_id will be ignored\n",
      "  fig = mne.viz.plot_events(\n",
      "C:\\Users\\gxb18167\\AppData\\Local\\Temp\\ipykernel_22600\\2939864765.py:1: RuntimeWarning: More events than default colors available. You should pass a list of unique colors.\n",
      "  fig = mne.viz.plot_events(\n"
     ]
    },
    {
     "data": {
      "text/plain": "<Figure size 640x480 with 1 Axes>",
      "image/png": "[encoded data removed]"
     },
     "metadata": {},
     "output_type": "display_data"
    }
   ],
   "source": [
    "fig = mne.viz.plot_events(\n",
    "    events, sfreq=raw.info[\"sfreq\"], first_samp=raw.first_samp, event_id={\"IDK\": 21}\n",
    ")"
   ],
   "metadata": {
    "collapsed": false,
    "ExecuteTime": {
     "start_time": "2023-11-16T16:38:27.948479Z",
     "end_time": "2023-11-16T16:38:28.076901Z"
    }
   }
  },
  {
   "cell_type": "code",
   "execution_count": null,
   "outputs": [],
   "source": [],
   "metadata": {
    "collapsed": false
   }
  }
 ],
 "metadata": {
  "kernelspec": {
   "display_name": "Python 3",
   "language": "python",
   "name": "python3"
  },
  "language_info": {
   "codemirror_mode": {
    "name": "ipython",
    "version": 2
   },
   "file_extension": ".py",
   "mimetype": "text/x-python",
   "name": "python",
   "nbconvert_exporter": "python",
   "pygments_lexer": "ipython2",
   "version": "2.7.6"
  }
 },
 "nbformat": 4,
 "nbformat_minor": 0
}
