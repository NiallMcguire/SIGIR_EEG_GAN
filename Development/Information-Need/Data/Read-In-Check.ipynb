{
 "cells": [
  {
   "cell_type": "code",
   "execution_count": 22,
   "metadata": {
    "collapsed": true,
    "ExecuteTime": {
     "start_time": "2023-11-15T15:26:49.785203Z",
     "end_time": "2023-11-15T15:26:49.801660Z"
    }
   },
   "outputs": [],
   "source": [
    "import preprocessing_pipeline as pp\n",
    "import mne"
   ]
  },
  {
   "cell_type": "code",
   "execution_count": 23,
   "outputs": [],
   "source": [
    "path = r\"I:\\Science\\CIS-YASHMOSH\\niallmcguire\\dominika\\Raw Data\\001\\001.cnt\""
   ],
   "metadata": {
    "collapsed": false,
    "ExecuteTime": {
     "start_time": "2023-11-15T15:26:49.966023Z",
     "end_time": "2023-11-15T15:26:49.978044Z"
    }
   }
  },
  {
   "cell_type": "code",
   "execution_count": 24,
   "outputs": [
    {
     "name": "stdout",
     "output_type": "stream",
     "text": [
      "Reading 0 ... 3507399  =      0.000 ...  7014.798 secs...\n"
     ]
    },
    {
     "name": "stderr",
     "output_type": "stream",
     "text": [
      "C:\\Users\\gxb18167\\PycharmProjects\\SIGIR_EEG_GAN\\Development\\Information-Need\\Data\\preprocessing_pipeline.py:137: RuntimeWarning: Could not define the number of bytes automatically. Defaulting to 2.\n",
      "  raw = mne.io.read_raw_cnt(file, preload=preload)\n",
      "C:\\Users\\gxb18167\\PycharmProjects\\SIGIR_EEG_GAN\\Development\\Information-Need\\Data\\preprocessing_pipeline.py:53: RuntimeWarning: Not setting positions of 2 misc channels found in montage:\n",
      "['A1', 'A2']\n",
      "Consider setting the channel types to be of EEG/sEEG/ECoG/DBS/fNIRS using inst.set_channel_types before calling inst.set_montage, or omit these channels when creating your montage.\n",
      "  self.raw.set_montage(montage)\n"
     ]
    }
   ],
   "source": [
    "raw = pp.load_eeg_data(path, eeg_format=\"cnt\", use_montage_creator=True, montage_type='standard_1020')"
   ],
   "metadata": {
    "collapsed": false,
    "ExecuteTime": {
     "start_time": "2023-11-15T15:26:50.148343Z",
     "end_time": "2023-11-15T15:27:15.015194Z"
    }
   }
  },
  {
   "cell_type": "code",
   "execution_count": 25,
   "outputs": [
    {
     "name": "stdout",
     "output_type": "stream",
     "text": [
      "Creating RawArray with float64 data, n_channels=1, n_times=3507400\n",
      "    Range : 0 ... 3507399 =      0.000 ...  7014.798 secs\n",
      "Ready.\n"
     ]
    }
   ],
   "source": [
    "raw = pp.add_stimulus_to_raw(raw)"
   ],
   "metadata": {
    "collapsed": false,
    "ExecuteTime": {
     "start_time": "2023-11-15T15:27:15.015194Z",
     "end_time": "2023-11-15T15:27:35.230399Z"
    }
   }
  },
  {
   "cell_type": "code",
   "execution_count": 25,
   "outputs": [],
   "source": [],
   "metadata": {
    "collapsed": false,
    "ExecuteTime": {
     "start_time": "2023-11-15T15:27:53.961509Z",
     "end_time": "2023-11-15T15:27:53.977725Z"
    }
   }
  },
  {
   "cell_type": "code",
   "execution_count": 45,
   "outputs": [
    {
     "name": "stdout",
     "output_type": "stream",
     "text": [
      "1839 events found\n",
      "Event IDs: [  1   2   3   4   5   6   7   8   9  10  11  12  13  14  20  21  22  23\n",
      "  24  25  26  27  28  29  30  31  32  33  34  35  36  39  44  55  56  57\n",
      "  58  59  60  61  62  63  64  65  66  67  68  69  70  71  72  73  74  75\n",
      "  76  77  78  79  80  81  82  83  84  85  86  87  88  89  90  91  92  93\n",
      "  94  95  96  97  98  99 100 101 102 103 104 105 106 107 108 109 110 111\n",
      " 112 113 114 115 116 117 118 119 120 121 122 123 124 125 126 127 128 129\n",
      " 130 131 132 133 134 135 136 137 138 139 140 141 142 143 144 145 146 147\n",
      " 148 149 150 151 152 154 155 156 157 158 159 160 161 162 163 164 165 166\n",
      " 167 168 169 170 171 173 174 175]\n"
     ]
    }
   ],
   "source": [
    "events = mne.find_events(raw, stim_channel='STI')"
   ],
   "metadata": {
    "collapsed": false,
    "ExecuteTime": {
     "start_time": "2023-11-15T15:32:19.933482Z",
     "end_time": "2023-11-15T15:32:20.001360Z"
    }
   }
  },
  {
   "cell_type": "code",
   "execution_count": 54,
   "outputs": [
    {
     "data": {
      "text/plain": "array([[   2843,       0,     117],\n       [   4333,       0,      21],\n       [   5133,       0,      22],\n       ...,\n       [3496631,       0,       4],\n       [3497705,       0,      13],\n       [3498519,       0,       8]], dtype=int64)"
     },
     "execution_count": 54,
     "metadata": {},
     "output_type": "execute_result"
    }
   ],
   "source": [
    "events = mne.pick_events(events)\n",
    "#first column is onset of ID\n",
    "#third column is ID itself\n",
    "events"
   ],
   "metadata": {
    "collapsed": false,
    "ExecuteTime": {
     "start_time": "2023-11-15T15:33:45.345363Z",
     "end_time": "2023-11-15T15:33:45.361778Z"
    }
   }
  },
  {
   "cell_type": "code",
   "execution_count": 19,
   "outputs": [],
   "source": [
    "event_ids = ['1', '2', '3', '4', '5', '6', '7', '8', '9', '10']\n",
    "\"\"\"\n",
    "labels = {\n",
    "    '1': 'I know',\n",
    "    '2': 'FOK',\n",
    "    '3': 'I do not know',\n",
    "    '4': 'correct answer choice',\n",
    "    '5': 'incorrect answer choice',\n",
    "    '6': 'I do not know (answer choice)',\n",
    "    '7': 'low confidence',\n",
    "    '8': 'high confidence',\n",
    "    '9': 'I want to know',\n",
    "    '10': 'I do not want to know'\n",
    "}\n",
    "\"\"\"\n",
    "\n",
    "level_mapping = {\n",
    "    'KNOW': ['1'],\n",
    "    'FOK': ['2'],\n",
    "    'NKNOW': ['3'],\n",
    "    'MR-C': ['4'],\n",
    "    'MR-I': ['5'],\n",
    "    'MR-N': ['6'],\n",
    "    'CJ-Low': ['7'],\n",
    "    'CJ-High': ['8'],\n",
    "    'SD-SEARCH': ['9'],\n",
    "    'SD-NOSEARCH': ['10']\n",
    "}"
   ],
   "metadata": {
    "collapsed": false,
    "ExecuteTime": {
     "start_time": "2023-11-15T15:23:26.241481Z",
     "end_time": "2023-11-15T15:23:26.253060Z"
    }
   }
  },
  {
   "cell_type": "code",
   "execution_count": 20,
   "outputs": [],
   "source": [
    "all_events = [event for sublist in level_mapping.values() for event in sublist]"
   ],
   "metadata": {
    "collapsed": false,
    "ExecuteTime": {
     "start_time": "2023-11-15T15:23:27.481908Z",
     "end_time": "2023-11-15T15:23:27.497803Z"
    }
   }
  },
  {
   "cell_type": "code",
   "execution_count": 21,
   "outputs": [
    {
     "data": {
      "text/plain": "['1', '2', '3', '4', '5', '6', '7', '8', '9', '10']"
     },
     "execution_count": 21,
     "metadata": {},
     "output_type": "execute_result"
    }
   ],
   "source": [],
   "metadata": {
    "collapsed": false,
    "ExecuteTime": {
     "start_time": "2023-11-15T15:23:30.354535Z",
     "end_time": "2023-11-15T15:23:30.408381Z"
    }
   }
  },
  {
   "cell_type": "code",
   "execution_count": null,
   "outputs": [],
   "source": [],
   "metadata": {
    "collapsed": false
   }
  }
 ],
 "metadata": {
  "kernelspec": {
   "display_name": "Python 3",
   "language": "python",
   "name": "python3"
  },
  "language_info": {
   "codemirror_mode": {
    "name": "ipython",
    "version": 2
   },
   "file_extension": ".py",
   "mimetype": "text/x-python",
   "name": "python",
   "nbconvert_exporter": "python",
   "pygments_lexer": "ipython2",
   "version": "2.7.6"
  }
 },
 "nbformat": 4,
 "nbformat_minor": 0
}
