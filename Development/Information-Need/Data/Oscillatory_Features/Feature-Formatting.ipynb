{
 "cells": [
  {
   "cell_type": "code",
   "execution_count": 1,
   "metadata": {
    "collapsed": true,
    "ExecuteTime": {
     "start_time": "2023-11-27T18:36:44.466146Z",
     "end_time": "2023-11-27T18:36:49.846511Z"
    }
   },
   "outputs": [
    {
     "name": "stdout",
     "output_type": "stream",
     "text": [
      "haar family: haar\n",
      "db family: db1, db2, db3, db4, db5, db6, db7, db8, db9, db10, db11, db12, db13, db14, db15, db16, db17, db18, db19, db20, db21, db22, db23, db24, db25, db26, db27, db28, db29, db30, db31, db32, db33, db34, db35, db36, db37, db38\n",
      "sym family: sym2, sym3, sym4, sym5, sym6, sym7, sym8, sym9, sym10, sym11, sym12, sym13, sym14, sym15, sym16, sym17, sym18, sym19, sym20\n",
      "coif family: coif1, coif2, coif3, coif4, coif5, coif6, coif7, coif8, coif9, coif10, coif11, coif12, coif13, coif14, coif15, coif16, coif17\n",
      "bior family: bior1.1, bior1.3, bior1.5, bior2.2, bior2.4, bior2.6, bior2.8, bior3.1, bior3.3, bior3.5, bior3.7, bior3.9, bior4.4, bior5.5, bior6.8\n",
      "rbio family: rbio1.1, rbio1.3, rbio1.5, rbio2.2, rbio2.4, rbio2.6, rbio2.8, rbio3.1, rbio3.3, rbio3.5, rbio3.7, rbio3.9, rbio4.4, rbio5.5, rbio6.8\n",
      "dmey family: dmey\n",
      "gaus family: gaus1, gaus2, gaus3, gaus4, gaus5, gaus6, gaus7, gaus8\n",
      "mexh family: mexh\n",
      "morl family: morl\n",
      "cgau family: cgau1, cgau2, cgau3, cgau4, cgau5, cgau6, cgau7, cgau8\n",
      "shan family: shan\n",
      "fbsp family: fbsp\n",
      "cmor family: cmor\n"
     ]
    }
   ],
   "source": [
    "import pickle\n",
    "import Feature_Extraction\n",
    "import pandas as pd"
   ]
  },
  {
   "cell_type": "code",
   "execution_count": 2,
   "outputs": [],
   "source": [
    "fe = Feature_Extraction.FeatureExtraction()"
   ],
   "metadata": {
    "collapsed": false,
    "ExecuteTime": {
     "start_time": "2023-11-27T18:36:49.865799Z",
     "end_time": "2023-11-27T18:36:49.957055Z"
    }
   }
  },
  {
   "cell_type": "code",
   "execution_count": 3,
   "outputs": [],
   "source": [
    "def load_in_participant_data(path):\n",
    "    with open(path, 'rb') as pickle_file:\n",
    "        loaded_data = pickle.load(pickle_file)\n",
    "\n",
    "    NeedToSearch = loaded_data['NeedToSearch']\n",
    "    CorrectSearch = loaded_data['CorrectSearch']\n",
    "    IncorrectSearch = loaded_data['IncorrectSearch']\n",
    "\n",
    "    return NeedToSearch, CorrectSearch, IncorrectSearch"
   ],
   "metadata": {
    "collapsed": false,
    "ExecuteTime": {
     "start_time": "2023-11-27T18:36:49.887208Z",
     "end_time": "2023-11-27T18:36:50.031474Z"
    }
   }
  },
  {
   "cell_type": "code",
   "execution_count": 4,
   "outputs": [],
   "source": [
    "import numpy as np\n",
    "\n",
    "def align_features_to_matrix(feature_dict):\n",
    "    # Get the number of frequency bands\n",
    "    num_bands = len(list(feature_dict.keys()))\n",
    "\n",
    "    # Get the number of channels and samples for one frequency band\n",
    "    channels, samples = feature_dict[list(feature_dict.keys())[0]].shape\n",
    "\n",
    "    # Initialize the aligned matrix\n",
    "    aligned_matrix = np.zeros((samples, channels * num_bands))\n",
    "\n",
    "    # Iterate through frequency bands and populate the matrix\n",
    "    for idx, (band, power) in enumerate(feature_dict.items()):\n",
    "        start_col = idx * channels\n",
    "        end_col = (idx + 1) * channels\n",
    "        aligned_matrix[:, start_col:end_col] = power.T\n",
    "\n",
    "    return aligned_matrix\n",
    "\n"
   ],
   "metadata": {
    "collapsed": false,
    "ExecuteTime": {
     "start_time": "2023-11-27T18:36:49.905512Z",
     "end_time": "2023-11-27T18:36:50.033621Z"
    }
   }
  },
  {
   "cell_type": "code",
   "execution_count": 5,
   "outputs": [],
   "source": [
    "def search_condition_feature_dataframe(SearchFeatures):\n",
    "    feature_set = []\n",
    "    if len(SearchFeatures[0]) == 0:\n",
    "        return 0\n",
    "    for i in range(len(SearchFeatures[0])):\n",
    "        EEG_features = align_features_to_matrix(SearchFeatures[0][i])\n",
    "        feature_set.append(EEG_features)\n",
    "\n",
    "    return feature_set, SearchFeatures[1]"
   ],
   "metadata": {
    "collapsed": false,
    "ExecuteTime": {
     "start_time": "2023-11-27T18:36:49.945670Z",
     "end_time": "2023-11-27T18:36:50.036170Z"
    }
   }
  },
  {
   "cell_type": "code",
   "execution_count": 5,
   "outputs": [],
   "source": [],
   "metadata": {
    "collapsed": false,
    "ExecuteTime": {
     "start_time": "2023-11-27T18:36:49.966336Z",
     "end_time": "2023-11-27T18:36:50.232400Z"
    }
   }
  },
  {
   "cell_type": "code",
   "execution_count": 6,
   "outputs": [],
   "source": [
    "path = r\"C:\\Users\\gxb18167\\PycharmProjects\\SIGIR_EEG_GAN\\Development\\Information-Need\\Data\\Oscillatory_Features\\participant_001_Features.pkl\"\n",
    "NeedToSearch, CorrectSearch, IncorrectSearch = load_in_participant_data(path)"
   ],
   "metadata": {
    "collapsed": false,
    "ExecuteTime": {
     "start_time": "2023-11-27T18:36:49.991788Z",
     "end_time": "2023-11-27T18:36:52.133481Z"
    }
   }
  },
  {
   "cell_type": "code",
   "execution_count": 6,
   "outputs": [],
   "source": [],
   "metadata": {
    "collapsed": false,
    "ExecuteTime": {
     "start_time": "2023-11-27T18:36:52.142555Z",
     "end_time": "2023-11-27T18:36:52.150824Z"
    }
   }
  },
  {
   "cell_type": "code",
   "execution_count": 6,
   "outputs": [],
   "source": [],
   "metadata": {
    "collapsed": false,
    "ExecuteTime": {
     "start_time": "2023-11-27T18:36:52.159402Z",
     "end_time": "2023-11-27T18:36:52.231788Z"
    }
   }
  },
  {
   "cell_type": "code",
   "execution_count": 6,
   "outputs": [],
   "source": [],
   "metadata": {
    "collapsed": false,
    "ExecuteTime": {
     "start_time": "2023-11-27T18:36:52.175382Z",
     "end_time": "2023-11-27T18:36:52.232287Z"
    }
   }
  },
  {
   "cell_type": "code",
   "execution_count": 7,
   "outputs": [],
   "source": [
    "ParticipantList = [\"01\", \"02\", \"03\", \"04\", \"05\", \"06\", \"08\", \"09\", \"10\"]"
   ],
   "metadata": {
    "collapsed": false,
    "ExecuteTime": {
     "start_time": "2023-11-27T18:36:52.189259Z",
     "end_time": "2023-11-27T18:36:52.234411Z"
    }
   }
  },
  {
   "cell_type": "code",
   "execution_count": 8,
   "outputs": [],
   "source": [
    "Participant_df_dict = {}\n",
    "\n",
    "for participant in ParticipantList:\n",
    "    path = fr\"C:\\Users\\gxb18167\\PycharmProjects\\SIGIR_EEG_GAN\\Development\\Information-Need\\Data\\Oscillatory_Features\\participant_0{participant}_Features.pkl\"\n",
    "\n",
    "\n",
    "    NeedToSearch, CorrectSearch, IncorrectSearch = load_in_participant_data(path)\n",
    "\n",
    "    if participant != \"06\":\n",
    "        NeedToSearch_df = search_condition_feature_dataframe(NeedToSearch)\n",
    "        #print(f\"NeedToSearch_df: {len(NeedToSearch_df[0])}\")\n",
    "    CorrectSearch_df = search_condition_feature_dataframe(CorrectSearch)\n",
    "    #print(f\"CorrectSearch_df: {len(CorrectSearch_df[0])}\")\n",
    "    IncorrectSearch_df = search_condition_feature_dataframe(IncorrectSearch)\n",
    "    #print(f\"IncorrectSearch_df: {len(IncorrectSearch_df[0])}\")\n",
    "\n",
    "    Participant_df_dict[participant] = [NeedToSearch_df, CorrectSearch_df, IncorrectSearch_df]\n",
    "\n"
   ],
   "metadata": {
    "collapsed": false,
    "ExecuteTime": {
     "start_time": "2023-11-27T18:36:52.220477Z",
     "end_time": "2023-11-27T18:37:43.389382Z"
    }
   }
  },
  {
   "cell_type": "code",
   "execution_count": 151,
   "outputs": [],
   "source": [
    "def create_all_participant_df(loaded_dictionary):\n",
    "    NeedToSearch_feature = []\n",
    "    CorrectSearch_feature = []\n",
    "    IncorrectSearch_feature = []\n",
    "\n",
    "    for key, value in Participant_df_dict.items():\n",
    "        print('Participant:', key)\n",
    "        NeedToSearch = value[0][0]\n",
    "        for EEG in NeedToSearch:\n",
    "            NeedToSearch_feature.append(pd.DataFrame(EEG))\n",
    "\n",
    "        CorrectSearch = value[1][0]\n",
    "        for EEG in CorrectSearch:\n",
    "            CorrectSearch_feature.append(pd.DataFrame(EEG))\n",
    "\n",
    "        IncorrectSearch = value[2][0]\n",
    "        for EEG in IncorrectSearch:\n",
    "            IncorrectSearch_feature.append(pd.DataFrame(EEG))\n",
    "\n",
    "    return NeedToSearch_feature, CorrectSearch_feature, IncorrectSearch_feature"
   ],
   "metadata": {
    "collapsed": false,
    "ExecuteTime": {
     "start_time": "2023-11-27T19:31:35.453587Z",
     "end_time": "2023-11-27T19:31:35.528087Z"
    }
   }
  },
  {
   "cell_type": "code",
   "execution_count": 152,
   "outputs": [
    {
     "name": "stdout",
     "output_type": "stream",
     "text": [
      "Participant: 01\n",
      "Participant: 02\n",
      "Participant: 03\n",
      "Participant: 04\n",
      "Participant: 05\n",
      "Participant: 06\n",
      "Participant: 08\n",
      "Participant: 09\n",
      "Participant: 10\n"
     ]
    }
   ],
   "source": [
    "NeedToSearch_features, CorrectSearch_features, IncorrectSearch_features = create_all_participant_df(Participant_df_dict)"
   ],
   "metadata": {
    "collapsed": false,
    "ExecuteTime": {
     "start_time": "2023-11-27T19:31:40.877782Z",
     "end_time": "2023-11-27T19:31:41.976829Z"
    }
   }
  },
  {
   "cell_type": "code",
   "execution_count": 156,
   "outputs": [],
   "source": [
    "NeedToSearch_features_df = pd.concat(NeedToSearch_features)\n",
    "CorrectSearch_features_df = pd.concat(CorrectSearch_features)\n",
    "IncorrectSearch_features_df = pd.concat(IncorrectSearch_features)"
   ],
   "metadata": {
    "collapsed": false,
    "ExecuteTime": {
     "start_time": "2023-11-27T19:32:47.026767Z",
     "end_time": "2023-11-27T19:34:19.277838Z"
    }
   }
  },
  {
   "cell_type": "code",
   "execution_count": null,
   "outputs": [],
   "source": [
    "NeedToSearch_features_df['Label'] = 0\n",
    "NeedToSearch_features_df = NeedToSearch_features_df.dropna()\n",
    "CorrectSearch_features_df['Label'] = 1\n",
    "CorrectSearch_features_df = CorrectSearch_features_df.dropna()\n",
    "IncorrectSearch_features_df['Label'] = 1\n",
    "IncorrectSearch_features_df = IncorrectSearch_features_df.dropna()"
   ],
   "metadata": {
    "collapsed": false,
    "ExecuteTime": {
     "start_time": "2023-11-27T19:36:25.374914Z",
     "end_time": "2023-11-27T19:36:25.505538Z"
    },
    "pycharm": {
     "is_executing": true
    }
   }
  },
  {
   "cell_type": "code",
   "execution_count": 159,
   "outputs": [
    {
     "ename": "TypeError",
     "evalue": "expected a sequence of integers or a single integer, got '254800.0'",
     "output_type": "error",
     "traceback": [
      "\u001B[1;31m---------------------------------------------------------------------------\u001B[0m",
      "\u001B[1;31mTypeError\u001B[0m                                 Traceback (most recent call last)",
      "Cell \u001B[1;32mIn[159], line 1\u001B[0m\n\u001B[1;32m----> 1\u001B[0m X_CorrectSearch \u001B[38;5;241m=\u001B[39m \u001B[43mCorrectSearch_features_df\u001B[49m\u001B[38;5;241;43m.\u001B[39;49m\u001B[43msample\u001B[49m\u001B[43m(\u001B[49m\u001B[43mn\u001B[49m\u001B[38;5;241;43m=\u001B[39;49m\u001B[38;5;28;43mlen\u001B[39;49m\u001B[43m(\u001B[49m\u001B[43mNeedToSearch_features_df\u001B[49m\u001B[43m)\u001B[49m\u001B[38;5;241;43m/\u001B[39;49m\u001B[38;5;241;43m2\u001B[39;49m\u001B[43m,\u001B[49m\u001B[43m \u001B[49m\u001B[43mrandom_state\u001B[49m\u001B[38;5;241;43m=\u001B[39;49m\u001B[38;5;241;43m1\u001B[39;49m\u001B[43m)\u001B[49m\n\u001B[0;32m      2\u001B[0m X_IncorrectSearch \u001B[38;5;241m=\u001B[39m CorrectSearch_features_df\u001B[38;5;241m.\u001B[39msample(n\u001B[38;5;241m=\u001B[39m\u001B[38;5;28mlen\u001B[39m(NeedToSearch_features_df)\u001B[38;5;241m/\u001B[39m\u001B[38;5;241m2\u001B[39m, random_state\u001B[38;5;241m=\u001B[39m\u001B[38;5;241m1\u001B[39m)\n",
      "File \u001B[1;32m~\\Anaconda3\\lib\\site-packages\\pandas\\core\\generic.py:5773\u001B[0m, in \u001B[0;36mNDFrame.sample\u001B[1;34m(self, n, frac, replace, weights, random_state, axis, ignore_index)\u001B[0m\n\u001B[0;32m   5770\u001B[0m \u001B[38;5;28;01mif\u001B[39;00m weights \u001B[38;5;129;01mis\u001B[39;00m \u001B[38;5;129;01mnot\u001B[39;00m \u001B[38;5;28;01mNone\u001B[39;00m:\n\u001B[0;32m   5771\u001B[0m     weights \u001B[38;5;241m=\u001B[39m sample\u001B[38;5;241m.\u001B[39mpreprocess_weights(\u001B[38;5;28mself\u001B[39m, weights, axis)\n\u001B[1;32m-> 5773\u001B[0m sampled_indices \u001B[38;5;241m=\u001B[39m \u001B[43msample\u001B[49m\u001B[38;5;241;43m.\u001B[39;49m\u001B[43msample\u001B[49m\u001B[43m(\u001B[49m\u001B[43mobj_len\u001B[49m\u001B[43m,\u001B[49m\u001B[43m \u001B[49m\u001B[43msize\u001B[49m\u001B[43m,\u001B[49m\u001B[43m \u001B[49m\u001B[43mreplace\u001B[49m\u001B[43m,\u001B[49m\u001B[43m \u001B[49m\u001B[43mweights\u001B[49m\u001B[43m,\u001B[49m\u001B[43m \u001B[49m\u001B[43mrs\u001B[49m\u001B[43m)\u001B[49m\n\u001B[0;32m   5774\u001B[0m result \u001B[38;5;241m=\u001B[39m \u001B[38;5;28mself\u001B[39m\u001B[38;5;241m.\u001B[39mtake(sampled_indices, axis\u001B[38;5;241m=\u001B[39maxis)\n\u001B[0;32m   5776\u001B[0m \u001B[38;5;28;01mif\u001B[39;00m ignore_index:\n",
      "File \u001B[1;32m~\\Anaconda3\\lib\\site-packages\\pandas\\core\\sample.py:150\u001B[0m, in \u001B[0;36msample\u001B[1;34m(obj_len, size, replace, weights, random_state)\u001B[0m\n\u001B[0;32m    147\u001B[0m     \u001B[38;5;28;01melse\u001B[39;00m:\n\u001B[0;32m    148\u001B[0m         \u001B[38;5;28;01mraise\u001B[39;00m \u001B[38;5;167;01mValueError\u001B[39;00m(\u001B[38;5;124m\"\u001B[39m\u001B[38;5;124mInvalid weights: weights sum to zero\u001B[39m\u001B[38;5;124m\"\u001B[39m)\n\u001B[1;32m--> 150\u001B[0m \u001B[38;5;28;01mreturn\u001B[39;00m \u001B[43mrandom_state\u001B[49m\u001B[38;5;241;43m.\u001B[39;49m\u001B[43mchoice\u001B[49m\u001B[43m(\u001B[49m\u001B[43mobj_len\u001B[49m\u001B[43m,\u001B[49m\u001B[43m \u001B[49m\u001B[43msize\u001B[49m\u001B[38;5;241;43m=\u001B[39;49m\u001B[43msize\u001B[49m\u001B[43m,\u001B[49m\u001B[43m \u001B[49m\u001B[43mreplace\u001B[49m\u001B[38;5;241;43m=\u001B[39;49m\u001B[43mreplace\u001B[49m\u001B[43m,\u001B[49m\u001B[43m \u001B[49m\u001B[43mp\u001B[49m\u001B[38;5;241;43m=\u001B[39;49m\u001B[43mweights\u001B[49m\u001B[43m)\u001B[49m\u001B[38;5;241m.\u001B[39mastype(\n\u001B[0;32m    151\u001B[0m     np\u001B[38;5;241m.\u001B[39mintp, copy\u001B[38;5;241m=\u001B[39m\u001B[38;5;28;01mFalse\u001B[39;00m\n\u001B[0;32m    152\u001B[0m )\n",
      "File \u001B[1;32mnumpy\\\\random\\\\mtrand.pyx:1027\u001B[0m, in \u001B[0;36mnumpy.random.mtrand.RandomState.choice\u001B[1;34m()\u001B[0m\n",
      "\u001B[1;31mTypeError\u001B[0m: expected a sequence of integers or a single integer, got '254800.0'"
     ]
    }
   ],
   "source": [
    "X_CorrectSearch = CorrectSearch_features_df.sample(n=int(len(NeedToSearch_features_df)/2), random_state=1)\n",
    "X_IncorrectSearch = CorrectSearch_features_df.sample(n=int(len(NeedToSearch_features_df)/2), random_state=1)"
   ],
   "metadata": {
    "collapsed": false
   }
  },
  {
   "cell_type": "code",
   "execution_count": null,
   "outputs": [],
   "source": [],
   "metadata": {
    "collapsed": false
   }
  }
 ],
 "metadata": {
  "kernelspec": {
   "display_name": "Python 3",
   "language": "python",
   "name": "python3"
  },
  "language_info": {
   "codemirror_mode": {
    "name": "ipython",
    "version": 2
   },
   "file_extension": ".py",
   "mimetype": "text/x-python",
   "name": "python",
   "nbconvert_exporter": "python",
   "pygments_lexer": "ipython2",
   "version": "2.7.6"
  }
 },
 "nbformat": 4,
 "nbformat_minor": 0
}
