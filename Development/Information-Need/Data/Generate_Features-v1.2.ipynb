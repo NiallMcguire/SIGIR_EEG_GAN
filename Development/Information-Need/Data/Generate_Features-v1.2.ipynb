{
 "cells": [
  {
   "cell_type": "code",
   "execution_count": 1,
   "metadata": {
    "collapsed": true,
    "ExecuteTime": {
     "start_time": "2023-11-28T09:53:58.512548Z",
     "end_time": "2023-11-28T09:53:59.960761Z"
    }
   },
   "outputs": [
    {
     "name": "stdout",
     "output_type": "stream",
     "text": [
      "haar family: haar\n",
      "db family: db1, db2, db3, db4, db5, db6, db7, db8, db9, db10, db11, db12, db13, db14, db15, db16, db17, db18, db19, db20, db21, db22, db23, db24, db25, db26, db27, db28, db29, db30, db31, db32, db33, db34, db35, db36, db37, db38\n",
      "sym family: sym2, sym3, sym4, sym5, sym6, sym7, sym8, sym9, sym10, sym11, sym12, sym13, sym14, sym15, sym16, sym17, sym18, sym19, sym20\n",
      "coif family: coif1, coif2, coif3, coif4, coif5, coif6, coif7, coif8, coif9, coif10, coif11, coif12, coif13, coif14, coif15, coif16, coif17\n",
      "bior family: bior1.1, bior1.3, bior1.5, bior2.2, bior2.4, bior2.6, bior2.8, bior3.1, bior3.3, bior3.5, bior3.7, bior3.9, bior4.4, bior5.5, bior6.8\n",
      "rbio family: rbio1.1, rbio1.3, rbio1.5, rbio2.2, rbio2.4, rbio2.6, rbio2.8, rbio3.1, rbio3.3, rbio3.5, rbio3.7, rbio3.9, rbio4.4, rbio5.5, rbio6.8\n",
      "dmey family: dmey\n",
      "gaus family: gaus1, gaus2, gaus3, gaus4, gaus5, gaus6, gaus7, gaus8\n",
      "mexh family: mexh\n",
      "morl family: morl\n",
      "cgau family: cgau1, cgau2, cgau3, cgau4, cgau5, cgau6, cgau7, cgau8\n",
      "shan family: shan\n",
      "fbsp family: fbsp\n",
      "cmor family: cmor\n"
     ]
    }
   ],
   "source": [
    "import pickle\n",
    "import Feature_Extraction\n",
    "import pandas as pd"
   ]
  },
  {
   "cell_type": "code",
   "execution_count": 1,
   "outputs": [],
   "source": [],
   "metadata": {
    "collapsed": false,
    "ExecuteTime": {
     "start_time": "2023-11-28T09:53:59.960761Z",
     "end_time": "2023-11-28T09:53:59.976984Z"
    }
   }
  },
  {
   "cell_type": "code",
   "execution_count": 1,
   "outputs": [],
   "source": [],
   "metadata": {
    "collapsed": false,
    "ExecuteTime": {
     "start_time": "2023-11-28T09:53:59.976984Z",
     "end_time": "2023-11-28T09:54:00.039117Z"
    }
   }
  },
  {
   "cell_type": "code",
   "execution_count": 2,
   "outputs": [],
   "source": [
    "def load_in_participant_data(path):\n",
    "    with open(path, 'rb') as pickle_file:\n",
    "        loaded_data = pickle.load(pickle_file)\n",
    "\n",
    "    NeedToSearch = loaded_data[0]\n",
    "    CorrectSearch = loaded_data[1]\n",
    "    IncorrectSearch = loaded_data[2]\n",
    "\n",
    "    return NeedToSearch, CorrectSearch, IncorrectSearch"
   ],
   "metadata": {
    "collapsed": false,
    "ExecuteTime": {
     "start_time": "2023-11-28T09:53:59.993130Z",
     "end_time": "2023-11-28T09:54:00.039683Z"
    }
   }
  },
  {
   "cell_type": "code",
   "execution_count": 3,
   "outputs": [],
   "source": [
    "import numpy as np\n",
    "from scipy.signal import butter, filtfilt, hilbert\n",
    "\n",
    "def bandpass_filter(data, lowcut, highcut, fs, order=4):\n",
    "    nyquist = 0.5 * fs\n",
    "    low = lowcut / nyquist\n",
    "    high = highcut / nyquist\n",
    "    b, a = butter(order, [low, high], btype='band')\n",
    "    y = filtfilt(b, a, data)\n",
    "    return y\n",
    "\n",
    "# Function to compute oscillatory power measures\n",
    "def compute_oscillatory_power(eeg_data, sfreq):\n",
    "    frequency_bands = {\n",
    "        'theta1': (4, 6),\n",
    "        'theta2': (6.5, 8),\n",
    "        'alpha1': (8.5, 10),\n",
    "        'alpha2': (10.5, 13),\n",
    "        'beta1': (13.5, 18),\n",
    "        'beta2': (18.5, 30),\n",
    "        'gamma1': (30.5, 40),\n",
    "        'gamma2': (40, 49.5),\n",
    "    }\n",
    "\n",
    "    power_data = []\n",
    "\n",
    "    for band, (lowcut, highcut) in frequency_bands.items():\n",
    "        # Bandpass filter EEG data\n",
    "        filtered_data = bandpass_filter(eeg_data, lowcut, highcut, sfreq)\n",
    "\n",
    "        # Compute the Hilbert transform\n",
    "        hilbert_transform = hilbert(filtered_data)\n",
    "\n",
    "        # Compute the instantaneous power\n",
    "        instantaneous_power = np.abs(hilbert_transform)**2\n",
    "\n",
    "        # Flatten the power data and append to the feature vector\n",
    "        power_data.append(instantaneous_power.flatten())\n",
    "\n",
    "    # Combine power data for all frequency bands into one feature vector\n",
    "    feature_vector = np.concatenate(power_data)\n",
    "\n",
    "    return feature_vector\n",
    "\n",
    "# Example usage:\n",
    "\n"
   ],
   "metadata": {
    "collapsed": false,
    "ExecuteTime": {
     "start_time": "2023-11-28T09:54:00.023132Z",
     "end_time": "2023-11-28T09:54:00.039683Z"
    }
   }
  },
  {
   "cell_type": "code",
   "execution_count": 4,
   "outputs": [],
   "source": [
    "def create_event_condition_features(event_condition):\n",
    "    list_of_events = event_condition[0]\n",
    "    list_of_events_id = event_condition[1]\n",
    "    Feature_list = []\n",
    "\n",
    "    for event in list_of_events:\n",
    "        event_data = event[0]\n",
    "        features = compute_oscillatory_power(event_data, 400)\n",
    "        Feature_list.append(features)\n",
    "\n",
    "    return Feature_list, list_of_events_id\n"
   ],
   "metadata": {
    "collapsed": false,
    "ExecuteTime": {
     "start_time": "2023-11-28T09:54:00.039683Z",
     "end_time": "2023-11-28T09:54:00.056190Z"
    }
   }
  },
  {
   "cell_type": "code",
   "execution_count": 4,
   "outputs": [],
   "source": [],
   "metadata": {
    "collapsed": false,
    "ExecuteTime": {
     "start_time": "2023-11-28T09:54:00.056190Z",
     "end_time": "2023-11-28T09:54:00.072460Z"
    }
   }
  },
  {
   "cell_type": "code",
   "execution_count": 4,
   "outputs": [],
   "source": [],
   "metadata": {
    "collapsed": false,
    "ExecuteTime": {
     "start_time": "2023-11-28T09:54:00.072460Z",
     "end_time": "2023-11-28T09:54:00.088832Z"
    }
   }
  },
  {
   "cell_type": "code",
   "execution_count": 4,
   "outputs": [],
   "source": [],
   "metadata": {
    "collapsed": false,
    "ExecuteTime": {
     "start_time": "2023-11-28T09:54:00.088832Z",
     "end_time": "2023-11-28T09:54:00.107554Z"
    }
   }
  },
  {
   "cell_type": "code",
   "execution_count": 4,
   "outputs": [],
   "source": [],
   "metadata": {
    "collapsed": false,
    "ExecuteTime": {
     "start_time": "2023-11-28T09:54:00.107554Z",
     "end_time": "2023-11-28T09:54:00.131656Z"
    }
   }
  },
  {
   "cell_type": "code",
   "execution_count": 6,
   "outputs": [
    {
     "ename": "KeyboardInterrupt",
     "evalue": "",
     "output_type": "error",
     "traceback": [
      "\u001B[1;31m---------------------------------------------------------------------------\u001B[0m",
      "\u001B[1;31mKeyboardInterrupt\u001B[0m                         Traceback (most recent call last)",
      "Cell \u001B[1;32mIn[6], line 9\u001B[0m\n\u001B[0;32m      7\u001B[0m NeedToSearch, CorrectSearch, IncorrectSearch \u001B[38;5;241m=\u001B[39m load_in_participant_data(path)\n\u001B[0;32m      8\u001B[0m NeedToSearch_features \u001B[38;5;241m=\u001B[39m create_event_condition_features(NeedToSearch)\n\u001B[1;32m----> 9\u001B[0m CorrectSearch_features \u001B[38;5;241m=\u001B[39m \u001B[43mcreate_event_condition_features\u001B[49m\u001B[43m(\u001B[49m\u001B[43mCorrectSearch\u001B[49m\u001B[43m)\u001B[49m\n\u001B[0;32m     10\u001B[0m IncorrectSearch_features \u001B[38;5;241m=\u001B[39m create_event_condition_features(IncorrectSearch)\n\u001B[0;32m     12\u001B[0m Participant_Features \u001B[38;5;241m=\u001B[39m {\n\u001B[0;32m     13\u001B[0m     \u001B[38;5;124m'\u001B[39m\u001B[38;5;124mNeedToSearch\u001B[39m\u001B[38;5;124m'\u001B[39m: NeedToSearch_features,\n\u001B[0;32m     14\u001B[0m     \u001B[38;5;124m'\u001B[39m\u001B[38;5;124mCorrectSearch\u001B[39m\u001B[38;5;124m'\u001B[39m: CorrectSearch_features,\n\u001B[0;32m     15\u001B[0m     \u001B[38;5;124m'\u001B[39m\u001B[38;5;124mIncorrectSearch\u001B[39m\u001B[38;5;124m'\u001B[39m: IncorrectSearch_features\n\u001B[0;32m     16\u001B[0m }\n",
      "Cell \u001B[1;32mIn[4], line 8\u001B[0m, in \u001B[0;36mcreate_event_condition_features\u001B[1;34m(event_condition)\u001B[0m\n\u001B[0;32m      6\u001B[0m \u001B[38;5;28;01mfor\u001B[39;00m event \u001B[38;5;129;01min\u001B[39;00m list_of_events:\n\u001B[0;32m      7\u001B[0m     event_data \u001B[38;5;241m=\u001B[39m event[\u001B[38;5;241m0\u001B[39m]\n\u001B[1;32m----> 8\u001B[0m     features \u001B[38;5;241m=\u001B[39m \u001B[43mcompute_oscillatory_power\u001B[49m\u001B[43m(\u001B[49m\u001B[43mevent_data\u001B[49m\u001B[43m,\u001B[49m\u001B[43m \u001B[49m\u001B[38;5;241;43m400\u001B[39;49m\u001B[43m)\u001B[49m\n\u001B[0;32m      9\u001B[0m     Feature_list\u001B[38;5;241m.\u001B[39mappend(features)\n\u001B[0;32m     11\u001B[0m \u001B[38;5;28;01mreturn\u001B[39;00m Feature_list, list_of_events_id\n",
      "Cell \u001B[1;32mIn[3], line 32\u001B[0m, in \u001B[0;36mcompute_oscillatory_power\u001B[1;34m(eeg_data, sfreq)\u001B[0m\n\u001B[0;32m     29\u001B[0m filtered_data \u001B[38;5;241m=\u001B[39m bandpass_filter(eeg_data, lowcut, highcut, sfreq)\n\u001B[0;32m     31\u001B[0m \u001B[38;5;66;03m# Compute the Hilbert transform\u001B[39;00m\n\u001B[1;32m---> 32\u001B[0m hilbert_transform \u001B[38;5;241m=\u001B[39m \u001B[43mhilbert\u001B[49m\u001B[43m(\u001B[49m\u001B[43mfiltered_data\u001B[49m\u001B[43m)\u001B[49m\n\u001B[0;32m     34\u001B[0m \u001B[38;5;66;03m# Compute the instantaneous power\u001B[39;00m\n\u001B[0;32m     35\u001B[0m instantaneous_power \u001B[38;5;241m=\u001B[39m np\u001B[38;5;241m.\u001B[39mabs(hilbert_transform)\u001B[38;5;241m*\u001B[39m\u001B[38;5;241m*\u001B[39m\u001B[38;5;241m2\u001B[39m\n",
      "File \u001B[1;32m~\\Anaconda3\\lib\\site-packages\\scipy\\signal\\_signaltools.py:2362\u001B[0m, in \u001B[0;36mhilbert\u001B[1;34m(x, N, axis)\u001B[0m\n\u001B[0;32m   2359\u001B[0m \u001B[38;5;28;01mif\u001B[39;00m N \u001B[38;5;241m<\u001B[39m\u001B[38;5;241m=\u001B[39m \u001B[38;5;241m0\u001B[39m:\n\u001B[0;32m   2360\u001B[0m     \u001B[38;5;28;01mraise\u001B[39;00m \u001B[38;5;167;01mValueError\u001B[39;00m(\u001B[38;5;124m\"\u001B[39m\u001B[38;5;124mN must be positive.\u001B[39m\u001B[38;5;124m\"\u001B[39m)\n\u001B[1;32m-> 2362\u001B[0m Xf \u001B[38;5;241m=\u001B[39m \u001B[43msp_fft\u001B[49m\u001B[38;5;241;43m.\u001B[39;49m\u001B[43mfft\u001B[49m\u001B[43m(\u001B[49m\u001B[43mx\u001B[49m\u001B[43m,\u001B[49m\u001B[43m \u001B[49m\u001B[43mN\u001B[49m\u001B[43m,\u001B[49m\u001B[43m \u001B[49m\u001B[43maxis\u001B[49m\u001B[38;5;241;43m=\u001B[39;49m\u001B[43maxis\u001B[49m\u001B[43m)\u001B[49m\n\u001B[0;32m   2363\u001B[0m h \u001B[38;5;241m=\u001B[39m np\u001B[38;5;241m.\u001B[39mzeros(N, dtype\u001B[38;5;241m=\u001B[39mXf\u001B[38;5;241m.\u001B[39mdtype)\n\u001B[0;32m   2364\u001B[0m \u001B[38;5;28;01mif\u001B[39;00m N \u001B[38;5;241m%\u001B[39m \u001B[38;5;241m2\u001B[39m \u001B[38;5;241m==\u001B[39m \u001B[38;5;241m0\u001B[39m:\n",
      "File \u001B[1;32m~\\Anaconda3\\lib\\site-packages\\scipy\\fft\\_backend.py:25\u001B[0m, in \u001B[0;36m_ScipyBackend.__ua_function__\u001B[1;34m(method, args, kwargs)\u001B[0m\n\u001B[0;32m     23\u001B[0m \u001B[38;5;28;01mif\u001B[39;00m fn \u001B[38;5;129;01mis\u001B[39;00m \u001B[38;5;28;01mNone\u001B[39;00m:\n\u001B[0;32m     24\u001B[0m     \u001B[38;5;28;01mreturn\u001B[39;00m \u001B[38;5;28mNotImplemented\u001B[39m\n\u001B[1;32m---> 25\u001B[0m \u001B[38;5;28;01mreturn\u001B[39;00m fn(\u001B[38;5;241m*\u001B[39margs, \u001B[38;5;241m*\u001B[39m\u001B[38;5;241m*\u001B[39mkwargs)\n",
      "File \u001B[1;32m~\\Anaconda3\\lib\\site-packages\\scipy\\fft\\_pocketfft\\basic.py:31\u001B[0m, in \u001B[0;36mc2c\u001B[1;34m(forward, x, n, axis, norm, overwrite_x, workers, plan)\u001B[0m\n\u001B[0;32m     26\u001B[0m     \u001B[38;5;28;01mraise\u001B[39;00m \u001B[38;5;167;01mValueError\u001B[39;00m(\u001B[38;5;124m\"\u001B[39m\u001B[38;5;124minvalid number of data points (\u001B[39m\u001B[38;5;132;01m{0}\u001B[39;00m\u001B[38;5;124m) specified\u001B[39m\u001B[38;5;124m\"\u001B[39m\n\u001B[0;32m     27\u001B[0m                      \u001B[38;5;241m.\u001B[39mformat(tmp\u001B[38;5;241m.\u001B[39mshape[axis]))\n\u001B[0;32m     29\u001B[0m out \u001B[38;5;241m=\u001B[39m (tmp \u001B[38;5;28;01mif\u001B[39;00m overwrite_x \u001B[38;5;129;01mand\u001B[39;00m tmp\u001B[38;5;241m.\u001B[39mdtype\u001B[38;5;241m.\u001B[39mkind \u001B[38;5;241m==\u001B[39m \u001B[38;5;124m'\u001B[39m\u001B[38;5;124mc\u001B[39m\u001B[38;5;124m'\u001B[39m \u001B[38;5;28;01melse\u001B[39;00m \u001B[38;5;28;01mNone\u001B[39;00m)\n\u001B[1;32m---> 31\u001B[0m \u001B[38;5;28;01mreturn\u001B[39;00m \u001B[43mpfft\u001B[49m\u001B[38;5;241;43m.\u001B[39;49m\u001B[43mc2c\u001B[49m\u001B[43m(\u001B[49m\u001B[43mtmp\u001B[49m\u001B[43m,\u001B[49m\u001B[43m \u001B[49m\u001B[43m(\u001B[49m\u001B[43maxis\u001B[49m\u001B[43m,\u001B[49m\u001B[43m)\u001B[49m\u001B[43m,\u001B[49m\u001B[43m \u001B[49m\u001B[43mforward\u001B[49m\u001B[43m,\u001B[49m\u001B[43m \u001B[49m\u001B[43mnorm\u001B[49m\u001B[43m,\u001B[49m\u001B[43m \u001B[49m\u001B[43mout\u001B[49m\u001B[43m,\u001B[49m\u001B[43m \u001B[49m\u001B[43mworkers\u001B[49m\u001B[43m)\u001B[49m\n",
      "\u001B[1;31mKeyboardInterrupt\u001B[0m: "
     ]
    }
   ],
   "source": [
    "\n",
    "ParticipantList = [\"01\", \"02\", \"03\", \"04\", \"05\", \"06\", \"08\", \"09\", \"10\"]\n",
    "\n",
    "for participant_number in ParticipantList:\n",
    "\n",
    "    path = fr\"C:\\Users\\gxb18167\\PycharmProjects\\SIGIR_EEG_GAN\\Development\\Information-Need\\Data\\DataSegments\\participant_0{participant_number}_EEG_data.pkl\"\n",
    "\n",
    "    NeedToSearch, CorrectSearch, IncorrectSearch = load_in_participant_data(path)\n",
    "    NeedToSearch_features = create_event_condition_features(NeedToSearch)\n",
    "    CorrectSearch_features = create_event_condition_features(CorrectSearch)\n",
    "    IncorrectSearch_features = create_event_condition_features(IncorrectSearch)\n",
    "\n",
    "    Participant_Features = {\n",
    "        'NeedToSearch': NeedToSearch_features,\n",
    "        'CorrectSearch': CorrectSearch_features,\n",
    "        'IncorrectSearch': IncorrectSearch_features\n",
    "    }\n",
    "\n",
    "    pickle_file_path = fr'C:\\Users\\gxb18167\\PycharmProjects\\SIGIR_EEG_GAN\\Development\\Information-Need\\Data\\Oscillatory_Features_concat\\participant_0{participant_number}_Features.pkl'\n",
    "\n",
    "    # Open the file in binary write mode and use pickle.dump to save the data\n",
    "    with open(pickle_file_path, 'wb') as pickle_file:\n",
    "        pickle.dump(Participant_Features, pickle_file)\n"
   ],
   "metadata": {
    "collapsed": false,
    "ExecuteTime": {
     "start_time": "2023-11-24T11:25:49.710620Z",
     "end_time": "2023-11-24T11:25:49.873734Z"
    }
   }
  },
  {
   "cell_type": "code",
   "execution_count": null,
   "outputs": [],
   "source": [],
   "metadata": {
    "collapsed": false,
    "ExecuteTime": {
     "start_time": "2023-11-24T11:18:03.461507Z",
     "end_time": "2023-11-24T11:18:03.478084Z"
    }
   }
  },
  {
   "cell_type": "code",
   "execution_count": null,
   "outputs": [],
   "source": [],
   "metadata": {
    "collapsed": false,
    "ExecuteTime": {
     "start_time": "2023-11-24T11:22:13.660751Z",
     "end_time": "2023-11-24T11:22:13.688688Z"
    }
   }
  },
  {
   "cell_type": "code",
   "execution_count": null,
   "outputs": [],
   "source": [],
   "metadata": {
    "collapsed": false,
    "ExecuteTime": {
     "start_time": "2023-11-24T11:03:24.112909Z",
     "end_time": "2023-11-24T11:03:24.211169Z"
    }
   }
  },
  {
   "cell_type": "code",
   "execution_count": null,
   "outputs": [],
   "source": [],
   "metadata": {
    "collapsed": false,
    "ExecuteTime": {
     "start_time": "2023-11-24T11:03:26.059107Z",
     "end_time": "2023-11-24T11:03:26.126144Z"
    }
   }
  },
  {
   "cell_type": "code",
   "execution_count": null,
   "outputs": [],
   "source": [],
   "metadata": {
    "collapsed": false,
    "ExecuteTime": {
     "start_time": "2023-11-24T11:03:26.208136Z",
     "end_time": "2023-11-24T11:03:26.363614Z"
    }
   }
  },
  {
   "cell_type": "code",
   "execution_count": null,
   "outputs": [],
   "source": [],
   "metadata": {
    "collapsed": false,
    "ExecuteTime": {
     "start_time": "2023-11-24T11:03:28.234604Z",
     "end_time": "2023-11-24T11:03:28.306048Z"
    }
   }
  },
  {
   "cell_type": "code",
   "execution_count": null,
   "outputs": [],
   "source": [],
   "metadata": {
    "collapsed": false,
    "ExecuteTime": {
     "start_time": "2023-11-24T11:03:29.042941Z",
     "end_time": "2023-11-24T11:03:29.102234Z"
    }
   }
  },
  {
   "cell_type": "code",
   "execution_count": null,
   "outputs": [],
   "source": [],
   "metadata": {
    "collapsed": false,
    "ExecuteTime": {
     "start_time": "2023-11-24T11:03:29.868366Z",
     "end_time": "2023-11-24T11:03:29.917079Z"
    }
   }
  },
  {
   "cell_type": "code",
   "execution_count": null,
   "outputs": [],
   "source": [],
   "metadata": {
    "collapsed": false,
    "ExecuteTime": {
     "start_time": "2023-11-24T11:03:30.845042Z",
     "end_time": "2023-11-24T11:03:40.784337Z"
    }
   }
  },
  {
   "cell_type": "code",
   "execution_count": null,
   "outputs": [],
   "source": [],
   "metadata": {
    "collapsed": false,
    "ExecuteTime": {
     "start_time": "2023-11-24T11:03:42.415746Z",
     "end_time": "2023-11-24T11:03:42.462376Z"
    }
   }
  },
  {
   "cell_type": "code",
   "execution_count": null,
   "outputs": [],
   "source": [],
   "metadata": {
    "collapsed": false,
    "ExecuteTime": {
     "start_time": "2023-11-24T11:03:43.166668Z",
     "end_time": "2023-11-24T11:03:43.214635Z"
    }
   }
  },
  {
   "cell_type": "code",
   "execution_count": null,
   "outputs": [],
   "source": [],
   "metadata": {
    "collapsed": false,
    "ExecuteTime": {
     "start_time": "2023-11-23T12:44:45.866012Z",
     "end_time": "2023-11-23T12:44:45.900049Z"
    }
   }
  }
 ],
 "metadata": {
  "kernelspec": {
   "display_name": "Python 3",
   "language": "python",
   "name": "python3"
  },
  "language_info": {
   "codemirror_mode": {
    "name": "ipython",
    "version": 2
   },
   "file_extension": ".py",
   "mimetype": "text/x-python",
   "name": "python",
   "nbconvert_exporter": "python",
   "pygments_lexer": "ipython2",
   "version": "2.7.6"
  }
 },
 "nbformat": 4,
 "nbformat_minor": 0
}
