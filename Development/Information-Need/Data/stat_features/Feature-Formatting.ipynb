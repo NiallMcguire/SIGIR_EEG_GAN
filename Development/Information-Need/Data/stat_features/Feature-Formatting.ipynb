{
 "cells": [
  {
   "cell_type": "code",
   "execution_count": 1,
   "metadata": {
    "collapsed": true,
    "ExecuteTime": {
     "start_time": "2023-11-28T16:22:37.660840Z",
     "end_time": "2023-11-28T16:22:37.683320Z"
    }
   },
   "outputs": [],
   "source": [
    "import pickle\n",
    "import pandas as pd"
   ]
  },
  {
   "cell_type": "code",
   "execution_count": 1,
   "outputs": [],
   "source": [],
   "metadata": {
    "collapsed": false,
    "ExecuteTime": {
     "start_time": "2023-11-28T16:22:37.683320Z",
     "end_time": "2023-11-28T16:22:37.701286Z"
    }
   }
  },
  {
   "cell_type": "code",
   "execution_count": 2,
   "outputs": [],
   "source": [
    "def load_in_participant_data(path):\n",
    "    with open(path, 'rb') as pickle_file:\n",
    "        loaded_data = pickle.load(pickle_file)\n",
    "\n",
    "    NeedToSearch = loaded_data['NeedToSearch']\n",
    "    CorrectSearch = loaded_data['CorrectSearch']\n",
    "    IncorrectSearch = loaded_data['IncorrectSearch']\n",
    "\n",
    "    return NeedToSearch, CorrectSearch, IncorrectSearch"
   ],
   "metadata": {
    "collapsed": false,
    "ExecuteTime": {
     "start_time": "2023-11-28T16:22:37.717972Z",
     "end_time": "2023-11-28T16:22:37.751458Z"
    }
   }
  },
  {
   "cell_type": "code",
   "execution_count": 2,
   "outputs": [],
   "source": [],
   "metadata": {
    "collapsed": false,
    "ExecuteTime": {
     "start_time": "2023-11-28T16:22:37.739046Z",
     "end_time": "2023-11-28T16:22:37.751458Z"
    }
   }
  },
  {
   "cell_type": "code",
   "execution_count": 3,
   "outputs": [],
   "source": [
    "path = r\"C:\\Users\\gxb18167\\PycharmProjects\\SIGIR_EEG_GAN\\Development\\Information-Need\\Data\\stat_features\\participant_001_Features.pkl\""
   ],
   "metadata": {
    "collapsed": false,
    "ExecuteTime": {
     "start_time": "2023-11-28T16:22:37.751458Z",
     "end_time": "2023-11-28T16:22:37.767886Z"
    }
   }
  },
  {
   "cell_type": "code",
   "execution_count": 4,
   "outputs": [],
   "source": [
    "NeedToSearch, CorrectSearch, IncorrectSearch = load_in_participant_data(path)"
   ],
   "metadata": {
    "collapsed": false,
    "ExecuteTime": {
     "start_time": "2023-11-28T16:22:37.779600Z",
     "end_time": "2023-11-28T16:22:37.846323Z"
    }
   }
  },
  {
   "cell_type": "code",
   "execution_count": 4,
   "outputs": [],
   "source": [],
   "metadata": {
    "collapsed": false,
    "ExecuteTime": {
     "start_time": "2023-11-28T16:22:37.839027Z",
     "end_time": "2023-11-28T16:22:37.846323Z"
    }
   }
  },
  {
   "cell_type": "code",
   "execution_count": 5,
   "outputs": [],
   "source": [
    "\n",
    "from math import floor\n",
    "import numpy as np\n",
    "\n",
    "def create_x_y(NeedToSearch, CorrectSearch, IncorrectSearch):\n",
    "    # Assuming you have three arrays with data\n",
    "    need_to_search = NeedToSearch\n",
    "    correct_search = CorrectSearch\n",
    "    incorrect_search = IncorrectSearch\n",
    "\n",
    "    correct_search = correct_search[np.random.choice(correct_search.shape[0], floor(len(need_to_search)/2), replace=False)]\n",
    "    print(incorrect_search.shape[0])\n",
    "    incorrect_search = incorrect_search[np.random.choice(incorrect_search.shape[0], floor(len(need_to_search)/2), replace=False)]\n",
    "\n",
    "    # Combine the data and create corresponding labels\n",
    "    X = np.concatenate([need_to_search, correct_search, incorrect_search], axis=0)\n",
    "\n",
    "    # Create labels (0 for Need to Search, 1 for others)\n",
    "    y_need_to_search = np.zeros(len(need_to_search))\n",
    "    y_others = np.ones(len(correct_search) + len(incorrect_search))\n",
    "\n",
    "    # Concatenate labels and shuffle the data\n",
    "    y = np.concatenate([y_need_to_search, y_others])\n",
    "    indices = np.arange(X.shape[0])\n",
    "    np.random.shuffle(indices)\n",
    "\n",
    "    X_shuffled = X[indices]\n",
    "    y_shuffled = y[indices]\n",
    "\n",
    "    return X_shuffled, y_shuffled\n",
    "\n"
   ],
   "metadata": {
    "collapsed": false,
    "ExecuteTime": {
     "start_time": "2023-11-28T16:22:37.863573Z",
     "end_time": "2023-11-28T16:22:37.901284Z"
    }
   }
  },
  {
   "cell_type": "code",
   "execution_count": 6,
   "outputs": [],
   "source": [
    "def clear_nan(need_to_search, correct_search, incorrect_search):\n",
    "    need_to_search = NeedToSearch[0]\n",
    "    correct_search = CorrectSearch[0]\n",
    "    incorrect_search = IncorrectSearch[0]\n",
    "\n",
    "    need_to_search = np.array(need_to_search)\n",
    "    correct_search = np.array(correct_search)\n",
    "    incorrect_search = np.array(incorrect_search)\n",
    "\n",
    "    need_to_search = need_to_search[~np.isnan(need_to_search).any(axis=1)]\n",
    "    correct_search = correct_search[~np.isnan(correct_search).any(axis=1)]\n",
    "    incorrect_search = incorrect_search[~np.isnan(incorrect_search).any(axis=1)]\n",
    "\n",
    "    return need_to_search, correct_search, incorrect_search\n",
    "\n",
    "\n"
   ],
   "metadata": {
    "collapsed": false,
    "ExecuteTime": {
     "start_time": "2023-11-28T16:22:37.899659Z",
     "end_time": "2023-11-28T16:22:37.907414Z"
    }
   }
  },
  {
   "cell_type": "code",
   "execution_count": 6,
   "outputs": [],
   "source": [],
   "metadata": {
    "collapsed": false,
    "ExecuteTime": {
     "start_time": "2023-11-28T16:22:37.907414Z",
     "end_time": "2023-11-28T16:22:37.959973Z"
    }
   }
  },
  {
   "cell_type": "code",
   "execution_count": 7,
   "outputs": [],
   "source": [
    "ParticipantList = [\"01\", \"02\", \"03\", \"04\", \"05\", \"08\", \"09\", \"10\", \"12\", \"13\", \"14\", \"16\", \"17\", \"18\", \"19\", \"21\", \"22\", \"24\"]"
   ],
   "metadata": {
    "collapsed": false,
    "ExecuteTime": {
     "start_time": "2023-11-28T16:22:37.935709Z",
     "end_time": "2023-11-28T16:22:37.959973Z"
    }
   }
  },
  {
   "cell_type": "code",
   "execution_count": 8,
   "outputs": [
    {
     "name": "stdout",
     "output_type": "stream",
     "text": [
      "01\n",
      "262\n",
      "02\n",
      "223\n",
      "03\n",
      "252\n",
      "04\n",
      "167\n",
      "05\n",
      "205\n",
      "08\n",
      "198\n",
      "09\n",
      "358\n",
      "10\n",
      "281\n",
      "12\n",
      "200\n",
      "13\n",
      "198\n",
      "14\n",
      "233\n",
      "16\n",
      "217\n",
      "17\n",
      "101\n",
      "18\n",
      "244\n",
      "19\n",
      "123\n",
      "21\n",
      "424\n",
      "22\n",
      "281\n",
      "24\n",
      "204\n"
     ]
    }
   ],
   "source": [
    "X_list = []\n",
    "Y_list = []\n",
    "\n",
    "for participant in ParticipantList:\n",
    "    path = fr\"C:\\Users\\gxb18167\\PycharmProjects\\SIGIR_EEG_GAN\\Development\\Information-Need\\Data\\stat_features\\participant_0{participant}_Features.pkl\"\n",
    "    print(participant)\n",
    "\n",
    "    NeedToSearch, CorrectSearch, IncorrectSearch = load_in_participant_data(path)\n",
    "\n",
    "\n",
    "    NeedToSearch, CorrectSearch, IncorrectSearch = clear_nan(NeedToSearch, CorrectSearch, IncorrectSearch)\n",
    "    X, Y = create_x_y(NeedToSearch, CorrectSearch, IncorrectSearch)\n",
    "    X_list.append(X)\n",
    "    Y_list.append(Y)\n",
    "\n",
    "\n",
    "\n",
    "\n"
   ],
   "metadata": {
    "collapsed": false,
    "ExecuteTime": {
     "start_time": "2023-11-28T16:22:37.956890Z",
     "end_time": "2023-11-28T16:22:38.843015Z"
    }
   }
  },
  {
   "cell_type": "code",
   "execution_count": 9,
   "outputs": [],
   "source": [
    "X_all = np.concatenate(X_list, axis=0)\n",
    "Y_all = np.concatenate(Y_list, axis=0)"
   ],
   "metadata": {
    "collapsed": false,
    "ExecuteTime": {
     "start_time": "2023-11-28T16:22:38.843015Z",
     "end_time": "2023-11-28T16:22:38.908312Z"
    }
   }
  },
  {
   "cell_type": "code",
   "execution_count": 10,
   "outputs": [],
   "source": [
    "def count_classes(my_array):\n",
    "    unique_values, counts = np.unique(my_array, return_counts=True)\n",
    "\n",
    "    # Print the results\n",
    "    for value, count in zip(unique_values, counts):\n",
    "        print(f\"The value {value} occurs {count} times in the array.\")"
   ],
   "metadata": {
    "collapsed": false,
    "ExecuteTime": {
     "start_time": "2023-11-28T16:22:38.883758Z",
     "end_time": "2023-11-28T16:22:38.908312Z"
    }
   }
  },
  {
   "cell_type": "code",
   "execution_count": 10,
   "outputs": [],
   "source": [],
   "metadata": {
    "collapsed": false,
    "ExecuteTime": {
     "start_time": "2023-11-28T16:22:38.891768Z",
     "end_time": "2023-11-28T16:22:38.921407Z"
    }
   }
  },
  {
   "cell_type": "code",
   "execution_count": 11,
   "outputs": [],
   "source": [
    "from sklearn.metrics import precision_recall_fscore_support, accuracy_score\n",
    "\n",
    "\n",
    "def get_metrics(model, X_Test, Y_Test):\n",
    "    y_pred = model.predict(X_Test)\n",
    "    precision, recall, f1, support = precision_recall_fscore_support(Y_Test, y_pred, average='weighted')\n",
    "    accuracy = accuracy_score(Y_Test, y_pred)\n",
    "    print(precision, recall, f1, accuracy)\n",
    "    metrics = [precision, recall, f1, accuracy]\n",
    "    return accuracy"
   ],
   "metadata": {
    "collapsed": false,
    "ExecuteTime": {
     "start_time": "2023-11-28T16:22:38.919074Z",
     "end_time": "2023-11-28T16:22:39.595450Z"
    }
   }
  },
  {
   "cell_type": "code",
   "execution_count": 12,
   "outputs": [],
   "source": [
    "from sklearn.model_selection import train_test_split\n",
    "from sklearn.ensemble import RandomForestClassifier\n",
    "from sklearn.datasets import make_classification\n",
    "from sklearn.ensemble import AdaBoostClassifier\n",
    "from sklearn.pipeline import make_pipeline\n",
    "from sklearn.preprocessing import StandardScaler\n",
    "from sklearn.svm import SVC\n",
    "\n",
    "X_train, X_test, y_train, y_test = train_test_split(X_all, Y_all, test_size=0.2, random_state=1)"
   ],
   "metadata": {
    "collapsed": false,
    "ExecuteTime": {
     "start_time": "2023-11-28T16:22:39.605075Z",
     "end_time": "2023-11-28T16:22:40.321563Z"
    }
   }
  },
  {
   "cell_type": "code",
   "execution_count": 13,
   "outputs": [],
   "source": [
    "import numpy as np\n",
    "from matplotlib import pyplot as plt\n",
    "from sklearn.metrics import classification_report, confusion_matrix\n",
    "import seaborn as sns\n",
    "\n",
    "\n",
    "def create_confusion_matrix_plot(model, X_Test, Y_Test, classes,show_plot=False):\n",
    "    \"\"\"\n",
    "    Creator : Niall\n",
    "\n",
    "    Function used to print a confusion matrix and classification report for a given model\n",
    "\n",
    "    Args:\n",
    "        model: the trained model\n",
    "        X_Test: the X test data\n",
    "        Y_Test: the Y labels for the test data\n",
    "        classes: a list containing the class names as string\n",
    "\n",
    "    Returns:\n",
    "        prints the confusion matrix and returns a dictionary containing the classification report\n",
    "\n",
    "    \"\"\"\n",
    "    y_pred = model.predict(X_Test)\n",
    "\n",
    "    clr = classification_report(Y_Test, y_pred, target_names=classes)\n",
    "    dict_clr = classification_report(Y_Test, y_pred, target_names=classes, output_dict=True)\n",
    "\n",
    "    cm = confusion_matrix(Y_Test, y_pred)\n",
    "\n",
    "\n",
    "    if show_plot:\n",
    "        plt.figure(figsize=(8, 8))\n",
    "        sns.heatmap(cm, annot=True, vmin=0, fmt='g', cbar=False, cmap='Blues')\n",
    "        plt.tick_params(labelsize=25)\n",
    "        plt.xticks(np.arange(len(classes)) + 0.5, classes)\n",
    "        plt.yticks(np.arange(len(classes)) + 0.5, classes)\n",
    "        plt.xlabel(\"Predicted\", fontdict={'size': 25})\n",
    "        plt.ylabel(\"Actual\", fontdict={'size': 25})\n",
    "        plt.title(\"Confusion Matrix\", fontdict={'size': 25})\n",
    "        plt.savefig(\"ConfusionMatrix.png\")\n",
    "        plt.show()\n",
    "\n",
    "\n",
    "    print(\"Classification Report:\\n----------------------\\n\", clr)\n",
    "    return cm,dict_clr"
   ],
   "metadata": {
    "collapsed": false,
    "ExecuteTime": {
     "start_time": "2023-11-28T16:22:40.339066Z",
     "end_time": "2023-11-28T16:22:40.376156Z"
    }
   }
  },
  {
   "cell_type": "code",
   "execution_count": 14,
   "outputs": [
    {
     "data": {
      "text/plain": "RandomForestClassifier(max_depth=20, random_state=1)",
      "text/html": "<style>#sk-container-id-1 {color: black;background-color: white;}#sk-container-id-1 pre{padding: 0;}#sk-container-id-1 div.sk-toggleable {background-color: white;}#sk-container-id-1 label.sk-toggleable__label {cursor: pointer;display: block;width: 100%;margin-bottom: 0;padding: 0.3em;box-sizing: border-box;text-align: center;}#sk-container-id-1 label.sk-toggleable__label-arrow:before {content: \"▸\";float: left;margin-right: 0.25em;color: #696969;}#sk-container-id-1 label.sk-toggleable__label-arrow:hover:before {color: black;}#sk-container-id-1 div.sk-estimator:hover label.sk-toggleable__label-arrow:before {color: black;}#sk-container-id-1 div.sk-toggleable__content {max-height: 0;max-width: 0;overflow: hidden;text-align: left;background-color: #f0f8ff;}#sk-container-id-1 div.sk-toggleable__content pre {margin: 0.2em;color: black;border-radius: 0.25em;background-color: #f0f8ff;}#sk-container-id-1 input.sk-toggleable__control:checked~div.sk-toggleable__content {max-height: 200px;max-width: 100%;overflow: auto;}#sk-container-id-1 input.sk-toggleable__control:checked~label.sk-toggleable__label-arrow:before {content: \"▾\";}#sk-container-id-1 div.sk-estimator input.sk-toggleable__control:checked~label.sk-toggleable__label {background-color: #d4ebff;}#sk-container-id-1 div.sk-label input.sk-toggleable__control:checked~label.sk-toggleable__label {background-color: #d4ebff;}#sk-container-id-1 input.sk-hidden--visually {border: 0;clip: rect(1px 1px 1px 1px);clip: rect(1px, 1px, 1px, 1px);height: 1px;margin: -1px;overflow: hidden;padding: 0;position: absolute;width: 1px;}#sk-container-id-1 div.sk-estimator {font-family: monospace;background-color: #f0f8ff;border: 1px dotted black;border-radius: 0.25em;box-sizing: border-box;margin-bottom: 0.5em;}#sk-container-id-1 div.sk-estimator:hover {background-color: #d4ebff;}#sk-container-id-1 div.sk-parallel-item::after {content: \"\";width: 100%;border-bottom: 1px solid gray;flex-grow: 1;}#sk-container-id-1 div.sk-label:hover label.sk-toggleable__label {background-color: #d4ebff;}#sk-container-id-1 div.sk-serial::before {content: \"\";position: absolute;border-left: 1px solid gray;box-sizing: border-box;top: 0;bottom: 0;left: 50%;z-index: 0;}#sk-container-id-1 div.sk-serial {display: flex;flex-direction: column;align-items: center;background-color: white;padding-right: 0.2em;padding-left: 0.2em;position: relative;}#sk-container-id-1 div.sk-item {position: relative;z-index: 1;}#sk-container-id-1 div.sk-parallel {display: flex;align-items: stretch;justify-content: center;background-color: white;position: relative;}#sk-container-id-1 div.sk-item::before, #sk-container-id-1 div.sk-parallel-item::before {content: \"\";position: absolute;border-left: 1px solid gray;box-sizing: border-box;top: 0;bottom: 0;left: 50%;z-index: -1;}#sk-container-id-1 div.sk-parallel-item {display: flex;flex-direction: column;z-index: 1;position: relative;background-color: white;}#sk-container-id-1 div.sk-parallel-item:first-child::after {align-self: flex-end;width: 50%;}#sk-container-id-1 div.sk-parallel-item:last-child::after {align-self: flex-start;width: 50%;}#sk-container-id-1 div.sk-parallel-item:only-child::after {width: 0;}#sk-container-id-1 div.sk-dashed-wrapped {border: 1px dashed gray;margin: 0 0.4em 0.5em 0.4em;box-sizing: border-box;padding-bottom: 0.4em;background-color: white;}#sk-container-id-1 div.sk-label label {font-family: monospace;font-weight: bold;display: inline-block;line-height: 1.2em;}#sk-container-id-1 div.sk-label-container {text-align: center;}#sk-container-id-1 div.sk-container {/* jupyter's `normalize.less` sets `[hidden] { display: none; }` but bootstrap.min.css set `[hidden] { display: none !important; }` so we also need the `!important` here to be able to override the default hidden behavior on the sphinx rendered scikit-learn.org. See: https://github.com/scikit-learn/scikit-learn/issues/21755 */display: inline-block !important;position: relative;}#sk-container-id-1 div.sk-text-repr-fallback {display: none;}</style><div id=\"sk-container-id-1\" class=\"sk-top-container\"><div class=\"sk-text-repr-fallback\"><pre>RandomForestClassifier(max_depth=20, random_state=1)</pre><b>In a Jupyter environment, please rerun this cell to show the HTML representation or trust the notebook. <br />On GitHub, the HTML representation is unable to render, please try loading this page with nbviewer.org.</b></div><div class=\"sk-container\" hidden><div class=\"sk-item\"><div class=\"sk-estimator sk-toggleable\"><input class=\"sk-toggleable__control sk-hidden--visually\" id=\"sk-estimator-id-1\" type=\"checkbox\" checked><label for=\"sk-estimator-id-1\" class=\"sk-toggleable__label sk-toggleable__label-arrow\">RandomForestClassifier</label><div class=\"sk-toggleable__content\"><pre>RandomForestClassifier(max_depth=20, random_state=1)</pre></div></div></div></div></div>"
     },
     "execution_count": 14,
     "metadata": {},
     "output_type": "execute_result"
    }
   ],
   "source": [
    "clf = RandomForestClassifier(max_depth=20, random_state=1)\n",
    "clf.fit(X_train, y_train)"
   ],
   "metadata": {
    "collapsed": false,
    "ExecuteTime": {
     "start_time": "2023-11-28T16:22:40.353994Z",
     "end_time": "2023-11-28T16:22:48.863978Z"
    }
   }
  },
  {
   "cell_type": "code",
   "execution_count": 15,
   "outputs": [
    {
     "name": "stdout",
     "output_type": "stream",
     "text": [
      "0.623233127937057 0.6233766233766234 0.6225546535702083 0.6233766233766234\n",
      "0.6233766233766234\n"
     ]
    }
   ],
   "source": [
    "metrics = get_metrics(clf, X_test, y_test)\n",
    "\n",
    "print(metrics)"
   ],
   "metadata": {
    "collapsed": false,
    "ExecuteTime": {
     "start_time": "2023-11-28T16:22:48.847455Z",
     "end_time": "2023-11-28T16:22:48.924278Z"
    }
   }
  },
  {
   "cell_type": "code",
   "execution_count": 16,
   "outputs": [
    {
     "data": {
      "text/plain": "<Figure size 800x800 with 1 Axes>",
      "image/png": "[encoded data removed]"
     },
     "metadata": {},
     "output_type": "display_data"
    },
    {
     "name": "stdout",
     "output_type": "stream",
     "text": [
      "Classification Report:\n",
      "----------------------\n",
      "               precision    recall  f1-score   support\n",
      "\n",
      "          IN       0.62      0.58      0.60       449\n",
      "        NoIN       0.63      0.67      0.65       475\n",
      "\n",
      "    accuracy                           0.62       924\n",
      "   macro avg       0.62      0.62      0.62       924\n",
      "weighted avg       0.62      0.62      0.62       924\n",
      "\n"
     ]
    },
    {
     "data": {
      "text/plain": "(array([[259, 190],\n        [158, 317]], dtype=int64),\n {'IN': {'precision': 0.6211031175059952,\n   'recall': 0.576837416481069,\n   'f1-score': 0.5981524249422632,\n   'support': 449},\n  'NoIN': {'precision': 0.6252465483234714,\n   'recall': 0.6673684210526316,\n   'f1-score': 0.6456211812627292,\n   'support': 475},\n  'accuracy': 0.6233766233766234,\n  'macro avg': {'precision': 0.6231748329147333,\n   'recall': 0.6221029187668503,\n   'f1-score': 0.6218868031024962,\n   'support': 924},\n  'weighted avg': {'precision': 0.623233127937057,\n   'recall': 0.6233766233766234,\n   'f1-score': 0.6225546535702083,\n   'support': 924}})"
     },
     "execution_count": 16,
     "metadata": {},
     "output_type": "execute_result"
    }
   ],
   "source": [
    "create_confusion_matrix_plot(clf, X_test, y_test, [\"IN\", \"NoIN\"], show_plot=True)"
   ],
   "metadata": {
    "collapsed": false,
    "ExecuteTime": {
     "start_time": "2023-11-28T16:22:48.922131Z",
     "end_time": "2023-11-28T16:22:49.654780Z"
    }
   }
  },
  {
   "cell_type": "code",
   "execution_count": 16,
   "outputs": [],
   "source": [],
   "metadata": {
    "collapsed": false,
    "ExecuteTime": {
     "start_time": "2023-11-28T16:22:49.654780Z",
     "end_time": "2023-11-28T16:22:49.663538Z"
    }
   }
  }
 ],
 "metadata": {
  "kernelspec": {
   "display_name": "Python 3",
   "language": "python",
   "name": "python3"
  },
  "language_info": {
   "codemirror_mode": {
    "name": "ipython",
    "version": 2
   },
   "file_extension": ".py",
   "mimetype": "text/x-python",
   "name": "python",
   "nbconvert_exporter": "python",
   "pygments_lexer": "ipython2",
   "version": "2.7.6"
  }
 },
 "nbformat": 4,
 "nbformat_minor": 0
}
