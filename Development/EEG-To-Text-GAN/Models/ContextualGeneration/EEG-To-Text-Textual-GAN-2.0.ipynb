{
 "cells": [
  {
   "cell_type": "code",
   "execution_count": 1,
   "metadata": {
    "collapsed": true,
    "ExecuteTime": {
     "start_time": "2024-03-07T12:33:43.420005Z",
     "end_time": "2024-03-07T12:33:50.006189Z"
    }
   },
   "outputs": [
    {
     "name": "stderr",
     "output_type": "stream",
     "text": [
      "[nltk_data] Downloading package punkt to\n",
      "[nltk_data]     C:\\Users\\gxb18167\\AppData\\Roaming\\nltk_data...\n",
      "[nltk_data]   Package punkt is already up-to-date!\n"
     ]
    }
   ],
   "source": [
    "import sys\n",
    "import nltk\n",
    "import torch.nn.functional as F\n",
    "import torch\n",
    "import torch.nn as nn\n",
    "import numpy as np\n",
    "from sklearn.preprocessing import MinMaxScaler\n",
    "import torch\n",
    "nltk.download('punkt')\n",
    "from gensim.models import Word2Vec\n",
    "from nltk.tokenize import word_tokenize\n",
    "sys.path.insert(0, '..')\n",
    "import pickle\n",
    "from torch.autograd import grad as torch_grad"
   ]
  },
  {
   "cell_type": "code",
   "execution_count": 2,
   "outputs": [
    {
     "name": "stdout",
     "output_type": "stream",
     "text": [
      "2.0.1\n",
      "GPU Available: False\n"
     ]
    }
   ],
   "source": [
    "print(torch.__version__)\n",
    "print(\"GPU Available:\", torch.cuda.is_available())\n",
    "\n",
    "if torch.cuda.is_available():\n",
    "    device = torch.device(\"cuda:0\")\n",
    "else:\n",
    "    device = \"cpu\""
   ],
   "metadata": {
    "collapsed": false,
    "ExecuteTime": {
     "start_time": "2024-03-07T12:33:50.006189Z",
     "end_time": "2024-03-07T12:33:50.022906Z"
    }
   }
  },
  {
   "cell_type": "code",
   "execution_count": 3,
   "outputs": [],
   "source": [
    "batch_size = 64\n",
    "word_embedding_dim = 50\n",
    "output_shape = (1, 105, 8)\n",
    "torch.manual_seed(1)\n",
    "np.random.seed(1)"
   ],
   "metadata": {
    "collapsed": false,
    "ExecuteTime": {
     "start_time": "2024-03-07T12:33:50.026632Z",
     "end_time": "2024-03-07T12:33:50.083410Z"
    }
   }
  },
  {
   "cell_type": "code",
   "execution_count": 4,
   "outputs": [],
   "source": [
    "\n",
    "# To load the lists from the file:\n",
    "with open(r\"C:\\Users\\gxb18167\\PycharmProjects\\EEG-To-Text\\SIGIR_Development\\EEG-GAN\\EEG_Text_Pairs_Sentence.pkl\", 'rb') as file:\n",
    "    EEG_word_level_embeddings = pickle.load(file)\n",
    "    EEG_word_level_labels = pickle.load(file)"
   ],
   "metadata": {
    "collapsed": false,
    "ExecuteTime": {
     "start_time": "2024-03-07T12:33:50.051361Z",
     "end_time": "2024-03-07T12:33:51.533665Z"
    }
   }
  },
  {
   "cell_type": "code",
   "execution_count": 5,
   "outputs": [
    {
     "data": {
      "text/plain": "array([[0.19429664, 0.17923741, 0.36307213, 0.50747943, 0.62206709,\n        0.51871073, 0.42868289, 0.06850591],\n       [0.28140983, 0.57861644, 1.08024967, 0.36859021, 0.36467823,\n        0.41722685, 1.14768839, 0.55932534],\n       [0.4871715 , 0.79681689, 0.51210332, 0.40454227, 0.55180544,\n        0.43953407, 0.75510144, 0.38622764],\n       [0.43004686, 0.29673383, 0.3575944 , 0.36961138, 0.3506383 ,\n        0.85081506, 1.26278675, 0.41491231],\n       [0.3718234 , 0.45663175, 0.42179471, 1.03561676, 0.85461956,\n        0.43418464, 0.46566522, 0.33808869],\n       [0.49680769, 0.46951395, 0.50899029, 0.15184164, 1.6930244 ,\n        0.76735342, 0.57302761, 0.94475245],\n       [0.7187323 , 1.07659662, 0.72896671, 1.66536224, 1.39709103,\n        1.28687668, 1.10441923, 1.43177247],\n       [1.32517946, 1.66541123, 1.60669196, 1.8083328 , 1.39522731,\n        1.99193358, 1.38413417, 1.54831302],\n       [1.34435618, 1.0585711 , 0.49228552, 1.85182977, 1.85807848,\n        1.41647136, 1.35392964, 1.03962433],\n       [0.85793865, 2.1952467 , 2.17580271, 2.02598214, 1.63932216,\n        1.00376701, 1.78744721, 1.96237218],\n       [1.51004064, 1.01614249, 1.20013535, 1.12757885, 0.83896005,\n        0.99863309, 0.65768403, 0.33150849],\n       [0.16545779, 0.56242204, 1.09004402, 0.59104663, 0.56140357,\n        0.38477388, 0.60919583, 0.58260262],\n       [0.59866726, 0.35624093, 0.37161309, 0.18472035, 0.93358988,\n        0.49549541, 0.34883159, 0.24064931],\n       [0.        , 0.11746544, 0.10126594, 0.19900732, 0.56371886,\n        0.51361769, 0.25063437, 0.21132156],\n       [0.2674548 , 0.64626527, 0.69417387, 0.52683413, 0.45739323,\n        0.66364819, 0.28152373, 1.24307883],\n       [0.25156739, 0.65244114, 0.80059183, 0.39105976, 0.31309423,\n        0.24711452, 0.1320492 , 0.12875493],\n       [0.47954136, 0.27160987, 0.33025077, 0.54145515, 0.5096038 ,\n        0.70510417, 0.32523268, 0.33796319],\n       [0.64133495, 0.64474195, 0.64546949, 0.84770972, 1.54834962,\n        0.72048897, 0.79599148, 0.86013258],\n       [0.8353889 , 1.0517962 , 1.03803444, 1.08315039, 0.79714715,\n        1.25508237, 0.64749807, 1.29644132],\n       [1.5528599 , 1.42466891, 1.54781532, 1.53108943, 2.31397605,\n        1.94069076, 2.11611652, 1.82712317],\n       [2.28054881, 2.01836252, 2.88369226, 2.86676717, 2.74948168,\n        3.8042841 , 3.45636082, 2.36233735],\n       [2.15728211, 1.61640394, 1.02988172, 0.348952  , 3.30559635,\n        2.71191645, 1.76745474, 1.54356456],\n       [1.19374692, 0.59915674, 2.67667937, 2.27182531, 1.83685148,\n        1.61441469, 0.90830779, 1.76421607],\n       [1.75723243, 1.35989404, 1.04300892, 1.12644267, 1.15656269,\n        0.95784736, 0.63599753, 0.40361917],\n       [0.29762539, 0.16980334, 0.88263881, 0.4213168 , 0.35124317,\n        0.25572291, 0.37660599, 0.34125811],\n       [0.48567793, 0.30326262, 0.16436967, 0.39058909, 0.07311784,\n        0.42259753, 0.36659637, 0.13027279],\n       [0.24313936, 0.        , 0.0627723 , 0.05697965, 0.09524334,\n        0.38884082, 0.42019993, 0.37387085],\n       [0.25323433, 0.27647436, 0.36458769, 0.22138722, 0.82578456,\n        0.16551539, 0.31764698, 0.39041185],\n       [0.58391857, 0.2744537 , 0.30492166, 0.34178537, 0.3737596 ,\n        0.64316934, 0.32551724, 0.30886975],\n       [0.2470257 , 0.60605925, 0.71501625, 0.47388127, 0.61041754,\n        0.66048527, 0.73176259, 0.5679028 ],\n       [0.21385829, 0.67931652, 0.72097564, 0.68901145, 0.87510699,\n        0.89589679, 0.56131005, 0.80227727],\n       [0.8390792 , 0.8914637 , 1.1283468 , 1.08463717, 1.05924582,\n        1.27576113, 1.5446943 , 0.72762072],\n       [1.29906833, 1.69724035, 1.48198283, 1.65169656, 1.62396359,\n        2.07624197, 2.61354661, 2.15009594],\n       [1.82007003, 1.95553815, 1.92441297, 2.67668605, 2.37877011,\n        2.1758275 , 3.37342572, 2.48944044],\n       [1.57684028, 1.51049185, 1.13730919, 0.70119154, 0.17825857,\n        2.08928847, 1.54913878, 0.91702014],\n       [0.80856246, 0.58550948, 0.16840975, 1.29128003, 1.09995687,\n        0.89561868, 0.80072439, 0.49507588],\n       [0.81740558, 0.8233099 , 0.73927027, 0.58322036, 0.55833942,\n        0.61722332, 0.53431219, 0.27899301],\n       [0.17681956, 0.12685685, 0.21565308, 0.49346381, 0.20605224,\n        0.13006328, 0.27188852, 0.45336917],\n       [0.09899369, 0.23279501, 0.11185898, 0.09550075, 0.40307486,\n        0.10210748, 0.41342059, 0.14448562],\n       [0.14306609, 0.22949034, 0.        , 0.08935328, 0.13098077,\n        0.15256925, 0.28917587, 0.28058133],\n       [0.48024836, 0.2604633 , 0.39272356, 0.39256307, 0.22799487,\n        0.95230901, 0.21068433, 0.34622732],\n       [0.33321884, 0.52616239, 0.19766425, 0.42045936, 0.67498016,\n        0.38077077, 0.5536257 , 0.19288616],\n       [0.28249294, 0.34763992, 0.78429639, 0.94727975, 0.4693332 ,\n        0.87175912, 0.95149159, 1.01708412],\n       [0.61673707, 1.19769597, 1.01375997, 1.08499384, 0.89439988,\n        1.13592196, 1.08831346, 1.16368461],\n       [1.19854569, 1.21231508, 1.33801949, 1.59529662, 1.53586411,\n        1.40446055, 1.67178655, 1.99292505],\n       [0.96903765, 1.81730187, 2.20473695, 1.95826292, 2.20493793,\n        2.55246043, 3.16379571, 3.8951118 ],\n       [2.50178981, 2.32893062, 2.26678419, 2.31669331, 3.01368093,\n        2.86739779, 3.02949095, 3.84680271],\n       [3.30820441, 2.26366496, 2.20002913, 1.66061735, 0.9698118 ,\n        0.22210839, 2.76955748, 1.99512494],\n       [1.07421517, 0.95839953, 0.73535603, 0.12348397, 1.80220401,\n        1.40519059, 1.16919398, 0.69142383],\n       [0.5182268 , 1.06764102, 0.99829203, 0.6726231 , 0.59622234,\n        0.60885245, 0.63586766, 0.53548616],\n       [0.27594945, 0.27980852, 0.21590224, 0.11749791, 0.54162449,\n        0.31859297, 0.17595203, 0.186616  ],\n       [0.1964795 , 0.11513498, 0.17626157, 0.15782279, 0.11989577,\n        0.15398829, 0.12537345, 0.72193015],\n       [0.1475011 , 0.14445215, 0.11842754, 0.        , 0.0776927 ,\n        0.07667372, 0.23580003, 0.4004364 ],\n       [0.32996789, 0.35279492, 0.34191319, 0.39225772, 0.46098769,\n        0.30296734, 0.76001269, 0.22446841],\n       [0.40109035, 0.51805031, 1.12903798, 0.42180762, 0.46817321,\n        0.32926095, 0.66391808, 0.80769104],\n       [0.45984504, 0.40355241, 0.4283556 , 0.64731568, 0.8382079 ,\n        0.53849703, 0.87126213, 0.87512517],\n       [0.98310316, 0.47067431, 2.16695356, 1.00578165, 1.07420897,\n        0.85831076, 1.14439452, 1.51572621],\n       [1.25751913, 1.26236272, 1.23957181, 1.37550306, 1.73445892,\n        1.654863  , 1.44727623, 1.56029582],\n       [1.9707799 , 0.98847145, 1.97679579, 2.49445486, 2.15463471,\n        2.29036951, 2.65667939, 3.57981324],\n       [4.6540451 , 2.74728751, 2.55266929, 2.31265306, 2.66140628,\n        3.33099866, 3.03499532, 3.31987596],\n       [4.19103575, 3.49137187, 2.14447808, 2.28612661, 1.69799018,\n        0.98393101, 0.2099424 , 2.42763615],\n       [1.8115598 , 1.00127161, 0.74779779, 0.62292755, 0.16178277,\n        1.41880393, 1.25629389, 1.20176196],\n       [0.63342178, 0.47700614, 0.87300134, 0.92917258, 0.62648398,\n        0.51395077, 0.4494321 , 0.52993947],\n       [0.31436262, 0.35785526, 0.31394038, 0.13876189, 0.15444927,\n        0.20504715, 0.43005481, 0.19362552],\n       [0.16023998, 0.2267731 , 0.2487952 , 0.12123814, 0.17316464,\n        0.07713211, 0.24748833, 0.25297523],\n       [0.79171121, 0.08845229, 0.10880291, 0.15524958, 0.        ,\n        0.16326536, 0.27563894, 0.6194306 ],\n       [0.51405823, 0.60220605, 0.60956967, 0.40883198, 0.55775583,\n        0.81893855, 0.7910127 , 1.24803233],\n       [0.34006792, 0.61827791, 0.78645575, 2.49658751, 0.49249205,\n        0.72479683, 1.22209048, 0.74667877],\n       [0.86374724, 0.58740693, 0.49174979, 0.76166916, 0.74571383,\n        0.9282456 , 0.73230535, 1.03793776],\n       [0.98817831, 1.05166101, 0.9206003 , 1.5125258 , 1.257743  ,\n        1.18992484, 1.16003788, 1.29906166],\n       [1.51933718, 0.92134166, 1.416888  , 1.36380148, 1.39267588,\n        1.75507736, 1.65980589, 1.55383658],\n       [1.62276196, 1.89624548, 1.03080428, 2.01230907, 2.53129578,\n        2.18125463, 2.38319707, 2.7395699 ],\n       [4.35059977, 4.24411011, 3.16241217, 2.75258517, 3.01904583,\n        3.01733136, 4.37984562, 4.09342289],\n       [4.34341097, 7.04167891, 4.99322653, 3.4063108 , 3.19606352,\n        2.23245382, 1.22374427, 0.3120349 ],\n       [5.14470673, 3.29853368, 1.72890878, 1.44278467, 0.89754111,\n        0.31324959, 3.07151175, 2.07435131],\n       [1.50876915, 0.99030387, 0.66635209, 1.54427099, 1.26522148,\n        0.93775141, 0.76161152, 0.81817544],\n       [0.81659812, 0.59454304, 0.41794932, 0.28146744, 0.18921551,\n        0.2824612 , 0.59604263, 0.5317781 ],\n       [0.18163885, 0.29154414, 0.42690054, 0.4089497 , 0.31432384,\n        0.18956168, 0.1851498 , 0.47369954],\n       [0.19286203, 0.83708131, 0.26645425, 0.22010741, 0.39556324,\n        0.        , 0.13122937, 0.15754755],\n       [0.39733821, 0.35792714, 0.3436611 , 0.38049564, 0.36688551,\n        0.31642607, 0.64107043, 0.68555146],\n       [0.72274995, 0.26191708, 0.60066819, 0.35747415, 2.65271735,\n        0.41266429, 0.60668206, 1.0283525 ],\n       [0.55024213, 0.47918615, 0.41910225, 0.40215603, 0.84146655,\n        0.57270306, 0.56216466, 0.32009473],\n       [0.50601083, 0.49373958, 0.59821796, 0.67231637, 0.8467626 ,\n        0.60697782, 0.54209942, 0.50346637],\n       [0.60799319, 1.18680561, 0.86492705, 0.62982953, 0.60255033,\n        0.63387644, 0.89588523, 0.81493115],\n       [0.7725268 , 0.89169496, 1.4655422 , 0.78556758, 1.27870429,\n        1.69591916, 1.46439099, 1.7184577 ],\n       [2.1192534 , 3.34446836, 2.77360535, 2.6096108 , 2.27734876,\n        2.76202416, 2.78433084, 4.27245092],\n       [3.88306022, 3.88847589, 6.85496426, 4.64197063, 3.19089532,\n        2.824754  , 1.82778621, 1.00692785],\n       [0.2687825 , 4.76968622, 3.133425  , 1.88821042, 1.37159312,\n        0.79386687, 0.37659729, 2.68240047],\n       [2.01443219, 1.50773561, 1.0057919 , 0.6744107 , 1.45615458,\n        1.32653677, 1.00633442, 0.7182762 ],\n       [0.85666806, 0.80604893, 0.55547607, 0.53481209, 0.28383011,\n        0.14955568, 0.18520029, 0.47147158],\n       [0.67200285, 0.25013053, 0.22748443, 0.31855643, 0.34483942,\n        0.32056004, 0.25280043, 0.15860438],\n       [0.32657385, 0.11982821, 0.66657382, 0.24928835, 0.15585279,\n        0.28996572, 0.        , 0.11760469],\n       [0.12971182, 0.3427892 , 0.47664735, 0.53996003, 0.3959482 ,\n        0.28523371, 0.31711376, 0.70171618],\n       [0.88959998, 0.81799889, 0.27700713, 0.57339948, 0.19493614,\n        2.36613226, 0.44191733, 0.48554659],\n       [0.8163929 , 0.66971809, 0.4582639 , 0.33458713, 0.39971048,\n        0.52902794, 0.43116486, 0.59861308],\n       [0.36953083, 0.45748368, 0.46071932, 0.47367403, 0.58289534,\n        0.85238993, 0.5080815 , 0.51144838],\n       [0.51077604, 0.68262345, 0.72024047, 0.5900889 , 0.57259613,\n        0.61811024, 0.65222621, 0.87630558],\n       [0.85921854, 0.90581322, 1.05561709, 1.21313262, 0.64370209,\n        1.13557971, 1.55091512, 1.27894974],\n       [1.61882377, 1.7296263 , 3.06615019, 2.23867917, 2.56748343,\n        2.20772934, 2.81141067, 2.75817013],\n       [4.25048113, 3.93606114, 3.7316606 , 7.12362146, 4.62966585,\n        3.21862888, 2.71731853, 1.68109119],\n       [0.84429091, 0.17814565, 4.93516445, 3.18138146, 1.99665082,\n        1.42389143, 0.79357582, 0.33012709],\n       [2.67582083, 1.93110037, 1.31264865, 0.97486514, 0.52712578,\n        1.40346456, 1.17180872, 0.87830997],\n       [0.61200547, 0.87206084, 0.7754631 , 0.63741273, 0.35044765,\n        0.17456187, 0.10144258, 0.23270136],\n       [0.65051132, 0.34199569, 0.15276547, 0.2724399 , 0.46526954,\n        0.25869009, 0.30746511, 0.13128608],\n       [0.14119881, 0.36001745, 0.12291785, 0.51418555, 0.17319265,\n        0.17412905, 0.32396767, 0.        ]])"
     },
     "execution_count": 5,
     "metadata": {},
     "output_type": "execute_result"
    }
   ],
   "source": [
    "EEG_word_level_embeddings[0] # 105 x 8 EEG signals relating to words"
   ],
   "metadata": {
    "collapsed": false,
    "ExecuteTime": {
     "start_time": "2024-03-07T12:33:51.533665Z",
     "end_time": "2024-03-07T12:33:51.551037Z"
    }
   }
  },
  {
   "cell_type": "code",
   "execution_count": 6,
   "outputs": [],
   "source": [
    "def create_word_label_embeddings(Word_Labels_List):\n",
    "    tokenized_words = []\n",
    "    for i in range(len(Word_Labels_List)):\n",
    "        tokenized_words.append([Word_Labels_List[i]])\n",
    "    model = Word2Vec(sentences=tokenized_words, vector_size=word_embedding_dim, window=5, min_count=1, workers=4)\n",
    "    word_embeddings = {word: model.wv[word] for word in model.wv.index_to_key}\n",
    "    print(\"Number of word embeddings:\", len(word_embeddings))\n",
    "    #word, embedding = list(word_embeddings.items())[10]\n",
    "    #print(f\"Word: {word}, Embedding: {embedding}\")\n",
    "\n",
    "    Embedded_Word_labels = []\n",
    "    for word in EEG_word_level_labels:\n",
    "        Embedded_Word_labels.append(word_embeddings[word])\n",
    "\n",
    "    return Embedded_Word_labels, word_embeddings\n",
    "\n",
    "\n",
    "def create_word_label_embeddings_contextual(Word_Labels_List):\n",
    "    tokenized_words = []\n",
    "    for i in range(len(Word_Labels_List)):\n",
    "        tokenized_words.append([Word_Labels_List[i]])\n",
    "    model = Word2Vec(sentences=tokenized_words, vector_size=word_embedding_dim, window=5, min_count=1, workers=4)\n",
    "    word_embeddings = {word: model.wv[word] for word in model.wv.index_to_key}\n",
    "    Embedded_Word_labels = []\n",
    "\n",
    "    for words in range (0, len(EEG_word_level_labels)):\n",
    "        current_word = EEG_word_level_labels[words]\n",
    "        if current_word != \"SOS\" and words != len(EEG_word_level_labels)-1:\n",
    "            prior_word = EEG_word_level_labels[words-1]\n",
    "\n",
    "            current_word = EEG_word_level_labels[words]\n",
    "\n",
    "            next_word = EEG_word_level_labels[words+1]\n",
    "\n",
    "            contextual_embedding = np.concatenate((word_embeddings[prior_word], word_embeddings[current_word], word_embeddings[next_word]), axis=-1)\n",
    "            Embedded_Word_labels.append(contextual_embedding)\n",
    "        elif words == len(EEG_word_level_labels)-1:\n",
    "            prior_word = EEG_word_level_labels[words-1]\n",
    "            next_word = \"SOS\"\n",
    "            contextual_embedding = np.concatenate((word_embeddings[prior_word], word_embeddings[current_word], word_embeddings[next_word]), axis=-1)\n",
    "            Embedded_Word_labels.append(contextual_embedding)\n",
    "\n",
    "    return Embedded_Word_labels, word_embeddings\n",
    "\n",
    "\n",
    "def create_dataloader(EEG_word_level_embeddings, Embedded_Word_labels):\n",
    "    #EEG_word_level_embeddings_normalize = (EEG_word_level_embeddings - np.mean(EEG_word_level_embeddings)) / np.std(EEG_word_level_embeddings)\n",
    "    #Assuming EEG_synthetic is the generated synthetic EEG data\n",
    "    #EEG_synthetic_denormalized = (EEG_synthetic * np.max(np.abs(EEG_word_level_embeddings))) + np.mean(EEG_word_level_embeddings)\n",
    "\n",
    "    EEG_word_level_embeddings_normalize = (EEG_word_level_embeddings - np.mean(EEG_word_level_embeddings)) / np.max(np.abs(EEG_word_level_embeddings))\n",
    "\n",
    "\n",
    "    float_tensor = torch.tensor(EEG_word_level_embeddings_normalize, dtype=torch.float)\n",
    "    float_tensor = float_tensor.unsqueeze(1)\n",
    "\n",
    "    #print(EEG_word_level_embeddings_normalize)\n",
    "    # Calculate mean and standard deviation\n",
    "    print(torch.isnan(float_tensor).any())\n",
    "\n",
    "    train_data = []\n",
    "    for i in range(len(float_tensor)):\n",
    "       train_data.append([float_tensor[i], Embedded_Word_labels[i]])\n",
    "    trainloader = torch.utils.data.DataLoader(train_data, shuffle=True, batch_size=64)\n",
    "    return trainloader"
   ],
   "metadata": {
    "collapsed": false,
    "ExecuteTime": {
     "start_time": "2024-03-07T12:33:51.551037Z",
     "end_time": "2024-03-07T12:33:51.592745Z"
    }
   }
  },
  {
   "cell_type": "code",
   "execution_count": 7,
   "outputs": [],
   "source": [
    "Embedded_Word_labels, word_embeddings = create_word_label_embeddings_contextual(EEG_word_level_labels)"
   ],
   "metadata": {
    "collapsed": false,
    "ExecuteTime": {
     "start_time": "2024-03-07T12:33:51.567826Z",
     "end_time": "2024-03-07T12:33:52.876144Z"
    }
   }
  },
  {
   "cell_type": "code",
   "execution_count": 8,
   "outputs": [
    {
     "data": {
      "text/plain": "150"
     },
     "execution_count": 8,
     "metadata": {},
     "output_type": "execute_result"
    }
   ],
   "source": [
    "len(Embedded_Word_labels[0])"
   ],
   "metadata": {
    "collapsed": false,
    "ExecuteTime": {
     "start_time": "2024-03-07T12:33:52.883153Z",
     "end_time": "2024-03-07T12:33:52.891774Z"
    }
   }
  },
  {
   "cell_type": "code",
   "execution_count": 26,
   "outputs": [
    {
     "data": {
      "text/plain": "array([-1.07245450e-03,  4.72862710e-04,  1.02066994e-02,  1.80185456e-02,\n       -1.86058991e-02, -1.42336180e-02,  1.29177449e-02,  1.79459769e-02,\n       -1.00308564e-02, -7.52674323e-03,  1.47610093e-02, -3.06694279e-03,\n       -9.07322671e-03,  1.31081035e-02, -9.72032081e-03, -3.63203534e-03,\n        5.75315952e-03,  1.98374758e-03, -1.65704302e-02, -1.88976359e-02,\n        1.46235321e-02,  1.01405242e-02,  1.35153867e-02,  1.52573106e-03,\n        1.27017805e-02, -6.81073172e-03, -1.89280277e-03,  1.15371468e-02,\n       -1.50432754e-02, -7.87220709e-03, -1.50231645e-02, -1.86008448e-03,\n        1.90762375e-02, -1.46383336e-02, -4.66753729e-03, -3.87548213e-03,\n        1.61548741e-02, -1.18617918e-02,  9.03248801e-05, -9.50746797e-03,\n       -1.92071013e-02,  1.00145862e-02, -1.75191704e-02, -8.78365058e-03,\n       -7.01999670e-05, -5.92362892e-04, -1.53224804e-02,  1.92294866e-02,\n        9.96411592e-03,  1.84662864e-02, -9.59467900e-04, -9.75699443e-03,\n       -1.17798420e-02, -5.80043532e-03,  3.60486750e-03, -1.53931808e-02,\n       -5.85911516e-03, -1.15826437e-02, -3.38500971e-03,  1.77000985e-02,\n        1.35037419e-03, -8.62687360e-03,  1.55760935e-02, -1.36548327e-02,\n       -6.75327785e-04,  3.71531257e-03,  1.77895688e-02,  4.42719465e-04,\n       -7.00521702e-03,  1.66446734e-02,  8.07746872e-03, -1.36228632e-02,\n        5.39667625e-03, -1.73735805e-02,  1.74083374e-02, -3.27992457e-05,\n       -1.51825212e-02, -1.64680723e-02, -1.79383606e-02, -1.39922835e-02,\n        1.30768726e-02,  1.98729523e-03,  7.49419443e-03,  7.22205872e-03,\n       -6.26264093e-03,  2.25843419e-03,  1.96319036e-02,  8.31134804e-03,\n       -1.17813488e-02,  7.15587614e-03,  5.34993410e-03, -2.47701397e-03,\n       -1.44396666e-02,  3.60234012e-03,  2.20325938e-03,  7.08142295e-03,\n       -1.08660813e-02,  9.00080195e-04,  1.22536086e-02,  6.77259918e-03,\n       -1.64853558e-02,  1.85987093e-02, -3.95321840e-04, -3.93455289e-03,\n        9.20726079e-03, -8.19063187e-03,  5.48622850e-03,  1.38799334e-02,\n        1.21308519e-02, -1.50215887e-02,  1.87647007e-02,  9.34361666e-03,\n        7.93224107e-03, -1.24870110e-02,  1.69199593e-02, -4.30032983e-03,\n        1.76503751e-02, -1.07240053e-02, -1.62588377e-02,  1.36491181e-02,\n        3.34238540e-03, -4.39701788e-03,  1.90272015e-02,  1.89877097e-02,\n       -1.95480939e-02,  5.01045724e-03,  1.23133846e-02,  7.74491299e-03,\n        4.04557446e-03,  8.61003413e-04,  1.34726288e-03, -7.64127262e-03,\n       -1.42805008e-02, -4.17774450e-03,  7.84779526e-03,  1.76373664e-02,\n        1.85183007e-02, -1.19518731e-02, -1.88053418e-02,  1.95287541e-02,\n        6.85956934e-03,  1.03322342e-02,  1.25646899e-02, -5.60852513e-03,\n        1.46454070e-02,  5.66054322e-03,  5.74200880e-03, -4.76073986e-03,\n       -6.25649933e-03, -4.74028336e-03], dtype=float32)"
     },
     "execution_count": 26,
     "metadata": {},
     "output_type": "execute_result"
    }
   ],
   "source": [
    "Embedded_Word_labels[0]"
   ],
   "metadata": {
    "collapsed": false,
    "ExecuteTime": {
     "start_time": "2024-03-07T14:47:16.010674Z",
     "end_time": "2024-03-07T14:47:16.178244Z"
    }
   }
  },
  {
   "cell_type": "code",
   "execution_count": 9,
   "outputs": [
    {
     "name": "stdout",
     "output_type": "stream",
     "text": [
      "tensor(False)\n"
     ]
    }
   ],
   "source": [
    "trainloader = create_dataloader(EEG_word_level_embeddings, Embedded_Word_labels)"
   ],
   "metadata": {
    "collapsed": false,
    "ExecuteTime": {
     "start_time": "2024-03-07T12:33:52.903223Z",
     "end_time": "2024-03-07T12:33:56.579709Z"
    }
   }
  },
  {
   "cell_type": "code",
   "execution_count": 28,
   "outputs": [
    {
     "name": "stdout",
     "output_type": "stream",
     "text": [
      "torch.float32 torch.float32\n"
     ]
    }
   ],
   "source": [
    "#sanity check:\n",
    "i1, l1 = next(iter(trainloader))\n",
    "print(i1.dtype, l1.dtype)"
   ],
   "metadata": {
    "collapsed": false,
    "ExecuteTime": {
     "start_time": "2024-03-07T14:55:27.651378Z",
     "end_time": "2024-03-07T14:55:27.840566Z"
    }
   }
  },
  {
   "cell_type": "code",
   "execution_count": 11,
   "outputs": [],
   "source": [
    "z_size = 100\n",
    "image_size = (105, 8)\n",
    "\n",
    "n_filters = 32"
   ],
   "metadata": {
    "collapsed": false,
    "ExecuteTime": {
     "start_time": "2024-03-07T12:33:56.600460Z",
     "end_time": "2024-03-07T12:33:56.642758Z"
    }
   }
  },
  {
   "cell_type": "code",
   "execution_count": 12,
   "outputs": [],
   "source": [
    "## Loss function and optimizers:\n",
    "loss_fn = nn.BCELoss()"
   ],
   "metadata": {
    "collapsed": false,
    "ExecuteTime": {
     "start_time": "2024-03-07T12:33:56.619540Z",
     "end_time": "2024-03-07T12:33:56.650302Z"
    }
   }
  },
  {
   "cell_type": "code",
   "execution_count": 13,
   "outputs": [],
   "source": [
    "def create_noise(batch_size, z_size, mode_z):\n",
    "    if mode_z == 'uniform':\n",
    "        input_z = torch.rand(batch_size, z_size)*2 - 1\n",
    "    elif mode_z == 'normal':\n",
    "        input_z = torch.randn(batch_size, z_size)\n",
    "    return input_z\n",
    "\n",
    "mode_z = 'uniform'\n",
    "fixed_z = create_noise(batch_size, z_size, mode_z).to(device)\n",
    "\n",
    "def create_samples(g_model, input_z, input_t):\n",
    "    g_output = g_model(input_z, input_t)\n",
    "    images = torch.reshape(g_output, (batch_size, *image_size))\n",
    "    return (images+1)/2.0"
   ],
   "metadata": {
    "collapsed": false,
    "ExecuteTime": {
     "start_time": "2024-03-07T12:33:56.649791Z",
     "end_time": "2024-03-07T12:33:56.670646Z"
    }
   }
  },
  {
   "cell_type": "code",
   "execution_count": 14,
   "outputs": [],
   "source": [
    "noise = create_noise(64, 100, \"uniform\")"
   ],
   "metadata": {
    "collapsed": false,
    "ExecuteTime": {
     "start_time": "2024-03-07T12:33:56.670646Z",
     "end_time": "2024-03-07T12:33:56.695360Z"
    }
   }
  },
  {
   "cell_type": "code",
   "execution_count": 15,
   "outputs": [
    {
     "data": {
      "text/plain": "torch.Size([64, 100])"
     },
     "execution_count": 15,
     "metadata": {},
     "output_type": "execute_result"
    }
   ],
   "source": [
    "noise.shape"
   ],
   "metadata": {
    "collapsed": false,
    "ExecuteTime": {
     "start_time": "2024-03-07T12:33:56.695360Z",
     "end_time": "2024-03-07T12:33:56.741643Z"
    }
   }
  },
  {
   "cell_type": "code",
   "execution_count": 16,
   "outputs": [],
   "source": [
    "class Generator(nn.Module):\n",
    "    def __init__(self, noise_dim, word_embedding_dim, output_shape):\n",
    "        super(Generator, self).__init__()\n",
    "\n",
    "        self.noise_dim = noise_dim\n",
    "        self.word_embedding_dim = word_embedding_dim\n",
    "\n",
    "        # Define the layers of your generator\n",
    "        self.fc_noise = nn.Linear(noise_dim, 105*8)  # Increase the size for more complexity\n",
    "        self.fc_word_embedding = nn.Linear(word_embedding_dim, 105*8)  # Increase the size for more complexity\n",
    "        self.conv1 = nn.Conv2d(2, 128, kernel_size=3, stride=1, padding=1)\n",
    "        self.bn1 = nn.BatchNorm2d(128)\n",
    "        self.relu = nn.LeakyReLU(0.2)\n",
    "\n",
    "        self.conv2 = nn.Conv2d(128, 64, kernel_size=3, stride=1, padding=1)\n",
    "        self.bn2 = nn.BatchNorm2d(64)\n",
    "\n",
    "        self.conv3 = nn.Conv2d(64, 1, kernel_size=3, stride=1, padding=1)\n",
    "        self.tanh = nn.Tanh()\n",
    "\n",
    "    def forward(self, noise, word_embedding):\n",
    "        # Process noise\n",
    "        noise = self.fc_noise(noise)\n",
    "        noise = noise.view(noise.size(0), 1, 105,8)  # Adjust the size to match conv1\n",
    "\n",
    "        # Process word embedding\n",
    "        word_embedding = self.fc_word_embedding(word_embedding.to(device))\n",
    "        word_embedding = word_embedding.view(word_embedding.size(0), 1, 105, 8)  # Adjust the size to match conv1\n",
    "\n",
    "        # Concatenate noise and word embedding\n",
    "        combined_input = torch.cat([noise, word_embedding], dim=1)\n",
    "\n",
    "        # Upsample and generate the output\n",
    "        z = self.conv1(combined_input)\n",
    "        z = self.bn1(z)\n",
    "        z = self.relu(z)\n",
    "\n",
    "        z = self.conv2(z)\n",
    "        z = self.bn2(z)\n",
    "        z = self.relu(z)\n",
    "\n",
    "        z = self.conv3(z)\n",
    "        z = self.tanh(z)\n",
    "\n",
    "        return z\n",
    "\n",
    "class DiscriminatorWGAN(nn.Module):\n",
    "    def __init__(self, n_filters):\n",
    "        super(DiscriminatorWGAN, self).__init__()\n",
    "        self.network = nn.Sequential(\n",
    "            nn.Conv2d(1, n_filters, kernel_size=4, stride=2, padding=1, bias=False),\n",
    "            nn.LeakyReLU(0.2),\n",
    "\n",
    "            nn.Conv2d(n_filters, n_filters*2, kernel_size=4, stride=2, padding=1, bias=False),\n",
    "            nn.InstanceNorm2d(n_filters * 2),\n",
    "            nn.LeakyReLU(0.2),\n",
    "\n",
    "            nn.Conv2d(n_filters*2, n_filters*4, kernel_size=3, stride=2, padding=1, bias=False),\n",
    "            nn.InstanceNorm2d(n_filters*4),\n",
    "            nn.LeakyReLU(0.2),\n",
    "\n",
    "            nn.Flatten(),  # Flatten spatial dimensions\n",
    "\n",
    "            # Fully connected layer to reduce to a single value per sample\n",
    "            nn.Linear(n_filters*4 * (105 // 8) * (8 // 8), 1),\n",
    "            nn.Sigmoid()\n",
    "        )\n",
    "\n",
    "    def forward(self, input):\n",
    "        output = self.network(input)\n",
    "        return output\n"
   ],
   "metadata": {
    "collapsed": false,
    "ExecuteTime": {
     "start_time": "2024-03-07T12:33:56.709529Z",
     "end_time": "2024-03-07T12:33:56.741643Z"
    }
   }
  },
  {
   "cell_type": "code",
   "execution_count": 17,
   "outputs": [],
   "source": [
    "gen_model = Generator(z_size, 150, output_shape).to(device)\n",
    "disc_model = DiscriminatorWGAN(n_filters).to(device)\n",
    "\n",
    "g_optimizer = torch.optim.Adam(gen_model.parameters(), 0.00002)\n",
    "d_optimizer = torch.optim.Adam(disc_model.parameters(), 0.00002)"
   ],
   "metadata": {
    "collapsed": false,
    "ExecuteTime": {
     "start_time": "2024-03-07T12:33:56.725778Z",
     "end_time": "2024-03-07T12:33:56.741643Z"
    }
   }
  },
  {
   "cell_type": "code",
   "execution_count": 18,
   "outputs": [],
   "source": [
    "\n",
    "def gradient_penalty(real_data, generated_data):\n",
    "    batch_size = real_data.size(0)\n",
    "\n",
    "    # Calculate interpolation\n",
    "    alpha = torch.rand(real_data.shape[0], 1, 1, 1, requires_grad=True, device=device)\n",
    "    #print(\"Gen:\", generated_data.shape)\n",
    "    interpolated = alpha * real_data + (1 - alpha) * generated_data\n",
    "\n",
    "    # Calculate probability of interpolated examples\n",
    "    proba_interpolated = disc_model(interpolated)\n",
    "\n",
    "    # Calculate gradients of probabilities with respect to examples\n",
    "    gradients = torch_grad(outputs=proba_interpolated, inputs=interpolated,\n",
    "                           grad_outputs=torch.ones(proba_interpolated.size(), device=device),\n",
    "                           create_graph=True, retain_graph=True)[0]\n",
    "\n",
    "    gradients = gradients.view(batch_size, -1)\n",
    "    gradients_norm = gradients.norm(2, dim=1)\n",
    "    return lambda_gp * ((gradients_norm - 1)**2).mean()\n"
   ],
   "metadata": {
    "collapsed": false,
    "ExecuteTime": {
     "start_time": "2024-03-07T12:33:56.741643Z",
     "end_time": "2024-03-07T12:33:56.757514Z"
    }
   }
  },
  {
   "cell_type": "code",
   "execution_count": 19,
   "outputs": [],
   "source": [
    "## Train the discriminator\n",
    "def d_train_wgan(x, input_t):\n",
    "    disc_model.zero_grad()\n",
    "\n",
    "    batch_size = x.size(0)\n",
    "    x = x.to(device)\n",
    "    #print(\"X:\", x.shape)\n",
    "    # Calculate probabilities on real and generated data\n",
    "    d_real = disc_model(x)\n",
    "    input_z = create_noise(batch_size, z_size, mode_z).to(device)\n",
    "    g_output = gen_model(input_z, input_t)\n",
    "    #print(\"D Real:\", d_real.shape)\n",
    "\n",
    "    d_generated = disc_model(g_output)\n",
    "    #print(\"G output:\", g_output.shape)\n",
    "\n",
    "    d_loss = d_generated.mean() - d_real.mean() + gradient_penalty(x.data, g_output.data)\n",
    "\n",
    "    d_loss.backward()\n",
    "    d_optimizer.step()\n",
    "\n",
    "    return d_loss.data.item()"
   ],
   "metadata": {
    "collapsed": false,
    "ExecuteTime": {
     "start_time": "2024-03-07T12:33:56.763145Z",
     "end_time": "2024-03-07T12:33:56.779144Z"
    }
   }
  },
  {
   "cell_type": "code",
   "execution_count": 20,
   "outputs": [],
   "source": [
    "## Train the generator\n",
    "def g_train_wgan(x, input_t):\n",
    "    gen_model.zero_grad()\n",
    "\n",
    "    batch_size = x.size(0)\n",
    "    input_z = create_noise(batch_size, z_size, mode_z).to(device)\n",
    "\n",
    "    g_output = gen_model(input_z, input_t)\n",
    "\n",
    "    d_generated = disc_model(g_output)\n",
    "    g_loss = -d_generated.mean()\n",
    "    print(\"G Loss:\", g_loss)\n",
    "\n",
    "    # gradient backprop & optimize ONLY G's parameters\n",
    "    g_loss.backward()\n",
    "    g_optimizer.step()\n",
    "\n",
    "    return g_loss.data.item()"
   ],
   "metadata": {
    "collapsed": false,
    "ExecuteTime": {
     "start_time": "2024-03-07T12:33:56.779144Z",
     "end_time": "2024-03-07T12:33:56.795684Z"
    }
   }
  },
  {
   "cell_type": "code",
   "execution_count": 21,
   "outputs": [
    {
     "name": "stdout",
     "output_type": "stream",
     "text": [
      "T: tensor([[[[-8.4443e-03, -1.9176e-02, -2.1459e-02,  ..., -2.5626e-02,\n",
      "           -2.0094e-02, -1.6487e-02],\n",
      "          [-2.4960e-02, -2.0529e-02, -2.0863e-02,  ..., -2.0392e-02,\n",
      "           -1.9405e-02, -1.8536e-02],\n",
      "          [-8.1042e-03, -2.4881e-03, -1.4266e-02,  ..., -1.1138e-02,\n",
      "           -1.3892e-02, -2.1972e-02],\n",
      "          ...,\n",
      "          [-1.4785e-02, -1.7782e-02, -1.5470e-02,  ..., -1.6162e-02,\n",
      "           -2.4063e-02, -2.7194e-02],\n",
      "          [-5.3006e-03, -8.4901e-03, -4.5342e-03,  ..., -1.6185e-02,\n",
      "           -1.9304e-02, -1.2332e-02],\n",
      "          [-1.0411e-02, -1.8819e-02, -2.4181e-02,  ..., -1.3150e-02,\n",
      "           -1.6905e-02, -3.1616e-02]]],\n",
      "\n",
      "\n",
      "        [[[-1.3685e-02, -9.7599e-03, -7.0305e-03,  ..., -1.7932e-02,\n",
      "           -1.9210e-02, -1.5928e-02],\n",
      "          [-1.5158e-02, -8.4017e-03, -1.0504e-02,  ..., -1.4120e-02,\n",
      "           -8.1077e-03, -6.9838e-03],\n",
      "          [-1.6963e-02, -9.2921e-03, -7.0514e-03,  ..., -4.5759e-03,\n",
      "           -7.6884e-03, -1.2391e-02],\n",
      "          ...,\n",
      "          [-2.0960e-02, -2.0533e-02, -2.1207e-02,  ..., -2.4278e-02,\n",
      "           -2.3870e-02, -2.1631e-02],\n",
      "          [-2.2614e-02, -2.4165e-02, -2.4496e-02,  ..., -2.5639e-02,\n",
      "           -2.3165e-02, -2.3481e-02],\n",
      "          [-2.3269e-02, -2.1983e-02, -2.7456e-02,  ..., -2.3328e-02,\n",
      "           -2.2829e-02, -3.1616e-02]]],\n",
      "\n",
      "\n",
      "        [[[-2.5025e-02, -1.6299e-02, -5.0846e-03,  ..., -3.9938e-03,\n",
      "           -2.3795e-02, -8.5517e-03],\n",
      "          [ 1.6645e-03,  2.9889e-02,  2.0827e-03,  ...,  6.1767e-03,\n",
      "            9.8072e-03,  5.1784e-03],\n",
      "          [-8.6353e-03,  4.4540e-03,  2.6385e-03,  ..., -1.4398e-03,\n",
      "            2.6523e-02,  1.7952e-02],\n",
      "          ...,\n",
      "          [-2.0911e-03,  2.9296e-04,  2.1885e-04,  ..., -6.1699e-03,\n",
      "           -5.8279e-03, -7.5802e-03],\n",
      "          [-4.3677e-03, -1.1790e-02, -6.2741e-03,  ..., -2.2135e-02,\n",
      "           -1.0661e-02, -1.3478e-02],\n",
      "          [-1.2489e-02, -9.7336e-03, -2.1942e-02,  ..., -1.2417e-02,\n",
      "           -1.3680e-02, -3.1616e-02]]],\n",
      "\n",
      "\n",
      "        ...,\n",
      "\n",
      "\n",
      "        [[[-1.1156e-02,  8.4837e-03,  8.3759e-03,  ..., -2.2056e-02,\n",
      "           -7.4296e-03, -5.9253e-05],\n",
      "          [-1.8893e-03, -2.2867e-02, -2.9701e-02,  ..., -2.4463e-02,\n",
      "           -2.1407e-02, -2.0216e-02],\n",
      "          [-1.9713e-02, -1.9748e-02, -1.4032e-02,  ..., -1.3562e-02,\n",
      "           -1.5379e-02, -7.7632e-03],\n",
      "          ...,\n",
      "          [-9.4201e-03, -9.1467e-03, -8.6312e-03,  ..., -2.0659e-02,\n",
      "           -1.3676e-02, -1.8036e-02],\n",
      "          [-1.4179e-02, -1.6167e-02, -2.0373e-02,  ..., -2.0575e-02,\n",
      "           -2.0154e-02, -2.1948e-02],\n",
      "          [-2.0818e-02, -1.8502e-02, -2.1460e-02,  ..., -2.3816e-02,\n",
      "           -2.2128e-02, -3.1616e-02]]],\n",
      "\n",
      "\n",
      "        [[[-8.4573e-03,  5.8999e-03,  2.7041e-02,  ...,  7.4538e-02,\n",
      "            9.6856e-04,  5.3372e-03],\n",
      "          [ 2.1983e-02,  4.3793e-02,  5.3350e-02,  ...,  6.5139e-03,\n",
      "            2.9124e-02,  2.5079e-02],\n",
      "          [-7.0404e-03,  4.1040e-03,  1.5230e-02,  ...,  1.4164e-02,\n",
      "            7.1743e-02,  6.5268e-02],\n",
      "          ...,\n",
      "          [ 2.7978e-01,  4.3041e-01,  5.9394e-01,  ...,  1.7666e-01,\n",
      "            6.8754e-02,  2.3270e-02],\n",
      "          [ 5.9763e-02,  1.2643e-01,  1.7924e-01,  ..., -1.4193e-02,\n",
      "            1.4331e-01,  8.7122e-03],\n",
      "          [ 2.4548e-02,  3.7397e-02, -1.8884e-02,  ...,  1.3199e-03,\n",
      "            2.2015e-02, -3.1616e-02]]],\n",
      "\n",
      "\n",
      "        [[[ 1.9572e-02, -8.1245e-03, -3.6554e-03,  ..., -1.2588e-02,\n",
      "           -1.1800e-02, -1.1932e-02],\n",
      "          [-4.6688e-03,  9.0285e-04,  7.9660e-03,  ..., -3.0051e-03,\n",
      "            1.2683e-02,  2.1357e-02],\n",
      "          [-4.1626e-03,  1.5115e-02,  1.9935e-02,  ...,  2.8314e-02,\n",
      "            2.9216e-02,  2.0840e-02],\n",
      "          ...,\n",
      "          [-1.9983e-02, -1.0398e-02, -1.2109e-02,  ..., -2.1243e-02,\n",
      "           -2.1753e-02, -1.9526e-02],\n",
      "          [-1.2621e-02, -2.0303e-02, -1.5564e-02,  ..., -1.9777e-02,\n",
      "           -1.8792e-02, -1.6757e-02],\n",
      "          [-8.4837e-03, -1.2045e-02, -2.2007e-02,  ..., -1.6095e-02,\n",
      "           -1.5131e-02, -3.1616e-02]]]])\n",
      "D Loss: 14.265323638916016\n",
      "D Loss: 39.07489776611328\n",
      "D Loss: 14.791297912597656\n",
      "D Loss: 37.512847900390625\n",
      "D Loss: 21.306970596313477\n",
      "G Loss: tensor(-0.4997, grad_fn=<NegBackward0>)\n",
      "T: tensor([[[[ 0.0466,  0.0139,  0.0394,  ..., -0.0046, -0.0086,  0.0524],\n",
      "          [ 0.0412,  0.0383,  0.0341,  ...,  0.0340,  0.0721,  0.0695],\n",
      "          [-0.0013,  0.0197,  0.0665,  ...,  0.0626,  0.0570,  0.0156],\n",
      "          ...,\n",
      "          [ 0.0779,  0.1397,  0.1624,  ...,  0.0613,  0.0396,  0.1715],\n",
      "          [ 0.1360,  0.1249,  0.0614,  ...,  0.0290,  0.0907,  0.1051],\n",
      "          [ 0.0737,  0.0461,  0.0109,  ...,  0.0913,  0.0861, -0.0316]]],\n",
      "\n",
      "\n",
      "        [[[-0.0021,  0.0072,  0.0012,  ..., -0.0160, -0.0114, -0.0004],\n",
      "          [ 0.0013,  0.0009,  0.0003,  ..., -0.0009,  0.0066,  0.0225],\n",
      "          [-0.0105,  0.0130,  0.0077,  ...,  0.0097,  0.0138,  0.0052],\n",
      "          ...,\n",
      "          [ 0.0175,  0.0227,  0.0281,  ...,  0.0227,  0.0397,  0.1732],\n",
      "          [ 0.0241,  0.0396,  0.0142,  ...,  0.1436,  0.0261,  0.0337],\n",
      "          [ 0.0088,  0.0047, -0.0045,  ...,  0.0171,  0.0180, -0.0316]]],\n",
      "\n",
      "\n",
      "        [[[-0.0246, -0.0098,  0.0052,  ..., -0.0112, -0.0124, -0.0038],\n",
      "          [ 0.0063,  0.0185,  0.0076,  ...,  0.0192,  0.0451,  0.0188],\n",
      "          [-0.0123,  0.0153,  0.0223,  ...,  0.0259,  0.0150,  0.0074],\n",
      "          ...,\n",
      "          [ 0.0148, -0.0207, -0.0153,  ..., -0.0054, -0.0140, -0.0242],\n",
      "          [-0.0198, -0.0045,  0.0057,  ...,  0.0080, -0.0258, -0.0066],\n",
      "          [ 0.0045,  0.0156, -0.0167,  ..., -0.0221, -0.0176, -0.0316]]],\n",
      "\n",
      "\n",
      "        ...,\n",
      "\n",
      "\n",
      "        [[[-0.0261, -0.0166, -0.0102,  ..., -0.0108, -0.0259, -0.0103],\n",
      "          [-0.0053,  0.0445, -0.0039,  ...,  0.0013,  0.0365,  0.0183],\n",
      "          [-0.0154,  0.0120,  0.0013,  ..., -0.0011,  0.0230, -0.0079],\n",
      "          ...,\n",
      "          [ 0.0890,  0.0684,  0.0641,  ...,  0.0911,  0.0883,  0.1266],\n",
      "          [ 0.1241,  0.0891,  0.0578,  ...,  0.0101,  0.0256,  0.0159],\n",
      "          [ 0.0267,  0.0581,  0.0336,  ...,  0.0119,  0.0288, -0.0316]]],\n",
      "\n",
      "\n",
      "        [[[-0.0181, -0.0019, -0.0159,  ..., -0.0249, -0.0250, -0.0126],\n",
      "          [-0.0244, -0.0183, -0.0225,  ..., -0.0259, -0.0255, -0.0230],\n",
      "          [-0.0197, -0.0167, -0.0152,  ..., -0.0069, -0.0197, -0.0235],\n",
      "          ...,\n",
      "          [-0.0046, -0.0067,  0.0005,  ..., -0.0111, -0.0163, -0.0239],\n",
      "          [ 0.0087, -0.0013, -0.0071,  ..., -0.0180, -0.0080, -0.0091],\n",
      "          [-0.0074, -0.0106, -0.0182,  ..., -0.0084, -0.0039, -0.0316]]],\n",
      "\n",
      "\n",
      "        [[[-0.0023,  0.0331,  0.0496,  ..., -0.0084,  0.0314,  0.0330],\n",
      "          [ 0.0248,  0.0246,  0.0118,  ...,  0.0079,  0.0200,  0.0173],\n",
      "          [-0.0012,  0.0076,  0.0084,  ...,  0.0117,  0.0174, -0.0058],\n",
      "          ...,\n",
      "          [-0.0128, -0.0077, -0.0106,  ..., -0.0178, -0.0197, -0.0222],\n",
      "          [-0.0118, -0.0109, -0.0177,  ..., -0.0152, -0.0180, -0.0203],\n",
      "          [-0.0170, -0.0165, -0.0129,  ..., -0.0200, -0.0123, -0.0316]]]])\n",
      "D Loss: 16.670875549316406\n",
      "D Loss: 16.622549057006836\n",
      "D Loss: 25.3233699798584\n",
      "D Loss: 17.526212692260742\n",
      "D Loss: 48.57757568359375\n",
      "G Loss: tensor(-0.5091, grad_fn=<NegBackward0>)\n",
      "T: tensor([[[[-2.2179e-02, -2.1885e-02, -2.3379e-02,  ..., -2.2996e-02,\n",
      "           -2.2769e-02, -1.6885e-02],\n",
      "          [-2.7047e-02,  5.1040e-03, -2.5015e-02,  ..., -2.4453e-02,\n",
      "           -2.5405e-02, -2.2407e-02],\n",
      "          [-2.8531e-02, -2.8622e-02, -2.0233e-02,  ..., -1.5652e-02,\n",
      "           -1.3478e-02, -1.4103e-02],\n",
      "          ...,\n",
      "          [-2.0450e-02, -1.4003e-02, -1.6506e-02,  ..., -2.4217e-02,\n",
      "           -2.5730e-02, -2.7075e-02],\n",
      "          [-1.8078e-02, -1.9245e-02, -2.3558e-02,  ..., -1.9983e-02,\n",
      "           -2.0723e-02, -2.3740e-02],\n",
      "          [-2.5908e-02, -2.1955e-02, -2.6784e-02,  ..., -2.6689e-02,\n",
      "           -2.7608e-02, -3.1616e-02]]],\n",
      "\n",
      "\n",
      "        [[[-2.7416e-02, -2.7491e-02, -2.3432e-02,  ..., -2.7286e-02,\n",
      "           -2.5074e-02, -2.3239e-02],\n",
      "          [-2.5105e-02, -2.6254e-02, -2.5472e-02,  ..., -2.0989e-02,\n",
      "           -2.1026e-02, -2.6065e-02],\n",
      "          [-2.6452e-02, -2.2554e-02, -2.5118e-02,  ..., -2.7084e-02,\n",
      "           -2.6334e-02, -2.7202e-02],\n",
      "          ...,\n",
      "          [-1.1808e-02, -5.3990e-03,  3.2123e-03,  ..., -2.2362e-02,\n",
      "           -2.6862e-02, -2.7249e-02],\n",
      "          [-1.6006e-02, -2.0638e-02, -2.1755e-02,  ..., -2.5515e-02,\n",
      "           -2.0355e-02, -2.3506e-02],\n",
      "          [-2.6006e-02, -2.5824e-02, -2.8264e-02,  ..., -2.7140e-02,\n",
      "           -2.6372e-02, -3.1616e-02]]],\n",
      "\n",
      "\n",
      "        [[[-2.9175e-02, -2.6897e-02, -2.4295e-02,  ..., -2.1821e-02,\n",
      "           -2.9153e-02, -2.5514e-02],\n",
      "          [-2.3732e-02, -1.5052e-02, -2.0197e-02,  ..., -2.2508e-02,\n",
      "           -2.2031e-02, -1.3748e-02],\n",
      "          [-2.2593e-02, -2.1966e-02, -2.6196e-02,  ..., -2.7995e-02,\n",
      "           -2.5382e-02, -1.4022e-02],\n",
      "          ...,\n",
      "          [ 2.7806e-03,  1.3274e-02,  1.0451e-02,  ..., -1.4683e-02,\n",
      "           -2.0431e-02, -2.3434e-02],\n",
      "          [ 5.7980e-03, -2.1244e-02, -1.7257e-02,  ..., -3.9445e-03,\n",
      "           -2.4009e-02, -2.1571e-02],\n",
      "          [-2.3377e-02, -2.2610e-02,  2.0870e-02,  ..., -2.4964e-02,\n",
      "           -2.7001e-02, -3.1616e-02]]],\n",
      "\n",
      "\n",
      "        ...,\n",
      "\n",
      "\n",
      "        [[[-1.7432e-02, -1.6303e-02, -1.2381e-02,  ..., -2.9573e-02,\n",
      "           -1.9720e-02, -1.5466e-02],\n",
      "          [-1.8902e-02, -2.6630e-02, -2.6168e-02,  ..., -1.6262e-02,\n",
      "           -1.6753e-02, -1.9003e-02],\n",
      "          [-1.5644e-02, -1.7109e-02, -1.8045e-02,  ..., -6.6879e-03,\n",
      "           -2.3449e-02, -2.7038e-02],\n",
      "          ...,\n",
      "          [-7.3263e-03,  1.7247e-02,  8.3278e-03,  ..., -1.2672e-02,\n",
      "           -9.4075e-03, -1.3297e-02],\n",
      "          [-7.8837e-03, -6.7007e-03, -1.3183e-02,  ..., -1.0808e-02,\n",
      "           -7.4021e-03, -1.4789e-02],\n",
      "          [-7.9344e-03, -1.1496e-02, -1.4736e-02,  ..., -1.9822e-02,\n",
      "           -1.3047e-02, -3.1616e-02]]],\n",
      "\n",
      "\n",
      "        [[[ 3.7902e-03,  1.6988e-02,  4.1911e-02,  ..., -1.3845e-02,\n",
      "            2.0730e-02,  3.3684e-02],\n",
      "          [ 3.3960e-02,  6.8538e-02, -1.5204e-04,  ...,  1.8475e-02,\n",
      "            1.7669e-02,  1.4898e-02],\n",
      "          [ 2.4327e-03,  7.4838e-03,  7.6362e-03,  ..., -3.2338e-03,\n",
      "           -1.2578e-02, -2.0068e-02],\n",
      "          ...,\n",
      "          [-2.4553e-02, -2.0518e-02, -2.1943e-02,  ..., -2.4616e-02,\n",
      "           -1.9132e-02, -2.4232e-02],\n",
      "          [-2.4344e-02, -2.6335e-02, -2.4058e-02,  ..., -2.1940e-02,\n",
      "           -2.3041e-02, -2.2934e-02],\n",
      "          [-2.2044e-02, -1.9478e-02, -1.9895e-02,  ..., -2.3964e-02,\n",
      "           -2.0415e-02, -3.1616e-02]]],\n",
      "\n",
      "\n",
      "        [[[-2.7376e-02, -1.8743e-02, -1.5012e-02,  ..., -8.4779e-03,\n",
      "           -2.1714e-02, -6.1183e-03],\n",
      "          [-7.4776e-03,  9.3284e-03, -5.3387e-05,  ...,  4.6088e-03,\n",
      "            1.8881e-02, -1.6937e-03],\n",
      "          [-2.3800e-03,  8.8988e-03, -2.0681e-03,  ...,  1.0263e-02,\n",
      "            2.9769e-03, -2.7562e-03],\n",
      "          ...,\n",
      "          [ 2.2974e-02,  1.0613e-02,  6.5429e-03,  ...,  2.8332e-02,\n",
      "            2.6401e-02,  4.7565e-02],\n",
      "          [ 4.8227e-02,  2.8953e-02,  9.2094e-03,  ..., -8.0453e-03,\n",
      "           -9.6641e-03, -1.3078e-02],\n",
      "          [-5.5845e-03,  1.5677e-02,  3.4927e-02,  ..., -1.0067e-02,\n",
      "            7.1471e-04, -3.1616e-02]]]])\n",
      "D Loss: 25.598857879638672\n",
      "D Loss: 15.005414009094238\n"
     ]
    },
    {
     "ename": "KeyboardInterrupt",
     "evalue": "",
     "output_type": "error",
     "traceback": [
      "\u001B[1;31m---------------------------------------------------------------------------\u001B[0m",
      "\u001B[1;31mKeyboardInterrupt\u001B[0m                         Traceback (most recent call last)",
      "Cell \u001B[1;32mIn[21], line 16\u001B[0m\n\u001B[0;32m     14\u001B[0m \u001B[38;5;28mprint\u001B[39m(\u001B[38;5;124m\"\u001B[39m\u001B[38;5;124mT:\u001B[39m\u001B[38;5;124m\"\u001B[39m, x)\n\u001B[0;32m     15\u001B[0m \u001B[38;5;28;01mfor\u001B[39;00m _ \u001B[38;5;129;01min\u001B[39;00m \u001B[38;5;28mrange\u001B[39m(critic_iterations):\n\u001B[1;32m---> 16\u001B[0m     d_loss \u001B[38;5;241m=\u001B[39m \u001B[43md_train_wgan\u001B[49m\u001B[43m(\u001B[49m\u001B[43mx\u001B[49m\u001B[43m,\u001B[49m\u001B[43m \u001B[49m\u001B[43mt\u001B[49m\u001B[43m)\u001B[49m\n\u001B[0;32m     17\u001B[0m     \u001B[38;5;28mprint\u001B[39m(\u001B[38;5;124m\"\u001B[39m\u001B[38;5;124mD Loss:\u001B[39m\u001B[38;5;124m\"\u001B[39m, d_loss)\n\u001B[0;32m     18\u001B[0m d_losses\u001B[38;5;241m.\u001B[39mappend(d_loss)\n",
      "Cell \u001B[1;32mIn[19], line 19\u001B[0m, in \u001B[0;36md_train_wgan\u001B[1;34m(x, input_t)\u001B[0m\n\u001B[0;32m     15\u001B[0m \u001B[38;5;66;03m#print(\"G output:\", g_output.shape)\u001B[39;00m\n\u001B[0;32m     17\u001B[0m d_loss \u001B[38;5;241m=\u001B[39m d_generated\u001B[38;5;241m.\u001B[39mmean() \u001B[38;5;241m-\u001B[39m d_real\u001B[38;5;241m.\u001B[39mmean() \u001B[38;5;241m+\u001B[39m gradient_penalty(x\u001B[38;5;241m.\u001B[39mdata, g_output\u001B[38;5;241m.\u001B[39mdata)\n\u001B[1;32m---> 19\u001B[0m \u001B[43md_loss\u001B[49m\u001B[38;5;241;43m.\u001B[39;49m\u001B[43mbackward\u001B[49m\u001B[43m(\u001B[49m\u001B[43m)\u001B[49m\n\u001B[0;32m     20\u001B[0m d_optimizer\u001B[38;5;241m.\u001B[39mstep()\n\u001B[0;32m     22\u001B[0m \u001B[38;5;28;01mreturn\u001B[39;00m d_loss\u001B[38;5;241m.\u001B[39mdata\u001B[38;5;241m.\u001B[39mitem()\n",
      "File \u001B[1;32m~\\Anaconda3\\lib\\site-packages\\torch\\_tensor.py:487\u001B[0m, in \u001B[0;36mTensor.backward\u001B[1;34m(self, gradient, retain_graph, create_graph, inputs)\u001B[0m\n\u001B[0;32m    477\u001B[0m \u001B[38;5;28;01mif\u001B[39;00m has_torch_function_unary(\u001B[38;5;28mself\u001B[39m):\n\u001B[0;32m    478\u001B[0m     \u001B[38;5;28;01mreturn\u001B[39;00m handle_torch_function(\n\u001B[0;32m    479\u001B[0m         Tensor\u001B[38;5;241m.\u001B[39mbackward,\n\u001B[0;32m    480\u001B[0m         (\u001B[38;5;28mself\u001B[39m,),\n\u001B[1;32m   (...)\u001B[0m\n\u001B[0;32m    485\u001B[0m         inputs\u001B[38;5;241m=\u001B[39minputs,\n\u001B[0;32m    486\u001B[0m     )\n\u001B[1;32m--> 487\u001B[0m \u001B[43mtorch\u001B[49m\u001B[38;5;241;43m.\u001B[39;49m\u001B[43mautograd\u001B[49m\u001B[38;5;241;43m.\u001B[39;49m\u001B[43mbackward\u001B[49m\u001B[43m(\u001B[49m\n\u001B[0;32m    488\u001B[0m \u001B[43m    \u001B[49m\u001B[38;5;28;43mself\u001B[39;49m\u001B[43m,\u001B[49m\u001B[43m \u001B[49m\u001B[43mgradient\u001B[49m\u001B[43m,\u001B[49m\u001B[43m \u001B[49m\u001B[43mretain_graph\u001B[49m\u001B[43m,\u001B[49m\u001B[43m \u001B[49m\u001B[43mcreate_graph\u001B[49m\u001B[43m,\u001B[49m\u001B[43m \u001B[49m\u001B[43minputs\u001B[49m\u001B[38;5;241;43m=\u001B[39;49m\u001B[43minputs\u001B[49m\n\u001B[0;32m    489\u001B[0m \u001B[43m\u001B[49m\u001B[43m)\u001B[49m\n",
      "File \u001B[1;32m~\\Anaconda3\\lib\\site-packages\\torch\\autograd\\__init__.py:200\u001B[0m, in \u001B[0;36mbackward\u001B[1;34m(tensors, grad_tensors, retain_graph, create_graph, grad_variables, inputs)\u001B[0m\n\u001B[0;32m    195\u001B[0m     retain_graph \u001B[38;5;241m=\u001B[39m create_graph\n\u001B[0;32m    197\u001B[0m \u001B[38;5;66;03m# The reason we repeat same the comment below is that\u001B[39;00m\n\u001B[0;32m    198\u001B[0m \u001B[38;5;66;03m# some Python versions print out the first line of a multi-line function\u001B[39;00m\n\u001B[0;32m    199\u001B[0m \u001B[38;5;66;03m# calls in the traceback and some print out the last line\u001B[39;00m\n\u001B[1;32m--> 200\u001B[0m \u001B[43mVariable\u001B[49m\u001B[38;5;241;43m.\u001B[39;49m\u001B[43m_execution_engine\u001B[49m\u001B[38;5;241;43m.\u001B[39;49m\u001B[43mrun_backward\u001B[49m\u001B[43m(\u001B[49m\u001B[43m  \u001B[49m\u001B[38;5;66;43;03m# Calls into the C++ engine to run the backward pass\u001B[39;49;00m\n\u001B[0;32m    201\u001B[0m \u001B[43m    \u001B[49m\u001B[43mtensors\u001B[49m\u001B[43m,\u001B[49m\u001B[43m \u001B[49m\u001B[43mgrad_tensors_\u001B[49m\u001B[43m,\u001B[49m\u001B[43m \u001B[49m\u001B[43mretain_graph\u001B[49m\u001B[43m,\u001B[49m\u001B[43m \u001B[49m\u001B[43mcreate_graph\u001B[49m\u001B[43m,\u001B[49m\u001B[43m \u001B[49m\u001B[43minputs\u001B[49m\u001B[43m,\u001B[49m\n\u001B[0;32m    202\u001B[0m \u001B[43m    \u001B[49m\u001B[43mallow_unreachable\u001B[49m\u001B[38;5;241;43m=\u001B[39;49m\u001B[38;5;28;43;01mTrue\u001B[39;49;00m\u001B[43m,\u001B[49m\u001B[43m \u001B[49m\u001B[43maccumulate_grad\u001B[49m\u001B[38;5;241;43m=\u001B[39;49m\u001B[38;5;28;43;01mTrue\u001B[39;49;00m\u001B[43m)\u001B[49m\n",
      "\u001B[1;31mKeyboardInterrupt\u001B[0m: "
     ]
    }
   ],
   "source": [
    "epoch_samples_wgan = []\n",
    "lambda_gp = 10.0\n",
    "num_epochs = 100\n",
    "torch.manual_seed(1)\n",
    "critic_iterations = 5\n",
    "save_interval = 5\n",
    "checkpoint_path = 'Textual_WGAN_GP_checkpoint_epoch_{}.pth'\n",
    "final_model_path = 'Textual_WGAN_GP_model_final.pth'\n",
    "\n",
    "for epoch in range(1, num_epochs+1):\n",
    "    gen_model.train()\n",
    "    d_losses, g_losses = [], []\n",
    "    for i, (x, t) in enumerate(trainloader):\n",
    "        print(\"T:\", x)\n",
    "        for _ in range(critic_iterations):\n",
    "            d_loss = d_train_wgan(x, t)\n",
    "            print(\"D Loss:\", d_loss)\n",
    "        d_losses.append(d_loss)\n",
    "        g_losses.append(g_train_wgan(x, t))\n",
    "\n",
    "    print(f'Epoch {epoch:03d} | D Loss >>'\n",
    "          f' {torch.FloatTensor(d_losses).mean():.4f}')\n",
    "    print(f'Epoch {epoch:03d} | G Loss >>'\n",
    "          f' {torch.FloatTensor(g_losses).mean():.4f}')\n",
    "\n",
    "        # Save checkpoints at regular intervals\n",
    "    if epoch % save_interval == 0:\n",
    "        torch.save({\n",
    "            'epoch': epoch,\n",
    "            'gen_model_state_dict': gen_model.state_dict(),\n",
    "            'optimizer_state_dict': g_optimizer.state_dict(),\n",
    "            'd_losses': d_losses,\n",
    "            'g_losses': g_losses,\n",
    "        }, checkpoint_path.format(epoch))\n",
    "\n",
    "\n",
    "    '''\n",
    "    gen_model.eval()\n",
    "    epoch_samples_wgan.append(\n",
    "        create_samples(gen_model, fixed_z, t).detach().cpu().numpy())\n",
    "    '''"
   ],
   "metadata": {
    "collapsed": false
   }
  },
  {
   "cell_type": "code",
   "execution_count": null,
   "outputs": [],
   "source": [
    "# Save the final model after training is complete\n",
    "torch.save({\n",
    "    'epoch': num_epochs,\n",
    "    'gen_model_state_dict': gen_model.state_dict(),\n",
    "    'optimizer_state_dict': g_optimizer.state_dict(),\n",
    "    'd_losses': d_losses,\n",
    "    'g_losses': g_losses,\n",
    "}, final_model_path)"
   ],
   "metadata": {
    "collapsed": false
   }
  },
  {
   "cell_type": "code",
   "execution_count": null,
   "outputs": [],
   "source": [],
   "metadata": {
    "collapsed": false
   }
  }
 ],
 "metadata": {
  "kernelspec": {
   "display_name": "Python 3",
   "language": "python",
   "name": "python3"
  },
  "language_info": {
   "codemirror_mode": {
    "name": "ipython",
    "version": 2
   },
   "file_extension": ".py",
   "mimetype": "text/x-python",
   "name": "python",
   "nbconvert_exporter": "python",
   "pygments_lexer": "ipython2",
   "version": "2.7.6"
  }
 },
 "nbformat": 4,
 "nbformat_minor": 0
}
