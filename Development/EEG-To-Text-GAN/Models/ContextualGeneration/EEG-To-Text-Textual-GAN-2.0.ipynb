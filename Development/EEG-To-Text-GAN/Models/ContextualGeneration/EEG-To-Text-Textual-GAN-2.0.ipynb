{
 "cells": [
  {
   "cell_type": "code",
   "execution_count": 1,
   "metadata": {
    "collapsed": true,
    "ExecuteTime": {
     "start_time": "2024-03-05T09:53:08.735254Z",
     "end_time": "2024-03-05T09:53:27.787045Z"
    }
   },
   "outputs": [
    {
     "name": "stderr",
     "output_type": "stream",
     "text": [
      "[nltk_data] Downloading package punkt to\n",
      "[nltk_data]     C:\\Users\\gxb18167\\AppData\\Roaming\\nltk_data...\n",
      "[nltk_data]   Package punkt is already up-to-date!\n"
     ]
    }
   ],
   "source": [
    "import sys\n",
    "import nltk\n",
    "import torch.nn.functional as F\n",
    "import torch\n",
    "import torch.nn as nn\n",
    "import numpy as np\n",
    "from sklearn.preprocessing import MinMaxScaler\n",
    "import torch\n",
    "nltk.download('punkt')\n",
    "from gensim.models import Word2Vec\n",
    "from nltk.tokenize import word_tokenize\n",
    "sys.path.insert(0, '..')\n",
    "import pickle\n",
    "from torch.autograd import grad as torch_grad\n",
    "\n"
   ]
  },
  {
   "cell_type": "code",
   "execution_count": 2,
   "outputs": [
    {
     "name": "stdout",
     "output_type": "stream",
     "text": [
      "2.0.1\n",
      "GPU Available: False\n"
     ]
    }
   ],
   "source": [
    "print(torch.__version__)\n",
    "print(\"GPU Available:\", torch.cuda.is_available())\n",
    "\n",
    "if torch.cuda.is_available():\n",
    "    device = torch.device(\"cuda:0\")\n",
    "else:\n",
    "    device = \"cpu\""
   ],
   "metadata": {
    "collapsed": false,
    "ExecuteTime": {
     "start_time": "2024-03-05T09:53:27.808103Z",
     "end_time": "2024-03-05T09:53:27.822903Z"
    }
   }
  },
  {
   "cell_type": "code",
   "execution_count": 3,
   "outputs": [],
   "source": [
    "batch_size = 64\n",
    "word_embedding_dim = 50\n",
    "output_shape = (1, 105, 8)\n",
    "torch.manual_seed(1)\n",
    "np.random.seed(1)"
   ],
   "metadata": {
    "collapsed": false,
    "ExecuteTime": {
     "start_time": "2024-03-05T09:56:33.260488Z",
     "end_time": "2024-03-05T09:56:33.307719Z"
    }
   }
  },
  {
   "cell_type": "code",
   "execution_count": 10,
   "outputs": [],
   "source": [
    "\n",
    "# To load the lists from the file:\n",
    "with open(r\"C:\\Users\\gxb18167\\PycharmProjects\\EEG-To-Text\\SIGIR_Development\\EEG-GAN\\EEG_Text_Pairs.pkl\", 'rb') as file:\n",
    "    EEG_word_level_embeddings = pickle.load(file)\n",
    "    EEG_word_level_labels = pickle.load(file)"
   ],
   "metadata": {
    "collapsed": false,
    "ExecuteTime": {
     "start_time": "2024-03-05T10:21:39.245489Z",
     "end_time": "2024-03-05T10:21:46.050224Z"
    }
   }
  },
  {
   "cell_type": "code",
   "execution_count": 34,
   "outputs": [
    {
     "data": {
      "text/plain": "array([[0.19429664, 0.17923741, 0.36307213, 0.50747943, 0.62206709,\n        0.51871073, 0.42868289, 0.06850591],\n       [0.28140983, 0.57861644, 1.08024967, 0.36859021, 0.36467823,\n        0.41722685, 1.14768839, 0.55932534],\n       [0.4871715 , 0.79681689, 0.51210332, 0.40454227, 0.55180544,\n        0.43953407, 0.75510144, 0.38622764],\n       [0.43004686, 0.29673383, 0.3575944 , 0.36961138, 0.3506383 ,\n        0.85081506, 1.26278675, 0.41491231],\n       [0.3718234 , 0.45663175, 0.42179471, 1.03561676, 0.85461956,\n        0.43418464, 0.46566522, 0.33808869],\n       [0.49680769, 0.46951395, 0.50899029, 0.15184164, 1.6930244 ,\n        0.76735342, 0.57302761, 0.94475245],\n       [0.7187323 , 1.07659662, 0.72896671, 1.66536224, 1.39709103,\n        1.28687668, 1.10441923, 1.43177247],\n       [1.32517946, 1.66541123, 1.60669196, 1.8083328 , 1.39522731,\n        1.99193358, 1.38413417, 1.54831302],\n       [1.34435618, 1.0585711 , 0.49228552, 1.85182977, 1.85807848,\n        1.41647136, 1.35392964, 1.03962433],\n       [0.85793865, 2.1952467 , 2.17580271, 2.02598214, 1.63932216,\n        1.00376701, 1.78744721, 1.96237218],\n       [1.51004064, 1.01614249, 1.20013535, 1.12757885, 0.83896005,\n        0.99863309, 0.65768403, 0.33150849],\n       [0.16545779, 0.56242204, 1.09004402, 0.59104663, 0.56140357,\n        0.38477388, 0.60919583, 0.58260262],\n       [0.59866726, 0.35624093, 0.37161309, 0.18472035, 0.93358988,\n        0.49549541, 0.34883159, 0.24064931],\n       [0.        , 0.11746544, 0.10126594, 0.19900732, 0.56371886,\n        0.51361769, 0.25063437, 0.21132156],\n       [0.2674548 , 0.64626527, 0.69417387, 0.52683413, 0.45739323,\n        0.66364819, 0.28152373, 1.24307883],\n       [0.25156739, 0.65244114, 0.80059183, 0.39105976, 0.31309423,\n        0.24711452, 0.1320492 , 0.12875493],\n       [0.47954136, 0.27160987, 0.33025077, 0.54145515, 0.5096038 ,\n        0.70510417, 0.32523268, 0.33796319],\n       [0.64133495, 0.64474195, 0.64546949, 0.84770972, 1.54834962,\n        0.72048897, 0.79599148, 0.86013258],\n       [0.8353889 , 1.0517962 , 1.03803444, 1.08315039, 0.79714715,\n        1.25508237, 0.64749807, 1.29644132],\n       [1.5528599 , 1.42466891, 1.54781532, 1.53108943, 2.31397605,\n        1.94069076, 2.11611652, 1.82712317],\n       [2.28054881, 2.01836252, 2.88369226, 2.86676717, 2.74948168,\n        3.8042841 , 3.45636082, 2.36233735],\n       [2.15728211, 1.61640394, 1.02988172, 0.348952  , 3.30559635,\n        2.71191645, 1.76745474, 1.54356456],\n       [1.19374692, 0.59915674, 2.67667937, 2.27182531, 1.83685148,\n        1.61441469, 0.90830779, 1.76421607],\n       [1.75723243, 1.35989404, 1.04300892, 1.12644267, 1.15656269,\n        0.95784736, 0.63599753, 0.40361917],\n       [0.29762539, 0.16980334, 0.88263881, 0.4213168 , 0.35124317,\n        0.25572291, 0.37660599, 0.34125811],\n       [0.48567793, 0.30326262, 0.16436967, 0.39058909, 0.07311784,\n        0.42259753, 0.36659637, 0.13027279],\n       [0.24313936, 0.        , 0.0627723 , 0.05697965, 0.09524334,\n        0.38884082, 0.42019993, 0.37387085],\n       [0.25323433, 0.27647436, 0.36458769, 0.22138722, 0.82578456,\n        0.16551539, 0.31764698, 0.39041185],\n       [0.58391857, 0.2744537 , 0.30492166, 0.34178537, 0.3737596 ,\n        0.64316934, 0.32551724, 0.30886975],\n       [0.2470257 , 0.60605925, 0.71501625, 0.47388127, 0.61041754,\n        0.66048527, 0.73176259, 0.5679028 ],\n       [0.21385829, 0.67931652, 0.72097564, 0.68901145, 0.87510699,\n        0.89589679, 0.56131005, 0.80227727],\n       [0.8390792 , 0.8914637 , 1.1283468 , 1.08463717, 1.05924582,\n        1.27576113, 1.5446943 , 0.72762072],\n       [1.29906833, 1.69724035, 1.48198283, 1.65169656, 1.62396359,\n        2.07624197, 2.61354661, 2.15009594],\n       [1.82007003, 1.95553815, 1.92441297, 2.67668605, 2.37877011,\n        2.1758275 , 3.37342572, 2.48944044],\n       [1.57684028, 1.51049185, 1.13730919, 0.70119154, 0.17825857,\n        2.08928847, 1.54913878, 0.91702014],\n       [0.80856246, 0.58550948, 0.16840975, 1.29128003, 1.09995687,\n        0.89561868, 0.80072439, 0.49507588],\n       [0.81740558, 0.8233099 , 0.73927027, 0.58322036, 0.55833942,\n        0.61722332, 0.53431219, 0.27899301],\n       [0.17681956, 0.12685685, 0.21565308, 0.49346381, 0.20605224,\n        0.13006328, 0.27188852, 0.45336917],\n       [0.09899369, 0.23279501, 0.11185898, 0.09550075, 0.40307486,\n        0.10210748, 0.41342059, 0.14448562],\n       [0.14306609, 0.22949034, 0.        , 0.08935328, 0.13098077,\n        0.15256925, 0.28917587, 0.28058133],\n       [0.48024836, 0.2604633 , 0.39272356, 0.39256307, 0.22799487,\n        0.95230901, 0.21068433, 0.34622732],\n       [0.33321884, 0.52616239, 0.19766425, 0.42045936, 0.67498016,\n        0.38077077, 0.5536257 , 0.19288616],\n       [0.28249294, 0.34763992, 0.78429639, 0.94727975, 0.4693332 ,\n        0.87175912, 0.95149159, 1.01708412],\n       [0.61673707, 1.19769597, 1.01375997, 1.08499384, 0.89439988,\n        1.13592196, 1.08831346, 1.16368461],\n       [1.19854569, 1.21231508, 1.33801949, 1.59529662, 1.53586411,\n        1.40446055, 1.67178655, 1.99292505],\n       [0.96903765, 1.81730187, 2.20473695, 1.95826292, 2.20493793,\n        2.55246043, 3.16379571, 3.8951118 ],\n       [2.50178981, 2.32893062, 2.26678419, 2.31669331, 3.01368093,\n        2.86739779, 3.02949095, 3.84680271],\n       [3.30820441, 2.26366496, 2.20002913, 1.66061735, 0.9698118 ,\n        0.22210839, 2.76955748, 1.99512494],\n       [1.07421517, 0.95839953, 0.73535603, 0.12348397, 1.80220401,\n        1.40519059, 1.16919398, 0.69142383],\n       [0.5182268 , 1.06764102, 0.99829203, 0.6726231 , 0.59622234,\n        0.60885245, 0.63586766, 0.53548616],\n       [0.27594945, 0.27980852, 0.21590224, 0.11749791, 0.54162449,\n        0.31859297, 0.17595203, 0.186616  ],\n       [0.1964795 , 0.11513498, 0.17626157, 0.15782279, 0.11989577,\n        0.15398829, 0.12537345, 0.72193015],\n       [0.1475011 , 0.14445215, 0.11842754, 0.        , 0.0776927 ,\n        0.07667372, 0.23580003, 0.4004364 ],\n       [0.32996789, 0.35279492, 0.34191319, 0.39225772, 0.46098769,\n        0.30296734, 0.76001269, 0.22446841],\n       [0.40109035, 0.51805031, 1.12903798, 0.42180762, 0.46817321,\n        0.32926095, 0.66391808, 0.80769104],\n       [0.45984504, 0.40355241, 0.4283556 , 0.64731568, 0.8382079 ,\n        0.53849703, 0.87126213, 0.87512517],\n       [0.98310316, 0.47067431, 2.16695356, 1.00578165, 1.07420897,\n        0.85831076, 1.14439452, 1.51572621],\n       [1.25751913, 1.26236272, 1.23957181, 1.37550306, 1.73445892,\n        1.654863  , 1.44727623, 1.56029582],\n       [1.9707799 , 0.98847145, 1.97679579, 2.49445486, 2.15463471,\n        2.29036951, 2.65667939, 3.57981324],\n       [4.6540451 , 2.74728751, 2.55266929, 2.31265306, 2.66140628,\n        3.33099866, 3.03499532, 3.31987596],\n       [4.19103575, 3.49137187, 2.14447808, 2.28612661, 1.69799018,\n        0.98393101, 0.2099424 , 2.42763615],\n       [1.8115598 , 1.00127161, 0.74779779, 0.62292755, 0.16178277,\n        1.41880393, 1.25629389, 1.20176196],\n       [0.63342178, 0.47700614, 0.87300134, 0.92917258, 0.62648398,\n        0.51395077, 0.4494321 , 0.52993947],\n       [0.31436262, 0.35785526, 0.31394038, 0.13876189, 0.15444927,\n        0.20504715, 0.43005481, 0.19362552],\n       [0.16023998, 0.2267731 , 0.2487952 , 0.12123814, 0.17316464,\n        0.07713211, 0.24748833, 0.25297523],\n       [0.79171121, 0.08845229, 0.10880291, 0.15524958, 0.        ,\n        0.16326536, 0.27563894, 0.6194306 ],\n       [0.51405823, 0.60220605, 0.60956967, 0.40883198, 0.55775583,\n        0.81893855, 0.7910127 , 1.24803233],\n       [0.34006792, 0.61827791, 0.78645575, 2.49658751, 0.49249205,\n        0.72479683, 1.22209048, 0.74667877],\n       [0.86374724, 0.58740693, 0.49174979, 0.76166916, 0.74571383,\n        0.9282456 , 0.73230535, 1.03793776],\n       [0.98817831, 1.05166101, 0.9206003 , 1.5125258 , 1.257743  ,\n        1.18992484, 1.16003788, 1.29906166],\n       [1.51933718, 0.92134166, 1.416888  , 1.36380148, 1.39267588,\n        1.75507736, 1.65980589, 1.55383658],\n       [1.62276196, 1.89624548, 1.03080428, 2.01230907, 2.53129578,\n        2.18125463, 2.38319707, 2.7395699 ],\n       [4.35059977, 4.24411011, 3.16241217, 2.75258517, 3.01904583,\n        3.01733136, 4.37984562, 4.09342289],\n       [4.34341097, 7.04167891, 4.99322653, 3.4063108 , 3.19606352,\n        2.23245382, 1.22374427, 0.3120349 ],\n       [5.14470673, 3.29853368, 1.72890878, 1.44278467, 0.89754111,\n        0.31324959, 3.07151175, 2.07435131],\n       [1.50876915, 0.99030387, 0.66635209, 1.54427099, 1.26522148,\n        0.93775141, 0.76161152, 0.81817544],\n       [0.81659812, 0.59454304, 0.41794932, 0.28146744, 0.18921551,\n        0.2824612 , 0.59604263, 0.5317781 ],\n       [0.18163885, 0.29154414, 0.42690054, 0.4089497 , 0.31432384,\n        0.18956168, 0.1851498 , 0.47369954],\n       [0.19286203, 0.83708131, 0.26645425, 0.22010741, 0.39556324,\n        0.        , 0.13122937, 0.15754755],\n       [0.39733821, 0.35792714, 0.3436611 , 0.38049564, 0.36688551,\n        0.31642607, 0.64107043, 0.68555146],\n       [0.72274995, 0.26191708, 0.60066819, 0.35747415, 2.65271735,\n        0.41266429, 0.60668206, 1.0283525 ],\n       [0.55024213, 0.47918615, 0.41910225, 0.40215603, 0.84146655,\n        0.57270306, 0.56216466, 0.32009473],\n       [0.50601083, 0.49373958, 0.59821796, 0.67231637, 0.8467626 ,\n        0.60697782, 0.54209942, 0.50346637],\n       [0.60799319, 1.18680561, 0.86492705, 0.62982953, 0.60255033,\n        0.63387644, 0.89588523, 0.81493115],\n       [0.7725268 , 0.89169496, 1.4655422 , 0.78556758, 1.27870429,\n        1.69591916, 1.46439099, 1.7184577 ],\n       [2.1192534 , 3.34446836, 2.77360535, 2.6096108 , 2.27734876,\n        2.76202416, 2.78433084, 4.27245092],\n       [3.88306022, 3.88847589, 6.85496426, 4.64197063, 3.19089532,\n        2.824754  , 1.82778621, 1.00692785],\n       [0.2687825 , 4.76968622, 3.133425  , 1.88821042, 1.37159312,\n        0.79386687, 0.37659729, 2.68240047],\n       [2.01443219, 1.50773561, 1.0057919 , 0.6744107 , 1.45615458,\n        1.32653677, 1.00633442, 0.7182762 ],\n       [0.85666806, 0.80604893, 0.55547607, 0.53481209, 0.28383011,\n        0.14955568, 0.18520029, 0.47147158],\n       [0.67200285, 0.25013053, 0.22748443, 0.31855643, 0.34483942,\n        0.32056004, 0.25280043, 0.15860438],\n       [0.32657385, 0.11982821, 0.66657382, 0.24928835, 0.15585279,\n        0.28996572, 0.        , 0.11760469],\n       [0.12971182, 0.3427892 , 0.47664735, 0.53996003, 0.3959482 ,\n        0.28523371, 0.31711376, 0.70171618],\n       [0.88959998, 0.81799889, 0.27700713, 0.57339948, 0.19493614,\n        2.36613226, 0.44191733, 0.48554659],\n       [0.8163929 , 0.66971809, 0.4582639 , 0.33458713, 0.39971048,\n        0.52902794, 0.43116486, 0.59861308],\n       [0.36953083, 0.45748368, 0.46071932, 0.47367403, 0.58289534,\n        0.85238993, 0.5080815 , 0.51144838],\n       [0.51077604, 0.68262345, 0.72024047, 0.5900889 , 0.57259613,\n        0.61811024, 0.65222621, 0.87630558],\n       [0.85921854, 0.90581322, 1.05561709, 1.21313262, 0.64370209,\n        1.13557971, 1.55091512, 1.27894974],\n       [1.61882377, 1.7296263 , 3.06615019, 2.23867917, 2.56748343,\n        2.20772934, 2.81141067, 2.75817013],\n       [4.25048113, 3.93606114, 3.7316606 , 7.12362146, 4.62966585,\n        3.21862888, 2.71731853, 1.68109119],\n       [0.84429091, 0.17814565, 4.93516445, 3.18138146, 1.99665082,\n        1.42389143, 0.79357582, 0.33012709],\n       [2.67582083, 1.93110037, 1.31264865, 0.97486514, 0.52712578,\n        1.40346456, 1.17180872, 0.87830997],\n       [0.61200547, 0.87206084, 0.7754631 , 0.63741273, 0.35044765,\n        0.17456187, 0.10144258, 0.23270136],\n       [0.65051132, 0.34199569, 0.15276547, 0.2724399 , 0.46526954,\n        0.25869009, 0.30746511, 0.13128608],\n       [0.14119881, 0.36001745, 0.12291785, 0.51418555, 0.17319265,\n        0.17412905, 0.32396767, 0.        ]])"
     },
     "execution_count": 34,
     "metadata": {},
     "output_type": "execute_result"
    }
   ],
   "source": [
    "EEG_word_level_embeddings[0] # 105 x 8 EEG signals relating to words"
   ],
   "metadata": {
    "collapsed": false,
    "ExecuteTime": {
     "start_time": "2024-03-05T10:29:48.136689Z",
     "end_time": "2024-03-05T10:29:48.211018Z"
    }
   }
  },
  {
   "cell_type": "code",
   "execution_count": 35,
   "outputs": [
    {
     "data": {
      "text/plain": "['Presents',\n 'a',\n 'case',\n 'while',\n 'to',\n 'provide',\n 'a',\n 'reason',\n 'to',\n 'care',\n 'beyond',\n 'very',\n 'basic',\n 'dictums',\n 'of',\n 'human',\n 'decency.',\n 'Beautifully',\n 'crafted,',\n 'engaging',\n 'filmmaking',\n 'that',\n 'should',\n 'attract',\n 'upscale',\n 'audiences',\n 'hungry',\n 'quality',\n 'a',\n 'nostalgic,',\n 'twisty',\n 'yarn',\n 'will',\n 'keep',\n 'them',\n 'guessing.',\n 'Bread,',\n 'My',\n 'Sweet',\n 'has',\n 'so',\n 'many',\n 'flaws',\n 'would',\n 'easy',\n 'critics',\n 'to',\n 'shred',\n 'Slow,',\n 'silly',\n 'and',\n 'unintentionally',\n 'hilarious.',\n 'Ultimately',\n 'feels',\n 'emp11111ty',\n 'and',\n 'unsatisfying,',\n 'like',\n 'Communion',\n 'wafer',\n 'without',\n 'wine.',\n 'Exudes',\n 'the',\n 'Busby',\n 'Berkeley',\n 'musical',\n 'and',\n 'visceral',\n 'excitement',\n 'of',\n 'sports',\n 'extravaganza.',\n 'The',\n 'film',\n 'rehashes',\n 'several',\n 'old',\n 'themes',\n 'and',\n 'capped',\n 'with',\n 'pointless',\n 'extremes',\n \"it's\",\n 'insanely',\n 'violent',\n 'and',\n 'very',\n 'graphic.',\n 'Ryan',\n 'Gosling',\n 'is,',\n 'word,',\n 'conflicted',\n 'Daniel.',\n 'If',\n 'Deuces',\n 'had',\n 'been',\n 'tweaked',\n 'up',\n 'a',\n 'notch',\n 'have',\n 'become',\n 'a',\n 'camp',\n 'adventure,',\n 'one',\n 'those',\n 'movies',\n \"that's\",\n 'so',\n 'it',\n 'starts',\n 'become',\n 'good.',\n \"film's\",\n 'stagecrafts',\n 'are',\n 'intimate',\n 'and',\n 'therefore',\n 'bolder',\n 'the',\n 'otherwise',\n 'calculated',\n 'artifice',\n 'defines',\n 'and',\n 'overwhelms',\n 'the',\n \"film's\",\n 'production',\n 'design.',\n 'Frida',\n 'is',\n 'certainly',\n 'no',\n 'but',\n 'neither',\n 'is',\n 'Kahlo',\n 'movie',\n 'Frida',\n 'fans',\n 'been',\n 'looking',\n 'The',\n 'film',\n 'often',\n 'achieves',\n 'a',\n 'mesmerizing',\n 'poetry.',\n 'work',\n 'of',\n 'astonishing',\n 'delicacy',\n 'and',\n 'force.',\n 'The',\n \"movie's\",\n 'is',\n 'almost',\n 'entirely',\n 'witless',\n 'and',\n 'inane,',\n 'carrying',\n 'every',\n 'gag',\n 'two',\n 'or',\n 'three',\n 'times',\n 'beyond',\n 'limit',\n 'sustain',\n 'a',\n 'For',\n 'most',\n 'the',\n 'ingredients',\n 'are',\n 'there.',\n 'But',\n \"you've\",\n 'paid',\n 'matinee',\n 'price',\n 'and',\n 'a',\n 'big',\n 'of',\n 'popcorn,',\n \"there's\",\n 'guilty',\n 'fun',\n 'to',\n 'had',\n \"There's\",\n 'much',\n 'Fatale,',\n 'outside',\n 'of',\n 'its',\n 'stylish',\n 'surprises...',\n 'but',\n \"that's\",\n 'acting',\n 'the',\n 'story',\n 'lacks',\n 'all',\n 'trace',\n 'of',\n 'the',\n 'sets',\n 'look',\n 'they',\n 'borrowed',\n 'from',\n \"Gilligan's\",\n 'Island',\n 'and',\n 'CGI',\n 'Scooby',\n 'might',\n 'be',\n 'worst',\n 'special-effects',\n 'creation',\n 'the',\n 'year.',\n 'This',\n 'version',\n 'moves',\n 'beyond',\n \"original's\",\n 'for',\n 'communal',\n 'film',\n 'experiences',\n 'yesteryear',\n 'deeper',\n 'realization',\n \"cinema's\",\n 'inability',\n 'stand',\n 'in',\n 'for',\n 'lived',\n 'experience.',\n \"There's\",\n 'no',\n 'palpable',\n 'chemistry',\n 'between',\n 'Lopez',\n 'and',\n 'male',\n 'lead',\n 'Ralph',\n 'Fiennes,',\n 'plus',\n 'script',\n 'by',\n 'Working',\n 'Girl',\n 'scribe',\n 'Kevin',\n 'Wade',\n 'is',\n 'workmanlike',\n 'in',\n 'the',\n 'extreme.',\n 'A',\n 'first-class,',\n 'thoroughly',\n 'involving',\n 'movie',\n 'effectively',\n 'combines',\n 'two',\n 'surefire,',\n 'beloved',\n 'genres',\n 'the',\n 'flick',\n 'and',\n 'fight',\n 'The',\n 'film',\n 'so',\n 'bad',\n \"doesn't\",\n 'improve',\n 'experience',\n 'staring',\n 'at',\n 'a',\n 'blank',\n 'Weiss',\n 'Speck',\n 'never',\n 'make',\n 'convincing',\n 'case',\n 'relevance',\n 'these',\n 'two',\n '20th-century',\n 'footnotes.',\n 'Another',\n 'Best',\n 'of',\n 'the',\n 'selection.',\n \"It's\",\n 'all',\n 'a',\n 'rather',\n 'shapeless',\n 'good',\n 'time...',\n 'Same',\n 'song,',\n 'second',\n 'verse,',\n 'coulda',\n 'been',\n 'but',\n 'coulda',\n 'been',\n 'love',\n 'robust',\n 'middle',\n 'of',\n 'this',\n 'picture.',\n 'not',\n 'vintage',\n 'Spielberg',\n 'and',\n 'finally,',\n 'is',\n 'satisfying.',\n 'The',\n 'soundtrack',\n 'alone',\n 'is',\n 'worth',\n 'the',\n 'of',\n 'Mostly',\n 'Martha',\n 'could',\n 'have',\n 'used',\n 'little',\n 'trimming',\n '10',\n '15',\n 'minutes',\n 'could',\n 'and',\n 'one',\n 'notice',\n \"it's\",\n 'a',\n 'pleasurable',\n 'For',\n 'rest',\n 'us,',\n 'sitting',\n 'through',\n \"Dahmer's\",\n 'two',\n 'amounts',\n 'to',\n 'more',\n 'than',\n 'punishment.',\n 'Featuring',\n 'a',\n 'dangerously',\n 'seductive',\n 'performance',\n 'from',\n 'great',\n 'Daniel',\n 'Auteuil,',\n \"``Sade''\",\n 'covers',\n 'same',\n 'period',\n \"Kaufmann's\",\n \"``Quills''\",\n 'with',\n 'more',\n 'unsettlingly',\n 'realistic',\n 'results.',\n 'The',\n 'movie',\n 'fans',\n 'who',\n \"can't\",\n 'stop',\n 'loving',\n 'anime,',\n 'and',\n 'fanatical',\n 'excess',\n 'built',\n 'The',\n 'is',\n 'worth',\n 'a',\n 'you',\n \"don't\",\n 'demand',\n 'much',\n 'than',\n 'few',\n 'cheap',\n 'from',\n 'Halloween',\n 'entertainment.',\n 'Beautifully',\n 'observed,',\n 'miraculously',\n 'unsentimental',\n 'comedy-drama.',\n 'What',\n 'makes',\n 'I',\n 'My',\n 'Father',\n 'compelling,',\n 'besides',\n 'terrific',\n 'performances,',\n 'is',\n \"Fontaine's\",\n 'willingness',\n 'to',\n 'wander',\n 'the',\n 'areas',\n 'parent-child',\n 'relationships',\n 'without',\n 'flinching.',\n 'This',\n 'hastily',\n 'mounted',\n 'production',\n 'exists',\n 'only',\n 'to',\n 'capitalize',\n \"Hopkins'\",\n 'inclination',\n 'to',\n 'Hannibal',\n 'again,',\n 'even',\n 'though',\n 'Harris',\n 'has',\n 'immediate',\n 'inclination',\n 'provide',\n 'fourth',\n 'book.',\n \"Bullock's\",\n 'complete',\n 'lack',\n 'focus',\n 'and',\n 'quickly',\n 'derails',\n 'the',\n 'film.1',\n '...',\n 'a',\n 'plotline',\n \"that's\",\n 'as',\n 'lumpy',\n 'as',\n 'two-day',\n 'porridge...',\n 'the',\n \"filmmakers'\",\n 'paws,',\n 'to',\n 'all',\n \"``un-bear-able''\",\n 'project!',\n 'Crush',\n 'could',\n 'be',\n 'the',\n 'worst',\n 'a',\n 'made',\n 'about',\n 'since',\n 'the',\n 'Reassuring,',\n 'retro',\n 'uplifter.',\n 'Flaccid',\n 'drama',\n 'and',\n 'exasperatingly',\n 'slow',\n 'journey.',\n 'The',\n 'Movie',\n 'will',\n 'reach',\n 'far',\n 'beyond',\n 'its',\n 'core',\n 'demographic.',\n 'How',\n 'it',\n 'ever',\n 'get',\n 'the',\n 'new',\n 'footage',\n 'and',\n 'still',\n 'love',\n 'old',\n 'It',\n 'briefly',\n 'flirts',\n 'with',\n 'player',\n 'masochism,',\n 'the',\n 'point',\n 'real',\n 'audience',\n 'is',\n 'evaded',\n 'completely.',\n 'Could',\n 'The',\n 'Country',\n 'Bears',\n 'really',\n 'be',\n 'as',\n 'bad',\n 'its',\n 'trailers?',\n 'times,',\n 'the',\n 'movie',\n 'looks',\n 'genuinely',\n 'pretty.',\n 'It',\n 'depends',\n 'on',\n 'well',\n 'flatulence',\n 'gags',\n 'fit',\n 'into',\n 'your',\n 'holiday',\n 'The',\n 'stupidest,',\n 'most',\n 'insulting',\n 'movie',\n 'of',\n \"2002's\",\n 'quarter.',\n 'film',\n 'seems',\n 'dead',\n 'weight.',\n 'Sparkling,',\n 'often',\n 'hilarious',\n 'romantic',\n 'jealousy',\n 'comedy...',\n 'Attal',\n 'looks',\n 'so',\n 'like',\n 'young',\n 'Robert',\n 'DeNiro',\n 'seems',\n 'should',\n 'instead',\n 'called',\n 'Husband',\n 'Is',\n 'Travis',\n \"Bickle'.\",\n 'did',\n 'back',\n 'check',\n 'out',\n 'last',\n 'minutes,',\n 'but',\n 'these',\n 'more',\n 'repulsive',\n 'the',\n 'first',\n 'or',\n 'minutes.',\n 'lousy',\n 'movie',\n 'not',\n 'merely',\n 'unwatchable,',\n 'also',\n 'unlistenable.',\n 'One',\n 'the',\n 'films',\n 'the',\n 'with',\n 'exploration',\n 'of',\n 'obstacles',\n 'happiness',\n 'faced',\n 'five',\n 'contemporary',\n 'individuals...',\n 'psychological',\n 'masterpiece.',\n 'strong',\n 'script,',\n 'powerful',\n 'direction',\n 'splendid',\n 'production',\n 'design',\n 'allows',\n 'be',\n 'transported',\n 'into',\n 'life',\n 'Wladyslaw',\n 'Szpilman,',\n 'is',\n 'only',\n 'pianist,',\n 'good',\n 'human',\n 'being.',\n 'But',\n \"here's\",\n 'the',\n 'real',\n 'damn:',\n \"isn't\",\n 'funny,',\n 'either.',\n 'Qutting',\n 'may',\n 'a',\n 'flawed',\n 'but',\n 'nothing',\n 'if',\n 'sincere.',\n \"It's\",\n 'a',\n 'fanboy',\n '`what',\n \"if?'\",\n 'something',\n 'appears',\n 'have',\n 'been',\n 'lost',\n 'translation',\n 'this',\n 'time.',\n 'Like',\n 'a',\n 'documentary',\n 'version',\n 'Fight',\n 'Club,',\n 'shorn',\n 'of',\n 'social',\n 'insight,',\n 'intellectual',\n 'and',\n 'cinematic',\n 'interest.',\n 'Stephen',\n 'Rea,',\n 'Aidan',\n 'Quinn,',\n 'Alan',\n 'Bates',\n 'play',\n \"Desmond's\",\n 'legal',\n 'eagles,',\n 'and',\n 'when',\n 'joined',\n 'Brosnan,',\n 'sight',\n 'of',\n 'grandiloquent',\n 'quartet',\n 'lolling',\n 'pretty',\n 'Irish',\n 'settings',\n 'a',\n 'pleasant',\n 'enough',\n 'thing,',\n '`tis.',\n \"It's\",\n 'a',\n 'powerful',\n 'though',\n 'flawed',\n 'movie,',\n 'guaranteed',\n 'put',\n 'lump',\n 'in',\n 'throat',\n 'reaffirming',\n 'Washington',\n 'possibly',\n 'best',\n 'actor',\n 'working',\n 'in',\n 'movies',\n 'intriguing',\n 'entertaining',\n 'introduction',\n 'Johnson.',\n 'Everything',\n 'was',\n 'superficial',\n 'the',\n 'forced',\n 'New',\n 'Jersey',\n 'lowbrow',\n 'accent',\n 'Uma',\n 'had.',\n 'Despite',\n 'holes',\n 'the',\n 'story',\n 'and',\n 'the',\n 'somewhat',\n 'predictable',\n 'plot,',\n 'moments',\n 'the',\n 'movie',\n 'caused',\n 'to',\n 'jump',\n 'my',\n 'chair...',\n '`How',\n 'many',\n 'more',\n 'voyages',\n 'can',\n 'this',\n 'limping',\n 'but',\n 'dearly-loved',\n 'franchise',\n \"survive?'\",\n 'If',\n 'only',\n 'the',\n 'story',\n 'about',\n 'multi-million',\n 'dollar',\n 'con',\n 'bothered',\n 'to',\n 'include',\n 'the',\n 'con.',\n 'is',\n 'supremely',\n 'unfunny',\n 'unentertaining',\n 'watch',\n 'middle-age',\n 'older',\n 'men',\n 'drink',\n 'to',\n 'excess,',\n 'piss',\n 'trees,',\n 'b.s.',\n 'one',\n 'another',\n 'and',\n 'put',\n 'on',\n 'a',\n 'show',\n 'in',\n 'Only',\n 'few',\n 'minutes',\n 'elapse',\n 'before',\n 'daddy',\n 'all',\n 'slashers',\n 'arrives,',\n 'still',\n 'the',\n 'boiler',\n 'suit',\n 'white',\n 'which',\n 'look',\n 'remarkably',\n 'clean',\n 'guy',\n 'has',\n 'been',\n 'mass-murdering',\n 'since',\n '1978',\n 'has',\n 'never',\n 'seen',\n 'doing',\n 'laundry.',\n 'Showtime',\n 'one',\n 'the',\n 'hapless',\n 'victims',\n 'of',\n 'arrogant',\n '``if',\n 'we',\n 'put',\n 'together',\n 'wry',\n 'white',\n 'man',\n 'chatty',\n 'black',\n 'man',\n 'give',\n 'them',\n 'guns,',\n 'movie',\n 'will',\n \"funny''\",\n 'syndrome.',\n 'Whatever',\n 'heartwarming',\n 'scene',\n 'impressively',\n 'discreet',\n 'filmmakers',\n 'may',\n 'have',\n 'expected',\n 'record',\n 'their',\n 'mini',\n 'they',\n 'show',\n 'remarkable',\n 'ability',\n 'document',\n 'both',\n 'sides',\n 'emotional',\n 'car-wreck.',\n 'zombie',\n 'movie',\n 'every',\n 'the',\n 'mindless,',\n 'lifeless,',\n 'meandering,',\n 'loud,',\n 'painful,',\n 'obnoxious.',\n 'has',\n 'with',\n 'quirks',\n 'of',\n 'family',\n 'life,',\n 'also',\n 'the',\n 'subject',\n 'fondness',\n 'respect.',\n 'Novak',\n 'manages',\n 'capture',\n 'cruelly',\n 'hilarious',\n 'vein',\n 'of',\n 'black',\n 'comedy',\n 'the',\n 'situation',\n 'with',\n 'his',\n 'cast',\n 'of',\n 'non-actors',\n 'a',\n 'gritty,',\n 'no-budget',\n 'approach.',\n 'Since',\n 'Lee',\n 'is',\n 'sentimentalist,',\n 'film',\n 'is',\n 'worshipful',\n 'than',\n 'your',\n 'random',\n 'E!',\n 'movie',\n 'is',\n 'almost',\n 'completely',\n 'lacking',\n 'suspense,',\n 'surprise',\n 'consistent',\n 'emotional',\n 'conviction.',\n 'Crimes',\n 'knows',\n 'the',\n 'mistakes',\n 'that',\n 'bad',\n 'movies',\n 'make',\n 'is',\n 'determined',\n 'to',\n 'them,',\n 'maybe',\n 'is',\n 'nobility',\n 'sort.',\n \"it's\",\n 'too',\n 'long',\n 'too',\n 'convoluted',\n 'and',\n 'ends',\n 'a',\n ...]"
     },
     "execution_count": 35,
     "metadata": {},
     "output_type": "execute_result"
    }
   ],
   "source": [
    "EEG_word_level_labels"
   ],
   "metadata": {
    "collapsed": false,
    "ExecuteTime": {
     "start_time": "2024-03-05T10:30:20.196755Z",
     "end_time": "2024-03-05T10:30:20.280894Z"
    }
   }
  },
  {
   "cell_type": "code",
   "execution_count": 36,
   "outputs": [],
   "source": [
    "def create_word_label_embeddings(Word_Labels_List):\n",
    "    tokenized_words = []\n",
    "    for i in range(len(Word_Labels_List)):\n",
    "        tokenized_words.append([Word_Labels_List[i]])\n",
    "    model = Word2Vec(sentences=tokenized_words, vector_size=word_embedding_dim, window=5, min_count=1, workers=4)\n",
    "    word_embeddings = {word: model.wv[word] for word in model.wv.index_to_key}\n",
    "    print(\"Number of word embeddings:\", len(word_embeddings))\n",
    "    #word, embedding = list(word_embeddings.items())[10]\n",
    "    #print(f\"Word: {word}, Embedding: {embedding}\")\n",
    "\n",
    "    Embedded_Word_labels = []\n",
    "    for word in EEG_word_level_labels:\n",
    "        Embedded_Word_labels.append(word_embeddings[word])\n",
    "\n",
    "    return Embedded_Word_labels, word_embeddings\n",
    "\n",
    "def create_dataloader(EEG_word_level_embeddings, Embedded_Word_labels):\n",
    "    #EEG_word_level_embeddings_normalize = (EEG_word_level_embeddings - np.mean(EEG_word_level_embeddings)) / np.std(EEG_word_level_embeddings)\n",
    "\n",
    "    # Assuming EEG_synthetic is the generated synthetic EEG data\n",
    "    #EEG_synthetic_denormalized = (EEG_synthetic * np.max(np.abs(EEG_word_level_embeddings))) + np.mean(EEG_word_level_embeddings)\n",
    "\n",
    "    EEG_word_level_embeddings_normalize = (EEG_word_level_embeddings - np.mean(EEG_word_level_embeddings)) / np.max(np.abs(EEG_word_level_embeddings))\n",
    "\n",
    "\n",
    "    float_tensor = torch.tensor(EEG_word_level_embeddings_normalize, dtype=torch.float)\n",
    "    float_tensor = float_tensor.unsqueeze(1)\n",
    "\n",
    "    #print(EEG_word_level_embeddings_normalize)\n",
    "    # Calculate mean and standard deviation\n",
    "    print(torch.isnan(float_tensor).any())\n",
    "\n",
    "    train_data = []\n",
    "    for i in range(len(float_tensor)):\n",
    "       train_data.append([float_tensor[i], Embedded_Word_labels[i]])\n",
    "    trainloader = torch.utils.data.DataLoader(train_data, shuffle=True, batch_size=64)\n",
    "    return trainloader"
   ],
   "metadata": {
    "collapsed": false,
    "ExecuteTime": {
     "start_time": "2024-03-05T10:31:14.176523Z",
     "end_time": "2024-03-05T10:31:14.226406Z"
    }
   }
  },
  {
   "cell_type": "code",
   "execution_count": 37,
   "outputs": [
    {
     "name": "stdout",
     "output_type": "stream",
     "text": [
      "Number of word embeddings: 5860\n"
     ]
    }
   ],
   "source": [
    "Embedded_Word_labels, word_embeddings = create_word_label_embeddings(EEG_word_level_labels)"
   ],
   "metadata": {
    "collapsed": false,
    "ExecuteTime": {
     "start_time": "2024-03-05T10:31:15.405782Z",
     "end_time": "2024-03-05T10:31:18.187909Z"
    }
   }
  },
  {
   "cell_type": "code",
   "execution_count": 44,
   "outputs": [
    {
     "data": {
      "text/plain": "145247"
     },
     "execution_count": 44,
     "metadata": {},
     "output_type": "execute_result"
    }
   ],
   "source": [
    "len(EEG_word_level_embeddings)"
   ],
   "metadata": {
    "collapsed": false,
    "ExecuteTime": {
     "start_time": "2024-03-05T10:43:35.933405Z",
     "end_time": "2024-03-05T10:43:35.950582Z"
    }
   }
  },
  {
   "cell_type": "code",
   "execution_count": 45,
   "outputs": [],
   "source": [],
   "metadata": {
    "collapsed": false,
    "ExecuteTime": {
     "start_time": "2024-03-05T10:43:48.092814Z",
     "end_time": "2024-03-05T10:43:48.125879Z"
    }
   }
  },
  {
   "cell_type": "code",
   "execution_count": 41,
   "outputs": [
    {
     "name": "stdout",
     "output_type": "stream",
     "text": [
      "tensor(False)\n"
     ]
    }
   ],
   "source": [
    "trainloader = create_dataloader(EEG_word_level_embeddings, Embedded_Word_labels)"
   ],
   "metadata": {
    "collapsed": false,
    "ExecuteTime": {
     "start_time": "2024-03-05T10:34:25.929639Z",
     "end_time": "2024-03-05T10:34:37.483462Z"
    }
   }
  },
  {
   "cell_type": "code",
   "execution_count": 40,
   "outputs": [],
   "source": [],
   "metadata": {
    "collapsed": false,
    "ExecuteTime": {
     "start_time": "2024-03-05T10:34:11.138579Z",
     "end_time": "2024-03-05T10:34:11.187534Z"
    }
   }
  },
  {
   "cell_type": "code",
   "execution_count": 15,
   "outputs": [
    {
     "name": "stdout",
     "output_type": "stream",
     "text": [
      "tensor(False)\n"
     ]
    }
   ],
   "source": [],
   "metadata": {
    "collapsed": false,
    "ExecuteTime": {
     "start_time": "2024-03-05T10:22:23.827813Z",
     "end_time": "2024-03-05T10:22:32.600551Z"
    }
   }
  },
  {
   "cell_type": "code",
   "execution_count": 41,
   "outputs": [],
   "source": [],
   "metadata": {
    "collapsed": false,
    "ExecuteTime": {
     "start_time": "2024-03-05T10:34:41.956288Z",
     "end_time": "2024-03-05T10:34:42.043838Z"
    }
   }
  },
  {
   "cell_type": "code",
   "execution_count": 43,
   "outputs": [
    {
     "name": "stdout",
     "output_type": "stream",
     "text": [
      "torch.Size([64, 1, 105, 8]) torch.Size([64, 50])\n"
     ]
    }
   ],
   "source": [
    "#sanity check:\n",
    "i1, l1 = next(iter(trainloader))\n",
    "print(i1.shape, l1.shape)"
   ],
   "metadata": {
    "collapsed": false,
    "ExecuteTime": {
     "start_time": "2024-03-05T10:34:55.439442Z",
     "end_time": "2024-03-05T10:34:55.486519Z"
    }
   }
  },
  {
   "cell_type": "code",
   "execution_count": 19,
   "outputs": [],
   "source": [
    "z_size = 100\n",
    "image_size = (105, 8)\n",
    "\n",
    "n_filters = 32"
   ],
   "metadata": {
    "collapsed": false,
    "ExecuteTime": {
     "start_time": "2024-03-05T10:23:03.402063Z",
     "end_time": "2024-03-05T10:23:03.459304Z"
    }
   }
  },
  {
   "cell_type": "code",
   "execution_count": 20,
   "outputs": [],
   "source": [
    "## Loss function and optimizers:\n",
    "loss_fn = nn.BCELoss()"
   ],
   "metadata": {
    "collapsed": false,
    "ExecuteTime": {
     "start_time": "2024-03-05T10:23:03.889453Z",
     "end_time": "2024-03-05T10:23:03.926609Z"
    }
   }
  },
  {
   "cell_type": "code",
   "execution_count": 21,
   "outputs": [],
   "source": [
    "def create_noise(batch_size, z_size, mode_z):\n",
    "    if mode_z == 'uniform':\n",
    "        input_z = torch.rand(batch_size, z_size)*2 - 1\n",
    "    elif mode_z == 'normal':\n",
    "        input_z = torch.randn(batch_size, z_size)\n",
    "    return input_z\n",
    "\n",
    "mode_z = 'uniform'\n",
    "fixed_z = create_noise(batch_size, z_size, mode_z).to(device)\n",
    "\n",
    "def create_samples(g_model, input_z, input_t):\n",
    "    g_output = g_model(input_z, input_t)\n",
    "    images = torch.reshape(g_output, (batch_size, *image_size))\n",
    "    return (images+1)/2.0"
   ],
   "metadata": {
    "collapsed": false,
    "ExecuteTime": {
     "start_time": "2024-03-05T10:23:04.396416Z",
     "end_time": "2024-03-05T10:23:04.435758Z"
    }
   }
  },
  {
   "cell_type": "code",
   "execution_count": 22,
   "outputs": [],
   "source": [
    "noise = create_noise(64, 100, \"uniform\")"
   ],
   "metadata": {
    "collapsed": false,
    "ExecuteTime": {
     "start_time": "2024-03-05T10:23:05.727442Z",
     "end_time": "2024-03-05T10:23:05.758322Z"
    }
   }
  },
  {
   "cell_type": "code",
   "execution_count": 23,
   "outputs": [
    {
     "data": {
      "text/plain": "torch.Size([64, 100])"
     },
     "execution_count": 23,
     "metadata": {},
     "output_type": "execute_result"
    }
   ],
   "source": [
    "noise.shape"
   ],
   "metadata": {
    "collapsed": false,
    "ExecuteTime": {
     "start_time": "2024-03-05T10:23:06.113761Z",
     "end_time": "2024-03-05T10:23:06.161588Z"
    }
   }
  },
  {
   "cell_type": "code",
   "execution_count": 24,
   "outputs": [],
   "source": [
    "class Generator(nn.Module):\n",
    "    def __init__(self, noise_dim, word_embedding_dim, output_shape):\n",
    "        super(Generator, self).__init__()\n",
    "\n",
    "        self.noise_dim = noise_dim\n",
    "        self.word_embedding_dim = word_embedding_dim\n",
    "\n",
    "        # Define the layers of your generator\n",
    "        self.fc_noise = nn.Linear(noise_dim, 105*8)  # Increase the size for more complexity\n",
    "        self.fc_word_embedding = nn.Linear(word_embedding_dim, 105*8)  # Increase the size for more complexity\n",
    "        self.conv1 = nn.Conv2d(2, 128, kernel_size=3, stride=1, padding=1)\n",
    "        self.bn1 = nn.BatchNorm2d(128)\n",
    "        self.relu = nn.LeakyReLU(0.2)\n",
    "\n",
    "        self.conv2 = nn.Conv2d(128, 64, kernel_size=3, stride=1, padding=1)\n",
    "        self.bn2 = nn.BatchNorm2d(64)\n",
    "\n",
    "        self.conv3 = nn.Conv2d(64, 1, kernel_size=3, stride=1, padding=1)\n",
    "        self.tanh = nn.Tanh()\n",
    "\n",
    "    def forward(self, noise, word_embedding):\n",
    "        # Process noise\n",
    "        noise = self.fc_noise(noise)\n",
    "        noise = noise.view(noise.size(0), 1, 105,8)  # Adjust the size to match conv1\n",
    "\n",
    "        # Process word embedding\n",
    "        word_embedding = self.fc_word_embedding(word_embedding.to(device))\n",
    "        word_embedding = word_embedding.view(word_embedding.size(0), 1, 105, 8)  # Adjust the size to match conv1\n",
    "\n",
    "        # Concatenate noise and word embedding\n",
    "        combined_input = torch.cat([noise, word_embedding], dim=1)\n",
    "\n",
    "        # Upsample and generate the output\n",
    "        z = self.conv1(combined_input)\n",
    "        z = self.bn1(z)\n",
    "        z = self.relu(z)\n",
    "\n",
    "        z = self.conv2(z)\n",
    "        z = self.bn2(z)\n",
    "        z = self.relu(z)\n",
    "\n",
    "        z = self.conv3(z)\n",
    "        z = self.tanh(z)\n",
    "\n",
    "        return z\n",
    "\n",
    "class DiscriminatorWGAN(nn.Module):\n",
    "    def __init__(self, n_filters):\n",
    "        super(DiscriminatorWGAN, self).__init__()\n",
    "        self.network = nn.Sequential(\n",
    "            nn.Conv2d(1, n_filters, kernel_size=4, stride=2, padding=1, bias=False),\n",
    "            nn.LeakyReLU(0.2),\n",
    "\n",
    "            nn.Conv2d(n_filters, n_filters*2, kernel_size=4, stride=2, padding=1, bias=False),\n",
    "            nn.InstanceNorm2d(n_filters * 2),\n",
    "            nn.LeakyReLU(0.2),\n",
    "\n",
    "            nn.Conv2d(n_filters*2, n_filters*4, kernel_size=3, stride=2, padding=1, bias=False),\n",
    "            nn.InstanceNorm2d(n_filters*4),\n",
    "            nn.LeakyReLU(0.2),\n",
    "\n",
    "            nn.Flatten(),  # Flatten spatial dimensions\n",
    "\n",
    "            # Fully connected layer to reduce to a single value per sample\n",
    "            nn.Linear(n_filters*4 * (105 // 8) * (8 // 8), 1),\n",
    "            nn.Sigmoid()\n",
    "        )\n",
    "\n",
    "    def forward(self, input):\n",
    "        output = self.network(input)\n",
    "        return output\n"
   ],
   "metadata": {
    "collapsed": false,
    "ExecuteTime": {
     "start_time": "2024-03-05T10:23:09.512538Z",
     "end_time": "2024-03-05T10:23:09.531112Z"
    }
   }
  },
  {
   "cell_type": "code",
   "execution_count": 25,
   "outputs": [],
   "source": [
    "gen_model = Generator(z_size, word_embedding_dim, output_shape).to(device)\n",
    "disc_model = DiscriminatorWGAN(n_filters).to(device)\n",
    "\n",
    "g_optimizer = torch.optim.Adam(gen_model.parameters(), 0.00002)\n",
    "d_optimizer = torch.optim.Adam(disc_model.parameters(), 0.00002)"
   ],
   "metadata": {
    "collapsed": false,
    "ExecuteTime": {
     "start_time": "2024-03-05T10:23:11.410510Z",
     "end_time": "2024-03-05T10:23:11.476547Z"
    }
   }
  },
  {
   "cell_type": "code",
   "execution_count": 26,
   "outputs": [],
   "source": [
    "\n",
    "def gradient_penalty(real_data, generated_data):\n",
    "    batch_size = real_data.size(0)\n",
    "\n",
    "    # Calculate interpolation\n",
    "    alpha = torch.rand(real_data.shape[0], 1, 1, 1, requires_grad=True, device=device)\n",
    "    #print(\"Gen:\", generated_data.shape)\n",
    "    interpolated = alpha * real_data + (1 - alpha) * generated_data\n",
    "\n",
    "    # Calculate probability of interpolated examples\n",
    "    proba_interpolated = disc_model(interpolated)\n",
    "\n",
    "    # Calculate gradients of probabilities with respect to examples\n",
    "    gradients = torch_grad(outputs=proba_interpolated, inputs=interpolated,\n",
    "                           grad_outputs=torch.ones(proba_interpolated.size(), device=device),\n",
    "                           create_graph=True, retain_graph=True)[0]\n",
    "\n",
    "    gradients = gradients.view(batch_size, -1)\n",
    "    gradients_norm = gradients.norm(2, dim=1)\n",
    "    return lambda_gp * ((gradients_norm - 1)**2).mean()\n"
   ],
   "metadata": {
    "collapsed": false,
    "ExecuteTime": {
     "start_time": "2024-03-05T10:23:13.441093Z",
     "end_time": "2024-03-05T10:23:13.470794Z"
    }
   }
  },
  {
   "cell_type": "code",
   "execution_count": 27,
   "outputs": [],
   "source": [
    "## Train the discriminator\n",
    "def d_train_wgan(x, input_t):\n",
    "    disc_model.zero_grad()\n",
    "\n",
    "    batch_size = x.size(0)\n",
    "    x = x.to(device)\n",
    "    #print(\"X:\", x.shape)\n",
    "    # Calculate probabilities on real and generated data\n",
    "    d_real = disc_model(x)\n",
    "    input_z = create_noise(batch_size, z_size, mode_z).to(device)\n",
    "    g_output = gen_model(input_z, input_t)\n",
    "    #print(\"D Real:\", d_real.shape)\n",
    "\n",
    "    d_generated = disc_model(g_output)\n",
    "    #print(\"G output:\", g_output.shape)\n",
    "\n",
    "    d_loss = d_generated.mean() - d_real.mean() + gradient_penalty(x.data, g_output.data)\n",
    "\n",
    "    d_loss.backward()\n",
    "    d_optimizer.step()\n",
    "\n",
    "    return d_loss.data.item()"
   ],
   "metadata": {
    "collapsed": false,
    "ExecuteTime": {
     "start_time": "2024-03-05T10:23:15.439256Z",
     "end_time": "2024-03-05T10:23:15.480534Z"
    }
   }
  },
  {
   "cell_type": "code",
   "execution_count": 28,
   "outputs": [],
   "source": [
    "## Train the generator\n",
    "def g_train_wgan(x, input_t):\n",
    "    gen_model.zero_grad()\n",
    "\n",
    "    batch_size = x.size(0)\n",
    "    input_z = create_noise(batch_size, z_size, mode_z).to(device)\n",
    "\n",
    "    g_output = gen_model(input_z, input_t)\n",
    "\n",
    "    d_generated = disc_model(g_output)\n",
    "    g_loss = -d_generated.mean()\n",
    "    print(\"G Loss:\", g_loss)\n",
    "\n",
    "    # gradient backprop & optimize ONLY G's parameters\n",
    "    g_loss.backward()\n",
    "    g_optimizer.step()\n",
    "\n",
    "    return g_loss.data.item()"
   ],
   "metadata": {
    "collapsed": false,
    "ExecuteTime": {
     "start_time": "2024-03-05T10:23:18.512991Z",
     "end_time": "2024-03-05T10:23:18.547689Z"
    }
   }
  },
  {
   "cell_type": "code",
   "execution_count": 30,
   "outputs": [
    {
     "name": "stdout",
     "output_type": "stream",
     "text": [
      "T: tensor([[[[-0.0225, -0.0164, -0.0173,  ..., -0.0200, -0.0185, -0.0140],\n",
      "          [-0.0173, -0.0187, -0.0146,  ..., -0.0156, -0.0177, -0.0186],\n",
      "          [-0.0198, -0.0148, -0.0172,  ..., -0.0173, -0.0202, -0.0176],\n",
      "          ...,\n",
      "          [-0.0169, -0.0059, -0.0115,  ..., -0.0140, -0.0132, -0.0143],\n",
      "          [-0.0164, -0.0148, -0.0114,  ..., -0.0182, -0.0156, -0.0082],\n",
      "          [-0.0094, -0.0076, -0.0133,  ..., -0.0072, -0.0075, -0.0258]]],\n",
      "\n",
      "\n",
      "        [[[-0.0088, -0.0114, -0.0032,  ...,  0.0101, -0.0131, -0.0104],\n",
      "          [-0.0057, -0.0014,  0.0218,  ..., -0.0113,  0.0015,  0.0109],\n",
      "          [-0.0207, -0.0139, -0.0027,  ..., -0.0018,  0.0171,  0.0194],\n",
      "          ...,\n",
      "          [ 0.0097, -0.0002,  0.0051,  ...,  0.0287,  0.0212,  0.0400],\n",
      "          [-0.0022,  0.0160,  0.0189,  ..., -0.0057,  0.0022,  0.0072],\n",
      "          [ 0.0184,  0.0285,  0.0043,  ...,  0.0049,  0.0118, -0.0258]]],\n",
      "\n",
      "\n",
      "        [[[-0.0041, -0.0022, -0.0078,  ..., -0.0183, -0.0007, -0.0042],\n",
      "          [-0.0137, -0.0168, -0.0178,  ..., -0.0129, -0.0182, -0.0187],\n",
      "          [-0.0096, -0.0178, -0.0183,  ..., -0.0172, -0.0185, -0.0159],\n",
      "          ...,\n",
      "          [-0.0133,  0.0083,  0.0142,  ..., -0.0174, -0.0154, -0.0154],\n",
      "          [-0.0045, -0.0082, -0.0160,  ..., -0.0097, -0.0110, -0.0155],\n",
      "          [-0.0127, -0.0115, -0.0134,  ..., -0.0092, -0.0088, -0.0258]]],\n",
      "\n",
      "\n",
      "        ...,\n",
      "\n",
      "\n",
      "        [[[-0.0241, -0.0219, -0.0219,  ..., -0.0220, -0.0222, -0.0215],\n",
      "          [-0.0184, -0.0182, -0.0183,  ..., -0.0184, -0.0162, -0.0090],\n",
      "          [-0.0181, -0.0177, -0.0143,  ..., -0.0143, -0.0184, -0.0195],\n",
      "          ...,\n",
      "          [-0.0144, -0.0048, -0.0074,  ..., -0.0222, -0.0235, -0.0243],\n",
      "          [-0.0091, -0.0183, -0.0218,  ..., -0.0158, -0.0157, -0.0214],\n",
      "          [-0.0219, -0.0228, -0.0172,  ..., -0.0214, -0.0225, -0.0258]]],\n",
      "\n",
      "\n",
      "        [[[-0.0134, -0.0074, -0.0042,  ..., -0.0123, -0.0126, -0.0103],\n",
      "          [-0.0077, -0.0036,  0.0024,  ..., -0.0063, -0.0010,  0.0063],\n",
      "          [-0.0101, -0.0011,  0.0009,  ...,  0.0143,  0.0063, -0.0032],\n",
      "          ...,\n",
      "          [ 0.0039,  0.0076,  0.0096,  ...,  0.0036, -0.0004, -0.0072],\n",
      "          [-0.0006, -0.0026,  0.0023,  ..., -0.0072, -0.0084, -0.0087],\n",
      "          [-0.0029,  0.0021, -0.0021,  ..., -0.0098, -0.0053, -0.0258]]],\n",
      "\n",
      "\n",
      "        [[[-0.0032, -0.0067, -0.0026,  ..., -0.0178, -0.0138, -0.0060],\n",
      "          [-0.0131, -0.0061, -0.0209,  ..., -0.0152, -0.0106, -0.0148],\n",
      "          [-0.0145, -0.0128, -0.0104,  ..., -0.0162, -0.0191, -0.0170],\n",
      "          ...,\n",
      "          [-0.0134, -0.0096, -0.0128,  ..., -0.0140, -0.0123, -0.0214],\n",
      "          [-0.0123, -0.0127, -0.0067,  ..., -0.0180, -0.0128, -0.0097],\n",
      "          [-0.0024, -0.0098, -0.0207,  ..., -0.0046, -0.0064, -0.0258]]]])\n",
      "D Loss: 16.959423065185547\n",
      "D Loss: 49.01395034790039\n",
      "D Loss: 14.999139785766602\n"
     ]
    },
    {
     "ename": "KeyboardInterrupt",
     "evalue": "",
     "output_type": "error",
     "traceback": [
      "\u001B[1;31m---------------------------------------------------------------------------\u001B[0m",
      "\u001B[1;31mKeyboardInterrupt\u001B[0m                         Traceback (most recent call last)",
      "Cell \u001B[1;32mIn[30], line 16\u001B[0m\n\u001B[0;32m     14\u001B[0m \u001B[38;5;28mprint\u001B[39m(\u001B[38;5;124m\"\u001B[39m\u001B[38;5;124mT:\u001B[39m\u001B[38;5;124m\"\u001B[39m, x)\n\u001B[0;32m     15\u001B[0m \u001B[38;5;28;01mfor\u001B[39;00m _ \u001B[38;5;129;01min\u001B[39;00m \u001B[38;5;28mrange\u001B[39m(critic_iterations):\n\u001B[1;32m---> 16\u001B[0m     d_loss \u001B[38;5;241m=\u001B[39m \u001B[43md_train_wgan\u001B[49m\u001B[43m(\u001B[49m\u001B[43mx\u001B[49m\u001B[43m,\u001B[49m\u001B[43m \u001B[49m\u001B[43mt\u001B[49m\u001B[43m)\u001B[49m\n\u001B[0;32m     17\u001B[0m     \u001B[38;5;28mprint\u001B[39m(\u001B[38;5;124m\"\u001B[39m\u001B[38;5;124mD Loss:\u001B[39m\u001B[38;5;124m\"\u001B[39m, d_loss)\n\u001B[0;32m     18\u001B[0m d_losses\u001B[38;5;241m.\u001B[39mappend(d_loss)\n",
      "Cell \u001B[1;32mIn[27], line 19\u001B[0m, in \u001B[0;36md_train_wgan\u001B[1;34m(x, input_t)\u001B[0m\n\u001B[0;32m     15\u001B[0m \u001B[38;5;66;03m#print(\"G output:\", g_output.shape)\u001B[39;00m\n\u001B[0;32m     17\u001B[0m d_loss \u001B[38;5;241m=\u001B[39m d_generated\u001B[38;5;241m.\u001B[39mmean() \u001B[38;5;241m-\u001B[39m d_real\u001B[38;5;241m.\u001B[39mmean() \u001B[38;5;241m+\u001B[39m gradient_penalty(x\u001B[38;5;241m.\u001B[39mdata, g_output\u001B[38;5;241m.\u001B[39mdata)\n\u001B[1;32m---> 19\u001B[0m \u001B[43md_loss\u001B[49m\u001B[38;5;241;43m.\u001B[39;49m\u001B[43mbackward\u001B[49m\u001B[43m(\u001B[49m\u001B[43m)\u001B[49m\n\u001B[0;32m     20\u001B[0m d_optimizer\u001B[38;5;241m.\u001B[39mstep()\n\u001B[0;32m     22\u001B[0m \u001B[38;5;28;01mreturn\u001B[39;00m d_loss\u001B[38;5;241m.\u001B[39mdata\u001B[38;5;241m.\u001B[39mitem()\n",
      "File \u001B[1;32m~\\Anaconda3\\lib\\site-packages\\torch\\_tensor.py:487\u001B[0m, in \u001B[0;36mTensor.backward\u001B[1;34m(self, gradient, retain_graph, create_graph, inputs)\u001B[0m\n\u001B[0;32m    477\u001B[0m \u001B[38;5;28;01mif\u001B[39;00m has_torch_function_unary(\u001B[38;5;28mself\u001B[39m):\n\u001B[0;32m    478\u001B[0m     \u001B[38;5;28;01mreturn\u001B[39;00m handle_torch_function(\n\u001B[0;32m    479\u001B[0m         Tensor\u001B[38;5;241m.\u001B[39mbackward,\n\u001B[0;32m    480\u001B[0m         (\u001B[38;5;28mself\u001B[39m,),\n\u001B[1;32m   (...)\u001B[0m\n\u001B[0;32m    485\u001B[0m         inputs\u001B[38;5;241m=\u001B[39minputs,\n\u001B[0;32m    486\u001B[0m     )\n\u001B[1;32m--> 487\u001B[0m \u001B[43mtorch\u001B[49m\u001B[38;5;241;43m.\u001B[39;49m\u001B[43mautograd\u001B[49m\u001B[38;5;241;43m.\u001B[39;49m\u001B[43mbackward\u001B[49m\u001B[43m(\u001B[49m\n\u001B[0;32m    488\u001B[0m \u001B[43m    \u001B[49m\u001B[38;5;28;43mself\u001B[39;49m\u001B[43m,\u001B[49m\u001B[43m \u001B[49m\u001B[43mgradient\u001B[49m\u001B[43m,\u001B[49m\u001B[43m \u001B[49m\u001B[43mretain_graph\u001B[49m\u001B[43m,\u001B[49m\u001B[43m \u001B[49m\u001B[43mcreate_graph\u001B[49m\u001B[43m,\u001B[49m\u001B[43m \u001B[49m\u001B[43minputs\u001B[49m\u001B[38;5;241;43m=\u001B[39;49m\u001B[43minputs\u001B[49m\n\u001B[0;32m    489\u001B[0m \u001B[43m\u001B[49m\u001B[43m)\u001B[49m\n",
      "File \u001B[1;32m~\\Anaconda3\\lib\\site-packages\\torch\\autograd\\__init__.py:200\u001B[0m, in \u001B[0;36mbackward\u001B[1;34m(tensors, grad_tensors, retain_graph, create_graph, grad_variables, inputs)\u001B[0m\n\u001B[0;32m    195\u001B[0m     retain_graph \u001B[38;5;241m=\u001B[39m create_graph\n\u001B[0;32m    197\u001B[0m \u001B[38;5;66;03m# The reason we repeat same the comment below is that\u001B[39;00m\n\u001B[0;32m    198\u001B[0m \u001B[38;5;66;03m# some Python versions print out the first line of a multi-line function\u001B[39;00m\n\u001B[0;32m    199\u001B[0m \u001B[38;5;66;03m# calls in the traceback and some print out the last line\u001B[39;00m\n\u001B[1;32m--> 200\u001B[0m \u001B[43mVariable\u001B[49m\u001B[38;5;241;43m.\u001B[39;49m\u001B[43m_execution_engine\u001B[49m\u001B[38;5;241;43m.\u001B[39;49m\u001B[43mrun_backward\u001B[49m\u001B[43m(\u001B[49m\u001B[43m  \u001B[49m\u001B[38;5;66;43;03m# Calls into the C++ engine to run the backward pass\u001B[39;49;00m\n\u001B[0;32m    201\u001B[0m \u001B[43m    \u001B[49m\u001B[43mtensors\u001B[49m\u001B[43m,\u001B[49m\u001B[43m \u001B[49m\u001B[43mgrad_tensors_\u001B[49m\u001B[43m,\u001B[49m\u001B[43m \u001B[49m\u001B[43mretain_graph\u001B[49m\u001B[43m,\u001B[49m\u001B[43m \u001B[49m\u001B[43mcreate_graph\u001B[49m\u001B[43m,\u001B[49m\u001B[43m \u001B[49m\u001B[43minputs\u001B[49m\u001B[43m,\u001B[49m\n\u001B[0;32m    202\u001B[0m \u001B[43m    \u001B[49m\u001B[43mallow_unreachable\u001B[49m\u001B[38;5;241;43m=\u001B[39;49m\u001B[38;5;28;43;01mTrue\u001B[39;49;00m\u001B[43m,\u001B[49m\u001B[43m \u001B[49m\u001B[43maccumulate_grad\u001B[49m\u001B[38;5;241;43m=\u001B[39;49m\u001B[38;5;28;43;01mTrue\u001B[39;49;00m\u001B[43m)\u001B[49m\n",
      "\u001B[1;31mKeyboardInterrupt\u001B[0m: "
     ]
    }
   ],
   "source": [
    "epoch_samples_wgan = []\n",
    "lambda_gp = 10.0\n",
    "num_epochs = 100\n",
    "torch.manual_seed(1)\n",
    "critic_iterations = 5\n",
    "save_interval = 5\n",
    "checkpoint_path = 'Textual_WGAN_GP_checkpoint_epoch_{}.pth'\n",
    "final_model_path = 'Textual_WGAN_GP_model_final.pth'\n",
    "\n",
    "for epoch in range(1, num_epochs+1):\n",
    "    gen_model.train()\n",
    "    d_losses, g_losses = [], []\n",
    "    for i, (x, t) in enumerate(trainloader):\n",
    "        print(\"T:\", x)\n",
    "        for _ in range(critic_iterations):\n",
    "            d_loss = d_train_wgan(x, t)\n",
    "            print(\"D Loss:\", d_loss)\n",
    "        d_losses.append(d_loss)\n",
    "        g_losses.append(g_train_wgan(x, t))\n",
    "\n",
    "    print(f'Epoch {epoch:03d} | D Loss >>'\n",
    "          f' {torch.FloatTensor(d_losses).mean():.4f}')\n",
    "    print(f'Epoch {epoch:03d} | G Loss >>'\n",
    "          f' {torch.FloatTensor(g_losses).mean():.4f}')\n",
    "\n",
    "        # Save checkpoints at regular intervals\n",
    "    if epoch % save_interval == 0:\n",
    "        torch.save({\n",
    "            'epoch': epoch,\n",
    "            'gen_model_state_dict': gen_model.state_dict(),\n",
    "            'optimizer_state_dict': g_optimizer.state_dict(),\n",
    "            'd_losses': d_losses,\n",
    "            'g_losses': g_losses,\n",
    "        }, checkpoint_path.format(epoch))\n",
    "\n",
    "\n",
    "    '''\n",
    "    gen_model.eval()\n",
    "    epoch_samples_wgan.append(\n",
    "        create_samples(gen_model, fixed_z, t).detach().cpu().numpy())\n",
    "    '''"
   ],
   "metadata": {
    "collapsed": false
   }
  },
  {
   "cell_type": "code",
   "execution_count": null,
   "outputs": [],
   "source": [
    "# Save the final model after training is complete\n",
    "torch.save({\n",
    "    'epoch': num_epochs,\n",
    "    'gen_model_state_dict': gen_model.state_dict(),\n",
    "    'optimizer_state_dict': g_optimizer.state_dict(),\n",
    "    'd_losses': d_losses,\n",
    "    'g_losses': g_losses,\n",
    "}, final_model_path)"
   ],
   "metadata": {
    "collapsed": false
   }
  },
  {
   "cell_type": "code",
   "execution_count": null,
   "outputs": [],
   "source": [],
   "metadata": {
    "collapsed": false
   }
  }
 ],
 "metadata": {
  "kernelspec": {
   "display_name": "Python 3",
   "language": "python",
   "name": "python3"
  },
  "language_info": {
   "codemirror_mode": {
    "name": "ipython",
    "version": 2
   },
   "file_extension": ".py",
   "mimetype": "text/x-python",
   "name": "python",
   "nbconvert_exporter": "python",
   "pygments_lexer": "ipython2",
   "version": "2.7.6"
  }
 },
 "nbformat": 4,
 "nbformat_minor": 0
}
