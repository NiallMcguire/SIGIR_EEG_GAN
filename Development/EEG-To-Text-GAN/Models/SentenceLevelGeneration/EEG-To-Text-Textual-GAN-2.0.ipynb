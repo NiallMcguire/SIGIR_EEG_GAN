{
 "cells": [
  {
   "cell_type": "code",
   "execution_count": 1,
   "metadata": {
    "collapsed": true,
    "ExecuteTime": {
     "start_time": "2024-03-07T10:44:42.040478Z",
     "end_time": "2024-03-07T10:44:49.566249Z"
    }
   },
   "outputs": [
    {
     "name": "stderr",
     "output_type": "stream",
     "text": [
      "[nltk_data] Downloading package punkt to\n",
      "[nltk_data]     C:\\Users\\gxb18167\\AppData\\Roaming\\nltk_data...\n",
      "[nltk_data]   Package punkt is already up-to-date!\n"
     ]
    }
   ],
   "source": [
    "import sys\n",
    "import nltk\n",
    "import torch.nn.functional as F\n",
    "import torch\n",
    "import torch.nn as nn\n",
    "import numpy as np\n",
    "from sklearn.preprocessing import MinMaxScaler\n",
    "import torch\n",
    "nltk.download('punkt')\n",
    "from gensim.models import Word2Vec\n",
    "from nltk.tokenize import word_tokenize\n",
    "sys.path.insert(0, '..')\n",
    "import pickle\n",
    "from torch.autograd import grad as torch_grad"
   ]
  },
  {
   "cell_type": "code",
   "execution_count": 2,
   "outputs": [
    {
     "name": "stdout",
     "output_type": "stream",
     "text": [
      "2.0.1\n",
      "GPU Available: False\n"
     ]
    }
   ],
   "source": [
    "print(torch.__version__)\n",
    "print(\"GPU Available:\", torch.cuda.is_available())\n",
    "\n",
    "if torch.cuda.is_available():\n",
    "    device = torch.device(\"cuda:0\")\n",
    "else:\n",
    "    device = \"cpu\""
   ],
   "metadata": {
    "collapsed": false,
    "ExecuteTime": {
     "start_time": "2024-03-07T10:44:49.572607Z",
     "end_time": "2024-03-07T10:44:49.591165Z"
    }
   }
  },
  {
   "cell_type": "code",
   "execution_count": 3,
   "outputs": [],
   "source": [
    "batch_size = 64\n",
    "word_embedding_dim = 50\n",
    "output_shape = (1, 105, 8)\n",
    "torch.manual_seed(1)\n",
    "np.random.seed(1)"
   ],
   "metadata": {
    "collapsed": false,
    "ExecuteTime": {
     "start_time": "2024-03-07T10:44:49.599344Z",
     "end_time": "2024-03-07T10:44:49.654747Z"
    }
   }
  },
  {
   "cell_type": "code",
   "execution_count": 38,
   "outputs": [],
   "source": [
    "\n",
    "# To load the lists from the file:\n",
    "with open(r\"C:\\Users\\gxb18167\\PycharmProjects\\EEG-To-Text\\SIGIR_Development\\EEG-GAN\\EEG_Text_Pairs_Sentence.pkl\", 'rb') as file:\n",
    "    EEG_word_level_embeddings = pickle.load(file)\n",
    "    EEG_word_level_labels = pickle.load(file)"
   ],
   "metadata": {
    "collapsed": false,
    "ExecuteTime": {
     "start_time": "2024-03-07T11:12:26.046415Z",
     "end_time": "2024-03-07T11:12:27.747824Z"
    }
   }
  },
  {
   "cell_type": "code",
   "execution_count": 39,
   "outputs": [
    {
     "data": {
      "text/plain": "140100"
     },
     "execution_count": 39,
     "metadata": {},
     "output_type": "execute_result"
    }
   ],
   "source": [
    "len(EEG_word_level_embeddings) # 105 x 8 EEG signals relating to words"
   ],
   "metadata": {
    "collapsed": false,
    "ExecuteTime": {
     "start_time": "2024-03-07T11:12:28.332183Z",
     "end_time": "2024-03-07T11:12:28.370412Z"
    }
   }
  },
  {
   "cell_type": "code",
   "execution_count": 126,
   "outputs": [],
   "source": [
    "def create_word_label_embeddings_sentence(Word_Labels_List, EEG_word_level_embeddings):\n",
    "\n",
    "    tokenized_words = []\n",
    "    for i in range(len(Word_Labels_List)):\n",
    "        tokenized_words.append([Word_Labels_List[i]])\n",
    "    model = Word2Vec(sentences=tokenized_words, vector_size=word_embedding_dim, window=5, min_count=1, workers=4)\n",
    "    word_embeddings = {word: model.wv[word] for word in model.wv.index_to_key}\n",
    "\n",
    "    list_of_sentences = []\n",
    "    sentence = []\n",
    "\n",
    "    max_sentence_length = 0\n",
    "    for words in range (0, len(EEG_word_level_labels)):\n",
    "\n",
    "        current_word = EEG_word_level_labels[words]\n",
    "        current_word_embedding = word_embeddings[current_word]\n",
    "\n",
    "        if words == len(EEG_word_level_labels)-1:\n",
    "            if len(sentence) > max_sentence_length:\n",
    "                max_sentence_length = len(sentence)\n",
    "            list_of_sentences.append(sentence)\n",
    "\n",
    "        elif current_word == \"SOS\" and sentence != []:\n",
    "            if len(sentence) > max_sentence_length:\n",
    "                max_sentence_length = len(sentence)\n",
    "\n",
    "            list_of_sentences.append(sentence)\n",
    "            sentence = []\n",
    "        elif current_word != \"SOS\":\n",
    "            sentence.append(current_word_embedding)\n",
    "\n",
    "\n",
    "\n",
    "    EEG_sentence_list = []\n",
    "    index_counter = 0\n",
    "    for sentence in list_of_sentences:\n",
    "        EEG_sentence = EEG_word_level_embeddings[index_counter:index_counter+len(sentence)]\n",
    "        for i in range(max_sentence_length-len(EEG_sentence)):\n",
    "            EEG_sentence.append(np.zeros((105, 8)))\n",
    "\n",
    "        EEG_sentence_list.append(EEG_sentence)\n",
    "        index_counter += len(sentence)\n",
    "        if len(sentence) > max_sentence_length:\n",
    "            max_sentence_length = len(sentence)\n",
    "\n",
    "    for sentence in list_of_sentences:\n",
    "        for i in range(max_sentence_length-len(sentence)):\n",
    "            sentence.append(np.zeros((word_embedding_dim)))\n",
    "\n",
    "    for i in range(len(EEG_sentence_list)):\n",
    "        EEG_sentence = EEG_sentence_list[i]\n",
    "        contact_EEG_sentence = np.concatenate(EEG_sentence, axis=1)\n",
    "        EEG_sentence_list[i] = contact_EEG_sentence\n",
    "\n",
    "        word_embedding_sentence = list_of_sentences[i]\n",
    "        concat_word_embedding_sentence = np.concatenate(word_embedding_sentence, axis=0)\n",
    "        list_of_sentences[i] = concat_word_embedding_sentence\n",
    "\n",
    "    return EEG_sentence_list, list_of_sentences\n",
    "\n"
   ],
   "metadata": {
    "collapsed": false,
    "ExecuteTime": {
     "start_time": "2024-03-07T12:17:07.963181Z",
     "end_time": "2024-03-07T12:17:07.972195Z"
    }
   }
  },
  {
   "cell_type": "code",
   "execution_count": 127,
   "outputs": [],
   "source": [
    "EEG_sentence_list, list_of_sentences = create_word_label_embeddings_sentence(EEG_word_level_labels, EEG_word_level_embeddings)"
   ],
   "metadata": {
    "collapsed": false,
    "ExecuteTime": {
     "start_time": "2024-03-07T12:17:08.857256Z",
     "end_time": "2024-03-07T12:17:16.688779Z"
    }
   }
  },
  {
   "cell_type": "code",
   "execution_count": 129,
   "outputs": [],
   "source": [],
   "metadata": {
    "collapsed": false,
    "ExecuteTime": {
     "start_time": "2024-03-07T12:19:14.451804Z",
     "end_time": "2024-03-07T12:19:14.461272Z"
    }
   }
  },
  {
   "cell_type": "code",
   "execution_count": 31,
   "outputs": [],
   "source": [
    "def create_word_label_embeddings(Word_Labels_List):\n",
    "\n",
    "    tokenized_words = []\n",
    "    for i in range(len(Word_Labels_List)):\n",
    "        tokenized_words.append([Word_Labels_List[i]])\n",
    "    model = Word2Vec(sentences=tokenized_words, vector_size=word_embedding_dim, window=5, min_count=1, workers=4)\n",
    "    word_embeddings = {word: model.wv[word] for word in model.wv.index_to_key}\n",
    "    print(\"Number of word embeddings:\", len(word_embeddings))\n",
    "\n",
    "    Embedded_Word_labels = []\n",
    "    for word in EEG_word_level_labels:\n",
    "        Embedded_Word_labels.append(word_embeddings[word])\n",
    "\n",
    "    return Embedded_Word_labels, word_embeddings\n",
    "\n",
    "\n",
    "def create_word_label_embeddings_contextual(Word_Labels_List):\n",
    "    tokenized_words = []\n",
    "    for i in range(len(Word_Labels_List)):\n",
    "        tokenized_words.append([Word_Labels_List[i]])\n",
    "    model = Word2Vec(sentences=tokenized_words, vector_size=word_embedding_dim, window=5, min_count=1, workers=4)\n",
    "    word_embeddings = {word: model.wv[word] for word in model.wv.index_to_key}\n",
    "    Embedded_Word_labels = []\n",
    "\n",
    "    for words in range (0, len(EEG_word_level_labels)):\n",
    "        current_word = EEG_word_level_labels[words]\n",
    "        if current_word != \"SOS\" and words != len(EEG_word_level_labels)-1:\n",
    "            prior_word = EEG_word_level_labels[words-1]\n",
    "\n",
    "            current_word = EEG_word_level_labels[words]\n",
    "\n",
    "            next_word = EEG_word_level_labels[words+1]\n",
    "\n",
    "            contextual_embedding = np.concatenate((word_embeddings[prior_word], word_embeddings[current_word], word_embeddings[next_word]), axis=-1)\n",
    "            Embedded_Word_labels.append(contextual_embedding)\n",
    "        elif words == len(EEG_word_level_labels)-1:\n",
    "            prior_word = EEG_word_level_labels[words-1]\n",
    "            next_word = \"SOS\"\n",
    "            contextual_embedding = np.concatenate((word_embeddings[prior_word], word_embeddings[current_word], word_embeddings[next_word]), axis=-1)\n",
    "            Embedded_Word_labels.append(contextual_embedding)\n",
    "\n",
    "    return Embedded_Word_labels, word_embeddings\n",
    "\n",
    "\n",
    "def create_dataloader(EEG_word_level_embeddings, Embedded_Word_labels):\n",
    "    #EEG_word_level_embeddings_normalize = (EEG_word_level_embeddings - np.mean(EEG_word_level_embeddings)) / np.std(EEG_word_level_embeddings)\n",
    "    #Assuming EEG_synthetic is the generated synthetic EEG data\n",
    "    #EEG_synthetic_denormalized = (EEG_synthetic * np.max(np.abs(EEG_word_level_embeddings))) + np.mean(EEG_word_level_embeddings)\n",
    "\n",
    "    EEG_word_level_embeddings_normalize = (EEG_word_level_embeddings - np.mean(EEG_word_level_embeddings)) / np.max(np.abs(EEG_word_level_embeddings))\n",
    "\n",
    "\n",
    "    float_tensor = torch.tensor(EEG_word_level_embeddings_normalize, dtype=torch.float)\n",
    "    float_tensor = float_tensor.unsqueeze(1)\n",
    "\n",
    "    #print(EEG_word_level_embeddings_normalize)\n",
    "    # Calculate mean and standard deviation\n",
    "    print(torch.isnan(float_tensor).any())\n",
    "\n",
    "    train_data = []\n",
    "    for i in range(len(float_tensor)):\n",
    "       train_data.append([float_tensor[i], Embedded_Word_labels[i]])\n",
    "    trainloader = torch.utils.data.DataLoader(train_data, shuffle=True, batch_size=64)\n",
    "    return trainloader"
   ],
   "metadata": {
    "collapsed": false,
    "ExecuteTime": {
     "start_time": "2024-03-07T11:11:36.939072Z",
     "end_time": "2024-03-07T11:11:36.955385Z"
    }
   }
  },
  {
   "cell_type": "code",
   "execution_count": 130,
   "outputs": [],
   "source": [
    "def create_dataloader_sentence(EEG_word_level_embeddings, Embedded_Word_labels):\n",
    "    #EEG_word_level_embeddings_normalize = (EEG_word_level_embeddings - np.mean(EEG_word_level_embeddings)) / np.std(EEG_word_level_embeddings)\n",
    "    #Assuming EEG_synthetic is the generated synthetic EEG data\n",
    "    #EEG_synthetic_denormalized = (EEG_synthetic * np.max(np.abs(EEG_word_level_embeddings))) + np.mean(EEG_word_level_embeddings)\n",
    "\n",
    "    EEG_word_level_embeddings_normalize = (EEG_word_level_embeddings - np.mean(EEG_word_level_embeddings)) / np.max(np.abs(EEG_word_level_embeddings))\n",
    "\n",
    "\n",
    "    float_tensor = torch.tensor(EEG_word_level_embeddings_normalize, dtype=torch.float)\n",
    "    float_tensor = float_tensor.unsqueeze(1)\n",
    "\n",
    "    #print(EEG_word_level_embeddings_normalize)\n",
    "    # Calculate mean and standard deviation\n",
    "    print(torch.isnan(float_tensor).any())\n",
    "\n",
    "    train_data = []\n",
    "    for i in range(len(float_tensor)):\n",
    "       train_data.append([float_tensor[i], Embedded_Word_labels[i]])\n",
    "    trainloader = torch.utils.data.DataLoader(train_data, shuffle=True, batch_size=64)\n",
    "    return trainloader"
   ],
   "metadata": {
    "collapsed": false,
    "ExecuteTime": {
     "start_time": "2024-03-07T12:20:00.666550Z",
     "end_time": "2024-03-07T12:20:00.682707Z"
    }
   }
  },
  {
   "cell_type": "code",
   "execution_count": 32,
   "outputs": [],
   "source": [
    "#Embedded_Word_labels, word_embeddings = create_word_label_embeddings_contextual(EEG_word_level_labels)"
   ],
   "metadata": {
    "collapsed": false,
    "ExecuteTime": {
     "start_time": "2024-03-07T11:11:37.688497Z",
     "end_time": "2024-03-07T11:11:38.952207Z"
    }
   }
  },
  {
   "cell_type": "code",
   "execution_count": 33,
   "outputs": [
    {
     "data": {
      "text/plain": "140100"
     },
     "execution_count": 33,
     "metadata": {},
     "output_type": "execute_result"
    }
   ],
   "source": [
    "#len(Embedded_Word_labels)"
   ],
   "metadata": {
    "collapsed": false,
    "ExecuteTime": {
     "start_time": "2024-03-07T11:11:39.463870Z",
     "end_time": "2024-03-07T11:11:39.481113Z"
    }
   }
  },
  {
   "cell_type": "code",
   "execution_count": 35,
   "outputs": [
    {
     "data": {
      "text/plain": "140100"
     },
     "execution_count": 35,
     "metadata": {},
     "output_type": "execute_result"
    }
   ],
   "source": [
    "#len(EEG_word_level_embeddings)"
   ],
   "metadata": {
    "collapsed": false,
    "ExecuteTime": {
     "start_time": "2024-03-07T11:11:58.594436Z",
     "end_time": "2024-03-07T11:11:58.626946Z"
    }
   }
  },
  {
   "cell_type": "code",
   "execution_count": 131,
   "outputs": [
    {
     "name": "stdout",
     "output_type": "stream",
     "text": [
      "tensor(False)\n"
     ]
    }
   ],
   "source": [
    "trainloader = create_dataloader_sentence(EEG_sentence_list, list_of_sentences)"
   ],
   "metadata": {
    "collapsed": false,
    "ExecuteTime": {
     "start_time": "2024-03-07T12:20:04.416414Z",
     "end_time": "2024-03-07T12:20:35.626481Z"
    }
   }
  },
  {
   "cell_type": "code",
   "execution_count": 132,
   "outputs": [
    {
     "name": "stdout",
     "output_type": "stream",
     "text": [
      "torch.Size([64, 1, 105, 456]) torch.Size([64, 2850])\n"
     ]
    }
   ],
   "source": [
    "#sanity check:\n",
    "i1, l1 = next(iter(trainloader))\n",
    "print(i1.shape, l1.shape)"
   ],
   "metadata": {
    "collapsed": false,
    "ExecuteTime": {
     "start_time": "2024-03-07T12:20:37.656750Z",
     "end_time": "2024-03-07T12:20:37.783097Z"
    }
   }
  },
  {
   "cell_type": "code",
   "execution_count": 134,
   "outputs": [],
   "source": [
    "z_size = 100\n",
    "image_size = (105, 8)\n",
    "\n",
    "n_filters = 32"
   ],
   "metadata": {
    "collapsed": false,
    "ExecuteTime": {
     "start_time": "2024-03-06T17:09:33.066030Z",
     "end_time": "2024-03-06T17:09:33.098309Z"
    }
   }
  },
  {
   "cell_type": "code",
   "execution_count": 135,
   "outputs": [],
   "source": [
    "## Loss function and optimizers:\n",
    "loss_fn = nn.BCELoss()"
   ],
   "metadata": {
    "collapsed": false,
    "ExecuteTime": {
     "start_time": "2024-03-06T17:09:34.165859Z",
     "end_time": "2024-03-06T17:09:34.226798Z"
    }
   }
  },
  {
   "cell_type": "code",
   "execution_count": 136,
   "outputs": [],
   "source": [
    "def create_noise(batch_size, z_size, mode_z):\n",
    "    if mode_z == 'uniform':\n",
    "        input_z = torch.rand(batch_size, z_size)*2 - 1\n",
    "    elif mode_z == 'normal':\n",
    "        input_z = torch.randn(batch_size, z_size)\n",
    "    return input_z\n",
    "\n",
    "mode_z = 'uniform'\n",
    "fixed_z = create_noise(batch_size, z_size, mode_z).to(device)\n",
    "\n",
    "def create_samples(g_model, input_z, input_t):\n",
    "    g_output = g_model(input_z, input_t)\n",
    "    images = torch.reshape(g_output, (batch_size, *image_size))\n",
    "    return (images+1)/2.0"
   ],
   "metadata": {
    "collapsed": false,
    "ExecuteTime": {
     "start_time": "2024-03-06T17:09:34.605467Z",
     "end_time": "2024-03-06T17:09:34.658888Z"
    }
   }
  },
  {
   "cell_type": "code",
   "execution_count": 137,
   "outputs": [],
   "source": [
    "noise = create_noise(64, 100, \"uniform\")"
   ],
   "metadata": {
    "collapsed": false,
    "ExecuteTime": {
     "start_time": "2024-03-06T17:09:35.073090Z",
     "end_time": "2024-03-06T17:09:35.132506Z"
    }
   }
  },
  {
   "cell_type": "code",
   "execution_count": 138,
   "outputs": [
    {
     "data": {
      "text/plain": "torch.Size([64, 100])"
     },
     "execution_count": 138,
     "metadata": {},
     "output_type": "execute_result"
    }
   ],
   "source": [
    "noise.shape"
   ],
   "metadata": {
    "collapsed": false,
    "ExecuteTime": {
     "start_time": "2024-03-06T17:09:35.433431Z",
     "end_time": "2024-03-06T17:09:35.474006Z"
    }
   }
  },
  {
   "cell_type": "code",
   "execution_count": 140,
   "outputs": [],
   "source": [
    "class Generator(nn.Module):\n",
    "    def __init__(self, noise_dim, word_embedding_dim, output_shape):\n",
    "        super(Generator, self).__init__()\n",
    "\n",
    "        self.noise_dim = noise_dim\n",
    "        self.word_embedding_dim = word_embedding_dim\n",
    "\n",
    "        # Define the layers of your generator\n",
    "        self.fc_noise = nn.Linear(noise_dim, 105*8)  # Increase the size for more complexity\n",
    "        self.fc_word_embedding = nn.Linear(word_embedding_dim, 105*8)  # Increase the size for more complexity\n",
    "        self.conv1 = nn.Conv2d(2, 128, kernel_size=3, stride=1, padding=1)\n",
    "        self.bn1 = nn.BatchNorm2d(128)\n",
    "        self.relu = nn.LeakyReLU(0.2)\n",
    "\n",
    "        self.conv2 = nn.Conv2d(128, 64, kernel_size=3, stride=1, padding=1)\n",
    "        self.bn2 = nn.BatchNorm2d(64)\n",
    "\n",
    "        self.conv3 = nn.Conv2d(64, 1, kernel_size=3, stride=1, padding=1)\n",
    "        self.tanh = nn.Tanh()\n",
    "\n",
    "    def forward(self, noise, word_embedding):\n",
    "        # Process noise\n",
    "        noise = self.fc_noise(noise)\n",
    "        noise = noise.view(noise.size(0), 1, 105,8)  # Adjust the size to match conv1\n",
    "\n",
    "        # Process word embedding\n",
    "        word_embedding = self.fc_word_embedding(word_embedding.to(device))\n",
    "        word_embedding = word_embedding.view(word_embedding.size(0), 1, 105, 8)  # Adjust the size to match conv1\n",
    "\n",
    "        # Concatenate noise and word embedding\n",
    "        combined_input = torch.cat([noise, word_embedding], dim=1)\n",
    "\n",
    "        # Upsample and generate the output\n",
    "        z = self.conv1(combined_input)\n",
    "        z = self.bn1(z)\n",
    "        z = self.relu(z)\n",
    "\n",
    "        z = self.conv2(z)\n",
    "        z = self.bn2(z)\n",
    "        z = self.relu(z)\n",
    "\n",
    "        z = self.conv3(z)\n",
    "        z = self.tanh(z)\n",
    "\n",
    "        return z\n",
    "\n",
    "class DiscriminatorWGAN(nn.Module):\n",
    "    def __init__(self, n_filters):\n",
    "        super(DiscriminatorWGAN, self).__init__()\n",
    "        self.network = nn.Sequential(\n",
    "            nn.Conv2d(1, n_filters, kernel_size=4, stride=2, padding=1, bias=False),\n",
    "            nn.LeakyReLU(0.2),\n",
    "\n",
    "            nn.Conv2d(n_filters, n_filters*2, kernel_size=4, stride=2, padding=1, bias=False),\n",
    "            nn.InstanceNorm2d(n_filters * 2),\n",
    "            nn.LeakyReLU(0.2),\n",
    "\n",
    "            nn.Conv2d(n_filters*2, n_filters*4, kernel_size=3, stride=2, padding=1, bias=False),\n",
    "            nn.InstanceNorm2d(n_filters*4),\n",
    "            nn.LeakyReLU(0.2),\n",
    "\n",
    "            nn.Flatten(),  # Flatten spatial dimensions\n",
    "\n",
    "            # Fully connected layer to reduce to a single value per sample\n",
    "            nn.Linear(n_filters*4 * (105 // 8) * (8 // 8), 1),\n",
    "            nn.Sigmoid()\n",
    "        )\n",
    "\n",
    "    def forward(self, input):\n",
    "        output = self.network(input)\n",
    "        return output\n"
   ],
   "metadata": {
    "collapsed": false,
    "ExecuteTime": {
     "start_time": "2024-03-06T17:09:57.102915Z",
     "end_time": "2024-03-06T17:09:57.135758Z"
    }
   }
  },
  {
   "cell_type": "code",
   "execution_count": 141,
   "outputs": [],
   "source": [
    "gen_model = Generator(z_size, 150, output_shape).to(device)\n",
    "disc_model = DiscriminatorWGAN(n_filters).to(device)\n",
    "\n",
    "g_optimizer = torch.optim.Adam(gen_model.parameters(), 0.00002)\n",
    "d_optimizer = torch.optim.Adam(disc_model.parameters(), 0.00002)"
   ],
   "metadata": {
    "collapsed": false,
    "ExecuteTime": {
     "start_time": "2024-03-06T17:09:59.381603Z",
     "end_time": "2024-03-06T17:09:59.415039Z"
    }
   }
  },
  {
   "cell_type": "code",
   "execution_count": 142,
   "outputs": [],
   "source": [
    "\n",
    "def gradient_penalty(real_data, generated_data):\n",
    "    batch_size = real_data.size(0)\n",
    "\n",
    "    # Calculate interpolation\n",
    "    alpha = torch.rand(real_data.shape[0], 1, 1, 1, requires_grad=True, device=device)\n",
    "    #print(\"Gen:\", generated_data.shape)\n",
    "    interpolated = alpha * real_data + (1 - alpha) * generated_data\n",
    "\n",
    "    # Calculate probability of interpolated examples\n",
    "    proba_interpolated = disc_model(interpolated)\n",
    "\n",
    "    # Calculate gradients of probabilities with respect to examples\n",
    "    gradients = torch_grad(outputs=proba_interpolated, inputs=interpolated,\n",
    "                           grad_outputs=torch.ones(proba_interpolated.size(), device=device),\n",
    "                           create_graph=True, retain_graph=True)[0]\n",
    "\n",
    "    gradients = gradients.view(batch_size, -1)\n",
    "    gradients_norm = gradients.norm(2, dim=1)\n",
    "    return lambda_gp * ((gradients_norm - 1)**2).mean()\n"
   ],
   "metadata": {
    "collapsed": false,
    "ExecuteTime": {
     "start_time": "2024-03-06T17:10:00.002082Z",
     "end_time": "2024-03-06T17:10:00.079733Z"
    }
   }
  },
  {
   "cell_type": "code",
   "execution_count": 143,
   "outputs": [],
   "source": [
    "## Train the discriminator\n",
    "def d_train_wgan(x, input_t):\n",
    "    disc_model.zero_grad()\n",
    "\n",
    "    batch_size = x.size(0)\n",
    "    x = x.to(device)\n",
    "    #print(\"X:\", x.shape)\n",
    "    # Calculate probabilities on real and generated data\n",
    "    d_real = disc_model(x)\n",
    "    input_z = create_noise(batch_size, z_size, mode_z).to(device)\n",
    "    g_output = gen_model(input_z, input_t)\n",
    "    #print(\"D Real:\", d_real.shape)\n",
    "\n",
    "    d_generated = disc_model(g_output)\n",
    "    #print(\"G output:\", g_output.shape)\n",
    "\n",
    "    d_loss = d_generated.mean() - d_real.mean() + gradient_penalty(x.data, g_output.data)\n",
    "\n",
    "    d_loss.backward()\n",
    "    d_optimizer.step()\n",
    "\n",
    "    return d_loss.data.item()"
   ],
   "metadata": {
    "collapsed": false,
    "ExecuteTime": {
     "start_time": "2024-03-06T17:10:00.809201Z",
     "end_time": "2024-03-06T17:10:00.846025Z"
    }
   }
  },
  {
   "cell_type": "code",
   "execution_count": 144,
   "outputs": [],
   "source": [
    "## Train the generator\n",
    "def g_train_wgan(x, input_t):\n",
    "    gen_model.zero_grad()\n",
    "\n",
    "    batch_size = x.size(0)\n",
    "    input_z = create_noise(batch_size, z_size, mode_z).to(device)\n",
    "\n",
    "    g_output = gen_model(input_z, input_t)\n",
    "\n",
    "    d_generated = disc_model(g_output)\n",
    "    g_loss = -d_generated.mean()\n",
    "    print(\"G Loss:\", g_loss)\n",
    "\n",
    "    # gradient backprop & optimize ONLY G's parameters\n",
    "    g_loss.backward()\n",
    "    g_optimizer.step()\n",
    "\n",
    "    return g_loss.data.item()"
   ],
   "metadata": {
    "collapsed": false,
    "ExecuteTime": {
     "start_time": "2024-03-06T17:10:01.346028Z",
     "end_time": "2024-03-06T17:10:01.388458Z"
    }
   }
  },
  {
   "cell_type": "code",
   "execution_count": 145,
   "outputs": [
    {
     "name": "stdout",
     "output_type": "stream",
     "text": [
      "T: tensor([[[[-8.4443e-03, -1.9176e-02, -2.1459e-02,  ..., -2.5626e-02,\n",
      "           -2.0094e-02, -1.6487e-02],\n",
      "          [-2.4960e-02, -2.0529e-02, -2.0863e-02,  ..., -2.0392e-02,\n",
      "           -1.9405e-02, -1.8536e-02],\n",
      "          [-8.1042e-03, -2.4881e-03, -1.4266e-02,  ..., -1.1138e-02,\n",
      "           -1.3892e-02, -2.1972e-02],\n",
      "          ...,\n",
      "          [-1.4785e-02, -1.7782e-02, -1.5470e-02,  ..., -1.6162e-02,\n",
      "           -2.4063e-02, -2.7194e-02],\n",
      "          [-5.3006e-03, -8.4901e-03, -4.5342e-03,  ..., -1.6185e-02,\n",
      "           -1.9304e-02, -1.2332e-02],\n",
      "          [-1.0411e-02, -1.8819e-02, -2.4181e-02,  ..., -1.3150e-02,\n",
      "           -1.6905e-02, -3.1616e-02]]],\n",
      "\n",
      "\n",
      "        [[[-1.3685e-02, -9.7599e-03, -7.0305e-03,  ..., -1.7932e-02,\n",
      "           -1.9210e-02, -1.5928e-02],\n",
      "          [-1.5158e-02, -8.4017e-03, -1.0504e-02,  ..., -1.4120e-02,\n",
      "           -8.1077e-03, -6.9838e-03],\n",
      "          [-1.6963e-02, -9.2921e-03, -7.0514e-03,  ..., -4.5759e-03,\n",
      "           -7.6884e-03, -1.2391e-02],\n",
      "          ...,\n",
      "          [-2.0960e-02, -2.0533e-02, -2.1207e-02,  ..., -2.4278e-02,\n",
      "           -2.3870e-02, -2.1631e-02],\n",
      "          [-2.2614e-02, -2.4165e-02, -2.4496e-02,  ..., -2.5639e-02,\n",
      "           -2.3165e-02, -2.3481e-02],\n",
      "          [-2.3269e-02, -2.1983e-02, -2.7456e-02,  ..., -2.3328e-02,\n",
      "           -2.2829e-02, -3.1616e-02]]],\n",
      "\n",
      "\n",
      "        [[[-2.5025e-02, -1.6299e-02, -5.0846e-03,  ..., -3.9938e-03,\n",
      "           -2.3795e-02, -8.5517e-03],\n",
      "          [ 1.6645e-03,  2.9889e-02,  2.0827e-03,  ...,  6.1767e-03,\n",
      "            9.8072e-03,  5.1784e-03],\n",
      "          [-8.6353e-03,  4.4540e-03,  2.6385e-03,  ..., -1.4398e-03,\n",
      "            2.6523e-02,  1.7952e-02],\n",
      "          ...,\n",
      "          [-2.0911e-03,  2.9296e-04,  2.1885e-04,  ..., -6.1699e-03,\n",
      "           -5.8279e-03, -7.5802e-03],\n",
      "          [-4.3677e-03, -1.1790e-02, -6.2741e-03,  ..., -2.2135e-02,\n",
      "           -1.0661e-02, -1.3478e-02],\n",
      "          [-1.2489e-02, -9.7336e-03, -2.1942e-02,  ..., -1.2417e-02,\n",
      "           -1.3680e-02, -3.1616e-02]]],\n",
      "\n",
      "\n",
      "        ...,\n",
      "\n",
      "\n",
      "        [[[-1.1156e-02,  8.4837e-03,  8.3759e-03,  ..., -2.2056e-02,\n",
      "           -7.4296e-03, -5.9253e-05],\n",
      "          [-1.8893e-03, -2.2867e-02, -2.9701e-02,  ..., -2.4463e-02,\n",
      "           -2.1407e-02, -2.0216e-02],\n",
      "          [-1.9713e-02, -1.9748e-02, -1.4032e-02,  ..., -1.3562e-02,\n",
      "           -1.5379e-02, -7.7632e-03],\n",
      "          ...,\n",
      "          [-9.4201e-03, -9.1467e-03, -8.6312e-03,  ..., -2.0659e-02,\n",
      "           -1.3676e-02, -1.8036e-02],\n",
      "          [-1.4179e-02, -1.6167e-02, -2.0373e-02,  ..., -2.0575e-02,\n",
      "           -2.0154e-02, -2.1948e-02],\n",
      "          [-2.0818e-02, -1.8502e-02, -2.1460e-02,  ..., -2.3816e-02,\n",
      "           -2.2128e-02, -3.1616e-02]]],\n",
      "\n",
      "\n",
      "        [[[-8.4573e-03,  5.8999e-03,  2.7041e-02,  ...,  7.4538e-02,\n",
      "            9.6856e-04,  5.3372e-03],\n",
      "          [ 2.1983e-02,  4.3793e-02,  5.3350e-02,  ...,  6.5139e-03,\n",
      "            2.9124e-02,  2.5079e-02],\n",
      "          [-7.0404e-03,  4.1040e-03,  1.5230e-02,  ...,  1.4164e-02,\n",
      "            7.1743e-02,  6.5268e-02],\n",
      "          ...,\n",
      "          [ 2.7978e-01,  4.3041e-01,  5.9394e-01,  ...,  1.7666e-01,\n",
      "            6.8754e-02,  2.3270e-02],\n",
      "          [ 5.9763e-02,  1.2643e-01,  1.7924e-01,  ..., -1.4193e-02,\n",
      "            1.4331e-01,  8.7122e-03],\n",
      "          [ 2.4548e-02,  3.7397e-02, -1.8884e-02,  ...,  1.3199e-03,\n",
      "            2.2015e-02, -3.1616e-02]]],\n",
      "\n",
      "\n",
      "        [[[ 1.9572e-02, -8.1245e-03, -3.6554e-03,  ..., -1.2588e-02,\n",
      "           -1.1800e-02, -1.1932e-02],\n",
      "          [-4.6688e-03,  9.0285e-04,  7.9660e-03,  ..., -3.0051e-03,\n",
      "            1.2683e-02,  2.1357e-02],\n",
      "          [-4.1626e-03,  1.5115e-02,  1.9935e-02,  ...,  2.8314e-02,\n",
      "            2.9216e-02,  2.0840e-02],\n",
      "          ...,\n",
      "          [-1.9983e-02, -1.0398e-02, -1.2109e-02,  ..., -2.1243e-02,\n",
      "           -2.1753e-02, -1.9526e-02],\n",
      "          [-1.2621e-02, -2.0303e-02, -1.5564e-02,  ..., -1.9777e-02,\n",
      "           -1.8792e-02, -1.6757e-02],\n",
      "          [-8.4837e-03, -1.2045e-02, -2.2007e-02,  ..., -1.6095e-02,\n",
      "           -1.5131e-02, -3.1616e-02]]]])\n",
      "D Loss: 14.265323638916016\n",
      "D Loss: 39.07489776611328\n",
      "D Loss: 14.791297912597656\n",
      "D Loss: 37.512847900390625\n",
      "D Loss: 21.306970596313477\n",
      "G Loss: tensor(-0.4997, grad_fn=<NegBackward0>)\n",
      "T: tensor([[[[ 0.0466,  0.0139,  0.0394,  ..., -0.0046, -0.0086,  0.0524],\n",
      "          [ 0.0412,  0.0383,  0.0341,  ...,  0.0340,  0.0721,  0.0695],\n",
      "          [-0.0013,  0.0197,  0.0665,  ...,  0.0626,  0.0570,  0.0156],\n",
      "          ...,\n",
      "          [ 0.0779,  0.1397,  0.1624,  ...,  0.0613,  0.0396,  0.1715],\n",
      "          [ 0.1360,  0.1249,  0.0614,  ...,  0.0290,  0.0907,  0.1051],\n",
      "          [ 0.0737,  0.0461,  0.0109,  ...,  0.0913,  0.0861, -0.0316]]],\n",
      "\n",
      "\n",
      "        [[[-0.0021,  0.0072,  0.0012,  ..., -0.0160, -0.0114, -0.0004],\n",
      "          [ 0.0013,  0.0009,  0.0003,  ..., -0.0009,  0.0066,  0.0225],\n",
      "          [-0.0105,  0.0130,  0.0077,  ...,  0.0097,  0.0138,  0.0052],\n",
      "          ...,\n",
      "          [ 0.0175,  0.0227,  0.0281,  ...,  0.0227,  0.0397,  0.1732],\n",
      "          [ 0.0241,  0.0396,  0.0142,  ...,  0.1436,  0.0261,  0.0337],\n",
      "          [ 0.0088,  0.0047, -0.0045,  ...,  0.0171,  0.0180, -0.0316]]],\n",
      "\n",
      "\n",
      "        [[[-0.0246, -0.0098,  0.0052,  ..., -0.0112, -0.0124, -0.0038],\n",
      "          [ 0.0063,  0.0185,  0.0076,  ...,  0.0192,  0.0451,  0.0188],\n",
      "          [-0.0123,  0.0153,  0.0223,  ...,  0.0259,  0.0150,  0.0074],\n",
      "          ...,\n",
      "          [ 0.0148, -0.0207, -0.0153,  ..., -0.0054, -0.0140, -0.0242],\n",
      "          [-0.0198, -0.0045,  0.0057,  ...,  0.0080, -0.0258, -0.0066],\n",
      "          [ 0.0045,  0.0156, -0.0167,  ..., -0.0221, -0.0176, -0.0316]]],\n",
      "\n",
      "\n",
      "        ...,\n",
      "\n",
      "\n",
      "        [[[-0.0261, -0.0166, -0.0102,  ..., -0.0108, -0.0259, -0.0103],\n",
      "          [-0.0053,  0.0445, -0.0039,  ...,  0.0013,  0.0365,  0.0183],\n",
      "          [-0.0154,  0.0120,  0.0013,  ..., -0.0011,  0.0230, -0.0079],\n",
      "          ...,\n",
      "          [ 0.0890,  0.0684,  0.0641,  ...,  0.0911,  0.0883,  0.1266],\n",
      "          [ 0.1241,  0.0891,  0.0578,  ...,  0.0101,  0.0256,  0.0159],\n",
      "          [ 0.0267,  0.0581,  0.0336,  ...,  0.0119,  0.0288, -0.0316]]],\n",
      "\n",
      "\n",
      "        [[[-0.0181, -0.0019, -0.0159,  ..., -0.0249, -0.0250, -0.0126],\n",
      "          [-0.0244, -0.0183, -0.0225,  ..., -0.0259, -0.0255, -0.0230],\n",
      "          [-0.0197, -0.0167, -0.0152,  ..., -0.0069, -0.0197, -0.0235],\n",
      "          ...,\n",
      "          [-0.0046, -0.0067,  0.0005,  ..., -0.0111, -0.0163, -0.0239],\n",
      "          [ 0.0087, -0.0013, -0.0071,  ..., -0.0180, -0.0080, -0.0091],\n",
      "          [-0.0074, -0.0106, -0.0182,  ..., -0.0084, -0.0039, -0.0316]]],\n",
      "\n",
      "\n",
      "        [[[-0.0023,  0.0331,  0.0496,  ..., -0.0084,  0.0314,  0.0330],\n",
      "          [ 0.0248,  0.0246,  0.0118,  ...,  0.0079,  0.0200,  0.0173],\n",
      "          [-0.0012,  0.0076,  0.0084,  ...,  0.0117,  0.0174, -0.0058],\n",
      "          ...,\n",
      "          [-0.0128, -0.0077, -0.0106,  ..., -0.0178, -0.0197, -0.0222],\n",
      "          [-0.0118, -0.0109, -0.0177,  ..., -0.0152, -0.0180, -0.0203],\n",
      "          [-0.0170, -0.0165, -0.0129,  ..., -0.0200, -0.0123, -0.0316]]]])\n",
      "D Loss: 16.670875549316406\n",
      "D Loss: 16.622549057006836\n",
      "D Loss: 25.3233699798584\n",
      "D Loss: 17.526212692260742\n",
      "D Loss: 48.57757568359375\n",
      "G Loss: tensor(-0.5091, grad_fn=<NegBackward0>)\n",
      "T: tensor([[[[-2.2179e-02, -2.1885e-02, -2.3379e-02,  ..., -2.2996e-02,\n",
      "           -2.2769e-02, -1.6885e-02],\n",
      "          [-2.7047e-02,  5.1040e-03, -2.5015e-02,  ..., -2.4453e-02,\n",
      "           -2.5405e-02, -2.2407e-02],\n",
      "          [-2.8531e-02, -2.8622e-02, -2.0233e-02,  ..., -1.5652e-02,\n",
      "           -1.3478e-02, -1.4103e-02],\n",
      "          ...,\n",
      "          [-2.0450e-02, -1.4003e-02, -1.6506e-02,  ..., -2.4217e-02,\n",
      "           -2.5730e-02, -2.7075e-02],\n",
      "          [-1.8078e-02, -1.9245e-02, -2.3558e-02,  ..., -1.9983e-02,\n",
      "           -2.0723e-02, -2.3740e-02],\n",
      "          [-2.5908e-02, -2.1955e-02, -2.6784e-02,  ..., -2.6689e-02,\n",
      "           -2.7608e-02, -3.1616e-02]]],\n",
      "\n",
      "\n",
      "        [[[-2.7416e-02, -2.7491e-02, -2.3432e-02,  ..., -2.7286e-02,\n",
      "           -2.5074e-02, -2.3239e-02],\n",
      "          [-2.5105e-02, -2.6254e-02, -2.5472e-02,  ..., -2.0989e-02,\n",
      "           -2.1026e-02, -2.6065e-02],\n",
      "          [-2.6452e-02, -2.2554e-02, -2.5118e-02,  ..., -2.7084e-02,\n",
      "           -2.6334e-02, -2.7202e-02],\n",
      "          ...,\n",
      "          [-1.1808e-02, -5.3990e-03,  3.2123e-03,  ..., -2.2362e-02,\n",
      "           -2.6862e-02, -2.7249e-02],\n",
      "          [-1.6006e-02, -2.0638e-02, -2.1755e-02,  ..., -2.5515e-02,\n",
      "           -2.0355e-02, -2.3506e-02],\n",
      "          [-2.6006e-02, -2.5824e-02, -2.8264e-02,  ..., -2.7140e-02,\n",
      "           -2.6372e-02, -3.1616e-02]]],\n",
      "\n",
      "\n",
      "        [[[-2.9175e-02, -2.6897e-02, -2.4295e-02,  ..., -2.1821e-02,\n",
      "           -2.9153e-02, -2.5514e-02],\n",
      "          [-2.3732e-02, -1.5052e-02, -2.0197e-02,  ..., -2.2508e-02,\n",
      "           -2.2031e-02, -1.3748e-02],\n",
      "          [-2.2593e-02, -2.1966e-02, -2.6196e-02,  ..., -2.7995e-02,\n",
      "           -2.5382e-02, -1.4022e-02],\n",
      "          ...,\n",
      "          [ 2.7806e-03,  1.3274e-02,  1.0451e-02,  ..., -1.4683e-02,\n",
      "           -2.0431e-02, -2.3434e-02],\n",
      "          [ 5.7980e-03, -2.1244e-02, -1.7257e-02,  ..., -3.9445e-03,\n",
      "           -2.4009e-02, -2.1571e-02],\n",
      "          [-2.3377e-02, -2.2610e-02,  2.0870e-02,  ..., -2.4964e-02,\n",
      "           -2.7001e-02, -3.1616e-02]]],\n",
      "\n",
      "\n",
      "        ...,\n",
      "\n",
      "\n",
      "        [[[-1.7432e-02, -1.6303e-02, -1.2381e-02,  ..., -2.9573e-02,\n",
      "           -1.9720e-02, -1.5466e-02],\n",
      "          [-1.8902e-02, -2.6630e-02, -2.6168e-02,  ..., -1.6262e-02,\n",
      "           -1.6753e-02, -1.9003e-02],\n",
      "          [-1.5644e-02, -1.7109e-02, -1.8045e-02,  ..., -6.6879e-03,\n",
      "           -2.3449e-02, -2.7038e-02],\n",
      "          ...,\n",
      "          [-7.3263e-03,  1.7247e-02,  8.3278e-03,  ..., -1.2672e-02,\n",
      "           -9.4075e-03, -1.3297e-02],\n",
      "          [-7.8837e-03, -6.7007e-03, -1.3183e-02,  ..., -1.0808e-02,\n",
      "           -7.4021e-03, -1.4789e-02],\n",
      "          [-7.9344e-03, -1.1496e-02, -1.4736e-02,  ..., -1.9822e-02,\n",
      "           -1.3047e-02, -3.1616e-02]]],\n",
      "\n",
      "\n",
      "        [[[ 3.7902e-03,  1.6988e-02,  4.1911e-02,  ..., -1.3845e-02,\n",
      "            2.0730e-02,  3.3684e-02],\n",
      "          [ 3.3960e-02,  6.8538e-02, -1.5204e-04,  ...,  1.8475e-02,\n",
      "            1.7669e-02,  1.4898e-02],\n",
      "          [ 2.4327e-03,  7.4838e-03,  7.6362e-03,  ..., -3.2338e-03,\n",
      "           -1.2578e-02, -2.0068e-02],\n",
      "          ...,\n",
      "          [-2.4553e-02, -2.0518e-02, -2.1943e-02,  ..., -2.4616e-02,\n",
      "           -1.9132e-02, -2.4232e-02],\n",
      "          [-2.4344e-02, -2.6335e-02, -2.4058e-02,  ..., -2.1940e-02,\n",
      "           -2.3041e-02, -2.2934e-02],\n",
      "          [-2.2044e-02, -1.9478e-02, -1.9895e-02,  ..., -2.3964e-02,\n",
      "           -2.0415e-02, -3.1616e-02]]],\n",
      "\n",
      "\n",
      "        [[[-2.7376e-02, -1.8743e-02, -1.5012e-02,  ..., -8.4779e-03,\n",
      "           -2.1714e-02, -6.1183e-03],\n",
      "          [-7.4776e-03,  9.3284e-03, -5.3387e-05,  ...,  4.6088e-03,\n",
      "            1.8881e-02, -1.6937e-03],\n",
      "          [-2.3800e-03,  8.8988e-03, -2.0681e-03,  ...,  1.0263e-02,\n",
      "            2.9769e-03, -2.7562e-03],\n",
      "          ...,\n",
      "          [ 2.2974e-02,  1.0613e-02,  6.5429e-03,  ...,  2.8332e-02,\n",
      "            2.6401e-02,  4.7565e-02],\n",
      "          [ 4.8227e-02,  2.8953e-02,  9.2094e-03,  ..., -8.0453e-03,\n",
      "           -9.6641e-03, -1.3078e-02],\n",
      "          [-5.5845e-03,  1.5677e-02,  3.4927e-02,  ..., -1.0067e-02,\n",
      "            7.1471e-04, -3.1616e-02]]]])\n"
     ]
    },
    {
     "ename": "KeyboardInterrupt",
     "evalue": "",
     "output_type": "error",
     "traceback": [
      "\u001B[1;31m---------------------------------------------------------------------------\u001B[0m",
      "\u001B[1;31mKeyboardInterrupt\u001B[0m                         Traceback (most recent call last)",
      "Cell \u001B[1;32mIn[145], line 16\u001B[0m\n\u001B[0;32m     14\u001B[0m \u001B[38;5;28mprint\u001B[39m(\u001B[38;5;124m\"\u001B[39m\u001B[38;5;124mT:\u001B[39m\u001B[38;5;124m\"\u001B[39m, x)\n\u001B[0;32m     15\u001B[0m \u001B[38;5;28;01mfor\u001B[39;00m _ \u001B[38;5;129;01min\u001B[39;00m \u001B[38;5;28mrange\u001B[39m(critic_iterations):\n\u001B[1;32m---> 16\u001B[0m     d_loss \u001B[38;5;241m=\u001B[39m \u001B[43md_train_wgan\u001B[49m\u001B[43m(\u001B[49m\u001B[43mx\u001B[49m\u001B[43m,\u001B[49m\u001B[43m \u001B[49m\u001B[43mt\u001B[49m\u001B[43m)\u001B[49m\n\u001B[0;32m     17\u001B[0m     \u001B[38;5;28mprint\u001B[39m(\u001B[38;5;124m\"\u001B[39m\u001B[38;5;124mD Loss:\u001B[39m\u001B[38;5;124m\"\u001B[39m, d_loss)\n\u001B[0;32m     18\u001B[0m d_losses\u001B[38;5;241m.\u001B[39mappend(d_loss)\n",
      "Cell \u001B[1;32mIn[143], line 11\u001B[0m, in \u001B[0;36md_train_wgan\u001B[1;34m(x, input_t)\u001B[0m\n\u001B[0;32m      9\u001B[0m d_real \u001B[38;5;241m=\u001B[39m disc_model(x)\n\u001B[0;32m     10\u001B[0m input_z \u001B[38;5;241m=\u001B[39m create_noise(batch_size, z_size, mode_z)\u001B[38;5;241m.\u001B[39mto(device)\n\u001B[1;32m---> 11\u001B[0m g_output \u001B[38;5;241m=\u001B[39m \u001B[43mgen_model\u001B[49m\u001B[43m(\u001B[49m\u001B[43minput_z\u001B[49m\u001B[43m,\u001B[49m\u001B[43m \u001B[49m\u001B[43minput_t\u001B[49m\u001B[43m)\u001B[49m\n\u001B[0;32m     12\u001B[0m \u001B[38;5;66;03m#print(\"D Real:\", d_real.shape)\u001B[39;00m\n\u001B[0;32m     14\u001B[0m d_generated \u001B[38;5;241m=\u001B[39m disc_model(g_output)\n",
      "File \u001B[1;32m~\\Anaconda3\\lib\\site-packages\\torch\\nn\\modules\\module.py:1501\u001B[0m, in \u001B[0;36mModule._call_impl\u001B[1;34m(self, *args, **kwargs)\u001B[0m\n\u001B[0;32m   1496\u001B[0m \u001B[38;5;66;03m# If we don't have any hooks, we want to skip the rest of the logic in\u001B[39;00m\n\u001B[0;32m   1497\u001B[0m \u001B[38;5;66;03m# this function, and just call forward.\u001B[39;00m\n\u001B[0;32m   1498\u001B[0m \u001B[38;5;28;01mif\u001B[39;00m \u001B[38;5;129;01mnot\u001B[39;00m (\u001B[38;5;28mself\u001B[39m\u001B[38;5;241m.\u001B[39m_backward_hooks \u001B[38;5;129;01mor\u001B[39;00m \u001B[38;5;28mself\u001B[39m\u001B[38;5;241m.\u001B[39m_backward_pre_hooks \u001B[38;5;129;01mor\u001B[39;00m \u001B[38;5;28mself\u001B[39m\u001B[38;5;241m.\u001B[39m_forward_hooks \u001B[38;5;129;01mor\u001B[39;00m \u001B[38;5;28mself\u001B[39m\u001B[38;5;241m.\u001B[39m_forward_pre_hooks\n\u001B[0;32m   1499\u001B[0m         \u001B[38;5;129;01mor\u001B[39;00m _global_backward_pre_hooks \u001B[38;5;129;01mor\u001B[39;00m _global_backward_hooks\n\u001B[0;32m   1500\u001B[0m         \u001B[38;5;129;01mor\u001B[39;00m _global_forward_hooks \u001B[38;5;129;01mor\u001B[39;00m _global_forward_pre_hooks):\n\u001B[1;32m-> 1501\u001B[0m     \u001B[38;5;28;01mreturn\u001B[39;00m forward_call(\u001B[38;5;241m*\u001B[39margs, \u001B[38;5;241m*\u001B[39m\u001B[38;5;241m*\u001B[39mkwargs)\n\u001B[0;32m   1502\u001B[0m \u001B[38;5;66;03m# Do not call functions when jit is used\u001B[39;00m\n\u001B[0;32m   1503\u001B[0m full_backward_hooks, non_full_backward_hooks \u001B[38;5;241m=\u001B[39m [], []\n",
      "Cell \u001B[1;32mIn[140], line 36\u001B[0m, in \u001B[0;36mGenerator.forward\u001B[1;34m(self, noise, word_embedding)\u001B[0m\n\u001B[0;32m     34\u001B[0m z \u001B[38;5;241m=\u001B[39m \u001B[38;5;28mself\u001B[39m\u001B[38;5;241m.\u001B[39mconv1(combined_input)\n\u001B[0;32m     35\u001B[0m z \u001B[38;5;241m=\u001B[39m \u001B[38;5;28mself\u001B[39m\u001B[38;5;241m.\u001B[39mbn1(z)\n\u001B[1;32m---> 36\u001B[0m z \u001B[38;5;241m=\u001B[39m \u001B[38;5;28;43mself\u001B[39;49m\u001B[38;5;241;43m.\u001B[39;49m\u001B[43mrelu\u001B[49m\u001B[43m(\u001B[49m\u001B[43mz\u001B[49m\u001B[43m)\u001B[49m\n\u001B[0;32m     38\u001B[0m z \u001B[38;5;241m=\u001B[39m \u001B[38;5;28mself\u001B[39m\u001B[38;5;241m.\u001B[39mconv2(z)\n\u001B[0;32m     39\u001B[0m z \u001B[38;5;241m=\u001B[39m \u001B[38;5;28mself\u001B[39m\u001B[38;5;241m.\u001B[39mbn2(z)\n",
      "File \u001B[1;32m~\\Anaconda3\\lib\\site-packages\\torch\\nn\\modules\\module.py:1501\u001B[0m, in \u001B[0;36mModule._call_impl\u001B[1;34m(self, *args, **kwargs)\u001B[0m\n\u001B[0;32m   1496\u001B[0m \u001B[38;5;66;03m# If we don't have any hooks, we want to skip the rest of the logic in\u001B[39;00m\n\u001B[0;32m   1497\u001B[0m \u001B[38;5;66;03m# this function, and just call forward.\u001B[39;00m\n\u001B[0;32m   1498\u001B[0m \u001B[38;5;28;01mif\u001B[39;00m \u001B[38;5;129;01mnot\u001B[39;00m (\u001B[38;5;28mself\u001B[39m\u001B[38;5;241m.\u001B[39m_backward_hooks \u001B[38;5;129;01mor\u001B[39;00m \u001B[38;5;28mself\u001B[39m\u001B[38;5;241m.\u001B[39m_backward_pre_hooks \u001B[38;5;129;01mor\u001B[39;00m \u001B[38;5;28mself\u001B[39m\u001B[38;5;241m.\u001B[39m_forward_hooks \u001B[38;5;129;01mor\u001B[39;00m \u001B[38;5;28mself\u001B[39m\u001B[38;5;241m.\u001B[39m_forward_pre_hooks\n\u001B[0;32m   1499\u001B[0m         \u001B[38;5;129;01mor\u001B[39;00m _global_backward_pre_hooks \u001B[38;5;129;01mor\u001B[39;00m _global_backward_hooks\n\u001B[0;32m   1500\u001B[0m         \u001B[38;5;129;01mor\u001B[39;00m _global_forward_hooks \u001B[38;5;129;01mor\u001B[39;00m _global_forward_pre_hooks):\n\u001B[1;32m-> 1501\u001B[0m     \u001B[38;5;28;01mreturn\u001B[39;00m forward_call(\u001B[38;5;241m*\u001B[39margs, \u001B[38;5;241m*\u001B[39m\u001B[38;5;241m*\u001B[39mkwargs)\n\u001B[0;32m   1502\u001B[0m \u001B[38;5;66;03m# Do not call functions when jit is used\u001B[39;00m\n\u001B[0;32m   1503\u001B[0m full_backward_hooks, non_full_backward_hooks \u001B[38;5;241m=\u001B[39m [], []\n",
      "File \u001B[1;32m~\\Anaconda3\\lib\\site-packages\\torch\\nn\\modules\\activation.py:777\u001B[0m, in \u001B[0;36mLeakyReLU.forward\u001B[1;34m(self, input)\u001B[0m\n\u001B[0;32m    776\u001B[0m \u001B[38;5;28;01mdef\u001B[39;00m \u001B[38;5;21mforward\u001B[39m(\u001B[38;5;28mself\u001B[39m, \u001B[38;5;28minput\u001B[39m: Tensor) \u001B[38;5;241m-\u001B[39m\u001B[38;5;241m>\u001B[39m Tensor:\n\u001B[1;32m--> 777\u001B[0m     \u001B[38;5;28;01mreturn\u001B[39;00m \u001B[43mF\u001B[49m\u001B[38;5;241;43m.\u001B[39;49m\u001B[43mleaky_relu\u001B[49m\u001B[43m(\u001B[49m\u001B[38;5;28;43minput\u001B[39;49m\u001B[43m,\u001B[49m\u001B[43m \u001B[49m\u001B[38;5;28;43mself\u001B[39;49m\u001B[38;5;241;43m.\u001B[39;49m\u001B[43mnegative_slope\u001B[49m\u001B[43m,\u001B[49m\u001B[43m \u001B[49m\u001B[38;5;28;43mself\u001B[39;49m\u001B[38;5;241;43m.\u001B[39;49m\u001B[43minplace\u001B[49m\u001B[43m)\u001B[49m\n",
      "File \u001B[1;32m~\\Anaconda3\\lib\\site-packages\\torch\\nn\\functional.py:1632\u001B[0m, in \u001B[0;36mleaky_relu\u001B[1;34m(input, negative_slope, inplace)\u001B[0m\n\u001B[0;32m   1630\u001B[0m     result \u001B[38;5;241m=\u001B[39m torch\u001B[38;5;241m.\u001B[39m_C\u001B[38;5;241m.\u001B[39m_nn\u001B[38;5;241m.\u001B[39mleaky_relu_(\u001B[38;5;28minput\u001B[39m, negative_slope)\n\u001B[0;32m   1631\u001B[0m \u001B[38;5;28;01melse\u001B[39;00m:\n\u001B[1;32m-> 1632\u001B[0m     result \u001B[38;5;241m=\u001B[39m \u001B[43mtorch\u001B[49m\u001B[38;5;241;43m.\u001B[39;49m\u001B[43m_C\u001B[49m\u001B[38;5;241;43m.\u001B[39;49m\u001B[43m_nn\u001B[49m\u001B[38;5;241;43m.\u001B[39;49m\u001B[43mleaky_relu\u001B[49m\u001B[43m(\u001B[49m\u001B[38;5;28;43minput\u001B[39;49m\u001B[43m,\u001B[49m\u001B[43m \u001B[49m\u001B[43mnegative_slope\u001B[49m\u001B[43m)\u001B[49m\n\u001B[0;32m   1633\u001B[0m \u001B[38;5;28;01mreturn\u001B[39;00m result\n",
      "\u001B[1;31mKeyboardInterrupt\u001B[0m: "
     ]
    }
   ],
   "source": [
    "epoch_samples_wgan = []\n",
    "lambda_gp = 10.0\n",
    "num_epochs = 100\n",
    "torch.manual_seed(1)\n",
    "critic_iterations = 5\n",
    "save_interval = 5\n",
    "checkpoint_path = 'Textual_WGAN_GP_checkpoint_epoch_{}.pth'\n",
    "final_model_path = 'Textual_WGAN_GP_model_final.pth'\n",
    "\n",
    "for epoch in range(1, num_epochs+1):\n",
    "    gen_model.train()\n",
    "    d_losses, g_losses = [], []\n",
    "    for i, (x, t) in enumerate(trainloader):\n",
    "        print(\"T:\", x)\n",
    "        for _ in range(critic_iterations):\n",
    "            d_loss = d_train_wgan(x, t)\n",
    "            print(\"D Loss:\", d_loss)\n",
    "        d_losses.append(d_loss)\n",
    "        g_losses.append(g_train_wgan(x, t))\n",
    "\n",
    "    print(f'Epoch {epoch:03d} | D Loss >>'\n",
    "          f' {torch.FloatTensor(d_losses).mean():.4f}')\n",
    "    print(f'Epoch {epoch:03d} | G Loss >>'\n",
    "          f' {torch.FloatTensor(g_losses).mean():.4f}')\n",
    "\n",
    "        # Save checkpoints at regular intervals\n",
    "    if epoch % save_interval == 0:\n",
    "        torch.save({\n",
    "            'epoch': epoch,\n",
    "            'gen_model_state_dict': gen_model.state_dict(),\n",
    "            'optimizer_state_dict': g_optimizer.state_dict(),\n",
    "            'd_losses': d_losses,\n",
    "            'g_losses': g_losses,\n",
    "        }, checkpoint_path.format(epoch))\n",
    "\n",
    "\n",
    "    '''\n",
    "    gen_model.eval()\n",
    "    epoch_samples_wgan.append(\n",
    "        create_samples(gen_model, fixed_z, t).detach().cpu().numpy())\n",
    "    '''"
   ],
   "metadata": {
    "collapsed": false
   }
  },
  {
   "cell_type": "code",
   "execution_count": null,
   "outputs": [],
   "source": [
    "# Save the final model after training is complete\n",
    "torch.save({\n",
    "    'epoch': num_epochs,\n",
    "    'gen_model_state_dict': gen_model.state_dict(),\n",
    "    'optimizer_state_dict': g_optimizer.state_dict(),\n",
    "    'd_losses': d_losses,\n",
    "    'g_losses': g_losses,\n",
    "}, final_model_path)"
   ],
   "metadata": {
    "collapsed": false
   }
  },
  {
   "cell_type": "code",
   "execution_count": null,
   "outputs": [],
   "source": [],
   "metadata": {
    "collapsed": false
   }
  }
 ],
 "metadata": {
  "kernelspec": {
   "display_name": "Python 3",
   "language": "python",
   "name": "python3"
  },
  "language_info": {
   "codemirror_mode": {
    "name": "ipython",
    "version": 2
   },
   "file_extension": ".py",
   "mimetype": "text/x-python",
   "name": "python",
   "nbconvert_exporter": "python",
   "pygments_lexer": "ipython2",
   "version": "2.7.6"
  }
 },
 "nbformat": 4,
 "nbformat_minor": 0
}
