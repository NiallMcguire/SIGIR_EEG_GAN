{
 "cells": [
  {
   "cell_type": "code",
   "execution_count": 66,
   "metadata": {
    "collapsed": true,
    "ExecuteTime": {
     "start_time": "2024-03-07T14:47:32.119873Z",
     "end_time": "2024-03-07T14:47:32.138585Z"
    }
   },
   "outputs": [
    {
     "name": "stderr",
     "output_type": "stream",
     "text": [
      "[nltk_data] Downloading package punkt to\n",
      "[nltk_data]     C:\\Users\\gxb18167\\AppData\\Roaming\\nltk_data...\n",
      "[nltk_data]   Package punkt is already up-to-date!\n"
     ]
    }
   ],
   "source": [
    "import sys\n",
    "import nltk\n",
    "import torch.nn.functional as F\n",
    "import torch\n",
    "import torch.nn as nn\n",
    "import numpy as np\n",
    "from sklearn.preprocessing import MinMaxScaler\n",
    "import torch\n",
    "nltk.download('punkt')\n",
    "from gensim.models import Word2Vec\n",
    "from nltk.tokenize import word_tokenize\n",
    "sys.path.insert(0, '..')\n",
    "import pickle\n",
    "from torch.autograd import grad as torch_grad"
   ]
  },
  {
   "cell_type": "code",
   "execution_count": 67,
   "outputs": [
    {
     "name": "stdout",
     "output_type": "stream",
     "text": [
      "2.0.1\n",
      "GPU Available: False\n"
     ]
    }
   ],
   "source": [
    "print(torch.__version__)\n",
    "print(\"GPU Available:\", torch.cuda.is_available())\n",
    "\n",
    "if torch.cuda.is_available():\n",
    "    device = torch.device(\"cuda:0\")\n",
    "else:\n",
    "    device = \"cpu\""
   ],
   "metadata": {
    "collapsed": false,
    "ExecuteTime": {
     "start_time": "2024-03-07T14:47:32.280463Z",
     "end_time": "2024-03-07T14:47:32.346761Z"
    }
   }
  },
  {
   "cell_type": "code",
   "execution_count": 166,
   "outputs": [],
   "source": [
    "batch_size = 64\n",
    "word_embedding_dim = 50\n",
    "output_shape = (1, 105, 456)\n",
    "torch.manual_seed(1)\n",
    "np.random.seed(1)"
   ],
   "metadata": {
    "collapsed": false,
    "ExecuteTime": {
     "start_time": "2024-03-07T15:09:38.295775Z",
     "end_time": "2024-03-07T15:09:38.347783Z"
    }
   }
  },
  {
   "cell_type": "code",
   "execution_count": 167,
   "outputs": [],
   "source": [
    "\n",
    "# To load the lists from the file:\n",
    "with open(r\"C:\\Users\\gxb18167\\PycharmProjects\\EEG-To-Text\\SIGIR_Development\\EEG-GAN\\EEG_Text_Pairs_Sentence.pkl\", 'rb') as file:\n",
    "    EEG_word_level_embeddings = pickle.load(file)\n",
    "    EEG_word_level_labels = pickle.load(file)"
   ],
   "metadata": {
    "collapsed": false,
    "ExecuteTime": {
     "start_time": "2024-03-07T15:09:38.547567Z",
     "end_time": "2024-03-07T15:10:01.075276Z"
    }
   }
  },
  {
   "cell_type": "code",
   "execution_count": 167,
   "outputs": [],
   "source": [],
   "metadata": {
    "collapsed": false,
    "ExecuteTime": {
     "start_time": "2024-03-07T15:10:01.142306Z",
     "end_time": "2024-03-07T15:10:01.176422Z"
    }
   }
  },
  {
   "cell_type": "code",
   "execution_count": 168,
   "outputs": [],
   "source": [
    "def create_word_label_embeddings_sentence(Word_Labels_List, EEG_word_level_embeddings):\n",
    "\n",
    "    tokenized_words = []\n",
    "    for i in range(len(Word_Labels_List)):\n",
    "        tokenized_words.append([Word_Labels_List[i]])\n",
    "    model = Word2Vec(sentences=tokenized_words, vector_size=word_embedding_dim, window=5, min_count=1, workers=4)\n",
    "    word_embeddings = {word: model.wv[word] for word in model.wv.index_to_key}\n",
    "\n",
    "    list_of_sentences = []\n",
    "    sentence = []\n",
    "\n",
    "    max_sentence_length = 0\n",
    "    for words in range (0, len(EEG_word_level_labels)):\n",
    "\n",
    "        current_word = EEG_word_level_labels[words]\n",
    "        current_word_embedding = word_embeddings[current_word]\n",
    "\n",
    "        if words == len(EEG_word_level_labels)-1:\n",
    "            if len(sentence) > max_sentence_length:\n",
    "                max_sentence_length = len(sentence)\n",
    "            list_of_sentences.append(sentence)\n",
    "\n",
    "        elif current_word == \"SOS\" and sentence != []:\n",
    "            if len(sentence) > max_sentence_length:\n",
    "                max_sentence_length = len(sentence)\n",
    "\n",
    "            list_of_sentences.append(sentence)\n",
    "            sentence = []\n",
    "        elif current_word != \"SOS\":\n",
    "            sentence.append(current_word_embedding)\n",
    "\n",
    "\n",
    "\n",
    "    EEG_sentence_list = []\n",
    "    index_counter = 0\n",
    "    for sentence in list_of_sentences:\n",
    "        EEG_sentence = EEG_word_level_embeddings[index_counter:index_counter+len(sentence)]\n",
    "        for i in range(max_sentence_length-len(EEG_sentence)):\n",
    "            EEG_sentence.append(np.zeros((105, 8)))\n",
    "\n",
    "        EEG_sentence_list.append(EEG_sentence)\n",
    "        index_counter += len(sentence)\n",
    "        if len(sentence) > max_sentence_length:\n",
    "            max_sentence_length = len(sentence)\n",
    "\n",
    "    for sentence in list_of_sentences:\n",
    "        for i in range(max_sentence_length-len(sentence)):\n",
    "            sentence.append(np.zeros((word_embedding_dim)))\n",
    "\n",
    "    for i in range(len(EEG_sentence_list)):\n",
    "        EEG_sentence = EEG_sentence_list[i]\n",
    "        contact_EEG_sentence = np.concatenate(EEG_sentence, axis=1)\n",
    "        EEG_sentence_list[i] = contact_EEG_sentence\n",
    "\n",
    "        word_embedding_sentence = list_of_sentences[i]\n",
    "        concat_word_embedding_sentence = np.concatenate(word_embedding_sentence, axis=0)\n",
    "        list_of_sentences[i] = concat_word_embedding_sentence\n",
    "\n",
    "    return EEG_sentence_list, list_of_sentences\n",
    "\n"
   ],
   "metadata": {
    "collapsed": false,
    "ExecuteTime": {
     "start_time": "2024-03-07T15:10:01.197889Z",
     "end_time": "2024-03-07T15:10:01.227885Z"
    }
   }
  },
  {
   "cell_type": "code",
   "execution_count": 169,
   "outputs": [],
   "source": [
    "EEG_sentence_list, list_of_sentences = create_word_label_embeddings_sentence(EEG_word_level_labels, EEG_word_level_embeddings)"
   ],
   "metadata": {
    "collapsed": false,
    "ExecuteTime": {
     "start_time": "2024-03-07T15:10:01.227885Z",
     "end_time": "2024-03-07T15:10:29.652695Z"
    }
   }
  },
  {
   "cell_type": "code",
   "execution_count": 169,
   "outputs": [],
   "source": [],
   "metadata": {
    "collapsed": false,
    "ExecuteTime": {
     "start_time": "2024-03-07T15:10:29.669161Z",
     "end_time": "2024-03-07T15:10:29.709543Z"
    }
   }
  },
  {
   "cell_type": "code",
   "execution_count": 169,
   "outputs": [],
   "source": [],
   "metadata": {
    "collapsed": false,
    "ExecuteTime": {
     "start_time": "2024-03-07T15:10:29.702671Z",
     "end_time": "2024-03-07T15:10:29.726618Z"
    }
   }
  },
  {
   "cell_type": "code",
   "execution_count": 170,
   "outputs": [],
   "source": [
    "def create_word_label_embeddings(Word_Labels_List):\n",
    "\n",
    "    tokenized_words = []\n",
    "    for i in range(len(Word_Labels_List)):\n",
    "        tokenized_words.append([Word_Labels_List[i]])\n",
    "    model = Word2Vec(sentences=tokenized_words, vector_size=word_embedding_dim, window=5, min_count=1, workers=4)\n",
    "    word_embeddings = {word: model.wv[word] for word in model.wv.index_to_key}\n",
    "    print(\"Number of word embeddings:\", len(word_embeddings))\n",
    "\n",
    "    Embedded_Word_labels = []\n",
    "    for word in EEG_word_level_labels:\n",
    "        Embedded_Word_labels.append(word_embeddings[word])\n",
    "\n",
    "    return Embedded_Word_labels, word_embeddings\n",
    "\n",
    "\n",
    "def create_word_label_embeddings_contextual(Word_Labels_List):\n",
    "    tokenized_words = []\n",
    "    for i in range(len(Word_Labels_List)):\n",
    "        tokenized_words.append([Word_Labels_List[i]])\n",
    "    model = Word2Vec(sentences=tokenized_words, vector_size=word_embedding_dim, window=5, min_count=1, workers=4)\n",
    "    word_embeddings = {word: model.wv[word] for word in model.wv.index_to_key}\n",
    "    Embedded_Word_labels = []\n",
    "\n",
    "    for words in range (0, len(EEG_word_level_labels)):\n",
    "        current_word = EEG_word_level_labels[words]\n",
    "        if current_word != \"SOS\" and words != len(EEG_word_level_labels)-1:\n",
    "            prior_word = EEG_word_level_labels[words-1]\n",
    "\n",
    "            current_word = EEG_word_level_labels[words]\n",
    "\n",
    "            next_word = EEG_word_level_labels[words+1]\n",
    "\n",
    "            contextual_embedding = np.concatenate((word_embeddings[prior_word], word_embeddings[current_word], word_embeddings[next_word]), axis=-1)\n",
    "            Embedded_Word_labels.append(contextual_embedding)\n",
    "        elif words == len(EEG_word_level_labels)-1:\n",
    "            prior_word = EEG_word_level_labels[words-1]\n",
    "            next_word = \"SOS\"\n",
    "            contextual_embedding = np.concatenate((word_embeddings[prior_word], word_embeddings[current_word], word_embeddings[next_word]), axis=-1)\n",
    "            Embedded_Word_labels.append(contextual_embedding)\n",
    "\n",
    "    return Embedded_Word_labels, word_embeddings\n",
    "\n",
    "\n",
    "def create_dataloader(EEG_word_level_embeddings, Embedded_Word_labels):\n",
    "    #EEG_word_level_embeddings_normalize = (EEG_word_level_embeddings - np.mean(EEG_word_level_embeddings)) / np.std(EEG_word_level_embeddings)\n",
    "    #Assuming EEG_synthetic is the generated synthetic EEG data\n",
    "    #EEG_synthetic_denormalized = (EEG_synthetic * np.max(np.abs(EEG_word_level_embeddings))) + np.mean(EEG_word_level_embeddings)\n",
    "\n",
    "    EEG_word_level_embeddings_normalize = (EEG_word_level_embeddings - np.mean(EEG_word_level_embeddings)) / np.max(np.abs(EEG_word_level_embeddings))\n",
    "\n",
    "\n",
    "    float_tensor = torch.tensor(EEG_word_level_embeddings_normalize, dtype=torch.float)\n",
    "    float_tensor = float_tensor.unsqueeze(1)\n",
    "\n",
    "    Embedded_Word_labels = torch.tensor(Embedded_Word_labels, dtype=torch.float)\n",
    "\n",
    "    #print(EEG_word_level_embeddings_normalize)\n",
    "    # Calculate mean and standard deviation\n",
    "    print(torch.isnan(float_tensor).any())\n",
    "\n",
    "    train_data = []\n",
    "    for i in range(len(float_tensor)):\n",
    "       train_data.append([float_tensor[i], Embedded_Word_labels[i]])\n",
    "    trainloader = torch.utils.data.DataLoader(train_data, shuffle=True, batch_size=64)\n",
    "    return trainloader"
   ],
   "metadata": {
    "collapsed": false,
    "ExecuteTime": {
     "start_time": "2024-03-07T15:10:29.726618Z",
     "end_time": "2024-03-07T15:10:29.776727Z"
    }
   }
  },
  {
   "cell_type": "code",
   "execution_count": 171,
   "outputs": [],
   "source": [
    "def create_dataloader_sentence(EEG_word_level_embeddings, Embedded_Word_labels):\n",
    "    #EEG_word_level_embeddings_normalize = (EEG_word_level_embeddings - np.mean(EEG_word_level_embeddings)) / np.std(EEG_word_level_embeddings)\n",
    "    #Assuming EEG_synthetic is the generated synthetic EEG data\n",
    "    #EEG_synthetic_denormalized = (EEG_synthetic * np.max(np.abs(EEG_word_level_embeddings))) + np.mean(EEG_word_level_embeddings)\n",
    "\n",
    "    EEG_word_level_embeddings_normalize = (EEG_word_level_embeddings - np.mean(EEG_word_level_embeddings)) / np.max(np.abs(EEG_word_level_embeddings))\n",
    "\n",
    "\n",
    "    float_tensor = torch.tensor(EEG_word_level_embeddings_normalize, dtype=torch.float32)\n",
    "    float_tensor = float_tensor.unsqueeze(1)\n",
    "\n",
    "    #print(EEG_word_level_embeddings_normalize)\n",
    "    # Calculate mean and standard deviation\n",
    "    print(torch.isnan(float_tensor).any())\n",
    "\n",
    "\n",
    "    Embedded_Word_labels = torch.tensor(Embedded_Word_labels, dtype=torch.float32)\n",
    "\n",
    "    train_data = []\n",
    "    for i in range(len(float_tensor)):\n",
    "       train_data.append([float_tensor[i], Embedded_Word_labels[i]])\n",
    "    trainloader = torch.utils.data.DataLoader(train_data, shuffle=True, batch_size=64)\n",
    "    return trainloader"
   ],
   "metadata": {
    "collapsed": false,
    "ExecuteTime": {
     "start_time": "2024-03-07T15:10:29.793961Z",
     "end_time": "2024-03-07T15:10:29.809598Z"
    }
   }
  },
  {
   "cell_type": "code",
   "execution_count": 172,
   "outputs": [
    {
     "data": {
      "text/plain": "dtype('float64')"
     },
     "execution_count": 172,
     "metadata": {},
     "output_type": "execute_result"
    }
   ],
   "source": [
    "EEG_sentence_list[0].dtype"
   ],
   "metadata": {
    "collapsed": false,
    "ExecuteTime": {
     "start_time": "2024-03-07T15:10:29.827501Z",
     "end_time": "2024-03-07T15:10:29.896698Z"
    }
   }
  },
  {
   "cell_type": "code",
   "execution_count": 173,
   "outputs": [
    {
     "data": {
      "text/plain": "'\\nfake_EEG_sentence_list = []\\nfor i in range(0,100):\\n    fake_EEG_sentence_list.append(torch.rand(105, 456, dtype=torch.float32))\\n\\nfake_list_of_sentences = []\\nfor i in range(0,100):\\n    fake_list_of_sentences.append(torch.rand(2850, dtype=torch.float32))\\n'"
     },
     "execution_count": 173,
     "metadata": {},
     "output_type": "execute_result"
    }
   ],
   "source": [
    "'''\n",
    "fake_EEG_sentence_list = []\n",
    "for i in range(0,100):\n",
    "    fake_EEG_sentence_list.append(torch.rand(105, 456, dtype=torch.float32))\n",
    "\n",
    "fake_list_of_sentences = []\n",
    "for i in range(0,100):\n",
    "    fake_list_of_sentences.append(torch.rand(2850, dtype=torch.float32))\n",
    "'''"
   ],
   "metadata": {
    "collapsed": false,
    "ExecuteTime": {
     "start_time": "2024-03-07T15:10:29.863767Z",
     "end_time": "2024-03-07T15:10:29.928953Z"
    }
   }
  },
  {
   "cell_type": "code",
   "execution_count": 174,
   "outputs": [
    {
     "name": "stdout",
     "output_type": "stream",
     "text": [
      "tensor(False)\n"
     ]
    }
   ],
   "source": [
    "trainloader = create_dataloader_sentence(EEG_sentence_list, list_of_sentences)"
   ],
   "metadata": {
    "collapsed": false,
    "ExecuteTime": {
     "start_time": "2024-03-07T15:10:32.633943Z",
     "end_time": "2024-03-07T15:11:49.511877Z"
    }
   }
  },
  {
   "cell_type": "code",
   "execution_count": 175,
   "outputs": [
    {
     "name": "stdout",
     "output_type": "stream",
     "text": [
      "torch.Size([64, 1, 105, 456]) torch.Size([64, 2850])\n"
     ]
    }
   ],
   "source": [
    "#sanity check:\n",
    "i1, l1 = next(iter(trainloader))\n",
    "print(i1.shape, l1.shape)"
   ],
   "metadata": {
    "collapsed": false,
    "ExecuteTime": {
     "start_time": "2024-03-07T15:11:51.597595Z",
     "end_time": "2024-03-07T15:11:51.787263Z"
    }
   }
  },
  {
   "cell_type": "code",
   "execution_count": 176,
   "outputs": [],
   "source": [
    "z_size = 100\n",
    "image_size = (105, 456)\n",
    "\n",
    "n_filters = 32"
   ],
   "metadata": {
    "collapsed": false,
    "ExecuteTime": {
     "start_time": "2024-03-07T15:11:52.551698Z",
     "end_time": "2024-03-07T15:11:52.636558Z"
    }
   }
  },
  {
   "cell_type": "code",
   "execution_count": 177,
   "outputs": [],
   "source": [
    "## Loss function and optimizers:\n",
    "loss_fn = nn.BCELoss()"
   ],
   "metadata": {
    "collapsed": false,
    "ExecuteTime": {
     "start_time": "2024-03-07T15:11:53.278367Z",
     "end_time": "2024-03-07T15:11:53.342806Z"
    }
   }
  },
  {
   "cell_type": "code",
   "execution_count": 178,
   "outputs": [],
   "source": [
    "def create_noise(batch_size, z_size, mode_z):\n",
    "    if mode_z == 'uniform':\n",
    "        input_z = torch.rand(batch_size, z_size)*2 - 1\n",
    "    elif mode_z == 'normal':\n",
    "        input_z = torch.randn(batch_size, z_size)\n",
    "    return input_z\n",
    "\n",
    "mode_z = 'uniform'\n",
    "fixed_z = create_noise(batch_size, z_size, mode_z).to(device)\n",
    "\n",
    "def create_samples(g_model, input_z, input_t):\n",
    "    g_output = g_model(input_z, input_t)\n",
    "    images = torch.reshape(g_output, (batch_size, *image_size))\n",
    "    return (images+1)/2.0"
   ],
   "metadata": {
    "collapsed": false,
    "ExecuteTime": {
     "start_time": "2024-03-07T15:11:53.631339Z",
     "end_time": "2024-03-07T15:11:53.888884Z"
    }
   }
  },
  {
   "cell_type": "code",
   "execution_count": 179,
   "outputs": [],
   "source": [
    "noise = create_noise(64, 100, \"uniform\")"
   ],
   "metadata": {
    "collapsed": false,
    "ExecuteTime": {
     "start_time": "2024-03-07T15:11:54.068318Z",
     "end_time": "2024-03-07T15:11:54.131308Z"
    }
   }
  },
  {
   "cell_type": "code",
   "execution_count": 180,
   "outputs": [
    {
     "data": {
      "text/plain": "torch.float32"
     },
     "execution_count": 180,
     "metadata": {},
     "output_type": "execute_result"
    }
   ],
   "source": [
    "noise.dtype"
   ],
   "metadata": {
    "collapsed": false,
    "ExecuteTime": {
     "start_time": "2024-03-07T15:11:54.414495Z",
     "end_time": "2024-03-07T15:11:54.476626Z"
    }
   }
  },
  {
   "cell_type": "code",
   "execution_count": 180,
   "outputs": [],
   "source": [],
   "metadata": {
    "collapsed": false,
    "ExecuteTime": {
     "start_time": "2024-03-07T15:11:54.723659Z",
     "end_time": "2024-03-07T15:11:54.794096Z"
    }
   }
  },
  {
   "cell_type": "code",
   "execution_count": 181,
   "outputs": [],
   "source": [
    "class Generator(nn.Module):\n",
    "    def __init__(self, noise_dim, word_embedding_dim):\n",
    "        super(Generator, self).__init__()\n",
    "\n",
    "        self.noise_dim = noise_dim\n",
    "        self.word_embedding_dim = word_embedding_dim\n",
    "\n",
    "        # Define the layers of your generator\n",
    "        self.fc_noise = nn.Linear(noise_dim, 105*456)  # Increase the size for more complexity\n",
    "        self.fc_word_embedding = nn.Linear(word_embedding_dim, 105*456)  # Increase the size for more complexity\n",
    "        self.conv1 = nn.Conv2d(2, 128, kernel_size=3, stride=1, padding=1)\n",
    "        self.bn1 = nn.BatchNorm2d(128)\n",
    "        self.relu = nn.LeakyReLU(0.2)\n",
    "\n",
    "        self.conv2 = nn.Conv2d(128, 64, kernel_size=3, stride=1, padding=1)\n",
    "        self.bn2 = nn.BatchNorm2d(64)\n",
    "\n",
    "        self.conv3 = nn.Conv2d(64, 1, kernel_size=3, stride=1, padding=1)\n",
    "        self.tanh = nn.Tanh()\n",
    "\n",
    "    def forward(self, noise, word_embedding):\n",
    "        # Process noise\n",
    "        noise = self.fc_noise(noise)\n",
    "        noise = noise.view(noise.size(0), 1, 105,456)  # Adjust the size to match conv1\n",
    "\n",
    "        # Process word embedding\n",
    "        word_embedding = self.fc_word_embedding(word_embedding.to(device))\n",
    "        word_embedding = word_embedding.view(word_embedding.size(0), 1, 105, 456)  # Adjust the size to match conv1\n",
    "\n",
    "        # Concatenate noise and word embedding\n",
    "        combined_input = torch.cat([noise, word_embedding], dim=1)\n",
    "\n",
    "        # Upsample and generate the output\n",
    "        z = self.conv1(combined_input)\n",
    "        z = self.bn1(z)\n",
    "        z = self.relu(z)\n",
    "\n",
    "        z = self.conv2(z)\n",
    "        z = self.bn2(z)\n",
    "        z = self.relu(z)\n",
    "\n",
    "        z = self.conv3(z)\n",
    "        z = self.tanh(z)\n",
    "\n",
    "        return z\n",
    "\n",
    "class DiscriminatorWGAN(nn.Module):\n",
    "    def __init__(self, n_filters):\n",
    "        super(DiscriminatorWGAN, self).__init__()\n",
    "        self.network = nn.Sequential(\n",
    "            nn.Conv2d(1, n_filters, kernel_size=4, stride=2, padding=1, bias=False),\n",
    "            nn.LeakyReLU(0.2),\n",
    "\n",
    "            nn.Conv2d(n_filters, n_filters*2, kernel_size=4, stride=2, padding=1, bias=False),\n",
    "            nn.InstanceNorm2d(n_filters * 2),\n",
    "            nn.LeakyReLU(0.2),\n",
    "\n",
    "            nn.Conv2d(n_filters*2, n_filters*4, kernel_size=4, stride=2, padding=1, bias=False),\n",
    "            nn.InstanceNorm2d(n_filters*4),\n",
    "            nn.LeakyReLU(0.2),\n",
    "\n",
    "            nn.Conv2d(n_filters*4, n_filters*8, kernel_size=4, stride=2, padding=1, bias=False),\n",
    "            nn.InstanceNorm2d(n_filters*8),\n",
    "            nn.LeakyReLU(0.2),\n",
    "\n",
    "            nn.Conv2d(n_filters*8, 1, kernel_size=4, stride=1, padding=0, bias=False),\n",
    "            nn.Sigmoid()\n",
    "        )\n",
    "\n",
    "    def forward(self, input):\n",
    "        output = self.network(input)\n",
    "        return output\n"
   ],
   "metadata": {
    "collapsed": false,
    "ExecuteTime": {
     "start_time": "2024-03-07T15:11:55.069282Z",
     "end_time": "2024-03-07T15:11:55.153303Z"
    }
   }
  },
  {
   "cell_type": "code",
   "execution_count": 182,
   "outputs": [],
   "source": [
    "gen_model = Generator(z_size, 2850).to(device)\n",
    "disc_model = DiscriminatorWGAN(n_filters).to(device)\n",
    "\n",
    "g_optimizer = torch.optim.Adam(gen_model.parameters(), 0.00002)\n",
    "d_optimizer = torch.optim.Adam(disc_model.parameters(), 0.00002)"
   ],
   "metadata": {
    "collapsed": false,
    "ExecuteTime": {
     "start_time": "2024-03-07T15:11:55.448126Z",
     "end_time": "2024-03-07T15:11:58.147369Z"
    }
   }
  },
  {
   "cell_type": "code",
   "execution_count": 183,
   "outputs": [],
   "source": [
    "\n",
    "def gradient_penalty(real_data, generated_data):\n",
    "    batch_size = real_data.size(0)\n",
    "\n",
    "    # Calculate interpolation\n",
    "    alpha = torch.rand(real_data.shape[0], 1, 1, 1, requires_grad=True, device=device)\n",
    "    #print(\"Gen:\", generated_data.shape)\n",
    "    interpolated = alpha * real_data + (1 - alpha) * generated_data\n",
    "\n",
    "    # Calculate probability of interpolated examples\n",
    "    proba_interpolated = disc_model(interpolated)\n",
    "\n",
    "    # Calculate gradients of probabilities with respect to examples\n",
    "    gradients = torch_grad(outputs=proba_interpolated, inputs=interpolated,\n",
    "                           grad_outputs=torch.ones(proba_interpolated.size(), device=device),\n",
    "                           create_graph=True, retain_graph=True)[0]\n",
    "\n",
    "    gradients = gradients.view(batch_size, -1)\n",
    "    gradients_norm = gradients.norm(2, dim=1)\n",
    "    return lambda_gp * ((gradients_norm - 1)**2).mean()\n"
   ],
   "metadata": {
    "collapsed": false,
    "ExecuteTime": {
     "start_time": "2024-03-07T15:11:58.229329Z",
     "end_time": "2024-03-07T15:11:58.280643Z"
    }
   }
  },
  {
   "cell_type": "code",
   "execution_count": 184,
   "outputs": [],
   "source": [
    "## Train the discriminator\n",
    "def d_train_wgan(x, input_t):\n",
    "    disc_model.zero_grad()\n",
    "\n",
    "    batch_size = x.size(0)\n",
    "    x = x.to(device)\n",
    "    print(\"X:\", x.shape)\n",
    "    # Calculate probabilities on real and generated data\n",
    "    d_real = disc_model(x)\n",
    "    input_z = create_noise(batch_size, z_size, mode_z).to(device)\n",
    "    print(\"Input Z:\", input_z[0].dtype)\n",
    "    print(\"Input T:\", input_t[0].dtype)\n",
    "    print(\"Input T:\", input_t.shape)\n",
    "    print(\"Input Z:\", input_z.shape)\n",
    "\n",
    "    g_output = gen_model(input_z, input_t)\n",
    "    #print(\"D Real:\", d_real.shape)\n",
    "\n",
    "    d_generated = disc_model(g_output)\n",
    "    #print(\"G output:\", g_output.shape)\n",
    "\n",
    "    d_loss = d_generated.mean() - d_real.mean() + gradient_penalty(x.data, g_output.data)\n",
    "\n",
    "    d_loss.backward()\n",
    "    d_optimizer.step()\n",
    "\n",
    "    return d_loss.data.item()"
   ],
   "metadata": {
    "collapsed": false,
    "ExecuteTime": {
     "start_time": "2024-03-07T15:11:58.307972Z",
     "end_time": "2024-03-07T15:11:58.449896Z"
    }
   }
  },
  {
   "cell_type": "code",
   "execution_count": 185,
   "outputs": [],
   "source": [
    "## Train the generator\n",
    "def g_train_wgan(x, input_t):\n",
    "    gen_model.zero_grad()\n",
    "\n",
    "    batch_size = x.size(0)\n",
    "    input_z = create_noise(batch_size, z_size, mode_z).to(device)\n",
    "\n",
    "    g_output = gen_model(input_z, input_t)\n",
    "\n",
    "    d_generated = disc_model(g_output)\n",
    "    g_loss = -d_generated.mean()\n",
    "    print(\"G Loss:\", g_loss)\n",
    "\n",
    "    # gradient backprop & optimize ONLY G's parameters\n",
    "    g_loss.backward()\n",
    "    g_optimizer.step()\n",
    "\n",
    "    return g_loss.data.item()"
   ],
   "metadata": {
    "collapsed": false,
    "ExecuteTime": {
     "start_time": "2024-03-07T15:11:58.323465Z",
     "end_time": "2024-03-07T15:11:58.450922Z"
    }
   }
  },
  {
   "cell_type": "code",
   "execution_count": 186,
   "outputs": [
    {
     "name": "stdout",
     "output_type": "stream",
     "text": [
      "T: tensor([[[[ 0.0036,  0.0366,  0.0279,  ..., -0.0074, -0.0074, -0.0074],\n",
      "          [ 0.0145,  0.0134,  0.0020,  ..., -0.0074, -0.0074, -0.0074],\n",
      "          [ 0.0059,  0.0117,  0.0083,  ..., -0.0074, -0.0074, -0.0074],\n",
      "          ...,\n",
      "          [ 0.0090,  0.0051,  0.0135,  ..., -0.0074, -0.0074, -0.0074],\n",
      "          [ 0.0094,  0.0114,  0.0216,  ..., -0.0074, -0.0074, -0.0074],\n",
      "          [ 0.0219,  0.0137,  0.0058,  ..., -0.0074, -0.0074, -0.0074]]],\n",
      "\n",
      "\n",
      "        [[[ 0.0014,  0.0180,  0.0068,  ..., -0.0074, -0.0074, -0.0074],\n",
      "          [ 0.0150,  0.0237,  0.0285,  ..., -0.0074, -0.0074, -0.0074],\n",
      "          [ 0.0079,  0.0050,  0.0228,  ..., -0.0074, -0.0074, -0.0074],\n",
      "          ...,\n",
      "          [ 0.0183,  0.0355,  0.0276,  ..., -0.0074, -0.0074, -0.0074],\n",
      "          [ 0.0295,  0.0111,  0.0194,  ..., -0.0074, -0.0074, -0.0074],\n",
      "          [ 0.0144,  0.0141,  0.0017,  ..., -0.0074, -0.0074, -0.0074]]],\n",
      "\n",
      "\n",
      "        [[[-0.0018,  0.0025,  0.0012,  ..., -0.0074, -0.0074, -0.0074],\n",
      "          [ 0.0030, -0.0007, -0.0010,  ..., -0.0074, -0.0074, -0.0074],\n",
      "          [-0.0010, -0.0002,  0.0045,  ..., -0.0074, -0.0074, -0.0074],\n",
      "          ...,\n",
      "          [ 0.0057,  0.0115,  0.0104,  ..., -0.0074, -0.0074, -0.0074],\n",
      "          [ 0.0082, -0.0028, -0.0051,  ..., -0.0074, -0.0074, -0.0074],\n",
      "          [-0.0048, -0.0048,  0.0007,  ..., -0.0074, -0.0074, -0.0074]]],\n",
      "\n",
      "\n",
      "        ...,\n",
      "\n",
      "\n",
      "        [[[ 0.0102,  0.0079,  0.0119,  ..., -0.0074, -0.0074, -0.0074],\n",
      "          [ 0.0064,  0.0029,  0.0200,  ..., -0.0074, -0.0074, -0.0074],\n",
      "          [-0.0043,  0.0004,  0.0024,  ..., -0.0074, -0.0074, -0.0074],\n",
      "          ...,\n",
      "          [ 0.0094,  0.0071,  0.0104,  ..., -0.0074, -0.0074, -0.0074],\n",
      "          [ 0.0082,  0.0082,  0.0039,  ..., -0.0074, -0.0074, -0.0074],\n",
      "          [ 0.0020,  0.0071,  0.0109,  ..., -0.0074, -0.0074, -0.0074]]],\n",
      "\n",
      "\n",
      "        [[[-0.0009,  0.0011,  0.0062,  ..., -0.0074, -0.0074, -0.0074],\n",
      "          [ 0.0118,  0.0050,  0.0014,  ..., -0.0074, -0.0074, -0.0074],\n",
      "          [ 0.0018, -0.0003, -0.0001,  ..., -0.0074, -0.0074, -0.0074],\n",
      "          ...,\n",
      "          [ 0.0111,  0.0095,  0.0104,  ..., -0.0074, -0.0074, -0.0074],\n",
      "          [ 0.0041,  0.0015,  0.0008,  ..., -0.0074, -0.0074, -0.0074],\n",
      "          [ 0.0009,  0.0028,  0.0021,  ..., -0.0074, -0.0074, -0.0074]]],\n",
      "\n",
      "\n",
      "        [[[ 0.0025,  0.0088,  0.0125,  ..., -0.0074, -0.0074, -0.0074],\n",
      "          [ 0.0160,  0.0091,  0.0065,  ..., -0.0074, -0.0074, -0.0074],\n",
      "          [ 0.0181,  0.0182,  0.0166,  ..., -0.0074, -0.0074, -0.0074],\n",
      "          ...,\n",
      "          [ 0.0217,  0.0555,  0.0383,  ..., -0.0074, -0.0074, -0.0074],\n",
      "          [ 0.0328,  0.0140,  0.0104,  ..., -0.0074, -0.0074, -0.0074],\n",
      "          [ 0.0095,  0.0050,  0.0148,  ..., -0.0074, -0.0074, -0.0074]]]])\n",
      "X: torch.Size([64, 1, 105, 456])\n",
      "Input Z: torch.float32\n",
      "Input T: torch.float32\n",
      "Input T: torch.Size([64, 2850])\n",
      "Input Z: torch.Size([64, 100])\n",
      "D Loss: 1990.937255859375\n",
      "X: torch.Size([64, 1, 105, 456])\n",
      "Input Z: torch.float32\n",
      "Input T: torch.float32\n",
      "Input T: torch.Size([64, 2850])\n",
      "Input Z: torch.Size([64, 100])\n"
     ]
    },
    {
     "ename": "KeyboardInterrupt",
     "evalue": "",
     "output_type": "error",
     "traceback": [
      "\u001B[1;31m---------------------------------------------------------------------------\u001B[0m",
      "\u001B[1;31mKeyboardInterrupt\u001B[0m                         Traceback (most recent call last)",
      "Cell \u001B[1;32mIn[186], line 16\u001B[0m\n\u001B[0;32m     14\u001B[0m \u001B[38;5;28mprint\u001B[39m(\u001B[38;5;124m\"\u001B[39m\u001B[38;5;124mT:\u001B[39m\u001B[38;5;124m\"\u001B[39m, x)\n\u001B[0;32m     15\u001B[0m \u001B[38;5;28;01mfor\u001B[39;00m _ \u001B[38;5;129;01min\u001B[39;00m \u001B[38;5;28mrange\u001B[39m(critic_iterations):\n\u001B[1;32m---> 16\u001B[0m     d_loss \u001B[38;5;241m=\u001B[39m \u001B[43md_train_wgan\u001B[49m\u001B[43m(\u001B[49m\u001B[43mx\u001B[49m\u001B[43m,\u001B[49m\u001B[43m \u001B[49m\u001B[43mt\u001B[49m\u001B[43m)\u001B[49m\n\u001B[0;32m     17\u001B[0m     \u001B[38;5;28mprint\u001B[39m(\u001B[38;5;124m\"\u001B[39m\u001B[38;5;124mD Loss:\u001B[39m\u001B[38;5;124m\"\u001B[39m, d_loss)\n\u001B[0;32m     18\u001B[0m d_losses\u001B[38;5;241m.\u001B[39mappend(d_loss)\n",
      "Cell \u001B[1;32mIn[184], line 16\u001B[0m, in \u001B[0;36md_train_wgan\u001B[1;34m(x, input_t)\u001B[0m\n\u001B[0;32m     13\u001B[0m \u001B[38;5;28mprint\u001B[39m(\u001B[38;5;124m\"\u001B[39m\u001B[38;5;124mInput T:\u001B[39m\u001B[38;5;124m\"\u001B[39m, input_t\u001B[38;5;241m.\u001B[39mshape)\n\u001B[0;32m     14\u001B[0m \u001B[38;5;28mprint\u001B[39m(\u001B[38;5;124m\"\u001B[39m\u001B[38;5;124mInput Z:\u001B[39m\u001B[38;5;124m\"\u001B[39m, input_z\u001B[38;5;241m.\u001B[39mshape)\n\u001B[1;32m---> 16\u001B[0m g_output \u001B[38;5;241m=\u001B[39m \u001B[43mgen_model\u001B[49m\u001B[43m(\u001B[49m\u001B[43minput_z\u001B[49m\u001B[43m,\u001B[49m\u001B[43m \u001B[49m\u001B[43minput_t\u001B[49m\u001B[43m)\u001B[49m\n\u001B[0;32m     17\u001B[0m \u001B[38;5;66;03m#print(\"D Real:\", d_real.shape)\u001B[39;00m\n\u001B[0;32m     19\u001B[0m d_generated \u001B[38;5;241m=\u001B[39m disc_model(g_output)\n",
      "File \u001B[1;32m~\\Anaconda3\\lib\\site-packages\\torch\\nn\\modules\\module.py:1501\u001B[0m, in \u001B[0;36mModule._call_impl\u001B[1;34m(self, *args, **kwargs)\u001B[0m\n\u001B[0;32m   1496\u001B[0m \u001B[38;5;66;03m# If we don't have any hooks, we want to skip the rest of the logic in\u001B[39;00m\n\u001B[0;32m   1497\u001B[0m \u001B[38;5;66;03m# this function, and just call forward.\u001B[39;00m\n\u001B[0;32m   1498\u001B[0m \u001B[38;5;28;01mif\u001B[39;00m \u001B[38;5;129;01mnot\u001B[39;00m (\u001B[38;5;28mself\u001B[39m\u001B[38;5;241m.\u001B[39m_backward_hooks \u001B[38;5;129;01mor\u001B[39;00m \u001B[38;5;28mself\u001B[39m\u001B[38;5;241m.\u001B[39m_backward_pre_hooks \u001B[38;5;129;01mor\u001B[39;00m \u001B[38;5;28mself\u001B[39m\u001B[38;5;241m.\u001B[39m_forward_hooks \u001B[38;5;129;01mor\u001B[39;00m \u001B[38;5;28mself\u001B[39m\u001B[38;5;241m.\u001B[39m_forward_pre_hooks\n\u001B[0;32m   1499\u001B[0m         \u001B[38;5;129;01mor\u001B[39;00m _global_backward_pre_hooks \u001B[38;5;129;01mor\u001B[39;00m _global_backward_hooks\n\u001B[0;32m   1500\u001B[0m         \u001B[38;5;129;01mor\u001B[39;00m _global_forward_hooks \u001B[38;5;129;01mor\u001B[39;00m _global_forward_pre_hooks):\n\u001B[1;32m-> 1501\u001B[0m     \u001B[38;5;28;01mreturn\u001B[39;00m forward_call(\u001B[38;5;241m*\u001B[39margs, \u001B[38;5;241m*\u001B[39m\u001B[38;5;241m*\u001B[39mkwargs)\n\u001B[0;32m   1502\u001B[0m \u001B[38;5;66;03m# Do not call functions when jit is used\u001B[39;00m\n\u001B[0;32m   1503\u001B[0m full_backward_hooks, non_full_backward_hooks \u001B[38;5;241m=\u001B[39m [], []\n",
      "Cell \u001B[1;32mIn[181], line 27\u001B[0m, in \u001B[0;36mGenerator.forward\u001B[1;34m(self, noise, word_embedding)\u001B[0m\n\u001B[0;32m     24\u001B[0m noise \u001B[38;5;241m=\u001B[39m noise\u001B[38;5;241m.\u001B[39mview(noise\u001B[38;5;241m.\u001B[39msize(\u001B[38;5;241m0\u001B[39m), \u001B[38;5;241m1\u001B[39m, \u001B[38;5;241m105\u001B[39m,\u001B[38;5;241m456\u001B[39m)  \u001B[38;5;66;03m# Adjust the size to match conv1\u001B[39;00m\n\u001B[0;32m     26\u001B[0m \u001B[38;5;66;03m# Process word embedding\u001B[39;00m\n\u001B[1;32m---> 27\u001B[0m word_embedding \u001B[38;5;241m=\u001B[39m \u001B[38;5;28;43mself\u001B[39;49m\u001B[38;5;241;43m.\u001B[39;49m\u001B[43mfc_word_embedding\u001B[49m\u001B[43m(\u001B[49m\u001B[43mword_embedding\u001B[49m\u001B[38;5;241;43m.\u001B[39;49m\u001B[43mto\u001B[49m\u001B[43m(\u001B[49m\u001B[43mdevice\u001B[49m\u001B[43m)\u001B[49m\u001B[43m)\u001B[49m\n\u001B[0;32m     28\u001B[0m word_embedding \u001B[38;5;241m=\u001B[39m word_embedding\u001B[38;5;241m.\u001B[39mview(word_embedding\u001B[38;5;241m.\u001B[39msize(\u001B[38;5;241m0\u001B[39m), \u001B[38;5;241m1\u001B[39m, \u001B[38;5;241m105\u001B[39m, \u001B[38;5;241m456\u001B[39m)  \u001B[38;5;66;03m# Adjust the size to match conv1\u001B[39;00m\n\u001B[0;32m     30\u001B[0m \u001B[38;5;66;03m# Concatenate noise and word embedding\u001B[39;00m\n",
      "File \u001B[1;32m~\\Anaconda3\\lib\\site-packages\\torch\\nn\\modules\\module.py:1501\u001B[0m, in \u001B[0;36mModule._call_impl\u001B[1;34m(self, *args, **kwargs)\u001B[0m\n\u001B[0;32m   1496\u001B[0m \u001B[38;5;66;03m# If we don't have any hooks, we want to skip the rest of the logic in\u001B[39;00m\n\u001B[0;32m   1497\u001B[0m \u001B[38;5;66;03m# this function, and just call forward.\u001B[39;00m\n\u001B[0;32m   1498\u001B[0m \u001B[38;5;28;01mif\u001B[39;00m \u001B[38;5;129;01mnot\u001B[39;00m (\u001B[38;5;28mself\u001B[39m\u001B[38;5;241m.\u001B[39m_backward_hooks \u001B[38;5;129;01mor\u001B[39;00m \u001B[38;5;28mself\u001B[39m\u001B[38;5;241m.\u001B[39m_backward_pre_hooks \u001B[38;5;129;01mor\u001B[39;00m \u001B[38;5;28mself\u001B[39m\u001B[38;5;241m.\u001B[39m_forward_hooks \u001B[38;5;129;01mor\u001B[39;00m \u001B[38;5;28mself\u001B[39m\u001B[38;5;241m.\u001B[39m_forward_pre_hooks\n\u001B[0;32m   1499\u001B[0m         \u001B[38;5;129;01mor\u001B[39;00m _global_backward_pre_hooks \u001B[38;5;129;01mor\u001B[39;00m _global_backward_hooks\n\u001B[0;32m   1500\u001B[0m         \u001B[38;5;129;01mor\u001B[39;00m _global_forward_hooks \u001B[38;5;129;01mor\u001B[39;00m _global_forward_pre_hooks):\n\u001B[1;32m-> 1501\u001B[0m     \u001B[38;5;28;01mreturn\u001B[39;00m forward_call(\u001B[38;5;241m*\u001B[39margs, \u001B[38;5;241m*\u001B[39m\u001B[38;5;241m*\u001B[39mkwargs)\n\u001B[0;32m   1502\u001B[0m \u001B[38;5;66;03m# Do not call functions when jit is used\u001B[39;00m\n\u001B[0;32m   1503\u001B[0m full_backward_hooks, non_full_backward_hooks \u001B[38;5;241m=\u001B[39m [], []\n",
      "File \u001B[1;32m~\\Anaconda3\\lib\\site-packages\\torch\\nn\\modules\\linear.py:114\u001B[0m, in \u001B[0;36mLinear.forward\u001B[1;34m(self, input)\u001B[0m\n\u001B[0;32m    113\u001B[0m \u001B[38;5;28;01mdef\u001B[39;00m \u001B[38;5;21mforward\u001B[39m(\u001B[38;5;28mself\u001B[39m, \u001B[38;5;28minput\u001B[39m: Tensor) \u001B[38;5;241m-\u001B[39m\u001B[38;5;241m>\u001B[39m Tensor:\n\u001B[1;32m--> 114\u001B[0m     \u001B[38;5;28;01mreturn\u001B[39;00m \u001B[43mF\u001B[49m\u001B[38;5;241;43m.\u001B[39;49m\u001B[43mlinear\u001B[49m\u001B[43m(\u001B[49m\u001B[38;5;28;43minput\u001B[39;49m\u001B[43m,\u001B[49m\u001B[43m \u001B[49m\u001B[38;5;28;43mself\u001B[39;49m\u001B[38;5;241;43m.\u001B[39;49m\u001B[43mweight\u001B[49m\u001B[43m,\u001B[49m\u001B[43m \u001B[49m\u001B[38;5;28;43mself\u001B[39;49m\u001B[38;5;241;43m.\u001B[39;49m\u001B[43mbias\u001B[49m\u001B[43m)\u001B[49m\n",
      "\u001B[1;31mKeyboardInterrupt\u001B[0m: "
     ]
    }
   ],
   "source": [
    "epoch_samples_wgan = []\n",
    "lambda_gp = 10.0\n",
    "num_epochs = 100\n",
    "torch.manual_seed(1)\n",
    "critic_iterations = 5\n",
    "save_interval = 5\n",
    "checkpoint_path = 'Textual_WGAN_GP_checkpoint_epoch_{}.pth'\n",
    "final_model_path = 'Textual_WGAN_GP_model_final.pth'\n",
    "\n",
    "for epoch in range(1, num_epochs+1):\n",
    "    gen_model.train()\n",
    "    d_losses, g_losses = [], []\n",
    "    for i, (x, t) in enumerate(trainloader):\n",
    "        print(\"T:\", x)\n",
    "        for _ in range(critic_iterations):\n",
    "            d_loss = d_train_wgan(x, t)\n",
    "            print(\"D Loss:\", d_loss)\n",
    "        d_losses.append(d_loss)\n",
    "        g_losses.append(g_train_wgan(x, t))\n",
    "\n",
    "    print(f'Epoch {epoch:03d} | D Loss >>'\n",
    "          f' {torch.FloatTensor(d_losses).mean():.4f}')\n",
    "    print(f'Epoch {epoch:03d} | G Loss >>'\n",
    "          f' {torch.FloatTensor(g_losses).mean():.4f}')\n",
    "\n",
    "        # Save checkpoints at regular intervals\n",
    "    if epoch % save_interval == 0:\n",
    "        torch.save({\n",
    "            'epoch': epoch,\n",
    "            'gen_model_state_dict': gen_model.state_dict(),\n",
    "            'optimizer_state_dict': g_optimizer.state_dict(),\n",
    "            'd_losses': d_losses,\n",
    "            'g_losses': g_losses,\n",
    "        }, checkpoint_path.format(epoch))\n",
    "\n",
    "\n",
    "    '''\n",
    "    gen_model.eval()\n",
    "    epoch_samples_wgan.append(\n",
    "        create_samples(gen_model, fixed_z, t).detach().cpu().numpy())\n",
    "    '''"
   ],
   "metadata": {
    "collapsed": false
   }
  },
  {
   "cell_type": "code",
   "execution_count": null,
   "outputs": [],
   "source": [
    "# Save the final model after training is complete\n",
    "torch.save({\n",
    "    'epoch': num_epochs,\n",
    "    'gen_model_state_dict': gen_model.state_dict(),\n",
    "    'optimizer_state_dict': g_optimizer.state_dict(),\n",
    "    'd_losses': d_losses,\n",
    "    'g_losses': g_losses,\n",
    "}, final_model_path)"
   ],
   "metadata": {
    "collapsed": false
   }
  },
  {
   "cell_type": "code",
   "execution_count": null,
   "outputs": [],
   "source": [],
   "metadata": {
    "collapsed": false
   }
  }
 ],
 "metadata": {
  "kernelspec": {
   "display_name": "Python 3",
   "language": "python",
   "name": "python3"
  },
  "language_info": {
   "codemirror_mode": {
    "name": "ipython",
    "version": 2
   },
   "file_extension": ".py",
   "mimetype": "text/x-python",
   "name": "python",
   "nbconvert_exporter": "python",
   "pygments_lexer": "ipython2",
   "version": "2.7.6"
  }
 },
 "nbformat": 4,
 "nbformat_minor": 0
}
