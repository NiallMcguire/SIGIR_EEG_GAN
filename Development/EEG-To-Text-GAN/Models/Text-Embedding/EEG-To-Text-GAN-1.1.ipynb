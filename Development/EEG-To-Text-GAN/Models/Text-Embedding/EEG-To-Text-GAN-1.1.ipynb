{
 "cells": [
  {
   "cell_type": "code",
   "execution_count": 12,
   "metadata": {
    "collapsed": true,
    "ExecuteTime": {
     "start_time": "2023-11-20T16:48:02.305486Z",
     "end_time": "2023-11-20T16:48:02.318794Z"
    }
   },
   "outputs": [
    {
     "name": "stderr",
     "output_type": "stream",
     "text": [
      "[nltk_data] Downloading package punkt to\n",
      "[nltk_data]     C:\\Users\\gxb18167\\AppData\\Roaming\\nltk_data...\n",
      "[nltk_data]   Package punkt is already up-to-date!\n"
     ]
    }
   ],
   "source": [
    "import sys\n",
    "import nltk\n",
    "import torch.nn.functional as F\n",
    "\n",
    "import torch\n",
    "nltk.download('punkt')\n",
    "from gensim.models import Word2Vec\n",
    "from nltk.tokenize import word_tokenize\n",
    "sys.path.insert(0, '..')\n",
    "\n"
   ]
  },
  {
   "cell_type": "code",
   "execution_count": 13,
   "outputs": [
    {
     "name": "stdout",
     "output_type": "stream",
     "text": [
      "2.0.1\n",
      "GPU Available: False\n"
     ]
    }
   ],
   "source": [
    "import torch\n",
    "\n",
    "\n",
    "print(torch.__version__)\n",
    "print(\"GPU Available:\", torch.cuda.is_available())\n",
    "\n",
    "if torch.cuda.is_available():\n",
    "    device = torch.device(\"cuda:0\")\n",
    "else:\n",
    "    device = \"cpu\""
   ],
   "metadata": {
    "collapsed": false,
    "ExecuteTime": {
     "start_time": "2023-11-20T16:48:02.824171Z",
     "end_time": "2023-11-20T16:48:02.836367Z"
    }
   }
  },
  {
   "cell_type": "code",
   "execution_count": 14,
   "outputs": [],
   "source": [
    "import torch.nn as nn\n",
    "import numpy as np\n",
    "\n",
    "import matplotlib.pyplot as plt\n",
    "%matplotlib inline"
   ],
   "metadata": {
    "collapsed": false,
    "ExecuteTime": {
     "start_time": "2023-11-20T16:48:03.575561Z",
     "end_time": "2023-11-20T16:48:03.607773Z"
    }
   }
  },
  {
   "cell_type": "code",
   "execution_count": 15,
   "outputs": [],
   "source": [
    "batch_size = 64\n",
    "word_embedding_dim = 50\n",
    "output_shape = (1, 105, 8)\n",
    "torch.manual_seed(1)\n",
    "np.random.seed(1)"
   ],
   "metadata": {
    "collapsed": false,
    "ExecuteTime": {
     "start_time": "2023-11-20T16:48:04.843062Z",
     "end_time": "2023-11-20T16:48:04.859308Z"
    }
   }
  },
  {
   "cell_type": "code",
   "execution_count": 16,
   "outputs": [],
   "source": [
    "import pickle\n",
    "\n",
    "# To load the lists from the file:\n",
    "with open(r\"C:\\Users\\gxb18167\\PycharmProjects\\EEG-To-Text\\SIGIR_Development\\EEG-GAN\\EEG_Text_Pairs.pkl\", 'rb') as file:\n",
    "    EEG_word_level_embeddings = pickle.load(file)\n",
    "    EEG_word_level_labels = pickle.load(file)"
   ],
   "metadata": {
    "collapsed": false,
    "ExecuteTime": {
     "start_time": "2023-11-20T16:48:05.419502Z",
     "end_time": "2023-11-20T16:48:06.745544Z"
    }
   }
  },
  {
   "cell_type": "code",
   "execution_count": 23,
   "outputs": [],
   "source": [
    "def create_word_label_embeddings(Word_Labels_List):\n",
    "    tokenized_words = []\n",
    "    for i in range(len(Word_Labels_List)):\n",
    "        tokenized_words.append([Word_Labels_List[i]])\n",
    "    model = Word2Vec(sentences=tokenized_words, vector_size=word_embedding_dim, window=5, min_count=1, workers=4)\n",
    "    word_embeddings = {word: model.wv[word] for word in model.wv.index_to_key}\n",
    "    print(\"Number of word embeddings:\", len(word_embeddings))\n",
    "    #word, embedding = list(word_embeddings.items())[10]\n",
    "    #print(f\"Word: {word}, Embedding: {embedding}\")\n",
    "\n",
    "    Embedded_Word_labels = []\n",
    "    for word in EEG_word_level_labels:\n",
    "        Embedded_Word_labels.append(word_embeddings[word])\n",
    "\n",
    "    return Embedded_Word_labels, word_embeddings\n",
    "\n",
    "def create_dataloader(EEG_word_level_embeddings, Embedded_Word_labels):\n",
    "    EEG_word_level_embeddings_normalize = (EEG_word_level_embeddings - np.mean(EEG_word_level_embeddings)) / np.std(EEG_word_level_embeddings)\n",
    "\n",
    "    float_tensor = torch.tensor(EEG_word_level_embeddings_normalize, dtype=torch.float)\n",
    "    float_tensor = float_tensor.unsqueeze(1)\n",
    "\n",
    "    #print(EEG_word_level_embeddings_normalize)\n",
    "    # Calculate mean and standard deviation\n",
    "    print(torch.isnan(float_tensor).any())\n",
    "\n",
    "    train_data = []\n",
    "    for i in range(len(float_tensor)):\n",
    "       train_data.append([float_tensor[i], Embedded_Word_labels[i]])\n",
    "    trainloader = torch.utils.data.DataLoader(train_data, shuffle=True, batch_size=64)\n",
    "    return trainloader"
   ],
   "metadata": {
    "collapsed": false,
    "ExecuteTime": {
     "start_time": "2023-11-20T16:48:51.487220Z",
     "end_time": "2023-11-20T16:48:51.505527Z"
    }
   }
  },
  {
   "cell_type": "code",
   "execution_count": 24,
   "outputs": [
    {
     "name": "stdout",
     "output_type": "stream",
     "text": [
      "Number of word embeddings: 2397\n",
      "tensor(False)\n"
     ]
    }
   ],
   "source": [
    "Embedded_Word_labels, word_embeddings = create_word_label_embeddings(EEG_word_level_labels)\n",
    "trainloader = create_dataloader(EEG_word_level_embeddings, Embedded_Word_labels)"
   ],
   "metadata": {
    "collapsed": false,
    "ExecuteTime": {
     "start_time": "2023-11-20T16:48:51.917528Z",
     "end_time": "2023-11-20T16:48:53.963046Z"
    }
   }
  },
  {
   "cell_type": "code",
   "execution_count": 25,
   "outputs": [
    {
     "name": "stdout",
     "output_type": "stream",
     "text": [
      "torch.Size([64, 1, 105, 8]) tensor([[-0.0104, -0.0148, -0.0058,  ..., -0.0054,  0.0076,  0.0007],\n",
      "        [-0.0143,  0.0025, -0.0144,  ...,  0.0004,  0.0095, -0.0142],\n",
      "        [-0.0190,  0.0144,  0.0181,  ..., -0.0012,  0.0017, -0.0025],\n",
      "        ...,\n",
      "        [-0.0192,  0.0179,  0.0083,  ...,  0.0083, -0.0085, -0.0077],\n",
      "        [ 0.0036,  0.0141,  0.0059,  ..., -0.0067,  0.0032,  0.0032],\n",
      "        [-0.0179,  0.0013, -0.0128,  ..., -0.0100,  0.0083,  0.0113]])\n"
     ]
    },
    {
     "name": "stderr",
     "output_type": "stream",
     "text": [
      "C:\\Users\\gxb18167\\Anaconda3\\lib\\site-packages\\torch\\utils\\data\\_utils\\collate.py:171: UserWarning: The given NumPy array is not writable, and PyTorch does not support non-writable tensors. This means writing to this tensor will result in undefined behavior. You may want to copy the array to protect its data or make it writable before converting it to a tensor. This type of warning will be suppressed for the rest of this program. (Triggered internally at C:\\b\\abs_abjetg6_iu\\croot\\pytorch_1686932924616\\work\\torch\\csrc\\utils\\tensor_numpy.cpp:212.)\n",
      "  return collate([torch.as_tensor(b) for b in batch], collate_fn_map=collate_fn_map)\n"
     ]
    }
   ],
   "source": [
    "#sanity check:\n",
    "i1, l1 = next(iter(trainloader))\n",
    "print(i1.shape, l1)"
   ],
   "metadata": {
    "collapsed": false,
    "ExecuteTime": {
     "start_time": "2023-11-20T16:49:01.290983Z",
     "end_time": "2023-11-20T16:49:01.358602Z"
    }
   }
  },
  {
   "cell_type": "code",
   "execution_count": 26,
   "outputs": [],
   "source": [
    "z_size = 100\n",
    "image_size = (105, 8)\n",
    "\n",
    "n_filters = 32"
   ],
   "metadata": {
    "collapsed": false,
    "ExecuteTime": {
     "start_time": "2023-11-20T16:49:06.037658Z",
     "end_time": "2023-11-20T16:49:06.040409Z"
    }
   }
  },
  {
   "cell_type": "code",
   "execution_count": 27,
   "outputs": [],
   "source": [
    "## Loss function and optimizers:\n",
    "loss_fn = nn.BCELoss()"
   ],
   "metadata": {
    "collapsed": false,
    "ExecuteTime": {
     "start_time": "2023-11-20T16:49:06.716653Z",
     "end_time": "2023-11-20T16:49:06.734290Z"
    }
   }
  },
  {
   "cell_type": "code",
   "execution_count": 28,
   "outputs": [],
   "source": [
    "def create_noise(batch_size, z_size, mode_z):\n",
    "    if mode_z == 'uniform':\n",
    "        input_z = torch.rand(batch_size, z_size)*2 - 1\n",
    "    elif mode_z == 'normal':\n",
    "        input_z = torch.randn(batch_size, z_size)\n",
    "    return input_z\n",
    "\n",
    "mode_z = 'uniform'\n",
    "fixed_z = create_noise(batch_size, z_size, mode_z).to(device)\n",
    "\n",
    "def create_samples(g_model, input_z, input_t):\n",
    "    g_output = g_model(input_z, input_t)\n",
    "    images = torch.reshape(g_output, (batch_size, *image_size))\n",
    "    return (images+1)/2.0"
   ],
   "metadata": {
    "collapsed": false,
    "ExecuteTime": {
     "start_time": "2023-11-20T16:49:07.346015Z",
     "end_time": "2023-11-20T16:49:07.364763Z"
    }
   }
  },
  {
   "cell_type": "code",
   "execution_count": 29,
   "outputs": [],
   "source": [
    "noise = create_noise(64, 100, \"uniform\")"
   ],
   "metadata": {
    "collapsed": false,
    "ExecuteTime": {
     "start_time": "2023-11-20T16:49:08.851675Z",
     "end_time": "2023-11-20T16:49:08.869599Z"
    }
   }
  },
  {
   "cell_type": "code",
   "execution_count": 30,
   "outputs": [
    {
     "data": {
      "text/plain": "torch.Size([64, 100])"
     },
     "execution_count": 30,
     "metadata": {},
     "output_type": "execute_result"
    }
   ],
   "source": [
    "noise.shape"
   ],
   "metadata": {
    "collapsed": false,
    "ExecuteTime": {
     "start_time": "2023-11-20T16:49:09.271228Z",
     "end_time": "2023-11-20T16:49:09.289404Z"
    }
   }
  },
  {
   "cell_type": "code",
   "execution_count": 31,
   "outputs": [],
   "source": [
    "class Generator(nn.Module):\n",
    "    def __init__(self, noise_dim, word_embedding_dim, output_shape):\n",
    "        super(Generator, self).__init__()\n",
    "\n",
    "        self.noise_dim = noise_dim\n",
    "        self.word_embedding_dim = word_embedding_dim\n",
    "\n",
    "        # Define the layers of your generator\n",
    "        self.fc_noise = nn.Linear(noise_dim, 105 * 8)\n",
    "        self.fc_word_embedding = nn.Linear(word_embedding_dim, 105 * 8)\n",
    "        self.conv1 = nn.Conv2d(2, 64, kernel_size=3, stride=1, padding=1)\n",
    "        self.bn1 = nn.BatchNorm2d(64)\n",
    "        self.relu = nn.ReLU()\n",
    "        self.conv2 = nn.Conv2d(64, 1, kernel_size=3, stride=1, padding=1)\n",
    "\n",
    "\n",
    "\n",
    "    def forward(self, noise, word_embedding):\n",
    "        # Process noise\n",
    "        noise = self.fc_noise(noise)\n",
    "        noise = noise.view(noise.size(0), 1, 105, 8)\n",
    "\n",
    "        # Process word embedding\n",
    "        word_embedding = self.fc_word_embedding(word_embedding)\n",
    "        word_embedding = word_embedding.view(word_embedding.size(0), 1, 105, 8)\n",
    "\n",
    "        # Concatenate noise and word embedding\n",
    "        combined_input = torch.cat([noise, word_embedding], dim=1)\n",
    "\n",
    "        # Upsample and generate the output\n",
    "        z = self.conv1(combined_input)\n",
    "        z = self.bn1(z)\n",
    "        z = self.relu(z)\n",
    "        z = self.conv2(z)\n",
    "\n",
    "        return z\n",
    "\n",
    "class DiscriminatorWGAN(nn.Module):\n",
    "    def __init__(self, n_filters):\n",
    "        super(DiscriminatorWGAN, self).__init__()\n",
    "        self.network = nn.Sequential(\n",
    "            nn.Conv2d(1, n_filters, kernel_size=4, stride=2, padding=1, bias=False),\n",
    "            nn.LeakyReLU(0.2),\n",
    "\n",
    "            nn.Conv2d(n_filters, n_filters*2, kernel_size=4, stride=2, padding=1, bias=False),\n",
    "            nn.InstanceNorm2d(n_filters * 2),\n",
    "            nn.LeakyReLU(0.2),\n",
    "\n",
    "            nn.Conv2d(n_filters*2, n_filters*4, kernel_size=3, stride=2, padding=1, bias=False),\n",
    "            nn.InstanceNorm2d(n_filters*4),\n",
    "            nn.LeakyReLU(0.2),\n",
    "\n",
    "            nn.Flatten(),  # Flatten spatial dimensions\n",
    "\n",
    "            # Fully connected layer to reduce to a single value per sample\n",
    "            nn.Linear(n_filters*4 * (105 // 8) * (8 // 8), 1),\n",
    "            nn.Sigmoid()\n",
    "        )\n",
    "\n",
    "    def forward(self, input):\n",
    "        output = self.network(input)\n",
    "        return output\n"
   ],
   "metadata": {
    "collapsed": false,
    "ExecuteTime": {
     "start_time": "2023-11-20T16:49:11.748253Z",
     "end_time": "2023-11-20T16:49:11.760633Z"
    }
   }
  },
  {
   "cell_type": "code",
   "execution_count": 32,
   "outputs": [],
   "source": [
    "gen_model = Generator(z_size, word_embedding_dim, output_shape).to(device)\n",
    "disc_model = DiscriminatorWGAN(n_filters).to(device)\n",
    "\n",
    "g_optimizer = torch.optim.Adam(gen_model.parameters(), 0.00002)\n",
    "d_optimizer = torch.optim.Adam(disc_model.parameters(), 0.00002)"
   ],
   "metadata": {
    "collapsed": false,
    "ExecuteTime": {
     "start_time": "2023-11-20T16:49:14.056262Z",
     "end_time": "2023-11-20T16:49:14.099514Z"
    }
   }
  },
  {
   "cell_type": "code",
   "execution_count": 33,
   "outputs": [],
   "source": [
    "from torch.autograd import grad as torch_grad\n",
    "\n",
    "\n",
    "def gradient_penalty(real_data, generated_data):\n",
    "    batch_size = real_data.size(0)\n",
    "\n",
    "    # Calculate interpolation\n",
    "    alpha = torch.rand(real_data.shape[0], 1, 1, 1, requires_grad=True, device=device)\n",
    "    #print(\"Gen:\", generated_data.shape)\n",
    "    interpolated = alpha * real_data + (1 - alpha) * generated_data\n",
    "\n",
    "    # Calculate probability of interpolated examples\n",
    "    proba_interpolated = disc_model(interpolated)\n",
    "\n",
    "    # Calculate gradients of probabilities with respect to examples\n",
    "    gradients = torch_grad(outputs=proba_interpolated, inputs=interpolated,\n",
    "                           grad_outputs=torch.ones(proba_interpolated.size(), device=device),\n",
    "                           create_graph=True, retain_graph=True)[0]\n",
    "\n",
    "    gradients = gradients.view(batch_size, -1)\n",
    "    gradients_norm = gradients.norm(2, dim=1)\n",
    "    return lambda_gp * ((gradients_norm - 1)**2).mean()\n"
   ],
   "metadata": {
    "collapsed": false,
    "ExecuteTime": {
     "start_time": "2023-11-20T16:49:18.274411Z",
     "end_time": "2023-11-20T16:49:18.296010Z"
    }
   }
  },
  {
   "cell_type": "code",
   "execution_count": 42,
   "outputs": [],
   "source": [
    "## Train the discriminator\n",
    "def d_train_wgan(x, input_t):\n",
    "    disc_model.zero_grad()\n",
    "\n",
    "    batch_size = x.size(0)\n",
    "    x = x.to(device)\n",
    "    #print(\"X:\", x.shape)\n",
    "    # Calculate probabilities on real and generated data\n",
    "    d_real = disc_model(x)\n",
    "    input_z = create_noise(batch_size, z_size, mode_z).to(device)\n",
    "    g_output = gen_model(input_z, input_t)\n",
    "    #print(\"D Real:\", d_real.shape)\n",
    "\n",
    "    d_generated = disc_model(g_output)\n",
    "    #print(\"G output:\", g_output.shape)\n",
    "\n",
    "    d_loss = d_generated.mean() - d_real.mean() + gradient_penalty(x.data, g_output.data)\n",
    "\n",
    "    d_loss.backward()\n",
    "    d_optimizer.step()\n",
    "\n",
    "    return d_loss.data.item()"
   ],
   "metadata": {
    "collapsed": false,
    "ExecuteTime": {
     "start_time": "2023-11-20T16:50:38.771551Z",
     "end_time": "2023-11-20T16:50:38.787306Z"
    }
   }
  },
  {
   "cell_type": "code",
   "execution_count": 43,
   "outputs": [],
   "source": [
    "## Train the generator\n",
    "def g_train_wgan(x, input_t):\n",
    "    gen_model.zero_grad()\n",
    "\n",
    "    batch_size = x.size(0)\n",
    "    input_z = create_noise(batch_size, z_size, mode_z).to(device)\n",
    "\n",
    "    g_output = gen_model(input_z, input_t)\n",
    "\n",
    "    d_generated = disc_model(g_output)\n",
    "    g_loss = -d_generated.mean()\n",
    "    #print(\"G Loss:\", g_loss)\n",
    "\n",
    "    # gradient backprop & optimize ONLY G's parameters\n",
    "    g_loss.backward()\n",
    "    g_optimizer.step()\n",
    "\n",
    "    return g_loss.data.item()"
   ],
   "metadata": {
    "collapsed": false,
    "ExecuteTime": {
     "start_time": "2023-11-20T16:50:39.070175Z",
     "end_time": "2023-11-20T16:50:39.094521Z"
    }
   }
  },
  {
   "cell_type": "code",
   "execution_count": 45,
   "outputs": [
    {
     "name": "stdout",
     "output_type": "stream",
     "text": [
      "D Real: torch.Size([64, 1])\n",
      "G output: torch.Size([64, 1, 105, 8])\n",
      "D Real: torch.Size([64, 1])\n",
      "G output: torch.Size([64, 1, 105, 8])\n",
      "D Real: torch.Size([64, 1])\n",
      "G output: torch.Size([64, 1, 105, 8])\n",
      "D Real: torch.Size([64, 1])\n",
      "G output: torch.Size([64, 1, 105, 8])\n",
      "D Real: torch.Size([64, 1])\n",
      "G output: torch.Size([64, 1, 105, 8])\n",
      "G Loss: tensor(-0.4027, grad_fn=<NegBackward0>)\n",
      "D Real: torch.Size([64, 1])\n",
      "G output: torch.Size([64, 1, 105, 8])\n",
      "D Real: torch.Size([64, 1])\n",
      "G output: torch.Size([64, 1, 105, 8])\n",
      "D Real: torch.Size([64, 1])\n",
      "G output: torch.Size([64, 1, 105, 8])\n",
      "D Real: torch.Size([64, 1])\n",
      "G output: torch.Size([64, 1, 105, 8])\n",
      "D Real: torch.Size([64, 1])\n",
      "G output: torch.Size([64, 1, 105, 8])\n",
      "G Loss: tensor(-0.4201, grad_fn=<NegBackward0>)\n",
      "D Real: torch.Size([64, 1])\n",
      "G output: torch.Size([64, 1, 105, 8])\n",
      "D Real: torch.Size([64, 1])\n",
      "G output: torch.Size([64, 1, 105, 8])\n",
      "D Real: torch.Size([64, 1])\n",
      "G output: torch.Size([64, 1, 105, 8])\n",
      "D Real: torch.Size([64, 1])\n",
      "G output: torch.Size([64, 1, 105, 8])\n",
      "D Real: torch.Size([64, 1])\n",
      "G output: torch.Size([64, 1, 105, 8])\n",
      "G Loss: tensor(-0.4233, grad_fn=<NegBackward0>)\n",
      "D Real: torch.Size([64, 1])\n",
      "G output: torch.Size([64, 1, 105, 8])\n",
      "D Real: torch.Size([64, 1])\n",
      "G output: torch.Size([64, 1, 105, 8])\n",
      "D Real: torch.Size([64, 1])\n",
      "G output: torch.Size([64, 1, 105, 8])\n",
      "D Real: torch.Size([64, 1])\n",
      "G output: torch.Size([64, 1, 105, 8])\n"
     ]
    },
    {
     "ename": "KeyboardInterrupt",
     "evalue": "",
     "output_type": "error",
     "traceback": [
      "\u001B[1;31m---------------------------------------------------------------------------\u001B[0m",
      "\u001B[1;31mKeyboardInterrupt\u001B[0m                         Traceback (most recent call last)",
      "Cell \u001B[1;32mIn[45], line 13\u001B[0m\n\u001B[0;32m     10\u001B[0m \u001B[38;5;28;01mfor\u001B[39;00m i, (x, t) \u001B[38;5;129;01min\u001B[39;00m \u001B[38;5;28menumerate\u001B[39m(trainloader):\n\u001B[0;32m     11\u001B[0m     \u001B[38;5;66;03m#print(\"T:\", t)\u001B[39;00m\n\u001B[0;32m     12\u001B[0m     \u001B[38;5;28;01mfor\u001B[39;00m _ \u001B[38;5;129;01min\u001B[39;00m \u001B[38;5;28mrange\u001B[39m(critic_iterations):\n\u001B[1;32m---> 13\u001B[0m         d_loss \u001B[38;5;241m=\u001B[39m \u001B[43md_train_wgan\u001B[49m\u001B[43m(\u001B[49m\u001B[43mx\u001B[49m\u001B[43m,\u001B[49m\u001B[43m \u001B[49m\u001B[43mt\u001B[49m\u001B[43m)\u001B[49m\n\u001B[0;32m     14\u001B[0m         \u001B[38;5;66;03m#print(\"D Loss:\", d_loss)\u001B[39;00m\n\u001B[0;32m     15\u001B[0m     d_losses\u001B[38;5;241m.\u001B[39mappend(d_loss)\n",
      "Cell \u001B[1;32mIn[42], line 17\u001B[0m, in \u001B[0;36md_train_wgan\u001B[1;34m(x, input_t)\u001B[0m\n\u001B[0;32m     14\u001B[0m d_generated \u001B[38;5;241m=\u001B[39m disc_model(g_output)\n\u001B[0;32m     15\u001B[0m \u001B[38;5;28mprint\u001B[39m(\u001B[38;5;124m\"\u001B[39m\u001B[38;5;124mG output:\u001B[39m\u001B[38;5;124m\"\u001B[39m, g_output\u001B[38;5;241m.\u001B[39mshape)\n\u001B[1;32m---> 17\u001B[0m d_loss \u001B[38;5;241m=\u001B[39m d_generated\u001B[38;5;241m.\u001B[39mmean() \u001B[38;5;241m-\u001B[39m d_real\u001B[38;5;241m.\u001B[39mmean() \u001B[38;5;241m+\u001B[39m \u001B[43mgradient_penalty\u001B[49m\u001B[43m(\u001B[49m\u001B[43mx\u001B[49m\u001B[38;5;241;43m.\u001B[39;49m\u001B[43mdata\u001B[49m\u001B[43m,\u001B[49m\u001B[43m \u001B[49m\u001B[43mg_output\u001B[49m\u001B[38;5;241;43m.\u001B[39;49m\u001B[43mdata\u001B[49m\u001B[43m)\u001B[49m\n\u001B[0;32m     19\u001B[0m d_loss\u001B[38;5;241m.\u001B[39mbackward()\n\u001B[0;32m     20\u001B[0m d_optimizer\u001B[38;5;241m.\u001B[39mstep()\n",
      "Cell \u001B[1;32mIn[33], line 21\u001B[0m, in \u001B[0;36mgradient_penalty\u001B[1;34m(real_data, generated_data)\u001B[0m\n\u001B[0;32m     16\u001B[0m gradients \u001B[38;5;241m=\u001B[39m torch_grad(outputs\u001B[38;5;241m=\u001B[39mproba_interpolated, inputs\u001B[38;5;241m=\u001B[39minterpolated,\n\u001B[0;32m     17\u001B[0m                        grad_outputs\u001B[38;5;241m=\u001B[39mtorch\u001B[38;5;241m.\u001B[39mones(proba_interpolated\u001B[38;5;241m.\u001B[39msize(), device\u001B[38;5;241m=\u001B[39mdevice),\n\u001B[0;32m     18\u001B[0m                        create_graph\u001B[38;5;241m=\u001B[39m\u001B[38;5;28;01mTrue\u001B[39;00m, retain_graph\u001B[38;5;241m=\u001B[39m\u001B[38;5;28;01mTrue\u001B[39;00m)[\u001B[38;5;241m0\u001B[39m]\n\u001B[0;32m     20\u001B[0m gradients \u001B[38;5;241m=\u001B[39m gradients\u001B[38;5;241m.\u001B[39mview(batch_size, \u001B[38;5;241m-\u001B[39m\u001B[38;5;241m1\u001B[39m)\n\u001B[1;32m---> 21\u001B[0m gradients_norm \u001B[38;5;241m=\u001B[39m \u001B[43mgradients\u001B[49m\u001B[38;5;241;43m.\u001B[39;49m\u001B[43mnorm\u001B[49m\u001B[43m(\u001B[49m\u001B[38;5;241;43m2\u001B[39;49m\u001B[43m,\u001B[49m\u001B[43m \u001B[49m\u001B[43mdim\u001B[49m\u001B[38;5;241;43m=\u001B[39;49m\u001B[38;5;241;43m1\u001B[39;49m\u001B[43m)\u001B[49m\n\u001B[0;32m     22\u001B[0m \u001B[38;5;28;01mreturn\u001B[39;00m lambda_gp \u001B[38;5;241m*\u001B[39m ((gradients_norm \u001B[38;5;241m-\u001B[39m \u001B[38;5;241m1\u001B[39m)\u001B[38;5;241m*\u001B[39m\u001B[38;5;241m*\u001B[39m\u001B[38;5;241m2\u001B[39m)\u001B[38;5;241m.\u001B[39mmean()\n",
      "File \u001B[1;32m~\\Anaconda3\\lib\\site-packages\\torch\\_tensor.py:647\u001B[0m, in \u001B[0;36mTensor.norm\u001B[1;34m(self, p, dim, keepdim, dtype)\u001B[0m\n\u001B[0;32m    643\u001B[0m \u001B[38;5;28;01mif\u001B[39;00m has_torch_function_unary(\u001B[38;5;28mself\u001B[39m):\n\u001B[0;32m    644\u001B[0m     \u001B[38;5;28;01mreturn\u001B[39;00m handle_torch_function(\n\u001B[0;32m    645\u001B[0m         Tensor\u001B[38;5;241m.\u001B[39mnorm, (\u001B[38;5;28mself\u001B[39m,), \u001B[38;5;28mself\u001B[39m, p\u001B[38;5;241m=\u001B[39mp, dim\u001B[38;5;241m=\u001B[39mdim, keepdim\u001B[38;5;241m=\u001B[39mkeepdim, dtype\u001B[38;5;241m=\u001B[39mdtype\n\u001B[0;32m    646\u001B[0m     )\n\u001B[1;32m--> 647\u001B[0m \u001B[38;5;28;01mreturn\u001B[39;00m \u001B[43mtorch\u001B[49m\u001B[38;5;241;43m.\u001B[39;49m\u001B[43mnorm\u001B[49m\u001B[43m(\u001B[49m\u001B[38;5;28;43mself\u001B[39;49m\u001B[43m,\u001B[49m\u001B[43m \u001B[49m\u001B[43mp\u001B[49m\u001B[43m,\u001B[49m\u001B[43m \u001B[49m\u001B[43mdim\u001B[49m\u001B[43m,\u001B[49m\u001B[43m \u001B[49m\u001B[43mkeepdim\u001B[49m\u001B[43m,\u001B[49m\u001B[43m \u001B[49m\u001B[43mdtype\u001B[49m\u001B[38;5;241;43m=\u001B[39;49m\u001B[43mdtype\u001B[49m\u001B[43m)\u001B[49m\n",
      "File \u001B[1;32m~\\Anaconda3\\lib\\site-packages\\torch\\functional.py:1517\u001B[0m, in \u001B[0;36mnorm\u001B[1;34m(input, p, dim, keepdim, out, dtype)\u001B[0m\n\u001B[0;32m   1515\u001B[0m _p \u001B[38;5;241m=\u001B[39m \u001B[38;5;241m2.0\u001B[39m \u001B[38;5;28;01mif\u001B[39;00m p \u001B[38;5;129;01mis\u001B[39;00m \u001B[38;5;28;01mNone\u001B[39;00m \u001B[38;5;28;01melse\u001B[39;00m p\n\u001B[0;32m   1516\u001B[0m \u001B[38;5;28;01mif\u001B[39;00m out \u001B[38;5;129;01mis\u001B[39;00m \u001B[38;5;28;01mNone\u001B[39;00m:\n\u001B[1;32m-> 1517\u001B[0m     \u001B[38;5;28;01mreturn\u001B[39;00m \u001B[43mtorch\u001B[49m\u001B[38;5;241;43m.\u001B[39;49m\u001B[43mlinalg\u001B[49m\u001B[38;5;241;43m.\u001B[39;49m\u001B[43mvector_norm\u001B[49m\u001B[43m(\u001B[49m\u001B[38;5;28;43minput\u001B[39;49m\u001B[43m,\u001B[49m\u001B[43m \u001B[49m\u001B[43m_p\u001B[49m\u001B[43m,\u001B[49m\u001B[43m \u001B[49m\u001B[43m_dim\u001B[49m\u001B[43m,\u001B[49m\u001B[43m \u001B[49m\u001B[43mkeepdim\u001B[49m\u001B[43m,\u001B[49m\u001B[43m \u001B[49m\u001B[43mdtype\u001B[49m\u001B[38;5;241;43m=\u001B[39;49m\u001B[43mdtype\u001B[49m\u001B[43m)\u001B[49m\n\u001B[0;32m   1518\u001B[0m \u001B[38;5;28;01melse\u001B[39;00m:\n\u001B[0;32m   1519\u001B[0m     \u001B[38;5;28;01mreturn\u001B[39;00m torch\u001B[38;5;241m.\u001B[39mlinalg\u001B[38;5;241m.\u001B[39mvector_norm(\u001B[38;5;28minput\u001B[39m, _p, _dim, keepdim, dtype\u001B[38;5;241m=\u001B[39mdtype, out\u001B[38;5;241m=\u001B[39mout)\n",
      "\u001B[1;31mKeyboardInterrupt\u001B[0m: "
     ]
    }
   ],
   "source": [
    "epoch_samples_wgan = []\n",
    "lambda_gp = 10.0\n",
    "num_epochs = 100\n",
    "torch.manual_seed(1)\n",
    "critic_iterations = 5\n",
    "\n",
    "for epoch in range(1, num_epochs+1):\n",
    "    gen_model.train()\n",
    "    d_losses, g_losses = [], []\n",
    "    for i, (x, t) in enumerate(trainloader):\n",
    "        #print(\"T:\", t)\n",
    "        for _ in range(critic_iterations):\n",
    "            d_loss = d_train_wgan(x, t)\n",
    "            #print(\"D Loss:\", d_loss)\n",
    "        d_losses.append(d_loss)\n",
    "        g_losses.append(g_train_wgan(x, t))\n",
    "\n",
    "    print(f'Epoch {epoch:03d} | D Loss >>'\n",
    "          f' {torch.FloatTensor(d_losses).mean():.4f}')\n",
    "    gen_model.eval()\n",
    "    epoch_samples_wgan.append(\n",
    "        create_samples(gen_model, fixed_z, t).detach().cpu().numpy())"
   ],
   "metadata": {
    "collapsed": false
   }
  },
  {
   "cell_type": "code",
   "execution_count": null,
   "outputs": [],
   "source": [],
   "metadata": {
    "collapsed": false
   }
  },
  {
   "cell_type": "code",
   "execution_count": null,
   "outputs": [],
   "source": [],
   "metadata": {
    "collapsed": false
   }
  }
 ],
 "metadata": {
  "kernelspec": {
   "display_name": "Python 3",
   "language": "python",
   "name": "python3"
  },
  "language_info": {
   "codemirror_mode": {
    "name": "ipython",
    "version": 2
   },
   "file_extension": ".py",
   "mimetype": "text/x-python",
   "name": "python",
   "nbconvert_exporter": "python",
   "pygments_lexer": "ipython2",
   "version": "2.7.6"
  }
 },
 "nbformat": 4,
 "nbformat_minor": 0
}
