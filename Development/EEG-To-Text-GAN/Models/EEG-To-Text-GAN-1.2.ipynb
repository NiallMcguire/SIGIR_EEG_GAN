{
 "cells": [
  {
   "cell_type": "code",
   "execution_count": 1,
   "metadata": {
    "collapsed": true,
    "ExecuteTime": {
     "start_time": "2023-11-20T16:40:37.616601Z",
     "end_time": "2023-11-20T16:40:42.885592Z"
    }
   },
   "outputs": [
    {
     "name": "stderr",
     "output_type": "stream",
     "text": [
      "[nltk_data] Downloading package punkt to\n",
      "[nltk_data]     C:\\Users\\gxb18167\\AppData\\Roaming\\nltk_data...\n",
      "[nltk_data]   Package punkt is already up-to-date!\n"
     ]
    }
   ],
   "source": [
    "import sys\n",
    "import nltk\n",
    "import torch.nn.functional as F\n",
    "\n",
    "import torch\n",
    "nltk.download('punkt')\n",
    "from gensim.models import Word2Vec\n",
    "from nltk.tokenize import word_tokenize\n",
    "sys.path.insert(0, '..')\n",
    "import torch.nn as nn\n",
    "import numpy as np\n",
    "import torch\n",
    "import pickle\n",
    "\n"
   ]
  },
  {
   "cell_type": "code",
   "execution_count": 10,
   "outputs": [
    {
     "name": "stdout",
     "output_type": "stream",
     "text": [
      "2.0.1\n",
      "GPU Available: False\n"
     ]
    }
   ],
   "source": [
    "\n",
    "\n",
    "\n",
    "print(torch.__version__)\n",
    "print(\"GPU Available:\", torch.cuda.is_available())\n",
    "\n",
    "if torch.cuda.is_available():\n",
    "    device = torch.device(\"cuda:0\")\n",
    "else:\n",
    "    device = \"cpu\""
   ],
   "metadata": {
    "collapsed": false,
    "ExecuteTime": {
     "start_time": "2023-11-20T13:09:00.707509Z",
     "end_time": "2023-11-20T13:09:00.773228Z"
    }
   }
  },
  {
   "cell_type": "code",
   "execution_count": 12,
   "outputs": [],
   "source": [
    "batch_size = 64\n",
    "word_embedding_dim = 50\n",
    "output_shape = (1, 105, 8)\n",
    "torch.manual_seed(1)\n",
    "np.random.seed(1)"
   ],
   "metadata": {
    "collapsed": false,
    "ExecuteTime": {
     "start_time": "2023-11-20T13:09:01.981993Z",
     "end_time": "2023-11-20T13:09:02.014379Z"
    }
   }
  },
  {
   "cell_type": "code",
   "execution_count": 13,
   "outputs": [],
   "source": [
    "\n",
    "\n",
    "# To load the lists from the file:\n",
    "with open(r'C:\\Users\\gxb18167\\PycharmProjects\\SIGIR_EEG_GAN\\Development\\EEG-To-Text-GAN\\Data\\EEG_Text_Pairs.pkl', 'rb') as file:\n",
    "    EEG_word_level_embeddings = pickle.load(file)\n",
    "    EEG_word_level_labels = pickle.load(file)"
   ],
   "metadata": {
    "collapsed": false,
    "ExecuteTime": {
     "start_time": "2023-11-20T13:09:02.598111Z",
     "end_time": "2023-11-20T13:09:03.452586Z"
    }
   }
  },
  {
   "cell_type": "code",
   "execution_count": 18,
   "outputs": [],
   "source": [
    "\n",
    "has_inf = np.isinf(EEG_word_level_embeddings).any()\n",
    "std_dev = np.std(EEG_word_level_embeddings)\n",
    "\n",
    "print(\"Standard Deviation:\", std_dev)\n"
   ],
   "metadata": {
    "collapsed": false,
    "ExecuteTime": {
     "start_time": "2023-11-20T13:09:37.792972Z",
     "end_time": "2023-11-20T13:09:37.808600Z"
    }
   }
  },
  {
   "cell_type": "code",
   "execution_count": 16,
   "outputs": [],
   "source": [
    "EEG_word_level_embeddings = np.array(EEG_word_level_embeddings)"
   ],
   "metadata": {
    "collapsed": false,
    "ExecuteTime": {
     "start_time": "2023-11-20T13:09:17.931810Z",
     "end_time": "2023-11-20T13:09:18.179273Z"
    }
   }
  },
  {
   "cell_type": "code",
   "execution_count": 17,
   "outputs": [],
   "source": [
    "torch.isnan(torch.from_numpy(EEG_word_level_embeddings)).any()"
   ],
   "metadata": {
    "collapsed": false,
    "ExecuteTime": {
     "start_time": "2023-11-20T13:09:24.012025Z",
     "end_time": "2023-11-20T13:09:24.058178Z"
    }
   }
  },
  {
   "cell_type": "code",
   "execution_count": 18,
   "outputs": [],
   "source": [
    "missing_value_indices = np.isnan(EEG_word_level_embeddings)\n",
    "\n",
    "# Print indices and values of missing values\n",
    "print(\"Indices of Missing Values:\")\n",
    "for i in range(EEG_word_level_embeddings.shape[0]):\n",
    "    for j in range(EEG_word_level_embeddings.shape[1]):\n",
    "        for k in range(EEG_word_level_embeddings.shape[2]):\n",
    "            if missing_value_indices[i, j, k]:\n",
    "                print(f\"Index: ({i}, {j}, {k}), Value: {EEG_word_level_embeddings[i, j, k]}\")"
   ],
   "metadata": {
    "collapsed": false,
    "ExecuteTime": {
     "start_time": "2023-11-20T13:09:34.232611Z",
     "end_time": "2023-11-20T13:09:34.250964Z"
    }
   }
  },
  {
   "cell_type": "code",
   "execution_count": 19,
   "outputs": [],
   "source": [
    "def create_word_label_embeddings(Word_Labels_List):\n",
    "    tokenized_words = []\n",
    "    for i in range(len(Word_Labels_List)):\n",
    "        tokenized_words.append([Word_Labels_List[i]])\n",
    "    model = Word2Vec(sentences=tokenized_words, vector_size=word_embedding_dim, window=5, min_count=1, workers=4)\n",
    "    word_embeddings = {word: model.wv[word] for word in model.wv.index_to_key}\n",
    "    print(\"Number of word embeddings:\", len(word_embeddings))\n",
    "    #word, embedding = list(word_embeddings.items())[10]\n",
    "    #print(f\"Word: {word}, Embedding: {embedding}\")\n",
    "\n",
    "    Embedded_Word_labels = []\n",
    "    for word in EEG_word_level_labels:\n",
    "        Embedded_Word_labels.append(word_embeddings[word])\n",
    "\n",
    "    return Embedded_Word_labels, word_embeddings\n",
    "\n",
    "def create_dataloader(EEG_word_level_embeddings, Embedded_Word_labels):\n",
    "    EEG_word_level_embeddings_normalize = (EEG_word_level_embeddings - np.mean(EEG_word_level_embeddings)) / np.std(EEG_word_level_embeddings)\n",
    "\n",
    "    float_tensor = torch.tensor(EEG_word_level_embeddings_normalize, dtype=torch.float)\n",
    "    float_tensor = float_tensor.unsqueeze(1)\n",
    "\n",
    "    print(EEG_word_level_embeddings_normalize)\n",
    "    # Calculate mean and standard deviation\n",
    "    print(torch.isnan(float_tensor).any())\n",
    "\n",
    "    train_data = []\n",
    "    for i in range(len(float_tensor)):\n",
    "       train_data.append([float_tensor[i], Embedded_Word_labels[i]])\n",
    "    trainloader = torch.utils.data.DataLoader(train_data, shuffle=True, batch_size=64)\n",
    "    return trainloader"
   ],
   "metadata": {
    "collapsed": false,
    "ExecuteTime": {
     "start_time": "2023-11-20T13:09:48.683811Z",
     "end_time": "2023-11-20T13:09:48.699643Z"
    }
   }
  },
  {
   "cell_type": "code",
   "execution_count": 20,
   "outputs": [
    {
     "name": "stdout",
     "output_type": "stream",
     "text": [
      "Number of word embeddings: 2397\n",
      "[[[-1.02536569 -0.8012387  -0.89344778 ... -0.78901025 -1.02923809\n",
      "   -0.90870677]\n",
      "  [-0.87301889 -0.78214638 -0.62023623 ... -0.84317268 -0.82236941\n",
      "   -0.82083052]\n",
      "  [-0.95071075 -0.88973399 -0.77370027 ... -0.82746559 -0.53630228\n",
      "   -0.54953861]\n",
      "  ...\n",
      "  [-0.25248797  0.61655852  0.367149   ... -0.54500524 -0.59043094\n",
      "   -0.49396242]\n",
      "  [ 0.35400258 -0.59136324 -0.59922374 ... -0.54399227 -0.4733795\n",
      "   -0.72263964]\n",
      "  [-0.66811198 -0.59378567 -0.40498261 ... -0.83837453 -0.55229494\n",
      "   -1.0841225 ]]\n",
      "\n",
      " [[-1.04352227 -0.81013303 -0.96217312 ... -0.90306235 -0.99172719\n",
      "   -0.9384617 ]\n",
      "  [-0.90340717 -0.80319306 -0.81768235 ... -0.88755351 -0.99444696\n",
      "   -1.01240863]\n",
      "  [-0.96001894 -0.91794949 -0.9211666  ... -1.01422661 -0.72809198\n",
      "   -0.7240152 ]\n",
      "  ...\n",
      "  [-0.16663774  0.777237    0.50666568 ... -0.70147193 -0.61978433\n",
      "   -0.66760818]\n",
      "  [ 0.4092072  -0.75888738 -0.61551424 ... -0.40844637 -0.41022822\n",
      "   -0.83054213]\n",
      "  [-0.82071962 -0.73833184 -0.40159305 ... -0.91375935 -0.6735391\n",
      "   -1.0841225 ]]\n",
      "\n",
      " [[-1.02437313 -0.85641162 -0.84459432 ... -0.84917262 -1.05637094\n",
      "   -0.89298078]\n",
      "  [-0.87372083 -0.70930549 -0.66219239 ... -0.75059237 -0.65885694\n",
      "   -0.69039232]\n",
      "  [-0.88252491 -0.79291775 -0.57530816 ... -0.59955102 -0.70763786\n",
      "   -0.72245565]\n",
      "  ...\n",
      "  [-0.3455184   0.46870236  0.22196581 ... -0.69041189 -0.70010071\n",
      "   -0.6068962 ]\n",
      "  [ 0.12933212 -0.7164691  -0.70007283 ... -0.62889032 -0.57561927\n",
      "   -0.81449237]\n",
      "  [-0.75369161 -0.66879596 -0.54260107 ... -0.8774618  -0.66123896\n",
      "   -1.0841225 ]]\n",
      "\n",
      " ...\n",
      "\n",
      " [[-0.95106709 -0.58869877 -0.43390281 ... -0.69639385 -0.71636852\n",
      "   -0.69612903]\n",
      "  [-0.51653678 -0.67706598 -0.96051856 ... -0.62311181 -0.6613516\n",
      "   -0.60132241]\n",
      "  [-0.65144548 -0.66470087 -0.58794752 ... -0.52680855 -0.62825815\n",
      "   -0.90663163]\n",
      "  ...\n",
      "  [ 0.32330217  0.54220873  0.40690298 ... -0.08837802 -0.43583211\n",
      "   -0.61381865]\n",
      "  [ 0.25715992  0.14743007  0.1714255  ... -0.23510132  0.03517756\n",
      "   -0.09082264]\n",
      "  [-0.41432271 -0.41212198 -0.26800136 ... -0.63910361 -0.60272264\n",
      "   -1.0841225 ]]\n",
      "\n",
      " [[-0.24253922 -0.6188898  -0.31135288 ... -0.36611351 -0.21392858\n",
      "   -0.44736602]\n",
      "  [-0.27235552 -0.26733364 -0.43313792 ... -0.38870957 -0.25261341\n",
      "   -0.32462845]\n",
      "  [-0.72984382 -0.30372846 -0.49507598 ... -0.43445843 -0.51787862\n",
      "   -0.70336027]\n",
      "  ...\n",
      "  [-0.27339914 -0.12634459 -0.13341736 ... -0.4300316  -0.38008645\n",
      "   -0.65288628]\n",
      "  [-0.20466033 -0.22063301 -0.37999921 ... -0.57317769 -0.44528775\n",
      "   -0.39989658]\n",
      "  [-0.56359045 -0.54629046 -0.7036581  ... -0.65043733 -0.52693501\n",
      "   -1.0841225 ]]\n",
      "\n",
      " [[-0.76893408 -0.77650732 -0.5617396  ... -0.78069284 -0.86422218\n",
      "   -0.84179755]\n",
      "  [-0.96063734 -0.62903271 -0.58509097 ... -0.82580303 -0.70346394\n",
      "   -0.60069345]\n",
      "  [-0.78488811 -0.56175016 -0.59349625 ... -0.48971226 -0.56050299\n",
      "   -0.65642607]\n",
      "  ...\n",
      "  [-0.04837668 -0.02763633 -0.13818303 ... -0.18815689 -0.25193694\n",
      "   -0.53907168]\n",
      "  [-0.12646438 -0.19932323  0.07076477 ... -0.41255704 -0.2912168\n",
      "   -0.31778778]\n",
      "  [-0.35650909 -0.36340931 -0.35842517 ... -0.60411925 -0.47760573\n",
      "   -1.0841225 ]]]\n",
      "tensor(False)\n"
     ]
    }
   ],
   "source": [
    "Embedded_Word_labels, word_embeddings = create_word_label_embeddings(EEG_word_level_labels)\n",
    "trainloader = create_dataloader(EEG_word_level_embeddings, Embedded_Word_labels)"
   ],
   "metadata": {
    "collapsed": false,
    "ExecuteTime": {
     "start_time": "2023-11-20T13:09:49.752059Z",
     "end_time": "2023-11-20T13:09:51.605799Z"
    }
   }
  },
  {
   "cell_type": "code",
   "execution_count": 20,
   "outputs": [],
   "source": [],
   "metadata": {
    "collapsed": false,
    "ExecuteTime": {
     "start_time": "2023-11-20T13:09:58.455171Z",
     "end_time": "2023-11-20T13:09:58.470824Z"
    }
   }
  },
  {
   "cell_type": "code",
   "execution_count": 20,
   "outputs": [],
   "source": [],
   "metadata": {
    "collapsed": false,
    "ExecuteTime": {
     "start_time": "2023-11-20T13:09:58.628506Z",
     "end_time": "2023-11-20T13:09:58.641310Z"
    }
   }
  },
  {
   "cell_type": "code",
   "execution_count": 20,
   "outputs": [],
   "source": [],
   "metadata": {
    "collapsed": false,
    "ExecuteTime": {
     "start_time": "2023-11-20T13:09:58.794209Z",
     "end_time": "2023-11-20T13:09:58.809814Z"
    }
   }
  },
  {
   "cell_type": "code",
   "execution_count": 21,
   "outputs": [
    {
     "name": "stdout",
     "output_type": "stream",
     "text": [
      "torch.Size([64, 1, 105, 8]) tensor([[-0.0104, -0.0148, -0.0058,  ..., -0.0054,  0.0076,  0.0007],\n",
      "        [-0.0143,  0.0025, -0.0144,  ...,  0.0004,  0.0095, -0.0142],\n",
      "        [-0.0190,  0.0144,  0.0181,  ..., -0.0012,  0.0017, -0.0025],\n",
      "        ...,\n",
      "        [-0.0192,  0.0179,  0.0083,  ...,  0.0083, -0.0085, -0.0077],\n",
      "        [ 0.0036,  0.0141,  0.0059,  ..., -0.0067,  0.0032,  0.0032],\n",
      "        [-0.0179,  0.0013, -0.0128,  ..., -0.0100,  0.0083,  0.0113]])\n"
     ]
    },
    {
     "name": "stderr",
     "output_type": "stream",
     "text": [
      "C:\\Users\\gxb18167\\Anaconda3\\lib\\site-packages\\torch\\utils\\data\\_utils\\collate.py:171: UserWarning: The given NumPy array is not writable, and PyTorch does not support non-writable tensors. This means writing to this tensor will result in undefined behavior. You may want to copy the array to protect its data or make it writable before converting it to a tensor. This type of warning will be suppressed for the rest of this program. (Triggered internally at C:\\b\\abs_abjetg6_iu\\croot\\pytorch_1686932924616\\work\\torch\\csrc\\utils\\tensor_numpy.cpp:212.)\n",
      "  return collate([torch.as_tensor(b) for b in batch], collate_fn_map=collate_fn_map)\n"
     ]
    }
   ],
   "source": [
    "#sanity check:\n",
    "i1, l1 = next(iter(trainloader))\n",
    "print(i1.shape, l1)"
   ],
   "metadata": {
    "collapsed": false,
    "ExecuteTime": {
     "start_time": "2023-11-20T13:09:59.145540Z",
     "end_time": "2023-11-20T13:09:59.264588Z"
    }
   }
  },
  {
   "cell_type": "code",
   "execution_count": 22,
   "outputs": [],
   "source": [
    "z_size = 100\n",
    "image_size = (105, 8)\n",
    "\n",
    "n_filters = 32"
   ],
   "metadata": {
    "collapsed": false,
    "ExecuteTime": {
     "start_time": "2023-11-20T13:10:01.347786Z",
     "end_time": "2023-11-20T13:10:01.357268Z"
    }
   }
  },
  {
   "cell_type": "code",
   "execution_count": 23,
   "outputs": [],
   "source": [
    "## Loss function and optimizers:\n",
    "loss_fn = nn.BCELoss()"
   ],
   "metadata": {
    "collapsed": false,
    "ExecuteTime": {
     "start_time": "2023-11-20T13:10:02.219357Z",
     "end_time": "2023-11-20T13:10:02.222178Z"
    }
   }
  },
  {
   "cell_type": "code",
   "execution_count": 24,
   "outputs": [],
   "source": [
    "def create_noise(batch_size, z_size, mode_z):\n",
    "    if mode_z == 'uniform':\n",
    "        input_z = torch.rand(batch_size, z_size)*2 - 1\n",
    "    elif mode_z == 'normal':\n",
    "        input_z = torch.randn(batch_size, z_size)\n",
    "    return input_z\n",
    "\n",
    "mode_z = 'uniform'\n",
    "fixed_z = create_noise(batch_size, z_size, mode_z).to(device)\n",
    "\n",
    "def create_samples(g_model, input_z, input_t):\n",
    "    g_output = g_model(input_z, input_t)\n",
    "    images = torch.reshape(g_output, (batch_size, *image_size))\n",
    "    return (images+1)/2.0"
   ],
   "metadata": {
    "collapsed": false,
    "ExecuteTime": {
     "start_time": "2023-11-20T13:10:03.127306Z",
     "end_time": "2023-11-20T13:10:03.158039Z"
    }
   }
  },
  {
   "cell_type": "code",
   "execution_count": 25,
   "outputs": [],
   "source": [
    "noise = create_noise(64, 100, \"uniform\")"
   ],
   "metadata": {
    "collapsed": false,
    "ExecuteTime": {
     "start_time": "2023-11-20T13:10:04.728262Z",
     "end_time": "2023-11-20T13:10:04.745749Z"
    }
   }
  },
  {
   "cell_type": "code",
   "execution_count": 26,
   "outputs": [
    {
     "data": {
      "text/plain": "torch.Size([64, 100])"
     },
     "execution_count": 26,
     "metadata": {},
     "output_type": "execute_result"
    }
   ],
   "source": [
    "noise.shape"
   ],
   "metadata": {
    "collapsed": false,
    "ExecuteTime": {
     "start_time": "2023-11-20T13:10:05.262253Z",
     "end_time": "2023-11-20T13:10:05.295403Z"
    }
   }
  },
  {
   "cell_type": "code",
   "execution_count": 57,
   "outputs": [],
   "source": [
    "class Generator(nn.Module):\n",
    "    def __init__(self, noise_dim, word_embedding_dim, output_shape):\n",
    "        super(Generator, self).__init__()\n",
    "\n",
    "        self.noise_dim = noise_dim\n",
    "        self.word_embedding_dim = word_embedding_dim\n",
    "\n",
    "        # Define the layers of your generator\n",
    "        self.fc_noise = nn.Linear(noise_dim, 105 * 8)\n",
    "        self.fc_word_embedding = nn.Linear(word_embedding_dim, 105 * 8)\n",
    "        self.conv1 = nn.Conv2d(2, 64, kernel_size=3, stride=1, padding=1)\n",
    "        self.bn1 = nn.BatchNorm2d(64)\n",
    "        self.relu = nn.ReLU()\n",
    "        self.conv2 = nn.Conv2d(64, 1, kernel_size=3, stride=1, padding=1)\n",
    "\n",
    "\n",
    "\n",
    "    def forward(self, noise, word_embedding):\n",
    "        # Process noise\n",
    "        noise = self.fc_noise(noise)\n",
    "        noise = noise.view(noise.size(0), 1, 105, 8)\n",
    "\n",
    "        # Process word embedding\n",
    "        word_embedding = self.fc_word_embedding(word_embedding)\n",
    "        word_embedding = word_embedding.view(word_embedding.size(0), 1, 105, 8)\n",
    "\n",
    "        # Concatenate noise and word embedding\n",
    "        combined_input = torch.cat([noise, word_embedding], dim=1)\n",
    "\n",
    "        # Upsample and generate the output\n",
    "        z = self.conv1(combined_input)\n",
    "        z = self.bn1(z)\n",
    "        z = self.relu(z)\n",
    "        z = self.conv2(z)\n",
    "\n",
    "        return z\n",
    "\n",
    "class DiscriminatorWGAN(nn.Module):\n",
    "    def __init__(self, n_filters):\n",
    "        super(DiscriminatorWGAN, self).__init__()\n",
    "        self.network = nn.Sequential(\n",
    "            nn.Conv2d(1, n_filters, kernel_size=4, stride=2, padding=1, bias=False),\n",
    "            nn.LeakyReLU(0.2),\n",
    "\n",
    "            nn.Conv2d(n_filters, n_filters*2, kernel_size=4, stride=2, padding=1, bias=False),\n",
    "            nn.InstanceNorm2d(n_filters * 2),\n",
    "            nn.LeakyReLU(0.2),\n",
    "\n",
    "            nn.Conv2d(n_filters*2, n_filters*4, kernel_size=3, stride=2, padding=1, bias=False),\n",
    "            nn.InstanceNorm2d(n_filters*4),\n",
    "            nn.LeakyReLU(0.2),\n",
    "\n",
    "            nn.Conv2d(n_filters*4, 1, kernel_size=3, stride=1, padding=1, bias=False),\n",
    "            nn.Sigmoid()\n",
    "        )\n",
    "\n",
    "    def forward(self, input):\n",
    "        output = self.network(input)\n",
    "        return output.view(-1, 1)"
   ],
   "metadata": {
    "collapsed": false,
    "ExecuteTime": {
     "start_time": "2023-11-20T13:18:23.986321Z",
     "end_time": "2023-11-20T13:18:24.017686Z"
    }
   }
  },
  {
   "cell_type": "code",
   "execution_count": 58,
   "outputs": [],
   "source": [
    "gen_model = Generator(z_size, word_embedding_dim, output_shape).to(device)\n",
    "disc_model = DiscriminatorWGAN(n_filters).to(device)\n",
    "\n",
    "g_optimizer = torch.optim.Adam(gen_model.parameters(), 0.00002)\n",
    "d_optimizer = torch.optim.Adam(disc_model.parameters(), 0.00002)"
   ],
   "metadata": {
    "collapsed": false,
    "ExecuteTime": {
     "start_time": "2023-11-20T13:18:24.469018Z",
     "end_time": "2023-11-20T13:18:24.486640Z"
    }
   }
  },
  {
   "cell_type": "code",
   "execution_count": 59,
   "outputs": [],
   "source": [
    "from torch.autograd import grad as torch_grad\n",
    "\n",
    "\n",
    "def gradient_penalty(real_data, generated_data):\n",
    "    batch_size = real_data.size(0)\n",
    "\n",
    "    # Calculate interpolation\n",
    "    alpha = torch.rand(real_data.shape[0], 1, 1, 1, requires_grad=True, device=device)\n",
    "    #print(\"Gen:\", generated_data.shape)\n",
    "    interpolated = alpha * real_data + (1 - alpha) * generated_data\n",
    "\n",
    "    # Calculate probability of interpolated examples\n",
    "    proba_interpolated = disc_model(interpolated)\n",
    "\n",
    "    # Calculate gradients of probabilities with respect to examples\n",
    "    gradients = torch_grad(outputs=proba_interpolated, inputs=interpolated,\n",
    "                           grad_outputs=torch.ones(proba_interpolated.size(), device=device),\n",
    "                           create_graph=True, retain_graph=True)[0]\n",
    "\n",
    "    gradients = gradients.view(batch_size, -1)\n",
    "    gradients_norm = gradients.norm(2, dim=1)\n",
    "    return lambda_gp * ((gradients_norm - 1)**2).mean()\n"
   ],
   "metadata": {
    "collapsed": false,
    "ExecuteTime": {
     "start_time": "2023-11-20T13:18:24.920156Z",
     "end_time": "2023-11-20T13:18:24.945325Z"
    }
   }
  },
  {
   "cell_type": "code",
   "execution_count": 69,
   "outputs": [],
   "source": [
    "## Train the discriminator\n",
    "def d_train_wgan(x, input_t):\n",
    "    disc_model.zero_grad()\n",
    "\n",
    "    batch_size = x.size(0)\n",
    "    x = x.to(device)\n",
    "    print(\"X:\", x.shape)\n",
    "    # Calculate probabilities on real and generated data\n",
    "    d_real = disc_model(x)\n",
    "    input_z = create_noise(batch_size, z_size, mode_z).to(device)\n",
    "    g_output = gen_model(input_z, input_t)\n",
    "\n",
    "\n",
    "    d_generated = disc_model(g_output)\n",
    "    print(\"G output:\", g_output.shape)\n",
    "\n",
    "    d_loss = d_generated.mean() - d_real.mean() + gradient_penalty(x.data, g_output.data)\n",
    "\n",
    "    d_loss.backward()\n",
    "    d_optimizer.step()\n",
    "\n",
    "    return d_loss.data.item()"
   ],
   "metadata": {
    "collapsed": false,
    "ExecuteTime": {
     "start_time": "2023-11-20T13:23:40.316642Z",
     "end_time": "2023-11-20T13:23:40.348417Z"
    }
   }
  },
  {
   "cell_type": "code",
   "execution_count": 70,
   "outputs": [],
   "source": [
    "## Train the generator\n",
    "def g_train_wgan(x, input_t):\n",
    "    gen_model.zero_grad()\n",
    "\n",
    "    batch_size = x.size(0)\n",
    "    input_z = create_noise(batch_size, z_size, mode_z).to(device)\n",
    "\n",
    "    g_output = gen_model(input_z, input_t)\n",
    "\n",
    "    d_generated = disc_model(g_output)\n",
    "    g_loss = -d_generated.mean()\n",
    "\n",
    "    # gradient backprop & optimize ONLY G's parameters\n",
    "    g_loss.backward()\n",
    "    g_optimizer.step()\n",
    "\n",
    "    return g_loss.data.item()"
   ],
   "metadata": {
    "collapsed": false,
    "ExecuteTime": {
     "start_time": "2023-11-20T13:23:40.605480Z",
     "end_time": "2023-11-20T13:23:40.636917Z"
    }
   }
  },
  {
   "cell_type": "code",
   "execution_count": 71,
   "outputs": [
    {
     "name": "stdout",
     "output_type": "stream",
     "text": [
      "G loss: tensor(-0.3404, grad_fn=<NegBackward0>)\n",
      "G loss: tensor(-0.3614, grad_fn=<NegBackward0>)\n",
      "G loss: tensor(-0.3560, grad_fn=<NegBackward0>)\n",
      "G loss: tensor(-0.3219, grad_fn=<NegBackward0>)\n",
      "G loss: tensor(-0.2841, grad_fn=<NegBackward0>)\n",
      "G loss: tensor(-0.3415, grad_fn=<NegBackward0>)\n",
      "G loss: tensor(-0.3050, grad_fn=<NegBackward0>)\n",
      "G loss: tensor(-0.3248, grad_fn=<NegBackward0>)\n",
      "G loss: tensor(-0.3082, grad_fn=<NegBackward0>)\n",
      "G loss: tensor(-0.3295, grad_fn=<NegBackward0>)\n",
      "G loss: tensor(-0.3386, grad_fn=<NegBackward0>)\n",
      "G loss: tensor(-0.3445, grad_fn=<NegBackward0>)\n",
      "G loss: tensor(-0.3099, grad_fn=<NegBackward0>)\n",
      "G loss: tensor(-0.3386, grad_fn=<NegBackward0>)\n",
      "G loss: tensor(-0.3416, grad_fn=<NegBackward0>)\n",
      "G loss: tensor(-0.3232, grad_fn=<NegBackward0>)\n",
      "G loss: tensor(-0.3469, grad_fn=<NegBackward0>)\n",
      "G loss: tensor(-0.3702, grad_fn=<NegBackward0>)\n",
      "G loss: tensor(-0.3191, grad_fn=<NegBackward0>)\n",
      "G loss: tensor(-0.3288, grad_fn=<NegBackward0>)\n",
      "G loss: tensor(-0.3053, grad_fn=<NegBackward0>)\n",
      "G loss: tensor(-0.3385, grad_fn=<NegBackward0>)\n",
      "G loss: tensor(-0.3139, grad_fn=<NegBackward0>)\n",
      "G loss: tensor(-0.3192, grad_fn=<NegBackward0>)\n",
      "G loss: tensor(-0.3369, grad_fn=<NegBackward0>)\n",
      "G loss: tensor(-0.3033, grad_fn=<NegBackward0>)\n",
      "G loss: tensor(-0.3148, grad_fn=<NegBackward0>)\n",
      "G loss: tensor(-0.2972, grad_fn=<NegBackward0>)\n",
      "G loss: tensor(-0.3158, grad_fn=<NegBackward0>)\n",
      "G loss: tensor(-0.3192, grad_fn=<NegBackward0>)\n",
      "G loss: tensor(-0.3293, grad_fn=<NegBackward0>)\n",
      "G loss: tensor(-0.3400, grad_fn=<NegBackward0>)\n",
      "G loss: tensor(-0.3259, grad_fn=<NegBackward0>)\n",
      "G loss: tensor(-0.3022, grad_fn=<NegBackward0>)\n",
      "G loss: tensor(-0.3131, grad_fn=<NegBackward0>)\n",
      "G loss: tensor(-0.3054, grad_fn=<NegBackward0>)\n",
      "G loss: tensor(-0.3312, grad_fn=<NegBackward0>)\n",
      "G loss: tensor(-0.3211, grad_fn=<NegBackward0>)\n",
      "G loss: tensor(-0.3382, grad_fn=<NegBackward0>)\n",
      "G loss: tensor(-0.3442, grad_fn=<NegBackward0>)\n",
      "G loss: tensor(-0.3255, grad_fn=<NegBackward0>)\n",
      "G loss: tensor(-0.3026, grad_fn=<NegBackward0>)\n",
      "G loss: tensor(-0.3222, grad_fn=<NegBackward0>)\n",
      "G loss: tensor(-0.3570, grad_fn=<NegBackward0>)\n",
      "G loss: tensor(-0.2990, grad_fn=<NegBackward0>)\n",
      "G loss: tensor(-0.3571, grad_fn=<NegBackward0>)\n",
      "G loss: tensor(-0.3273, grad_fn=<NegBackward0>)\n",
      "G loss: tensor(-0.3292, grad_fn=<NegBackward0>)\n",
      "G loss: tensor(-0.3286, grad_fn=<NegBackward0>)\n",
      "G loss: tensor(-0.3245, grad_fn=<NegBackward0>)\n",
      "G loss: tensor(-0.2571, grad_fn=<NegBackward0>)\n",
      "G loss: tensor(-0.2982, grad_fn=<NegBackward0>)\n",
      "G loss: tensor(-0.3006, grad_fn=<NegBackward0>)\n",
      "G loss: tensor(-0.2828, grad_fn=<NegBackward0>)\n",
      "G loss: tensor(-0.3248, grad_fn=<NegBackward0>)\n",
      "G loss: tensor(-0.3164, grad_fn=<NegBackward0>)\n",
      "G loss: tensor(-0.3155, grad_fn=<NegBackward0>)\n",
      "G loss: tensor(-0.3101, grad_fn=<NegBackward0>)\n",
      "G loss: tensor(-0.2837, grad_fn=<NegBackward0>)\n",
      "G loss: tensor(-0.2883, grad_fn=<NegBackward0>)\n",
      "G loss: tensor(-0.2930, grad_fn=<NegBackward0>)\n",
      "G loss: tensor(-0.3270, grad_fn=<NegBackward0>)\n",
      "G loss: tensor(-0.3128, grad_fn=<NegBackward0>)\n",
      "G loss: tensor(-0.3476, grad_fn=<NegBackward0>)\n",
      "G loss: tensor(-0.3139, grad_fn=<NegBackward0>)\n",
      "G loss: tensor(-0.3151, grad_fn=<NegBackward0>)\n",
      "G loss: tensor(-0.2938, grad_fn=<NegBackward0>)\n",
      "G loss: tensor(-0.3021, grad_fn=<NegBackward0>)\n",
      "G loss: tensor(-0.3389, grad_fn=<NegBackward0>)\n",
      "G loss: tensor(-0.2990, grad_fn=<NegBackward0>)\n",
      "G loss: tensor(-0.2966, grad_fn=<NegBackward0>)\n",
      "G loss: tensor(-0.2900, grad_fn=<NegBackward0>)\n",
      "G loss: tensor(-0.3082, grad_fn=<NegBackward0>)\n",
      "G loss: tensor(-0.3209, grad_fn=<NegBackward0>)\n",
      "G loss: tensor(-0.3038, grad_fn=<NegBackward0>)\n",
      "G loss: tensor(-0.3075, grad_fn=<NegBackward0>)\n",
      "G loss: tensor(-0.3020, grad_fn=<NegBackward0>)\n",
      "G loss: tensor(-0.3153, grad_fn=<NegBackward0>)\n",
      "G loss: tensor(-0.3173, grad_fn=<NegBackward0>)\n",
      "G loss: tensor(-0.2837, grad_fn=<NegBackward0>)\n",
      "G loss: tensor(-0.3121, grad_fn=<NegBackward0>)\n",
      "G loss: tensor(-0.2817, grad_fn=<NegBackward0>)\n",
      "G loss: tensor(-0.2935, grad_fn=<NegBackward0>)\n",
      "G loss: tensor(-0.3114, grad_fn=<NegBackward0>)\n",
      "G loss: tensor(-0.2864, grad_fn=<NegBackward0>)\n"
     ]
    },
    {
     "ename": "KeyboardInterrupt",
     "evalue": "",
     "output_type": "error",
     "traceback": [
      "\u001B[1;31m---------------------------------------------------------------------------\u001B[0m",
      "\u001B[1;31mKeyboardInterrupt\u001B[0m                         Traceback (most recent call last)",
      "Cell \u001B[1;32mIn[71], line 13\u001B[0m\n\u001B[0;32m     10\u001B[0m \u001B[38;5;28;01mfor\u001B[39;00m i, (x, t) \u001B[38;5;129;01min\u001B[39;00m \u001B[38;5;28menumerate\u001B[39m(trainloader):\n\u001B[0;32m     11\u001B[0m     \u001B[38;5;66;03m#print(\"T:\", t)\u001B[39;00m\n\u001B[0;32m     12\u001B[0m     \u001B[38;5;28;01mfor\u001B[39;00m _ \u001B[38;5;129;01min\u001B[39;00m \u001B[38;5;28mrange\u001B[39m(critic_iterations):\n\u001B[1;32m---> 13\u001B[0m         d_loss \u001B[38;5;241m=\u001B[39m \u001B[43md_train_wgan\u001B[49m\u001B[43m(\u001B[49m\u001B[43mx\u001B[49m\u001B[43m,\u001B[49m\u001B[43m \u001B[49m\u001B[43mt\u001B[49m\u001B[43m)\u001B[49m\n\u001B[0;32m     14\u001B[0m         \u001B[38;5;66;03m#print(\"D loss:\", d_loss)\u001B[39;00m\n\u001B[0;32m     15\u001B[0m     d_losses\u001B[38;5;241m.\u001B[39mappend(d_loss)\n",
      "Cell \u001B[1;32mIn[69], line 19\u001B[0m, in \u001B[0;36md_train_wgan\u001B[1;34m(x, input_t)\u001B[0m\n\u001B[0;32m     15\u001B[0m \u001B[38;5;66;03m#print(\"D generated\", d_real.shape)\u001B[39;00m\n\u001B[0;32m     17\u001B[0m d_loss \u001B[38;5;241m=\u001B[39m d_generated\u001B[38;5;241m.\u001B[39mmean() \u001B[38;5;241m-\u001B[39m d_real\u001B[38;5;241m.\u001B[39mmean() \u001B[38;5;241m+\u001B[39m gradient_penalty(x\u001B[38;5;241m.\u001B[39mdata, g_output\u001B[38;5;241m.\u001B[39mdata)\n\u001B[1;32m---> 19\u001B[0m \u001B[43md_loss\u001B[49m\u001B[38;5;241;43m.\u001B[39;49m\u001B[43mbackward\u001B[49m\u001B[43m(\u001B[49m\u001B[43m)\u001B[49m\n\u001B[0;32m     20\u001B[0m d_optimizer\u001B[38;5;241m.\u001B[39mstep()\n\u001B[0;32m     22\u001B[0m \u001B[38;5;28;01mreturn\u001B[39;00m d_loss\u001B[38;5;241m.\u001B[39mdata\u001B[38;5;241m.\u001B[39mitem()\n",
      "File \u001B[1;32m~\\Anaconda3\\lib\\site-packages\\torch\\_tensor.py:487\u001B[0m, in \u001B[0;36mTensor.backward\u001B[1;34m(self, gradient, retain_graph, create_graph, inputs)\u001B[0m\n\u001B[0;32m    477\u001B[0m \u001B[38;5;28;01mif\u001B[39;00m has_torch_function_unary(\u001B[38;5;28mself\u001B[39m):\n\u001B[0;32m    478\u001B[0m     \u001B[38;5;28;01mreturn\u001B[39;00m handle_torch_function(\n\u001B[0;32m    479\u001B[0m         Tensor\u001B[38;5;241m.\u001B[39mbackward,\n\u001B[0;32m    480\u001B[0m         (\u001B[38;5;28mself\u001B[39m,),\n\u001B[1;32m   (...)\u001B[0m\n\u001B[0;32m    485\u001B[0m         inputs\u001B[38;5;241m=\u001B[39minputs,\n\u001B[0;32m    486\u001B[0m     )\n\u001B[1;32m--> 487\u001B[0m \u001B[43mtorch\u001B[49m\u001B[38;5;241;43m.\u001B[39;49m\u001B[43mautograd\u001B[49m\u001B[38;5;241;43m.\u001B[39;49m\u001B[43mbackward\u001B[49m\u001B[43m(\u001B[49m\n\u001B[0;32m    488\u001B[0m \u001B[43m    \u001B[49m\u001B[38;5;28;43mself\u001B[39;49m\u001B[43m,\u001B[49m\u001B[43m \u001B[49m\u001B[43mgradient\u001B[49m\u001B[43m,\u001B[49m\u001B[43m \u001B[49m\u001B[43mretain_graph\u001B[49m\u001B[43m,\u001B[49m\u001B[43m \u001B[49m\u001B[43mcreate_graph\u001B[49m\u001B[43m,\u001B[49m\u001B[43m \u001B[49m\u001B[43minputs\u001B[49m\u001B[38;5;241;43m=\u001B[39;49m\u001B[43minputs\u001B[49m\n\u001B[0;32m    489\u001B[0m \u001B[43m\u001B[49m\u001B[43m)\u001B[49m\n",
      "File \u001B[1;32m~\\Anaconda3\\lib\\site-packages\\torch\\autograd\\__init__.py:200\u001B[0m, in \u001B[0;36mbackward\u001B[1;34m(tensors, grad_tensors, retain_graph, create_graph, grad_variables, inputs)\u001B[0m\n\u001B[0;32m    195\u001B[0m     retain_graph \u001B[38;5;241m=\u001B[39m create_graph\n\u001B[0;32m    197\u001B[0m \u001B[38;5;66;03m# The reason we repeat same the comment below is that\u001B[39;00m\n\u001B[0;32m    198\u001B[0m \u001B[38;5;66;03m# some Python versions print out the first line of a multi-line function\u001B[39;00m\n\u001B[0;32m    199\u001B[0m \u001B[38;5;66;03m# calls in the traceback and some print out the last line\u001B[39;00m\n\u001B[1;32m--> 200\u001B[0m \u001B[43mVariable\u001B[49m\u001B[38;5;241;43m.\u001B[39;49m\u001B[43m_execution_engine\u001B[49m\u001B[38;5;241;43m.\u001B[39;49m\u001B[43mrun_backward\u001B[49m\u001B[43m(\u001B[49m\u001B[43m  \u001B[49m\u001B[38;5;66;43;03m# Calls into the C++ engine to run the backward pass\u001B[39;49;00m\n\u001B[0;32m    201\u001B[0m \u001B[43m    \u001B[49m\u001B[43mtensors\u001B[49m\u001B[43m,\u001B[49m\u001B[43m \u001B[49m\u001B[43mgrad_tensors_\u001B[49m\u001B[43m,\u001B[49m\u001B[43m \u001B[49m\u001B[43mretain_graph\u001B[49m\u001B[43m,\u001B[49m\u001B[43m \u001B[49m\u001B[43mcreate_graph\u001B[49m\u001B[43m,\u001B[49m\u001B[43m \u001B[49m\u001B[43minputs\u001B[49m\u001B[43m,\u001B[49m\n\u001B[0;32m    202\u001B[0m \u001B[43m    \u001B[49m\u001B[43mallow_unreachable\u001B[49m\u001B[38;5;241;43m=\u001B[39;49m\u001B[38;5;28;43;01mTrue\u001B[39;49;00m\u001B[43m,\u001B[49m\u001B[43m \u001B[49m\u001B[43maccumulate_grad\u001B[49m\u001B[38;5;241;43m=\u001B[39;49m\u001B[38;5;28;43;01mTrue\u001B[39;49;00m\u001B[43m)\u001B[49m\n",
      "\u001B[1;31mKeyboardInterrupt\u001B[0m: "
     ]
    }
   ],
   "source": [
    "epoch_samples_wgan = []\n",
    "lambda_gp = 10.0\n",
    "num_epochs = 100\n",
    "torch.manual_seed(1)\n",
    "critic_iterations = 5\n",
    "\n",
    "for epoch in range(1, num_epochs+1):\n",
    "    gen_model.train()\n",
    "    d_losses, g_losses = [], []\n",
    "    for i, (x, t) in enumerate(trainloader):\n",
    "        #print(\"T:\", t)\n",
    "        for _ in range(critic_iterations):\n",
    "            d_loss = d_train_wgan(x, t)\n",
    "            print(\"D Loss:\", d_loss)\n",
    "        d_losses.append(d_loss)\n",
    "        g_losses.append(g_train_wgan(x, t))\n",
    "\n",
    "    print(f'Epoch {epoch:03d} | D Loss >>'\n",
    "          f' {torch.FloatTensor(d_losses).mean():.4f}')\n",
    "    gen_model.eval()\n",
    "    epoch_samples_wgan.append(\n",
    "        create_samples(gen_model, fixed_z, t).detach().cpu().numpy())"
   ],
   "metadata": {
    "collapsed": false
   }
  },
  {
   "cell_type": "code",
   "execution_count": null,
   "outputs": [],
   "source": [],
   "metadata": {
    "collapsed": false
   }
  },
  {
   "cell_type": "code",
   "execution_count": null,
   "outputs": [],
   "source": [],
   "metadata": {
    "collapsed": false
   }
  }
 ],
 "metadata": {
  "kernelspec": {
   "display_name": "Python 3",
   "language": "python",
   "name": "python3"
  },
  "language_info": {
   "codemirror_mode": {
    "name": "ipython",
    "version": 2
   },
   "file_extension": ".py",
   "mimetype": "text/x-python",
   "name": "python",
   "nbconvert_exporter": "python",
   "pygments_lexer": "ipython2",
   "version": "2.7.6"
  }
 },
 "nbformat": 4,
 "nbformat_minor": 0
}
