{
 "cells": [
  {
   "cell_type": "code",
   "execution_count": 2,
   "metadata": {
    "collapsed": true,
    "ExecuteTime": {
     "start_time": "2024-03-27T19:26:46.869797Z",
     "end_time": "2024-03-27T19:26:59.818403Z"
    }
   },
   "outputs": [
    {
     "name": "stderr",
     "output_type": "stream",
     "text": [
      "[nltk_data] Downloading package punkt to\n",
      "[nltk_data]     C:\\Users\\gxb18167\\AppData\\Roaming\\nltk_data...\n",
      "[nltk_data]   Package punkt is already up-to-date!\n"
     ]
    }
   ],
   "source": [
    "import sys\n",
    "import nltk\n",
    "import torch.nn.functional as F\n",
    "import torch\n",
    "import torch.nn as nn\n",
    "import numpy as np\n",
    "from sklearn.preprocessing import MinMaxScaler\n",
    "import torch\n",
    "nltk.download('punkt')\n",
    "from gensim.models import Word2Vec\n",
    "from nltk.tokenize import word_tokenize\n",
    "sys.path.insert(0, '..')\n",
    "import pickle\n",
    "from torch.autograd import grad as torch_grad\n",
    "\n"
   ]
  },
  {
   "cell_type": "code",
   "execution_count": 3,
   "outputs": [
    {
     "name": "stdout",
     "output_type": "stream",
     "text": [
      "2.0.1\n",
      "GPU Available: False\n"
     ]
    }
   ],
   "source": [
    "print(torch.__version__)\n",
    "print(\"GPU Available:\", torch.cuda.is_available())\n",
    "\n",
    "if torch.cuda.is_available():\n",
    "    device = torch.device(\"cuda:0\")\n",
    "else:\n",
    "    device = \"cpu\""
   ],
   "metadata": {
    "collapsed": false,
    "ExecuteTime": {
     "start_time": "2024-03-27T19:26:59.833110Z",
     "end_time": "2024-03-27T19:26:59.917657Z"
    }
   }
  },
  {
   "cell_type": "code",
   "execution_count": 4,
   "outputs": [],
   "source": [
    "batch_size = 64\n",
    "word_embedding_dim = 50\n",
    "output_shape = (1, 105, 8)\n",
    "torch.manual_seed(1)\n",
    "np.random.seed(1)"
   ],
   "metadata": {
    "collapsed": false,
    "ExecuteTime": {
     "start_time": "2024-03-27T19:26:59.850452Z",
     "end_time": "2024-03-27T19:26:59.942106Z"
    }
   }
  },
  {
   "cell_type": "code",
   "execution_count": 7,
   "outputs": [],
   "source": [
    "\n",
    "# To load the lists from the file:\n",
    "with open(r\"C:\\Users\\gxb18167\\PycharmProjects\\EEG-To-Text\\SIGIR_Development\\EEG-GAN\\EEG_Text_Pairs_Sentence.pkl\", 'rb') as file:\n",
    "    EEG_word_level_embeddings = pickle.load(file)\n",
    "    EEG_word_level_labels = pickle.load(file)"
   ],
   "metadata": {
    "collapsed": false,
    "ExecuteTime": {
     "start_time": "2024-03-29T15:21:51.724350Z",
     "end_time": "2024-03-29T15:22:08.541510Z"
    }
   }
  },
  {
   "cell_type": "code",
   "execution_count": 8,
   "outputs": [
    {
     "data": {
      "text/plain": "['SOS',\n 'Presents',\n 'a',\n 'case',\n 'while',\n 'to',\n 'provide',\n 'a',\n 'reason',\n 'to',\n 'care',\n 'beyond',\n 'very',\n 'basic',\n 'dictums',\n 'of',\n 'human',\n 'decency.',\n 'SOS',\n 'Beautifully',\n 'crafted,',\n 'engaging',\n 'filmmaking',\n 'that',\n 'should',\n 'attract',\n 'upscale',\n 'audiences',\n 'hungry',\n 'quality',\n 'a',\n 'nostalgic,',\n 'twisty',\n 'yarn',\n 'will',\n 'keep',\n 'them',\n 'guessing.',\n 'SOS',\n 'Bread,',\n 'My',\n 'Sweet',\n 'has',\n 'so',\n 'many',\n 'flaws',\n 'would',\n 'easy',\n 'critics',\n 'to',\n 'shred',\n 'SOS',\n 'Slow,',\n 'silly',\n 'and',\n 'unintentionally',\n 'hilarious.',\n 'SOS',\n 'Ultimately',\n 'feels',\n 'emp11111ty',\n 'and',\n 'unsatisfying,',\n 'like',\n 'Communion',\n 'wafer',\n 'without',\n 'wine.',\n 'SOS',\n 'Exudes',\n 'the',\n 'Busby',\n 'Berkeley',\n 'musical',\n 'and',\n 'visceral',\n 'excitement',\n 'of',\n 'sports',\n 'extravaganza.',\n 'SOS',\n 'The',\n 'film',\n 'rehashes',\n 'several',\n 'old',\n 'themes',\n 'and',\n 'capped',\n 'with',\n 'pointless',\n 'extremes',\n \"it's\",\n 'insanely',\n 'violent',\n 'and',\n 'very',\n 'graphic.',\n 'SOS',\n 'Ryan',\n 'Gosling',\n 'is,',\n 'word,',\n 'conflicted',\n 'Daniel.',\n 'SOS',\n 'If',\n 'Deuces',\n 'had',\n 'been',\n 'tweaked',\n 'up',\n 'a',\n 'notch',\n 'have',\n 'become',\n 'a',\n 'camp',\n 'adventure,',\n 'one',\n 'those',\n 'movies',\n \"that's\",\n 'so',\n 'it',\n 'starts',\n 'become',\n 'good.',\n 'SOS',\n \"film's\",\n 'stagecrafts',\n 'are',\n 'intimate',\n 'and',\n 'therefore',\n 'bolder',\n 'the',\n 'otherwise',\n 'calculated',\n 'artifice',\n 'defines',\n 'and',\n 'overwhelms',\n 'the',\n \"film's\",\n 'production',\n 'design.',\n 'SOS',\n 'Frida',\n 'is',\n 'certainly',\n 'no',\n 'but',\n 'neither',\n 'is',\n 'Kahlo',\n 'movie',\n 'Frida',\n 'fans',\n 'been',\n 'looking',\n 'SOS',\n 'The',\n 'film',\n 'often',\n 'achieves',\n 'a',\n 'mesmerizing',\n 'poetry.',\n 'SOS',\n 'work',\n 'of',\n 'astonishing',\n 'delicacy',\n 'and',\n 'force.',\n 'SOS',\n 'The',\n \"movie's\",\n 'is',\n 'almost',\n 'entirely',\n 'witless',\n 'and',\n 'inane,',\n 'carrying',\n 'every',\n 'gag',\n 'two',\n 'or',\n 'three',\n 'times',\n 'beyond',\n 'limit',\n 'sustain',\n 'a',\n 'SOS',\n 'For',\n 'most',\n 'the',\n 'ingredients',\n 'are',\n 'there.',\n 'SOS',\n 'But',\n \"you've\",\n 'paid',\n 'matinee',\n 'price',\n 'and',\n 'a',\n 'big',\n 'of',\n 'popcorn,',\n \"there's\",\n 'guilty',\n 'fun',\n 'to',\n 'had',\n 'SOS',\n \"There's\",\n 'much',\n 'Fatale,',\n 'outside',\n 'of',\n 'its',\n 'stylish',\n 'surprises...',\n 'but',\n \"that's\",\n 'SOS',\n 'acting',\n 'the',\n 'story',\n 'lacks',\n 'all',\n 'trace',\n 'of',\n 'the',\n 'sets',\n 'look',\n 'they',\n 'borrowed',\n 'from',\n \"Gilligan's\",\n 'Island',\n 'and',\n 'CGI',\n 'Scooby',\n 'might',\n 'be',\n 'worst',\n 'special-effects',\n 'creation',\n 'the',\n 'year.',\n 'SOS',\n 'This',\n 'version',\n 'moves',\n 'beyond',\n \"original's\",\n 'for',\n 'communal',\n 'film',\n 'experiences',\n 'yesteryear',\n 'deeper',\n 'realization',\n \"cinema's\",\n 'inability',\n 'stand',\n 'in',\n 'for',\n 'lived',\n 'experience.',\n 'SOS',\n \"There's\",\n 'no',\n 'palpable',\n 'chemistry',\n 'between',\n 'Lopez',\n 'and',\n 'male',\n 'lead',\n 'Ralph',\n 'Fiennes,',\n 'plus',\n 'script',\n 'by',\n 'Working',\n 'Girl',\n 'scribe',\n 'Kevin',\n 'Wade',\n 'is',\n 'workmanlike',\n 'in',\n 'the',\n 'extreme.',\n 'SOS',\n 'A',\n 'first-class,',\n 'thoroughly',\n 'involving',\n 'movie',\n 'effectively',\n 'combines',\n 'two',\n 'surefire,',\n 'beloved',\n 'genres',\n 'the',\n 'flick',\n 'and',\n 'fight',\n 'SOS',\n 'The',\n 'film',\n 'so',\n 'bad',\n \"doesn't\",\n 'improve',\n 'experience',\n 'staring',\n 'at',\n 'a',\n 'blank',\n 'SOS',\n 'Weiss',\n 'Speck',\n 'never',\n 'make',\n 'convincing',\n 'case',\n 'relevance',\n 'these',\n 'two',\n '20th-century',\n 'footnotes.',\n 'SOS',\n 'Another',\n 'Best',\n 'of',\n 'the',\n 'selection.',\n 'SOS',\n \"It's\",\n 'all',\n 'a',\n 'rather',\n 'shapeless',\n 'good',\n 'time...',\n 'SOS',\n 'Same',\n 'song,',\n 'second',\n 'verse,',\n 'coulda',\n 'been',\n 'but',\n 'coulda',\n 'been',\n 'SOS',\n 'love',\n 'robust',\n 'middle',\n 'of',\n 'this',\n 'picture.',\n 'SOS',\n 'The',\n 'soundtrack',\n 'alone',\n 'is',\n 'worth',\n 'the',\n 'of',\n 'SOS',\n 'Mostly',\n 'Martha',\n 'could',\n 'have',\n 'used',\n 'little',\n 'trimming',\n '10',\n '15',\n 'minutes',\n 'could',\n 'and',\n 'one',\n 'notice',\n \"it's\",\n 'a',\n 'pleasurable',\n 'SOS',\n 'For',\n 'rest',\n 'us,',\n 'sitting',\n 'through',\n \"Dahmer's\",\n 'two',\n 'amounts',\n 'to',\n 'more',\n 'than',\n 'punishment.',\n 'SOS',\n 'Featuring',\n 'a',\n 'dangerously',\n 'seductive',\n 'performance',\n 'from',\n 'great',\n 'Daniel',\n 'Auteuil,',\n \"``Sade''\",\n 'covers',\n 'same',\n 'period',\n \"Kaufmann's\",\n \"``Quills''\",\n 'with',\n 'more',\n 'unsettlingly',\n 'realistic',\n 'results.',\n 'SOS',\n 'The',\n 'movie',\n 'fans',\n 'who',\n \"can't\",\n 'stop',\n 'loving',\n 'anime,',\n 'and',\n 'fanatical',\n 'excess',\n 'built',\n 'SOS',\n 'The',\n 'is',\n 'worth',\n 'a',\n 'you',\n \"don't\",\n 'demand',\n 'much',\n 'than',\n 'few',\n 'cheap',\n 'from',\n 'Halloween',\n 'entertainment.',\n 'SOS',\n 'Beautifully',\n 'observed,',\n 'miraculously',\n 'unsentimental',\n 'comedy-drama.',\n 'SOS',\n 'What',\n 'makes',\n 'I',\n 'My',\n 'Father',\n 'compelling,',\n 'besides',\n 'terrific',\n 'performances,',\n 'is',\n \"Fontaine's\",\n 'willingness',\n 'to',\n 'wander',\n 'the',\n 'areas',\n 'parent-child',\n 'relationships',\n 'without',\n 'flinching.',\n 'SOS',\n 'This',\n 'hastily',\n 'mounted',\n 'production',\n 'exists',\n 'only',\n 'to',\n 'capitalize',\n \"Hopkins'\",\n 'inclination',\n 'to',\n 'Hannibal',\n 'again,',\n 'even',\n 'though',\n 'Harris',\n 'has',\n 'immediate',\n 'inclination',\n 'provide',\n 'fourth',\n 'book.',\n 'SOS',\n \"Bullock's\",\n 'complete',\n 'lack',\n 'focus',\n 'and',\n 'quickly',\n 'derails',\n 'the',\n 'film.1',\n 'SOS',\n '...',\n 'a',\n 'plotline',\n \"that's\",\n 'as',\n 'lumpy',\n 'as',\n 'two-day',\n 'porridge...',\n 'the',\n \"filmmakers'\",\n 'paws,',\n 'to',\n 'all',\n \"``un-bear-able''\",\n 'project!',\n 'SOS',\n 'Crush',\n 'could',\n 'be',\n 'the',\n 'worst',\n 'a',\n 'made',\n 'about',\n 'since',\n 'the',\n 'SOS',\n 'Reassuring,',\n 'retro',\n 'uplifter.',\n 'SOS',\n 'Flaccid',\n 'drama',\n 'and',\n 'exasperatingly',\n 'slow',\n 'journey.',\n 'SOS',\n 'The',\n 'Movie',\n 'will',\n 'reach',\n 'far',\n 'beyond',\n 'its',\n 'core',\n 'demographic.',\n 'SOS',\n 'How',\n 'it',\n 'ever',\n 'get',\n 'SOS',\n 'the',\n 'new',\n 'footage',\n 'and',\n 'still',\n 'love',\n 'old',\n 'SOS',\n 'It',\n 'briefly',\n 'flirts',\n 'with',\n 'player',\n 'masochism,',\n 'the',\n 'point',\n 'real',\n 'audience',\n 'is',\n 'evaded',\n 'completely.',\n 'SOS',\n 'Could',\n 'The',\n 'Country',\n 'Bears',\n 'really',\n 'be',\n 'as',\n 'bad',\n 'its',\n 'trailers?',\n 'SOS',\n 'times,',\n 'the',\n 'movie',\n 'looks',\n 'genuinely',\n 'pretty.',\n 'SOS',\n 'It',\n 'depends',\n 'on',\n 'well',\n 'flatulence',\n 'gags',\n 'fit',\n 'into',\n 'your',\n 'holiday',\n 'SOS',\n 'The',\n 'stupidest,',\n 'most',\n 'insulting',\n 'movie',\n 'of',\n \"2002's\",\n 'quarter.',\n 'SOS',\n 'film',\n 'seems',\n 'dead',\n 'weight.',\n 'SOS',\n 'Sparkling,',\n 'often',\n 'hilarious',\n 'romantic',\n 'jealousy',\n 'comedy...',\n 'Attal',\n 'looks',\n 'so',\n 'like',\n 'young',\n 'Robert',\n 'DeNiro',\n 'seems',\n 'should',\n 'instead',\n 'called',\n 'Husband',\n 'Is',\n 'Travis',\n \"Bickle'.\",\n 'SOS',\n 'did',\n 'back',\n 'check',\n 'out',\n 'last',\n 'minutes,',\n 'but',\n 'these',\n 'more',\n 'repulsive',\n 'the',\n 'first',\n 'or',\n 'minutes.',\n 'SOS',\n 'lousy',\n 'movie',\n 'not',\n 'merely',\n 'unwatchable,',\n 'also',\n 'unlistenable.',\n 'SOS',\n 'One',\n 'the',\n 'films',\n 'the',\n 'with',\n 'exploration',\n 'of',\n 'obstacles',\n 'happiness',\n 'faced',\n 'five',\n 'contemporary',\n 'individuals...',\n 'psychological',\n 'masterpiece.',\n 'SOS',\n 'strong',\n 'script,',\n 'powerful',\n 'direction',\n 'splendid',\n 'production',\n 'design',\n 'allows',\n 'be',\n 'transported',\n 'into',\n 'life',\n 'Wladyslaw',\n 'Szpilman,',\n 'is',\n 'only',\n 'pianist,',\n 'good',\n 'human',\n 'being.',\n 'SOS',\n 'But',\n \"here's\",\n 'the',\n 'real',\n 'damn:',\n \"isn't\",\n 'funny,',\n 'either.',\n 'SOS',\n 'Qutting',\n 'may',\n 'a',\n 'flawed',\n 'but',\n 'nothing',\n 'if',\n 'sincere.',\n 'SOS',\n \"It's\",\n 'a',\n 'fanboy',\n '`what',\n \"if?'\",\n 'SOS',\n 'something',\n 'appears',\n 'have',\n 'been',\n 'lost',\n 'translation',\n 'this',\n 'time.',\n 'SOS',\n 'Like',\n 'a',\n 'documentary',\n 'version',\n 'Fight',\n 'Club,',\n 'shorn',\n 'of',\n 'social',\n 'insight,',\n 'intellectual',\n 'and',\n 'cinematic',\n 'interest.',\n 'SOS',\n 'Stephen',\n 'Rea,',\n 'Aidan',\n 'Quinn,',\n 'Alan',\n 'Bates',\n 'play',\n \"Desmond's\",\n 'legal',\n 'eagles,',\n 'and',\n 'when',\n 'joined',\n 'Brosnan,',\n 'sight',\n 'of',\n 'grandiloquent',\n 'quartet',\n 'lolling',\n 'pretty',\n 'Irish',\n 'settings',\n 'a',\n 'pleasant',\n 'enough',\n 'thing,',\n '`tis.',\n 'SOS',\n \"It's\",\n 'a',\n 'powerful',\n 'though',\n 'flawed',\n 'movie,',\n 'guaranteed',\n 'put',\n 'lump',\n 'in',\n 'throat',\n 'reaffirming',\n 'Washington',\n 'possibly',\n 'best',\n 'actor',\n 'working',\n 'in',\n 'movies',\n 'SOS',\n 'intriguing',\n 'entertaining',\n 'introduction',\n 'Johnson.',\n 'SOS',\n 'Everything',\n 'was',\n 'superficial',\n 'the',\n 'forced',\n 'New',\n 'Jersey',\n 'lowbrow',\n 'accent',\n 'Uma',\n 'had.',\n 'SOS',\n 'Despite',\n 'holes',\n 'the',\n 'story',\n 'and',\n 'the',\n 'somewhat',\n 'predictable',\n 'plot,',\n 'moments',\n 'the',\n 'movie',\n 'caused',\n 'to',\n 'jump',\n 'my',\n 'chair...',\n 'SOS',\n '`How',\n 'many',\n 'more',\n 'voyages',\n 'can',\n 'this',\n 'limping',\n 'but',\n 'dearly-loved',\n 'franchise',\n \"survive?'\",\n 'SOS',\n 'If',\n 'only',\n 'the',\n 'story',\n 'about',\n 'multi-million',\n 'dollar',\n 'con',\n 'bothered',\n 'to',\n 'include',\n 'the',\n 'con.',\n 'SOS',\n 'is',\n 'supremely',\n 'unfunny',\n 'unentertaining',\n 'watch',\n 'middle-age',\n 'older',\n 'men',\n 'drink',\n 'to',\n 'excess,',\n 'piss',\n 'trees,',\n 'b.s.',\n 'one',\n 'another',\n 'and',\n 'put',\n 'on',\n 'a',\n 'show',\n 'in',\n 'SOS',\n 'Only',\n 'few',\n 'minutes',\n 'elapse',\n 'before',\n 'daddy',\n 'all',\n 'slashers',\n 'arrives,',\n 'still',\n 'the',\n 'boiler',\n 'suit',\n 'white',\n 'which',\n 'look',\n 'remarkably',\n 'clean',\n 'guy',\n 'has',\n 'been',\n 'mass-murdering',\n 'since',\n '1978',\n 'has',\n 'never',\n 'seen',\n 'doing',\n 'laundry.',\n 'SOS',\n 'Showtime',\n 'one',\n 'the',\n 'hapless',\n 'victims',\n 'of',\n 'arrogant',\n '``if',\n 'we',\n 'put',\n 'together',\n 'wry',\n 'white',\n 'man',\n 'chatty',\n 'black',\n 'man',\n 'give',\n 'them',\n 'guns,',\n 'movie',\n 'will',\n \"funny''\",\n 'syndrome.',\n 'SOS',\n 'Whatever',\n 'heartwarming',\n 'scene',\n 'impressively',\n 'discreet',\n 'filmmakers',\n 'may',\n 'have',\n 'expected',\n 'record',\n 'their',\n 'mini',\n 'they',\n 'show',\n 'remarkable',\n 'ability',\n 'document',\n 'both',\n 'sides',\n 'emotional',\n 'car-wreck.',\n 'SOS',\n 'zombie',\n 'movie',\n 'every',\n 'the',\n 'mindless,',\n 'lifeless,',\n 'meandering,',\n 'loud,',\n 'painful,',\n 'obnoxious.',\n 'SOS',\n 'has',\n 'with',\n 'quirks',\n 'of',\n 'family',\n 'life,',\n 'also',\n 'the',\n 'subject',\n 'fondness',\n ...]"
     },
     "execution_count": 8,
     "metadata": {},
     "output_type": "execute_result"
    }
   ],
   "source": [
    "EEG_word_level_labels"
   ],
   "metadata": {
    "collapsed": false,
    "ExecuteTime": {
     "start_time": "2024-03-29T15:22:08.559129Z",
     "end_time": "2024-03-29T15:22:08.620942Z"
    }
   }
  },
  {
   "cell_type": "code",
   "execution_count": 7,
   "outputs": [],
   "source": [
    "def create_word_label_embeddings(Word_Labels_List):\n",
    "    tokenized_words = []\n",
    "    for i in range(len(Word_Labels_List)):\n",
    "        tokenized_words.append([Word_Labels_List[i]])\n",
    "    model = Word2Vec(sentences=tokenized_words, vector_size=word_embedding_dim, window=5, min_count=1, workers=4)\n",
    "    word_embeddings = {word: model.wv[word] for word in model.wv.index_to_key}\n",
    "    print(\"Number of word embeddings:\", len(word_embeddings))\n",
    "    #word, embedding = list(word_embeddings.items())[10]\n",
    "    #print(f\"Word: {word}, Embedding: {embedding}\")\n",
    "\n",
    "    Embedded_Word_labels = []\n",
    "    for word in EEG_word_level_labels:\n",
    "        Embedded_Word_labels.append(word_embeddings[word])\n",
    "\n",
    "    return Embedded_Word_labels, word_embeddings\n",
    "\n",
    "\n",
    "def create_word_label_embeddings_contextual(Word_Labels_List):\n",
    "    tokenized_words = []\n",
    "    for i in range(len(Word_Labels_List)):\n",
    "        tokenized_words.append([Word_Labels_List[i]])\n",
    "    model = Word2Vec(sentences=tokenized_words, vector_size=word_embedding_dim, window=5, min_count=1, workers=4)\n",
    "    word_embeddings = {word: model.wv[word] for word in model.wv.index_to_key}\n",
    "    Embedded_Word_labels = []\n",
    "\n",
    "    for words in range (0, len(EEG_word_level_labels)):\n",
    "        current_word = EEG_word_level_labels[words]\n",
    "        if current_word != \"SOS\" and words != len(EEG_word_level_labels)-1:\n",
    "            prior_word = EEG_word_level_labels[words-1]\n",
    "\n",
    "            current_word = EEG_word_level_labels[words]\n",
    "\n",
    "            next_word = EEG_word_level_labels[words+1]\n",
    "\n",
    "            contextual_embedding = np.concatenate((word_embeddings[prior_word], word_embeddings[current_word], word_embeddings[next_word]), axis=-1)\n",
    "            Embedded_Word_labels.append(contextual_embedding)\n",
    "        elif words == len(EEG_word_level_labels)-1:\n",
    "            prior_word = EEG_word_level_labels[words-1]\n",
    "            next_word = \"SOS\"\n",
    "            contextual_embedding = np.concatenate((word_embeddings[prior_word], word_embeddings[current_word], word_embeddings[next_word]), axis=-1)\n",
    "            Embedded_Word_labels.append(contextual_embedding)\n",
    "\n",
    "    return Embedded_Word_labels, word_embeddings\n",
    "\n",
    "\n",
    "def create_dataloader(EEG_word_level_embeddings, Embedded_Word_labels):\n",
    "    #EEG_word_level_embeddings_normalize = (EEG_word_level_embeddings - np.mean(EEG_word_level_embeddings)) / np.std(EEG_word_level_embeddings)\n",
    "    #Assuming EEG_synthetic is the generated synthetic EEG data\n",
    "    #EEG_synthetic_denormalized = (EEG_synthetic * np.max(np.abs(EEG_word_level_embeddings))) + np.mean(EEG_word_level_embeddings)\n",
    "\n",
    "    EEG_word_level_embeddings_normalize = (EEG_word_level_embeddings - np.mean(EEG_word_level_embeddings)) / np.max(np.abs(EEG_word_level_embeddings))\n",
    "\n",
    "\n",
    "    float_tensor = torch.tensor(EEG_word_level_embeddings_normalize, dtype=torch.float)\n",
    "    float_tensor = float_tensor.unsqueeze(1)\n",
    "\n",
    "    #print(EEG_word_level_embeddings_normalize)\n",
    "    # Calculate mean and standard deviation\n",
    "    print(torch.isnan(float_tensor).any())\n",
    "\n",
    "    train_data = []\n",
    "    for i in range(len(float_tensor)):\n",
    "       train_data.append([float_tensor[i], Embedded_Word_labels[i]])\n",
    "    trainloader = torch.utils.data.DataLoader(train_data, shuffle=True, batch_size=64)\n",
    "    return trainloader"
   ],
   "metadata": {
    "collapsed": false,
    "ExecuteTime": {
     "start_time": "2024-03-27T12:43:05.374506Z",
     "end_time": "2024-03-27T12:43:05.445571Z"
    }
   }
  },
  {
   "cell_type": "code",
   "execution_count": 8,
   "outputs": [
    {
     "name": "stdout",
     "output_type": "stream",
     "text": [
      "tensor(False)\n"
     ]
    }
   ],
   "source": [
    "Embedded_Word_labels, word_embeddings = create_word_label_embeddings_contextual(EEG_word_level_labels)\n",
    "trainloader = create_dataloader(EEG_word_level_embeddings, Embedded_Word_labels)"
   ],
   "metadata": {
    "collapsed": false,
    "ExecuteTime": {
     "start_time": "2024-03-27T12:43:05.951449Z",
     "end_time": "2024-03-27T12:43:17.267123Z"
    }
   }
  },
  {
   "cell_type": "code",
   "execution_count": 9,
   "outputs": [
    {
     "name": "stdout",
     "output_type": "stream",
     "text": [
      "torch.Size([64, 1, 105, 8]) tensor([[ 0.0165,  0.0193,  0.0193,  ..., -0.0048, -0.0063, -0.0047],\n",
      "        [-0.0163,  0.0090, -0.0083,  ..., -0.0036,  0.0157, -0.0008],\n",
      "        [ 0.0090,  0.0047, -0.0057,  ..., -0.0144, -0.0186,  0.0162],\n",
      "        ...,\n",
      "        [ 0.0029, -0.0053, -0.0141,  ..., -0.0115, -0.0033,  0.0111],\n",
      "        [ 0.0004, -0.0198, -0.0017,  ...,  0.0010,  0.0164, -0.0140],\n",
      "        [-0.0005, -0.0177, -0.0172,  ..., -0.0141,  0.0018,  0.0128]])\n"
     ]
    }
   ],
   "source": [
    "#sanity check:\n",
    "i1, l1 = next(iter(trainloader))\n",
    "print(i1.shape, l1)"
   ],
   "metadata": {
    "collapsed": false,
    "ExecuteTime": {
     "start_time": "2024-03-27T12:43:17.277455Z",
     "end_time": "2024-03-27T12:43:17.363706Z"
    }
   }
  },
  {
   "cell_type": "code",
   "execution_count": 14,
   "outputs": [],
   "source": [
    "z_size = 100\n",
    "image_size = (105, 8)\n",
    "\n",
    "n_filters = 32"
   ],
   "metadata": {
    "collapsed": false,
    "ExecuteTime": {
     "start_time": "2024-03-13T16:36:47.582775Z",
     "end_time": "2024-03-13T16:36:47.603793Z"
    }
   }
  },
  {
   "cell_type": "code",
   "execution_count": 15,
   "outputs": [],
   "source": [
    "## Loss function and optimizers:\n",
    "loss_fn = nn.BCELoss()"
   ],
   "metadata": {
    "collapsed": false,
    "ExecuteTime": {
     "start_time": "2024-03-13T16:36:47.603793Z",
     "end_time": "2024-03-13T16:36:47.661440Z"
    }
   }
  },
  {
   "cell_type": "code",
   "execution_count": 16,
   "outputs": [],
   "source": [
    "def create_noise(batch_size, z_size, mode_z):\n",
    "    if mode_z == 'uniform':\n",
    "        input_z = torch.rand(batch_size, z_size)*2 - 1\n",
    "    elif mode_z == 'normal':\n",
    "        input_z = torch.randn(batch_size, z_size)\n",
    "    return input_z\n",
    "\n",
    "mode_z = 'uniform'\n",
    "fixed_z = create_noise(batch_size, z_size, mode_z).to(device)\n",
    "\n",
    "def create_samples(g_model, input_z, input_t):\n",
    "    g_output = g_model(input_z, input_t)\n",
    "    images = torch.reshape(g_output, (batch_size, *image_size))\n",
    "    return (images+1)/2.0"
   ],
   "metadata": {
    "collapsed": false,
    "ExecuteTime": {
     "start_time": "2024-03-13T16:36:47.631388Z",
     "end_time": "2024-03-13T16:36:47.679154Z"
    }
   }
  },
  {
   "cell_type": "code",
   "execution_count": 17,
   "outputs": [],
   "source": [
    "noise = create_noise(64, 100, \"uniform\")"
   ],
   "metadata": {
    "collapsed": false,
    "ExecuteTime": {
     "start_time": "2024-03-13T16:36:47.646421Z",
     "end_time": "2024-03-13T16:36:47.679154Z"
    }
   }
  },
  {
   "cell_type": "code",
   "execution_count": 18,
   "outputs": [
    {
     "data": {
      "text/plain": "torch.Size([64, 100])"
     },
     "execution_count": 18,
     "metadata": {},
     "output_type": "execute_result"
    }
   ],
   "source": [
    "noise.shape"
   ],
   "metadata": {
    "collapsed": false,
    "ExecuteTime": {
     "start_time": "2024-03-13T16:36:47.661440Z",
     "end_time": "2024-03-13T16:36:47.757391Z"
    }
   }
  },
  {
   "cell_type": "code",
   "execution_count": 19,
   "outputs": [],
   "source": [
    "class Generator(nn.Module):\n",
    "    def __init__(self, noise_dim, word_embedding_dim, output_shape):\n",
    "        super(Generator, self).__init__()\n",
    "\n",
    "        self.noise_dim = noise_dim\n",
    "        self.word_embedding_dim = word_embedding_dim\n",
    "\n",
    "        # Define the layers of your generator\n",
    "        self.fc_noise = nn.Linear(noise_dim, 105 * 8)\n",
    "        self.fc_word_embedding = nn.Linear(word_embedding_dim, 105 * 8)\n",
    "        self.conv1 = nn.Conv2d(2, 64, kernel_size=3, stride=1, padding=1)\n",
    "        self.bn1 = nn.BatchNorm2d(64)\n",
    "        self.relu = nn.ReLU()\n",
    "        self.conv2 = nn.Conv2d(64, 1, kernel_size=3, stride=1, padding=1)\n",
    "\n",
    "\n",
    "\n",
    "    def forward(self, noise, word_embedding):\n",
    "        # Process noise\n",
    "        noise = self.fc_noise(noise)\n",
    "        noise = noise.view(noise.size(0), 1, 105, 8)\n",
    "\n",
    "        # Process word embedding\n",
    "        word_embedding = self.fc_word_embedding(word_embedding.to(device))\n",
    "        word_embedding = word_embedding.view(word_embedding.size(0), 1, 105, 8)\n",
    "\n",
    "        #print(\"Word Embedding:\", word_embedding.shape)\n",
    "        # Concatenate noise and word embedding\n",
    "        combined_input = torch.cat([noise, word_embedding], dim=1)\n",
    "\n",
    "        #print(\"Gen Combined Input:\", combined_input.shape)\n",
    "        # Upsample and generate the output\n",
    "        z = self.conv1(combined_input)\n",
    "        z = self.bn1(z)\n",
    "        z = self.relu(z)\n",
    "        z = self.conv2(z)\n",
    "\n",
    "        return z\n",
    "\n",
    "class DiscriminatorWGAN(nn.Module):\n",
    "    def __init__(self, n_filters, word_embedding_dim):\n",
    "        super(DiscriminatorWGAN, self).__init__()\n",
    "\n",
    "        self.word_embedding_dim = word_embedding_dim\n",
    "        self.fc_word_embedding = nn.Linear(word_embedding_dim, 105 * 8)\n",
    "\n",
    "        self.network = nn.Sequential(\n",
    "            nn.Conv2d(2, n_filters, kernel_size=4, stride=2, padding=1, bias=False),\n",
    "            nn.LeakyReLU(0.2),\n",
    "\n",
    "            nn.Conv2d(n_filters, n_filters*2, kernel_size=4, stride=2, padding=1, bias=False),\n",
    "            nn.InstanceNorm2d(n_filters * 2),\n",
    "            nn.LeakyReLU(0.2),\n",
    "\n",
    "            nn.Conv2d(n_filters*2, n_filters*4, kernel_size=3, stride=2, padding=1, bias=False),\n",
    "            nn.InstanceNorm2d(n_filters*4),\n",
    "            nn.LeakyReLU(0.2),\n",
    "\n",
    "            nn.Flatten(),  # Flatten spatial dimensions\n",
    "\n",
    "            # Fully connected layer to reduce to a single value per sample\n",
    "            nn.Linear(n_filters*4 * (105 // 8) * (8 // 8), 1),\n",
    "            nn.Sigmoid()\n",
    "        )\n",
    "\n",
    "    def forward(self, input, word_embedding):\n",
    "        word_embedding = self.fc_word_embedding(word_embedding.to(device))\n",
    "        word_embedding = word_embedding.view(word_embedding.size(0), 1, 105, 8)\n",
    "\n",
    "        combined_input = torch.cat([input, word_embedding], dim=1)\n",
    "        #print(\"combined_input:\", combined_input.shape)\n",
    "\n",
    "        output = self.network(combined_input)\n",
    "        return output\n"
   ],
   "metadata": {
    "collapsed": false,
    "ExecuteTime": {
     "start_time": "2024-03-13T16:36:47.694150Z",
     "end_time": "2024-03-13T16:36:47.757391Z"
    }
   }
  },
  {
   "cell_type": "code",
   "execution_count": 20,
   "outputs": [],
   "source": [
    "gen_model = Generator(z_size, 150, output_shape).to(device)\n",
    "disc_model = DiscriminatorWGAN(n_filters, 150).to(device)\n",
    "\n",
    "g_optimizer = torch.optim.Adam(gen_model.parameters(), 0.00002)\n",
    "d_optimizer = torch.optim.Adam(disc_model.parameters(), 0.00002)"
   ],
   "metadata": {
    "collapsed": false,
    "ExecuteTime": {
     "start_time": "2024-03-13T16:36:47.740921Z",
     "end_time": "2024-03-13T16:36:47.772424Z"
    }
   }
  },
  {
   "cell_type": "code",
   "execution_count": 21,
   "outputs": [],
   "source": [
    "\n",
    "def gradient_penalty(real_data, generated_data, input_t):\n",
    "    batch_size = real_data.size(0)\n",
    "\n",
    "    # Calculate interpolation\n",
    "    alpha = torch.rand(real_data.shape[0], 1, 1, 1, requires_grad=True, device=device)\n",
    "    #print(\"Gen:\", generated_data.shape)\n",
    "    interpolated = alpha * real_data + (1 - alpha) * generated_data\n",
    "\n",
    "    # Calculate probability of interpolated examples\n",
    "    proba_interpolated = disc_model(interpolated, input_t)\n",
    "\n",
    "    # Calculate gradients of probabilities with respect to examples\n",
    "    gradients = torch_grad(outputs=proba_interpolated, inputs=interpolated,\n",
    "                           grad_outputs=torch.ones(proba_interpolated.size(), device=device),\n",
    "                           create_graph=True, retain_graph=True)[0]\n",
    "\n",
    "    gradients = gradients.view(batch_size, -1)\n",
    "    gradients_norm = gradients.norm(2, dim=1)\n",
    "    return lambda_gp * ((gradients_norm - 1)**2).mean()\n"
   ],
   "metadata": {
    "collapsed": false,
    "ExecuteTime": {
     "start_time": "2024-03-13T16:36:47.789343Z",
     "end_time": "2024-03-13T16:36:47.803933Z"
    }
   }
  },
  {
   "cell_type": "code",
   "execution_count": 22,
   "outputs": [],
   "source": [
    "## Train the discriminator\n",
    "def d_train_wgan(x, input_t):\n",
    "\n",
    "    #Init gradient\n",
    "    disc_model.zero_grad()\n",
    "\n",
    "\n",
    "    batch_size = x.size(0)\n",
    "    x = x.to(device)\n",
    "\n",
    "    #Discriminating Real Images\n",
    "    d_real = disc_model(x, input_t)\n",
    "\n",
    "    #Building Z\n",
    "    input_z = create_noise(batch_size, z_size, mode_z).to(device)\n",
    "    #Building Fake T\n",
    "    fake_t = torch.zeros(batch_size, 150).to(device)\n",
    "\n",
    "    #Generating Fake Images\n",
    "    g_output = gen_model(input_z, fake_t)\n",
    "\n",
    "    #Discriminating Fake Images\n",
    "    d_generated = disc_model(g_output, input_t)\n",
    "\n",
    "    d_loss = d_generated.mean() - d_real.mean() + gradient_penalty(x.data, g_output.data, input_t)\n",
    "\n",
    "    d_loss.backward()\n",
    "    d_optimizer.step()\n",
    "\n",
    "    return d_loss.data.item()"
   ],
   "metadata": {
    "collapsed": false,
    "ExecuteTime": {
     "start_time": "2024-03-13T16:36:47.803933Z",
     "end_time": "2024-03-13T16:36:47.851359Z"
    }
   }
  },
  {
   "cell_type": "code",
   "execution_count": 23,
   "outputs": [],
   "source": [
    "## Train the generator\n",
    "def g_train_wgan(x, input_t):\n",
    "\n",
    "    #Init gradient\n",
    "    gen_model.zero_grad()\n",
    "\n",
    "    #Building Z\n",
    "    batch_size = x.size(0)\n",
    "    input_z = create_noise(batch_size, z_size, mode_z).to(device)\n",
    "\n",
    "    #Building Fake T\n",
    "    fake_t = torch.zeros(batch_size, 150).to(device)\n",
    "\n",
    "    #Generating Fake Images\n",
    "    g_output = gen_model(input_z, fake_t)\n",
    "\n",
    "    #Discriminating Fake Images\n",
    "    d_generated = disc_model(g_output, fake_t)\n",
    "    g_loss = -d_generated.mean()\n",
    "    #print(\"G Loss:\", g_loss)\n",
    "\n",
    "    # gradient backprop & optimize ONLY G's parameters\n",
    "    g_loss.backward()\n",
    "    g_optimizer.step()\n",
    "\n",
    "    return g_loss.data.item()"
   ],
   "metadata": {
    "collapsed": false,
    "ExecuteTime": {
     "start_time": "2024-03-13T16:36:47.854123Z",
     "end_time": "2024-03-13T16:36:47.879004Z"
    }
   }
  },
  {
   "cell_type": "code",
   "execution_count": 25,
   "outputs": [
    {
     "name": "stdout",
     "output_type": "stream",
     "text": [
      "D Loss: 1.7645440101623535\n",
      "D Loss: 1.7382465600967407\n",
      "D Loss: 1.8327184915542603\n",
      "D Loss: 1.945367693901062\n",
      "D Loss: 1.7078545093536377\n",
      "D Loss: 2.080462694168091\n",
      "D Loss: 1.6709890365600586\n",
      "D Loss: 1.889000415802002\n",
      "D Loss: 1.4819824695587158\n"
     ]
    },
    {
     "ename": "KeyboardInterrupt",
     "evalue": "",
     "output_type": "error",
     "traceback": [
      "\u001B[1;31m---------------------------------------------------------------------------\u001B[0m",
      "\u001B[1;31mKeyboardInterrupt\u001B[0m                         Traceback (most recent call last)",
      "Cell \u001B[1;32mIn[25], line 16\u001B[0m\n\u001B[0;32m     13\u001B[0m \u001B[38;5;28;01mfor\u001B[39;00m i, (x, t) \u001B[38;5;129;01min\u001B[39;00m \u001B[38;5;28menumerate\u001B[39m(trainloader):\n\u001B[0;32m     14\u001B[0m     \u001B[38;5;66;03m#print(\"T:\", t.shape)\u001B[39;00m\n\u001B[0;32m     15\u001B[0m     \u001B[38;5;28;01mfor\u001B[39;00m _ \u001B[38;5;129;01min\u001B[39;00m \u001B[38;5;28mrange\u001B[39m(critic_iterations):\n\u001B[1;32m---> 16\u001B[0m         d_loss \u001B[38;5;241m=\u001B[39m \u001B[43md_train_wgan\u001B[49m\u001B[43m(\u001B[49m\u001B[43mx\u001B[49m\u001B[43m,\u001B[49m\u001B[43m \u001B[49m\u001B[43mt\u001B[49m\u001B[43m)\u001B[49m\n\u001B[0;32m     17\u001B[0m         \u001B[38;5;28mprint\u001B[39m(\u001B[38;5;124m\"\u001B[39m\u001B[38;5;124mD Loss:\u001B[39m\u001B[38;5;124m\"\u001B[39m, d_loss)\n\u001B[0;32m     18\u001B[0m     d_losses\u001B[38;5;241m.\u001B[39mappend(d_loss)\n",
      "Cell \u001B[1;32mIn[22], line 27\u001B[0m, in \u001B[0;36md_train_wgan\u001B[1;34m(x, input_t)\u001B[0m\n\u001B[0;32m     23\u001B[0m d_generated \u001B[38;5;241m=\u001B[39m disc_model(g_output, input_t)\n\u001B[0;32m     25\u001B[0m d_loss \u001B[38;5;241m=\u001B[39m d_generated\u001B[38;5;241m.\u001B[39mmean() \u001B[38;5;241m-\u001B[39m d_real\u001B[38;5;241m.\u001B[39mmean() \u001B[38;5;241m+\u001B[39m gradient_penalty(x\u001B[38;5;241m.\u001B[39mdata, g_output\u001B[38;5;241m.\u001B[39mdata, input_t)\n\u001B[1;32m---> 27\u001B[0m \u001B[43md_loss\u001B[49m\u001B[38;5;241;43m.\u001B[39;49m\u001B[43mbackward\u001B[49m\u001B[43m(\u001B[49m\u001B[43m)\u001B[49m\n\u001B[0;32m     28\u001B[0m d_optimizer\u001B[38;5;241m.\u001B[39mstep()\n\u001B[0;32m     30\u001B[0m \u001B[38;5;28;01mreturn\u001B[39;00m d_loss\u001B[38;5;241m.\u001B[39mdata\u001B[38;5;241m.\u001B[39mitem()\n",
      "File \u001B[1;32m~\\Anaconda3\\lib\\site-packages\\torch\\_tensor.py:487\u001B[0m, in \u001B[0;36mTensor.backward\u001B[1;34m(self, gradient, retain_graph, create_graph, inputs)\u001B[0m\n\u001B[0;32m    477\u001B[0m \u001B[38;5;28;01mif\u001B[39;00m has_torch_function_unary(\u001B[38;5;28mself\u001B[39m):\n\u001B[0;32m    478\u001B[0m     \u001B[38;5;28;01mreturn\u001B[39;00m handle_torch_function(\n\u001B[0;32m    479\u001B[0m         Tensor\u001B[38;5;241m.\u001B[39mbackward,\n\u001B[0;32m    480\u001B[0m         (\u001B[38;5;28mself\u001B[39m,),\n\u001B[1;32m   (...)\u001B[0m\n\u001B[0;32m    485\u001B[0m         inputs\u001B[38;5;241m=\u001B[39minputs,\n\u001B[0;32m    486\u001B[0m     )\n\u001B[1;32m--> 487\u001B[0m \u001B[43mtorch\u001B[49m\u001B[38;5;241;43m.\u001B[39;49m\u001B[43mautograd\u001B[49m\u001B[38;5;241;43m.\u001B[39;49m\u001B[43mbackward\u001B[49m\u001B[43m(\u001B[49m\n\u001B[0;32m    488\u001B[0m \u001B[43m    \u001B[49m\u001B[38;5;28;43mself\u001B[39;49m\u001B[43m,\u001B[49m\u001B[43m \u001B[49m\u001B[43mgradient\u001B[49m\u001B[43m,\u001B[49m\u001B[43m \u001B[49m\u001B[43mretain_graph\u001B[49m\u001B[43m,\u001B[49m\u001B[43m \u001B[49m\u001B[43mcreate_graph\u001B[49m\u001B[43m,\u001B[49m\u001B[43m \u001B[49m\u001B[43minputs\u001B[49m\u001B[38;5;241;43m=\u001B[39;49m\u001B[43minputs\u001B[49m\n\u001B[0;32m    489\u001B[0m \u001B[43m\u001B[49m\u001B[43m)\u001B[49m\n",
      "File \u001B[1;32m~\\Anaconda3\\lib\\site-packages\\torch\\autograd\\__init__.py:200\u001B[0m, in \u001B[0;36mbackward\u001B[1;34m(tensors, grad_tensors, retain_graph, create_graph, grad_variables, inputs)\u001B[0m\n\u001B[0;32m    195\u001B[0m     retain_graph \u001B[38;5;241m=\u001B[39m create_graph\n\u001B[0;32m    197\u001B[0m \u001B[38;5;66;03m# The reason we repeat same the comment below is that\u001B[39;00m\n\u001B[0;32m    198\u001B[0m \u001B[38;5;66;03m# some Python versions print out the first line of a multi-line function\u001B[39;00m\n\u001B[0;32m    199\u001B[0m \u001B[38;5;66;03m# calls in the traceback and some print out the last line\u001B[39;00m\n\u001B[1;32m--> 200\u001B[0m \u001B[43mVariable\u001B[49m\u001B[38;5;241;43m.\u001B[39;49m\u001B[43m_execution_engine\u001B[49m\u001B[38;5;241;43m.\u001B[39;49m\u001B[43mrun_backward\u001B[49m\u001B[43m(\u001B[49m\u001B[43m  \u001B[49m\u001B[38;5;66;43;03m# Calls into the C++ engine to run the backward pass\u001B[39;49;00m\n\u001B[0;32m    201\u001B[0m \u001B[43m    \u001B[49m\u001B[43mtensors\u001B[49m\u001B[43m,\u001B[49m\u001B[43m \u001B[49m\u001B[43mgrad_tensors_\u001B[49m\u001B[43m,\u001B[49m\u001B[43m \u001B[49m\u001B[43mretain_graph\u001B[49m\u001B[43m,\u001B[49m\u001B[43m \u001B[49m\u001B[43mcreate_graph\u001B[49m\u001B[43m,\u001B[49m\u001B[43m \u001B[49m\u001B[43minputs\u001B[49m\u001B[43m,\u001B[49m\n\u001B[0;32m    202\u001B[0m \u001B[43m    \u001B[49m\u001B[43mallow_unreachable\u001B[49m\u001B[38;5;241;43m=\u001B[39;49m\u001B[38;5;28;43;01mTrue\u001B[39;49;00m\u001B[43m,\u001B[49m\u001B[43m \u001B[49m\u001B[43maccumulate_grad\u001B[49m\u001B[38;5;241;43m=\u001B[39;49m\u001B[38;5;28;43;01mTrue\u001B[39;49;00m\u001B[43m)\u001B[49m\n",
      "\u001B[1;31mKeyboardInterrupt\u001B[0m: "
     ]
    }
   ],
   "source": [
    "epoch_samples_wgan = []\n",
    "lambda_gp = 10.0\n",
    "num_epochs = 100\n",
    "torch.manual_seed(1)\n",
    "critic_iterations = 5\n",
    "save_interval = 5\n",
    "checkpoint_path = 'Textual_WGAN_GP_checkpoint_epoch_{}.pth'\n",
    "final_model_path = 'Textual_WGAN_GP_model_final.pth'\n",
    "\n",
    "for epoch in range(1, num_epochs+1):\n",
    "    gen_model.train()\n",
    "    d_losses, g_losses = [], []\n",
    "    for i, (x, t) in enumerate(trainloader):\n",
    "        #print(\"T:\", t.shape)\n",
    "        for _ in range(critic_iterations):\n",
    "            d_loss = d_train_wgan(x, t)\n",
    "            #print(\"D Loss:\", d_loss)\n",
    "        d_losses.append(d_loss)\n",
    "        g_losses.append(g_train_wgan(x, t))\n",
    "\n",
    "    print(f'Epoch {epoch:03d} | D Loss >>'\n",
    "          f' {torch.FloatTensor(d_losses).mean():.4f}')\n",
    "    print(f'Epoch {epoch:03d} | G Loss >>'\n",
    "          f' {torch.FloatTensor(g_losses).mean():.4f}')\n",
    "\n",
    "        # Save checkpoints at regular intervals\n",
    "    if epoch % save_interval == 0:\n",
    "        torch.save({\n",
    "            'epoch': epoch,\n",
    "            'gen_model_state_dict': gen_model.state_dict(),\n",
    "            'optimizer_state_dict': g_optimizer.state_dict(),\n",
    "            'd_losses': d_losses,\n",
    "            'g_losses': g_losses,\n",
    "        }, checkpoint_path.format(epoch))\n",
    "\n",
    "\n",
    "    '''\n",
    "    gen_model.eval()\n",
    "    epoch_samples_wgan.append(\n",
    "        create_samples(gen_model, fixed_z, t).detach().cpu().numpy())\n",
    "    '''"
   ],
   "metadata": {
    "collapsed": false
   }
  },
  {
   "cell_type": "code",
   "execution_count": null,
   "outputs": [],
   "source": [],
   "metadata": {
    "collapsed": false,
    "ExecuteTime": {
     "start_time": "2024-03-13T10:31:47.058211Z",
     "end_time": "2024-03-13T10:31:47.083532Z"
    }
   }
  },
  {
   "cell_type": "code",
   "execution_count": null,
   "outputs": [],
   "source": [],
   "metadata": {
    "collapsed": false
   }
  },
  {
   "cell_type": "code",
   "execution_count": null,
   "outputs": [],
   "source": [],
   "metadata": {
    "collapsed": false
   }
  }
 ],
 "metadata": {
  "kernelspec": {
   "display_name": "Python 3",
   "language": "python",
   "name": "python3"
  },
  "language_info": {
   "codemirror_mode": {
    "name": "ipython",
    "version": 2
   },
   "file_extension": ".py",
   "mimetype": "text/x-python",
   "name": "python",
   "nbconvert_exporter": "python",
   "pygments_lexer": "ipython2",
   "version": "2.7.6"
  }
 },
 "nbformat": 4,
 "nbformat_minor": 0
}
