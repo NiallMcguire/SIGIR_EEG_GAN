{
 "cells": [
  {
   "cell_type": "code",
   "execution_count": 29,
   "metadata": {
    "collapsed": true,
    "ExecuteTime": {
     "start_time": "2024-04-10T15:41:44.146339Z",
     "end_time": "2024-04-10T15:41:44.184065Z"
    }
   },
   "outputs": [
    {
     "name": "stderr",
     "output_type": "stream",
     "text": [
      "[nltk_data] Downloading package punkt to\n",
      "[nltk_data]     C:\\Users\\gxb18167\\AppData\\Roaming\\nltk_data...\n",
      "[nltk_data]   Package punkt is already up-to-date!\n"
     ]
    }
   ],
   "source": [
    "import sys\n",
    "import nltk\n",
    "import torch.nn.functional as F\n",
    "import torch\n",
    "import torch.nn as nn\n",
    "import numpy as np\n",
    "from sklearn.preprocessing import MinMaxScaler\n",
    "import torch\n",
    "nltk.download('punkt')\n",
    "from gensim.models import Word2Vec\n",
    "from nltk.tokenize import word_tokenize\n",
    "sys.path.insert(0, '..')\n",
    "import pickle\n",
    "from torch.autograd import grad as torch_grad\n",
    "\n"
   ]
  },
  {
   "cell_type": "code",
   "execution_count": 30,
   "outputs": [
    {
     "name": "stdout",
     "output_type": "stream",
     "text": [
      "2.0.1\n",
      "GPU Available: False\n"
     ]
    }
   ],
   "source": [
    "import torch\n",
    "\n",
    "\n",
    "print(torch.__version__)\n",
    "print(\"GPU Available:\", torch.cuda.is_available())\n",
    "\n",
    "if torch.cuda.is_available():\n",
    "    device = torch.device(\"cuda:0\")\n",
    "else:\n",
    "    device = \"cpu\""
   ],
   "metadata": {
    "collapsed": false,
    "ExecuteTime": {
     "start_time": "2024-04-10T15:41:44.371820Z",
     "end_time": "2024-04-10T15:41:44.388965Z"
    }
   }
  },
  {
   "cell_type": "code",
   "execution_count": 31,
   "outputs": [],
   "source": [
    "batch_size = 64\n",
    "word_embedding_dim = 50\n",
    "output_shape = (1, 105, 8)\n",
    "torch.manual_seed(1)\n",
    "np.random.seed(1)"
   ],
   "metadata": {
    "collapsed": false,
    "ExecuteTime": {
     "start_time": "2024-04-10T15:41:44.498729Z",
     "end_time": "2024-04-10T15:41:44.554861Z"
    }
   }
  },
  {
   "cell_type": "code",
   "execution_count": 32,
   "outputs": [],
   "source": [
    "\n",
    "# To load the lists from the file:\n",
    "with open(r\"C:\\Users\\gxb18167\\PycharmProjects\\EEG-To-Text\\SIGIR_Development\\EEG-GAN\\EEG_Text_Pairs_Sentence.pkl\", 'rb') as file:\n",
    "    EEG_word_level_embeddings = pickle.load(file)\n",
    "    EEG_word_level_labels = pickle.load(file)"
   ],
   "metadata": {
    "collapsed": false,
    "ExecuteTime": {
     "start_time": "2024-04-10T15:41:44.730755Z",
     "end_time": "2024-04-10T15:41:50.048220Z"
    }
   }
  },
  {
   "cell_type": "code",
   "execution_count": 33,
   "outputs": [],
   "source": [
    "def create_word_label_embeddings_sentence(Word_Labels_List, EEG_word_level_embeddings):\n",
    "\n",
    "    tokenized_words = []\n",
    "    for i in range(len(Word_Labels_List)):\n",
    "        tokenized_words.append([Word_Labels_List[i]])\n",
    "    model = Word2Vec(sentences=tokenized_words, vector_size=word_embedding_dim, window=5, min_count=1, workers=4)\n",
    "    word_embeddings = {word: model.wv[word] for word in model.wv.index_to_key}\n",
    "\n",
    "    list_of_sentences = []\n",
    "    sentence = []\n",
    "\n",
    "    max_sentence_length = 0\n",
    "    for words in range (0, len(EEG_word_level_labels)):\n",
    "\n",
    "        current_word = EEG_word_level_labels[words]\n",
    "        current_word_embedding = word_embeddings[current_word]\n",
    "\n",
    "        if words == len(EEG_word_level_labels)-1:\n",
    "            if len(sentence) > max_sentence_length:\n",
    "                max_sentence_length = len(sentence)\n",
    "            list_of_sentences.append(sentence)\n",
    "\n",
    "        elif current_word == \"SOS\" and sentence != []:\n",
    "            if len(sentence) > max_sentence_length:\n",
    "                max_sentence_length = len(sentence)\n",
    "\n",
    "            list_of_sentences.append(sentence)\n",
    "            sentence = []\n",
    "        elif current_word != \"SOS\":\n",
    "            sentence.append(current_word_embedding)\n",
    "\n",
    "    print(\"Max Sentence Length:\", max_sentence_length)\n",
    "\n",
    "    EEG_sentence_list = []\n",
    "    index_counter = 0\n",
    "    for sentence in list_of_sentences:\n",
    "        EEG_sentence = EEG_word_level_embeddings[index_counter:index_counter+len(sentence)]\n",
    "        for i in range(max_sentence_length-len(EEG_sentence)):\n",
    "            EEG_sentence.append(np.zeros((105, 8)))\n",
    "\n",
    "        EEG_sentence_list.append(EEG_sentence)\n",
    "        index_counter += len(sentence)\n",
    "        if len(sentence) > max_sentence_length:\n",
    "            max_sentence_length = len(sentence)\n",
    "\n",
    "    for sentence in list_of_sentences:\n",
    "        for i in range(max_sentence_length-len(sentence)):\n",
    "            sentence.append(np.zeros((word_embedding_dim)))\n",
    "\n",
    "    for i in range(len(EEG_sentence_list)):\n",
    "        EEG_sentence = EEG_sentence_list[i]\n",
    "        contact_EEG_sentence = np.concatenate(EEG_sentence, axis=1)\n",
    "        EEG_sentence_list[i] = contact_EEG_sentence\n",
    "\n",
    "        word_embedding_sentence = list_of_sentences[i]\n",
    "        concat_word_embedding_sentence = np.concatenate(word_embedding_sentence, axis=0)\n",
    "        list_of_sentences[i] = concat_word_embedding_sentence\n",
    "\n",
    "    return EEG_sentence_list, list_of_sentences\n",
    "\n",
    "\n",
    "def create_dataloader_sentence(EEG_word_level_embeddings, Embedded_Word_labels):\n",
    "    #EEG_word_level_embeddings_normalize = (EEG_word_level_embeddings - np.mean(EEG_word_level_embeddings)) / np.std(EEG_word_level_embeddings)\n",
    "    #Assuming EEG_synthetic is the generated synthetic EEG data\n",
    "    #EEG_synthetic_denormalized = (EEG_synthetic * np.max(np.abs(EEG_word_level_embeddings))) + np.mean(EEG_word_level_embeddings)\n",
    "\n",
    "    EEG_word_level_embeddings_normalize = (EEG_word_level_embeddings - np.mean(EEG_word_level_embeddings)) / np.max(np.abs(EEG_word_level_embeddings))\n",
    "\n",
    "\n",
    "    float_tensor = torch.tensor(EEG_word_level_embeddings_normalize, dtype=torch.float32)\n",
    "    float_tensor = float_tensor.unsqueeze(1)\n",
    "\n",
    "    #print(EEG_word_level_embeddings_normalize)\n",
    "    # Calculate mean and standard deviation\n",
    "    print(torch.isnan(float_tensor).any())\n",
    "\n",
    "\n",
    "    Embedded_Word_labels = torch.tensor(Embedded_Word_labels, dtype=torch.float32)\n",
    "\n",
    "    train_data = []\n",
    "    for i in range(len(float_tensor)):\n",
    "       train_data.append([float_tensor[i], Embedded_Word_labels[i]])\n",
    "    trainloader = torch.utils.data.DataLoader(train_data, shuffle=True, batch_size=64)\n",
    "    return trainloader\n",
    "\n"
   ],
   "metadata": {
    "collapsed": false,
    "ExecuteTime": {
     "start_time": "2024-04-10T15:41:50.048220Z",
     "end_time": "2024-04-10T15:41:50.091349Z"
    }
   }
  },
  {
   "cell_type": "code",
   "execution_count": 34,
   "outputs": [
    {
     "name": "stdout",
     "output_type": "stream",
     "text": [
      "Max Sentence Length: 57\n",
      "tensor(False)\n"
     ]
    }
   ],
   "source": [
    "EEG_sentence_list, list_of_sentences = create_word_label_embeddings_sentence(EEG_word_level_labels, EEG_word_level_embeddings)\n",
    "trainloader = create_dataloader_sentence(EEG_sentence_list, list_of_sentences)"
   ],
   "metadata": {
    "collapsed": false,
    "ExecuteTime": {
     "start_time": "2024-04-10T15:41:50.107947Z",
     "end_time": "2024-04-10T15:43:37.943475Z"
    }
   }
  },
  {
   "cell_type": "code",
   "execution_count": 48,
   "outputs": [
    {
     "data": {
      "text/plain": "array([[0.19429664, 0.17923741, 0.36307213, ..., 0.        , 0.        ,\n        0.        ],\n       [0.28140983, 0.57861644, 1.08024967, ..., 0.        , 0.        ,\n        0.        ],\n       [0.4871715 , 0.79681689, 0.51210332, ..., 0.        , 0.        ,\n        0.        ],\n       ...,\n       [0.61200547, 0.87206084, 0.7754631 , ..., 0.        , 0.        ,\n        0.        ],\n       [0.65051132, 0.34199569, 0.15276547, ..., 0.        , 0.        ,\n        0.        ],\n       [0.14119881, 0.36001745, 0.12291785, ..., 0.        , 0.        ,\n        0.        ]])"
     },
     "execution_count": 48,
     "metadata": {},
     "output_type": "execute_result"
    }
   ],
   "source": [],
   "metadata": {
    "collapsed": false,
    "ExecuteTime": {
     "start_time": "2024-04-10T15:48:03.411994Z",
     "end_time": "2024-04-10T15:48:03.427672Z"
    }
   }
  },
  {
   "cell_type": "code",
   "execution_count": 49,
   "outputs": [],
   "source": [
    "segments = np.array_split(EEG_sentence_list[0], 57, axis=1)"
   ],
   "metadata": {
    "collapsed": false,
    "ExecuteTime": {
     "start_time": "2024-04-10T15:48:20.598672Z",
     "end_time": "2024-04-10T15:48:20.614353Z"
    }
   }
  },
  {
   "cell_type": "code",
   "execution_count": 53,
   "outputs": [
    {
     "data": {
      "text/plain": "array([[0.19429664, 0.17923741, 0.36307213, 0.50747943, 0.62206709,\n        0.51871073, 0.42868289, 0.06850591],\n       [0.28140983, 0.57861644, 1.08024967, 0.36859021, 0.36467823,\n        0.41722685, 1.14768839, 0.55932534],\n       [0.4871715 , 0.79681689, 0.51210332, 0.40454227, 0.55180544,\n        0.43953407, 0.75510144, 0.38622764],\n       [0.43004686, 0.29673383, 0.3575944 , 0.36961138, 0.3506383 ,\n        0.85081506, 1.26278675, 0.41491231],\n       [0.3718234 , 0.45663175, 0.42179471, 1.03561676, 0.85461956,\n        0.43418464, 0.46566522, 0.33808869],\n       [0.49680769, 0.46951395, 0.50899029, 0.15184164, 1.6930244 ,\n        0.76735342, 0.57302761, 0.94475245],\n       [0.7187323 , 1.07659662, 0.72896671, 1.66536224, 1.39709103,\n        1.28687668, 1.10441923, 1.43177247],\n       [1.32517946, 1.66541123, 1.60669196, 1.8083328 , 1.39522731,\n        1.99193358, 1.38413417, 1.54831302],\n       [1.34435618, 1.0585711 , 0.49228552, 1.85182977, 1.85807848,\n        1.41647136, 1.35392964, 1.03962433],\n       [0.85793865, 2.1952467 , 2.17580271, 2.02598214, 1.63932216,\n        1.00376701, 1.78744721, 1.96237218],\n       [1.51004064, 1.01614249, 1.20013535, 1.12757885, 0.83896005,\n        0.99863309, 0.65768403, 0.33150849],\n       [0.16545779, 0.56242204, 1.09004402, 0.59104663, 0.56140357,\n        0.38477388, 0.60919583, 0.58260262],\n       [0.59866726, 0.35624093, 0.37161309, 0.18472035, 0.93358988,\n        0.49549541, 0.34883159, 0.24064931],\n       [0.        , 0.11746544, 0.10126594, 0.19900732, 0.56371886,\n        0.51361769, 0.25063437, 0.21132156],\n       [0.2674548 , 0.64626527, 0.69417387, 0.52683413, 0.45739323,\n        0.66364819, 0.28152373, 1.24307883],\n       [0.25156739, 0.65244114, 0.80059183, 0.39105976, 0.31309423,\n        0.24711452, 0.1320492 , 0.12875493],\n       [0.47954136, 0.27160987, 0.33025077, 0.54145515, 0.5096038 ,\n        0.70510417, 0.32523268, 0.33796319],\n       [0.64133495, 0.64474195, 0.64546949, 0.84770972, 1.54834962,\n        0.72048897, 0.79599148, 0.86013258],\n       [0.8353889 , 1.0517962 , 1.03803444, 1.08315039, 0.79714715,\n        1.25508237, 0.64749807, 1.29644132],\n       [1.5528599 , 1.42466891, 1.54781532, 1.53108943, 2.31397605,\n        1.94069076, 2.11611652, 1.82712317],\n       [2.28054881, 2.01836252, 2.88369226, 2.86676717, 2.74948168,\n        3.8042841 , 3.45636082, 2.36233735],\n       [2.15728211, 1.61640394, 1.02988172, 0.348952  , 3.30559635,\n        2.71191645, 1.76745474, 1.54356456],\n       [1.19374692, 0.59915674, 2.67667937, 2.27182531, 1.83685148,\n        1.61441469, 0.90830779, 1.76421607],\n       [1.75723243, 1.35989404, 1.04300892, 1.12644267, 1.15656269,\n        0.95784736, 0.63599753, 0.40361917],\n       [0.29762539, 0.16980334, 0.88263881, 0.4213168 , 0.35124317,\n        0.25572291, 0.37660599, 0.34125811],\n       [0.48567793, 0.30326262, 0.16436967, 0.39058909, 0.07311784,\n        0.42259753, 0.36659637, 0.13027279],\n       [0.24313936, 0.        , 0.0627723 , 0.05697965, 0.09524334,\n        0.38884082, 0.42019993, 0.37387085],\n       [0.25323433, 0.27647436, 0.36458769, 0.22138722, 0.82578456,\n        0.16551539, 0.31764698, 0.39041185],\n       [0.58391857, 0.2744537 , 0.30492166, 0.34178537, 0.3737596 ,\n        0.64316934, 0.32551724, 0.30886975],\n       [0.2470257 , 0.60605925, 0.71501625, 0.47388127, 0.61041754,\n        0.66048527, 0.73176259, 0.5679028 ],\n       [0.21385829, 0.67931652, 0.72097564, 0.68901145, 0.87510699,\n        0.89589679, 0.56131005, 0.80227727],\n       [0.8390792 , 0.8914637 , 1.1283468 , 1.08463717, 1.05924582,\n        1.27576113, 1.5446943 , 0.72762072],\n       [1.29906833, 1.69724035, 1.48198283, 1.65169656, 1.62396359,\n        2.07624197, 2.61354661, 2.15009594],\n       [1.82007003, 1.95553815, 1.92441297, 2.67668605, 2.37877011,\n        2.1758275 , 3.37342572, 2.48944044],\n       [1.57684028, 1.51049185, 1.13730919, 0.70119154, 0.17825857,\n        2.08928847, 1.54913878, 0.91702014],\n       [0.80856246, 0.58550948, 0.16840975, 1.29128003, 1.09995687,\n        0.89561868, 0.80072439, 0.49507588],\n       [0.81740558, 0.8233099 , 0.73927027, 0.58322036, 0.55833942,\n        0.61722332, 0.53431219, 0.27899301],\n       [0.17681956, 0.12685685, 0.21565308, 0.49346381, 0.20605224,\n        0.13006328, 0.27188852, 0.45336917],\n       [0.09899369, 0.23279501, 0.11185898, 0.09550075, 0.40307486,\n        0.10210748, 0.41342059, 0.14448562],\n       [0.14306609, 0.22949034, 0.        , 0.08935328, 0.13098077,\n        0.15256925, 0.28917587, 0.28058133],\n       [0.48024836, 0.2604633 , 0.39272356, 0.39256307, 0.22799487,\n        0.95230901, 0.21068433, 0.34622732],\n       [0.33321884, 0.52616239, 0.19766425, 0.42045936, 0.67498016,\n        0.38077077, 0.5536257 , 0.19288616],\n       [0.28249294, 0.34763992, 0.78429639, 0.94727975, 0.4693332 ,\n        0.87175912, 0.95149159, 1.01708412],\n       [0.61673707, 1.19769597, 1.01375997, 1.08499384, 0.89439988,\n        1.13592196, 1.08831346, 1.16368461],\n       [1.19854569, 1.21231508, 1.33801949, 1.59529662, 1.53586411,\n        1.40446055, 1.67178655, 1.99292505],\n       [0.96903765, 1.81730187, 2.20473695, 1.95826292, 2.20493793,\n        2.55246043, 3.16379571, 3.8951118 ],\n       [2.50178981, 2.32893062, 2.26678419, 2.31669331, 3.01368093,\n        2.86739779, 3.02949095, 3.84680271],\n       [3.30820441, 2.26366496, 2.20002913, 1.66061735, 0.9698118 ,\n        0.22210839, 2.76955748, 1.99512494],\n       [1.07421517, 0.95839953, 0.73535603, 0.12348397, 1.80220401,\n        1.40519059, 1.16919398, 0.69142383],\n       [0.5182268 , 1.06764102, 0.99829203, 0.6726231 , 0.59622234,\n        0.60885245, 0.63586766, 0.53548616],\n       [0.27594945, 0.27980852, 0.21590224, 0.11749791, 0.54162449,\n        0.31859297, 0.17595203, 0.186616  ],\n       [0.1964795 , 0.11513498, 0.17626157, 0.15782279, 0.11989577,\n        0.15398829, 0.12537345, 0.72193015],\n       [0.1475011 , 0.14445215, 0.11842754, 0.        , 0.0776927 ,\n        0.07667372, 0.23580003, 0.4004364 ],\n       [0.32996789, 0.35279492, 0.34191319, 0.39225772, 0.46098769,\n        0.30296734, 0.76001269, 0.22446841],\n       [0.40109035, 0.51805031, 1.12903798, 0.42180762, 0.46817321,\n        0.32926095, 0.66391808, 0.80769104],\n       [0.45984504, 0.40355241, 0.4283556 , 0.64731568, 0.8382079 ,\n        0.53849703, 0.87126213, 0.87512517],\n       [0.98310316, 0.47067431, 2.16695356, 1.00578165, 1.07420897,\n        0.85831076, 1.14439452, 1.51572621],\n       [1.25751913, 1.26236272, 1.23957181, 1.37550306, 1.73445892,\n        1.654863  , 1.44727623, 1.56029582],\n       [1.9707799 , 0.98847145, 1.97679579, 2.49445486, 2.15463471,\n        2.29036951, 2.65667939, 3.57981324],\n       [4.6540451 , 2.74728751, 2.55266929, 2.31265306, 2.66140628,\n        3.33099866, 3.03499532, 3.31987596],\n       [4.19103575, 3.49137187, 2.14447808, 2.28612661, 1.69799018,\n        0.98393101, 0.2099424 , 2.42763615],\n       [1.8115598 , 1.00127161, 0.74779779, 0.62292755, 0.16178277,\n        1.41880393, 1.25629389, 1.20176196],\n       [0.63342178, 0.47700614, 0.87300134, 0.92917258, 0.62648398,\n        0.51395077, 0.4494321 , 0.52993947],\n       [0.31436262, 0.35785526, 0.31394038, 0.13876189, 0.15444927,\n        0.20504715, 0.43005481, 0.19362552],\n       [0.16023998, 0.2267731 , 0.2487952 , 0.12123814, 0.17316464,\n        0.07713211, 0.24748833, 0.25297523],\n       [0.79171121, 0.08845229, 0.10880291, 0.15524958, 0.        ,\n        0.16326536, 0.27563894, 0.6194306 ],\n       [0.51405823, 0.60220605, 0.60956967, 0.40883198, 0.55775583,\n        0.81893855, 0.7910127 , 1.24803233],\n       [0.34006792, 0.61827791, 0.78645575, 2.49658751, 0.49249205,\n        0.72479683, 1.22209048, 0.74667877],\n       [0.86374724, 0.58740693, 0.49174979, 0.76166916, 0.74571383,\n        0.9282456 , 0.73230535, 1.03793776],\n       [0.98817831, 1.05166101, 0.9206003 , 1.5125258 , 1.257743  ,\n        1.18992484, 1.16003788, 1.29906166],\n       [1.51933718, 0.92134166, 1.416888  , 1.36380148, 1.39267588,\n        1.75507736, 1.65980589, 1.55383658],\n       [1.62276196, 1.89624548, 1.03080428, 2.01230907, 2.53129578,\n        2.18125463, 2.38319707, 2.7395699 ],\n       [4.35059977, 4.24411011, 3.16241217, 2.75258517, 3.01904583,\n        3.01733136, 4.37984562, 4.09342289],\n       [4.34341097, 7.04167891, 4.99322653, 3.4063108 , 3.19606352,\n        2.23245382, 1.22374427, 0.3120349 ],\n       [5.14470673, 3.29853368, 1.72890878, 1.44278467, 0.89754111,\n        0.31324959, 3.07151175, 2.07435131],\n       [1.50876915, 0.99030387, 0.66635209, 1.54427099, 1.26522148,\n        0.93775141, 0.76161152, 0.81817544],\n       [0.81659812, 0.59454304, 0.41794932, 0.28146744, 0.18921551,\n        0.2824612 , 0.59604263, 0.5317781 ],\n       [0.18163885, 0.29154414, 0.42690054, 0.4089497 , 0.31432384,\n        0.18956168, 0.1851498 , 0.47369954],\n       [0.19286203, 0.83708131, 0.26645425, 0.22010741, 0.39556324,\n        0.        , 0.13122937, 0.15754755],\n       [0.39733821, 0.35792714, 0.3436611 , 0.38049564, 0.36688551,\n        0.31642607, 0.64107043, 0.68555146],\n       [0.72274995, 0.26191708, 0.60066819, 0.35747415, 2.65271735,\n        0.41266429, 0.60668206, 1.0283525 ],\n       [0.55024213, 0.47918615, 0.41910225, 0.40215603, 0.84146655,\n        0.57270306, 0.56216466, 0.32009473],\n       [0.50601083, 0.49373958, 0.59821796, 0.67231637, 0.8467626 ,\n        0.60697782, 0.54209942, 0.50346637],\n       [0.60799319, 1.18680561, 0.86492705, 0.62982953, 0.60255033,\n        0.63387644, 0.89588523, 0.81493115],\n       [0.7725268 , 0.89169496, 1.4655422 , 0.78556758, 1.27870429,\n        1.69591916, 1.46439099, 1.7184577 ],\n       [2.1192534 , 3.34446836, 2.77360535, 2.6096108 , 2.27734876,\n        2.76202416, 2.78433084, 4.27245092],\n       [3.88306022, 3.88847589, 6.85496426, 4.64197063, 3.19089532,\n        2.824754  , 1.82778621, 1.00692785],\n       [0.2687825 , 4.76968622, 3.133425  , 1.88821042, 1.37159312,\n        0.79386687, 0.37659729, 2.68240047],\n       [2.01443219, 1.50773561, 1.0057919 , 0.6744107 , 1.45615458,\n        1.32653677, 1.00633442, 0.7182762 ],\n       [0.85666806, 0.80604893, 0.55547607, 0.53481209, 0.28383011,\n        0.14955568, 0.18520029, 0.47147158],\n       [0.67200285, 0.25013053, 0.22748443, 0.31855643, 0.34483942,\n        0.32056004, 0.25280043, 0.15860438],\n       [0.32657385, 0.11982821, 0.66657382, 0.24928835, 0.15585279,\n        0.28996572, 0.        , 0.11760469],\n       [0.12971182, 0.3427892 , 0.47664735, 0.53996003, 0.3959482 ,\n        0.28523371, 0.31711376, 0.70171618],\n       [0.88959998, 0.81799889, 0.27700713, 0.57339948, 0.19493614,\n        2.36613226, 0.44191733, 0.48554659],\n       [0.8163929 , 0.66971809, 0.4582639 , 0.33458713, 0.39971048,\n        0.52902794, 0.43116486, 0.59861308],\n       [0.36953083, 0.45748368, 0.46071932, 0.47367403, 0.58289534,\n        0.85238993, 0.5080815 , 0.51144838],\n       [0.51077604, 0.68262345, 0.72024047, 0.5900889 , 0.57259613,\n        0.61811024, 0.65222621, 0.87630558],\n       [0.85921854, 0.90581322, 1.05561709, 1.21313262, 0.64370209,\n        1.13557971, 1.55091512, 1.27894974],\n       [1.61882377, 1.7296263 , 3.06615019, 2.23867917, 2.56748343,\n        2.20772934, 2.81141067, 2.75817013],\n       [4.25048113, 3.93606114, 3.7316606 , 7.12362146, 4.62966585,\n        3.21862888, 2.71731853, 1.68109119],\n       [0.84429091, 0.17814565, 4.93516445, 3.18138146, 1.99665082,\n        1.42389143, 0.79357582, 0.33012709],\n       [2.67582083, 1.93110037, 1.31264865, 0.97486514, 0.52712578,\n        1.40346456, 1.17180872, 0.87830997],\n       [0.61200547, 0.87206084, 0.7754631 , 0.63741273, 0.35044765,\n        0.17456187, 0.10144258, 0.23270136],\n       [0.65051132, 0.34199569, 0.15276547, 0.2724399 , 0.46526954,\n        0.25869009, 0.30746511, 0.13128608],\n       [0.14119881, 0.36001745, 0.12291785, 0.51418555, 0.17319265,\n        0.17412905, 0.32396767, 0.        ]])"
     },
     "execution_count": 53,
     "metadata": {},
     "output_type": "execute_result"
    }
   ],
   "source": [
    "segments[0]"
   ],
   "metadata": {
    "collapsed": false,
    "ExecuteTime": {
     "start_time": "2024-04-10T15:48:37.860280Z",
     "end_time": "2024-04-10T15:48:37.918810Z"
    }
   }
  },
  {
   "cell_type": "code",
   "execution_count": 36,
   "outputs": [],
   "source": [
    "z_size = 100\n",
    "image_size = (105, 8)\n",
    "\n",
    "n_filters = 32"
   ],
   "metadata": {
    "collapsed": false,
    "ExecuteTime": {
     "start_time": "2024-04-10T15:43:37.404143Z",
     "end_time": "2024-04-10T15:43:37.990497Z"
    }
   }
  },
  {
   "cell_type": "code",
   "execution_count": 37,
   "outputs": [],
   "source": [
    "class Generator(nn.Module):\n",
    "    def __init__(self, noise_dim, word_embedding_dim):\n",
    "        super(Generator, self).__init__()\n",
    "\n",
    "        self.noise_dim = noise_dim\n",
    "        self.word_embedding_dim = word_embedding_dim\n",
    "\n",
    "        # Define the layers of your generator\n",
    "        self.fc_noise = nn.Linear(noise_dim, 105 * 456)\n",
    "        self.fc_word_embedding = nn.Linear(word_embedding_dim, 105 * 456)\n",
    "        self.conv1 = nn.Conv2d(2, 64, kernel_size=3, stride=1, padding=1)\n",
    "        self.bn1 = nn.BatchNorm2d(64)\n",
    "        self.relu = nn.ReLU()\n",
    "        self.conv2 = nn.Conv2d(64, 1, kernel_size=3, stride=1, padding=1)\n",
    "\n",
    "\n",
    "\n",
    "    def forward(self, noise, word_embedding):\n",
    "        # Process noise\n",
    "        noise = self.fc_noise(noise)\n",
    "        noise = noise.view(noise.size(0), 1, 105, 456)\n",
    "\n",
    "        # Process word embedding\n",
    "        word_embedding = self.fc_word_embedding(word_embedding.to(device))\n",
    "        word_embedding = word_embedding.view(word_embedding.size(0), 1, 105, 456)\n",
    "\n",
    "        print(\"word_embedding:\", word_embedding.shape)\n",
    "        print(\"input:\", noise.shape)\n",
    "\n",
    "        # Concatenate noise and word embedding\n",
    "        combined_input = torch.cat([noise, word_embedding], dim=1)\n",
    "\n",
    "        print(\"combined_input:\", combined_input.shape)\n",
    "\n",
    "        # Upsample and generate the output\n",
    "        z = self.conv1(combined_input)\n",
    "        z = self.bn1(z)\n",
    "        z = self.relu(z)\n",
    "        z = self.conv2(z)\n",
    "\n",
    "        return z\n",
    "\n",
    "class DiscriminatorWGAN(nn.Module):\n",
    "    def __init__(self, n_filters, word_embedding_dim):\n",
    "        super(DiscriminatorWGAN, self).__init__()\n",
    "\n",
    "        self.word_embedding_dim = word_embedding_dim\n",
    "        self.fc_word_embedding = nn.Linear(word_embedding_dim, 105 * 456)\n",
    "\n",
    "        self.network = nn.Sequential(\n",
    "            nn.Conv2d(2, n_filters, kernel_size=4, stride=2, padding=1, bias=False),\n",
    "            nn.LeakyReLU(0.2),\n",
    "\n",
    "            nn.Conv2d(n_filters, n_filters*2, kernel_size=4, stride=2, padding=1, bias=False),\n",
    "            nn.InstanceNorm2d(n_filters * 2),\n",
    "            nn.LeakyReLU(0.2),\n",
    "\n",
    "            nn.Conv2d(n_filters*2, n_filters*4, kernel_size=3, stride=2, padding=1, bias=False),\n",
    "            nn.InstanceNorm2d(n_filters*4),\n",
    "            nn.LeakyReLU(0.2),\n",
    "\n",
    "            nn.Flatten(),  # Flatten spatial dimensions\n",
    "\n",
    "            # Fully connected layer to reduce to a single value per sample\n",
    "            nn.Linear(n_filters*4 * (105 // 8) * (456 // 8), 1),\n",
    "            nn.Sigmoid()\n",
    "        )\n",
    "\n",
    "    def forward(self, input, word_embedding):\n",
    "        word_embedding = self.fc_word_embedding(word_embedding.to(device))\n",
    "        word_embedding = word_embedding.view(word_embedding.size(0), 1, 105, 456)\n",
    "\n",
    "\n",
    "        combined_input = torch.cat([input, word_embedding], dim=1)\n",
    "\n",
    "        output = self.network(combined_input)\n",
    "        return output\n"
   ],
   "metadata": {
    "collapsed": false,
    "ExecuteTime": {
     "start_time": "2024-04-10T15:43:37.451383Z",
     "end_time": "2024-04-10T15:43:37.990497Z"
    }
   }
  },
  {
   "cell_type": "code",
   "execution_count": 38,
   "outputs": [],
   "source": [
    "gen_model = Generator(z_size, 2850).to(device)\n",
    "disc_model = DiscriminatorWGAN(n_filters, 2850).to(device)\n",
    "loss_fn = nn.BCELoss()\n",
    "g_optimizer = torch.optim.Adam(gen_model.parameters(), 0.00002)\n",
    "d_optimizer = torch.optim.Adam(disc_model.parameters(), 0.00002)"
   ],
   "metadata": {
    "collapsed": false,
    "ExecuteTime": {
     "start_time": "2024-04-10T15:43:37.500135Z",
     "end_time": "2024-04-10T15:43:39.198219Z"
    }
   }
  },
  {
   "cell_type": "code",
   "execution_count": 39,
   "outputs": [],
   "source": [
    "def create_noise(batch_size, z_size, mode_z):\n",
    "    if mode_z == 'uniform':\n",
    "        input_z = torch.rand(batch_size, z_size)*2 - 1\n",
    "    elif mode_z == 'normal':\n",
    "        input_z = torch.randn(batch_size, z_size)\n",
    "    return input_z\n",
    "\n",
    "mode_z = 'uniform'\n",
    "fixed_z = create_noise(batch_size, z_size, mode_z).to(device)\n",
    "\n",
    "def create_samples(g_model, input_z, input_t):\n",
    "    g_output = g_model(input_z, input_t)\n",
    "    images = torch.reshape(g_output, (batch_size, *image_size))\n",
    "    return (images+1)/2.0"
   ],
   "metadata": {
    "collapsed": false,
    "ExecuteTime": {
     "start_time": "2024-04-10T15:43:39.198219Z",
     "end_time": "2024-04-10T15:43:39.260778Z"
    }
   }
  },
  {
   "cell_type": "code",
   "execution_count": 45,
   "outputs": [],
   "source": [
    "## Train the discriminator\n",
    "def d_train(x, T):\n",
    "\n",
    "    #init gradient\n",
    "    disc_model.zero_grad()\n",
    "\n",
    "    # Train discriminator with a real batch\n",
    "    batch_size = x.size(0)\n",
    "    x = x.to(device)\n",
    "    print(\"T:\", T.shape)\n",
    "\n",
    "    d_proba_real = disc_model(x, T)\n",
    "\n",
    "    #Calculate loss (real images)\n",
    "    d_labels_real = torch.ones(batch_size, 1, device=device)\n",
    "    d_loss_real = loss_fn(d_proba_real, d_labels_real)\n",
    "\n",
    "    #building Z\n",
    "    input_z = create_noise(batch_size, z_size, mode_z).to(device)\n",
    "\n",
    "    #building fake T\n",
    "    fake_T = torch.rand(batch_size, 2850).to(device)\n",
    "\n",
    "    # Train discriminator on a fake batch\n",
    "    g_output = gen_model(input_z, fake_T) #@TODO this should be fake labels not real labels\n",
    "    print(\"G Output:\", g_output.shape)\n",
    "\n",
    "    #Discriminating fake images\n",
    "    d_proba_fake = disc_model(g_output, fake_T) #TODO this should take in fake labels as well\n",
    "\n",
    "    #Calculate loss (fake images)\n",
    "    d_labels_fake = torch.zeros(batch_size, 1, device=device)\n",
    "    d_loss_fake = loss_fn(d_proba_fake, d_labels_fake) #This is fine\n",
    "\n",
    "    # gradient backprop & optimize ONLY D's parameters\n",
    "    d_loss = d_loss_real + d_loss_fake\n",
    "    d_loss.backward()\n",
    "    d_optimizer.step()\n",
    "\n",
    "    return d_loss.data.item(), d_proba_real.detach(), d_proba_fake.detach()"
   ],
   "metadata": {
    "collapsed": false,
    "ExecuteTime": {
     "start_time": "2024-04-10T15:44:51.987484Z",
     "end_time": "2024-04-10T15:44:52.003525Z"
    }
   }
  },
  {
   "cell_type": "code",
   "execution_count": 46,
   "outputs": [],
   "source": [
    "## Train the generator\n",
    "def g_train(x, T):\n",
    "\n",
    "    #Init gradient\n",
    "    gen_model.zero_grad()\n",
    "\n",
    "    #Building Z\n",
    "    batch_size = x.size(0)\n",
    "    input_z = create_noise(batch_size, z_size, mode_z).to(device)\n",
    "\n",
    "    #building real labels\n",
    "    g_labels_real = torch.ones((batch_size, 1), device=device)\n",
    "\n",
    "    #generate fake text embeddings\n",
    "    fake_T = torch.rand(batch_size, 2850).to(device)\n",
    "\n",
    "    g_output = gen_model(input_z, fake_T) #TODO this should take in fake labels\n",
    "\n",
    "\n",
    "    d_proba_fake = disc_model(g_output, fake_T) #TODO take in fake labels\n",
    "\n",
    "    g_loss = loss_fn(d_proba_fake, g_labels_real)\n",
    "\n",
    "    # gradient backprop & optimize ONLY G's parameters\n",
    "    g_loss.backward()\n",
    "    g_optimizer.step()\n",
    "\n",
    "    return g_loss.data.item()"
   ],
   "metadata": {
    "collapsed": false,
    "ExecuteTime": {
     "start_time": "2024-04-10T15:44:52.393442Z",
     "end_time": "2024-04-10T15:44:52.422262Z"
    }
   }
  },
  {
   "cell_type": "code",
   "execution_count": 47,
   "outputs": [
    {
     "name": "stdout",
     "output_type": "stream",
     "text": [
      "T: torch.Size([64, 2850])\n",
      "word_embedding: torch.Size([64, 1, 105, 456])\n",
      "input: torch.Size([64, 1, 105, 456])\n",
      "combined_input: torch.Size([64, 2, 105, 456])\n",
      "G Output: torch.Size([64, 1, 105, 456])\n"
     ]
    },
    {
     "ename": "KeyboardInterrupt",
     "evalue": "",
     "output_type": "error",
     "traceback": [
      "\u001B[1;31m---------------------------------------------------------------------------\u001B[0m",
      "\u001B[1;31mKeyboardInterrupt\u001B[0m                         Traceback (most recent call last)",
      "Cell \u001B[1;32mIn[47], line 14\u001B[0m\n\u001B[0;32m     12\u001B[0m d_losses, g_losses \u001B[38;5;241m=\u001B[39m [], []\n\u001B[0;32m     13\u001B[0m \u001B[38;5;28;01mfor\u001B[39;00m i, (x, t) \u001B[38;5;129;01min\u001B[39;00m \u001B[38;5;28menumerate\u001B[39m(trainloader):\n\u001B[1;32m---> 14\u001B[0m     d_loss, d_proba_real, d_proba_fake \u001B[38;5;241m=\u001B[39m \u001B[43md_train\u001B[49m\u001B[43m(\u001B[49m\u001B[43mx\u001B[49m\u001B[43m,\u001B[49m\u001B[43m \u001B[49m\u001B[43mt\u001B[49m\u001B[43m)\u001B[49m\n\u001B[0;32m     15\u001B[0m     \u001B[38;5;28mprint\u001B[39m(\u001B[38;5;124m\"\u001B[39m\u001B[38;5;124mD Loss:\u001B[39m\u001B[38;5;124m\"\u001B[39m, d_loss)\n\u001B[0;32m     16\u001B[0m     d_losses\u001B[38;5;241m.\u001B[39mappend(d_loss)\n",
      "Cell \u001B[1;32mIn[45], line 29\u001B[0m, in \u001B[0;36md_train\u001B[1;34m(x, T)\u001B[0m\n\u001B[0;32m     26\u001B[0m \u001B[38;5;28mprint\u001B[39m(\u001B[38;5;124m\"\u001B[39m\u001B[38;5;124mG Output:\u001B[39m\u001B[38;5;124m\"\u001B[39m, g_output\u001B[38;5;241m.\u001B[39mshape)\n\u001B[0;32m     28\u001B[0m \u001B[38;5;66;03m#Discriminating fake images\u001B[39;00m\n\u001B[1;32m---> 29\u001B[0m d_proba_fake \u001B[38;5;241m=\u001B[39m \u001B[43mdisc_model\u001B[49m\u001B[43m(\u001B[49m\u001B[43mg_output\u001B[49m\u001B[43m,\u001B[49m\u001B[43m \u001B[49m\u001B[43mfake_T\u001B[49m\u001B[43m)\u001B[49m \u001B[38;5;66;03m#TODO this should take in fake labels as well\u001B[39;00m\n\u001B[0;32m     31\u001B[0m \u001B[38;5;66;03m#Calculate loss (fake images)\u001B[39;00m\n\u001B[0;32m     32\u001B[0m d_labels_fake \u001B[38;5;241m=\u001B[39m torch\u001B[38;5;241m.\u001B[39mzeros(batch_size, \u001B[38;5;241m1\u001B[39m, device\u001B[38;5;241m=\u001B[39mdevice)\n",
      "File \u001B[1;32m~\\Anaconda3\\lib\\site-packages\\torch\\nn\\modules\\module.py:1501\u001B[0m, in \u001B[0;36mModule._call_impl\u001B[1;34m(self, *args, **kwargs)\u001B[0m\n\u001B[0;32m   1496\u001B[0m \u001B[38;5;66;03m# If we don't have any hooks, we want to skip the rest of the logic in\u001B[39;00m\n\u001B[0;32m   1497\u001B[0m \u001B[38;5;66;03m# this function, and just call forward.\u001B[39;00m\n\u001B[0;32m   1498\u001B[0m \u001B[38;5;28;01mif\u001B[39;00m \u001B[38;5;129;01mnot\u001B[39;00m (\u001B[38;5;28mself\u001B[39m\u001B[38;5;241m.\u001B[39m_backward_hooks \u001B[38;5;129;01mor\u001B[39;00m \u001B[38;5;28mself\u001B[39m\u001B[38;5;241m.\u001B[39m_backward_pre_hooks \u001B[38;5;129;01mor\u001B[39;00m \u001B[38;5;28mself\u001B[39m\u001B[38;5;241m.\u001B[39m_forward_hooks \u001B[38;5;129;01mor\u001B[39;00m \u001B[38;5;28mself\u001B[39m\u001B[38;5;241m.\u001B[39m_forward_pre_hooks\n\u001B[0;32m   1499\u001B[0m         \u001B[38;5;129;01mor\u001B[39;00m _global_backward_pre_hooks \u001B[38;5;129;01mor\u001B[39;00m _global_backward_hooks\n\u001B[0;32m   1500\u001B[0m         \u001B[38;5;129;01mor\u001B[39;00m _global_forward_hooks \u001B[38;5;129;01mor\u001B[39;00m _global_forward_pre_hooks):\n\u001B[1;32m-> 1501\u001B[0m     \u001B[38;5;28;01mreturn\u001B[39;00m forward_call(\u001B[38;5;241m*\u001B[39margs, \u001B[38;5;241m*\u001B[39m\u001B[38;5;241m*\u001B[39mkwargs)\n\u001B[0;32m   1502\u001B[0m \u001B[38;5;66;03m# Do not call functions when jit is used\u001B[39;00m\n\u001B[0;32m   1503\u001B[0m full_backward_hooks, non_full_backward_hooks \u001B[38;5;241m=\u001B[39m [], []\n",
      "Cell \u001B[1;32mIn[37], line 76\u001B[0m, in \u001B[0;36mDiscriminatorWGAN.forward\u001B[1;34m(self, input, word_embedding)\u001B[0m\n\u001B[0;32m     71\u001B[0m word_embedding \u001B[38;5;241m=\u001B[39m word_embedding\u001B[38;5;241m.\u001B[39mview(word_embedding\u001B[38;5;241m.\u001B[39msize(\u001B[38;5;241m0\u001B[39m), \u001B[38;5;241m1\u001B[39m, \u001B[38;5;241m105\u001B[39m, \u001B[38;5;241m456\u001B[39m)\n\u001B[0;32m     74\u001B[0m combined_input \u001B[38;5;241m=\u001B[39m torch\u001B[38;5;241m.\u001B[39mcat([\u001B[38;5;28minput\u001B[39m, word_embedding], dim\u001B[38;5;241m=\u001B[39m\u001B[38;5;241m1\u001B[39m)\n\u001B[1;32m---> 76\u001B[0m output \u001B[38;5;241m=\u001B[39m \u001B[38;5;28;43mself\u001B[39;49m\u001B[38;5;241;43m.\u001B[39;49m\u001B[43mnetwork\u001B[49m\u001B[43m(\u001B[49m\u001B[43mcombined_input\u001B[49m\u001B[43m)\u001B[49m\n\u001B[0;32m     77\u001B[0m \u001B[38;5;28;01mreturn\u001B[39;00m output\n",
      "File \u001B[1;32m~\\Anaconda3\\lib\\site-packages\\torch\\nn\\modules\\module.py:1501\u001B[0m, in \u001B[0;36mModule._call_impl\u001B[1;34m(self, *args, **kwargs)\u001B[0m\n\u001B[0;32m   1496\u001B[0m \u001B[38;5;66;03m# If we don't have any hooks, we want to skip the rest of the logic in\u001B[39;00m\n\u001B[0;32m   1497\u001B[0m \u001B[38;5;66;03m# this function, and just call forward.\u001B[39;00m\n\u001B[0;32m   1498\u001B[0m \u001B[38;5;28;01mif\u001B[39;00m \u001B[38;5;129;01mnot\u001B[39;00m (\u001B[38;5;28mself\u001B[39m\u001B[38;5;241m.\u001B[39m_backward_hooks \u001B[38;5;129;01mor\u001B[39;00m \u001B[38;5;28mself\u001B[39m\u001B[38;5;241m.\u001B[39m_backward_pre_hooks \u001B[38;5;129;01mor\u001B[39;00m \u001B[38;5;28mself\u001B[39m\u001B[38;5;241m.\u001B[39m_forward_hooks \u001B[38;5;129;01mor\u001B[39;00m \u001B[38;5;28mself\u001B[39m\u001B[38;5;241m.\u001B[39m_forward_pre_hooks\n\u001B[0;32m   1499\u001B[0m         \u001B[38;5;129;01mor\u001B[39;00m _global_backward_pre_hooks \u001B[38;5;129;01mor\u001B[39;00m _global_backward_hooks\n\u001B[0;32m   1500\u001B[0m         \u001B[38;5;129;01mor\u001B[39;00m _global_forward_hooks \u001B[38;5;129;01mor\u001B[39;00m _global_forward_pre_hooks):\n\u001B[1;32m-> 1501\u001B[0m     \u001B[38;5;28;01mreturn\u001B[39;00m forward_call(\u001B[38;5;241m*\u001B[39margs, \u001B[38;5;241m*\u001B[39m\u001B[38;5;241m*\u001B[39mkwargs)\n\u001B[0;32m   1502\u001B[0m \u001B[38;5;66;03m# Do not call functions when jit is used\u001B[39;00m\n\u001B[0;32m   1503\u001B[0m full_backward_hooks, non_full_backward_hooks \u001B[38;5;241m=\u001B[39m [], []\n",
      "File \u001B[1;32m~\\Anaconda3\\lib\\site-packages\\torch\\nn\\modules\\container.py:217\u001B[0m, in \u001B[0;36mSequential.forward\u001B[1;34m(self, input)\u001B[0m\n\u001B[0;32m    215\u001B[0m \u001B[38;5;28;01mdef\u001B[39;00m \u001B[38;5;21mforward\u001B[39m(\u001B[38;5;28mself\u001B[39m, \u001B[38;5;28minput\u001B[39m):\n\u001B[0;32m    216\u001B[0m     \u001B[38;5;28;01mfor\u001B[39;00m module \u001B[38;5;129;01min\u001B[39;00m \u001B[38;5;28mself\u001B[39m:\n\u001B[1;32m--> 217\u001B[0m         \u001B[38;5;28minput\u001B[39m \u001B[38;5;241m=\u001B[39m \u001B[43mmodule\u001B[49m\u001B[43m(\u001B[49m\u001B[38;5;28;43minput\u001B[39;49m\u001B[43m)\u001B[49m\n\u001B[0;32m    218\u001B[0m     \u001B[38;5;28;01mreturn\u001B[39;00m \u001B[38;5;28minput\u001B[39m\n",
      "File \u001B[1;32m~\\Anaconda3\\lib\\site-packages\\torch\\nn\\modules\\module.py:1501\u001B[0m, in \u001B[0;36mModule._call_impl\u001B[1;34m(self, *args, **kwargs)\u001B[0m\n\u001B[0;32m   1496\u001B[0m \u001B[38;5;66;03m# If we don't have any hooks, we want to skip the rest of the logic in\u001B[39;00m\n\u001B[0;32m   1497\u001B[0m \u001B[38;5;66;03m# this function, and just call forward.\u001B[39;00m\n\u001B[0;32m   1498\u001B[0m \u001B[38;5;28;01mif\u001B[39;00m \u001B[38;5;129;01mnot\u001B[39;00m (\u001B[38;5;28mself\u001B[39m\u001B[38;5;241m.\u001B[39m_backward_hooks \u001B[38;5;129;01mor\u001B[39;00m \u001B[38;5;28mself\u001B[39m\u001B[38;5;241m.\u001B[39m_backward_pre_hooks \u001B[38;5;129;01mor\u001B[39;00m \u001B[38;5;28mself\u001B[39m\u001B[38;5;241m.\u001B[39m_forward_hooks \u001B[38;5;129;01mor\u001B[39;00m \u001B[38;5;28mself\u001B[39m\u001B[38;5;241m.\u001B[39m_forward_pre_hooks\n\u001B[0;32m   1499\u001B[0m         \u001B[38;5;129;01mor\u001B[39;00m _global_backward_pre_hooks \u001B[38;5;129;01mor\u001B[39;00m _global_backward_hooks\n\u001B[0;32m   1500\u001B[0m         \u001B[38;5;129;01mor\u001B[39;00m _global_forward_hooks \u001B[38;5;129;01mor\u001B[39;00m _global_forward_pre_hooks):\n\u001B[1;32m-> 1501\u001B[0m     \u001B[38;5;28;01mreturn\u001B[39;00m forward_call(\u001B[38;5;241m*\u001B[39margs, \u001B[38;5;241m*\u001B[39m\u001B[38;5;241m*\u001B[39mkwargs)\n\u001B[0;32m   1502\u001B[0m \u001B[38;5;66;03m# Do not call functions when jit is used\u001B[39;00m\n\u001B[0;32m   1503\u001B[0m full_backward_hooks, non_full_backward_hooks \u001B[38;5;241m=\u001B[39m [], []\n",
      "File \u001B[1;32m~\\Anaconda3\\lib\\site-packages\\torch\\nn\\modules\\conv.py:463\u001B[0m, in \u001B[0;36mConv2d.forward\u001B[1;34m(self, input)\u001B[0m\n\u001B[0;32m    462\u001B[0m \u001B[38;5;28;01mdef\u001B[39;00m \u001B[38;5;21mforward\u001B[39m(\u001B[38;5;28mself\u001B[39m, \u001B[38;5;28minput\u001B[39m: Tensor) \u001B[38;5;241m-\u001B[39m\u001B[38;5;241m>\u001B[39m Tensor:\n\u001B[1;32m--> 463\u001B[0m     \u001B[38;5;28;01mreturn\u001B[39;00m \u001B[38;5;28;43mself\u001B[39;49m\u001B[38;5;241;43m.\u001B[39;49m\u001B[43m_conv_forward\u001B[49m\u001B[43m(\u001B[49m\u001B[38;5;28;43minput\u001B[39;49m\u001B[43m,\u001B[49m\u001B[43m \u001B[49m\u001B[38;5;28;43mself\u001B[39;49m\u001B[38;5;241;43m.\u001B[39;49m\u001B[43mweight\u001B[49m\u001B[43m,\u001B[49m\u001B[43m \u001B[49m\u001B[38;5;28;43mself\u001B[39;49m\u001B[38;5;241;43m.\u001B[39;49m\u001B[43mbias\u001B[49m\u001B[43m)\u001B[49m\n",
      "File \u001B[1;32m~\\Anaconda3\\lib\\site-packages\\torch\\nn\\modules\\conv.py:459\u001B[0m, in \u001B[0;36mConv2d._conv_forward\u001B[1;34m(self, input, weight, bias)\u001B[0m\n\u001B[0;32m    455\u001B[0m \u001B[38;5;28;01mif\u001B[39;00m \u001B[38;5;28mself\u001B[39m\u001B[38;5;241m.\u001B[39mpadding_mode \u001B[38;5;241m!=\u001B[39m \u001B[38;5;124m'\u001B[39m\u001B[38;5;124mzeros\u001B[39m\u001B[38;5;124m'\u001B[39m:\n\u001B[0;32m    456\u001B[0m     \u001B[38;5;28;01mreturn\u001B[39;00m F\u001B[38;5;241m.\u001B[39mconv2d(F\u001B[38;5;241m.\u001B[39mpad(\u001B[38;5;28minput\u001B[39m, \u001B[38;5;28mself\u001B[39m\u001B[38;5;241m.\u001B[39m_reversed_padding_repeated_twice, mode\u001B[38;5;241m=\u001B[39m\u001B[38;5;28mself\u001B[39m\u001B[38;5;241m.\u001B[39mpadding_mode),\n\u001B[0;32m    457\u001B[0m                     weight, bias, \u001B[38;5;28mself\u001B[39m\u001B[38;5;241m.\u001B[39mstride,\n\u001B[0;32m    458\u001B[0m                     _pair(\u001B[38;5;241m0\u001B[39m), \u001B[38;5;28mself\u001B[39m\u001B[38;5;241m.\u001B[39mdilation, \u001B[38;5;28mself\u001B[39m\u001B[38;5;241m.\u001B[39mgroups)\n\u001B[1;32m--> 459\u001B[0m \u001B[38;5;28;01mreturn\u001B[39;00m \u001B[43mF\u001B[49m\u001B[38;5;241;43m.\u001B[39;49m\u001B[43mconv2d\u001B[49m\u001B[43m(\u001B[49m\u001B[38;5;28;43minput\u001B[39;49m\u001B[43m,\u001B[49m\u001B[43m \u001B[49m\u001B[43mweight\u001B[49m\u001B[43m,\u001B[49m\u001B[43m \u001B[49m\u001B[43mbias\u001B[49m\u001B[43m,\u001B[49m\u001B[43m \u001B[49m\u001B[38;5;28;43mself\u001B[39;49m\u001B[38;5;241;43m.\u001B[39;49m\u001B[43mstride\u001B[49m\u001B[43m,\u001B[49m\n\u001B[0;32m    460\u001B[0m \u001B[43m                \u001B[49m\u001B[38;5;28;43mself\u001B[39;49m\u001B[38;5;241;43m.\u001B[39;49m\u001B[43mpadding\u001B[49m\u001B[43m,\u001B[49m\u001B[43m \u001B[49m\u001B[38;5;28;43mself\u001B[39;49m\u001B[38;5;241;43m.\u001B[39;49m\u001B[43mdilation\u001B[49m\u001B[43m,\u001B[49m\u001B[43m \u001B[49m\u001B[38;5;28;43mself\u001B[39;49m\u001B[38;5;241;43m.\u001B[39;49m\u001B[43mgroups\u001B[49m\u001B[43m)\u001B[49m\n",
      "\u001B[1;31mKeyboardInterrupt\u001B[0m: "
     ]
    }
   ],
   "source": [
    "mode_z = 'uniform'\n",
    "epoch_samples = []\n",
    "num_epochs = 100\n",
    "torch.manual_seed(1)\n",
    "save_interval = 5\n",
    "checkpoint_path = 'Textual_DCGAN_model_checkpoint_epoch_{}.pth'\n",
    "final_model_path = 'Textual_DCGAN_model_final.pth'\n",
    "\n",
    "for epoch in range(1, num_epochs+1):\n",
    "    gen_model.train()\n",
    "    fixed_z = create_noise(batch_size, z_size, mode_z).to(device)\n",
    "    d_losses, g_losses = [], []\n",
    "    for i, (x, t) in enumerate(trainloader):\n",
    "        d_loss, d_proba_real, d_proba_fake = d_train(x, t)\n",
    "        print(\"D Loss:\", d_loss)\n",
    "        d_losses.append(d_loss)\n",
    "        g_losses.append(g_train(x, t))\n",
    "\n",
    "    print(f'Epoch {epoch:03d} | D Loss >>'\n",
    "          f' {torch.FloatTensor(d_losses).mean():.4f}')\n",
    "    print(f'Epoch {epoch:03d} | G Loss >>'\n",
    "          f' {torch.FloatTensor(g_losses).mean():.4f}')\n",
    "\n",
    "    if epoch % save_interval == 0:\n",
    "        torch.save({\n",
    "            'epoch': epoch,\n",
    "            'gen_model_state_dict': gen_model.state_dict(),\n",
    "            'optimizer_state_dict': g_optimizer.state_dict(),\n",
    "            'd_losses': d_losses,\n",
    "            'g_losses': g_losses,\n",
    "        }, checkpoint_path.format(epoch))"
   ],
   "metadata": {
    "collapsed": false
   }
  },
  {
   "cell_type": "code",
   "execution_count": null,
   "outputs": [],
   "source": [],
   "metadata": {
    "collapsed": false
   }
  }
 ],
 "metadata": {
  "kernelspec": {
   "display_name": "Python 3",
   "language": "python",
   "name": "python3"
  },
  "language_info": {
   "codemirror_mode": {
    "name": "ipython",
    "version": 2
   },
   "file_extension": ".py",
   "mimetype": "text/x-python",
   "name": "python",
   "nbconvert_exporter": "python",
   "pygments_lexer": "ipython2",
   "version": "2.7.6"
  }
 },
 "nbformat": 4,
 "nbformat_minor": 0
}
