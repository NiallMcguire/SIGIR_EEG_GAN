{
 "cells": [
  {
   "cell_type": "code",
   "execution_count": 3,
   "metadata": {
    "collapsed": true,
    "ExecuteTime": {
     "start_time": "2024-03-13T16:38:01.094476Z",
     "end_time": "2024-03-13T16:38:05.914841Z"
    }
   },
   "outputs": [
    {
     "name": "stderr",
     "output_type": "stream",
     "text": [
      "[nltk_data] Downloading package punkt to\n",
      "[nltk_data]     C:\\Users\\gxb18167\\AppData\\Roaming\\nltk_data...\n",
      "[nltk_data]   Package punkt is already up-to-date!\n"
     ]
    }
   ],
   "source": [
    "import sys\n",
    "import nltk\n",
    "import torch.nn.functional as F\n",
    "import torch\n",
    "import torch.nn as nn\n",
    "import numpy as np\n",
    "from sklearn.preprocessing import MinMaxScaler\n",
    "import torch\n",
    "nltk.download('punkt')\n",
    "from gensim.models import Word2Vec\n",
    "from nltk.tokenize import word_tokenize\n",
    "sys.path.insert(0, '..')\n",
    "import pickle\n",
    "from torch.autograd import grad as torch_grad\n",
    "\n"
   ]
  },
  {
   "cell_type": "code",
   "execution_count": 4,
   "outputs": [
    {
     "name": "stdout",
     "output_type": "stream",
     "text": [
      "2.0.1\n",
      "GPU Available: False\n"
     ]
    }
   ],
   "source": [
    "import torch\n",
    "\n",
    "\n",
    "print(torch.__version__)\n",
    "print(\"GPU Available:\", torch.cuda.is_available())\n",
    "\n",
    "if torch.cuda.is_available():\n",
    "    device = torch.device(\"cuda:0\")\n",
    "else:\n",
    "    device = \"cpu\""
   ],
   "metadata": {
    "collapsed": false,
    "ExecuteTime": {
     "start_time": "2024-03-13T16:38:05.925620Z",
     "end_time": "2024-03-13T16:38:05.939646Z"
    }
   }
  },
  {
   "cell_type": "code",
   "execution_count": 5,
   "outputs": [],
   "source": [
    "batch_size = 64\n",
    "word_embedding_dim = 50\n",
    "output_shape = (1, 105, 8)\n",
    "torch.manual_seed(1)\n",
    "np.random.seed(1)"
   ],
   "metadata": {
    "collapsed": false,
    "ExecuteTime": {
     "start_time": "2024-03-13T16:38:05.939646Z",
     "end_time": "2024-03-13T16:38:06.005035Z"
    }
   }
  },
  {
   "cell_type": "code",
   "execution_count": 6,
   "outputs": [],
   "source": [
    "\n",
    "# To load the lists from the file:\n",
    "with open(r\"C:\\Users\\gxb18167\\PycharmProjects\\EEG-To-Text\\SIGIR_Development\\EEG-GAN\\EEG_Text_Pairs_Sentence.pkl\", 'rb') as file:\n",
    "    EEG_word_level_embeddings = pickle.load(file)\n",
    "    EEG_word_level_labels = pickle.load(file)"
   ],
   "metadata": {
    "collapsed": false,
    "ExecuteTime": {
     "start_time": "2024-03-13T16:38:05.973826Z",
     "end_time": "2024-03-13T16:38:08.458446Z"
    }
   }
  },
  {
   "cell_type": "code",
   "execution_count": 7,
   "outputs": [],
   "source": [
    "def create_word_label_embeddings_sentence(Word_Labels_List, EEG_word_level_embeddings):\n",
    "\n",
    "    tokenized_words = []\n",
    "    for i in range(len(Word_Labels_List)):\n",
    "        tokenized_words.append([Word_Labels_List[i]])\n",
    "    model = Word2Vec(sentences=tokenized_words, vector_size=word_embedding_dim, window=5, min_count=1, workers=4)\n",
    "    word_embeddings = {word: model.wv[word] for word in model.wv.index_to_key}\n",
    "\n",
    "    list_of_sentences = []\n",
    "    sentence = []\n",
    "\n",
    "    max_sentence_length = 0\n",
    "    for words in range (0, len(EEG_word_level_labels)):\n",
    "\n",
    "        current_word = EEG_word_level_labels[words]\n",
    "        current_word_embedding = word_embeddings[current_word]\n",
    "\n",
    "        if words == len(EEG_word_level_labels)-1:\n",
    "            if len(sentence) > max_sentence_length:\n",
    "                max_sentence_length = len(sentence)\n",
    "            list_of_sentences.append(sentence)\n",
    "\n",
    "        elif current_word == \"SOS\" and sentence != []:\n",
    "            if len(sentence) > max_sentence_length:\n",
    "                max_sentence_length = len(sentence)\n",
    "\n",
    "            list_of_sentences.append(sentence)\n",
    "            sentence = []\n",
    "        elif current_word != \"SOS\":\n",
    "            sentence.append(current_word_embedding)\n",
    "\n",
    "\n",
    "\n",
    "    EEG_sentence_list = []\n",
    "    index_counter = 0\n",
    "    for sentence in list_of_sentences:\n",
    "        EEG_sentence = EEG_word_level_embeddings[index_counter:index_counter+len(sentence)]\n",
    "        for i in range(max_sentence_length-len(EEG_sentence)):\n",
    "            EEG_sentence.append(np.zeros((105, 8)))\n",
    "\n",
    "        EEG_sentence_list.append(EEG_sentence)\n",
    "        index_counter += len(sentence)\n",
    "        if len(sentence) > max_sentence_length:\n",
    "            max_sentence_length = len(sentence)\n",
    "\n",
    "    for sentence in list_of_sentences:\n",
    "        for i in range(max_sentence_length-len(sentence)):\n",
    "            sentence.append(np.zeros((word_embedding_dim)))\n",
    "\n",
    "    for i in range(len(EEG_sentence_list)):\n",
    "        EEG_sentence = EEG_sentence_list[i]\n",
    "        contact_EEG_sentence = np.concatenate(EEG_sentence, axis=1)\n",
    "        EEG_sentence_list[i] = contact_EEG_sentence\n",
    "\n",
    "        word_embedding_sentence = list_of_sentences[i]\n",
    "        concat_word_embedding_sentence = np.concatenate(word_embedding_sentence, axis=0)\n",
    "        list_of_sentences[i] = concat_word_embedding_sentence\n",
    "\n",
    "    return EEG_sentence_list, list_of_sentences\n",
    "\n",
    "\n",
    "def create_dataloader_sentence(EEG_word_level_embeddings, Embedded_Word_labels):\n",
    "    #EEG_word_level_embeddings_normalize = (EEG_word_level_embeddings - np.mean(EEG_word_level_embeddings)) / np.std(EEG_word_level_embeddings)\n",
    "    #Assuming EEG_synthetic is the generated synthetic EEG data\n",
    "    #EEG_synthetic_denormalized = (EEG_synthetic * np.max(np.abs(EEG_word_level_embeddings))) + np.mean(EEG_word_level_embeddings)\n",
    "\n",
    "    EEG_word_level_embeddings_normalize = (EEG_word_level_embeddings - np.mean(EEG_word_level_embeddings)) / np.max(np.abs(EEG_word_level_embeddings))\n",
    "\n",
    "\n",
    "    float_tensor = torch.tensor(EEG_word_level_embeddings_normalize, dtype=torch.float32)\n",
    "    float_tensor = float_tensor.unsqueeze(1)\n",
    "\n",
    "    #print(EEG_word_level_embeddings_normalize)\n",
    "    # Calculate mean and standard deviation\n",
    "    print(torch.isnan(float_tensor).any())\n",
    "\n",
    "\n",
    "    Embedded_Word_labels = torch.tensor(Embedded_Word_labels, dtype=torch.float32)\n",
    "\n",
    "    train_data = []\n",
    "    for i in range(len(float_tensor)):\n",
    "       train_data.append([float_tensor[i], Embedded_Word_labels[i]])\n",
    "    trainloader = torch.utils.data.DataLoader(train_data, shuffle=True, batch_size=64)\n",
    "    return trainloader\n",
    "\n"
   ],
   "metadata": {
    "collapsed": false,
    "ExecuteTime": {
     "start_time": "2024-03-13T16:38:08.474815Z",
     "end_time": "2024-03-13T16:38:08.513628Z"
    }
   }
  },
  {
   "cell_type": "code",
   "execution_count": 8,
   "outputs": [
    {
     "name": "stdout",
     "output_type": "stream",
     "text": [
      "tensor(False)\n"
     ]
    },
    {
     "name": "stderr",
     "output_type": "stream",
     "text": [
      "C:\\Users\\gxb18167\\AppData\\Local\\Temp\\ipykernel_17644\\2386319609.py:78: UserWarning: Creating a tensor from a list of numpy.ndarrays is extremely slow. Please consider converting the list to a single numpy.ndarray with numpy.array() before converting to a tensor. (Triggered internally at C:\\b\\abs_abjetg6_iu\\croot\\pytorch_1686932924616\\work\\torch\\csrc\\utils\\tensor_new.cpp:248.)\n",
      "  Embedded_Word_labels = torch.tensor(Embedded_Word_labels, dtype=torch.float32)\n"
     ]
    }
   ],
   "source": [
    "EEG_sentence_list, list_of_sentences = create_word_label_embeddings_sentence(EEG_word_level_labels, EEG_word_level_embeddings)\n",
    "trainloader = create_dataloader_sentence(EEG_sentence_list, list_of_sentences)"
   ],
   "metadata": {
    "collapsed": false,
    "ExecuteTime": {
     "start_time": "2024-03-13T16:38:08.497064Z",
     "end_time": "2024-03-13T16:40:05.138113Z"
    }
   }
  },
  {
   "cell_type": "code",
   "execution_count": 9,
   "outputs": [],
   "source": [
    "z_size = 100\n",
    "image_size = (105, 8)\n",
    "\n",
    "n_filters = 32"
   ],
   "metadata": {
    "collapsed": false,
    "ExecuteTime": {
     "start_time": "2024-03-13T16:40:04.948445Z",
     "end_time": "2024-03-13T16:40:05.174330Z"
    }
   }
  },
  {
   "cell_type": "code",
   "execution_count": 54,
   "outputs": [],
   "source": [
    "class Generator(nn.Module):\n",
    "    def __init__(self, noise_dim, word_embedding_dim):\n",
    "        super(Generator, self).__init__()\n",
    "\n",
    "        self.noise_dim = noise_dim\n",
    "        self.word_embedding_dim = word_embedding_dim\n",
    "\n",
    "        # Define the layers of your generator\n",
    "        self.fc_noise = nn.Linear(noise_dim, 105 * 456)\n",
    "        self.fc_word_embedding = nn.Linear(word_embedding_dim, 105 * 456)\n",
    "        self.conv1 = nn.Conv2d(2, 64, kernel_size=3, stride=1, padding=1)\n",
    "        self.bn1 = nn.BatchNorm2d(64)\n",
    "        self.relu = nn.ReLU()\n",
    "        self.conv2 = nn.Conv2d(64, 1, kernel_size=3, stride=1, padding=1)\n",
    "\n",
    "\n",
    "\n",
    "    def forward(self, noise, word_embedding):\n",
    "        # Process noise\n",
    "        noise = self.fc_noise(noise)\n",
    "        noise = noise.view(noise.size(0), 1, 105, 456)\n",
    "\n",
    "        # Process word embedding\n",
    "        word_embedding = self.fc_word_embedding(word_embedding.to(device))\n",
    "        word_embedding = word_embedding.view(word_embedding.size(0), 1, 105, 456)\n",
    "\n",
    "        print(\"word_embedding:\", word_embedding.shape)\n",
    "        print(\"input:\", noise.shape)\n",
    "\n",
    "        # Concatenate noise and word embedding\n",
    "        combined_input = torch.cat([noise, word_embedding], dim=1)\n",
    "\n",
    "        print(\"combined_input:\", combined_input.shape)\n",
    "\n",
    "        # Upsample and generate the output\n",
    "        z = self.conv1(combined_input)\n",
    "        z = self.bn1(z)\n",
    "        z = self.relu(z)\n",
    "        z = self.conv2(z)\n",
    "\n",
    "        return z\n",
    "\n",
    "class DiscriminatorWGAN(nn.Module):\n",
    "    def __init__(self, n_filters, word_embedding_dim):\n",
    "        super(DiscriminatorWGAN, self).__init__()\n",
    "\n",
    "        self.word_embedding_dim = word_embedding_dim\n",
    "        self.fc_word_embedding = nn.Linear(word_embedding_dim, 105 * 456)\n",
    "\n",
    "        self.network = nn.Sequential(\n",
    "            nn.Conv2d(2, n_filters, kernel_size=4, stride=2, padding=1, bias=False),\n",
    "            nn.LeakyReLU(0.2),\n",
    "\n",
    "            nn.Conv2d(n_filters, n_filters*2, kernel_size=4, stride=2, padding=1, bias=False),\n",
    "            nn.InstanceNorm2d(n_filters * 2),\n",
    "            nn.LeakyReLU(0.2),\n",
    "\n",
    "            nn.Conv2d(n_filters*2, n_filters*4, kernel_size=3, stride=2, padding=1, bias=False),\n",
    "            nn.InstanceNorm2d(n_filters*4),\n",
    "            nn.LeakyReLU(0.2),\n",
    "\n",
    "            nn.Flatten(),  # Flatten spatial dimensions\n",
    "\n",
    "            # Fully connected layer to reduce to a single value per sample\n",
    "            nn.Linear(n_filters*4 * (105 // 8) * (456 // 8), 1),\n",
    "            nn.Sigmoid()\n",
    "        )\n",
    "\n",
    "    def forward(self, input, word_embedding):\n",
    "        word_embedding = self.fc_word_embedding(word_embedding.to(device))\n",
    "        word_embedding = word_embedding.view(word_embedding.size(0), 1, 105, 456)\n",
    "\n",
    "\n",
    "        combined_input = torch.cat([input, word_embedding], dim=1)\n",
    "\n",
    "        output = self.network(combined_input)\n",
    "        return output\n"
   ],
   "metadata": {
    "collapsed": false,
    "ExecuteTime": {
     "start_time": "2024-03-13T16:51:07.344285Z",
     "end_time": "2024-03-13T16:51:07.391641Z"
    }
   }
  },
  {
   "cell_type": "code",
   "execution_count": 55,
   "outputs": [],
   "source": [
    "gen_model = Generator(z_size, 2850).to(device)\n",
    "disc_model = DiscriminatorWGAN(n_filters, 2850).to(device)\n",
    "loss_fn = nn.BCELoss()\n",
    "g_optimizer = torch.optim.Adam(gen_model.parameters(), 0.00002)\n",
    "d_optimizer = torch.optim.Adam(disc_model.parameters(), 0.00002)"
   ],
   "metadata": {
    "collapsed": false,
    "ExecuteTime": {
     "start_time": "2024-03-13T16:51:07.586200Z",
     "end_time": "2024-03-13T16:51:11.080992Z"
    }
   }
  },
  {
   "cell_type": "code",
   "execution_count": 56,
   "outputs": [],
   "source": [
    "def create_noise(batch_size, z_size, mode_z):\n",
    "    if mode_z == 'uniform':\n",
    "        input_z = torch.rand(batch_size, z_size)*2 - 1\n",
    "    elif mode_z == 'normal':\n",
    "        input_z = torch.randn(batch_size, z_size)\n",
    "    return input_z\n",
    "\n",
    "mode_z = 'uniform'\n",
    "fixed_z = create_noise(batch_size, z_size, mode_z).to(device)\n",
    "\n",
    "def create_samples(g_model, input_z, input_t):\n",
    "    g_output = g_model(input_z, input_t)\n",
    "    images = torch.reshape(g_output, (batch_size, *image_size))\n",
    "    return (images+1)/2.0"
   ],
   "metadata": {
    "collapsed": false,
    "ExecuteTime": {
     "start_time": "2024-03-13T16:51:11.096646Z",
     "end_time": "2024-03-13T16:51:11.113203Z"
    }
   }
  },
  {
   "cell_type": "code",
   "execution_count": 61,
   "outputs": [],
   "source": [
    "## Train the discriminator\n",
    "def d_train(x, T):\n",
    "\n",
    "    #init gradient\n",
    "    disc_model.zero_grad()\n",
    "\n",
    "    # Train discriminator with a real batch\n",
    "    batch_size = x.size(0)\n",
    "    x = x.to(device)\n",
    "    print(\"T:\", T.shape)\n",
    "\n",
    "    d_proba_real = disc_model(x, T)\n",
    "\n",
    "    #Calculate loss (real images)\n",
    "    d_labels_real = torch.ones(batch_size, 1, device=device)\n",
    "    d_loss_real = loss_fn(d_proba_real, d_labels_real)\n",
    "\n",
    "    #building Z\n",
    "    input_z = create_noise(batch_size, z_size, mode_z).to(device)\n",
    "\n",
    "    #building fake T\n",
    "    fake_T = torch.rand(batch_size, 2850).to(device)\n",
    "\n",
    "    # Train discriminator on a fake batch\n",
    "    g_output = gen_model(input_z, fake_T) #@TODO this should be fake labels not real labels\n",
    "\n",
    "    #Discriminating fake images\n",
    "    d_proba_fake = disc_model(g_output, fake_T) #TODO this should take in fake labels as well\n",
    "\n",
    "    #Calculate loss (fake images)\n",
    "    d_labels_fake = torch.zeros(batch_size, 1, device=device)\n",
    "    d_loss_fake = loss_fn(d_proba_fake, d_labels_fake) #This is fine\n",
    "\n",
    "    # gradient backprop & optimize ONLY D's parameters\n",
    "    d_loss = d_loss_real + d_loss_fake\n",
    "    d_loss.backward()\n",
    "    d_optimizer.step()\n",
    "\n",
    "    return d_loss.data.item(), d_proba_real.detach(), d_proba_fake.detach()"
   ],
   "metadata": {
    "collapsed": false,
    "ExecuteTime": {
     "start_time": "2024-03-13T16:51:56.728435Z",
     "end_time": "2024-03-13T16:51:56.744473Z"
    }
   }
  },
  {
   "cell_type": "code",
   "execution_count": 62,
   "outputs": [],
   "source": [
    "## Train the generator\n",
    "def g_train(x, T):\n",
    "\n",
    "    #Init gradient\n",
    "    gen_model.zero_grad()\n",
    "\n",
    "    #Building Z\n",
    "    batch_size = x.size(0)\n",
    "    input_z = create_noise(batch_size, z_size, mode_z).to(device)\n",
    "\n",
    "    #building real labels\n",
    "    g_labels_real = torch.ones((batch_size, 1), device=device)\n",
    "\n",
    "    #generate fake text embeddings\n",
    "    fake_T = torch.rand(batch_size, 2850).to(device)\n",
    "\n",
    "    g_output = gen_model(input_z, fake_T) #TODO this should take in fake labels\n",
    "\n",
    "    d_proba_fake = disc_model(g_output, fake_T) #TODO take in fake labels\n",
    "\n",
    "    g_loss = loss_fn(d_proba_fake, g_labels_real)\n",
    "\n",
    "    # gradient backprop & optimize ONLY G's parameters\n",
    "    g_loss.backward()\n",
    "    g_optimizer.step()\n",
    "\n",
    "    return g_loss.data.item()"
   ],
   "metadata": {
    "collapsed": false,
    "ExecuteTime": {
     "start_time": "2024-03-13T16:51:56.939200Z",
     "end_time": "2024-03-13T16:51:56.970873Z"
    }
   }
  },
  {
   "cell_type": "code",
   "execution_count": null,
   "outputs": [
    {
     "name": "stdout",
     "output_type": "stream",
     "text": [
      "T: torch.Size([64, 2850])\n",
      "word_embedding: torch.Size([64, 1, 105, 456])\n",
      "input: torch.Size([64, 1, 105, 456])\n",
      "combined_input: torch.Size([64, 2, 105, 456])\n",
      "D Loss: 1.2183436155319214\n",
      "word_embedding: torch.Size([64, 1, 105, 456])\n",
      "input: torch.Size([64, 1, 105, 456])\n",
      "combined_input: torch.Size([64, 2, 105, 456])\n"
     ]
    }
   ],
   "source": [
    "mode_z = 'uniform'\n",
    "epoch_samples = []\n",
    "num_epochs = 100\n",
    "torch.manual_seed(1)\n",
    "save_interval = 5\n",
    "checkpoint_path = 'Textual_DCGAN_model_checkpoint_epoch_{}.pth'\n",
    "final_model_path = 'Textual_DCGAN_model_final.pth'\n",
    "\n",
    "for epoch in range(1, num_epochs+1):\n",
    "    gen_model.train()\n",
    "    fixed_z = create_noise(batch_size, z_size, mode_z).to(device)\n",
    "    d_losses, g_losses = [], []\n",
    "    for i, (x, t) in enumerate(trainloader):\n",
    "        d_loss, d_proba_real, d_proba_fake = d_train(x, t)\n",
    "        print(\"D Loss:\", d_loss)\n",
    "        d_losses.append(d_loss)\n",
    "        g_losses.append(g_train(x, t))\n",
    "\n",
    "    print(f'Epoch {epoch:03d} | D Loss >>'\n",
    "          f' {torch.FloatTensor(d_losses).mean():.4f}')\n",
    "    print(f'Epoch {epoch:03d} | G Loss >>'\n",
    "          f' {torch.FloatTensor(g_losses).mean():.4f}')\n",
    "\n",
    "    if epoch % save_interval == 0:\n",
    "        torch.save({\n",
    "            'epoch': epoch,\n",
    "            'gen_model_state_dict': gen_model.state_dict(),\n",
    "            'optimizer_state_dict': g_optimizer.state_dict(),\n",
    "            'd_losses': d_losses,\n",
    "            'g_losses': g_losses,\n",
    "        }, checkpoint_path.format(epoch))"
   ],
   "metadata": {
    "collapsed": false,
    "pycharm": {
     "is_executing": true
    }
   }
  },
  {
   "cell_type": "code",
   "execution_count": null,
   "outputs": [],
   "source": [],
   "metadata": {
    "collapsed": false
   }
  }
 ],
 "metadata": {
  "kernelspec": {
   "display_name": "Python 3",
   "language": "python",
   "name": "python3"
  },
  "language_info": {
   "codemirror_mode": {
    "name": "ipython",
    "version": 2
   },
   "file_extension": ".py",
   "mimetype": "text/x-python",
   "name": "python",
   "nbconvert_exporter": "python",
   "pygments_lexer": "ipython2",
   "version": "2.7.6"
  }
 },
 "nbformat": 4,
 "nbformat_minor": 0
}
