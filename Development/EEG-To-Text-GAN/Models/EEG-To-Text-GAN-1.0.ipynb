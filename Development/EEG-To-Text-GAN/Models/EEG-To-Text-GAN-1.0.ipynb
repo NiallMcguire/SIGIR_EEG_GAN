{
 "cells": [
  {
   "cell_type": "code",
   "execution_count": 3,
   "metadata": {
    "collapsed": true,
    "ExecuteTime": {
     "start_time": "2023-11-15T16:26:23.790232Z",
     "end_time": "2023-11-15T16:26:23.821304Z"
    }
   },
   "outputs": [],
   "source": [
    "import sys\n",
    "sys.path.insert(0, '..')"
   ]
  },
  {
   "cell_type": "code",
   "execution_count": 4,
   "outputs": [
    {
     "name": "stdout",
     "output_type": "stream",
     "text": [
      "2.0.1\n",
      "GPU Available: False\n"
     ]
    }
   ],
   "source": [
    "import torch\n",
    "\n",
    "\n",
    "print(torch.__version__)\n",
    "print(\"GPU Available:\", torch.cuda.is_available())\n",
    "\n",
    "if torch.cuda.is_available():\n",
    "    device = torch.device(\"cuda:0\")\n",
    "else:\n",
    "    device = \"cpu\""
   ],
   "metadata": {
    "collapsed": false,
    "ExecuteTime": {
     "start_time": "2023-11-15T16:26:23.964920Z",
     "end_time": "2023-11-15T16:26:26.692622Z"
    }
   }
  },
  {
   "cell_type": "code",
   "execution_count": 5,
   "outputs": [],
   "source": [
    "import torch.nn as nn\n",
    "import numpy as np\n",
    "\n",
    "import matplotlib.pyplot as plt\n",
    "%matplotlib inline"
   ],
   "metadata": {
    "collapsed": false,
    "ExecuteTime": {
     "start_time": "2023-11-15T16:26:26.697489Z",
     "end_time": "2023-11-15T16:26:27.204409Z"
    }
   }
  },
  {
   "cell_type": "code",
   "execution_count": 6,
   "outputs": [],
   "source": [
    "batch_size = 64\n",
    "\n",
    "torch.manual_seed(1)\n",
    "np.random.seed(1)"
   ],
   "metadata": {
    "collapsed": false,
    "ExecuteTime": {
     "start_time": "2023-11-15T16:26:27.204409Z",
     "end_time": "2023-11-15T16:26:27.236568Z"
    }
   }
  },
  {
   "cell_type": "code",
   "execution_count": 7,
   "outputs": [],
   "source": [
    "import pickle\n",
    "\n",
    "# To load the lists from the file:\n",
    "with open(r'C:\\Users\\gxb18167\\PycharmProjects\\SIGIR_EEG_GAN\\Development\\EEG-To-Text-GAN\\Data\\EEG_Text_Pairs.pkl', 'rb') as file:\n",
    "    EEG_word_level_embeddings = pickle.load(file)\n",
    "    EEG_word_level_labels = pickle.load(file)"
   ],
   "metadata": {
    "collapsed": false,
    "ExecuteTime": {
     "start_time": "2023-11-15T16:26:27.236568Z",
     "end_time": "2023-11-15T16:26:27.806417Z"
    }
   }
  },
  {
   "cell_type": "code",
   "execution_count": 8,
   "outputs": [
    {
     "name": "stderr",
     "output_type": "stream",
     "text": [
      "[nltk_data] Downloading package punkt to\n",
      "[nltk_data]     C:\\Users\\gxb18167\\AppData\\Roaming\\nltk_data...\n",
      "[nltk_data]   Package punkt is already up-to-date!\n"
     ]
    }
   ],
   "source": [
    "import nltk\n",
    "nltk.download('punkt')\n",
    "from gensim.models import Word2Vec\n",
    "from nltk.tokenize import word_tokenize\n",
    "\n",
    "tokenized_words = [word_tokenize(word) for word in EEG_word_level_labels]"
   ],
   "metadata": {
    "collapsed": false,
    "ExecuteTime": {
     "start_time": "2023-11-15T16:26:28.405173Z",
     "end_time": "2023-11-15T16:26:31.519629Z"
    }
   }
  },
  {
   "cell_type": "code",
   "execution_count": 28,
   "outputs": [
    {
     "name": "stdout",
     "output_type": "stream",
     "text": [
      "63015\n",
      "['founded']\n"
     ]
    }
   ],
   "source": [
    "print(len(tokenized_words))\n",
    "print(tokenized_words[5])"
   ],
   "metadata": {
    "collapsed": false,
    "ExecuteTime": {
     "start_time": "2023-11-15T16:30:50.803990Z",
     "end_time": "2023-11-15T16:30:50.828496Z"
    }
   }
  },
  {
   "cell_type": "code",
   "execution_count": 15,
   "outputs": [],
   "source": [
    "model = Word2Vec(sentences=tokenized_words, vector_size=100, window=5, min_count=1, workers=4)"
   ],
   "metadata": {
    "collapsed": false,
    "ExecuteTime": {
     "start_time": "2023-11-15T16:29:53.149879Z",
     "end_time": "2023-11-15T16:29:53.609886Z"
    }
   }
  },
  {
   "cell_type": "code",
   "execution_count": 23,
   "outputs": [
    {
     "name": "stdout",
     "output_type": "stream",
     "text": [
      "Number of word embeddings: 2137\n",
      "Word: of, Embedding: [ 8.13227147e-03 -4.45733406e-03 -1.06835726e-03  1.00636482e-03\n",
      " -1.91113955e-04  1.14817743e-03  6.11386076e-03 -2.02715401e-05\n",
      " -3.24596534e-03 -1.51072862e-03  5.89729892e-03  1.51410222e-03\n",
      " -7.24261976e-04  9.33324732e-03 -4.92128357e-03 -8.38409644e-04\n",
      "  9.17541143e-03  6.74942741e-03  1.50285603e-03 -8.88256077e-03\n",
      "  1.14874600e-03 -2.28825561e-03  9.36823711e-03  1.20992784e-03\n",
      "  1.49006362e-03  2.40640994e-03 -1.83600665e-03 -4.99963388e-03\n",
      "  2.32429506e-04 -2.01418041e-03  6.60093315e-03  8.94012302e-03\n",
      " -6.74754381e-04  2.97701475e-03 -6.10765442e-03  1.69932481e-03\n",
      " -6.92623248e-03 -8.69402662e-03 -5.90020278e-03 -8.95647518e-03\n",
      "  7.27759488e-03 -5.77203138e-03  8.27635173e-03 -7.24354526e-03\n",
      "  3.42167495e-03  9.67499893e-03 -7.78544787e-03 -9.94505733e-03\n",
      " -4.32914635e-03 -2.68313056e-03 -2.71289347e-04 -8.83155130e-03\n",
      " -8.61755759e-03  2.80021061e-03 -8.20640661e-03 -9.06933658e-03\n",
      " -2.34046578e-03 -8.63180775e-03 -7.05664977e-03 -8.40115082e-03\n",
      " -3.01328895e-04 -4.56429832e-03  6.62717456e-03  1.52716041e-03\n",
      " -3.34147573e-03  6.10897178e-03 -6.01328490e-03 -4.65616956e-03\n",
      " -7.20750913e-03 -4.33658017e-03 -1.80932996e-03  6.48964290e-03\n",
      " -2.77039292e-03  4.91896737e-03  6.90444233e-03 -7.46370573e-03\n",
      "  4.56485013e-03  6.12697843e-03 -2.95447465e-03  6.62502181e-03\n",
      "  6.12587947e-03 -6.44348515e-03 -6.76455162e-03  2.53895880e-03\n",
      " -1.62381888e-03 -6.06512791e-03  9.49920900e-03 -5.13014663e-03\n",
      " -6.55409694e-03 -1.19885204e-04 -2.70142802e-03  4.44400299e-04\n",
      " -3.53745813e-03 -4.19330609e-04 -7.08615757e-04  8.22820642e-04\n",
      "  8.19481723e-03 -5.73670724e-03 -1.65952800e-03  5.57160750e-03]\n"
     ]
    }
   ],
   "source": [
    "# Get the word embeddings\n",
    "word_embeddings = {word: model.wv[word] for word in model.wv.index_to_key}\n",
    "\n",
    "# Example usage\n",
    "'''\n",
    "for word, embedding in word_embeddings.items():\n",
    "    print(f\"Word: {word}, Embedding: {embedding}\")\n",
    "'''\n",
    "print(\"Number of word embeddings:\", len(word_embeddings))\n",
    "word, embedding = list(word_embeddings.items())[6]\n",
    "print(f\"Word: {word}, Embedding: {embedding}\")"
   ],
   "metadata": {
    "collapsed": false,
    "ExecuteTime": {
     "start_time": "2023-11-15T16:30:27.137034Z",
     "end_time": "2023-11-15T16:30:27.176266Z"
    }
   }
  },
  {
   "cell_type": "code",
   "execution_count": 8,
   "outputs": [
    {
     "name": "stderr",
     "output_type": "stream",
     "text": [
      "C:\\Users\\gxb18167\\AppData\\Local\\Temp\\ipykernel_13884\\2008157655.py:1: UserWarning: Creating a tensor from a list of numpy.ndarrays is extremely slow. Please consider converting the list to a single numpy.ndarray with numpy.array() before converting to a tensor. (Triggered internally at C:\\b\\abs_abjetg6_iu\\croot\\pytorch_1686932924616\\work\\torch\\csrc\\utils\\tensor_new.cpp:248.)\n",
      "  float_tensor = torch.tensor(EEG_word_level_embeddings, dtype=torch.float)\n"
     ]
    }
   ],
   "source": [
    "float_tensor = torch.tensor(EEG_word_level_embeddings, dtype=torch.float)\n",
    "float_tensor = float_tensor.unsqueeze(1)"
   ],
   "metadata": {
    "collapsed": false,
    "ExecuteTime": {
     "start_time": "2023-11-15T10:30:54.926572Z",
     "end_time": "2023-11-15T10:31:03.529651Z"
    }
   }
  },
  {
   "cell_type": "code",
   "execution_count": 9,
   "outputs": [
    {
     "data": {
      "text/plain": "torch.Size([63015, 1, 105, 8])"
     },
     "execution_count": 9,
     "metadata": {},
     "output_type": "execute_result"
    }
   ],
   "source": [
    "float_tensor.shape\n"
   ],
   "metadata": {
    "collapsed": false,
    "ExecuteTime": {
     "start_time": "2023-11-15T10:31:03.529651Z",
     "end_time": "2023-11-15T10:31:03.577684Z"
    }
   }
  },
  {
   "cell_type": "code",
   "execution_count": 10,
   "outputs": [],
   "source": [
    "import torch\n",
    "train_data = []\n",
    "for i in range(len(float_tensor)):\n",
    "   train_data.append([float_tensor[i], EEG_word_level_labels[i]])\n",
    "\n",
    "\n",
    "\n",
    "trainloader = torch.utils.data.DataLoader(train_data, shuffle=True, batch_size=64)"
   ],
   "metadata": {
    "collapsed": false,
    "ExecuteTime": {
     "start_time": "2023-11-15T10:31:03.641789Z",
     "end_time": "2023-11-15T10:31:03.891114Z"
    }
   }
  },
  {
   "cell_type": "code",
   "execution_count": 10,
   "outputs": [],
   "source": [],
   "metadata": {
    "collapsed": false,
    "ExecuteTime": {
     "start_time": "2023-11-15T10:31:03.891114Z",
     "end_time": "2023-11-15T10:31:03.906908Z"
    }
   }
  },
  {
   "cell_type": "code",
   "execution_count": 11,
   "outputs": [
    {
     "name": "stdout",
     "output_type": "stream",
     "text": [
      "torch.Size([64, 1, 105, 8]) ('campaign', 'the', '16', 'returned', 'politics', 'left', '1591', 'singers.', 'cancer', 'backing', 'continued', 'Springwells', 'accession', 'not,', 'Pentagon', 'shirt', '(born', 'Lionel', 'for', 'stood', 'Whipple', 'Ford', 'church', 'Pennsylvania.', '1986', 'Finally,', 'C.H.', 'married', 'Friends.', 'publisher', 'a', 'President', 'de', 'Wagner,', 'free', 'and', 'interrupted', 'from', 'again', \"Charles's\", 'experiments', 'marriage', 'has', 'Republican', '14', 'Presidential', 'trial', 'his', 'whom', 'President', 'the', 'to', 'led', 'Her', 'trained', 'York', 'Captain', 'primary', 'pedophile,', 'his', 'degree', 'erroneously', 'cgs', 'an')\n"
     ]
    }
   ],
   "source": [
    "#sanity check:\n",
    "i1, l1 = next(iter(trainloader))\n",
    "print(i1.shape, l1)"
   ],
   "metadata": {
    "collapsed": false,
    "ExecuteTime": {
     "start_time": "2023-11-15T10:31:03.906908Z",
     "end_time": "2023-11-15T10:31:03.939406Z"
    }
   }
  },
  {
   "cell_type": "code",
   "execution_count": 12,
   "outputs": [],
   "source": [
    "z_size = 100\n",
    "image_size = (105, 8)\n",
    "n_filters = 32"
   ],
   "metadata": {
    "collapsed": false,
    "ExecuteTime": {
     "start_time": "2023-11-15T10:31:03.939406Z",
     "end_time": "2023-11-15T10:31:03.955710Z"
    }
   }
  },
  {
   "cell_type": "code",
   "execution_count": 13,
   "outputs": [],
   "source": [
    "## Loss function and optimizers:\n",
    "loss_fn = nn.BCELoss()"
   ],
   "metadata": {
    "collapsed": false,
    "ExecuteTime": {
     "start_time": "2023-11-15T10:31:03.959864Z",
     "end_time": "2023-11-15T10:31:04.010691Z"
    }
   }
  },
  {
   "cell_type": "code",
   "execution_count": 14,
   "outputs": [],
   "source": [
    "def create_noise(batch_size, z_size, mode_z):\n",
    "    if mode_z == 'uniform':\n",
    "        input_z = torch.rand(batch_size, z_size)*2 - 1\n",
    "    elif mode_z == 'normal':\n",
    "        input_z = torch.randn(batch_size, z_size)\n",
    "    return input_z\n",
    "\n",
    "mode_z = 'uniform'\n",
    "fixed_z = create_noise(batch_size, z_size, mode_z).to(device)\n",
    "\n",
    "def create_samples(g_model, input_z):\n",
    "    g_output = g_model(input_z)\n",
    "    images = torch.reshape(g_output, (batch_size, *image_size))\n",
    "    return (images+1)/2.0"
   ],
   "metadata": {
    "collapsed": false,
    "ExecuteTime": {
     "start_time": "2023-11-15T10:31:03.971037Z",
     "end_time": "2023-11-15T10:31:04.017557Z"
    }
   }
  },
  {
   "cell_type": "code",
   "execution_count": 15,
   "outputs": [],
   "source": [
    "noise = create_noise(64, 100, \"uniform\")"
   ],
   "metadata": {
    "collapsed": false,
    "ExecuteTime": {
     "start_time": "2023-11-15T10:31:03.994218Z",
     "end_time": "2023-11-15T10:31:04.017557Z"
    }
   }
  },
  {
   "cell_type": "code",
   "execution_count": 16,
   "outputs": [
    {
     "data": {
      "text/plain": "torch.Size([64, 100])"
     },
     "execution_count": 16,
     "metadata": {},
     "output_type": "execute_result"
    }
   ],
   "source": [
    "noise.shape"
   ],
   "metadata": {
    "collapsed": false,
    "ExecuteTime": {
     "start_time": "2023-11-15T10:31:04.010691Z",
     "end_time": "2023-11-15T10:31:04.069490Z"
    }
   }
  },
  {
   "cell_type": "code",
   "execution_count": 17,
   "outputs": [],
   "source": [
    "import torch.nn as nn\n",
    "\n",
    "class Generator(nn.Module):\n",
    "    def __init__(self, latent_dim=100):\n",
    "        super(Generator, self).__init__()\n",
    "        self.latent_dim = latent_dim\n",
    "\n",
    "        # Define your layers here\n",
    "        self.fc = nn.Linear(latent_dim, 1 * 105 * 8)\n",
    "        self.conv_transpose = nn.ConvTranspose2d(1, 1, kernel_size=3, stride=1, padding=1)\n",
    "\n",
    "    def forward(self, z):\n",
    "        # Reshape the input\n",
    "        x = self.fc(z)\n",
    "        x = x.view(-1, 1, 105, 8)\n",
    "\n",
    "        # Apply convolutional transpose layer\n",
    "        x = self.conv_transpose(x)\n",
    "\n",
    "        return x\n",
    "\n",
    "class DiscriminatorWGAN(nn.Module):\n",
    "    def __init__(self, n_filters):\n",
    "        super(DiscriminatorWGAN, self).__init__()\n",
    "        self.network = nn.Sequential(\n",
    "            nn.Conv2d(1, n_filters, kernel_size=4, stride=2, padding=1, bias=False),\n",
    "            nn.LeakyReLU(0.2),\n",
    "\n",
    "            nn.Conv2d(n_filters, n_filters*2, kernel_size=4, stride=2, padding=1, bias=False),\n",
    "            nn.InstanceNorm2d(n_filters * 2),\n",
    "            nn.LeakyReLU(0.2),\n",
    "\n",
    "            nn.Conv2d(n_filters*2, n_filters*4, kernel_size=3, stride=2, padding=1, bias=False),\n",
    "            nn.InstanceNorm2d(n_filters*4),\n",
    "            nn.LeakyReLU(0.2),\n",
    "\n",
    "            nn.Conv2d(n_filters*4, 1, kernel_size=3, stride=1, padding=1, bias=False),\n",
    "            nn.Sigmoid()\n",
    "        )\n",
    "\n",
    "    def forward(self, input):\n",
    "        output = self.network(input)\n",
    "        return output.view(-1, 1).squeeze(0)\n",
    "\n"
   ],
   "metadata": {
    "collapsed": false,
    "ExecuteTime": {
     "start_time": "2023-11-15T10:31:04.033753Z",
     "end_time": "2023-11-15T10:31:04.069490Z"
    }
   }
  },
  {
   "cell_type": "code",
   "execution_count": 18,
   "outputs": [],
   "source": [
    "gen_model = Generator().to(device)\n",
    "disc_model = DiscriminatorWGAN(n_filters).to(device)\n",
    "\n",
    "g_optimizer = torch.optim.Adam(gen_model.parameters(), 0.0002)\n",
    "d_optimizer = torch.optim.Adam(disc_model.parameters(), 0.0002)"
   ],
   "metadata": {
    "collapsed": false,
    "ExecuteTime": {
     "start_time": "2023-11-15T10:31:04.053735Z",
     "end_time": "2023-11-15T10:31:04.069490Z"
    }
   }
  },
  {
   "cell_type": "code",
   "execution_count": 19,
   "outputs": [],
   "source": [
    "from torch.autograd import grad as torch_grad\n",
    "\n",
    "\n",
    "def gradient_penalty(real_data, generated_data):\n",
    "    batch_size = real_data.size(0)\n",
    "\n",
    "    # Calculate interpolation\n",
    "    alpha = torch.rand(real_data.shape[0], 1, 1, 1, requires_grad=True, device=device)\n",
    "    print(\"Gen:\", generated_data.shape)\n",
    "    interpolated = alpha * real_data + (1 - alpha) * generated_data\n",
    "\n",
    "    # Calculate probability of interpolated examples\n",
    "    proba_interpolated = disc_model(interpolated)\n",
    "\n",
    "    # Calculate gradients of probabilities with respect to examples\n",
    "    gradients = torch_grad(outputs=proba_interpolated, inputs=interpolated,\n",
    "                           grad_outputs=torch.ones(proba_interpolated.size(), device=device),\n",
    "                           create_graph=True, retain_graph=True)[0]\n",
    "\n",
    "    gradients = gradients.view(batch_size, -1)\n",
    "    gradients_norm = gradients.norm(2, dim=1)\n",
    "    return lambda_gp * ((gradients_norm - 1)**2).mean()\n"
   ],
   "metadata": {
    "collapsed": false,
    "ExecuteTime": {
     "start_time": "2023-11-15T10:31:04.077933Z",
     "end_time": "2023-11-15T10:31:04.112492Z"
    }
   }
  },
  {
   "cell_type": "code",
   "execution_count": 20,
   "outputs": [],
   "source": [
    "## Train the discriminator\n",
    "def d_train_wgan(x):\n",
    "    disc_model.zero_grad()\n",
    "\n",
    "    batch_size = x.size(0)\n",
    "    x = x.to(device)\n",
    "\n",
    "    # Calculate probabilities on real and generated data\n",
    "    d_real = disc_model(x)\n",
    "    input_z = create_noise(batch_size, z_size, mode_z).to(device)\n",
    "    g_output = gen_model(input_z)\n",
    "    d_generated = disc_model(g_output)\n",
    "    d_loss = d_generated.mean() - d_real.mean() + gradient_penalty(x.data, g_output.data)\n",
    "\n",
    "    d_loss.backward()\n",
    "    d_optimizer.step()\n",
    "\n",
    "    return d_loss.data.item()"
   ],
   "metadata": {
    "collapsed": false,
    "ExecuteTime": {
     "start_time": "2023-11-15T10:31:04.096402Z",
     "end_time": "2023-11-15T10:31:04.112492Z"
    }
   }
  },
  {
   "cell_type": "code",
   "execution_count": 21,
   "outputs": [],
   "source": [
    "## Train the generator\n",
    "def g_train_wgan(x):\n",
    "    gen_model.zero_grad()\n",
    "\n",
    "    batch_size = x.size(0)\n",
    "    input_z = create_noise(batch_size, z_size, mode_z).to(device)\n",
    "\n",
    "    g_output = gen_model(input_z)\n",
    "\n",
    "    d_generated = disc_model(g_output)\n",
    "    g_loss = -d_generated.mean()\n",
    "\n",
    "    # gradient backprop & optimize ONLY G's parameters\n",
    "    g_loss.backward()\n",
    "    g_optimizer.step()\n",
    "\n",
    "    return g_loss.data.item()"
   ],
   "metadata": {
    "collapsed": false,
    "ExecuteTime": {
     "start_time": "2023-11-15T10:31:04.112492Z",
     "end_time": "2023-11-15T10:31:04.128858Z"
    }
   }
  },
  {
   "cell_type": "code",
   "execution_count": 23,
   "outputs": [
    {
     "name": "stdout",
     "output_type": "stream",
     "text": [
      "T: ('campaign', 'the', '16', 'returned', 'politics', 'left', '1591', 'singers.', 'cancer', 'backing', 'continued', 'Springwells', 'accession', 'not,', 'Pentagon', 'shirt', '(born', 'Lionel', 'for', 'stood', 'Whipple', 'Ford', 'church', 'Pennsylvania.', '1986', 'Finally,', 'C.H.', 'married', 'Friends.', 'publisher', 'a', 'President', 'de', 'Wagner,', 'free', 'and', 'interrupted', 'from', 'again', \"Charles's\", 'experiments', 'marriage', 'has', 'Republican', '14', 'Presidential', 'trial', 'his', 'whom', 'President', 'the', 'to', 'led', 'Her', 'trained', 'York', 'Captain', 'primary', 'pedophile,', 'his', 'degree', 'erroneously', 'cgs', 'an')\n",
      "Gen: torch.Size([64, 1, 105, 8])\n",
      "Gen: torch.Size([64, 1, 105, 8])\n",
      "Gen: torch.Size([64, 1, 105, 8])\n",
      "Gen: torch.Size([64, 1, 105, 8])\n",
      "Gen: torch.Size([64, 1, 105, 8])\n",
      "T: ('the', 'Development', 'the', 'particularly', 'Louisiana', 'first', 'American', 'in', 'Cat', 'House', 'Shortly', 'his', 'Whiteman.', \"Duffy's\", 'success,', 'great', 'home', '1935,', 'Reagan,', 'They', 'time', 'conversation', 'an', 'following', '1874,', 'version', 'Days', 'millionaire', 'Lisa,', 'through', 'Franklin,', 'USA)', 'playoff', '1961,', 'now-defunct', \"CBS's\", 'reporter', 'his', 'Cross:', 'later', 'of', 'died', 'responsibility', 'engaged', 'Shriver,', 'the', 'funds', 'Massachusetts.', 'Thames', 'is', 'the', 'the', 'on', 'in', 'he', 'to', 'born', 'Struensee', 'co-host', 'Winton,', 'ostensibly', 'Ford', 'Grammar:', 'band')\n",
      "Gen: torch.Size([64, 1, 105, 8])\n",
      "Gen: torch.Size([64, 1, 105, 8])\n",
      "Gen: torch.Size([64, 1, 105, 8])\n",
      "Gen: torch.Size([64, 1, 105, 8])\n",
      "Gen: torch.Size([64, 1, 105, 8])\n",
      "T: ('in', 'and', 'in', 'candles,', 'Queens', 'Husbands', 'is', 'were', 'to', 'Law', 'He', 'shifting', 'which', 'Courant.', 'insanely', 'enough', 'young,', 'authors.', 'play-by-play', 'paternal', 'first', 'favorite', 'Gerard.', 'natives', 'was', 'Magic', 'before', 'his', 'ticker', 'W.', 'Ford', 'decision.', 'She', 'have', 'goals', 'would', 'Partisi', 'which', 'be', 'Bouvier', 'and', 'George', 'self-mutilation', 'On', 'Tipperary,', 'Democrat,', 'winning', 'food', '1980', 'Hollywood', 'around', 'of', 'not', 'for', 'Records.', 'Jr.,', 'Struensee', 'drinking', 'engineers', 'of', 'musicians', '1946', 'to', 'his')\n",
      "Gen: torch.Size([64, 1, 105, 8])\n",
      "Gen: torch.Size([64, 1, 105, 8])\n",
      "Gen: torch.Size([64, 1, 105, 8])\n",
      "Gen: torch.Size([64, 1, 105, 8])\n",
      "Gen: torch.Size([64, 1, 105, 8])\n",
      "T: ('Franklin', 'nomination', 'claimed', 'in', 'this', 'President', 'Portugal', 'the', 'reporter', 'George', 'test-drove', '1958,', '2002.', '1950', 'By', 'she', 'this', 'January', '(shortly', 'Party', 'of', 'Dole', 'left', 'After', 'Clarence', 'miller', 'English', 'maintained', 'that', 'Deep', 'SpongeBob', 'again,', 'of', 'George', \"'Silence\", 'President', 'was', 'of', 'movie', \"bachelor's\", 'Place', 'prize', 'French', 'age', '2002.', 'to', 'Louisiana', 'Pentagon', 'shops', 'the', 'the', 'arrest', 'blue', 'assumed', 'Dolores', 'contracting', 'Grant', '1936', 'President', '1823,', 'centers', 'representative', 'prime', 'was')\n",
      "Gen: torch.Size([64, 1, 105, 8])\n",
      "Gen: torch.Size([64, 1, 105, 8])\n",
      "Gen: torch.Size([64, 1, 105, 8])\n",
      "Gen: torch.Size([64, 1, 105, 8])\n",
      "Gen: torch.Size([64, 1, 105, 8])\n",
      "T: ('Shrike.', 'life,', 'Quebec', 'Louise', 'and', 'president', 'Bull', 'on', 'Hodgkin', 'crowned,', 'in', 'appointed', 'most', 'film', 'composer.', 'Pittsburgh', 'Army', 'difficult', 'studying', 'Barrymore', 'William', 'Tangier', 'the', 'member', 'and', 'take', 'grandfather,', 'away', 'not', 'moved', 'was', 'company', 'also', 'spot.', 'called', 'the', 'the', 'Henry', 'own', 'correspondent', 'Maysville,', 'Bush,', 'retired', 'Dix', 'between', 'had', 'he', 'soldier', 'very', 'first', 'New', 'then', '1705.', 'Victorian', 'further', 'in', 'trade', 'a', 'combat', 'the', 'after', 'University', 'nearby', 'Leland')\n",
      "Gen: torch.Size([64, 1, 105, 8])\n",
      "Gen: torch.Size([64, 1, 105, 8])\n",
      "Gen: torch.Size([64, 1, 105, 8])\n",
      "Gen: torch.Size([64, 1, 105, 8])\n",
      "Gen: torch.Size([64, 1, 105, 8])\n",
      "T: ('First', 'career', 'that', 'Final', 'initially', 'the', 'descended', 'a', 'be', 'paternal', 'husband,', 'injuries.', '16', 'leader', 'against', 'M.', 'Patti', 'philanthropic', 'next', 'company', 'book', 'House', 'and', 'George', 'on', 'his', 'by', 'Aristotle', 'icon', 'reputation', 'brother', 'later', 'to', 'after', 'regime.', 'Regan.', 'remains', 'Crosby,', 'wire', 'high', 'País', 'remarry.', 'three', 'history.', 'announcer', 'throne', 'into', 'served', 'his', 'a', 'Tulane', 'Jose', 'in', 'decided', '2004.', '30', 'some', 'Selâmet', 'job', 'towards', 'Bull', 'one', 'to', 'a')\n",
      "Gen: torch.Size([64, 1, 105, 8])\n",
      "Gen: torch.Size([64, 1, 105, 8])\n",
      "Gen: torch.Size([64, 1, 105, 8])\n",
      "Gen: torch.Size([64, 1, 105, 8])\n",
      "Gen: torch.Size([64, 1, 105, 8])\n",
      "T: ('to', 'arch', 'Grant,', 'horseman.', 'Congress.', 'mule', 'Vera-Ellen,', 'were', 'race', 'first', 'Symptoms', 'Alexander', '70.', '1955,', 'Joseph', 'George', 'War,', 'Bush', 'Quebec', 'company', 'family', 'praised', 'appearance', 'formed', 'brothers,', 'Kennedy', 'First', 'insiders', 'in', 'citizenship.', 'and', 'foreign', 'Ferrer,', 'Tarzana,', '49', 'him.', 'charge', 'ashes', 'behaviour', 'directed', '21,', 'nephew', 'had', 'and', 'at', 'Bush', 'to', 'son),', 'After', 'Party.', 'Giacomo', 'years;', 'may', 'but', 'was', 'trade', 'and', 'French', 'one', 'Young', '2002.', 'restoration', 'game', 'end')\n",
      "Gen: torch.Size([64, 1, 105, 8])\n",
      "Gen: torch.Size([64, 1, 105, 8])\n",
      "Gen: torch.Size([64, 1, 105, 8])\n",
      "Gen: torch.Size([64, 1, 105, 8])\n",
      "Gen: torch.Size([64, 1, 105, 8])\n",
      "T: ('outbreak', 'and', 'in', 'Television', 'South', 'Massapequa,', 'parents', 'towards', 'late', 'Bush.', 'Carnaval.', 'for', 'he', 'an', 'an', 'such', 'at', 'generations', 'presidency', 'at', 'other', 'Broncos', 'a', 'for', 'trade', 'under', 'his', 'they', 'year,', 'arranged', 'continued', 'became', 'years', '1893,', 'he', 'confirmed', 'snarky', 'Massapequa,', 'an', 'Navy', 'had', '5,', 'was', 'City', 'notable', '1940s,', 'served', 'restored.', 'was', 'decided', 'and', 'was', 'also', 'was', '1860s.', 'last', 'industry,', 'children,', 'channels,', 'of', 'times', 'the', 'the', 'natives')\n",
      "Gen: torch.Size([64, 1, 105, 8])\n",
      "Gen: torch.Size([64, 1, 105, 8])\n",
      "Gen: torch.Size([64, 1, 105, 8])\n",
      "Gen: torch.Size([64, 1, 105, 8])\n",
      "Gen: torch.Size([64, 1, 105, 8])\n",
      "T: ('recorded', 'in', 'Captain', 'abusive,', 'engines.', 'the', '86', 'end', 'members', 'U.S.', 'particularly', 'World', 'is', 'She', '1945,', 'formed', 'campaign', 'Norway,', 'Denmark,', '1819', 'contract,', 'during', 'province', 'commissioned,', 'died', 'bandleader,', 'protested', 'Gabriel', 'on', 'Clooney', 'engineer', 'who', 'of', 'SuperDraft,', 'of', 'as', 'from', 'opted', 'Trophy', 'Waspy', 'of', 'to', \"D'Artagnan.\", 'signed', 'a', 'worked', 'his', 'Mickey', 'father,', 'the', 'decided', 'the', 'With', 'to', 'of', 'a', 'an', 'President', 'Franklins', 'the', 'Thirteen', 'Flor', 'acknowledging', 'advocate,')\n",
      "Gen: torch.Size([64, 1, 105, 8])\n"
     ]
    },
    {
     "ename": "KeyboardInterrupt",
     "evalue": "",
     "output_type": "error",
     "traceback": [
      "\u001B[1;31m---------------------------------------------------------------------------\u001B[0m",
      "\u001B[1;31mKeyboardInterrupt\u001B[0m                         Traceback (most recent call last)",
      "Cell \u001B[1;32mIn[23], line 13\u001B[0m\n\u001B[0;32m     11\u001B[0m \u001B[38;5;28mprint\u001B[39m(\u001B[38;5;124m\"\u001B[39m\u001B[38;5;124mT:\u001B[39m\u001B[38;5;124m\"\u001B[39m, t)\n\u001B[0;32m     12\u001B[0m \u001B[38;5;28;01mfor\u001B[39;00m _ \u001B[38;5;129;01min\u001B[39;00m \u001B[38;5;28mrange\u001B[39m(critic_iterations):\n\u001B[1;32m---> 13\u001B[0m     d_loss \u001B[38;5;241m=\u001B[39m \u001B[43md_train_wgan\u001B[49m\u001B[43m(\u001B[49m\u001B[43mx\u001B[49m\u001B[43m)\u001B[49m\n\u001B[0;32m     14\u001B[0m d_losses\u001B[38;5;241m.\u001B[39mappend(d_loss)\n\u001B[0;32m     15\u001B[0m g_losses\u001B[38;5;241m.\u001B[39mappend(g_train_wgan(x))\n",
      "Cell \u001B[1;32mIn[20], line 13\u001B[0m, in \u001B[0;36md_train_wgan\u001B[1;34m(x)\u001B[0m\n\u001B[0;32m     11\u001B[0m g_output \u001B[38;5;241m=\u001B[39m gen_model(input_z)\n\u001B[0;32m     12\u001B[0m d_generated \u001B[38;5;241m=\u001B[39m disc_model(g_output)\n\u001B[1;32m---> 13\u001B[0m d_loss \u001B[38;5;241m=\u001B[39m d_generated\u001B[38;5;241m.\u001B[39mmean() \u001B[38;5;241m-\u001B[39m d_real\u001B[38;5;241m.\u001B[39mmean() \u001B[38;5;241m+\u001B[39m \u001B[43mgradient_penalty\u001B[49m\u001B[43m(\u001B[49m\u001B[43mx\u001B[49m\u001B[38;5;241;43m.\u001B[39;49m\u001B[43mdata\u001B[49m\u001B[43m,\u001B[49m\u001B[43m \u001B[49m\u001B[43mg_output\u001B[49m\u001B[38;5;241;43m.\u001B[39;49m\u001B[43mdata\u001B[49m\u001B[43m)\u001B[49m\n\u001B[0;32m     15\u001B[0m d_loss\u001B[38;5;241m.\u001B[39mbackward()\n\u001B[0;32m     16\u001B[0m d_optimizer\u001B[38;5;241m.\u001B[39mstep()\n",
      "Cell \u001B[1;32mIn[19], line 13\u001B[0m, in \u001B[0;36mgradient_penalty\u001B[1;34m(real_data, generated_data)\u001B[0m\n\u001B[0;32m     10\u001B[0m interpolated \u001B[38;5;241m=\u001B[39m alpha \u001B[38;5;241m*\u001B[39m real_data \u001B[38;5;241m+\u001B[39m (\u001B[38;5;241m1\u001B[39m \u001B[38;5;241m-\u001B[39m alpha) \u001B[38;5;241m*\u001B[39m generated_data\n\u001B[0;32m     12\u001B[0m \u001B[38;5;66;03m# Calculate probability of interpolated examples\u001B[39;00m\n\u001B[1;32m---> 13\u001B[0m proba_interpolated \u001B[38;5;241m=\u001B[39m \u001B[43mdisc_model\u001B[49m\u001B[43m(\u001B[49m\u001B[43minterpolated\u001B[49m\u001B[43m)\u001B[49m\n\u001B[0;32m     15\u001B[0m \u001B[38;5;66;03m# Calculate gradients of probabilities with respect to examples\u001B[39;00m\n\u001B[0;32m     16\u001B[0m gradients \u001B[38;5;241m=\u001B[39m torch_grad(outputs\u001B[38;5;241m=\u001B[39mproba_interpolated, inputs\u001B[38;5;241m=\u001B[39minterpolated,\n\u001B[0;32m     17\u001B[0m                        grad_outputs\u001B[38;5;241m=\u001B[39mtorch\u001B[38;5;241m.\u001B[39mones(proba_interpolated\u001B[38;5;241m.\u001B[39msize(), device\u001B[38;5;241m=\u001B[39mdevice),\n\u001B[0;32m     18\u001B[0m                        create_graph\u001B[38;5;241m=\u001B[39m\u001B[38;5;28;01mTrue\u001B[39;00m, retain_graph\u001B[38;5;241m=\u001B[39m\u001B[38;5;28;01mTrue\u001B[39;00m)[\u001B[38;5;241m0\u001B[39m]\n",
      "File \u001B[1;32m~\\Anaconda3\\lib\\site-packages\\torch\\nn\\modules\\module.py:1501\u001B[0m, in \u001B[0;36mModule._call_impl\u001B[1;34m(self, *args, **kwargs)\u001B[0m\n\u001B[0;32m   1496\u001B[0m \u001B[38;5;66;03m# If we don't have any hooks, we want to skip the rest of the logic in\u001B[39;00m\n\u001B[0;32m   1497\u001B[0m \u001B[38;5;66;03m# this function, and just call forward.\u001B[39;00m\n\u001B[0;32m   1498\u001B[0m \u001B[38;5;28;01mif\u001B[39;00m \u001B[38;5;129;01mnot\u001B[39;00m (\u001B[38;5;28mself\u001B[39m\u001B[38;5;241m.\u001B[39m_backward_hooks \u001B[38;5;129;01mor\u001B[39;00m \u001B[38;5;28mself\u001B[39m\u001B[38;5;241m.\u001B[39m_backward_pre_hooks \u001B[38;5;129;01mor\u001B[39;00m \u001B[38;5;28mself\u001B[39m\u001B[38;5;241m.\u001B[39m_forward_hooks \u001B[38;5;129;01mor\u001B[39;00m \u001B[38;5;28mself\u001B[39m\u001B[38;5;241m.\u001B[39m_forward_pre_hooks\n\u001B[0;32m   1499\u001B[0m         \u001B[38;5;129;01mor\u001B[39;00m _global_backward_pre_hooks \u001B[38;5;129;01mor\u001B[39;00m _global_backward_hooks\n\u001B[0;32m   1500\u001B[0m         \u001B[38;5;129;01mor\u001B[39;00m _global_forward_hooks \u001B[38;5;129;01mor\u001B[39;00m _global_forward_pre_hooks):\n\u001B[1;32m-> 1501\u001B[0m     \u001B[38;5;28;01mreturn\u001B[39;00m forward_call(\u001B[38;5;241m*\u001B[39margs, \u001B[38;5;241m*\u001B[39m\u001B[38;5;241m*\u001B[39mkwargs)\n\u001B[0;32m   1502\u001B[0m \u001B[38;5;66;03m# Do not call functions when jit is used\u001B[39;00m\n\u001B[0;32m   1503\u001B[0m full_backward_hooks, non_full_backward_hooks \u001B[38;5;241m=\u001B[39m [], []\n",
      "Cell \u001B[1;32mIn[17], line 44\u001B[0m, in \u001B[0;36mDiscriminatorWGAN.forward\u001B[1;34m(self, input)\u001B[0m\n\u001B[0;32m     43\u001B[0m \u001B[38;5;28;01mdef\u001B[39;00m \u001B[38;5;21mforward\u001B[39m(\u001B[38;5;28mself\u001B[39m, \u001B[38;5;28minput\u001B[39m):\n\u001B[1;32m---> 44\u001B[0m     output \u001B[38;5;241m=\u001B[39m \u001B[38;5;28;43mself\u001B[39;49m\u001B[38;5;241;43m.\u001B[39;49m\u001B[43mnetwork\u001B[49m\u001B[43m(\u001B[49m\u001B[38;5;28;43minput\u001B[39;49m\u001B[43m)\u001B[49m\n\u001B[0;32m     45\u001B[0m     \u001B[38;5;28;01mreturn\u001B[39;00m output\u001B[38;5;241m.\u001B[39mview(\u001B[38;5;241m-\u001B[39m\u001B[38;5;241m1\u001B[39m, \u001B[38;5;241m1\u001B[39m)\u001B[38;5;241m.\u001B[39msqueeze(\u001B[38;5;241m0\u001B[39m)\n",
      "File \u001B[1;32m~\\Anaconda3\\lib\\site-packages\\torch\\nn\\modules\\module.py:1501\u001B[0m, in \u001B[0;36mModule._call_impl\u001B[1;34m(self, *args, **kwargs)\u001B[0m\n\u001B[0;32m   1496\u001B[0m \u001B[38;5;66;03m# If we don't have any hooks, we want to skip the rest of the logic in\u001B[39;00m\n\u001B[0;32m   1497\u001B[0m \u001B[38;5;66;03m# this function, and just call forward.\u001B[39;00m\n\u001B[0;32m   1498\u001B[0m \u001B[38;5;28;01mif\u001B[39;00m \u001B[38;5;129;01mnot\u001B[39;00m (\u001B[38;5;28mself\u001B[39m\u001B[38;5;241m.\u001B[39m_backward_hooks \u001B[38;5;129;01mor\u001B[39;00m \u001B[38;5;28mself\u001B[39m\u001B[38;5;241m.\u001B[39m_backward_pre_hooks \u001B[38;5;129;01mor\u001B[39;00m \u001B[38;5;28mself\u001B[39m\u001B[38;5;241m.\u001B[39m_forward_hooks \u001B[38;5;129;01mor\u001B[39;00m \u001B[38;5;28mself\u001B[39m\u001B[38;5;241m.\u001B[39m_forward_pre_hooks\n\u001B[0;32m   1499\u001B[0m         \u001B[38;5;129;01mor\u001B[39;00m _global_backward_pre_hooks \u001B[38;5;129;01mor\u001B[39;00m _global_backward_hooks\n\u001B[0;32m   1500\u001B[0m         \u001B[38;5;129;01mor\u001B[39;00m _global_forward_hooks \u001B[38;5;129;01mor\u001B[39;00m _global_forward_pre_hooks):\n\u001B[1;32m-> 1501\u001B[0m     \u001B[38;5;28;01mreturn\u001B[39;00m forward_call(\u001B[38;5;241m*\u001B[39margs, \u001B[38;5;241m*\u001B[39m\u001B[38;5;241m*\u001B[39mkwargs)\n\u001B[0;32m   1502\u001B[0m \u001B[38;5;66;03m# Do not call functions when jit is used\u001B[39;00m\n\u001B[0;32m   1503\u001B[0m full_backward_hooks, non_full_backward_hooks \u001B[38;5;241m=\u001B[39m [], []\n",
      "File \u001B[1;32m~\\Anaconda3\\lib\\site-packages\\torch\\nn\\modules\\container.py:217\u001B[0m, in \u001B[0;36mSequential.forward\u001B[1;34m(self, input)\u001B[0m\n\u001B[0;32m    215\u001B[0m \u001B[38;5;28;01mdef\u001B[39;00m \u001B[38;5;21mforward\u001B[39m(\u001B[38;5;28mself\u001B[39m, \u001B[38;5;28minput\u001B[39m):\n\u001B[0;32m    216\u001B[0m     \u001B[38;5;28;01mfor\u001B[39;00m module \u001B[38;5;129;01min\u001B[39;00m \u001B[38;5;28mself\u001B[39m:\n\u001B[1;32m--> 217\u001B[0m         \u001B[38;5;28minput\u001B[39m \u001B[38;5;241m=\u001B[39m \u001B[43mmodule\u001B[49m\u001B[43m(\u001B[49m\u001B[38;5;28;43minput\u001B[39;49m\u001B[43m)\u001B[49m\n\u001B[0;32m    218\u001B[0m     \u001B[38;5;28;01mreturn\u001B[39;00m \u001B[38;5;28minput\u001B[39m\n",
      "File \u001B[1;32m~\\Anaconda3\\lib\\site-packages\\torch\\nn\\modules\\module.py:1501\u001B[0m, in \u001B[0;36mModule._call_impl\u001B[1;34m(self, *args, **kwargs)\u001B[0m\n\u001B[0;32m   1496\u001B[0m \u001B[38;5;66;03m# If we don't have any hooks, we want to skip the rest of the logic in\u001B[39;00m\n\u001B[0;32m   1497\u001B[0m \u001B[38;5;66;03m# this function, and just call forward.\u001B[39;00m\n\u001B[0;32m   1498\u001B[0m \u001B[38;5;28;01mif\u001B[39;00m \u001B[38;5;129;01mnot\u001B[39;00m (\u001B[38;5;28mself\u001B[39m\u001B[38;5;241m.\u001B[39m_backward_hooks \u001B[38;5;129;01mor\u001B[39;00m \u001B[38;5;28mself\u001B[39m\u001B[38;5;241m.\u001B[39m_backward_pre_hooks \u001B[38;5;129;01mor\u001B[39;00m \u001B[38;5;28mself\u001B[39m\u001B[38;5;241m.\u001B[39m_forward_hooks \u001B[38;5;129;01mor\u001B[39;00m \u001B[38;5;28mself\u001B[39m\u001B[38;5;241m.\u001B[39m_forward_pre_hooks\n\u001B[0;32m   1499\u001B[0m         \u001B[38;5;129;01mor\u001B[39;00m _global_backward_pre_hooks \u001B[38;5;129;01mor\u001B[39;00m _global_backward_hooks\n\u001B[0;32m   1500\u001B[0m         \u001B[38;5;129;01mor\u001B[39;00m _global_forward_hooks \u001B[38;5;129;01mor\u001B[39;00m _global_forward_pre_hooks):\n\u001B[1;32m-> 1501\u001B[0m     \u001B[38;5;28;01mreturn\u001B[39;00m forward_call(\u001B[38;5;241m*\u001B[39margs, \u001B[38;5;241m*\u001B[39m\u001B[38;5;241m*\u001B[39mkwargs)\n\u001B[0;32m   1502\u001B[0m \u001B[38;5;66;03m# Do not call functions when jit is used\u001B[39;00m\n\u001B[0;32m   1503\u001B[0m full_backward_hooks, non_full_backward_hooks \u001B[38;5;241m=\u001B[39m [], []\n",
      "File \u001B[1;32m~\\Anaconda3\\lib\\site-packages\\torch\\nn\\modules\\instancenorm.py:74\u001B[0m, in \u001B[0;36m_InstanceNorm.forward\u001B[1;34m(self, input)\u001B[0m\n\u001B[0;32m     71\u001B[0m \u001B[38;5;28;01mif\u001B[39;00m \u001B[38;5;28minput\u001B[39m\u001B[38;5;241m.\u001B[39mdim() \u001B[38;5;241m==\u001B[39m \u001B[38;5;28mself\u001B[39m\u001B[38;5;241m.\u001B[39m_get_no_batch_dim():\n\u001B[0;32m     72\u001B[0m     \u001B[38;5;28;01mreturn\u001B[39;00m \u001B[38;5;28mself\u001B[39m\u001B[38;5;241m.\u001B[39m_handle_no_batch_input(\u001B[38;5;28minput\u001B[39m)\n\u001B[1;32m---> 74\u001B[0m \u001B[38;5;28;01mreturn\u001B[39;00m \u001B[38;5;28;43mself\u001B[39;49m\u001B[38;5;241;43m.\u001B[39;49m\u001B[43m_apply_instance_norm\u001B[49m\u001B[43m(\u001B[49m\u001B[38;5;28;43minput\u001B[39;49m\u001B[43m)\u001B[49m\n",
      "File \u001B[1;32m~\\Anaconda3\\lib\\site-packages\\torch\\nn\\modules\\instancenorm.py:34\u001B[0m, in \u001B[0;36m_InstanceNorm._apply_instance_norm\u001B[1;34m(self, input)\u001B[0m\n\u001B[0;32m     33\u001B[0m \u001B[38;5;28;01mdef\u001B[39;00m \u001B[38;5;21m_apply_instance_norm\u001B[39m(\u001B[38;5;28mself\u001B[39m, \u001B[38;5;28minput\u001B[39m):\n\u001B[1;32m---> 34\u001B[0m     \u001B[38;5;28;01mreturn\u001B[39;00m \u001B[43mF\u001B[49m\u001B[38;5;241;43m.\u001B[39;49m\u001B[43minstance_norm\u001B[49m\u001B[43m(\u001B[49m\n\u001B[0;32m     35\u001B[0m \u001B[43m        \u001B[49m\u001B[38;5;28;43minput\u001B[39;49m\u001B[43m,\u001B[49m\u001B[43m \u001B[49m\u001B[38;5;28;43mself\u001B[39;49m\u001B[38;5;241;43m.\u001B[39;49m\u001B[43mrunning_mean\u001B[49m\u001B[43m,\u001B[49m\u001B[43m \u001B[49m\u001B[38;5;28;43mself\u001B[39;49m\u001B[38;5;241;43m.\u001B[39;49m\u001B[43mrunning_var\u001B[49m\u001B[43m,\u001B[49m\u001B[43m \u001B[49m\u001B[38;5;28;43mself\u001B[39;49m\u001B[38;5;241;43m.\u001B[39;49m\u001B[43mweight\u001B[49m\u001B[43m,\u001B[49m\u001B[43m \u001B[49m\u001B[38;5;28;43mself\u001B[39;49m\u001B[38;5;241;43m.\u001B[39;49m\u001B[43mbias\u001B[49m\u001B[43m,\u001B[49m\n\u001B[0;32m     36\u001B[0m \u001B[43m        \u001B[49m\u001B[38;5;28;43mself\u001B[39;49m\u001B[38;5;241;43m.\u001B[39;49m\u001B[43mtraining\u001B[49m\u001B[43m \u001B[49m\u001B[38;5;129;43;01mor\u001B[39;49;00m\u001B[43m \u001B[49m\u001B[38;5;129;43;01mnot\u001B[39;49;00m\u001B[43m \u001B[49m\u001B[38;5;28;43mself\u001B[39;49m\u001B[38;5;241;43m.\u001B[39;49m\u001B[43mtrack_running_stats\u001B[49m\u001B[43m,\u001B[49m\u001B[43m \u001B[49m\u001B[38;5;28;43mself\u001B[39;49m\u001B[38;5;241;43m.\u001B[39;49m\u001B[43mmomentum\u001B[49m\u001B[43m,\u001B[49m\u001B[43m \u001B[49m\u001B[38;5;28;43mself\u001B[39;49m\u001B[38;5;241;43m.\u001B[39;49m\u001B[43meps\u001B[49m\u001B[43m)\u001B[49m\n",
      "File \u001B[1;32m~\\Anaconda3\\lib\\site-packages\\torch\\nn\\functional.py:2495\u001B[0m, in \u001B[0;36minstance_norm\u001B[1;34m(input, running_mean, running_var, weight, bias, use_input_stats, momentum, eps)\u001B[0m\n\u001B[0;32m   2493\u001B[0m \u001B[38;5;28;01mif\u001B[39;00m use_input_stats:\n\u001B[0;32m   2494\u001B[0m     _verify_spatial_size(\u001B[38;5;28minput\u001B[39m\u001B[38;5;241m.\u001B[39msize())\n\u001B[1;32m-> 2495\u001B[0m \u001B[38;5;28;01mreturn\u001B[39;00m \u001B[43mtorch\u001B[49m\u001B[38;5;241;43m.\u001B[39;49m\u001B[43minstance_norm\u001B[49m\u001B[43m(\u001B[49m\n\u001B[0;32m   2496\u001B[0m \u001B[43m    \u001B[49m\u001B[38;5;28;43minput\u001B[39;49m\u001B[43m,\u001B[49m\u001B[43m \u001B[49m\u001B[43mweight\u001B[49m\u001B[43m,\u001B[49m\u001B[43m \u001B[49m\u001B[43mbias\u001B[49m\u001B[43m,\u001B[49m\u001B[43m \u001B[49m\u001B[43mrunning_mean\u001B[49m\u001B[43m,\u001B[49m\u001B[43m \u001B[49m\u001B[43mrunning_var\u001B[49m\u001B[43m,\u001B[49m\u001B[43m \u001B[49m\u001B[43muse_input_stats\u001B[49m\u001B[43m,\u001B[49m\u001B[43m \u001B[49m\u001B[43mmomentum\u001B[49m\u001B[43m,\u001B[49m\u001B[43m \u001B[49m\u001B[43meps\u001B[49m\u001B[43m,\u001B[49m\u001B[43m \u001B[49m\u001B[43mtorch\u001B[49m\u001B[38;5;241;43m.\u001B[39;49m\u001B[43mbackends\u001B[49m\u001B[38;5;241;43m.\u001B[39;49m\u001B[43mcudnn\u001B[49m\u001B[38;5;241;43m.\u001B[39;49m\u001B[43menabled\u001B[49m\n\u001B[0;32m   2497\u001B[0m \u001B[43m\u001B[49m\u001B[43m)\u001B[49m\n",
      "\u001B[1;31mKeyboardInterrupt\u001B[0m: "
     ]
    }
   ],
   "source": [
    "epoch_samples_wgan = []\n",
    "lambda_gp = 10.0\n",
    "num_epochs = 100\n",
    "torch.manual_seed(1)\n",
    "critic_iterations = 5\n",
    "\n",
    "for epoch in range(1, num_epochs+1):\n",
    "    gen_model.train()\n",
    "    d_losses, g_losses = [], []\n",
    "    for i, (x, t) in enumerate(trainloader):\n",
    "        print(\"T:\", t)\n",
    "        for _ in range(critic_iterations):\n",
    "            d_loss = d_train_wgan(x)\n",
    "        d_losses.append(d_loss)\n",
    "        g_losses.append(g_train_wgan(x))\n",
    "\n",
    "    print(f'Epoch {epoch:03d} | D Loss >>'\n",
    "          f' {torch.FloatTensor(d_losses).mean():.4f}')\n",
    "    gen_model.eval()\n",
    "    epoch_samples_wgan.append(\n",
    "        create_samples(gen_model, fixed_z).detach().cpu().numpy())"
   ],
   "metadata": {
    "collapsed": false
   }
  },
  {
   "cell_type": "code",
   "execution_count": null,
   "outputs": [],
   "source": [],
   "metadata": {
    "collapsed": false,
    "ExecuteTime": {
     "start_time": "2023-11-14T15:55:22.137409Z",
     "end_time": "2023-11-14T15:55:22.151314Z"
    }
   }
  },
  {
   "cell_type": "code",
   "execution_count": null,
   "outputs": [],
   "source": [],
   "metadata": {
    "collapsed": false
   }
  }
 ],
 "metadata": {
  "kernelspec": {
   "display_name": "Python 3",
   "language": "python",
   "name": "python3"
  },
  "language_info": {
   "codemirror_mode": {
    "name": "ipython",
    "version": 2
   },
   "file_extension": ".py",
   "mimetype": "text/x-python",
   "name": "python",
   "nbconvert_exporter": "python",
   "pygments_lexer": "ipython2",
   "version": "2.7.6"
  }
 },
 "nbformat": 4,
 "nbformat_minor": 0
}
