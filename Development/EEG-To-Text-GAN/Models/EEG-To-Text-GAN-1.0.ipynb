{
 "cells": [
  {
   "cell_type": "code",
   "execution_count": 3,
   "metadata": {
    "collapsed": true,
    "ExecuteTime": {
     "start_time": "2023-11-14T17:08:30.082535Z",
     "end_time": "2023-11-14T17:08:30.105897Z"
    }
   },
   "outputs": [],
   "source": [
    "import sys\n",
    "sys.path.insert(0, '..')"
   ]
  },
  {
   "cell_type": "code",
   "execution_count": 4,
   "outputs": [
    {
     "name": "stdout",
     "output_type": "stream",
     "text": [
      "2.0.1\n",
      "GPU Available: False\n"
     ]
    }
   ],
   "source": [
    "import torch\n",
    "\n",
    "\n",
    "print(torch.__version__)\n",
    "print(\"GPU Available:\", torch.cuda.is_available())\n",
    "\n",
    "if torch.cuda.is_available():\n",
    "    device = torch.device(\"cuda:0\")\n",
    "else:\n",
    "    device = \"cpu\""
   ],
   "metadata": {
    "collapsed": false,
    "ExecuteTime": {
     "start_time": "2023-11-14T17:08:30.268506Z",
     "end_time": "2023-11-14T17:08:30.281422Z"
    }
   }
  },
  {
   "cell_type": "code",
   "execution_count": 5,
   "outputs": [],
   "source": [
    "import torch.nn as nn\n",
    "import numpy as np\n",
    "\n",
    "import matplotlib.pyplot as plt\n",
    "%matplotlib inline"
   ],
   "metadata": {
    "collapsed": false,
    "ExecuteTime": {
     "start_time": "2023-11-14T17:08:30.467257Z",
     "end_time": "2023-11-14T17:08:31.021108Z"
    }
   }
  },
  {
   "cell_type": "code",
   "execution_count": 6,
   "outputs": [],
   "source": [
    "batch_size = 64\n",
    "\n",
    "torch.manual_seed(1)\n",
    "np.random.seed(1)"
   ],
   "metadata": {
    "collapsed": false,
    "ExecuteTime": {
     "start_time": "2023-11-14T17:08:31.025127Z",
     "end_time": "2023-11-14T17:08:31.037111Z"
    }
   }
  },
  {
   "cell_type": "code",
   "execution_count": 7,
   "outputs": [],
   "source": [
    "import pickle\n",
    "\n",
    "# To load the lists from the file:\n",
    "with open(r'C:\\Users\\gxb18167\\PycharmProjects\\SIGIR_EEG_GAN\\Development\\EEG-To-Text-GAN\\Data\\EEG_Text_Pairs.pkl', 'rb') as file:\n",
    "    EEG_word_level_embeddings = pickle.load(file)\n",
    "    EEG_word_level_labels = pickle.load(file)"
   ],
   "metadata": {
    "collapsed": false,
    "ExecuteTime": {
     "start_time": "2023-11-14T17:08:31.040776Z",
     "end_time": "2023-11-14T17:08:31.911655Z"
    }
   }
  },
  {
   "cell_type": "code",
   "execution_count": 7,
   "outputs": [],
   "source": [],
   "metadata": {
    "collapsed": false,
    "ExecuteTime": {
     "start_time": "2023-11-14T17:08:32.006616Z",
     "end_time": "2023-11-14T17:08:32.034220Z"
    }
   }
  },
  {
   "cell_type": "code",
   "execution_count": 8,
   "outputs": [
    {
     "name": "stderr",
     "output_type": "stream",
     "text": [
      "C:\\Users\\gxb18167\\AppData\\Local\\Temp\\ipykernel_21112\\2008157655.py:1: UserWarning: Creating a tensor from a list of numpy.ndarrays is extremely slow. Please consider converting the list to a single numpy.ndarray with numpy.array() before converting to a tensor. (Triggered internally at C:\\b\\abs_abjetg6_iu\\croot\\pytorch_1686932924616\\work\\torch\\csrc\\utils\\tensor_new.cpp:248.)\n",
      "  float_tensor = torch.tensor(EEG_word_level_embeddings, dtype=torch.float)\n"
     ]
    }
   ],
   "source": [
    "float_tensor = torch.tensor(EEG_word_level_embeddings, dtype=torch.float)\n",
    "float_tensor = float_tensor.unsqueeze(1)"
   ],
   "metadata": {
    "collapsed": false,
    "ExecuteTime": {
     "start_time": "2023-11-14T17:08:41.922460Z",
     "end_time": "2023-11-14T17:08:41.936477Z"
    }
   }
  },
  {
   "cell_type": "code",
   "execution_count": 9,
   "outputs": [
    {
     "data": {
      "text/plain": "torch.Size([63015, 1, 105, 8])"
     },
     "execution_count": 9,
     "metadata": {},
     "output_type": "execute_result"
    }
   ],
   "source": [
    "float_tensor.shape\n"
   ],
   "metadata": {
    "collapsed": false,
    "ExecuteTime": {
     "start_time": "2023-11-14T17:08:41.930480Z",
     "end_time": "2023-11-14T17:08:41.943478Z"
    }
   }
  },
  {
   "cell_type": "code",
   "execution_count": 10,
   "outputs": [],
   "source": [
    "import torch\n",
    "train_data = []\n",
    "for i in range(len(float_tensor)):\n",
    "   train_data.append([float_tensor[i], EEG_word_level_labels[i]])\n",
    "\n",
    "\n",
    "\n",
    "trainloader = torch.utils.data.DataLoader(train_data, shuffle=True, batch_size=64)"
   ],
   "metadata": {
    "collapsed": false,
    "ExecuteTime": {
     "start_time": "2023-11-14T17:08:41.945481Z",
     "end_time": "2023-11-14T17:08:42.300721Z"
    }
   }
  },
  {
   "cell_type": "code",
   "execution_count": 10,
   "outputs": [],
   "source": [],
   "metadata": {
    "collapsed": false,
    "ExecuteTime": {
     "start_time": "2023-11-14T17:08:42.302708Z",
     "end_time": "2023-11-14T17:08:42.324874Z"
    }
   }
  },
  {
   "cell_type": "code",
   "execution_count": 11,
   "outputs": [
    {
     "name": "stdout",
     "output_type": "stream",
     "text": [
      "torch.Size([64, 1, 105, 8]) ('campaign', 'the', '16', 'returned', 'politics', 'left', '1591', 'singers.', 'cancer', 'backing', 'continued', 'Springwells', 'accession', 'not,', 'Pentagon', 'shirt', '(born', 'Lionel', 'for', 'stood', 'Whipple', 'Ford', 'church', 'Pennsylvania.', '1986', 'Finally,', 'C.H.', 'married', 'Friends.', 'publisher', 'a', 'President', 'de', 'Wagner,', 'free', 'and', 'interrupted', 'from', 'again', \"Charles's\", 'experiments', 'marriage', 'has', 'Republican', '14', 'Presidential', 'trial', 'his', 'whom', 'President', 'the', 'to', 'led', 'Her', 'trained', 'York', 'Captain', 'primary', 'pedophile,', 'his', 'degree', 'erroneously', 'cgs', 'an')\n"
     ]
    }
   ],
   "source": [
    "#sanity check:\n",
    "i1, l1 = next(iter(trainloader))\n",
    "print(i1.shape, l1)"
   ],
   "metadata": {
    "collapsed": false,
    "ExecuteTime": {
     "start_time": "2023-11-14T17:08:42.321866Z",
     "end_time": "2023-11-14T17:08:42.359219Z"
    }
   }
  },
  {
   "cell_type": "code",
   "execution_count": 12,
   "outputs": [],
   "source": [
    "z_size = 100\n",
    "image_size = (105, 8)\n",
    "n_filters = 32"
   ],
   "metadata": {
    "collapsed": false,
    "ExecuteTime": {
     "start_time": "2023-11-14T17:08:42.334017Z",
     "end_time": "2023-11-14T17:08:42.377067Z"
    }
   }
  },
  {
   "cell_type": "code",
   "execution_count": 13,
   "outputs": [],
   "source": [
    "## Loss function and optimizers:\n",
    "loss_fn = nn.BCELoss()"
   ],
   "metadata": {
    "collapsed": false,
    "ExecuteTime": {
     "start_time": "2023-11-14T17:08:42.350393Z",
     "end_time": "2023-11-14T17:08:42.378068Z"
    }
   }
  },
  {
   "cell_type": "code",
   "execution_count": 14,
   "outputs": [],
   "source": [
    "def create_noise(batch_size, z_size, mode_z):\n",
    "    if mode_z == 'uniform':\n",
    "        input_z = torch.rand(batch_size, z_size)*2 - 1\n",
    "    elif mode_z == 'normal':\n",
    "        input_z = torch.randn(batch_size, z_size)\n",
    "    return input_z\n",
    "\n",
    "mode_z = 'uniform'\n",
    "fixed_z = create_noise(batch_size, z_size, mode_z).to(device)\n",
    "\n",
    "def create_samples(g_model, input_z):\n",
    "    g_output = g_model(input_z)\n",
    "    images = torch.reshape(g_output, (batch_size, *image_size))\n",
    "    return (images+1)/2.0"
   ],
   "metadata": {
    "collapsed": false,
    "ExecuteTime": {
     "start_time": "2023-11-14T17:08:42.368460Z",
     "end_time": "2023-11-14T17:08:42.378068Z"
    }
   }
  },
  {
   "cell_type": "code",
   "execution_count": 15,
   "outputs": [],
   "source": [
    "noise = create_noise(64, 100, \"uniform\")"
   ],
   "metadata": {
    "collapsed": false,
    "ExecuteTime": {
     "start_time": "2023-11-14T17:08:43.951785Z",
     "end_time": "2023-11-14T17:08:43.966388Z"
    }
   }
  },
  {
   "cell_type": "code",
   "execution_count": 16,
   "outputs": [
    {
     "data": {
      "text/plain": "torch.Size([64, 100])"
     },
     "execution_count": 16,
     "metadata": {},
     "output_type": "execute_result"
    }
   ],
   "source": [
    "noise.shape"
   ],
   "metadata": {
    "collapsed": false,
    "ExecuteTime": {
     "start_time": "2023-11-14T17:08:44.381869Z",
     "end_time": "2023-11-14T17:08:44.412034Z"
    }
   }
  },
  {
   "cell_type": "code",
   "execution_count": 17,
   "outputs": [],
   "source": [
    "import torch.nn as nn\n",
    "\n",
    "class Generator(nn.Module):\n",
    "    def __init__(self, latent_dim=100):\n",
    "        super(Generator, self).__init__()\n",
    "        self.latent_dim = latent_dim\n",
    "\n",
    "        # Define your layers here\n",
    "        self.fc = nn.Linear(latent_dim, 1 * 105 * 8)\n",
    "        self.conv_transpose = nn.ConvTranspose2d(1, 1, kernel_size=3, stride=1, padding=1)\n",
    "\n",
    "    def forward(self, z):\n",
    "        # Reshape the input\n",
    "        x = self.fc(z)\n",
    "        x = x.view(-1, 1, 105, 8)\n",
    "\n",
    "        # Apply convolutional transpose layer\n",
    "        x = self.conv_transpose(x)\n",
    "\n",
    "        return x\n",
    "\n",
    "\n",
    "\n",
    "class DiscriminatorWGAN(nn.Module):\n",
    "    def __init__(self, n_filters):\n",
    "        super(DiscriminatorWGAN, self).__init__()\n",
    "        self.network = nn.Sequential(\n",
    "            nn.Conv2d(1, n_filters, kernel_size=4, stride=2, padding=1, bias=False),\n",
    "            nn.LeakyReLU(0.2),\n",
    "\n",
    "            nn.Conv2d(n_filters, n_filters*2, kernel_size=4, stride=2, padding=1, bias=False),\n",
    "            nn.InstanceNorm2d(n_filters * 2),\n",
    "            nn.LeakyReLU(0.2),\n",
    "\n",
    "            nn.Conv2d(n_filters*2, n_filters*4, kernel_size=3, stride=2, padding=1, bias=False),\n",
    "            nn.InstanceNorm2d(n_filters*4),\n",
    "            nn.LeakyReLU(0.2),\n",
    "\n",
    "            nn.Conv2d(n_filters*4, 1, kernel_size=3, stride=1, padding=1, bias=False),\n",
    "            nn.Sigmoid()\n",
    "        )\n",
    "\n",
    "    def forward(self, input):\n",
    "        output = self.network(input)\n",
    "        return output.view(-1, 1).squeeze(0)\n",
    "\n"
   ],
   "metadata": {
    "collapsed": false,
    "ExecuteTime": {
     "start_time": "2023-11-14T17:08:44.993950Z",
     "end_time": "2023-11-14T17:08:45.033475Z"
    }
   }
  },
  {
   "cell_type": "code",
   "execution_count": 18,
   "outputs": [],
   "source": [
    "gen_model = Generator().to(device)\n",
    "disc_model = DiscriminatorWGAN(n_filters).to(device)\n",
    "\n",
    "g_optimizer = torch.optim.Adam(gen_model.parameters(), 0.0002)\n",
    "d_optimizer = torch.optim.Adam(disc_model.parameters(), 0.0002)"
   ],
   "metadata": {
    "collapsed": false,
    "ExecuteTime": {
     "start_time": "2023-11-14T17:08:45.343159Z",
     "end_time": "2023-11-14T17:08:45.376762Z"
    }
   }
  },
  {
   "cell_type": "code",
   "execution_count": 19,
   "outputs": [],
   "source": [
    "from torch.autograd import grad as torch_grad\n",
    "\n",
    "\n",
    "def gradient_penalty(real_data, generated_data):\n",
    "    batch_size = real_data.size(0)\n",
    "\n",
    "    # Calculate interpolation\n",
    "    alpha = torch.rand(real_data.shape[0], 1, 1, 1, requires_grad=True, device=device)\n",
    "    print(\"Gen:\", generated_data.shape)\n",
    "    interpolated = alpha * real_data + (1 - alpha) * generated_data\n",
    "\n",
    "    # Calculate probability of interpolated examples\n",
    "    proba_interpolated = disc_model(interpolated)\n",
    "\n",
    "    # Calculate gradients of probabilities with respect to examples\n",
    "    gradients = torch_grad(outputs=proba_interpolated, inputs=interpolated,\n",
    "                           grad_outputs=torch.ones(proba_interpolated.size(), device=device),\n",
    "                           create_graph=True, retain_graph=True)[0]\n",
    "\n",
    "    gradients = gradients.view(batch_size, -1)\n",
    "    gradients_norm = gradients.norm(2, dim=1)\n",
    "    return lambda_gp * ((gradients_norm - 1)**2).mean()\n"
   ],
   "metadata": {
    "collapsed": false,
    "ExecuteTime": {
     "start_time": "2023-11-14T17:08:45.975491Z",
     "end_time": "2023-11-14T17:08:45.999966Z"
    }
   }
  },
  {
   "cell_type": "code",
   "execution_count": 20,
   "outputs": [],
   "source": [
    "## Train the discriminator\n",
    "def d_train_wgan(x):\n",
    "    disc_model.zero_grad()\n",
    "\n",
    "    batch_size = x.size(0)\n",
    "    x = x.to(device)\n",
    "\n",
    "    # Calculate probabilities on real and generated data\n",
    "    d_real = disc_model(x)\n",
    "    input_z = create_noise(batch_size, z_size, mode_z).to(device)\n",
    "    print(\"Input Z:\", input_z.shape)\n",
    "    g_output = gen_model(input_z)\n",
    "    print(\"G:\", g_output.shape)\n",
    "\n",
    "    d_generated = disc_model(g_output)\n",
    "    d_loss = d_generated.mean() - d_real.mean() + gradient_penalty(x.data, g_output.data)\n",
    "\n",
    "    d_loss.backward()\n",
    "    d_optimizer.step()\n",
    "\n",
    "    return d_loss.data.item()"
   ],
   "metadata": {
    "collapsed": false,
    "ExecuteTime": {
     "start_time": "2023-11-14T17:08:46.500836Z",
     "end_time": "2023-11-14T17:08:46.519469Z"
    }
   }
  },
  {
   "cell_type": "code",
   "execution_count": 21,
   "outputs": [],
   "source": [
    "## Train the generator\n",
    "def g_train_wgan(x):\n",
    "    gen_model.zero_grad()\n",
    "\n",
    "    batch_size = x.size(0)\n",
    "    input_z = create_noise(batch_size, z_size, mode_z).to(device)\n",
    "\n",
    "    g_output = gen_model(input_z)\n",
    "\n",
    "    d_generated = disc_model(g_output)\n",
    "    g_loss = -d_generated.mean()\n",
    "\n",
    "    # gradient backprop & optimize ONLY G's parameters\n",
    "    g_loss.backward()\n",
    "    g_optimizer.step()\n",
    "\n",
    "    return g_loss.data.item()"
   ],
   "metadata": {
    "collapsed": false,
    "ExecuteTime": {
     "start_time": "2023-11-14T17:08:46.954455Z",
     "end_time": "2023-11-14T17:08:46.970883Z"
    }
   }
  },
  {
   "cell_type": "code",
   "execution_count": 22,
   "outputs": [
    {
     "name": "stdout",
     "output_type": "stream",
     "text": [
      "Batch: 0\n",
      "X: torch.Size([64, 1, 105, 8])\n",
      "Input Z: torch.Size([64, 100])\n",
      "G: torch.Size([64, 1, 105, 8])\n",
      "Gen: torch.Size([64, 1, 105, 8])\n",
      "Input Z: torch.Size([64, 100])\n",
      "G: torch.Size([64, 1, 105, 8])\n",
      "Gen: torch.Size([64, 1, 105, 8])\n",
      "Input Z: torch.Size([64, 100])\n",
      "G: torch.Size([64, 1, 105, 8])\n",
      "Gen: torch.Size([64, 1, 105, 8])\n",
      "Input Z: torch.Size([64, 100])\n",
      "G: torch.Size([64, 1, 105, 8])\n",
      "Gen: torch.Size([64, 1, 105, 8])\n",
      "Input Z: torch.Size([64, 100])\n",
      "G: torch.Size([64, 1, 105, 8])\n",
      "Gen: torch.Size([64, 1, 105, 8])\n",
      "Batch: 1\n",
      "X: torch.Size([64, 1, 105, 8])\n",
      "Input Z: torch.Size([64, 100])\n",
      "G: torch.Size([64, 1, 105, 8])\n",
      "Gen: torch.Size([64, 1, 105, 8])\n",
      "Input Z: torch.Size([64, 100])\n",
      "G: torch.Size([64, 1, 105, 8])\n",
      "Gen: torch.Size([64, 1, 105, 8])\n",
      "Input Z: torch.Size([64, 100])\n",
      "G: torch.Size([64, 1, 105, 8])\n",
      "Gen: torch.Size([64, 1, 105, 8])\n",
      "Input Z: torch.Size([64, 100])\n",
      "G: torch.Size([64, 1, 105, 8])\n",
      "Gen: torch.Size([64, 1, 105, 8])\n",
      "Input Z: torch.Size([64, 100])\n",
      "G: torch.Size([64, 1, 105, 8])\n",
      "Gen: torch.Size([64, 1, 105, 8])\n",
      "Batch: 2\n",
      "X: torch.Size([64, 1, 105, 8])\n",
      "Input Z: torch.Size([64, 100])\n",
      "G: torch.Size([64, 1, 105, 8])\n",
      "Gen: torch.Size([64, 1, 105, 8])\n",
      "Input Z: torch.Size([64, 100])\n",
      "G: torch.Size([64, 1, 105, 8])\n",
      "Gen: torch.Size([64, 1, 105, 8])\n",
      "Input Z: torch.Size([64, 100])\n",
      "G: torch.Size([64, 1, 105, 8])\n",
      "Gen: torch.Size([64, 1, 105, 8])\n",
      "Input Z: torch.Size([64, 100])\n",
      "G: torch.Size([64, 1, 105, 8])\n",
      "Gen: torch.Size([64, 1, 105, 8])\n",
      "Input Z: torch.Size([64, 100])\n",
      "G: torch.Size([64, 1, 105, 8])\n",
      "Gen: torch.Size([64, 1, 105, 8])\n",
      "Batch: 3\n",
      "X: torch.Size([64, 1, 105, 8])\n",
      "Input Z: torch.Size([64, 100])\n",
      "G: torch.Size([64, 1, 105, 8])\n",
      "Gen: torch.Size([64, 1, 105, 8])\n",
      "Input Z: torch.Size([64, 100])\n",
      "G: torch.Size([64, 1, 105, 8])\n",
      "Gen: torch.Size([64, 1, 105, 8])\n",
      "Input Z: torch.Size([64, 100])\n",
      "G: torch.Size([64, 1, 105, 8])\n",
      "Gen: torch.Size([64, 1, 105, 8])\n",
      "Input Z: torch.Size([64, 100])\n",
      "G: torch.Size([64, 1, 105, 8])\n",
      "Gen: torch.Size([64, 1, 105, 8])\n",
      "Input Z: torch.Size([64, 100])\n",
      "G: torch.Size([64, 1, 105, 8])\n",
      "Gen: torch.Size([64, 1, 105, 8])\n",
      "Batch: 4\n",
      "X: torch.Size([64, 1, 105, 8])\n",
      "Input Z: torch.Size([64, 100])\n",
      "G: torch.Size([64, 1, 105, 8])\n",
      "Gen: torch.Size([64, 1, 105, 8])\n",
      "Input Z: torch.Size([64, 100])\n",
      "G: torch.Size([64, 1, 105, 8])\n",
      "Gen: torch.Size([64, 1, 105, 8])\n",
      "Input Z: torch.Size([64, 100])\n",
      "G: torch.Size([64, 1, 105, 8])\n",
      "Gen: torch.Size([64, 1, 105, 8])\n",
      "Input Z: torch.Size([64, 100])\n",
      "G: torch.Size([64, 1, 105, 8])\n",
      "Gen: torch.Size([64, 1, 105, 8])\n",
      "Input Z: torch.Size([64, 100])\n",
      "G: torch.Size([64, 1, 105, 8])\n",
      "Gen: torch.Size([64, 1, 105, 8])\n",
      "Batch: 5\n",
      "X: torch.Size([64, 1, 105, 8])\n",
      "Input Z: torch.Size([64, 100])\n",
      "G: torch.Size([64, 1, 105, 8])\n",
      "Gen: torch.Size([64, 1, 105, 8])\n",
      "Input Z: torch.Size([64, 100])\n",
      "G: torch.Size([64, 1, 105, 8])\n",
      "Gen: torch.Size([64, 1, 105, 8])\n",
      "Input Z: torch.Size([64, 100])\n",
      "G: torch.Size([64, 1, 105, 8])\n",
      "Gen: torch.Size([64, 1, 105, 8])\n",
      "Input Z: torch.Size([64, 100])\n",
      "G: torch.Size([64, 1, 105, 8])\n",
      "Gen: torch.Size([64, 1, 105, 8])\n",
      "Input Z: torch.Size([64, 100])\n",
      "G: torch.Size([64, 1, 105, 8])\n",
      "Gen: torch.Size([64, 1, 105, 8])\n",
      "Batch: 6\n",
      "X: torch.Size([64, 1, 105, 8])\n",
      "Input Z: torch.Size([64, 100])\n",
      "G: torch.Size([64, 1, 105, 8])\n",
      "Gen: torch.Size([64, 1, 105, 8])\n",
      "Input Z: torch.Size([64, 100])\n",
      "G: torch.Size([64, 1, 105, 8])\n",
      "Gen: torch.Size([64, 1, 105, 8])\n",
      "Input Z: torch.Size([64, 100])\n",
      "G: torch.Size([64, 1, 105, 8])\n",
      "Gen: torch.Size([64, 1, 105, 8])\n",
      "Input Z: torch.Size([64, 100])\n",
      "G: torch.Size([64, 1, 105, 8])\n",
      "Gen: torch.Size([64, 1, 105, 8])\n",
      "Input Z: torch.Size([64, 100])\n",
      "G: torch.Size([64, 1, 105, 8])\n",
      "Gen: torch.Size([64, 1, 105, 8])\n",
      "Batch: 7\n",
      "X: torch.Size([64, 1, 105, 8])\n",
      "Input Z: torch.Size([64, 100])\n",
      "G: torch.Size([64, 1, 105, 8])\n",
      "Gen: torch.Size([64, 1, 105, 8])\n",
      "Input Z: torch.Size([64, 100])\n",
      "G: torch.Size([64, 1, 105, 8])\n",
      "Gen: torch.Size([64, 1, 105, 8])\n",
      "Input Z: torch.Size([64, 100])\n",
      "G: torch.Size([64, 1, 105, 8])\n",
      "Gen: torch.Size([64, 1, 105, 8])\n",
      "Input Z: torch.Size([64, 100])\n",
      "G: torch.Size([64, 1, 105, 8])\n",
      "Gen: torch.Size([64, 1, 105, 8])\n",
      "Input Z: torch.Size([64, 100])\n",
      "G: torch.Size([64, 1, 105, 8])\n",
      "Gen: torch.Size([64, 1, 105, 8])\n",
      "Batch: 8\n",
      "X: torch.Size([64, 1, 105, 8])\n",
      "Input Z: torch.Size([64, 100])\n",
      "G: torch.Size([64, 1, 105, 8])\n",
      "Gen: torch.Size([64, 1, 105, 8])\n",
      "Input Z: torch.Size([64, 100])\n",
      "G: torch.Size([64, 1, 105, 8])\n",
      "Gen: torch.Size([64, 1, 105, 8])\n",
      "Input Z: torch.Size([64, 100])\n",
      "G: torch.Size([64, 1, 105, 8])\n",
      "Gen: torch.Size([64, 1, 105, 8])\n",
      "Input Z: torch.Size([64, 100])\n",
      "G: torch.Size([64, 1, 105, 8])\n",
      "Gen: torch.Size([64, 1, 105, 8])\n",
      "Input Z: torch.Size([64, 100])\n",
      "G: torch.Size([64, 1, 105, 8])\n",
      "Gen: torch.Size([64, 1, 105, 8])\n",
      "Batch: 9\n",
      "X: torch.Size([64, 1, 105, 8])\n",
      "Input Z: torch.Size([64, 100])\n",
      "G: torch.Size([64, 1, 105, 8])\n",
      "Gen: torch.Size([64, 1, 105, 8])\n",
      "Input Z: torch.Size([64, 100])\n",
      "G: torch.Size([64, 1, 105, 8])\n",
      "Gen: torch.Size([64, 1, 105, 8])\n",
      "Input Z: torch.Size([64, 100])\n",
      "G: torch.Size([64, 1, 105, 8])\n",
      "Gen: torch.Size([64, 1, 105, 8])\n",
      "Input Z: torch.Size([64, 100])\n",
      "G: torch.Size([64, 1, 105, 8])\n",
      "Gen: torch.Size([64, 1, 105, 8])\n",
      "Input Z: torch.Size([64, 100])\n",
      "G: torch.Size([64, 1, 105, 8])\n",
      "Gen: torch.Size([64, 1, 105, 8])\n",
      "Batch: 10\n",
      "X: torch.Size([64, 1, 105, 8])\n",
      "Input Z: torch.Size([64, 100])\n",
      "G: torch.Size([64, 1, 105, 8])\n",
      "Gen: torch.Size([64, 1, 105, 8])\n",
      "Input Z: torch.Size([64, 100])\n",
      "G: torch.Size([64, 1, 105, 8])\n",
      "Gen: torch.Size([64, 1, 105, 8])\n",
      "Input Z: torch.Size([64, 100])\n",
      "G: torch.Size([64, 1, 105, 8])\n",
      "Gen: torch.Size([64, 1, 105, 8])\n",
      "Input Z: torch.Size([64, 100])\n",
      "G: torch.Size([64, 1, 105, 8])\n",
      "Gen: torch.Size([64, 1, 105, 8])\n",
      "Input Z: torch.Size([64, 100])\n",
      "G: torch.Size([64, 1, 105, 8])\n",
      "Gen: torch.Size([64, 1, 105, 8])\n",
      "Batch: 11\n",
      "X: torch.Size([64, 1, 105, 8])\n",
      "Input Z: torch.Size([64, 100])\n",
      "G: torch.Size([64, 1, 105, 8])\n",
      "Gen: torch.Size([64, 1, 105, 8])\n",
      "Input Z: torch.Size([64, 100])\n",
      "G: torch.Size([64, 1, 105, 8])\n",
      "Gen: torch.Size([64, 1, 105, 8])\n",
      "Input Z: torch.Size([64, 100])\n",
      "G: torch.Size([64, 1, 105, 8])\n",
      "Gen: torch.Size([64, 1, 105, 8])\n",
      "Input Z: torch.Size([64, 100])\n",
      "G: torch.Size([64, 1, 105, 8])\n",
      "Gen: torch.Size([64, 1, 105, 8])\n",
      "Input Z: torch.Size([64, 100])\n",
      "G: torch.Size([64, 1, 105, 8])\n",
      "Gen: torch.Size([64, 1, 105, 8])\n",
      "Batch: 12\n",
      "X: torch.Size([64, 1, 105, 8])\n",
      "Input Z: torch.Size([64, 100])\n",
      "G: torch.Size([64, 1, 105, 8])\n",
      "Gen: torch.Size([64, 1, 105, 8])\n",
      "Input Z: torch.Size([64, 100])\n",
      "G: torch.Size([64, 1, 105, 8])\n",
      "Gen: torch.Size([64, 1, 105, 8])\n",
      "Input Z: torch.Size([64, 100])\n",
      "G: torch.Size([64, 1, 105, 8])\n",
      "Gen: torch.Size([64, 1, 105, 8])\n",
      "Input Z: torch.Size([64, 100])\n",
      "G: torch.Size([64, 1, 105, 8])\n",
      "Gen: torch.Size([64, 1, 105, 8])\n",
      "Input Z: torch.Size([64, 100])\n",
      "G: torch.Size([64, 1, 105, 8])\n",
      "Gen: torch.Size([64, 1, 105, 8])\n",
      "Batch: 13\n",
      "X: torch.Size([64, 1, 105, 8])\n",
      "Input Z: torch.Size([64, 100])\n",
      "G: torch.Size([64, 1, 105, 8])\n",
      "Gen: torch.Size([64, 1, 105, 8])\n",
      "Input Z: torch.Size([64, 100])\n",
      "G: torch.Size([64, 1, 105, 8])\n",
      "Gen: torch.Size([64, 1, 105, 8])\n",
      "Input Z: torch.Size([64, 100])\n",
      "G: torch.Size([64, 1, 105, 8])\n",
      "Gen: torch.Size([64, 1, 105, 8])\n"
     ]
    },
    {
     "ename": "KeyboardInterrupt",
     "evalue": "",
     "output_type": "error",
     "traceback": [
      "\u001B[1;31m---------------------------------------------------------------------------\u001B[0m",
      "\u001B[1;31mKeyboardInterrupt\u001B[0m                         Traceback (most recent call last)",
      "Cell \u001B[1;32mIn[22], line 14\u001B[0m\n\u001B[0;32m     12\u001B[0m \u001B[38;5;28mprint\u001B[39m(\u001B[38;5;124m\"\u001B[39m\u001B[38;5;124mX:\u001B[39m\u001B[38;5;124m\"\u001B[39m, x\u001B[38;5;241m.\u001B[39mshape)\n\u001B[0;32m     13\u001B[0m \u001B[38;5;28;01mfor\u001B[39;00m _ \u001B[38;5;129;01min\u001B[39;00m \u001B[38;5;28mrange\u001B[39m(critic_iterations):\n\u001B[1;32m---> 14\u001B[0m     d_loss \u001B[38;5;241m=\u001B[39m \u001B[43md_train_wgan\u001B[49m\u001B[43m(\u001B[49m\u001B[43mx\u001B[49m\u001B[43m)\u001B[49m\n\u001B[0;32m     15\u001B[0m d_losses\u001B[38;5;241m.\u001B[39mappend(d_loss)\n\u001B[0;32m     16\u001B[0m g_losses\u001B[38;5;241m.\u001B[39mappend(g_train_wgan(x))\n",
      "Cell \u001B[1;32mIn[20], line 18\u001B[0m, in \u001B[0;36md_train_wgan\u001B[1;34m(x)\u001B[0m\n\u001B[0;32m     15\u001B[0m d_generated \u001B[38;5;241m=\u001B[39m disc_model(g_output)\n\u001B[0;32m     16\u001B[0m d_loss \u001B[38;5;241m=\u001B[39m d_generated\u001B[38;5;241m.\u001B[39mmean() \u001B[38;5;241m-\u001B[39m d_real\u001B[38;5;241m.\u001B[39mmean() \u001B[38;5;241m+\u001B[39m gradient_penalty(x\u001B[38;5;241m.\u001B[39mdata, g_output\u001B[38;5;241m.\u001B[39mdata)\n\u001B[1;32m---> 18\u001B[0m \u001B[43md_loss\u001B[49m\u001B[38;5;241;43m.\u001B[39;49m\u001B[43mbackward\u001B[49m\u001B[43m(\u001B[49m\u001B[43m)\u001B[49m\n\u001B[0;32m     19\u001B[0m d_optimizer\u001B[38;5;241m.\u001B[39mstep()\n\u001B[0;32m     21\u001B[0m \u001B[38;5;28;01mreturn\u001B[39;00m d_loss\u001B[38;5;241m.\u001B[39mdata\u001B[38;5;241m.\u001B[39mitem()\n",
      "File \u001B[1;32m~\\Anaconda3\\lib\\site-packages\\torch\\_tensor.py:487\u001B[0m, in \u001B[0;36mTensor.backward\u001B[1;34m(self, gradient, retain_graph, create_graph, inputs)\u001B[0m\n\u001B[0;32m    477\u001B[0m \u001B[38;5;28;01mif\u001B[39;00m has_torch_function_unary(\u001B[38;5;28mself\u001B[39m):\n\u001B[0;32m    478\u001B[0m     \u001B[38;5;28;01mreturn\u001B[39;00m handle_torch_function(\n\u001B[0;32m    479\u001B[0m         Tensor\u001B[38;5;241m.\u001B[39mbackward,\n\u001B[0;32m    480\u001B[0m         (\u001B[38;5;28mself\u001B[39m,),\n\u001B[1;32m   (...)\u001B[0m\n\u001B[0;32m    485\u001B[0m         inputs\u001B[38;5;241m=\u001B[39minputs,\n\u001B[0;32m    486\u001B[0m     )\n\u001B[1;32m--> 487\u001B[0m \u001B[43mtorch\u001B[49m\u001B[38;5;241;43m.\u001B[39;49m\u001B[43mautograd\u001B[49m\u001B[38;5;241;43m.\u001B[39;49m\u001B[43mbackward\u001B[49m\u001B[43m(\u001B[49m\n\u001B[0;32m    488\u001B[0m \u001B[43m    \u001B[49m\u001B[38;5;28;43mself\u001B[39;49m\u001B[43m,\u001B[49m\u001B[43m \u001B[49m\u001B[43mgradient\u001B[49m\u001B[43m,\u001B[49m\u001B[43m \u001B[49m\u001B[43mretain_graph\u001B[49m\u001B[43m,\u001B[49m\u001B[43m \u001B[49m\u001B[43mcreate_graph\u001B[49m\u001B[43m,\u001B[49m\u001B[43m \u001B[49m\u001B[43minputs\u001B[49m\u001B[38;5;241;43m=\u001B[39;49m\u001B[43minputs\u001B[49m\n\u001B[0;32m    489\u001B[0m \u001B[43m\u001B[49m\u001B[43m)\u001B[49m\n",
      "File \u001B[1;32m~\\Anaconda3\\lib\\site-packages\\torch\\autograd\\__init__.py:200\u001B[0m, in \u001B[0;36mbackward\u001B[1;34m(tensors, grad_tensors, retain_graph, create_graph, grad_variables, inputs)\u001B[0m\n\u001B[0;32m    195\u001B[0m     retain_graph \u001B[38;5;241m=\u001B[39m create_graph\n\u001B[0;32m    197\u001B[0m \u001B[38;5;66;03m# The reason we repeat same the comment below is that\u001B[39;00m\n\u001B[0;32m    198\u001B[0m \u001B[38;5;66;03m# some Python versions print out the first line of a multi-line function\u001B[39;00m\n\u001B[0;32m    199\u001B[0m \u001B[38;5;66;03m# calls in the traceback and some print out the last line\u001B[39;00m\n\u001B[1;32m--> 200\u001B[0m \u001B[43mVariable\u001B[49m\u001B[38;5;241;43m.\u001B[39;49m\u001B[43m_execution_engine\u001B[49m\u001B[38;5;241;43m.\u001B[39;49m\u001B[43mrun_backward\u001B[49m\u001B[43m(\u001B[49m\u001B[43m  \u001B[49m\u001B[38;5;66;43;03m# Calls into the C++ engine to run the backward pass\u001B[39;49;00m\n\u001B[0;32m    201\u001B[0m \u001B[43m    \u001B[49m\u001B[43mtensors\u001B[49m\u001B[43m,\u001B[49m\u001B[43m \u001B[49m\u001B[43mgrad_tensors_\u001B[49m\u001B[43m,\u001B[49m\u001B[43m \u001B[49m\u001B[43mretain_graph\u001B[49m\u001B[43m,\u001B[49m\u001B[43m \u001B[49m\u001B[43mcreate_graph\u001B[49m\u001B[43m,\u001B[49m\u001B[43m \u001B[49m\u001B[43minputs\u001B[49m\u001B[43m,\u001B[49m\n\u001B[0;32m    202\u001B[0m \u001B[43m    \u001B[49m\u001B[43mallow_unreachable\u001B[49m\u001B[38;5;241;43m=\u001B[39;49m\u001B[38;5;28;43;01mTrue\u001B[39;49;00m\u001B[43m,\u001B[49m\u001B[43m \u001B[49m\u001B[43maccumulate_grad\u001B[49m\u001B[38;5;241;43m=\u001B[39;49m\u001B[38;5;28;43;01mTrue\u001B[39;49;00m\u001B[43m)\u001B[49m\n",
      "\u001B[1;31mKeyboardInterrupt\u001B[0m: "
     ]
    }
   ],
   "source": [
    "epoch_samples_wgan = []\n",
    "lambda_gp = 10.0\n",
    "num_epochs = 100\n",
    "torch.manual_seed(1)\n",
    "critic_iterations = 5\n",
    "\n",
    "for epoch in range(1, num_epochs+1):\n",
    "    gen_model.train()\n",
    "    d_losses, g_losses = [], []\n",
    "    for i, (x, _) in enumerate(trainloader):\n",
    "        print(\"Batch:\", i)\n",
    "        print(\"X:\", x.shape)\n",
    "        for _ in range(critic_iterations):\n",
    "            d_loss = d_train_wgan(x)\n",
    "        d_losses.append(d_loss)\n",
    "        g_losses.append(g_train_wgan(x))\n",
    "\n",
    "    print(f'Epoch {epoch:03d} | D Loss >>'\n",
    "          f' {torch.FloatTensor(d_losses).mean():.4f}')\n",
    "    gen_model.eval()\n",
    "    epoch_samples_wgan.append(\n",
    "        create_samples(gen_model, fixed_z).detach().cpu().numpy())"
   ],
   "metadata": {
    "collapsed": false
   }
  },
  {
   "cell_type": "code",
   "execution_count": null,
   "outputs": [],
   "source": [],
   "metadata": {
    "collapsed": false,
    "ExecuteTime": {
     "start_time": "2023-11-14T15:55:22.137409Z",
     "end_time": "2023-11-14T15:55:22.151314Z"
    }
   }
  },
  {
   "cell_type": "code",
   "execution_count": null,
   "outputs": [],
   "source": [],
   "metadata": {
    "collapsed": false
   }
  }
 ],
 "metadata": {
  "kernelspec": {
   "display_name": "Python 3",
   "language": "python",
   "name": "python3"
  },
  "language_info": {
   "codemirror_mode": {
    "name": "ipython",
    "version": 2
   },
   "file_extension": ".py",
   "mimetype": "text/x-python",
   "name": "python",
   "nbconvert_exporter": "python",
   "pygments_lexer": "ipython2",
   "version": "2.7.6"
  }
 },
 "nbformat": 4,
 "nbformat_minor": 0
}
