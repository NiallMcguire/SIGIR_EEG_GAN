{
 "cells": [
  {
   "cell_type": "code",
   "execution_count": 21,
   "metadata": {
    "collapsed": true,
    "ExecuteTime": {
     "start_time": "2023-11-29T16:02:53.281671Z",
     "end_time": "2023-11-29T16:02:55.624134Z"
    }
   },
   "outputs": [
    {
     "name": "stderr",
     "output_type": "stream",
     "text": [
      "[nltk_data] Downloading package punkt to\n",
      "[nltk_data]     C:\\Users\\gxb18167\\AppData\\Roaming\\nltk_data...\n",
      "[nltk_data]   Package punkt is already up-to-date!\n"
     ]
    }
   ],
   "source": [
    "import torch\n",
    "import torch.nn as nn\n",
    "import sys\n",
    "import nltk\n",
    "import torch.nn.functional as F\n",
    "import torch\n",
    "import torch.nn as nn\n",
    "import numpy as np\n",
    "from sklearn.preprocessing import MinMaxScaler\n",
    "import torch\n",
    "nltk.download('punkt')\n",
    "from gensim.models import Word2Vec\n",
    "from nltk.tokenize import word_tokenize\n",
    "sys.path.insert(0, '..')\n",
    "import pickle\n",
    "from torch.autograd import grad as torch_grad\n",
    "\n",
    "\n",
    "\n",
    "word_embedding_dim = 50\n",
    "z_size = 100\n",
    "output_shape = (1, 105, 8)"
   ]
  },
  {
   "cell_type": "code",
   "execution_count": 22,
   "outputs": [
    {
     "name": "stdout",
     "output_type": "stream",
     "text": [
      "2.0.1\n",
      "GPU Available: False\n"
     ]
    }
   ],
   "source": [
    "print(torch.__version__)\n",
    "print(\"GPU Available:\", torch.cuda.is_available())\n",
    "\n",
    "if torch.cuda.is_available():\n",
    "    device = torch.device(\"cuda:0\")\n",
    "else:\n",
    "    device = \"cpu\""
   ],
   "metadata": {
    "collapsed": false,
    "ExecuteTime": {
     "start_time": "2023-11-29T16:02:55.624134Z",
     "end_time": "2023-11-29T16:02:55.640694Z"
    }
   }
  },
  {
   "cell_type": "code",
   "execution_count": 23,
   "outputs": [],
   "source": [
    "class Generator(nn.Module):\n",
    "    def __init__(self, noise_dim, word_embedding_dim, output_shape):\n",
    "        super(Generator, self).__init__()\n",
    "\n",
    "        self.noise_dim = noise_dim\n",
    "        self.word_embedding_dim = word_embedding_dim\n",
    "\n",
    "        # Define the layers of your generator\n",
    "        self.fc_noise = nn.Linear(noise_dim, 105*8)  # Increase the size for more complexity\n",
    "        self.fc_word_embedding = nn.Linear(word_embedding_dim, 105*8)  # Increase the size for more complexity\n",
    "        self.conv1 = nn.Conv2d(2, 128, kernel_size=3, stride=1, padding=1)\n",
    "        self.bn1 = nn.BatchNorm2d(128)\n",
    "        self.relu = nn.LeakyReLU(0.2)\n",
    "\n",
    "        self.conv2 = nn.Conv2d(128, 64, kernel_size=3, stride=1, padding=1)\n",
    "        self.bn2 = nn.BatchNorm2d(64)\n",
    "\n",
    "        self.conv3 = nn.Conv2d(64, 1, kernel_size=3, stride=1, padding=1)\n",
    "        self.tanh = nn.Tanh()\n",
    "\n",
    "    def forward(self, noise, word_embedding):\n",
    "        # Process noise\n",
    "        noise = self.fc_noise(noise)\n",
    "        noise = noise.view(noise.size(0), 1, 105,8)  # Adjust the size to match conv1\n",
    "\n",
    "        # Process word embedding\n",
    "        word_embedding = self.fc_word_embedding(word_embedding.to(device))\n",
    "        word_embedding = word_embedding.view(word_embedding.size(0), 1, 105, 8)  # Adjust the size to match conv1\n",
    "\n",
    "        # Concatenate noise and word embedding\n",
    "        combined_input = torch.cat([noise, word_embedding], dim=1)\n",
    "\n",
    "        # Upsample and generate the output\n",
    "        z = self.conv1(combined_input)\n",
    "        z = self.bn1(z)\n",
    "        z = self.relu(z)\n",
    "\n",
    "        z = self.conv2(z)\n",
    "        z = self.bn2(z)\n",
    "        z = self.relu(z)\n",
    "\n",
    "        z = self.conv3(z)\n",
    "        z = self.tanh(z)\n",
    "\n",
    "        return z"
   ],
   "metadata": {
    "collapsed": false,
    "ExecuteTime": {
     "start_time": "2023-11-29T16:02:55.640694Z",
     "end_time": "2023-11-29T16:02:55.683964Z"
    }
   }
  },
  {
   "cell_type": "code",
   "execution_count": 76,
   "outputs": [],
   "source": [
    "# Assuming gen_model is the generator model you used during training\n",
    "gen_model = Generator(z_size, word_embedding_dim, output_shape)  # Replace with your actual generator model class\n",
    "checkpoint = torch.load(r\"I:\\Science\\CIS-YASHMOSH\\niallmcguire\\WGAN_Text_2.0\\Textual_WGAN_GP_checkpoint_epoch_100.pt\",\n",
    "                        map_location=torch.device('cpu'))  # Load the final model checkpoint\n"
   ],
   "metadata": {
    "collapsed": false,
    "ExecuteTime": {
     "start_time": "2023-11-29T16:10:36.021987Z",
     "end_time": "2023-11-29T16:10:36.383973Z"
    }
   }
  },
  {
   "cell_type": "code",
   "execution_count": 77,
   "outputs": [
    {
     "data": {
      "text/plain": "Generator(\n  (fc_noise): Linear(in_features=100, out_features=840, bias=True)\n  (fc_word_embedding): Linear(in_features=50, out_features=840, bias=True)\n  (conv1): Conv2d(2, 128, kernel_size=(3, 3), stride=(1, 1), padding=(1, 1))\n  (bn1): BatchNorm2d(128, eps=1e-05, momentum=0.1, affine=True, track_running_stats=True)\n  (relu): LeakyReLU(negative_slope=0.2)\n  (conv2): Conv2d(128, 64, kernel_size=(3, 3), stride=(1, 1), padding=(1, 1))\n  (bn2): BatchNorm2d(64, eps=1e-05, momentum=0.1, affine=True, track_running_stats=True)\n  (conv3): Conv2d(64, 1, kernel_size=(3, 3), stride=(1, 1), padding=(1, 1))\n  (tanh): Tanh()\n)"
     },
     "execution_count": 77,
     "metadata": {},
     "output_type": "execute_result"
    }
   ],
   "source": [
    "# Load the model's state_dict onto the CPU\n",
    "gen_model.load_state_dict(checkpoint['gen_model_state_dict'])\n",
    "\n",
    "# Set the model to evaluation mode\n",
    "gen_model.eval()"
   ],
   "metadata": {
    "collapsed": false,
    "ExecuteTime": {
     "start_time": "2023-11-29T16:10:36.391331Z",
     "end_time": "2023-11-29T16:10:36.401479Z"
    }
   }
  },
  {
   "cell_type": "code",
   "execution_count": 78,
   "outputs": [],
   "source": [
    "def create_noise(batch_size, z_size, mode_z):\n",
    "    if mode_z == 'uniform':\n",
    "        input_z = torch.rand(batch_size, z_size)*2 - 1\n",
    "    elif mode_z == 'normal':\n",
    "        input_z = torch.randn(batch_size, z_size)\n",
    "    return input_z"
   ],
   "metadata": {
    "collapsed": false,
    "ExecuteTime": {
     "start_time": "2023-11-29T16:10:36.401479Z",
     "end_time": "2023-11-29T16:10:36.449508Z"
    }
   }
  },
  {
   "cell_type": "code",
   "execution_count": 79,
   "outputs": [],
   "source": [
    "def generate_samples(g_model, input_z, input_t):\n",
    "    # Create random noise as input to the generator\n",
    "    # Generate samples using the generator model\n",
    "    with torch.no_grad():\n",
    "        g_output = g_model(input_z, input_t)\n",
    "\n",
    "    return g_output.cpu().numpy()"
   ],
   "metadata": {
    "collapsed": false,
    "ExecuteTime": {
     "start_time": "2023-11-29T16:10:36.535629Z",
     "end_time": "2023-11-29T16:10:36.572735Z"
    }
   }
  },
  {
   "cell_type": "code",
   "execution_count": 80,
   "outputs": [],
   "source": [
    "import pickle\n",
    "\n",
    "# To load the lists from the file:\n",
    "with open(r\"C:\\Users\\gxb18167\\PycharmProjects\\EEG-To-Text\\SIGIR_Development\\EEG-GAN\\EEG_Text_Pairs.pkl\", 'rb') as file:\n",
    "    EEG_word_level_embeddings = pickle.load(file)\n",
    "    EEG_word_level_labels = pickle.load(file)"
   ],
   "metadata": {
    "collapsed": false,
    "ExecuteTime": {
     "start_time": "2023-11-29T16:10:36.706023Z",
     "end_time": "2023-11-29T16:10:37.187876Z"
    }
   }
  },
  {
   "cell_type": "code",
   "execution_count": 81,
   "outputs": [],
   "source": [
    "def create_word_label_embeddings(Word_Labels_List):\n",
    "    tokenized_words = []\n",
    "    for i in range(len(Word_Labels_List)):\n",
    "        tokenized_words.append([Word_Labels_List[i]])\n",
    "    model = Word2Vec(sentences=tokenized_words, vector_size=word_embedding_dim, window=5, min_count=1, workers=4)\n",
    "    word_embeddings = {word: model.wv[word] for word in model.wv.index_to_key}\n",
    "    print(\"Number of word embeddings:\", len(word_embeddings))\n",
    "    #word, embedding = list(word_embeddings.items())[10]\n",
    "    #print(f\"Word: {word}, Embedding: {embedding}\")\n",
    "\n",
    "    Embedded_Word_labels = []\n",
    "    for word in EEG_word_level_labels:\n",
    "        Embedded_Word_labels.append(word_embeddings[word])\n",
    "\n",
    "    return Embedded_Word_labels, word_embeddings\n",
    "\n",
    "def create_dataloader(EEG_word_level_embeddings, Embedded_Word_labels):\n",
    "    #EEG_word_level_embeddings_normalize = (EEG_word_level_embeddings - np.mean(EEG_word_level_embeddings)) / np.std(EEG_word_level_embeddings)\n",
    "\n",
    "    # Assuming EEG_synthetic is the generated synthetic EEG data\n",
    "    #EEG_synthetic_denormalized = (EEG_synthetic * np.max(np.abs(EEG_word_level_embeddings))) + np.mean(EEG_word_level_embeddings)\n",
    "\n",
    "\n",
    "    EEG_word_level_embeddings_normalize = (EEG_word_level_embeddings - np.mean(EEG_word_level_embeddings)) / np.max(np.abs(EEG_word_level_embeddings))\n",
    "\n",
    "\n",
    "    float_tensor = torch.tensor(EEG_word_level_embeddings_normalize, dtype=torch.float)\n",
    "    float_tensor = float_tensor.unsqueeze(1)\n",
    "\n",
    "    #print(EEG_word_level_embeddings_normalize)\n",
    "    # Calculate mean and standard deviation\n",
    "    print(torch.isnan(float_tensor).any())\n",
    "\n",
    "    train_data = []\n",
    "    for i in range(len(float_tensor)):\n",
    "       train_data.append([float_tensor[i], Embedded_Word_labels[i]])\n",
    "    trainloader = torch.utils.data.DataLoader(train_data, shuffle=True, batch_size=64)\n",
    "    return trainloader"
   ],
   "metadata": {
    "collapsed": false,
    "ExecuteTime": {
     "start_time": "2023-11-29T16:10:37.264668Z",
     "end_time": "2023-11-29T16:10:37.282299Z"
    }
   }
  },
  {
   "cell_type": "code",
   "execution_count": 82,
   "outputs": [
    {
     "name": "stdout",
     "output_type": "stream",
     "text": [
      "Number of word embeddings: 2397\n",
      "tensor(False)\n"
     ]
    }
   ],
   "source": [
    "Embedded_Word_labels, word_embeddings = create_word_label_embeddings(EEG_word_level_labels)\n",
    "trainloader = create_dataloader(EEG_word_level_embeddings, Embedded_Word_labels)"
   ],
   "metadata": {
    "collapsed": false,
    "ExecuteTime": {
     "start_time": "2023-11-29T16:10:37.282299Z",
     "end_time": "2023-11-29T16:10:39.525634Z"
    }
   }
  },
  {
   "cell_type": "code",
   "execution_count": 83,
   "outputs": [],
   "source": [
    "i1, l1 = next(iter(trainloader))\n",
    "word_embedding = l1\n",
    "input_z = create_noise(64, 100, \"uniform\")"
   ],
   "metadata": {
    "collapsed": false,
    "ExecuteTime": {
     "start_time": "2023-11-29T16:10:39.530885Z",
     "end_time": "2023-11-29T16:10:39.556339Z"
    }
   }
  },
  {
   "cell_type": "code",
   "execution_count": 84,
   "outputs": [],
   "source": [
    "g_output = generate_samples(gen_model, input_z, word_embedding)"
   ],
   "metadata": {
    "collapsed": false,
    "ExecuteTime": {
     "start_time": "2023-11-29T16:10:39.555837Z",
     "end_time": "2023-11-29T16:10:39.669255Z"
    }
   }
  },
  {
   "cell_type": "code",
   "execution_count": 85,
   "outputs": [],
   "source": [
    "# Assuming EEG_synthetic is the generated synthetic EEG data\n",
    "EEG_synthetic_denormalized = (g_output * np.max(np.abs(EEG_word_level_embeddings))) + np.mean(EEG_word_level_embeddings)\n"
   ],
   "metadata": {
    "collapsed": false,
    "ExecuteTime": {
     "start_time": "2023-11-29T16:10:39.676431Z",
     "end_time": "2023-11-29T16:10:40.340655Z"
    }
   }
  },
  {
   "cell_type": "code",
   "execution_count": 87,
   "outputs": [
    {
     "data": {
      "text/plain": "array([[ 2.1955438 ,  2.6450155 ,  3.7999616 ,  4.759287  ,  3.892948  ,\n         2.2888477 ,  2.2012181 ,  2.629305  ],\n       [ 4.404852  ,  4.1778    ,  2.260309  ,  2.3867383 ,  3.905774  ,\n         3.23086   ,  3.83308   ,  4.1817355 ],\n       [ 1.392333  ,  2.6844435 ,  3.6532493 ,  1.8740801 ,  4.0452604 ,\n         3.8101861 ,  4.371214  ,  2.5289278 ],\n       [ 0.90442085,  1.700145  ,  2.5674434 ,  2.8517385 ,  2.604467  ,\n         2.281059  ,  2.044942  ,  1.3113654 ],\n       [ 1.6170524 ,  1.5853921 ,  2.0599527 ,  2.508909  ,  2.165251  ,\n         1.2945838 ,  1.2241237 ,  1.5874115 ],\n       [ 1.1482277 ,  1.5218067 ,  1.3293641 ,  1.0194237 ,  0.5397637 ,\n         0.6863346 ,  1.6726389 ,  1.6313049 ],\n       [ 1.7355064 ,  1.8320003 ,  1.8136117 ,  1.5623896 ,  1.7409168 ,\n         0.78047496,  1.9885063 ,  2.4840758 ],\n       [ 2.8789015 ,  2.8320374 ,  1.5604337 ,  1.5806464 ,  4.268983  ,\n         4.040824  ,  1.9493328 ,  2.089771  ],\n       [ 1.5232179 ,  1.4098688 ,  0.8906904 ,  3.078556  ,  3.1603088 ,\n         2.5816374 ,  1.9137872 ,  0.9956343 ],\n       [ 2.2331712 ,  4.2429585 ,  3.3452063 ,  1.9257686 ,  2.1989727 ,\n         2.2503777 ,  3.8189561 ,  2.7646658 ],\n       [ 2.5447838 ,  2.9854956 ,  2.9247527 ,  3.2529416 ,  4.106621  ,\n         3.3740177 ,  2.4350915 ,  2.2987947 ],\n       [ 1.5677557 ,  2.3442953 ,  2.9134598 ,  3.252854  ,  4.257923  ,\n         3.8295112 ,  3.5191057 ,  3.3249831 ],\n       [ 2.6133814 ,  4.621902  ,  5.8370447 ,  0.4778459 ,  2.2723148 ,\n         3.416105  ,  4.328422  ,  4.6526604 ],\n       [-0.7775619 ,  1.002207  ,  2.692203  ,  3.2072814 ,  2.4626684 ,\n         1.7075157 ,  0.96739626,  0.8610349 ],\n       [ 2.1064045 ,  2.9809613 ,  2.8374925 ,  2.2992477 ,  1.9500659 ,\n         2.289223  ,  2.2843883 ,  3.7139006 ],\n       [ 2.812491  ,  1.4147384 ,  2.4341588 ,  3.4125214 ,  1.5659579 ,\n         2.4224107 ,  3.68978   ,  3.1870058 ],\n       [ 2.4480648 ,  0.8257216 ,  2.9451642 ,  3.9977055 ,  4.4595037 ,\n         4.164952  ,  3.8031716 ,  1.5597124 ],\n       [ 2.951992  ,  6.3246164 ,  6.3053055 ,  5.063079  ,  2.3202705 ,\n         2.0768704 ,  5.6864243 ,  5.969244  ],\n       [ 6.3101807 ,  5.7769375 ,  7.512413  ,  6.3667707 ,  3.4572148 ,\n         2.8910213 ,  1.3393509 ,  5.1406612 ],\n       [ 5.595727  ,  6.614772  ,  4.822842  ,  2.3589377 ,  1.0440528 ,\n         5.7574234 ,  4.6650543 ,  3.969859  ],\n       [ 3.0540893 ,  5.3527155 ,  4.023547  ,  2.1048486 ,  2.1535306 ,\n         3.1049378 ,  2.4574447 ,  2.868531  ],\n       [ 1.0654005 ,  0.5048398 ,  0.34511685, -0.13639796,  3.3411958 ,\n         2.909821  ,  2.2393193 ,  1.2166566 ],\n       [ 0.36939025,  0.87068874,  2.734451  ,  2.6338525 ,  2.0439417 ,\n         1.8278425 ,  1.2073882 ,  3.1576445 ],\n       [ 2.0064986 ,  1.7217355 ,  2.3787932 ,  2.978441  ,  2.9793575 ,\n         2.4549353 ,  1.8762449 ,  1.3810859 ],\n       [ 2.4971383 ,  1.6654105 ,  2.6860147 ,  1.5972075 ,  2.4905927 ,\n         2.747962  ,  3.161247  ,  1.432806  ],\n       [ 2.003849  ,  2.6686418 ,  3.7301054 ,  4.4440846 ,  1.0788952 ,\n         0.92741907,  0.46722412,  2.6823256 ],\n       [ 2.5040665 , -0.4126532 ,  1.1497438 ,  0.7974025 ,  1.6645018 ,\n         1.6924696 ,  0.46467793,  0.5959358 ],\n       [-0.11682844,  0.7337836 ,  1.2038829 ,  1.1511028 ,  1.4510443 ,\n         0.40386808,  0.9336218 ,  0.76211977],\n       [ 1.5041252 ,  1.9138615 ,  0.2970245 ,  1.1983904 ,  2.2252095 ,\n         1.5750754 ,  2.309495  ,  3.6703172 ],\n       [ 1.5114354 ,  1.8036363 ,  1.4230337 ,  2.4518862 ,  3.7816641 ,\n         3.5652027 ,  4.052552  ,  3.5885868 ],\n       [ 2.4332066 ,  4.9635425 ,  6.000407  ,  7.61761   ,  6.9268436 ,\n         2.3908308 ,  2.6671402 ,  7.019165  ],\n       [ 8.344887  ,  8.53847   ,  8.084434  , 10.239668  ,  9.304949  ,\n         5.2844524 ,  2.1892774 ,  0.26376104],\n       [ 5.157048  ,  9.033553  ,  8.7673645 ,  6.6583004 ,  3.6184893 ,\n         0.7107048 ,  5.050197  ,  6.301256  ],\n       [ 4.2362237 ,  3.2638464 ,  3.5047326 ,  3.4848695 ,  2.497869  ,\n         1.0239944 ,  2.8267894 ,  2.1487746 ],\n       [ 1.9283237 ,  0.8110905 ,  0.20113504,  0.48229802,  0.15278125,\n         1.8190541 ,  2.564121  ,  1.9209548 ],\n       [ 1.15368   ,  1.2210469 ,  1.5093944 ,  2.4982188 ,  1.6622621 ,\n         1.9664782 ,  1.2392262 ,  2.1085496 ],\n       [ 3.5039701 ,  2.9730592 ,  2.7715297 ,  3.6600504 ,  2.5965128 ,\n         3.1993303 ,  4.0265484 ,  3.6611347 ],\n       [ 2.893806  ,  2.7404158 ,  1.4609426 ,  4.638691  ,  3.8090203 ,\n         2.1693754 ,  3.2652988 ,  3.217064  ],\n       [ 1.7343798 ,  3.652286  ,  4.2335234 ,  4.4902325 ,  4.375262  ,\n         1.2581122 ,  1.7850984 ,  3.140535  ],\n       [ 3.9019005 ,  2.943358  ,  0.06007659,  1.8214053 ,  1.1562791 ,\n         1.2893414 ,  1.601225  ,  1.3526411 ],\n       [ 0.73162174,  0.6081538 ,  0.10250342,  0.4565028 ,  0.9014572 ,\n         1.238941  ,  0.49487507,  0.8385444 ],\n       [ 0.80731106,  1.1529261 ,  1.4834832 ,  0.5404688 ,  1.1747296 ,\n         1.5524803 ,  0.53005767,  1.6936395 ],\n       [ 0.7412032 ,  1.0877986 ,  1.1844327 ,  1.5119332 ,  1.168433  ,\n         1.4648433 ,  1.0836811 ,  1.4338207 ],\n       [ 1.841389  ,  1.117069  ,  2.133294  ,  2.4190898 ,  2.4621756 ,\n         2.5680037 ,  1.1942223 ,  2.475474  ],\n       [ 2.5370917 ,  2.8659196 ,  2.644237  ,  3.0966768 ,  3.0045815 ,\n         3.0916924 ,  2.4497056 ,  1.9883566 ],\n       [ 0.4647143 ,  2.934487  ,  3.883217  ,  3.6730886 ,  3.1204066 ,\n         2.3111644 ,  1.8132875 ,  3.6020713 ],\n       [ 2.9983535 ,  2.9876246 ,  2.8637424 ,  2.5694723 ,  2.5184348 ,\n         2.259865  ,  1.8146603 ,  2.2195332 ],\n       [ 1.6555212 ,  2.0989606 ,  1.5344536 ,  0.78789717,  1.2203306 ,\n         1.1005824 ,  1.5280457 ,  1.603872  ],\n       [ 1.1496928 ,  1.4009354 ,  1.4599559 ,  2.3604324 ,  1.043603  ,\n         1.3192346 ,  1.3368647 ,  1.322046  ],\n       [ 2.3725767 ,  1.108038  ,  1.5160936 ,  1.558747  ,  1.9876533 ,\n         1.1994543 ,  1.186231  ,  1.7589827 ],\n       [ 1.9337764 ,  2.1860604 ,  2.0092561 ,  0.36824203,  2.1294925 ,\n         1.6554697 ,  2.972485  ,  1.9924859 ],\n       [ 1.3007842 ,  0.83835447,  1.6519388 ,  2.1787612 ,  2.1510391 ,\n         1.161361  ,  0.7962594 ,  0.29397464],\n       [ 1.135627  ,  1.3668538 ,  1.2750325 , -0.46857715,  1.0503031 ,\n         1.3959051 ,  1.4189761 ,  1.7119683 ],\n       [ 0.8491622 ,  1.0257128 ,  1.1205583 ,  1.5740595 ,  1.464525  ,\n         1.4440547 ,  1.2503262 ,  1.0159713 ],\n       [ 1.124665  ,  1.5892787 ,  1.3974442 ,  2.0754757 ,  1.0344331 ,\n         1.2610309 ,  1.3756793 ,  1.436141  ],\n       [ 1.5679526 ,  1.2168853 ,  2.0190692 ,  1.5685023 ,  1.6287484 ,\n         1.8641553 ,  1.9531497 ,  2.9463375 ],\n       [ 2.3815525 ,  4.0862765 ,  1.5440054 ,  3.15419   ,  3.6158094 ,\n         4.3155546 ,  5.1805887 ,  0.88489497],\n       [ 2.0912237 ,  5.2651834 ,  5.000923  ,  5.116166  ,  5.6297264 ,\n         5.7368402 ,  5.6147804 ,  4.272683  ],\n       [ 2.564733  ,  0.9622047 ,  3.824498  ,  5.705002  ,  5.6465573 ,\n         4.259738  ,  2.63502   ,  2.1746192 ],\n       [ 4.7726526 ,  5.6344347 ,  4.848878  ,  3.022118  ,  4.2017174 ,\n         4.0259867 ,  3.061986  ,  1.74752   ],\n       [ 2.932774  ,  2.8462982 ,  3.167385  ,  3.134584  ,  2.1784036 ,\n         1.5387623 ,  2.129981  ,  3.6130285 ],\n       [ 2.4880743 ,  3.1588974 ,  3.3045235 ,  2.7223098 ,  3.5136561 ,\n         2.959508  ,  3.4920535 ,  3.553771  ],\n       [ 3.9468608 ,  3.718854  ,  2.457644  ,  3.2511125 ,  4.2681904 ,\n         4.1704664 ,  3.535633  ,  3.0973759 ],\n       [ 3.4955997 ,  3.2426052 ,  3.2355676 ,  2.654398  ,  0.8032327 ,\n         3.8991272 ,  4.049982  ,  3.722992  ],\n       [ 2.1543853 ,  1.6108353 ,  1.0248622 ,  2.3369446 ,  2.9044514 ,\n         2.381279  ,  2.2426567 ,  0.6565745 ],\n       [ 0.549966  ,  1.6686251 ,  1.7412678 ,  1.3033086 , -0.1214937 ,\n         1.2552462 ,  1.608058  ,  1.1173517 ],\n       [ 1.8365006 ,  2.2959838 ,  2.3670392 ,  1.8353382 ,  2.0828602 ,\n         2.1177125 ,  3.156798  ,  3.7881908 ],\n       [ 1.9780942 ,  2.6280007 ,  2.7893562 ,  3.1070552 ,  3.6029081 ,\n         1.508463  ,  2.3870506 ,  3.112104  ],\n       [ 2.1774077 ,  3.5911608 ,  3.4813247 ,  3.0534012 ,  2.8017383 ,\n         1.8997976 ,  2.0969877 ,  3.463235  ],\n       [ 2.955378  ,  2.8786235 ,  2.7746313 ,  1.2974652 ,  2.1303844 ,\n         2.942473  ,  3.1167932 ,  2.744467  ],\n       [ 1.6813672 ,  1.8477827 ,  2.7314916 ,  3.1775734 ,  3.5510895 ,\n         3.001813  ,  3.1478548 ,  2.6557016 ],\n       [ 2.0183663 ,  1.7119834 ,  0.6155461 ,  3.7946172 ,  4.6466694 ,\n         3.3469179 ,  2.8442857 ,  2.1377506 ],\n       [ 3.2166429 ,  4.1483593 ,  4.3571568 ,  3.3123374 ,  3.0189238 ,\n         3.9992878 ,  4.0995045 ,  3.6565776 ],\n       [ 3.4485211 ,  4.149497  ,  3.3808823 ,  3.0889215 ,  2.4249501 ,\n         2.098781  ,  2.0025222 ,  2.0856235 ],\n       [ 3.7807715 ,  3.6204352 ,  3.494814  ,  2.9002113 ,  3.1917596 ,\n         3.615942  ,  2.9824264 ,  4.275319  ],\n       [ 3.4756038 ,  4.010976  ,  3.8295157 ,  3.3406885 ,  3.39531   ,\n         4.2563486 ,  3.8342028 ,  4.6387987 ],\n       [ 4.171914  ,  3.6267781 ,  4.2663097 ,  3.8033388 ,  3.7490022 ,\n         2.4600506 ,  4.290494  ,  3.308045  ],\n       [ 4.3713083 ,  4.5731673 ,  2.3892047 ,  1.0661603 ,  3.124198  ,\n         3.4725099 ,  3.940092  ,  3.2391627 ],\n       [ 1.4445426 ,  1.5064558 ,  2.8079367 ,  3.1636007 ,  3.2800462 ,\n        -0.09859371,  0.86416775,  0.5199096 ],\n       [ 2.1658854 ,  2.3081481 ,  1.4058299 ,  0.85948116,  1.0239923 ,\n         1.1223183 ,  1.3354541 ,  1.4934509 ],\n       [ 1.4042729 ,  1.1591117 ,  1.0892491 ,  1.3396921 ,  1.3718953 ,\n         1.9046359 ,  1.1876796 ,  1.2887402 ],\n       [ 1.8525261 ,  1.2670591 ,  1.651634  ,  1.8778089 ,  1.9998496 ,\n         1.4033402 ,  0.90752494,  1.0665123 ],\n       [ 1.3762474 ,  1.4527617 ,  1.4886208 ,  1.480805  ,  1.072274  ,\n         1.9089177 ,  2.0602574 ,  2.0670893 ],\n       [ 1.4251323 ,  0.9218871 ,  1.0998161 ,  1.8736575 ,  1.8813803 ,\n         1.7539294 ,  2.4178205 ,  2.3751307 ],\n       [ 1.4623063 ,  1.341172  ,  1.2441677 ,  0.56744194,  2.713511  ,\n         2.6792505 ,  2.3752046 ,  2.7179317 ],\n       [ 1.7138107 ,  1.4819418 ,  3.3618236 ,  3.525289  ,  2.508885  ,\n         2.0882168 ,  4.7036514 ,  3.654157  ],\n       [ 2.0036726 ,  1.717025  ,  4.4833174 ,  3.0739837 ,  2.5613701 ,\n         1.8662546 ,  1.0341891 ,  0.9714864 ],\n       [ 0.66085243,  3.6261625 ,  2.5824594 ,  1.9857308 ,  1.3791605 ,\n         1.2119809 ,  0.8458961 ,  1.9977286 ],\n       [ 1.9228033 ,  1.8881865 ,  1.2344668 ,  1.0892012 ,  2.4842663 ,\n         1.8446093 ,  1.739856  ,  1.6344584 ],\n       [ 1.8924943 ,  2.4975045 ,  1.6199057 ,  1.0401354 ,  0.9031554 ,\n         1.133326  ,  0.9058952 ,  1.9238224 ],\n       [ 1.0816727 ,  1.2329705 ,  1.0331287 ,  1.0623723 ,  1.1876736 ,\n         1.7649208 ,  1.2386913 ,  1.2033865 ],\n       [ 1.4788803 ,  0.80324364,  0.6277548 ,  1.0577409 ,  0.95788664,\n         1.4483097 , -0.49271846,  1.6041046 ],\n       [ 1.2272279 ,  0.9592041 ,  1.4762279 ,  1.1356888 ,  0.840059  ,\n         1.1109767 ,  0.64279234,  1.6257757 ],\n       [ 1.1938071 ,  1.1755259 ,  0.7073021 ,  1.1832173 ,  0.8015916 ,\n         1.3416564 ,  1.3721223 ,  1.151418  ],\n       [ 1.0618483 ,  1.5045677 ,  0.78682023,  1.4440982 ,  1.9357982 ,\n         1.327897  ,  0.89723647,  0.4640671 ],\n       [ 1.0475104 ,  1.4365267 ,  1.2453423 ,  1.1344476 ,  1.4420593 ,\n         1.3036159 ,  1.9140528 ,  1.735815  ],\n       [ 1.7920139 ,  1.5190543 ,  1.3297006 ,  1.4928491 ,  2.084517  ,\n         1.91031   ,  1.617882  ,  2.1268144 ],\n       [ 1.590903  ,  2.0478106 ,  0.9072756 ,  1.0693702 , -0.24467182,\n         1.9252518 ,  1.7813019 ,  1.560619  ],\n       [ 1.5232186 ,  1.2980535 ,  1.7003231 ,  2.4686198 ,  2.404313  ,\n         2.323091  ,  1.5592868 ,  3.0237653 ],\n       [ 2.6458716 ,  1.9849501 ,  1.721209  ,  3.2831035 ,  3.646635  ,\n         2.059956  ,  2.9138784 ,  1.0566404 ],\n       [ 1.2710681 ,  1.0588238 ,  4.221407  ,  3.9912412 ,  3.6266215 ,\n         2.435485  ,  1.2993109 ,  0.8624434 ],\n       [ 2.9573815 ,  2.9272408 ,  2.8565679 ,  1.881392  ,  2.0853949 ,\n         3.449411  ,  2.5936294 ,  2.7072563 ],\n       [ 1.4414663 ,  2.569538  ,  2.911788  ,  2.094835  ,  1.4945569 ,\n         1.1915464 ,  0.8544903 ,  1.0552999 ],\n       [ 1.7294357 ,  1.7096676 ,  1.3688624 ,  1.166349  ,  0.78204584,\n         0.9181591 ,  1.5138303 ,  1.2665681 ],\n       [ 1.3614575 ,  1.1418372 ,  0.9112072 ,  0.5296265 ,  0.9439371 ,\n         1.1596582 ,  1.3989253 , -0.083745  ]], dtype=float32)"
     },
     "execution_count": 87,
     "metadata": {},
     "output_type": "execute_result"
    }
   ],
   "source": [
    "EEG_synthetic_denormalized[0][0]"
   ],
   "metadata": {
    "collapsed": false,
    "ExecuteTime": {
     "start_time": "2023-11-29T16:11:08.687517Z",
     "end_time": "2023-11-29T16:11:08.710624Z"
    }
   }
  },
  {
   "cell_type": "code",
   "execution_count": null,
   "outputs": [],
   "source": [],
   "metadata": {
    "collapsed": false
   }
  }
 ],
 "metadata": {
  "kernelspec": {
   "display_name": "Python 3",
   "language": "python",
   "name": "python3"
  },
  "language_info": {
   "codemirror_mode": {
    "name": "ipython",
    "version": 2
   },
   "file_extension": ".py",
   "mimetype": "text/x-python",
   "name": "python",
   "nbconvert_exporter": "python",
   "pygments_lexer": "ipython2",
   "version": "2.7.6"
  }
 },
 "nbformat": 4,
 "nbformat_minor": 0
}
