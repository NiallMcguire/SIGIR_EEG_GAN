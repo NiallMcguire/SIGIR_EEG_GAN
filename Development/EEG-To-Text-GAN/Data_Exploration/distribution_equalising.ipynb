{
 "cells": [
  {
   "cell_type": "code",
   "execution_count": 1,
   "metadata": {
    "collapsed": true,
    "ExecuteTime": {
     "start_time": "2023-12-11T10:16:28.635075Z",
     "end_time": "2023-12-11T10:16:28.646368Z"
    }
   },
   "outputs": [],
   "source": [
    "import random\n",
    "from collections import Counter\n",
    "\n",
    "\n"
   ]
  },
  {
   "cell_type": "code",
   "execution_count": 31,
   "outputs": [
    {
     "data": {
      "text/plain": "Counter({'ejytx': 209,\n         'xjkhz': 204,\n         'plfix': 203,\n         'uibpm': 199,\n         'dhmyi': 191,\n         'udttd': 190,\n         'ktepb': 189,\n         'rlimr': 187,\n         'uqjrd': 183,\n         'ixbjw': 181,\n         'mjecl': 178,\n         'ljbml': 177,\n         'cpddr': 177,\n         'qqxjh': 176,\n         'tjqtq': 175,\n         'rqauv': 174,\n         'lqfgl': 172,\n         'rycro': 171,\n         'wbizx': 169,\n         'bevjg': 166,\n         'ywtcc': 165,\n         'rklkx': 165,\n         'dbtuo': 162,\n         'jmcfx': 160,\n         'lznku': 157,\n         'ghfgc': 154,\n         'mxjyv': 152,\n         'abrhd': 151,\n         'kvfro': 144,\n         'bcpju': 139,\n         'nennf': 138,\n         'mjkaa': 136,\n         'xmzjv': 131,\n         'iupye': 129,\n         'dyjtq': 129,\n         'fhhto': 126,\n         'hlshq': 121,\n         'cqgbw': 119,\n         'ahvoz': 118,\n         'crmqq': 118,\n         'iqzbs': 116,\n         'wnkav': 116,\n         'rwsal': 116,\n         'rfitn': 114,\n         'enxtf': 112,\n         'dkzvq': 109,\n         'djaxk': 109,\n         'htxte': 106,\n         'jsppo': 104,\n         'sticx': 103,\n         'emsmt': 100,\n         'xnmxw': 98,\n         'oxacg': 98,\n         'kiqav': 93,\n         'jmonp': 91,\n         'dttrt': 87,\n         'xyaiw': 86,\n         'ochfx': 86,\n         'tgtdf': 81,\n         'xsqck': 81,\n         'pdjkk': 80,\n         'scuye': 80,\n         'khkqy': 73,\n         'ofome': 70,\n         'bzchn': 70,\n         'fvxit': 68,\n         'ebvpb': 66,\n         'hzfot': 64,\n         'hlkfh': 60,\n         'itppz': 56,\n         'jkyjk': 55,\n         'edoih': 52,\n         'ydbsm': 50,\n         'jbviw': 48,\n         'imxue': 48,\n         'nxtlh': 47,\n         'lpobz': 47,\n         'qxies': 46,\n         'fwtev': 45,\n         'fuyym': 40,\n         'huwqb': 36,\n         'qfxdy': 36,\n         'itnln': 36,\n         'yylgv': 33,\n         'jlvlf': 29,\n         'argcv': 25,\n         'hocor': 24,\n         'bxyiz': 24,\n         'evfor': 24,\n         'gqzlh': 21,\n         'fowaw': 19,\n         'xyljb': 16,\n         'lhkfo': 11,\n         'aqpcq': 4,\n         'fulbk': 3,\n         'lfilt': 1,\n         'vmggj': 1,\n         'dttur': 1})"
     },
     "execution_count": 31,
     "metadata": {},
     "output_type": "execute_result"
    }
   ],
   "source": [
    "import random\n",
    "import string\n",
    "\n",
    "def generate_corpus(max_frequency=100, corpus_size=1000):\n",
    "    \"\"\"\n",
    "    Generate a corpus of words with varying frequencies.\n",
    "\n",
    "    Parameters:\n",
    "    - max_frequency: The maximum frequency for any word (default is 100).\n",
    "    - corpus_size: The size of the generated corpus (default is 1000).\n",
    "\n",
    "    Returns:\n",
    "    A list representing the generated corpus.\n",
    "    \"\"\"\n",
    "    # Generate a vocabulary of unique words (up to 100)\n",
    "    vocabulary_size = min(100, corpus_size)\n",
    "    vocabulary = [''.join(random.choice(string.ascii_lowercase) for _ in range(5)) for _ in range(vocabulary_size)]\n",
    "\n",
    "    # Generate frequencies for each word\n",
    "    frequencies = {word: random.randint(1, max_frequency) for word in vocabulary}\n",
    "\n",
    "    # Create the corpus\n",
    "    corpus = []\n",
    "    for word, frequency in frequencies.items():\n",
    "        corpus.extend([word] * frequency)\n",
    "\n",
    "    # Shuffle the corpus to randomize word order\n",
    "    random.shuffle(corpus)\n",
    "\n",
    "    # Trim the corpus to the specified size\n",
    "    corpus = corpus[:corpus_size]\n",
    "\n",
    "    return corpus\n",
    "\n",
    "# Example usage\n",
    "generated_corpus = generate_corpus(max_frequency=1000, corpus_size=10000)\n",
    "Counter(generated_corpus)  # Count the occurrences of each word in the generated corpus"
   ],
   "metadata": {
    "collapsed": false,
    "ExecuteTime": {
     "start_time": "2023-12-11T10:22:48.713982Z",
     "end_time": "2023-12-11T10:22:48.732532Z"
    }
   }
  },
  {
   "cell_type": "code",
   "execution_count": 32,
   "outputs": [],
   "source": [
    "from collections import Counter\n",
    "\n",
    "def equalise_word_count(words, augmentation_factor=20):\n",
    "    # Count the occurrences of each word\n",
    "    word_counts = Counter(words)\n",
    "    new_list = words.copy()\n",
    "    max_word = max(word_counts.values())\n",
    "\n",
    "    # Augment the corpus by adding additional copies of each word\n",
    "    for word, count in word_counts.items():\n",
    "        new_list.extend([word] * (augmentation_factor * (max_word - count)))\n",
    "\n",
    "    # Shuffle the corpus to randomize word order\n",
    "    random.shuffle(new_list)\n",
    "\n",
    "    return new_list\n",
    "\n",
    "\n"
   ],
   "metadata": {
    "collapsed": false,
    "ExecuteTime": {
     "start_time": "2023-12-11T10:22:48.899379Z",
     "end_time": "2023-12-11T10:22:48.908202Z"
    }
   }
  },
  {
   "cell_type": "code",
   "execution_count": 33,
   "outputs": [
    {
     "data": {
      "text/plain": "Counter({'dttur': 4161,\n         'vmggj': 4161,\n         'lfilt': 4161,\n         'fulbk': 4123,\n         'aqpcq': 4104,\n         'lhkfo': 3971,\n         'xyljb': 3876,\n         'fowaw': 3819,\n         'gqzlh': 3781,\n         'bxyiz': 3724,\n         'evfor': 3724,\n         'hocor': 3724,\n         'argcv': 3705,\n         'jlvlf': 3629,\n         'yylgv': 3553,\n         'huwqb': 3496,\n         'itnln': 3496,\n         'qfxdy': 3496,\n         'fuyym': 3420,\n         'fwtev': 3325,\n         'qxies': 3306,\n         'nxtlh': 3287,\n         'lpobz': 3287,\n         'imxue': 3268,\n         'jbviw': 3268,\n         'ydbsm': 3230,\n         'edoih': 3192,\n         'jkyjk': 3135,\n         'itppz': 3116,\n         'hlkfh': 3040,\n         'hzfot': 2964,\n         'ebvpb': 2926,\n         'fvxit': 2888,\n         'ofome': 2850,\n         'bzchn': 2850,\n         'khkqy': 2793,\n         'scuye': 2660,\n         'pdjkk': 2660,\n         'tgtdf': 2641,\n         'xsqck': 2641,\n         'ochfx': 2546,\n         'xyaiw': 2546,\n         'dttrt': 2527,\n         'jmonp': 2451,\n         'kiqav': 2413,\n         'xnmxw': 2318,\n         'oxacg': 2318,\n         'emsmt': 2280,\n         'sticx': 2223,\n         'jsppo': 2204,\n         'htxte': 2166,\n         'dkzvq': 2109,\n         'djaxk': 2109,\n         'enxtf': 2052,\n         'rfitn': 2014,\n         'wnkav': 1976,\n         'iqzbs': 1976,\n         'rwsal': 1976,\n         'ahvoz': 1938,\n         'crmqq': 1938,\n         'cqgbw': 1919,\n         'hlshq': 1881,\n         'fhhto': 1786,\n         'dyjtq': 1729,\n         'iupye': 1729,\n         'xmzjv': 1691,\n         'mjkaa': 1596,\n         'nennf': 1558,\n         'bcpju': 1539,\n         'kvfro': 1444,\n         'abrhd': 1311,\n         'mxjyv': 1292,\n         'ghfgc': 1254,\n         'lznku': 1197,\n         'jmcfx': 1140,\n         'dbtuo': 1102,\n         'rklkx': 1045,\n         'ywtcc': 1045,\n         'bevjg': 1026,\n         'wbizx': 969,\n         'rycro': 931,\n         'lqfgl': 912,\n         'rqauv': 874,\n         'tjqtq': 855,\n         'qqxjh': 836,\n         'ljbml': 817,\n         'cpddr': 817,\n         'mjecl': 798,\n         'ixbjw': 741,\n         'uqjrd': 703,\n         'rlimr': 627,\n         'ktepb': 589,\n         'udttd': 570,\n         'dhmyi': 551,\n         'uibpm': 399,\n         'plfix': 323,\n         'xjkhz': 304,\n         'ejytx': 209})"
     },
     "execution_count": 33,
     "metadata": {},
     "output_type": "execute_result"
    }
   ],
   "source": [
    "output_words = equalise_word_count(generated_corpus)\n",
    "Counter(output_words)"
   ],
   "metadata": {
    "collapsed": false,
    "ExecuteTime": {
     "start_time": "2023-12-11T10:22:49.087447Z",
     "end_time": "2023-12-11T10:22:49.218835Z"
    }
   }
  },
  {
   "cell_type": "code",
   "execution_count": 58,
   "outputs": [
    {
     "name": "stdout",
     "output_type": "stream",
     "text": [
      "10000\n"
     ]
    },
    {
     "data": {
      "text/plain": "14000"
     },
     "execution_count": 58,
     "metadata": {},
     "output_type": "execute_result"
    }
   ],
   "source": [
    "import random\n",
    "\n",
    "def augment_list(original_list, augmentation_percentage):\n",
    "    # Count the frequency of each word in the original list\n",
    "    print(len(original_list))\n",
    "\n",
    "    word_counts = {}\n",
    "    for word in original_list:\n",
    "        word_counts[word] = word_counts.get(word, 0) + 1\n",
    "\n",
    "    # Identify less frequent words\n",
    "    unique_words = list(set(original_list))\n",
    "    less_frequent_words = sorted(unique_words, key=lambda x: word_counts[x])\n",
    "    #print(less_frequent_words)\n",
    "\n",
    "    # Determine the number of words to add for augmentation\n",
    "    num_words_to_add = int(len(original_list) * augmentation_percentage)\n",
    "\n",
    "    # Augment the list with less frequent words\n",
    "    augmented_list = original_list.copy()\n",
    "    for _ in range(num_words_to_add):\n",
    "        # Choose a word with higher probability for less frequent words\n",
    "        chosen_word = random.choices(less_frequent_words)[0]\n",
    "        augmented_list.append(chosen_word)\n",
    "\n",
    "    return augmented_list\n",
    "\n",
    "# Example usage\n",
    "augmented_list = augment_list(generated_corpus, 0.4)\n",
    "len(augmented_list)\n",
    "\n"
   ],
   "metadata": {
    "collapsed": false,
    "ExecuteTime": {
     "start_time": "2023-12-11T10:28:32.861168Z",
     "end_time": "2023-12-11T10:28:32.877702Z"
    }
   }
  },
  {
   "cell_type": "code",
   "execution_count": 58,
   "outputs": [],
   "source": [],
   "metadata": {
    "collapsed": false,
    "ExecuteTime": {
     "start_time": "2023-12-11T10:28:33.151861Z",
     "end_time": "2023-12-11T10:28:33.163839Z"
    }
   }
  },
  {
   "cell_type": "code",
   "execution_count": 59,
   "outputs": [
    {
     "data": {
      "text/plain": "Counter({'ejytx': 209,\n         'xjkhz': 204,\n         'plfix': 203,\n         'uibpm': 199,\n         'dhmyi': 191,\n         'udttd': 190,\n         'ktepb': 189,\n         'rlimr': 187,\n         'uqjrd': 183,\n         'ixbjw': 181,\n         'mjecl': 178,\n         'ljbml': 177,\n         'cpddr': 177,\n         'qqxjh': 176,\n         'tjqtq': 175,\n         'rqauv': 174,\n         'lqfgl': 172,\n         'rycro': 171,\n         'wbizx': 169,\n         'bevjg': 166,\n         'ywtcc': 165,\n         'rklkx': 165,\n         'dbtuo': 162,\n         'jmcfx': 160,\n         'lznku': 157,\n         'ghfgc': 154,\n         'mxjyv': 152,\n         'abrhd': 151,\n         'kvfro': 144,\n         'bcpju': 139,\n         'nennf': 138,\n         'mjkaa': 136,\n         'xmzjv': 131,\n         'iupye': 129,\n         'dyjtq': 129,\n         'fhhto': 126,\n         'hlshq': 121,\n         'cqgbw': 119,\n         'ahvoz': 118,\n         'crmqq': 118,\n         'iqzbs': 116,\n         'wnkav': 116,\n         'rwsal': 116,\n         'rfitn': 114,\n         'enxtf': 112,\n         'dkzvq': 109,\n         'djaxk': 109,\n         'htxte': 106,\n         'jsppo': 104,\n         'sticx': 103,\n         'emsmt': 100,\n         'xnmxw': 98,\n         'oxacg': 98,\n         'kiqav': 93,\n         'jmonp': 91,\n         'dttrt': 87,\n         'xyaiw': 86,\n         'ochfx': 86,\n         'tgtdf': 81,\n         'xsqck': 81,\n         'pdjkk': 80,\n         'scuye': 80,\n         'khkqy': 73,\n         'ofome': 70,\n         'bzchn': 70,\n         'fvxit': 68,\n         'ebvpb': 66,\n         'hzfot': 64,\n         'hlkfh': 60,\n         'itppz': 56,\n         'jkyjk': 55,\n         'edoih': 52,\n         'ydbsm': 50,\n         'jbviw': 48,\n         'imxue': 48,\n         'nxtlh': 47,\n         'lpobz': 47,\n         'qxies': 46,\n         'fwtev': 45,\n         'fuyym': 40,\n         'huwqb': 36,\n         'qfxdy': 36,\n         'itnln': 36,\n         'yylgv': 33,\n         'jlvlf': 29,\n         'argcv': 25,\n         'hocor': 24,\n         'bxyiz': 24,\n         'evfor': 24,\n         'gqzlh': 21,\n         'fowaw': 19,\n         'xyljb': 16,\n         'lhkfo': 11,\n         'aqpcq': 4,\n         'fulbk': 3,\n         'lfilt': 1,\n         'vmggj': 1,\n         'dttur': 1})"
     },
     "execution_count": 59,
     "metadata": {},
     "output_type": "execute_result"
    }
   ],
   "source": [
    "Counter(generated_corpus)"
   ],
   "metadata": {
    "collapsed": false,
    "ExecuteTime": {
     "start_time": "2023-12-11T10:28:33.428628Z",
     "end_time": "2023-12-11T10:28:33.451701Z"
    }
   }
  },
  {
   "cell_type": "code",
   "execution_count": 60,
   "outputs": [
    {
     "data": {
      "text/plain": "Counter({'xjkhz': 255,\n         'uibpm': 251,\n         'plfix': 242,\n         'ejytx': 240,\n         'rlimr': 237,\n         'udttd': 234,\n         'dhmyi': 231,\n         'qqxjh': 231,\n         'mjecl': 227,\n         'ktepb': 227,\n         'cpddr': 225,\n         'ixbjw': 221,\n         'uqjrd': 219,\n         'rycro': 215,\n         'rqauv': 214,\n         'tjqtq': 211,\n         'ljbml': 211,\n         'bevjg': 211,\n         'rklkx': 210,\n         'dbtuo': 207,\n         'wbizx': 205,\n         'ywtcc': 204,\n         'lqfgl': 202,\n         'ghfgc': 199,\n         'mxjyv': 196,\n         'lznku': 196,\n         'jmcfx': 191,\n         'nennf': 188,\n         'abrhd': 186,\n         'kvfro': 182,\n         'mjkaa': 177,\n         'iupye': 175,\n         'cqgbw': 175,\n         'xmzjv': 175,\n         'hlshq': 172,\n         'fhhto': 170,\n         'rwsal': 167,\n         'bcpju': 161,\n         'dyjtq': 161,\n         'rfitn': 160,\n         'wnkav': 159,\n         'crmqq': 157,\n         'ahvoz': 156,\n         'htxte': 155,\n         'xnmxw': 153,\n         'iqzbs': 150,\n         'dkzvq': 150,\n         'djaxk': 150,\n         'enxtf': 150,\n         'jsppo': 147,\n         'kiqav': 147,\n         'sticx': 147,\n         'emsmt': 145,\n         'oxacg': 136,\n         'dttrt': 131,\n         'xsqck': 127,\n         'jmonp': 122,\n         'tgtdf': 119,\n         'xyaiw': 118,\n         'pdjkk': 114,\n         'scuye': 114,\n         'khkqy': 114,\n         'ochfx': 111,\n         'ofome': 108,\n         'fvxit': 106,\n         'ebvpb': 104,\n         'bzchn': 102,\n         'hzfot': 101,\n         'lpobz': 101,\n         'hlkfh': 99,\n         'ydbsm': 97,\n         'jkyjk': 94,\n         'itppz': 92,\n         'itnln': 89,\n         'huwqb': 87,\n         'qxies': 87,\n         'nxtlh': 84,\n         'jbviw': 83,\n         'edoih': 83,\n         'fwtev': 82,\n         'imxue': 82,\n         'qfxdy': 76,\n         'bxyiz': 75,\n         'fuyym': 72,\n         'yylgv': 71,\n         'gqzlh': 68,\n         'evfor': 67,\n         'jlvlf': 64,\n         'hocor': 57,\n         'fowaw': 57,\n         'dttur': 52,\n         'argcv': 51,\n         'xyljb': 51,\n         'aqpcq': 48,\n         'fulbk': 48,\n         'lhkfo': 45,\n         'vmggj': 43,\n         'lfilt': 41})"
     },
     "execution_count": 60,
     "metadata": {},
     "output_type": "execute_result"
    }
   ],
   "source": [
    "Counter(augmented_list)"
   ],
   "metadata": {
    "collapsed": false,
    "ExecuteTime": {
     "start_time": "2023-12-11T10:28:34.029361Z",
     "end_time": "2023-12-11T10:28:34.054442Z"
    }
   }
  },
  {
   "cell_type": "code",
   "execution_count": 36,
   "outputs": [],
   "source": [],
   "metadata": {
    "collapsed": false,
    "ExecuteTime": {
     "start_time": "2023-12-11T10:22:50.377457Z",
     "end_time": "2023-12-11T10:22:50.395270Z"
    }
   }
  },
  {
   "cell_type": "code",
   "execution_count": 36,
   "outputs": [],
   "source": [],
   "metadata": {
    "collapsed": false,
    "ExecuteTime": {
     "start_time": "2023-12-11T10:22:50.667810Z",
     "end_time": "2023-12-11T10:22:50.703212Z"
    }
   }
  },
  {
   "cell_type": "code",
   "execution_count": 80,
   "outputs": [
    {
     "data": {
      "text/plain": "14000"
     },
     "execution_count": 80,
     "metadata": {},
     "output_type": "execute_result"
    }
   ],
   "source": [
    "def augment_list(original_list, augmentation_percentage, balance_factor=0.15):\n",
    "    # Count the frequency of each word in the original list\n",
    "    word_counts = {}\n",
    "    for word in original_list:\n",
    "        word_counts[word] = word_counts.get(word, 0) + 1\n",
    "\n",
    "    # Identify less frequent words\n",
    "    unique_words = list(set(original_list))\n",
    "    less_frequent_words = sorted(unique_words, key=lambda x: word_counts[x])\n",
    "\n",
    "    # Determine the number of words to add for augmentation\n",
    "    num_words_to_add = int(len(original_list) * augmentation_percentage)\n",
    "\n",
    "    # Augment the list with less frequent words\n",
    "    augmented_list = original_list.copy()\n",
    "    for _ in range(num_words_to_add):\n",
    "        # Choose a word with higher probability for less frequent words\n",
    "        weights = [1/(word_counts[word]**balance_factor) for word in less_frequent_words]\n",
    "        chosen_word = random.choices(less_frequent_words, weights=weights)[0]\n",
    "        augmented_list.append(chosen_word)\n",
    "\n",
    "    return augmented_list\n",
    "\n",
    "augmented_list = augment_list(generated_corpus, 0.4)\n",
    "len(augmented_list)\n"
   ],
   "metadata": {
    "collapsed": false,
    "ExecuteTime": {
     "start_time": "2023-12-11T10:34:05.551794Z",
     "end_time": "2023-12-11T10:34:05.665979Z"
    }
   }
  },
  {
   "cell_type": "code",
   "execution_count": 81,
   "outputs": [
    {
     "data": {
      "text/plain": "Counter({'ejytx': 209,\n         'xjkhz': 204,\n         'plfix': 203,\n         'uibpm': 199,\n         'dhmyi': 191,\n         'udttd': 190,\n         'ktepb': 189,\n         'rlimr': 187,\n         'uqjrd': 183,\n         'ixbjw': 181,\n         'mjecl': 178,\n         'ljbml': 177,\n         'cpddr': 177,\n         'qqxjh': 176,\n         'tjqtq': 175,\n         'rqauv': 174,\n         'lqfgl': 172,\n         'rycro': 171,\n         'wbizx': 169,\n         'bevjg': 166,\n         'ywtcc': 165,\n         'rklkx': 165,\n         'dbtuo': 162,\n         'jmcfx': 160,\n         'lznku': 157,\n         'ghfgc': 154,\n         'mxjyv': 152,\n         'abrhd': 151,\n         'kvfro': 144,\n         'bcpju': 139,\n         'nennf': 138,\n         'mjkaa': 136,\n         'xmzjv': 131,\n         'iupye': 129,\n         'dyjtq': 129,\n         'fhhto': 126,\n         'hlshq': 121,\n         'cqgbw': 119,\n         'ahvoz': 118,\n         'crmqq': 118,\n         'iqzbs': 116,\n         'wnkav': 116,\n         'rwsal': 116,\n         'rfitn': 114,\n         'enxtf': 112,\n         'dkzvq': 109,\n         'djaxk': 109,\n         'htxte': 106,\n         'jsppo': 104,\n         'sticx': 103,\n         'emsmt': 100,\n         'xnmxw': 98,\n         'oxacg': 98,\n         'kiqav': 93,\n         'jmonp': 91,\n         'dttrt': 87,\n         'xyaiw': 86,\n         'ochfx': 86,\n         'tgtdf': 81,\n         'xsqck': 81,\n         'pdjkk': 80,\n         'scuye': 80,\n         'khkqy': 73,\n         'ofome': 70,\n         'bzchn': 70,\n         'fvxit': 68,\n         'ebvpb': 66,\n         'hzfot': 64,\n         'hlkfh': 60,\n         'itppz': 56,\n         'jkyjk': 55,\n         'edoih': 52,\n         'ydbsm': 50,\n         'jbviw': 48,\n         'imxue': 48,\n         'nxtlh': 47,\n         'lpobz': 47,\n         'qxies': 46,\n         'fwtev': 45,\n         'fuyym': 40,\n         'huwqb': 36,\n         'qfxdy': 36,\n         'itnln': 36,\n         'yylgv': 33,\n         'jlvlf': 29,\n         'argcv': 25,\n         'hocor': 24,\n         'bxyiz': 24,\n         'evfor': 24,\n         'gqzlh': 21,\n         'fowaw': 19,\n         'xyljb': 16,\n         'lhkfo': 11,\n         'aqpcq': 4,\n         'fulbk': 3,\n         'lfilt': 1,\n         'vmggj': 1,\n         'dttur': 1})"
     },
     "execution_count": 81,
     "metadata": {},
     "output_type": "execute_result"
    }
   ],
   "source": [
    "Counter(generated_corpus)"
   ],
   "metadata": {
    "collapsed": false,
    "ExecuteTime": {
     "start_time": "2023-12-11T10:34:06.006790Z",
     "end_time": "2023-12-11T10:34:06.027524Z"
    }
   }
  },
  {
   "cell_type": "code",
   "execution_count": 82,
   "outputs": [
    {
     "data": {
      "text/plain": "Counter({'ejytx': 245,\n         'uibpm': 239,\n         'ktepb': 232,\n         'dhmyi': 231,\n         'plfix': 230,\n         'xjkhz': 229,\n         'udttd': 227,\n         'uqjrd': 224,\n         'qqxjh': 218,\n         'rycro': 215,\n         'bevjg': 213,\n         'rlimr': 212,\n         'wbizx': 211,\n         'ixbjw': 211,\n         'cpddr': 211,\n         'rqauv': 211,\n         'tjqtq': 207,\n         'ljbml': 206,\n         'ywtcc': 206,\n         'lqfgl': 205,\n         'mjecl': 205,\n         'rklkx': 200,\n         'dbtuo': 198,\n         'lznku': 196,\n         'mxjyv': 195,\n         'ghfgc': 195,\n         'jmcfx': 191,\n         'kvfro': 187,\n         'abrhd': 187,\n         'bcpju': 178,\n         'iupye': 174,\n         'mjkaa': 173,\n         'nennf': 172,\n         'fhhto': 167,\n         'cqgbw': 166,\n         'xmzjv': 165,\n         'dyjtq': 159,\n         'hlshq': 156,\n         'crmqq': 153,\n         'ahvoz': 152,\n         'htxte': 152,\n         'rfitn': 151,\n         'wnkav': 150,\n         'iqzbs': 146,\n         'emsmt': 146,\n         'rwsal': 145,\n         'oxacg': 145,\n         'enxtf': 144,\n         'djaxk': 143,\n         'dkzvq': 142,\n         'sticx': 141,\n         'tgtdf': 137,\n         'jsppo': 136,\n         'jmonp': 131,\n         'kiqav': 131,\n         'pdjkk': 128,\n         'xyaiw': 128,\n         'ochfx': 128,\n         'scuye': 125,\n         'dttrt': 124,\n         'xnmxw': 122,\n         'xsqck': 118,\n         'ofome': 107,\n         'fvxit': 105,\n         'khkqy': 105,\n         'ebvpb': 104,\n         'bzchn': 103,\n         'hlkfh': 102,\n         'jkyjk': 102,\n         'hzfot': 101,\n         'imxue': 101,\n         'qxies': 98,\n         'itppz': 95,\n         'nxtlh': 90,\n         'ydbsm': 90,\n         'lpobz': 89,\n         'itnln': 89,\n         'yylgv': 87,\n         'edoih': 87,\n         'jbviw': 86,\n         'fuyym': 85,\n         'huwqb': 82,\n         'fwtev': 82,\n         'vmggj': 82,\n         'qfxdy': 80,\n         'dttur': 75,\n         'xyljb': 73,\n         'argcv': 72,\n         'jlvlf': 72,\n         'lfilt': 72,\n         'bxyiz': 68,\n         'aqpcq': 68,\n         'gqzlh': 67,\n         'hocor': 66,\n         'lhkfo': 66,\n         'evfor': 65,\n         'fowaw': 61,\n         'fulbk': 58})"
     },
     "execution_count": 82,
     "metadata": {},
     "output_type": "execute_result"
    }
   ],
   "source": [
    "Counter(augmented_list)"
   ],
   "metadata": {
    "collapsed": false,
    "ExecuteTime": {
     "start_time": "2023-12-11T10:34:06.463888Z",
     "end_time": "2023-12-11T10:34:06.481113Z"
    }
   }
  },
  {
   "cell_type": "code",
   "execution_count": 52,
   "outputs": [],
   "source": [],
   "metadata": {
    "collapsed": false,
    "ExecuteTime": {
     "start_time": "2023-12-11T10:27:34.099208Z",
     "end_time": "2023-12-11T10:27:34.099208Z"
    }
   }
  },
  {
   "cell_type": "code",
   "execution_count": null,
   "outputs": [],
   "source": [],
   "metadata": {
    "collapsed": false,
    "ExecuteTime": {
     "start_time": "2023-12-11T10:15:40.511940Z",
     "end_time": "2023-12-11T10:15:40.530962Z"
    }
   }
  },
  {
   "cell_type": "code",
   "execution_count": null,
   "outputs": [],
   "source": [],
   "metadata": {
    "collapsed": false,
    "ExecuteTime": {
     "start_time": "2023-12-11T10:15:40.525924Z",
     "end_time": "2023-12-11T10:15:40.559397Z"
    }
   }
  },
  {
   "cell_type": "code",
   "execution_count": null,
   "outputs": [],
   "source": [],
   "metadata": {
    "collapsed": false,
    "ExecuteTime": {
     "start_time": "2023-12-11T10:15:40.541160Z",
     "end_time": "2023-12-11T10:15:40.559397Z"
    }
   }
  },
  {
   "cell_type": "code",
   "execution_count": null,
   "outputs": [],
   "source": [],
   "metadata": {
    "collapsed": false
   }
  }
 ],
 "metadata": {
  "kernelspec": {
   "display_name": "Python 3",
   "language": "python",
   "name": "python3"
  },
  "language_info": {
   "codemirror_mode": {
    "name": "ipython",
    "version": 2
   },
   "file_extension": ".py",
   "mimetype": "text/x-python",
   "name": "python",
   "nbconvert_exporter": "python",
   "pygments_lexer": "ipython2",
   "version": "2.7.6"
  }
 },
 "nbformat": 4,
 "nbformat_minor": 0
}
