{
 "cells": [
  {
   "cell_type": "code",
   "execution_count": 1,
   "metadata": {
    "collapsed": true,
    "ExecuteTime": {
     "start_time": "2023-12-08T15:24:34.869171Z",
     "end_time": "2023-12-08T15:24:34.884083Z"
    }
   },
   "outputs": [],
   "source": [
    "import random\n",
    "from collections import Counter\n",
    "\n",
    "\n"
   ]
  },
  {
   "cell_type": "code",
   "execution_count": 135,
   "outputs": [
    {
     "data": {
      "text/plain": "Counter({'trmuc': 207,\n         'qzpzw': 189,\n         'jqnpm': 188,\n         'oewyf': 187,\n         'qohsi': 186,\n         'synzm': 185,\n         'hadnt': 184,\n         'gbpee': 182,\n         'hdlbh': 180,\n         'miher': 177,\n         'mrhdx': 174,\n         'qzboa': 173,\n         'eoksl': 171,\n         'dwoij': 164,\n         'eswze': 163,\n         'fngpn': 162,\n         'mlpgh': 161,\n         'rmurq': 151,\n         'cqvdg': 151,\n         'pbzgu': 150,\n         'zohwz': 148,\n         'fkkzx': 148,\n         'otgkn': 147,\n         'latqn': 146,\n         'txhdf': 145,\n         'moogq': 143,\n         'ttfym': 139,\n         'mgsma': 137,\n         'ujqfr': 135,\n         'kyssb': 133,\n         'kgjiu': 131,\n         'avbgn': 131,\n         'jnvri': 129,\n         'zfxrz': 128,\n         'jyflx': 127,\n         'dgaao': 126,\n         'ydvdq': 126,\n         'yxomh': 125,\n         'medms': 120,\n         'kyitn': 119,\n         'zrxgh': 119,\n         'ezxcq': 118,\n         'scybb': 117,\n         'axwdw': 117,\n         'ehfyv': 115,\n         'leroe': 115,\n         'njvvj': 110,\n         'cmyss': 110,\n         'qlrtz': 105,\n         'xrjpq': 105,\n         'tbnpb': 102,\n         'totyu': 99,\n         'xvjaj': 98,\n         'hfmvd': 98,\n         'rablo': 97,\n         'izjnw': 93,\n         'rxykf': 93,\n         'hmzaq': 93,\n         'agxtk': 92,\n         'lajwe': 90,\n         'zstvm': 89,\n         'yrnks': 87,\n         'rrlcp': 86,\n         'tedwm': 85,\n         'vwiez': 81,\n         'ptzkt': 79,\n         'bexrr': 73,\n         'qhvbt': 73,\n         'wtlov': 72,\n         'iicsm': 66,\n         'imjjf': 66,\n         'rewrq': 65,\n         'lazhx': 61,\n         'cjfbq': 58,\n         'sngdn': 58,\n         'crhnk': 51,\n         'smdhv': 49,\n         'yhiey': 47,\n         'yeako': 45,\n         'movyf': 44,\n         'ujhwb': 40,\n         'ggzyt': 37,\n         'bipbp': 35,\n         'ajapw': 34,\n         'dlqge': 34,\n         'ksboj': 34,\n         'vgdhq': 32,\n         'gxigp': 23,\n         'onxod': 23,\n         'gnsrx': 20,\n         'ekcgy': 19,\n         'qumkp': 18,\n         'sjxkx': 16,\n         'pwuai': 16,\n         'vfrbo': 15,\n         'yoxgj': 5,\n         'erkyw': 4,\n         'ltnof': 3,\n         'ojxrp': 2,\n         'mvomb': 1})"
     },
     "execution_count": 135,
     "metadata": {},
     "output_type": "execute_result"
    }
   ],
   "source": [
    "import random\n",
    "import string\n",
    "\n",
    "def generate_corpus(max_frequency=100, corpus_size=1000):\n",
    "    \"\"\"\n",
    "    Generate a corpus of words with varying frequencies.\n",
    "\n",
    "    Parameters:\n",
    "    - max_frequency: The maximum frequency for any word (default is 100).\n",
    "    - corpus_size: The size of the generated corpus (default is 1000).\n",
    "\n",
    "    Returns:\n",
    "    A list representing the generated corpus.\n",
    "    \"\"\"\n",
    "    # Generate a vocabulary of unique words (up to 100)\n",
    "    vocabulary_size = min(100, corpus_size)\n",
    "    vocabulary = [''.join(random.choice(string.ascii_lowercase) for _ in range(5)) for _ in range(vocabulary_size)]\n",
    "\n",
    "    # Generate frequencies for each word\n",
    "    frequencies = {word: random.randint(1, max_frequency) for word in vocabulary}\n",
    "\n",
    "    # Create the corpus\n",
    "    corpus = []\n",
    "    for word, frequency in frequencies.items():\n",
    "        corpus.extend([word] * frequency)\n",
    "\n",
    "    # Shuffle the corpus to randomize word order\n",
    "    random.shuffle(corpus)\n",
    "\n",
    "    # Trim the corpus to the specified size\n",
    "    corpus = corpus[:corpus_size]\n",
    "\n",
    "    return corpus\n",
    "\n",
    "# Example usage\n",
    "generated_corpus = generate_corpus(max_frequency=1000, corpus_size=10000)\n",
    "Counter(generated_corpus)  # Count the occurrences of each word in the generated corpus"
   ],
   "metadata": {
    "collapsed": false,
    "ExecuteTime": {
     "start_time": "2023-12-08T16:35:57.099530Z",
     "end_time": "2023-12-08T16:35:57.115971Z"
    }
   }
  },
  {
   "cell_type": "code",
   "execution_count": 136,
   "outputs": [],
   "source": [
    "from collections import Counter\n",
    "\n",
    "def equalise_word_count(words, augmentation_factor=20):\n",
    "    # Count the occurrences of each word\n",
    "    word_counts = Counter(words)\n",
    "    new_list = words.copy()\n",
    "    max_word = max(word_counts.values())\n",
    "\n",
    "    # Augment the corpus by adding additional copies of each word\n",
    "    for word, count in word_counts.items():\n",
    "        new_list.extend([word] * (augmentation_factor * (max_word - count)))\n",
    "\n",
    "    # Shuffle the corpus to randomize word order\n",
    "    random.shuffle(new_list)\n",
    "\n",
    "    return new_list\n",
    "\n",
    "\n"
   ],
   "metadata": {
    "collapsed": false,
    "ExecuteTime": {
     "start_time": "2023-12-08T16:35:57.447678Z",
     "end_time": "2023-12-08T16:35:57.497328Z"
    }
   }
  },
  {
   "cell_type": "code",
   "execution_count": 137,
   "outputs": [
    {
     "data": {
      "text/plain": "Counter({'mvomb': 4121,\n         'ojxrp': 4102,\n         'ltnof': 4083,\n         'erkyw': 4064,\n         'yoxgj': 4045,\n         'vfrbo': 3855,\n         'sjxkx': 3836,\n         'pwuai': 3836,\n         'qumkp': 3798,\n         'ekcgy': 3779,\n         'gnsrx': 3760,\n         'onxod': 3703,\n         'gxigp': 3703,\n         'vgdhq': 3532,\n         'dlqge': 3494,\n         'ajapw': 3494,\n         'ksboj': 3494,\n         'bipbp': 3475,\n         'ggzyt': 3437,\n         'ujhwb': 3380,\n         'movyf': 3304,\n         'yeako': 3285,\n         'yhiey': 3247,\n         'smdhv': 3209,\n         'crhnk': 3171,\n         'cjfbq': 3038,\n         'sngdn': 3038,\n         'lazhx': 2981,\n         'rewrq': 2905,\n         'imjjf': 2886,\n         'iicsm': 2886,\n         'wtlov': 2772,\n         'qhvbt': 2753,\n         'bexrr': 2753,\n         'ptzkt': 2639,\n         'vwiez': 2601,\n         'tedwm': 2525,\n         'rrlcp': 2506,\n         'yrnks': 2487,\n         'zstvm': 2449,\n         'lajwe': 2430,\n         'agxtk': 2392,\n         'rxykf': 2373,\n         'izjnw': 2373,\n         'hmzaq': 2373,\n         'rablo': 2297,\n         'xvjaj': 2278,\n         'hfmvd': 2278,\n         'totyu': 2259,\n         'tbnpb': 2202,\n         'qlrtz': 2145,\n         'xrjpq': 2145,\n         'cmyss': 2050,\n         'njvvj': 2050,\n         'ehfyv': 1955,\n         'leroe': 1955,\n         'scybb': 1917,\n         'axwdw': 1917,\n         'ezxcq': 1898,\n         'kyitn': 1879,\n         'zrxgh': 1879,\n         'medms': 1860,\n         'yxomh': 1765,\n         'ydvdq': 1746,\n         'dgaao': 1746,\n         'jyflx': 1727,\n         'zfxrz': 1708,\n         'jnvri': 1689,\n         'avbgn': 1651,\n         'kgjiu': 1651,\n         'kyssb': 1613,\n         'ujqfr': 1575,\n         'mgsma': 1537,\n         'ttfym': 1499,\n         'moogq': 1423,\n         'txhdf': 1385,\n         'latqn': 1366,\n         'otgkn': 1347,\n         'zohwz': 1328,\n         'fkkzx': 1328,\n         'pbzgu': 1290,\n         'rmurq': 1271,\n         'cqvdg': 1271,\n         'mlpgh': 1081,\n         'fngpn': 1062,\n         'eswze': 1043,\n         'dwoij': 1024,\n         'eoksl': 891,\n         'qzboa': 853,\n         'mrhdx': 834,\n         'miher': 777,\n         'hdlbh': 720,\n         'gbpee': 682,\n         'hadnt': 644,\n         'synzm': 625,\n         'qohsi': 606,\n         'oewyf': 587,\n         'jqnpm': 568,\n         'qzpzw': 549,\n         'trmuc': 207})"
     },
     "execution_count": 137,
     "metadata": {},
     "output_type": "execute_result"
    }
   ],
   "source": [
    "\n",
    "output_words = equalise_word_count(generated_corpus)\n",
    "\n",
    "Counter(output_words)"
   ],
   "metadata": {
    "collapsed": false,
    "ExecuteTime": {
     "start_time": "2023-12-08T16:35:57.865408Z",
     "end_time": "2023-12-08T16:35:57.979173Z"
    }
   }
  },
  {
   "cell_type": "code",
   "execution_count": 138,
   "outputs": [
    {
     "name": "stdout",
     "output_type": "stream",
     "text": [
      "10000\n"
     ]
    }
   ],
   "source": [
    "import random\n",
    "\n",
    "def augment_list(original_list, augmentation_percentage):\n",
    "    # Count the frequency of each word in the original list\n",
    "    print(len(original_list))\n",
    "\n",
    "    word_counts = {}\n",
    "    for word in original_list:\n",
    "        word_counts[word] = word_counts.get(word, 0) + 1\n",
    "\n",
    "    # Identify less frequent words\n",
    "    unique_words = list(set(original_list))\n",
    "    less_frequent_words = sorted(unique_words, key=lambda x: word_counts[x])\n",
    "\n",
    "    # Determine the number of words to add for augmentation\n",
    "    num_words_to_add = int(len(original_list) * augmentation_percentage)\n",
    "\n",
    "    # Augment the list with less frequent words\n",
    "    augmented_list = original_list.copy()\n",
    "    for _ in range(num_words_to_add):\n",
    "        # Choose a word with higher probability for less frequent words\n",
    "        chosen_word = random.choices(less_frequent_words)[0]\n",
    "        augmented_list.append(chosen_word)\n",
    "\n",
    "    return augmented_list\n",
    "\n",
    "# Example usage\n",
    "augmented_list = augment_list(generated_corpus, 0.1)\n",
    "\n",
    "\n"
   ],
   "metadata": {
    "collapsed": false,
    "ExecuteTime": {
     "start_time": "2023-12-08T16:35:58.608740Z",
     "end_time": "2023-12-08T16:35:58.641272Z"
    }
   }
  },
  {
   "cell_type": "code",
   "execution_count": 139,
   "outputs": [
    {
     "data": {
      "text/plain": "11000"
     },
     "execution_count": 139,
     "metadata": {},
     "output_type": "execute_result"
    }
   ],
   "source": [
    "len(augmented_list)"
   ],
   "metadata": {
    "collapsed": false,
    "ExecuteTime": {
     "start_time": "2023-12-08T16:35:59.842382Z",
     "end_time": "2023-12-08T16:35:59.857956Z"
    }
   }
  },
  {
   "cell_type": "code",
   "execution_count": 140,
   "outputs": [
    {
     "data": {
      "text/plain": "Counter({'trmuc': 207,\n         'qzpzw': 189,\n         'jqnpm': 188,\n         'oewyf': 187,\n         'qohsi': 186,\n         'synzm': 185,\n         'hadnt': 184,\n         'gbpee': 182,\n         'hdlbh': 180,\n         'miher': 177,\n         'mrhdx': 174,\n         'qzboa': 173,\n         'eoksl': 171,\n         'dwoij': 164,\n         'eswze': 163,\n         'fngpn': 162,\n         'mlpgh': 161,\n         'rmurq': 151,\n         'cqvdg': 151,\n         'pbzgu': 150,\n         'zohwz': 148,\n         'fkkzx': 148,\n         'otgkn': 147,\n         'latqn': 146,\n         'txhdf': 145,\n         'moogq': 143,\n         'ttfym': 139,\n         'mgsma': 137,\n         'ujqfr': 135,\n         'kyssb': 133,\n         'kgjiu': 131,\n         'avbgn': 131,\n         'jnvri': 129,\n         'zfxrz': 128,\n         'jyflx': 127,\n         'dgaao': 126,\n         'ydvdq': 126,\n         'yxomh': 125,\n         'medms': 120,\n         'kyitn': 119,\n         'zrxgh': 119,\n         'ezxcq': 118,\n         'scybb': 117,\n         'axwdw': 117,\n         'ehfyv': 115,\n         'leroe': 115,\n         'njvvj': 110,\n         'cmyss': 110,\n         'qlrtz': 105,\n         'xrjpq': 105,\n         'tbnpb': 102,\n         'totyu': 99,\n         'xvjaj': 98,\n         'hfmvd': 98,\n         'rablo': 97,\n         'izjnw': 93,\n         'rxykf': 93,\n         'hmzaq': 93,\n         'agxtk': 92,\n         'lajwe': 90,\n         'zstvm': 89,\n         'yrnks': 87,\n         'rrlcp': 86,\n         'tedwm': 85,\n         'vwiez': 81,\n         'ptzkt': 79,\n         'bexrr': 73,\n         'qhvbt': 73,\n         'wtlov': 72,\n         'iicsm': 66,\n         'imjjf': 66,\n         'rewrq': 65,\n         'lazhx': 61,\n         'cjfbq': 58,\n         'sngdn': 58,\n         'crhnk': 51,\n         'smdhv': 49,\n         'yhiey': 47,\n         'yeako': 45,\n         'movyf': 44,\n         'ujhwb': 40,\n         'ggzyt': 37,\n         'bipbp': 35,\n         'ajapw': 34,\n         'dlqge': 34,\n         'ksboj': 34,\n         'vgdhq': 32,\n         'gxigp': 23,\n         'onxod': 23,\n         'gnsrx': 20,\n         'ekcgy': 19,\n         'qumkp': 18,\n         'sjxkx': 16,\n         'pwuai': 16,\n         'vfrbo': 15,\n         'yoxgj': 5,\n         'erkyw': 4,\n         'ltnof': 3,\n         'ojxrp': 2,\n         'mvomb': 1})"
     },
     "execution_count": 140,
     "metadata": {},
     "output_type": "execute_result"
    }
   ],
   "source": [
    "Counter(generated_corpus)"
   ],
   "metadata": {
    "collapsed": false,
    "ExecuteTime": {
     "start_time": "2023-12-08T16:36:02.084595Z",
     "end_time": "2023-12-08T16:36:02.108256Z"
    }
   }
  },
  {
   "cell_type": "code",
   "execution_count": 141,
   "outputs": [
    {
     "data": {
      "text/plain": "Counter({'trmuc': 215,\n         'qohsi': 199,\n         'qzpzw': 197,\n         'gbpee': 196,\n         'jqnpm': 196,\n         'hadnt': 195,\n         'oewyf': 195,\n         'synzm': 193,\n         'hdlbh': 189,\n         'mrhdx': 189,\n         'miher': 185,\n         'qzboa': 183,\n         'eoksl': 182,\n         'dwoij': 175,\n         'mlpgh': 172,\n         'pbzgu': 169,\n         'eswze': 169,\n         'fngpn': 167,\n         'rmurq': 162,\n         'cqvdg': 159,\n         'otgkn': 158,\n         'zohwz': 157,\n         'latqn': 156,\n         'fkkzx': 155,\n         'txhdf': 154,\n         'ttfym': 151,\n         'moogq': 150,\n         'mgsma': 146,\n         'zfxrz': 141,\n         'kgjiu': 141,\n         'kyssb': 140,\n         'ujqfr': 140,\n         'jnvri': 139,\n         'dgaao': 138,\n         'avbgn': 136,\n         'ydvdq': 136,\n         'kyitn': 134,\n         'jyflx': 134,\n         'yxomh': 133,\n         'ezxcq': 131,\n         'zrxgh': 129,\n         'medms': 127,\n         'ehfyv': 126,\n         'axwdw': 126,\n         'njvvj': 125,\n         'scybb': 123,\n         'leroe': 121,\n         'qlrtz': 118,\n         'cmyss': 118,\n         'totyu': 114,\n         'tbnpb': 112,\n         'rablo': 111,\n         'xrjpq': 111,\n         'hfmvd': 108,\n         'xvjaj': 105,\n         'izjnw': 105,\n         'rxykf': 105,\n         'agxtk': 104,\n         'hmzaq': 101,\n         'lajwe': 100,\n         'rrlcp': 97,\n         'zstvm': 96,\n         'vwiez': 94,\n         'yrnks': 94,\n         'tedwm': 91,\n         'ptzkt': 87,\n         'wtlov': 84,\n         'bexrr': 83,\n         'qhvbt': 83,\n         'rewrq': 80,\n         'iicsm': 75,\n         'imjjf': 74,\n         'lazhx': 73,\n         'cjfbq': 66,\n         'sngdn': 66,\n         'crhnk': 62,\n         'smdhv': 62,\n         'yeako': 58,\n         'yhiey': 55,\n         'movyf': 51,\n         'ujhwb': 49,\n         'ajapw': 48,\n         'ggzyt': 48,\n         'bipbp': 47,\n         'dlqge': 45,\n         'vgdhq': 44,\n         'ksboj': 44,\n         'ekcgy': 34,\n         'onxod': 34,\n         'gnsrx': 33,\n         'gxigp': 32,\n         'qumkp': 26,\n         'sjxkx': 25,\n         'pwuai': 25,\n         'vfrbo': 22,\n         'ojxrp': 18,\n         'ltnof': 13,\n         'erkyw': 13,\n         'yoxgj': 12,\n         'mvomb': 11})"
     },
     "execution_count": 141,
     "metadata": {},
     "output_type": "execute_result"
    }
   ],
   "source": [
    "Counter(augmented_list)"
   ],
   "metadata": {
    "collapsed": false,
    "ExecuteTime": {
     "start_time": "2023-12-08T16:36:07.264953Z",
     "end_time": "2023-12-08T16:36:07.279385Z"
    }
   }
  },
  {
   "cell_type": "code",
   "execution_count": 49,
   "outputs": [],
   "source": [],
   "metadata": {
    "collapsed": false,
    "ExecuteTime": {
     "start_time": "2023-12-08T16:04:26.539079Z",
     "end_time": "2023-12-08T16:04:26.555574Z"
    }
   }
  },
  {
   "cell_type": "code",
   "execution_count": 98,
   "outputs": [],
   "source": [],
   "metadata": {
    "collapsed": false,
    "ExecuteTime": {
     "start_time": "2023-12-08T16:19:29.127488Z",
     "end_time": "2023-12-08T16:19:29.165497Z"
    }
   }
  },
  {
   "cell_type": "code",
   "execution_count": 98,
   "outputs": [],
   "source": [],
   "metadata": {
    "collapsed": false,
    "ExecuteTime": {
     "start_time": "2023-12-08T16:19:26.762328Z",
     "end_time": "2023-12-08T16:19:26.779242Z"
    }
   }
  },
  {
   "cell_type": "code",
   "execution_count": 114,
   "outputs": [],
   "source": [],
   "metadata": {
    "collapsed": false,
    "ExecuteTime": {
     "start_time": "2023-12-08T16:33:46.728438Z",
     "end_time": "2023-12-08T16:33:46.760632Z"
    }
   }
  },
  {
   "cell_type": "code",
   "execution_count": 111,
   "outputs": [],
   "source": [],
   "metadata": {
    "collapsed": false,
    "ExecuteTime": {
     "start_time": "2023-12-08T16:30:24.066176Z",
     "end_time": "2023-12-08T16:30:24.098914Z"
    }
   }
  },
  {
   "cell_type": "code",
   "execution_count": 112,
   "outputs": [
    {
     "data": {
      "text/plain": "1500"
     },
     "execution_count": 112,
     "metadata": {},
     "output_type": "execute_result"
    }
   ],
   "source": [],
   "metadata": {
    "collapsed": false,
    "ExecuteTime": {
     "start_time": "2023-12-08T16:30:24.379088Z",
     "end_time": "2023-12-08T16:30:24.399565Z"
    }
   }
  },
  {
   "cell_type": "code",
   "execution_count": 113,
   "outputs": [
    {
     "data": {
      "text/plain": "Counter({'xcftb': 28,\n         'osoym': 25,\n         'ubscz': 21,\n         'lfrel': 20,\n         'egfvo': 19,\n         'vkczm': 19,\n         'fhaul': 19,\n         'umzgi': 18,\n         'yjzis': 18,\n         'imlvx': 18,\n         'gqyot': 18,\n         'gjmbm': 18,\n         'akovc': 18,\n         'kuabe': 18,\n         'bspox': 18,\n         'fynxy': 17,\n         'ynepk': 17,\n         'jbvqy': 16,\n         'ntiks': 16,\n         'uaume': 16,\n         'ntaou': 16,\n         'tkadm': 15,\n         'yciee': 15,\n         'jqlbn': 15,\n         'exhii': 15,\n         'ddpcb': 15,\n         'eompb': 15,\n         'ozyhd': 14,\n         'jqfnq': 14,\n         'qaooj': 14,\n         'nliut': 14,\n         'ruksa': 14,\n         'aubdh': 13,\n         'cpplt': 13,\n         'sctfw': 13,\n         'cpytr': 12,\n         'pctsf': 12,\n         'rolmd': 12,\n         'csbcw': 12,\n         'uirdc': 11,\n         'yytls': 11,\n         'srgzk': 11,\n         'ppejm': 11,\n         'hnzvl': 11,\n         'tstku': 11,\n         'puvbr': 11,\n         'kbgfo': 11,\n         'lcaja': 10,\n         'dzybm': 10,\n         'irskg': 10,\n         'yvluz': 10,\n         'zryiq': 10,\n         'eghkb': 10,\n         'spocw': 9,\n         'btpld': 9,\n         'jbtix': 8,\n         'nsbsd': 8,\n         'khrso': 8,\n         'ahksm': 8,\n         'nqgff': 8,\n         'uitai': 8,\n         'ofehc': 7,\n         'elnnt': 7,\n         'atibm': 7,\n         'vuqwg': 7,\n         'afewg': 7,\n         'jigwg': 7,\n         'pvdli': 6,\n         'gdcsh': 6,\n         'wloyj': 6,\n         'jplef': 6,\n         'yuzuk': 6,\n         'uomhl': 6,\n         'btvan': 6,\n         'qrnsi': 5,\n         'zuxiv': 5,\n         'czqha': 5,\n         'ravbz': 5,\n         'zvlxl': 5,\n         'vbkbp': 4,\n         'kixss': 4,\n         'okyuo': 4,\n         'rmwzs': 3,\n         'ugpxh': 3,\n         'aattx': 2,\n         'mprpe': 2,\n         'dcxpc': 2,\n         'cpnbm': 2,\n         'yzoep': 1,\n         'oefqx': 1,\n         'xpvue': 1,\n         'fvzwr': 1,\n         'zggab': 1,\n         'ytjck': 1,\n         'gcxwz': 1,\n         'jwlwc': 1,\n         'ktjph': 1,\n         'jvtiy': 1,\n         'zfhqd': 1})"
     },
     "execution_count": 113,
     "metadata": {},
     "output_type": "execute_result"
    }
   ],
   "source": [],
   "metadata": {
    "collapsed": false,
    "ExecuteTime": {
     "start_time": "2023-12-08T16:30:24.800554Z",
     "end_time": "2023-12-08T16:30:24.829989Z"
    }
   }
  },
  {
   "cell_type": "code",
   "execution_count": 114,
   "outputs": [
    {
     "data": {
      "text/plain": "Counter({'xcftb': 35,\n         'osoym': 31,\n         'egfvo': 28,\n         'vkczm': 28,\n         'imlvx': 27,\n         'lfrel': 27,\n         'bspox': 27,\n         'ubscz': 26,\n         'eompb': 25,\n         'fynxy': 24,\n         'fhaul': 23,\n         'umzgi': 22,\n         'yjzis': 22,\n         'gqyot': 22,\n         'ozyhd': 22,\n         'irskg': 22,\n         'gjmbm': 22,\n         'jbvqy': 21,\n         'akovc': 21,\n         'yytls': 20,\n         'tkadm': 20,\n         'ntaou': 20,\n         'yciee': 20,\n         'kuabe': 20,\n         'exhii': 20,\n         'puvbr': 20,\n         'jqfnq': 19,\n         'pctsf': 19,\n         'jqlbn': 19,\n         'ruksa': 19,\n         'ynepk': 19,\n         'ddpcb': 19,\n         'csbcw': 19,\n         'aubdh': 18,\n         'uaume': 18,\n         'nliut': 18,\n         'tstku': 18,\n         'kbgfo': 18,\n         'ntiks': 17,\n         'qaooj': 17,\n         'cpytr': 17,\n         'hnzvl': 17,\n         'lcaja': 16,\n         'dzybm': 16,\n         'cpplt': 16,\n         'sctfw': 16,\n         'ppejm': 15,\n         'yvluz': 15,\n         'zryiq': 15,\n         'spocw': 15,\n         'btpld': 15,\n         'srgzk': 14,\n         'khrso': 14,\n         'rolmd': 14,\n         'uirdc': 13,\n         'nsbsd': 13,\n         'ahksm': 13,\n         'nqgff': 13,\n         'uitai': 13,\n         'elnnt': 12,\n         'vuqwg': 12,\n         'eghkb': 12,\n         'fvzwr': 12,\n         'jbtix': 11,\n         'zuxiv': 11,\n         'atibm': 11,\n         'czqha': 11,\n         'wloyj': 11,\n         'mprpe': 11,\n         'uomhl': 11,\n         'zvlxl': 11,\n         'okyuo': 11,\n         'jigwg': 11,\n         'ofehc': 10,\n         'btvan': 10,\n         'afewg': 10,\n         'qrnsi': 9,\n         'pvdli': 9,\n         'gdcsh': 9,\n         'vbkbp': 9,\n         'ravbz': 9,\n         'oefqx': 8,\n         'jplef': 8,\n         'yuzuk': 8,\n         'xpvue': 8,\n         'cpnbm': 8,\n         'aattx': 7,\n         'kixss': 7,\n         'ugpxh': 7,\n         'dcxpc': 7,\n         'zggab': 7,\n         'ytjck': 6,\n         'gcxwz': 6,\n         'zfhqd': 6,\n         'yzoep': 5,\n         'rmwzs': 5,\n         'jwlwc': 5,\n         'ktjph': 5,\n         'jvtiy': 2})"
     },
     "execution_count": 114,
     "metadata": {},
     "output_type": "execute_result"
    }
   ],
   "source": [],
   "metadata": {
    "collapsed": false,
    "ExecuteTime": {
     "start_time": "2023-12-08T16:30:25.586437Z",
     "end_time": "2023-12-08T16:30:25.604869Z"
    }
   }
  },
  {
   "cell_type": "code",
   "execution_count": null,
   "outputs": [],
   "source": [],
   "metadata": {
    "collapsed": false
   }
  }
 ],
 "metadata": {
  "kernelspec": {
   "display_name": "Python 3",
   "language": "python",
   "name": "python3"
  },
  "language_info": {
   "codemirror_mode": {
    "name": "ipython",
    "version": 2
   },
   "file_extension": ".py",
   "mimetype": "text/x-python",
   "name": "python",
   "nbconvert_exporter": "python",
   "pygments_lexer": "ipython2",
   "version": "2.7.6"
  }
 },
 "nbformat": 4,
 "nbformat_minor": 0
}
