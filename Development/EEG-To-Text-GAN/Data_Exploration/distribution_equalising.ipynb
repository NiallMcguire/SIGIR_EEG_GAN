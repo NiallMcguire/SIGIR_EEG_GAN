{
 "cells": [
  {
   "cell_type": "code",
   "execution_count": 29,
   "metadata": {
    "collapsed": true,
    "ExecuteTime": {
     "start_time": "2023-12-18T10:39:09.700867Z",
     "end_time": "2023-12-18T10:39:09.719251Z"
    }
   },
   "outputs": [],
   "source": [
    "import random\n",
    "from collections import Counter\n",
    "\n",
    "\n"
   ]
  },
  {
   "cell_type": "code",
   "execution_count": 30,
   "outputs": [
    {
     "data": {
      "text/plain": "Counter({'heavc': 199,\n         'bdkij': 194,\n         'zjclm': 194,\n         'gvjgd': 193,\n         'cihzq': 192,\n         'bhqpf': 192,\n         'ovjcn': 189,\n         'dvoln': 181,\n         'xqqty': 181,\n         'ojnds': 180,\n         'uapkn': 177,\n         'ppctm': 175,\n         'fityf': 175,\n         'fxxyh': 173,\n         'rrjwo': 169,\n         'cjrth': 169,\n         'vfayl': 168,\n         'cqrmx': 167,\n         'mlijz': 165,\n         'hcrzy': 165,\n         'onfwm': 165,\n         'wmxoc': 160,\n         'rwjay': 159,\n         'abxbr': 158,\n         'rpslh': 155,\n         'eptxk': 153,\n         'rcehu': 153,\n         'quavi': 152,\n         'bnlhm': 151,\n         'kvpew': 150,\n         'czqtz': 149,\n         'xqxpp': 148,\n         'iftet': 145,\n         'zvdyx': 143,\n         'saope': 138,\n         'obgno': 129,\n         'vqgiz': 127,\n         'lcmat': 125,\n         'azdrf': 124,\n         'vpavx': 123,\n         'suatb': 119,\n         'vpocy': 118,\n         'yiaos': 118,\n         'pxmvc': 114,\n         'vjqkg': 113,\n         'icqrq': 112,\n         'lrgyy': 110,\n         'umlxq': 107,\n         'ymnal': 106,\n         'ekpie': 106,\n         'eizph': 105,\n         'rvzgj': 103,\n         'fpgch': 98,\n         'lwasd': 94,\n         'vlgsh': 94,\n         'xlmrd': 90,\n         'xkpvc': 87,\n         'dhlkv': 86,\n         'korzk': 86,\n         'mmuqg': 80,\n         'rjfqg': 79,\n         'mkvjx': 74,\n         'pgrbn': 67,\n         'rmaes': 66,\n         'zlxcv': 65,\n         'beblr': 63,\n         'hasnw': 62,\n         'ystfm': 62,\n         'uwkve': 61,\n         'swtug': 60,\n         'wqova': 60,\n         'pbyzx': 56,\n         'bsccx': 56,\n         'itzmg': 55,\n         'jiruy': 54,\n         'hmbke': 45,\n         'zzlkh': 44,\n         'kcxyt': 43,\n         'snftx': 39,\n         'whnoc': 34,\n         'dqlmp': 33,\n         'bjqxo': 33,\n         'kqihz': 29,\n         'tlbzf': 25,\n         'xdlne': 24,\n         'ilwtc': 21,\n         'iyuxq': 21,\n         'vevjl': 19,\n         'xcjsn': 17,\n         'pjfaa': 14,\n         'wfwxa': 13,\n         'foarh': 9,\n         'gjcoi': 9,\n         'gonww': 9,\n         'blzuz': 8,\n         'ogqvr': 8,\n         'xeaez': 4,\n         'ikcka': 4,\n         'tvnds': 3,\n         'riypx': 1})"
     },
     "execution_count": 30,
     "metadata": {},
     "output_type": "execute_result"
    }
   ],
   "source": [
    "import random\n",
    "import string\n",
    "\n",
    "def generate_corpus(max_frequency=100, corpus_size=1000):\n",
    "    \"\"\"\n",
    "    Generate a corpus of words with varying frequencies.\n",
    "\n",
    "    Parameters:\n",
    "    - max_frequency: The maximum frequency for any word (default is 100).\n",
    "    - corpus_size: The size of the generated corpus (default is 1000).\n",
    "\n",
    "    Returns:\n",
    "    A list representing the generated corpus.\n",
    "    \"\"\"\n",
    "    # Generate a vocabulary of unique words (up to 100)\n",
    "    vocabulary_size = min(100, corpus_size)\n",
    "    vocabulary = [''.join(random.choice(string.ascii_lowercase) for _ in range(5)) for _ in range(vocabulary_size)]\n",
    "\n",
    "    # Generate frequencies for each word\n",
    "    frequencies = {word: random.randint(1, max_frequency) for word in vocabulary}\n",
    "\n",
    "    # Create the corpus\n",
    "    corpus = []\n",
    "    for word, frequency in frequencies.items():\n",
    "        corpus.extend([word] * frequency)\n",
    "\n",
    "    # Shuffle the corpus to randomize word order\n",
    "    random.shuffle(corpus)\n",
    "\n",
    "    # Trim the corpus to the specified size\n",
    "    corpus = corpus[:corpus_size]\n",
    "\n",
    "    return corpus\n",
    "\n",
    "# Example usage\n",
    "generated_corpus = generate_corpus(max_frequency=1000, corpus_size=10000)\n",
    "Counter(generated_corpus)  # Count the occurrences of each word in the generated corpus"
   ],
   "metadata": {
    "collapsed": false,
    "ExecuteTime": {
     "start_time": "2023-12-18T10:39:09.879736Z",
     "end_time": "2023-12-18T10:39:09.927390Z"
    }
   }
  },
  {
   "cell_type": "code",
   "execution_count": 31,
   "outputs": [],
   "source": [
    "from collections import Counter\n",
    "\n",
    "def equalise_word_count(words, augmentation_factor=20):\n",
    "    # Count the occurrences of each word\n",
    "    word_counts = Counter(words)\n",
    "    new_list = words.copy()\n",
    "    max_word = max(word_counts.values())\n",
    "\n",
    "    # Augment the corpus by adding additional copies of each word\n",
    "    for word, count in word_counts.items():\n",
    "        new_list.extend([word] * (augmentation_factor * (max_word - count)))\n",
    "\n",
    "    # Shuffle the corpus to randomize word order\n",
    "    random.shuffle(new_list)\n",
    "\n",
    "    return new_list\n",
    "\n",
    "\n"
   ],
   "metadata": {
    "collapsed": false,
    "ExecuteTime": {
     "start_time": "2023-12-18T10:39:10.059799Z",
     "end_time": "2023-12-18T10:39:10.073169Z"
    }
   }
  },
  {
   "cell_type": "code",
   "execution_count": 32,
   "outputs": [
    {
     "data": {
      "text/plain": "Counter({'riypx': 3961,\n         'tvnds': 3923,\n         'ikcka': 3904,\n         'xeaez': 3904,\n         'ogqvr': 3828,\n         'blzuz': 3828,\n         'foarh': 3809,\n         'gjcoi': 3809,\n         'gonww': 3809,\n         'wfwxa': 3733,\n         'pjfaa': 3714,\n         'xcjsn': 3657,\n         'vevjl': 3619,\n         'ilwtc': 3581,\n         'iyuxq': 3581,\n         'xdlne': 3524,\n         'tlbzf': 3505,\n         'kqihz': 3429,\n         'bjqxo': 3353,\n         'dqlmp': 3353,\n         'whnoc': 3334,\n         'snftx': 3239,\n         'kcxyt': 3163,\n         'zzlkh': 3144,\n         'hmbke': 3125,\n         'jiruy': 2954,\n         'itzmg': 2935,\n         'bsccx': 2916,\n         'pbyzx': 2916,\n         'swtug': 2840,\n         'wqova': 2840,\n         'uwkve': 2821,\n         'ystfm': 2802,\n         'hasnw': 2802,\n         'beblr': 2783,\n         'zlxcv': 2745,\n         'rmaes': 2726,\n         'pgrbn': 2707,\n         'mkvjx': 2574,\n         'rjfqg': 2479,\n         'mmuqg': 2460,\n         'korzk': 2346,\n         'dhlkv': 2346,\n         'xkpvc': 2327,\n         'xlmrd': 2270,\n         'vlgsh': 2194,\n         'lwasd': 2194,\n         'fpgch': 2118,\n         'rvzgj': 2023,\n         'eizph': 1985,\n         'ekpie': 1966,\n         'ymnal': 1966,\n         'umlxq': 1947,\n         'lrgyy': 1890,\n         'icqrq': 1852,\n         'vjqkg': 1833,\n         'pxmvc': 1814,\n         'vpocy': 1738,\n         'yiaos': 1738,\n         'suatb': 1719,\n         'vpavx': 1643,\n         'azdrf': 1624,\n         'lcmat': 1605,\n         'vqgiz': 1567,\n         'obgno': 1529,\n         'saope': 1358,\n         'zvdyx': 1263,\n         'iftet': 1225,\n         'xqxpp': 1168,\n         'czqtz': 1149,\n         'kvpew': 1130,\n         'bnlhm': 1111,\n         'quavi': 1092,\n         'rcehu': 1073,\n         'eptxk': 1073,\n         'rpslh': 1035,\n         'abxbr': 978,\n         'rwjay': 959,\n         'wmxoc': 940,\n         'onfwm': 845,\n         'hcrzy': 845,\n         'mlijz': 845,\n         'cqrmx': 807,\n         'vfayl': 788,\n         'cjrth': 769,\n         'rrjwo': 769,\n         'fxxyh': 693,\n         'ppctm': 655,\n         'fityf': 655,\n         'uapkn': 617,\n         'ojnds': 560,\n         'xqqty': 541,\n         'dvoln': 541,\n         'ovjcn': 389,\n         'bhqpf': 332,\n         'cihzq': 332,\n         'gvjgd': 313,\n         'zjclm': 294,\n         'bdkij': 294,\n         'heavc': 199})"
     },
     "execution_count": 32,
     "metadata": {},
     "output_type": "execute_result"
    }
   ],
   "source": [
    "output_words = equalise_word_count(generated_corpus)\n",
    "Counter(output_words)"
   ],
   "metadata": {
    "collapsed": false,
    "ExecuteTime": {
     "start_time": "2023-12-18T10:39:10.512036Z",
     "end_time": "2023-12-18T10:39:10.644578Z"
    }
   }
  },
  {
   "cell_type": "code",
   "execution_count": 33,
   "outputs": [],
   "source": [
    "import random\n",
    "\n",
    "def augment_list_equal(original_list, augmentation_percentage):\n",
    "    # Count the frequency of each word in the original list\n",
    "    print(len(original_list))\n",
    "\n",
    "    word_counts = {}\n",
    "    for word in original_list:\n",
    "        word_counts[word] = word_counts.get(word, 0) + 1\n",
    "\n",
    "    # Identify less frequent words\n",
    "    unique_words = list(set(original_list))\n",
    "    less_frequent_words = sorted(unique_words, key=lambda x: word_counts[x])\n",
    "    #print(less_frequent_words)\n",
    "\n",
    "    # Determine the number of words to add for augmentation\n",
    "    num_words_to_add = int(len(original_list) * augmentation_percentage)\n",
    "\n",
    "    # Augment the list with less frequent words\n",
    "    augmented_list = original_list.copy()\n",
    "    for _ in range(num_words_to_add):\n",
    "        # Choose a word with higher probability for less frequent words\n",
    "        chosen_word = random.choices(less_frequent_words)[0]\n",
    "        augmented_list.append(chosen_word)\n",
    "\n",
    "    return augmented_list\n",
    "\n",
    "# Example usage\n",
    "\n",
    "\n"
   ],
   "metadata": {
    "collapsed": false,
    "ExecuteTime": {
     "start_time": "2023-12-18T10:39:10.890578Z",
     "end_time": "2023-12-18T10:39:10.907756Z"
    }
   }
  },
  {
   "cell_type": "code",
   "execution_count": 33,
   "outputs": [],
   "source": [],
   "metadata": {
    "collapsed": false,
    "ExecuteTime": {
     "start_time": "2023-12-18T10:39:11.370276Z",
     "end_time": "2023-12-18T10:39:11.388153Z"
    }
   }
  },
  {
   "cell_type": "code",
   "execution_count": 34,
   "outputs": [
    {
     "data": {
      "text/plain": "Counter({'heavc': 199,\n         'bdkij': 194,\n         'zjclm': 194,\n         'gvjgd': 193,\n         'cihzq': 192,\n         'bhqpf': 192,\n         'ovjcn': 189,\n         'dvoln': 181,\n         'xqqty': 181,\n         'ojnds': 180,\n         'uapkn': 177,\n         'ppctm': 175,\n         'fityf': 175,\n         'fxxyh': 173,\n         'rrjwo': 169,\n         'cjrth': 169,\n         'vfayl': 168,\n         'cqrmx': 167,\n         'mlijz': 165,\n         'hcrzy': 165,\n         'onfwm': 165,\n         'wmxoc': 160,\n         'rwjay': 159,\n         'abxbr': 158,\n         'rpslh': 155,\n         'eptxk': 153,\n         'rcehu': 153,\n         'quavi': 152,\n         'bnlhm': 151,\n         'kvpew': 150,\n         'czqtz': 149,\n         'xqxpp': 148,\n         'iftet': 145,\n         'zvdyx': 143,\n         'saope': 138,\n         'obgno': 129,\n         'vqgiz': 127,\n         'lcmat': 125,\n         'azdrf': 124,\n         'vpavx': 123,\n         'suatb': 119,\n         'vpocy': 118,\n         'yiaos': 118,\n         'pxmvc': 114,\n         'vjqkg': 113,\n         'icqrq': 112,\n         'lrgyy': 110,\n         'umlxq': 107,\n         'ymnal': 106,\n         'ekpie': 106,\n         'eizph': 105,\n         'rvzgj': 103,\n         'fpgch': 98,\n         'lwasd': 94,\n         'vlgsh': 94,\n         'xlmrd': 90,\n         'xkpvc': 87,\n         'dhlkv': 86,\n         'korzk': 86,\n         'mmuqg': 80,\n         'rjfqg': 79,\n         'mkvjx': 74,\n         'pgrbn': 67,\n         'rmaes': 66,\n         'zlxcv': 65,\n         'beblr': 63,\n         'hasnw': 62,\n         'ystfm': 62,\n         'uwkve': 61,\n         'swtug': 60,\n         'wqova': 60,\n         'pbyzx': 56,\n         'bsccx': 56,\n         'itzmg': 55,\n         'jiruy': 54,\n         'hmbke': 45,\n         'zzlkh': 44,\n         'kcxyt': 43,\n         'snftx': 39,\n         'whnoc': 34,\n         'dqlmp': 33,\n         'bjqxo': 33,\n         'kqihz': 29,\n         'tlbzf': 25,\n         'xdlne': 24,\n         'ilwtc': 21,\n         'iyuxq': 21,\n         'vevjl': 19,\n         'xcjsn': 17,\n         'pjfaa': 14,\n         'wfwxa': 13,\n         'foarh': 9,\n         'gjcoi': 9,\n         'gonww': 9,\n         'blzuz': 8,\n         'ogqvr': 8,\n         'xeaez': 4,\n         'ikcka': 4,\n         'tvnds': 3,\n         'riypx': 1})"
     },
     "execution_count": 34,
     "metadata": {},
     "output_type": "execute_result"
    }
   ],
   "source": [
    "Counter(generated_corpus)"
   ],
   "metadata": {
    "collapsed": false,
    "ExecuteTime": {
     "start_time": "2023-12-18T10:39:11.679748Z",
     "end_time": "2023-12-18T10:39:11.695800Z"
    }
   }
  },
  {
   "cell_type": "code",
   "execution_count": 34,
   "outputs": [],
   "source": [],
   "metadata": {
    "collapsed": false,
    "ExecuteTime": {
     "start_time": "2023-12-18T10:39:12.016099Z",
     "end_time": "2023-12-18T10:39:12.046034Z"
    }
   }
  },
  {
   "cell_type": "code",
   "execution_count": 34,
   "outputs": [],
   "source": [],
   "metadata": {
    "collapsed": false,
    "ExecuteTime": {
     "start_time": "2023-12-18T10:39:12.548707Z",
     "end_time": "2023-12-18T10:39:12.587269Z"
    }
   }
  },
  {
   "cell_type": "code",
   "execution_count": 34,
   "outputs": [],
   "source": [],
   "metadata": {
    "collapsed": false,
    "ExecuteTime": {
     "start_time": "2023-12-18T10:39:12.848645Z",
     "end_time": "2023-12-18T10:39:12.865041Z"
    }
   }
  },
  {
   "cell_type": "code",
   "execution_count": 35,
   "outputs": [],
   "source": [],
   "metadata": {
    "collapsed": false,
    "ExecuteTime": {
     "start_time": "2023-12-18T10:39:13.191622Z",
     "end_time": "2023-12-18T10:39:13.204240Z"
    }
   }
  },
  {
   "cell_type": "code",
   "execution_count": 36,
   "outputs": [
    {
     "data": {
      "text/plain": "Counter({'heavc': 199,\n         'bdkij': 194,\n         'zjclm': 194,\n         'gvjgd': 193,\n         'cihzq': 192,\n         'bhqpf': 192,\n         'ovjcn': 189,\n         'dvoln': 181,\n         'xqqty': 181,\n         'ojnds': 180,\n         'uapkn': 177,\n         'ppctm': 175,\n         'fityf': 175,\n         'fxxyh': 173,\n         'rrjwo': 169,\n         'cjrth': 169,\n         'vfayl': 168,\n         'cqrmx': 167,\n         'mlijz': 165,\n         'hcrzy': 165,\n         'onfwm': 165,\n         'wmxoc': 160,\n         'rwjay': 159,\n         'abxbr': 158,\n         'rpslh': 155,\n         'eptxk': 153,\n         'rcehu': 153,\n         'quavi': 152,\n         'bnlhm': 151,\n         'kvpew': 150,\n         'czqtz': 149,\n         'xqxpp': 148,\n         'iftet': 145,\n         'zvdyx': 143,\n         'saope': 138,\n         'obgno': 129,\n         'vqgiz': 127,\n         'lcmat': 125,\n         'azdrf': 124,\n         'vpavx': 123,\n         'suatb': 119,\n         'vpocy': 118,\n         'yiaos': 118,\n         'pxmvc': 114,\n         'vjqkg': 113,\n         'icqrq': 112,\n         'lrgyy': 110,\n         'umlxq': 107,\n         'ymnal': 106,\n         'ekpie': 106,\n         'eizph': 105,\n         'rvzgj': 103,\n         'fpgch': 98,\n         'lwasd': 94,\n         'vlgsh': 94,\n         'xlmrd': 90,\n         'xkpvc': 87,\n         'dhlkv': 86,\n         'korzk': 86,\n         'mmuqg': 80,\n         'rjfqg': 79,\n         'mkvjx': 74,\n         'pgrbn': 67,\n         'rmaes': 66,\n         'zlxcv': 65,\n         'beblr': 63,\n         'hasnw': 62,\n         'ystfm': 62,\n         'uwkve': 61,\n         'swtug': 60,\n         'wqova': 60,\n         'pbyzx': 56,\n         'bsccx': 56,\n         'itzmg': 55,\n         'jiruy': 54,\n         'hmbke': 45,\n         'zzlkh': 44,\n         'kcxyt': 43,\n         'snftx': 39,\n         'whnoc': 34,\n         'dqlmp': 33,\n         'bjqxo': 33,\n         'kqihz': 29,\n         'tlbzf': 25,\n         'xdlne': 24,\n         'ilwtc': 21,\n         'iyuxq': 21,\n         'vevjl': 19,\n         'xcjsn': 17,\n         'pjfaa': 14,\n         'wfwxa': 13,\n         'foarh': 9,\n         'gjcoi': 9,\n         'gonww': 9,\n         'blzuz': 8,\n         'ogqvr': 8,\n         'xeaez': 4,\n         'ikcka': 4,\n         'tvnds': 3,\n         'riypx': 1})"
     },
     "execution_count": 36,
     "metadata": {},
     "output_type": "execute_result"
    }
   ],
   "source": [
    "Counter(generated_corpus)"
   ],
   "metadata": {
    "collapsed": false,
    "ExecuteTime": {
     "start_time": "2023-12-18T10:39:13.751982Z",
     "end_time": "2023-12-18T10:39:13.789104Z"
    }
   }
  },
  {
   "cell_type": "code",
   "execution_count": 36,
   "outputs": [],
   "source": [],
   "metadata": {
    "collapsed": false,
    "ExecuteTime": {
     "start_time": "2023-12-18T10:39:14.489672Z",
     "end_time": "2023-12-18T10:39:14.502208Z"
    }
   }
  },
  {
   "cell_type": "code",
   "execution_count": 37,
   "outputs": [],
   "source": [
    "import pickle\n",
    "\n",
    "with open('EEG_Text_Pairs.pkl', 'rb') as file:\n",
    "    EEG_word_level_embeddings = pickle.load(file)\n",
    "    train_data = pickle.load(file)"
   ],
   "metadata": {
    "collapsed": false,
    "ExecuteTime": {
     "start_time": "2023-12-18T10:39:15.010705Z",
     "end_time": "2023-12-18T10:39:16.858579Z"
    }
   }
  },
  {
   "cell_type": "code",
   "execution_count": 38,
   "outputs": [],
   "source": [
    "import matplotlib.pyplot as plt\n",
    "import pandas as pd\n",
    "import plotly.express as px\n",
    "def plot_word_distrubiton(word_list):\n",
    "    # Count the frequency of each word\n",
    "    word_counts = Counter(word_list)\n",
    "\n",
    "    # Create a DataFrame from the Counter\n",
    "    df = pd.DataFrame(list(word_counts.items()), columns=['Word', 'Count'])\n",
    "\n",
    "    # Sort the DataFrame by Count in descending order\n",
    "    df = df.sort_values(by='Count', ascending=False)\n",
    "\n",
    "    # Create an interactive bar chart using plotly express\n",
    "    fig = px.bar(df, x='Word', y='Count', title='Word Distribution',\n",
    "                 labels={'Word': 'Words', 'Count': 'Frequency'},\n",
    "                 color='Count', # Set color to the count for color variation\n",
    "                 color_continuous_scale='Viridis', # Set color scale\n",
    "                 width=800, # Set figure width\n",
    "                 height=500, # Set figure height\n",
    "                 )\n",
    "\n",
    "    # Customize the layout to reduce unnecessary space\n",
    "    fig.update_layout(\n",
    "        margin=dict(l=0, r=0, t=50, b=0),  # Adjust margin to reduce unnecessary space\n",
    "    )\n",
    "\n",
    "    # Set y-axis type to linear for automatic scaling\n",
    "    fig.update_layout(yaxis_type='linear')\n",
    "\n",
    "\n",
    "    # Show the figure\n",
    "    fig.show()"
   ],
   "metadata": {
    "collapsed": false,
    "ExecuteTime": {
     "start_time": "2023-12-18T10:39:17.445573Z",
     "end_time": "2023-12-18T10:39:17.462148Z"
    }
   }
  },
  {
   "cell_type": "code",
   "execution_count": 38,
   "outputs": [],
   "source": [],
   "metadata": {
    "collapsed": false,
    "ExecuteTime": {
     "start_time": "2023-12-18T10:39:18.098133Z",
     "end_time": "2023-12-18T10:39:18.125674Z"
    }
   }
  },
  {
   "cell_type": "code",
   "execution_count": 39,
   "outputs": [
    {
     "data": {
      "text/plain": "145247"
     },
     "execution_count": 39,
     "metadata": {},
     "output_type": "execute_result"
    }
   ],
   "source": [
    "len(train_data)"
   ],
   "metadata": {
    "collapsed": false,
    "ExecuteTime": {
     "start_time": "2023-12-18T10:39:18.426779Z",
     "end_time": "2023-12-18T10:39:18.459762Z"
    }
   }
  },
  {
   "cell_type": "code",
   "execution_count": 40,
   "outputs": [],
   "source": [
    "#plot word distribution\n",
    "#plot_word_distrubiton(train_data)"
   ],
   "metadata": {
    "collapsed": false,
    "ExecuteTime": {
     "start_time": "2023-12-18T10:39:19.122840Z",
     "end_time": "2023-12-18T10:39:19.141311Z"
    }
   }
  },
  {
   "cell_type": "code",
   "execution_count": 41,
   "outputs": [
    {
     "name": "stdout",
     "output_type": "stream",
     "text": [
      "145247\n"
     ]
    }
   ],
   "source": [
    "equalised_augment_section = augment_list_equal(train_data, 0.02)"
   ],
   "metadata": {
    "collapsed": false,
    "ExecuteTime": {
     "start_time": "2023-12-18T10:39:19.586246Z",
     "end_time": "2023-12-18T10:39:19.645184Z"
    }
   }
  },
  {
   "cell_type": "code",
   "execution_count": 42,
   "outputs": [
    {
     "data": {
      "text/plain": "148151"
     },
     "execution_count": 42,
     "metadata": {},
     "output_type": "execute_result"
    }
   ],
   "source": [
    "len(equalised_augment_section)"
   ],
   "metadata": {
    "collapsed": false,
    "ExecuteTime": {
     "start_time": "2023-12-18T10:39:22.603516Z",
     "end_time": "2023-12-18T10:39:22.621291Z"
    }
   }
  },
  {
   "cell_type": "code",
   "execution_count": 43,
   "outputs": [],
   "source": [
    "#plot_word_distrubiton(equalised_augment_section)"
   ],
   "metadata": {
    "collapsed": false,
    "ExecuteTime": {
     "start_time": "2023-12-18T10:39:23.636124Z",
     "end_time": "2023-12-18T10:39:23.661257Z"
    }
   }
  },
  {
   "cell_type": "code",
   "execution_count": 44,
   "outputs": [
    {
     "data": {
      "text/plain": "Counter({'the': 4951,\n         'and': 3115,\n         'of': 2296,\n         'was': 2074,\n         'in': 1955,\n         'a': 1928,\n         'to': 1608,\n         'his': 1134,\n         'as': 893,\n         'is': 821,\n         'with': 788,\n         'from': 786,\n         'he': 754,\n         'for': 740,\n         'that': 618,\n         'on': 552,\n         'an': 495,\n         'The': 449,\n         'American': 438,\n         'who': 416,\n         'had': 400,\n         'movie': 394,\n         'which': 372,\n         'at': 360,\n         'film': 351,\n         'George': 349,\n         'became': 344,\n         'by': 337,\n         'also': 331,\n         'married': 329,\n         'this': 326,\n         'born': 311,\n         'were': 310,\n         'one': 308,\n         'but': 307,\n         'Bush': 307,\n         'has': 306,\n         'New': 304,\n         'she': 289,\n         'President': 275,\n         'be': 271,\n         'Ford': 271,\n         'have': 266,\n         'most': 266,\n         'her': 266,\n         'not': 261,\n         'He': 256,\n         'first': 252,\n         'about': 241,\n         'more': 232,\n         'after': 231,\n         'Henry': 230,\n         'John': 229,\n         'United': 221,\n         'U.S.': 220,\n         'it': 210,\n         'later': 207,\n         'both': 206,\n         'during': 202,\n         'its': 197,\n         'Clooney': 191,\n         'been': 183,\n         'some': 183,\n         'family': 178,\n         'York': 178,\n         'where': 172,\n         'James': 170,\n         'served': 168,\n         'time': 168,\n         'when': 165,\n         'would': 164,\n         'son': 160,\n         'until': 156,\n         'brother': 156,\n         'work': 155,\n         'their': 152,\n         'named': 148,\n         'including': 145,\n         'popular': 144,\n         'died': 142,\n         'television': 142,\n         'movies': 141,\n         'States': 137,\n         'than': 136,\n         'left': 136,\n         'William': 135,\n         'She': 135,\n         'second': 134,\n         'comedy': 134,\n         'two': 133,\n         'only': 133,\n         'into': 133,\n         'three': 132,\n         'W.': 132,\n         'Adams': 132,\n         'moved': 130,\n         'Charles': 124,\n         'January': 123,\n         'Huxley': 123,\n         'University': 123,\n         'Mary': 122,\n         'take': 121,\n         '(born': 121,\n         'should': 120,\n         'out': 120,\n         'they': 119,\n         'between': 119,\n         'year': 119,\n         'then': 117,\n         'all': 116,\n         'In': 116,\n         'through': 115,\n         'Ferrer': 115,\n         'best': 114,\n         'Miguel': 114,\n         'known': 112,\n         'good': 110,\n         'around': 110,\n         'like': 109,\n         'Hollywood': 109,\n         'being': 109,\n         'become': 107,\n         'or': 107,\n         'never': 107,\n         'other': 107,\n         'played': 107,\n         'went': 107,\n         'England': 107,\n         'great': 106,\n         'actor': 106,\n         'him': 106,\n         'appeared': 106,\n         'Records.': 106,\n         'new': 105,\n         'Reagan': 105,\n         'over': 104,\n         'often': 103,\n         'years': 103,\n         'French': 102,\n         'gave': 102,\n         'began': 102,\n         'May': 102,\n         'daughter': 102,\n         'you': 101,\n         'Joseph': 101,\n         'company': 100,\n         'His': 100,\n         'before': 99,\n         'After': 99,\n         'Baldwin': 99,\n         'very': 98,\n         'so': 98,\n         'are': 98,\n         'April': 98,\n         'wrote': 97,\n         'well': 96,\n         'made': 95,\n         'Thomas': 95,\n         'Bush,': 95,\n         'Richard': 94,\n         'once': 94,\n         'Michael': 94,\n         'November': 94,\n         'wife': 94,\n         \"it's\": 93,\n         'graduated': 92,\n         'early': 91,\n         'although': 90,\n         'children,': 89,\n         'State': 89,\n         'just': 88,\n         'part': 88,\n         'World': 88,\n         'many': 87,\n         'several': 87,\n         'following': 87,\n         'doing': 86,\n         'whom': 86,\n         'president': 86,\n         'under': 86,\n         'elected': 86,\n         'could': 85,\n         'even': 85,\n         'what': 85,\n         'Kennedy': 85,\n         'Barrymore': 85,\n         'received': 84,\n         'against': 83,\n         'Republican': 83,\n         'while': 82,\n         'such': 82,\n         'little': 81,\n         'While': 81,\n         'home': 81,\n         'led': 81,\n         'King': 81,\n         'called': 80,\n         'last': 80,\n         'paternal': 80,\n         'mother': 80,\n         'five': 79,\n         'show': 79,\n         'series': 79,\n         'War': 79,\n         'Bush.': 79,\n         'did': 78,\n         'director': 78,\n         'actress': 78,\n         '23,': 78,\n         'films': 77,\n         'House': 77,\n         'member': 77,\n         'father': 77,\n         'Rosemary': 76,\n         'age': 76,\n         'However,': 76,\n         'story': 75,\n         'interest': 75,\n         '1964': 75,\n         'California': 75,\n         'presidential': 75,\n         'too': 74,\n         'singer': 74,\n         'British': 74,\n         'Catherine': 74,\n         'much': 73,\n         'Captain': 73,\n         'General': 73,\n         'can': 72,\n         '1958,': 72,\n         'famous': 72,\n         'Hutchinson': 72,\n         'worked': 72,\n         'without': 71,\n         'those': 71,\n         'Irish': 71,\n         'National': 71,\n         'Reprise': 71,\n         'no': 70,\n         'voting': 70,\n         'degree': 70,\n         'Franklin': 70,\n         'himself': 69,\n         'because': 68,\n         'White': 68,\n         'signed': 68,\n         'grandfather': 68,\n         'up': 67,\n         'will': 66,\n         'important': 66,\n         'members': 66,\n         'again': 66,\n         'next': 66,\n         'Alexander': 66,\n         'though': 65,\n         'Robert': 65,\n         'star': 65,\n         'there': 65,\n         'starred': 65,\n         'descent.': 65,\n         'Army': 65,\n         'version': 64,\n         'young': 64,\n         'personal': 64,\n         'small': 64,\n         'always': 64,\n         'Ohio': 64,\n         'your': 63,\n         'put': 63,\n         'Harry': 63,\n         'County': 63,\n         'School': 63,\n         'Portugal': 63,\n         'Cheney': 63,\n         'acting': 62,\n         'make': 62,\n         'shows': 62,\n         'During': 62,\n         'When': 62,\n         'Records': 62,\n         'Massachusetts': 62,\n         'role': 62,\n         '(January': 62,\n         'year,': 62,\n         'Grant,': 62,\n         'marriage': 61,\n         'notable': 61,\n         'bad': 60,\n         'ever': 60,\n         'career': 60,\n         'campaign': 60,\n         'political': 59,\n         'Following': 59,\n         'eventually': 59,\n         'father,': 59,\n         'game': 58,\n         'II': 58,\n         'Detroit': 58,\n         'Rhode': 58,\n         'Drew': 58,\n         'big': 57,\n         'since': 57,\n         'power': 57,\n         'action': 57,\n         'own': 57,\n         'apprentice': 57,\n         'politics': 57,\n         'appearances': 57,\n         'human': 56,\n         'Island': 56,\n         'few': 56,\n         'instead': 56,\n         'active': 56,\n         'February': 56,\n         '1950': 56,\n         'returned': 56,\n         'published': 56,\n         'point': 55,\n         'may': 55,\n         'along': 55,\n         'come': 55,\n         'having': 55,\n         '60': 55,\n         'March': 55,\n         'Peter': 55,\n         'cancer': 55,\n         'these': 54,\n         'audience': 54,\n         'money': 54,\n         \"Edsel's\": 54,\n         'leading': 54,\n         'widely': 54,\n         'raised': 54,\n         'Boston': 54,\n         'serving': 54,\n         'beyond': 53,\n         \"film's\": 53,\n         'times': 53,\n         'love': 53,\n         'documentary': 53,\n         'enough': 53,\n         'came': 53,\n         'Springport,': 53,\n         'College': 53,\n         '15,': 53,\n         'them': 52,\n         'This': 52,\n         'romantic': 52,\n         'intelligence': 52,\n         'experiments': 52,\n         'writer': 52,\n         'Hindman': 52,\n         'appointed': 52,\n         'included': 52,\n         'Italian': 52,\n         'performances': 51,\n         'characters': 51,\n         'Rock': 51,\n         'say': 51,\n         'October': 51,\n         'nearby': 51,\n         'Ferrer,': 51,\n         'Maria': 51,\n         'school': 51,\n         'Grant': 51,\n         \"that's\": 50,\n         \"It's\": 50,\n         'man': 50,\n         'years.': 50,\n         'released': 50,\n         'remains': 50,\n         'Wagner,': 50,\n         'public': 50,\n         'Saturday': 50,\n         'Revolution': 50,\n         'awarded': 50,\n         'far': 49,\n         'contemporary': 49,\n         'decided': 49,\n         'war': 49,\n         \"Clooney's\": 49,\n         'recordings': 49,\n         'Davis': 49,\n         'Presley': 49,\n         'former': 49,\n         'Deborah': 49,\n         'joined': 48,\n         'movie,': 48,\n         'long': 48,\n         'name': 48,\n         'go': 48,\n         'way': 48,\n         'won': 48,\n         'Andrew': 48,\n         'England.': 48,\n         'Hodgkin': 48,\n         'Marine': 48,\n         'Dole': 48,\n         'getting': 47,\n         'away': 47,\n         'given': 47,\n         'Records,': 47,\n         'militia': 47,\n         'Presidents': 47,\n         '18,': 47,\n         'Representatives': 47,\n         'Presidential': 47,\n         'notably': 47,\n         'Harriman,': 47,\n         '(December': 47,\n         'local': 47,\n         'youngest': 47,\n         'plot': 46,\n         'making': 46,\n         'Samuel': 46,\n         'Anne': 46,\n         'supported': 46,\n         'candidate': 46,\n         'Timothy': 46,\n         'H.': 46,\n         'merchant': 46,\n         'South': 46,\n         'Cyrano': 46,\n         'jazz': 46,\n         'almost': 45,\n         'makes': 45,\n         'Monroe': 45,\n         'now': 45,\n         'funny': 45,\n         'free': 45,\n         'city': 45,\n         'grandmother,': 45,\n         'Winthrop': 45,\n         '1953,': 45,\n         'death': 45,\n         'Brown': 45,\n         'Island,': 45,\n         'maternal': 45,\n         'younger': 45,\n         'Illuminating': 44,\n         'Hitler': 44,\n         'shifting': 44,\n         'accepted': 44,\n         'children': 44,\n         'Senate': 44,\n         'Her': 44,\n         'passed': 44,\n         'major': 44,\n         'chairman': 44,\n         'playing': 44,\n         'III': 44,\n         'developed': 44,\n         \"there's\": 43,\n         'forced': 43,\n         'emotional': 43,\n         'character': 43,\n         'cousin': 43,\n         'modern': 43,\n         'sources': 43,\n         'twice': 43,\n         'Jr.,': 43,\n         'Democratic': 43,\n         'Geiger': 43,\n         'Brothers': 43,\n         'Ulysses': 43,\n         'divorced': 43,\n         'Smith': 43,\n         'performance': 42,\n         'again,': 42,\n         'time.': 42,\n         'yet': 42,\n         'high': 42,\n         'film,': 42,\n         'place': 42,\n         'find': 42,\n         'Red': 42,\n         'how': 42,\n         '25,': 42,\n         'Edison': 42,\n         'parents,': 42,\n         'Socialist': 42,\n         'movement': 42,\n         'City': 42,\n         '1993': 42,\n         '1961': 42,\n         'Walker,': 42,\n         'opposite': 42,\n         'investors,': 42,\n         'Quebec': 42,\n         'production': 41,\n         'fun': 41,\n         'numbers': 41,\n         'number': 41,\n         'With': 41,\n         'race': 41,\n         'company,': 41,\n         'June': 41,\n         'quarters': 41,\n         '1955,': 41,\n         'administration': 41,\n         'Einstein': 41,\n         'Marge': 41,\n         'four': 41,\n         'My': 40,\n         'old': 40,\n         'every': 40,\n         'same': 40,\n         'nothing': 40,\n         'play': 40,\n         'sense': 40,\n         'created': 40,\n         'picture': 40,\n         'world': 40,\n         'Although': 40,\n         'spends': 40,\n         'period,': 40,\n         'frequently': 40,\n         'Jose': 40,\n         'MGM': 40,\n         'promote': 40,\n         'initially': 40,\n         'mother,': 40,\n         'studied': 40,\n         'among': 40,\n         'and,': 40,\n         'start': 39,\n         'people': 39,\n         'wonderful': 39,\n         'sometimes': 39,\n         'brilliant': 39,\n         'formed': 39,\n         'Chief': 39,\n         'Long': 39,\n         'quarter': 39,\n         'end': 39,\n         'Dot': 39,\n         '1966': 39,\n         'sang': 39,\n         '2005': 39,\n         'Groucho': 39,\n         'towards': 39,\n         'nominated': 39,\n         'Arista': 39,\n         'First': 39,\n         'Florida': 39,\n         'Prescott': 39,\n         'Herbert': 39,\n         '(May': 39,\n         'ran': 39,\n         'Martha': 38,\n         'Travis': 38,\n         'One': 38,\n         'funny,': 38,\n         'something': 38,\n         'Washington': 38,\n         'cast': 38,\n         'particularly': 38,\n         'horror': 38,\n         'off': 38,\n         'struck': 38,\n         'difficult': 38,\n         'Coppola': 38,\n         'That': 38,\n         'aid': 38,\n         'Martin,': 38,\n         'Kaye,': 38,\n         '1946': 38,\n         'Columbia': 38,\n         'shared': 38,\n         'F.': 38,\n         'third': 38,\n         'musical': 37,\n         'For': 37,\n         'drama': 37,\n         'get': 37,\n         'Stephen': 37,\n         'station': 37,\n         'wanted': 37,\n         'attention': 37,\n         'directed,': 37,\n         'reign': 37,\n         'Gabriel': 37,\n         'August': 37,\n         'Puritan': 37,\n         'preacher': 37,\n         'founded': 37,\n         'took': 37,\n         'Yale': 37,\n         'town': 37,\n         'Simpson': 37,\n         '1955': 37,\n         'look': 36,\n         'might': 36,\n         'rest': 36,\n         'still': 36,\n         'Despite': 36,\n         'works': 36,\n         'except': 36,\n         'class': 36,\n         'middle-aged': 36,\n         'lives': 36,\n         'E.': 36,\n         'cameo': 36,\n         'Debby': 36,\n         '1986': 36,\n         'broke': 36,\n         'They': 36,\n         '17,': 36,\n         'sister': 36,\n         'Christian': 36,\n         'Committee': 36,\n         '13,': 36,\n         'Columbus,': 36,\n         \"(Kerry's\": 36,\n         'parents': 36,\n         'Ethel': 36,\n         'well-meaning': 36,\n         'lived': 35,\n         'Another': 35,\n         'if': 35,\n         'lost': 35,\n         'screen': 35,\n         'Little': 35,\n         'feature': 35,\n         'soon': 35,\n         'ultimately': 35,\n         'Adolf': 35,\n         'liberal': 35,\n         'Night': 35,\n         'December': 35,\n         'Secretary': 35,\n         'Company': 35,\n         'Manners': 35,\n         \"America's\": 35,\n         'Clampett': 35,\n         'abandoned': 35,\n         'reputation': 35,\n         'reelected': 35,\n         'great-grandfather,': 35,\n         'immigrated': 35,\n         'year.': 34,\n         'real': 34,\n         'foreign': 34,\n         \"Sandler's\": 34,\n         'Company.': 34,\n         '1954': 34,\n         '1953': 34,\n         'Continental': 34,\n         'Leonard': 34,\n         'oldest': 34,\n         '4,': 34,\n         'Elvis': 34,\n         'Fenimore': 34,\n         'James,': 34,\n         'roles': 34,\n         'Law': 34,\n         'Frederick': 34,\n         'expedition': 34,\n         'Groening,': 34,\n         'numerous': 34,\n         'defense': 34,\n         'Kerouac': 34,\n         'Wyoming': 34,\n         'reason': 33,\n         'Best': 33,\n         'two-day': 33,\n         'psychological': 33,\n         'powerful': 33,\n         'thing': 33,\n         'likely': 33,\n         'produced': 33,\n         'us': 33,\n         'battle': 33,\n         'serious': 33,\n         'Wild': 33,\n         'Company,': 33,\n         'radio': 33,\n         'training': 33,\n         'Senator': 33,\n         'Rose': 33,\n         'Minister': 33,\n         'Shire': 33,\n         '11,': 33,\n         'Aristotle': 33,\n         'Onassis': 33,\n         'due': 33,\n         'Louisiana': 33,\n         'Bouvier': 33,\n         'writers,': 33,\n         'Coltrane': 33,\n         'storytelling': 33,\n         'Folger,': 33,\n         'keep': 32,\n         'visceral': 32,\n         'conflicted': 32,\n         'lead': 32,\n         'effectively': 32,\n         \"can't\": 32,\n         'strong': 32,\n         'life': 32,\n         'Like': 32,\n         'moments': 32,\n         'dialogue': 32,\n         'barely': 32,\n         'extraordinary': 32,\n         'compelling': 32,\n         'probably': 32,\n         'supporting': 32,\n         'evidence': 32,\n         '1956,': 32,\n         'assumed': 32,\n         'Massachusetts.': 32,\n         'regarded': 32,\n         'Mileva': 32,\n         'scientific': 32,\n         'governor': 32,\n         '1997': 32,\n         'East': 32,\n         'electoral': 32,\n         'election': 32,\n         'Connecticut': 32,\n         'Vice': 32,\n         'London,': 32,\n         'firm': 32,\n         'initial': 32,\n         'Struensee': 32,\n         'centers': 32,\n         'trade': 32,\n         'Barrymore.': 32,\n         'home,': 32,\n         'Pennsylvania.': 32,\n         'Barbara': 32,\n         'position': 32,\n         'election,': 32,\n         'co-authored': 32,\n         'themes': 31,\n         'creation': 31,\n         'male': 31,\n         'minutes': 31,\n         'times,': 31,\n         'seems': 31,\n         'cinematic': 31,\n         'another': 31,\n         'white': 31,\n         'affair': 31,\n         'crime': 31,\n         'classic': 31,\n         '10,': 31,\n         'direct': 31,\n         '1963': 31,\n         'Man': 31,\n         'biologist': 31,\n         'Western': 31,\n         'acquired': 31,\n         '10,000': 31,\n         'losing': 31,\n         'Talia': 31,\n         'football': 31,\n         'finished': 31,\n         'history.': 31,\n         'Caroline': 31,\n         'recurring': 31,\n         'nomination': 31,\n         'brevet': 31,\n         'possible': 31,\n         'repeatedly': 31,\n         'refused': 31,\n         'marked': 31,\n         'wire': 31,\n         'Fitzgerald,': 31,\n         'Boston,': 31,\n         'worth': 30,\n         'hilarious': 30,\n         'seen': 30,\n         'subject': 30,\n         'surprise': 30,\n         'Even': 30,\n         'portrait': 30,\n         'lot': 30,\n         'reorganized': 30,\n         'politics.': 30,\n         '5,': 30,\n         'law': 30,\n         'Koch': 30,\n         'Nancy': 30,\n         'animated': 30,\n         'brought': 30,\n         '(c1839-1876),': 30,\n         'playoff': 30,\n         'Broncos': 30,\n         \"bachelor's\": 30,\n         'arrest': 30,\n         'Reagan,': 30,\n         \"movie's\": 29,\n         'worst': 29,\n         \"doesn't\": 29,\n         'middle': 29,\n         'patient': 29,\n         \"you're\": 29,\n         'watching': 29,\n         'plenty': 29,\n         'Mr.': 29,\n         'seem': 29,\n         'respect': 29,\n         'nearly': 29,\n         'beginning': 29,\n         'Adam': 29,\n         'Quadricycle': 29,\n         '1891,': 29,\n         'financial': 29,\n         \"Cincinnati's\": 29,\n         'biography': 29,\n         '1591': 29,\n         'Fleming': 29,\n         'grandson': 29,\n         'time,': 29,\n         'attended': 29,\n         'Erasmus': 29,\n         'motion': 29,\n         'interred': 29,\n         'grandfather,': 29,\n         'office': 29,\n         'commissioned': 29,\n         'maintained': 29,\n         'graduation,': 29,\n         'manager': 29,\n         'defeating': 29,\n         'Ford,': 29,\n         'Denmark': 29,\n         'Great': 29,\n         'politician': 29,\n         'English': 29,\n         'Police': 29,\n         'Department': 29,\n         'Berkeley': 28,\n         'poetry.': 28,\n         'areas': 28,\n         'immediate': 28,\n         'kind': 28,\n         'courage': 28,\n         'viewed': 28,\n         'someone': 28,\n         'her.': 28,\n         'sequel': 28,\n         'hard': 28,\n         'fresh': 28,\n         'Errol': 28,\n         'me': 28,\n         'There': 28,\n         'highly': 28,\n         'original': 28,\n         'close': 28,\n         'determination': 28,\n         'memorable': 28,\n         'victory': 28,\n         'favorite': 28,\n         '1902,': 28,\n         'Cadillac.': 28,\n         '1893,': 28,\n         'culminated': 28,\n         '1896': 28,\n         'completion': 28,\n         'self-propelled': 28,\n         'vehicle': 28,\n         'Quadricycle,': 28,\n         'Township': 28,\n         'Dearborn,': 28,\n         'Michigan)': 28,\n         \"Hitler's\": 28,\n         'Ludecke,': 28,\n         \"Germany's\": 28,\n         'representative': 28,\n         'daughter-in-law': 28,\n         'employees': 28,\n         'Sorensen,': 28,\n         'long-time': 28,\n         'inherited': 28,\n         'stock,': 28,\n         'Massapequa,': 28,\n         'brothers\",': 28,\n         'brothers': 28,\n         'Railroad,': 28,\n         'busboy': 28,\n         '2002.': 28,\n         'Armstrong,': 28,\n         'pedophile,': 28,\n         'Danny': 28,\n         \"(Nick's\": 28,\n         'Kentucky,': 28,\n         'Cincinnati,': 28,\n         'Frances': 28,\n         'syndicated': 28,\n         'initiative': 28,\n         'Sr.': 28,\n         '(July': 28,\n         'further': 28,\n         'September': 28,\n         'Two': 28,\n         'physician': 28,\n         'St.': 28,\n         'influenced': 28,\n         'bid': 28,\n         'Memorial': 28,\n         'designed': 28,\n         'society': 28,\n         'Margaret': 28,\n         'ancestors': 28,\n         'promotion': 28,\n         '3,': 28,\n         'sitcom': 28,\n         '1980s.': 28,\n         'aunt,': 28,\n         'Though': 28,\n         \"father's\": 28,\n         'games,': 28,\n         'Josiah': 28,\n         'account': 28,\n         'feels': 27,\n         'punishment.': 27,\n         'together': 27,\n         'black': 27,\n         'Japanese': 27,\n         'debut': 27,\n         'charm': 27,\n         'side': 27,\n         'rarely': 27,\n         'quite': 27,\n         'rival': 27,\n         'conventional': 27,\n         'stunning': 27,\n         'actually': 27,\n         'here.': 27,\n         'personally': 27,\n         'drove': 27,\n         'heavy': 27,\n         '1901.': 27,\n         'Leland': 27,\n         'internal': 27,\n         'test-drove': 27,\n         'prosperous': 27,\n         'Springwells': 27,\n         '(1826-1905)': 27,\n         'immigrants': 27,\n         'wars,': 27,\n         'starting': 27,\n         'Winifred': 27,\n         'requested': 27,\n         'indicate': 27,\n         'concept': 27,\n         'development': 27,\n         'Avery,': 27,\n         'advocated': 27,\n         'widow': 27,\n         'Eleanor,': 27,\n         'York,': 27,\n         'SpongeBob': 27,\n         'rumored': 27,\n         'Barrett': 27,\n         \"children's\": 27,\n         'potrays': 27,\n         'DePaolo': 27,\n         'sisters': 27,\n         'WLW': 27,\n         'Maysville,': 27,\n         'great-grandparents,': 27,\n         'Nicholas': 27,\n         'Koch,': 27,\n         'Coral': 27,\n         'Artists': 27,\n         '1959)': 27,\n         'Ethics': 27,\n         'Dedham,': 27,\n         'Rochester,': 27,\n         'descended': 27,\n         'relocated': 27,\n         'heretic': 27,\n         'Aquidneck': 27,\n         'Portsmouth,': 27,\n         'ranking': 27,\n         'Einstein,': 27,\n         'Darwin': 27,\n         'words': 27,\n         'criticized': 27,\n         'noted': 27,\n         'Besides': 27,\n         'II,': 27,\n         'aboard': 27,\n         'Tenth': 27,\n         'Democrat': 27,\n         'Knight': 27,\n         'captain': 27,\n         'Other': 27,\n         'Basinger': 27,\n         'Crosby,': 27,\n         'Army.': 27,\n         'combat': 27,\n         '30,': 27,\n         'Patti': 27,\n         'months': 27,\n         'German': 27,\n         ...})"
     },
     "execution_count": 44,
     "metadata": {},
     "output_type": "execute_result"
    }
   ],
   "source": [
    "#Counter(equalised_augment_section)"
   ],
   "metadata": {
    "collapsed": false,
    "ExecuteTime": {
     "start_time": "2023-12-18T10:39:24.079881Z",
     "end_time": "2023-12-18T10:39:24.133996Z"
    }
   }
  },
  {
   "cell_type": "code",
   "execution_count": 65,
   "outputs": [],
   "source": [
    "def augment_list_balanced(original_list, augmentation_percentage, balance_factor=0.15):\n",
    "    # Count the frequency of each word in the original list\n",
    "    word_counts = {}\n",
    "    for word in original_list:\n",
    "        word_counts[word] = word_counts.get(word, 0) + 1\n",
    "\n",
    "    # Identify less frequent words\n",
    "    unique_words = list(set(original_list))\n",
    "    less_frequent_words = sorted(unique_words, key=lambda x: word_counts[x])\n",
    "\n",
    "    # Determine the number of words to add for augmentation\n",
    "    num_words_to_add = int(len(original_list) * augmentation_percentage)\n",
    "\n",
    "    # Augment the list with less frequent words\n",
    "    augmented_list = []\n",
    "    for _ in range(num_words_to_add):\n",
    "        # Choose a word with higher probability for less frequent words\n",
    "        weights = [1/(word_counts[word]**balance_factor) for word in less_frequent_words]\n",
    "        chosen_word = random.choices(less_frequent_words, weights=weights)[0]\n",
    "        augmented_list.append(chosen_word)\n",
    "\n",
    "    return augmented_list\n",
    "\n",
    "\n"
   ],
   "metadata": {
    "collapsed": false,
    "ExecuteTime": {
     "start_time": "2023-12-18T10:56:03.815396Z",
     "end_time": "2023-12-18T10:56:03.823808Z"
    }
   }
  },
  {
   "cell_type": "code",
   "execution_count": 66,
   "outputs": [],
   "source": [
    "balanced_augment_section = augment_list_balanced(train_data, 0.02, 0.15)"
   ],
   "metadata": {
    "collapsed": false,
    "ExecuteTime": {
     "start_time": "2023-12-18T10:56:04.590769Z",
     "end_time": "2023-12-18T10:56:08.449642Z"
    }
   }
  },
  {
   "cell_type": "code",
   "execution_count": 67,
   "outputs": [
    {
     "data": {
      "text/plain": "Counter({\"``Sade''\": 4,\n         'natives': 4,\n         'Cartwright)': 4,\n         'surrendered.': 4,\n         'moving,': 4,\n         'Andys': 4,\n         'raucous': 4,\n         'quench': 4,\n         'Chesney,': 4,\n         'Evelyn': 3,\n         'retire,': 3,\n         'me': 3,\n         'another': 3,\n         'Dead': 3,\n         \"Perry's\": 3,\n         'studies.': 3,\n         'assisting': 3,\n         'general,': 3,\n         'supporter': 3,\n         'Wars': 3,\n         'advice': 3,\n         'Undercover': 3,\n         'hallucinations.': 3,\n         'flesh': 3,\n         \"she's\": 3,\n         'Vernon': 3,\n         'unit': 3,\n         '1955.': 3,\n         'rarity,': 3,\n         'breakthrough': 3,\n         'films,': 3,\n         'interceptions': 3,\n         '1934)': 3,\n         'line,': 3,\n         '2004.': 3,\n         'equals': 3,\n         'Secret': 3,\n         'generation.': 3,\n         'Sara': 3,\n         'father-in-law,': 3,\n         'performances': 3,\n         'Cooler,': 3,\n         'under-rehearsed': 3,\n         'Grant': 3,\n         'restored.': 3,\n         'slapdash': 3,\n         'know': 3,\n         '70.': 3,\n         'dictums': 3,\n         'steadily': 3,\n         'husband,': 3,\n         '41st': 3,\n         'boards,': 3,\n         'Seminary': 3,\n         'OM,': 3,\n         'heartbreaking': 3,\n         '4th': 3,\n         'neglected': 3,\n         'capped': 3,\n         'corpse': 3,\n         'decade': 3,\n         'merit': 3,\n         'swim': 3,\n         'gothic.': 3,\n         'Andrew': 3,\n         'core': 3,\n         'Home': 3,\n         'chair...': 3,\n         'law': 3,\n         'ups.': 3,\n         'biggest': 3,\n         'obnoxious.': 3,\n         \"Hermann's\": 3,\n         'breathtakingly': 3,\n         'Fielding': 3,\n         'actively': 3,\n         'extravagant': 3,\n         'Louisa': 3,\n         'artifice': 3,\n         'Platte,': 3,\n         'second': 3,\n         'League.': 3,\n         \"latter's\": 3,\n         'without': 3,\n         \"week's\": 3,\n         'Nothing': 3,\n         'sets': 2,\n         '1946)': 2,\n         'African': 2,\n         'Alberta': 2,\n         'Stedman': 2,\n         '11,': 2,\n         'Raja': 2,\n         '30': 2,\n         'gone,': 2,\n         'partly': 2,\n         'glamour': 2,\n         'miraculous': 2,\n         'atavistic': 2,\n         'drank': 2,\n         'falls': 2,\n         'guest': 2,\n         'Between': 2,\n         'hired': 2,\n         '1998.': 2,\n         '(1801-1881),': 2,\n         '1912,': 2,\n         'avoid': 2,\n         'Live': 2,\n         \"ain't\": 2,\n         'upon': 2,\n         'involving': 2,\n         '(1987),': 2,\n         'although': 2,\n         'Johnson.': 2,\n         'characters': 2,\n         'video.': 2,\n         'sort.': 2,\n         'drama.': 2,\n         'came': 2,\n         'Suffers': 2,\n         'Sargent': 2,\n         'physical': 2,\n         'contrivance,': 2,\n         'Denham,': 2,\n         'capitalize': 2,\n         'organism': 2,\n         'resigned': 2,\n         'brain;': 2,\n         'thirst': 2,\n         'sublimely': 2,\n         'charter': 2,\n         'Working': 2,\n         \"That's\": 2,\n         'receiving': 2,\n         'built': 2,\n         'detailed': 2,\n         'Showgirls.': 2,\n         \"parents'\": 2,\n         'punishment.': 2,\n         'appearance': 2,\n         'relocated': 2,\n         'substitute': 2,\n         'seriously.': 2,\n         'papers': 2,\n         'police': 2,\n         'impudent': 2,\n         'stock': 2,\n         '1921': 2,\n         'expressively': 2,\n         'hour-and-a-half.': 2,\n         'roles,': 2,\n         'awful': 2,\n         'Under': 2,\n         'Robinson\"': 2,\n         'Rican-American': 2,\n         'intentions': 2,\n         'discovered': 2,\n         'documentary': 2,\n         'retaining': 2,\n         'creative': 2,\n         'inability': 2,\n         'Partisi': 2,\n         'actors': 2,\n         'shifting': 2,\n         'badly': 2,\n         'role.': 2,\n         'Finally,': 2,\n         'becomes': 2,\n         'oldest': 2,\n         'apprentice': 2,\n         'Carolina;': 2,\n         'Walsh.': 2,\n         'Speck': 2,\n         'next,': 2,\n         'ultimately': 2,\n         'No': 2,\n         'write': 2,\n         'genres': 2,\n         'Sophie': 2,\n         'curves': 2,\n         '10': 2,\n         'busy': 2,\n         'Lamarck,': 2,\n         'could': 2,\n         'stylish': 2,\n         'attention': 2,\n         'pictures': 2,\n         'legal': 2,\n         'lived': 2,\n         'Aesop.': 2,\n         'lame': 2,\n         'Executive': 2,\n         'see': 2,\n         'Why': 2,\n         'Kennedy.': 2,\n         \"Albert's\": 2,\n         'method': 2,\n         '46th': 2,\n         'maker': 2,\n         'rest': 2,\n         'Dominique': 2,\n         'inclination': 2,\n         'likely': 2,\n         'world': 2,\n         'close,': 2,\n         'promotion': 2,\n         'Roman': 2,\n         'HCC': 2,\n         'pride': 2,\n         '1822)': 2,\n         'heart': 2,\n         'ultimate': 2,\n         'Jackson': 2,\n         'pop': 2,\n         'Adams': 2,\n         'target.': 2,\n         'complete': 2,\n         'trimming': 2,\n         'Dolls.': 2,\n         'Sly': 2,\n         'sustain': 2,\n         'typical': 2,\n         'T.': 2,\n         'inhospitability': 2,\n         'determination': 2,\n         'Salvation': 2,\n         'demands': 2,\n         'descended': 2,\n         'Royal,': 2,\n         'photos,': 2,\n         'Shrike.': 2,\n         'Holstein.': 2,\n         'outspoken': 2,\n         'authority': 2,\n         'empowerment.': 2,\n         'sank': 2,\n         'Batman,': 2,\n         'force.': 2,\n         'little': 2,\n         'nonviolent': 2,\n         'Rocky': 2,\n         'high': 2,\n         'that,': 2,\n         'expressiveness.': 2,\n         'Raoul': 2,\n         'Carl,': 2,\n         'persecutors,': 2,\n         'cornetist.': 2,\n         'little.': 2,\n         'relentless,': 2,\n         'Mathilde,': 2,\n         'landing': 2,\n         'Bureau.': 2,\n         'grubbing': 2,\n         'veered': 2,\n         'Considered': 2,\n         'Einsteins': 2,\n         'studying': 2,\n         'Lambs,': 2,\n         'along,': 2,\n         'introduction': 2,\n         'great-great-great-great-great': 2,\n         'record': 2,\n         'replaced': 2,\n         'politician': 2,\n         'speak': 2,\n         'Seldahl': 2,\n         'Mondale': 2,\n         'interested,': 2,\n         'Aaliyah': 2,\n         '2005-04-12,': 2,\n         'federal': 2,\n         '3': 2,\n         'Quadricycle,': 2,\n         'ends': 2,\n         'And': 2,\n         'dungpile': 2,\n         'throat': 2,\n         'different': 2,\n         'experience': 2,\n         'first': 2,\n         'guarded,': 2,\n         'end': 2,\n         'Mouglalis': 2,\n         'Shore.': 2,\n         'fresh': 2,\n         'manager.': 2,\n         'publicly': 2,\n         'working': 2,\n         'Clooney': 2,\n         'explorer': 2,\n         'eye-popping': 2,\n         \"characters'\": 2,\n         'decent.': 2,\n         'Viva': 2,\n         'quickly': 2,\n         '1934,': 2,\n         'predictable.': 2,\n         'Winthrop': 2,\n         'program.': 2,\n         'suburban': 2,\n         'Lorre': 2,\n         '3,': 2,\n         'predictable': 2,\n         'comic': 2,\n         'states': 2,\n         '...': 2,\n         'Grace,': 2,\n         '1782).': 2,\n         'everyone.': 2,\n         'original.': 2,\n         'unsentimental': 2,\n         'American': 2,\n         'child': 2,\n         'nights.\"\"': 2,\n         '(voice),': 2,\n         'Moseley': 2,\n         'sophisticated': 2,\n         'Genuinely': 2,\n         'confidantes': 2,\n         'columnist': 2,\n         'fortune\"': 2,\n         'discipline.': 2,\n         'dangers': 2,\n         'fate': 2,\n         'hilarious.': 2,\n         'odd-jobs': 2,\n         'Rita': 2,\n         'Navy': 2,\n         'Cox': 2,\n         'evolutionary': 2,\n         'Intriguing': 2,\n         '1817': 2,\n         'occurred': 2,\n         'brevet': 2,\n         'sales': 2,\n         '(named': 2,\n         'banter': 2,\n         \"Onassis's\": 2,\n         'cigars': 2,\n         'Long': 2,\n         '(1931),': 2,\n         'nice': 2,\n         'imprisonment,': 2,\n         'authorities': 2,\n         'school,': 2,\n         'Hochschule': 2,\n         'Profiles': 2,\n         'insisted': 2,\n         'Meuse-Argonne': 2,\n         'stood': 2,\n         'guilty': 2,\n         'Colony.': 2,\n         'conflicted': 2,\n         'minutes.': 2,\n         'potentials,\"': 2,\n         'Beta': 2,\n         'doofus-on-the-loose': 2,\n         'subculture.': 2,\n         'quality': 2,\n         'cocky,': 2,\n         'Barry': 2,\n         '1923,': 2,\n         'benchmark': 2,\n         'heretic': 2,\n         '1984': 2,\n         \"Ford's\": 2,\n         '[the': 2,\n         'excels': 2,\n         'insulting': 2,\n         'number': 2,\n         'citizenship': 2,\n         '(the': 2,\n         \"1954's\": 2,\n         'Endowment': 2,\n         'irritating,': 2,\n         '\"Gail': 2,\n         'staircase': 2,\n         'delivers': 2,\n         'Adams-Onis': 2,\n         'Margot': 2,\n         'Huxley.': 2,\n         \"here's\": 2,\n         'German.': 2,\n         'Springwells': 2,\n         'envoy': 2,\n         'snarky': 2,\n         'side': 2,\n         \"they'll\": 2,\n         'ended': 2,\n         'Waspy': 2,\n         'Kerry,': 2,\n         'Mouse': 2,\n         'infant': 2,\n         'Perhaps': 2,\n         'arrow': 2,\n         '(now': 2,\n         'bookkeeper': 2,\n         'Ending': 2,\n         'antics': 2,\n         'bar.': 2,\n         'Lilo': 2,\n         'generations': 2,\n         'wafer': 2,\n         'swallowing': 2,\n         'sisterly': 2,\n         'production,': 2,\n         'twisty': 2,\n         'loss': 2,\n         'seen.': 2,\n         'chair': 2,\n         'middle-aged': 2,\n         '`How': 2,\n         'key': 2,\n         'rings': 2,\n         'inspiring': 2,\n         'classic': 2,\n         'tortured': 2,\n         'Bollywood.': 2,\n         'Jersey': 2,\n         'authors.': 2,\n         'selection.': 2,\n         'worshipful': 2,\n         'tenure': 2,\n         'magic.': 2,\n         '(1961)': 2,\n         'entered': 2,\n         'experiences': 2,\n         'Dona': 2,\n         'Luther': 2,\n         '1929': 2,\n         'Wear,': 2,\n         'still-teenaged': 2,\n         'Al': 2,\n         'Tenth': 2,\n         'Along': 2,\n         'Coordinating': 2,\n         'Epps,': 2,\n         'Week': 2,\n         'Trek': 2,\n         'Technische': 2,\n         'Rockefeller': 2,\n         'borrows': 2,\n         'important:': 2,\n         'song,': 2,\n         'tea,': 2,\n         'unsettlingly': 2,\n         'forges': 2,\n         'rambling,': 2,\n         'system.': 2,\n         '1905': 2,\n         'illegitimate': 2,\n         'mouth': 2,\n         'lonely': 2,\n         'Manning': 2,\n         'Terrible.': 2,\n         'entertaining.': 2,\n         'Sadie': 2,\n         'puts': 2,\n         'UK)': 2,\n         'because': 2,\n         'irritating': 2,\n         '69': 2,\n         'related': 2,\n         'superior': 2,\n         'proves': 2,\n         'times,': 2,\n         'igloo': 2,\n         'fully.': 2,\n         'direct': 2,\n         'images.': 2,\n         'Democratic-Republican': 2,\n         'Kaige': 2,\n         'capsule': 2,\n         'involved': 2,\n         'arrive': 2,\n         'someone': 2,\n         'earliest': 2,\n         'incendiary': 2,\n         'Symphony': 2,\n         'By': 2,\n         'Aarau,': 2,\n         'Holocaust': 2,\n         '1954.': 2,\n         'frequently': 2,\n         'funeral,': 2,\n         '100': 2,\n         '(an': 2,\n         'Blackboards': 2,\n         '(3,819': 2,\n         'mildly': 2,\n         'outbreak': 2,\n         'script,': 2,\n         'There.': 2,\n         'Defied': 2,\n         'seeing.': 2,\n         'Groucho': 2,\n         'original,': 2,\n         'notice': 2,\n         'Martin': 2,\n         'apart.': 2,\n         'coma.': 2,\n         'longer': 2,\n         '1940s,': 2,\n         'servant.': 2,\n         'intelligence': 2,\n         'Four': 2,\n         'Student': 2,\n         'College': 2,\n         'Sur': 2,\n         'academy,': 2,\n         'sign': 2,\n         \"Scott's\": 2,\n         'wife': 2,\n         'Naish': 2,\n         'Lionberger,': 2,\n         '1972.': 2,\n         'switched': 2,\n         'Diesel': 2,\n         'fathers.': 2,\n         '(e.g.': 2,\n         'back,': 2,\n         'flinching.': 2,\n         'stuck': 2,\n         'deeper': 2,\n         '1834': 2,\n         'life;': 2,\n         'Read': 1,\n         'actual': 1,\n         'showboating': 1,\n         'passage': 1,\n         'loving': 1,\n         'rampant': 1,\n         'deja': 1,\n         'out': 1,\n         \"community's\": 1,\n         'Staffordshire': 1,\n         'Japanese': 1,\n         'Sir': 1,\n         'Dragon': 1,\n         'brothers,': 1,\n         'repeatedly': 1,\n         'election).': 1,\n         'mentioned,': 1,\n         'Shrewsbury': 1,\n         'shopkeeper': 1,\n         'same': 1,\n         'Gifford': 1,\n         'feeling': 1,\n         'it.': 1,\n         'Church': 1,\n         'Killed': 1,\n         'Caraboo': 1,\n         'retro': 1,\n         'during': 1,\n         '1970s,': 1,\n         'printer': 1,\n         'playing': 1,\n         'good...': 1,\n         'themselves': 1,\n         'Austin.': 1,\n         'Despite': 1,\n         'duty,': 1,\n         'initiative': 1,\n         'OK.': 1,\n         'coached': 1,\n         'surgical': 1,\n         'excess,': 1,\n         'depth': 1,\n         'wedding.': 1,\n         'earnestness': 1,\n         'autobiography,': 1,\n         'cameo': 1,\n         '1940,': 1,\n         'out.': 1,\n         'good.': 1,\n         'relocation': 1,\n         \"aren't\": 1,\n         'recordings,': 1,\n         'moral': 1,\n         'Heart.': 1,\n         'co-host': 1,\n         'elements': 1,\n         'existing': 1,\n         'suspense,': 1,\n         'performed': 1,\n         'innocent': 1,\n         'satirist.': 1,\n         'colorful,': 1,\n         'drove': 1,\n         'home,': 1,\n         'college': 1,\n         'design': 1,\n         'Audiard': 1,\n         'Leading': 1,\n         'Supporting': 1,\n         'ESPN': 1,\n         'Federal': 1,\n         'winning': 1,\n         'neither': 1,\n         'J.': 1,\n         'watched': 1,\n         'Maja': 1,\n         'Boston': 1,\n         'Jr.': 1,\n         '1967': 1,\n         'Eisenhower.': 1,\n         'not,': 1,\n         'level': 1,\n         '1942.': 1,\n         'remarkably': 1,\n         'Tulane': 1,\n         'Maysville,': 1,\n         'substantial': 1,\n         'health': 1,\n         'yesteryear': 1,\n         'endless': 1,\n         '1916': 1,\n         'Scandinavia': 1,\n         'Wolfe': 1,\n         'Hope': 1,\n         'insiders': 1,\n         'Wells': 1,\n         'Denver': 1,\n         'dampens': 1,\n         'intend': 1,\n         'intimate': 1,\n         'exile': 1,\n         'theories.': 1,\n         'submissive': 1,\n         'cgs': 1,\n         'amusing': 1,\n         'Coral': 1,\n         'mounted': 1,\n         'Institute.': 1,\n         '1895,': 1,\n         '1814,': 1,\n         'shot': 1,\n         'despairingly': 1,\n         'actor,': 1,\n         'catchy': 1,\n         'principles': 1,\n         '6': 1,\n         'enters': 1,\n         'ticket': 1,\n         'Eventually,': 1,\n         'stronger': 1,\n         'expected': 1,\n         'forgiveness': 1,\n         'Nazi': 1,\n         'largely': 1,\n         'minds.': 1,\n         '2004': 1,\n         \"organization's\": 1,\n         'breathtaking': 1,\n         'blend': 1,\n         'section': 1,\n         'Travis': 1,\n         'eyelids...': 1,\n         '1902.': 1,\n         '1964,': 1,\n         'allows': 1,\n         'cult': 1,\n         'case': 1,\n         'compelling': 1,\n         'University.': 1,\n         'hyper-realistic': 1,\n         '(near': 1,\n         'Frances': 1,\n         'Deep': 1,\n         'extravaganza.': 1,\n         \"driver's\": 1,\n         'usual': 1,\n         'race': 1,\n         'fought': 1,\n         'draws': 1,\n         'very': 1,\n         'Skipton': 1,\n         'influence.': 1,\n         'setback;': 1,\n         'deadpan': 1,\n         'family,': 1,\n         'throw': 1,\n         'intolerance': 1,\n         '-George': 1,\n         'ugly,': 1,\n         '(SCLC)': 1,\n         'redeeming': 1,\n         'Munich': 1,\n         'six': 1,\n         'neo-fascism.': 1,\n         '2': 1,\n         'renounced': 1,\n         \"can't\": 1,\n         'singers.': 1,\n         'handed': 1,\n         'readers': 1,\n         'Balboa': 1,\n         'Huppert': 1,\n         'Michael': 1,\n         'Maybe': 1,\n         'Puritan': 1,\n         'seems': 1,\n         'minutes,': 1,\n         'C.H.': 1,\n         'Deuces': 1,\n         'Westerns,': 1,\n         'fearless': 1,\n         'Schwartzman': 1,\n         'immersive': 1,\n         'watch': 1,\n         'creepiness': 1,\n         'Myrna': 1,\n         'paranoia,': 1,\n         'him,': 1,\n         'styled': 1,\n         'shortened': 1,\n         'murder-on-campus': 1,\n         'sheets.': 1,\n         'seductive': 1,\n         'fouled': 1,\n         'human-scale': 1,\n         'Blonde': 1,\n         'operation': 1,\n         'excelling': 1,\n         'gruff': 1,\n         '29,': 1,\n         'random': 1,\n         'root': 1,\n         'Baker': 1,\n         'Nils': 1,\n         'battle': 1,\n         'above...': 1,\n         'briefly': 1,\n         '1966': 1,\n         'better,': 1,\n         'aunt,': 1,\n         'editor': 1,\n         'fork': 1,\n         'merits.': 1,\n         'happens': 1,\n         'sequences...': 1,\n         'Tupelo': 1,\n         'Marvin': 1,\n         'unimpressively': 1,\n         'big': 1,\n         'tell': 1,\n         'Struensee': 1,\n         'accent': 1,\n         'Warren.': 1,\n         'Scotia,': 1,\n         'satire.': 1,\n         'Pacino': 1,\n         'County,': 1,\n         'payoff.': 1,\n         'defeating': 1,\n         'disciplining': 1,\n         'dramas': 1,\n         'matinee': 1,\n         'experience.': 1,\n         'their': 1,\n         'serve': 1,\n         'unimpressive': 1,\n         'alive': 1,\n         'Erasmus': 1,\n         'predict': 1,\n         '1957,': 1,\n         'Leland': 1,\n         '1996,': 1,\n         'recurring': 1,\n         'driver': 1,\n         'Daniel.': 1,\n         'animated': 1,\n         '(voiced': 1,\n         'Pearl': 1,\n         'Husbands': 1,\n         \"He's\": 1,\n         'Lovett': 1,\n         'Marbury': 1,\n         'managing': 1,\n         'engaged': 1,\n         'dual': 1,\n         'Italy': 1,\n         'trace': 1,\n         'updating': 1,\n         'North': 1,\n         'magazine,': 1,\n         'photographed': 1,\n         'Struensee.': 1,\n         'Bush.': 1,\n         'Bushes': 1,\n         'royal': 1,\n         'astigmatism.': 1,\n         '``13': 1,\n         'decided': 1,\n         'Caine': 1,\n         'Lieutenant': 1,\n         'worth': 1,\n         '86': 1,\n         'France.': 1,\n         'Columbia': 1,\n         '1810': 1,\n         'strokes': 1,\n         'However,': 1,\n         'pseudonym': 1,\n         'streets,': 1,\n         'Friedrich': 1,\n         'size,': 1,\n         'hopes': 1,\n         'V,': 1,\n         'talks': 1,\n         'starting': 1,\n         'spectacle,': 1,\n         '1927': 1,\n         'Blvd.': 1,\n         'eloquently': 1,\n         'production': 1,\n         'jaded.': 1,\n         'USA)': 1,\n         'go': 1,\n         'era:': 1,\n         'completion': 1,\n         'only,': 1,\n         'Counsel': 1,\n         'Memorial': 1,\n         'reissues': 1,\n         'brilliant': 1,\n         'passed': 1,\n         'unsatisfying,': 1,\n         'purpose': 1,\n         'grueling': 1,\n         'wit,': 1,\n         'call': 1,\n         'Seney.': 1,\n         'clean': 1,\n         'aboard': 1,\n         \"you've\": 1,\n         'happen': 1,\n         'Gaza.': 1,\n         'Steers': 1,\n         'he': 1,\n         'assistance': 1,\n         'length,': 1,\n         'electrical': 1,\n         'long-time': 1,\n         'cool,': 1,\n         'following:': 1,\n         'useful': 1,\n         'century,': 1,\n         'strategically': 1,\n         'empathy': 1,\n         'self-hating,': 1,\n         'Lips': 1,\n         'very,': 1,\n         'pressure': 1,\n         'discreet': 1,\n         'combustion': 1,\n         'wife,': 1,\n         'parts': 1,\n         'Mississippi,': 1,\n         'mathematician,': 1,\n         'matter': 1,\n         'intervened,': 1,\n         'rights': 1,\n         'Irish': 1,\n         'Woolley,': 1,\n         'cowboy': 1,\n         'plot,': 1,\n         'blast': 1,\n         'list': 1,\n         'study': 1,\n         'insensitive,': 1,\n         'are:': 1,\n         'debut': 1,\n         'Department': 1,\n         'artificial': 1,\n         'vote.': 1,\n         'According': 1,\n         'opera,': 1,\n         'Feels': 1,\n         'shared': 1,\n         'splendor': 1,\n         \"Ferrer's\": 1,\n         'Methodical,': 1,\n         'revolution': 1,\n         '1848)': 1,\n         'contact': 1,\n         'evolution.': 1,\n         'emerged': 1,\n         'Valley': 1,\n         'Christelle,': 1,\n         'Sounders.': 1,\n         'miller': 1,\n         'B': 1,\n         'Haynes': 1,\n         'Photographed': 1,\n         \"Colts'\": 1,\n         'design.': 1,\n         '19th': 1,\n         'advocated': 1,\n         'measured,': 1,\n         'awful.': 1,\n         'All': 1,\n         'Yale,': 1,\n         'Flaming': 1,\n         'smile': 1,\n         'scene': 1,\n         'almost': 1,\n         'body': 1,\n         'much': 1,\n         'banker': 1,\n         'well-meaning': 1,\n         'Armstrong,': 1,\n         '1819': 1,\n         'class': 1,\n         'Bridget': 1,\n         'Attal': 1,\n         'misses': 1,\n         \"Conversations''\": 1,\n         'laughed': 1,\n         'Nicholas': 1,\n         'always': 1,\n         \"Marge's\": 1,\n         'fussy': 1,\n         'soldier': 1,\n         'honor': 1,\n         'founded': 1,\n         'great-grandparents,': 1,\n         'face': 1,\n         'artist.': 1,\n         'Treasurer': 1,\n         'society.': 1,\n         'remake': 1,\n         'avant-garde,': 1,\n         'Story:': 1,\n         'perpetual': 1,\n         'halfway': 1,\n         'Features': 1,\n         \"Allen's\": 1,\n         'Earthquakes': 1,\n         'scenes': 1,\n         '1997).': 1,\n         'Forbes': 1,\n         'attending': 1,\n         'contracting': 1,\n         'team': 1,\n         'Talia': 1,\n         'Nijinsky,': 1,\n         'sophisticated,': 1,\n         'interest.': 1,\n         'which,': 1,\n         'Speaker': 1,\n         'services': 1,\n         'relation': 1,\n         'Truman': 1,\n         'exploration': 1,\n         'Job': 1,\n         'It': 1,\n         'triumph': 1,\n         'fire': 1,\n         'satisfying': 1,\n         'Fleming': 1,\n         'U.S.': 1,\n         'Tout?': 1,\n         'ranking': 1,\n         'schoolteacher,': 1,\n         'unequivocally': 1,\n         'Gerard.': 1,\n         'California': 1,\n         \"``Simone''\": 1,\n         'career': 1,\n         'children.': 1,\n         'close-knit': 1,\n         'Crocodile': 1,\n         '1800s.': 1,\n         'greed': 1,\n         'business,': 1,\n         'way,': 1,\n         'distrust': 1,\n         'Harry': 1,\n         'cited': 1,\n         'Impresses': 1,\n         'low': 1,\n         'football': 1,\n         'pathology,': 1,\n         'dishonesty,': 1,\n         'tear': 1,\n         'surefire,': 1,\n         '\"miracle': 1,\n         'detachments': 1,\n         'Thirteen': 1,\n         'how': 1,\n         'modern': 1,\n         'alarming': 1,\n         'leaving': 1,\n         'clumsy,': 1,\n         'arrest,': 1,\n         'ashes': 1,\n         'long-term': 1,\n         ...})"
     },
     "execution_count": 67,
     "metadata": {},
     "output_type": "execute_result"
    }
   ],
   "source": [
    "Counter(balanced_augment_section)"
   ],
   "metadata": {
    "collapsed": false,
    "ExecuteTime": {
     "start_time": "2023-12-18T10:56:08.449642Z",
     "end_time": "2023-12-18T10:56:08.513822Z"
    }
   }
  },
  {
   "cell_type": "code",
   "execution_count": 47,
   "outputs": [
    {
     "data": {
      "text/plain": "2904"
     },
     "execution_count": 47,
     "metadata": {},
     "output_type": "execute_result"
    }
   ],
   "source": [
    "len(balanced_augment_section)"
   ],
   "metadata": {
    "collapsed": false,
    "ExecuteTime": {
     "start_time": "2023-12-18T10:39:38.463927Z",
     "end_time": "2023-12-18T10:39:38.486267Z"
    }
   }
  },
  {
   "cell_type": "code",
   "execution_count": 71,
   "outputs": [],
   "source": [
    "def calculate_idf(sentences):\n",
    "    preprocessed_sentences = [re.sub(r\"[^a-zA-Z0-9\\s]\", \"\", sentence.lower()).split() for sentence in sentences]\n",
    "    unique_terms = set([term for words in preprocessed_sentences for term in words])\n",
    "    doc_frequencies = Counter()\n",
    "    for term in unique_terms:\n",
    "        for words in preprocessed_sentences:\n",
    "            if term in words:\n",
    "                doc_frequencies[term] += 1\n",
    "    total_documents = len(sentences)\n",
    "    idf_results = {term: math.log(total_documents / (1 + doc_frequency)) for term, doc_frequency in doc_frequencies.items()}\n",
    "    return idf_results"
   ],
   "metadata": {
    "collapsed": false,
    "ExecuteTime": {
     "start_time": "2023-12-18T12:16:56.725094Z",
     "end_time": "2023-12-18T12:16:56.864333Z"
    }
   }
  },
  {
   "cell_type": "code",
   "execution_count": 48,
   "outputs": [],
   "source": [
    "import re\n",
    "import math\n",
    "\n",
    "\n",
    "def calculate_tf_idf_aggregate(sentences):\n",
    "    # Calculate TF for each term in each sentence\n",
    "    def calculate_tf(sentence):\n",
    "        words = re.sub(r\"[^a-zA-Z0-9\\s]\", \"\", sentence.lower()).split()\n",
    "        term_frequency = Counter(words)\n",
    "        total_terms = len(words)\n",
    "        normalized_tf = {term: frequency / total_terms for term, frequency in term_frequency.items()}\n",
    "        return normalized_tf\n",
    "\n",
    "    # Calculate IDF for each term across all sentences\n",
    "    def calculate_idf(sentences):\n",
    "        preprocessed_sentences = [re.sub(r\"[^a-zA-Z0-9\\s]\", \"\", sentence.lower()).split() for sentence in sentences]\n",
    "        unique_terms = set([term for words in preprocessed_sentences for term in words])\n",
    "        doc_frequencies = Counter()\n",
    "        for term in unique_terms:\n",
    "            for words in preprocessed_sentences:\n",
    "                if term in words:\n",
    "                    doc_frequencies[term] += 1\n",
    "        total_documents = len(sentences)\n",
    "        idf_results = {term: math.log(total_documents / (1 + doc_frequency)) for term, doc_frequency in doc_frequencies.items()}\n",
    "        return idf_results\n",
    "\n",
    "    # Calculate TF-IDF for each term in each sentence\n",
    "    tf_idf_results = []\n",
    "    idf_results = calculate_idf(sentences)\n",
    "    for sentence in sentences:\n",
    "        tf = calculate_tf(sentence)\n",
    "        tf_idf = {term: tf_value * idf_results[term] for term, tf_value in tf.items()}\n",
    "        tf_idf_results.append(tf_idf)\n",
    "\n",
    "    # Aggregate TF-IDF scores for each term across all sentences\n",
    "    aggregated_scores = Counter()\n",
    "    for tf_idf in tf_idf_results:\n",
    "        for term, score in tf_idf.items():\n",
    "            aggregated_scores[term] += score\n",
    "\n",
    "    return aggregated_scores"
   ],
   "metadata": {
    "collapsed": false,
    "ExecuteTime": {
     "start_time": "2023-12-18T10:46:59.118257Z",
     "end_time": "2023-12-18T10:46:59.118257Z"
    }
   }
  },
  {
   "cell_type": "code",
   "execution_count": 68,
   "outputs": [],
   "source": [
    "def augment_list_balanced_tfidf(original_list, tfidf_scores, augmentation_percentage, balance_factor=0.15):\n",
    "    # Identify less important words based on TF-IDF scores\n",
    "    unique_words = list(set(original_list))\n",
    "    less_important_words = sorted(unique_words, key=lambda x: tfidf_scores.get(x, 0.0))\n",
    "\n",
    "    # Determine the number of words to add for augmentation\n",
    "    num_words_to_add = int(len(original_list) * augmentation_percentage)\n",
    "\n",
    "    # Augment the list with less important words\n",
    "    augmented_list = []\n",
    "    for _ in range(num_words_to_add):\n",
    "        # Choose a word with higher probability for less important words\n",
    "        weights = [1 / ((tfidf_scores.get(word, 0.0) + 1e-10) ** balance_factor) for word in less_important_words]\n",
    "        chosen_word = random.choices(less_important_words, weights=weights)[0]\n",
    "        augmented_list.append(chosen_word)\n",
    "\n",
    "    return augmented_list"
   ],
   "metadata": {
    "collapsed": false,
    "ExecuteTime": {
     "start_time": "2023-12-18T11:53:54.469544Z",
     "end_time": "2023-12-18T11:53:54.498010Z"
    }
   }
  },
  {
   "cell_type": "code",
   "execution_count": 53,
   "outputs": [],
   "source": [
    "with open('Target_Pred_Strings.pickle', 'rb') as f:\n",
    "    data = pickle.load(f)\n",
    "target_string_list = data['Target_String']\n",
    "\n"
   ],
   "metadata": {
    "collapsed": false,
    "ExecuteTime": {
     "start_time": "2023-12-18T10:47:26.444149Z",
     "end_time": "2023-12-18T10:47:37.223380Z"
    }
   }
  },
  {
   "cell_type": "code",
   "execution_count": 72,
   "outputs": [],
   "source": [
    "idf_scores = calculate_idf(target_string_list)"
   ],
   "metadata": {
    "collapsed": false,
    "ExecuteTime": {
     "start_time": "2023-12-18T12:17:17.135407Z",
     "end_time": "2023-12-18T12:17:50.156004Z"
    }
   }
  },
  {
   "cell_type": "code",
   "execution_count": 73,
   "outputs": [
    {
     "data": {
      "text/plain": "{'production': 3.9045689161650166,\n 'planes': 4.763025690627639,\n 'career': 3.8668760118892895,\n 'elected': 3.69716965703441,\n 'later': 3.7955020891521998,\n 'time': 3.579502248365494,\n 'while': 3.943738414240568,\n 'deep': 4.763025690627639,\n 'injured': 4.328774475800998,\n 'season': 4.763025690627639,\n 'behaving': 4.763025690627639,\n 'felony': 4.389276795898941,\n 'climactic': 4.763025690627639,\n 'during': 2.873030726409236,\n 'set': 4.763025690627639,\n 'absurd': 4.676266107671822,\n 'education': 4.328774475800998,\n 'eleanor': 4.676266107671822,\n 'japanese': 4.763025690627639,\n 'any': 4.763025690627639,\n 'pilot': 4.027004242237033,\n 'robert': 4.676266107671822,\n 'until': 3.636606247840037,\n 'want': 4.763025690627639,\n 'charles': 3.6664295316747144,\n 'adams': 4.071390226153016,\n 'appreciated': 4.763025690627639,\n 'president': 2.4014878898362704,\n 'down': 4.763025690627639,\n 'manager': 4.763025690627639,\n 'aspects': 4.763025690627639,\n '27': 3.636606247840037,\n 'ever': 3.69716965703441,\n 'foreign': 4.858033801255827,\n 'exportimport': 4.676266107671822,\n 'weinberger': 3.2314676703470187,\n 'party': 4.763025690627639,\n 'own': 4.328774475800998,\n 'grimace': 4.763025690627639,\n 'granddaughter': 4.763025690627639,\n 'years': 3.7955020891521998,\n 'different': 4.763025690627639,\n 'proves': 4.858033801255827,\n 'remarkably': 4.763025690627639,\n 'won': 4.328774475800998,\n 'affection': 4.858033801255827,\n '1940': 4.763025690627639,\n 'than': 3.8305524060317544,\n 'ronald': 4.328774475800998,\n 'handyman': 4.389276795898941,\n 'their': 3.499530702406985,\n 'albums': 4.328774475800998,\n 'fifty': 4.763025690627639,\n 'and': 0.8966828866945573,\n 'received': 4.763025690627639,\n 'age': 4.858033801255827,\n 'as': 1.7747227591068346,\n '5': 4.676266107671822,\n 'adaptation': 4.389276795898941,\n 'november': 4.027004242237033,\n 'tell': 4.763025690627639,\n 'last': 4.4536767265020245,\n 'done': 4.858033801255827,\n '1835': 4.858033801255827,\n 'most': 3.271446345403265,\n 'american': 4.071390226153016,\n 'election': 4.676266107671822,\n 'pale': 4.763025690627639,\n 'example': 4.271724787158221,\n 'when': 2.9890467253815913,\n 'home': 4.763025690627639,\n 'without': 4.763025690627639,\n 'distinctive': 4.858033801255827,\n 'government': 4.763025690627639,\n 'conferences': 4.763025690627639,\n 'godards': 4.763025690627639,\n 'praise': 4.763025690627639,\n 'reenacting': 4.763025690627639,\n 'prominent': 4.858033801255827,\n 'meet': 4.858033801255827,\n 'economist': 4.763025690627639,\n '1939': 3.8305524060317544,\n 'civil': 4.166549131469495,\n 'forces': 3.8668760118892895,\n 'least': 4.763025690627639,\n 'blade': 4.763025690627639,\n 'used': 4.166549131469495,\n 'nature': 4.858033801255827,\n 'jean': 4.676266107671822,\n 'been': 3.7616388083963646,\n 'lemay': 4.763025690627639,\n 'greatest': 4.328774475800998,\n 'experience': 3.8305524060317544,\n 'hero': 4.676266107671822,\n 'thamesmead': 4.763025690627639,\n 'approaches': 4.763025690627639,\n 'certainly': 4.763025690627639,\n 'staff': 3.636606247840037,\n 'if': 4.071390226153016,\n 'mystique': 4.763025690627639,\n '1943': 4.071390226153016,\n 'happening': 4.858033801255827,\n 'malleable': 4.763025690627639,\n 'cassel': 4.858033801255827,\n 'degree': 4.763025690627639,\n 'teams': 4.763025690627639,\n 'serving': 3.9045689161650166,\n 'football': 3.579502248365494,\n 'married': 4.271724787158221,\n 'careers': 4.271724787158221,\n 'alabama': 3.579502248365494,\n '1981': 4.328774475800998,\n 'p38': 4.763025690627639,\n 'sort': 4.763025690627639,\n 'but': 3.2920514700051804,\n 'might': 4.763025690627639,\n 'fugitive': 4.763025690627639,\n 'gibbons': 4.676266107671822,\n 'senators': 4.271724787158221,\n 'how': 4.763025690627639,\n 'kissing': 4.763025690627639,\n 'political': 4.858033801255827,\n 'go': 4.763025690627639,\n 'secretary': 2.8460142250979703,\n 'presence': 4.763025690627639,\n 'needs': 4.858033801255827,\n 'newfound': 4.328774475800998,\n 'libby': 3.6664295316747144,\n 'vein': 4.763025690627639,\n 'african': 4.763025690627639,\n 'counts': 4.389276795898941,\n 'nee': 4.763025690627639,\n 'engaging': 4.071390226153016,\n 'state': 4.858033801255827,\n 'profiles': 4.271724787158221,\n 'darwin': 4.763025690627639,\n 'january': 3.9845049287197534,\n 'oundle': 4.676266107671822,\n 'kennedys': 4.271724787158221,\n 'filmed': 4.763025690627639,\n 'grant': 4.4536767265020245,\n 'side': 4.858033801255827,\n 'effectiveness': 4.763025690627639,\n 'tom': 4.763025690627639,\n 'beautifully': 4.763025690627639,\n 'new': 4.858033801255827,\n 'your': 4.858033801255827,\n 'college': 3.1930260376669155,\n 'standing': 4.271724787158221,\n 'filmgoers': 4.763025690627639,\n 'section': 4.4536767265020245,\n 'air': 4.027004242237033,\n 'often': 4.027004242237033,\n 'event': 4.676266107671822,\n 'wagon': 4.271724787158221,\n 'its': 3.2314676703470187,\n 'kids': 4.763025690627639,\n 'material': 4.763025690627639,\n 'out': 4.858033801255827,\n 'second': 3.636606247840037,\n 'luminary': 4.858033801255827,\n 'have': 3.7616388083963646,\n 'vagueness': 4.763025690627639,\n 'hindsight': 4.963025245125002,\n '20th': 4.4536767265020245,\n 'peace': 4.271724787158221,\n 'lifes': 4.763025690627639,\n 'records': 4.328774475800998,\n 'manifesto': 4.763025690627639,\n 'elizabeth': 4.763025690627639,\n 'audience': 4.858033801255827,\n 'eldest': 4.763025690627639,\n 'parliament': 4.027004242237033,\n 'director': 3.7288847887276355,\n 'million': 4.763025690627639,\n 'jia': 4.763025690627639,\n 'august': 4.071390226153016,\n 'si': 4.763025690627639,\n 'another': 3.1560076220845747,\n 'horses': 4.328774475800998,\n 'great': 4.763025690627639,\n 'pretentious': 4.763025690627639,\n 'recall': 4.763025690627639,\n 'advisor': 4.328774475800998,\n 'aptly': 4.763025690627639,\n 'actor': 3.69716965703441,\n 'wise': 4.763025690627639,\n 'thus': 4.763025690627639,\n 'bombers': 4.763025690627639,\n 'victim': 4.389276795898941,\n 'quest': 4.763025690627639,\n 'died': 3.9845049287197534,\n 'peraltas': 4.963025245125002,\n 'that': 1.9488297837206578,\n 'eventually': 4.763025690627639,\n 'at': 2.7209033478628912,\n 'railways': 4.676266107671822,\n 'rank': 4.676266107671822,\n 'role': 3.8305524060317544,\n 'youngest': 4.328774475800998,\n 'bothered': 4.328774475800998,\n 'chuck': 4.389276795898941,\n 'creation': 4.271724787158221,\n 'improve': 4.271724787158221,\n '19681981': 4.763025690627639,\n 'receive': 4.676266107671822,\n 'aunt': 4.328774475800998,\n 'naval': 4.389276795898941,\n 'connections': 4.676266107671822,\n 'facts': 4.389276795898941,\n 'appears': 4.763025690627639,\n 'does': 4.763025690627639,\n 'images': 4.1178382034634895,\n 'historical': 4.763025690627639,\n 'good': 3.69716965703441,\n 'with': 2.34339633765808,\n 'kept': 4.389276795898941,\n 'bogdanovich': 4.763025690627639,\n 'less': 4.328774475800998,\n 'generic': 4.763025690627639,\n 'implausible': 4.389276795898941,\n 'exhilarating': 4.763025690627639,\n 'published': 4.271724787158221,\n 'musician': 4.676266107671822,\n 'joux': 4.676266107671822,\n 'spine': 4.763025690627639,\n 'aide': 4.763025690627639,\n 'confirmation': 4.328774475800998,\n 'waterhouse': 4.763025690627639,\n 'united': 3.449561939820249,\n 'enigma': 4.763025690627639,\n 'piece': 4.763025690627639,\n 'myers': 4.763025690627639,\n 'cold': 4.963025245125002,\n 'century': 4.4536767265020245,\n 'awkward': 4.858033801255827,\n 'severely': 4.328774475800998,\n 'defense': 3.3345809125954107,\n 'col': 4.763025690627639,\n 'october': 3.8305524060317544,\n 'men': 4.763025690627639,\n 'personal': 4.271724787158221,\n 'undersecretary': 4.328774475800998,\n 'abuse': 4.389276795898941,\n 'cairo': 4.763025690627639,\n 'large': 4.676266107671822,\n 'was': 1.079371344005656,\n 'continually': 4.858033801255827,\n 'armed': 4.389276795898941,\n 'outside': 4.763025690627639,\n 'tremendous': 4.858033801255827,\n 'lieutenant': 4.676266107671822,\n 'make': 4.858033801255827,\n 'officers': 4.763025690627639,\n 'eight': 4.271724787158221,\n 'number': 4.328774475800998,\n 'against': 3.7955020891521998,\n 'night': 4.4536767265020245,\n 'a': 0.8966828866945573,\n 'poet': 3.9845049287197534,\n 'careerending': 4.328774475800998,\n 'movie': 3.271446345403265,\n 'hear': 4.858033801255827,\n 'love': 4.763025690627639,\n 'doors': 4.328774475800998,\n 'roman': 3.69716965703441,\n '1915': 4.858033801255827,\n '28': 3.8668760118892895,\n 'boredom': 4.763025690627639,\n 'final': 4.763025690627639,\n 'university': 4.763025690627639,\n 'girls': 4.166549131469495,\n 'howard': 3.6076466951277517,\n 'pretty': 4.1178382034634895,\n 'california': 4.027004242237033,\n 'army': 3.636606247840037,\n 'renowned': 4.676266107671822,\n 'security': 4.328774475800998,\n 'label': 4.328774475800998,\n 'could': 4.963025245125002,\n 'late': 4.328774475800998,\n 'officer': 4.389276795898941,\n 'labour': 4.763025690627639,\n 'release': 4.328774475800998,\n 'theater': 4.763025690627639,\n 'for': 2.351491362974704,\n 'huge': 4.858033801255827,\n 'anyone': 4.763025690627639,\n 'drama': 4.763025690627639,\n 'sumptuous': 4.858033801255827,\n 'clemson': 3.6076466951277517,\n '8': 4.4536767265020245,\n 'reconnaissance': 4.763025690627639,\n 'stated': 4.676266107671822,\n 'come': 4.763025690627639,\n 'belief': 4.271724787158221,\n 'theyll': 4.763025690627639,\n 'served': 4.858033801255827,\n 'nairs': 4.858033801255827,\n 'business': 3.3565437280445036,\n 'greasins': 4.271724787158221,\n 'resignation': 4.328774475800998,\n 'overwhelm': 4.858033801255827,\n 'policies': 4.328774475800998,\n 'such': 4.027004242237033,\n 'exasperating': 4.763025690627639,\n 'delano': 3.9845049287197534,\n '1944': 4.763025690627639,\n 'each': 4.071390226153016,\n 'masters': 4.763025690627639,\n 'performed': 4.328774475800998,\n 'st': 4.676266107671822,\n 'taps': 4.763025690627639,\n 'cowrote': 4.4536767265020245,\n 'resigned': 4.763025690627639,\n 'extraordinary': 4.763025690627639,\n 'dramatic': 4.027004242237033,\n 'past': 4.858033801255827,\n 'popping': 4.858033801255827,\n 'school': 3.636606247840037,\n 'three': 3.7616388083963646,\n 'wife': 3.449561939820249,\n 'also': 2.641795854074548,\n 'theatre': 4.676266107671822,\n 'our': 4.858033801255827,\n '1953': 4.271724787158221,\n 'watch': 3.8305524060317544,\n 'pronounced': 4.763025690627639,\n 'sr': 4.858033801255827,\n 'son': 3.3565437280445036,\n '195254': 4.389276795898941,\n '1910': 4.676266107671822,\n 'threatens': 4.858033801255827,\n 'find': 4.858033801255827,\n 'francisco': 4.071390226153016,\n '1970s': 4.328774475800998,\n 'realized': 4.763025690627639,\n 'worker': 4.676266107671822,\n 'wind': 4.763025690627639,\n 'snobby': 4.389276795898941,\n 'dorothea': 4.676266107671822,\n 'stultifying': 4.858033801255827,\n 'tediously': 4.763025690627639,\n 'commission': 4.676266107671822,\n 'disturbing': 4.763025690627639,\n 'care': 4.1178382034634895,\n 'historic': 4.763025690627639,\n 'where': 4.1178382034634895,\n 'became': 4.328774475800998,\n 'hall': 4.271724787158221,\n 'chief': 4.328774475800998,\n 'about': 3.1743455442690265,\n 'wholesale': 4.763025690627639,\n 'meeting': 4.763025690627639,\n 'spend': 4.763025690627639,\n 'cancelled': 4.389276795898941,\n 'dismay': 4.858033801255827,\n 'gripping': 4.763025690627639,\n 'still': 3.9045689161650166,\n 'tackling': 4.763025690627639,\n 'bear': 4.271724787158221,\n 'administration': 3.8305524060317544,\n 'remains': 4.763025690627639,\n 'being': 3.9045689161650166,\n 'illogical': 4.858033801255827,\n 'roosevelt': 3.579502248365494,\n 'lewis': 4.328774475800998,\n 'head': 3.8668760118892895,\n 'niros': 4.858033801255827,\n 'best': 4.858033801255827,\n 'world': 2.7815034697834493,\n 'harvard': 3.69716965703441,\n 'peerelated': 4.763025690627639,\n 'god': 4.763025690627639,\n 'casablanca': 4.763025690627639,\n 'vision': 4.1178382034634895,\n 'isnt': 4.763025690627639,\n 'unit': 4.763025690627639,\n 'talent': 4.763025690627639,\n 'rambling': 4.763025690627639,\n 'video': 4.858033801255827,\n 'program': 4.763025690627639,\n 'lawfords': 3.636606247840037,\n 'mira': 4.858033801255827,\n 'im': 4.763025690627639,\n 'john': 4.071390226153016,\n 'associated': 4.676266107671822,\n 'just': 4.763025690627639,\n 'live': 4.328774475800998,\n 'since': 4.858033801255827,\n 'put': 4.328774475800998,\n 'one': 2.859431242110275,\n 'strange': 4.676266107671822,\n 'total': 4.763025690627639,\n '12': 4.271724787158221,\n 'favor': 4.071390226153016,\n 'like': 2.8327748437203146,\n 'shimmering': 4.763025690627639,\n 'shamelessly': 4.763025690627639,\n 'resorting': 4.763025690627639,\n '1942': 3.8305524060317544,\n 'blair': 4.676266107671822,\n 'rare': 4.858033801255827,\n 'veiled': 4.763025690627639,\n 'affecting': 4.763025690627639,\n 'the': 0.5084634348521803,\n '1934': 4.763025690627639,\n 'carolina': 4.271724787158221,\n 'who': 3.2512572343712405,\n 'series': 4.389276795898941,\n 'entered': 4.763025690627639,\n 'cheneys': 4.328774475800998,\n 'asylum': 4.763025690627639,\n 'distinctly': 4.763025690627639,\n 'serve': 4.4536767265020245,\n 'idiot': 4.763025690627639,\n 'especially': 4.763025690627639,\n 'dance': 4.328774475800998,\n 'chinese': 4.763025690627639,\n '1916': 4.676266107671822,\n 'firm': 4.071390226153016,\n 'basketball': 4.763025690627639,\n 'other': 3.8305524060317544,\n 'realistic': 4.763025690627639,\n 'toward': 4.328774475800998,\n 'this': 3.0525265213301918,\n 'ability': 4.271724787158221,\n 'yank': 4.328774475800998,\n 'would': 4.676266107671822,\n 'much': 3.425483730039783,\n 'novelist': 4.676266107671822,\n 'thinking': 4.763025690627639,\n 'topical': 4.763025690627639,\n 'things': 4.1178382034634895,\n 'dangerous': 4.389276795898941,\n 'member': 3.378999761482377,\n 'english': 4.676266107671822,\n 'close': 3.8668760118892895,\n 'figures': 4.328774475800998,\n 'following': 3.8305524060317544,\n 'germain': 4.676266107671822,\n 'unlikely': 4.763025690627639,\n 'these': 4.858033801255827,\n 'soderberghs': 4.4536767265020245,\n 'us': 3.2314676703470187,\n 'his': 1.4802535447459355,\n 'analyze': 4.858033801255827,\n 'same': 3.2920514700051804,\n 'mythmaking': 4.963025245125002,\n '1990': 4.676266107671822,\n 'yachtsman': 4.676266107671822,\n '9': 4.676266107671822,\n 'recorded': 4.328774475800998,\n 'bend': 4.271724787158221,\n 'military': 4.071390226153016,\n 'him': 3.6664295316747144,\n 'stalking': 4.676266107671822,\n 'immersed': 4.858033801255827,\n 'original': 4.763025690627639,\n 'gordon': 4.676266107671822,\n 'analysis': 4.763025690627639,\n 'selling': 4.763025690627639,\n 'active': 4.676266107671822,\n 'child': 4.328774475800998,\n 'are': 4.071390226153016,\n 'catholic': 3.69716965703441,\n 'childhood': 4.389276795898941,\n 'graduated': 4.1178382034634895,\n 'health': 4.328774475800998,\n 'me': 4.763025690627639,\n 'charming': 4.763025690627639,\n 'venezuelans': 4.763025690627639,\n 'shoe': 4.763025690627639,\n 'catchphrase': 4.328774475800998,\n 'movies': 4.763025690627639,\n 'ultimate': 4.858033801255827,\n 'kennedy': 3.6664295316747144,\n 'ii': 3.6076466951277517,\n 'north': 3.9045689161650166,\n 'scenes': 4.763025690627639,\n '1884': 4.676266107671822,\n 'lawford': 3.2314676703470187,\n 'up': 3.40197167515806,\n 'young': 4.763025690627639,\n 'tension': 4.1178382034634895,\n 'leicestershire': 4.763025690627639,\n 'risked': 4.271724787158221,\n 'thats': 4.763025690627639,\n 'deputy': 4.328774475800998,\n 'because': 4.027004242237033,\n 'amalgam': 4.763025690627639,\n 'debut': 4.389276795898941,\n 'her': 3.579502248365494,\n 'incredible': 4.858033801255827,\n 'part': 4.763025690627639,\n 'shes': 4.858033801255827,\n 'father': 4.027004242237033,\n 'all': 3.40197167515806,\n 'teammate': 4.271724787158221,\n 'given': 4.763025690627639,\n 'after': 3.0525265213301918,\n 'inside': 4.858033801255827,\n 'include': 4.963025245125002,\n 'february': 4.763025690627639,\n 'characters': 4.763025690627639,\n 'girlmeetsgirl': 4.763025690627639,\n 'stand': 4.858033801255827,\n 'esthers': 4.328774475800998,\n 'welfare': 4.328774475800998,\n 'will': 4.071390226153016,\n 'kind': 4.763025690627639,\n 'neither': 4.763025690627639,\n 'bryant': 4.271724787158221,\n 'clearly': 4.858033801255827,\n 'subpar': 4.763025690627639,\n 'or': 3.69716965703441,\n 'vote': 4.328774475800998,\n 'has': 3.449561939820249,\n 'incoherent': 4.763025690627639,\n 'got': 4.328774475800998,\n 'remake': 4.763025690627639,\n 'instances': 4.271724787158221,\n 'ways': 4.763025690627639,\n 'feels': 4.763025690627639,\n 'viewer': 4.763025690627639,\n 'silliness': 4.763025690627639,\n '1': 3.7955020891521998,\n 'main': 3.8305524060317544,\n 'film': 3.2920514700051804,\n 'half': 4.763025690627639,\n 'company': 4.4536767265020245,\n 'drafted': 4.389276795898941,\n 'you': 4.071390226153016,\n 'realize': 4.858033801255827,\n 'bouvier': 4.271724787158221,\n 'keep': 4.858033801255827,\n 'philosophy': 4.763025690627639,\n 'romantic': 4.1178382034634895,\n 'curtis': 4.763025690627639,\n 'borstal': 4.763025690627639,\n 'comfort': 4.963025245125002,\n 'played': 3.0525265213301918,\n 'look': 4.763025690627639,\n 'intention': 4.676266107671822,\n 'reagan': 4.328774475800998,\n 'nomination': 4.328774475800998,\n 'palpable': 4.858033801255827,\n 'fame': 3.6076466951277517,\n 'day': 4.763025690627639,\n 'captain': 4.763025690627639,\n 'hilarious': 4.763025690627639,\n 'sucker': 4.328774475800998,\n 'cash': 4.328774475800998,\n 'parents': 4.858033801255827,\n 'effects': 4.763025690627639,\n 'fence': 4.858033801255827,\n 'major': 4.328774475800998,\n 'shivers': 4.763025690627639,\n 'sentimental': 4.763025690627639,\n 'through': 3.7955020891521998,\n 'well': 3.8305524060317544,\n 'doctors': 4.328774475800998,\n 'emotionally': 4.763025690627639,\n 'runner': 4.763025690627639,\n 'hope': 4.676266107671822,\n '2002': 4.389276795898941,\n 'act': 4.027004242237033,\n 'santa': 4.676266107671822,\n 'prevail': 4.763025690627639,\n 'named': 3.9045689161650166,\n 'artist': 4.676266107671822,\n 'game': 4.858033801255827,\n 'fokker': 4.027004242237033,\n 'courage': 4.271724787158221,\n '1987': 3.636606247840037,\n '1890': 4.676266107671822,\n 'barbara': 4.676266107671822,\n 'lightning': 4.763025690627639,\n 'devos': 4.858033801255827,\n 'earned': 4.763025690627639,\n 'joined': 4.328774475800998,\n 'war': 2.8868177094978167,\n 'blaby': 4.763025690627639,\n 'autobiography': 4.389276795898941,\n 'be': 3.579502248365494,\n 'tony': 4.676266107671822,\n 'first': 2.7327331388167826,\n 'entertainingly': 4.763025690627639,\n 'again': 3.7288847887276355,\n '1937': 4.763025690627639,\n 'exciting': 4.1178382034634895,\n 'praised': 4.328774475800998,\n 'south': 4.271724787158221,\n 'really': 4.166549131469495,\n 'san': 4.071390226153016,\n 'born': 2.663766712212087,\n 'mickey': 4.389276795898941,\n 'campaign': 4.027004242237033,\n 'ode': 4.763025690627639,\n 'boy': 4.763025690627639,\n 'did': 4.858033801255827,\n 'send': 4.763025690627639,\n 'having': 4.071390226153016,\n 'de': 4.071390226153016,\n 'adult': 4.963025245125002,\n 'feature': 4.389276795898941,\n 'accessible': 4.763025690627639,\n 'luck': 4.4536767265020245,\n 'trapped': 4.858033801255827,\n 'returned': 4.763025690627639,\n 'hardline': 4.328774475800998,\n 'into': 3.3565437280445036,\n 'raises': 4.858033801255827,\n 'frequent': 4.4536767265020245,\n 'hearst': 4.763025690627639,\n 'say': 4.1178382034634895,\n 'battle': 4.763025690627639,\n 'works': 4.963025245125002,\n 'dollars': 4.763025690627639,\n 'terrifying': 4.328774475800998,\n 'december': 4.676266107671822,\n 'made': 3.40197167515806,\n 'before': 4.676266107671822,\n 'office': 4.4536767265020245,\n 'so': 4.071390226153016,\n 'befriended': 4.4536767265020245,\n 'in': 1.2557731705655655,\n 'sports': 4.271724787158221,\n 'under10': 4.763025690627639,\n 'ponderous': 4.763025690627639,\n 'able': 3.7955020891521998,\n 'soldiers': 4.763025690627639,\n 'entering': 4.676266107671822,\n 'events': 4.763025690627639,\n 'farm': 4.963025245125002,\n 'groundbreaking': 4.389276795898941,\n 'senate': 4.328774475800998,\n 'satisfy': 4.763025690627639,\n 'efficiency': 4.763025690627639,\n 'tardieu': 4.676266107671822,\n 'musical': 4.328774475800998,\n 'page': 4.328774475800998,\n 'barlow': 4.271724787158221,\n 'steven': 4.4536767265020245,\n 'of': 0.8025866379027791,\n 'bank': 4.027004242237033,\n 'maynard': 4.763025690627639,\n 'accounting': 4.763025690627639,\n 'work': 4.763025690627639,\n 'gone': 4.858033801255827,\n 'gags': 4.763025690627639,\n 'national': 4.328774475800998,\n 'austin': 4.027004242237033,\n 'france': 4.676266107671822,\n 'conflict': 4.763025690627639,\n 'hollywood': 4.763025690627639,\n 'price': 4.763025690627639,\n 'left': 4.676266107671822,\n 'inducted': 4.271724787158221,\n '1960s': 4.328774475800998,\n 'lastplace': 4.763025690627639,\n 'eton': 4.328774475800998,\n 'mind': 4.389276795898941,\n 'likely': 4.763025690627639,\n 'culture': 4.858033801255827,\n 'then': 4.763025690627639,\n 'brother': 4.328774475800998,\n '91': 4.328774475800998,\n '1947': 3.636606247840037,\n 'life': 3.8668760118892895,\n 'london': 4.763025690627639,\n 'wonderment': 4.763025690627639,\n 'my': 3.8305524060317544,\n 'legendary': 4.271724787158221,\n 'steinis': 4.763025690627639,\n 'cause': 4.763025690627639,\n 'seem': 4.763025690627639,\n 'doesnt': 4.763025690627639,\n 'force': 4.676266107671822,\n 'flew': 4.763025690627639,\n 'truly': 4.763025690627639,\n 'analytical': 4.763025690627639,\n 'bully': 4.389276795898941,\n 'eric': 4.763025690627639,\n 'were': 3.4742342439247187,\n 'awful': 4.763025690627639,\n 'cgi': 4.763025690627639,\n 'key': 4.763025690627639,\n 'acclaim': 4.328774475800998,\n 'giddy': 4.858033801255827,\n 'injury': 3.2512572343712405,\n 'nephew': 4.763025690627639,\n 'erith': 4.763025690627639,\n 'arm': 3.2512572343712405,\n 'is': 1.5878713265404227,\n 'teach': 4.071390226153016,\n 'tehran': 4.763025690627639,\n 'union': 3.499530702406985,\n 'together': 4.763025690627639,\n 'recognition': 4.858033801255827,\n 'by': 2.9587566762320505,\n 'which': 4.271724787158221,\n 'talking': 4.763025690627639,\n 'micheles': 4.763025690627639,\n 'gollums': 4.858033801255827,\n 'amusing': 4.763025690627639,\n 'anthony': 4.763025690627639,\n 'excess': 4.763025690627639,\n 'unfocused': 4.763025690627639,\n 'had': 4.676266107671822,\n 'may': 4.1178382034634895,\n 'informed': 4.963025245125002,\n 'worked': 4.027004242237033,\n '1903': 4.676266107671822,\n 'colonel': 3.9845049287197534,\n 'management': 4.676266107671822,\n 'british': 4.763025690627639,\n 'enter': 4.676266107671822,\n 'costumed': 4.763025690627639,\n 'several': 3.6664295316747144,\n 'hallucinations': 4.763025690627639,\n 'usaaf': 4.676266107671822,\n 'educated': 4.676266107671822,\n 'francis': 4.071390226153016,\n 'involvement': 4.763025690627639,\n 'corps': 4.271724787158221,\n 'spiritual': 4.763025690627639,\n 'nor': 4.763025690627639,\n 'held': 4.328774475800998,\n 'deadly': 4.763025690627639,\n 'authority': 4.676266107671822,\n 'beliefs': 4.271724787158221,\n 'highlighting': 4.271724787158221,\n 'save': 4.328774475800998,\n 'collaborator': 4.4536767265020245,\n 'pane': 4.328774475800998,\n 'states': 3.449561939820249,\n 'ring': 4.271724787158221,\n 'performance': 3.8668760118892895,\n 'tv': 3.6664295316747144,\n 'canes': 4.763025690627639,\n 'indicated': 4.676266107671822,\n 'barris': 4.389276795898941,\n 'leader': 4.676266107671822,\n 'never': 4.1178382034634895,\n 'even': 4.1178382034634895,\n 'sex': 4.858033801255827,\n 'americans': 4.763025690627639,\n 'mobile': 4.271724787158221,\n 'carlucci': 4.328774475800998,\n 'economics': 4.763025690627639,\n 'stella': 4.676266107671822,\n 'times': 4.389276795898941,\n 'to': 1.2833205924066555,\n 'delight': 4.858033801255827,\n 'not': 3.1743455442690265,\n 'chemistry': 4.858033801255827,\n 'lists': 4.763025690627639,\n 'known': 4.676266107671822,\n 'laff': 4.328774475800998,\n 'acute': 4.858033801255827,\n 'scandal': 4.763025690627639,\n 'from': 2.3596524528844665,\n 'sing': 4.328774475800998,\n 'haunting': 4.1178382034634895,\n 'sexual': 3.9045689161650166,\n 'photo': 4.763025690627639,\n 'period': 4.271724787158221,\n 'heslov': 4.4536767265020245,\n 'happen': 4.858033801255827,\n 'thinly': 4.763025690627639,\n 'soviet': 3.8305524060317544,\n 'titled': 4.328774475800998,\n 'endeavor': 4.763025690627639,\n 'investigation': 4.328774475800998,\n 'problem': 4.763025690627639,\n 'jr': 4.858033801255827,\n 'there': 4.1178382034634895,\n 'more': 4.071390226153016,\n '1989': 3.7955020891521998,\n 'early': 3.8305524060317544,\n 'some': 4.963025245125002,\n 'widely': 3.7955020891521998,\n 'council': 4.676266107671822,\n 'it': 2.819708455730322,\n 'nostalgia': 4.763025690627639,\n 'forget': 4.763025690627639,\n 'smash': 4.328774475800998,\n 'jessica': 4.763025690627639,\n 'socialist': 4.676266107671822,\n 'under': 3.8305524060317544,\n 'sustain': 4.763025690627639,\n 'fdr': 4.763025690627639,\n 'mcnamara': 4.027004242237033,\n 'indicted': 4.389276795898941,\n 'whether': 4.763025690627639,\n 'profession': 4.858033801255827,\n 'everything': 4.858033801255827,\n 'only': 3.004542903236146,\n '190219': 4.676266107671822,\n 'recent': 4.858033801255827,\n 'pinocchio': 4.763025690627639,\n 'creteil': 4.676266107671822,\n 'dull': 4.763025690627639,\n 'imitation': 4.763025690627639,\n 'horse': 4.676266107671822,\n 'quirky': 4.763025690627639,\n 'franklin': 3.9845049287197534,\n 'accompanied': 4.763025690627639,\n 'power': 4.271724787158221,\n 'jacqueline': 4.271724787158221,\n 'intellectually': 4.858033801255827,\n 'adults': 4.763025690627639,\n 'opposite': 4.389276795898941,\n 'june': 4.676266107671822,\n 'green': 4.763025690627639,\n 'dday': 4.763025690627639,\n '20': 4.858033801255827,\n 'berkeley': 4.763025690627639,\n 'duty': 4.676266107671822,\n 'show': 4.389276795898941,\n 'democrat': 4.4536767265020245,\n 'squirm': 4.858033801255827,\n 'geoffrey': 4.763025690627639,\n 'executive': 4.676266107671822,\n 'human': 4.858033801255827,\n 'enough': 4.1178382034634895,\n '1995': 4.676266107671822,\n 'brown': 4.676266107671822,\n 'year': 3.8305524060317544,\n 'else': 4.858033801255827,\n 'picture': 4.328774475800998,\n 'landings': 4.763025690627639,\n 'standard': 4.858033801255827,\n 'nonmilitary': 4.271724787158221,\n 'por': 4.763025690627639,\n 'thing': 4.763025690627639,\n 'clashing': 4.763025690627639,\n 'inane': 4.858033801255827,\n 'he': 1.0524054377410583,\n 'graduate': 4.763025690627639,\n 'greenwich': 4.676266107671822,\n 'humorous': 4.858033801255827,\n 'followed': 4.763025690627639,\n 'killer': 4.763025690627639,\n 'elliott': 4.676266107671822,\n 'playing': 4.763025690627639,\n 'grocery': 4.763025690627639,\n 'conclusion': 4.858033801255827,\n 'become': 3.525483716142627,\n 'sales': 4.763025690627639,\n 'talks': 4.328774475800998,\n 'sight': 4.763025690627639,\n 'cast': 4.328774475800998,\n 'leftwing': 4.676266107671822,\n 'glass': 4.328774475800998,\n 'producer': 4.389276795898941,\n 'everyone': 4.858033801255827,\n 'elliot': 3.9845049287197534,\n 'keynes': 4.027004242237033,\n 'clooney': 4.4536767265020245,\n 'discovery': 4.858033801255827,\n 'an': 1.9010837987789126,\n 'wild': 4.858033801255827,\n 'family': 3.69716965703441,\n 'universal': 4.763025690627639,\n 'sad': 4.858033801255827,\n 'acts': 4.271724787158221,\n 'griffiths': 4.858033801255827,\n 'subsequent': 4.763025690627639,\n 'author': 3.9845049287197534,\n 'pacific': 4.676266107671822,\n 'yet': 4.763025690627639,\n 'news': 4.328774475800998,\n '21': 4.763025690627639,\n 'coach': 3.6076466951277517,\n 'already': 4.763025690627639,\n 'admitted': 4.328774475800998,\n 'hit': 4.328774475800998,\n 'many': 4.328774475800998,\n 'interest': 4.763025690627639,\n 'drown': 4.763025690627639,\n 'railroad': 4.676266107671822,\n 'september': 3.7616388083963646,\n 'previously': 4.676266107671822,\n 'former': 3.7955020891521998,\n 'reportedly': 4.328774475800998,\n 'confessions': 4.389276795898941,\n 'over': 3.7288847887276355,\n 'two': 4.763025690627639,\n 'comedy': 3.137999932596087,\n 'honor': 4.271724787158221,\n 'rooney': 4.389276795898941,\n 'social': 4.676266107671822,\n '1856': 4.858033801255827,\n 'friend': 4.4536767265020245,\n 'on': 2.3596524528844665,\n 'five': 4.389276795898941,\n '23': 4.676266107671822,\n 'sums': 4.858033801255827,\n 'fate': 4.858033801255827,\n 'rock': 4.763025690627639,\n 'die': 4.4536767265020245,\n '1986': 4.328774475800998,\n 'energy': 4.071390226153016,\n 'navy': 4.676266107671822,\n 'visually': 4.858033801255827,\n 'group': 4.676266107671822,\n 'position': 4.763025690627639,\n 'nixon': 4.328774475800998,\n 'excessive': 4.763025690627639,\n 'we': 3.69716965703441,\n 'smart': 4.763025690627639,\n 'vocalized': 4.858033801255827}"
     },
     "execution_count": 73,
     "metadata": {},
     "output_type": "execute_result"
    }
   ],
   "source": [
    "idf_scores"
   ],
   "metadata": {
    "collapsed": false,
    "ExecuteTime": {
     "start_time": "2023-12-18T12:17:53.454303Z",
     "end_time": "2023-12-18T12:17:53.565525Z"
    }
   }
  },
  {
   "cell_type": "code",
   "execution_count": 69,
   "outputs": [],
   "source": [
    "augmented_list = augment_list_balanced_tfidf(train_data, tfidf_scores, 0.02, 0.15)"
   ],
   "metadata": {
    "collapsed": false,
    "ExecuteTime": {
     "start_time": "2023-12-18T11:53:57.389821Z",
     "end_time": "2023-12-18T11:54:01.631023Z"
    }
   }
  },
  {
   "cell_type": "code",
   "execution_count": 70,
   "outputs": [
    {
     "data": {
      "text/plain": "Counter({'lazy': 5,\n         'Elston': 5,\n         'certain': 5,\n         'Eastern': 5,\n         'collaborative': 4,\n         'Ballarat': 4,\n         'routines': 4,\n         'Best': 4,\n         'Saturday': 4,\n         'stunning': 4,\n         'worshipful': 4,\n         'character,': 4,\n         'genuine': 4,\n         'friends': 3,\n         '1908': 3,\n         'moment': 3,\n         \"Hopkins'\": 3,\n         'briefly': 3,\n         'Rather': 3,\n         'co-authored': 3,\n         'Seminary': 3,\n         'Franklins': 3,\n         'mixed': 3,\n         'laws,': 3,\n         'Goldwater.': 3,\n         'Guilfoyle,': 3,\n         'Clive': 3,\n         'in.': 3,\n         'raising': 3,\n         'distribution': 3,\n         'Railroad,': 3,\n         'ancestors': 3,\n         'films.': 3,\n         'making': 3,\n         'cheap': 3,\n         'Rating': 3,\n         'quartet': 3,\n         'hopes': 3,\n         'attendant': 3,\n         'States': 3,\n         'Lawn': 3,\n         'maybe': 3,\n         'Loy,': 3,\n         'someone': 3,\n         'Homer.': 3,\n         'Nights': 3,\n         'control.': 3,\n         'books': 3,\n         'solutions.': 3,\n         'half-naked': 3,\n         'WLW': 3,\n         'father-in-law,': 3,\n         'make,': 3,\n         'emerged': 3,\n         'Raja': 3,\n         'unfunny.': 3,\n         'ion': 3,\n         'round': 3,\n         'Batman,': 3,\n         \"`Scream.'\": 3,\n         'Verdun': 3,\n         'predecessor.': 3,\n         'Nottingham,': 3,\n         'grubbing': 3,\n         'man,': 3,\n         'employees': 3,\n         'classroom': 3,\n         'UK)': 3,\n         'Rocky.': 3,\n         'France': 3,\n         'illusion': 3,\n         'Hope': 3,\n         'chosen': 3,\n         'public': 3,\n         'England,': 3,\n         'Barrymore': 3,\n         'speaker': 3,\n         '2004': 3,\n         'then-Vice': 3,\n         'goers': 3,\n         'everyone.': 3,\n         'formed': 3,\n         \"Adams's\": 3,\n         'blank': 3,\n         'front': 3,\n         'goodwill': 3,\n         'nearly': 3,\n         'seriously.': 3,\n         'Necmettin': 3,\n         'created': 3,\n         'largely': 3,\n         '1997)': 3,\n         'explorer': 3,\n         'U.S.': 2,\n         'Erasmus': 2,\n         '-': 2,\n         'activity': 2,\n         'policy': 2,\n         'manages': 2,\n         'Reeks': 2,\n         'plotline': 2,\n         'spends': 2,\n         'anchored': 2,\n         'Denver,': 2,\n         '1953,': 2,\n         'trumpeter': 2,\n         '(Republican,': 2,\n         'hypothesize': 2,\n         '2005-04-12,': 2,\n         'slow': 2,\n         'awarded': 2,\n         'no-budget': 2,\n         'endemic': 2,\n         'himself,': 2,\n         'Roy': 2,\n         'MGM': 2,\n         'repeatedly': 2,\n         'Dole': 2,\n         'stylish': 2,\n         'Onassis': 2,\n         'Some': 2,\n         '(c1839-1876),': 2,\n         'Flynn': 2,\n         'lonely': 2,\n         'injuries.': 2,\n         '(Franklin': 2,\n         'artillery,': 2,\n         'Movie': 2,\n         'being.': 2,\n         'life;': 2,\n         '23,': 2,\n         '2': 2,\n         \"Edsel's\": 2,\n         'Earl': 2,\n         '(BB-9)': 2,\n         'Earthquakes': 2,\n         'generations': 2,\n         'father,': 2,\n         'Bros.': 2,\n         'grandmother': 2,\n         'conviction.': 2,\n         'disciplining': 2,\n         'Stephen': 2,\n         'assigned': 2,\n         'declined.': 2,\n         'guest-starred': 2,\n         'notable': 2,\n         '29,': 2,\n         'economic': 2,\n         'bigger,': 2,\n         'Springport,': 2,\n         '1794,': 2,\n         'cinema': 2,\n         '(Jeb),': 2,\n         'doctor,': 2,\n         'Kurt': 2,\n         'effectively': 2,\n         'Communion': 2,\n         'bookkeeper': 2,\n         'Hot': 2,\n         'sad,': 2,\n         'knows': 2,\n         'photos,': 2,\n         'hero.': 2,\n         \"Knoxville's\": 2,\n         'kiddie': 2,\n         'endeavor.': 2,\n         '1810': 2,\n         'annoying': 2,\n         \"isn't\": 2,\n         'III': 2,\n         'true': 2,\n         '21st': 2,\n         'Presley)': 2,\n         '16': 2,\n         'Salvation': 2,\n         'Lamarck,': 2,\n         'eyelids...': 2,\n         'cutting': 2,\n         'appetizing': 2,\n         'gut': 2,\n         'dullest': 2,\n         'influence.': 2,\n         'fork': 2,\n         'Mutiny': 2,\n         'Paul,': 2,\n         'Rob': 2,\n         'German': 2,\n         'discharged': 2,\n         'Roll': 2,\n         'aunt,': 2,\n         'non-actors': 2,\n         'worst,': 2,\n         'Hitler': 2,\n         'us,': 2,\n         'out.': 2,\n         'pacifist': 2,\n         'sublimely': 2,\n         'RCA': 2,\n         'Manhattan': 2,\n         'regarded': 2,\n         '1968)': 2,\n         'careful': 2,\n         'theoretical': 2,\n         'families,': 2,\n         'Dedham,': 2,\n         'trimmings...': 2,\n         '1921,': 2,\n         'Marino': 2,\n         'Maine': 2,\n         'adamant': 2,\n         'Cotton.': 2,\n         'Groucho': 2,\n         'actual': 2,\n         'dies.': 2,\n         \"Hermann's\": 2,\n         'seeking': 2,\n         'I.': 2,\n         'back,': 2,\n         'merely': 2,\n         'Niels': 2,\n         'Louisa': 2,\n         'wrote,': 2,\n         'novel,': 2,\n         'Sorensen,': 2,\n         'breathtaking': 2,\n         'probably': 2,\n         \"what's\": 2,\n         'Congress.': 2,\n         \"Clooney's\": 2,\n         'mother.)': 2,\n         'junior': 2,\n         'balance': 2,\n         'Michael.': 2,\n         'derive': 2,\n         'Westerns,': 2,\n         'restoration': 2,\n         'rips': 2,\n         'Space)': 2,\n         '1955)': 2,\n         '4': 2,\n         'failure': 2,\n         'centers': 2,\n         'Johnson,': 2,\n         'Cambridge.': 2,\n         'major.': 2,\n         'serious': 2,\n         'further': 2,\n         '1956,': 2,\n         'Whiteman.': 2,\n         'extravaganza.': 2,\n         'William': 2,\n         '85': 2,\n         'quickly': 2,\n         'Indian': 2,\n         'Stuart': 2,\n         '(1964)': 2,\n         'Mileva': 2,\n         'Bombay': 2,\n         'Revolution': 2,\n         'Truman': 2,\n         'sweetness': 2,\n         '1894,': 2,\n         'Yale.': 2,\n         'limply': 2,\n         'tenure': 2,\n         'obituary': 2,\n         'interests': 2,\n         'Amari': 2,\n         'sincere.': 2,\n         'Connecticut),': 2,\n         'asked': 2,\n         'Excelsior': 2,\n         'ironically,': 2,\n         'Crypt': 2,\n         'lame': 2,\n         'disparate': 2,\n         'shops': 2,\n         'sequences...': 2,\n         'all.': 2,\n         'Eyre': 2,\n         'condition': 2,\n         'melancholy': 2,\n         'Armstrong,': 2,\n         'Bay': 2,\n         'Often': 2,\n         'Once': 2,\n         'Rubin...': 2,\n         'zone,': 2,\n         'churches': 2,\n         'critics.': 2,\n         'invited': 2,\n         'anime,': 2,\n         'Automobile': 2,\n         \"Lee's\": 2,\n         'Matthias': 2,\n         'Near': 2,\n         '1905]': 2,\n         'ante': 2,\n         'Iranian': 2,\n         'Dorothy': 2,\n         'assumes': 2,\n         'coma.': 2,\n         'enjoyable': 2,\n         'sequence,': 2,\n         'moving,': 2,\n         'change,': 2,\n         'Dwight': 2,\n         '36': 2,\n         'Prescott': 2,\n         'venerable': 2,\n         'home,': 2,\n         'either.': 2,\n         'switched': 2,\n         'help': 2,\n         'Award': 2,\n         'uplifter.': 2,\n         'sharpshooter,': 2,\n         'network.': 2,\n         'few': 2,\n         'action': 2,\n         'lyrical': 2,\n         '1787': 2,\n         'Winston': 2,\n         'Maryland�s': 2,\n         'Clay': 2,\n         'virtually': 2,\n         'Brit': 2,\n         'talents.': 2,\n         'one,': 2,\n         '18,': 2,\n         'Gerald': 2,\n         'food': 2,\n         'finding': 2,\n         'made.': 2,\n         'guessing.': 2,\n         'lead': 2,\n         'stops': 2,\n         'Artists': 2,\n         'Mississippi,': 2,\n         'Development': 2,\n         'insisted': 2,\n         'Jacob': 2,\n         'commended': 2,\n         'and,': 2,\n         'allow': 2,\n         'miraculous': 2,\n         \"Flynn's\": 2,\n         'Struensee.': 2,\n         '1792': 2,\n         'credible': 2,\n         'Stitch': 2,\n         'Hey': 2,\n         'Wisconsin': 2,\n         'folded,': 2,\n         'daddy': 2,\n         'Michele': 2,\n         'reign': 2,\n         \"community's\": 2,\n         'dehumanising': 2,\n         'won.': 2,\n         'spot': 2,\n         'deception,': 2,\n         'anticipated': 2,\n         'From': 2,\n         '1983].': 2,\n         'scoutmaster': 2,\n         '1968': 2,\n         'Ph.D.': 2,\n         'Lincoln,': 2,\n         'observation': 2,\n         'Christmas.': 2,\n         'Graffiti': 2,\n         'hired': 2,\n         'edges.': 2,\n         'school,': 2,\n         'magic.': 2,\n         '(March': 2,\n         'buddy': 2,\n         'Petschek': 2,\n         'Moon.': 2,\n         'released': 2,\n         'Leiden': 2,\n         'me.': 2,\n         'Enterprise': 2,\n         'mother/daughter': 2,\n         'deceased,': 2,\n         'lacking': 2,\n         'caused': 2,\n         'Johnny': 2,\n         'initially': 2,\n         'energy,': 2,\n         \"Kerouac's\": 2,\n         'Millicent': 2,\n         'scoring': 2,\n         'intrigue': 2,\n         'masterpiece!': 2,\n         'experiments': 2,\n         'cgs': 2,\n         'Only': 2,\n         'smoking': 2,\n         'though': 2,\n         '1726': 2,\n         'birth.': 2,\n         '43.': 2,\n         'Jean': 2,\n         'Ford': 2,\n         'obstacles': 2,\n         'journalism,': 2,\n         '1936': 2,\n         'Engine': 2,\n         '10,': 2,\n         'familiar': 2,\n         'Crosby,': 2,\n         'A.': 2,\n         'Adams-Onis': 2,\n         'gray': 2,\n         'side-splittingly': 2,\n         'player': 2,\n         \"`Manhunter'\": 2,\n         'tuning': 2,\n         'Company,': 2,\n         'adopted': 2,\n         'original,': 2,\n         '1902.': 2,\n         'pop': 2,\n         'leads': 2,\n         'fields': 2,\n         'banking': 2,\n         'funniest': 2,\n         'Hollywood,': 2,\n         'dish': 2,\n         'fathers.': 2,\n         'Miike...': 2,\n         '1896': 2,\n         'York,': 2,\n         'World,': 2,\n         'bandleader,': 2,\n         'Winifred': 2,\n         'thrilling': 2,\n         'V,': 2,\n         'Life': 2,\n         'giddily': 2,\n         'ingredients': 2,\n         '3': 2,\n         '1954': 2,\n         'song,': 2,\n         'humor': 2,\n         'soul': 2,\n         'Davenport.': 2,\n         'Return': 2,\n         'reshaped': 2,\n         \"parents'\": 2,\n         '1903.': 2,\n         'banished': 2,\n         'dots': 2,\n         'shifting': 2,\n         'Boston.': 2,\n         'Texas': 2,\n         'fractal': 2,\n         \"Dahmer's\": 2,\n         'afterwards': 2,\n         'Jersey': 2,\n         'Geiger': 2,\n         'body': 2,\n         'after-hours': 2,\n         'purposefully': 2,\n         'outward': 2,\n         'complications,': 2,\n         'Club,': 2,\n         'hodgepodge.': 2,\n         'bittersweet': 2,\n         'physically': 2,\n         'came': 2,\n         'frequently': 2,\n         'divorce': 2,\n         'taking': 2,\n         'Newhart': 2,\n         'H.W.': 2,\n         'two-day': 2,\n         'lousy': 2,\n         'Braintree,': 2,\n         'undergo': 2,\n         'chaotic': 2,\n         '(40': 2,\n         'First': 2,\n         'friends.': 2,\n         'see': 2,\n         'glaring.': 2,\n         'Kennedy,': 2,\n         'Puerto': 2,\n         '1934)': 2,\n         'Father': 2,\n         'NFL': 2,\n         'Norway,': 2,\n         'Quebecers': 2,\n         'store.': 2,\n         'empowerment.': 2,\n         'Jeffs': 2,\n         'verse,': 2,\n         'Manning': 2,\n         'Minutes.': 2,\n         '22,': 2,\n         'results.': 2,\n         'Bollywood.': 2,\n         'machinist,': 2,\n         'Seney.': 2,\n         'F.': 2,\n         'survived': 2,\n         'art': 2,\n         'wanna': 2,\n         '1948': 2,\n         'unsympathetic': 2,\n         'University': 2,\n         '1947,': 2,\n         'inhospitability': 2,\n         'Baldwin,': 2,\n         'Medal': 2,\n         'Douglas': 2,\n         '&': 2,\n         'pitches)': 1,\n         \"Cincinnati's\": 1,\n         'Dolores': 1,\n         'wife,': 1,\n         'whipping': 1,\n         'stuck': 1,\n         'equal': 1,\n         \"survive?'\": 1,\n         'Prior': 1,\n         'carries': 1,\n         'Creepy,': 1,\n         'quintessential': 1,\n         'setup,': 1,\n         '1874,': 1,\n         '1643)': 1,\n         'intriguing': 1,\n         'amongst': 1,\n         'extreme': 1,\n         'Institute.': 1,\n         'writing': 1,\n         'Bartholomew': 1,\n         'Society.': 1,\n         'regrettable': 1,\n         'director.': 1,\n         'pretentious.': 1,\n         'ticket': 1,\n         '1782).': 1,\n         'Julia': 1,\n         'potentially': 1,\n         'fallaciously)': 1,\n         'diva': 1,\n         'confrontational': 1,\n         'alone': 1,\n         'consistent': 1,\n         'recorded.': 1,\n         'fusion': 1,\n         'Dot': 1,\n         'detailed': 1,\n         'shipping': 1,\n         'favorite': 1,\n         'steering': 1,\n         'discard': 1,\n         'actor.': 1,\n         'seems': 1,\n         'theology': 1,\n         'tone.': 1,\n         'London': 1,\n         'tortured': 1,\n         'Fenimore': 1,\n         \"Germany's\": 1,\n         '-George': 1,\n         'deftly': 1,\n         'aboard': 1,\n         'merits.': 1,\n         'exceptional': 1,\n         'company,': 1,\n         'short.': 1,\n         'beliefs.': 1,\n         'compelling,': 1,\n         \"filmmaker's\": 1,\n         'Valium.': 1,\n         'Al': 1,\n         'Avenue': 1,\n         'Wild': 1,\n         'Baltimore,': 1,\n         'popular': 1,\n         'weak,': 1,\n         'Euro-film': 1,\n         'iconoclastic': 1,\n         'flight': 1,\n         'solid': 1,\n         'tiring': 1,\n         'Passer': 1,\n         'Warren.': 1,\n         'Harriman.': 1,\n         'Garret': 1,\n         'Parker': 1,\n         'Secret': 1,\n         'Webster': 1,\n         'material,': 1,\n         'marked': 1,\n         'Kentucky,': 1,\n         'Counsel': 1,\n         'story': 1,\n         'singer,': 1,\n         'related': 1,\n         'Democrat,': 1,\n         'Jeanne': 1,\n         'Matt': 1,\n         'vessel': 1,\n         'Duan': 1,\n         'word': 1,\n         'evaluate': 1,\n         'chronicle': 1,\n         'fearless': 1,\n         'flails': 1,\n         '9th': 1,\n         'refuses': 1,\n         'Ulysses': 1,\n         'potatoes': 1,\n         '22nd': 1,\n         'Harriman': 1,\n         'bust': 1,\n         'homes': 1,\n         'difficult': 1,\n         'voyage': 1,\n         '(November': 1,\n         'stupidest,': 1,\n         'putting': 1,\n         'shooter.': 1,\n         'Mae': 1,\n         'Physics': 1,\n         'consecutive': 1,\n         'starring': 1,\n         'losing': 1,\n         'focuses': 1,\n         'rewarded': 1,\n         'naturalized': 1,\n         'generation.': 1,\n         'biggest': 1,\n         'intellectual': 1,\n         \"family's\": 1,\n         'owned': 1,\n         'masterpiece.': 1,\n         'failed.': 1,\n         'afterlife': 1,\n         'firm,': 1,\n         \"that's\": 1,\n         'Grammy': 1,\n         'Jon': 1,\n         '1941,': 1,\n         'Alan': 1,\n         'area.': 1,\n         'landslide': 1,\n         '(son': 1,\n         'service': 1,\n         'comedy-drama.': 1,\n         'performances,': 1,\n         '1***': 1,\n         'promotion': 1,\n         'Yiddish': 1,\n         'cinematic': 1,\n         '1885': 1,\n         'Miramax': 1,\n         'voting': 1,\n         'Drop': 1,\n         'Lincolnshire,': 1,\n         'McMahon.': 1,\n         'becoming': 1,\n         'predict': 1,\n         'Conference': 1,\n         'Rogers': 1,\n         'executed': 1,\n         'regularly.': 1,\n         'wasted': 1,\n         'Brooklyn,': 1,\n         'times.': 1,\n         'Walker,': 1,\n         'Cooper.': 1,\n         're-election,': 1,\n         'alarming': 1,\n         'diploma.': 1,\n         'Edsel,': 1,\n         \"Disney's\": 1,\n         'epic': 1,\n         'American,': 1,\n         'queens': 1,\n         'Wuerttemberg': 1,\n         'tov': 1,\n         'dozen': 1,\n         'transported': 1,\n         'botulism.': 1,\n         'statesman': 1,\n         '(1713-1766)': 1,\n         'soldier': 1,\n         'valiantly': 1,\n         'course.': 1,\n         'years,': 1,\n         'circuit.': 1,\n         'thought': 1,\n         \"father's\": 1,\n         'featured': 1,\n         'Nancy': 1,\n         'way,': 1,\n         'tries': 1,\n         'wedding.': 1,\n         'Rhode': 1,\n         '2003,': 1,\n         'artificiality.': 1,\n         'Besso': 1,\n         're-election': 1,\n         'ecstasy.': 1,\n         'teary-eyed': 1,\n         'perfectly': 1,\n         'combined': 1,\n         'maudlin.': 1,\n         'private': 1,\n         'governor': 1,\n         'Clay,': 1,\n         '(in': 1,\n         'teachings': 1,\n         'prime': 1,\n         'Billy': 1,\n         'down,': 1,\n         'current.': 1,\n         'columnist': 1,\n         'Park': 1,\n         'important:': 1,\n         'channels,': 1,\n         'northern': 1,\n         'all-wise-guys-all-the-time': 1,\n         'receiving': 1,\n         'dragged': 1,\n         'mainly': 1,\n         'Reno,': 1,\n         'provide': 1,\n         'Louisiana': 1,\n         'race': 1,\n         'sterling': 1,\n         'Elvis': 1,\n         'But': 1,\n         'husband,': 1,\n         'Night': 1,\n         'notably': 1,\n         'Brown:': 1,\n         'Barry': 1,\n         'Amphibious': 1,\n         'expands': 1,\n         'admission.': 1,\n         'Tulane': 1,\n         'suck': 1,\n         'spot.': 1,\n         '(c.': 1,\n         \"original's\": 1,\n         'surprisingly': 1,\n         'Port': 1,\n         'thrives': 1,\n         'Newton': 1,\n         'holds': 1,\n         'good.': 1,\n         'Naish': 1,\n         'supporters.': 1,\n         'Great': 1,\n         'comparison': 1,\n         'Barbara': 1,\n         'emigrated': 1,\n         'Sweet': 1,\n         'strong': 1,\n         '1802)': 1,\n         'newscaster': 1,\n         'botany,': 1,\n         'life.': 1,\n         'either': 1,\n         'activist.': 1,\n         'Cork,': 1,\n         '\"Best': 1,\n         'unexpectedly': 1,\n         'physiologist': 1,\n         'citizenship,': 1,\n         '1929': 1,\n         'shows': 1,\n         'on.': 1,\n         'compiling': 1,\n         'weeks': 1,\n         'Presidential': 1,\n         'bad': 1,\n         'hitting': 1,\n         'P.': 1,\n         'acting.': 1,\n         'assistance': 1,\n         'welt': 1,\n         'Endowment': 1,\n         'interrupted': 1,\n         'B': 1,\n         'landing': 1,\n         'km': 1,\n         'NBA': 1,\n         'son,': 1,\n         '1948)': 1,\n         'Serving': 1,\n         'cars,': 1,\n         'Casino': 1,\n         '1659': 1,\n         'drug': 1,\n         'Bergerac': 1,\n         'Shriver': 1,\n         'commentator': 1,\n         'practised': 1,\n         'smoothly': 1,\n         'Blackboards': 1,\n         'mindless,': 1,\n         'middle': 1,\n         'glorious': 1,\n         'Who': 1,\n         'Among': 1,\n         'quench': 1,\n         'Theoretical': 1,\n         'them': 1,\n         'Okinawa,': 1,\n         'TV': 1,\n         'horror.': 1,\n         'bureaucracy.': 1,\n         'Harriet': 1,\n         'albeit': 1,\n         '11,': 1,\n         'dads': 1,\n         '(sometimes': 1,\n         'Read-Along\".': 1,\n         'Mickey': 1,\n         'Reaganomics': 1,\n         'sisterly': 1,\n         'Nike': 1,\n         'committed': 1,\n         'workmanlike': 1,\n         'Brothers': 1,\n         'forges': 1,\n         'Company.': 1,\n         'gimmick': 1,\n         'forced': 1,\n         'group,': 1,\n         'Potter': 1,\n         'Battle': 1,\n         'Serbian': 1,\n         '(voiced': 1,\n         'victims': 1,\n         've': 1,\n         'wooden.': 1,\n         'center': 1,\n         '1983': 1,\n         'six': 1,\n         'stupid': 1,\n         'turmoil': 1,\n         'citizenship': 1,\n         'rates': 1,\n         'abroad,': 1,\n         'Better': 1,\n         '`tis.': 1,\n         'impulses': 1,\n         'HCC': 1,\n         'along': 1,\n         'Assistant': 1,\n         'deaths': 1,\n         'Bouvier': 1,\n         'within': 1,\n         'sets': 1,\n         'Roosevelt': 1,\n         'treats': 1,\n         'nVera-Ellen,': 1,\n         'avarice': 1,\n         '1966': 1,\n         'mathematician,': 1,\n         '1973.': 1,\n         'Aaliyah': 1,\n         'runs': 1,\n         'CBS': 1,\n         'Talia': 1,\n         'extravagant': 1,\n         'Woodson,': 1,\n         'glimpses': 1,\n         'prevented': 1,\n         'perhaps': 1,\n         'months': 1,\n         'Hunter': 1,\n         '1926.': 1,\n         'unsentimental': 1,\n         'Ken': 1,\n         'accepted': 1,\n         'No': 1,\n         'violin': 1,\n         'far': 1,\n         'crumbles.': 1,\n         'employment.': 1,\n         'satisfying': 1,\n         '1946': 1,\n         'warmth.': 1,\n         'unspool,': 1,\n         'Dexter': 1,\n         'entire': 1,\n         'both': 1,\n         'studied': 1,\n         'shrewd,': 1,\n         'Colorado.': 1,\n         'Aron': 1,\n         'term': 1,\n         '2002.': 1,\n         'but...': 1,\n         '1940s,': 1,\n         'values.': 1,\n         'Dent': 1,\n         'Boston-based': 1,\n         'Woolley,': 1,\n         '10': 1,\n         'half-brother': 1,\n         'Swiss': 1,\n         'insiders': 1,\n         'entertainment': 1,\n         'Newport,': 1,\n         'CHiPs,': 1,\n         'demeanours.': 1,\n         'cornetist.': 1,\n         'Mike': 1,\n         'stood': 1,\n         'engineers': 1,\n         'neck.': 1,\n         '``13': 1,\n         'Rock,': 1,\n         'flatulence': 1,\n         'stock': 1,\n         \"(Winthrop's\": 1,\n         'Connecticut;': 1,\n         'Mika': 1,\n         'name.': 1,\n         'Margot': 1,\n         'Celle.': 1,\n         '(1794-1796),': 1,\n         'blacksmith': 1,\n         '1925;': 1,\n         'Lake': 1,\n         'medical': 1,\n         'tear': 1,\n         'extensively': 1,\n         'Anglican': 1,\n         'OM,': 1,\n         'Deborah': 1,\n         'emp11111ty': 1,\n         'that,': 1,\n         'army.': 1,\n         'vengeful': 1,\n         'Reuben': 1,\n         \"bachelor's\": 1,\n         'swear': 1,\n         'Juana': 1,\n         'Although': 1,\n         '(June': 1,\n         'mysteries.': 1,\n         'focus': 1,\n         'Bern,': 1,\n         'loopiness': 1,\n         'Portuguese': 1,\n         'yesteryear': 1,\n         'Alain': 1,\n         '1640,': 1,\n         '30': 1,\n         'Profiles': 1,\n         'nervous': 1,\n         'Grant,': 1,\n         'miller': 1,\n         'Denis': 1,\n         'music': 1,\n         'decency.': 1,\n         'officer.': 1,\n         'Expeditionary': 1,\n         'Ronald': 1,\n         \"Soldier's\": 1,\n         'sniper': 1,\n         'looking': 1,\n         'entry': 1,\n         'naturalists': 1,\n         'movies...': 1,\n         'capital': 1,\n         'Socialist': 1,\n         'role.': 1,\n         'Epps,': 1,\n         'Civilisation': 1,\n         'Lt.': 1,\n         'funeral.': 1,\n         '1760s.': 1,\n         'opera': 1,\n         'broad': 1,\n         'semi-professional': 1,\n         'Crossing': 1,\n         'policies,': 1,\n         'Stuart,': 1,\n         '``if': 1,\n         'charismatic': 1,\n         'Peyton': 1,\n         'range': 1,\n         'situation': 1,\n         'fatherhood.': 1,\n         'Co.': 1,\n         ...})"
     },
     "execution_count": 70,
     "metadata": {},
     "output_type": "execute_result"
    }
   ],
   "source": [
    "Counter(augmented_list)"
   ],
   "metadata": {
    "collapsed": false,
    "ExecuteTime": {
     "start_time": "2023-12-18T11:54:03.022479Z",
     "end_time": "2023-12-18T11:54:03.027623Z"
    }
   }
  },
  {
   "cell_type": "code",
   "execution_count": 61,
   "outputs": [
    {
     "name": "stdout",
     "output_type": "stream",
     "text": [
      "yes\n"
     ]
    }
   ],
   "source": [],
   "metadata": {
    "collapsed": false,
    "ExecuteTime": {
     "start_time": "2023-12-18T10:49:17.128506Z",
     "end_time": "2023-12-18T10:49:17.143918Z"
    }
   }
  },
  {
   "cell_type": "code",
   "execution_count": 56,
   "outputs": [
    {
     "data": {
      "text/plain": "148151"
     },
     "execution_count": 56,
     "metadata": {},
     "output_type": "execute_result"
    }
   ],
   "source": [
    "len(augmented_list)"
   ],
   "metadata": {
    "collapsed": false,
    "ExecuteTime": {
     "start_time": "2023-12-18T10:47:41.764717Z",
     "end_time": "2023-12-18T10:47:41.825418Z"
    }
   }
  },
  {
   "cell_type": "code",
   "execution_count": 57,
   "outputs": [
    {
     "data": {
      "text/plain": "145247"
     },
     "execution_count": 57,
     "metadata": {},
     "output_type": "execute_result"
    }
   ],
   "source": [
    "len(train_data)"
   ],
   "metadata": {
    "collapsed": false,
    "ExecuteTime": {
     "start_time": "2023-12-18T10:47:41.784827Z",
     "end_time": "2023-12-18T10:47:41.825418Z"
    }
   }
  },
  {
   "cell_type": "code",
   "execution_count": null,
   "outputs": [],
   "source": [],
   "metadata": {
    "collapsed": false
   }
  }
 ],
 "metadata": {
  "kernelspec": {
   "display_name": "Python 3",
   "language": "python",
   "name": "python3"
  },
  "language_info": {
   "codemirror_mode": {
    "name": "ipython",
    "version": 2
   },
   "file_extension": ".py",
   "mimetype": "text/x-python",
   "name": "python",
   "nbconvert_exporter": "python",
   "pygments_lexer": "ipython2",
   "version": "2.7.6"
  }
 },
 "nbformat": 4,
 "nbformat_minor": 0
}
