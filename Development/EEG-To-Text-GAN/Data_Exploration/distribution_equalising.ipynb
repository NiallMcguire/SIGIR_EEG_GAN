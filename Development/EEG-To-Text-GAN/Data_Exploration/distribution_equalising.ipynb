{
 "cells": [
  {
   "cell_type": "code",
   "execution_count": 2,
   "metadata": {
    "collapsed": true,
    "ExecuteTime": {
     "start_time": "2023-12-11T11:51:02.224419Z",
     "end_time": "2023-12-11T11:51:02.331035Z"
    }
   },
   "outputs": [],
   "source": [
    "import random\n",
    "from collections import Counter\n",
    "\n",
    "\n"
   ]
  },
  {
   "cell_type": "code",
   "execution_count": 3,
   "outputs": [
    {
     "data": {
      "text/plain": "Counter({'kxcld': 195,\n         'dygpr': 189,\n         'ujotq': 186,\n         'ozyuv': 184,\n         'jxdeg': 182,\n         'sfrhr': 181,\n         'ljczz': 180,\n         'xdfdm': 179,\n         'vippt': 177,\n         'pctpe': 177,\n         'xpdvr': 176,\n         'ypxiq': 175,\n         'xykav': 172,\n         'vvdpx': 171,\n         'ehhuw': 167,\n         'ahhfl': 167,\n         'hhzez': 163,\n         'dvdvf': 162,\n         'vglcv': 162,\n         'heuas': 160,\n         'hhsus': 157,\n         'jiwrv': 157,\n         'ovnkp': 155,\n         'hczpw': 154,\n         'aigue': 153,\n         'eymgr': 152,\n         'jfpgv': 151,\n         'kovqk': 151,\n         'wkitx': 147,\n         'ifoxv': 145,\n         'nqeml': 144,\n         'xbfiw': 143,\n         'wzxwg': 142,\n         'pjbhj': 141,\n         'qgjjk': 140,\n         'kowmv': 135,\n         'xnftf': 133,\n         'qzpvs': 131,\n         'wmklw': 130,\n         'jnukg': 129,\n         'bjmhm': 128,\n         'euwhm': 126,\n         'gvhxo': 126,\n         'ozzdu': 125,\n         'zkebp': 118,\n         'cbnbf': 108,\n         'ppqjb': 104,\n         'fkilk': 102,\n         'ohfvk': 100,\n         'fymxu': 96,\n         'btliq': 90,\n         'dqiob': 88,\n         'zorvx': 87,\n         'uggdx': 87,\n         'ibqeo': 86,\n         'hnzkq': 86,\n         'fcytu': 82,\n         'cnqxl': 82,\n         'qikht': 77,\n         'zzlvi': 73,\n         'bidjq': 72,\n         'milvr': 72,\n         'nwhcj': 72,\n         'onqac': 68,\n         'thwbg': 68,\n         'bushq': 66,\n         'ytjdx': 66,\n         'kxugu': 65,\n         'dqnkm': 63,\n         'ehrff': 62,\n         'ghpvm': 60,\n         'wpmlk': 59,\n         'oiith': 56,\n         'hxlzn': 54,\n         'dsmuj': 53,\n         'homtw': 52,\n         'nwkgf': 48,\n         'dwyrt': 48,\n         'fhsis': 45,\n         'iywfg': 42,\n         'qlfif': 42,\n         'yoyaq': 37,\n         'vlnfo': 35,\n         'dquvg': 35,\n         'gjirh': 34,\n         'vznby': 34,\n         'vakqk': 27,\n         'okgkk': 26,\n         'enzcj': 25,\n         'cufje': 25,\n         'iijwx': 23,\n         'xfcos': 21,\n         'mlfyq': 20,\n         'pexaj': 19,\n         'loona': 9,\n         'kbwbu': 8,\n         'mwtoo': 8,\n         'nksqn': 7,\n         'supyt': 5,\n         'ujzdz': 3})"
     },
     "execution_count": 3,
     "metadata": {},
     "output_type": "execute_result"
    }
   ],
   "source": [
    "import random\n",
    "import string\n",
    "\n",
    "def generate_corpus(max_frequency=100, corpus_size=1000):\n",
    "    \"\"\"\n",
    "    Generate a corpus of words with varying frequencies.\n",
    "\n",
    "    Parameters:\n",
    "    - max_frequency: The maximum frequency for any word (default is 100).\n",
    "    - corpus_size: The size of the generated corpus (default is 1000).\n",
    "\n",
    "    Returns:\n",
    "    A list representing the generated corpus.\n",
    "    \"\"\"\n",
    "    # Generate a vocabulary of unique words (up to 100)\n",
    "    vocabulary_size = min(100, corpus_size)\n",
    "    vocabulary = [''.join(random.choice(string.ascii_lowercase) for _ in range(5)) for _ in range(vocabulary_size)]\n",
    "\n",
    "    # Generate frequencies for each word\n",
    "    frequencies = {word: random.randint(1, max_frequency) for word in vocabulary}\n",
    "\n",
    "    # Create the corpus\n",
    "    corpus = []\n",
    "    for word, frequency in frequencies.items():\n",
    "        corpus.extend([word] * frequency)\n",
    "\n",
    "    # Shuffle the corpus to randomize word order\n",
    "    random.shuffle(corpus)\n",
    "\n",
    "    # Trim the corpus to the specified size\n",
    "    corpus = corpus[:corpus_size]\n",
    "\n",
    "    return corpus\n",
    "\n",
    "# Example usage\n",
    "generated_corpus = generate_corpus(max_frequency=1000, corpus_size=10000)\n",
    "Counter(generated_corpus)  # Count the occurrences of each word in the generated corpus"
   ],
   "metadata": {
    "collapsed": false,
    "ExecuteTime": {
     "start_time": "2023-12-11T11:51:02.249857Z",
     "end_time": "2023-12-11T11:51:02.354747Z"
    }
   }
  },
  {
   "cell_type": "code",
   "execution_count": 4,
   "outputs": [],
   "source": [
    "from collections import Counter\n",
    "\n",
    "def equalise_word_count(words, augmentation_factor=20):\n",
    "    # Count the occurrences of each word\n",
    "    word_counts = Counter(words)\n",
    "    new_list = words.copy()\n",
    "    max_word = max(word_counts.values())\n",
    "\n",
    "    # Augment the corpus by adding additional copies of each word\n",
    "    for word, count in word_counts.items():\n",
    "        new_list.extend([word] * (augmentation_factor * (max_word - count)))\n",
    "\n",
    "    # Shuffle the corpus to randomize word order\n",
    "    random.shuffle(new_list)\n",
    "\n",
    "    return new_list\n",
    "\n",
    "\n"
   ],
   "metadata": {
    "collapsed": false,
    "ExecuteTime": {
     "start_time": "2023-12-11T11:51:02.322840Z",
     "end_time": "2023-12-11T11:51:02.356443Z"
    }
   }
  },
  {
   "cell_type": "code",
   "execution_count": 5,
   "outputs": [
    {
     "data": {
      "text/plain": "Counter({'ujzdz': 3843,\n         'supyt': 3805,\n         'nksqn': 3767,\n         'kbwbu': 3748,\n         'mwtoo': 3748,\n         'loona': 3729,\n         'pexaj': 3539,\n         'mlfyq': 3520,\n         'xfcos': 3501,\n         'iijwx': 3463,\n         'cufje': 3425,\n         'enzcj': 3425,\n         'okgkk': 3406,\n         'vakqk': 3387,\n         'vznby': 3254,\n         'gjirh': 3254,\n         'vlnfo': 3235,\n         'dquvg': 3235,\n         'yoyaq': 3197,\n         'iywfg': 3102,\n         'qlfif': 3102,\n         'fhsis': 3045,\n         'dwyrt': 2988,\n         'nwkgf': 2988,\n         'homtw': 2912,\n         'dsmuj': 2893,\n         'hxlzn': 2874,\n         'oiith': 2836,\n         'wpmlk': 2779,\n         'ghpvm': 2760,\n         'ehrff': 2722,\n         'dqnkm': 2703,\n         'kxugu': 2665,\n         'ytjdx': 2646,\n         'bushq': 2646,\n         'thwbg': 2608,\n         'onqac': 2608,\n         'bidjq': 2532,\n         'milvr': 2532,\n         'nwhcj': 2532,\n         'zzlvi': 2513,\n         'qikht': 2437,\n         'fcytu': 2342,\n         'cnqxl': 2342,\n         'hnzkq': 2266,\n         'ibqeo': 2266,\n         'zorvx': 2247,\n         'uggdx': 2247,\n         'dqiob': 2228,\n         'btliq': 2190,\n         'fymxu': 2076,\n         'ohfvk': 2000,\n         'fkilk': 1962,\n         'ppqjb': 1924,\n         'cbnbf': 1848,\n         'zkebp': 1658,\n         'ozzdu': 1525,\n         'euwhm': 1506,\n         'gvhxo': 1506,\n         'bjmhm': 1468,\n         'jnukg': 1449,\n         'wmklw': 1430,\n         'qzpvs': 1411,\n         'xnftf': 1373,\n         'kowmv': 1335,\n         'qgjjk': 1240,\n         'pjbhj': 1221,\n         'wzxwg': 1202,\n         'xbfiw': 1183,\n         'nqeml': 1164,\n         'ifoxv': 1145,\n         'wkitx': 1107,\n         'jfpgv': 1031,\n         'kovqk': 1031,\n         'eymgr': 1012,\n         'aigue': 993,\n         'hczpw': 974,\n         'ovnkp': 955,\n         'hhsus': 917,\n         'jiwrv': 917,\n         'heuas': 860,\n         'vglcv': 822,\n         'dvdvf': 822,\n         'hhzez': 803,\n         'ehhuw': 727,\n         'ahhfl': 727,\n         'vvdpx': 651,\n         'xykav': 632,\n         'ypxiq': 575,\n         'xpdvr': 556,\n         'pctpe': 537,\n         'vippt': 537,\n         'xdfdm': 499,\n         'ljczz': 480,\n         'sfrhr': 461,\n         'jxdeg': 442,\n         'ozyuv': 404,\n         'ujotq': 366,\n         'dygpr': 309,\n         'kxcld': 195})"
     },
     "execution_count": 5,
     "metadata": {},
     "output_type": "execute_result"
    }
   ],
   "source": [
    "output_words = equalise_word_count(generated_corpus)\n",
    "Counter(output_words)"
   ],
   "metadata": {
    "collapsed": false,
    "ExecuteTime": {
     "start_time": "2023-12-11T11:51:02.338869Z",
     "end_time": "2023-12-11T11:51:02.464196Z"
    }
   }
  },
  {
   "cell_type": "code",
   "execution_count": 6,
   "outputs": [
    {
     "name": "stdout",
     "output_type": "stream",
     "text": [
      "10000\n"
     ]
    },
    {
     "data": {
      "text/plain": "14000"
     },
     "execution_count": 6,
     "metadata": {},
     "output_type": "execute_result"
    }
   ],
   "source": [
    "import random\n",
    "\n",
    "def augment_list(original_list, augmentation_percentage):\n",
    "    # Count the frequency of each word in the original list\n",
    "    print(len(original_list))\n",
    "\n",
    "    word_counts = {}\n",
    "    for word in original_list:\n",
    "        word_counts[word] = word_counts.get(word, 0) + 1\n",
    "\n",
    "    # Identify less frequent words\n",
    "    unique_words = list(set(original_list))\n",
    "    less_frequent_words = sorted(unique_words, key=lambda x: word_counts[x])\n",
    "    #print(less_frequent_words)\n",
    "\n",
    "    # Determine the number of words to add for augmentation\n",
    "    num_words_to_add = int(len(original_list) * augmentation_percentage)\n",
    "\n",
    "    # Augment the list with less frequent words\n",
    "    augmented_list = original_list.copy()\n",
    "    for _ in range(num_words_to_add):\n",
    "        # Choose a word with higher probability for less frequent words\n",
    "        chosen_word = random.choices(less_frequent_words)[0]\n",
    "        augmented_list.append(chosen_word)\n",
    "\n",
    "    return augmented_list\n",
    "\n",
    "# Example usage\n",
    "augmented_list = augment_list(generated_corpus, 0.4)\n",
    "len(augmented_list)\n",
    "\n"
   ],
   "metadata": {
    "collapsed": false,
    "ExecuteTime": {
     "start_time": "2023-12-11T11:51:02.465199Z",
     "end_time": "2023-12-11T11:51:02.549593Z"
    }
   }
  },
  {
   "cell_type": "code",
   "execution_count": 6,
   "outputs": [],
   "source": [],
   "metadata": {
    "collapsed": false,
    "ExecuteTime": {
     "start_time": "2023-12-11T11:51:02.493072Z",
     "end_time": "2023-12-11T11:51:02.551116Z"
    }
   }
  },
  {
   "cell_type": "code",
   "execution_count": 7,
   "outputs": [
    {
     "data": {
      "text/plain": "Counter({'kxcld': 195,\n         'dygpr': 189,\n         'ujotq': 186,\n         'ozyuv': 184,\n         'jxdeg': 182,\n         'sfrhr': 181,\n         'ljczz': 180,\n         'xdfdm': 179,\n         'vippt': 177,\n         'pctpe': 177,\n         'xpdvr': 176,\n         'ypxiq': 175,\n         'xykav': 172,\n         'vvdpx': 171,\n         'ehhuw': 167,\n         'ahhfl': 167,\n         'hhzez': 163,\n         'dvdvf': 162,\n         'vglcv': 162,\n         'heuas': 160,\n         'hhsus': 157,\n         'jiwrv': 157,\n         'ovnkp': 155,\n         'hczpw': 154,\n         'aigue': 153,\n         'eymgr': 152,\n         'jfpgv': 151,\n         'kovqk': 151,\n         'wkitx': 147,\n         'ifoxv': 145,\n         'nqeml': 144,\n         'xbfiw': 143,\n         'wzxwg': 142,\n         'pjbhj': 141,\n         'qgjjk': 140,\n         'kowmv': 135,\n         'xnftf': 133,\n         'qzpvs': 131,\n         'wmklw': 130,\n         'jnukg': 129,\n         'bjmhm': 128,\n         'euwhm': 126,\n         'gvhxo': 126,\n         'ozzdu': 125,\n         'zkebp': 118,\n         'cbnbf': 108,\n         'ppqjb': 104,\n         'fkilk': 102,\n         'ohfvk': 100,\n         'fymxu': 96,\n         'btliq': 90,\n         'dqiob': 88,\n         'zorvx': 87,\n         'uggdx': 87,\n         'ibqeo': 86,\n         'hnzkq': 86,\n         'fcytu': 82,\n         'cnqxl': 82,\n         'qikht': 77,\n         'zzlvi': 73,\n         'bidjq': 72,\n         'milvr': 72,\n         'nwhcj': 72,\n         'onqac': 68,\n         'thwbg': 68,\n         'bushq': 66,\n         'ytjdx': 66,\n         'kxugu': 65,\n         'dqnkm': 63,\n         'ehrff': 62,\n         'ghpvm': 60,\n         'wpmlk': 59,\n         'oiith': 56,\n         'hxlzn': 54,\n         'dsmuj': 53,\n         'homtw': 52,\n         'nwkgf': 48,\n         'dwyrt': 48,\n         'fhsis': 45,\n         'iywfg': 42,\n         'qlfif': 42,\n         'yoyaq': 37,\n         'vlnfo': 35,\n         'dquvg': 35,\n         'gjirh': 34,\n         'vznby': 34,\n         'vakqk': 27,\n         'okgkk': 26,\n         'enzcj': 25,\n         'cufje': 25,\n         'iijwx': 23,\n         'xfcos': 21,\n         'mlfyq': 20,\n         'pexaj': 19,\n         'loona': 9,\n         'kbwbu': 8,\n         'mwtoo': 8,\n         'nksqn': 7,\n         'supyt': 5,\n         'ujzdz': 3})"
     },
     "execution_count": 7,
     "metadata": {},
     "output_type": "execute_result"
    }
   ],
   "source": [
    "Counter(generated_corpus)"
   ],
   "metadata": {
    "collapsed": false,
    "ExecuteTime": {
     "start_time": "2023-12-11T11:51:02.509592Z",
     "end_time": "2023-12-11T11:51:02.553138Z"
    }
   }
  },
  {
   "cell_type": "code",
   "execution_count": 8,
   "outputs": [
    {
     "data": {
      "text/plain": "Counter({'dygpr': 235,\n         'ujotq': 227,\n         'jxdeg': 225,\n         'kxcld': 225,\n         'ozyuv': 222,\n         'xdfdm': 222,\n         'xpdvr': 220,\n         'sfrhr': 218,\n         'vippt': 217,\n         'vvdpx': 217,\n         'ljczz': 217,\n         'ehhuw': 214,\n         'xykav': 214,\n         'vglcv': 213,\n         'ypxiq': 210,\n         'pctpe': 210,\n         'hhsus': 207,\n         'ahhfl': 205,\n         'hczpw': 202,\n         'jiwrv': 201,\n         'aigue': 199,\n         'kovqk': 199,\n         'wzxwg': 199,\n         'hhzez': 199,\n         'dvdvf': 198,\n         'heuas': 194,\n         'ovnkp': 194,\n         'eymgr': 193,\n         'jfpgv': 189,\n         'wkitx': 187,\n         'pjbhj': 185,\n         'nqeml': 182,\n         'qgjjk': 179,\n         'xbfiw': 179,\n         'wmklw': 175,\n         'bjmhm': 174,\n         'kowmv': 173,\n         'qzpvs': 172,\n         'xnftf': 171,\n         'ifoxv': 168,\n         'jnukg': 165,\n         'gvhxo': 164,\n         'ozzdu': 162,\n         'zkebp': 158,\n         'euwhm': 153,\n         'ohfvk': 145,\n         'cbnbf': 144,\n         'fkilk': 140,\n         'fymxu': 140,\n         'ppqjb': 139,\n         'hnzkq': 131,\n         'ibqeo': 130,\n         'btliq': 129,\n         'zorvx': 128,\n         'dqiob': 128,\n         'nwhcj': 128,\n         'uggdx': 124,\n         'qikht': 120,\n         'fcytu': 119,\n         'zzlvi': 118,\n         'onqac': 115,\n         'cnqxl': 114,\n         'ehrff': 109,\n         'milvr': 108,\n         'ytjdx': 107,\n         'bidjq': 106,\n         'thwbg': 106,\n         'bushq': 105,\n         'nwkgf': 100,\n         'wpmlk': 99,\n         'dqnkm': 99,\n         'kxugu': 96,\n         'fhsis': 94,\n         'ghpvm': 94,\n         'oiith': 93,\n         'dsmuj': 93,\n         'homtw': 92,\n         'hxlzn': 86,\n         'gjirh': 84,\n         'dwyrt': 81,\n         'vlnfo': 78,\n         'iywfg': 77,\n         'vakqk': 73,\n         'yoyaq': 73,\n         'dquvg': 72,\n         'vznby': 69,\n         'qlfif': 69,\n         'okgkk': 66,\n         'pexaj': 62,\n         'xfcos': 62,\n         'enzcj': 62,\n         'mlfyq': 61,\n         'iijwx': 60,\n         'cufje': 59,\n         'kbwbu': 57,\n         'supyt': 50,\n         'loona': 48,\n         'nksqn': 47,\n         'ujzdz': 40,\n         'mwtoo': 39})"
     },
     "execution_count": 8,
     "metadata": {},
     "output_type": "execute_result"
    }
   ],
   "source": [
    "Counter(augmented_list)"
   ],
   "metadata": {
    "collapsed": false,
    "ExecuteTime": {
     "start_time": "2023-12-11T11:51:02.524727Z",
     "end_time": "2023-12-11T11:51:02.570744Z"
    }
   }
  },
  {
   "cell_type": "code",
   "execution_count": 8,
   "outputs": [],
   "source": [],
   "metadata": {
    "collapsed": false,
    "ExecuteTime": {
     "start_time": "2023-12-11T11:51:02.539923Z",
     "end_time": "2023-12-11T11:51:02.571745Z"
    }
   }
  },
  {
   "cell_type": "code",
   "execution_count": 8,
   "outputs": [],
   "source": [],
   "metadata": {
    "collapsed": false,
    "ExecuteTime": {
     "start_time": "2023-12-11T11:51:02.558125Z",
     "end_time": "2023-12-11T11:51:02.653432Z"
    }
   }
  },
  {
   "cell_type": "code",
   "execution_count": 36,
   "outputs": [
    {
     "data": {
      "text/plain": "14000"
     },
     "execution_count": 36,
     "metadata": {},
     "output_type": "execute_result"
    }
   ],
   "source": [
    "def augment_list(original_list, augmentation_percentage, balance_factor=0.15):\n",
    "    # Count the frequency of each word in the original list\n",
    "    word_counts = {}\n",
    "    for word in original_list:\n",
    "        word_counts[word] = word_counts.get(word, 0) + 1\n",
    "\n",
    "    # Identify less frequent words\n",
    "    unique_words = list(set(original_list))\n",
    "    less_frequent_words = sorted(unique_words, key=lambda x: word_counts[x])\n",
    "\n",
    "    # Determine the number of words to add for augmentation\n",
    "    num_words_to_add = int(len(original_list) * augmentation_percentage)\n",
    "\n",
    "    # Augment the list with less frequent words\n",
    "    augmented_list = original_list.copy()\n",
    "    for _ in range(num_words_to_add):\n",
    "        # Choose a word with higher probability for less frequent words\n",
    "        weights = [1/(word_counts[word]**balance_factor) for word in less_frequent_words]\n",
    "        chosen_word = random.choices(less_frequent_words, weights=weights)[0]\n",
    "        augmented_list.append(chosen_word)\n",
    "\n",
    "    return augmented_list\n",
    "\n",
    "augmented_list = augment_list(generated_corpus, 0.4)\n",
    "len(augmented_list)\n"
   ],
   "metadata": {
    "collapsed": false,
    "ExecuteTime": {
     "start_time": "2023-12-11T11:54:30.098927Z",
     "end_time": "2023-12-11T11:54:30.195143Z"
    }
   }
  },
  {
   "cell_type": "code",
   "execution_count": 37,
   "outputs": [
    {
     "data": {
      "text/plain": "Counter({'kxcld': 195,\n         'dygpr': 189,\n         'ujotq': 186,\n         'ozyuv': 184,\n         'jxdeg': 182,\n         'sfrhr': 181,\n         'ljczz': 180,\n         'xdfdm': 179,\n         'vippt': 177,\n         'pctpe': 177,\n         'xpdvr': 176,\n         'ypxiq': 175,\n         'xykav': 172,\n         'vvdpx': 171,\n         'ehhuw': 167,\n         'ahhfl': 167,\n         'hhzez': 163,\n         'dvdvf': 162,\n         'vglcv': 162,\n         'heuas': 160,\n         'hhsus': 157,\n         'jiwrv': 157,\n         'ovnkp': 155,\n         'hczpw': 154,\n         'aigue': 153,\n         'eymgr': 152,\n         'jfpgv': 151,\n         'kovqk': 151,\n         'wkitx': 147,\n         'ifoxv': 145,\n         'nqeml': 144,\n         'xbfiw': 143,\n         'wzxwg': 142,\n         'pjbhj': 141,\n         'qgjjk': 140,\n         'kowmv': 135,\n         'xnftf': 133,\n         'qzpvs': 131,\n         'wmklw': 130,\n         'jnukg': 129,\n         'bjmhm': 128,\n         'euwhm': 126,\n         'gvhxo': 126,\n         'ozzdu': 125,\n         'zkebp': 118,\n         'cbnbf': 108,\n         'ppqjb': 104,\n         'fkilk': 102,\n         'ohfvk': 100,\n         'fymxu': 96,\n         'btliq': 90,\n         'dqiob': 88,\n         'zorvx': 87,\n         'uggdx': 87,\n         'ibqeo': 86,\n         'hnzkq': 86,\n         'fcytu': 82,\n         'cnqxl': 82,\n         'qikht': 77,\n         'zzlvi': 73,\n         'bidjq': 72,\n         'milvr': 72,\n         'nwhcj': 72,\n         'onqac': 68,\n         'thwbg': 68,\n         'bushq': 66,\n         'ytjdx': 66,\n         'kxugu': 65,\n         'dqnkm': 63,\n         'ehrff': 62,\n         'ghpvm': 60,\n         'wpmlk': 59,\n         'oiith': 56,\n         'hxlzn': 54,\n         'dsmuj': 53,\n         'homtw': 52,\n         'nwkgf': 48,\n         'dwyrt': 48,\n         'fhsis': 45,\n         'iywfg': 42,\n         'qlfif': 42,\n         'yoyaq': 37,\n         'vlnfo': 35,\n         'dquvg': 35,\n         'gjirh': 34,\n         'vznby': 34,\n         'vakqk': 27,\n         'okgkk': 26,\n         'enzcj': 25,\n         'cufje': 25,\n         'iijwx': 23,\n         'xfcos': 21,\n         'mlfyq': 20,\n         'pexaj': 19,\n         'loona': 9,\n         'kbwbu': 8,\n         'mwtoo': 8,\n         'nksqn': 7,\n         'supyt': 5,\n         'ujzdz': 3})"
     },
     "execution_count": 37,
     "metadata": {},
     "output_type": "execute_result"
    }
   ],
   "source": [
    "Counter(generated_corpus)"
   ],
   "metadata": {
    "collapsed": false,
    "ExecuteTime": {
     "start_time": "2023-12-11T11:54:30.410734Z",
     "end_time": "2023-12-11T11:54:30.427636Z"
    }
   }
  },
  {
   "cell_type": "code",
   "execution_count": 38,
   "outputs": [
    {
     "data": {
      "text/plain": "Counter({'kxcld': 230,\n         'dygpr': 228,\n         'ljczz': 223,\n         'ozyuv': 222,\n         'ujotq': 218,\n         'xdfdm': 218,\n         'ypxiq': 217,\n         'pctpe': 217,\n         'sfrhr': 214,\n         'jxdeg': 211,\n         'vippt': 210,\n         'ehhuw': 210,\n         'xpdvr': 209,\n         'vvdpx': 206,\n         'ahhfl': 206,\n         'xykav': 204,\n         'hhsus': 202,\n         'jiwrv': 200,\n         'hczpw': 196,\n         'heuas': 194,\n         'hhzez': 192,\n         'eymgr': 191,\n         'kovqk': 191,\n         'dvdvf': 190,\n         'vglcv': 190,\n         'ifoxv': 189,\n         'jfpgv': 189,\n         'ovnkp': 186,\n         'nqeml': 184,\n         'aigue': 181,\n         'xnftf': 181,\n         'wzxwg': 180,\n         'pjbhj': 177,\n         'xbfiw': 175,\n         'wmklw': 175,\n         'wkitx': 173,\n         'gvhxo': 173,\n         'qgjjk': 170,\n         'bjmhm': 168,\n         'kowmv': 167,\n         'jnukg': 164,\n         'euwhm': 162,\n         'ozzdu': 160,\n         'qzpvs': 157,\n         'zkebp': 154,\n         'ppqjb': 150,\n         'cbnbf': 142,\n         'ohfvk': 142,\n         'fymxu': 137,\n         'fkilk': 133,\n         'uggdx': 131,\n         'ibqeo': 131,\n         'dqiob': 129,\n         'cnqxl': 129,\n         'hnzkq': 124,\n         'thwbg': 122,\n         'zorvx': 121,\n         'bidjq': 121,\n         'btliq': 119,\n         'qikht': 118,\n         'fcytu': 115,\n         'bushq': 115,\n         'nwhcj': 113,\n         'onqac': 111,\n         'ytjdx': 108,\n         'ehrff': 106,\n         'ghpvm': 106,\n         'zzlvi': 106,\n         'kxugu': 104,\n         'milvr': 104,\n         'oiith': 103,\n         'wpmlk': 102,\n         'dqnkm': 95,\n         'hxlzn': 94,\n         'nwkgf': 93,\n         'qlfif': 89,\n         'homtw': 88,\n         'fhsis': 87,\n         'dsmuj': 87,\n         'nksqn': 82,\n         'iywfg': 80,\n         'cufje': 77,\n         'yoyaq': 76,\n         'gjirh': 74,\n         'dwyrt': 74,\n         'vlnfo': 73,\n         'enzcj': 73,\n         'supyt': 73,\n         'ujzdz': 72,\n         'okgkk': 70,\n         'iijwx': 69,\n         'vznby': 69,\n         'dquvg': 69,\n         'vakqk': 68,\n         'mlfyq': 66,\n         'xfcos': 66,\n         'pexaj': 65,\n         'loona': 61,\n         'mwtoo': 59,\n         'kbwbu': 55})"
     },
     "execution_count": 38,
     "metadata": {},
     "output_type": "execute_result"
    }
   ],
   "source": [
    "Counter(augmented_list)"
   ],
   "metadata": {
    "collapsed": false,
    "ExecuteTime": {
     "start_time": "2023-12-11T11:54:30.871321Z",
     "end_time": "2023-12-11T11:54:30.895605Z"
    }
   }
  },
  {
   "cell_type": "code",
   "execution_count": 11,
   "outputs": [],
   "source": [],
   "metadata": {
    "collapsed": false,
    "ExecuteTime": {
     "start_time": "2023-12-11T11:51:02.777507Z",
     "end_time": "2023-12-11T11:51:02.815726Z"
    }
   }
  },
  {
   "cell_type": "code",
   "execution_count": 11,
   "outputs": [],
   "source": [],
   "metadata": {
    "collapsed": false,
    "ExecuteTime": {
     "start_time": "2023-12-11T11:51:02.793611Z",
     "end_time": "2023-12-11T11:51:02.816719Z"
    }
   }
  },
  {
   "cell_type": "code",
   "execution_count": 11,
   "outputs": [],
   "source": [],
   "metadata": {
    "collapsed": false,
    "ExecuteTime": {
     "start_time": "2023-12-11T11:51:02.809608Z",
     "end_time": "2023-12-11T11:51:02.890502Z"
    }
   }
  },
  {
   "cell_type": "code",
   "execution_count": 11,
   "outputs": [],
   "source": [],
   "metadata": {
    "collapsed": false,
    "ExecuteTime": {
     "start_time": "2023-12-11T11:51:02.826870Z",
     "end_time": "2023-12-11T11:51:02.902055Z"
    }
   }
  },
  {
   "cell_type": "code",
   "execution_count": 11,
   "outputs": [],
   "source": [],
   "metadata": {
    "collapsed": false,
    "ExecuteTime": {
     "start_time": "2023-12-11T11:51:02.841679Z",
     "end_time": "2023-12-11T11:51:02.903094Z"
    }
   }
  }
 ],
 "metadata": {
  "kernelspec": {
   "display_name": "Python 3",
   "language": "python",
   "name": "python3"
  },
  "language_info": {
   "codemirror_mode": {
    "name": "ipython",
    "version": 2
   },
   "file_extension": ".py",
   "mimetype": "text/x-python",
   "name": "python",
   "nbconvert_exporter": "python",
   "pygments_lexer": "ipython2",
   "version": "2.7.6"
  }
 },
 "nbformat": 4,
 "nbformat_minor": 0
}
