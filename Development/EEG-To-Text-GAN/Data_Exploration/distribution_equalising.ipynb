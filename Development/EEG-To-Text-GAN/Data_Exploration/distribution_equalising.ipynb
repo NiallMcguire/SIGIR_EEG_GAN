{
 "cells": [
  {
   "cell_type": "code",
   "execution_count": 1,
   "metadata": {
    "collapsed": true,
    "ExecuteTime": {
     "start_time": "2023-12-08T15:24:34.869171Z",
     "end_time": "2023-12-08T15:24:34.884083Z"
    }
   },
   "outputs": [],
   "source": [
    "import random\n",
    "from collections import Counter\n",
    "\n",
    "\n"
   ]
  },
  {
   "cell_type": "code",
   "execution_count": 36,
   "outputs": [
    {
     "data": {
      "text/plain": "Counter({'xcftb': 28,\n         'osoym': 25,\n         'ubscz': 21,\n         'lfrel': 20,\n         'egfvo': 19,\n         'vkczm': 19,\n         'fhaul': 19,\n         'umzgi': 18,\n         'yjzis': 18,\n         'imlvx': 18,\n         'gqyot': 18,\n         'gjmbm': 18,\n         'akovc': 18,\n         'kuabe': 18,\n         'bspox': 18,\n         'fynxy': 17,\n         'ynepk': 17,\n         'jbvqy': 16,\n         'ntiks': 16,\n         'uaume': 16,\n         'ntaou': 16,\n         'tkadm': 15,\n         'yciee': 15,\n         'jqlbn': 15,\n         'exhii': 15,\n         'ddpcb': 15,\n         'eompb': 15,\n         'ozyhd': 14,\n         'jqfnq': 14,\n         'qaooj': 14,\n         'nliut': 14,\n         'ruksa': 14,\n         'aubdh': 13,\n         'cpplt': 13,\n         'sctfw': 13,\n         'cpytr': 12,\n         'pctsf': 12,\n         'rolmd': 12,\n         'csbcw': 12,\n         'uirdc': 11,\n         'yytls': 11,\n         'srgzk': 11,\n         'ppejm': 11,\n         'hnzvl': 11,\n         'tstku': 11,\n         'puvbr': 11,\n         'kbgfo': 11,\n         'lcaja': 10,\n         'dzybm': 10,\n         'irskg': 10,\n         'yvluz': 10,\n         'zryiq': 10,\n         'eghkb': 10,\n         'spocw': 9,\n         'btpld': 9,\n         'jbtix': 8,\n         'nsbsd': 8,\n         'khrso': 8,\n         'ahksm': 8,\n         'nqgff': 8,\n         'uitai': 8,\n         'ofehc': 7,\n         'elnnt': 7,\n         'atibm': 7,\n         'vuqwg': 7,\n         'afewg': 7,\n         'jigwg': 7,\n         'pvdli': 6,\n         'gdcsh': 6,\n         'wloyj': 6,\n         'jplef': 6,\n         'yuzuk': 6,\n         'uomhl': 6,\n         'btvan': 6,\n         'qrnsi': 5,\n         'zuxiv': 5,\n         'czqha': 5,\n         'ravbz': 5,\n         'zvlxl': 5,\n         'vbkbp': 4,\n         'kixss': 4,\n         'okyuo': 4,\n         'rmwzs': 3,\n         'ugpxh': 3,\n         'aattx': 2,\n         'mprpe': 2,\n         'dcxpc': 2,\n         'cpnbm': 2,\n         'yzoep': 1,\n         'oefqx': 1,\n         'xpvue': 1,\n         'fvzwr': 1,\n         'zggab': 1,\n         'ytjck': 1,\n         'gcxwz': 1,\n         'jwlwc': 1,\n         'ktjph': 1,\n         'jvtiy': 1,\n         'zfhqd': 1})"
     },
     "execution_count": 36,
     "metadata": {},
     "output_type": "execute_result"
    }
   ],
   "source": [
    "import random\n",
    "import string\n",
    "\n",
    "def generate_corpus(max_frequency=100, corpus_size=1000):\n",
    "    \"\"\"\n",
    "    Generate a corpus of words with varying frequencies.\n",
    "\n",
    "    Parameters:\n",
    "    - max_frequency: The maximum frequency for any word (default is 100).\n",
    "    - corpus_size: The size of the generated corpus (default is 1000).\n",
    "\n",
    "    Returns:\n",
    "    A list representing the generated corpus.\n",
    "    \"\"\"\n",
    "    # Generate a vocabulary of unique words (up to 100)\n",
    "    vocabulary_size = min(100, corpus_size)\n",
    "    vocabulary = [''.join(random.choice(string.ascii_lowercase) for _ in range(5)) for _ in range(vocabulary_size)]\n",
    "\n",
    "    # Generate frequencies for each word\n",
    "    frequencies = {word: random.randint(1, max_frequency) for word in vocabulary}\n",
    "\n",
    "    # Create the corpus\n",
    "    corpus = []\n",
    "    for word, frequency in frequencies.items():\n",
    "        corpus.extend([word] * frequency)\n",
    "\n",
    "    # Shuffle the corpus to randomize word order\n",
    "    random.shuffle(corpus)\n",
    "\n",
    "    # Trim the corpus to the specified size\n",
    "    corpus = corpus[:corpus_size]\n",
    "\n",
    "    return corpus\n",
    "\n",
    "# Example usage\n",
    "generated_corpus = generate_corpus(max_frequency=1000, corpus_size=1000)\n",
    "Counter(generated_corpus)  # Count the occurrences of each word in the generated corpus"
   ],
   "metadata": {
    "collapsed": false,
    "ExecuteTime": {
     "start_time": "2023-12-08T16:02:45.787164Z",
     "end_time": "2023-12-08T16:02:45.855569Z"
    }
   }
  },
  {
   "cell_type": "code",
   "execution_count": 37,
   "outputs": [],
   "source": [
    "from collections import Counter\n",
    "\n",
    "def equalise_word_count(words, augmentation_factor=20):\n",
    "    # Count the occurrences of each word\n",
    "    word_counts = Counter(words)\n",
    "    new_list = words.copy()\n",
    "    max_word = max(word_counts.values())\n",
    "\n",
    "    # Augment the corpus by adding additional copies of each word\n",
    "    for word, count in word_counts.items():\n",
    "        new_list.extend([word] * (augmentation_factor * (max_word - count)))\n",
    "\n",
    "    # Shuffle the corpus to randomize word order\n",
    "    random.shuffle(new_list)\n",
    "\n",
    "    return new_list\n",
    "\n",
    "\n"
   ],
   "metadata": {
    "collapsed": false,
    "ExecuteTime": {
     "start_time": "2023-12-08T16:02:50.604335Z",
     "end_time": "2023-12-08T16:02:50.620663Z"
    }
   }
  },
  {
   "cell_type": "code",
   "execution_count": 38,
   "outputs": [
    {
     "data": {
      "text/plain": "Counter({'yzoep': 541,\n         'zfhqd': 541,\n         'jwlwc': 541,\n         'oefqx': 541,\n         'gcxwz': 541,\n         'xpvue': 541,\n         'ytjck': 541,\n         'ktjph': 541,\n         'fvzwr': 541,\n         'zggab': 541,\n         'jvtiy': 541,\n         'dcxpc': 522,\n         'cpnbm': 522,\n         'mprpe': 522,\n         'aattx': 522,\n         'rmwzs': 503,\n         'ugpxh': 503,\n         'vbkbp': 484,\n         'kixss': 484,\n         'okyuo': 484,\n         'ravbz': 465,\n         'czqha': 465,\n         'qrnsi': 465,\n         'zuxiv': 465,\n         'zvlxl': 465,\n         'pvdli': 446,\n         'uomhl': 446,\n         'jplef': 446,\n         'gdcsh': 446,\n         'btvan': 446,\n         'wloyj': 446,\n         'yuzuk': 446,\n         'afewg': 427,\n         'ofehc': 427,\n         'elnnt': 427,\n         'vuqwg': 427,\n         'atibm': 427,\n         'jigwg': 427,\n         'khrso': 408,\n         'uitai': 408,\n         'nqgff': 408,\n         'nsbsd': 408,\n         'ahksm': 408,\n         'jbtix': 408,\n         'spocw': 389,\n         'btpld': 389,\n         'zryiq': 370,\n         'irskg': 370,\n         'lcaja': 370,\n         'dzybm': 370,\n         'yvluz': 370,\n         'eghkb': 370,\n         'tstku': 351,\n         'kbgfo': 351,\n         'srgzk': 351,\n         'puvbr': 351,\n         'hnzvl': 351,\n         'uirdc': 351,\n         'ppejm': 351,\n         'yytls': 351,\n         'csbcw': 332,\n         'cpytr': 332,\n         'rolmd': 332,\n         'pctsf': 332,\n         'aubdh': 313,\n         'sctfw': 313,\n         'cpplt': 313,\n         'jqfnq': 294,\n         'nliut': 294,\n         'ruksa': 294,\n         'qaooj': 294,\n         'ozyhd': 294,\n         'tkadm': 275,\n         'eompb': 275,\n         'ddpcb': 275,\n         'yciee': 275,\n         'exhii': 275,\n         'jqlbn': 275,\n         'jbvqy': 256,\n         'ntaou': 256,\n         'uaume': 256,\n         'ntiks': 256,\n         'fynxy': 237,\n         'ynepk': 237,\n         'umzgi': 218,\n         'bspox': 218,\n         'imlvx': 218,\n         'gqyot': 218,\n         'akovc': 218,\n         'yjzis': 218,\n         'gjmbm': 218,\n         'kuabe': 218,\n         'vkczm': 199,\n         'fhaul': 199,\n         'egfvo': 199,\n         'lfrel': 180,\n         'ubscz': 161,\n         'osoym': 85,\n         'xcftb': 28})"
     },
     "execution_count": 38,
     "metadata": {},
     "output_type": "execute_result"
    }
   ],
   "source": [
    "\n",
    "output_words = equalise_word_count(generated_corpus)\n",
    "\n",
    "Counter(output_words)"
   ],
   "metadata": {
    "collapsed": false,
    "ExecuteTime": {
     "start_time": "2023-12-08T16:02:51.021550Z",
     "end_time": "2023-12-08T16:02:51.037568Z"
    }
   }
  },
  {
   "cell_type": "code",
   "execution_count": 91,
   "outputs": [],
   "source": [
    "from math import floor\n",
    "\n",
    "\n",
    "def weighted_corpus_augmentation(corpus, augmentation_factor):\n",
    "    # Count the occurrences of each word in the original corpus\n",
    "    word_counts = Counter(corpus)\n",
    "    augmented_corpus = []\n",
    "\n",
    "    # Calculate weights for each word based on its frequency\n",
    "    total_words = len(corpus)\n",
    "    weights = {word: count / total_words for word, count in word_counts.items()}\n",
    "    augmentation_size = int(augmentation_factor * total_words)\n",
    "    print(augmentation_size)\n",
    "    max_weight = max(weights.values())\n",
    "    max_scaled = max_weight * augmentation_size\n",
    "    max_inverse = int(floor(1/max_scaled))\n",
    "\n",
    "    for word, weight in weights.items():\n",
    "        if len(augmented_corpus) < augmentation_size:\n",
    "            scaled = weight * augmentation_size\n",
    "            inverse = int(floor(1/scaled))\n",
    "            print(inverse)\n",
    "            if inverse > 1 and len(augmented_corpus) + inverse <= augmentation_size:\n",
    "                augmented_corpus.extend([word] * inverse)\n",
    "        else:\n",
    "            break\n",
    "\n",
    "    augmented_corpus = corpus + augmented_corpus\n",
    "    return augmented_corpus"
   ],
   "metadata": {
    "collapsed": false,
    "ExecuteTime": {
     "start_time": "2023-12-08T16:17:00.880244Z",
     "end_time": "2023-12-08T16:17:00.900280Z"
    }
   }
  },
  {
   "cell_type": "code",
   "execution_count": 95,
   "outputs": [],
   "source": [
    "augmented_corpus = weighted_corpus_augmentation(generated_corpus, augmentation_factor=0.1)\n",
    "print(len(augmented_corpus))"
   ],
   "metadata": {
    "collapsed": false,
    "ExecuteTime": {
     "start_time": "2023-12-08T16:17:19.596741Z",
     "end_time": "2023-12-08T16:17:19.599190Z"
    }
   }
  },
  {
   "cell_type": "code",
   "execution_count": 95,
   "outputs": [],
   "source": [
    "Counter(generated_corpus)"
   ],
   "metadata": {
    "collapsed": false,
    "ExecuteTime": {
     "start_time": "2023-12-08T16:17:21.289701Z",
     "end_time": "2023-12-08T16:17:21.309903Z"
    }
   }
  },
  {
   "cell_type": "code",
   "execution_count": 94,
   "outputs": [
    {
     "data": {
      "text/plain": "Counter({'xcftb': 28,\n         'osoym': 25,\n         'ubscz': 21,\n         'lfrel': 20,\n         'egfvo': 19,\n         'vkczm': 19,\n         'fhaul': 19,\n         'umzgi': 18,\n         'yjzis': 18,\n         'imlvx': 18,\n         'gqyot': 18,\n         'gjmbm': 18,\n         'akovc': 18,\n         'kuabe': 18,\n         'bspox': 18,\n         'fynxy': 17,\n         'ynepk': 17,\n         'jbvqy': 16,\n         'ntiks': 16,\n         'uaume': 16,\n         'ntaou': 16,\n         'tkadm': 15,\n         'yciee': 15,\n         'jqlbn': 15,\n         'exhii': 15,\n         'ddpcb': 15,\n         'eompb': 15,\n         'ozyhd': 14,\n         'jqfnq': 14,\n         'qaooj': 14,\n         'nliut': 14,\n         'ruksa': 14,\n         'aubdh': 13,\n         'cpplt': 13,\n         'sctfw': 13,\n         'cpytr': 12,\n         'pctsf': 12,\n         'rolmd': 12,\n         'csbcw': 12,\n         'uirdc': 11,\n         'yytls': 11,\n         'srgzk': 11,\n         'ppejm': 11,\n         'hnzvl': 11,\n         'tstku': 11,\n         'puvbr': 11,\n         'kbgfo': 11,\n         'lcaja': 10,\n         'dzybm': 10,\n         'irskg': 10,\n         'yvluz': 10,\n         'zryiq': 10,\n         'eghkb': 10,\n         'spocw': 9,\n         'btpld': 9,\n         'jbtix': 8,\n         'nsbsd': 8,\n         'khrso': 8,\n         'ahksm': 8,\n         'nqgff': 8,\n         'uitai': 8,\n         'ofehc': 7,\n         'elnnt': 7,\n         'atibm': 7,\n         'vuqwg': 7,\n         'afewg': 7,\n         'jigwg': 7,\n         'pvdli': 6,\n         'gdcsh': 6,\n         'wloyj': 6,\n         'jplef': 6,\n         'yuzuk': 6,\n         'uomhl': 6,\n         'btvan': 6,\n         'qrnsi': 5,\n         'zuxiv': 5,\n         'czqha': 5,\n         'ravbz': 5,\n         'zvlxl': 5,\n         'vbkbp': 4,\n         'kixss': 4,\n         'okyuo': 4,\n         'rmwzs': 3,\n         'ugpxh': 3,\n         'aattx': 2,\n         'mprpe': 2,\n         'dcxpc': 2,\n         'cpnbm': 2,\n         'yzoep': 1,\n         'oefqx': 1,\n         'xpvue': 1,\n         'fvzwr': 1,\n         'zggab': 1,\n         'ytjck': 1,\n         'gcxwz': 1,\n         'jwlwc': 1,\n         'ktjph': 1,\n         'jvtiy': 1,\n         'zfhqd': 1})"
     },
     "execution_count": 94,
     "metadata": {},
     "output_type": "execute_result"
    }
   ],
   "source": [
    "Counter(augmented_corpus)"
   ],
   "metadata": {
    "collapsed": false,
    "ExecuteTime": {
     "start_time": "2023-12-08T16:17:03.676237Z",
     "end_time": "2023-12-08T16:17:03.699484Z"
    }
   }
  },
  {
   "cell_type": "code",
   "execution_count": 49,
   "outputs": [],
   "source": [],
   "metadata": {
    "collapsed": false,
    "ExecuteTime": {
     "start_time": "2023-12-08T16:04:26.539079Z",
     "end_time": "2023-12-08T16:04:26.555574Z"
    }
   }
  },
  {
   "cell_type": "code",
   "execution_count": 98,
   "outputs": [],
   "source": [],
   "metadata": {
    "collapsed": false,
    "ExecuteTime": {
     "start_time": "2023-12-08T16:19:29.127488Z",
     "end_time": "2023-12-08T16:19:29.165497Z"
    }
   }
  },
  {
   "cell_type": "code",
   "execution_count": 98,
   "outputs": [],
   "source": [],
   "metadata": {
    "collapsed": false,
    "ExecuteTime": {
     "start_time": "2023-12-08T16:19:26.762328Z",
     "end_time": "2023-12-08T16:19:26.779242Z"
    }
   }
  },
  {
   "cell_type": "code",
   "execution_count": 35,
   "outputs": [
    {
     "data": {
      "text/plain": "Counter({'ihqqe': 12776351,\n         'enjdu': 10373332,\n         'pknef': 8609176,\n         'gndzl': 8609114,\n         'ftnph': 7419216,\n         'tiyle': 7418967,\n         'uvxab': 6526057,\n         'olznx': 4821156,\n         'rjvsn': 4442220,\n         'sxyaq': 4121867,\n         'uiqhr': 4121620,\n         'vagzl': 3054421,\n         'poozk': 3053822,\n         'uomnu': 3053770,\n         'rgifa': 2359940,\n         'oeuwr': 2359236,\n         'pjosw': 2276208,\n         'fzuof': 2199281,\n         'pkuxr': 2198556,\n         'rqstp': 2129017,\n         'ywpdg': 2000108,\n         'lfypo': 1942482,\n         'ulota': 1665608,\n         'ulxyp': 1592441,\n         'sxwsb': 1557522,\n         'fyoik': 1412807,\n         'nfbbv': 1362739,\n         'mbthe': 1317288,\n         'vibyb': 1237895,\n         'fzgjd': 1184924,\n         'zhnrv': 1138223,\n         'jahyy': 1083133,\n         'czinc': 970394,\n         'mgdnk': 942627,\n         'aegpb': 925258,\n         'hrbfm': 916840,\n         'eefxd': 909159,\n         'pkewu': 892715,\n         'mzizi': 863745,\n         'xufnp': 857471,\n         'fpsal': 849656,\n         'etkbf': 838532,\n         'jraqq': 837145,\n         'ioopi': 824746,\n         'esthe': 818318,\n         'whlfg': 780716,\n         'birfm': 767622,\n         'rgqmo': 766260,\n         'mwdws': 761280,\n         'jvilz': 752157,\n         'weljt': 747478,\n         'qylsx': 731694,\n         'rywaj': 711736,\n         'mtpqe': 710421,\n         'tlera': 706738,\n         'lsxvb': 699537,\n         'qcimc': 689810,\n         'zgvbo': 689769,\n         'vlutg': 686170,\n         'dboag': 682634,\n         'lkleu': 682468,\n         'xjtyb': 679358,\n         'tcauf': 667131,\n         'ptzwa': 666297,\n         'fvgcq': 661583,\n         'tlfor': 655209,\n         'nhvme': 646362,\n         'fxxrb': 637792,\n         'plnps': 632991,\n         'ibsyo': 627451,\n         'kpspi': 625288,\n         'jdgsg': 622480,\n         'buydn': 618499,\n         'bjtak': 616730,\n         'mdpxe': 616673,\n         'ynejg': 614279,\n         'cfyeu': 614040,\n         'nwwvj': 611169,\n         'mjeeh': 611024,\n         'hywvq': 603317,\n         'xdsrk': 603260,\n         'drzhx': 594923,\n         'oyqym': 592579,\n         'axaxs': 592365,\n         'tplue': 584204,\n         'fojhs': 581225,\n         'mjjwx': 579389,\n         'lrgvt': 568288,\n         'pokki': 566391,\n         'jkvym': 566106,\n         'rvkcm': 555751,\n         'ntvfk': 555524,\n         'mrqqe': 543309,\n         'ppgqi': 541273,\n         'raqmi': 539393,\n         'ezjhb': 537827,\n         'nglbs': 516565,\n         'vfxob': 515183,\n         'xdnbu': 501511,\n         'kqtoi': 498224})"
     },
     "execution_count": 35,
     "metadata": {},
     "output_type": "execute_result"
    }
   ],
   "source": [
    "Counter(augmented_corpus)"
   ],
   "metadata": {
    "collapsed": false,
    "ExecuteTime": {
     "start_time": "2023-12-08T15:52:20.044880Z",
     "end_time": "2023-12-08T15:52:25.113564Z"
    }
   }
  },
  {
   "cell_type": "code",
   "execution_count": 111,
   "outputs": [],
   "source": [
    "import random\n",
    "\n",
    "def augment_list(original_list, augmentation_percentage):\n",
    "    # Count the frequency of each word in the original list\n",
    "    word_counts = {}\n",
    "    for word in original_list:\n",
    "        word_counts[word] = word_counts.get(word, 0) + 1\n",
    "\n",
    "    # Identify less frequent words\n",
    "    unique_words = list(set(original_list))\n",
    "    less_frequent_words = sorted(unique_words, key=lambda x: word_counts[x])\n",
    "\n",
    "    # Determine the number of words to add for augmentation\n",
    "    num_words_to_add = int(len(original_list) * augmentation_percentage)\n",
    "\n",
    "    # Augment the list with less frequent words\n",
    "    augmented_list = original_list.copy()\n",
    "    for _ in range(num_words_to_add):\n",
    "        # Choose a word with higher probability for less frequent words\n",
    "        chosen_word = random.choices(less_frequent_words)[0]\n",
    "        augmented_list.append(chosen_word)\n",
    "\n",
    "    return augmented_list\n",
    "\n",
    "# Example usage\n",
    "original_list = [\"apple\", \"banana\", \"orange\", \"apple\", \"grape\", \"banana\", \"apple\"]\n",
    "augmented_list = augment_list(generated_corpus, 0.5)\n",
    "\n",
    "\n"
   ],
   "metadata": {
    "collapsed": false,
    "ExecuteTime": {
     "start_time": "2023-12-08T16:30:24.066176Z",
     "end_time": "2023-12-08T16:30:24.098914Z"
    }
   }
  },
  {
   "cell_type": "code",
   "execution_count": 112,
   "outputs": [
    {
     "data": {
      "text/plain": "1500"
     },
     "execution_count": 112,
     "metadata": {},
     "output_type": "execute_result"
    }
   ],
   "source": [
    "len(augmented_list)"
   ],
   "metadata": {
    "collapsed": false,
    "ExecuteTime": {
     "start_time": "2023-12-08T16:30:24.379088Z",
     "end_time": "2023-12-08T16:30:24.399565Z"
    }
   }
  },
  {
   "cell_type": "code",
   "execution_count": 113,
   "outputs": [
    {
     "data": {
      "text/plain": "Counter({'xcftb': 28,\n         'osoym': 25,\n         'ubscz': 21,\n         'lfrel': 20,\n         'egfvo': 19,\n         'vkczm': 19,\n         'fhaul': 19,\n         'umzgi': 18,\n         'yjzis': 18,\n         'imlvx': 18,\n         'gqyot': 18,\n         'gjmbm': 18,\n         'akovc': 18,\n         'kuabe': 18,\n         'bspox': 18,\n         'fynxy': 17,\n         'ynepk': 17,\n         'jbvqy': 16,\n         'ntiks': 16,\n         'uaume': 16,\n         'ntaou': 16,\n         'tkadm': 15,\n         'yciee': 15,\n         'jqlbn': 15,\n         'exhii': 15,\n         'ddpcb': 15,\n         'eompb': 15,\n         'ozyhd': 14,\n         'jqfnq': 14,\n         'qaooj': 14,\n         'nliut': 14,\n         'ruksa': 14,\n         'aubdh': 13,\n         'cpplt': 13,\n         'sctfw': 13,\n         'cpytr': 12,\n         'pctsf': 12,\n         'rolmd': 12,\n         'csbcw': 12,\n         'uirdc': 11,\n         'yytls': 11,\n         'srgzk': 11,\n         'ppejm': 11,\n         'hnzvl': 11,\n         'tstku': 11,\n         'puvbr': 11,\n         'kbgfo': 11,\n         'lcaja': 10,\n         'dzybm': 10,\n         'irskg': 10,\n         'yvluz': 10,\n         'zryiq': 10,\n         'eghkb': 10,\n         'spocw': 9,\n         'btpld': 9,\n         'jbtix': 8,\n         'nsbsd': 8,\n         'khrso': 8,\n         'ahksm': 8,\n         'nqgff': 8,\n         'uitai': 8,\n         'ofehc': 7,\n         'elnnt': 7,\n         'atibm': 7,\n         'vuqwg': 7,\n         'afewg': 7,\n         'jigwg': 7,\n         'pvdli': 6,\n         'gdcsh': 6,\n         'wloyj': 6,\n         'jplef': 6,\n         'yuzuk': 6,\n         'uomhl': 6,\n         'btvan': 6,\n         'qrnsi': 5,\n         'zuxiv': 5,\n         'czqha': 5,\n         'ravbz': 5,\n         'zvlxl': 5,\n         'vbkbp': 4,\n         'kixss': 4,\n         'okyuo': 4,\n         'rmwzs': 3,\n         'ugpxh': 3,\n         'aattx': 2,\n         'mprpe': 2,\n         'dcxpc': 2,\n         'cpnbm': 2,\n         'yzoep': 1,\n         'oefqx': 1,\n         'xpvue': 1,\n         'fvzwr': 1,\n         'zggab': 1,\n         'ytjck': 1,\n         'gcxwz': 1,\n         'jwlwc': 1,\n         'ktjph': 1,\n         'jvtiy': 1,\n         'zfhqd': 1})"
     },
     "execution_count": 113,
     "metadata": {},
     "output_type": "execute_result"
    }
   ],
   "source": [
    "Counter(generated_corpus)"
   ],
   "metadata": {
    "collapsed": false,
    "ExecuteTime": {
     "start_time": "2023-12-08T16:30:24.800554Z",
     "end_time": "2023-12-08T16:30:24.829989Z"
    }
   }
  },
  {
   "cell_type": "code",
   "execution_count": 114,
   "outputs": [
    {
     "data": {
      "text/plain": "Counter({'xcftb': 35,\n         'osoym': 31,\n         'egfvo': 28,\n         'vkczm': 28,\n         'imlvx': 27,\n         'lfrel': 27,\n         'bspox': 27,\n         'ubscz': 26,\n         'eompb': 25,\n         'fynxy': 24,\n         'fhaul': 23,\n         'umzgi': 22,\n         'yjzis': 22,\n         'gqyot': 22,\n         'ozyhd': 22,\n         'irskg': 22,\n         'gjmbm': 22,\n         'jbvqy': 21,\n         'akovc': 21,\n         'yytls': 20,\n         'tkadm': 20,\n         'ntaou': 20,\n         'yciee': 20,\n         'kuabe': 20,\n         'exhii': 20,\n         'puvbr': 20,\n         'jqfnq': 19,\n         'pctsf': 19,\n         'jqlbn': 19,\n         'ruksa': 19,\n         'ynepk': 19,\n         'ddpcb': 19,\n         'csbcw': 19,\n         'aubdh': 18,\n         'uaume': 18,\n         'nliut': 18,\n         'tstku': 18,\n         'kbgfo': 18,\n         'ntiks': 17,\n         'qaooj': 17,\n         'cpytr': 17,\n         'hnzvl': 17,\n         'lcaja': 16,\n         'dzybm': 16,\n         'cpplt': 16,\n         'sctfw': 16,\n         'ppejm': 15,\n         'yvluz': 15,\n         'zryiq': 15,\n         'spocw': 15,\n         'btpld': 15,\n         'srgzk': 14,\n         'khrso': 14,\n         'rolmd': 14,\n         'uirdc': 13,\n         'nsbsd': 13,\n         'ahksm': 13,\n         'nqgff': 13,\n         'uitai': 13,\n         'elnnt': 12,\n         'vuqwg': 12,\n         'eghkb': 12,\n         'fvzwr': 12,\n         'jbtix': 11,\n         'zuxiv': 11,\n         'atibm': 11,\n         'czqha': 11,\n         'wloyj': 11,\n         'mprpe': 11,\n         'uomhl': 11,\n         'zvlxl': 11,\n         'okyuo': 11,\n         'jigwg': 11,\n         'ofehc': 10,\n         'btvan': 10,\n         'afewg': 10,\n         'qrnsi': 9,\n         'pvdli': 9,\n         'gdcsh': 9,\n         'vbkbp': 9,\n         'ravbz': 9,\n         'oefqx': 8,\n         'jplef': 8,\n         'yuzuk': 8,\n         'xpvue': 8,\n         'cpnbm': 8,\n         'aattx': 7,\n         'kixss': 7,\n         'ugpxh': 7,\n         'dcxpc': 7,\n         'zggab': 7,\n         'ytjck': 6,\n         'gcxwz': 6,\n         'zfhqd': 6,\n         'yzoep': 5,\n         'rmwzs': 5,\n         'jwlwc': 5,\n         'ktjph': 5,\n         'jvtiy': 2})"
     },
     "execution_count": 114,
     "metadata": {},
     "output_type": "execute_result"
    }
   ],
   "source": [
    "Counter(augmented_list)"
   ],
   "metadata": {
    "collapsed": false,
    "ExecuteTime": {
     "start_time": "2023-12-08T16:30:25.586437Z",
     "end_time": "2023-12-08T16:30:25.604869Z"
    }
   }
  },
  {
   "cell_type": "code",
   "execution_count": null,
   "outputs": [],
   "source": [],
   "metadata": {
    "collapsed": false
   }
  }
 ],
 "metadata": {
  "kernelspec": {
   "display_name": "Python 3",
   "language": "python",
   "name": "python3"
  },
  "language_info": {
   "codemirror_mode": {
    "name": "ipython",
    "version": 2
   },
   "file_extension": ".py",
   "mimetype": "text/x-python",
   "name": "python",
   "nbconvert_exporter": "python",
   "pygments_lexer": "ipython2",
   "version": "2.7.6"
  }
 },
 "nbformat": 4,
 "nbformat_minor": 0
}
