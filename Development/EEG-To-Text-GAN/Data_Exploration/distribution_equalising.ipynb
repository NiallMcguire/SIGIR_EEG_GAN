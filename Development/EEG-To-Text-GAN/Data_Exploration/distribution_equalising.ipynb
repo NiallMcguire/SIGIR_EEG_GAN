{
 "cells": [
  {
   "cell_type": "code",
   "execution_count": 42,
   "metadata": {
    "collapsed": true,
    "ExecuteTime": {
     "start_time": "2023-12-11T12:32:34.154259Z",
     "end_time": "2023-12-11T12:32:34.210281Z"
    }
   },
   "outputs": [],
   "source": [
    "import random\n",
    "from collections import Counter\n",
    "\n",
    "\n"
   ]
  },
  {
   "cell_type": "code",
   "execution_count": 43,
   "outputs": [
    {
     "data": {
      "text/plain": "Counter({'dlnyt': 203,\n         'ottvf': 199,\n         'hrslo': 192,\n         'heumq': 187,\n         'jvxdv': 186,\n         'ucqav': 185,\n         'vcxcz': 185,\n         'spgaw': 184,\n         'gmgkf': 184,\n         'ciqjw': 181,\n         'wjnmr': 180,\n         'usxhb': 180,\n         'pxxlv': 178,\n         'fmwjv': 177,\n         'gwftl': 176,\n         'dbslb': 169,\n         'fcspj': 167,\n         'tsqns': 160,\n         'zjext': 158,\n         'zdxjc': 158,\n         'igcev': 153,\n         'xwtwi': 152,\n         'bxore': 149,\n         'eehip': 145,\n         'htktu': 143,\n         'yxpqv': 143,\n         'aubqy': 140,\n         'kuutg': 140,\n         'hraqq': 139,\n         'wtdop': 137,\n         'rpgjm': 136,\n         'dshab': 136,\n         'lfkip': 135,\n         'tbuuu': 135,\n         'omymr': 134,\n         'dulqr': 133,\n         'reugs': 133,\n         'ycauj': 125,\n         'uecwm': 124,\n         'stqgi': 124,\n         'prnqc': 122,\n         'nfgsa': 118,\n         'lrvpv': 116,\n         'eqcnj': 115,\n         'ekhey': 111,\n         'cclgi': 111,\n         'bkfyi': 109,\n         'tonvf': 106,\n         'uyhuu': 102,\n         'qirwm': 99,\n         'jlvxp': 99,\n         'toksk': 96,\n         'ayedn': 96,\n         'vyzds': 88,\n         'sqkxt': 87,\n         'mskxv': 85,\n         'gnabt': 84,\n         'smwey': 82,\n         'zlkzq': 82,\n         'gtfro': 82,\n         'pnkvx': 80,\n         'qnmhl': 79,\n         'vxipp': 74,\n         'keksy': 72,\n         'kecee': 71,\n         'rnplh': 70,\n         'ydfxp': 69,\n         'rqcck': 69,\n         'wwmbd': 68,\n         'mzpak': 60,\n         'vcqis': 59,\n         'iigmv': 50,\n         'yniiz': 48,\n         'okvpp': 48,\n         'mjhgi': 46,\n         'irfrw': 46,\n         'bmusd': 46,\n         'kxabg': 46,\n         'zmerx': 41,\n         'uhabn': 41,\n         'yqbxm': 41,\n         'zcabt': 37,\n         'ozyfd': 37,\n         'thwzc': 36,\n         'eyeyq': 35,\n         'eyxic': 34,\n         'zzxfb': 33,\n         'nsyue': 31,\n         'zfpve': 29,\n         'edkax': 26,\n         'tkiuc': 23,\n         'pynaz': 22,\n         'jffsh': 21,\n         'ahscp': 21,\n         'iqgln': 15,\n         'ztxha': 13,\n         'toqlh': 10,\n         'txroj': 9,\n         'tnyev': 8,\n         'wbkek': 1})"
     },
     "execution_count": 43,
     "metadata": {},
     "output_type": "execute_result"
    }
   ],
   "source": [
    "import random\n",
    "import string\n",
    "\n",
    "def generate_corpus(max_frequency=100, corpus_size=1000):\n",
    "    \"\"\"\n",
    "    Generate a corpus of words with varying frequencies.\n",
    "\n",
    "    Parameters:\n",
    "    - max_frequency: The maximum frequency for any word (default is 100).\n",
    "    - corpus_size: The size of the generated corpus (default is 1000).\n",
    "\n",
    "    Returns:\n",
    "    A list representing the generated corpus.\n",
    "    \"\"\"\n",
    "    # Generate a vocabulary of unique words (up to 100)\n",
    "    vocabulary_size = min(100, corpus_size)\n",
    "    vocabulary = [''.join(random.choice(string.ascii_lowercase) for _ in range(5)) for _ in range(vocabulary_size)]\n",
    "\n",
    "    # Generate frequencies for each word\n",
    "    frequencies = {word: random.randint(1, max_frequency) for word in vocabulary}\n",
    "\n",
    "    # Create the corpus\n",
    "    corpus = []\n",
    "    for word, frequency in frequencies.items():\n",
    "        corpus.extend([word] * frequency)\n",
    "\n",
    "    # Shuffle the corpus to randomize word order\n",
    "    random.shuffle(corpus)\n",
    "\n",
    "    # Trim the corpus to the specified size\n",
    "    corpus = corpus[:corpus_size]\n",
    "\n",
    "    return corpus\n",
    "\n",
    "# Example usage\n",
    "generated_corpus = generate_corpus(max_frequency=1000, corpus_size=10000)\n",
    "Counter(generated_corpus)  # Count the occurrences of each word in the generated corpus"
   ],
   "metadata": {
    "collapsed": false,
    "ExecuteTime": {
     "start_time": "2023-12-11T12:32:34.415435Z",
     "end_time": "2023-12-11T12:32:34.495871Z"
    }
   }
  },
  {
   "cell_type": "code",
   "execution_count": 44,
   "outputs": [],
   "source": [
    "from collections import Counter\n",
    "\n",
    "def equalise_word_count(words, augmentation_factor=20):\n",
    "    # Count the occurrences of each word\n",
    "    word_counts = Counter(words)\n",
    "    new_list = words.copy()\n",
    "    max_word = max(word_counts.values())\n",
    "\n",
    "    # Augment the corpus by adding additional copies of each word\n",
    "    for word, count in word_counts.items():\n",
    "        new_list.extend([word] * (augmentation_factor * (max_word - count)))\n",
    "\n",
    "    # Shuffle the corpus to randomize word order\n",
    "    random.shuffle(new_list)\n",
    "\n",
    "    return new_list\n",
    "\n",
    "\n"
   ],
   "metadata": {
    "collapsed": false,
    "ExecuteTime": {
     "start_time": "2023-12-11T12:32:39.590766Z",
     "end_time": "2023-12-11T12:32:39.618855Z"
    }
   }
  },
  {
   "cell_type": "code",
   "execution_count": 45,
   "outputs": [
    {
     "data": {
      "text/plain": "Counter({'wbkek': 4041,\n         'tnyev': 3908,\n         'txroj': 3889,\n         'toqlh': 3870,\n         'ztxha': 3813,\n         'iqgln': 3775,\n         'jffsh': 3661,\n         'ahscp': 3661,\n         'pynaz': 3642,\n         'tkiuc': 3623,\n         'edkax': 3566,\n         'zfpve': 3509,\n         'nsyue': 3471,\n         'zzxfb': 3433,\n         'eyxic': 3414,\n         'eyeyq': 3395,\n         'thwzc': 3376,\n         'ozyfd': 3357,\n         'zcabt': 3357,\n         'yqbxm': 3281,\n         'uhabn': 3281,\n         'zmerx': 3281,\n         'irfrw': 3186,\n         'bmusd': 3186,\n         'mjhgi': 3186,\n         'kxabg': 3186,\n         'yniiz': 3148,\n         'okvpp': 3148,\n         'iigmv': 3110,\n         'vcqis': 2939,\n         'mzpak': 2920,\n         'wwmbd': 2768,\n         'ydfxp': 2749,\n         'rqcck': 2749,\n         'rnplh': 2730,\n         'kecee': 2711,\n         'keksy': 2692,\n         'vxipp': 2654,\n         'qnmhl': 2559,\n         'pnkvx': 2540,\n         'smwey': 2502,\n         'zlkzq': 2502,\n         'gtfro': 2502,\n         'gnabt': 2464,\n         'mskxv': 2445,\n         'sqkxt': 2407,\n         'vyzds': 2388,\n         'toksk': 2236,\n         'ayedn': 2236,\n         'qirwm': 2179,\n         'jlvxp': 2179,\n         'uyhuu': 2122,\n         'tonvf': 2046,\n         'bkfyi': 1989,\n         'cclgi': 1951,\n         'ekhey': 1951,\n         'eqcnj': 1875,\n         'lrvpv': 1856,\n         'nfgsa': 1818,\n         'prnqc': 1742,\n         'uecwm': 1704,\n         'stqgi': 1704,\n         'ycauj': 1685,\n         'dulqr': 1533,\n         'reugs': 1533,\n         'omymr': 1514,\n         'lfkip': 1495,\n         'tbuuu': 1495,\n         'dshab': 1476,\n         'rpgjm': 1476,\n         'wtdop': 1457,\n         'hraqq': 1419,\n         'aubqy': 1400,\n         'kuutg': 1400,\n         'htktu': 1343,\n         'yxpqv': 1343,\n         'eehip': 1305,\n         'bxore': 1229,\n         'xwtwi': 1172,\n         'igcev': 1153,\n         'zjext': 1058,\n         'zdxjc': 1058,\n         'tsqns': 1020,\n         'fcspj': 887,\n         'dbslb': 849,\n         'gwftl': 716,\n         'fmwjv': 697,\n         'pxxlv': 678,\n         'usxhb': 640,\n         'wjnmr': 640,\n         'ciqjw': 621,\n         'spgaw': 564,\n         'gmgkf': 564,\n         'ucqav': 545,\n         'vcxcz': 545,\n         'jvxdv': 526,\n         'heumq': 507,\n         'hrslo': 412,\n         'ottvf': 279,\n         'dlnyt': 203})"
     },
     "execution_count": 45,
     "metadata": {},
     "output_type": "execute_result"
    }
   ],
   "source": [
    "output_words = equalise_word_count(generated_corpus)\n",
    "Counter(output_words)"
   ],
   "metadata": {
    "collapsed": false,
    "ExecuteTime": {
     "start_time": "2023-12-11T12:32:40.868165Z",
     "end_time": "2023-12-11T12:32:41.473484Z"
    }
   }
  },
  {
   "cell_type": "code",
   "execution_count": 46,
   "outputs": [
    {
     "name": "stdout",
     "output_type": "stream",
     "text": [
      "10000\n"
     ]
    },
    {
     "data": {
      "text/plain": "14000"
     },
     "execution_count": 46,
     "metadata": {},
     "output_type": "execute_result"
    }
   ],
   "source": [
    "import random\n",
    "\n",
    "def augment_list(original_list, augmentation_percentage):\n",
    "    # Count the frequency of each word in the original list\n",
    "    print(len(original_list))\n",
    "\n",
    "    word_counts = {}\n",
    "    for word in original_list:\n",
    "        word_counts[word] = word_counts.get(word, 0) + 1\n",
    "\n",
    "    # Identify less frequent words\n",
    "    unique_words = list(set(original_list))\n",
    "    less_frequent_words = sorted(unique_words, key=lambda x: word_counts[x])\n",
    "    #print(less_frequent_words)\n",
    "\n",
    "    # Determine the number of words to add for augmentation\n",
    "    num_words_to_add = int(len(original_list) * augmentation_percentage)\n",
    "\n",
    "    # Augment the list with less frequent words\n",
    "    augmented_list = original_list.copy()\n",
    "    for _ in range(num_words_to_add):\n",
    "        # Choose a word with higher probability for less frequent words\n",
    "        chosen_word = random.choices(less_frequent_words)[0]\n",
    "        augmented_list.append(chosen_word)\n",
    "\n",
    "    return augmented_list\n",
    "\n",
    "# Example usage\n",
    "augmented_list = augment_list(generated_corpus, 0.4)\n",
    "len(augmented_list)\n",
    "\n"
   ],
   "metadata": {
    "collapsed": false,
    "ExecuteTime": {
     "start_time": "2023-12-11T12:33:42.839030Z",
     "end_time": "2023-12-11T12:33:42.857966Z"
    }
   }
  },
  {
   "cell_type": "code",
   "execution_count": 6,
   "outputs": [],
   "source": [],
   "metadata": {
    "collapsed": false,
    "ExecuteTime": {
     "start_time": "2023-12-11T11:51:02.493072Z",
     "end_time": "2023-12-11T11:51:02.551116Z"
    }
   }
  },
  {
   "cell_type": "code",
   "execution_count": 47,
   "outputs": [
    {
     "data": {
      "text/plain": "Counter({'dlnyt': 203,\n         'ottvf': 199,\n         'hrslo': 192,\n         'heumq': 187,\n         'jvxdv': 186,\n         'ucqav': 185,\n         'vcxcz': 185,\n         'spgaw': 184,\n         'gmgkf': 184,\n         'ciqjw': 181,\n         'wjnmr': 180,\n         'usxhb': 180,\n         'pxxlv': 178,\n         'fmwjv': 177,\n         'gwftl': 176,\n         'dbslb': 169,\n         'fcspj': 167,\n         'tsqns': 160,\n         'zjext': 158,\n         'zdxjc': 158,\n         'igcev': 153,\n         'xwtwi': 152,\n         'bxore': 149,\n         'eehip': 145,\n         'htktu': 143,\n         'yxpqv': 143,\n         'aubqy': 140,\n         'kuutg': 140,\n         'hraqq': 139,\n         'wtdop': 137,\n         'rpgjm': 136,\n         'dshab': 136,\n         'lfkip': 135,\n         'tbuuu': 135,\n         'omymr': 134,\n         'dulqr': 133,\n         'reugs': 133,\n         'ycauj': 125,\n         'uecwm': 124,\n         'stqgi': 124,\n         'prnqc': 122,\n         'nfgsa': 118,\n         'lrvpv': 116,\n         'eqcnj': 115,\n         'ekhey': 111,\n         'cclgi': 111,\n         'bkfyi': 109,\n         'tonvf': 106,\n         'uyhuu': 102,\n         'qirwm': 99,\n         'jlvxp': 99,\n         'toksk': 96,\n         'ayedn': 96,\n         'vyzds': 88,\n         'sqkxt': 87,\n         'mskxv': 85,\n         'gnabt': 84,\n         'smwey': 82,\n         'zlkzq': 82,\n         'gtfro': 82,\n         'pnkvx': 80,\n         'qnmhl': 79,\n         'vxipp': 74,\n         'keksy': 72,\n         'kecee': 71,\n         'rnplh': 70,\n         'ydfxp': 69,\n         'rqcck': 69,\n         'wwmbd': 68,\n         'mzpak': 60,\n         'vcqis': 59,\n         'iigmv': 50,\n         'yniiz': 48,\n         'okvpp': 48,\n         'mjhgi': 46,\n         'irfrw': 46,\n         'bmusd': 46,\n         'kxabg': 46,\n         'zmerx': 41,\n         'uhabn': 41,\n         'yqbxm': 41,\n         'zcabt': 37,\n         'ozyfd': 37,\n         'thwzc': 36,\n         'eyeyq': 35,\n         'eyxic': 34,\n         'zzxfb': 33,\n         'nsyue': 31,\n         'zfpve': 29,\n         'edkax': 26,\n         'tkiuc': 23,\n         'pynaz': 22,\n         'jffsh': 21,\n         'ahscp': 21,\n         'iqgln': 15,\n         'ztxha': 13,\n         'toqlh': 10,\n         'txroj': 9,\n         'tnyev': 8,\n         'wbkek': 1})"
     },
     "execution_count": 47,
     "metadata": {},
     "output_type": "execute_result"
    }
   ],
   "source": [
    "Counter(generated_corpus)"
   ],
   "metadata": {
    "collapsed": false,
    "ExecuteTime": {
     "start_time": "2023-12-11T12:33:45.342254Z",
     "end_time": "2023-12-11T12:33:45.402485Z"
    }
   }
  },
  {
   "cell_type": "code",
   "execution_count": 48,
   "outputs": [
    {
     "data": {
      "text/plain": "Counter({'ottvf': 248,\n         'dlnyt': 244,\n         'hrslo': 235,\n         'wjnmr': 231,\n         'ucqav': 230,\n         'spgaw': 227,\n         'gmgkf': 225,\n         'fmwjv': 220,\n         'vcxcz': 219,\n         'heumq': 218,\n         'gwftl': 217,\n         'jvxdv': 217,\n         'usxhb': 217,\n         'ciqjw': 216,\n         'zdxjc': 212,\n         'fcspj': 211,\n         'dbslb': 210,\n         'pxxlv': 209,\n         'bxore': 202,\n         'tsqns': 202,\n         'zjext': 195,\n         'igcev': 193,\n         'xwtwi': 189,\n         'eehip': 186,\n         'yxpqv': 186,\n         'aubqy': 185,\n         'wtdop': 185,\n         'tbuuu': 184,\n         'dulqr': 179,\n         'omymr': 177,\n         'uecwm': 176,\n         'rpgjm': 176,\n         'kuutg': 174,\n         'hraqq': 173,\n         'htktu': 173,\n         'prnqc': 172,\n         'reugs': 172,\n         'lrvpv': 162,\n         'lfkip': 161,\n         'cclgi': 160,\n         'dshab': 160,\n         'eqcnj': 157,\n         'nfgsa': 156,\n         'stqgi': 156,\n         'bkfyi': 151,\n         'ycauj': 151,\n         'tonvf': 150,\n         'ekhey': 148,\n         'qirwm': 144,\n         'jlvxp': 144,\n         'uyhuu': 139,\n         'vyzds': 136,\n         'toksk': 136,\n         'ayedn': 128,\n         'mskxv': 128,\n         'sqkxt': 126,\n         'gnabt': 124,\n         'smwey': 123,\n         'zlkzq': 120,\n         'qnmhl': 119,\n         'pnkvx': 118,\n         'rqcck': 116,\n         'gtfro': 115,\n         'kecee': 112,\n         'vxipp': 108,\n         'keksy': 106,\n         'ydfxp': 105,\n         'rnplh': 102,\n         'wwmbd': 101,\n         'bmusd': 98,\n         'mzpak': 97,\n         'vcqis': 97,\n         'irfrw': 96,\n         'iigmv': 95,\n         'mjhgi': 92,\n         'okvpp': 89,\n         'yniiz': 87,\n         'zcabt': 81,\n         'uhabn': 80,\n         'ozyfd': 79,\n         'yqbxm': 77,\n         'kxabg': 77,\n         'zmerx': 75,\n         'eyeyq': 75,\n         'thwzc': 72,\n         'eyxic': 71,\n         'zzxfb': 70,\n         'zfpve': 67,\n         'nsyue': 66,\n         'jffsh': 64,\n         'edkax': 62,\n         'ahscp': 62,\n         'toqlh': 56,\n         'ztxha': 56,\n         'txroj': 56,\n         'pynaz': 55,\n         'iqgln': 54,\n         'tkiuc': 53,\n         'tnyev': 51,\n         'wbkek': 43})"
     },
     "execution_count": 48,
     "metadata": {},
     "output_type": "execute_result"
    }
   ],
   "source": [
    "Counter(augmented_list)"
   ],
   "metadata": {
    "collapsed": false,
    "ExecuteTime": {
     "start_time": "2023-12-11T12:33:55.912293Z",
     "end_time": "2023-12-11T12:33:56.015957Z"
    }
   }
  },
  {
   "cell_type": "code",
   "execution_count": 8,
   "outputs": [],
   "source": [],
   "metadata": {
    "collapsed": false,
    "ExecuteTime": {
     "start_time": "2023-12-11T11:51:02.539923Z",
     "end_time": "2023-12-11T11:51:02.571745Z"
    }
   }
  },
  {
   "cell_type": "code",
   "execution_count": 8,
   "outputs": [],
   "source": [],
   "metadata": {
    "collapsed": false,
    "ExecuteTime": {
     "start_time": "2023-12-11T11:51:02.558125Z",
     "end_time": "2023-12-11T11:51:02.653432Z"
    }
   }
  },
  {
   "cell_type": "code",
   "execution_count": 39,
   "outputs": [
    {
     "data": {
      "text/plain": "12000"
     },
     "execution_count": 39,
     "metadata": {},
     "output_type": "execute_result"
    }
   ],
   "source": [
    "def augment_list(original_list, augmentation_percentage, balance_factor=0.15):\n",
    "    # Count the frequency of each word in the original list\n",
    "    word_counts = {}\n",
    "    for word in original_list:\n",
    "        word_counts[word] = word_counts.get(word, 0) + 1\n",
    "\n",
    "    # Identify less frequent words\n",
    "    unique_words = list(set(original_list))\n",
    "    less_frequent_words = sorted(unique_words, key=lambda x: word_counts[x])\n",
    "\n",
    "    # Determine the number of words to add for augmentation\n",
    "    num_words_to_add = int(len(original_list) * augmentation_percentage)\n",
    "\n",
    "    # Augment the list with less frequent words\n",
    "    augmented_list = original_list.copy()\n",
    "    for _ in range(num_words_to_add):\n",
    "        # Choose a word with higher probability for less frequent words\n",
    "        weights = [1/(word_counts[word]**balance_factor) for word in less_frequent_words]\n",
    "        chosen_word = random.choices(less_frequent_words, weights=weights)[0]\n",
    "        augmented_list.append(chosen_word)\n",
    "\n",
    "    return augmented_list\n",
    "\n",
    "augmented_list = augment_list(generated_corpus, 0.4)\n",
    "len(augmented_list)\n"
   ],
   "metadata": {
    "collapsed": false,
    "ExecuteTime": {
     "start_time": "2023-12-11T11:54:56.691847Z",
     "end_time": "2023-12-11T11:54:56.709121Z"
    }
   }
  },
  {
   "cell_type": "code",
   "execution_count": 40,
   "outputs": [
    {
     "data": {
      "text/plain": "Counter({'kxcld': 195,\n         'dygpr': 189,\n         'ujotq': 186,\n         'ozyuv': 184,\n         'jxdeg': 182,\n         'sfrhr': 181,\n         'ljczz': 180,\n         'xdfdm': 179,\n         'vippt': 177,\n         'pctpe': 177,\n         'xpdvr': 176,\n         'ypxiq': 175,\n         'xykav': 172,\n         'vvdpx': 171,\n         'ehhuw': 167,\n         'ahhfl': 167,\n         'hhzez': 163,\n         'dvdvf': 162,\n         'vglcv': 162,\n         'heuas': 160,\n         'hhsus': 157,\n         'jiwrv': 157,\n         'ovnkp': 155,\n         'hczpw': 154,\n         'aigue': 153,\n         'eymgr': 152,\n         'jfpgv': 151,\n         'kovqk': 151,\n         'wkitx': 147,\n         'ifoxv': 145,\n         'nqeml': 144,\n         'xbfiw': 143,\n         'wzxwg': 142,\n         'pjbhj': 141,\n         'qgjjk': 140,\n         'kowmv': 135,\n         'xnftf': 133,\n         'qzpvs': 131,\n         'wmklw': 130,\n         'jnukg': 129,\n         'bjmhm': 128,\n         'euwhm': 126,\n         'gvhxo': 126,\n         'ozzdu': 125,\n         'zkebp': 118,\n         'cbnbf': 108,\n         'ppqjb': 104,\n         'fkilk': 102,\n         'ohfvk': 100,\n         'fymxu': 96,\n         'btliq': 90,\n         'dqiob': 88,\n         'zorvx': 87,\n         'uggdx': 87,\n         'ibqeo': 86,\n         'hnzkq': 86,\n         'fcytu': 82,\n         'cnqxl': 82,\n         'qikht': 77,\n         'zzlvi': 73,\n         'bidjq': 72,\n         'milvr': 72,\n         'nwhcj': 72,\n         'onqac': 68,\n         'thwbg': 68,\n         'bushq': 66,\n         'ytjdx': 66,\n         'kxugu': 65,\n         'dqnkm': 63,\n         'ehrff': 62,\n         'ghpvm': 60,\n         'wpmlk': 59,\n         'oiith': 56,\n         'hxlzn': 54,\n         'dsmuj': 53,\n         'homtw': 52,\n         'nwkgf': 48,\n         'dwyrt': 48,\n         'fhsis': 45,\n         'iywfg': 42,\n         'qlfif': 42,\n         'yoyaq': 37,\n         'vlnfo': 35,\n         'dquvg': 35,\n         'gjirh': 34,\n         'vznby': 34,\n         'vakqk': 27,\n         'okgkk': 26,\n         'enzcj': 25,\n         'cufje': 25,\n         'iijwx': 23,\n         'xfcos': 21,\n         'mlfyq': 20,\n         'pexaj': 19,\n         'loona': 9,\n         'kbwbu': 8,\n         'mwtoo': 8,\n         'nksqn': 7,\n         'supyt': 5,\n         'ujzdz': 3})"
     },
     "execution_count": 40,
     "metadata": {},
     "output_type": "execute_result"
    }
   ],
   "source": [
    "Counter(generated_corpus)"
   ],
   "metadata": {
    "collapsed": false,
    "ExecuteTime": {
     "start_time": "2023-12-11T11:54:56.929578Z",
     "end_time": "2023-12-11T11:54:56.947064Z"
    }
   }
  },
  {
   "cell_type": "code",
   "execution_count": 41,
   "outputs": [
    {
     "data": {
      "text/plain": "Counter({'kxcld': 212,\n         'dygpr': 211,\n         'ujotq': 202,\n         'ozyuv': 201,\n         'jxdeg': 200,\n         'sfrhr': 199,\n         'xdfdm': 199,\n         'ljczz': 199,\n         'pctpe': 197,\n         'ypxiq': 195,\n         'vippt': 193,\n         'xpdvr': 192,\n         'vvdpx': 190,\n         'ahhfl': 187,\n         'ehhuw': 186,\n         'xykav': 186,\n         'hhsus': 181,\n         'jiwrv': 178,\n         'vglcv': 178,\n         'heuas': 177,\n         'kovqk': 176,\n         'hhzez': 176,\n         'hczpw': 175,\n         'dvdvf': 173,\n         'ovnkp': 173,\n         'aigue': 171,\n         'eymgr': 170,\n         'jfpgv': 166,\n         'nqeml': 165,\n         'xnftf': 162,\n         'wkitx': 161,\n         'pjbhj': 160,\n         'ifoxv': 159,\n         'wzxwg': 158,\n         'xbfiw': 158,\n         'qgjjk': 156,\n         'kowmv': 153,\n         'gvhxo': 151,\n         'wmklw': 150,\n         'ozzdu': 145,\n         'bjmhm': 145,\n         'jnukg': 145,\n         'qzpvs': 142,\n         'euwhm': 141,\n         'zkebp': 131,\n         'ppqjb': 129,\n         'cbnbf': 123,\n         'ohfvk': 120,\n         'fymxu': 118,\n         'fkilk': 114,\n         'ibqeo': 113,\n         'uggdx': 107,\n         'cnqxl': 107,\n         'hnzkq': 105,\n         'zorvx': 104,\n         'dqiob': 104,\n         'btliq': 104,\n         'fcytu': 100,\n         'bidjq': 98,\n         'qikht': 98,\n         'bushq': 94,\n         'thwbg': 94,\n         'zzlvi': 93,\n         'onqac': 92,\n         'nwhcj': 91,\n         'ehrff': 89,\n         'ytjdx': 89,\n         'milvr': 88,\n         'ghpvm': 88,\n         'kxugu': 85,\n         'wpmlk': 84,\n         'dqnkm': 75,\n         'oiith': 73,\n         'hxlzn': 72,\n         'homtw': 69,\n         'dsmuj': 69,\n         'nwkgf': 69,\n         'qlfif': 68,\n         'fhsis': 66,\n         'iywfg': 63,\n         'dwyrt': 61,\n         'yoyaq': 58,\n         'gjirh': 56,\n         'vlnfo': 55,\n         'dquvg': 54,\n         'enzcj': 52,\n         'vznby': 51,\n         'nksqn': 50,\n         'iijwx': 48,\n         'okgkk': 45,\n         'mlfyq': 44,\n         'vakqk': 44,\n         'ujzdz': 44,\n         'cufje': 42,\n         'xfcos': 41,\n         'loona': 39,\n         'supyt': 39,\n         'mwtoo': 34,\n         'pexaj': 33,\n         'kbwbu': 30})"
     },
     "execution_count": 41,
     "metadata": {},
     "output_type": "execute_result"
    }
   ],
   "source": [
    "Counter(augmented_list)"
   ],
   "metadata": {
    "collapsed": false,
    "ExecuteTime": {
     "start_time": "2023-12-11T11:54:57.385562Z",
     "end_time": "2023-12-11T11:54:57.406682Z"
    }
   }
  },
  {
   "cell_type": "code",
   "execution_count": 11,
   "outputs": [],
   "source": [],
   "metadata": {
    "collapsed": false,
    "ExecuteTime": {
     "start_time": "2023-12-11T11:51:02.777507Z",
     "end_time": "2023-12-11T11:51:02.815726Z"
    }
   }
  },
  {
   "cell_type": "code",
   "execution_count": 11,
   "outputs": [],
   "source": [],
   "metadata": {
    "collapsed": false,
    "ExecuteTime": {
     "start_time": "2023-12-11T11:51:02.793611Z",
     "end_time": "2023-12-11T11:51:02.816719Z"
    }
   }
  },
  {
   "cell_type": "code",
   "execution_count": 11,
   "outputs": [],
   "source": [],
   "metadata": {
    "collapsed": false,
    "ExecuteTime": {
     "start_time": "2023-12-11T11:51:02.809608Z",
     "end_time": "2023-12-11T11:51:02.890502Z"
    }
   }
  },
  {
   "cell_type": "code",
   "execution_count": 11,
   "outputs": [],
   "source": [],
   "metadata": {
    "collapsed": false,
    "ExecuteTime": {
     "start_time": "2023-12-11T11:51:02.826870Z",
     "end_time": "2023-12-11T11:51:02.902055Z"
    }
   }
  },
  {
   "cell_type": "code",
   "execution_count": 11,
   "outputs": [],
   "source": [],
   "metadata": {
    "collapsed": false,
    "ExecuteTime": {
     "start_time": "2023-12-11T11:51:02.841679Z",
     "end_time": "2023-12-11T11:51:02.903094Z"
    }
   }
  }
 ],
 "metadata": {
  "kernelspec": {
   "display_name": "Python 3",
   "language": "python",
   "name": "python3"
  },
  "language_info": {
   "codemirror_mode": {
    "name": "ipython",
    "version": 2
   },
   "file_extension": ".py",
   "mimetype": "text/x-python",
   "name": "python",
   "nbconvert_exporter": "python",
   "pygments_lexer": "ipython2",
   "version": "2.7.6"
  }
 },
 "nbformat": 4,
 "nbformat_minor": 0
}
