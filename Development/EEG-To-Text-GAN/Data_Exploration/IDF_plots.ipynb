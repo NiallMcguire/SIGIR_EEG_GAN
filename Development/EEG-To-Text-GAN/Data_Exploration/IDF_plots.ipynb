{
 "cells": [
  {
   "cell_type": "code",
   "execution_count": 1,
   "metadata": {
    "collapsed": true,
    "ExecuteTime": {
     "start_time": "2023-12-19T10:31:23.781160Z",
     "end_time": "2023-12-19T10:31:47.185526Z"
    }
   },
   "outputs": [
    {
     "name": "stderr",
     "output_type": "stream",
     "text": [
      "[nltk_data] Downloading package punkt to\n",
      "[nltk_data]     C:\\Users\\gxb18167\\AppData\\Roaming\\nltk_data...\n",
      "[nltk_data]   Package punkt is already up-to-date!\n"
     ]
    }
   ],
   "source": [
    "import sys\n",
    "import pickle\n",
    "import nltk\n",
    "from nltk.stem import PorterStemmer\n",
    "import torch.nn.functional as F\n",
    "import torch\n",
    "import torch.nn as nn\n",
    "import numpy as np\n",
    "from sklearn.preprocessing import MinMaxScaler\n",
    "import torch\n",
    "nltk.download('punkt')\n",
    "from gensim.models import Word2Vec\n",
    "from nltk.tokenize import word_tokenize\n",
    "sys.path.insert(0, '..')\n",
    "from nltk.tokenize import word_tokenize\n",
    "ps = PorterStemmer()\n",
    "from collections import Counter\n",
    "import math"
   ]
  },
  {
   "cell_type": "code",
   "execution_count": 2,
   "outputs": [],
   "source": [
    "with open('EEG_Text_Pairs.pkl', 'rb') as file:\n",
    "    EEG_word_level_embeddings = pickle.load(file)\n",
    "    train_data = pickle.load(file)"
   ],
   "metadata": {
    "collapsed": false,
    "ExecuteTime": {
     "start_time": "2023-12-19T10:31:47.190514Z",
     "end_time": "2023-12-19T10:31:54.143895Z"
    }
   }
  },
  {
   "cell_type": "code",
   "execution_count": 3,
   "outputs": [],
   "source": [
    "with open('Target_Pred_Strings.pickle', 'rb') as f:\n",
    "    data = pickle.load(f)"
   ],
   "metadata": {
    "collapsed": false,
    "ExecuteTime": {
     "start_time": "2023-12-19T10:31:54.154264Z",
     "end_time": "2023-12-19T10:31:54.518820Z"
    }
   }
  },
  {
   "cell_type": "code",
   "execution_count": 4,
   "outputs": [],
   "source": [
    "with open(\"EEG_Sentences.pkl\", 'rb') as f:\n",
    "    Sentences = pickle.load(f)"
   ],
   "metadata": {
    "collapsed": false,
    "ExecuteTime": {
     "start_time": "2023-12-19T10:31:54.527595Z",
     "end_time": "2023-12-19T10:31:54.607155Z"
    }
   }
  },
  {
   "cell_type": "code",
   "execution_count": 5,
   "outputs": [],
   "source": [
    "target_string_list = data['Target_String']"
   ],
   "metadata": {
    "collapsed": false,
    "ExecuteTime": {
     "start_time": "2023-12-19T10:31:54.612437Z",
     "end_time": "2023-12-19T10:31:54.623853Z"
    }
   }
  },
  {
   "cell_type": "code",
   "execution_count": 6,
   "outputs": [],
   "source": [
    "predicted_string_list = data['Predicted_String']"
   ],
   "metadata": {
    "collapsed": false,
    "ExecuteTime": {
     "start_time": "2023-12-19T10:31:54.628619Z",
     "end_time": "2023-12-19T10:31:54.677556Z"
    }
   }
  },
  {
   "cell_type": "code",
   "execution_count": 7,
   "outputs": [],
   "source": [
    "def get_word_classifcation_count(target_string_list, predicted_string_list, train_data, stemming=True, strict=False):\n",
    "    Correct_Predictions = {}\n",
    "    Incorrect_Predictions = {}\n",
    "    counter_list = []\n",
    "\n",
    "    train_string = \" \".join(train_data)\n",
    "    train_string_tokenized = word_tokenize(train_string)\n",
    "\n",
    "    if stemming == True:\n",
    "        train_string_tokenized_stemmed = []\n",
    "        for w in train_string_tokenized:\n",
    "            train_string_tokenized_stemmed.append(ps.stem(w))\n",
    "    else:\n",
    "        train_string_tokenized_stemmed = []\n",
    "        for w in train_string_tokenized:\n",
    "            train_string_tokenized_stemmed.append(w)\n",
    "\n",
    "\n",
    "\n",
    "    for i in range(len(target_string_list)):\n",
    "        target_string = target_string_list[i]\n",
    "        predicted_string = predicted_string_list[i]\n",
    "\n",
    "        predicted_string = predicted_string[0:len(target_string)]\n",
    "\n",
    "        target_tokenized = word_tokenize(target_string)\n",
    "\n",
    "        #print(target_tokenized)\n",
    "        predicted_tokenized = word_tokenize(predicted_string)\n",
    "\n",
    "        if stemming == True:\n",
    "            target_tokenized_stemmed = []\n",
    "            predicted_tokenized_stemmed = []\n",
    "            for w in target_tokenized:\n",
    "                target_tokenized_stemmed.append(ps.stem(w))\n",
    "                counter_list.append(ps.stem(w))\n",
    "            for w in predicted_tokenized:\n",
    "                predicted_tokenized_stemmed.append(ps.stem(w))\n",
    "        else:\n",
    "            target_tokenized_stemmed = []\n",
    "            predicted_tokenized_stemmed = []\n",
    "            for w in target_tokenized:\n",
    "                target_tokenized_stemmed.append(w)\n",
    "                counter_list.append(w)\n",
    "            for w in predicted_tokenized:\n",
    "                predicted_tokenized_stemmed.append(w)\n",
    "\n",
    "        if strict == False:\n",
    "            for word in target_tokenized_stemmed:\n",
    "                if word in predicted_tokenized_stemmed:\n",
    "                    if word in Correct_Predictions:\n",
    "                        Correct_Predictions[word] += 1\n",
    "                    else:\n",
    "                        Correct_Predictions[word] = 1\n",
    "                else:\n",
    "                    if word in Incorrect_Predictions:\n",
    "                        Incorrect_Predictions[word] += 1\n",
    "                    else:\n",
    "                        Incorrect_Predictions[word] = 1\n",
    "        else:\n",
    "            min_length = min(len(predicted_tokenized_stemmed), len(target_tokenized_stemmed))\n",
    "            for i in range(min_length):\n",
    "                if target_tokenized_stemmed[i] == predicted_tokenized_stemmed[i]:\n",
    "                    word = target_tokenized_stemmed[i]\n",
    "                    if word in Correct_Predictions:\n",
    "                        Correct_Predictions[word] += 1\n",
    "                    else:\n",
    "                        Correct_Predictions[word] = 1\n",
    "                else:\n",
    "                    word = target_tokenized_stemmed[i]\n",
    "                    if word in Incorrect_Predictions:\n",
    "                        Incorrect_Predictions[word] += 1\n",
    "                    else:\n",
    "                        Incorrect_Predictions[word] = 1\n",
    "\n",
    "\n",
    "\n",
    "    target_word_counter = Counter(counter_list)\n",
    "    print(len(target_word_counter))\n",
    "    word_frequency = Counter(train_string_tokenized_stemmed)\n",
    "    print(len(word_frequency))\n",
    "\n",
    "    common_keys = set(target_word_counter.keys()) & set(word_frequency.keys())\n",
    "    word_frequency = {k: word_frequency[k] for k in common_keys}\n",
    "\n",
    "\n",
    "\n",
    "    return Correct_Predictions, Incorrect_Predictions, word_frequency\n"
   ],
   "metadata": {
    "collapsed": false,
    "ExecuteTime": {
     "start_time": "2023-12-19T10:31:54.698092Z",
     "end_time": "2023-12-19T10:31:54.772842Z"
    }
   }
  },
  {
   "cell_type": "code",
   "execution_count": 8,
   "outputs": [],
   "source": [
    "import re\n",
    "\n",
    "\n",
    "def calculate_tf(sentences):\n",
    "    term_frequencies = []\n",
    "\n",
    "    for sentence in sentences:\n",
    "        # Preprocess the sentence: convert to lowercase and remove non-alphanumeric characters\n",
    "        preprocessed_sentence = re.sub(r\"[^a-zA-Z0-9\\s]\", \"\", sentence.lower())\n",
    "\n",
    "        # Tokenize the sentence into words\n",
    "        words = preprocessed_sentence.split()\n",
    "\n",
    "        # Calculate term frequency using Counter\n",
    "        term_frequency = Counter(words)\n",
    "\n",
    "        # Normalize term frequency by dividing by the total number of terms in the sentence\n",
    "        total_terms = len(words)\n",
    "        normalized_tf = {term: frequency / total_terms for term, frequency in term_frequency.items()}\n",
    "\n",
    "        term_frequencies.append(normalized_tf)\n",
    "\n",
    "    return term_frequencies"
   ],
   "metadata": {
    "collapsed": false,
    "ExecuteTime": {
     "start_time": "2023-12-19T10:31:54.742536Z",
     "end_time": "2023-12-19T10:31:54.799502Z"
    }
   }
  },
  {
   "cell_type": "code",
   "execution_count": 9,
   "outputs": [],
   "source": [
    "def calculate_idf(sentences):\n",
    "    preprocessed_sentences = [re.sub(r\"[^a-zA-Z0-9\\s]\", \"\", sentence.lower()).split() for sentence in sentences]\n",
    "    unique_terms = set([term for words in preprocessed_sentences for term in words])\n",
    "    doc_frequencies = Counter()\n",
    "    for term in unique_terms:\n",
    "        for words in preprocessed_sentences:\n",
    "            if term in words:\n",
    "                doc_frequencies[term] += 1\n",
    "    total_documents = len(sentences)\n",
    "    idf_results = {term: math.log(total_documents / (1 + doc_frequency)) for term, doc_frequency in doc_frequencies.items()}\n",
    "    return idf_results"
   ],
   "metadata": {
    "collapsed": false,
    "ExecuteTime": {
     "start_time": "2023-12-19T10:31:54.777161Z",
     "end_time": "2023-12-19T10:31:54.849374Z"
    }
   }
  },
  {
   "cell_type": "code",
   "execution_count": 74,
   "outputs": [
    {
     "name": "stdout",
     "output_type": "stream",
     "text": [
      "976\n",
      "4937\n"
     ]
    }
   ],
   "source": [
    "Correct_Predictions, Incorrect_Predictions, word_frequency = get_word_classifcation_count(target_string_list, predicted_string_list, Sentences, stemming=False, strict=False)"
   ],
   "metadata": {
    "collapsed": false,
    "ExecuteTime": {
     "start_time": "2023-12-19T10:53:52.728799Z",
     "end_time": "2023-12-19T10:54:11.600507Z"
    }
   }
  },
  {
   "cell_type": "code",
   "execution_count": 75,
   "outputs": [],
   "source": [
    "idf = calculate_idf(Sentences)"
   ],
   "metadata": {
    "collapsed": false,
    "ExecuteTime": {
     "start_time": "2023-12-19T10:54:11.634048Z",
     "end_time": "2023-12-19T10:54:33.095991Z"
    }
   }
  },
  {
   "cell_type": "code",
   "execution_count": 81,
   "outputs": [],
   "source": [
    "def Calc_Correct_Incorrect_Accuracy(Incorrect_Predictions, Correct_Predictions):\n",
    "    Incorrect_Predictions_Keys = list(Incorrect_Predictions.keys())\n",
    "    Correct_Predictions_Keys = list(Correct_Predictions.keys())\n",
    "    # Combine keys into a list\n",
    "    combined_keys = Incorrect_Predictions_Keys + Correct_Predictions_Keys\n",
    "    # Remove duplicate keys\n",
    "    combined_keys = list(set(combined_keys))\n",
    "    len(combined_keys)\n",
    "\n",
    "    Accuracy = {}\n",
    "\n",
    "    for key in combined_keys:\n",
    "        if key in Incorrect_Predictions and key in Correct_Predictions:\n",
    "            Accuracy[key] = Correct_Predictions[key]/(Correct_Predictions[key] + Incorrect_Predictions[key])\n",
    "        elif key in Incorrect_Predictions and key not in Correct_Predictions:\n",
    "            Accuracy[key] = 0\n",
    "        elif key in Correct_Predictions and key not in Incorrect_Predictions:\n",
    "            Accuracy[key] = 1\n",
    "        else:\n",
    "            print(\"Error\")\n",
    "\n",
    "    return Accuracy\n"
   ],
   "metadata": {
    "collapsed": false,
    "ExecuteTime": {
     "start_time": "2023-12-19T10:57:21.640003Z",
     "end_time": "2023-12-19T10:57:21.674248Z"
    }
   }
  },
  {
   "cell_type": "code",
   "execution_count": 82,
   "outputs": [],
   "source": [
    "Accuracy = Calc_Correct_Incorrect_Accuracy(Incorrect_Predictions, Correct_Predictions)"
   ],
   "metadata": {
    "collapsed": false,
    "ExecuteTime": {
     "start_time": "2023-12-19T10:57:34.396277Z",
     "end_time": "2023-12-19T10:57:34.456975Z"
    }
   }
  },
  {
   "cell_type": "code",
   "execution_count": 120,
   "outputs": [],
   "source": [],
   "metadata": {
    "collapsed": false,
    "ExecuteTime": {
     "start_time": "2023-12-19T11:11:44.780229Z",
     "end_time": "2023-12-19T11:11:44.798284Z"
    }
   }
  },
  {
   "cell_type": "code",
   "execution_count": 83,
   "outputs": [],
   "source": [],
   "metadata": {
    "collapsed": false,
    "ExecuteTime": {
     "start_time": "2023-12-19T10:57:43.008531Z",
     "end_time": "2023-12-19T10:57:43.047491Z"
    }
   }
  },
  {
   "cell_type": "code",
   "execution_count": 83,
   "outputs": [],
   "source": [],
   "metadata": {
    "collapsed": false,
    "ExecuteTime": {
     "start_time": "2023-12-19T10:57:44.947780Z",
     "end_time": "2023-12-19T10:57:44.980579Z"
    }
   }
  },
  {
   "cell_type": "code",
   "execution_count": 83,
   "outputs": [],
   "source": [],
   "metadata": {
    "collapsed": false,
    "ExecuteTime": {
     "start_time": "2023-12-19T10:57:45.145595Z",
     "end_time": "2023-12-19T10:57:45.180767Z"
    }
   }
  },
  {
   "cell_type": "code",
   "execution_count": 82,
   "outputs": [],
   "source": [],
   "metadata": {
    "collapsed": false,
    "ExecuteTime": {
     "start_time": "2023-12-19T10:57:36.310850Z",
     "end_time": "2023-12-19T10:57:36.344860Z"
    }
   }
  },
  {
   "cell_type": "code",
   "execution_count": 121,
   "outputs": [],
   "source": [
    "import nltk\n",
    "from nltk.corpus import stopwords\n",
    "sw_nltk = stopwords.words('english')\n",
    "\n",
    "stop_words_accuracy = {}\n",
    "stop_word_removal_Accuracy = {}\n",
    "for key, value in Accuracy.items():\n",
    "    if key not in sw_nltk:\n",
    "        stop_word_removal_Accuracy[key] = Accuracy[key]\n",
    "    else:\n",
    "        stop_words_accuracy[key] = Accuracy[key]\n",
    "\n",
    "#Filtering out words that are and are not present in the stop words list\n",
    "IDF_stop_word_removal_Accuracy = {key: idf[key] for key in stop_word_removal_Accuracy if key in idf}\n",
    "IDF_stop_words_accuracy = {key: idf[key] for key in stop_words_accuracy if key in idf}"
   ],
   "metadata": {
    "collapsed": false,
    "ExecuteTime": {
     "start_time": "2023-12-19T11:12:45.915993Z",
     "end_time": "2023-12-19T11:12:45.935142Z"
    }
   }
  },
  {
   "cell_type": "code",
   "execution_count": 122,
   "outputs": [],
   "source": [
    "IDF_stop_word_removal_Accuracy_list = list(IDF_stop_word_removal_Accuracy.values())\n",
    "IDF_stop_words_accuracy_list = list(IDF_stop_words_accuracy.values())"
   ],
   "metadata": {
    "collapsed": false,
    "ExecuteTime": {
     "start_time": "2023-12-19T11:12:47.875243Z",
     "end_time": "2023-12-19T11:12:47.918987Z"
    }
   }
  },
  {
   "cell_type": "code",
   "execution_count": 122,
   "outputs": [],
   "source": [],
   "metadata": {
    "collapsed": false,
    "ExecuteTime": {
     "start_time": "2023-12-19T11:12:49.207501Z",
     "end_time": "2023-12-19T11:12:49.233011Z"
    }
   }
  },
  {
   "cell_type": "code",
   "execution_count": 122,
   "outputs": [],
   "source": [],
   "metadata": {
    "collapsed": false,
    "ExecuteTime": {
     "start_time": "2023-12-19T11:12:49.426723Z",
     "end_time": "2023-12-19T11:12:49.446929Z"
    }
   }
  },
  {
   "cell_type": "code",
   "execution_count": 122,
   "outputs": [],
   "source": [],
   "metadata": {
    "collapsed": false,
    "ExecuteTime": {
     "start_time": "2023-12-19T11:12:49.625148Z",
     "end_time": "2023-12-19T11:12:49.684605Z"
    }
   }
  },
  {
   "cell_type": "code",
   "execution_count": 122,
   "outputs": [],
   "source": [],
   "metadata": {
    "collapsed": false,
    "ExecuteTime": {
     "start_time": "2023-12-19T11:12:49.815353Z",
     "end_time": "2023-12-19T11:12:49.845051Z"
    }
   }
  },
  {
   "cell_type": "code",
   "execution_count": 123,
   "outputs": [
    {
     "data": {
      "text/plain": "<Figure size 640x480 with 1 Axes>",
      "image/png": "[encoded data removed]"
     },
     "metadata": {},
     "output_type": "display_data"
    }
   ],
   "source": [
    "import matplotlib.pyplot as plt\n",
    "idf_threshold = 0.00  # Adjust as needed\n",
    "\n",
    "# Filter words based on TF-IDF score threshold\n",
    "'''\n",
    "Accuracy_IDF_Filtered = [word for word, Accuracy_IDF in Accuracy_IDF.items() if Accuracy_IDF > idf_threshold]\n",
    "Accuracy_IDF_Filtered = [Accuracy_IDF[word] for word in Accuracy_IDF_Filtered]\n",
    "'''\n",
    "stop_word_removal_Accuracy_filtered = [stop_word_removal_Accuracy[word] for word in IDF_stop_word_removal_Accuracy]\n",
    "\n",
    "stop_words_accuracy_filtered = [stop_words_accuracy[word] for word in IDF_stop_words_accuracy]\n",
    "\n",
    "# Create figure and axes\n",
    "fig, ax = plt.subplots()\n",
    "\n",
    "# Plot correct predictions in blue\n",
    "ax.scatter(IDF_stop_word_removal_Accuracy_list, stop_word_removal_Accuracy_filtered, color='blue', alpha=0.5, label='No Stop Word')\n",
    "\n",
    "# Plot incorrect predictions in red\n",
    "ax.scatter(IDF_stop_words_accuracy_list, stop_words_accuracy_filtered, color='red', alpha=0.5, label='Stop Word')\n",
    "\n",
    "# Set labels and title\n",
    "ax.set_xlabel('IDF Score')\n",
    "ax.set_ylabel('Accuracy')\n",
    "plt.title('TF-IDF Score vs Accuracy (Above {} TF-IDF Score)'.format(idf_threshold))\n",
    "\n",
    "# Customize the plot\n",
    "plt.legend()\n",
    "plt.grid(True)\n",
    "plt.show()"
   ],
   "metadata": {
    "collapsed": false,
    "ExecuteTime": {
     "start_time": "2023-12-19T11:12:50.095688Z",
     "end_time": "2023-12-19T11:12:50.469545Z"
    }
   }
  },
  {
   "cell_type": "code",
   "execution_count": 101,
   "outputs": [],
   "source": [],
   "metadata": {
    "collapsed": false,
    "ExecuteTime": {
     "start_time": "2023-12-19T11:02:45.217095Z",
     "end_time": "2023-12-19T11:02:45.242910Z"
    }
   }
  },
  {
   "cell_type": "code",
   "execution_count": null,
   "outputs": [],
   "source": [],
   "metadata": {
    "collapsed": false
   }
  }
 ],
 "metadata": {
  "kernelspec": {
   "display_name": "Python 3",
   "language": "python",
   "name": "python3"
  },
  "language_info": {
   "codemirror_mode": {
    "name": "ipython",
    "version": 2
   },
   "file_extension": ".py",
   "mimetype": "text/x-python",
   "name": "python",
   "nbconvert_exporter": "python",
   "pygments_lexer": "ipython2",
   "version": "2.7.6"
  }
 },
 "nbformat": 4,
 "nbformat_minor": 0
}
