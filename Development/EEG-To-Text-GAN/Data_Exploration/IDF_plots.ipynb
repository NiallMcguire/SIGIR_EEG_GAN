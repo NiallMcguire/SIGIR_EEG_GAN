{
 "cells": [
  {
   "cell_type": "code",
   "execution_count": 13,
   "metadata": {
    "collapsed": true,
    "ExecuteTime": {
     "start_time": "2023-12-18T13:59:10.580496Z",
     "end_time": "2023-12-18T13:59:10.597042Z"
    }
   },
   "outputs": [
    {
     "name": "stderr",
     "output_type": "stream",
     "text": [
      "[nltk_data] Downloading package punkt to\n",
      "[nltk_data]     C:\\Users\\gxb18167\\AppData\\Roaming\\nltk_data...\n",
      "[nltk_data]   Package punkt is already up-to-date!\n"
     ]
    }
   ],
   "source": [
    "import sys\n",
    "import pickle\n",
    "import nltk\n",
    "from nltk.stem import PorterStemmer\n",
    "import torch.nn.functional as F\n",
    "import torch\n",
    "import torch.nn as nn\n",
    "import numpy as np\n",
    "from sklearn.preprocessing import MinMaxScaler\n",
    "import torch\n",
    "nltk.download('punkt')\n",
    "from gensim.models import Word2Vec\n",
    "from nltk.tokenize import word_tokenize\n",
    "sys.path.insert(0, '..')\n",
    "from nltk.tokenize import word_tokenize\n",
    "ps = PorterStemmer()\n",
    "from collections import Counter\n",
    "import math"
   ]
  },
  {
   "cell_type": "code",
   "execution_count": 2,
   "outputs": [],
   "source": [
    "with open('EEG_Text_Pairs.pkl', 'rb') as file:\n",
    "    EEG_word_level_embeddings = pickle.load(file)\n",
    "    train_data = pickle.load(file)"
   ],
   "metadata": {
    "collapsed": false,
    "ExecuteTime": {
     "start_time": "2023-12-18T13:57:21.218987Z",
     "end_time": "2023-12-18T13:57:22.630477Z"
    }
   }
  },
  {
   "cell_type": "code",
   "execution_count": 3,
   "outputs": [],
   "source": [
    "with open('Target_Pred_Strings.pickle', 'rb') as f:\n",
    "    data = pickle.load(f)"
   ],
   "metadata": {
    "collapsed": false,
    "ExecuteTime": {
     "start_time": "2023-12-18T13:57:22.885231Z",
     "end_time": "2023-12-18T13:57:22.925839Z"
    }
   }
  },
  {
   "cell_type": "code",
   "execution_count": 4,
   "outputs": [],
   "source": [
    "with open(\"EEG_Sentences.pkl\", 'rb') as f:\n",
    "    Sentences = pickle.load(f)"
   ],
   "metadata": {
    "collapsed": false,
    "ExecuteTime": {
     "start_time": "2023-12-18T13:57:27.116669Z",
     "end_time": "2023-12-18T13:57:27.133235Z"
    }
   }
  },
  {
   "cell_type": "code",
   "execution_count": 5,
   "outputs": [],
   "source": [
    "target_string_list = data['Target_String']"
   ],
   "metadata": {
    "collapsed": false,
    "ExecuteTime": {
     "start_time": "2023-12-18T13:57:32.173129Z",
     "end_time": "2023-12-18T13:57:32.189434Z"
    }
   }
  },
  {
   "cell_type": "code",
   "execution_count": 6,
   "outputs": [],
   "source": [
    "predicted_string_list = data['Predicted_String']"
   ],
   "metadata": {
    "collapsed": false,
    "ExecuteTime": {
     "start_time": "2023-12-18T13:57:39.669149Z",
     "end_time": "2023-12-18T13:57:39.679296Z"
    }
   }
  },
  {
   "cell_type": "code",
   "execution_count": 7,
   "outputs": [],
   "source": [
    "def get_word_classifcation_count(target_string_list, predicted_string_list, train_data, stemming=True, strict=False):\n",
    "    Correct_Predictions = {}\n",
    "    Incorrect_Predictions = {}\n",
    "    counter_list = []\n",
    "\n",
    "    train_string = \" \".join(train_data)\n",
    "    train_string_tokenized = word_tokenize(train_string)\n",
    "\n",
    "    if stemming == True:\n",
    "        train_string_tokenized_stemmed = []\n",
    "        for w in train_string_tokenized:\n",
    "            train_string_tokenized_stemmed.append(ps.stem(w))\n",
    "    else:\n",
    "        train_string_tokenized_stemmed = []\n",
    "        for w in train_string_tokenized:\n",
    "            train_string_tokenized_stemmed.append(w)\n",
    "\n",
    "\n",
    "\n",
    "    for i in range(len(target_string_list)):\n",
    "        target_string = target_string_list[i]\n",
    "        predicted_string = predicted_string_list[i]\n",
    "\n",
    "        predicted_string = predicted_string[0:len(target_string)]\n",
    "\n",
    "        target_tokenized = word_tokenize(target_string)\n",
    "\n",
    "        #print(target_tokenized)\n",
    "        predicted_tokenized = word_tokenize(predicted_string)\n",
    "\n",
    "        if stemming == True:\n",
    "            target_tokenized_stemmed = []\n",
    "            predicted_tokenized_stemmed = []\n",
    "            for w in target_tokenized:\n",
    "                target_tokenized_stemmed.append(ps.stem(w))\n",
    "                counter_list.append(ps.stem(w))\n",
    "            for w in predicted_tokenized:\n",
    "                predicted_tokenized_stemmed.append(ps.stem(w))\n",
    "        else:\n",
    "            target_tokenized_stemmed = []\n",
    "            predicted_tokenized_stemmed = []\n",
    "            for w in target_tokenized:\n",
    "                target_tokenized_stemmed.append(w)\n",
    "                counter_list.append(w)\n",
    "            for w in predicted_tokenized:\n",
    "                predicted_tokenized_stemmed.append(w)\n",
    "\n",
    "        if strict == False:\n",
    "            for word in target_tokenized_stemmed:\n",
    "                if word in predicted_tokenized_stemmed:\n",
    "                    if word in Correct_Predictions:\n",
    "                        Correct_Predictions[word] += 1\n",
    "                    else:\n",
    "                        Correct_Predictions[word] = 1\n",
    "                else:\n",
    "                    if word in Incorrect_Predictions:\n",
    "                        Incorrect_Predictions[word] += 1\n",
    "                    else:\n",
    "                        Incorrect_Predictions[word] = 1\n",
    "        else:\n",
    "            min_length = min(len(predicted_tokenized_stemmed), len(target_tokenized_stemmed))\n",
    "            for i in range(min_length):\n",
    "                if target_tokenized_stemmed[i] == predicted_tokenized_stemmed[i]:\n",
    "                    word = target_tokenized_stemmed[i]\n",
    "                    if word in Correct_Predictions:\n",
    "                        Correct_Predictions[word] += 1\n",
    "                    else:\n",
    "                        Correct_Predictions[word] = 1\n",
    "                else:\n",
    "                    word = target_tokenized_stemmed[i]\n",
    "                    if word in Incorrect_Predictions:\n",
    "                        Incorrect_Predictions[word] += 1\n",
    "                    else:\n",
    "                        Incorrect_Predictions[word] = 1\n",
    "\n",
    "\n",
    "\n",
    "    target_word_counter = Counter(counter_list)\n",
    "    print(len(target_word_counter))\n",
    "    word_frequency = Counter(train_string_tokenized_stemmed)\n",
    "    print(len(word_frequency))\n",
    "\n",
    "    common_keys = set(target_word_counter.keys()) & set(word_frequency.keys())\n",
    "    word_frequency = {k: word_frequency[k] for k in common_keys}\n",
    "\n",
    "\n",
    "\n",
    "    return Correct_Predictions, Incorrect_Predictions, word_frequency\n"
   ],
   "metadata": {
    "collapsed": false,
    "ExecuteTime": {
     "start_time": "2023-12-18T13:57:44.706675Z",
     "end_time": "2023-12-18T13:57:44.724143Z"
    }
   }
  },
  {
   "cell_type": "code",
   "execution_count": 14,
   "outputs": [],
   "source": [
    "import re\n",
    "\n",
    "\n",
    "def calculate_tf(sentences):\n",
    "    term_frequencies = []\n",
    "\n",
    "    for sentence in sentences:\n",
    "        # Preprocess the sentence: convert to lowercase and remove non-alphanumeric characters\n",
    "        preprocessed_sentence = re.sub(r\"[^a-zA-Z0-9\\s]\", \"\", sentence.lower())\n",
    "\n",
    "        # Tokenize the sentence into words\n",
    "        words = preprocessed_sentence.split()\n",
    "\n",
    "        # Calculate term frequency using Counter\n",
    "        term_frequency = Counter(words)\n",
    "\n",
    "        # Normalize term frequency by dividing by the total number of terms in the sentence\n",
    "        total_terms = len(words)\n",
    "        normalized_tf = {term: frequency / total_terms for term, frequency in term_frequency.items()}\n",
    "\n",
    "        term_frequencies.append(normalized_tf)\n",
    "\n",
    "    return term_frequencies"
   ],
   "metadata": {
    "collapsed": false,
    "ExecuteTime": {
     "start_time": "2023-12-18T13:59:13.416738Z",
     "end_time": "2023-12-18T13:59:13.425676Z"
    }
   }
  },
  {
   "cell_type": "code",
   "execution_count": 15,
   "outputs": [],
   "source": [
    "def calculate_idf(sentences):\n",
    "    preprocessed_sentences = [re.sub(r\"[^a-zA-Z0-9\\s]\", \"\", sentence.lower()).split() for sentence in sentences]\n",
    "    unique_terms = set([term for words in preprocessed_sentences for term in words])\n",
    "    doc_frequencies = Counter()\n",
    "    for term in unique_terms:\n",
    "        for words in preprocessed_sentences:\n",
    "            if term in words:\n",
    "                doc_frequencies[term] += 1\n",
    "    total_documents = len(sentences)\n",
    "    idf_results = {term: math.log(total_documents / (1 + doc_frequency)) for term, doc_frequency in doc_frequencies.items()}\n",
    "    return idf_results"
   ],
   "metadata": {
    "collapsed": false,
    "ExecuteTime": {
     "start_time": "2023-12-18T13:59:13.794393Z",
     "end_time": "2023-12-18T13:59:13.811884Z"
    }
   }
  },
  {
   "cell_type": "code",
   "execution_count": 16,
   "outputs": [
    {
     "name": "stdout",
     "output_type": "stream",
     "text": [
      "873\n",
      "4027\n"
     ]
    }
   ],
   "source": [
    "Correct_Predictions, Incorrect_Predictions, word_frequency = get_word_classifcation_count(target_string_list, predicted_string_list, train_data, stemming=True, strict=False)"
   ],
   "metadata": {
    "collapsed": false,
    "ExecuteTime": {
     "start_time": "2023-12-18T13:59:14.297404Z",
     "end_time": "2023-12-18T13:59:54.044043Z"
    }
   }
  },
  {
   "cell_type": "code",
   "execution_count": 17,
   "outputs": [],
   "source": [
    "idf = calculate_idf(Sentences)"
   ],
   "metadata": {
    "collapsed": false,
    "ExecuteTime": {
     "start_time": "2023-12-18T13:59:54.044043Z",
     "end_time": "2023-12-18T14:00:12.485331Z"
    }
   }
  },
  {
   "cell_type": "code",
   "execution_count": 18,
   "outputs": [],
   "source": [
    "Accuracy = {}\n",
    "\n",
    "for key, value in Correct_Predictions.items():\n",
    "    Correct_Predictions_word = Correct_Predictions[key]\n",
    "    if key in Incorrect_Predictions:\n",
    "        Incorrect_Predictions_word = Incorrect_Predictions[key]\n",
    "\n",
    "\n",
    "\n",
    "        Accuracy[key] = Correct_Predictions_word/(Correct_Predictions_word + Incorrect_Predictions_word)\n",
    "\n"
   ],
   "metadata": {
    "collapsed": false,
    "ExecuteTime": {
     "start_time": "2023-12-18T14:00:12.490287Z",
     "end_time": "2023-12-18T14:00:12.509167Z"
    }
   }
  },
  {
   "cell_type": "code",
   "execution_count": 19,
   "outputs": [],
   "source": [
    "import nltk\n",
    "from nltk.corpus import stopwords\n",
    "sw_nltk = stopwords.words('english')\n",
    "\n",
    "stop_words_accuracy = {}\n",
    "stop_word_removal_Accuracy = {}\n",
    "for key, value in Accuracy.items():\n",
    "    if key not in sw_nltk:\n",
    "        stop_word_removal_Accuracy[key] = Accuracy[key]\n",
    "    else:\n",
    "        stop_words_accuracy[key] = Accuracy[key]"
   ],
   "metadata": {
    "collapsed": false,
    "ExecuteTime": {
     "start_time": "2023-12-18T14:00:12.509167Z",
     "end_time": "2023-12-18T14:00:12.525663Z"
    }
   }
  },
  {
   "cell_type": "code",
   "execution_count": 20,
   "outputs": [
    {
     "data": {
      "text/plain": "<Figure size 640x480 with 1 Axes>",
      "image/png": "[encoded data removed]"
     },
     "metadata": {},
     "output_type": "display_data"
    }
   ],
   "source": [
    "import matplotlib.pyplot as plt\n",
    "idf_threshold = 0.05  # Adjust as needed\n",
    "\n",
    "# Filter words based on TF-IDF score threshold\n",
    "filtered_words = [word for word, idf in idf.items() if idf > idf_threshold]\n",
    "filtered_tfidf_scores = [idf[word] for word in filtered_words]\n",
    "stop_word_removal_Accuracy = [stop_word_removal_Accuracy.get(word, 0) for word in filtered_words]\n",
    "stop_words_accuracy = [stop_words_accuracy.get(word, 0) for word in filtered_words]\n",
    "\n",
    "# Create figure and axes\n",
    "fig, ax = plt.subplots()\n",
    "\n",
    "# Plot correct predictions in blue\n",
    "ax.scatter(filtered_tfidf_scores, stop_word_removal_Accuracy, color='blue', alpha=0.5, label='No Stop Word')\n",
    "\n",
    "# Plot incorrect predictions in red\n",
    "ax.scatter(filtered_tfidf_scores, stop_words_accuracy, color='red', alpha=0.5, label='Stop Word')\n",
    "\n",
    "# Set labels and title\n",
    "ax.set_xlabel('IDF Score')\n",
    "ax.set_ylabel('Classification')\n",
    "plt.title('TF-IDF Score vs Classification (Above {} TF-IDF Score)'.format(idf_threshold))\n",
    "\n",
    "# Customize the plot\n",
    "plt.legend()\n",
    "plt.grid(True)\n",
    "plt.show()"
   ],
   "metadata": {
    "collapsed": false,
    "ExecuteTime": {
     "start_time": "2023-12-18T14:00:12.525663Z",
     "end_time": "2023-12-18T14:00:13.426479Z"
    }
   }
  },
  {
   "cell_type": "code",
   "execution_count": null,
   "outputs": [],
   "source": [],
   "metadata": {
    "collapsed": false
   }
  }
 ],
 "metadata": {
  "kernelspec": {
   "display_name": "Python 3",
   "language": "python",
   "name": "python3"
  },
  "language_info": {
   "codemirror_mode": {
    "name": "ipython",
    "version": 2
   },
   "file_extension": ".py",
   "mimetype": "text/x-python",
   "name": "python",
   "nbconvert_exporter": "python",
   "pygments_lexer": "ipython2",
   "version": "2.7.6"
  }
 },
 "nbformat": 4,
 "nbformat_minor": 0
}
