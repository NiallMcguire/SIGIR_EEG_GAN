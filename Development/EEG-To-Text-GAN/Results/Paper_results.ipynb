{
 "cells": [
  {
   "cell_type": "code",
   "execution_count": 1,
   "metadata": {
    "collapsed": true,
    "ExecuteTime": {
     "start_time": "2024-05-08T10:22:06.167651Z",
     "end_time": "2024-05-08T10:22:06.182697Z"
    }
   },
   "outputs": [],
   "source": [
    "import os\n",
    "import re\n",
    "import seaborn as sns\n",
    "import matplotlib.pyplot as plt"
   ]
  },
  {
   "cell_type": "code",
   "execution_count": 4,
   "outputs": [],
   "source": [
    "import pandas as pd\n",
    "import ast\n",
    "\n",
    "def parse_scores_from_file(file_path):\n",
    "    scores = {}\n",
    "    with open(file_path, 'r') as file:\n",
    "        data = file.read()\n",
    "\n",
    "        # Corpus BLEU scores\n",
    "        bleu_scores = re.findall(r'corpus BLEU-(\\d) score: (\\d+\\.\\d+)', data)\n",
    "        for n, score in bleu_scores:\n",
    "            scores[f'BLEU-{n}'] = float(score)\n",
    "\n",
    "        # ROUGE scores\n",
    "        rouge_scores_match = re.search(r'ROUGE score: ({.+})', data)\n",
    "        if rouge_scores_match:\n",
    "            rouge_scores_str = rouge_scores_match.group(1)\n",
    "            rouge_scores = ast.literal_eval(rouge_scores_str)\n",
    "            for rouge_type, rouge_values in rouge_scores.items():\n",
    "                for metric, value in rouge_values.items():\n",
    "                    scores[f'{rouge_type}-{metric}'] = value\n",
    "\n",
    "    return scores"
   ],
   "metadata": {
    "collapsed": false,
    "ExecuteTime": {
     "start_time": "2024-05-08T10:26:48.203095Z",
     "end_time": "2024-05-08T10:26:48.236223Z"
    }
   }
  },
  {
   "cell_type": "code",
   "execution_count": 5,
   "outputs": [],
   "source": [
    "path = r\"C:\\Users\\gxb18167\\OneDrive - University of Strathclyde\\Desktop\\PhD\\2nd year\\Results\\EEG-To-Text\\best\\Contextual\"\n",
    "dir_list = os.listdir(path)"
   ],
   "metadata": {
    "collapsed": false,
    "ExecuteTime": {
     "start_time": "2024-05-08T10:26:49.393750Z",
     "end_time": "2024-05-08T10:26:49.424856Z"
    }
   }
  },
  {
   "cell_type": "code",
   "execution_count": 6,
   "outputs": [],
   "source": [
    "#reading in files and assigning categories\n",
    "list_of_dfs = []\n",
    "for file in dir_list:\n",
    "    if \"25\" in file:\n",
    "        augmentation_size = \"25\"\n",
    "    elif \"100\" in file:\n",
    "        augmentation_size = \"100\"\n",
    "    elif \"50\" in file:\n",
    "        augmentation_size = \"50\"\n",
    "    elif \"75\" in file:\n",
    "        augmentation_size = \"75\"\n",
    "    elif \"40\" in file:\n",
    "        augmentation_size = \"40\"\n",
    "    elif \"60\" in file:\n",
    "        augmentation_size = \"60\"\n",
    "    elif \"55\" in file:\n",
    "        augmentation_size = \"55\"\n",
    "\n",
    "    if \"WGAN_v1_Text\" in file:\n",
    "        model = \"WGAN_v1_Text\"\n",
    "    elif \"DCGAN_v1_Text\" in file:\n",
    "        model = \"DCGAN_v1_Text\"\n",
    "    elif \"WGAN_v2_Text\" in file:\n",
    "        model = \"WGAN_v2_Text\"\n",
    "    elif \"DCGAN_v2_Text\" in file:\n",
    "        model = \"DCGAN_v2_Text\"\n",
    "\n",
    "    #augmentation type\n",
    "    if \"random\" in file:\n",
    "        augmentation_type = \"random\"\n",
    "    elif \"TF-IDF-Low\" in file:\n",
    "        augmentation_type = \"TF-IDF-Low\"\n",
    "    elif \"TF-IDF-High\" in file:\n",
    "        augmentation_type = \"TF-IDF-High\"\n",
    "    elif \"TF-IDF-Medium\" in file:\n",
    "        augmentation_type = \"TF-IDF-Medium\"\n",
    "\n",
    "    #generation type:\n",
    "    if \"Word_Level\" in file:\n",
    "        generation_type = \"Word_Level\"\n",
    "    elif \"Sentence_Level\" in file:\n",
    "        generation_type = \"Sentence_Level\"\n",
    "    elif \"Contextual\" in file:\n",
    "        generation_type = \"Contextual\"\n",
    "\n",
    "    scores = parse_scores_from_file(rf\"{path}\\{file}\")\n",
    "    df = pd.DataFrame([scores])\n",
    "    df[\"augmentation_size\"] = augmentation_size\n",
    "    df[\"model\"] = model\n",
    "    df[\"augmentation_type\"] = augmentation_type\n",
    "    df[\"generation_type\"] = generation_type\n",
    "\n",
    "    list_of_dfs.append(df)"
   ],
   "metadata": {
    "collapsed": false,
    "ExecuteTime": {
     "start_time": "2024-05-08T10:27:00.686868Z",
     "end_time": "2024-05-08T10:27:03.181389Z"
    }
   }
  },
  {
   "cell_type": "code",
   "execution_count": 38,
   "outputs": [],
   "source": [
    "df = pd.concat(list_of_dfs)"
   ],
   "metadata": {
    "collapsed": false,
    "ExecuteTime": {
     "start_time": "2024-05-08T11:22:50.135659Z",
     "end_time": "2024-05-08T11:22:50.150780Z"
    }
   }
  },
  {
   "cell_type": "code",
   "execution_count": 40,
   "outputs": [
    {
     "data": {
      "text/plain": "      BLEU-1    BLEU-2    BLEU-3    BLEU-4  rouge-1-r  rouge-1-p  rouge-1-f  \\\n0   0.109529  0.038105  0.019852  0.004138   0.121724   0.122846   0.098051   \n0   0.110153  0.038105  0.019852  0.004138   0.121724   0.122846   0.099051   \n0   0.099529  0.038105  0.019852  0.004138   0.121724   0.122846   0.091051   \n0   0.128546  0.026589  0.012785  0.002838   0.114272   0.141457   0.121494   \n0   0.135458  0.028888  0.017853  0.002380   0.122724   0.131457   0.141494   \n..       ...       ...       ...       ...        ...        ...        ...   \n0   0.145929  0.048105  0.020852  0.005138   0.121724   0.144228   0.132251   \n0   0.141529  0.048105  0.020852  0.005138   0.121724   0.144228   0.130121   \n0   0.121529  0.038105  0.019852  0.004138   0.121724   0.122846   0.124051   \n0   0.137012  0.018105  0.016852  0.004238   0.121724   0.102846   0.139051   \n0   0.110529  0.039211  0.020852  0.004138   0.121724   0.144228   0.120051   \n\n    rouge-2-r  rouge-2-p  rouge-2-f  rouge-l-r  rouge-l-p  rouge-l-f  \\\n0    0.025548   0.031165   0.026433   0.126657   0.105167   0.112517   \n0    0.025548   0.031165   0.026433   0.126657   0.105167   0.112517   \n0    0.025548   0.031165   0.026433   0.126657   0.105167   0.112517   \n0    0.013555   0.021165   0.015643   0.105666   0.147517   0.122517   \n0    0.013555   0.021654   0.016433   0.125666   0.157517   0.123325   \n..        ...        ...        ...        ...        ...        ...   \n0    0.022555   0.031165   0.022643   0.215666   0.147517   0.152517   \n0    0.022555   0.031165   0.022643   0.215666   0.147517   0.152517   \n0    0.025548   0.031165   0.026433   0.126657   0.105167   0.112517   \n0    0.022548   0.031654   0.023433   0.126657   0.105167   0.112517   \n0    0.022555   0.031165   0.022643   0.215666   0.147517   0.152517   \n\n   augmentation_size          model augmentation_type generation_type  \n0                100  DCGAN_v2_Text            random      Contextual  \n0                100  DCGAN_v2_Text            random  Sentence_Level  \n0                100  DCGAN_v2_Text            random      Word_Level  \n0                100  DCGAN_v2_Text            random      Contextual  \n0                100  DCGAN_v2_Text            random  Sentence_Level  \n..               ...            ...               ...             ...  \n0                 60  DCGAN_v2_Text            random  Sentence_Level  \n0                 60  DCGAN_v2_Text            random      Word_Level  \n0                 75  DCGAN_v2_Text            random      Contextual  \n0                 75  DCGAN_v2_Text            random  Sentence_Level  \n0                 75  DCGAN_v2_Text            random      Word_Level  \n\n[92 rows x 17 columns]",
      "text/html": "<div>\n<style scoped>\n    .dataframe tbody tr th:only-of-type {\n        vertical-align: middle;\n    }\n\n    .dataframe tbody tr th {\n        vertical-align: top;\n    }\n\n    .dataframe thead th {\n        text-align: right;\n    }\n</style>\n<table border=\"1\" class=\"dataframe\">\n  <thead>\n    <tr style=\"text-align: right;\">\n      <th></th>\n      <th>BLEU-1</th>\n      <th>BLEU-2</th>\n      <th>BLEU-3</th>\n      <th>BLEU-4</th>\n      <th>rouge-1-r</th>\n      <th>rouge-1-p</th>\n      <th>rouge-1-f</th>\n      <th>rouge-2-r</th>\n      <th>rouge-2-p</th>\n      <th>rouge-2-f</th>\n      <th>rouge-l-r</th>\n      <th>rouge-l-p</th>\n      <th>rouge-l-f</th>\n      <th>augmentation_size</th>\n      <th>model</th>\n      <th>augmentation_type</th>\n      <th>generation_type</th>\n    </tr>\n  </thead>\n  <tbody>\n    <tr>\n      <th>0</th>\n      <td>0.109529</td>\n      <td>0.038105</td>\n      <td>0.019852</td>\n      <td>0.004138</td>\n      <td>0.121724</td>\n      <td>0.122846</td>\n      <td>0.098051</td>\n      <td>0.025548</td>\n      <td>0.031165</td>\n      <td>0.026433</td>\n      <td>0.126657</td>\n      <td>0.105167</td>\n      <td>0.112517</td>\n      <td>100</td>\n      <td>DCGAN_v2_Text</td>\n      <td>random</td>\n      <td>Contextual</td>\n    </tr>\n    <tr>\n      <th>0</th>\n      <td>0.110153</td>\n      <td>0.038105</td>\n      <td>0.019852</td>\n      <td>0.004138</td>\n      <td>0.121724</td>\n      <td>0.122846</td>\n      <td>0.099051</td>\n      <td>0.025548</td>\n      <td>0.031165</td>\n      <td>0.026433</td>\n      <td>0.126657</td>\n      <td>0.105167</td>\n      <td>0.112517</td>\n      <td>100</td>\n      <td>DCGAN_v2_Text</td>\n      <td>random</td>\n      <td>Sentence_Level</td>\n    </tr>\n    <tr>\n      <th>0</th>\n      <td>0.099529</td>\n      <td>0.038105</td>\n      <td>0.019852</td>\n      <td>0.004138</td>\n      <td>0.121724</td>\n      <td>0.122846</td>\n      <td>0.091051</td>\n      <td>0.025548</td>\n      <td>0.031165</td>\n      <td>0.026433</td>\n      <td>0.126657</td>\n      <td>0.105167</td>\n      <td>0.112517</td>\n      <td>100</td>\n      <td>DCGAN_v2_Text</td>\n      <td>random</td>\n      <td>Word_Level</td>\n    </tr>\n    <tr>\n      <th>0</th>\n      <td>0.128546</td>\n      <td>0.026589</td>\n      <td>0.012785</td>\n      <td>0.002838</td>\n      <td>0.114272</td>\n      <td>0.141457</td>\n      <td>0.121494</td>\n      <td>0.013555</td>\n      <td>0.021165</td>\n      <td>0.015643</td>\n      <td>0.105666</td>\n      <td>0.147517</td>\n      <td>0.122517</td>\n      <td>100</td>\n      <td>DCGAN_v2_Text</td>\n      <td>random</td>\n      <td>Contextual</td>\n    </tr>\n    <tr>\n      <th>0</th>\n      <td>0.135458</td>\n      <td>0.028888</td>\n      <td>0.017853</td>\n      <td>0.002380</td>\n      <td>0.122724</td>\n      <td>0.131457</td>\n      <td>0.141494</td>\n      <td>0.013555</td>\n      <td>0.021654</td>\n      <td>0.016433</td>\n      <td>0.125666</td>\n      <td>0.157517</td>\n      <td>0.123325</td>\n      <td>100</td>\n      <td>DCGAN_v2_Text</td>\n      <td>random</td>\n      <td>Sentence_Level</td>\n    </tr>\n    <tr>\n      <th>...</th>\n      <td>...</td>\n      <td>...</td>\n      <td>...</td>\n      <td>...</td>\n      <td>...</td>\n      <td>...</td>\n      <td>...</td>\n      <td>...</td>\n      <td>...</td>\n      <td>...</td>\n      <td>...</td>\n      <td>...</td>\n      <td>...</td>\n      <td>...</td>\n      <td>...</td>\n      <td>...</td>\n      <td>...</td>\n    </tr>\n    <tr>\n      <th>0</th>\n      <td>0.145929</td>\n      <td>0.048105</td>\n      <td>0.020852</td>\n      <td>0.005138</td>\n      <td>0.121724</td>\n      <td>0.144228</td>\n      <td>0.132251</td>\n      <td>0.022555</td>\n      <td>0.031165</td>\n      <td>0.022643</td>\n      <td>0.215666</td>\n      <td>0.147517</td>\n      <td>0.152517</td>\n      <td>60</td>\n      <td>DCGAN_v2_Text</td>\n      <td>random</td>\n      <td>Sentence_Level</td>\n    </tr>\n    <tr>\n      <th>0</th>\n      <td>0.141529</td>\n      <td>0.048105</td>\n      <td>0.020852</td>\n      <td>0.005138</td>\n      <td>0.121724</td>\n      <td>0.144228</td>\n      <td>0.130121</td>\n      <td>0.022555</td>\n      <td>0.031165</td>\n      <td>0.022643</td>\n      <td>0.215666</td>\n      <td>0.147517</td>\n      <td>0.152517</td>\n      <td>60</td>\n      <td>DCGAN_v2_Text</td>\n      <td>random</td>\n      <td>Word_Level</td>\n    </tr>\n    <tr>\n      <th>0</th>\n      <td>0.121529</td>\n      <td>0.038105</td>\n      <td>0.019852</td>\n      <td>0.004138</td>\n      <td>0.121724</td>\n      <td>0.122846</td>\n      <td>0.124051</td>\n      <td>0.025548</td>\n      <td>0.031165</td>\n      <td>0.026433</td>\n      <td>0.126657</td>\n      <td>0.105167</td>\n      <td>0.112517</td>\n      <td>75</td>\n      <td>DCGAN_v2_Text</td>\n      <td>random</td>\n      <td>Contextual</td>\n    </tr>\n    <tr>\n      <th>0</th>\n      <td>0.137012</td>\n      <td>0.018105</td>\n      <td>0.016852</td>\n      <td>0.004238</td>\n      <td>0.121724</td>\n      <td>0.102846</td>\n      <td>0.139051</td>\n      <td>0.022548</td>\n      <td>0.031654</td>\n      <td>0.023433</td>\n      <td>0.126657</td>\n      <td>0.105167</td>\n      <td>0.112517</td>\n      <td>75</td>\n      <td>DCGAN_v2_Text</td>\n      <td>random</td>\n      <td>Sentence_Level</td>\n    </tr>\n    <tr>\n      <th>0</th>\n      <td>0.110529</td>\n      <td>0.039211</td>\n      <td>0.020852</td>\n      <td>0.004138</td>\n      <td>0.121724</td>\n      <td>0.144228</td>\n      <td>0.120051</td>\n      <td>0.022555</td>\n      <td>0.031165</td>\n      <td>0.022643</td>\n      <td>0.215666</td>\n      <td>0.147517</td>\n      <td>0.152517</td>\n      <td>75</td>\n      <td>DCGAN_v2_Text</td>\n      <td>random</td>\n      <td>Word_Level</td>\n    </tr>\n  </tbody>\n</table>\n<p>92 rows × 17 columns</p>\n</div>"
     },
     "execution_count": 40,
     "metadata": {},
     "output_type": "execute_result"
    }
   ],
   "source": [
    "df"
   ],
   "metadata": {
    "collapsed": false,
    "ExecuteTime": {
     "start_time": "2024-05-08T11:22:54.342856Z",
     "end_time": "2024-05-08T11:22:54.386651Z"
    }
   }
  },
  {
   "cell_type": "code",
   "execution_count": 42,
   "outputs": [
    {
     "ename": "KeyError",
     "evalue": "\"None of [Index(['25', '55', '75', '100'], dtype='object', name='augmentation_type')] are in the [index]\"",
     "output_type": "error",
     "traceback": [
      "\u001B[1;31m---------------------------------------------------------------------------\u001B[0m",
      "\u001B[1;31mKeyError\u001B[0m                                  Traceback (most recent call last)",
      "Cell \u001B[1;32mIn[42], line 8\u001B[0m\n\u001B[0;32m      5\u001B[0m contextual \u001B[38;5;241m=\u001B[39m contextual\u001B[38;5;241m.\u001B[39mgroupby(\u001B[38;5;124m\"\u001B[39m\u001B[38;5;124maugmentation_type\u001B[39m\u001B[38;5;124m\"\u001B[39m)\u001B[38;5;241m.\u001B[39magg([\u001B[38;5;124m\"\u001B[39m\u001B[38;5;124mmean\u001B[39m\u001B[38;5;124m\"\u001B[39m, \u001B[38;5;124m\"\u001B[39m\u001B[38;5;124mstd\u001B[39m\u001B[38;5;124m\"\u001B[39m])\n\u001B[0;32m      7\u001B[0m \u001B[38;5;66;03m#only 25, 55, 75, and 100\u001B[39;00m\n\u001B[1;32m----> 8\u001B[0m contextual \u001B[38;5;241m=\u001B[39m \u001B[43mcontextual\u001B[49m\u001B[38;5;241;43m.\u001B[39;49m\u001B[43mloc\u001B[49m\u001B[43m[\u001B[49m\u001B[43m[\u001B[49m\u001B[38;5;124;43m\"\u001B[39;49m\u001B[38;5;124;43m25\u001B[39;49m\u001B[38;5;124;43m\"\u001B[39;49m\u001B[43m,\u001B[49m\u001B[43m \u001B[49m\u001B[38;5;124;43m\"\u001B[39;49m\u001B[38;5;124;43m55\u001B[39;49m\u001B[38;5;124;43m\"\u001B[39;49m\u001B[43m,\u001B[49m\u001B[43m \u001B[49m\u001B[38;5;124;43m\"\u001B[39;49m\u001B[38;5;124;43m75\u001B[39;49m\u001B[38;5;124;43m\"\u001B[39;49m\u001B[43m,\u001B[49m\u001B[43m \u001B[49m\u001B[38;5;124;43m\"\u001B[39;49m\u001B[38;5;124;43m100\u001B[39;49m\u001B[38;5;124;43m\"\u001B[39;49m\u001B[43m]\u001B[49m\u001B[43m]\u001B[49m\n\u001B[0;32m     10\u001B[0m word_level \u001B[38;5;241m=\u001B[39m df[df[\u001B[38;5;124m\"\u001B[39m\u001B[38;5;124mgeneration_type\u001B[39m\u001B[38;5;124m\"\u001B[39m] \u001B[38;5;241m==\u001B[39m \u001B[38;5;124m\"\u001B[39m\u001B[38;5;124mWord_Level\u001B[39m\u001B[38;5;124m\"\u001B[39m]\n\u001B[0;32m     11\u001B[0m word_level \u001B[38;5;241m=\u001B[39m word_level[[\u001B[38;5;124m\"\u001B[39m\u001B[38;5;124mBLEU-1\u001B[39m\u001B[38;5;124m\"\u001B[39m, \u001B[38;5;124m\"\u001B[39m\u001B[38;5;124mrouge-1-f\u001B[39m\u001B[38;5;124m\"\u001B[39m, \u001B[38;5;124m\"\u001B[39m\u001B[38;5;124maugmentation_size\u001B[39m\u001B[38;5;124m\"\u001B[39m]]\n",
      "File \u001B[1;32m~\\Anaconda3\\lib\\site-packages\\pandas\\core\\indexing.py:1073\u001B[0m, in \u001B[0;36m_LocationIndexer.__getitem__\u001B[1;34m(self, key)\u001B[0m\n\u001B[0;32m   1070\u001B[0m axis \u001B[38;5;241m=\u001B[39m \u001B[38;5;28mself\u001B[39m\u001B[38;5;241m.\u001B[39maxis \u001B[38;5;129;01mor\u001B[39;00m \u001B[38;5;241m0\u001B[39m\n\u001B[0;32m   1072\u001B[0m maybe_callable \u001B[38;5;241m=\u001B[39m com\u001B[38;5;241m.\u001B[39mapply_if_callable(key, \u001B[38;5;28mself\u001B[39m\u001B[38;5;241m.\u001B[39mobj)\n\u001B[1;32m-> 1073\u001B[0m \u001B[38;5;28;01mreturn\u001B[39;00m \u001B[38;5;28;43mself\u001B[39;49m\u001B[38;5;241;43m.\u001B[39;49m\u001B[43m_getitem_axis\u001B[49m\u001B[43m(\u001B[49m\u001B[43mmaybe_callable\u001B[49m\u001B[43m,\u001B[49m\u001B[43m \u001B[49m\u001B[43maxis\u001B[49m\u001B[38;5;241;43m=\u001B[39;49m\u001B[43maxis\u001B[49m\u001B[43m)\u001B[49m\n",
      "File \u001B[1;32m~\\Anaconda3\\lib\\site-packages\\pandas\\core\\indexing.py:1301\u001B[0m, in \u001B[0;36m_LocIndexer._getitem_axis\u001B[1;34m(self, key, axis)\u001B[0m\n\u001B[0;32m   1298\u001B[0m     \u001B[38;5;28;01mif\u001B[39;00m \u001B[38;5;28mhasattr\u001B[39m(key, \u001B[38;5;124m\"\u001B[39m\u001B[38;5;124mndim\u001B[39m\u001B[38;5;124m\"\u001B[39m) \u001B[38;5;129;01mand\u001B[39;00m key\u001B[38;5;241m.\u001B[39mndim \u001B[38;5;241m>\u001B[39m \u001B[38;5;241m1\u001B[39m:\n\u001B[0;32m   1299\u001B[0m         \u001B[38;5;28;01mraise\u001B[39;00m \u001B[38;5;167;01mValueError\u001B[39;00m(\u001B[38;5;124m\"\u001B[39m\u001B[38;5;124mCannot index with multidimensional key\u001B[39m\u001B[38;5;124m\"\u001B[39m)\n\u001B[1;32m-> 1301\u001B[0m     \u001B[38;5;28;01mreturn\u001B[39;00m \u001B[38;5;28;43mself\u001B[39;49m\u001B[38;5;241;43m.\u001B[39;49m\u001B[43m_getitem_iterable\u001B[49m\u001B[43m(\u001B[49m\u001B[43mkey\u001B[49m\u001B[43m,\u001B[49m\u001B[43m \u001B[49m\u001B[43maxis\u001B[49m\u001B[38;5;241;43m=\u001B[39;49m\u001B[43maxis\u001B[49m\u001B[43m)\u001B[49m\n\u001B[0;32m   1303\u001B[0m \u001B[38;5;66;03m# nested tuple slicing\u001B[39;00m\n\u001B[0;32m   1304\u001B[0m \u001B[38;5;28;01mif\u001B[39;00m is_nested_tuple(key, labels):\n",
      "File \u001B[1;32m~\\Anaconda3\\lib\\site-packages\\pandas\\core\\indexing.py:1239\u001B[0m, in \u001B[0;36m_LocIndexer._getitem_iterable\u001B[1;34m(self, key, axis)\u001B[0m\n\u001B[0;32m   1236\u001B[0m \u001B[38;5;28mself\u001B[39m\u001B[38;5;241m.\u001B[39m_validate_key(key, axis)\n\u001B[0;32m   1238\u001B[0m \u001B[38;5;66;03m# A collection of keys\u001B[39;00m\n\u001B[1;32m-> 1239\u001B[0m keyarr, indexer \u001B[38;5;241m=\u001B[39m \u001B[38;5;28;43mself\u001B[39;49m\u001B[38;5;241;43m.\u001B[39;49m\u001B[43m_get_listlike_indexer\u001B[49m\u001B[43m(\u001B[49m\u001B[43mkey\u001B[49m\u001B[43m,\u001B[49m\u001B[43m \u001B[49m\u001B[43maxis\u001B[49m\u001B[43m)\u001B[49m\n\u001B[0;32m   1240\u001B[0m \u001B[38;5;28;01mreturn\u001B[39;00m \u001B[38;5;28mself\u001B[39m\u001B[38;5;241m.\u001B[39mobj\u001B[38;5;241m.\u001B[39m_reindex_with_indexers(\n\u001B[0;32m   1241\u001B[0m     {axis: [keyarr, indexer]}, copy\u001B[38;5;241m=\u001B[39m\u001B[38;5;28;01mTrue\u001B[39;00m, allow_dups\u001B[38;5;241m=\u001B[39m\u001B[38;5;28;01mTrue\u001B[39;00m\n\u001B[0;32m   1242\u001B[0m )\n",
      "File \u001B[1;32m~\\Anaconda3\\lib\\site-packages\\pandas\\core\\indexing.py:1432\u001B[0m, in \u001B[0;36m_LocIndexer._get_listlike_indexer\u001B[1;34m(self, key, axis)\u001B[0m\n\u001B[0;32m   1429\u001B[0m ax \u001B[38;5;241m=\u001B[39m \u001B[38;5;28mself\u001B[39m\u001B[38;5;241m.\u001B[39mobj\u001B[38;5;241m.\u001B[39m_get_axis(axis)\n\u001B[0;32m   1430\u001B[0m axis_name \u001B[38;5;241m=\u001B[39m \u001B[38;5;28mself\u001B[39m\u001B[38;5;241m.\u001B[39mobj\u001B[38;5;241m.\u001B[39m_get_axis_name(axis)\n\u001B[1;32m-> 1432\u001B[0m keyarr, indexer \u001B[38;5;241m=\u001B[39m \u001B[43max\u001B[49m\u001B[38;5;241;43m.\u001B[39;49m\u001B[43m_get_indexer_strict\u001B[49m\u001B[43m(\u001B[49m\u001B[43mkey\u001B[49m\u001B[43m,\u001B[49m\u001B[43m \u001B[49m\u001B[43maxis_name\u001B[49m\u001B[43m)\u001B[49m\n\u001B[0;32m   1434\u001B[0m \u001B[38;5;28;01mreturn\u001B[39;00m keyarr, indexer\n",
      "File \u001B[1;32m~\\Anaconda3\\lib\\site-packages\\pandas\\core\\indexes\\base.py:6070\u001B[0m, in \u001B[0;36mIndex._get_indexer_strict\u001B[1;34m(self, key, axis_name)\u001B[0m\n\u001B[0;32m   6067\u001B[0m \u001B[38;5;28;01melse\u001B[39;00m:\n\u001B[0;32m   6068\u001B[0m     keyarr, indexer, new_indexer \u001B[38;5;241m=\u001B[39m \u001B[38;5;28mself\u001B[39m\u001B[38;5;241m.\u001B[39m_reindex_non_unique(keyarr)\n\u001B[1;32m-> 6070\u001B[0m \u001B[38;5;28;43mself\u001B[39;49m\u001B[38;5;241;43m.\u001B[39;49m\u001B[43m_raise_if_missing\u001B[49m\u001B[43m(\u001B[49m\u001B[43mkeyarr\u001B[49m\u001B[43m,\u001B[49m\u001B[43m \u001B[49m\u001B[43mindexer\u001B[49m\u001B[43m,\u001B[49m\u001B[43m \u001B[49m\u001B[43maxis_name\u001B[49m\u001B[43m)\u001B[49m\n\u001B[0;32m   6072\u001B[0m keyarr \u001B[38;5;241m=\u001B[39m \u001B[38;5;28mself\u001B[39m\u001B[38;5;241m.\u001B[39mtake(indexer)\n\u001B[0;32m   6073\u001B[0m \u001B[38;5;28;01mif\u001B[39;00m \u001B[38;5;28misinstance\u001B[39m(key, Index):\n\u001B[0;32m   6074\u001B[0m     \u001B[38;5;66;03m# GH 42790 - Preserve name from an Index\u001B[39;00m\n",
      "File \u001B[1;32m~\\Anaconda3\\lib\\site-packages\\pandas\\core\\indexes\\base.py:6130\u001B[0m, in \u001B[0;36mIndex._raise_if_missing\u001B[1;34m(self, key, indexer, axis_name)\u001B[0m\n\u001B[0;32m   6128\u001B[0m     \u001B[38;5;28;01mif\u001B[39;00m use_interval_msg:\n\u001B[0;32m   6129\u001B[0m         key \u001B[38;5;241m=\u001B[39m \u001B[38;5;28mlist\u001B[39m(key)\n\u001B[1;32m-> 6130\u001B[0m     \u001B[38;5;28;01mraise\u001B[39;00m \u001B[38;5;167;01mKeyError\u001B[39;00m(\u001B[38;5;124mf\u001B[39m\u001B[38;5;124m\"\u001B[39m\u001B[38;5;124mNone of [\u001B[39m\u001B[38;5;132;01m{\u001B[39;00mkey\u001B[38;5;132;01m}\u001B[39;00m\u001B[38;5;124m] are in the [\u001B[39m\u001B[38;5;132;01m{\u001B[39;00maxis_name\u001B[38;5;132;01m}\u001B[39;00m\u001B[38;5;124m]\u001B[39m\u001B[38;5;124m\"\u001B[39m)\n\u001B[0;32m   6132\u001B[0m not_found \u001B[38;5;241m=\u001B[39m \u001B[38;5;28mlist\u001B[39m(ensure_index(key)[missing_mask\u001B[38;5;241m.\u001B[39mnonzero()[\u001B[38;5;241m0\u001B[39m]]\u001B[38;5;241m.\u001B[39munique())\n\u001B[0;32m   6133\u001B[0m \u001B[38;5;28;01mraise\u001B[39;00m \u001B[38;5;167;01mKeyError\u001B[39;00m(\u001B[38;5;124mf\u001B[39m\u001B[38;5;124m\"\u001B[39m\u001B[38;5;132;01m{\u001B[39;00mnot_found\u001B[38;5;132;01m}\u001B[39;00m\u001B[38;5;124m not in index\u001B[39m\u001B[38;5;124m\"\u001B[39m)\n",
      "\u001B[1;31mKeyError\u001B[0m: \"None of [Index(['25', '55', '75', '100'], dtype='object', name='augmentation_type')] are in the [index]\""
     ]
    }
   ],
   "source": [
    "#average accuracy for each augmentation size with standard deviation\n",
    "#just BLEU-1 and rouge-1-f and standard deviation for contextual only\n",
    "contextual = df[df[\"generation_type\"] == \"Contextual\"]\n",
    "contextual = contextual[[\"BLEU-1\", \"rouge-1-f\", \"augmentation_size\"]]\n",
    "contextual = contextual.groupby(\"augmentation_type\").agg([\"mean\", \"std\"])\n",
    "\n",
    "#only 25, 55, 75, and 100\n",
    "contextual = contextual.loc[[\"25\", \"55\", \"75\", \"100\"]]\n",
    "\n",
    "word_level = df[df[\"generation_type\"] == \"Word_Level\"]\n",
    "word_level = word_level[[\"BLEU-1\", \"rouge-1-f\", \"augmentation_size\"]]\n",
    "word_level = word_level.groupby(\"augmentation_size\").agg([\"mean\", \"std\"])\n",
    "\n",
    "word_level = word_level.loc[[\"25\", \"55\", \"75\", \"100\"]]\n",
    "\n",
    "sentence_level = df[df[\"generation_type\"] == \"Sentence_Level\"]\n",
    "sentence_level = sentence_level[[\"BLEU-1\", \"rouge-1-f\", \"augmentation_size\"]]\n",
    "sentence_level = sentence_level.groupby(\"augmentation_size\").agg([\"mean\", \"std\"])\n",
    "\n",
    "sentence_level = sentence_level.loc[[\"25\", \"55\", \"75\", \"100\"]]\n",
    "\n"
   ],
   "metadata": {
    "collapsed": false,
    "ExecuteTime": {
     "start_time": "2024-05-08T11:01:27.573677Z",
     "end_time": "2024-05-08T11:01:27.636649Z"
    }
   }
  },
  {
   "cell_type": "code",
   "execution_count": 32,
   "outputs": [
    {
     "data": {
      "text/plain": "                     BLEU-1           rouge-1-f          \n                       mean       std      mean       std\naugmentation_size                                        \n25                 0.120450  0.041639  0.118965  0.025753\n55                 0.140294       NaN  0.136051       NaN\n75                 0.121529       NaN  0.124051       NaN\n100                0.119086  0.019711  0.118868  0.019129",
      "text/html": "<div>\n<style scoped>\n    .dataframe tbody tr th:only-of-type {\n        vertical-align: middle;\n    }\n\n    .dataframe tbody tr th {\n        vertical-align: top;\n    }\n\n    .dataframe thead tr th {\n        text-align: left;\n    }\n\n    .dataframe thead tr:last-of-type th {\n        text-align: right;\n    }\n</style>\n<table border=\"1\" class=\"dataframe\">\n  <thead>\n    <tr>\n      <th></th>\n      <th colspan=\"2\" halign=\"left\">BLEU-1</th>\n      <th colspan=\"2\" halign=\"left\">rouge-1-f</th>\n    </tr>\n    <tr>\n      <th></th>\n      <th>mean</th>\n      <th>std</th>\n      <th>mean</th>\n      <th>std</th>\n    </tr>\n    <tr>\n      <th>augmentation_size</th>\n      <th></th>\n      <th></th>\n      <th></th>\n      <th></th>\n    </tr>\n  </thead>\n  <tbody>\n    <tr>\n      <th>25</th>\n      <td>0.120450</td>\n      <td>0.041639</td>\n      <td>0.118965</td>\n      <td>0.025753</td>\n    </tr>\n    <tr>\n      <th>55</th>\n      <td>0.140294</td>\n      <td>NaN</td>\n      <td>0.136051</td>\n      <td>NaN</td>\n    </tr>\n    <tr>\n      <th>75</th>\n      <td>0.121529</td>\n      <td>NaN</td>\n      <td>0.124051</td>\n      <td>NaN</td>\n    </tr>\n    <tr>\n      <th>100</th>\n      <td>0.119086</td>\n      <td>0.019711</td>\n      <td>0.118868</td>\n      <td>0.019129</td>\n    </tr>\n  </tbody>\n</table>\n</div>"
     },
     "execution_count": 32,
     "metadata": {},
     "output_type": "execute_result"
    }
   ],
   "source": [
    "contextual"
   ],
   "metadata": {
    "collapsed": false,
    "ExecuteTime": {
     "start_time": "2024-05-08T11:01:28.102041Z",
     "end_time": "2024-05-08T11:01:28.195827Z"
    }
   }
  },
  {
   "cell_type": "code",
   "execution_count": 33,
   "outputs": [
    {
     "data": {
      "text/plain": "                     BLEU-1           rouge-1-f          \n                       mean       std      mean       std\naugmentation_size                                        \n25                 0.132441  0.022749  0.118836  0.022132\n55                 0.165029       NaN  0.152001       NaN\n75                 0.137012       NaN  0.139051       NaN\n100                0.115428  0.016566  0.122503  0.015207",
      "text/html": "<div>\n<style scoped>\n    .dataframe tbody tr th:only-of-type {\n        vertical-align: middle;\n    }\n\n    .dataframe tbody tr th {\n        vertical-align: top;\n    }\n\n    .dataframe thead tr th {\n        text-align: left;\n    }\n\n    .dataframe thead tr:last-of-type th {\n        text-align: right;\n    }\n</style>\n<table border=\"1\" class=\"dataframe\">\n  <thead>\n    <tr>\n      <th></th>\n      <th colspan=\"2\" halign=\"left\">BLEU-1</th>\n      <th colspan=\"2\" halign=\"left\">rouge-1-f</th>\n    </tr>\n    <tr>\n      <th></th>\n      <th>mean</th>\n      <th>std</th>\n      <th>mean</th>\n      <th>std</th>\n    </tr>\n    <tr>\n      <th>augmentation_size</th>\n      <th></th>\n      <th></th>\n      <th></th>\n      <th></th>\n    </tr>\n  </thead>\n  <tbody>\n    <tr>\n      <th>25</th>\n      <td>0.132441</td>\n      <td>0.022749</td>\n      <td>0.118836</td>\n      <td>0.022132</td>\n    </tr>\n    <tr>\n      <th>55</th>\n      <td>0.165029</td>\n      <td>NaN</td>\n      <td>0.152001</td>\n      <td>NaN</td>\n    </tr>\n    <tr>\n      <th>75</th>\n      <td>0.137012</td>\n      <td>NaN</td>\n      <td>0.139051</td>\n      <td>NaN</td>\n    </tr>\n    <tr>\n      <th>100</th>\n      <td>0.115428</td>\n      <td>0.016566</td>\n      <td>0.122503</td>\n      <td>0.015207</td>\n    </tr>\n  </tbody>\n</table>\n</div>"
     },
     "execution_count": 33,
     "metadata": {},
     "output_type": "execute_result"
    }
   ],
   "source": [
    "sentence_level"
   ],
   "metadata": {
    "collapsed": false,
    "ExecuteTime": {
     "start_time": "2024-05-08T11:01:29.372461Z",
     "end_time": "2024-05-08T11:01:29.423959Z"
    }
   }
  },
  {
   "cell_type": "code",
   "execution_count": 34,
   "outputs": [
    {
     "data": {
      "text/plain": "                     BLEU-1           rouge-1-f          \n                       mean       std      mean       std\naugmentation_size                                        \n25                 0.129482  0.025163  0.124639  0.014464\n55                 0.146294       NaN  0.135051       NaN\n75                 0.110529       NaN  0.120051       NaN\n100                0.115494  0.013927  0.113215  0.018192",
      "text/html": "<div>\n<style scoped>\n    .dataframe tbody tr th:only-of-type {\n        vertical-align: middle;\n    }\n\n    .dataframe tbody tr th {\n        vertical-align: top;\n    }\n\n    .dataframe thead tr th {\n        text-align: left;\n    }\n\n    .dataframe thead tr:last-of-type th {\n        text-align: right;\n    }\n</style>\n<table border=\"1\" class=\"dataframe\">\n  <thead>\n    <tr>\n      <th></th>\n      <th colspan=\"2\" halign=\"left\">BLEU-1</th>\n      <th colspan=\"2\" halign=\"left\">rouge-1-f</th>\n    </tr>\n    <tr>\n      <th></th>\n      <th>mean</th>\n      <th>std</th>\n      <th>mean</th>\n      <th>std</th>\n    </tr>\n    <tr>\n      <th>augmentation_size</th>\n      <th></th>\n      <th></th>\n      <th></th>\n      <th></th>\n    </tr>\n  </thead>\n  <tbody>\n    <tr>\n      <th>25</th>\n      <td>0.129482</td>\n      <td>0.025163</td>\n      <td>0.124639</td>\n      <td>0.014464</td>\n    </tr>\n    <tr>\n      <th>55</th>\n      <td>0.146294</td>\n      <td>NaN</td>\n      <td>0.135051</td>\n      <td>NaN</td>\n    </tr>\n    <tr>\n      <th>75</th>\n      <td>0.110529</td>\n      <td>NaN</td>\n      <td>0.120051</td>\n      <td>NaN</td>\n    </tr>\n    <tr>\n      <th>100</th>\n      <td>0.115494</td>\n      <td>0.013927</td>\n      <td>0.113215</td>\n      <td>0.018192</td>\n    </tr>\n  </tbody>\n</table>\n</div>"
     },
     "execution_count": 34,
     "metadata": {},
     "output_type": "execute_result"
    }
   ],
   "source": [
    "word_level"
   ],
   "metadata": {
    "collapsed": false,
    "ExecuteTime": {
     "start_time": "2024-05-08T11:01:38.260156Z",
     "end_time": "2024-05-08T11:01:38.324611Z"
    }
   }
  },
  {
   "cell_type": "code",
   "execution_count": 42,
   "outputs": [],
   "source": [],
   "metadata": {
    "collapsed": false,
    "ExecuteTime": {
     "start_time": "2024-05-08T11:23:27.173078Z",
     "end_time": "2024-05-08T11:23:27.235542Z"
    }
   }
  },
  {
   "cell_type": "code",
   "execution_count": 44,
   "outputs": [],
   "source": [
    "#average accuracy for each augmentation type with standard deviation\n",
    "#just BLEU-1 and rouge-1-f and standard deviation for contextual only\n",
    "contextual = df[df[\"generation_type\"] == \"Contextual\"]\n",
    "contextual = contextual[[\"BLEU-1\", \"rouge-1-f\", \"augmentation_type\"]]\n",
    "contextual = contextual.groupby(\"augmentation_type\").agg([\"mean\", \"std\"])"
   ],
   "metadata": {
    "collapsed": false,
    "ExecuteTime": {
     "start_time": "2024-05-08T11:23:53.022838Z",
     "end_time": "2024-05-08T11:23:53.038880Z"
    }
   }
  },
  {
   "cell_type": "code",
   "execution_count": 45,
   "outputs": [],
   "source": [
    "\n",
    "word_level = df[df[\"generation_type\"] == \"Word_Level\"]\n",
    "word_level = word_level[[\"BLEU-1\", \"rouge-1-f\", \"augmentation_type\"]]\n",
    "word_level = word_level.groupby(\"augmentation_type\").agg([\"mean\", \"std\"])\n",
    "\n",
    "sentence_level = df[df[\"generation_type\"] == \"Sentence_Level\"]\n",
    "sentence_level = sentence_level[[\"BLEU-1\", \"rouge-1-f\", \"augmentation_type\"]]\n",
    "sentence_level = sentence_level.groupby(\"augmentation_type\").agg([\"mean\", \"std\"])\n"
   ],
   "metadata": {
    "collapsed": false,
    "ExecuteTime": {
     "start_time": "2024-05-08T11:24:05.105821Z",
     "end_time": "2024-05-08T11:24:05.187066Z"
    }
   }
  },
  {
   "cell_type": "code",
   "execution_count": 46,
   "outputs": [
    {
     "data": {
      "text/plain": "                     BLEU-1           rouge-1-f          \n                       mean       std      mean       std\naugmentation_type                                        \nTF-IDF-High        0.118289  0.024743  0.128824  0.005424\nTF-IDF-Low         0.129806  0.026946  0.114126  0.017663\nTF-IDF-Medium      0.145783  0.014791  0.121691  0.010243\nrandom             0.125540  0.036294  0.124339  0.023521",
      "text/html": "<div>\n<style scoped>\n    .dataframe tbody tr th:only-of-type {\n        vertical-align: middle;\n    }\n\n    .dataframe tbody tr th {\n        vertical-align: top;\n    }\n\n    .dataframe thead tr th {\n        text-align: left;\n    }\n\n    .dataframe thead tr:last-of-type th {\n        text-align: right;\n    }\n</style>\n<table border=\"1\" class=\"dataframe\">\n  <thead>\n    <tr>\n      <th></th>\n      <th colspan=\"2\" halign=\"left\">BLEU-1</th>\n      <th colspan=\"2\" halign=\"left\">rouge-1-f</th>\n    </tr>\n    <tr>\n      <th></th>\n      <th>mean</th>\n      <th>std</th>\n      <th>mean</th>\n      <th>std</th>\n    </tr>\n    <tr>\n      <th>augmentation_type</th>\n      <th></th>\n      <th></th>\n      <th></th>\n      <th></th>\n    </tr>\n  </thead>\n  <tbody>\n    <tr>\n      <th>TF-IDF-High</th>\n      <td>0.118289</td>\n      <td>0.024743</td>\n      <td>0.128824</td>\n      <td>0.005424</td>\n    </tr>\n    <tr>\n      <th>TF-IDF-Low</th>\n      <td>0.129806</td>\n      <td>0.026946</td>\n      <td>0.114126</td>\n      <td>0.017663</td>\n    </tr>\n    <tr>\n      <th>TF-IDF-Medium</th>\n      <td>0.145783</td>\n      <td>0.014791</td>\n      <td>0.121691</td>\n      <td>0.010243</td>\n    </tr>\n    <tr>\n      <th>random</th>\n      <td>0.125540</td>\n      <td>0.036294</td>\n      <td>0.124339</td>\n      <td>0.023521</td>\n    </tr>\n  </tbody>\n</table>\n</div>"
     },
     "execution_count": 46,
     "metadata": {},
     "output_type": "execute_result"
    }
   ],
   "source": [
    "contextual"
   ],
   "metadata": {
    "collapsed": false,
    "ExecuteTime": {
     "start_time": "2024-05-08T11:24:06.618849Z",
     "end_time": "2024-05-08T11:24:06.705312Z"
    }
   }
  },
  {
   "cell_type": "code",
   "execution_count": 47,
   "outputs": [
    {
     "data": {
      "text/plain": "                     BLEU-1           rouge-1-f          \n                       mean       std      mean       std\naugmentation_type                                        \nTF-IDF-High        0.120560  0.023120  0.125630  0.022495\nTF-IDF-Low         0.138135  0.029657  0.113659  0.015691\nTF-IDF-Medium      0.138298  0.015573  0.116912  0.013736\nrandom             0.132361  0.022973  0.133307  0.016037",
      "text/html": "<div>\n<style scoped>\n    .dataframe tbody tr th:only-of-type {\n        vertical-align: middle;\n    }\n\n    .dataframe tbody tr th {\n        vertical-align: top;\n    }\n\n    .dataframe thead tr th {\n        text-align: left;\n    }\n\n    .dataframe thead tr:last-of-type th {\n        text-align: right;\n    }\n</style>\n<table border=\"1\" class=\"dataframe\">\n  <thead>\n    <tr>\n      <th></th>\n      <th colspan=\"2\" halign=\"left\">BLEU-1</th>\n      <th colspan=\"2\" halign=\"left\">rouge-1-f</th>\n    </tr>\n    <tr>\n      <th></th>\n      <th>mean</th>\n      <th>std</th>\n      <th>mean</th>\n      <th>std</th>\n    </tr>\n    <tr>\n      <th>augmentation_type</th>\n      <th></th>\n      <th></th>\n      <th></th>\n      <th></th>\n    </tr>\n  </thead>\n  <tbody>\n    <tr>\n      <th>TF-IDF-High</th>\n      <td>0.120560</td>\n      <td>0.023120</td>\n      <td>0.125630</td>\n      <td>0.022495</td>\n    </tr>\n    <tr>\n      <th>TF-IDF-Low</th>\n      <td>0.138135</td>\n      <td>0.029657</td>\n      <td>0.113659</td>\n      <td>0.015691</td>\n    </tr>\n    <tr>\n      <th>TF-IDF-Medium</th>\n      <td>0.138298</td>\n      <td>0.015573</td>\n      <td>0.116912</td>\n      <td>0.013736</td>\n    </tr>\n    <tr>\n      <th>random</th>\n      <td>0.132361</td>\n      <td>0.022973</td>\n      <td>0.133307</td>\n      <td>0.016037</td>\n    </tr>\n  </tbody>\n</table>\n</div>"
     },
     "execution_count": 47,
     "metadata": {},
     "output_type": "execute_result"
    }
   ],
   "source": [
    "sentence_level"
   ],
   "metadata": {
    "collapsed": false,
    "ExecuteTime": {
     "start_time": "2024-05-08T11:41:26.438795Z",
     "end_time": "2024-05-08T11:41:26.501710Z"
    }
   }
  },
  {
   "cell_type": "code",
   "execution_count": 48,
   "outputs": [
    {
     "data": {
      "text/plain": "                     BLEU-1           rouge-1-f          \n                       mean       std      mean       std\naugmentation_type                                        \nTF-IDF-High        0.114442  0.033008  0.120874  0.024323\nTF-IDF-Low         0.120305  0.017727  0.121475  0.015149\nTF-IDF-Medium      0.118587  0.017385  0.120375  0.015289\nrandom             0.130987  0.014569  0.123141  0.011352",
      "text/html": "<div>\n<style scoped>\n    .dataframe tbody tr th:only-of-type {\n        vertical-align: middle;\n    }\n\n    .dataframe tbody tr th {\n        vertical-align: top;\n    }\n\n    .dataframe thead tr th {\n        text-align: left;\n    }\n\n    .dataframe thead tr:last-of-type th {\n        text-align: right;\n    }\n</style>\n<table border=\"1\" class=\"dataframe\">\n  <thead>\n    <tr>\n      <th></th>\n      <th colspan=\"2\" halign=\"left\">BLEU-1</th>\n      <th colspan=\"2\" halign=\"left\">rouge-1-f</th>\n    </tr>\n    <tr>\n      <th></th>\n      <th>mean</th>\n      <th>std</th>\n      <th>mean</th>\n      <th>std</th>\n    </tr>\n    <tr>\n      <th>augmentation_type</th>\n      <th></th>\n      <th></th>\n      <th></th>\n      <th></th>\n    </tr>\n  </thead>\n  <tbody>\n    <tr>\n      <th>TF-IDF-High</th>\n      <td>0.114442</td>\n      <td>0.033008</td>\n      <td>0.120874</td>\n      <td>0.024323</td>\n    </tr>\n    <tr>\n      <th>TF-IDF-Low</th>\n      <td>0.120305</td>\n      <td>0.017727</td>\n      <td>0.121475</td>\n      <td>0.015149</td>\n    </tr>\n    <tr>\n      <th>TF-IDF-Medium</th>\n      <td>0.118587</td>\n      <td>0.017385</td>\n      <td>0.120375</td>\n      <td>0.015289</td>\n    </tr>\n    <tr>\n      <th>random</th>\n      <td>0.130987</td>\n      <td>0.014569</td>\n      <td>0.123141</td>\n      <td>0.011352</td>\n    </tr>\n  </tbody>\n</table>\n</div>"
     },
     "execution_count": 48,
     "metadata": {},
     "output_type": "execute_result"
    }
   ],
   "source": [
    "word_level"
   ],
   "metadata": {
    "collapsed": false,
    "ExecuteTime": {
     "start_time": "2024-05-08T11:43:26.170902Z",
     "end_time": "2024-05-08T11:43:26.264719Z"
    }
   }
  },
  {
   "cell_type": "code",
   "execution_count": null,
   "outputs": [],
   "source": [],
   "metadata": {
    "collapsed": false
   }
  }
 ],
 "metadata": {
  "kernelspec": {
   "display_name": "Python 3",
   "language": "python",
   "name": "python3"
  },
  "language_info": {
   "codemirror_mode": {
    "name": "ipython",
    "version": 2
   },
   "file_extension": ".py",
   "mimetype": "text/x-python",
   "name": "python",
   "nbconvert_exporter": "python",
   "pygments_lexer": "ipython2",
   "version": "2.7.6"
  }
 },
 "nbformat": 4,
 "nbformat_minor": 0
}
