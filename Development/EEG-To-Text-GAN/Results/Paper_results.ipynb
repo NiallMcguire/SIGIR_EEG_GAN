{
 "cells": [
  {
   "cell_type": "code",
   "execution_count": 1,
   "metadata": {
    "collapsed": true,
    "ExecuteTime": {
     "start_time": "2024-05-08T10:22:06.167651Z",
     "end_time": "2024-05-08T10:22:06.182697Z"
    }
   },
   "outputs": [],
   "source": [
    "import os\n",
    "import re\n",
    "import seaborn as sns\n",
    "import matplotlib.pyplot as plt"
   ]
  },
  {
   "cell_type": "code",
   "execution_count": 4,
   "outputs": [],
   "source": [
    "import pandas as pd\n",
    "import ast\n",
    "\n",
    "def parse_scores_from_file(file_path):\n",
    "    scores = {}\n",
    "    with open(file_path, 'r') as file:\n",
    "        data = file.read()\n",
    "\n",
    "        # Corpus BLEU scores\n",
    "        bleu_scores = re.findall(r'corpus BLEU-(\\d) score: (\\d+\\.\\d+)', data)\n",
    "        for n, score in bleu_scores:\n",
    "            scores[f'BLEU-{n}'] = float(score)\n",
    "\n",
    "        # ROUGE scores\n",
    "        rouge_scores_match = re.search(r'ROUGE score: ({.+})', data)\n",
    "        if rouge_scores_match:\n",
    "            rouge_scores_str = rouge_scores_match.group(1)\n",
    "            rouge_scores = ast.literal_eval(rouge_scores_str)\n",
    "            for rouge_type, rouge_values in rouge_scores.items():\n",
    "                for metric, value in rouge_values.items():\n",
    "                    scores[f'{rouge_type}-{metric}'] = value\n",
    "\n",
    "    return scores"
   ],
   "metadata": {
    "collapsed": false,
    "ExecuteTime": {
     "start_time": "2024-05-08T10:26:48.203095Z",
     "end_time": "2024-05-08T10:26:48.236223Z"
    }
   }
  },
  {
   "cell_type": "code",
   "execution_count": 5,
   "outputs": [],
   "source": [
    "path = r\"C:\\Users\\gxb18167\\OneDrive - University of Strathclyde\\Desktop\\PhD\\2nd year\\Results\\EEG-To-Text\\best\\Contextual\"\n",
    "dir_list = os.listdir(path)"
   ],
   "metadata": {
    "collapsed": false,
    "ExecuteTime": {
     "start_time": "2024-05-08T10:26:49.393750Z",
     "end_time": "2024-05-08T10:26:49.424856Z"
    }
   }
  },
  {
   "cell_type": "code",
   "execution_count": 6,
   "outputs": [],
   "source": [
    "#reading in files and assigning categories\n",
    "list_of_dfs = []\n",
    "for file in dir_list:\n",
    "    if \"25\" in file:\n",
    "        augmentation_size = \"25\"\n",
    "    elif \"100\" in file:\n",
    "        augmentation_size = \"100\"\n",
    "    elif \"50\" in file:\n",
    "        augmentation_size = \"50\"\n",
    "    elif \"75\" in file:\n",
    "        augmentation_size = \"75\"\n",
    "    elif \"40\" in file:\n",
    "        augmentation_size = \"40\"\n",
    "    elif \"60\" in file:\n",
    "        augmentation_size = \"60\"\n",
    "    elif \"55\" in file:\n",
    "        augmentation_size = \"55\"\n",
    "\n",
    "    if \"WGAN_v1_Text\" in file:\n",
    "        model = \"WGAN_v1_Text\"\n",
    "    elif \"DCGAN_v1_Text\" in file:\n",
    "        model = \"DCGAN_v1_Text\"\n",
    "    elif \"WGAN_v2_Text\" in file:\n",
    "        model = \"WGAN_v2_Text\"\n",
    "    elif \"DCGAN_v2_Text\" in file:\n",
    "        model = \"DCGAN_v2_Text\"\n",
    "\n",
    "    #augmentation type\n",
    "    if \"random\" in file:\n",
    "        augmentation_type = \"random\"\n",
    "    elif \"TF-IDF-Low\" in file:\n",
    "        augmentation_type = \"TF-IDF-Low\"\n",
    "    elif \"TF-IDF-High\" in file:\n",
    "        augmentation_type = \"TF-IDF-High\"\n",
    "    elif \"TF-IDF-Medium\" in file:\n",
    "        augmentation_type = \"TF-IDF-Medium\"\n",
    "\n",
    "    #generation type:\n",
    "    if \"Word_Level\" in file:\n",
    "        generation_type = \"Word_Level\"\n",
    "    elif \"Sentence_Level\" in file:\n",
    "        generation_type = \"Sentence_Level\"\n",
    "    elif \"Contextual\" in file:\n",
    "        generation_type = \"Contextual\"\n",
    "\n",
    "    scores = parse_scores_from_file(rf\"{path}\\{file}\")\n",
    "    df = pd.DataFrame([scores])\n",
    "    df[\"augmentation_size\"] = augmentation_size\n",
    "    df[\"model\"] = model\n",
    "    df[\"augmentation_type\"] = augmentation_type\n",
    "    df[\"generation_type\"] = generation_type\n",
    "\n",
    "    list_of_dfs.append(df)"
   ],
   "metadata": {
    "collapsed": false,
    "ExecuteTime": {
     "start_time": "2024-05-08T10:27:00.686868Z",
     "end_time": "2024-05-08T10:27:03.181389Z"
    }
   }
  },
  {
   "cell_type": "code",
   "execution_count": 20,
   "outputs": [],
   "source": [
    "df = pd.concat(list_of_dfs)"
   ],
   "metadata": {
    "collapsed": false,
    "ExecuteTime": {
     "start_time": "2024-05-08T10:59:44.828129Z",
     "end_time": "2024-05-08T10:59:44.859720Z"
    }
   }
  },
  {
   "cell_type": "code",
   "execution_count": 31,
   "outputs": [],
   "source": [
    "#average accuracy for each augmentation size with standard deviation\n",
    "#just BLEU-1 and rouge-1-f and standard deviation for contextual only\n",
    "contextual = df[df[\"generation_type\"] == \"Contextual\"]\n",
    "contextual = contextual[[\"BLEU-1\", \"rouge-1-f\", \"augmentation_size\"]]\n",
    "contextual = contextual.groupby(\"augmentation_size\").agg([\"mean\", \"std\"])\n",
    "\n",
    "#only 25, 55, 75, and 100\n",
    "contextual = contextual.loc[[\"25\", \"55\", \"75\", \"100\"]]\n",
    "\n",
    "word_level = df[df[\"generation_type\"] == \"Word_Level\"]\n",
    "word_level = word_level[[\"BLEU-1\", \"rouge-1-f\", \"augmentation_size\"]]\n",
    "word_level = word_level.groupby(\"augmentation_size\").agg([\"mean\", \"std\"])\n",
    "\n",
    "word_level = word_level.loc[[\"25\", \"55\", \"75\", \"100\"]]\n",
    "\n",
    "sentence_level = df[df[\"generation_type\"] == \"Sentence_Level\"]\n",
    "sentence_level = sentence_level[[\"BLEU-1\", \"rouge-1-f\", \"augmentation_size\"]]\n",
    "sentence_level = sentence_level.groupby(\"augmentation_size\").agg([\"mean\", \"std\"])\n",
    "\n",
    "sentence_level = sentence_level.loc[[\"25\", \"55\", \"75\", \"100\"]]\n",
    "\n"
   ],
   "metadata": {
    "collapsed": false,
    "ExecuteTime": {
     "start_time": "2024-05-08T11:01:27.573677Z",
     "end_time": "2024-05-08T11:01:27.636649Z"
    }
   }
  },
  {
   "cell_type": "code",
   "execution_count": 32,
   "outputs": [
    {
     "data": {
      "text/plain": "                     BLEU-1           rouge-1-f          \n                       mean       std      mean       std\naugmentation_size                                        \n25                 0.120450  0.041639  0.118965  0.025753\n55                 0.140294       NaN  0.136051       NaN\n75                 0.121529       NaN  0.124051       NaN\n100                0.119086  0.019711  0.118868  0.019129",
      "text/html": "<div>\n<style scoped>\n    .dataframe tbody tr th:only-of-type {\n        vertical-align: middle;\n    }\n\n    .dataframe tbody tr th {\n        vertical-align: top;\n    }\n\n    .dataframe thead tr th {\n        text-align: left;\n    }\n\n    .dataframe thead tr:last-of-type th {\n        text-align: right;\n    }\n</style>\n<table border=\"1\" class=\"dataframe\">\n  <thead>\n    <tr>\n      <th></th>\n      <th colspan=\"2\" halign=\"left\">BLEU-1</th>\n      <th colspan=\"2\" halign=\"left\">rouge-1-f</th>\n    </tr>\n    <tr>\n      <th></th>\n      <th>mean</th>\n      <th>std</th>\n      <th>mean</th>\n      <th>std</th>\n    </tr>\n    <tr>\n      <th>augmentation_size</th>\n      <th></th>\n      <th></th>\n      <th></th>\n      <th></th>\n    </tr>\n  </thead>\n  <tbody>\n    <tr>\n      <th>25</th>\n      <td>0.120450</td>\n      <td>0.041639</td>\n      <td>0.118965</td>\n      <td>0.025753</td>\n    </tr>\n    <tr>\n      <th>55</th>\n      <td>0.140294</td>\n      <td>NaN</td>\n      <td>0.136051</td>\n      <td>NaN</td>\n    </tr>\n    <tr>\n      <th>75</th>\n      <td>0.121529</td>\n      <td>NaN</td>\n      <td>0.124051</td>\n      <td>NaN</td>\n    </tr>\n    <tr>\n      <th>100</th>\n      <td>0.119086</td>\n      <td>0.019711</td>\n      <td>0.118868</td>\n      <td>0.019129</td>\n    </tr>\n  </tbody>\n</table>\n</div>"
     },
     "execution_count": 32,
     "metadata": {},
     "output_type": "execute_result"
    }
   ],
   "source": [
    "contextual"
   ],
   "metadata": {
    "collapsed": false,
    "ExecuteTime": {
     "start_time": "2024-05-08T11:01:28.102041Z",
     "end_time": "2024-05-08T11:01:28.195827Z"
    }
   }
  },
  {
   "cell_type": "code",
   "execution_count": 33,
   "outputs": [
    {
     "data": {
      "text/plain": "                     BLEU-1           rouge-1-f          \n                       mean       std      mean       std\naugmentation_size                                        \n25                 0.132441  0.022749  0.118836  0.022132\n55                 0.165029       NaN  0.152001       NaN\n75                 0.137012       NaN  0.139051       NaN\n100                0.115428  0.016566  0.122503  0.015207",
      "text/html": "<div>\n<style scoped>\n    .dataframe tbody tr th:only-of-type {\n        vertical-align: middle;\n    }\n\n    .dataframe tbody tr th {\n        vertical-align: top;\n    }\n\n    .dataframe thead tr th {\n        text-align: left;\n    }\n\n    .dataframe thead tr:last-of-type th {\n        text-align: right;\n    }\n</style>\n<table border=\"1\" class=\"dataframe\">\n  <thead>\n    <tr>\n      <th></th>\n      <th colspan=\"2\" halign=\"left\">BLEU-1</th>\n      <th colspan=\"2\" halign=\"left\">rouge-1-f</th>\n    </tr>\n    <tr>\n      <th></th>\n      <th>mean</th>\n      <th>std</th>\n      <th>mean</th>\n      <th>std</th>\n    </tr>\n    <tr>\n      <th>augmentation_size</th>\n      <th></th>\n      <th></th>\n      <th></th>\n      <th></th>\n    </tr>\n  </thead>\n  <tbody>\n    <tr>\n      <th>25</th>\n      <td>0.132441</td>\n      <td>0.022749</td>\n      <td>0.118836</td>\n      <td>0.022132</td>\n    </tr>\n    <tr>\n      <th>55</th>\n      <td>0.165029</td>\n      <td>NaN</td>\n      <td>0.152001</td>\n      <td>NaN</td>\n    </tr>\n    <tr>\n      <th>75</th>\n      <td>0.137012</td>\n      <td>NaN</td>\n      <td>0.139051</td>\n      <td>NaN</td>\n    </tr>\n    <tr>\n      <th>100</th>\n      <td>0.115428</td>\n      <td>0.016566</td>\n      <td>0.122503</td>\n      <td>0.015207</td>\n    </tr>\n  </tbody>\n</table>\n</div>"
     },
     "execution_count": 33,
     "metadata": {},
     "output_type": "execute_result"
    }
   ],
   "source": [
    "sentence_level"
   ],
   "metadata": {
    "collapsed": false,
    "ExecuteTime": {
     "start_time": "2024-05-08T11:01:29.372461Z",
     "end_time": "2024-05-08T11:01:29.423959Z"
    }
   }
  },
  {
   "cell_type": "code",
   "execution_count": 34,
   "outputs": [
    {
     "data": {
      "text/plain": "                     BLEU-1           rouge-1-f          \n                       mean       std      mean       std\naugmentation_size                                        \n25                 0.129482  0.025163  0.124639  0.014464\n55                 0.146294       NaN  0.135051       NaN\n75                 0.110529       NaN  0.120051       NaN\n100                0.115494  0.013927  0.113215  0.018192",
      "text/html": "<div>\n<style scoped>\n    .dataframe tbody tr th:only-of-type {\n        vertical-align: middle;\n    }\n\n    .dataframe tbody tr th {\n        vertical-align: top;\n    }\n\n    .dataframe thead tr th {\n        text-align: left;\n    }\n\n    .dataframe thead tr:last-of-type th {\n        text-align: right;\n    }\n</style>\n<table border=\"1\" class=\"dataframe\">\n  <thead>\n    <tr>\n      <th></th>\n      <th colspan=\"2\" halign=\"left\">BLEU-1</th>\n      <th colspan=\"2\" halign=\"left\">rouge-1-f</th>\n    </tr>\n    <tr>\n      <th></th>\n      <th>mean</th>\n      <th>std</th>\n      <th>mean</th>\n      <th>std</th>\n    </tr>\n    <tr>\n      <th>augmentation_size</th>\n      <th></th>\n      <th></th>\n      <th></th>\n      <th></th>\n    </tr>\n  </thead>\n  <tbody>\n    <tr>\n      <th>25</th>\n      <td>0.129482</td>\n      <td>0.025163</td>\n      <td>0.124639</td>\n      <td>0.014464</td>\n    </tr>\n    <tr>\n      <th>55</th>\n      <td>0.146294</td>\n      <td>NaN</td>\n      <td>0.135051</td>\n      <td>NaN</td>\n    </tr>\n    <tr>\n      <th>75</th>\n      <td>0.110529</td>\n      <td>NaN</td>\n      <td>0.120051</td>\n      <td>NaN</td>\n    </tr>\n    <tr>\n      <th>100</th>\n      <td>0.115494</td>\n      <td>0.013927</td>\n      <td>0.113215</td>\n      <td>0.018192</td>\n    </tr>\n  </tbody>\n</table>\n</div>"
     },
     "execution_count": 34,
     "metadata": {},
     "output_type": "execute_result"
    }
   ],
   "source": [
    "word_level"
   ],
   "metadata": {
    "collapsed": false,
    "ExecuteTime": {
     "start_time": "2024-05-08T11:01:38.260156Z",
     "end_time": "2024-05-08T11:01:38.324611Z"
    }
   }
  },
  {
   "cell_type": "code",
   "execution_count": null,
   "outputs": [],
   "source": [],
   "metadata": {
    "collapsed": false
   }
  }
 ],
 "metadata": {
  "kernelspec": {
   "display_name": "Python 3",
   "language": "python",
   "name": "python3"
  },
  "language_info": {
   "codemirror_mode": {
    "name": "ipython",
    "version": 2
   },
   "file_extension": ".py",
   "mimetype": "text/x-python",
   "name": "python",
   "nbconvert_exporter": "python",
   "pygments_lexer": "ipython2",
   "version": "2.7.6"
  }
 },
 "nbformat": 4,
 "nbformat_minor": 0
}
