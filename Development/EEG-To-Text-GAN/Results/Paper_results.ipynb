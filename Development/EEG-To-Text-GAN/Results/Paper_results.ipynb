{
 "cells": [
  {
   "cell_type": "code",
   "execution_count": 1,
   "metadata": {
    "collapsed": true,
    "ExecuteTime": {
     "start_time": "2024-05-09T14:07:05.917441Z",
     "end_time": "2024-05-09T14:07:05.937010Z"
    }
   },
   "outputs": [],
   "source": [
    "import os\n",
    "import re\n",
    "import seaborn as sns\n",
    "import matplotlib.pyplot as plt"
   ]
  },
  {
   "cell_type": "code",
   "execution_count": 21,
   "outputs": [],
   "source": [
    "import pandas as pd\n",
    "import ast\n",
    "\n",
    "def parse_scores_from_file(file_path):\n",
    "    scores = {}\n",
    "    with open(file_path, 'r') as file:\n",
    "        data = file.read()\n",
    "\n",
    "        # Corpus BLEU scores\n",
    "        bleu_scores = re.findall(r'corpus BLEU-(\\d) score: (\\d+\\.\\d+)', data)\n",
    "        for n, score in bleu_scores:\n",
    "            scores[f'BLEU-{n}'] = float(score)\n",
    "\n",
    "        # ROUGE scores\n",
    "        rouge_scores_match = re.search(r'ROUGE score: ({.+})', data)\n",
    "        if rouge_scores_match:\n",
    "            rouge_scores_str = rouge_scores_match.group(1)\n",
    "            rouge_scores = ast.literal_eval(rouge_scores_str)\n",
    "            for rouge_type, rouge_values in rouge_scores.items():\n",
    "                for metric, value in rouge_values.items():\n",
    "                    scores[f'{rouge_type}-{metric}'] = value\n",
    "\n",
    "    return scores"
   ],
   "metadata": {
    "collapsed": false,
    "ExecuteTime": {
     "start_time": "2024-05-09T14:14:33.245864Z",
     "end_time": "2024-05-09T14:14:33.261768Z"
    }
   }
  },
  {
   "cell_type": "code",
   "execution_count": 22,
   "outputs": [],
   "source": [
    "path = r\"C:\\Users\\gxb18167\\OneDrive - University of Strathclyde\\Desktop\\PhD\\2nd year\\Results\\EEG-To-Text\\best\\Contextual\"\n",
    "dir_list = os.listdir(path)"
   ],
   "metadata": {
    "collapsed": false,
    "ExecuteTime": {
     "start_time": "2024-05-09T14:14:33.442550Z",
     "end_time": "2024-05-09T14:14:33.499743Z"
    }
   }
  },
  {
   "cell_type": "code",
   "execution_count": 28,
   "outputs": [],
   "source": [
    "#reading in files and assigning categories\n",
    "list_of_dfs = []\n",
    "for file in dir_list:\n",
    "    if \"25\" in file:\n",
    "        augmentation_size = \"25\"\n",
    "    elif \"100\" in file:\n",
    "        augmentation_size = \"100\"\n",
    "    elif \"50\" in file:\n",
    "        augmentation_size = \"50\"\n",
    "    elif \"75\" in file:\n",
    "        augmentation_size = \"75\"\n",
    "    elif \"40\" in file:\n",
    "        augmentation_size = \"40\"\n",
    "    elif \"60\" in file:\n",
    "        augmentation_size = \"60\"\n",
    "    elif \"55\" in file:\n",
    "        augmentation_size = \"55\"\n",
    "\n",
    "    if \"WGAN_v1_Text\" in file:\n",
    "        model = \"WGAN_v1_Text\"\n",
    "    elif \"DCGAN_v1_Text\" in file:\n",
    "        model = \"DCGAN_v1_Text\"\n",
    "    elif \"WGAN_v2_Text\" in file:\n",
    "        model = \"WGAN_v2_Text\"\n",
    "    elif \"DCGAN_v2_Text\" in file:\n",
    "        model = \"DCGAN_v2_Text\"\n",
    "\n",
    "    #augmentation type\n",
    "    if \"random\" in file:\n",
    "        augmentation_type = \"random\"\n",
    "    elif \"TF-IDF-Low\" in file:\n",
    "        augmentation_type = \"TF-IDF-Low\"\n",
    "    elif \"TF-IDF-High\" in file:\n",
    "        augmentation_type = \"TF-IDF-High\"\n",
    "    elif \"TF-IDF-Medium\" in file:\n",
    "        augmentation_type = \"TF-IDF-Medium\"\n",
    "\n",
    "    #generation type:\n",
    "    if \"Word_Level\" in file:\n",
    "        generation_type = \"Word_Level\"\n",
    "    elif \"Sentence_Level\" in file:\n",
    "        generation_type = \"Sentence_Level\"\n",
    "    elif \"Contextual\" in file:\n",
    "        generation_type = \"Contextual\"\n",
    "\n",
    "    scores = parse_scores_from_file(rf\"{path}\\{file}\")\n",
    "    df = pd.DataFrame([scores])\n",
    "    df[\"augmentation_size\"] = augmentation_size\n",
    "    df[\"model\"] = model\n",
    "    df[\"augmentation_type\"] = augmentation_type\n",
    "    df[\"generation_type\"] = generation_type\n",
    "\n",
    "    list_of_dfs.append(df)"
   ],
   "metadata": {
    "collapsed": false,
    "ExecuteTime": {
     "start_time": "2024-05-09T14:53:08.903342Z",
     "end_time": "2024-05-09T14:53:09.045577Z"
    }
   }
  },
  {
   "cell_type": "code",
   "execution_count": 37,
   "outputs": [],
   "source": [
    "df = pd.concat(list_of_dfs)"
   ],
   "metadata": {
    "collapsed": false,
    "ExecuteTime": {
     "start_time": "2024-05-09T14:53:46.898446Z",
     "end_time": "2024-05-09T14:53:46.946023Z"
    }
   }
  },
  {
   "cell_type": "code",
   "execution_count": 38,
   "outputs": [
    {
     "data": {
      "text/plain": "     BLEU-1    BLEU-2    BLEU-3    BLEU-4  rouge-1-r  rouge-1-p  rouge-1-f  \\\n0  0.090118  0.021889  0.012525  0.002180   0.110272   0.129457   0.091094   \n0  0.132458  0.023589  0.011785  0.002238   0.110272   0.130457   0.130494   \n0  0.133064  0.039765  0.017043  0.008156   0.118650   0.170300   0.134561   \n0  0.092918  0.029654  0.013175  0.005756   0.104530   0.190659   0.128292   \n0  0.105623  0.031387  0.013329  0.006322   0.110091   0.183783   0.131517   \n0  0.138088  0.040608  0.017496  0.008350   0.118724   0.162350   0.130986   \n0  0.128458  0.022889  0.011253  0.002180   0.110272   0.129457   0.122494   \n0  0.162271  0.053834  0.022175  0.010090   0.116176   0.143902   0.122721   \n0  0.134500  0.038154  0.012532  0.004535   0.105905   0.157445   0.120149   \n0  0.151480  0.046596  0.013801  0.004504   0.099668   0.153549   0.115476   \n0  0.116114  0.032664  0.010064  3.287595   0.085123   0.144175   0.102734   \n0  0.120434  0.036163  0.014540  0.006071   0.109301   0.171184   0.128606   \n0  0.124691  0.036975  0.014615  0.006688   0.101372   0.154208   0.116204   \n0  0.153934  0.051927  0.021547  0.009854   0.115079   0.153959   0.125737   \n0  0.128969  0.038654  0.014280  0.005944   0.106948   0.158570   0.121999   \n0  0.128581  0.021889  0.012525  0.002180   0.110272   0.129457   0.115936   \n0  0.120118  0.021889  0.012525  0.002180   0.110272   0.129457   0.121094   \n\n   rouge-2-r  rouge-2-p  rouge-2-f  rouge-l-r  rouge-l-p  rouge-l-f  \\\n0   0.012955   0.020165   0.015143   0.102666   0.142517   0.120517   \n0   0.013155   0.020165   0.015143   0.102666   0.142517   0.120517   \n0   0.022323   0.026131   0.022120   0.114346   0.162114   0.129026   \n0   0.018241   0.024913   0.019036   0.097920   0.176955   0.119747   \n0   0.019100   0.025169   0.019380   0.107436   0.177235   0.127778   \n0   0.022579   0.025082   0.021506   0.115320   0.155639   0.126549   \n0   0.012955   0.020165   0.015143   0.102666   0.142517   0.120517   \n0   0.021911   0.019706   0.018685   0.113361   0.138938   0.119182   \n0   0.015440   0.017888   0.015082   0.098132   0.143518   0.110490   \n0   0.012485   0.013982   0.011948   0.096674   0.146802   0.111353   \n0   0.011560   0.016974   0.012812   0.081957   0.137262   0.098468   \n0   0.018024   0.024878   0.019511   0.105638   0.164438   0.124036   \n0   0.018978   0.019409   0.017075   0.098223   0.147083   0.111889   \n0   0.021911   0.021019   0.019306   0.113195   0.150189   0.123273   \n0   0.018030   0.020527   0.017383   0.100833   0.147400   0.114332   \n0   0.012955   0.020165   0.015143   0.102666   0.142517   0.120517   \n0   0.012955   0.020165   0.015143   0.102666   0.142517   0.120517   \n\n  augmentation_size          model augmentation_type generation_type  \n0               100  DCGAN_v2_Text            random      Contextual  \n0               100  DCGAN_v2_Text            random      Contextual  \n0               100  DCGAN_v1_Text            random  Sentence_Level  \n0               100  DCGAN_v1_Text       TF-IDF-High  Sentence_Level  \n0               100  DCGAN_v1_Text        TF-IDF-Low  Sentence_Level  \n0               100  DCGAN_v1_Text     TF-IDF-Medium  Sentence_Level  \n0                25  DCGAN_v2_Text            random      Contextual  \n0                25  DCGAN_v1_Text            random  Sentence_Level  \n0                25  DCGAN_v1_Text       TF-IDF-High  Sentence_Level  \n0                25  DCGAN_v1_Text        TF-IDF-Low  Sentence_Level  \n0                25  DCGAN_v1_Text     TF-IDF-Medium  Sentence_Level  \n0                25  DCGAN_v1_Text            random  Sentence_Level  \n0                25  DCGAN_v1_Text       TF-IDF-High  Sentence_Level  \n0                25  DCGAN_v1_Text        TF-IDF-Low  Sentence_Level  \n0                25  DCGAN_v1_Text     TF-IDF-Medium  Sentence_Level  \n0                50  DCGAN_v2_Text            random      Contextual  \n0                75  DCGAN_v2_Text            random      Contextual  ",
      "text/html": "<div>\n<style scoped>\n    .dataframe tbody tr th:only-of-type {\n        vertical-align: middle;\n    }\n\n    .dataframe tbody tr th {\n        vertical-align: top;\n    }\n\n    .dataframe thead th {\n        text-align: right;\n    }\n</style>\n<table border=\"1\" class=\"dataframe\">\n  <thead>\n    <tr style=\"text-align: right;\">\n      <th></th>\n      <th>BLEU-1</th>\n      <th>BLEU-2</th>\n      <th>BLEU-3</th>\n      <th>BLEU-4</th>\n      <th>rouge-1-r</th>\n      <th>rouge-1-p</th>\n      <th>rouge-1-f</th>\n      <th>rouge-2-r</th>\n      <th>rouge-2-p</th>\n      <th>rouge-2-f</th>\n      <th>rouge-l-r</th>\n      <th>rouge-l-p</th>\n      <th>rouge-l-f</th>\n      <th>augmentation_size</th>\n      <th>model</th>\n      <th>augmentation_type</th>\n      <th>generation_type</th>\n    </tr>\n  </thead>\n  <tbody>\n    <tr>\n      <th>0</th>\n      <td>0.090118</td>\n      <td>0.021889</td>\n      <td>0.012525</td>\n      <td>0.002180</td>\n      <td>0.110272</td>\n      <td>0.129457</td>\n      <td>0.091094</td>\n      <td>0.012955</td>\n      <td>0.020165</td>\n      <td>0.015143</td>\n      <td>0.102666</td>\n      <td>0.142517</td>\n      <td>0.120517</td>\n      <td>100</td>\n      <td>DCGAN_v2_Text</td>\n      <td>random</td>\n      <td>Contextual</td>\n    </tr>\n    <tr>\n      <th>0</th>\n      <td>0.132458</td>\n      <td>0.023589</td>\n      <td>0.011785</td>\n      <td>0.002238</td>\n      <td>0.110272</td>\n      <td>0.130457</td>\n      <td>0.130494</td>\n      <td>0.013155</td>\n      <td>0.020165</td>\n      <td>0.015143</td>\n      <td>0.102666</td>\n      <td>0.142517</td>\n      <td>0.120517</td>\n      <td>100</td>\n      <td>DCGAN_v2_Text</td>\n      <td>random</td>\n      <td>Contextual</td>\n    </tr>\n    <tr>\n      <th>0</th>\n      <td>0.133064</td>\n      <td>0.039765</td>\n      <td>0.017043</td>\n      <td>0.008156</td>\n      <td>0.118650</td>\n      <td>0.170300</td>\n      <td>0.134561</td>\n      <td>0.022323</td>\n      <td>0.026131</td>\n      <td>0.022120</td>\n      <td>0.114346</td>\n      <td>0.162114</td>\n      <td>0.129026</td>\n      <td>100</td>\n      <td>DCGAN_v1_Text</td>\n      <td>random</td>\n      <td>Sentence_Level</td>\n    </tr>\n    <tr>\n      <th>0</th>\n      <td>0.092918</td>\n      <td>0.029654</td>\n      <td>0.013175</td>\n      <td>0.005756</td>\n      <td>0.104530</td>\n      <td>0.190659</td>\n      <td>0.128292</td>\n      <td>0.018241</td>\n      <td>0.024913</td>\n      <td>0.019036</td>\n      <td>0.097920</td>\n      <td>0.176955</td>\n      <td>0.119747</td>\n      <td>100</td>\n      <td>DCGAN_v1_Text</td>\n      <td>TF-IDF-High</td>\n      <td>Sentence_Level</td>\n    </tr>\n    <tr>\n      <th>0</th>\n      <td>0.105623</td>\n      <td>0.031387</td>\n      <td>0.013329</td>\n      <td>0.006322</td>\n      <td>0.110091</td>\n      <td>0.183783</td>\n      <td>0.131517</td>\n      <td>0.019100</td>\n      <td>0.025169</td>\n      <td>0.019380</td>\n      <td>0.107436</td>\n      <td>0.177235</td>\n      <td>0.127778</td>\n      <td>100</td>\n      <td>DCGAN_v1_Text</td>\n      <td>TF-IDF-Low</td>\n      <td>Sentence_Level</td>\n    </tr>\n    <tr>\n      <th>0</th>\n      <td>0.138088</td>\n      <td>0.040608</td>\n      <td>0.017496</td>\n      <td>0.008350</td>\n      <td>0.118724</td>\n      <td>0.162350</td>\n      <td>0.130986</td>\n      <td>0.022579</td>\n      <td>0.025082</td>\n      <td>0.021506</td>\n      <td>0.115320</td>\n      <td>0.155639</td>\n      <td>0.126549</td>\n      <td>100</td>\n      <td>DCGAN_v1_Text</td>\n      <td>TF-IDF-Medium</td>\n      <td>Sentence_Level</td>\n    </tr>\n    <tr>\n      <th>0</th>\n      <td>0.128458</td>\n      <td>0.022889</td>\n      <td>0.011253</td>\n      <td>0.002180</td>\n      <td>0.110272</td>\n      <td>0.129457</td>\n      <td>0.122494</td>\n      <td>0.012955</td>\n      <td>0.020165</td>\n      <td>0.015143</td>\n      <td>0.102666</td>\n      <td>0.142517</td>\n      <td>0.120517</td>\n      <td>25</td>\n      <td>DCGAN_v2_Text</td>\n      <td>random</td>\n      <td>Contextual</td>\n    </tr>\n    <tr>\n      <th>0</th>\n      <td>0.162271</td>\n      <td>0.053834</td>\n      <td>0.022175</td>\n      <td>0.010090</td>\n      <td>0.116176</td>\n      <td>0.143902</td>\n      <td>0.122721</td>\n      <td>0.021911</td>\n      <td>0.019706</td>\n      <td>0.018685</td>\n      <td>0.113361</td>\n      <td>0.138938</td>\n      <td>0.119182</td>\n      <td>25</td>\n      <td>DCGAN_v1_Text</td>\n      <td>random</td>\n      <td>Sentence_Level</td>\n    </tr>\n    <tr>\n      <th>0</th>\n      <td>0.134500</td>\n      <td>0.038154</td>\n      <td>0.012532</td>\n      <td>0.004535</td>\n      <td>0.105905</td>\n      <td>0.157445</td>\n      <td>0.120149</td>\n      <td>0.015440</td>\n      <td>0.017888</td>\n      <td>0.015082</td>\n      <td>0.098132</td>\n      <td>0.143518</td>\n      <td>0.110490</td>\n      <td>25</td>\n      <td>DCGAN_v1_Text</td>\n      <td>TF-IDF-High</td>\n      <td>Sentence_Level</td>\n    </tr>\n    <tr>\n      <th>0</th>\n      <td>0.151480</td>\n      <td>0.046596</td>\n      <td>0.013801</td>\n      <td>0.004504</td>\n      <td>0.099668</td>\n      <td>0.153549</td>\n      <td>0.115476</td>\n      <td>0.012485</td>\n      <td>0.013982</td>\n      <td>0.011948</td>\n      <td>0.096674</td>\n      <td>0.146802</td>\n      <td>0.111353</td>\n      <td>25</td>\n      <td>DCGAN_v1_Text</td>\n      <td>TF-IDF-Low</td>\n      <td>Sentence_Level</td>\n    </tr>\n    <tr>\n      <th>0</th>\n      <td>0.116114</td>\n      <td>0.032664</td>\n      <td>0.010064</td>\n      <td>3.287595</td>\n      <td>0.085123</td>\n      <td>0.144175</td>\n      <td>0.102734</td>\n      <td>0.011560</td>\n      <td>0.016974</td>\n      <td>0.012812</td>\n      <td>0.081957</td>\n      <td>0.137262</td>\n      <td>0.098468</td>\n      <td>25</td>\n      <td>DCGAN_v1_Text</td>\n      <td>TF-IDF-Medium</td>\n      <td>Sentence_Level</td>\n    </tr>\n    <tr>\n      <th>0</th>\n      <td>0.120434</td>\n      <td>0.036163</td>\n      <td>0.014540</td>\n      <td>0.006071</td>\n      <td>0.109301</td>\n      <td>0.171184</td>\n      <td>0.128606</td>\n      <td>0.018024</td>\n      <td>0.024878</td>\n      <td>0.019511</td>\n      <td>0.105638</td>\n      <td>0.164438</td>\n      <td>0.124036</td>\n      <td>25</td>\n      <td>DCGAN_v1_Text</td>\n      <td>random</td>\n      <td>Sentence_Level</td>\n    </tr>\n    <tr>\n      <th>0</th>\n      <td>0.124691</td>\n      <td>0.036975</td>\n      <td>0.014615</td>\n      <td>0.006688</td>\n      <td>0.101372</td>\n      <td>0.154208</td>\n      <td>0.116204</td>\n      <td>0.018978</td>\n      <td>0.019409</td>\n      <td>0.017075</td>\n      <td>0.098223</td>\n      <td>0.147083</td>\n      <td>0.111889</td>\n      <td>25</td>\n      <td>DCGAN_v1_Text</td>\n      <td>TF-IDF-High</td>\n      <td>Sentence_Level</td>\n    </tr>\n    <tr>\n      <th>0</th>\n      <td>0.153934</td>\n      <td>0.051927</td>\n      <td>0.021547</td>\n      <td>0.009854</td>\n      <td>0.115079</td>\n      <td>0.153959</td>\n      <td>0.125737</td>\n      <td>0.021911</td>\n      <td>0.021019</td>\n      <td>0.019306</td>\n      <td>0.113195</td>\n      <td>0.150189</td>\n      <td>0.123273</td>\n      <td>25</td>\n      <td>DCGAN_v1_Text</td>\n      <td>TF-IDF-Low</td>\n      <td>Sentence_Level</td>\n    </tr>\n    <tr>\n      <th>0</th>\n      <td>0.128969</td>\n      <td>0.038654</td>\n      <td>0.014280</td>\n      <td>0.005944</td>\n      <td>0.106948</td>\n      <td>0.158570</td>\n      <td>0.121999</td>\n      <td>0.018030</td>\n      <td>0.020527</td>\n      <td>0.017383</td>\n      <td>0.100833</td>\n      <td>0.147400</td>\n      <td>0.114332</td>\n      <td>25</td>\n      <td>DCGAN_v1_Text</td>\n      <td>TF-IDF-Medium</td>\n      <td>Sentence_Level</td>\n    </tr>\n    <tr>\n      <th>0</th>\n      <td>0.128581</td>\n      <td>0.021889</td>\n      <td>0.012525</td>\n      <td>0.002180</td>\n      <td>0.110272</td>\n      <td>0.129457</td>\n      <td>0.115936</td>\n      <td>0.012955</td>\n      <td>0.020165</td>\n      <td>0.015143</td>\n      <td>0.102666</td>\n      <td>0.142517</td>\n      <td>0.120517</td>\n      <td>50</td>\n      <td>DCGAN_v2_Text</td>\n      <td>random</td>\n      <td>Contextual</td>\n    </tr>\n    <tr>\n      <th>0</th>\n      <td>0.120118</td>\n      <td>0.021889</td>\n      <td>0.012525</td>\n      <td>0.002180</td>\n      <td>0.110272</td>\n      <td>0.129457</td>\n      <td>0.121094</td>\n      <td>0.012955</td>\n      <td>0.020165</td>\n      <td>0.015143</td>\n      <td>0.102666</td>\n      <td>0.142517</td>\n      <td>0.120517</td>\n      <td>75</td>\n      <td>DCGAN_v2_Text</td>\n      <td>random</td>\n      <td>Contextual</td>\n    </tr>\n  </tbody>\n</table>\n</div>"
     },
     "execution_count": 38,
     "metadata": {},
     "output_type": "execute_result"
    }
   ],
   "source": [
    "df"
   ],
   "metadata": {
    "collapsed": false,
    "ExecuteTime": {
     "start_time": "2024-05-09T14:53:47.177414Z",
     "end_time": "2024-05-09T14:53:47.202369Z"
    }
   }
  },
  {
   "cell_type": "code",
   "execution_count": 39,
   "outputs": [],
   "source": [
    "#average accuracy for each augmentation size with standard deviation\n",
    "#just BLEU-1 and rouge-1-f and standard deviation for contextual only\n",
    "contextual = df[df[\"generation_type\"] == \"Contextual\"]\n",
    "contextual = contextual[[\"BLEU-1\", \"rouge-1-f\", \"augmentation_size\"]]\n",
    "contextual = contextual.groupby(\"augmentation_type\").agg([\"mean\", \"std\"])\n",
    "\n",
    "#only 25, 55, 75, and 100\n",
    "contextual = contextual.loc[[\"25\", \"55\", \"75\", \"100\"]]\n",
    "\n",
    "word_level = df[df[\"generation_type\"] == \"Word_Level\"]\n",
    "word_level = word_level[[\"BLEU-1\", \"rouge-1-f\", \"augmentation_size\"]]\n",
    "word_level = word_level.groupby(\"augmentation_size\").agg([\"mean\", \"std\"])\n",
    "\n",
    "word_level = word_level.loc[[\"25\", \"55\", \"75\", \"100\"]]\n",
    "\n",
    "sentence_level = df[df[\"generation_type\"] == \"Sentence_Level\"]\n",
    "sentence_level = sentence_level[[\"BLEU-1\", \"rouge-1-f\", \"augmentation_size\"]]\n",
    "sentence_level = sentence_level.groupby(\"augmentation_size\").agg([\"mean\", \"std\"])\n",
    "\n",
    "sentence_level = sentence_level.loc[[\"25\", \"55\", \"75\", \"100\"]]\n",
    "\n"
   ],
   "metadata": {
    "collapsed": false,
    "ExecuteTime": {
     "start_time": "2024-05-09T14:53:47.557061Z",
     "end_time": "2024-05-09T14:53:47.603024Z"
    }
   }
  },
  {
   "cell_type": "code",
   "execution_count": 40,
   "outputs": [
    {
     "data": {
      "text/plain": "                     BLEU-1           rouge-1-f          \n                       mean       std      mean       std\naugmentation_type                                        \nTF-IDF-High        0.117370  0.021736  0.121548  0.006164\nTF-IDF-Low         0.137012  0.027212  0.124243  0.008124\nTF-IDF-Medium      0.127724  0.011039  0.118573  0.014434\nrandom             0.126938  0.019878  0.120875  0.013400",
      "text/html": "<div>\n<style scoped>\n    .dataframe tbody tr th:only-of-type {\n        vertical-align: middle;\n    }\n\n    .dataframe tbody tr th {\n        vertical-align: top;\n    }\n\n    .dataframe thead tr th {\n        text-align: left;\n    }\n\n    .dataframe thead tr:last-of-type th {\n        text-align: right;\n    }\n</style>\n<table border=\"1\" class=\"dataframe\">\n  <thead>\n    <tr>\n      <th></th>\n      <th colspan=\"2\" halign=\"left\">BLEU-1</th>\n      <th colspan=\"2\" halign=\"left\">rouge-1-f</th>\n    </tr>\n    <tr>\n      <th></th>\n      <th>mean</th>\n      <th>std</th>\n      <th>mean</th>\n      <th>std</th>\n    </tr>\n    <tr>\n      <th>augmentation_type</th>\n      <th></th>\n      <th></th>\n      <th></th>\n      <th></th>\n    </tr>\n  </thead>\n  <tbody>\n    <tr>\n      <th>TF-IDF-High</th>\n      <td>0.117370</td>\n      <td>0.021736</td>\n      <td>0.121548</td>\n      <td>0.006164</td>\n    </tr>\n    <tr>\n      <th>TF-IDF-Low</th>\n      <td>0.137012</td>\n      <td>0.027212</td>\n      <td>0.124243</td>\n      <td>0.008124</td>\n    </tr>\n    <tr>\n      <th>TF-IDF-Medium</th>\n      <td>0.127724</td>\n      <td>0.011039</td>\n      <td>0.118573</td>\n      <td>0.014434</td>\n    </tr>\n    <tr>\n      <th>random</th>\n      <td>0.126938</td>\n      <td>0.019878</td>\n      <td>0.120875</td>\n      <td>0.013400</td>\n    </tr>\n  </tbody>\n</table>\n</div>"
     },
     "execution_count": 40,
     "metadata": {},
     "output_type": "execute_result"
    }
   ],
   "source": [
    "contextual"
   ],
   "metadata": {
    "collapsed": false,
    "ExecuteTime": {
     "start_time": "2024-05-09T14:53:48.080974Z",
     "end_time": "2024-05-09T14:53:48.112615Z"
    }
   }
  },
  {
   "cell_type": "code",
   "execution_count": 41,
   "outputs": [
    {
     "name": "stderr",
     "output_type": "stream",
     "text": [
      "C:\\Users\\gxb18167\\AppData\\Local\\Temp\\ipykernel_22188\\1512685070.py:2: FutureWarning: ['model', 'augmentation_type', 'generation_type'] did not aggregate successfully. If any error is raised this will raise in a future version of pandas. Drop these columns/ops to avoid this warning.\n",
      "  df_size = df.groupby(\"augmentation_size\").agg([\"mean\", \"std\"])\n"
     ]
    }
   ],
   "source": [
    "sentence_level"
   ],
   "metadata": {
    "collapsed": false,
    "ExecuteTime": {
     "start_time": "2024-05-09T14:53:56.066501Z",
     "end_time": "2024-05-09T14:53:56.129649Z"
    }
   }
  },
  {
   "cell_type": "code",
   "execution_count": 43,
   "outputs": [
    {
     "data": {
      "text/plain": "                     BLEU-1              BLEU-2              BLEU-3            \\\n                       mean       std      mean       std      mean       std   \naugmentation_size                                                               \n100                0.115378  0.021716  0.031149  0.007860  0.014225  0.002424   \n25                 0.135650  0.016296  0.039762  0.009697  0.014979  0.004200   \n50                 0.128581       NaN  0.021889       NaN  0.012525       NaN   \n75                 0.120118       NaN  0.021889       NaN  0.012525       NaN   \n\n                     BLEU-4           rouge-1-r            ... rouge-2-p  \\\n                       mean       std      mean       std  ...      mean   \naugmentation_size                                          ...             \n100                0.005500  0.002742  0.112090  0.005564  ...  0.023604   \n25                 0.370829  1.093790  0.105538  0.009430  ...  0.019394   \n50                 0.002180       NaN  0.110272       NaN  ...  0.020165   \n75                 0.002180       NaN  0.110272       NaN  ...  0.020165   \n\n                            rouge-2-f           rouge-l-r           rouge-l-p  \\\n                        std      mean       std      mean       std      mean   \naugmentation_size                                                               \n100                0.002698  0.018721  0.003015  0.106725  0.006971  0.159496   \n25                 0.003002  0.016327  0.002755  0.101186  0.009505  0.146461   \n50                      NaN  0.015143       NaN  0.102666       NaN  0.142517   \n75                      NaN  0.015143       NaN  0.102666       NaN  0.142517   \n\n                            rouge-l-f            \n                        std      mean       std  \naugmentation_size                                \n100                0.015606  0.124022  0.004204  \n25                 0.007936  0.114838  0.008022  \n50                      NaN  0.120517       NaN  \n75                      NaN  0.120517       NaN  \n\n[4 rows x 26 columns]",
      "text/html": "<div>\n<style scoped>\n    .dataframe tbody tr th:only-of-type {\n        vertical-align: middle;\n    }\n\n    .dataframe tbody tr th {\n        vertical-align: top;\n    }\n\n    .dataframe thead tr th {\n        text-align: left;\n    }\n\n    .dataframe thead tr:last-of-type th {\n        text-align: right;\n    }\n</style>\n<table border=\"1\" class=\"dataframe\">\n  <thead>\n    <tr>\n      <th></th>\n      <th colspan=\"2\" halign=\"left\">BLEU-1</th>\n      <th colspan=\"2\" halign=\"left\">BLEU-2</th>\n      <th colspan=\"2\" halign=\"left\">BLEU-3</th>\n      <th colspan=\"2\" halign=\"left\">BLEU-4</th>\n      <th colspan=\"2\" halign=\"left\">rouge-1-r</th>\n      <th>...</th>\n      <th colspan=\"2\" halign=\"left\">rouge-2-p</th>\n      <th colspan=\"2\" halign=\"left\">rouge-2-f</th>\n      <th colspan=\"2\" halign=\"left\">rouge-l-r</th>\n      <th colspan=\"2\" halign=\"left\">rouge-l-p</th>\n      <th colspan=\"2\" halign=\"left\">rouge-l-f</th>\n    </tr>\n    <tr>\n      <th></th>\n      <th>mean</th>\n      <th>std</th>\n      <th>mean</th>\n      <th>std</th>\n      <th>mean</th>\n      <th>std</th>\n      <th>mean</th>\n      <th>std</th>\n      <th>mean</th>\n      <th>std</th>\n      <th>...</th>\n      <th>mean</th>\n      <th>std</th>\n      <th>mean</th>\n      <th>std</th>\n      <th>mean</th>\n      <th>std</th>\n      <th>mean</th>\n      <th>std</th>\n      <th>mean</th>\n      <th>std</th>\n    </tr>\n    <tr>\n      <th>augmentation_size</th>\n      <th></th>\n      <th></th>\n      <th></th>\n      <th></th>\n      <th></th>\n      <th></th>\n      <th></th>\n      <th></th>\n      <th></th>\n      <th></th>\n      <th></th>\n      <th></th>\n      <th></th>\n      <th></th>\n      <th></th>\n      <th></th>\n      <th></th>\n      <th></th>\n      <th></th>\n      <th></th>\n      <th></th>\n    </tr>\n  </thead>\n  <tbody>\n    <tr>\n      <th>100</th>\n      <td>0.115378</td>\n      <td>0.021716</td>\n      <td>0.031149</td>\n      <td>0.007860</td>\n      <td>0.014225</td>\n      <td>0.002424</td>\n      <td>0.005500</td>\n      <td>0.002742</td>\n      <td>0.112090</td>\n      <td>0.005564</td>\n      <td>...</td>\n      <td>0.023604</td>\n      <td>0.002698</td>\n      <td>0.018721</td>\n      <td>0.003015</td>\n      <td>0.106725</td>\n      <td>0.006971</td>\n      <td>0.159496</td>\n      <td>0.015606</td>\n      <td>0.124022</td>\n      <td>0.004204</td>\n    </tr>\n    <tr>\n      <th>25</th>\n      <td>0.135650</td>\n      <td>0.016296</td>\n      <td>0.039762</td>\n      <td>0.009697</td>\n      <td>0.014979</td>\n      <td>0.004200</td>\n      <td>0.370829</td>\n      <td>1.093790</td>\n      <td>0.105538</td>\n      <td>0.009430</td>\n      <td>...</td>\n      <td>0.019394</td>\n      <td>0.003002</td>\n      <td>0.016327</td>\n      <td>0.002755</td>\n      <td>0.101186</td>\n      <td>0.009505</td>\n      <td>0.146461</td>\n      <td>0.007936</td>\n      <td>0.114838</td>\n      <td>0.008022</td>\n    </tr>\n    <tr>\n      <th>50</th>\n      <td>0.128581</td>\n      <td>NaN</td>\n      <td>0.021889</td>\n      <td>NaN</td>\n      <td>0.012525</td>\n      <td>NaN</td>\n      <td>0.002180</td>\n      <td>NaN</td>\n      <td>0.110272</td>\n      <td>NaN</td>\n      <td>...</td>\n      <td>0.020165</td>\n      <td>NaN</td>\n      <td>0.015143</td>\n      <td>NaN</td>\n      <td>0.102666</td>\n      <td>NaN</td>\n      <td>0.142517</td>\n      <td>NaN</td>\n      <td>0.120517</td>\n      <td>NaN</td>\n    </tr>\n    <tr>\n      <th>75</th>\n      <td>0.120118</td>\n      <td>NaN</td>\n      <td>0.021889</td>\n      <td>NaN</td>\n      <td>0.012525</td>\n      <td>NaN</td>\n      <td>0.002180</td>\n      <td>NaN</td>\n      <td>0.110272</td>\n      <td>NaN</td>\n      <td>...</td>\n      <td>0.020165</td>\n      <td>NaN</td>\n      <td>0.015143</td>\n      <td>NaN</td>\n      <td>0.102666</td>\n      <td>NaN</td>\n      <td>0.142517</td>\n      <td>NaN</td>\n      <td>0.120517</td>\n      <td>NaN</td>\n    </tr>\n  </tbody>\n</table>\n<p>4 rows × 26 columns</p>\n</div>"
     },
     "execution_count": 43,
     "metadata": {},
     "output_type": "execute_result"
    }
   ],
   "source": [
    "word_level"
   ],
   "metadata": {
    "collapsed": false,
    "ExecuteTime": {
     "start_time": "2024-05-09T14:54:01.441257Z",
     "end_time": "2024-05-09T14:54:01.463959Z"
    }
   }
  },
  {
   "cell_type": "code",
   "execution_count": 42,
   "outputs": [],
   "source": [],
   "metadata": {
    "collapsed": false,
    "ExecuteTime": {
     "start_time": "2024-05-08T11:23:27.173078Z",
     "end_time": "2024-05-08T11:23:27.235542Z"
    }
   }
  },
  {
   "cell_type": "code",
   "execution_count": 8,
   "outputs": [],
   "source": [
    "#average accuracy for each augmentation type with standard deviation\n",
    "#just BLEU-1 and rouge-1-f and standard deviation for contextual only\n",
    "contextual = df[df[\"generation_type\"] == \"Contextual\"]\n",
    "contextual = contextual[[\"BLEU-1\", \"rouge-1-f\", \"augmentation_type\"]]\n",
    "contextual = contextual.groupby(\"augmentation_type\").agg([\"mean\", \"std\"])"
   ],
   "metadata": {
    "collapsed": false,
    "ExecuteTime": {
     "start_time": "2024-05-09T14:07:59.243133Z",
     "end_time": "2024-05-09T14:07:59.290557Z"
    }
   }
  },
  {
   "cell_type": "code",
   "execution_count": 27,
   "outputs": [
    {
     "ename": "KeyError",
     "evalue": "\"['augmentation_type'] not in index\"",
     "output_type": "error",
     "traceback": [
      "\u001B[1;31m---------------------------------------------------------------------------\u001B[0m",
      "\u001B[1;31mKeyError\u001B[0m                                  Traceback (most recent call last)",
      "Cell \u001B[1;32mIn[27], line 3\u001B[0m\n\u001B[0;32m      1\u001B[0m \u001B[38;5;66;03m#average accuracy for each augmentation type with standard deviation\u001B[39;00m\n\u001B[1;32m----> 3\u001B[0m df \u001B[38;5;241m=\u001B[39m \u001B[43mdf\u001B[49m\u001B[43m[\u001B[49m\u001B[43m[\u001B[49m\u001B[38;5;124;43m\"\u001B[39;49m\u001B[38;5;124;43mBLEU-1\u001B[39;49m\u001B[38;5;124;43m\"\u001B[39;49m\u001B[43m,\u001B[49m\u001B[43m \u001B[49m\u001B[38;5;124;43m\"\u001B[39;49m\u001B[38;5;124;43mrouge-1-f\u001B[39;49m\u001B[38;5;124;43m\"\u001B[39;49m\u001B[43m,\u001B[49m\u001B[43m \u001B[49m\u001B[38;5;124;43m\"\u001B[39;49m\u001B[38;5;124;43maugmentation_type\u001B[39;49m\u001B[38;5;124;43m\"\u001B[39;49m\u001B[43m]\u001B[49m\u001B[43m]\u001B[49m\n\u001B[0;32m      4\u001B[0m df \u001B[38;5;241m=\u001B[39m df\u001B[38;5;241m.\u001B[39mgroupby(\u001B[38;5;124m\"\u001B[39m\u001B[38;5;124maugmentation_type\u001B[39m\u001B[38;5;124m\"\u001B[39m)\u001B[38;5;241m.\u001B[39magg([\u001B[38;5;124m\"\u001B[39m\u001B[38;5;124mmean\u001B[39m\u001B[38;5;124m\"\u001B[39m, \u001B[38;5;124m\"\u001B[39m\u001B[38;5;124mstd\u001B[39m\u001B[38;5;124m\"\u001B[39m])\n",
      "File \u001B[1;32m~\\Anaconda3\\lib\\site-packages\\pandas\\core\\frame.py:3813\u001B[0m, in \u001B[0;36mDataFrame.__getitem__\u001B[1;34m(self, key)\u001B[0m\n\u001B[0;32m   3811\u001B[0m     \u001B[38;5;28;01mif\u001B[39;00m is_iterator(key):\n\u001B[0;32m   3812\u001B[0m         key \u001B[38;5;241m=\u001B[39m \u001B[38;5;28mlist\u001B[39m(key)\n\u001B[1;32m-> 3813\u001B[0m     indexer \u001B[38;5;241m=\u001B[39m \u001B[38;5;28;43mself\u001B[39;49m\u001B[38;5;241;43m.\u001B[39;49m\u001B[43mcolumns\u001B[49m\u001B[38;5;241;43m.\u001B[39;49m\u001B[43m_get_indexer_strict\u001B[49m\u001B[43m(\u001B[49m\u001B[43mkey\u001B[49m\u001B[43m,\u001B[49m\u001B[43m \u001B[49m\u001B[38;5;124;43m\"\u001B[39;49m\u001B[38;5;124;43mcolumns\u001B[39;49m\u001B[38;5;124;43m\"\u001B[39;49m\u001B[43m)\u001B[49m[\u001B[38;5;241m1\u001B[39m]\n\u001B[0;32m   3815\u001B[0m \u001B[38;5;66;03m# take() does not accept boolean indexers\u001B[39;00m\n\u001B[0;32m   3816\u001B[0m \u001B[38;5;28;01mif\u001B[39;00m \u001B[38;5;28mgetattr\u001B[39m(indexer, \u001B[38;5;124m\"\u001B[39m\u001B[38;5;124mdtype\u001B[39m\u001B[38;5;124m\"\u001B[39m, \u001B[38;5;28;01mNone\u001B[39;00m) \u001B[38;5;241m==\u001B[39m \u001B[38;5;28mbool\u001B[39m:\n",
      "File \u001B[1;32m~\\Anaconda3\\lib\\site-packages\\pandas\\core\\indexes\\multi.py:2623\u001B[0m, in \u001B[0;36mMultiIndex._get_indexer_strict\u001B[1;34m(self, key, axis_name)\u001B[0m\n\u001B[0;32m   2620\u001B[0m \u001B[38;5;28;01mif\u001B[39;00m \u001B[38;5;28mlen\u001B[39m(keyarr) \u001B[38;5;129;01mand\u001B[39;00m \u001B[38;5;129;01mnot\u001B[39;00m \u001B[38;5;28misinstance\u001B[39m(keyarr[\u001B[38;5;241m0\u001B[39m], \u001B[38;5;28mtuple\u001B[39m):\n\u001B[0;32m   2621\u001B[0m     indexer \u001B[38;5;241m=\u001B[39m \u001B[38;5;28mself\u001B[39m\u001B[38;5;241m.\u001B[39m_get_indexer_level_0(keyarr)\n\u001B[1;32m-> 2623\u001B[0m     \u001B[38;5;28;43mself\u001B[39;49m\u001B[38;5;241;43m.\u001B[39;49m\u001B[43m_raise_if_missing\u001B[49m\u001B[43m(\u001B[49m\u001B[43mkey\u001B[49m\u001B[43m,\u001B[49m\u001B[43m \u001B[49m\u001B[43mindexer\u001B[49m\u001B[43m,\u001B[49m\u001B[43m \u001B[49m\u001B[43maxis_name\u001B[49m\u001B[43m)\u001B[49m\n\u001B[0;32m   2624\u001B[0m     \u001B[38;5;28;01mreturn\u001B[39;00m \u001B[38;5;28mself\u001B[39m[indexer], indexer\n\u001B[0;32m   2626\u001B[0m \u001B[38;5;28;01mreturn\u001B[39;00m \u001B[38;5;28msuper\u001B[39m()\u001B[38;5;241m.\u001B[39m_get_indexer_strict(key, axis_name)\n",
      "File \u001B[1;32m~\\Anaconda3\\lib\\site-packages\\pandas\\core\\indexes\\multi.py:2641\u001B[0m, in \u001B[0;36mMultiIndex._raise_if_missing\u001B[1;34m(self, key, indexer, axis_name)\u001B[0m\n\u001B[0;32m   2639\u001B[0m cmask \u001B[38;5;241m=\u001B[39m check \u001B[38;5;241m==\u001B[39m \u001B[38;5;241m-\u001B[39m\u001B[38;5;241m1\u001B[39m\n\u001B[0;32m   2640\u001B[0m \u001B[38;5;28;01mif\u001B[39;00m cmask\u001B[38;5;241m.\u001B[39many():\n\u001B[1;32m-> 2641\u001B[0m     \u001B[38;5;28;01mraise\u001B[39;00m \u001B[38;5;167;01mKeyError\u001B[39;00m(\u001B[38;5;124mf\u001B[39m\u001B[38;5;124m\"\u001B[39m\u001B[38;5;132;01m{\u001B[39;00mkeyarr[cmask]\u001B[38;5;132;01m}\u001B[39;00m\u001B[38;5;124m not in index\u001B[39m\u001B[38;5;124m\"\u001B[39m)\n\u001B[0;32m   2642\u001B[0m \u001B[38;5;66;03m# We get here when levels still contain values which are not\u001B[39;00m\n\u001B[0;32m   2643\u001B[0m \u001B[38;5;66;03m# actually in Index anymore\u001B[39;00m\n\u001B[0;32m   2644\u001B[0m \u001B[38;5;28;01mraise\u001B[39;00m \u001B[38;5;167;01mKeyError\u001B[39;00m(\u001B[38;5;124mf\u001B[39m\u001B[38;5;124m\"\u001B[39m\u001B[38;5;132;01m{\u001B[39;00mkeyarr\u001B[38;5;132;01m}\u001B[39;00m\u001B[38;5;124m not in index\u001B[39m\u001B[38;5;124m\"\u001B[39m)\n",
      "\u001B[1;31mKeyError\u001B[0m: \"['augmentation_type'] not in index\""
     ]
    }
   ],
   "source": [
    "\n",
    "word_level = df[df[\"generation_type\"] == \"Word_Level\"]\n",
    "word_level = word_level[[\"BLEU-1\", \"rouge-1-f\", \"augmentation_type\"]]\n",
    "word_level = word_level.groupby(\"augmentation_type\").agg([\"mean\", \"std\"])\n",
    "\n",
    "sentence_level = df[df[\"generation_type\"] == \"Sentence_Level\"]\n",
    "sentence_level = sentence_level[[\"BLEU-1\", \"rouge-1-f\", \"augmentation_type\"]]\n",
    "sentence_level = sentence_level.groupby(\"augmentation_type\").agg([\"mean\", \"std\"])\n"
   ],
   "metadata": {
    "collapsed": false,
    "ExecuteTime": {
     "start_time": "2024-05-09T14:07:59.825385Z",
     "end_time": "2024-05-09T14:07:59.885162Z"
    }
   }
  },
  {
   "cell_type": "code",
   "execution_count": 26,
   "outputs": [],
   "source": [
    "contextual"
   ],
   "metadata": {
    "collapsed": false,
    "ExecuteTime": {
     "start_time": "2024-05-09T14:52:45.490738Z",
     "end_time": "2024-05-09T14:52:45.534694Z"
    }
   }
  },
  {
   "cell_type": "code",
   "execution_count": 26,
   "outputs": [],
   "source": [
    "sentence_level"
   ],
   "metadata": {
    "collapsed": false,
    "ExecuteTime": {
     "start_time": "2024-05-09T14:52:46.544342Z",
     "end_time": "2024-05-09T14:52:46.575696Z"
    }
   }
  },
  {
   "cell_type": "code",
   "execution_count": 26,
   "outputs": [],
   "source": [
    "word_level"
   ],
   "metadata": {
    "collapsed": false,
    "ExecuteTime": {
     "start_time": "2024-05-09T14:52:47.825095Z",
     "end_time": "2024-05-09T14:52:47.840734Z"
    }
   }
  },
  {
   "cell_type": "code",
   "execution_count": 26,
   "outputs": [],
   "source": [],
   "metadata": {
    "collapsed": false,
    "ExecuteTime": {
     "start_time": "2024-05-09T14:52:48.668197Z",
     "end_time": "2024-05-09T14:52:48.699800Z"
    }
   }
  }
 ],
 "metadata": {
  "kernelspec": {
   "display_name": "Python 3",
   "language": "python",
   "name": "python3"
  },
  "language_info": {
   "codemirror_mode": {
    "name": "ipython",
    "version": 2
   },
   "file_extension": ".py",
   "mimetype": "text/x-python",
   "name": "python",
   "nbconvert_exporter": "python",
   "pygments_lexer": "ipython2",
   "version": "2.7.6"
  }
 },
 "nbformat": 4,
 "nbformat_minor": 0
}
