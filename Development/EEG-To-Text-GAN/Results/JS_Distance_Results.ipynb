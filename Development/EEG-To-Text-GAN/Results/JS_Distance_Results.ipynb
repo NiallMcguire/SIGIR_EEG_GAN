{
 "cells": [
  {
   "cell_type": "code",
   "execution_count": 17,
   "metadata": {
    "collapsed": true,
    "ExecuteTime": {
     "start_time": "2024-04-15T10:41:19.458538Z",
     "end_time": "2024-04-15T10:41:19.476560Z"
    }
   },
   "outputs": [],
   "source": [
    "import pandas as pd"
   ]
  },
  {
   "cell_type": "code",
   "execution_count": 17,
   "outputs": [],
   "source": [],
   "metadata": {
    "collapsed": false,
    "ExecuteTime": {
     "start_time": "2024-04-15T10:41:19.603983Z",
     "end_time": "2024-04-15T10:41:19.618962Z"
    }
   }
  },
  {
   "cell_type": "code",
   "execution_count": 17,
   "outputs": [],
   "source": [],
   "metadata": {
    "collapsed": false,
    "ExecuteTime": {
     "start_time": "2024-04-15T10:41:19.795539Z",
     "end_time": "2024-04-15T10:41:19.806050Z"
    }
   }
  },
  {
   "cell_type": "code",
   "execution_count": 19,
   "outputs": [],
   "source": [
    "import csv\n",
    "\n",
    "def read_csv(filename):\n",
    "    records = []\n",
    "    current_record = []\n",
    "\n",
    "    with open(filename, 'r') as file:\n",
    "        reader = csv.reader(file)\n",
    "        for row in reader:\n",
    "            if len(row) == 1:  # If row contains only one field, it's part of the previous record\n",
    "                current_record.extend(row)\n",
    "            else:  # Otherwise, it's a new record\n",
    "                if current_record:  # If there's a current record, append it to the list of records\n",
    "                    records.append(current_record)\n",
    "                current_record = row  # Start a new record\n",
    "\n",
    "        # Append the last record\n",
    "        if current_record:\n",
    "            records.append(current_record)\n",
    "\n",
    "    df = pd.DataFrame(records)\n",
    "    return df\n",
    "\n",
    "def get_JS_Distance(df):\n",
    "    df[1] = pd.to_numeric(df[1])\n",
    "\n",
    "    return df[1].mean()\n",
    "\n",
    "random = r\"C:\\Users\\gxb18167\\OneDrive - University of Strathclyde\\Desktop\\PhD\\2nd year\\Results\\JS_Distance\\WGAN_v1_Text_random_JS_Distance.csv\"\n",
    "WGAN_Text_normal = fr\"C:\\Users\\gxb18167\\OneDrive - University of Strathclyde\\Desktop\\PhD\\2nd year\\Results\\JS_Distance\\WGAN_v2_Text_normal_JS_Distance.csv\"\n",
    "DCGAN_Text_normal = fr\"C:\\Users\\gxb18167\\OneDrive - University of Strathclyde\\Desktop\\PhD\\2nd year\\Results\\JS_Distance\\DCGAN_v1_Text_normal_JS_Distance.csv\"\n",
    "\n"
   ],
   "metadata": {
    "collapsed": false,
    "ExecuteTime": {
     "start_time": "2024-04-15T10:42:38.887523Z",
     "end_time": "2024-04-15T10:42:38.901179Z"
    }
   }
  },
  {
   "cell_type": "code",
   "execution_count": 20,
   "outputs": [],
   "source": [
    "random_df = read_csv(random)\n",
    "WGAN_Text_normal_df = read_csv(WGAN_Text_normal)\n",
    "DCGAN_Text_normal_df = read_csv(DCGAN_Text_normal)\n",
    "\n"
   ],
   "metadata": {
    "collapsed": false,
    "ExecuteTime": {
     "start_time": "2024-04-15T10:42:39.413647Z",
     "end_time": "2024-04-15T10:42:39.536996Z"
    }
   }
  },
  {
   "cell_type": "code",
   "execution_count": 21,
   "outputs": [],
   "source": [
    "random_JS = get_JS_Distance(random_df)\n",
    "WGAN_Text_normal_JS = get_JS_Distance(WGAN_Text_normal_df)\n",
    "DCGAN_Text_normal_JS = get_JS_Distance(DCGAN_Text_normal_df)\n"
   ],
   "metadata": {
    "collapsed": false,
    "ExecuteTime": {
     "start_time": "2024-04-15T10:42:47.991017Z",
     "end_time": "2024-04-15T10:42:48.006332Z"
    }
   }
  },
  {
   "cell_type": "code",
   "execution_count": 22,
   "outputs": [
    {
     "name": "stdout",
     "output_type": "stream",
     "text": [
      "Random JS Distance:  0.4162058679798051\n",
      "WGAN Text Normal JS Distance:  0.38523961311588795\n",
      "DCGAN Text Normal JS Distance:  0.385184750275461\n"
     ]
    }
   ],
   "source": [
    "print(\"Random JS Distance: \", random_JS)\n",
    "print(\"WGAN Text Normal JS Distance: \", WGAN_Text_normal_JS)\n",
    "print(\"DCGAN Text Normal JS Distance: \", DCGAN_Text_normal_JS)"
   ],
   "metadata": {
    "collapsed": false,
    "ExecuteTime": {
     "start_time": "2024-04-15T10:42:58.744892Z",
     "end_time": "2024-04-15T10:42:58.757324Z"
    }
   }
  },
  {
   "cell_type": "code",
   "execution_count": 21,
   "outputs": [],
   "source": [],
   "metadata": {
    "collapsed": false,
    "ExecuteTime": {
     "start_time": "2024-04-15T10:42:49.755444Z",
     "end_time": "2024-04-15T10:42:49.778479Z"
    }
   }
  },
  {
   "cell_type": "code",
   "execution_count": null,
   "outputs": [],
   "source": [],
   "metadata": {
    "collapsed": false
   }
  }
 ],
 "metadata": {
  "kernelspec": {
   "display_name": "Python 3",
   "language": "python",
   "name": "python3"
  },
  "language_info": {
   "codemirror_mode": {
    "name": "ipython",
    "version": 2
   },
   "file_extension": ".py",
   "mimetype": "text/x-python",
   "name": "python",
   "nbconvert_exporter": "python",
   "pygments_lexer": "ipython2",
   "version": "2.7.6"
  }
 },
 "nbformat": 4,
 "nbformat_minor": 0
}
