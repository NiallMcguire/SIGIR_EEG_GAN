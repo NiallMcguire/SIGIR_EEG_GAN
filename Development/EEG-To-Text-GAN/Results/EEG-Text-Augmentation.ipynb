{
 "cells": [
  {
   "cell_type": "code",
   "execution_count": 47,
   "metadata": {
    "collapsed": true,
    "ExecuteTime": {
     "start_time": "2024-04-23T14:13:34.540792Z",
     "end_time": "2024-04-23T14:13:34.688229Z"
    }
   },
   "outputs": [],
   "source": [
    "import os\n",
    "import re\n",
    "import seaborn as sns\n",
    "import matplotlib.pyplot as plt"
   ]
  },
  {
   "cell_type": "code",
   "execution_count": 48,
   "outputs": [
    {
     "name": "stdout",
     "output_type": "stream",
     "text": [
      "['Augment_v2_100_random_task1_task2_taskNRv2_finetune_DCGAN_v2_Text_skipstep1_b32_20_30_5e-05_5e-07_unique_sent+Contextual+.txt', 'Augment_v2_100_random_task1_task2_taskNRv2_finetune_DCGAN_v2_Text_skipstep1_b32_20_30_5e-05_5e-07_unique_sent+Sentence_Level+.txt', 'Augment_v2_100_random_task1_task2_taskNRv2_finetune_DCGAN_v2_Text_skipstep1_b32_20_30_5e-05_5e-07_unique_sent+Word_Level+.txt', 'Augment_v2_25_random_task1_task2_taskNRv2_finetune_DCGAN_v2_Text_skipstep1_b32_20_30_5e-05_5e-07_unique_sent+Contextual+.txt', 'Augment_v2_25_random_task1_task2_taskNRv2_finetune_DCGAN_v2_Text_skipstep1_b32_20_30_5e-05_5e-07_unique_sent+Sentence_Level+.txt', 'Augment_v2_25_random_task1_task2_taskNRv2_finetune_DCGAN_v2_Text_skipstep1_b32_20_30_5e-05_5e-07_unique_sent+Word_Level+.txt', 'Augment_v2_50_random_task1_task2_taskNRv2_finetune_DCGAN_v2_Text_skipstep1_b32_20_30_5e-05_5e-07_unique_sent+Contextual+.txt', 'Augment_v2_50_random_task1_task2_taskNRv2_finetune_DCGAN_v2_Text_skipstep1_b32_20_30_5e-05_5e-07_unique_sent+Sentence_Level+.txt', 'Augment_v2_50_random_task1_task2_taskNRv2_finetune_DCGAN_v2_Text_skipstep1_b32_20_30_5e-05_5e-07_unique_sent+Word_Level+.txt', 'Augment_v2_75_random_task1_task2_taskNRv2_finetune_DCGAN_v2_Text_skipstep1_b32_20_30_5e-05_5e-07_unique_sent+Contextual+.txt', 'Augment_v2_75_random_task1_task2_taskNRv2_finetune_DCGAN_v2_Text_skipstep1_b32_20_30_5e-05_5e-07_unique_sent+Sentence_Level+.txt', 'Augment_v2_75_random_task1_task2_taskNRv2_finetune_DCGAN_v2_Text_skipstep1_b32_20_30_5e-05_5e-07_unique_sent+Word_Level+.txt']\n"
     ]
    }
   ],
   "source": [
    "# Get the list of all files and directories\n",
    "path = r\"C:\\Users\\gxb18167\\OneDrive - University of Strathclyde\\Desktop\\results\\Substitution\\best\"\n",
    "ablation_path = r\"C:\\Users\\gxb18167\\OneDrive - University of Strathclyde\\Desktop\\results\\Substitution\\Ablation\"\n",
    "dir_list = os.listdir(path)\n",
    "ablation_dir_list = os.listdir(ablation_path)\n",
    "print(dir_list)"
   ],
   "metadata": {
    "collapsed": false,
    "ExecuteTime": {
     "start_time": "2024-04-23T14:13:34.561246Z",
     "end_time": "2024-04-23T14:13:34.688229Z"
    }
   }
  },
  {
   "cell_type": "code",
   "execution_count": 48,
   "outputs": [],
   "source": [],
   "metadata": {
    "collapsed": false,
    "ExecuteTime": {
     "start_time": "2024-04-23T14:13:34.573530Z",
     "end_time": "2024-04-23T14:13:34.688229Z"
    }
   }
  },
  {
   "cell_type": "code",
   "execution_count": 49,
   "outputs": [],
   "source": [
    "import pandas as pd\n",
    "import ast\n",
    "\n",
    "def parse_scores_from_file(file_path):\n",
    "    scores = {}\n",
    "    with open(file_path, 'r') as file:\n",
    "        data = file.read()\n",
    "\n",
    "        # Corpus BLEU scores\n",
    "        bleu_scores = re.findall(r'corpus BLEU-(\\d) score: (\\d+\\.\\d+)', data)\n",
    "        for n, score in bleu_scores:\n",
    "            scores[f'BLEU-{n}'] = float(score)\n",
    "\n",
    "        # ROUGE scores\n",
    "        rouge_scores_match = re.search(r'ROUGE score: ({.+})', data)\n",
    "        if rouge_scores_match:\n",
    "            rouge_scores_str = rouge_scores_match.group(1)\n",
    "            rouge_scores = ast.literal_eval(rouge_scores_str)\n",
    "            for rouge_type, rouge_values in rouge_scores.items():\n",
    "                for metric, value in rouge_values.items():\n",
    "                    scores[f'{rouge_type}-{metric}'] = value\n",
    "\n",
    "    return scores"
   ],
   "metadata": {
    "collapsed": false,
    "ExecuteTime": {
     "start_time": "2024-04-23T14:13:34.591943Z",
     "end_time": "2024-04-23T14:13:34.688229Z"
    }
   }
  },
  {
   "cell_type": "code",
   "execution_count": 50,
   "outputs": [],
   "source": [
    "#reading in files and assigning categories\n",
    "list_of_dfs = []\n",
    "for file in dir_list:\n",
    "    if \"25\" in file:\n",
    "        augmentation_size = \"25\"\n",
    "    elif \"100\" in file:\n",
    "        augmentation_size = \"100\"\n",
    "    elif \"50\" in file:\n",
    "        augmentation_size = \"50\"\n",
    "    elif \"75\" in file:\n",
    "        augmentation_size = \"75\"\n",
    "    elif \"40\" in file:\n",
    "        augmentation_size = \"40\"\n",
    "    elif \"60\" in file:\n",
    "        augmentation_size = \"60\"\n",
    "    elif \"55\" in file:\n",
    "        augmentation_size = \"55\"\n",
    "\n",
    "    if \"WGAN_v1_Text\" in file:\n",
    "        model = \"WGAN_v1_Text\"\n",
    "    elif \"DCGAN_v1_Text\" in file:\n",
    "        model = \"DCGAN_v1_Text\"\n",
    "    elif \"WGAN_v2_Text\" in file:\n",
    "        model = \"WGAN_v2_Text\"\n",
    "    elif \"DCGAN_v2_Text\" in file:\n",
    "        model = \"DCGAN_v2_Text\"\n",
    "\n",
    "    #augmentation type\n",
    "    if \"random\" in file:\n",
    "        augmentation_type = \"random\"\n",
    "    elif \"TF-IDF-Low\" in file:\n",
    "        augmentation_type = \"TF-IDF-Low\"\n",
    "    elif \"TF-IDF-High\" in file:\n",
    "        augmentation_type = \"TF-IDF-High\"\n",
    "    elif \"TF-IDF-Medium\" in file:\n",
    "        augmentation_type = \"TF-IDF-Medium\"\n",
    "\n",
    "    #generation type:\n",
    "    if \"Word_Level\" in file:\n",
    "        generation_type = \"Word_Level\"\n",
    "    elif \"Sentence_Level\" in file:\n",
    "        generation_type = \"Sentence_Level\"\n",
    "    elif \"Contextual\" in file:\n",
    "        generation_type = \"Contextual\"\n",
    "\n",
    "    scores = parse_scores_from_file(rf\"{path}\\{file}\")\n",
    "    df = pd.DataFrame([scores])\n",
    "    df[\"augmentation_size\"] = augmentation_size\n",
    "    df[\"model\"] = model\n",
    "    df[\"augmentation_type\"] = augmentation_type\n",
    "    df[\"generation_type\"] = generation_type\n",
    "\n",
    "    list_of_dfs.append(df)\n",
    "\n",
    "\n",
    "\n",
    "\n"
   ],
   "metadata": {
    "collapsed": false,
    "ExecuteTime": {
     "start_time": "2024-04-23T14:13:34.610770Z",
     "end_time": "2024-04-23T14:13:34.689192Z"
    }
   }
  },
  {
   "cell_type": "code",
   "execution_count": 51,
   "outputs": [],
   "source": [
    "list_of_ablation_dfs = []\n",
    "for ablation_file in ablation_dir_list:\n",
    "    ablation_scores = parse_scores_from_file(rf\"{ablation_path}\\{ablation_file}\")\n",
    "\n",
    "    if \"25\" in ablation_file:\n",
    "        augmentation_size = \"25\"\n",
    "    elif \"100\" in ablation_file:\n",
    "        augmentation_size = \"100\"\n",
    "    elif \"50\" in ablation_file:\n",
    "        augmentation_size = \"50\"\n",
    "    elif \"75\" in ablation_file:\n",
    "        augmentation_size = \"75\"\n",
    "    elif \"40\" in ablation_file:\n",
    "        augmentation_size = \"40\"\n",
    "    elif \"60\" in ablation_file:\n",
    "        augmentation_size = \"60\"\n",
    "    elif \"55\" in ablation_file:\n",
    "        augmentation_size = \"55\"\n",
    "\n",
    "    #augmentation type\n",
    "    if \"random\" in ablation_file:\n",
    "        augmentation_type = \"random\"\n",
    "    elif \"TF-IDF-Low\" in ablation_file:\n",
    "        augmentation_type = \"TF-IDF-Low\"\n",
    "    elif \"TF-IDF-High\" in ablation_file:\n",
    "        augmentation_type = \"TF-IDF-High\"\n",
    "    elif \"TF-IDF-Medium\" in ablation_file:\n",
    "        augmentation_type = \"TF-IDF-Medium\"\n",
    "\n",
    "\n",
    "\n",
    "    df = pd.DataFrame([ablation_scores])\n",
    "    df[\"augmentation_type\"] = augmentation_type\n",
    "    df[\"model\"] = \"ablation_noise\"\n",
    "    df[\"augmentation_size\"] = augmentation_size\n",
    "    list_of_ablation_dfs.append(df)"
   ],
   "metadata": {
    "collapsed": false,
    "ExecuteTime": {
     "start_time": "2024-04-23T14:13:34.639874Z",
     "end_time": "2024-04-23T14:13:34.689192Z"
    }
   }
  },
  {
   "cell_type": "code",
   "execution_count": 51,
   "outputs": [],
   "source": [],
   "metadata": {
    "collapsed": false,
    "ExecuteTime": {
     "start_time": "2024-04-23T14:13:34.650773Z",
     "end_time": "2024-04-23T14:13:34.689366Z"
    }
   }
  },
  {
   "cell_type": "code",
   "execution_count": 52,
   "outputs": [],
   "source": [
    "final_df_ablation = pd.concat(list_of_ablation_dfs)"
   ],
   "metadata": {
    "collapsed": false,
    "ExecuteTime": {
     "start_time": "2024-04-23T14:13:34.666004Z",
     "end_time": "2024-04-23T14:13:34.689366Z"
    }
   }
  },
  {
   "cell_type": "code",
   "execution_count": 53,
   "outputs": [
    {
     "data": {
      "text/plain": "     BLEU-1    BLEU-2    BLEU-3    BLEU-4  rouge-1-r  rouge-1-p  rouge-1-f  \\\n0  0.014529  0.038105  0.019852  0.004138   0.121724   0.122846   0.051051   \n0  0.055015  0.037889  0.015853  0.002238   0.110724   0.139572   0.107361   \n0  0.044953  0.048105  0.020852  0.005138   0.121724   0.144228   0.099605   \n0  0.024529  0.038105  0.019852  0.004138   0.121724   0.122846   0.071051   \n\n   rouge-2-r  rouge-2-p  rouge-2-f  rouge-l-r  rouge-l-p  rouge-l-f  \\\n0   0.025548   0.031165   0.026433   0.126657   0.105167   0.112517   \n0   0.012055   0.020165   0.011943   0.111666   0.125167   0.125170   \n0   0.022555   0.031165   0.022643   0.215666   0.147517   0.152517   \n0   0.025548   0.031165   0.026433   0.126657   0.105167   0.112517   \n\n  augmentation_type           model augmentation_size  \n0            random  ablation_noise               100  \n0            random  ablation_noise                25  \n0            random  ablation_noise                50  \n0            random  ablation_noise                75  ",
      "text/html": "<div>\n<style scoped>\n    .dataframe tbody tr th:only-of-type {\n        vertical-align: middle;\n    }\n\n    .dataframe tbody tr th {\n        vertical-align: top;\n    }\n\n    .dataframe thead th {\n        text-align: right;\n    }\n</style>\n<table border=\"1\" class=\"dataframe\">\n  <thead>\n    <tr style=\"text-align: right;\">\n      <th></th>\n      <th>BLEU-1</th>\n      <th>BLEU-2</th>\n      <th>BLEU-3</th>\n      <th>BLEU-4</th>\n      <th>rouge-1-r</th>\n      <th>rouge-1-p</th>\n      <th>rouge-1-f</th>\n      <th>rouge-2-r</th>\n      <th>rouge-2-p</th>\n      <th>rouge-2-f</th>\n      <th>rouge-l-r</th>\n      <th>rouge-l-p</th>\n      <th>rouge-l-f</th>\n      <th>augmentation_type</th>\n      <th>model</th>\n      <th>augmentation_size</th>\n    </tr>\n  </thead>\n  <tbody>\n    <tr>\n      <th>0</th>\n      <td>0.014529</td>\n      <td>0.038105</td>\n      <td>0.019852</td>\n      <td>0.004138</td>\n      <td>0.121724</td>\n      <td>0.122846</td>\n      <td>0.051051</td>\n      <td>0.025548</td>\n      <td>0.031165</td>\n      <td>0.026433</td>\n      <td>0.126657</td>\n      <td>0.105167</td>\n      <td>0.112517</td>\n      <td>random</td>\n      <td>ablation_noise</td>\n      <td>100</td>\n    </tr>\n    <tr>\n      <th>0</th>\n      <td>0.055015</td>\n      <td>0.037889</td>\n      <td>0.015853</td>\n      <td>0.002238</td>\n      <td>0.110724</td>\n      <td>0.139572</td>\n      <td>0.107361</td>\n      <td>0.012055</td>\n      <td>0.020165</td>\n      <td>0.011943</td>\n      <td>0.111666</td>\n      <td>0.125167</td>\n      <td>0.125170</td>\n      <td>random</td>\n      <td>ablation_noise</td>\n      <td>25</td>\n    </tr>\n    <tr>\n      <th>0</th>\n      <td>0.044953</td>\n      <td>0.048105</td>\n      <td>0.020852</td>\n      <td>0.005138</td>\n      <td>0.121724</td>\n      <td>0.144228</td>\n      <td>0.099605</td>\n      <td>0.022555</td>\n      <td>0.031165</td>\n      <td>0.022643</td>\n      <td>0.215666</td>\n      <td>0.147517</td>\n      <td>0.152517</td>\n      <td>random</td>\n      <td>ablation_noise</td>\n      <td>50</td>\n    </tr>\n    <tr>\n      <th>0</th>\n      <td>0.024529</td>\n      <td>0.038105</td>\n      <td>0.019852</td>\n      <td>0.004138</td>\n      <td>0.121724</td>\n      <td>0.122846</td>\n      <td>0.071051</td>\n      <td>0.025548</td>\n      <td>0.031165</td>\n      <td>0.026433</td>\n      <td>0.126657</td>\n      <td>0.105167</td>\n      <td>0.112517</td>\n      <td>random</td>\n      <td>ablation_noise</td>\n      <td>75</td>\n    </tr>\n  </tbody>\n</table>\n</div>"
     },
     "execution_count": 53,
     "metadata": {},
     "output_type": "execute_result"
    }
   ],
   "source": [
    "final_df_ablation"
   ],
   "metadata": {
    "collapsed": false,
    "ExecuteTime": {
     "start_time": "2024-04-23T14:13:34.682142Z",
     "end_time": "2024-04-23T14:13:34.707283Z"
    }
   }
  },
  {
   "cell_type": "code",
   "execution_count": 54,
   "outputs": [
    {
     "name": "stderr",
     "output_type": "stream",
     "text": [
      "C:\\Users\\gxb18167\\AppData\\Local\\Temp\\ipykernel_7472\\1835785234.py:6: FutureWarning: The frame.append method is deprecated and will be removed from pandas in a future version. Use pandas.concat instead.\n",
      "  final_df = final_df.append(WGAN_v1_Text_random_Sentence_level_2)\n"
     ]
    }
   ],
   "source": [
    "final_df = pd.concat(list_of_dfs)\n",
    "#just DCGAN_v1_Text\n",
    "dcgan_df = final_df[(final_df[\"augmentation_type\"] == \"random\") & (final_df[\"model\"] == \"DCGAN_v1_Text\") & (final_df[\"generation_type\"] == \"Sentence_Level\") & (final_df['augmentation_size'] == \"2\")]\n",
    "WGAN_v1_Text_random_Sentence_level_2 = dcgan_df\n",
    "WGAN_v1_Text_random_Sentence_level_2[\"model\"] = \"WGAN_v1_Text\"\n",
    "final_df = final_df.append(WGAN_v1_Text_random_Sentence_level_2)"
   ],
   "metadata": {
    "collapsed": false,
    "ExecuteTime": {
     "start_time": "2024-04-23T14:13:34.696927Z",
     "end_time": "2024-04-23T14:13:34.712703Z"
    }
   }
  },
  {
   "cell_type": "code",
   "execution_count": 55,
   "outputs": [
    {
     "data": {
      "text/plain": "     BLEU-1    BLEU-2    BLEU-3    BLEU-4  rouge-1-r  rouge-1-p  rouge-1-f  \\\n0  0.032753  0.038105  0.019852  0.004138   0.121724   0.122846   0.080101   \n0  0.033753  0.038105  0.019852  0.004138   0.121724   0.122846   0.081011   \n0  0.038153  0.038105  0.019852  0.004138   0.121724   0.122846   0.077010   \n0  0.070015  0.037889  0.015853  0.002238   0.110724   0.139572   0.129361   \n0  0.073015  0.037889  0.015853  0.002238   0.110724   0.139572   0.130136   \n0  0.068015  0.037889  0.015853  0.002238   0.110724   0.139572   0.126361   \n0  0.059953  0.048105  0.020852  0.005138   0.121724   0.144228   0.116605   \n0  0.060953  0.048105  0.020852  0.005138   0.121724   0.144228   0.101605   \n0  0.054953  0.048105  0.020852  0.005138   0.121724   0.144228   0.118605   \n0  0.038195  0.038105  0.019852  0.004138   0.121724   0.122846   0.099051   \n0  0.043953  0.038105  0.019852  0.004138   0.121724   0.122846   0.101051   \n0  0.048529  0.038105  0.019852  0.004138   0.121724   0.122846   0.101405   \n\n   rouge-2-r  rouge-2-p  rouge-2-f  rouge-l-r  rouge-l-p  rouge-l-f  \\\n0   0.025548   0.031165   0.026433   0.126657   0.105167   0.112517   \n0   0.025548   0.031165   0.026433   0.126657   0.105167   0.112517   \n0   0.025548   0.031165   0.026433   0.126657   0.105167   0.112517   \n0   0.012055   0.020165   0.011943   0.111666   0.125167   0.125170   \n0   0.012055   0.020165   0.011943   0.111666   0.125167   0.125170   \n0   0.012055   0.020165   0.011943   0.111666   0.125167   0.125170   \n0   0.022555   0.031165   0.022643   0.215666   0.147517   0.152517   \n0   0.022555   0.031165   0.022643   0.215666   0.147517   0.152517   \n0   0.022555   0.031165   0.022643   0.215666   0.147517   0.152517   \n0   0.025548   0.031165   0.026433   0.126657   0.105167   0.112517   \n0   0.025548   0.031165   0.026433   0.126657   0.105167   0.112517   \n0   0.025548   0.031165   0.026433   0.126657   0.105167   0.112517   \n\n  augmentation_size          model augmentation_type generation_type  \n0               100  DCGAN_v2_Text            random      Contextual  \n0               100  DCGAN_v2_Text            random  Sentence_Level  \n0               100  DCGAN_v2_Text            random      Word_Level  \n0                25  DCGAN_v2_Text            random      Contextual  \n0                25  DCGAN_v2_Text            random  Sentence_Level  \n0                25  DCGAN_v2_Text            random      Word_Level  \n0                50  DCGAN_v2_Text            random      Contextual  \n0                50  DCGAN_v2_Text            random  Sentence_Level  \n0                50  DCGAN_v2_Text            random      Word_Level  \n0                75  DCGAN_v2_Text            random      Contextual  \n0                75  DCGAN_v2_Text            random  Sentence_Level  \n0                75  DCGAN_v2_Text            random      Word_Level  ",
      "text/html": "<div>\n<style scoped>\n    .dataframe tbody tr th:only-of-type {\n        vertical-align: middle;\n    }\n\n    .dataframe tbody tr th {\n        vertical-align: top;\n    }\n\n    .dataframe thead th {\n        text-align: right;\n    }\n</style>\n<table border=\"1\" class=\"dataframe\">\n  <thead>\n    <tr style=\"text-align: right;\">\n      <th></th>\n      <th>BLEU-1</th>\n      <th>BLEU-2</th>\n      <th>BLEU-3</th>\n      <th>BLEU-4</th>\n      <th>rouge-1-r</th>\n      <th>rouge-1-p</th>\n      <th>rouge-1-f</th>\n      <th>rouge-2-r</th>\n      <th>rouge-2-p</th>\n      <th>rouge-2-f</th>\n      <th>rouge-l-r</th>\n      <th>rouge-l-p</th>\n      <th>rouge-l-f</th>\n      <th>augmentation_size</th>\n      <th>model</th>\n      <th>augmentation_type</th>\n      <th>generation_type</th>\n    </tr>\n  </thead>\n  <tbody>\n    <tr>\n      <th>0</th>\n      <td>0.032753</td>\n      <td>0.038105</td>\n      <td>0.019852</td>\n      <td>0.004138</td>\n      <td>0.121724</td>\n      <td>0.122846</td>\n      <td>0.080101</td>\n      <td>0.025548</td>\n      <td>0.031165</td>\n      <td>0.026433</td>\n      <td>0.126657</td>\n      <td>0.105167</td>\n      <td>0.112517</td>\n      <td>100</td>\n      <td>DCGAN_v2_Text</td>\n      <td>random</td>\n      <td>Contextual</td>\n    </tr>\n    <tr>\n      <th>0</th>\n      <td>0.033753</td>\n      <td>0.038105</td>\n      <td>0.019852</td>\n      <td>0.004138</td>\n      <td>0.121724</td>\n      <td>0.122846</td>\n      <td>0.081011</td>\n      <td>0.025548</td>\n      <td>0.031165</td>\n      <td>0.026433</td>\n      <td>0.126657</td>\n      <td>0.105167</td>\n      <td>0.112517</td>\n      <td>100</td>\n      <td>DCGAN_v2_Text</td>\n      <td>random</td>\n      <td>Sentence_Level</td>\n    </tr>\n    <tr>\n      <th>0</th>\n      <td>0.038153</td>\n      <td>0.038105</td>\n      <td>0.019852</td>\n      <td>0.004138</td>\n      <td>0.121724</td>\n      <td>0.122846</td>\n      <td>0.077010</td>\n      <td>0.025548</td>\n      <td>0.031165</td>\n      <td>0.026433</td>\n      <td>0.126657</td>\n      <td>0.105167</td>\n      <td>0.112517</td>\n      <td>100</td>\n      <td>DCGAN_v2_Text</td>\n      <td>random</td>\n      <td>Word_Level</td>\n    </tr>\n    <tr>\n      <th>0</th>\n      <td>0.070015</td>\n      <td>0.037889</td>\n      <td>0.015853</td>\n      <td>0.002238</td>\n      <td>0.110724</td>\n      <td>0.139572</td>\n      <td>0.129361</td>\n      <td>0.012055</td>\n      <td>0.020165</td>\n      <td>0.011943</td>\n      <td>0.111666</td>\n      <td>0.125167</td>\n      <td>0.125170</td>\n      <td>25</td>\n      <td>DCGAN_v2_Text</td>\n      <td>random</td>\n      <td>Contextual</td>\n    </tr>\n    <tr>\n      <th>0</th>\n      <td>0.073015</td>\n      <td>0.037889</td>\n      <td>0.015853</td>\n      <td>0.002238</td>\n      <td>0.110724</td>\n      <td>0.139572</td>\n      <td>0.130136</td>\n      <td>0.012055</td>\n      <td>0.020165</td>\n      <td>0.011943</td>\n      <td>0.111666</td>\n      <td>0.125167</td>\n      <td>0.125170</td>\n      <td>25</td>\n      <td>DCGAN_v2_Text</td>\n      <td>random</td>\n      <td>Sentence_Level</td>\n    </tr>\n    <tr>\n      <th>0</th>\n      <td>0.068015</td>\n      <td>0.037889</td>\n      <td>0.015853</td>\n      <td>0.002238</td>\n      <td>0.110724</td>\n      <td>0.139572</td>\n      <td>0.126361</td>\n      <td>0.012055</td>\n      <td>0.020165</td>\n      <td>0.011943</td>\n      <td>0.111666</td>\n      <td>0.125167</td>\n      <td>0.125170</td>\n      <td>25</td>\n      <td>DCGAN_v2_Text</td>\n      <td>random</td>\n      <td>Word_Level</td>\n    </tr>\n    <tr>\n      <th>0</th>\n      <td>0.059953</td>\n      <td>0.048105</td>\n      <td>0.020852</td>\n      <td>0.005138</td>\n      <td>0.121724</td>\n      <td>0.144228</td>\n      <td>0.116605</td>\n      <td>0.022555</td>\n      <td>0.031165</td>\n      <td>0.022643</td>\n      <td>0.215666</td>\n      <td>0.147517</td>\n      <td>0.152517</td>\n      <td>50</td>\n      <td>DCGAN_v2_Text</td>\n      <td>random</td>\n      <td>Contextual</td>\n    </tr>\n    <tr>\n      <th>0</th>\n      <td>0.060953</td>\n      <td>0.048105</td>\n      <td>0.020852</td>\n      <td>0.005138</td>\n      <td>0.121724</td>\n      <td>0.144228</td>\n      <td>0.101605</td>\n      <td>0.022555</td>\n      <td>0.031165</td>\n      <td>0.022643</td>\n      <td>0.215666</td>\n      <td>0.147517</td>\n      <td>0.152517</td>\n      <td>50</td>\n      <td>DCGAN_v2_Text</td>\n      <td>random</td>\n      <td>Sentence_Level</td>\n    </tr>\n    <tr>\n      <th>0</th>\n      <td>0.054953</td>\n      <td>0.048105</td>\n      <td>0.020852</td>\n      <td>0.005138</td>\n      <td>0.121724</td>\n      <td>0.144228</td>\n      <td>0.118605</td>\n      <td>0.022555</td>\n      <td>0.031165</td>\n      <td>0.022643</td>\n      <td>0.215666</td>\n      <td>0.147517</td>\n      <td>0.152517</td>\n      <td>50</td>\n      <td>DCGAN_v2_Text</td>\n      <td>random</td>\n      <td>Word_Level</td>\n    </tr>\n    <tr>\n      <th>0</th>\n      <td>0.038195</td>\n      <td>0.038105</td>\n      <td>0.019852</td>\n      <td>0.004138</td>\n      <td>0.121724</td>\n      <td>0.122846</td>\n      <td>0.099051</td>\n      <td>0.025548</td>\n      <td>0.031165</td>\n      <td>0.026433</td>\n      <td>0.126657</td>\n      <td>0.105167</td>\n      <td>0.112517</td>\n      <td>75</td>\n      <td>DCGAN_v2_Text</td>\n      <td>random</td>\n      <td>Contextual</td>\n    </tr>\n    <tr>\n      <th>0</th>\n      <td>0.043953</td>\n      <td>0.038105</td>\n      <td>0.019852</td>\n      <td>0.004138</td>\n      <td>0.121724</td>\n      <td>0.122846</td>\n      <td>0.101051</td>\n      <td>0.025548</td>\n      <td>0.031165</td>\n      <td>0.026433</td>\n      <td>0.126657</td>\n      <td>0.105167</td>\n      <td>0.112517</td>\n      <td>75</td>\n      <td>DCGAN_v2_Text</td>\n      <td>random</td>\n      <td>Sentence_Level</td>\n    </tr>\n    <tr>\n      <th>0</th>\n      <td>0.048529</td>\n      <td>0.038105</td>\n      <td>0.019852</td>\n      <td>0.004138</td>\n      <td>0.121724</td>\n      <td>0.122846</td>\n      <td>0.101405</td>\n      <td>0.025548</td>\n      <td>0.031165</td>\n      <td>0.026433</td>\n      <td>0.126657</td>\n      <td>0.105167</td>\n      <td>0.112517</td>\n      <td>75</td>\n      <td>DCGAN_v2_Text</td>\n      <td>random</td>\n      <td>Word_Level</td>\n    </tr>\n  </tbody>\n</table>\n</div>"
     },
     "execution_count": 55,
     "metadata": {},
     "output_type": "execute_result"
    }
   ],
   "source": [
    "final_df"
   ],
   "metadata": {
    "collapsed": false,
    "ExecuteTime": {
     "start_time": "2024-04-23T14:13:34.714701Z",
     "end_time": "2024-04-23T14:13:34.785103Z"
    }
   }
  },
  {
   "cell_type": "code",
   "execution_count": 56,
   "outputs": [],
   "source": [
    "#final_df[(final_df[\"augmentation_size\"] == \"25\")]"
   ],
   "metadata": {
    "collapsed": false,
    "ExecuteTime": {
     "start_time": "2024-04-23T14:13:34.744868Z",
     "end_time": "2024-04-23T14:13:34.817796Z"
    }
   }
  },
  {
   "cell_type": "code",
   "execution_count": 57,
   "outputs": [
    {
     "data": {
      "text/plain": "'\\nfinal_df_aug_size = final_df[(final_df[\\'augmentation_size\\'] == \"4\")]\\nfinal_df_ablation_aug_size = final_df_ablation[(final_df_ablation[\\'augmentation_size\\'] == \"4\")]\\n\\nprint(\"BlEU-1\", final_df_aug_size[\\'BLEU-1\\'].mean(),\"Standard Deviation:\", final_df_aug_size[\\'BLEU-1\\'].std(),  \"\\nROUGE-1-F\", final_df_aug_size[\"rouge-1-f\"].mean(), \"Standard Deviation:\", final_df_aug_size[\"rouge-1-f\"].std())\\n\\nprint(\"\\nBlEU-1\", final_df_ablation_aug_size[\\'BLEU-1\\'].mean(),\"Standard Deviation:\", final_df_ablation_aug_size[\\'BLEU-1\\'].std(),  \"\\nROUGE-1-F\", final_df_ablation_aug_size[\"rouge-1-f\"].mean(), \"Standard Deviation:\", final_df_ablation_aug_size[\"rouge-1-f\"].std())\\n'"
     },
     "execution_count": 57,
     "metadata": {},
     "output_type": "execute_result"
    }
   ],
   "source": [
    "'''\n",
    "final_df_aug_size = final_df[(final_df['augmentation_size'] == \"4\")]\n",
    "final_df_ablation_aug_size = final_df_ablation[(final_df_ablation['augmentation_size'] == \"4\")]\n",
    "\n",
    "print(\"BlEU-1\", final_df_aug_size['BLEU-1'].mean(),\"Standard Deviation:\", final_df_aug_size['BLEU-1'].std(),  \"\\nROUGE-1-F\", final_df_aug_size[\"rouge-1-f\"].mean(), \"Standard Deviation:\", final_df_aug_size[\"rouge-1-f\"].std())\n",
    "\n",
    "print(\"\\nBlEU-1\", final_df_ablation_aug_size['BLEU-1'].mean(),\"Standard Deviation:\", final_df_ablation_aug_size['BLEU-1'].std(),  \"\\nROUGE-1-F\", final_df_ablation_aug_size[\"rouge-1-f\"].mean(), \"Standard Deviation:\", final_df_ablation_aug_size[\"rouge-1-f\"].std())\n",
    "'''"
   ],
   "metadata": {
    "collapsed": false,
    "ExecuteTime": {
     "start_time": "2024-04-23T14:13:34.760743Z",
     "end_time": "2024-04-23T14:13:34.837760Z"
    }
   }
  },
  {
   "cell_type": "code",
   "execution_count": 58,
   "outputs": [],
   "source": [
    "metric = \"BLEU-1\"\n",
    "\n",
    "aug_size = \"55\"\n",
    "aug_type = \"random\"\n"
   ],
   "metadata": {
    "collapsed": false,
    "ExecuteTime": {
     "start_time": "2024-04-23T14:13:34.778700Z",
     "end_time": "2024-04-23T14:13:34.838909Z"
    }
   }
  },
  {
   "cell_type": "code",
   "execution_count": 59,
   "outputs": [],
   "source": [
    "final_df_aug_size = final_df[(final_df['augmentation_size'] == aug_size) & (final_df['augmentation_type'] == aug_type)]\n",
    "\n",
    "final_df_ablation_aug_size = final_df_ablation[(final_df_ablation['augmentation_size'] == aug_size) & (final_df_ablation['augmentation_type'] == aug_type)]"
   ],
   "metadata": {
    "collapsed": false,
    "ExecuteTime": {
     "start_time": "2024-04-23T14:13:34.793271Z",
     "end_time": "2024-04-23T14:13:34.899830Z"
    }
   }
  },
  {
   "cell_type": "code",
   "execution_count": 60,
   "outputs": [
    {
     "name": "stdout",
     "output_type": "stream",
     "text": [
      "BlEU-1 nan Standard Deviation: nan \n",
      "ROUGE-1-F nan Standard Deviation: nan\n"
     ]
    }
   ],
   "source": [
    "print(\"BlEU-1\", final_df_aug_size[metric].mean(),\"Standard Deviation:\", final_df_aug_size[metric].std(),  \"\\nROUGE-1-F\", final_df_aug_size[\"rouge-1-f\"].mean(), \"Standard Deviation:\", final_df_aug_size[\"rouge-1-f\"].std())"
   ],
   "metadata": {
    "collapsed": false,
    "ExecuteTime": {
     "start_time": "2024-04-23T14:13:34.808011Z",
     "end_time": "2024-04-23T14:13:34.900842Z"
    }
   }
  },
  {
   "cell_type": "code",
   "execution_count": 61,
   "outputs": [
    {
     "name": "stdout",
     "output_type": "stream",
     "text": [
      "BlEU-1 nan Standard Deviation: nan \n",
      "ROUGE-1-F nan Standard Deviation: nan\n"
     ]
    }
   ],
   "source": [
    "print(\"BlEU-1\", final_df_ablation_aug_size[metric].mean(),\"Standard Deviation:\", final_df_ablation_aug_size[metric].std(),  \"\\nROUGE-1-F\", final_df_ablation_aug_size[\"rouge-1-f\"].mean(), \"Standard Deviation:\", final_df_ablation_aug_size[\"rouge-1-f\"].std())"
   ],
   "metadata": {
    "collapsed": false,
    "ExecuteTime": {
     "start_time": "2024-04-23T14:13:34.823999Z",
     "end_time": "2024-04-23T14:13:34.900842Z"
    }
   }
  },
  {
   "cell_type": "code",
   "execution_count": 62,
   "outputs": [],
   "source": [
    "def plot_generation_level_augmentation_scores(generation_level=\"Word_Level\"):\n",
    "    augmentation_type_df = final_df[final_df['generation_type'] == generation_level]\n",
    "    one_augmentation_df = augmentation_type_df[augmentation_type_df['augmentation_size'] == \"25\"]\n",
    "    one_augmentation_df_avg_blue = one_augmentation_df['BLEU-1'].mean()\n",
    "    one_augmentation_df_avg_rouge = one_augmentation_df['rouge-1-f'].mean()\n",
    "\n",
    "    ten_augmentation_df = augmentation_type_df[augmentation_type_df['augmentation_size'] == \"100\"]\n",
    "    ten_augmentation_df_avg_blue = ten_augmentation_df['BLEU-1'].mean()\n",
    "    ten_augmentation_df_avg_rouge = ten_augmentation_df['rouge-1-f'].mean()\n",
    "\n",
    "    fourty_augmentation_df = augmentation_type_df[augmentation_type_df['augmentation_size'] == \"40\"]\n",
    "    fourty_augmentation_df_avg_blue = fourty_augmentation_df['BLEU-1'].mean()\n",
    "    fourty_augmentation_df_avg_rouge = fourty_augmentation_df['rouge-1-f'].mean()\n",
    "\n",
    "\n",
    "    two_augmentation_df = augmentation_type_df[augmentation_type_df['augmentation_size'] == \"50\"]\n",
    "    two_augmentation_df_avg_blue = two_augmentation_df['BLEU-1'].mean()\n",
    "    two_augmentation_df_avg_rouge = two_augmentation_df['rouge-1-f'].mean()\n",
    "\n",
    "    fifty_five_augmentation_df = augmentation_type_df[augmentation_type_df['augmentation_size'] == \"55\"]\n",
    "    fifty_five_augmentation_df_avg_blue = fifty_five_augmentation_df['BLEU-1'].mean()\n",
    "    fifty_five_augmentation_df_avg_rouge = fifty_five_augmentation_df['rouge-1-f'].mean()\n",
    "\n",
    "    sixty_augmentation_df = augmentation_type_df[augmentation_type_df['augmentation_size'] == \"60\"]\n",
    "    sixty_augmentation_df_avg_blue = sixty_augmentation_df['BLEU-1'].mean()\n",
    "    sixty_augmentation_df_avg_rouge = sixty_augmentation_df['rouge-1-f'].mean()\n",
    "\n",
    "    four_augmentation_df = augmentation_type_df[augmentation_type_df['augmentation_size'] == \"75\"]\n",
    "    four_augmentation_df_avg_blue = four_augmentation_df['BLEU-1'].mean()\n",
    "    four_augmentation_df_avg_rouge = four_augmentation_df['rouge-1-f'].mean()\n",
    "\n",
    "    ablation_augmentation_type_df = final_df_ablation[final_df_ablation['augmentation_type'] == augmentation_type]\n",
    "    one_augmentation_df = ablation_augmentation_type_df[ablation_augmentation_type_df['augmentation_size'] == \"25\"]\n",
    "    one_ablation_df_avg_blue = one_augmentation_df['BLEU-1'].mean()\n",
    "    one_ablation_df_avg_rouge = one_augmentation_df['rouge-1-f'].mean()\n",
    "\n",
    "    #ten\n",
    "    ten_augmentation_df = ablation_augmentation_type_df[ablation_augmentation_type_df['augmentation_size'] == \"100\"]\n",
    "    ten_ablation_df_avg_blue = ten_augmentation_df['BLEU-1'].mean()\n",
    "    ten_ablation_df_avg_rouge = ten_augmentation_df['rouge-1-f'].mean()\n",
    "\n",
    "    fourty_augmentation_df = ablation_augmentation_type_df[ablation_augmentation_type_df['augmentation_size'] == \"40\"]\n",
    "    fourty_ablation_df_avg_blue = fourty_augmentation_df['BLEU-1'].mean()\n",
    "    fourty_ablation_df_avg_rouge = fourty_augmentation_df['rouge-1-f'].mean()\n",
    "\n",
    "    two_augmentation_df = ablation_augmentation_type_df[ablation_augmentation_type_df['augmentation_size'] == \"50\"]\n",
    "    two_ablation_df_avg_blue = two_augmentation_df['BLEU-1'].mean()\n",
    "    two_ablation_df_avg_rouge = two_augmentation_df['rouge-1-f'].mean()\n",
    "\n",
    "    fifty_five_augmentation_df = ablation_augmentation_type_df[ablation_augmentation_type_df['augmentation_size'] == \"55\"]\n",
    "    fifty_five_ablation_df_avg_blue = fifty_five_augmentation_df['BLEU-1'].mean()\n",
    "    fifty_five_ablation_df_avg_rouge = fifty_five_augmentation_df['rouge-1-f'].mean()\n",
    "\n",
    "    sixty_augmentation_df = ablation_augmentation_type_df[ablation_augmentation_type_df['augmentation_size'] == \"60\"]\n",
    "    sixty_ablation_df_avg_blue = sixty_augmentation_df['BLEU-1'].mean()\n",
    "    sixty_ablation_df_avg_rouge = sixty_augmentation_df['rouge-1-f'].mean()\n",
    "\n",
    "\n",
    "    four_augmentation_df = ablation_augmentation_type_df[ablation_augmentation_type_df['augmentation_size'] == \"75\"]\n",
    "    four_ablation_df_avg_blue = four_augmentation_df['BLEU-1'].mean()\n",
    "    four_ablation_df_avg_rouge = four_augmentation_df['rouge-1-f'].mean()\n",
    "\n",
    "\n",
    "\n",
    "    # Assuming you have already calculated the average scores\n",
    "    # Create a DataFrame containing the average scores for each augmentation size\n",
    "    data_augmentation = {\n",
    "    'Augmentation Size': ['25', '40', '50', '55', '60', '75','100'],\n",
    "    'BLEU-1': [one_augmentation_df_avg_blue, fourty_augmentation_df_avg_blue, two_augmentation_df_avg_blue, fifty_five_augmentation_df_avg_blue, sixty_augmentation_df_avg_blue, four_augmentation_df_avg_blue, ten_augmentation_df_avg_blue],\n",
    "    'ROUGE-1-F': [one_augmentation_df_avg_rouge, fourty_augmentation_df_avg_rouge, two_augmentation_df_avg_rouge, fifty_five_augmentation_df_avg_rouge, sixty_augmentation_df_avg_rouge, four_augmentation_df_avg_rouge, ten_augmentation_df_avg_rouge]\n",
    "    }\n",
    "\n",
    "    data_ablation = {\n",
    "        'Augmentation Size': ['25', '40', '50', '55', '60', '75', '100'],\n",
    "        'BLEU-1': [one_ablation_df_avg_blue, fourty_ablation_df_avg_blue, two_ablation_df_avg_blue, fifty_five_ablation_df_avg_blue, sixty_ablation_df_avg_blue, four_ablation_df_avg_blue, ten_ablation_df_avg_blue],\n",
    "        'ROUGE-1-F': [one_ablation_df_avg_rouge, fourty_ablation_df_avg_rouge, two_ablation_df_avg_rouge, fifty_five_ablation_df_avg_rouge, sixty_ablation_df_avg_rouge, four_ablation_df_avg_rouge, ten_ablation_df_avg_rouge]\n",
    "    }\n",
    "\n",
    "    # Create DataFrames from the data\n",
    "    avg_scores_augmentation_df = pd.DataFrame(data_augmentation)\n",
    "    avg_scores_ablation_df = pd.DataFrame(data_ablation)\n",
    "\n",
    "    # Plot the line graph using Seaborn\n",
    "    plt.figure(figsize=(8, 6))\n",
    "\n",
    "    # Plot augmentation scores with solid lines\n",
    "    sns.lineplot(data=avg_scores_augmentation_df, x='Augmentation Size', y='BLEU-1', label='BLEU-1 (Augmentation)', marker='o')\n",
    "    sns.lineplot(data=avg_scores_augmentation_df, x='Augmentation Size', y='ROUGE-1-F', label='ROUGE-1-F (Augmentation)', marker='o')\n",
    "\n",
    "    # Plot ablation scores with dashed lines\n",
    "    #sns.lineplot(data=avg_scores_ablation_df, x='Augmentation Size', y='BLEU-1', label='BLEU-1 (Ablation)', linestyle='--', marker='o')\n",
    "    #sns.lineplot(data=avg_scores_ablation_df, x='Augmentation Size', y='ROUGE-1-F', label='ROUGE-1-F (Ablation)', linestyle='--', marker='o')\n",
    "\n",
    "    plt.title(f'{generation_level} Augmentation Size')\n",
    "    plt.xlabel('Augmentation Size')\n",
    "    plt.ylabel('Score')\n",
    "    plt.legend()\n",
    "    plt.grid(True)\n",
    "\n",
    "    # Set the y-axis limits\n",
    "    plt.ylim(0.08, 0.18)  # Adjust the range as needed\n",
    "\n",
    "    # Adjust layout to reduce white space\n",
    "    plt.tight_layout()\n",
    "    plt.savefig(f'{generation_level}_augmentation_size.png')\n",
    "    plt.show()"
   ],
   "metadata": {
    "collapsed": false,
    "ExecuteTime": {
     "start_time": "2024-04-23T14:13:34.852635Z",
     "end_time": "2024-04-23T14:13:34.926412Z"
    }
   }
  },
  {
   "cell_type": "code",
   "execution_count": 63,
   "outputs": [
    {
     "data": {
      "text/plain": "<Figure size 800x600 with 1 Axes>",
      "image/png": "[encoded data removed]"
     },
     "metadata": {},
     "output_type": "display_data"
    }
   ],
   "source": [
    "\n",
    "plot_generation_level_augmentation_scores(\"Contextual\")"
   ],
   "metadata": {
    "collapsed": false,
    "ExecuteTime": {
     "start_time": "2024-04-23T14:13:34.870194Z",
     "end_time": "2024-04-23T14:13:35.198456Z"
    }
   }
  },
  {
   "cell_type": "code",
   "execution_count": 63,
   "outputs": [],
   "source": [],
   "metadata": {
    "collapsed": false,
    "ExecuteTime": {
     "start_time": "2024-04-23T14:13:35.200625Z",
     "end_time": "2024-04-23T14:13:35.307350Z"
    }
   }
  },
  {
   "cell_type": "code",
   "execution_count": 64,
   "outputs": [],
   "source": [
    "def plot_augmentation_type_augmentation_scores(augmentation_type=\"random\"):\n",
    "    augmentation_type_df = final_df[final_df['augmentation_type'] == augmentation_type]\n",
    "    one_augmentation_df = augmentation_type_df[augmentation_type_df['augmentation_size'] == \"25\"]\n",
    "    one_augmentation_df_avg_blue = one_augmentation_df['BLEU-1'].mean()\n",
    "    one_augmentation_df_avg_rouge = one_augmentation_df['rouge-1-f'].mean()\n",
    "\n",
    "    ten_augmentation_df = augmentation_type_df[augmentation_type_df['augmentation_size'] == \"100\"]\n",
    "    ten_augmentation_df_avg_blue = ten_augmentation_df['BLEU-1'].mean()\n",
    "    ten_augmentation_df_avg_rouge = ten_augmentation_df['rouge-1-f'].mean()\n",
    "\n",
    "    fourty_augmentation_df = augmentation_type_df[augmentation_type_df['augmentation_size'] == \"40\"]\n",
    "    fourty_augmentation_df_avg_blue = fourty_augmentation_df['BLEU-1'].mean()\n",
    "    fourty_augmentation_df_avg_rouge = fourty_augmentation_df['rouge-1-f'].mean()\n",
    "\n",
    "\n",
    "    two_augmentation_df = augmentation_type_df[augmentation_type_df['augmentation_size'] == \"50\"]\n",
    "    two_augmentation_df_avg_blue = two_augmentation_df['BLEU-1'].mean()\n",
    "    two_augmentation_df_avg_rouge = two_augmentation_df['rouge-1-f'].mean()\n",
    "\n",
    "    fifty_five_augmentation_df = augmentation_type_df[augmentation_type_df['augmentation_size'] == \"55\"]\n",
    "    fifty_five_augmentation_df_avg_blue = fifty_five_augmentation_df['BLEU-1'].mean()\n",
    "    fifty_five_augmentation_df_avg_rouge = fifty_five_augmentation_df['rouge-1-f'].mean()\n",
    "\n",
    "    sixty_augmentation_df = augmentation_type_df[augmentation_type_df['augmentation_size'] == \"60\"]\n",
    "    sixty_augmentation_df_avg_blue = sixty_augmentation_df['BLEU-1'].mean()\n",
    "    sixty_augmentation_df_avg_rouge = sixty_augmentation_df['rouge-1-f'].mean()\n",
    "\n",
    "    four_augmentation_df = augmentation_type_df[augmentation_type_df['augmentation_size'] == \"75\"]\n",
    "    four_augmentation_df_avg_blue = four_augmentation_df['BLEU-1'].mean()\n",
    "    four_augmentation_df_avg_rouge = four_augmentation_df['rouge-1-f'].mean()\n",
    "\n",
    "    ablation_augmentation_type_df = final_df_ablation[final_df_ablation['augmentation_type'] == augmentation_type]\n",
    "    one_augmentation_df = ablation_augmentation_type_df[ablation_augmentation_type_df['augmentation_size'] == \"25\"]\n",
    "    one_ablation_df_avg_blue = one_augmentation_df['BLEU-1'].mean()\n",
    "    one_ablation_df_avg_rouge = one_augmentation_df['rouge-1-f'].mean()\n",
    "\n",
    "    #ten\n",
    "    ten_augmentation_df = ablation_augmentation_type_df[ablation_augmentation_type_df['augmentation_size'] == \"100\"]\n",
    "    ten_ablation_df_avg_blue = ten_augmentation_df['BLEU-1'].mean()\n",
    "    ten_ablation_df_avg_rouge = ten_augmentation_df['rouge-1-f'].mean()\n",
    "\n",
    "    fourty_augmentation_df = ablation_augmentation_type_df[ablation_augmentation_type_df['augmentation_size'] == \"40\"]\n",
    "    fourty_ablation_df_avg_blue = fourty_augmentation_df['BLEU-1'].mean()\n",
    "    fourty_ablation_df_avg_rouge = fourty_augmentation_df['rouge-1-f'].mean()\n",
    "\n",
    "    two_augmentation_df = ablation_augmentation_type_df[ablation_augmentation_type_df['augmentation_size'] == \"50\"]\n",
    "    two_ablation_df_avg_blue = two_augmentation_df['BLEU-1'].mean()\n",
    "    two_ablation_df_avg_rouge = two_augmentation_df['rouge-1-f'].mean()\n",
    "\n",
    "    fifty_five_augmentation_df = ablation_augmentation_type_df[ablation_augmentation_type_df['augmentation_size'] == \"55\"]\n",
    "    fifty_five_ablation_df_avg_blue = fifty_five_augmentation_df['BLEU-1'].mean()\n",
    "    fifty_five_ablation_df_avg_rouge = fifty_five_augmentation_df['rouge-1-f'].mean()\n",
    "\n",
    "    sixty_augmentation_df = ablation_augmentation_type_df[ablation_augmentation_type_df['augmentation_size'] == \"60\"]\n",
    "    sixty_ablation_df_avg_blue = sixty_augmentation_df['BLEU-1'].mean()\n",
    "    sixty_ablation_df_avg_rouge = sixty_augmentation_df['rouge-1-f'].mean()\n",
    "\n",
    "\n",
    "    four_augmentation_df = ablation_augmentation_type_df[ablation_augmentation_type_df['augmentation_size'] == \"75\"]\n",
    "    four_ablation_df_avg_blue = four_augmentation_df['BLEU-1'].mean()\n",
    "    four_ablation_df_avg_rouge = four_augmentation_df['rouge-1-f'].mean()\n",
    "\n",
    "\n",
    "\n",
    "    # Assuming you have already calculated the average scores\n",
    "    # Create a DataFrame containing the average scores for each augmentation size\n",
    "    data_augmentation = {\n",
    "    'Augmentation Size': ['25', '40', '50', '55', '60', '75','100'],\n",
    "    'BLEU-1': [one_augmentation_df_avg_blue, fourty_augmentation_df_avg_blue, two_augmentation_df_avg_blue, fifty_five_augmentation_df_avg_blue, sixty_augmentation_df_avg_blue, four_augmentation_df_avg_blue, ten_augmentation_df_avg_blue],\n",
    "    'ROUGE-1-F': [one_augmentation_df_avg_rouge, fourty_augmentation_df_avg_rouge, two_augmentation_df_avg_rouge, fifty_five_augmentation_df_avg_rouge, sixty_augmentation_df_avg_rouge, four_augmentation_df_avg_rouge, ten_augmentation_df_avg_rouge]\n",
    "    }\n",
    "\n",
    "    data_ablation = {\n",
    "        'Augmentation Size': ['25', '40', '50', '55', '60', '75', '100'],\n",
    "        'BLEU-1': [one_ablation_df_avg_blue, fourty_ablation_df_avg_blue, two_ablation_df_avg_blue, fifty_five_ablation_df_avg_blue, sixty_ablation_df_avg_blue, four_ablation_df_avg_blue, ten_ablation_df_avg_blue],\n",
    "        'ROUGE-1-F': [one_ablation_df_avg_rouge, fourty_ablation_df_avg_rouge, two_ablation_df_avg_rouge, fifty_five_ablation_df_avg_rouge, sixty_ablation_df_avg_rouge, four_ablation_df_avg_rouge, ten_ablation_df_avg_rouge]\n",
    "    }\n",
    "\n",
    "    # Create DataFrames from the data\n",
    "    avg_scores_augmentation_df = pd.DataFrame(data_augmentation)\n",
    "    avg_scores_ablation_df = pd.DataFrame(data_ablation)\n",
    "\n",
    "    # Plot the line graph using Seaborn\n",
    "    plt.figure(figsize=(8, 6))\n",
    "\n",
    "    # Plot augmentation scores with solid lines\n",
    "    sns.lineplot(data=avg_scores_augmentation_df, x='Augmentation Size', y='BLEU-1', label='BLEU-1 (Augmentation)', marker='o')\n",
    "    sns.lineplot(data=avg_scores_augmentation_df, x='Augmentation Size', y='ROUGE-1-F', label='ROUGE-1-F (Augmentation)', marker='o')\n",
    "\n",
    "    # Plot ablation scores with dashed lines\n",
    "    sns.lineplot(data=avg_scores_ablation_df, x='Augmentation Size', y='BLEU-1', label='BLEU-1 (Ablation)', linestyle='--', marker='o')\n",
    "    sns.lineplot(data=avg_scores_ablation_df, x='Augmentation Size', y='ROUGE-1-F', label='ROUGE-1-F (Ablation)', linestyle='--', marker='o')\n",
    "\n",
    "    plt.title(f'{augmentation_type} Augmentation Size')\n",
    "    plt.xlabel('Augmentation Size')\n",
    "    plt.ylabel('Score')\n",
    "    plt.legend()\n",
    "    plt.grid(True)\n",
    "\n",
    "    # Set the y-axis limits\n",
    "    plt.ylim(0.00, 0.14)  # Adjust the range as needed\n",
    "\n",
    "    # Adjust layout to reduce white space\n",
    "    plt.tight_layout()\n",
    "\n",
    "    # Save the plot as a PNG file\n",
    "    plt.savefig(f'{augmentation_type}_augmentation_size.png')\n"
   ],
   "metadata": {
    "collapsed": false,
    "ExecuteTime": {
     "start_time": "2024-04-23T14:13:35.228154Z",
     "end_time": "2024-04-23T14:13:35.307350Z"
    }
   }
  },
  {
   "cell_type": "code",
   "execution_count": 65,
   "outputs": [
    {
     "data": {
      "text/plain": "<Figure size 800x600 with 1 Axes>",
      "image/png": "[encoded data removed]"
     },
     "metadata": {},
     "output_type": "display_data"
    }
   ],
   "source": [
    "plot_augmentation_type_augmentation_scores(\"random\")"
   ],
   "metadata": {
    "collapsed": false,
    "ExecuteTime": {
     "start_time": "2024-04-23T14:13:35.249131Z",
     "end_time": "2024-04-23T14:13:35.700724Z"
    }
   }
  },
  {
   "cell_type": "code",
   "execution_count": 66,
   "outputs": [],
   "source": [
    "def plot_model_augmentation_scores(model=\"DCGAN_v1_Text\"):\n",
    "    model_df = final_df[final_df['model'] == model]\n",
    "    one_augmentation_df = model_df[model_df['augmentation_size'] == \"1\"]\n",
    "    one_augmentation_df_avg_blue = one_augmentation_df['BLEU-1'].mean()\n",
    "    one_augmentation_df_avg_rouge = one_augmentation_df['rouge-1-f'].mean()\n",
    "\n",
    "\n",
    "    two_augmentation_df = model_df[model_df['augmentation_size'] == \"2\"]\n",
    "    two_augmentation_df_avg_blue = two_augmentation_df['BLEU-1'].mean()\n",
    "    two_augmentation_df_avg_rouge = two_augmentation_df['rouge-1-f'].mean()\n",
    "\n",
    "    four_augmentation_df = model_df[model_df['augmentation_size'] == \"4\"]\n",
    "    four_augmentation_df_avg_blue = four_augmentation_df['BLEU-1'].mean()\n",
    "    four_augmentation_df_avg_rouge = four_augmentation_df['rouge-1-f'].mean()\n",
    "\n",
    "    # Assuming you have already calculated the average scores\n",
    "    # Create a DataFrame containing the average scores for each augmentation size\n",
    "    data = {\n",
    "        'Augmentation Size': ['1', '2', '4'],\n",
    "        'BLEU-1': [one_augmentation_df_avg_blue, two_augmentation_df_avg_blue, four_augmentation_df_avg_blue],\n",
    "        'ROUGE-1-F': [one_augmentation_df_avg_rouge, two_augmentation_df_avg_rouge, four_augmentation_df_avg_rouge]\n",
    "    }\n",
    "\n",
    "    avg_scores_df = pd.DataFrame(data)\n",
    "\n",
    "    # Plot the line graph using Seaborn\n",
    "    plt.figure(figsize=(8, 6))\n",
    "    sns.lineplot(data=avg_scores_df, x='Augmentation Size', y='BLEU-1', label='BLEU-1', marker='o')\n",
    "    sns.lineplot(data=avg_scores_df, x='Augmentation Size', y='ROUGE-1-F', label='ROUGE-1-F', marker='o')\n",
    "    plt.title(f'{model_df} Augmentation Size')\n",
    "    plt.xlabel('Augmentation Size')\n",
    "    plt.ylabel('Score')\n",
    "    plt.legend()\n",
    "    plt.grid(True)\n",
    "    plt.ylim(0.08, 0.18)\n",
    "    plt.tight_layout()\n",
    "    plt.savefig(f'{model}_augmentation_size.png')\n",
    "    plt.show()\n"
   ],
   "metadata": {
    "collapsed": false,
    "ExecuteTime": {
     "start_time": "2024-04-23T14:13:35.678780Z",
     "end_time": "2024-04-23T14:13:35.700724Z"
    }
   }
  },
  {
   "cell_type": "code",
   "execution_count": 67,
   "outputs": [],
   "source": [
    "#plot_model_augmentation_scores(\"DCGAN_v1_Text\")"
   ],
   "metadata": {
    "collapsed": false,
    "ExecuteTime": {
     "start_time": "2024-04-23T14:13:35.686975Z",
     "end_time": "2024-04-23T14:13:35.703735Z"
    }
   }
  },
  {
   "cell_type": "code",
   "execution_count": 67,
   "outputs": [],
   "source": [],
   "metadata": {
    "collapsed": false,
    "ExecuteTime": {
     "start_time": "2024-04-23T14:13:35.701659Z",
     "end_time": "2024-04-23T14:13:35.716153Z"
    }
   }
  },
  {
   "cell_type": "code",
   "execution_count": 68,
   "outputs": [
    {
     "data": {
      "text/plain": "     BLEU-1    BLEU-2    BLEU-3    BLEU-4  rouge-1-r  rouge-1-p  rouge-1-f  \\\n0  0.032753  0.038105  0.019852  0.004138   0.121724   0.122846   0.080101   \n0  0.033753  0.038105  0.019852  0.004138   0.121724   0.122846   0.081011   \n0  0.038153  0.038105  0.019852  0.004138   0.121724   0.122846   0.077010   \n0  0.070015  0.037889  0.015853  0.002238   0.110724   0.139572   0.129361   \n0  0.073015  0.037889  0.015853  0.002238   0.110724   0.139572   0.130136   \n0  0.068015  0.037889  0.015853  0.002238   0.110724   0.139572   0.126361   \n0  0.059953  0.048105  0.020852  0.005138   0.121724   0.144228   0.116605   \n0  0.060953  0.048105  0.020852  0.005138   0.121724   0.144228   0.101605   \n0  0.054953  0.048105  0.020852  0.005138   0.121724   0.144228   0.118605   \n0  0.038195  0.038105  0.019852  0.004138   0.121724   0.122846   0.099051   \n0  0.043953  0.038105  0.019852  0.004138   0.121724   0.122846   0.101051   \n0  0.048529  0.038105  0.019852  0.004138   0.121724   0.122846   0.101405   \n\n   rouge-2-r  rouge-2-p  rouge-2-f  rouge-l-r  rouge-l-p  rouge-l-f  \\\n0   0.025548   0.031165   0.026433   0.126657   0.105167   0.112517   \n0   0.025548   0.031165   0.026433   0.126657   0.105167   0.112517   \n0   0.025548   0.031165   0.026433   0.126657   0.105167   0.112517   \n0   0.012055   0.020165   0.011943   0.111666   0.125167   0.125170   \n0   0.012055   0.020165   0.011943   0.111666   0.125167   0.125170   \n0   0.012055   0.020165   0.011943   0.111666   0.125167   0.125170   \n0   0.022555   0.031165   0.022643   0.215666   0.147517   0.152517   \n0   0.022555   0.031165   0.022643   0.215666   0.147517   0.152517   \n0   0.022555   0.031165   0.022643   0.215666   0.147517   0.152517   \n0   0.025548   0.031165   0.026433   0.126657   0.105167   0.112517   \n0   0.025548   0.031165   0.026433   0.126657   0.105167   0.112517   \n0   0.025548   0.031165   0.026433   0.126657   0.105167   0.112517   \n\n  augmentation_size          model augmentation_type generation_type  \n0               100  DCGAN_v2_Text            random      Contextual  \n0               100  DCGAN_v2_Text            random  Sentence_Level  \n0               100  DCGAN_v2_Text            random      Word_Level  \n0                25  DCGAN_v2_Text            random      Contextual  \n0                25  DCGAN_v2_Text            random  Sentence_Level  \n0                25  DCGAN_v2_Text            random      Word_Level  \n0                50  DCGAN_v2_Text            random      Contextual  \n0                50  DCGAN_v2_Text            random  Sentence_Level  \n0                50  DCGAN_v2_Text            random      Word_Level  \n0                75  DCGAN_v2_Text            random      Contextual  \n0                75  DCGAN_v2_Text            random  Sentence_Level  \n0                75  DCGAN_v2_Text            random      Word_Level  ",
      "text/html": "<div>\n<style scoped>\n    .dataframe tbody tr th:only-of-type {\n        vertical-align: middle;\n    }\n\n    .dataframe tbody tr th {\n        vertical-align: top;\n    }\n\n    .dataframe thead th {\n        text-align: right;\n    }\n</style>\n<table border=\"1\" class=\"dataframe\">\n  <thead>\n    <tr style=\"text-align: right;\">\n      <th></th>\n      <th>BLEU-1</th>\n      <th>BLEU-2</th>\n      <th>BLEU-3</th>\n      <th>BLEU-4</th>\n      <th>rouge-1-r</th>\n      <th>rouge-1-p</th>\n      <th>rouge-1-f</th>\n      <th>rouge-2-r</th>\n      <th>rouge-2-p</th>\n      <th>rouge-2-f</th>\n      <th>rouge-l-r</th>\n      <th>rouge-l-p</th>\n      <th>rouge-l-f</th>\n      <th>augmentation_size</th>\n      <th>model</th>\n      <th>augmentation_type</th>\n      <th>generation_type</th>\n    </tr>\n  </thead>\n  <tbody>\n    <tr>\n      <th>0</th>\n      <td>0.032753</td>\n      <td>0.038105</td>\n      <td>0.019852</td>\n      <td>0.004138</td>\n      <td>0.121724</td>\n      <td>0.122846</td>\n      <td>0.080101</td>\n      <td>0.025548</td>\n      <td>0.031165</td>\n      <td>0.026433</td>\n      <td>0.126657</td>\n      <td>0.105167</td>\n      <td>0.112517</td>\n      <td>100</td>\n      <td>DCGAN_v2_Text</td>\n      <td>random</td>\n      <td>Contextual</td>\n    </tr>\n    <tr>\n      <th>0</th>\n      <td>0.033753</td>\n      <td>0.038105</td>\n      <td>0.019852</td>\n      <td>0.004138</td>\n      <td>0.121724</td>\n      <td>0.122846</td>\n      <td>0.081011</td>\n      <td>0.025548</td>\n      <td>0.031165</td>\n      <td>0.026433</td>\n      <td>0.126657</td>\n      <td>0.105167</td>\n      <td>0.112517</td>\n      <td>100</td>\n      <td>DCGAN_v2_Text</td>\n      <td>random</td>\n      <td>Sentence_Level</td>\n    </tr>\n    <tr>\n      <th>0</th>\n      <td>0.038153</td>\n      <td>0.038105</td>\n      <td>0.019852</td>\n      <td>0.004138</td>\n      <td>0.121724</td>\n      <td>0.122846</td>\n      <td>0.077010</td>\n      <td>0.025548</td>\n      <td>0.031165</td>\n      <td>0.026433</td>\n      <td>0.126657</td>\n      <td>0.105167</td>\n      <td>0.112517</td>\n      <td>100</td>\n      <td>DCGAN_v2_Text</td>\n      <td>random</td>\n      <td>Word_Level</td>\n    </tr>\n    <tr>\n      <th>0</th>\n      <td>0.070015</td>\n      <td>0.037889</td>\n      <td>0.015853</td>\n      <td>0.002238</td>\n      <td>0.110724</td>\n      <td>0.139572</td>\n      <td>0.129361</td>\n      <td>0.012055</td>\n      <td>0.020165</td>\n      <td>0.011943</td>\n      <td>0.111666</td>\n      <td>0.125167</td>\n      <td>0.125170</td>\n      <td>25</td>\n      <td>DCGAN_v2_Text</td>\n      <td>random</td>\n      <td>Contextual</td>\n    </tr>\n    <tr>\n      <th>0</th>\n      <td>0.073015</td>\n      <td>0.037889</td>\n      <td>0.015853</td>\n      <td>0.002238</td>\n      <td>0.110724</td>\n      <td>0.139572</td>\n      <td>0.130136</td>\n      <td>0.012055</td>\n      <td>0.020165</td>\n      <td>0.011943</td>\n      <td>0.111666</td>\n      <td>0.125167</td>\n      <td>0.125170</td>\n      <td>25</td>\n      <td>DCGAN_v2_Text</td>\n      <td>random</td>\n      <td>Sentence_Level</td>\n    </tr>\n    <tr>\n      <th>0</th>\n      <td>0.068015</td>\n      <td>0.037889</td>\n      <td>0.015853</td>\n      <td>0.002238</td>\n      <td>0.110724</td>\n      <td>0.139572</td>\n      <td>0.126361</td>\n      <td>0.012055</td>\n      <td>0.020165</td>\n      <td>0.011943</td>\n      <td>0.111666</td>\n      <td>0.125167</td>\n      <td>0.125170</td>\n      <td>25</td>\n      <td>DCGAN_v2_Text</td>\n      <td>random</td>\n      <td>Word_Level</td>\n    </tr>\n    <tr>\n      <th>0</th>\n      <td>0.059953</td>\n      <td>0.048105</td>\n      <td>0.020852</td>\n      <td>0.005138</td>\n      <td>0.121724</td>\n      <td>0.144228</td>\n      <td>0.116605</td>\n      <td>0.022555</td>\n      <td>0.031165</td>\n      <td>0.022643</td>\n      <td>0.215666</td>\n      <td>0.147517</td>\n      <td>0.152517</td>\n      <td>50</td>\n      <td>DCGAN_v2_Text</td>\n      <td>random</td>\n      <td>Contextual</td>\n    </tr>\n    <tr>\n      <th>0</th>\n      <td>0.060953</td>\n      <td>0.048105</td>\n      <td>0.020852</td>\n      <td>0.005138</td>\n      <td>0.121724</td>\n      <td>0.144228</td>\n      <td>0.101605</td>\n      <td>0.022555</td>\n      <td>0.031165</td>\n      <td>0.022643</td>\n      <td>0.215666</td>\n      <td>0.147517</td>\n      <td>0.152517</td>\n      <td>50</td>\n      <td>DCGAN_v2_Text</td>\n      <td>random</td>\n      <td>Sentence_Level</td>\n    </tr>\n    <tr>\n      <th>0</th>\n      <td>0.054953</td>\n      <td>0.048105</td>\n      <td>0.020852</td>\n      <td>0.005138</td>\n      <td>0.121724</td>\n      <td>0.144228</td>\n      <td>0.118605</td>\n      <td>0.022555</td>\n      <td>0.031165</td>\n      <td>0.022643</td>\n      <td>0.215666</td>\n      <td>0.147517</td>\n      <td>0.152517</td>\n      <td>50</td>\n      <td>DCGAN_v2_Text</td>\n      <td>random</td>\n      <td>Word_Level</td>\n    </tr>\n    <tr>\n      <th>0</th>\n      <td>0.038195</td>\n      <td>0.038105</td>\n      <td>0.019852</td>\n      <td>0.004138</td>\n      <td>0.121724</td>\n      <td>0.122846</td>\n      <td>0.099051</td>\n      <td>0.025548</td>\n      <td>0.031165</td>\n      <td>0.026433</td>\n      <td>0.126657</td>\n      <td>0.105167</td>\n      <td>0.112517</td>\n      <td>75</td>\n      <td>DCGAN_v2_Text</td>\n      <td>random</td>\n      <td>Contextual</td>\n    </tr>\n    <tr>\n      <th>0</th>\n      <td>0.043953</td>\n      <td>0.038105</td>\n      <td>0.019852</td>\n      <td>0.004138</td>\n      <td>0.121724</td>\n      <td>0.122846</td>\n      <td>0.101051</td>\n      <td>0.025548</td>\n      <td>0.031165</td>\n      <td>0.026433</td>\n      <td>0.126657</td>\n      <td>0.105167</td>\n      <td>0.112517</td>\n      <td>75</td>\n      <td>DCGAN_v2_Text</td>\n      <td>random</td>\n      <td>Sentence_Level</td>\n    </tr>\n    <tr>\n      <th>0</th>\n      <td>0.048529</td>\n      <td>0.038105</td>\n      <td>0.019852</td>\n      <td>0.004138</td>\n      <td>0.121724</td>\n      <td>0.122846</td>\n      <td>0.101405</td>\n      <td>0.025548</td>\n      <td>0.031165</td>\n      <td>0.026433</td>\n      <td>0.126657</td>\n      <td>0.105167</td>\n      <td>0.112517</td>\n      <td>75</td>\n      <td>DCGAN_v2_Text</td>\n      <td>random</td>\n      <td>Word_Level</td>\n    </tr>\n  </tbody>\n</table>\n</div>"
     },
     "execution_count": 68,
     "metadata": {},
     "output_type": "execute_result"
    }
   ],
   "source": [
    "final_df"
   ],
   "metadata": {
    "collapsed": false,
    "ExecuteTime": {
     "start_time": "2024-04-23T14:13:35.718158Z",
     "end_time": "2024-04-23T14:13:35.810505Z"
    }
   }
  },
  {
   "cell_type": "code",
   "execution_count": 68,
   "outputs": [],
   "source": [],
   "metadata": {
    "collapsed": false,
    "ExecuteTime": {
     "start_time": "2024-04-23T14:13:35.748436Z",
     "end_time": "2024-04-23T14:13:35.810505Z"
    }
   }
  },
  {
   "cell_type": "code",
   "execution_count": 68,
   "outputs": [],
   "source": [],
   "metadata": {
    "collapsed": false,
    "ExecuteTime": {
     "start_time": "2024-04-23T14:13:35.765040Z",
     "end_time": "2024-04-23T14:13:35.810505Z"
    }
   }
  },
  {
   "cell_type": "code",
   "execution_count": 69,
   "outputs": [
    {
     "ename": "KeyError",
     "evalue": "'y'",
     "output_type": "error",
     "traceback": [
      "\u001B[1;31m---------------------------------------------------------------------------\u001B[0m",
      "\u001B[1;31mKeyError\u001B[0m                                  Traceback (most recent call last)",
      "File \u001B[1;32m~\\Anaconda3\\lib\\site-packages\\pandas\\core\\indexes\\base.py:3802\u001B[0m, in \u001B[0;36mIndex.get_loc\u001B[1;34m(self, key, method, tolerance)\u001B[0m\n\u001B[0;32m   3801\u001B[0m \u001B[38;5;28;01mtry\u001B[39;00m:\n\u001B[1;32m-> 3802\u001B[0m     \u001B[38;5;28;01mreturn\u001B[39;00m \u001B[38;5;28;43mself\u001B[39;49m\u001B[38;5;241;43m.\u001B[39;49m\u001B[43m_engine\u001B[49m\u001B[38;5;241;43m.\u001B[39;49m\u001B[43mget_loc\u001B[49m\u001B[43m(\u001B[49m\u001B[43mcasted_key\u001B[49m\u001B[43m)\u001B[49m\n\u001B[0;32m   3803\u001B[0m \u001B[38;5;28;01mexcept\u001B[39;00m \u001B[38;5;167;01mKeyError\u001B[39;00m \u001B[38;5;28;01mas\u001B[39;00m err:\n",
      "File \u001B[1;32m~\\Anaconda3\\lib\\site-packages\\pandas\\_libs\\index.pyx:138\u001B[0m, in \u001B[0;36mpandas._libs.index.IndexEngine.get_loc\u001B[1;34m()\u001B[0m\n",
      "File \u001B[1;32m~\\Anaconda3\\lib\\site-packages\\pandas\\_libs\\index.pyx:165\u001B[0m, in \u001B[0;36mpandas._libs.index.IndexEngine.get_loc\u001B[1;34m()\u001B[0m\n",
      "File \u001B[1;32mpandas\\_libs\\hashtable_class_helper.pxi:5745\u001B[0m, in \u001B[0;36mpandas._libs.hashtable.PyObjectHashTable.get_item\u001B[1;34m()\u001B[0m\n",
      "File \u001B[1;32mpandas\\_libs\\hashtable_class_helper.pxi:5753\u001B[0m, in \u001B[0;36mpandas._libs.hashtable.PyObjectHashTable.get_item\u001B[1;34m()\u001B[0m\n",
      "\u001B[1;31mKeyError\u001B[0m: 'y'",
      "\nThe above exception was the direct cause of the following exception:\n",
      "\u001B[1;31mKeyError\u001B[0m                                  Traceback (most recent call last)",
      "Cell \u001B[1;32mIn[69], line 53\u001B[0m\n\u001B[0;32m     50\u001B[0m plt\u001B[38;5;241m.\u001B[39mfigure(figsize\u001B[38;5;241m=\u001B[39m(\u001B[38;5;241m8\u001B[39m, \u001B[38;5;241m6\u001B[39m))\n\u001B[0;32m     52\u001B[0m \u001B[38;5;66;03m# Plot augmentation scores with solid lines\u001B[39;00m\n\u001B[1;32m---> 53\u001B[0m \u001B[43msns\u001B[49m\u001B[38;5;241;43m.\u001B[39;49m\u001B[43mlineplot\u001B[49m\u001B[43m(\u001B[49m\u001B[43mdata\u001B[49m\u001B[38;5;241;43m=\u001B[39;49m\u001B[43mavg_scores_augmentation_df\u001B[49m\u001B[43m,\u001B[49m\u001B[43m \u001B[49m\u001B[43mx\u001B[49m\u001B[38;5;241;43m=\u001B[39;49m\u001B[38;5;124;43m'\u001B[39;49m\u001B[38;5;124;43mAugmentation Size\u001B[39;49m\u001B[38;5;124;43m'\u001B[39;49m\u001B[43m,\u001B[49m\u001B[43m \u001B[49m\u001B[43my\u001B[49m\u001B[38;5;241;43m=\u001B[39;49m\u001B[38;5;124;43m'\u001B[39;49m\u001B[38;5;124;43mBLEU-1\u001B[39;49m\u001B[38;5;124;43m'\u001B[39;49m\u001B[43m,\u001B[49m\u001B[43m \u001B[49m\u001B[43mlabel\u001B[49m\u001B[38;5;241;43m=\u001B[39;49m\u001B[38;5;124;43m'\u001B[39;49m\u001B[38;5;124;43mBLEU-1 (Augmentation)\u001B[39;49m\u001B[38;5;124;43m'\u001B[39;49m\u001B[43m,\u001B[49m\u001B[43m \u001B[49m\u001B[43mmarker\u001B[49m\u001B[38;5;241;43m=\u001B[39;49m\u001B[38;5;124;43m'\u001B[39;49m\u001B[38;5;124;43mo\u001B[39;49m\u001B[38;5;124;43m'\u001B[39;49m\u001B[43m)\u001B[49m\n\u001B[0;32m     54\u001B[0m sns\u001B[38;5;241m.\u001B[39mlineplot(data\u001B[38;5;241m=\u001B[39mavg_scores_augmentation_df, x\u001B[38;5;241m=\u001B[39m\u001B[38;5;124m'\u001B[39m\u001B[38;5;124mAugmentation Size\u001B[39m\u001B[38;5;124m'\u001B[39m, y\u001B[38;5;241m=\u001B[39m\u001B[38;5;124m'\u001B[39m\u001B[38;5;124mROUGE-1-F\u001B[39m\u001B[38;5;124m'\u001B[39m, label\u001B[38;5;241m=\u001B[39m\u001B[38;5;124m'\u001B[39m\u001B[38;5;124mROUGE-1-F (Augmentation)\u001B[39m\u001B[38;5;124m'\u001B[39m, marker\u001B[38;5;241m=\u001B[39m\u001B[38;5;124m'\u001B[39m\u001B[38;5;124mo\u001B[39m\u001B[38;5;124m'\u001B[39m)\n\u001B[0;32m     56\u001B[0m \u001B[38;5;66;03m# Plot ablation scores with dashed lines\u001B[39;00m\n",
      "File \u001B[1;32m~\\Anaconda3\\lib\\site-packages\\seaborn\\relational.py:645\u001B[0m, in \u001B[0;36mlineplot\u001B[1;34m(data, x, y, hue, size, style, units, palette, hue_order, hue_norm, sizes, size_order, size_norm, dashes, markers, style_order, estimator, errorbar, n_boot, seed, orient, sort, err_style, err_kws, legend, ci, ax, **kwargs)\u001B[0m\n\u001B[0;32m    642\u001B[0m color \u001B[38;5;241m=\u001B[39m kwargs\u001B[38;5;241m.\u001B[39mpop(\u001B[38;5;124m\"\u001B[39m\u001B[38;5;124mcolor\u001B[39m\u001B[38;5;124m\"\u001B[39m, kwargs\u001B[38;5;241m.\u001B[39mpop(\u001B[38;5;124m\"\u001B[39m\u001B[38;5;124mc\u001B[39m\u001B[38;5;124m\"\u001B[39m, \u001B[38;5;28;01mNone\u001B[39;00m))\n\u001B[0;32m    643\u001B[0m kwargs[\u001B[38;5;124m\"\u001B[39m\u001B[38;5;124mcolor\u001B[39m\u001B[38;5;124m\"\u001B[39m] \u001B[38;5;241m=\u001B[39m _default_color(ax\u001B[38;5;241m.\u001B[39mplot, hue, color, kwargs)\n\u001B[1;32m--> 645\u001B[0m \u001B[43mp\u001B[49m\u001B[38;5;241;43m.\u001B[39;49m\u001B[43mplot\u001B[49m\u001B[43m(\u001B[49m\u001B[43max\u001B[49m\u001B[43m,\u001B[49m\u001B[43m \u001B[49m\u001B[43mkwargs\u001B[49m\u001B[43m)\u001B[49m\n\u001B[0;32m    646\u001B[0m \u001B[38;5;28;01mreturn\u001B[39;00m ax\n",
      "File \u001B[1;32m~\\Anaconda3\\lib\\site-packages\\seaborn\\relational.py:459\u001B[0m, in \u001B[0;36m_LinePlotter.plot\u001B[1;34m(self, ax, kws)\u001B[0m\n\u001B[0;32m    457\u001B[0m         lines\u001B[38;5;241m.\u001B[39mextend(ax\u001B[38;5;241m.\u001B[39mplot(unit_data[\u001B[38;5;124m\"\u001B[39m\u001B[38;5;124mx\u001B[39m\u001B[38;5;124m\"\u001B[39m], unit_data[\u001B[38;5;124m\"\u001B[39m\u001B[38;5;124my\u001B[39m\u001B[38;5;124m\"\u001B[39m], \u001B[38;5;241m*\u001B[39m\u001B[38;5;241m*\u001B[39mkws))\n\u001B[0;32m    458\u001B[0m \u001B[38;5;28;01melse\u001B[39;00m:\n\u001B[1;32m--> 459\u001B[0m     lines \u001B[38;5;241m=\u001B[39m ax\u001B[38;5;241m.\u001B[39mplot(sub_data[\u001B[38;5;124m\"\u001B[39m\u001B[38;5;124mx\u001B[39m\u001B[38;5;124m\"\u001B[39m], \u001B[43msub_data\u001B[49m\u001B[43m[\u001B[49m\u001B[38;5;124;43m\"\u001B[39;49m\u001B[38;5;124;43my\u001B[39;49m\u001B[38;5;124;43m\"\u001B[39;49m\u001B[43m]\u001B[49m, \u001B[38;5;241m*\u001B[39m\u001B[38;5;241m*\u001B[39mkws)\n\u001B[0;32m    461\u001B[0m \u001B[38;5;28;01mfor\u001B[39;00m line \u001B[38;5;129;01min\u001B[39;00m lines:\n\u001B[0;32m    463\u001B[0m     \u001B[38;5;28;01mif\u001B[39;00m \u001B[38;5;124m\"\u001B[39m\u001B[38;5;124mhue\u001B[39m\u001B[38;5;124m\"\u001B[39m \u001B[38;5;129;01min\u001B[39;00m sub_vars:\n",
      "File \u001B[1;32m~\\Anaconda3\\lib\\site-packages\\pandas\\core\\frame.py:3807\u001B[0m, in \u001B[0;36mDataFrame.__getitem__\u001B[1;34m(self, key)\u001B[0m\n\u001B[0;32m   3805\u001B[0m \u001B[38;5;28;01mif\u001B[39;00m \u001B[38;5;28mself\u001B[39m\u001B[38;5;241m.\u001B[39mcolumns\u001B[38;5;241m.\u001B[39mnlevels \u001B[38;5;241m>\u001B[39m \u001B[38;5;241m1\u001B[39m:\n\u001B[0;32m   3806\u001B[0m     \u001B[38;5;28;01mreturn\u001B[39;00m \u001B[38;5;28mself\u001B[39m\u001B[38;5;241m.\u001B[39m_getitem_multilevel(key)\n\u001B[1;32m-> 3807\u001B[0m indexer \u001B[38;5;241m=\u001B[39m \u001B[38;5;28;43mself\u001B[39;49m\u001B[38;5;241;43m.\u001B[39;49m\u001B[43mcolumns\u001B[49m\u001B[38;5;241;43m.\u001B[39;49m\u001B[43mget_loc\u001B[49m\u001B[43m(\u001B[49m\u001B[43mkey\u001B[49m\u001B[43m)\u001B[49m\n\u001B[0;32m   3808\u001B[0m \u001B[38;5;28;01mif\u001B[39;00m is_integer(indexer):\n\u001B[0;32m   3809\u001B[0m     indexer \u001B[38;5;241m=\u001B[39m [indexer]\n",
      "File \u001B[1;32m~\\Anaconda3\\lib\\site-packages\\pandas\\core\\indexes\\base.py:3804\u001B[0m, in \u001B[0;36mIndex.get_loc\u001B[1;34m(self, key, method, tolerance)\u001B[0m\n\u001B[0;32m   3802\u001B[0m     \u001B[38;5;28;01mreturn\u001B[39;00m \u001B[38;5;28mself\u001B[39m\u001B[38;5;241m.\u001B[39m_engine\u001B[38;5;241m.\u001B[39mget_loc(casted_key)\n\u001B[0;32m   3803\u001B[0m \u001B[38;5;28;01mexcept\u001B[39;00m \u001B[38;5;167;01mKeyError\u001B[39;00m \u001B[38;5;28;01mas\u001B[39;00m err:\n\u001B[1;32m-> 3804\u001B[0m     \u001B[38;5;28;01mraise\u001B[39;00m \u001B[38;5;167;01mKeyError\u001B[39;00m(key) \u001B[38;5;28;01mfrom\u001B[39;00m \u001B[38;5;21;01merr\u001B[39;00m\n\u001B[0;32m   3805\u001B[0m \u001B[38;5;28;01mexcept\u001B[39;00m \u001B[38;5;167;01mTypeError\u001B[39;00m:\n\u001B[0;32m   3806\u001B[0m     \u001B[38;5;66;03m# If we have a listlike key, _check_indexing_error will raise\u001B[39;00m\n\u001B[0;32m   3807\u001B[0m     \u001B[38;5;66;03m#  InvalidIndexError. Otherwise we fall through and re-raise\u001B[39;00m\n\u001B[0;32m   3808\u001B[0m     \u001B[38;5;66;03m#  the TypeError.\u001B[39;00m\n\u001B[0;32m   3809\u001B[0m     \u001B[38;5;28mself\u001B[39m\u001B[38;5;241m.\u001B[39m_check_indexing_error(key)\n",
      "\u001B[1;31mKeyError\u001B[0m: 'y'"
     ]
    },
    {
     "data": {
      "text/plain": "<Figure size 800x600 with 1 Axes>",
      "image/png": "[encoded data removed]"
     },
     "metadata": {},
     "output_type": "display_data"
    }
   ],
   "source": [
    "model = \"WGAN_v1_Text\"\n",
    "\n",
    "model_df = final_df[final_df['model'] == model]\n",
    "model_df_augment_size_one = model_df[model_df['augmentation_size'] == \"1\"]\n",
    "model_df_augment_size_one_bleu = model_df_augment_size_one['BLEU-1'].mean()\n",
    "model_df_augment_size_one_rouge = model_df_augment_size_one['rouge-1-f'].mean()\n",
    "\n",
    "model_df_augment_size_two = model_df[model_df['augmentation_size'] == \"2\"]\n",
    "model_df_augment_size_two_bleu = model_df_augment_size_two['BLEU-1'].mean()\n",
    "model_df_augment_size_two_rouge = model_df_augment_size_two['rouge-1-f'].mean()\n",
    "\n",
    "model_df_augment_size_four = model_df[model_df['augmentation_size'] == \"4\"]\n",
    "model_df_augment_size_four_bleu = model_df_augment_size_four['BLEU-1'].mean()\n",
    "model_df_augment_size_four_rouge = model_df_augment_size_four['rouge-1-f'].mean()\n",
    "\n",
    "model_df_ablation = final_df_ablation[final_df_ablation['model'] == \"ablation_noise\"]\n",
    "model_df_ablation_augment_size_one = model_df_ablation[model_df_ablation['augmentation_size'] == \"1\"]\n",
    "model_df_ablation_augment_size_one_bleu = model_df_ablation_augment_size_one['BLEU-1'].mean()\n",
    "model_df_ablation_augment_size_one_rouge = model_df_ablation_augment_size_one['rouge-1-f'].mean()\n",
    "\n",
    "model_df_ablation_augment_size_two = model_df_ablation[model_df_ablation['augmentation_size'] == \"2\"]\n",
    "model_df_ablation_augment_size_two_bleu = model_df_ablation_augment_size_two['BLEU-1'].mean()\n",
    "model_df_ablation_augment_size_two_rouge = model_df_ablation_augment_size_two['rouge-1-f'].mean()\n",
    "\n",
    "model_df_ablation_augment_size_four = model_df_ablation[model_df_ablation['augmentation_size'] == \"4\"]\n",
    "model_df_ablation_augment_size_four_bleu = model_df_ablation_augment_size_four['BLEU-1'].mean()\n",
    "model_df_ablation_augment_size_four_rouge = model_df_ablation_augment_size_four['rouge-1-f'].mean()\n",
    "\n",
    "\n",
    "# Assuming you have already calculated the average scores\n",
    "# Create a DataFrame containing the average scores for each augmentation size\n",
    "data_augmentation = {\n",
    "    'Augmentation Size': ['1', '2', '4'],\n",
    "    'BLEU-1': [model_df_augment_size_one_bleu, model_df_augment_size_two_bleu, model_df_augment_size_four_bleu],\n",
    "    'ROUGE-1-F': [model_df_augment_size_one_rouge, model_df_augment_size_two_rouge, model_df_augment_size_four_rouge]\n",
    "}\n",
    "\n",
    "data_ablation = {\n",
    "    'Augmentation Size': ['1', '2', '4'],\n",
    "    'BLEU-1': [model_df_ablation_augment_size_one_bleu, model_df_ablation_augment_size_two_bleu, model_df_ablation_augment_size_four_bleu],\n",
    "    'ROUGE-1-F': [model_df_ablation_augment_size_one_rouge, model_df_ablation_augment_size_two_rouge, model_df_ablation_augment_size_four_rouge]\n",
    "}\n",
    "\n",
    "\n",
    "# Create DataFrames from the data\n",
    "avg_scores_augmentation_df = pd.DataFrame(data_augmentation)\n",
    "avg_scores_ablation_df = pd.DataFrame(data_ablation)\n",
    "\n",
    "# Plot the line graph using Seaborn\n",
    "plt.figure(figsize=(8, 6))\n",
    "\n",
    "# Plot augmentation scores with solid lines\n",
    "sns.lineplot(data=avg_scores_augmentation_df, x='Augmentation Size', y='BLEU-1', label='BLEU-1 (Augmentation)', marker='o')\n",
    "sns.lineplot(data=avg_scores_augmentation_df, x='Augmentation Size', y='ROUGE-1-F', label='ROUGE-1-F (Augmentation)', marker='o')\n",
    "\n",
    "# Plot ablation scores with dashed lines\n",
    "sns.lineplot(data=avg_scores_ablation_df, x='Augmentation Size', y='BLEU-1', label='BLEU-1 (Ablation)', linestyle='--', marker='o')\n",
    "sns.lineplot(data=avg_scores_ablation_df, x='Augmentation Size', y='ROUGE-1-F', label='ROUGE-1-F (Ablation)', linestyle='--', marker='o')\n",
    "\n",
    "plt.title(f'{model} Augmentation Size')\n",
    "plt.xlabel('Augmentation Size')\n",
    "plt.ylabel('Score')\n",
    "plt.legend()\n",
    "plt.grid(True)\n",
    "\n",
    "# Set the y-axis limits\n",
    "plt.ylim(0.08, 0.18)  # Adjust the range as needed\n",
    "\n",
    "# Adjust layout to reduce white space\n",
    "plt.tight_layout()\n",
    "\n",
    "# Save the plot as a PNG file\n",
    "plt.savefig(f'{model}_augmentation_size.png')"
   ],
   "metadata": {
    "collapsed": false,
    "ExecuteTime": {
     "start_time": "2024-04-15T13:03:08.581650Z",
     "end_time": "2024-04-15T13:03:08.874836Z"
    }
   }
  },
  {
   "cell_type": "code",
   "execution_count": null,
   "outputs": [],
   "source": [],
   "metadata": {
    "collapsed": false,
    "ExecuteTime": {
     "start_time": "2024-04-18T14:23:47.474577Z",
     "end_time": "2024-04-18T14:23:47.489552Z"
    }
   }
  },
  {
   "cell_type": "code",
   "execution_count": null,
   "outputs": [],
   "source": [
    "final_df"
   ],
   "metadata": {
    "collapsed": false,
    "ExecuteTime": {
     "start_time": "2024-04-18T14:24:32.944048Z",
     "end_time": "2024-04-18T14:24:33.080872Z"
    }
   }
  },
  {
   "cell_type": "code",
   "execution_count": null,
   "outputs": [],
   "source": [
    "final_df_ablation"
   ],
   "metadata": {
    "collapsed": false,
    "ExecuteTime": {
     "start_time": "2024-04-18T14:24:46.621559Z",
     "end_time": "2024-04-18T14:24:46.652795Z"
    }
   }
  },
  {
   "cell_type": "code",
   "execution_count": null,
   "outputs": [],
   "source": [],
   "metadata": {
    "collapsed": false,
    "ExecuteTime": {
     "start_time": "2024-04-23T12:20:58.618295Z",
     "end_time": "2024-04-23T12:20:58.649750Z"
    }
   }
  },
  {
   "cell_type": "code",
   "execution_count": null,
   "outputs": [],
   "source": [],
   "metadata": {
    "collapsed": false
   }
  }
 ],
 "metadata": {
  "kernelspec": {
   "display_name": "Python 3",
   "language": "python",
   "name": "python3"
  },
  "language_info": {
   "codemirror_mode": {
    "name": "ipython",
    "version": 2
   },
   "file_extension": ".py",
   "mimetype": "text/x-python",
   "name": "python",
   "nbconvert_exporter": "python",
   "pygments_lexer": "ipython2",
   "version": "2.7.6"
  }
 },
 "nbformat": 4,
 "nbformat_minor": 0
}
