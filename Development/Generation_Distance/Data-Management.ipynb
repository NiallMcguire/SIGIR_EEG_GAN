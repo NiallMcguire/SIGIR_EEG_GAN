{
 "cells": [
  {
   "cell_type": "code",
   "execution_count": 14,
   "metadata": {
    "collapsed": true,
    "ExecuteTime": {
     "start_time": "2024-04-12T11:27:05.674024Z",
     "end_time": "2024-04-12T11:27:06.382345Z"
    }
   },
   "outputs": [],
   "source": [
    "import pickle\n",
    "import numpy as np\n",
    "from scipy.spatial import distance"
   ]
  },
  {
   "cell_type": "code",
   "execution_count": 3,
   "outputs": [],
   "source": [
    "# To load the lists from the file:\n",
    "with open(r\"C:\\Users\\gxb18167\\PycharmProjects\\EEG-To-Text\\SIGIR_Development\\EEG-GAN\\EEG_Text_Pairs.pkl\", 'rb') as file:\n",
    "    EEG_word_level_embeddings = pickle.load(file)\n",
    "    EEG_word_level_labels = pickle.load(file)"
   ],
   "metadata": {
    "collapsed": false,
    "ExecuteTime": {
     "start_time": "2024-04-12T11:21:16.128449Z",
     "end_time": "2024-04-12T11:21:18.273032Z"
    }
   }
  },
  {
   "cell_type": "code",
   "execution_count": 6,
   "outputs": [],
   "source": [
    "#create dictionary with words a labels and the EEG embeddings in a list as the values\n",
    "\n",
    "EEG_word_level_dict = {}\n",
    "for i in range(len(EEG_word_level_labels)):\n",
    "    if EEG_word_level_labels[i] in EEG_word_level_dict:\n",
    "        EEG_word_level_dict[EEG_word_level_labels[i]].append(EEG_word_level_embeddings[i])\n",
    "    else:\n",
    "        EEG_word_level_dict[EEG_word_level_labels[i]] = [EEG_word_level_embeddings[i]]\n"
   ],
   "metadata": {
    "collapsed": false,
    "ExecuteTime": {
     "start_time": "2024-04-12T11:22:32.705215Z",
     "end_time": "2024-04-12T11:22:32.720945Z"
    }
   }
  },
  {
   "cell_type": "code",
   "execution_count": 15,
   "outputs": [],
   "source": [
    "def convert_to_probability_distribution(eeg_segment):\n",
    "    \"\"\"\n",
    "    Convert EEG segment to a probability distribution.\n",
    "\n",
    "    Parameters:\n",
    "        eeg_segment (array-like): EEG segment data.\n",
    "\n",
    "    Returns:\n",
    "        array-like: Probability distribution representing the EEG segment.\n",
    "    \"\"\"\n",
    "    # Perform feature extraction (e.g., compute spectral power densities)\n",
    "    # Example: Calculate mean power spectral density across channels\n",
    "    power_spectral_density = np.mean(np.abs(np.fft.fft(eeg_segment)) ** 2, axis=1)\n",
    "\n",
    "    # Normalize the extracted features\n",
    "    normalized_features = (power_spectral_density - np.mean(power_spectral_density)) / np.std(power_spectral_density)\n",
    "\n",
    "    # Convert normalized features into probability values\n",
    "    # Example: Apply softmax function\n",
    "    probabilities = np.exp(normalized_features) / np.sum(np.exp(normalized_features))\n",
    "\n",
    "    return probabilities"
   ],
   "metadata": {
    "collapsed": false,
    "ExecuteTime": {
     "start_time": "2024-04-12T11:28:22.185110Z",
     "end_time": "2024-04-12T11:28:22.205233Z"
    }
   }
  },
  {
   "cell_type": "code",
   "execution_count": null,
   "outputs": [],
   "source": [],
   "metadata": {
    "collapsed": false
   }
  }
 ],
 "metadata": {
  "kernelspec": {
   "display_name": "Python 3",
   "language": "python",
   "name": "python3"
  },
  "language_info": {
   "codemirror_mode": {
    "name": "ipython",
    "version": 2
   },
   "file_extension": ".py",
   "mimetype": "text/x-python",
   "name": "python",
   "nbconvert_exporter": "python",
   "pygments_lexer": "ipython2",
   "version": "2.7.6"
  }
 },
 "nbformat": 4,
 "nbformat_minor": 0
}
