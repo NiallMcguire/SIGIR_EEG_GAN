{
 "cells": [
  {
   "cell_type": "code",
   "execution_count": 3,
   "outputs": [],
   "source": [
    "import pandas as pd"
   ],
   "metadata": {
    "collapsed": false,
    "ExecuteTime": {
     "start_time": "2024-04-12T19:00:24.514119Z",
     "end_time": "2024-04-12T19:00:25.761189Z"
    }
   }
  },
  {
   "cell_type": "code",
   "execution_count": 39,
   "metadata": {
    "collapsed": true,
    "ExecuteTime": {
     "start_time": "2024-04-12T19:37:28.717056Z",
     "end_time": "2024-04-12T19:37:28.731839Z"
    }
   },
   "outputs": [],
   "source": [
    "normal_path = r\"I:\\Science\\CIS-YASHMOSH\\niallmcguire\\JS_Distance\\WGAN_v1_Text_random_JS_Distance.csv\""
   ]
  },
  {
   "cell_type": "code",
   "execution_count": 40,
   "outputs": [],
   "source": [
    "import csv\n",
    "\n",
    "def read_csv(filename):\n",
    "    records = []\n",
    "    current_record = []\n",
    "\n",
    "    with open(filename, 'r') as file:\n",
    "        reader = csv.reader(file)\n",
    "        for row in reader:\n",
    "            if len(row) == 1:  # If row contains only one field, it's part of the previous record\n",
    "                current_record.extend(row)\n",
    "            else:  # Otherwise, it's a new record\n",
    "                if current_record:  # If there's a current record, append it to the list of records\n",
    "                    records.append(current_record)\n",
    "                current_record = row  # Start a new record\n",
    "\n",
    "        # Append the last record\n",
    "        if current_record:\n",
    "            records.append(current_record)\n",
    "\n",
    "    return records\n",
    "\n",
    "# Example usage\n",
    "filename = normal_path\n"
   ],
   "metadata": {
    "collapsed": false,
    "ExecuteTime": {
     "start_time": "2024-04-12T19:37:28.955234Z",
     "end_time": "2024-04-12T19:37:28.970864Z"
    }
   }
  },
  {
   "cell_type": "code",
   "execution_count": 41,
   "outputs": [],
   "source": [
    "data = read_csv(filename)\n",
    "\n",
    "df = pd.DataFrame(data)"
   ],
   "metadata": {
    "collapsed": false,
    "ExecuteTime": {
     "start_time": "2024-04-12T19:37:29.169203Z",
     "end_time": "2024-04-12T19:37:29.348371Z"
    }
   }
  },
  {
   "cell_type": "code",
   "execution_count": 42,
   "outputs": [],
   "source": [
    "df[1] = pd.to_numeric(df[1])"
   ],
   "metadata": {
    "collapsed": false,
    "ExecuteTime": {
     "start_time": "2024-04-12T19:37:29.778715Z",
     "end_time": "2024-04-12T19:37:29.794380Z"
    }
   }
  },
  {
   "cell_type": "code",
   "execution_count": 43,
   "outputs": [],
   "source": [
    "average_value = df[1].mean()"
   ],
   "metadata": {
    "collapsed": false,
    "ExecuteTime": {
     "start_time": "2024-04-12T19:37:30.492407Z",
     "end_time": "2024-04-12T19:37:30.515135Z"
    }
   }
  },
  {
   "cell_type": "code",
   "execution_count": 44,
   "outputs": [
    {
     "data": {
      "text/plain": "0.4162058679798051"
     },
     "execution_count": 44,
     "metadata": {},
     "output_type": "execute_result"
    }
   ],
   "source": [
    "average_value"
   ],
   "metadata": {
    "collapsed": false,
    "ExecuteTime": {
     "start_time": "2024-04-12T19:37:31.403201Z",
     "end_time": "2024-04-12T19:37:31.434332Z"
    }
   }
  },
  {
   "cell_type": "code",
   "execution_count": null,
   "outputs": [],
   "source": [],
   "metadata": {
    "collapsed": false
   }
  }
 ],
 "metadata": {
  "kernelspec": {
   "display_name": "Python 3",
   "language": "python",
   "name": "python3"
  },
  "language_info": {
   "codemirror_mode": {
    "name": "ipython",
    "version": 2
   },
   "file_extension": ".py",
   "mimetype": "text/x-python",
   "name": "python",
   "nbconvert_exporter": "python",
   "pygments_lexer": "ipython2",
   "version": "2.7.6"
  }
 },
 "nbformat": 4,
 "nbformat_minor": 0
}
