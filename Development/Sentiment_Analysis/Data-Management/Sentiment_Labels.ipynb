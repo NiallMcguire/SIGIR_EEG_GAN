{
 "cells": [
  {
   "cell_type": "code",
   "execution_count": 1,
   "metadata": {
    "collapsed": true,
    "ExecuteTime": {
     "start_time": "2024-04-29T12:52:44.959274Z",
     "end_time": "2024-04-29T12:52:44.962791Z"
    }
   },
   "outputs": [],
   "source": [
    "import pickle"
   ]
  },
  {
   "cell_type": "code",
   "execution_count": 2,
   "outputs": [],
   "source": [
    "with open(r'C:\\Users\\gxb18167\\PycharmProjects\\SIGIR_EEG_GAN\\Development\\Sentiment_Analysis\\EEG_Sentiment_Labels.pkl', 'rb') as f:\n",
    "    #read two arrays\n",
    "    train_labels = pickle.load(f)\n",
    "    test_labels = pickle.load(f)"
   ],
   "metadata": {
    "collapsed": false,
    "ExecuteTime": {
     "start_time": "2024-04-29T12:52:44.962791Z",
     "end_time": "2024-04-29T12:52:44.998885Z"
    }
   }
  },
  {
   "cell_type": "code",
   "execution_count": 3,
   "outputs": [
    {
     "data": {
      "text/plain": "10522"
     },
     "execution_count": 3,
     "metadata": {},
     "output_type": "execute_result"
    }
   ],
   "source": [
    "len(train_labels)"
   ],
   "metadata": {
    "collapsed": false,
    "ExecuteTime": {
     "start_time": "2024-04-29T12:52:44.998885Z",
     "end_time": "2024-04-29T12:52:45.017945Z"
    }
   }
  },
  {
   "cell_type": "code",
   "execution_count": 4,
   "outputs": [
    {
     "data": {
      "text/plain": "1380"
     },
     "execution_count": 4,
     "metadata": {},
     "output_type": "execute_result"
    }
   ],
   "source": [
    "len(test_labels)"
   ],
   "metadata": {
    "collapsed": false,
    "ExecuteTime": {
     "start_time": "2024-04-29T12:52:45.009896Z",
     "end_time": "2024-04-29T12:52:45.073613Z"
    }
   }
  },
  {
   "cell_type": "code",
   "execution_count": 70,
   "outputs": [],
   "source": [
    "import torch\n",
    "import numpy as np"
   ],
   "metadata": {
    "collapsed": false,
    "ExecuteTime": {
     "start_time": "2024-04-29T13:42:06.604629Z",
     "end_time": "2024-04-29T13:42:06.625796Z"
    }
   }
  },
  {
   "cell_type": "code",
   "execution_count": 216,
   "outputs": [],
   "source": [
    "Named_Entity_Augmentation = []"
   ],
   "metadata": {
    "collapsed": false,
    "ExecuteTime": {
     "start_time": "2024-04-29T16:00:16.354241Z",
     "end_time": "2024-04-29T16:00:16.371623Z"
    }
   }
  },
  {
   "cell_type": "code",
   "execution_count": 217,
   "outputs": [],
   "source": [
    "second_list = []"
   ],
   "metadata": {
    "collapsed": false,
    "ExecuteTime": {
     "start_time": "2024-04-29T16:00:16.506767Z",
     "end_time": "2024-04-29T16:00:16.519156Z"
    }
   }
  },
  {
   "cell_type": "code",
   "execution_count": 217,
   "outputs": [],
   "source": [],
   "metadata": {
    "collapsed": false,
    "ExecuteTime": {
     "start_time": "2024-04-29T16:00:16.859810Z",
     "end_time": "2024-04-29T16:00:16.875573Z"
    }
   }
  },
  {
   "cell_type": "code",
   "execution_count": 218,
   "outputs": [],
   "source": [
    "for i in range(0, 7):\n",
    "    Named_Entity_Augmentation.append(torch.zeros(840))\n",
    "\n",
    "Named_Entity_Augmentation = np.array(Named_Entity_Augmentation)"
   ],
   "metadata": {
    "collapsed": false,
    "ExecuteTime": {
     "start_time": "2024-04-29T16:00:16.875573Z",
     "end_time": "2024-04-29T16:00:16.891688Z"
    }
   }
  },
  {
   "cell_type": "code",
   "execution_count": 219,
   "outputs": [],
   "source": [
    "for i in range(0, 7):\n",
    "    second_list.append(torch.zeros(840))\n",
    "\n",
    "second_list = np.array(second_list)"
   ],
   "metadata": {
    "collapsed": false,
    "ExecuteTime": {
     "start_time": "2024-04-29T16:00:17.207864Z",
     "end_time": "2024-04-29T16:00:17.221934Z"
    }
   }
  },
  {
   "cell_type": "code",
   "execution_count": 224,
   "outputs": [],
   "source": [
    "Synthetic_Named_Entity = np.tile(Named_Entity_Augmentation, (len(second_list), 1, 1))\n",
    "second_list = np.tile(second_list, (len(Named_Entity_Augmentation), 1, 1))"
   ],
   "metadata": {
    "collapsed": false,
    "ExecuteTime": {
     "start_time": "2024-04-29T16:00:32.181302Z",
     "end_time": "2024-04-29T16:00:32.213052Z"
    }
   }
  },
  {
   "cell_type": "code",
   "execution_count": 225,
   "outputs": [
    {
     "data": {
      "text/plain": "(7, 7, 840)"
     },
     "execution_count": 225,
     "metadata": {},
     "output_type": "execute_result"
    }
   ],
   "source": [
    "Synthetic_Named_Entity.shape"
   ],
   "metadata": {
    "collapsed": false,
    "ExecuteTime": {
     "start_time": "2024-04-29T16:00:32.521608Z",
     "end_time": "2024-04-29T16:00:32.543594Z"
    }
   }
  },
  {
   "cell_type": "code",
   "execution_count": 226,
   "outputs": [
    {
     "data": {
      "text/plain": "(7, 7, 840)"
     },
     "execution_count": 226,
     "metadata": {},
     "output_type": "execute_result"
    }
   ],
   "source": [
    "second_list.shape"
   ],
   "metadata": {
    "collapsed": false,
    "ExecuteTime": {
     "start_time": "2024-04-29T16:00:32.812687Z",
     "end_time": "2024-04-29T16:00:32.827699Z"
    }
   }
  },
  {
   "cell_type": "code",
   "execution_count": 227,
   "outputs": [],
   "source": [
    "second_list = np.append(second_list, Synthetic_Named_Entity, axis=0)"
   ],
   "metadata": {
    "collapsed": false,
    "ExecuteTime": {
     "start_time": "2024-04-29T16:00:33.613143Z",
     "end_time": "2024-04-29T16:00:33.644595Z"
    }
   }
  },
  {
   "cell_type": "code",
   "execution_count": 228,
   "outputs": [
    {
     "data": {
      "text/plain": "(14, 7, 840)"
     },
     "execution_count": 228,
     "metadata": {},
     "output_type": "execute_result"
    }
   ],
   "source": [
    "second_list.shape"
   ],
   "metadata": {
    "collapsed": false,
    "ExecuteTime": {
     "start_time": "2024-04-29T16:00:34.420402Z",
     "end_time": "2024-04-29T16:00:34.437239Z"
    }
   }
  },
  {
   "cell_type": "code",
   "execution_count": 164,
   "outputs": [],
   "source": [],
   "metadata": {
    "collapsed": false,
    "ExecuteTime": {
     "start_time": "2024-04-29T14:37:14.905276Z",
     "end_time": "2024-04-29T14:37:14.914537Z"
    }
   }
  },
  {
   "cell_type": "code",
   "execution_count": 194,
   "outputs": [],
   "source": [
    "def augment_dataset():\n",
    "    '''\n",
    "    Named_Entity_Augmentation = []\n",
    "\n",
    "    for word in Named_Entity_List:\n",
    "\n",
    "        word_embedding = word_embeddings[word]\n",
    "        input_z = create_noise(1, 100, \"uniform\").to(device)\n",
    "\n",
    "        word_embedding_tensor = torch.tensor(word_embedding, dtype=torch.float32)\n",
    "        word_embedding_tensor = word_embedding_tensor.unsqueeze(0)\n",
    "\n",
    "        g_output = generate_samples(generator_name, gen_model, input_z, word_embedding_tensor)\n",
    "\n",
    "\n",
    "        g_output = g_output.to('cpu')\n",
    "\n",
    "        EEG_synthetic_denormalized = (g_output * np.max(np.abs(EEG_word_level_embeddings))) + np.mean(\n",
    "            EEG_word_level_embeddings)\n",
    "\n",
    "        synthetic_sample = torch.tensor(EEG_synthetic_denormalized[0][0], dtype=torch.float32).to(device)\n",
    "\n",
    "        synthetic_sample = synthetic_sample.resize(840)\n",
    "        #Named_Entity_Augmentation.append(synthetic_sample.to('cpu'))\n",
    "\n",
    "    if len(Named_Entity_Augmentation) < max_length:\n",
    "        padding_count = max_length - len(Named_Entity_Augmentation)\n",
    "        for i in range(padding_count):\n",
    "            Named_Entity_Augmentation.append(torch.zeros(840, dtype=torch.float32).to('cpu'))\n",
    "\n",
    "    #Named_Entity_Augmentation = np.array(Named_Entity_Augmentation)\n",
    "\n",
    "    '''\n",
    "    Named_Entity_Augmentation = []\n",
    "    for i in range(0, 7):\n",
    "        Named_Entity_Augmentation.append(torch.zeros(840))\n",
    "\n",
    "    Named_Entity_Augmentation = np.array(Named_Entity_Augmentation)\n",
    "\n",
    "\n",
    "    return Named_Entity_Augmentation"
   ],
   "metadata": {
    "collapsed": false,
    "ExecuteTime": {
     "start_time": "2024-04-29T14:52:50.892320Z",
     "end_time": "2024-04-29T14:52:50.907335Z"
    }
   }
  },
  {
   "cell_type": "code",
   "execution_count": 196,
   "outputs": [],
   "source": [
    "value = augment_dataset()"
   ],
   "metadata": {
    "collapsed": false,
    "ExecuteTime": {
     "start_time": "2024-04-29T14:52:59.970540Z",
     "end_time": "2024-04-29T14:53:00.002809Z"
    }
   }
  },
  {
   "cell_type": "code",
   "execution_count": 197,
   "outputs": [
    {
     "data": {
      "text/plain": "(7, 840)"
     },
     "execution_count": 197,
     "metadata": {},
     "output_type": "execute_result"
    }
   ],
   "source": [
    "value.shape"
   ],
   "metadata": {
    "collapsed": false,
    "ExecuteTime": {
     "start_time": "2024-04-29T14:53:02.748739Z",
     "end_time": "2024-04-29T14:53:02.759603Z"
    }
   }
  },
  {
   "cell_type": "code",
   "execution_count": null,
   "outputs": [],
   "source": [],
   "metadata": {
    "collapsed": false
   }
  }
 ],
 "metadata": {
  "kernelspec": {
   "display_name": "Python 3",
   "language": "python",
   "name": "python3"
  },
  "language_info": {
   "codemirror_mode": {
    "name": "ipython",
    "version": 2
   },
   "file_extension": ".py",
   "mimetype": "text/x-python",
   "name": "python",
   "nbconvert_exporter": "python",
   "pygments_lexer": "ipython2",
   "version": "2.7.6"
  }
 },
 "nbformat": 4,
 "nbformat_minor": 0
}
