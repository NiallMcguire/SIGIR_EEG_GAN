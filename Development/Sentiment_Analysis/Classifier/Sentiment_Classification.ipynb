{
 "cells": [
  {
   "cell_type": "code",
   "execution_count": 19,
   "metadata": {
    "collapsed": true,
    "ExecuteTime": {
     "start_time": "2024-04-29T11:19:26.769660Z",
     "end_time": "2024-04-29T11:19:26.791554Z"
    }
   },
   "outputs": [],
   "source": [
    "import pickle\n",
    "import re\n",
    "import random\n",
    "import numpy as np\n",
    "from keras.utils import to_categorical\n",
    "from sklearn.preprocessing import LabelEncoder\n",
    "import torch\n",
    "from torch.utils.data import DataLoader, TensorDataset"
   ]
  },
  {
   "cell_type": "code",
   "execution_count": 20,
   "outputs": [],
   "source": [
    "def read_EEG_embeddings_labels(path):\n",
    "    with open(path, 'rb') as file:\n",
    "        EEG_word_level_embeddings = pickle.load(file)\n",
    "        EEG_word_level_labels = pickle.load(file)\n",
    "    return EEG_word_level_embeddings, EEG_word_level_labels"
   ],
   "metadata": {
    "collapsed": false,
    "ExecuteTime": {
     "start_time": "2024-04-29T11:19:26.968998Z",
     "end_time": "2024-04-29T11:19:26.984931Z"
    }
   }
  },
  {
   "cell_type": "code",
   "execution_count": 21,
   "outputs": [],
   "source": [
    "def encode_labels(y):\n",
    "    label_encoder = LabelEncoder()\n",
    "    encoded_labels = label_encoder.fit_transform(y)\n",
    "\n",
    "    y_categorical = to_categorical(encoded_labels)\n",
    "\n",
    "    return y_categorical"
   ],
   "metadata": {
    "collapsed": false,
    "ExecuteTime": {
     "start_time": "2024-04-29T11:19:27.292707Z",
     "end_time": "2024-04-29T11:19:27.317821Z"
    }
   }
  },
  {
   "cell_type": "code",
   "execution_count": 22,
   "outputs": [],
   "source": [
    "def get_sentences_EEG(labels, EEG_embeddings):\n",
    "    Sentences = []\n",
    "    current_sentence = []\n",
    "\n",
    "    EEG_Sentencs = []\n",
    "    EEG_index = 0\n",
    "    for i in range(len(labels)):\n",
    "        # Check if the word marks the start of a new sentence\n",
    "        word = labels[i]\n",
    "        if word == \"SOS\":\n",
    "            # If it does, append the current sentence to the list of sentences\n",
    "            if len(current_sentence) > 0:\n",
    "                Sentences.append(current_sentence)\n",
    "                sentence_length = len(current_sentence)\n",
    "                #print(EEG_index)\n",
    "                #print(sentence_length)\n",
    "                EEG_segment = EEG_embeddings[EEG_index:EEG_index+sentence_length]\n",
    "                EEG_index += sentence_length\n",
    "                EEG_Sentencs.append(EEG_segment)\n",
    "\n",
    "                # Start a new sentence\n",
    "                current_sentence = []\n",
    "        else:\n",
    "            # Add the word to the current sentence\n",
    "            current_sentence.append(word)\n",
    "\n",
    "    return Sentences, EEG_Sentencs"
   ],
   "metadata": {
    "collapsed": false,
    "ExecuteTime": {
     "start_time": "2024-04-29T11:19:27.548913Z",
     "end_time": "2024-04-29T11:19:27.564987Z"
    }
   }
  },
  {
   "cell_type": "code",
   "execution_count": 23,
   "outputs": [],
   "source": [
    "def pad_sentences(EEG_embeddings, max_length):\n",
    "    # Pad the sentences to the maximum length\n",
    "    padded_EEG_sentences = []\n",
    "    for index in range(len(EEG_embeddings)):\n",
    "        sentence = EEG_embeddings[index]\n",
    "        sentence_length = len(sentence)\n",
    "        if sentence_length < max_length:\n",
    "            padding_length = max_length - sentence_length\n",
    "            for _ in range(padding_length):\n",
    "                sentence.append(np.zeros((105,8)))\n",
    "        padded_EEG_sentences.append(sentence)\n",
    "    return padded_EEG_sentences"
   ],
   "metadata": {
    "collapsed": false,
    "ExecuteTime": {
     "start_time": "2024-04-29T11:19:27.893891Z",
     "end_time": "2024-04-29T11:19:27.918843Z"
    }
   }
  },
  {
   "cell_type": "code",
   "execution_count": 24,
   "outputs": [],
   "source": [
    "def reshape_data(X):\n",
    "    #reshape the data to 840\n",
    "    new_list = []\n",
    "    for i in range(len(X)):\n",
    "        array_list = X[i]\n",
    "        arrays_list_reshaped = [arr.reshape(-1) for arr in array_list]\n",
    "        new_list.append(arrays_list_reshaped)\n",
    "\n",
    "    new_list = np.array(new_list)\n",
    "    return new_list"
   ],
   "metadata": {
    "collapsed": false,
    "ExecuteTime": {
     "start_time": "2024-04-29T11:19:28.190211Z",
     "end_time": "2024-04-29T11:19:28.261184Z"
    }
   }
  },
  {
   "cell_type": "code",
   "execution_count": 25,
   "outputs": [],
   "source": [
    "train_path = r\"C:\\Users\\gxb18167\\PycharmProjects\\EEG-To-Text\\SIGIR_Development\\EEG-GAN\\EEG_Text_Pairs_Sentence.pkl\"\n",
    "test_path = r\"C:\\Users\\gxb18167\\PycharmProjects\\EEG-To-Text\\SIGIR_Development\\EEG-GAN\\Test_EEG_Text_Pairs_Sentence.pkl\"\n",
    "\n",
    "\n"
   ],
   "metadata": {
    "collapsed": false,
    "ExecuteTime": {
     "start_time": "2024-04-29T11:19:28.542372Z",
     "end_time": "2024-04-29T11:19:28.582626Z"
    }
   }
  },
  {
   "cell_type": "code",
   "execution_count": 26,
   "outputs": [],
   "source": [
    "EEG_word_level_embeddings, EEG_word_level_labels = read_EEG_embeddings_labels(train_path)\n",
    "Test_EEG_word_level_embeddings, Test_EEG_word_level_labels = read_EEG_embeddings_labels(test_path)\n",
    "\n",
    "EEG_word_level_sentences, EEG_sentence_embeddings = get_sentences_EEG(EEG_word_level_labels, EEG_word_level_embeddings)\n",
    "Test_EEG_word_level_sentences, Test_EEG_sentence_embeddings = get_sentences_EEG(Test_EEG_word_level_labels, Test_EEG_word_level_embeddings)\n",
    "\n"
   ],
   "metadata": {
    "collapsed": false,
    "ExecuteTime": {
     "start_time": "2024-04-29T11:19:29.030990Z",
     "end_time": "2024-04-29T11:19:32.874488Z"
    }
   }
  },
  {
   "cell_type": "code",
   "execution_count": 27,
   "outputs": [],
   "source": [
    "#label_path = \"insert here\"\n",
    "#train_labels, test_labels = read_EEG_embeddings_labels(label_path)"
   ],
   "metadata": {
    "collapsed": false,
    "ExecuteTime": {
     "start_time": "2024-04-29T11:19:32.874488Z",
     "end_time": "2024-04-29T11:19:32.894375Z"
    }
   }
  },
  {
   "cell_type": "code",
   "execution_count": 28,
   "outputs": [],
   "source": [
    "fake_train_labels = [random.choice([0, 1]) for _ in range(len(EEG_word_level_sentences))]\n",
    "fake_test_labels = [random.choice([0, 1]) for _ in range(len(Test_EEG_word_level_sentences))]"
   ],
   "metadata": {
    "collapsed": false,
    "ExecuteTime": {
     "start_time": "2024-04-29T11:19:35.229877Z",
     "end_time": "2024-04-29T11:19:35.254751Z"
    }
   }
  },
  {
   "cell_type": "code",
   "execution_count": 29,
   "outputs": [],
   "source": [
    "max_length = max([len(sentence) for sentence in EEG_word_level_sentences])"
   ],
   "metadata": {
    "collapsed": false,
    "ExecuteTime": {
     "start_time": "2024-04-29T11:19:35.709183Z",
     "end_time": "2024-04-29T11:19:35.756722Z"
    }
   }
  },
  {
   "cell_type": "code",
   "execution_count": 30,
   "outputs": [],
   "source": [
    "X_train = pad_sentences(EEG_sentence_embeddings, max_length)\n",
    "X_train = reshape_data(X_train)\n",
    "\n",
    "X_test = pad_sentences(Test_EEG_sentence_embeddings, max_length)\n",
    "X_test = reshape_data(X_test)\n",
    "\n",
    "train_labels = encode_labels(fake_train_labels)\n",
    "test_labels = encode_labels(fake_test_labels)"
   ],
   "metadata": {
    "collapsed": false,
    "ExecuteTime": {
     "start_time": "2024-04-29T11:19:36.272534Z",
     "end_time": "2024-04-29T11:19:36.351197Z"
    }
   }
  },
  {
   "cell_type": "code",
   "execution_count": null,
   "outputs": [],
   "source": [
    "x_train_tensor = torch.tensor(X_train, dtype=torch.float32)\n",
    "y_train_tensor = torch.tensor(train_labels, dtype=torch.float32)\n"
   ],
   "metadata": {
    "collapsed": false,
    "ExecuteTime": {
     "start_time": "2024-04-24T14:14:31.229369Z",
     "end_time": "2024-04-24T14:14:32.200557Z"
    },
    "pycharm": {
     "is_executing": true
    }
   }
  },
  {
   "cell_type": "code",
   "execution_count": 17,
   "outputs": [
    {
     "data": {
      "text/plain": "['POSITIVE',\n 'POSITIVE',\n 'NEGATIVE',\n 'POSITIVE',\n 'NEGATIVE',\n 'POSITIVE',\n 'NEGATIVE',\n 'NEGATIVE',\n 'POSITIVE',\n 'NEGATIVE',\n 'NEGATIVE',\n 'POSITIVE',\n 'POSITIVE',\n 'NEGATIVE',\n 'POSITIVE',\n 'NEGATIVE',\n 'POSITIVE',\n 'NEGATIVE',\n 'POSITIVE',\n 'NEGATIVE',\n 'POSITIVE',\n 'NEGATIVE',\n 'NEGATIVE',\n 'POSITIVE',\n 'POSITIVE',\n 'NEGATIVE',\n 'POSITIVE',\n 'POSITIVE',\n 'POSITIVE',\n 'NEGATIVE',\n 'POSITIVE',\n 'POSITIVE',\n 'POSITIVE',\n 'POSITIVE',\n 'POSITIVE',\n 'NEGATIVE',\n 'NEGATIVE',\n 'NEGATIVE',\n 'NEGATIVE',\n 'POSITIVE',\n 'NEGATIVE',\n 'POSITIVE',\n 'POSITIVE',\n 'POSITIVE',\n 'NEGATIVE',\n 'NEGATIVE',\n 'POSITIVE',\n 'POSITIVE',\n 'NEGATIVE',\n 'NEGATIVE',\n 'POSITIVE',\n 'NEGATIVE',\n 'NEGATIVE',\n 'POSITIVE',\n 'POSITIVE',\n 'NEGATIVE',\n 'POSITIVE',\n 'NEGATIVE',\n 'NEGATIVE',\n 'NEGATIVE',\n 'POSITIVE',\n 'POSITIVE',\n 'POSITIVE',\n 'NEGATIVE',\n 'POSITIVE',\n 'POSITIVE',\n 'NEGATIVE',\n 'NEGATIVE',\n 'NEGATIVE',\n 'NEGATIVE',\n 'POSITIVE',\n 'NEGATIVE',\n 'POSITIVE',\n 'POSITIVE',\n 'POSITIVE',\n 'NEGATIVE',\n 'NEGATIVE',\n 'NEGATIVE',\n 'NEGATIVE',\n 'NEGATIVE',\n 'NEGATIVE',\n 'POSITIVE',\n 'NEGATIVE',\n 'NEGATIVE',\n 'POSITIVE',\n 'POSITIVE',\n 'POSITIVE',\n 'NEGATIVE',\n 'POSITIVE',\n 'NEGATIVE',\n 'POSITIVE',\n 'POSITIVE',\n 'NEGATIVE',\n 'POSITIVE',\n 'NEGATIVE',\n 'NEGATIVE',\n 'POSITIVE',\n 'NEGATIVE',\n 'NEGATIVE',\n 'POSITIVE',\n 'POSITIVE',\n 'POSITIVE',\n 'POSITIVE',\n 'POSITIVE',\n 'NEGATIVE',\n 'NEGATIVE',\n 'POSITIVE',\n 'POSITIVE',\n 'POSITIVE',\n 'POSITIVE',\n 'NEGATIVE',\n 'NEGATIVE',\n 'POSITIVE',\n 'NEGATIVE',\n 'POSITIVE',\n 'NEGATIVE',\n 'POSITIVE',\n 'NEGATIVE',\n 'NEGATIVE',\n 'NEGATIVE',\n 'POSITIVE',\n 'POSITIVE',\n 'POSITIVE',\n 'NEGATIVE',\n 'POSITIVE',\n 'POSITIVE',\n 'POSITIVE',\n 'POSITIVE',\n 'POSITIVE',\n 'NEGATIVE',\n 'NEGATIVE',\n 'POSITIVE',\n 'POSITIVE',\n 'NEGATIVE',\n 'NEGATIVE',\n 'NEGATIVE',\n 'NEGATIVE',\n 'NEGATIVE',\n 'NEGATIVE',\n 'POSITIVE',\n 'NEGATIVE',\n 'NEGATIVE',\n 'NEGATIVE',\n 'NEGATIVE',\n 'POSITIVE',\n 'NEGATIVE',\n 'POSITIVE',\n 'NEGATIVE',\n 'POSITIVE',\n 'NEGATIVE',\n 'NEGATIVE',\n 'POSITIVE',\n 'NEGATIVE',\n 'POSITIVE',\n 'NEGATIVE',\n 'POSITIVE',\n 'NEGATIVE',\n 'POSITIVE',\n 'NEGATIVE',\n 'POSITIVE',\n 'NEGATIVE',\n 'POSITIVE',\n 'NEGATIVE',\n 'NEGATIVE',\n 'POSITIVE',\n 'NEGATIVE',\n 'POSITIVE',\n 'POSITIVE',\n 'NEGATIVE',\n 'POSITIVE',\n 'POSITIVE',\n 'POSITIVE',\n 'NEGATIVE',\n 'NEGATIVE',\n 'POSITIVE',\n 'NEGATIVE',\n 'POSITIVE',\n 'POSITIVE',\n 'NEGATIVE',\n 'POSITIVE',\n 'POSITIVE',\n 'POSITIVE',\n 'POSITIVE',\n 'NEGATIVE',\n 'NEGATIVE',\n 'POSITIVE',\n 'POSITIVE',\n 'NEGATIVE',\n 'POSITIVE',\n 'POSITIVE',\n 'POSITIVE',\n 'NEGATIVE',\n 'NEGATIVE',\n 'POSITIVE',\n 'POSITIVE',\n 'POSITIVE',\n 'POSITIVE',\n 'POSITIVE',\n 'NEGATIVE',\n 'POSITIVE',\n 'POSITIVE',\n 'POSITIVE',\n 'NEGATIVE',\n 'NEGATIVE',\n 'NEGATIVE',\n 'POSITIVE',\n 'NEGATIVE',\n 'NEGATIVE',\n 'NEGATIVE',\n 'NEGATIVE',\n 'POSITIVE',\n 'POSITIVE',\n 'NEGATIVE',\n 'POSITIVE',\n 'POSITIVE',\n 'POSITIVE',\n 'NEGATIVE',\n 'NEGATIVE',\n 'NEGATIVE',\n 'POSITIVE',\n 'NEGATIVE',\n 'POSITIVE',\n 'POSITIVE',\n 'POSITIVE',\n 'NEGATIVE',\n 'NEGATIVE',\n 'POSITIVE',\n 'POSITIVE',\n 'NEGATIVE',\n 'NEGATIVE',\n 'POSITIVE',\n 'POSITIVE',\n 'POSITIVE',\n 'NEGATIVE',\n 'NEGATIVE',\n 'POSITIVE',\n 'POSITIVE',\n 'POSITIVE',\n 'NEGATIVE',\n 'NEGATIVE',\n 'POSITIVE',\n 'POSITIVE',\n 'NEGATIVE',\n 'NEGATIVE',\n 'POSITIVE',\n 'POSITIVE',\n 'NEGATIVE',\n 'NEGATIVE',\n 'POSITIVE',\n 'POSITIVE',\n 'POSITIVE',\n 'POSITIVE',\n 'NEGATIVE',\n 'POSITIVE',\n 'NEGATIVE',\n 'POSITIVE',\n 'POSITIVE',\n 'NEGATIVE',\n 'POSITIVE',\n 'NEGATIVE',\n 'POSITIVE',\n 'NEGATIVE',\n 'NEGATIVE',\n 'POSITIVE',\n 'POSITIVE',\n 'POSITIVE',\n 'NEGATIVE',\n 'NEGATIVE',\n 'NEGATIVE',\n 'NEGATIVE',\n 'POSITIVE',\n 'NEGATIVE',\n 'POSITIVE',\n 'POSITIVE',\n 'POSITIVE',\n 'NEGATIVE',\n 'NEGATIVE',\n 'POSITIVE',\n 'NEGATIVE',\n 'POSITIVE',\n 'POSITIVE',\n 'NEGATIVE',\n 'NEGATIVE',\n 'NEGATIVE',\n 'NEGATIVE',\n 'POSITIVE',\n 'POSITIVE',\n 'NEGATIVE',\n 'NEGATIVE',\n 'NEGATIVE',\n 'NEGATIVE',\n 'POSITIVE',\n 'NEGATIVE',\n 'POSITIVE',\n 'POSITIVE',\n 'POSITIVE',\n 'POSITIVE',\n 'POSITIVE',\n 'NEGATIVE',\n 'POSITIVE',\n 'POSITIVE',\n 'NEGATIVE',\n 'NEGATIVE',\n 'NEGATIVE',\n 'NEGATIVE',\n 'NEGATIVE',\n 'POSITIVE',\n 'POSITIVE',\n 'POSITIVE',\n 'NEGATIVE',\n 'NEGATIVE',\n 'NEGATIVE',\n 'NEGATIVE',\n 'POSITIVE',\n 'NEGATIVE',\n 'POSITIVE',\n 'NEGATIVE',\n 'POSITIVE',\n 'NEGATIVE',\n 'POSITIVE',\n 'NEGATIVE',\n 'POSITIVE',\n 'NEGATIVE',\n 'POSITIVE',\n 'NEGATIVE',\n 'POSITIVE',\n 'POSITIVE',\n 'NEGATIVE',\n 'POSITIVE',\n 'NEGATIVE',\n 'NEGATIVE',\n 'NEGATIVE',\n 'POSITIVE',\n 'POSITIVE',\n 'POSITIVE',\n 'NEGATIVE',\n 'NEGATIVE',\n 'POSITIVE',\n 'POSITIVE',\n 'NEGATIVE',\n 'POSITIVE',\n 'NEGATIVE',\n 'POSITIVE',\n 'NEGATIVE',\n 'NEGATIVE',\n 'POSITIVE',\n 'POSITIVE',\n 'POSITIVE',\n 'POSITIVE',\n 'POSITIVE',\n 'NEGATIVE',\n 'NEGATIVE',\n 'NEGATIVE',\n 'NEGATIVE',\n 'POSITIVE',\n 'NEGATIVE',\n 'POSITIVE',\n 'NEGATIVE',\n 'POSITIVE',\n 'POSITIVE',\n 'NEGATIVE',\n 'POSITIVE',\n 'NEGATIVE',\n 'NEGATIVE',\n 'NEGATIVE',\n 'POSITIVE',\n 'NEGATIVE',\n 'NEGATIVE',\n 'POSITIVE',\n 'POSITIVE',\n 'NEGATIVE',\n 'POSITIVE',\n 'NEGATIVE',\n 'NEGATIVE',\n 'NEGATIVE',\n 'POSITIVE',\n 'POSITIVE',\n 'POSITIVE',\n 'NEGATIVE',\n 'POSITIVE',\n 'POSITIVE',\n 'NEGATIVE',\n 'POSITIVE',\n 'NEGATIVE',\n 'NEGATIVE',\n 'NEGATIVE',\n 'POSITIVE',\n 'POSITIVE',\n 'POSITIVE',\n 'POSITIVE',\n 'NEGATIVE',\n 'NEGATIVE',\n 'NEGATIVE',\n 'NEGATIVE',\n 'NEGATIVE',\n 'POSITIVE',\n 'NEGATIVE',\n 'POSITIVE',\n 'NEGATIVE',\n 'POSITIVE',\n 'POSITIVE',\n 'NEGATIVE',\n 'POSITIVE',\n 'NEGATIVE',\n 'POSITIVE',\n 'POSITIVE',\n 'NEGATIVE',\n 'POSITIVE',\n 'NEGATIVE',\n 'NEGATIVE',\n 'POSITIVE',\n 'POSITIVE',\n 'NEGATIVE',\n 'POSITIVE',\n 'POSITIVE',\n 'POSITIVE',\n 'POSITIVE',\n 'POSITIVE',\n 'NEGATIVE',\n 'NEGATIVE',\n 'POSITIVE',\n 'POSITIVE',\n 'POSITIVE',\n 'POSITIVE',\n 'NEGATIVE',\n 'NEGATIVE',\n 'POSITIVE',\n 'POSITIVE',\n 'POSITIVE',\n 'POSITIVE',\n 'POSITIVE',\n 'NEGATIVE',\n 'NEGATIVE',\n 'NEGATIVE',\n 'POSITIVE',\n 'POSITIVE',\n 'NEGATIVE',\n 'NEGATIVE',\n 'POSITIVE',\n 'POSITIVE',\n 'POSITIVE',\n 'POSITIVE',\n 'POSITIVE',\n 'NEGATIVE',\n 'NEGATIVE',\n 'POSITIVE',\n 'POSITIVE',\n 'NEGATIVE',\n 'NEGATIVE',\n 'NEGATIVE',\n 'NEGATIVE',\n 'NEGATIVE',\n 'POSITIVE',\n 'NEGATIVE',\n 'NEGATIVE',\n 'NEGATIVE',\n 'POSITIVE',\n 'NEGATIVE',\n 'POSITIVE',\n 'NEGATIVE',\n 'POSITIVE',\n 'NEGATIVE',\n 'POSITIVE',\n 'POSITIVE',\n 'NEGATIVE',\n 'POSITIVE',\n 'NEGATIVE',\n 'POSITIVE',\n 'NEGATIVE',\n 'POSITIVE',\n 'NEGATIVE',\n 'POSITIVE',\n 'POSITIVE',\n 'POSITIVE',\n 'NEGATIVE',\n 'NEGATIVE',\n 'POSITIVE',\n 'NEGATIVE',\n 'POSITIVE',\n 'POSITIVE',\n 'NEGATIVE',\n 'POSITIVE',\n 'POSITIVE',\n 'POSITIVE',\n 'POSITIVE',\n 'NEGATIVE',\n 'NEGATIVE',\n 'POSITIVE',\n 'POSITIVE',\n 'POSITIVE',\n 'POSITIVE',\n 'NEGATIVE',\n 'POSITIVE',\n 'POSITIVE',\n 'POSITIVE',\n 'POSITIVE',\n 'POSITIVE',\n 'NEGATIVE',\n 'NEGATIVE',\n 'POSITIVE',\n 'NEGATIVE',\n 'NEGATIVE',\n 'POSITIVE',\n 'POSITIVE',\n 'POSITIVE',\n 'NEGATIVE',\n 'POSITIVE',\n 'POSITIVE',\n 'POSITIVE',\n 'NEGATIVE',\n 'POSITIVE',\n 'NEGATIVE',\n 'POSITIVE',\n 'POSITIVE',\n 'NEGATIVE',\n 'POSITIVE',\n 'POSITIVE',\n 'NEGATIVE',\n 'NEGATIVE',\n 'NEGATIVE',\n 'POSITIVE',\n 'NEGATIVE',\n 'NEGATIVE',\n 'NEGATIVE',\n 'POSITIVE',\n 'POSITIVE',\n 'NEGATIVE',\n 'POSITIVE',\n 'POSITIVE',\n 'POSITIVE',\n 'NEGATIVE',\n 'NEGATIVE',\n 'NEGATIVE',\n 'POSITIVE',\n 'NEGATIVE',\n 'POSITIVE',\n 'POSITIVE',\n 'POSITIVE',\n 'NEGATIVE',\n 'NEGATIVE',\n 'POSITIVE',\n 'POSITIVE',\n 'NEGATIVE',\n 'NEGATIVE',\n 'POSITIVE',\n 'POSITIVE',\n 'POSITIVE',\n 'POSITIVE',\n 'NEGATIVE',\n 'POSITIVE',\n 'POSITIVE',\n 'POSITIVE',\n 'NEGATIVE',\n 'NEGATIVE',\n 'POSITIVE',\n 'POSITIVE',\n 'NEGATIVE',\n 'NEGATIVE',\n 'POSITIVE',\n 'POSITIVE',\n 'NEGATIVE',\n 'NEGATIVE',\n 'NEGATIVE',\n 'POSITIVE',\n 'POSITIVE',\n 'POSITIVE',\n 'POSITIVE',\n 'NEGATIVE',\n 'POSITIVE',\n 'NEGATIVE',\n 'POSITIVE',\n 'POSITIVE',\n 'POSITIVE',\n 'NEGATIVE',\n 'POSITIVE',\n 'POSITIVE',\n 'NEGATIVE',\n 'POSITIVE',\n 'POSITIVE',\n 'POSITIVE',\n 'NEGATIVE',\n 'NEGATIVE',\n 'NEGATIVE',\n 'POSITIVE',\n 'NEGATIVE',\n 'POSITIVE',\n 'POSITIVE',\n 'NEGATIVE',\n 'NEGATIVE',\n 'POSITIVE',\n 'POSITIVE',\n 'NEGATIVE',\n 'POSITIVE',\n 'POSITIVE',\n 'NEGATIVE',\n 'NEGATIVE',\n 'POSITIVE',\n 'NEGATIVE',\n 'POSITIVE',\n 'POSITIVE',\n 'POSITIVE',\n 'POSITIVE',\n 'NEGATIVE',\n 'NEGATIVE',\n 'POSITIVE',\n 'NEGATIVE',\n 'POSITIVE',\n 'POSITIVE',\n 'POSITIVE',\n 'POSITIVE',\n 'POSITIVE',\n 'POSITIVE',\n 'POSITIVE',\n 'POSITIVE',\n 'NEGATIVE',\n 'NEGATIVE',\n 'NEGATIVE',\n 'NEGATIVE',\n 'NEGATIVE',\n 'NEGATIVE',\n 'NEGATIVE',\n 'NEGATIVE',\n 'NEGATIVE',\n 'NEGATIVE',\n 'POSITIVE',\n 'NEGATIVE',\n 'POSITIVE',\n 'NEGATIVE',\n 'POSITIVE',\n 'NEGATIVE',\n 'NEGATIVE',\n 'NEGATIVE',\n 'POSITIVE',\n 'NEGATIVE',\n 'POSITIVE',\n 'POSITIVE',\n 'POSITIVE',\n 'POSITIVE',\n 'POSITIVE',\n 'POSITIVE',\n 'NEGATIVE',\n 'POSITIVE',\n 'NEGATIVE',\n 'NEGATIVE',\n 'NEGATIVE',\n 'POSITIVE',\n 'POSITIVE',\n 'POSITIVE',\n 'NEGATIVE',\n 'POSITIVE',\n 'POSITIVE',\n 'NEGATIVE',\n 'POSITIVE',\n 'NEGATIVE',\n 'POSITIVE',\n 'POSITIVE',\n 'NEGATIVE',\n 'POSITIVE',\n 'POSITIVE',\n 'POSITIVE',\n 'POSITIVE',\n 'POSITIVE',\n 'NEGATIVE',\n 'NEGATIVE',\n 'NEGATIVE',\n 'NEGATIVE',\n 'POSITIVE',\n 'NEGATIVE',\n 'POSITIVE',\n 'NEGATIVE',\n 'POSITIVE',\n 'NEGATIVE',\n 'NEGATIVE',\n 'POSITIVE',\n 'NEGATIVE',\n 'NEGATIVE',\n 'NEGATIVE',\n 'POSITIVE',\n 'NEGATIVE',\n 'NEGATIVE',\n 'POSITIVE',\n 'POSITIVE',\n 'NEGATIVE',\n 'NEGATIVE',\n 'NEGATIVE',\n 'NEGATIVE',\n 'NEGATIVE',\n 'POSITIVE',\n 'POSITIVE',\n 'POSITIVE',\n 'NEGATIVE',\n 'NEGATIVE',\n 'NEGATIVE',\n 'NEGATIVE',\n 'NEGATIVE',\n 'NEGATIVE',\n 'NEGATIVE',\n 'POSITIVE',\n 'NEGATIVE',\n 'POSITIVE',\n 'POSITIVE',\n 'POSITIVE',\n 'POSITIVE',\n 'NEGATIVE',\n 'NEGATIVE',\n 'NEGATIVE',\n 'NEGATIVE',\n 'NEGATIVE',\n 'POSITIVE',\n 'NEGATIVE',\n 'NEGATIVE',\n 'POSITIVE',\n 'POSITIVE',\n 'POSITIVE',\n 'NEGATIVE',\n 'POSITIVE',\n 'NEGATIVE',\n 'POSITIVE',\n 'POSITIVE',\n 'NEGATIVE',\n 'POSITIVE',\n 'NEGATIVE',\n 'NEGATIVE',\n 'POSITIVE',\n 'NEGATIVE',\n 'POSITIVE',\n 'POSITIVE',\n 'POSITIVE',\n 'POSITIVE',\n 'POSITIVE',\n 'NEGATIVE',\n 'POSITIVE',\n 'POSITIVE',\n 'NEGATIVE',\n 'POSITIVE',\n 'POSITIVE',\n 'POSITIVE',\n 'NEGATIVE',\n 'POSITIVE',\n 'NEGATIVE',\n 'POSITIVE',\n 'POSITIVE',\n 'POSITIVE',\n 'POSITIVE',\n 'NEGATIVE',\n 'NEGATIVE',\n 'POSITIVE',\n 'POSITIVE',\n 'POSITIVE',\n 'NEGATIVE',\n 'POSITIVE',\n 'POSITIVE',\n 'POSITIVE',\n 'POSITIVE',\n 'POSITIVE',\n 'NEGATIVE',\n 'NEGATIVE',\n 'POSITIVE',\n 'POSITIVE',\n 'NEGATIVE',\n 'NEGATIVE',\n 'NEGATIVE',\n 'NEGATIVE',\n 'NEGATIVE',\n 'POSITIVE',\n 'POSITIVE',\n 'NEGATIVE',\n 'POSITIVE',\n 'POSITIVE',\n 'NEGATIVE',\n 'POSITIVE',\n 'NEGATIVE',\n 'POSITIVE',\n 'NEGATIVE',\n 'POSITIVE',\n 'POSITIVE',\n 'NEGATIVE',\n 'POSITIVE',\n 'NEGATIVE',\n 'POSITIVE',\n 'NEGATIVE',\n 'POSITIVE',\n 'POSITIVE',\n 'POSITIVE',\n 'POSITIVE',\n 'NEGATIVE',\n 'POSITIVE',\n 'POSITIVE',\n 'POSITIVE',\n 'NEGATIVE',\n 'POSITIVE',\n 'POSITIVE',\n 'POSITIVE',\n 'POSITIVE',\n 'POSITIVE',\n 'POSITIVE',\n 'POSITIVE',\n 'NEGATIVE',\n 'NEGATIVE',\n 'NEGATIVE',\n 'NEGATIVE',\n 'POSITIVE',\n 'NEGATIVE',\n 'POSITIVE',\n 'POSITIVE',\n 'NEGATIVE',\n 'POSITIVE',\n 'POSITIVE',\n 'POSITIVE',\n 'POSITIVE',\n 'NEGATIVE',\n 'POSITIVE',\n 'NEGATIVE',\n 'NEGATIVE',\n 'NEGATIVE',\n 'POSITIVE',\n 'POSITIVE',\n 'POSITIVE',\n 'POSITIVE',\n 'NEGATIVE',\n 'NEGATIVE',\n 'NEGATIVE',\n 'POSITIVE',\n 'POSITIVE',\n 'POSITIVE',\n 'POSITIVE',\n 'POSITIVE',\n 'POSITIVE',\n 'POSITIVE',\n 'NEGATIVE',\n 'NEGATIVE',\n 'POSITIVE',\n 'NEGATIVE',\n 'NEGATIVE',\n 'NEGATIVE',\n 'NEGATIVE',\n 'NEGATIVE',\n 'POSITIVE',\n 'POSITIVE',\n 'POSITIVE',\n 'NEGATIVE',\n 'NEGATIVE',\n 'POSITIVE',\n 'NEGATIVE',\n 'POSITIVE',\n 'NEGATIVE',\n 'POSITIVE',\n 'NEGATIVE',\n 'POSITIVE',\n 'NEGATIVE',\n 'POSITIVE',\n 'NEGATIVE',\n 'POSITIVE',\n 'POSITIVE',\n 'POSITIVE',\n 'NEGATIVE',\n 'POSITIVE',\n 'POSITIVE',\n 'NEGATIVE',\n 'POSITIVE',\n 'POSITIVE',\n 'POSITIVE',\n 'NEGATIVE',\n 'POSITIVE',\n 'POSITIVE',\n 'POSITIVE',\n 'NEGATIVE',\n 'NEGATIVE',\n 'POSITIVE',\n 'POSITIVE',\n 'NEGATIVE',\n 'POSITIVE',\n 'NEGATIVE',\n 'POSITIVE',\n 'POSITIVE',\n 'NEGATIVE',\n 'POSITIVE',\n 'NEGATIVE',\n 'POSITIVE',\n 'POSITIVE',\n 'POSITIVE',\n 'POSITIVE',\n 'NEGATIVE',\n 'NEGATIVE',\n 'NEGATIVE',\n 'POSITIVE',\n 'POSITIVE',\n 'POSITIVE',\n 'NEGATIVE',\n 'NEGATIVE',\n 'POSITIVE',\n 'POSITIVE',\n 'NEGATIVE',\n 'NEGATIVE',\n 'POSITIVE',\n 'NEGATIVE',\n 'NEGATIVE',\n 'POSITIVE',\n 'POSITIVE',\n 'NEGATIVE',\n 'POSITIVE',\n 'POSITIVE',\n 'NEGATIVE',\n 'POSITIVE',\n 'POSITIVE',\n 'POSITIVE',\n 'POSITIVE',\n 'NEGATIVE',\n 'NEGATIVE',\n 'POSITIVE',\n 'NEGATIVE',\n 'NEGATIVE',\n 'NEGATIVE',\n 'NEGATIVE',\n 'POSITIVE',\n 'NEGATIVE',\n 'POSITIVE',\n 'POSITIVE',\n 'POSITIVE',\n 'NEGATIVE',\n 'NEGATIVE',\n 'NEGATIVE',\n 'NEGATIVE',\n 'NEGATIVE',\n 'POSITIVE',\n 'NEGATIVE',\n 'POSITIVE',\n 'POSITIVE',\n 'POSITIVE',\n 'POSITIVE',\n 'POSITIVE',\n 'POSITIVE',\n 'POSITIVE',\n 'POSITIVE',\n 'NEGATIVE',\n 'POSITIVE',\n 'NEGATIVE',\n 'NEGATIVE',\n 'POSITIVE',\n 'POSITIVE',\n 'NEGATIVE',\n 'NEGATIVE',\n 'POSITIVE',\n 'POSITIVE',\n 'POSITIVE',\n 'POSITIVE',\n 'NEGATIVE',\n 'NEGATIVE',\n 'POSITIVE',\n 'POSITIVE',\n 'POSITIVE',\n 'POSITIVE',\n 'NEGATIVE',\n 'NEGATIVE',\n 'POSITIVE',\n 'POSITIVE',\n 'POSITIVE',\n 'NEGATIVE',\n 'POSITIVE',\n 'NEGATIVE',\n 'NEGATIVE',\n 'POSITIVE',\n 'POSITIVE',\n 'POSITIVE',\n 'NEGATIVE',\n 'POSITIVE',\n 'POSITIVE',\n 'POSITIVE',\n 'POSITIVE',\n 'POSITIVE',\n 'NEGATIVE',\n 'NEGATIVE',\n 'POSITIVE',\n 'POSITIVE',\n 'NEGATIVE',\n 'NEGATIVE',\n 'NEGATIVE',\n 'NEGATIVE',\n 'NEGATIVE',\n 'NEGATIVE',\n 'POSITIVE',\n 'NEGATIVE',\n 'NEGATIVE',\n 'NEGATIVE',\n 'NEGATIVE',\n 'POSITIVE',\n 'NEGATIVE',\n 'POSITIVE',\n 'NEGATIVE',\n 'POSITIVE',\n 'NEGATIVE',\n 'NEGATIVE',\n 'POSITIVE',\n 'NEGATIVE',\n 'NEGATIVE',\n 'POSITIVE',\n 'NEGATIVE',\n 'POSITIVE',\n 'NEGATIVE',\n 'POSITIVE',\n ...]"
     },
     "execution_count": 17,
     "metadata": {},
     "output_type": "execute_result"
    }
   ],
   "source": [],
   "metadata": {
    "collapsed": false,
    "ExecuteTime": {
     "start_time": "2024-04-29T11:19:02.924410Z",
     "end_time": "2024-04-29T11:19:02.954096Z"
    }
   }
  },
  {
   "cell_type": "code",
   "execution_count": 28,
   "outputs": [],
   "source": [
    "# Create a custom dataset\n",
    "train_dataset = TensorDataset(x_train_tensor, y_train_tensor)"
   ],
   "metadata": {
    "collapsed": false,
    "ExecuteTime": {
     "start_time": "2024-04-24T14:15:06.211090Z",
     "end_time": "2024-04-24T14:15:06.211090Z"
    }
   }
  },
  {
   "cell_type": "code",
   "execution_count": 29,
   "outputs": [],
   "source": [
    "# Define batch size\n",
    "batch_size = 32  # Adjust according to your preference\n",
    "\n",
    "# Create the train loader\n",
    "train_loader = DataLoader(dataset=train_dataset, batch_size=batch_size, shuffle=True)"
   ],
   "metadata": {
    "collapsed": false,
    "ExecuteTime": {
     "start_time": "2024-04-24T14:15:07.516668Z",
     "end_time": "2024-04-24T14:15:07.548513Z"
    }
   }
  },
  {
   "cell_type": "code",
   "execution_count": 32,
   "outputs": [],
   "source": [
    "#classifier\n",
    "import torch\n",
    "import torch.nn as nn\n",
    "import torch.optim as optim"
   ],
   "metadata": {
    "collapsed": false,
    "ExecuteTime": {
     "start_time": "2024-04-24T14:15:22.093565Z",
     "end_time": "2024-04-24T14:15:22.110085Z"
    }
   }
  },
  {
   "cell_type": "code",
   "execution_count": 33,
   "outputs": [],
   "source": [
    "# Device configuration\n",
    "device = torch.device('cuda' if torch.cuda.is_available() else 'cpu')"
   ],
   "metadata": {
    "collapsed": false,
    "ExecuteTime": {
     "start_time": "2024-04-24T14:15:27.431469Z",
     "end_time": "2024-04-24T14:15:27.448171Z"
    }
   }
  },
  {
   "cell_type": "code",
   "execution_count": 34,
   "outputs": [],
   "source": [
    "# Define the BLSTM classifier model\n",
    "class BLSTMClassifier(nn.Module):\n",
    "    def __init__(self, input_size, hidden_size, num_layers, num_classes, dropout=0.2):\n",
    "        super(BLSTMClassifier, self).__init__()\n",
    "        self.hidden_size = hidden_size\n",
    "        self.num_layers = num_layers\n",
    "        self.lstm = nn.LSTM(input_size, hidden_size, num_layers, batch_first=True, bidirectional=True)\n",
    "        self.fc = nn.Linear(hidden_size * 2, num_classes)  # *2 for bidirectional\n",
    "\n",
    "        self.dropout = nn.Dropout(dropout)\n",
    "\n",
    "    def forward(self, x):\n",
    "        h0 = torch.zeros(self.num_layers * 2, x.size(0), self.hidden_size).to(x.device)  # *2 for bidirectional\n",
    "        c0 = torch.zeros(self.num_layers * 2, x.size(0), self.hidden_size).to(x.device)\n",
    "\n",
    "        out, _ = self.lstm(x, (h0, c0))\n",
    "        out = self.dropout(out)\n",
    "        out = self.fc(out[:, -1, :])\n",
    "        return out"
   ],
   "metadata": {
    "collapsed": false,
    "ExecuteTime": {
     "start_time": "2024-04-24T14:15:32.598461Z",
     "end_time": "2024-04-24T14:15:32.629258Z"
    }
   }
  },
  {
   "cell_type": "code",
   "execution_count": 36,
   "outputs": [],
   "source": [
    "# Define model parameters\n",
    "input_size = 840\n",
    "hidden_size = 64\n",
    "num_layers = 2\n",
    "num_classes = 2"
   ],
   "metadata": {
    "collapsed": false,
    "ExecuteTime": {
     "start_time": "2024-04-24T14:16:08.882880Z",
     "end_time": "2024-04-24T14:16:08.900016Z"
    }
   }
  },
  {
   "cell_type": "code",
   "execution_count": 43,
   "outputs": [],
   "source": [
    "\n",
    "# Instantiate the model\n",
    "model = BLSTMClassifier(input_size, hidden_size, num_layers, num_classes)\n",
    "model.to(device)\n",
    "# Define loss function and optimizer\n",
    "criterion = nn.CrossEntropyLoss()\n",
    "optimizer = optim.Adam(model.parameters(), lr=0.001)"
   ],
   "metadata": {
    "collapsed": false,
    "ExecuteTime": {
     "start_time": "2024-04-24T14:17:39.632050Z",
     "end_time": "2024-04-24T14:17:39.663498Z"
    }
   }
  },
  {
   "cell_type": "code",
   "execution_count": 44,
   "outputs": [],
   "source": [
    "num_epochs = 10"
   ],
   "metadata": {
    "collapsed": false,
    "ExecuteTime": {
     "start_time": "2024-04-24T14:17:39.794125Z",
     "end_time": "2024-04-24T14:17:39.810151Z"
    }
   }
  },
  {
   "cell_type": "code",
   "execution_count": 45,
   "outputs": [
    {
     "name": "stdout",
     "output_type": "stream",
     "text": [
      "Epoch [1/10], Loss: 0.6937\n"
     ]
    },
    {
     "ename": "KeyboardInterrupt",
     "evalue": "",
     "output_type": "error",
     "traceback": [
      "\u001B[1;31m---------------------------------------------------------------------------\u001B[0m",
      "\u001B[1;31mKeyboardInterrupt\u001B[0m                         Traceback (most recent call last)",
      "Cell \u001B[1;32mIn[45], line 17\u001B[0m\n\u001B[0;32m     14\u001B[0m _, predicted \u001B[38;5;241m=\u001B[39m torch\u001B[38;5;241m.\u001B[39mmax(outputs, \u001B[38;5;241m1\u001B[39m)\n\u001B[0;32m     16\u001B[0m loss \u001B[38;5;241m=\u001B[39m criterion(outputs, batch_y\u001B[38;5;241m.\u001B[39msqueeze())  \u001B[38;5;66;03m# Ensure target tensor is Long type\u001B[39;00m\n\u001B[1;32m---> 17\u001B[0m \u001B[43mloss\u001B[49m\u001B[38;5;241;43m.\u001B[39;49m\u001B[43mbackward\u001B[49m\u001B[43m(\u001B[49m\u001B[43m)\u001B[49m\n\u001B[0;32m     18\u001B[0m optimizer\u001B[38;5;241m.\u001B[39mstep()\n\u001B[0;32m     20\u001B[0m total_loss \u001B[38;5;241m+\u001B[39m\u001B[38;5;241m=\u001B[39m loss\u001B[38;5;241m.\u001B[39mitem()\n",
      "File \u001B[1;32m~\\Anaconda3\\lib\\site-packages\\torch\\_tensor.py:487\u001B[0m, in \u001B[0;36mTensor.backward\u001B[1;34m(self, gradient, retain_graph, create_graph, inputs)\u001B[0m\n\u001B[0;32m    477\u001B[0m \u001B[38;5;28;01mif\u001B[39;00m has_torch_function_unary(\u001B[38;5;28mself\u001B[39m):\n\u001B[0;32m    478\u001B[0m     \u001B[38;5;28;01mreturn\u001B[39;00m handle_torch_function(\n\u001B[0;32m    479\u001B[0m         Tensor\u001B[38;5;241m.\u001B[39mbackward,\n\u001B[0;32m    480\u001B[0m         (\u001B[38;5;28mself\u001B[39m,),\n\u001B[1;32m   (...)\u001B[0m\n\u001B[0;32m    485\u001B[0m         inputs\u001B[38;5;241m=\u001B[39minputs,\n\u001B[0;32m    486\u001B[0m     )\n\u001B[1;32m--> 487\u001B[0m \u001B[43mtorch\u001B[49m\u001B[38;5;241;43m.\u001B[39;49m\u001B[43mautograd\u001B[49m\u001B[38;5;241;43m.\u001B[39;49m\u001B[43mbackward\u001B[49m\u001B[43m(\u001B[49m\n\u001B[0;32m    488\u001B[0m \u001B[43m    \u001B[49m\u001B[38;5;28;43mself\u001B[39;49m\u001B[43m,\u001B[49m\u001B[43m \u001B[49m\u001B[43mgradient\u001B[49m\u001B[43m,\u001B[49m\u001B[43m \u001B[49m\u001B[43mretain_graph\u001B[49m\u001B[43m,\u001B[49m\u001B[43m \u001B[49m\u001B[43mcreate_graph\u001B[49m\u001B[43m,\u001B[49m\u001B[43m \u001B[49m\u001B[43minputs\u001B[49m\u001B[38;5;241;43m=\u001B[39;49m\u001B[43minputs\u001B[49m\n\u001B[0;32m    489\u001B[0m \u001B[43m\u001B[49m\u001B[43m)\u001B[49m\n",
      "File \u001B[1;32m~\\Anaconda3\\lib\\site-packages\\torch\\autograd\\__init__.py:200\u001B[0m, in \u001B[0;36mbackward\u001B[1;34m(tensors, grad_tensors, retain_graph, create_graph, grad_variables, inputs)\u001B[0m\n\u001B[0;32m    195\u001B[0m     retain_graph \u001B[38;5;241m=\u001B[39m create_graph\n\u001B[0;32m    197\u001B[0m \u001B[38;5;66;03m# The reason we repeat same the comment below is that\u001B[39;00m\n\u001B[0;32m    198\u001B[0m \u001B[38;5;66;03m# some Python versions print out the first line of a multi-line function\u001B[39;00m\n\u001B[0;32m    199\u001B[0m \u001B[38;5;66;03m# calls in the traceback and some print out the last line\u001B[39;00m\n\u001B[1;32m--> 200\u001B[0m \u001B[43mVariable\u001B[49m\u001B[38;5;241;43m.\u001B[39;49m\u001B[43m_execution_engine\u001B[49m\u001B[38;5;241;43m.\u001B[39;49m\u001B[43mrun_backward\u001B[49m\u001B[43m(\u001B[49m\u001B[43m  \u001B[49m\u001B[38;5;66;43;03m# Calls into the C++ engine to run the backward pass\u001B[39;49;00m\n\u001B[0;32m    201\u001B[0m \u001B[43m    \u001B[49m\u001B[43mtensors\u001B[49m\u001B[43m,\u001B[49m\u001B[43m \u001B[49m\u001B[43mgrad_tensors_\u001B[49m\u001B[43m,\u001B[49m\u001B[43m \u001B[49m\u001B[43mretain_graph\u001B[49m\u001B[43m,\u001B[49m\u001B[43m \u001B[49m\u001B[43mcreate_graph\u001B[49m\u001B[43m,\u001B[49m\u001B[43m \u001B[49m\u001B[43minputs\u001B[49m\u001B[43m,\u001B[49m\n\u001B[0;32m    202\u001B[0m \u001B[43m    \u001B[49m\u001B[43mallow_unreachable\u001B[49m\u001B[38;5;241;43m=\u001B[39;49m\u001B[38;5;28;43;01mTrue\u001B[39;49;00m\u001B[43m,\u001B[49m\u001B[43m \u001B[49m\u001B[43maccumulate_grad\u001B[49m\u001B[38;5;241;43m=\u001B[39;49m\u001B[38;5;28;43;01mTrue\u001B[39;49;00m\u001B[43m)\u001B[49m\n",
      "\u001B[1;31mKeyboardInterrupt\u001B[0m: "
     ]
    }
   ],
   "source": [
    "for epoch in range(num_epochs):\n",
    "    model.train()\n",
    "    total_loss = 0\n",
    "\n",
    "    for batch_x, batch_y in train_loader:\n",
    "        batch_x, batch_y = batch_x.to(device), batch_y.to(device)\n",
    "\n",
    "        optimizer.zero_grad()\n",
    "        outputs = model(batch_x)\n",
    "\n",
    "        # Convert class probabilities to class indices\n",
    "        _, predicted = torch.max(outputs, 1)\n",
    "\n",
    "        loss = criterion(outputs, batch_y.squeeze())  # Ensure target tensor is Long type\n",
    "        loss.backward()\n",
    "        optimizer.step()\n",
    "\n",
    "        total_loss += loss.item()\n",
    "\n",
    "    avg_loss = total_loss / len(train_loader)\n",
    "    print(f'Epoch [{epoch+1}/{num_epochs}], Loss: {avg_loss:.4f}')\n"
   ],
   "metadata": {
    "collapsed": false
   }
  },
  {
   "cell_type": "code",
   "execution_count": null,
   "outputs": [],
   "source": [],
   "metadata": {
    "collapsed": false
   }
  }
 ],
 "metadata": {
  "kernelspec": {
   "display_name": "Python 3",
   "language": "python",
   "name": "python3"
  },
  "language_info": {
   "codemirror_mode": {
    "name": "ipython",
    "version": 2
   },
   "file_extension": ".py",
   "mimetype": "text/x-python",
   "name": "python",
   "nbconvert_exporter": "python",
   "pygments_lexer": "ipython2",
   "version": "2.7.6"
  }
 },
 "nbformat": 4,
 "nbformat_minor": 0
}
