{
 "cells": [
  {
   "cell_type": "code",
   "execution_count": 19,
   "metadata": {
    "collapsed": true,
    "ExecuteTime": {
     "start_time": "2024-04-29T11:19:26.769660Z",
     "end_time": "2024-04-29T11:19:26.791554Z"
    }
   },
   "outputs": [],
   "source": [
    "import pickle\n",
    "import re\n",
    "import random\n",
    "import numpy as np\n",
    "from keras.utils import to_categorical\n",
    "from sklearn.preprocessing import LabelEncoder\n",
    "import torch\n",
    "from torch.utils.data import DataLoader, TensorDataset"
   ]
  },
  {
   "cell_type": "code",
   "execution_count": 20,
   "outputs": [],
   "source": [
    "def read_EEG_embeddings_labels(path):\n",
    "    with open(path, 'rb') as file:\n",
    "        EEG_word_level_embeddings = pickle.load(file)\n",
    "        EEG_word_level_labels = pickle.load(file)\n",
    "    return EEG_word_level_embeddings, EEG_word_level_labels"
   ],
   "metadata": {
    "collapsed": false,
    "ExecuteTime": {
     "start_time": "2024-04-29T11:19:26.968998Z",
     "end_time": "2024-04-29T11:19:26.984931Z"
    }
   }
  },
  {
   "cell_type": "code",
   "execution_count": 21,
   "outputs": [],
   "source": [
    "def encode_labels(y):\n",
    "    label_encoder = LabelEncoder()\n",
    "    encoded_labels = label_encoder.fit_transform(y)\n",
    "\n",
    "    y_categorical = to_categorical(encoded_labels)\n",
    "\n",
    "    return y_categorical"
   ],
   "metadata": {
    "collapsed": false,
    "ExecuteTime": {
     "start_time": "2024-04-29T11:19:27.292707Z",
     "end_time": "2024-04-29T11:19:27.317821Z"
    }
   }
  },
  {
   "cell_type": "code",
   "execution_count": 22,
   "outputs": [],
   "source": [
    "def get_sentences_EEG(labels, EEG_embeddings):\n",
    "    Sentences = []\n",
    "    current_sentence = []\n",
    "\n",
    "    EEG_Sentencs = []\n",
    "    EEG_index = 0\n",
    "    for i in range(len(labels)):\n",
    "        # Check if the word marks the start of a new sentence\n",
    "        word = labels[i]\n",
    "        if word == \"SOS\":\n",
    "            # If it does, append the current sentence to the list of sentences\n",
    "            if len(current_sentence) > 0:\n",
    "                Sentences.append(current_sentence)\n",
    "                sentence_length = len(current_sentence)\n",
    "                #print(EEG_index)\n",
    "                #print(sentence_length)\n",
    "                EEG_segment = EEG_embeddings[EEG_index:EEG_index+sentence_length]\n",
    "                EEG_index += sentence_length\n",
    "                EEG_Sentencs.append(EEG_segment)\n",
    "\n",
    "                # Start a new sentence\n",
    "                current_sentence = []\n",
    "        else:\n",
    "            # Add the word to the current sentence\n",
    "            current_sentence.append(word)\n",
    "\n",
    "    return Sentences, EEG_Sentencs"
   ],
   "metadata": {
    "collapsed": false,
    "ExecuteTime": {
     "start_time": "2024-04-29T11:19:27.548913Z",
     "end_time": "2024-04-29T11:19:27.564987Z"
    }
   }
  },
  {
   "cell_type": "code",
   "execution_count": 23,
   "outputs": [],
   "source": [
    "def pad_sentences(EEG_embeddings, max_length):\n",
    "    # Pad the sentences to the maximum length\n",
    "    padded_EEG_sentences = []\n",
    "    for index in range(len(EEG_embeddings)):\n",
    "        sentence = EEG_embeddings[index]\n",
    "        sentence_length = len(sentence)\n",
    "        if sentence_length < max_length:\n",
    "            padding_length = max_length - sentence_length\n",
    "            for _ in range(padding_length):\n",
    "                sentence.append(np.zeros((105,8)))\n",
    "        padded_EEG_sentences.append(sentence)\n",
    "    return padded_EEG_sentences"
   ],
   "metadata": {
    "collapsed": false,
    "ExecuteTime": {
     "start_time": "2024-04-29T11:19:27.893891Z",
     "end_time": "2024-04-29T11:19:27.918843Z"
    }
   }
  },
  {
   "cell_type": "code",
   "execution_count": 24,
   "outputs": [],
   "source": [
    "def reshape_data(X):\n",
    "    #reshape the data to 840\n",
    "    new_list = []\n",
    "    for i in range(len(X)):\n",
    "        array_list = X[i]\n",
    "        arrays_list_reshaped = [arr.reshape(-1) for arr in array_list]\n",
    "        new_list.append(arrays_list_reshaped)\n",
    "\n",
    "    new_list = np.array(new_list)\n",
    "    return new_list"
   ],
   "metadata": {
    "collapsed": false,
    "ExecuteTime": {
     "start_time": "2024-04-29T11:19:28.190211Z",
     "end_time": "2024-04-29T11:19:28.261184Z"
    }
   }
  },
  {
   "cell_type": "code",
   "execution_count": 25,
   "outputs": [],
   "source": [
    "train_path = r\"C:\\Users\\gxb18167\\PycharmProjects\\EEG-To-Text\\SIGIR_Development\\EEG-GAN\\EEG_Text_Pairs_Sentence.pkl\"\n",
    "test_path = r\"C:\\Users\\gxb18167\\PycharmProjects\\EEG-To-Text\\SIGIR_Development\\EEG-GAN\\Test_EEG_Text_Pairs_Sentence.pkl\"\n",
    "\n",
    "\n"
   ],
   "metadata": {
    "collapsed": false,
    "ExecuteTime": {
     "start_time": "2024-04-29T11:19:28.542372Z",
     "end_time": "2024-04-29T11:19:28.582626Z"
    }
   }
  },
  {
   "cell_type": "code",
   "execution_count": 26,
   "outputs": [],
   "source": [
    "EEG_word_level_embeddings, EEG_word_level_labels = read_EEG_embeddings_labels(train_path)\n",
    "Test_EEG_word_level_embeddings, Test_EEG_word_level_labels = read_EEG_embeddings_labels(test_path)\n",
    "\n",
    "EEG_word_level_sentences, EEG_sentence_embeddings = get_sentences_EEG(EEG_word_level_labels, EEG_word_level_embeddings)\n",
    "Test_EEG_word_level_sentences, Test_EEG_sentence_embeddings = get_sentences_EEG(Test_EEG_word_level_labels, Test_EEG_word_level_embeddings)\n",
    "\n"
   ],
   "metadata": {
    "collapsed": false,
    "ExecuteTime": {
     "start_time": "2024-04-29T11:19:29.030990Z",
     "end_time": "2024-04-29T11:19:32.874488Z"
    }
   }
  },
  {
   "cell_type": "code",
   "execution_count": 27,
   "outputs": [],
   "source": [
    "#label_path = \"insert here\"\n",
    "#train_labels, test_labels = read_EEG_embeddings_labels(label_path)"
   ],
   "metadata": {
    "collapsed": false,
    "ExecuteTime": {
     "start_time": "2024-04-29T11:19:32.874488Z",
     "end_time": "2024-04-29T11:19:32.894375Z"
    }
   }
  },
  {
   "cell_type": "code",
   "execution_count": 28,
   "outputs": [],
   "source": [
    "fake_train_labels = [random.choice([0, 1]) for _ in range(len(EEG_word_level_sentences))]\n",
    "fake_test_labels = [random.choice([0, 1]) for _ in range(len(Test_EEG_word_level_sentences))]"
   ],
   "metadata": {
    "collapsed": false,
    "ExecuteTime": {
     "start_time": "2024-04-29T11:19:35.229877Z",
     "end_time": "2024-04-29T11:19:35.254751Z"
    }
   }
  },
  {
   "cell_type": "code",
   "execution_count": 29,
   "outputs": [],
   "source": [
    "max_length = max([len(sentence) for sentence in EEG_word_level_sentences])"
   ],
   "metadata": {
    "collapsed": false,
    "ExecuteTime": {
     "start_time": "2024-04-29T11:19:35.709183Z",
     "end_time": "2024-04-29T11:19:35.756722Z"
    }
   }
  },
  {
   "cell_type": "code",
   "execution_count": 30,
   "outputs": [],
   "source": [
    "X_train = pad_sentences(EEG_sentence_embeddings, max_length)\n",
    "X_train = reshape_data(X_train)\n",
    "\n",
    "X_test = pad_sentences(Test_EEG_sentence_embeddings, max_length)\n",
    "X_test = reshape_data(X_test)\n",
    "\n",
    "train_labels = encode_labels(fake_train_labels)\n",
    "test_labels = encode_labels(fake_test_labels)"
   ],
   "metadata": {
    "collapsed": false,
    "ExecuteTime": {
     "start_time": "2024-04-29T11:19:36.272534Z",
     "end_time": "2024-04-29T11:19:36.351197Z"
    }
   }
  },
  {
   "cell_type": "code",
   "execution_count": 31,
   "outputs": [],
   "source": [
    "x_train_tensor = torch.tensor(X_train, dtype=torch.float32)\n",
    "y_train_tensor = torch.tensor(train_labels, dtype=torch.float32)\n"
   ],
   "metadata": {
    "collapsed": false,
    "ExecuteTime": {
     "start_time": "2024-04-29T11:19:37.040490Z",
     "end_time": "2024-04-29T11:20:12.327777Z"
    }
   }
  },
  {
   "cell_type": "code",
   "execution_count": 34,
   "outputs": [],
   "source": [],
   "metadata": {
    "collapsed": false,
    "ExecuteTime": {
     "start_time": "2024-04-29T11:20:33.559644Z",
     "end_time": "2024-04-29T11:20:33.605454Z"
    }
   }
  },
  {
   "cell_type": "code",
   "execution_count": 36,
   "outputs": [],
   "source": [
    "# Create a custom dataset\n",
    "train_dataset = TensorDataset(x_train_tensor, y_train_tensor)"
   ],
   "metadata": {
    "collapsed": false,
    "ExecuteTime": {
     "start_time": "2024-04-29T11:22:33.452578Z",
     "end_time": "2024-04-29T11:22:37.352577Z"
    }
   }
  },
  {
   "cell_type": "code",
   "execution_count": 36,
   "outputs": [],
   "source": [
    "# Define batch size\n",
    "batch_size = 32  # Adjust according to your preference\n",
    "\n",
    "# Create the train loader\n",
    "train_loader = DataLoader(dataset=train_dataset, batch_size=batch_size, shuffle=True)"
   ],
   "metadata": {
    "collapsed": false,
    "ExecuteTime": {
     "start_time": "2024-04-29T11:22:43.606172Z",
     "end_time": "2024-04-29T11:22:43.627823Z"
    }
   }
  },
  {
   "cell_type": "code",
   "execution_count": 37,
   "outputs": [],
   "source": [
    "#classifier\n",
    "import torch\n",
    "import torch.nn as nn\n",
    "import torch.optim as optim"
   ],
   "metadata": {
    "collapsed": false,
    "ExecuteTime": {
     "start_time": "2024-04-29T11:22:43.919417Z",
     "end_time": "2024-04-29T11:22:43.978440Z"
    }
   }
  },
  {
   "cell_type": "code",
   "execution_count": 38,
   "outputs": [],
   "source": [
    "# Device configuration\n",
    "device = torch.device('cuda' if torch.cuda.is_available() else 'cpu')"
   ],
   "metadata": {
    "collapsed": false,
    "ExecuteTime": {
     "start_time": "2024-04-29T11:22:44.373110Z",
     "end_time": "2024-04-29T11:22:44.436175Z"
    }
   }
  },
  {
   "cell_type": "code",
   "execution_count": 39,
   "outputs": [],
   "source": [
    "# Define the BLSTM classifier model\n",
    "class BLSTMClassifier(nn.Module):\n",
    "    def __init__(self, input_size, hidden_size, num_layers, num_classes, dropout=0.2):\n",
    "        super(BLSTMClassifier, self).__init__()\n",
    "        self.hidden_size = hidden_size\n",
    "        self.num_layers = num_layers\n",
    "        self.lstm = nn.LSTM(input_size, hidden_size, num_layers, batch_first=True, bidirectional=True)\n",
    "        self.fc = nn.Linear(hidden_size * 2, num_classes)  # *2 for bidirectional\n",
    "\n",
    "        self.dropout = nn.Dropout(dropout)\n",
    "\n",
    "    def forward(self, x):\n",
    "        h0 = torch.zeros(self.num_layers * 2, x.size(0), self.hidden_size).to(x.device)  # *2 for bidirectional\n",
    "        c0 = torch.zeros(self.num_layers * 2, x.size(0), self.hidden_size).to(x.device)\n",
    "\n",
    "        out, _ = self.lstm(x, (h0, c0))\n",
    "        out = self.dropout(out)\n",
    "        out = self.fc(out[:, -1, :])\n",
    "        return out"
   ],
   "metadata": {
    "collapsed": false,
    "ExecuteTime": {
     "start_time": "2024-04-29T11:22:44.991104Z",
     "end_time": "2024-04-29T11:22:45.022123Z"
    }
   }
  },
  {
   "cell_type": "code",
   "execution_count": 40,
   "outputs": [],
   "source": [
    "# Define model parameters\n",
    "input_size = 840\n",
    "hidden_size = 64\n",
    "num_layers = 2\n",
    "num_classes = 2"
   ],
   "metadata": {
    "collapsed": false,
    "ExecuteTime": {
     "start_time": "2024-04-29T11:22:45.315333Z",
     "end_time": "2024-04-29T11:22:45.334853Z"
    }
   }
  },
  {
   "cell_type": "code",
   "execution_count": 41,
   "outputs": [],
   "source": [
    "\n",
    "# Instantiate the model\n",
    "model = BLSTMClassifier(input_size, hidden_size, num_layers, num_classes)\n",
    "model.to(device)\n",
    "# Define loss function and optimizer\n",
    "criterion = nn.CrossEntropyLoss()\n",
    "optimizer = optim.Adam(model.parameters(), lr=0.001)"
   ],
   "metadata": {
    "collapsed": false,
    "ExecuteTime": {
     "start_time": "2024-04-29T11:22:45.764305Z",
     "end_time": "2024-04-29T11:22:45.842715Z"
    }
   }
  },
  {
   "cell_type": "code",
   "execution_count": 42,
   "outputs": [],
   "source": [
    "num_epochs = 10"
   ],
   "metadata": {
    "collapsed": false,
    "ExecuteTime": {
     "start_time": "2024-04-29T11:22:46.387030Z",
     "end_time": "2024-04-29T11:22:46.408818Z"
    }
   }
  },
  {
   "cell_type": "code",
   "execution_count": 43,
   "outputs": [],
   "source": [
    "for epoch in range(num_epochs):\n",
    "    model.train()\n",
    "    total_loss = 0\n",
    "\n",
    "    for batch_x, batch_y in train_loader:\n",
    "        batch_x, batch_y = batch_x.to(device), batch_y.to(device)\n",
    "\n",
    "        optimizer.zero_grad()\n",
    "        outputs = model(batch_x)\n",
    "\n",
    "        # Convert class probabilities to class indices\n",
    "        _, predicted = torch.max(outputs, 1)\n",
    "\n",
    "        loss = criterion(outputs, batch_y.squeeze())  # Ensure target tensor is Long type\n",
    "        loss.backward()\n",
    "        optimizer.step()\n",
    "\n",
    "        total_loss += loss.item()\n",
    "\n",
    "    avg_loss = total_loss / len(train_loader)\n",
    "    print(f'Epoch [{epoch+1}/{num_epochs}], Loss: {avg_loss:.4f}')\n"
   ],
   "metadata": {
    "collapsed": false,
    "ExecuteTime": {
     "start_time": "2024-04-29T11:22:47.220823Z",
     "end_time": "2024-04-29T11:22:47.300790Z"
    }
   }
  },
  {
   "cell_type": "code",
   "execution_count": 44,
   "outputs": [],
   "source": [],
   "metadata": {
    "collapsed": false,
    "ExecuteTime": {
     "start_time": "2024-04-29T11:22:48.181891Z",
     "end_time": "2024-04-29T11:22:48.201974Z"
    }
   }
  }
 ],
 "metadata": {
  "kernelspec": {
   "display_name": "Python 3",
   "language": "python",
   "name": "python3"
  },
  "language_info": {
   "codemirror_mode": {
    "name": "ipython",
    "version": 2
   },
   "file_extension": ".py",
   "mimetype": "text/x-python",
   "name": "python",
   "nbconvert_exporter": "python",
   "pygments_lexer": "ipython2",
   "version": "2.7.6"
  }
 },
 "nbformat": 4,
 "nbformat_minor": 0
}
