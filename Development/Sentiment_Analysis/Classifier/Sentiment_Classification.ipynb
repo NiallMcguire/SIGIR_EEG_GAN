{
 "cells": [
  {
   "cell_type": "code",
   "execution_count": 9,
   "metadata": {
    "collapsed": true,
    "ExecuteTime": {
     "start_time": "2024-04-24T13:20:27.949938Z",
     "end_time": "2024-04-24T13:20:35.371062Z"
    }
   },
   "outputs": [],
   "source": [
    "import pickle\n",
    "import re\n",
    "import random\n",
    "import numpy as np\n",
    "from keras.utils import to_categorical\n",
    "from sklearn.preprocessing import LabelEncoder\n",
    "import torch\n",
    "from torch.utils.data import DataLoader, TensorDataset"
   ]
  },
  {
   "cell_type": "code",
   "execution_count": 10,
   "outputs": [],
   "source": [
    "def read_EEG_embeddings_labels(path):\n",
    "    with open(path, 'rb') as file:\n",
    "        EEG_word_level_embeddings = pickle.load(file)\n",
    "        EEG_word_level_labels = pickle.load(file)\n",
    "    return EEG_word_level_embeddings, EEG_word_level_labels"
   ],
   "metadata": {
    "collapsed": false,
    "ExecuteTime": {
     "start_time": "2024-04-24T13:20:35.371062Z",
     "end_time": "2024-04-24T13:20:35.387455Z"
    }
   }
  },
  {
   "cell_type": "code",
   "execution_count": 11,
   "outputs": [],
   "source": [
    "def encode_labels(y):\n",
    "    label_encoder = LabelEncoder()\n",
    "    encoded_labels = label_encoder.fit_transform(y)\n",
    "\n",
    "    y_categorical = to_categorical(encoded_labels)\n",
    "\n",
    "    return y_categorical"
   ],
   "metadata": {
    "collapsed": false,
    "ExecuteTime": {
     "start_time": "2024-04-24T13:20:35.387455Z",
     "end_time": "2024-04-24T13:20:35.405470Z"
    }
   }
  },
  {
   "cell_type": "code",
   "execution_count": 12,
   "outputs": [],
   "source": [
    "def get_sentences_EEG(labels, EEG_embeddings):\n",
    "    Sentences = []\n",
    "    current_sentence = []\n",
    "\n",
    "    EEG_Sentencs = []\n",
    "    EEG_index = 0\n",
    "    for i in range(len(labels)):\n",
    "        # Check if the word marks the start of a new sentence\n",
    "        word = labels[i]\n",
    "        if word == \"SOS\":\n",
    "            # If it does, append the current sentence to the list of sentences\n",
    "            if len(current_sentence) > 0:\n",
    "                Sentences.append(current_sentence)\n",
    "                sentence_length = len(current_sentence)\n",
    "                #print(EEG_index)\n",
    "                #print(sentence_length)\n",
    "                EEG_segment = EEG_embeddings[EEG_index:EEG_index+sentence_length]\n",
    "                EEG_index += sentence_length\n",
    "                EEG_Sentencs.append(EEG_segment)\n",
    "\n",
    "                # Start a new sentence\n",
    "                current_sentence = []\n",
    "        else:\n",
    "            # Add the word to the current sentence\n",
    "            current_sentence.append(word)\n",
    "\n",
    "    return Sentences, EEG_Sentencs"
   ],
   "metadata": {
    "collapsed": false,
    "ExecuteTime": {
     "start_time": "2024-04-24T13:20:35.405470Z",
     "end_time": "2024-04-24T13:20:35.418481Z"
    }
   }
  },
  {
   "cell_type": "code",
   "execution_count": 13,
   "outputs": [],
   "source": [
    "def pad_sentences(EEG_embeddings, max_length):\n",
    "    # Pad the sentences to the maximum length\n",
    "    padded_EEG_sentences = []\n",
    "    for index in range(len(EEG_embeddings)):\n",
    "        sentence = EEG_embeddings[index]\n",
    "        sentence_length = len(sentence)\n",
    "        if sentence_length < max_length:\n",
    "            padding_length = max_length - sentence_length\n",
    "            for _ in range(padding_length):\n",
    "                sentence.append(np.zeros((105,8)))\n",
    "        padded_EEG_sentences.append(sentence)\n",
    "    return padded_EEG_sentences"
   ],
   "metadata": {
    "collapsed": false,
    "ExecuteTime": {
     "start_time": "2024-04-24T13:20:35.427539Z",
     "end_time": "2024-04-24T13:20:35.434702Z"
    }
   }
  },
  {
   "cell_type": "code",
   "execution_count": 14,
   "outputs": [],
   "source": [
    "def reshape_data(X):\n",
    "    #reshape the data to 840\n",
    "    new_list = []\n",
    "    for i in range(len(X)):\n",
    "        array_list = X[i]\n",
    "        arrays_list_reshaped = [arr.reshape(-1) for arr in array_list]\n",
    "        new_list.append(arrays_list_reshaped)\n",
    "\n",
    "    new_list = np.array(new_list)\n",
    "    return new_list"
   ],
   "metadata": {
    "collapsed": false,
    "ExecuteTime": {
     "start_time": "2024-04-24T13:20:35.434702Z",
     "end_time": "2024-04-24T13:20:35.450340Z"
    }
   }
  },
  {
   "cell_type": "code",
   "execution_count": 15,
   "outputs": [],
   "source": [
    "train_path = r\"C:\\Users\\gxb18167\\PycharmProjects\\EEG-To-Text\\SIGIR_Development\\EEG-GAN\\EEG_Text_Pairs_Sentence.pkl\"\n",
    "test_path = r\"C:\\Users\\gxb18167\\PycharmProjects\\EEG-To-Text\\SIGIR_Development\\EEG-GAN\\Test_EEG_Text_Pairs_Sentence.pkl\"\n",
    "\n",
    "\n"
   ],
   "metadata": {
    "collapsed": false,
    "ExecuteTime": {
     "start_time": "2024-04-24T13:20:35.450340Z",
     "end_time": "2024-04-24T13:20:35.465991Z"
    }
   }
  },
  {
   "cell_type": "code",
   "execution_count": 16,
   "outputs": [],
   "source": [
    "EEG_word_level_embeddings, EEG_word_level_labels = read_EEG_embeddings_labels(train_path)\n",
    "Test_EEG_word_level_embeddings, Test_EEG_word_level_labels = read_EEG_embeddings_labels(test_path)\n",
    "\n",
    "EEG_word_level_sentences, EEG_sentence_embeddings = get_sentences_EEG(EEG_word_level_labels, EEG_word_level_embeddings)\n",
    "Test_EEG_word_level_sentences, Test_EEG_sentence_embeddings = get_sentences_EEG(Test_EEG_word_level_labels, Test_EEG_word_level_embeddings)\n",
    "\n"
   ],
   "metadata": {
    "collapsed": false,
    "ExecuteTime": {
     "start_time": "2024-04-24T13:20:35.465991Z",
     "end_time": "2024-04-24T13:20:36.628503Z"
    }
   }
  },
  {
   "cell_type": "code",
   "execution_count": 17,
   "outputs": [],
   "source": [
    "#label_path = \"insert here\"\n",
    "#train_labels, test_labels = read_EEG_embeddings_labels(label_path)"
   ],
   "metadata": {
    "collapsed": false,
    "ExecuteTime": {
     "start_time": "2024-04-24T13:20:36.628503Z",
     "end_time": "2024-04-24T13:20:36.641594Z"
    }
   }
  },
  {
   "cell_type": "code",
   "execution_count": 18,
   "outputs": [],
   "source": [
    "fake_train_labels = [random.choice([0, 1]) for _ in range(len(EEG_word_level_sentences))]\n",
    "fake_test_labels = [random.choice([0, 1]) for _ in range(len(Test_EEG_word_level_sentences))]"
   ],
   "metadata": {
    "collapsed": false,
    "ExecuteTime": {
     "start_time": "2024-04-24T13:20:36.641594Z",
     "end_time": "2024-04-24T13:20:36.674120Z"
    }
   }
  },
  {
   "cell_type": "code",
   "execution_count": 19,
   "outputs": [],
   "source": [
    "max_length = max([len(sentence) for sentence in EEG_word_level_sentences])"
   ],
   "metadata": {
    "collapsed": false,
    "ExecuteTime": {
     "start_time": "2024-04-24T13:20:36.674120Z",
     "end_time": "2024-04-24T13:20:36.689131Z"
    }
   }
  },
  {
   "cell_type": "code",
   "execution_count": 20,
   "outputs": [],
   "source": [
    "X_train = pad_sentences(EEG_sentence_embeddings, max_length)\n",
    "X_train = reshape_data(X_train)\n",
    "\n",
    "X_test = pad_sentences(Test_EEG_sentence_embeddings, max_length)\n",
    "X_test = reshape_data(X_test)\n",
    "\n",
    "train_labels = encode_labels(fake_train_labels)\n",
    "test_labels = encode_labels(fake_test_labels)"
   ],
   "metadata": {
    "collapsed": false,
    "ExecuteTime": {
     "start_time": "2024-04-24T13:20:36.689131Z",
     "end_time": "2024-04-24T13:20:42.139408Z"
    }
   }
  },
  {
   "cell_type": "code",
   "execution_count": 22,
   "outputs": [],
   "source": [],
   "metadata": {
    "collapsed": false,
    "ExecuteTime": {
     "start_time": "2024-04-24T13:21:01.635826Z",
     "end_time": "2024-04-24T13:21:01.651467Z"
    }
   }
  },
  {
   "cell_type": "code",
   "execution_count": 23,
   "outputs": [],
   "source": [],
   "metadata": {
    "collapsed": false,
    "ExecuteTime": {
     "start_time": "2024-04-24T13:21:08.675937Z",
     "end_time": "2024-04-24T13:21:11.155582Z"
    }
   }
  },
  {
   "cell_type": "code",
   "execution_count": null,
   "outputs": [],
   "source": [],
   "metadata": {
    "collapsed": false
   }
  }
 ],
 "metadata": {
  "kernelspec": {
   "display_name": "Python 3",
   "language": "python",
   "name": "python3"
  },
  "language_info": {
   "codemirror_mode": {
    "name": "ipython",
    "version": 2
   },
   "file_extension": ".py",
   "mimetype": "text/x-python",
   "name": "python",
   "nbconvert_exporter": "python",
   "pygments_lexer": "ipython2",
   "version": "2.7.6"
  }
 },
 "nbformat": 4,
 "nbformat_minor": 0
}
