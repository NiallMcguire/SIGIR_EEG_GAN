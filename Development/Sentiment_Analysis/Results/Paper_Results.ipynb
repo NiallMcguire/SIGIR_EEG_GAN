{
 "cells": [
  {
   "cell_type": "code",
   "execution_count": null,
   "metadata": {
    "collapsed": true,
    "ExecuteTime": {
     "start_time": "2024-05-07T15:20:35.792762Z",
     "end_time": "2024-05-07T15:20:35.816874Z"
    },
    "pycharm": {
     "is_executing": true
    }
   },
   "outputs": [],
   "source": [
    "import os\n",
    "import re\n",
    "import seaborn as sns\n",
    "import pandas as pd\n",
    "import matplotlib.pyplot as plt\n",
    "std_accuracy = [0.056, 0.082, 0.049, 0.092, 0.073, 0.089, 0.045, 0.091, 0.074, 0.075, 0.057, 0.098, 0.081, 0.096, 0.059, 0.10, 0.077, 0.082, 0.091, 0.12]"
   ]
  },
  {
   "cell_type": "code",
   "execution_count": null,
   "outputs": [],
   "source": [
    "# Get the list of all files and directories\n",
    "path_1 = r\"C:\\Users\\gxb18167\\OneDrive - University of Strathclyde\\Desktop\\PhD\\2nd year\\Results\\Sentiment\\best\\Contextual\"\n",
    "\n",
    "#ablation_path = r\"C:\\Users\\gxb18167\\OneDrive - University of Strathclyde\\Desktop\\PhD\\2nd year\\Results\\NER\\Ablation\\Run_1\"\n",
    "dir_list = os.listdir(path_1)\n",
    "#ablation_dir_list = os.listdir(ablation_path)"
   ],
   "metadata": {
    "collapsed": false,
    "ExecuteTime": {
     "start_time": "2024-05-07T15:20:36.082685Z",
     "end_time": "2024-05-07T15:20:36.096883Z"
    },
    "pycharm": {
     "is_executing": true
    }
   }
  },
  {
   "cell_type": "code",
   "execution_count": 19,
   "outputs": [],
   "source": [],
   "metadata": {
    "collapsed": false,
    "ExecuteTime": {
     "start_time": "2024-05-07T15:20:36.300224Z",
     "end_time": "2024-05-07T15:20:36.315649Z"
    }
   }
  },
  {
   "cell_type": "code",
   "execution_count": 20,
   "outputs": [],
   "source": [
    "def read_file(read_in_path):\n",
    "    #Open the text file for reading\n",
    "    with open(read_in_path, 'r') as file:\n",
    "        # Read the content of the file\n",
    "        content = file.read()\n",
    "\n",
    "        # Search for the line containing \"Test Accuracy:\"\n",
    "        line = content.split('\\n')\n",
    "        for l in line:\n",
    "            if \"Test Accuracy:\" in l:\n",
    "                # Extract the value following \"Test Accuracy:\"\n",
    "                accuracy_str = l.split(':')[1].strip()\n",
    "                # Convert the extracted value to float\n",
    "                accuracy = float(accuracy_str)\n",
    "                break\n",
    "\n",
    "    return accuracy"
   ],
   "metadata": {
    "collapsed": false,
    "ExecuteTime": {
     "start_time": "2024-05-07T15:20:36.510716Z",
     "end_time": "2024-05-07T15:20:36.526683Z"
    }
   }
  },
  {
   "cell_type": "code",
   "execution_count": 21,
   "outputs": [],
   "source": [
    "def create_df(list_of_dir, read_in_path):\n",
    "    list_of_dfs = []\n",
    "    for dir in list_of_dir:\n",
    "\n",
    "        if dir != \"std.csv\":\n",
    "            # Get the full path of the file\n",
    "            file_path = os.path.join(read_in_path, dir)\n",
    "\n",
    "            if \"15\" in dir:\n",
    "                aug_size = 15\n",
    "            elif \"25\" in dir:\n",
    "                aug_size = 25\n",
    "            elif \"50\" in dir:\n",
    "                aug_size = 50\n",
    "            elif \"75\" in dir:\n",
    "                aug_size = 75\n",
    "            elif \"100\" in dir:\n",
    "                aug_size = 100\n",
    "            elif \"10\" in dir:\n",
    "                aug_size = 10\n",
    "            elif \"5\" in dir:\n",
    "                aug_size = 5\n",
    "            elif \"20\" in dir:\n",
    "                aug_size = 20\n",
    "            else:\n",
    "                aug_size = 0\n",
    "\n",
    "            if \"Noise\" in dir:\n",
    "                model = \"Noise\"\n",
    "            elif \"DCGAN_v2_Text\" in dir:\n",
    "                model = \"DCGAN_v2_Text\"\n",
    "\n",
    "            if \"random\" in dir:\n",
    "                aug_type = \"random\"\n",
    "            elif \"TF-IDF-Low\" in dir:\n",
    "                aug_type = \"TF-IDF-Low\"\n",
    "            elif \"TF-IDF-High\" in dir:\n",
    "                aug_type = \"TF-IDF-High\"\n",
    "            elif \"TF-IDF-Medium\" in dir:\n",
    "                aug_type = \"TF-IDF-Medium\"\n",
    "            else:\n",
    "                aug_type = \"None\"\n",
    "\n",
    "            # Read the file\n",
    "            accuracy = read_file(file_path)\n",
    "\n",
    "            df = pd.DataFrame([accuracy], columns=[\"accuracy\"])\n",
    "            df[\"augmentation_size\"] = aug_size\n",
    "            df[\"model\"] = model\n",
    "            df[\"augmentation_type\"] = aug_type\n",
    "\n",
    "            list_of_dfs.append(df)\n",
    "\n",
    "    return pd.concat(list_of_dfs, ignore_index=True)"
   ],
   "metadata": {
    "collapsed": false,
    "ExecuteTime": {
     "start_time": "2024-05-07T15:20:36.718963Z",
     "end_time": "2024-05-07T15:20:36.744015Z"
    }
   }
  },
  {
   "cell_type": "code",
   "execution_count": 22,
   "outputs": [],
   "source": [
    "#create ablation and normal df\n",
    "df_1 = create_df(dir_list, path_1)"
   ],
   "metadata": {
    "collapsed": false,
    "ExecuteTime": {
     "start_time": "2024-05-07T15:20:36.894857Z",
     "end_time": "2024-05-07T15:20:36.928186Z"
    }
   }
  },
  {
   "cell_type": "code",
   "execution_count": 23,
   "outputs": [],
   "source": [
    "\n",
    "# Group by augmentation size, augmentation type, and model, and calculate the average accuracy and standard deviation\n",
    "grouped_df = df_1.groupby(['augmentation_size', 'augmentation_type', 'model'])['accuracy'].agg(['mean', 'std']).reset_index()\n",
    "# Rename columns for clarity\n",
    "grouped_df.rename(columns={'mean': 'avg_accuracy', 'std': 'std_accuracy'}, inplace=True)\n"
   ],
   "metadata": {
    "collapsed": false,
    "ExecuteTime": {
     "start_time": "2024-05-07T15:20:37.248875Z",
     "end_time": "2024-05-07T15:20:37.264500Z"
    }
   }
  },
  {
   "cell_type": "code",
   "execution_count": 24,
   "outputs": [],
   "source": [
    "#grouped df remove augentation sizes 50, 75, and 100\n",
    "grouped_df = grouped_df[grouped_df['augmentation_size'] != 50]\n",
    "grouped_df = grouped_df[grouped_df['augmentation_size'] != 75]\n",
    "grouped_df = grouped_df[grouped_df['augmentation_size'] != 100]\n",
    "grouped_df = grouped_df[grouped_df['augmentation_size'] != 0]\n",
    "grouped_df['std_accuracy'] = std_accuracy\n"
   ],
   "metadata": {
    "collapsed": false,
    "ExecuteTime": {
     "start_time": "2024-05-07T15:20:37.474150Z",
     "end_time": "2024-05-07T15:20:37.496622Z"
    }
   }
  },
  {
   "cell_type": "code",
   "execution_count": 25,
   "outputs": [
    {
     "data": {
      "text/plain": "    augmentation_size augmentation_type          model  avg_accuracy  \\\n1                   5       TF-IDF-High  DCGAN_v2_Text        0.7678   \n2                   5        TF-IDF-Low  DCGAN_v2_Text        0.7682   \n3                   5     TF-IDF-Medium  DCGAN_v2_Text        0.7892   \n4                   5            random  DCGAN_v2_Text        0.7781   \n5                  10       TF-IDF-High  DCGAN_v2_Text        0.7812   \n6                  10        TF-IDF-Low  DCGAN_v2_Text        0.7921   \n7                  10     TF-IDF-Medium  DCGAN_v2_Text        0.8210   \n8                  10            random  DCGAN_v2_Text        0.8102   \n9                  15       TF-IDF-High  DCGAN_v2_Text        0.7820   \n10                 15        TF-IDF-Low  DCGAN_v2_Text        0.7768   \n11                 15     TF-IDF-Medium  DCGAN_v2_Text        0.8100   \n12                 15            random  DCGAN_v2_Text        0.7901   \n13                 20       TF-IDF-High  DCGAN_v2_Text        0.7582   \n14                 20        TF-IDF-Low  DCGAN_v2_Text        0.7821   \n15                 20     TF-IDF-Medium  DCGAN_v2_Text        0.7621   \n16                 20            random  DCGAN_v2_Text        0.7789   \n17                 25       TF-IDF-High  DCGAN_v2_Text        0.7207   \n18                 25        TF-IDF-Low  DCGAN_v2_Text        0.7312   \n19                 25     TF-IDF-Medium  DCGAN_v2_Text        0.7793   \n20                 25            random  DCGAN_v2_Text        0.7478   \n\n    std_accuracy  \n1          0.056  \n2          0.082  \n3          0.049  \n4          0.092  \n5          0.073  \n6          0.089  \n7          0.045  \n8          0.091  \n9          0.074  \n10         0.075  \n11         0.057  \n12         0.098  \n13         0.081  \n14         0.096  \n15         0.059  \n16         0.100  \n17         0.077  \n18         0.082  \n19         0.091  \n20         0.120  ",
      "text/html": "<div>\n<style scoped>\n    .dataframe tbody tr th:only-of-type {\n        vertical-align: middle;\n    }\n\n    .dataframe tbody tr th {\n        vertical-align: top;\n    }\n\n    .dataframe thead th {\n        text-align: right;\n    }\n</style>\n<table border=\"1\" class=\"dataframe\">\n  <thead>\n    <tr style=\"text-align: right;\">\n      <th></th>\n      <th>augmentation_size</th>\n      <th>augmentation_type</th>\n      <th>model</th>\n      <th>avg_accuracy</th>\n      <th>std_accuracy</th>\n    </tr>\n  </thead>\n  <tbody>\n    <tr>\n      <th>1</th>\n      <td>5</td>\n      <td>TF-IDF-High</td>\n      <td>DCGAN_v2_Text</td>\n      <td>0.7678</td>\n      <td>0.056</td>\n    </tr>\n    <tr>\n      <th>2</th>\n      <td>5</td>\n      <td>TF-IDF-Low</td>\n      <td>DCGAN_v2_Text</td>\n      <td>0.7682</td>\n      <td>0.082</td>\n    </tr>\n    <tr>\n      <th>3</th>\n      <td>5</td>\n      <td>TF-IDF-Medium</td>\n      <td>DCGAN_v2_Text</td>\n      <td>0.7892</td>\n      <td>0.049</td>\n    </tr>\n    <tr>\n      <th>4</th>\n      <td>5</td>\n      <td>random</td>\n      <td>DCGAN_v2_Text</td>\n      <td>0.7781</td>\n      <td>0.092</td>\n    </tr>\n    <tr>\n      <th>5</th>\n      <td>10</td>\n      <td>TF-IDF-High</td>\n      <td>DCGAN_v2_Text</td>\n      <td>0.7812</td>\n      <td>0.073</td>\n    </tr>\n    <tr>\n      <th>6</th>\n      <td>10</td>\n      <td>TF-IDF-Low</td>\n      <td>DCGAN_v2_Text</td>\n      <td>0.7921</td>\n      <td>0.089</td>\n    </tr>\n    <tr>\n      <th>7</th>\n      <td>10</td>\n      <td>TF-IDF-Medium</td>\n      <td>DCGAN_v2_Text</td>\n      <td>0.8210</td>\n      <td>0.045</td>\n    </tr>\n    <tr>\n      <th>8</th>\n      <td>10</td>\n      <td>random</td>\n      <td>DCGAN_v2_Text</td>\n      <td>0.8102</td>\n      <td>0.091</td>\n    </tr>\n    <tr>\n      <th>9</th>\n      <td>15</td>\n      <td>TF-IDF-High</td>\n      <td>DCGAN_v2_Text</td>\n      <td>0.7820</td>\n      <td>0.074</td>\n    </tr>\n    <tr>\n      <th>10</th>\n      <td>15</td>\n      <td>TF-IDF-Low</td>\n      <td>DCGAN_v2_Text</td>\n      <td>0.7768</td>\n      <td>0.075</td>\n    </tr>\n    <tr>\n      <th>11</th>\n      <td>15</td>\n      <td>TF-IDF-Medium</td>\n      <td>DCGAN_v2_Text</td>\n      <td>0.8100</td>\n      <td>0.057</td>\n    </tr>\n    <tr>\n      <th>12</th>\n      <td>15</td>\n      <td>random</td>\n      <td>DCGAN_v2_Text</td>\n      <td>0.7901</td>\n      <td>0.098</td>\n    </tr>\n    <tr>\n      <th>13</th>\n      <td>20</td>\n      <td>TF-IDF-High</td>\n      <td>DCGAN_v2_Text</td>\n      <td>0.7582</td>\n      <td>0.081</td>\n    </tr>\n    <tr>\n      <th>14</th>\n      <td>20</td>\n      <td>TF-IDF-Low</td>\n      <td>DCGAN_v2_Text</td>\n      <td>0.7821</td>\n      <td>0.096</td>\n    </tr>\n    <tr>\n      <th>15</th>\n      <td>20</td>\n      <td>TF-IDF-Medium</td>\n      <td>DCGAN_v2_Text</td>\n      <td>0.7621</td>\n      <td>0.059</td>\n    </tr>\n    <tr>\n      <th>16</th>\n      <td>20</td>\n      <td>random</td>\n      <td>DCGAN_v2_Text</td>\n      <td>0.7789</td>\n      <td>0.100</td>\n    </tr>\n    <tr>\n      <th>17</th>\n      <td>25</td>\n      <td>TF-IDF-High</td>\n      <td>DCGAN_v2_Text</td>\n      <td>0.7207</td>\n      <td>0.077</td>\n    </tr>\n    <tr>\n      <th>18</th>\n      <td>25</td>\n      <td>TF-IDF-Low</td>\n      <td>DCGAN_v2_Text</td>\n      <td>0.7312</td>\n      <td>0.082</td>\n    </tr>\n    <tr>\n      <th>19</th>\n      <td>25</td>\n      <td>TF-IDF-Medium</td>\n      <td>DCGAN_v2_Text</td>\n      <td>0.7793</td>\n      <td>0.091</td>\n    </tr>\n    <tr>\n      <th>20</th>\n      <td>25</td>\n      <td>random</td>\n      <td>DCGAN_v2_Text</td>\n      <td>0.7478</td>\n      <td>0.120</td>\n    </tr>\n  </tbody>\n</table>\n</div>"
     },
     "execution_count": 25,
     "metadata": {},
     "output_type": "execute_result"
    }
   ],
   "source": [
    "grouped_df"
   ],
   "metadata": {
    "collapsed": false,
    "ExecuteTime": {
     "start_time": "2024-05-07T15:20:37.907374Z",
     "end_time": "2024-05-07T15:20:37.923046Z"
    }
   }
  },
  {
   "cell_type": "code",
   "execution_count": 25,
   "outputs": [],
   "source": [],
   "metadata": {
    "collapsed": false,
    "ExecuteTime": {
     "start_time": "2024-05-07T15:20:38.341278Z",
     "end_time": "2024-05-07T15:20:38.354346Z"
    }
   }
  },
  {
   "cell_type": "code",
   "execution_count": 26,
   "outputs": [
    {
     "data": {
      "text/plain": "<Figure size 1200x800 with 4 Axes>",
      "image/png": "[encoded data removed]"
     },
     "metadata": {},
     "output_type": "display_data"
    }
   ],
   "source": [
    "import matplotlib.pyplot as plt\n",
    "import seaborn as sns\n",
    "\n",
    "# Define augmentation types\n",
    "augmentation_types = ['random', 'TF-IDF-Low', 'TF-IDF-Medium', 'TF-IDF-High']\n",
    "\n",
    "# Set up the figure and axes\n",
    "fig, axes = plt.subplots(2, 2, figsize=(12, 8), sharey=True)\n",
    "\n",
    "# Iterate over each subplot and augmentation type\n",
    "for i, ax_row in enumerate(axes):\n",
    "    for j, ax in enumerate(ax_row):\n",
    "        # Filter data for the current augmentation type\n",
    "        current_augmentation = augmentation_types[i*2 + j]\n",
    "        filtered_df = grouped_df[grouped_df['augmentation_type'] == current_augmentation]\n",
    "\n",
    "        # Plot box plot with error bars representing standard deviation\n",
    "        sns.boxplot(x='augmentation_size', y='avg_accuracy', data=filtered_df, ax=ax, palette='Set1', showmeans=True, meanprops={\"marker\":\"o\", \"markerfacecolor\":\"white\", \"markeredgecolor\":\"black\"})\n",
    "\n",
    "        # Plot error bars representing standard deviation\n",
    "        x = range(len(filtered_df['augmentation_size'].unique()))\n",
    "        ax.errorbar(x, filtered_df.groupby('augmentation_size')['avg_accuracy'].mean(), yerr=filtered_df['std_accuracy'], fmt='none', ecolor='black', capsize=5, label='Standard Deviation')\n",
    "\n",
    "        # Set titles and labels\n",
    "        ax.set_title(current_augmentation)\n",
    "        ax.set_xlabel('Augmentation Size')\n",
    "        ax.set_ylabel('Accuracy')\n",
    "\n",
    "        # Set x-axis ticks to show only specific augmentation sizes\n",
    "        ax.set_xticks(x)\n",
    "        ax.set_xticklabels(filtered_df['augmentation_size'].unique())\n",
    "\n",
    "        # Add legend\n",
    "        ax.legend()\n",
    "\n",
    "# Adjust layout\n",
    "plt.tight_layout()\n",
    "\n",
    "# Show plot\n",
    "plt.show()\n"
   ],
   "metadata": {
    "collapsed": false,
    "ExecuteTime": {
     "start_time": "2024-05-07T15:20:38.727269Z",
     "end_time": "2024-05-07T15:20:39.671817Z"
    }
   }
  },
  {
   "cell_type": "code",
   "execution_count": 26,
   "outputs": [],
   "source": [],
   "metadata": {
    "collapsed": false,
    "ExecuteTime": {
     "start_time": "2024-05-07T15:20:44.926012Z",
     "end_time": "2024-05-07T15:20:44.940612Z"
    }
   }
  },
  {
   "cell_type": "code",
   "execution_count": 27,
   "outputs": [
    {
     "data": {
      "text/plain": "                       mean       std\naugmentation_size                    \n5                  0.775825  0.010110\n10                 0.801125  0.017850\n15                 0.789725  0.014582\n20                 0.770325  0.011928\n25                 0.744750  0.025593",
      "text/html": "<div>\n<style scoped>\n    .dataframe tbody tr th:only-of-type {\n        vertical-align: middle;\n    }\n\n    .dataframe tbody tr th {\n        vertical-align: top;\n    }\n\n    .dataframe thead th {\n        text-align: right;\n    }\n</style>\n<table border=\"1\" class=\"dataframe\">\n  <thead>\n    <tr style=\"text-align: right;\">\n      <th></th>\n      <th>mean</th>\n      <th>std</th>\n    </tr>\n    <tr>\n      <th>augmentation_size</th>\n      <th></th>\n      <th></th>\n    </tr>\n  </thead>\n  <tbody>\n    <tr>\n      <th>5</th>\n      <td>0.775825</td>\n      <td>0.010110</td>\n    </tr>\n    <tr>\n      <th>10</th>\n      <td>0.801125</td>\n      <td>0.017850</td>\n    </tr>\n    <tr>\n      <th>15</th>\n      <td>0.789725</td>\n      <td>0.014582</td>\n    </tr>\n    <tr>\n      <th>20</th>\n      <td>0.770325</td>\n      <td>0.011928</td>\n    </tr>\n    <tr>\n      <th>25</th>\n      <td>0.744750</td>\n      <td>0.025593</td>\n    </tr>\n  </tbody>\n</table>\n</div>"
     },
     "execution_count": 27,
     "metadata": {},
     "output_type": "execute_result"
    }
   ],
   "source": [
    "#average accuracy for each augmentation size with standard deviation\n",
    "grouped_df.groupby('augmentation_size')['avg_accuracy'].agg(['mean', 'std'])"
   ],
   "metadata": {
    "collapsed": false,
    "ExecuteTime": {
     "start_time": "2024-05-07T15:20:45.115192Z",
     "end_time": "2024-05-07T15:20:45.147628Z"
    }
   }
  },
  {
   "cell_type": "code",
   "execution_count": 28,
   "outputs": [
    {
     "data": {
      "text/plain": "                      mean       std\naugmentation_type                   \nTF-IDF-High        0.76198  0.025112\nTF-IDF-Low         0.77008  0.023397\nTF-IDF-Medium      0.79232  0.023599\nrandom             0.78102  0.022641",
      "text/html": "<div>\n<style scoped>\n    .dataframe tbody tr th:only-of-type {\n        vertical-align: middle;\n    }\n\n    .dataframe tbody tr th {\n        vertical-align: top;\n    }\n\n    .dataframe thead th {\n        text-align: right;\n    }\n</style>\n<table border=\"1\" class=\"dataframe\">\n  <thead>\n    <tr style=\"text-align: right;\">\n      <th></th>\n      <th>mean</th>\n      <th>std</th>\n    </tr>\n    <tr>\n      <th>augmentation_type</th>\n      <th></th>\n      <th></th>\n    </tr>\n  </thead>\n  <tbody>\n    <tr>\n      <th>TF-IDF-High</th>\n      <td>0.76198</td>\n      <td>0.025112</td>\n    </tr>\n    <tr>\n      <th>TF-IDF-Low</th>\n      <td>0.77008</td>\n      <td>0.023397</td>\n    </tr>\n    <tr>\n      <th>TF-IDF-Medium</th>\n      <td>0.79232</td>\n      <td>0.023599</td>\n    </tr>\n    <tr>\n      <th>random</th>\n      <td>0.78102</td>\n      <td>0.022641</td>\n    </tr>\n  </tbody>\n</table>\n</div>"
     },
     "execution_count": 28,
     "metadata": {},
     "output_type": "execute_result"
    }
   ],
   "source": [
    "#average accuracy for each augmentation type with standard deviation\n",
    "grouped_df.groupby('augmentation_type')['avg_accuracy'].agg(['mean', 'std'])"
   ],
   "metadata": {
    "collapsed": false,
    "ExecuteTime": {
     "start_time": "2024-05-07T15:20:45.854112Z",
     "end_time": "2024-05-07T15:20:45.885506Z"
    }
   }
  },
  {
   "cell_type": "code",
   "execution_count": null,
   "outputs": [],
   "source": [],
   "metadata": {
    "collapsed": false
   }
  }
 ],
 "metadata": {
  "kernelspec": {
   "display_name": "Python 3",
   "language": "python",
   "name": "python3"
  },
  "language_info": {
   "codemirror_mode": {
    "name": "ipython",
    "version": 2
   },
   "file_extension": ".py",
   "mimetype": "text/x-python",
   "name": "python",
   "nbconvert_exporter": "python",
   "pygments_lexer": "ipython2",
   "version": "2.7.6"
  }
 },
 "nbformat": 4,
 "nbformat_minor": 0
}
