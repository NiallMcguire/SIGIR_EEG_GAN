{
 "cells": [
  {
   "cell_type": "code",
   "execution_count": 3,
   "metadata": {
    "collapsed": true,
    "ExecuteTime": {
     "start_time": "2024-04-30T10:28:25.668001Z",
     "end_time": "2024-04-30T10:28:25.693882Z"
    }
   },
   "outputs": [],
   "source": [
    "import os\n",
    "import re\n",
    "import seaborn as sns\n",
    "import pandas as pd\n",
    "import matplotlib.pyplot as plt"
   ]
  },
  {
   "cell_type": "code",
   "execution_count": 4,
   "outputs": [],
   "source": [
    "# Get the list of all files and directories\n",
    "path = r\"C:\\Users\\gxb18167\\OneDrive - University of Strathclyde\\Desktop\\PhD\\2nd year\\Results\\Sentiment\\best\"\n",
    "ablation_path = r\"C:\\Users\\gxb18167\\OneDrive - University of Strathclyde\\Desktop\\PhD\\2nd year\\Results\\Sentiment\\Ablation\"\n",
    "dir_list = os.listdir(path)\n",
    "ablation_dir_list = os.listdir(ablation_path)"
   ],
   "metadata": {
    "collapsed": false,
    "ExecuteTime": {
     "start_time": "2024-04-30T10:28:25.957534Z",
     "end_time": "2024-04-30T10:28:25.981126Z"
    }
   }
  },
  {
   "cell_type": "code",
   "execution_count": 4,
   "outputs": [],
   "source": [],
   "metadata": {
    "collapsed": false,
    "ExecuteTime": {
     "start_time": "2024-04-30T10:28:26.508893Z",
     "end_time": "2024-04-30T10:28:26.533553Z"
    }
   }
  },
  {
   "cell_type": "code",
   "execution_count": 5,
   "outputs": [],
   "source": [
    "def read_file(read_in_path):\n",
    "    #Open the text file for reading\n",
    "    with open(read_in_path, 'r') as file:\n",
    "        # Read the content of the file\n",
    "        content = file.read()\n",
    "\n",
    "        # Search for the line containing \"Test Accuracy:\"\n",
    "        line = content.split('\\n')\n",
    "        for l in line:\n",
    "            if \"Test Accuracy:\" in l:\n",
    "                # Extract the value following \"Test Accuracy:\"\n",
    "                accuracy_str = l.split(':')[1].strip()\n",
    "                # Convert the extracted value to float\n",
    "                accuracy = float(accuracy_str)\n",
    "                break\n",
    "\n",
    "    return accuracy"
   ],
   "metadata": {
    "collapsed": false,
    "ExecuteTime": {
     "start_time": "2024-04-30T10:28:26.727035Z",
     "end_time": "2024-04-30T10:28:26.774278Z"
    }
   }
  },
  {
   "cell_type": "code",
   "execution_count": 17,
   "outputs": [],
   "source": [
    "\n",
    "def create_df(list_of_dir, read_in_path):\n",
    "    list_of_dfs = []\n",
    "    for dir in list_of_dir:\n",
    "        # Get the full path of the file\n",
    "        file_path = os.path.join(read_in_path, dir)\n",
    "\n",
    "        if \"15\" in dir:\n",
    "            aug_size = 15\n",
    "        elif \"25\" in dir:\n",
    "            aug_size = 25\n",
    "        elif \"50\" in dir:\n",
    "            aug_size = 50\n",
    "        elif \"75\" in dir:\n",
    "            aug_size = 75\n",
    "        elif \"100\" in dir:\n",
    "            aug_size = 100\n",
    "        elif \"10\" in dir:\n",
    "            aug_size = 10\n",
    "        elif \"5\" in dir:\n",
    "            aug_size = 5\n",
    "        elif \"20\" in dir:\n",
    "            aug_size = 20\n",
    "        else:\n",
    "            aug_size = 0\n",
    "\n",
    "        if \"Noise\" in dir:\n",
    "            model = \"Noise\"\n",
    "        elif \"DCGAN_v2_Text\" in dir:\n",
    "            model = \"DCGAN_v2_Text\"\n",
    "\n",
    "\n",
    "        # Read the file\n",
    "        accuracy = read_file(file_path)\n",
    "\n",
    "        df = pd.DataFrame([accuracy], columns=[\"accuracy\"])\n",
    "        df[\"augmentation_size\"] = aug_size\n",
    "        df[\"model\"] = model\n",
    "\n",
    "        list_of_dfs.append(df)\n",
    "\n",
    "    return pd.concat(list_of_dfs)"
   ],
   "metadata": {
    "collapsed": false,
    "ExecuteTime": {
     "start_time": "2024-04-30T10:30:00.353328Z",
     "end_time": "2024-04-30T10:30:00.393706Z"
    }
   }
  },
  {
   "cell_type": "code",
   "execution_count": 18,
   "outputs": [],
   "source": [
    "#create ablation and normal df\n",
    "df = create_df(dir_list, path)\n",
    "ablation_df = create_df(ablation_dir_list, ablation_path)\n"
   ],
   "metadata": {
    "collapsed": false,
    "ExecuteTime": {
     "start_time": "2024-04-30T10:30:00.705171Z",
     "end_time": "2024-04-30T10:30:00.776370Z"
    }
   }
  },
  {
   "cell_type": "code",
   "execution_count": 19,
   "outputs": [
    {
     "data": {
      "text/plain": "   accuracy  augmentation_size          model\n0    0.7551                  0  DCGAN_v2_Text\n0    0.7391                 10  DCGAN_v2_Text\n0    0.6879                 25  DCGAN_v2_Text\n0    0.6225                 50  DCGAN_v2_Text\n0    0.5805                 75  DCGAN_v2_Text\n0    0.5418                100  DCGAN_v2_Text",
      "text/html": "<div>\n<style scoped>\n    .dataframe tbody tr th:only-of-type {\n        vertical-align: middle;\n    }\n\n    .dataframe tbody tr th {\n        vertical-align: top;\n    }\n\n    .dataframe thead th {\n        text-align: right;\n    }\n</style>\n<table border=\"1\" class=\"dataframe\">\n  <thead>\n    <tr style=\"text-align: right;\">\n      <th></th>\n      <th>accuracy</th>\n      <th>augmentation_size</th>\n      <th>model</th>\n    </tr>\n  </thead>\n  <tbody>\n    <tr>\n      <th>0</th>\n      <td>0.7551</td>\n      <td>0</td>\n      <td>DCGAN_v2_Text</td>\n    </tr>\n    <tr>\n      <th>0</th>\n      <td>0.7391</td>\n      <td>10</td>\n      <td>DCGAN_v2_Text</td>\n    </tr>\n    <tr>\n      <th>0</th>\n      <td>0.6879</td>\n      <td>25</td>\n      <td>DCGAN_v2_Text</td>\n    </tr>\n    <tr>\n      <th>0</th>\n      <td>0.6225</td>\n      <td>50</td>\n      <td>DCGAN_v2_Text</td>\n    </tr>\n    <tr>\n      <th>0</th>\n      <td>0.5805</td>\n      <td>75</td>\n      <td>DCGAN_v2_Text</td>\n    </tr>\n    <tr>\n      <th>0</th>\n      <td>0.5418</td>\n      <td>100</td>\n      <td>DCGAN_v2_Text</td>\n    </tr>\n  </tbody>\n</table>\n</div>"
     },
     "execution_count": 19,
     "metadata": {},
     "output_type": "execute_result"
    }
   ],
   "source": [
    "df = df.sort_values(by=\"augmentation_size\")\n",
    "ablation_df.sort_values(by=\"augmentation_size\")"
   ],
   "metadata": {
    "collapsed": false,
    "ExecuteTime": {
     "start_time": "2024-04-30T10:30:01.053333Z",
     "end_time": "2024-04-30T10:30:01.111572Z"
    }
   }
  },
  {
   "cell_type": "code",
   "execution_count": 19,
   "outputs": [],
   "source": [],
   "metadata": {
    "collapsed": false,
    "ExecuteTime": {
     "start_time": "2024-04-30T10:30:02.686801Z",
     "end_time": "2024-04-30T10:30:02.703177Z"
    }
   }
  },
  {
   "cell_type": "code",
   "execution_count": 19,
   "outputs": [],
   "source": [],
   "metadata": {
    "collapsed": false,
    "ExecuteTime": {
     "start_time": "2024-04-30T10:30:03.167622Z",
     "end_time": "2024-04-30T10:30:03.231790Z"
    }
   }
  },
  {
   "cell_type": "code",
   "execution_count": 21,
   "outputs": [
    {
     "data": {
      "text/plain": "<Figure size 640x480 with 1 Axes>",
      "image/png": "[encoded data removed]"
     },
     "metadata": {},
     "output_type": "display_data"
    }
   ],
   "source": [
    "import seaborn as sns\n",
    "import matplotlib.pyplot as plt\n",
    "\n",
    "def plot_accuracy_across_augmentation(df, ablation_df):\n",
    "    # Set the style of the plot\n",
    "    sns.set_style(\"whitegrid\")\n",
    "\n",
    "    # Plot the accuracy scores for the first dataframe\n",
    "    sns.lineplot(data=df, x='augmentation_size', y='accuracy', label='Original DF', marker='o')\n",
    "\n",
    "    # Plot the accuracy scores for the second dataframe\n",
    "    sns.lineplot(data=ablation_df, x='augmentation_size', y='accuracy', label='Ablation DF', marker='o')\n",
    "\n",
    "    # Set the title and labels\n",
    "    plt.title('Accuracy Across Augmentation Sizes')\n",
    "    plt.xlabel('Augmentation Size')\n",
    "    plt.ylabel('Accuracy')\n",
    "\n",
    "    # Show legend\n",
    "    plt.legend()\n",
    "        # Set the y-axis limits\n",
    "    plt.ylim(0.5, 1)  # Adjust the range as needed\n",
    "\n",
    "    # Adjust layout to reduce white space\n",
    "    plt.tight_layout()\n",
    "    plt.savefig(\"NER_results.png\")\n",
    "    # Show the plot\n",
    "    plt.show()\n",
    "\n",
    "# Assuming df and ablation_df are your dataframes\n",
    "# Call the function to plot\n",
    "plot_accuracy_across_augmentation(df, ablation_df)\n"
   ],
   "metadata": {
    "collapsed": false,
    "ExecuteTime": {
     "start_time": "2024-04-30T10:31:38.409378Z",
     "end_time": "2024-04-30T10:31:39.369807Z"
    }
   }
  },
  {
   "cell_type": "code",
   "execution_count": 27,
   "outputs": [],
   "source": [],
   "metadata": {
    "collapsed": false,
    "ExecuteTime": {
     "start_time": "2024-04-29T10:45:40.281584Z",
     "end_time": "2024-04-29T10:45:40.292617Z"
    }
   }
  },
  {
   "cell_type": "code",
   "execution_count": 27,
   "outputs": [],
   "source": [],
   "metadata": {
    "collapsed": false,
    "ExecuteTime": {
     "start_time": "2024-04-29T10:45:40.292617Z",
     "end_time": "2024-04-29T10:45:40.419116Z"
    }
   }
  }
 ],
 "metadata": {
  "kernelspec": {
   "display_name": "Python 3",
   "language": "python",
   "name": "python3"
  },
  "language_info": {
   "codemirror_mode": {
    "name": "ipython",
    "version": 2
   },
   "file_extension": ".py",
   "mimetype": "text/x-python",
   "name": "python",
   "nbconvert_exporter": "python",
   "pygments_lexer": "ipython2",
   "version": "2.7.6"
  }
 },
 "nbformat": 4,
 "nbformat_minor": 0
}
