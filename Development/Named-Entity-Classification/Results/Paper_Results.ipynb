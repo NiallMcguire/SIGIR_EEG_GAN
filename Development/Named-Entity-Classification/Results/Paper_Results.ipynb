{
 "cells": [
  {
   "cell_type": "code",
   "execution_count": 4,
   "metadata": {
    "collapsed": true,
    "ExecuteTime": {
     "start_time": "2024-05-07T12:09:12.022255Z",
     "end_time": "2024-05-07T12:09:12.043700Z"
    }
   },
   "outputs": [],
   "source": [
    "import os\n",
    "import re\n",
    "import seaborn as sns\n",
    "import pandas as pd\n",
    "import matplotlib.pyplot as plt"
   ]
  },
  {
   "cell_type": "code",
   "execution_count": 17,
   "outputs": [],
   "source": [
    "# Get the list of all files and directories\n",
    "path_1 = r\"C:\\Users\\gxb18167\\OneDrive - University of Strathclyde\\Desktop\\PhD\\2nd year\\Results\\NER\\best\\Run_1\"\n",
    "path_2 = r\"C:\\Users\\gxb18167\\OneDrive - University of Strathclyde\\Desktop\\PhD\\2nd year\\Results\\NER\\best\\Run_2\"\n",
    "path_3 = r\"C:\\Users\\gxb18167\\OneDrive - University of Strathclyde\\Desktop\\PhD\\2nd year\\Results\\NER\\best\\Run_3\"\n",
    "path_4 = r\"C:\\Users\\gxb18167\\OneDrive - University of Strathclyde\\Desktop\\PhD\\2nd year\\Results\\NER\\best\\Run_4\"\n",
    "path_5 = r\"C:\\Users\\gxb18167\\OneDrive - University of Strathclyde\\Desktop\\PhD\\2nd year\\Results\\NER\\best\\Run_5\"\n",
    "\n",
    "#ablation_path = r\"C:\\Users\\gxb18167\\OneDrive - University of Strathclyde\\Desktop\\PhD\\2nd year\\Results\\NER\\Ablation\\Run_1\"\n",
    "dir_list = os.listdir(path)\n",
    "#ablation_dir_list = os.listdir(ablation_path)"
   ],
   "metadata": {
    "collapsed": false,
    "ExecuteTime": {
     "start_time": "2024-05-07T12:19:55.488110Z",
     "end_time": "2024-05-07T12:19:55.506279Z"
    }
   }
  },
  {
   "cell_type": "code",
   "execution_count": 18,
   "outputs": [
    {
     "data": {
      "text/plain": "['Aug_size_0_Epochs_30_Aug_Model_DCGAN_v2_Text_random_accuracy.txt',\n 'Aug_size_100_Epochs_30_Aug_Model_DCGAN_v2_Text_random_accuracy.txt',\n 'Aug_size_100_Epochs_30_Aug_Model_DCGAN_v2_Text_TF-IDF-High_accuracy.txt',\n 'Aug_size_100_Epochs_30_Aug_Model_DCGAN_v2_Text_TF-IDF-Low_accuracy.txt',\n 'Aug_size_100_Epochs_30_Aug_Model_DCGAN_v2_Text_TF-IDF-Medium_accuracy.txt',\n 'Aug_size_10_Epochs_30_Aug_Model_DCGAN_v2_Text_random_accuracy.txt',\n 'Aug_size_10_Epochs_30_Aug_Model_DCGAN_v2_Text_TF-IDF-High_accuracy.txt',\n 'Aug_size_10_Epochs_30_Aug_Model_DCGAN_v2_Text_TF-IDF-Low_accuracy.txt',\n 'Aug_size_10_Epochs_30_Aug_Model_DCGAN_v2_Text_TF-IDF-Medium_accuracy.txt',\n 'Aug_size_15_Epochs_30_Aug_Model_DCGAN_v2_Text_random_accuracy.txt',\n 'Aug_size_15_Epochs_30_Aug_Model_DCGAN_v2_Text_TF-IDF-High_accuracy.txt',\n 'Aug_size_15_Epochs_30_Aug_Model_DCGAN_v2_Text_TF-IDF-Low_accuracy.txt',\n 'Aug_size_15_Epochs_30_Aug_Model_DCGAN_v2_Text_TF-IDF-Medium_accuracy.txt',\n 'Aug_size_20_Epochs_30_Aug_Model_DCGAN_v2_Text_random_accuracy.txt',\n 'Aug_size_20_Epochs_30_Aug_Model_DCGAN_v2_Text_TF-IDF-High_accuracy.txt',\n 'Aug_size_20_Epochs_30_Aug_Model_DCGAN_v2_Text_TF-IDF-Low_accuracy.txt',\n 'Aug_size_20_Epochs_30_Aug_Model_DCGAN_v2_Text_TF-IDF-Medium_accuracy.txt',\n 'Aug_size_25_Epochs_30_Aug_Model_DCGAN_v2_Text_random_accuracy.txt',\n 'Aug_size_25_Epochs_30_Aug_Model_DCGAN_v2_Text_TF-IDF-High_accuracy.txt',\n 'Aug_size_25_Epochs_30_Aug_Model_DCGAN_v2_Text_TF-IDF-Low_accuracy.txt',\n 'Aug_size_25_Epochs_30_Aug_Model_DCGAN_v2_Text_TF-IDF-Medium_accuracy.txt',\n 'Aug_size_50_Epochs_30_Aug_Model_DCGAN_v2_Text_random_accuracy.txt',\n 'Aug_size_50_Epochs_30_Aug_Model_DCGAN_v2_Text_TF-IDF-High_accuracy.txt',\n 'Aug_size_50_Epochs_30_Aug_Model_DCGAN_v2_Text_TF-IDF-Low_accuracy.txt',\n 'Aug_size_50_Epochs_30_Aug_Model_DCGAN_v2_Text_TF-IDF-Medium_accuracy.txt',\n 'Aug_size_5_Epochs_30_Aug_Model_DCGAN_v2_Text_random_accuracy.txt',\n 'Aug_size_5_Epochs_30_Aug_Model_DCGAN_v2_Text_TF-IDF-High_accuracy.txt',\n 'Aug_size_5_Epochs_30_Aug_Model_DCGAN_v2_Text_TF-IDF-Low_accuracy.txt',\n 'Aug_size_5_Epochs_30_Aug_Model_DCGAN_v2_Text_TF-IDF-Medium_accuracy.txt',\n 'Aug_size_75_Epochs_30_Aug_Model_DCGAN_v2_Text_random_accuracy.txt',\n 'Aug_size_75_Epochs_30_Aug_Model_DCGAN_v2_Text_TF-IDF-High_accuracy.txt',\n 'Aug_size_75_Epochs_30_Aug_Model_DCGAN_v2_Text_TF-IDF-Low_accuracy.txt',\n 'Aug_size_75_Epochs_30_Aug_Model_DCGAN_v2_Text_TF-IDF-Medium_accuracy.txt']"
     },
     "execution_count": 18,
     "metadata": {},
     "output_type": "execute_result"
    }
   ],
   "source": [
    "dir_list"
   ],
   "metadata": {
    "collapsed": false,
    "ExecuteTime": {
     "start_time": "2024-05-07T12:19:55.778484Z",
     "end_time": "2024-05-07T12:19:55.814587Z"
    }
   }
  },
  {
   "cell_type": "code",
   "execution_count": 19,
   "outputs": [],
   "source": [
    "def read_file(read_in_path):\n",
    "    #Open the text file for reading\n",
    "    with open(read_in_path, 'r') as file:\n",
    "        # Read the content of the file\n",
    "        content = file.read()\n",
    "\n",
    "        # Search for the line containing \"Test Accuracy:\"\n",
    "        line = content.split('\\n')\n",
    "        for l in line:\n",
    "            if \"Test Accuracy:\" in l:\n",
    "                # Extract the value following \"Test Accuracy:\"\n",
    "                accuracy_str = l.split(':')[1].strip()\n",
    "                # Convert the extracted value to float\n",
    "                accuracy = float(accuracy_str)\n",
    "                break\n",
    "\n",
    "    return accuracy"
   ],
   "metadata": {
    "collapsed": false,
    "ExecuteTime": {
     "start_time": "2024-05-07T12:19:56.104949Z",
     "end_time": "2024-05-07T12:19:56.120190Z"
    }
   }
  },
  {
   "cell_type": "code",
   "execution_count": 20,
   "outputs": [],
   "source": [
    "def create_df(list_of_dir, read_in_path):\n",
    "    list_of_dfs = []\n",
    "    for dir in list_of_dir:\n",
    "        # Get the full path of the file\n",
    "        file_path = os.path.join(read_in_path, dir)\n",
    "\n",
    "        if \"15\" in dir:\n",
    "            aug_size = 15\n",
    "        elif \"25\" in dir:\n",
    "            aug_size = 25\n",
    "        elif \"50\" in dir:\n",
    "            aug_size = 50\n",
    "        elif \"75\" in dir:\n",
    "            aug_size = 75\n",
    "        elif \"100\" in dir:\n",
    "            aug_size = 100\n",
    "        elif \"10\" in dir:\n",
    "            aug_size = 10\n",
    "        elif \"5\" in dir:\n",
    "            aug_size = 5\n",
    "        elif \"20\" in dir:\n",
    "            aug_size = 20\n",
    "        else:\n",
    "            aug_size = 0\n",
    "\n",
    "        if \"Noise\" in dir:\n",
    "            model = \"Noise\"\n",
    "        elif \"DCGAN_v2_Text\" in dir:\n",
    "            model = \"DCGAN_v2_Text\"\n",
    "\n",
    "        if \"random\" in dir:\n",
    "            aug_type = \"random\"\n",
    "        elif \"TF-IDF-Low\" in dir:\n",
    "            aug_type = \"TF-IDF-Low\"\n",
    "        elif \"TF-IDF-High\" in dir:\n",
    "            aug_type = \"TF-IDF-High\"\n",
    "        elif \"TF-IDF-Medium\" in dir:\n",
    "            aug_type = \"TF-IDF-Medium\"\n",
    "        else:\n",
    "            aug_type = \"None\"\n",
    "\n",
    "        # Read the file\n",
    "        accuracy = read_file(file_path)\n",
    "\n",
    "        df = pd.DataFrame([accuracy], columns=[\"accuracy\"])\n",
    "        df[\"augmentation_size\"] = aug_size\n",
    "        df[\"model\"] = model\n",
    "        df[\"augmentation_type\"] = aug_type\n",
    "\n",
    "        list_of_dfs.append(df)\n",
    "\n",
    "    return pd.concat(list_of_dfs)"
   ],
   "metadata": {
    "collapsed": false,
    "ExecuteTime": {
     "start_time": "2024-05-07T12:19:56.468092Z",
     "end_time": "2024-05-07T12:19:56.482372Z"
    }
   }
  },
  {
   "cell_type": "code",
   "execution_count": 21,
   "outputs": [],
   "source": [
    "#create ablation and normal df\n",
    "df_1 = create_df(dir_list, path_1)\n",
    "df_2 = create_df(dir_list, path_2)\n",
    "df_3 = create_df(dir_list, path_3)\n",
    "df_4 = create_df(dir_list, path_4)\n",
    "df_5 = create_df(dir_list, path_5)\n",
    "\n"
   ],
   "metadata": {
    "collapsed": false,
    "ExecuteTime": {
     "start_time": "2024-05-07T12:19:56.839281Z",
     "end_time": "2024-05-07T12:19:57.670338Z"
    }
   }
  },
  {
   "cell_type": "code",
   "execution_count": 30,
   "outputs": [],
   "source": [
    "concatenated_df = pd.concat([df_1, df_2, df_3, df_4, df_5], ignore_index=True)\n",
    "# Group by augmentation size, augmentation type, and model, and calculate the average accuracy and standard deviation\n",
    "grouped_df = concatenated_df.groupby(['augmentation_size', 'augmentation_type', 'model'])['accuracy'].agg(['mean', 'std']).reset_index()\n",
    "# Rename columns for clarity\n",
    "grouped_df.rename(columns={'mean': 'avg_accuracy', 'std': 'std_accuracy'}, inplace=True)\n"
   ],
   "metadata": {
    "collapsed": false,
    "ExecuteTime": {
     "start_time": "2024-05-07T12:26:36.121093Z",
     "end_time": "2024-05-07T12:26:36.137659Z"
    }
   }
  },
  {
   "cell_type": "code",
   "execution_count": 31,
   "outputs": [],
   "source": [],
   "metadata": {
    "collapsed": false,
    "ExecuteTime": {
     "start_time": "2024-05-07T12:27:07.395419Z",
     "end_time": "2024-05-07T12:27:07.405432Z"
    }
   }
  },
  {
   "cell_type": "code",
   "execution_count": null,
   "outputs": [],
   "source": [],
   "metadata": {
    "collapsed": false
   }
  }
 ],
 "metadata": {
  "kernelspec": {
   "display_name": "Python 3",
   "language": "python",
   "name": "python3"
  },
  "language_info": {
   "codemirror_mode": {
    "name": "ipython",
    "version": 2
   },
   "file_extension": ".py",
   "mimetype": "text/x-python",
   "name": "python",
   "nbconvert_exporter": "python",
   "pygments_lexer": "ipython2",
   "version": "2.7.6"
  }
 },
 "nbformat": 4,
 "nbformat_minor": 0
}
