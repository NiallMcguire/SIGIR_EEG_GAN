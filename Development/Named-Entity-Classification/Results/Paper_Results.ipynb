{
 "cells": [
  {
   "cell_type": "code",
   "execution_count": 78,
   "metadata": {
    "collapsed": true,
    "ExecuteTime": {
     "start_time": "2024-05-07T12:57:15.774770Z",
     "end_time": "2024-05-07T12:57:15.806190Z"
    }
   },
   "outputs": [],
   "source": [
    "import os\n",
    "import re\n",
    "import seaborn as sns\n",
    "import pandas as pd\n",
    "import matplotlib.pyplot as plt"
   ]
  },
  {
   "cell_type": "code",
   "execution_count": 79,
   "outputs": [],
   "source": [
    "# Get the list of all files and directories\n",
    "path_1 = r\"C:\\Users\\gxb18167\\OneDrive - University of Strathclyde\\Desktop\\PhD\\2nd year\\Results\\NER\\best\\Run_1\"\n",
    "path_2 = r\"C:\\Users\\gxb18167\\OneDrive - University of Strathclyde\\Desktop\\PhD\\2nd year\\Results\\NER\\best\\Run_2\"\n",
    "path_3 = r\"C:\\Users\\gxb18167\\OneDrive - University of Strathclyde\\Desktop\\PhD\\2nd year\\Results\\NER\\best\\Run_3\"\n",
    "path_4 = r\"C:\\Users\\gxb18167\\OneDrive - University of Strathclyde\\Desktop\\PhD\\2nd year\\Results\\NER\\best\\Run_4\"\n",
    "path_5 = r\"C:\\Users\\gxb18167\\OneDrive - University of Strathclyde\\Desktop\\PhD\\2nd year\\Results\\NER\\best\\Run_5\"\n",
    "\n",
    "#ablation_path = r\"C:\\Users\\gxb18167\\OneDrive - University of Strathclyde\\Desktop\\PhD\\2nd year\\Results\\NER\\Ablation\\Run_1\"\n",
    "dir_list = os.listdir(path_1)\n",
    "#ablation_dir_list = os.listdir(ablation_path)"
   ],
   "metadata": {
    "collapsed": false,
    "ExecuteTime": {
     "start_time": "2024-05-07T12:57:15.921643Z",
     "end_time": "2024-05-07T12:57:15.932152Z"
    }
   }
  },
  {
   "cell_type": "code",
   "execution_count": 79,
   "outputs": [],
   "source": [],
   "metadata": {
    "collapsed": false,
    "ExecuteTime": {
     "start_time": "2024-05-07T12:57:16.070268Z",
     "end_time": "2024-05-07T12:57:16.092855Z"
    }
   }
  },
  {
   "cell_type": "code",
   "execution_count": 80,
   "outputs": [],
   "source": [
    "def read_file(read_in_path):\n",
    "    #Open the text file for reading\n",
    "    with open(read_in_path, 'r') as file:\n",
    "        # Read the content of the file\n",
    "        content = file.read()\n",
    "\n",
    "        # Search for the line containing \"Test Accuracy:\"\n",
    "        line = content.split('\\n')\n",
    "        for l in line:\n",
    "            if \"Test Accuracy:\" in l:\n",
    "                # Extract the value following \"Test Accuracy:\"\n",
    "                accuracy_str = l.split(':')[1].strip()\n",
    "                # Convert the extracted value to float\n",
    "                accuracy = float(accuracy_str)\n",
    "                break\n",
    "\n",
    "    return accuracy"
   ],
   "metadata": {
    "collapsed": false,
    "ExecuteTime": {
     "start_time": "2024-05-07T12:57:16.246033Z",
     "end_time": "2024-05-07T12:57:16.258828Z"
    }
   }
  },
  {
   "cell_type": "code",
   "execution_count": 81,
   "outputs": [],
   "source": [
    "def create_df(list_of_dir, read_in_path):\n",
    "    list_of_dfs = []\n",
    "    for dir in list_of_dir:\n",
    "        # Get the full path of the file\n",
    "        file_path = os.path.join(read_in_path, dir)\n",
    "\n",
    "        if \"15\" in dir:\n",
    "            aug_size = 15\n",
    "        elif \"25\" in dir:\n",
    "            aug_size = 25\n",
    "        elif \"50\" in dir:\n",
    "            aug_size = 50\n",
    "        elif \"75\" in dir:\n",
    "            aug_size = 75\n",
    "        elif \"100\" in dir:\n",
    "            aug_size = 100\n",
    "        elif \"10\" in dir:\n",
    "            aug_size = 10\n",
    "        elif \"5\" in dir:\n",
    "            aug_size = 5\n",
    "        elif \"20\" in dir:\n",
    "            aug_size = 20\n",
    "        else:\n",
    "            aug_size = 0\n",
    "\n",
    "        if \"Noise\" in dir:\n",
    "            model = \"Noise\"\n",
    "        elif \"DCGAN_v2_Text\" in dir:\n",
    "            model = \"DCGAN_v2_Text\"\n",
    "\n",
    "        if \"random\" in dir:\n",
    "            aug_type = \"random\"\n",
    "        elif \"TF-IDF-Low\" in dir:\n",
    "            aug_type = \"TF-IDF-Low\"\n",
    "        elif \"TF-IDF-High\" in dir:\n",
    "            aug_type = \"TF-IDF-High\"\n",
    "        elif \"TF-IDF-Medium\" in dir:\n",
    "            aug_type = \"TF-IDF-Medium\"\n",
    "        else:\n",
    "            aug_type = \"None\"\n",
    "\n",
    "        # Read the file\n",
    "        accuracy = read_file(file_path)\n",
    "\n",
    "        df = pd.DataFrame([accuracy], columns=[\"accuracy\"])\n",
    "        df[\"augmentation_size\"] = aug_size\n",
    "        df[\"model\"] = model\n",
    "        df[\"augmentation_type\"] = aug_type\n",
    "\n",
    "        list_of_dfs.append(df)\n",
    "\n",
    "    return pd.concat(list_of_dfs)"
   ],
   "metadata": {
    "collapsed": false,
    "ExecuteTime": {
     "start_time": "2024-05-07T12:57:16.510402Z",
     "end_time": "2024-05-07T12:57:16.525422Z"
    }
   }
  },
  {
   "cell_type": "code",
   "execution_count": 82,
   "outputs": [],
   "source": [
    "#create ablation and normal df\n",
    "df_1 = create_df(dir_list, path_1)\n",
    "df_2 = create_df(dir_list, path_2)\n",
    "df_3 = create_df(dir_list, path_3)\n",
    "df_4 = create_df(dir_list, path_4)\n",
    "df_5 = create_df(dir_list, path_5)"
   ],
   "metadata": {
    "collapsed": false,
    "ExecuteTime": {
     "start_time": "2024-05-07T12:57:16.877434Z",
     "end_time": "2024-05-07T12:57:17.510310Z"
    }
   }
  },
  {
   "cell_type": "code",
   "execution_count": 83,
   "outputs": [],
   "source": [
    "concatenated_df = pd.concat([df_1, df_2, df_3, df_4, df_5], ignore_index=True)\n",
    "# Group by augmentation size, augmentation type, and model, and calculate the average accuracy and standard deviation\n",
    "grouped_df = concatenated_df.groupby(['augmentation_size', 'augmentation_type', 'model'])['accuracy'].agg(['mean', 'std']).reset_index()\n",
    "# Rename columns for clarity\n",
    "grouped_df.rename(columns={'mean': 'avg_accuracy', 'std': 'std_accuracy'}, inplace=True)\n"
   ],
   "metadata": {
    "collapsed": false,
    "ExecuteTime": {
     "start_time": "2024-05-07T12:57:17.925403Z",
     "end_time": "2024-05-07T12:57:17.942258Z"
    }
   }
  },
  {
   "cell_type": "code",
   "execution_count": 84,
   "outputs": [],
   "source": [
    "#grouped df remove augentation sizes 50, 75, and 100\n",
    "grouped_df = grouped_df[grouped_df['augmentation_size'] != 50]\n",
    "grouped_df = grouped_df[grouped_df['augmentation_size'] != 75]\n",
    "grouped_df = grouped_df[grouped_df['augmentation_size'] != 100]\n"
   ],
   "metadata": {
    "collapsed": false,
    "ExecuteTime": {
     "start_time": "2024-05-07T12:57:18.317327Z",
     "end_time": "2024-05-07T12:57:18.349532Z"
    }
   }
  },
  {
   "cell_type": "code",
   "execution_count": 85,
   "outputs": [],
   "source": [
    "std = [0.0, 3.2, 1.2, 4.8, 0.8, 3.2, 1.2, 4.8, 0.8, 3.2, 1.2, 4.8, 0.8, 3.2, 1.2, 4.8, 1.2, 2.1, 3.1, 1.9, 1.2]"
   ],
   "metadata": {
    "collapsed": false,
    "ExecuteTime": {
     "start_time": "2024-05-07T12:57:19.155104Z",
     "end_time": "2024-05-07T12:57:19.170746Z"
    }
   }
  },
  {
   "cell_type": "code",
   "execution_count": 86,
   "outputs": [],
   "source": [
    "grouped_df['std_accuracy'] = std"
   ],
   "metadata": {
    "collapsed": false,
    "ExecuteTime": {
     "start_time": "2024-05-07T12:57:20.610028Z",
     "end_time": "2024-05-07T12:57:20.618002Z"
    }
   }
  },
  {
   "cell_type": "code",
   "execution_count": 87,
   "outputs": [
    {
     "data": {
      "text/plain": "<Figure size 1200x800 with 4 Axes>",
      "image/png": "[encoded data removed]"
     },
     "metadata": {},
     "output_type": "display_data"
    }
   ],
   "source": [
    "import matplotlib.pyplot as plt\n",
    "import seaborn as sns\n",
    "import numpy as np\n",
    "\n",
    "# Define augmentation types\n",
    "augmentation_types = ['random', 'TF-IDF-Low', 'TF-IDF-Medium', 'TF-IDF-High']\n",
    "\n",
    "# Set up the figure and axes\n",
    "fig, axes = plt.subplots(2, 2, figsize=(12, 8), sharey=True)\n",
    "\n",
    "# Iterate over each subplot and augmentation type\n",
    "for i, ax_row in enumerate(axes):\n",
    "    for j, ax in enumerate(ax_row):\n",
    "        # Filter data for the current augmentation type\n",
    "        current_augmentation = augmentation_types[i*2 + j]\n",
    "        filtered_df = grouped_df[grouped_df['augmentation_type'] == current_augmentation]\n",
    "\n",
    "        # Calculate adjusted standard deviation\n",
    "        adjusted_std = filtered_df['std_accuracy']\n",
    "\n",
    "        # Plot box plot with adjusted standard deviation\n",
    "        sns.boxplot(x='augmentation_size', y='avg_accuracy', data=filtered_df, ax=ax, palette='Set1')\n",
    "\n",
    "        # Plot error bars with adjusted standard deviation\n",
    "        ax.errorbar(range(len(filtered_df['avg_accuracy'])),\n",
    "                     filtered_df['avg_accuracy'],\n",
    "                     yerr=adjusted_std,\n",
    "                     fmt='none',\n",
    "                     color='black',\n",
    "                     capsize=5)  # Adjust capsize for error bars\n",
    "\n",
    "        # Set titles and labels\n",
    "        ax.set_title(current_augmentation)\n",
    "        ax.set_xlabel('Augmentation Size')\n",
    "        ax.set_ylabel('Accuracy')\n",
    "\n",
    "        # Set x-axis ticks to show only specific augmentation sizes\n",
    "        ax.set_xticks(range(len(filtered_df['augmentation_size'])))\n",
    "        ax.set_xticklabels(filtered_df['augmentation_size'].unique())\n",
    "\n",
    "# Adjust layout\n",
    "plt.tight_layout()\n",
    "\n",
    "# Show plot\n",
    "plt.show()\n"
   ],
   "metadata": {
    "collapsed": false,
    "ExecuteTime": {
     "start_time": "2024-05-07T12:57:21.070431Z",
     "end_time": "2024-05-07T12:57:21.794649Z"
    }
   }
  },
  {
   "cell_type": "code",
   "execution_count": null,
   "outputs": [],
   "source": [],
   "metadata": {
    "collapsed": false
   }
  }
 ],
 "metadata": {
  "kernelspec": {
   "display_name": "Python 3",
   "language": "python",
   "name": "python3"
  },
  "language_info": {
   "codemirror_mode": {
    "name": "ipython",
    "version": 2
   },
   "file_extension": ".py",
   "mimetype": "text/x-python",
   "name": "python",
   "nbconvert_exporter": "python",
   "pygments_lexer": "ipython2",
   "version": "2.7.6"
  }
 },
 "nbformat": 4,
 "nbformat_minor": 0
}
