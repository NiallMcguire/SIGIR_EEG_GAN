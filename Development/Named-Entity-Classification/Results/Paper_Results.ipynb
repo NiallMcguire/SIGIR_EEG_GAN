{
 "cells": [
  {
   "cell_type": "code",
   "execution_count": 4,
   "metadata": {
    "collapsed": true,
    "ExecuteTime": {
     "start_time": "2024-05-07T12:09:12.022255Z",
     "end_time": "2024-05-07T12:09:12.043700Z"
    }
   },
   "outputs": [],
   "source": [
    "import os\n",
    "import re\n",
    "import seaborn as sns\n",
    "import pandas as pd\n",
    "import matplotlib.pyplot as plt"
   ]
  },
  {
   "cell_type": "code",
   "execution_count": 17,
   "outputs": [],
   "source": [
    "# Get the list of all files and directories\n",
    "path_1 = r\"C:\\Users\\gxb18167\\OneDrive - University of Strathclyde\\Desktop\\PhD\\2nd year\\Results\\NER\\best\\Run_1\"\n",
    "path_2 = r\"C:\\Users\\gxb18167\\OneDrive - University of Strathclyde\\Desktop\\PhD\\2nd year\\Results\\NER\\best\\Run_2\"\n",
    "path_3 = r\"C:\\Users\\gxb18167\\OneDrive - University of Strathclyde\\Desktop\\PhD\\2nd year\\Results\\NER\\best\\Run_3\"\n",
    "path_4 = r\"C:\\Users\\gxb18167\\OneDrive - University of Strathclyde\\Desktop\\PhD\\2nd year\\Results\\NER\\best\\Run_4\"\n",
    "path_5 = r\"C:\\Users\\gxb18167\\OneDrive - University of Strathclyde\\Desktop\\PhD\\2nd year\\Results\\NER\\best\\Run_5\"\n",
    "\n",
    "#ablation_path = r\"C:\\Users\\gxb18167\\OneDrive - University of Strathclyde\\Desktop\\PhD\\2nd year\\Results\\NER\\Ablation\\Run_1\"\n",
    "dir_list = os.listdir(path)\n",
    "#ablation_dir_list = os.listdir(ablation_path)"
   ],
   "metadata": {
    "collapsed": false,
    "ExecuteTime": {
     "start_time": "2024-05-07T12:19:55.488110Z",
     "end_time": "2024-05-07T12:19:55.506279Z"
    }
   }
  },
  {
   "cell_type": "code",
   "execution_count": 18,
   "outputs": [
    {
     "data": {
      "text/plain": "['Aug_size_0_Epochs_30_Aug_Model_DCGAN_v2_Text_random_accuracy.txt',\n 'Aug_size_100_Epochs_30_Aug_Model_DCGAN_v2_Text_random_accuracy.txt',\n 'Aug_size_100_Epochs_30_Aug_Model_DCGAN_v2_Text_TF-IDF-High_accuracy.txt',\n 'Aug_size_100_Epochs_30_Aug_Model_DCGAN_v2_Text_TF-IDF-Low_accuracy.txt',\n 'Aug_size_100_Epochs_30_Aug_Model_DCGAN_v2_Text_TF-IDF-Medium_accuracy.txt',\n 'Aug_size_10_Epochs_30_Aug_Model_DCGAN_v2_Text_random_accuracy.txt',\n 'Aug_size_10_Epochs_30_Aug_Model_DCGAN_v2_Text_TF-IDF-High_accuracy.txt',\n 'Aug_size_10_Epochs_30_Aug_Model_DCGAN_v2_Text_TF-IDF-Low_accuracy.txt',\n 'Aug_size_10_Epochs_30_Aug_Model_DCGAN_v2_Text_TF-IDF-Medium_accuracy.txt',\n 'Aug_size_15_Epochs_30_Aug_Model_DCGAN_v2_Text_random_accuracy.txt',\n 'Aug_size_15_Epochs_30_Aug_Model_DCGAN_v2_Text_TF-IDF-High_accuracy.txt',\n 'Aug_size_15_Epochs_30_Aug_Model_DCGAN_v2_Text_TF-IDF-Low_accuracy.txt',\n 'Aug_size_15_Epochs_30_Aug_Model_DCGAN_v2_Text_TF-IDF-Medium_accuracy.txt',\n 'Aug_size_20_Epochs_30_Aug_Model_DCGAN_v2_Text_random_accuracy.txt',\n 'Aug_size_20_Epochs_30_Aug_Model_DCGAN_v2_Text_TF-IDF-High_accuracy.txt',\n 'Aug_size_20_Epochs_30_Aug_Model_DCGAN_v2_Text_TF-IDF-Low_accuracy.txt',\n 'Aug_size_20_Epochs_30_Aug_Model_DCGAN_v2_Text_TF-IDF-Medium_accuracy.txt',\n 'Aug_size_25_Epochs_30_Aug_Model_DCGAN_v2_Text_random_accuracy.txt',\n 'Aug_size_25_Epochs_30_Aug_Model_DCGAN_v2_Text_TF-IDF-High_accuracy.txt',\n 'Aug_size_25_Epochs_30_Aug_Model_DCGAN_v2_Text_TF-IDF-Low_accuracy.txt',\n 'Aug_size_25_Epochs_30_Aug_Model_DCGAN_v2_Text_TF-IDF-Medium_accuracy.txt',\n 'Aug_size_50_Epochs_30_Aug_Model_DCGAN_v2_Text_random_accuracy.txt',\n 'Aug_size_50_Epochs_30_Aug_Model_DCGAN_v2_Text_TF-IDF-High_accuracy.txt',\n 'Aug_size_50_Epochs_30_Aug_Model_DCGAN_v2_Text_TF-IDF-Low_accuracy.txt',\n 'Aug_size_50_Epochs_30_Aug_Model_DCGAN_v2_Text_TF-IDF-Medium_accuracy.txt',\n 'Aug_size_5_Epochs_30_Aug_Model_DCGAN_v2_Text_random_accuracy.txt',\n 'Aug_size_5_Epochs_30_Aug_Model_DCGAN_v2_Text_TF-IDF-High_accuracy.txt',\n 'Aug_size_5_Epochs_30_Aug_Model_DCGAN_v2_Text_TF-IDF-Low_accuracy.txt',\n 'Aug_size_5_Epochs_30_Aug_Model_DCGAN_v2_Text_TF-IDF-Medium_accuracy.txt',\n 'Aug_size_75_Epochs_30_Aug_Model_DCGAN_v2_Text_random_accuracy.txt',\n 'Aug_size_75_Epochs_30_Aug_Model_DCGAN_v2_Text_TF-IDF-High_accuracy.txt',\n 'Aug_size_75_Epochs_30_Aug_Model_DCGAN_v2_Text_TF-IDF-Low_accuracy.txt',\n 'Aug_size_75_Epochs_30_Aug_Model_DCGAN_v2_Text_TF-IDF-Medium_accuracy.txt']"
     },
     "execution_count": 18,
     "metadata": {},
     "output_type": "execute_result"
    }
   ],
   "source": [
    "dir_list"
   ],
   "metadata": {
    "collapsed": false,
    "ExecuteTime": {
     "start_time": "2024-05-07T12:19:55.778484Z",
     "end_time": "2024-05-07T12:19:55.814587Z"
    }
   }
  },
  {
   "cell_type": "code",
   "execution_count": 19,
   "outputs": [],
   "source": [
    "def read_file(read_in_path):\n",
    "    #Open the text file for reading\n",
    "    with open(read_in_path, 'r') as file:\n",
    "        # Read the content of the file\n",
    "        content = file.read()\n",
    "\n",
    "        # Search for the line containing \"Test Accuracy:\"\n",
    "        line = content.split('\\n')\n",
    "        for l in line:\n",
    "            if \"Test Accuracy:\" in l:\n",
    "                # Extract the value following \"Test Accuracy:\"\n",
    "                accuracy_str = l.split(':')[1].strip()\n",
    "                # Convert the extracted value to float\n",
    "                accuracy = float(accuracy_str)\n",
    "                break\n",
    "\n",
    "    return accuracy"
   ],
   "metadata": {
    "collapsed": false,
    "ExecuteTime": {
     "start_time": "2024-05-07T12:19:56.104949Z",
     "end_time": "2024-05-07T12:19:56.120190Z"
    }
   }
  },
  {
   "cell_type": "code",
   "execution_count": 20,
   "outputs": [],
   "source": [
    "def create_df(list_of_dir, read_in_path):\n",
    "    list_of_dfs = []\n",
    "    for dir in list_of_dir:\n",
    "        # Get the full path of the file\n",
    "        file_path = os.path.join(read_in_path, dir)\n",
    "\n",
    "        if \"15\" in dir:\n",
    "            aug_size = 15\n",
    "        elif \"25\" in dir:\n",
    "            aug_size = 25\n",
    "        elif \"50\" in dir:\n",
    "            aug_size = 50\n",
    "        elif \"75\" in dir:\n",
    "            aug_size = 75\n",
    "        elif \"100\" in dir:\n",
    "            aug_size = 100\n",
    "        elif \"10\" in dir:\n",
    "            aug_size = 10\n",
    "        elif \"5\" in dir:\n",
    "            aug_size = 5\n",
    "        elif \"20\" in dir:\n",
    "            aug_size = 20\n",
    "        else:\n",
    "            aug_size = 0\n",
    "\n",
    "        if \"Noise\" in dir:\n",
    "            model = \"Noise\"\n",
    "        elif \"DCGAN_v2_Text\" in dir:\n",
    "            model = \"DCGAN_v2_Text\"\n",
    "\n",
    "        if \"random\" in dir:\n",
    "            aug_type = \"random\"\n",
    "        elif \"TF-IDF-Low\" in dir:\n",
    "            aug_type = \"TF-IDF-Low\"\n",
    "        elif \"TF-IDF-High\" in dir:\n",
    "            aug_type = \"TF-IDF-High\"\n",
    "        elif \"TF-IDF-Medium\" in dir:\n",
    "            aug_type = \"TF-IDF-Medium\"\n",
    "        else:\n",
    "            aug_type = \"None\"\n",
    "\n",
    "        # Read the file\n",
    "        accuracy = read_file(file_path)\n",
    "\n",
    "        df = pd.DataFrame([accuracy], columns=[\"accuracy\"])\n",
    "        df[\"augmentation_size\"] = aug_size\n",
    "        df[\"model\"] = model\n",
    "        df[\"augmentation_type\"] = aug_type\n",
    "\n",
    "        list_of_dfs.append(df)\n",
    "\n",
    "    return pd.concat(list_of_dfs)"
   ],
   "metadata": {
    "collapsed": false,
    "ExecuteTime": {
     "start_time": "2024-05-07T12:19:56.468092Z",
     "end_time": "2024-05-07T12:19:56.482372Z"
    }
   }
  },
  {
   "cell_type": "code",
   "execution_count": 21,
   "outputs": [],
   "source": [
    "#create ablation and normal df\n",
    "df_1 = create_df(dir_list, path_1)\n",
    "df_2 = create_df(dir_list, path_2)\n",
    "df_3 = create_df(dir_list, path_3)\n",
    "df_4 = create_df(dir_list, path_4)\n",
    "df_5 = create_df(dir_list, path_5)\n",
    "\n",
    "\n"
   ],
   "metadata": {
    "collapsed": false,
    "ExecuteTime": {
     "start_time": "2024-05-07T12:19:56.839281Z",
     "end_time": "2024-05-07T12:19:57.670338Z"
    }
   }
  },
  {
   "cell_type": "code",
   "execution_count": 30,
   "outputs": [],
   "source": [
    "concatenated_df = pd.concat([df_1, df_2, df_3, df_4, df_5], ignore_index=True)\n",
    "\n",
    "# Group by augmentation size, augmentation type, and model, and calculate the average accuracy and standard deviation\n",
    "grouped_df = concatenated_df.groupby(['augmentation_size', 'augmentation_type', 'model'])['accuracy'].agg(['mean', 'std']).reset_index()\n",
    "\n",
    "# Rename columns for clarity\n",
    "grouped_df.rename(columns={'mean': 'avg_accuracy', 'std': 'std_accuracy'}, inplace=True)\n"
   ],
   "metadata": {
    "collapsed": false,
    "ExecuteTime": {
     "start_time": "2024-05-07T12:26:36.121093Z",
     "end_time": "2024-05-07T12:26:36.137659Z"
    }
   }
  },
  {
   "cell_type": "code",
   "execution_count": 31,
   "outputs": [
    {
     "data": {
      "text/plain": "    augmentation_size augmentation_type          model  avg_accuracy  \\\n0                   0            random  DCGAN_v2_Text        0.5593   \n1                   5       TF-IDF-High  DCGAN_v2_Text        0.5692   \n2                   5        TF-IDF-Low  DCGAN_v2_Text        0.5632   \n3                   5     TF-IDF-Medium  DCGAN_v2_Text        0.6001   \n4                   5            random  DCGAN_v2_Text        0.5803   \n5                  10       TF-IDF-High  DCGAN_v2_Text        0.5898   \n6                  10        TF-IDF-Low  DCGAN_v2_Text        0.5963   \n7                  10     TF-IDF-Medium  DCGAN_v2_Text        0.6210   \n8                  10            random  DCGAN_v2_Text        0.6190   \n9                  15       TF-IDF-High  DCGAN_v2_Text        0.5735   \n10                 15        TF-IDF-Low  DCGAN_v2_Text        0.5742   \n11                 15     TF-IDF-Medium  DCGAN_v2_Text        0.6010   \n12                 15            random  DCGAN_v2_Text        0.5924   \n13                 20       TF-IDF-High  DCGAN_v2_Text        0.5582   \n14                 20        TF-IDF-Low  DCGAN_v2_Text        0.5755   \n15                 20     TF-IDF-Medium  DCGAN_v2_Text        0.5901   \n16                 20            random  DCGAN_v2_Text        0.5991   \n17                 25       TF-IDF-High  DCGAN_v2_Text        0.5491   \n18                 25        TF-IDF-Low  DCGAN_v2_Text        0.5423   \n19                 25     TF-IDF-Medium  DCGAN_v2_Text        0.5890   \n20                 25            random  DCGAN_v2_Text        0.5702   \n21                 50       TF-IDF-High  DCGAN_v2_Text        0.5529   \n22                 50        TF-IDF-Low  DCGAN_v2_Text        0.5390   \n23                 50     TF-IDF-Medium  DCGAN_v2_Text        0.5721   \n24                 50            random  DCGAN_v2_Text        0.5473   \n25                 75       TF-IDF-High  DCGAN_v2_Text        0.4771   \n26                 75        TF-IDF-Low  DCGAN_v2_Text        0.4621   \n27                 75     TF-IDF-Medium  DCGAN_v2_Text        0.5142   \n28                 75            random  DCGAN_v2_Text        0.4875   \n29                100       TF-IDF-High  DCGAN_v2_Text        0.4303   \n30                100        TF-IDF-Low  DCGAN_v2_Text        0.4189   \n31                100     TF-IDF-Medium  DCGAN_v2_Text        0.4841   \n32                100            random  DCGAN_v2_Text        0.4467   \n\n    std_accuracy  \n0            0.0  \n1            0.0  \n2            0.0  \n3            0.0  \n4            0.0  \n5            0.0  \n6            0.0  \n7            0.0  \n8            0.0  \n9            0.0  \n10           0.0  \n11           0.0  \n12           0.0  \n13           0.0  \n14           0.0  \n15           0.0  \n16           0.0  \n17           0.0  \n18           0.0  \n19           0.0  \n20           0.0  \n21           0.0  \n22           0.0  \n23           0.0  \n24           0.0  \n25           0.0  \n26           0.0  \n27           0.0  \n28           0.0  \n29           0.0  \n30           0.0  \n31           0.0  \n32           0.0  ",
      "text/html": "<div>\n<style scoped>\n    .dataframe tbody tr th:only-of-type {\n        vertical-align: middle;\n    }\n\n    .dataframe tbody tr th {\n        vertical-align: top;\n    }\n\n    .dataframe thead th {\n        text-align: right;\n    }\n</style>\n<table border=\"1\" class=\"dataframe\">\n  <thead>\n    <tr style=\"text-align: right;\">\n      <th></th>\n      <th>augmentation_size</th>\n      <th>augmentation_type</th>\n      <th>model</th>\n      <th>avg_accuracy</th>\n      <th>std_accuracy</th>\n    </tr>\n  </thead>\n  <tbody>\n    <tr>\n      <th>0</th>\n      <td>0</td>\n      <td>random</td>\n      <td>DCGAN_v2_Text</td>\n      <td>0.5593</td>\n      <td>0.0</td>\n    </tr>\n    <tr>\n      <th>1</th>\n      <td>5</td>\n      <td>TF-IDF-High</td>\n      <td>DCGAN_v2_Text</td>\n      <td>0.5692</td>\n      <td>0.0</td>\n    </tr>\n    <tr>\n      <th>2</th>\n      <td>5</td>\n      <td>TF-IDF-Low</td>\n      <td>DCGAN_v2_Text</td>\n      <td>0.5632</td>\n      <td>0.0</td>\n    </tr>\n    <tr>\n      <th>3</th>\n      <td>5</td>\n      <td>TF-IDF-Medium</td>\n      <td>DCGAN_v2_Text</td>\n      <td>0.6001</td>\n      <td>0.0</td>\n    </tr>\n    <tr>\n      <th>4</th>\n      <td>5</td>\n      <td>random</td>\n      <td>DCGAN_v2_Text</td>\n      <td>0.5803</td>\n      <td>0.0</td>\n    </tr>\n    <tr>\n      <th>5</th>\n      <td>10</td>\n      <td>TF-IDF-High</td>\n      <td>DCGAN_v2_Text</td>\n      <td>0.5898</td>\n      <td>0.0</td>\n    </tr>\n    <tr>\n      <th>6</th>\n      <td>10</td>\n      <td>TF-IDF-Low</td>\n      <td>DCGAN_v2_Text</td>\n      <td>0.5963</td>\n      <td>0.0</td>\n    </tr>\n    <tr>\n      <th>7</th>\n      <td>10</td>\n      <td>TF-IDF-Medium</td>\n      <td>DCGAN_v2_Text</td>\n      <td>0.6210</td>\n      <td>0.0</td>\n    </tr>\n    <tr>\n      <th>8</th>\n      <td>10</td>\n      <td>random</td>\n      <td>DCGAN_v2_Text</td>\n      <td>0.6190</td>\n      <td>0.0</td>\n    </tr>\n    <tr>\n      <th>9</th>\n      <td>15</td>\n      <td>TF-IDF-High</td>\n      <td>DCGAN_v2_Text</td>\n      <td>0.5735</td>\n      <td>0.0</td>\n    </tr>\n    <tr>\n      <th>10</th>\n      <td>15</td>\n      <td>TF-IDF-Low</td>\n      <td>DCGAN_v2_Text</td>\n      <td>0.5742</td>\n      <td>0.0</td>\n    </tr>\n    <tr>\n      <th>11</th>\n      <td>15</td>\n      <td>TF-IDF-Medium</td>\n      <td>DCGAN_v2_Text</td>\n      <td>0.6010</td>\n      <td>0.0</td>\n    </tr>\n    <tr>\n      <th>12</th>\n      <td>15</td>\n      <td>random</td>\n      <td>DCGAN_v2_Text</td>\n      <td>0.5924</td>\n      <td>0.0</td>\n    </tr>\n    <tr>\n      <th>13</th>\n      <td>20</td>\n      <td>TF-IDF-High</td>\n      <td>DCGAN_v2_Text</td>\n      <td>0.5582</td>\n      <td>0.0</td>\n    </tr>\n    <tr>\n      <th>14</th>\n      <td>20</td>\n      <td>TF-IDF-Low</td>\n      <td>DCGAN_v2_Text</td>\n      <td>0.5755</td>\n      <td>0.0</td>\n    </tr>\n    <tr>\n      <th>15</th>\n      <td>20</td>\n      <td>TF-IDF-Medium</td>\n      <td>DCGAN_v2_Text</td>\n      <td>0.5901</td>\n      <td>0.0</td>\n    </tr>\n    <tr>\n      <th>16</th>\n      <td>20</td>\n      <td>random</td>\n      <td>DCGAN_v2_Text</td>\n      <td>0.5991</td>\n      <td>0.0</td>\n    </tr>\n    <tr>\n      <th>17</th>\n      <td>25</td>\n      <td>TF-IDF-High</td>\n      <td>DCGAN_v2_Text</td>\n      <td>0.5491</td>\n      <td>0.0</td>\n    </tr>\n    <tr>\n      <th>18</th>\n      <td>25</td>\n      <td>TF-IDF-Low</td>\n      <td>DCGAN_v2_Text</td>\n      <td>0.5423</td>\n      <td>0.0</td>\n    </tr>\n    <tr>\n      <th>19</th>\n      <td>25</td>\n      <td>TF-IDF-Medium</td>\n      <td>DCGAN_v2_Text</td>\n      <td>0.5890</td>\n      <td>0.0</td>\n    </tr>\n    <tr>\n      <th>20</th>\n      <td>25</td>\n      <td>random</td>\n      <td>DCGAN_v2_Text</td>\n      <td>0.5702</td>\n      <td>0.0</td>\n    </tr>\n    <tr>\n      <th>21</th>\n      <td>50</td>\n      <td>TF-IDF-High</td>\n      <td>DCGAN_v2_Text</td>\n      <td>0.5529</td>\n      <td>0.0</td>\n    </tr>\n    <tr>\n      <th>22</th>\n      <td>50</td>\n      <td>TF-IDF-Low</td>\n      <td>DCGAN_v2_Text</td>\n      <td>0.5390</td>\n      <td>0.0</td>\n    </tr>\n    <tr>\n      <th>23</th>\n      <td>50</td>\n      <td>TF-IDF-Medium</td>\n      <td>DCGAN_v2_Text</td>\n      <td>0.5721</td>\n      <td>0.0</td>\n    </tr>\n    <tr>\n      <th>24</th>\n      <td>50</td>\n      <td>random</td>\n      <td>DCGAN_v2_Text</td>\n      <td>0.5473</td>\n      <td>0.0</td>\n    </tr>\n    <tr>\n      <th>25</th>\n      <td>75</td>\n      <td>TF-IDF-High</td>\n      <td>DCGAN_v2_Text</td>\n      <td>0.4771</td>\n      <td>0.0</td>\n    </tr>\n    <tr>\n      <th>26</th>\n      <td>75</td>\n      <td>TF-IDF-Low</td>\n      <td>DCGAN_v2_Text</td>\n      <td>0.4621</td>\n      <td>0.0</td>\n    </tr>\n    <tr>\n      <th>27</th>\n      <td>75</td>\n      <td>TF-IDF-Medium</td>\n      <td>DCGAN_v2_Text</td>\n      <td>0.5142</td>\n      <td>0.0</td>\n    </tr>\n    <tr>\n      <th>28</th>\n      <td>75</td>\n      <td>random</td>\n      <td>DCGAN_v2_Text</td>\n      <td>0.4875</td>\n      <td>0.0</td>\n    </tr>\n    <tr>\n      <th>29</th>\n      <td>100</td>\n      <td>TF-IDF-High</td>\n      <td>DCGAN_v2_Text</td>\n      <td>0.4303</td>\n      <td>0.0</td>\n    </tr>\n    <tr>\n      <th>30</th>\n      <td>100</td>\n      <td>TF-IDF-Low</td>\n      <td>DCGAN_v2_Text</td>\n      <td>0.4189</td>\n      <td>0.0</td>\n    </tr>\n    <tr>\n      <th>31</th>\n      <td>100</td>\n      <td>TF-IDF-Medium</td>\n      <td>DCGAN_v2_Text</td>\n      <td>0.4841</td>\n      <td>0.0</td>\n    </tr>\n    <tr>\n      <th>32</th>\n      <td>100</td>\n      <td>random</td>\n      <td>DCGAN_v2_Text</td>\n      <td>0.4467</td>\n      <td>0.0</td>\n    </tr>\n  </tbody>\n</table>\n</div>"
     },
     "execution_count": 31,
     "metadata": {},
     "output_type": "execute_result"
    }
   ],
   "source": [],
   "metadata": {
    "collapsed": false,
    "ExecuteTime": {
     "start_time": "2024-05-07T12:26:38.088522Z",
     "end_time": "2024-05-07T12:26:38.108359Z"
    }
   }
  },
  {
   "cell_type": "code",
   "execution_count": null,
   "outputs": [],
   "source": [],
   "metadata": {
    "collapsed": false
   }
  }
 ],
 "metadata": {
  "kernelspec": {
   "display_name": "Python 3",
   "language": "python",
   "name": "python3"
  },
  "language_info": {
   "codemirror_mode": {
    "name": "ipython",
    "version": 2
   },
   "file_extension": ".py",
   "mimetype": "text/x-python",
   "name": "python",
   "nbconvert_exporter": "python",
   "pygments_lexer": "ipython2",
   "version": "2.7.6"
  }
 },
 "nbformat": 4,
 "nbformat_minor": 0
}
