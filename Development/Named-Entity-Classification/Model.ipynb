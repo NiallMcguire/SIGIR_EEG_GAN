{
 "cells": [
  {
   "cell_type": "code",
   "execution_count": 2,
   "outputs": [],
   "source": [
    "import pickle"
   ],
   "metadata": {
    "collapsed": false,
    "ExecuteTime": {
     "start_time": "2024-04-16T14:49:25.296857Z",
     "end_time": "2024-04-16T14:49:25.313336Z"
    }
   }
  },
  {
   "cell_type": "code",
   "execution_count": 7,
   "outputs": [],
   "source": [
    "def save_lists_to_file(path):\n",
    "    # Open the pickle file in binary write mode\n",
    "    with open(path, 'rb') as f:\n",
    "    # Load each list from the file\n",
    "        NE = pickle.load(f)\n",
    "        EEG_segments = pickle.load(f)\n",
    "        Classes = pickle.load(f)\n",
    "\n",
    "    return NE, EEG_segments, Classes"
   ],
   "metadata": {
    "collapsed": false,
    "ExecuteTime": {
     "start_time": "2024-04-16T14:52:38.694681Z",
     "end_time": "2024-04-16T14:52:38.711902Z"
    }
   }
  },
  {
   "cell_type": "code",
   "execution_count": 8,
   "metadata": {
    "collapsed": true,
    "ExecuteTime": {
     "start_time": "2024-04-16T14:52:39.209214Z",
     "end_time": "2024-04-16T14:52:39.216729Z"
    }
   },
   "outputs": [],
   "source": [
    "#read in train and test data\n",
    "\n",
    "train_path = r\"C:\\Users\\gxb18167\\PycharmProjects\\SIGIR_EEG_GAN\\Development\\Named-Entity-Classification\\Data-Management\\train_NER.pkl\"\n",
    "\n",
    "test_path = r\"C:\\Users\\gxb18167\\PycharmProjects\\SIGIR_EEG_GAN\\Development\\Named-Entity-Classification\\Data-Management\\test_NER.pkl\""
   ]
  },
  {
   "cell_type": "code",
   "execution_count": 9,
   "outputs": [],
   "source": [
    "\n",
    "train_NE, train_EEG_segments, train_Classes = save_lists_to_file(train_path)\n",
    "test_NE, test_EEG_segments, test_Classes = save_lists_to_file(test_path)"
   ],
   "metadata": {
    "collapsed": false,
    "ExecuteTime": {
     "start_time": "2024-04-16T14:52:43.968729Z",
     "end_time": "2024-04-16T14:52:44.206203Z"
    }
   }
  },
  {
   "cell_type": "code",
   "execution_count": 26,
   "outputs": [],
   "source": [],
   "metadata": {
    "collapsed": false,
    "ExecuteTime": {
     "start_time": "2024-04-16T15:08:11.693934Z",
     "end_time": "2024-04-16T15:08:11.693934Z"
    }
   }
  },
  {
   "cell_type": "code",
   "execution_count": 11,
   "outputs": [
    {
     "data": {
      "text/plain": "[['B-PER', 'I-PER'],\n ['B-PER', 'I-PER'],\n ['B-PER'],\n ['B-PER'],\n ['B-PER', 'I-PER', 'I-PER'],\n ['B-PER', 'I-PER', 'I-PER'],\n ['B-LOC', 'I-LOC'],\n ['B-PER', 'I-PER'],\n ['B-PER'],\n ['B-LOC'],\n ['B-LOC'],\n ['B-LOC'],\n ['B-PER', 'I-PER'],\n ['B-PER', 'I-PER'],\n ['B-PER', 'I-PER', 'I-PER'],\n ['B-PER'],\n ['B-PER', 'I-PER'],\n ['B-PER', 'I-PER'],\n ['B-PER'],\n ['B-PER', 'I-PER'],\n ['B-PER', 'I-PER'],\n ['B-ORG'],\n ['B-PER', 'I-PER'],\n ['B-PER'],\n ['B-PER', 'I-PER'],\n ['B-PER'],\n ['B-PER'],\n ['B-PER', 'I-PER', 'I-PER'],\n ['B-ORG', 'I-ORG', 'I-ORG', 'I-ORG'],\n ['B-ORG'],\n ['B-PER'],\n ['B-LOC'],\n ['B-LOC'],\n ['B-ORG', 'I-ORG', 'I-ORG', 'I-ORG', 'I-ORG', 'I-ORG', 'I-ORG'],\n ['B-ORG', 'I-ORG'],\n ['B-ORG', 'I-ORG'],\n ['B-ORG'],\n ['B-LOC', 'I-LOC'],\n ['B-LOC', 'I-LOC'],\n ['B-LOC'],\n ['B-LOC', 'B-ORG', 'I-ORG'],\n ['B-ORG', 'I-ORG', 'I-ORG'],\n ['B-LOC'],\n ['B-PER'],\n ['B-ORG', 'I-ORG'],\n ['B-PER', 'I-PER'],\n ['B-PER', 'I-PER', 'I-PER'],\n ['B-LOC'],\n ['B-LOC'],\n ['B-PER', 'I-PER'],\n ['B-PER', 'I-PER'],\n ['B-PER', 'I-PER'],\n ['B-ORG'],\n ['B-ORG', 'I-ORG', 'I-ORG', 'I-ORG'],\n ['B-LOC', 'I-LOC'],\n ['B-LOC'],\n ['B-PER', 'I-PER', 'I-PER'],\n ['B-LOC'],\n ['B-LOC'],\n ['B-LOC', 'I-LOC', 'I-LOC'],\n ['B-LOC'],\n ['B-ORG', 'I-ORG', 'I-ORG'],\n ['B-PER', 'I-PER', 'I-PER'],\n ['B-PER', 'I-PER'],\n ['B-PER', 'I-PER'],\n ['B-PER', 'I-PER', 'I-PER'],\n ['B-PER', 'I-PER'],\n ['B-PER', 'I-PER'],\n ['B-PER', 'I-PER'],\n ['B-PER', 'I-PER'],\n ['B-LOC'],\n ['B-LOC'],\n ['B-PER', 'I-PER', 'I-PER'],\n ['B-PER', 'I-PER'],\n ['B-PER', 'I-PER'],\n ['B-PER', 'I-PER'],\n ['B-PER', 'I-PER'],\n ['B-PER', 'I-PER'],\n ['B-PER', 'I-PER'],\n ['B-PER', 'I-PER'],\n ['B-PER', 'I-PER'],\n ['B-PER', 'I-PER'],\n ['B-PER', 'I-PER'],\n ['B-PER', 'I-PER'],\n ['B-PER', 'I-PER'],\n ['B-PER', 'I-PER', 'I-PER'],\n ['B-PER', 'I-PER', 'I-PER'],\n ['B-ORG', 'B-PER'],\n ['B-PER', 'B-ORG'],\n ['B-ORG', 'I-ORG'],\n ['B-PER'],\n ['B-ORG'],\n ['B-ORG'],\n ['B-ORG', 'I-ORG', 'I-ORG'],\n ['B-PER', 'I-PER'],\n ['B-ORG', 'B-PER', 'I-PER'],\n ['B-PER', 'I-PER', 'I-PER', 'I-PER'],\n ['B-LOC'],\n ['B-LOC', 'I-LOC'],\n ['B-LOC', 'I-LOC'],\n ['B-LOC'],\n ['B-PER', 'I-PER'],\n ['B-PER', 'I-PER'],\n ['B-PER'],\n ['B-PER'],\n ['B-LOC'],\n ['B-ORG', 'I-ORG', 'I-ORG'],\n ['B-LOC'],\n ['B-PER', 'I-PER'],\n ['B-ORG', 'I-ORG', 'I-ORG'],\n ['B-ORG', 'I-ORG'],\n ['B-LOC', 'I-LOC'],\n ['B-LOC'],\n ['B-ORG', 'I-ORG', 'I-ORG', 'I-ORG'],\n ['B-PER', 'I-PER'],\n ['B-ORG', 'I-ORG'],\n ['B-LOC'],\n ['B-LOC', 'I-LOC'],\n ['B-ORG', 'I-ORG'],\n ['B-ORG', 'I-ORG'],\n ['B-ORG', 'I-ORG', 'I-ORG'],\n ['B-ORG', 'I-ORG', 'I-ORG', 'I-ORG'],\n ['B-PER', 'I-PER', 'I-PER'],\n ['B-PER', 'I-PER', 'I-PER'],\n ['B-PER', 'I-PER'],\n ['B-PER', 'I-PER', 'I-PER'],\n ['B-ORG', 'I-ORG', 'I-ORG', 'I-ORG'],\n ['B-ORG'],\n ['B-ORG', 'I-ORG', 'I-ORG'],\n ['B-LOC'],\n ['B-ORG', 'I-ORG', 'I-ORG'],\n ['B-PER', 'I-PER'],\n ['B-ORG', 'I-ORG', 'I-ORG', 'I-ORG'],\n ['B-ORG'],\n ['B-PER'],\n ['B-PER', 'I-PER'],\n ['B-PER'],\n ['B-PER', 'I-PER'],\n ['B-PER', 'I-PER'],\n ['B-PER', 'I-PER', 'I-PER'],\n ['B-LOC', 'I-LOC'],\n ['B-PER', 'I-PER', 'I-PER'],\n ['B-PER'],\n ['B-PER', 'I-PER'],\n ['B-PER'],\n ['B-PER', 'I-PER', 'I-PER'],\n ['B-PER', 'I-PER'],\n ['B-PER'],\n ['B-PER', 'I-PER', 'I-PER'],\n ['B-PER'],\n ['B-LOC'],\n ['B-PER', 'I-PER'],\n ['B-PER', 'I-PER'],\n ['B-PER'],\n ['B-PER'],\n ['B-LOC'],\n ['B-PER', 'I-PER'],\n ['B-PER', 'I-PER'],\n ['B-PER', 'I-PER'],\n ['B-PER', 'I-PER', 'I-PER'],\n ['B-PER', 'I-PER', 'I-PER'],\n ['B-LOC'],\n ['B-PER', 'I-PER', 'I-PER'],\n ['B-PER', 'I-PER'],\n ['B-PER', 'I-PER'],\n ['B-LOC', 'I-LOC', 'I-LOC'],\n ['B-PER', 'I-PER'],\n ['B-PER', 'I-PER', 'I-PER', 'I-PER', 'I-PER'],\n ['B-LOC'],\n ['B-LOC', 'I-LOC'],\n ['B-PER'],\n ['B-LOC'],\n ['B-PER', 'I-PER', 'I-PER'],\n ['B-PER', 'I-PER'],\n ['B-ORG', 'I-ORG'],\n ['B-PER', 'I-PER', 'I-PER'],\n ['B-PER', 'I-PER'],\n ['B-PER', 'I-PER'],\n ['B-PER', 'I-PER'],\n ['B-PER', 'I-PER'],\n ['B-PER', 'I-PER'],\n ['B-PER', 'I-PER'],\n ['B-PER', 'I-PER'],\n ['B-PER', 'I-PER'],\n ['B-PER', 'I-PER'],\n ['B-LOC'],\n ['B-PER', 'I-PER'],\n ['B-LOC'],\n ['B-PER'],\n ['B-PER', 'I-PER'],\n ['B-ORG'],\n ['B-ORG'],\n ['B-PER'],\n ['B-LOC'],\n ['B-ORG'],\n ['B-PER'],\n ['B-PER'],\n ['B-PER'],\n ['B-ORG'],\n ['B-PER', 'I-PER', 'I-PER'],\n ['B-PER', 'I-PER'],\n ['B-PER', 'I-PER', 'I-PER'],\n ['B-PER'],\n ['B-LOC'],\n ['B-ORG'],\n ['B-ORG'],\n ['B-LOC'],\n ['B-LOC'],\n ['B-LOC'],\n ['B-PER'],\n ['B-PER'],\n ['B-PER'],\n ['B-PER', 'I-PER'],\n ['B-PER'],\n ['B-PER', 'I-PER'],\n ['B-PER', 'I-PER'],\n ['B-PER', 'I-PER'],\n ['B-PER'],\n ['B-ORG', 'I-ORG'],\n ['B-PER', 'I-PER'],\n ['B-PER', 'I-PER'],\n ['B-PER', 'I-PER'],\n ['B-PER', 'I-PER'],\n ['B-PER', 'I-PER'],\n ['B-PER', 'I-PER'],\n ['B-PER'],\n ['B-PER'],\n ['B-PER'],\n ['B-PER', 'I-PER'],\n ['B-PER', 'I-PER', 'I-PER'],\n ['B-LOC'],\n ['B-ORG'],\n ['B-LOC'],\n ['B-LOC'],\n ['B-PER', 'I-PER', 'I-PER'],\n ['B-PER', 'I-PER', 'I-PER'],\n ['B-PER', 'I-PER'],\n ['B-PER', 'I-PER'],\n ['B-LOC'],\n ['B-PER', 'I-PER'],\n ['B-ORG'],\n ['B-ORG', 'I-ORG'],\n ['B-ORG', 'I-ORG'],\n ['B-ORG', 'I-ORG', 'I-ORG'],\n ['B-ORG', 'I-ORG'],\n ['B-ORG'],\n ['B-ORG', 'I-ORG'],\n ['B-ORG', 'I-ORG', 'I-ORG'],\n ['B-PER', 'I-PER', 'I-PER'],\n ['B-PER', 'I-PER'],\n ['B-PER', 'I-PER'],\n ['B-PER', 'I-PER'],\n ['B-LOC'],\n ['B-ORG', 'I-ORG'],\n ['B-LOC'],\n ['B-LOC', 'I-LOC'],\n ['B-LOC'],\n ['B-LOC'],\n ['B-PER', 'I-PER'],\n ['B-LOC', 'I-LOC'],\n ['B-PER'],\n ['B-LOC', 'I-LOC'],\n ['B-LOC'],\n ['B-PER', 'I-PER'],\n ['B-PER', 'I-PER'],\n ['B-PER', 'I-PER'],\n ['B-PER', 'I-PER'],\n ['B-PER', 'I-PER'],\n ['B-LOC'],\n ['B-LOC'],\n ['B-LOC', 'I-LOC'],\n ['B-PER', 'I-PER'],\n ['B-PER', 'I-PER'],\n ['B-PER'],\n ['B-PER', 'I-PER'],\n ['B-LOC'],\n ['B-PER', 'I-PER', 'I-PER', 'I-PER'],\n ['B-LOC'],\n ['B-LOC'],\n ['B-PER', 'I-PER', 'I-PER'],\n ['B-PER'],\n ['B-PER', 'I-PER', 'I-PER'],\n ['B-PER', 'I-PER'],\n ['B-PER', 'I-PER'],\n ['B-PER', 'I-PER'],\n ['B-PER'],\n ['B-PER'],\n ['B-PER'],\n ['B-PER'],\n ['B-ORG', 'I-ORG'],\n ['B-PER', 'I-PER'],\n ['B-ORG', 'B-PER', 'I-PER'],\n ['B-ORG', 'I-ORG', 'I-ORG'],\n ['B-PER', 'I-PER'],\n ['B-PER'],\n ['B-PER'],\n ['B-PER'],\n ['B-PER', 'I-PER'],\n ['B-LOC'],\n ['B-LOC'],\n ['B-LOC'],\n ['B-LOC'],\n ['B-ORG', 'I-ORG', 'I-ORG'],\n ['B-PER', 'I-PER'],\n ['B-ORG'],\n ['B-ORG', 'I-ORG', 'I-ORG'],\n ['B-ORG'],\n ['B-ORG', 'I-ORG', 'I-ORG', 'I-ORG', 'I-ORG'],\n ['B-LOC'],\n ['B-PER'],\n ['B-PER'],\n ['B-PER'],\n ['B-PER', 'I-PER'],\n ['B-PER'],\n ['B-LOC'],\n ['B-PER', 'I-PER', 'I-PER'],\n ['B-LOC'],\n ['B-LOC'],\n ['B-LOC'],\n ['B-LOC', 'I-LOC'],\n ['B-PER'],\n ['B-PER'],\n ['B-PER', 'I-PER'],\n ['B-PER'],\n ['B-PER', 'I-PER'],\n ['B-PER', 'I-PER'],\n ['B-PER', 'I-PER'],\n ['B-ORG'],\n ['B-PER', 'I-PER'],\n ['B-PER', 'I-PER'],\n ['B-LOC', 'I-LOC'],\n ['B-PER', 'I-PER'],\n ['B-PER'],\n ['B-ORG', 'I-ORG', 'I-ORG'],\n ['B-LOC', 'I-LOC'],\n ['B-PER', 'I-PER'],\n ['B-PER', 'I-PER', 'I-PER'],\n ['B-ORG', 'I-ORG', 'I-ORG'],\n ['B-LOC'],\n ['B-LOC', 'I-LOC'],\n ['B-ORG', 'I-ORG', 'I-ORG', 'I-ORG', 'I-ORG'],\n ['B-ORG', 'B-PER', 'I-PER'],\n ['B-LOC', 'I-LOC'],\n ['B-PER', 'I-PER', 'I-PER'],\n ['B-ORG', 'I-ORG'],\n ['B-LOC'],\n ['B-ORG', 'I-ORG', 'I-ORG'],\n ['B-ORG', 'I-ORG', 'I-ORG'],\n ['B-ORG'],\n ['B-PER', 'I-PER'],\n ['B-LOC'],\n ['B-LOC'],\n ['B-ORG', 'I-ORG'],\n ['B-LOC', 'I-LOC'],\n ['B-LOC'],\n ['B-ORG', 'I-ORG'],\n ['B-ORG'],\n ['B-ORG', 'I-ORG', 'I-ORG'],\n ['B-LOC'],\n ['B-PER', 'I-PER'],\n ['B-PER', 'I-PER', 'I-PER'],\n ['B-LOC', 'I-LOC'],\n ['B-LOC'],\n ['B-LOC'],\n ['B-PER', 'I-PER'],\n ['B-PER', 'I-PER'],\n ['B-LOC', 'I-LOC'],\n ['B-PER', 'I-PER', 'I-PER', 'I-PER'],\n ['B-LOC'],\n ['B-PER', 'I-PER', 'I-PER'],\n ['B-PER', 'I-PER'],\n ['B-PER', 'I-PER', 'I-PER'],\n ['B-PER', 'I-PER'],\n ['B-PER'],\n ['B-PER', 'I-PER'],\n ['B-PER'],\n ['B-LOC'],\n ['B-LOC'],\n ['B-LOC'],\n ['B-PER', 'I-PER', 'I-PER'],\n ['B-ORG', 'I-ORG'],\n ['B-ORG', 'I-ORG', 'I-ORG', 'I-ORG'],\n ['B-ORG'],\n ['B-ORG', 'I-ORG', 'I-ORG', 'I-ORG'],\n ['B-ORG'],\n ['B-PER', 'I-PER'],\n ['B-LOC'],\n ['B-LOC'],\n ['B-PER', 'I-PER', 'I-PER'],\n ['B-ORG', 'I-ORG'],\n ['B-ORG', 'I-ORG', 'I-ORG'],\n ['B-ORG', 'I-ORG', 'I-ORG'],\n ['B-LOC'],\n ['B-LOC'],\n ['B-ORG'],\n ['B-PER', 'I-PER'],\n ['B-PER', 'I-PER'],\n ['B-PER'],\n ['B-PER', 'I-PER'],\n ['B-PER', 'I-PER'],\n ['B-ORG', 'I-ORG'],\n ['B-PER'],\n ['B-PER', 'I-PER'],\n ['B-PER', 'I-PER'],\n ['B-PER', 'I-PER'],\n ['B-PER', 'I-PER', 'I-PER'],\n ['B-LOC', 'I-LOC'],\n ['B-LOC'],\n ['B-LOC'],\n ['B-LOC', 'I-LOC'],\n ['B-PER', 'I-PER'],\n ['B-ORG', 'I-ORG'],\n ['B-PER', 'I-PER', 'I-PER'],\n ['B-PER', 'I-PER'],\n ['B-LOC', 'I-LOC'],\n ['B-LOC'],\n ['B-PER', 'I-PER', 'I-PER'],\n ['B-PER', 'I-PER', 'I-PER'],\n ['B-PER', 'I-PER'],\n ['B-LOC'],\n ['B-LOC'],\n ['B-LOC'],\n ['B-PER'],\n ['B-PER'],\n ['B-PER', 'I-PER', 'I-PER'],\n ['B-PER'],\n ['B-PER', 'I-PER'],\n ['B-PER', 'I-PER', 'I-PER', 'I-PER', 'I-PER'],\n ['B-PER'],\n ['B-PER', 'I-PER', 'I-PER', 'I-PER'],\n ['B-LOC'],\n ['B-PER', 'I-PER'],\n ['B-PER', 'I-PER', 'I-PER'],\n ['B-PER', 'I-PER'],\n ['B-PER', 'I-PER'],\n ['B-PER', 'I-PER'],\n ['B-PER'],\n ['B-PER', 'I-PER'],\n ['B-LOC'],\n ['B-PER'],\n ['B-LOC'],\n ['B-PER', 'B-ORG', 'I-ORG', 'I-ORG'],\n ['B-PER', 'I-PER', 'I-PER'],\n ['B-PER', 'B-LOC'],\n ['B-ORG', 'I-ORG'],\n ['B-ORG', 'I-ORG', 'I-ORG'],\n ['B-ORG', 'I-ORG', 'I-ORG'],\n ['B-PER', 'I-PER'],\n ['B-PER', 'I-PER'],\n ['B-PER'],\n ['B-PER'],\n ['B-PER', 'I-PER'],\n ['B-LOC'],\n ['B-LOC'],\n ['B-LOC'],\n ['B-PER', 'I-PER', 'I-PER'],\n ['B-LOC'],\n ['B-PER'],\n ['B-LOC', 'I-LOC'],\n ['B-PER'],\n ['B-PER'],\n ['B-PER', 'I-PER', 'I-PER'],\n ['B-PER'],\n ['B-PER'],\n ['B-PER'],\n ['B-PER'],\n ['B-PER'],\n ['B-LOC'],\n ['B-ORG'],\n ['B-PER', 'I-PER'],\n ['B-PER'],\n ['B-LOC'],\n ['B-PER'],\n ['B-LOC'],\n ['B-PER'],\n ['B-ORG', 'I-ORG', 'I-ORG'],\n ['B-PER'],\n ['B-ORG', 'I-ORG'],\n ['B-ORG', 'I-ORG'],\n ['B-ORG', 'I-ORG'],\n ['B-ORG', 'I-ORG'],\n ['B-ORG', 'I-ORG', 'I-ORG'],\n ['B-LOC'],\n ['B-PER', 'I-PER'],\n ['B-PER'],\n ['B-PER'],\n ['B-PER'],\n ['B-LOC', 'I-LOC'],\n ['B-PER'],\n ['B-LOC'],\n ['B-LOC', 'I-LOC'],\n ['B-LOC'],\n ['B-LOC'],\n ['B-LOC'],\n ['B-PER'],\n ['B-PER'],\n ['B-PER'],\n ['B-ORG', 'I-ORG', 'I-ORG'],\n ['B-LOC'],\n ['B-PER'],\n ['B-PER'],\n ['B-ORG'],\n ['B-ORG'],\n ['B-ORG', 'I-ORG'],\n ['B-PER', 'I-PER'],\n ['B-PER'],\n ['B-PER'],\n ['B-PER'],\n ['B-PER'],\n ['B-PER'],\n ['B-PER'],\n ['B-PER', 'I-PER'],\n ['B-LOC'],\n ['B-ORG'],\n ['B-PER'],\n ['B-LOC'],\n ['B-PER', 'I-PER', 'I-PER'],\n ['B-PER'],\n ['B-PER'],\n ['B-PER'],\n ['B-ORG'],\n ['B-PER'],\n ['B-PER', 'I-PER'],\n ['B-PER'],\n ['B-PER', 'I-PER'],\n ['B-PER', 'I-PER'],\n ['B-PER', 'I-PER'],\n ['B-PER'],\n ['B-ORG'],\n ['B-PER', 'I-PER'],\n ['B-PER'],\n ['B-PER'],\n ['B-PER', 'I-PER'],\n ['B-PER'],\n ['B-ORG'],\n ['B-PER'],\n ['B-PER', 'I-PER'],\n ['B-PER', 'I-PER'],\n ['B-PER'],\n ['B-PER', 'I-PER'],\n ['B-PER', 'I-PER'],\n ['B-PER'],\n ['B-PER'],\n ['B-PER', 'I-PER'],\n ['B-PER', 'I-PER'],\n ['B-PER', 'I-PER'],\n ['B-PER'],\n ['B-PER'],\n ['B-PER'],\n ['B-PER'],\n ['B-PER'],\n ['B-PER'],\n ['B-PER'],\n ['B-PER'],\n ['B-PER'],\n ['B-PER'],\n ['B-PER'],\n ['B-PER', 'I-PER'],\n ['B-PER'],\n ['B-PER'],\n ['B-PER', 'I-PER'],\n ['B-PER'],\n ['B-PER', 'I-PER'],\n ['B-PER'],\n ['B-PER', 'I-PER'],\n ['B-PER'],\n ['B-PER', 'I-PER'],\n ['B-PER'],\n ['B-ORG'],\n ['B-PER'],\n ['B-PER', 'I-PER'],\n ['B-PER', 'I-PER'],\n ['B-PER'],\n ['B-PER'],\n ['B-PER'],\n ['B-PER'],\n ['B-PER', 'I-PER'],\n ['B-PER'],\n ['B-PER'],\n ['B-PER'],\n ['B-PER'],\n ['B-PER'],\n ['B-PER'],\n ['B-PER'],\n ['B-PER'],\n ['B-PER', 'I-PER'],\n ['B-PER', 'I-PER'],\n ['B-PER', 'I-PER'],\n ['B-PER'],\n ['B-PER'],\n ['B-PER', 'I-PER'],\n ['B-PER', 'I-PER'],\n ['B-PER', 'I-PER'],\n ['B-PER'],\n ['B-LOC'],\n ['B-PER'],\n ['B-PER'],\n ['B-PER'],\n ['B-PER'],\n ['B-PER', 'I-PER'],\n ['B-PER', 'I-PER', 'I-PER'],\n ['B-PER'],\n ['B-PER'],\n ['B-PER'],\n ['B-PER', 'I-PER'],\n ['B-PER', 'I-PER'],\n ['B-PER'],\n ['B-ORG'],\n ['B-PER'],\n ['B-PER'],\n ['B-PER', 'I-PER'],\n ['B-PER'],\n ['B-PER'],\n ['B-PER'],\n ['B-PER', 'I-PER'],\n ['B-PER'],\n ['B-PER'],\n ['B-LOC'],\n ['B-PER', 'I-PER'],\n ['B-PER', 'I-PER', 'I-PER'],\n ['B-PER'],\n ['B-PER'],\n ['B-PER'],\n ['B-PER'],\n ['B-PER'],\n ['B-PER'],\n ['B-PER', 'I-PER'],\n ['B-PER'],\n ['B-PER'],\n ['B-PER'],\n ['B-PER', 'I-PER'],\n ['B-PER'],\n ['B-PER', 'I-PER'],\n ['B-PER', 'I-PER'],\n ['B-PER', 'I-PER'],\n ['B-PER', 'I-PER'],\n ['B-PER', 'I-PER'],\n ['B-PER'],\n ['B-PER'],\n ['B-PER'],\n ['B-PER'],\n ['B-PER'],\n ['B-PER'],\n ['B-PER'],\n ['B-PER']]"
     },
     "execution_count": 11,
     "metadata": {},
     "output_type": "execute_result"
    }
   ],
   "source": [
    "train_Classes"
   ],
   "metadata": {
    "collapsed": false,
    "ExecuteTime": {
     "start_time": "2024-04-16T14:53:12.795393Z",
     "end_time": "2024-04-16T14:53:12.843328Z"
    }
   }
  },
  {
   "cell_type": "code",
   "execution_count": 26,
   "outputs": [],
   "source": [],
   "metadata": {
    "collapsed": false,
    "ExecuteTime": {
     "start_time": "2024-04-16T15:14:12.173986Z",
     "end_time": "2024-04-16T15:14:12.186528Z"
    }
   }
  },
  {
   "cell_type": "code",
   "execution_count": 26,
   "outputs": [],
   "source": [],
   "metadata": {
    "collapsed": false,
    "ExecuteTime": {
     "start_time": "2024-04-16T15:14:13.223592Z",
     "end_time": "2024-04-16T15:14:13.239605Z"
    }
   }
  },
  {
   "cell_type": "code",
   "execution_count": null,
   "outputs": [],
   "source": [],
   "metadata": {
    "collapsed": false
   }
  }
 ],
 "metadata": {
  "kernelspec": {
   "display_name": "Python 3",
   "language": "python",
   "name": "python3"
  },
  "language_info": {
   "codemirror_mode": {
    "name": "ipython",
    "version": 2
   },
   "file_extension": ".py",
   "mimetype": "text/x-python",
   "name": "python",
   "nbconvert_exporter": "python",
   "pygments_lexer": "ipython2",
   "version": "2.7.6"
  }
 },
 "nbformat": 4,
 "nbformat_minor": 0
}
