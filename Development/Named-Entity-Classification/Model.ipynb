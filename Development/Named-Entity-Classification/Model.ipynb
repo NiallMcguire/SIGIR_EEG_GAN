{
 "cells": [
  {
   "cell_type": "code",
   "execution_count": 79,
   "outputs": [],
   "source": [
    "import pickle\n",
    "import numpy as np"
   ],
   "metadata": {
    "collapsed": false,
    "ExecuteTime": {
     "start_time": "2024-04-16T16:14:55.649486Z",
     "end_time": "2024-04-16T16:14:55.662032Z"
    }
   }
  },
  {
   "cell_type": "code",
   "execution_count": 80,
   "outputs": [],
   "source": [
    "def save_lists_to_file(path):\n",
    "    # Open the pickle file in binary write mode\n",
    "    with open(path, 'rb') as f:\n",
    "    # Load each list from the file\n",
    "        NE = pickle.load(f)\n",
    "        EEG_segments = pickle.load(f)\n",
    "        Classes = pickle.load(f)\n",
    "\n",
    "    return NE, EEG_segments, Classes"
   ],
   "metadata": {
    "collapsed": false,
    "ExecuteTime": {
     "start_time": "2024-04-16T16:14:55.756210Z",
     "end_time": "2024-04-16T16:14:55.787592Z"
    }
   }
  },
  {
   "cell_type": "code",
   "execution_count": 96,
   "outputs": [],
   "source": [
    "def padding_x_y(EEG_segments, Classes, named_entity_list):\n",
    "    X = []\n",
    "    y = []\n",
    "    NE = []\n",
    "    for i in range(len(EEG_segments)):\n",
    "        named_entity = named_entity_list[i]\n",
    "        label = Classes[i][0]\n",
    "        #print(label)\n",
    "        EEG_list = EEG_segments[i]\n",
    "        for EEG in EEG_list:\n",
    "            if EEG != []:\n",
    "                X.append(EEG)\n",
    "                y.append(label)\n",
    "                NE.append(named_entity)\n",
    "    max_seq_length = max([len(x) for x in X])\n",
    "    #paddding\n",
    "    for i in range(len(X)):\n",
    "        padding_count = max_seq_length - len(X[i])\n",
    "        #print(padding_count)\n",
    "        for j in range(padding_count):\n",
    "            X[i].append(np.zeros((105,8)))\n",
    "\n",
    "    return X, y, NE\n"
   ],
   "metadata": {
    "collapsed": false,
    "ExecuteTime": {
     "start_time": "2024-04-16T16:46:03.229077Z",
     "end_time": "2024-04-16T16:46:03.260050Z"
    }
   }
  },
  {
   "cell_type": "code",
   "execution_count": 106,
   "outputs": [],
   "source": [
    "def create_word_label_embeddings(Word_Labels_List):\n",
    "    tokenized_words = []\n",
    "    for i in range(len(Word_Labels_List)):\n",
    "        tokenized_words.append([Word_Labels_List[i]])\n",
    "    model = Word2Vec(sentences=tokenized_words, vector_size=word_embedding_dim, window=5, min_count=1, workers=4)\n",
    "    word_embeddings = {word: model.wv[word] for word in model.wv.index_to_key}\n",
    "    print(\"Number of word embeddings:\", len(word_embeddings))\n",
    "    #word, embedding = list(word_embeddings.items())[10]\n",
    "    #print(f\"Word: {word}, Embedding: {embedding}\")\n",
    "\n",
    "    Embedded_Word_labels = []\n",
    "    for word in EEG_word_level_labels:\n",
    "        Embedded_Word_labels.append(word_embeddings[word])\n",
    "\n",
    "    return Embedded_Word_labels, word_embeddings"
   ],
   "metadata": {
    "collapsed": false,
    "ExecuteTime": {
     "start_time": "2024-04-16T17:05:35.485123Z",
     "end_time": "2024-04-16T17:05:35.500452Z"
    }
   }
  },
  {
   "cell_type": "code",
   "execution_count": 97,
   "metadata": {
    "collapsed": true,
    "ExecuteTime": {
     "start_time": "2024-04-16T16:46:12.666568Z",
     "end_time": "2024-04-16T16:46:12.698241Z"
    }
   },
   "outputs": [],
   "source": [
    "#read in train and test data\n",
    "\n",
    "train_path = r\"C:\\Users\\gxb18167\\PycharmProjects\\SIGIR_EEG_GAN\\Development\\Named-Entity-Classification\\Data-Management\\train_NER.pkl\"\n",
    "\n",
    "test_path = r\"C:\\Users\\gxb18167\\PycharmProjects\\SIGIR_EEG_GAN\\Development\\Named-Entity-Classification\\Data-Management\\test_NER.pkl\""
   ]
  },
  {
   "cell_type": "code",
   "execution_count": 98,
   "outputs": [],
   "source": [
    "\n",
    "train_NE, train_EEG_segments, train_Classes = save_lists_to_file(train_path)\n",
    "test_NE, test_EEG_segments, test_Classes = save_lists_to_file(test_path)"
   ],
   "metadata": {
    "collapsed": false,
    "ExecuteTime": {
     "start_time": "2024-04-16T16:46:13.078053Z",
     "end_time": "2024-04-16T16:46:13.240676Z"
    }
   }
  },
  {
   "cell_type": "code",
   "execution_count": 105,
   "outputs": [],
   "source": [
    "\n",
    "#padding\n",
    "X_train, y_train, NE_list = padding_x_y(train_EEG_segments, train_Classes, train_NE)\n",
    "X_test, y_test, NE_list_test = padding_x_y(test_EEG_segments, test_Classes, test_NE)"
   ],
   "metadata": {
    "collapsed": false,
    "ExecuteTime": {
     "start_time": "2024-04-16T17:04:50.866217Z",
     "end_time": "2024-04-16T17:04:50.892512Z"
    }
   }
  },
  {
   "cell_type": "code",
   "execution_count": 101,
   "outputs": [
    {
     "data": {
      "text/plain": "26061"
     },
     "execution_count": 101,
     "metadata": {},
     "output_type": "execute_result"
    }
   ],
   "source": [
    "len(NE_list)"
   ],
   "metadata": {
    "collapsed": false,
    "ExecuteTime": {
     "start_time": "2024-04-16T16:46:37.855396Z",
     "end_time": "2024-04-16T16:46:37.886619Z"
    }
   }
  },
  {
   "cell_type": "code",
   "execution_count": 104,
   "outputs": [
    {
     "data": {
      "text/plain": "7"
     },
     "execution_count": 104,
     "metadata": {},
     "output_type": "execute_result"
    }
   ],
   "source": [
    "len(X_train[0])"
   ],
   "metadata": {
    "collapsed": false,
    "ExecuteTime": {
     "start_time": "2024-04-16T16:48:10.638532Z",
     "end_time": "2024-04-16T16:48:10.658942Z"
    }
   }
  },
  {
   "cell_type": "code",
   "execution_count": 74,
   "outputs": [],
   "source": [],
   "metadata": {
    "collapsed": false,
    "ExecuteTime": {
     "start_time": "2024-04-16T16:13:13.596595Z",
     "end_time": "2024-04-16T16:13:13.611129Z"
    }
   }
  },
  {
   "cell_type": "code",
   "execution_count": 78,
   "outputs": [],
   "source": [],
   "metadata": {
    "collapsed": false,
    "ExecuteTime": {
     "start_time": "2024-04-16T16:13:44.061103Z",
     "end_time": "2024-04-16T16:13:44.078715Z"
    }
   }
  },
  {
   "cell_type": "code",
   "execution_count": 78,
   "outputs": [],
   "source": [],
   "metadata": {
    "collapsed": false,
    "ExecuteTime": {
     "start_time": "2024-04-16T16:13:32.502966Z",
     "end_time": "2024-04-16T16:13:32.518075Z"
    }
   }
  },
  {
   "cell_type": "code",
   "execution_count": 60,
   "outputs": [],
   "source": [],
   "metadata": {
    "collapsed": false,
    "ExecuteTime": {
     "start_time": "2024-04-16T16:10:56.855192Z",
     "end_time": "2024-04-16T16:10:56.886092Z"
    }
   }
  },
  {
   "cell_type": "code",
   "execution_count": null,
   "outputs": [],
   "source": [],
   "metadata": {
    "collapsed": false
   }
  }
 ],
 "metadata": {
  "kernelspec": {
   "display_name": "Python 3",
   "language": "python",
   "name": "python3"
  },
  "language_info": {
   "codemirror_mode": {
    "name": "ipython",
    "version": 2
   },
   "file_extension": ".py",
   "mimetype": "text/x-python",
   "name": "python",
   "nbconvert_exporter": "python",
   "pygments_lexer": "ipython2",
   "version": "2.7.6"
  }
 },
 "nbformat": 4,
 "nbformat_minor": 0
}
