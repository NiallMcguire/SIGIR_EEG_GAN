{
 "cells": [
  {
   "cell_type": "code",
   "execution_count": 20,
   "outputs": [],
   "source": [
    "import pickle"
   ],
   "metadata": {
    "collapsed": false,
    "ExecuteTime": {
     "start_time": "2024-04-16T16:00:35.978585Z",
     "end_time": "2024-04-16T16:00:35.995283Z"
    }
   }
  },
  {
   "cell_type": "code",
   "execution_count": 21,
   "outputs": [],
   "source": [
    "def save_lists_to_file(path):\n",
    "    # Open the pickle file in binary write mode\n",
    "    with open(path, 'rb') as f:\n",
    "    # Load each list from the file\n",
    "        NE = pickle.load(f)\n",
    "        EEG_segments = pickle.load(f)\n",
    "        Classes = pickle.load(f)\n",
    "\n",
    "    return NE, EEG_segments, Classes"
   ],
   "metadata": {
    "collapsed": false,
    "ExecuteTime": {
     "start_time": "2024-04-16T16:00:36.121935Z",
     "end_time": "2024-04-16T16:00:36.151447Z"
    }
   }
  },
  {
   "cell_type": "code",
   "execution_count": 22,
   "metadata": {
    "collapsed": true,
    "ExecuteTime": {
     "start_time": "2024-04-16T16:00:36.272065Z",
     "end_time": "2024-04-16T16:00:36.288661Z"
    }
   },
   "outputs": [],
   "source": [
    "#read in train and test data\n",
    "\n",
    "train_path = r\"C:\\Users\\gxb18167\\PycharmProjects\\SIGIR_EEG_GAN\\Development\\Named-Entity-Classification\\Data-Management\\train_NER.pkl\"\n",
    "\n",
    "test_path = r\"C:\\Users\\gxb18167\\PycharmProjects\\SIGIR_EEG_GAN\\Development\\Named-Entity-Classification\\Data-Management\\test_NER.pkl\""
   ]
  },
  {
   "cell_type": "code",
   "execution_count": 23,
   "outputs": [],
   "source": [
    "\n",
    "train_NE, train_EEG_segments, train_Classes = save_lists_to_file(train_path)\n",
    "test_NE, test_EEG_segments, test_Classes = save_lists_to_file(test_path)"
   ],
   "metadata": {
    "collapsed": false,
    "ExecuteTime": {
     "start_time": "2024-04-16T16:00:36.426783Z",
     "end_time": "2024-04-16T16:00:36.521710Z"
    }
   }
  },
  {
   "cell_type": "code",
   "execution_count": 23,
   "outputs": [],
   "source": [],
   "metadata": {
    "collapsed": false,
    "ExecuteTime": {
     "start_time": "2024-04-16T16:00:36.553319Z",
     "end_time": "2024-04-16T16:00:36.569411Z"
    }
   }
  },
  {
   "cell_type": "code",
   "execution_count": 24,
   "outputs": [
    {
     "name": "stdout",
     "output_type": "stream",
     "text": [
      "33\n",
      "167\n",
      "307\n",
      "340\n",
      "427\n"
     ]
    }
   ],
   "source": [
    "for i in range(len(train_NE)):\n",
    "    if len(train_NE[i]) > 4:\n",
    "        print(i)"
   ],
   "metadata": {
    "collapsed": false,
    "ExecuteTime": {
     "start_time": "2024-04-16T16:00:36.991219Z",
     "end_time": "2024-04-16T16:00:37.003926Z"
    }
   }
  },
  {
   "cell_type": "code",
   "execution_count": 25,
   "outputs": [
    {
     "data": {
      "text/plain": "7"
     },
     "execution_count": 25,
     "metadata": {},
     "output_type": "execute_result"
    }
   ],
   "source": [
    "len(train_NE[33])"
   ],
   "metadata": {
    "collapsed": false,
    "ExecuteTime": {
     "start_time": "2024-04-16T16:00:37.377677Z",
     "end_time": "2024-04-16T16:00:37.394545Z"
    }
   }
  },
  {
   "cell_type": "code",
   "execution_count": 38,
   "outputs": [],
   "source": [
    "X_train = []\n",
    "y_train = []\n",
    "\n",
    "for i in range(len(train_EEG_segments)):\n",
    "    label = train_Classes[i][0]\n",
    "    #print(label)\n",
    "    EEG_list = train_EEG_segments[i]\n",
    "    for EEG in EEG_list:\n",
    "        if EEG != []:\n",
    "            X_train.append(EEG)\n",
    "            y_train.append(label)\n",
    "\n"
   ],
   "metadata": {
    "collapsed": false,
    "ExecuteTime": {
     "start_time": "2024-04-16T16:02:18.477082Z",
     "end_time": "2024-04-16T16:02:18.494060Z"
    }
   }
  },
  {
   "cell_type": "code",
   "execution_count": 37,
   "outputs": [],
   "source": [],
   "metadata": {
    "collapsed": false,
    "ExecuteTime": {
     "start_time": "2024-04-16T16:01:41.132531Z",
     "end_time": "2024-04-16T16:01:41.158766Z"
    }
   }
  },
  {
   "cell_type": "code",
   "execution_count": 31,
   "outputs": [],
   "source": [],
   "metadata": {
    "collapsed": false,
    "ExecuteTime": {
     "start_time": "2024-04-16T16:01:15.248935Z",
     "end_time": "2024-04-16T16:01:15.263701Z"
    }
   }
  },
  {
   "cell_type": "code",
   "execution_count": 7,
   "outputs": [],
   "source": [],
   "metadata": {
    "collapsed": false,
    "ExecuteTime": {
     "start_time": "2024-04-16T15:32:42.514524Z",
     "end_time": "2024-04-16T15:32:42.577042Z"
    }
   }
  },
  {
   "cell_type": "code",
   "execution_count": 7,
   "outputs": [],
   "source": [],
   "metadata": {
    "collapsed": false,
    "ExecuteTime": {
     "start_time": "2024-04-16T15:32:42.530168Z",
     "end_time": "2024-04-16T15:32:42.577042Z"
    }
   }
  }
 ],
 "metadata": {
  "kernelspec": {
   "display_name": "Python 3",
   "language": "python",
   "name": "python3"
  },
  "language_info": {
   "codemirror_mode": {
    "name": "ipython",
    "version": 2
   },
   "file_extension": ".py",
   "mimetype": "text/x-python",
   "name": "python",
   "nbconvert_exporter": "python",
   "pygments_lexer": "ipython2",
   "version": "2.7.6"
  }
 },
 "nbformat": 4,
 "nbformat_minor": 0
}
