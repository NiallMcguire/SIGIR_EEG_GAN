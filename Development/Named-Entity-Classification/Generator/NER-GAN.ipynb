{
 "cells": [
  {
   "cell_type": "code",
   "execution_count": 5,
   "outputs": [],
   "source": [
    "import pickle"
   ],
   "metadata": {
    "collapsed": false,
    "ExecuteTime": {
     "start_time": "2024-04-17T15:23:35.866829Z",
     "end_time": "2024-04-17T15:23:35.885857Z"
    }
   }
  },
  {
   "cell_type": "code",
   "execution_count": 11,
   "outputs": [
    {
     "name": "stderr",
     "output_type": "stream",
     "text": [
      "[nltk_data] Downloading package punkt to\n",
      "[nltk_data]     C:\\Users\\gxb18167\\AppData\\Roaming\\nltk_data...\n",
      "[nltk_data]   Package punkt is already up-to-date!\n"
     ]
    }
   ],
   "source": [
    "import pickle\n",
    "import sys\n",
    "import nltk\n",
    "import torch.nn as nn\n",
    "import numpy as np\n",
    "nltk.download('punkt')\n",
    "from gensim.models import Word2Vec\n",
    "sys.path.insert(0, '..')\n",
    "import torch"
   ],
   "metadata": {
    "collapsed": false,
    "ExecuteTime": {
     "start_time": "2024-04-17T15:30:28.463932Z",
     "end_time": "2024-04-17T15:30:36.795348Z"
    }
   }
  },
  {
   "cell_type": "code",
   "execution_count": 12,
   "outputs": [],
   "source": [
    "def save_lists_to_file(path):\n",
    "    # Open the pickle file in binary write mode\n",
    "    with open(path, 'rb') as f:\n",
    "    # Load each list from the file\n",
    "        NE = pickle.load(f)\n",
    "        EEG_segments = pickle.load(f)\n",
    "        Classes = pickle.load(f)\n",
    "\n",
    "    return NE, EEG_segments, Classes"
   ],
   "metadata": {
    "collapsed": false,
    "ExecuteTime": {
     "start_time": "2024-04-17T15:30:45.971108Z",
     "end_time": "2024-04-17T15:30:46.003722Z"
    }
   }
  },
  {
   "cell_type": "code",
   "execution_count": 59,
   "outputs": [],
   "source": [
    "def create_word_label_embeddings(Word_Labels_List):\n",
    "    tokenized_words = []\n",
    "    for i in range(len(Word_Labels_List)):\n",
    "        tokenized_words.append([Word_Labels_List[i]])\n",
    "    model = Word2Vec(sentences=tokenized_words, vector_size=50, window=5, min_count=1, workers=4)\n",
    "    word_embeddings = {word: model.wv[word] for word in model.wv.index_to_key}\n",
    "    print(\"Number of word embeddings:\", len(word_embeddings))\n",
    "    #word, embedding = list(word_embeddings.items())[10]\n",
    "    #print(f\"Word: {word}, Embedding: {embedding}\")\n",
    "\n",
    "    Embedded_Word_labels = []\n",
    "    for word in Word_Labels_List:\n",
    "        Embedded_Word_labels.append(word_embeddings[word])\n",
    "\n",
    "    return word_embeddings, Embedded_Word_labels"
   ],
   "metadata": {
    "collapsed": false,
    "ExecuteTime": {
     "start_time": "2024-04-17T16:04:18.423694Z",
     "end_time": "2024-04-17T16:04:18.451913Z"
    }
   }
  },
  {
   "cell_type": "code",
   "execution_count": 14,
   "metadata": {
    "collapsed": true,
    "ExecuteTime": {
     "start_time": "2024-04-17T15:30:46.586992Z",
     "end_time": "2024-04-17T15:30:46.602637Z"
    }
   },
   "outputs": [],
   "source": [
    "train_path = r\"C:\\Users\\gxb18167\\PycharmProjects\\SIGIR_EEG_GAN\\Development\\Named-Entity-Classification\\Data-Management\\train_NER.pkl\"\n",
    "\n",
    "test_path = r\"C:\\Users\\gxb18167\\PycharmProjects\\SIGIR_EEG_GAN\\Development\\Named-Entity-Classification\\Data-Management\\test_NER.pkl\""
   ]
  },
  {
   "cell_type": "code",
   "execution_count": 15,
   "outputs": [],
   "source": [
    "train_NE, train_EEG_segments, train_Classes = save_lists_to_file(train_path)\n",
    "test_NE, test_EEG_segments, test_Classes = save_lists_to_file(test_path)"
   ],
   "metadata": {
    "collapsed": false,
    "ExecuteTime": {
     "start_time": "2024-04-17T15:30:47.120523Z",
     "end_time": "2024-04-17T15:30:47.356406Z"
    }
   }
  },
  {
   "cell_type": "code",
   "execution_count": 23,
   "outputs": [
    {
     "data": {
      "text/plain": "2"
     },
     "execution_count": 23,
     "metadata": {},
     "output_type": "execute_result"
    }
   ],
   "source": [
    "len(train_EEG_segments[0][0])"
   ],
   "metadata": {
    "collapsed": false,
    "ExecuteTime": {
     "start_time": "2024-04-17T15:32:09.934960Z",
     "end_time": "2024-04-17T15:32:09.950669Z"
    }
   }
  },
  {
   "cell_type": "code",
   "execution_count": 47,
   "outputs": [
    {
     "name": "stdout",
     "output_type": "stream",
     "text": [
      "['Florida', 'State', 'Normal', 'and', 'Industrial', 'College', 'and']\n"
     ]
    }
   ],
   "source": [
    "for word in train_NE:\n",
    "    if len(word) > 6:\n",
    "        print(word)"
   ],
   "metadata": {
    "collapsed": false,
    "ExecuteTime": {
     "start_time": "2024-04-17T15:58:55.519041Z",
     "end_time": "2024-04-17T15:58:55.528208Z"
    }
   }
  },
  {
   "cell_type": "code",
   "execution_count": 36,
   "outputs": [
    {
     "data": {
      "text/plain": "61"
     },
     "execution_count": 36,
     "metadata": {},
     "output_type": "execute_result"
    }
   ],
   "source": [
    "len(train_EEG_segments[0])"
   ],
   "metadata": {
    "collapsed": false,
    "ExecuteTime": {
     "start_time": "2024-04-17T15:52:08.647889Z",
     "end_time": "2024-04-17T15:52:08.663812Z"
    }
   }
  },
  {
   "cell_type": "code",
   "execution_count": 62,
   "outputs": [],
   "source": [
    "def flatten_EEG_labels(NE_list, EEG_list):\n",
    "\n",
    "    list_of_eeg_segments = []\n",
    "    list_of_word_labels = []\n",
    "    for i in range(len(NE_list)):\n",
    "        Named_Entity = NE_list[i]\n",
    "        Named_Entity_EEG_Segments = EEG_list[i]\n",
    "        for j in range(len(Named_Entity)):\n",
    "            word = Named_Entity[j]\n",
    "            for EEG_Segments in range(len(Named_Entity_EEG_Segments)):\n",
    "                EEG_Segment = Named_Entity_EEG_Segments[EEG_Segments][j]\n",
    "                list_of_eeg_segments.append(EEG_Segment)\n",
    "                list_of_word_labels.append(word)\n",
    "\n",
    "    return list_of_eeg_segments, list_of_word_labels\n",
    "\n",
    "\n"
   ],
   "metadata": {
    "collapsed": false,
    "ExecuteTime": {
     "start_time": "2024-04-17T16:16:53.045344Z",
     "end_time": "2024-04-17T16:16:53.092387Z"
    }
   }
  },
  {
   "cell_type": "code",
   "execution_count": 63,
   "outputs": [],
   "source": [
    "\n",
    "\n",
    "list_of_eeg_segments, list_of_word_labels = flatten_EEG_labels(train_NE, train_EEG_segments)"
   ],
   "metadata": {
    "collapsed": false,
    "ExecuteTime": {
     "start_time": "2024-04-17T16:20:40.434239Z",
     "end_time": "2024-04-17T16:20:40.464926Z"
    }
   }
  },
  {
   "cell_type": "code",
   "execution_count": 64,
   "outputs": [
    {
     "data": {
      "text/plain": "25865"
     },
     "execution_count": 64,
     "metadata": {},
     "output_type": "execute_result"
    }
   ],
   "source": [],
   "metadata": {
    "collapsed": false,
    "ExecuteTime": {
     "start_time": "2024-04-17T16:20:50.412734Z",
     "end_time": "2024-04-17T16:20:50.428581Z"
    }
   }
  },
  {
   "cell_type": "code",
   "execution_count": 56,
   "outputs": [],
   "source": [],
   "metadata": {
    "collapsed": false,
    "ExecuteTime": {
     "start_time": "2024-04-17T16:00:51.375359Z",
     "end_time": "2024-04-17T16:00:51.390903Z"
    }
   }
  },
  {
   "cell_type": "code",
   "execution_count": 16,
   "outputs": [],
   "source": [
    "\n",
    "# To load the lists from the file:\n",
    "with open(r\"C:\\Users\\gxb18167\\PycharmProjects\\EEG-To-Text\\SIGIR_Development\\EEG-GAN\\EEG_Text_Pairs.pkl\", 'rb') as file:\n",
    "    EEG_word_level_embeddings = pickle.load(file)\n",
    "    EEG_word_level_labels = pickle.load(file)"
   ],
   "metadata": {
    "collapsed": false,
    "ExecuteTime": {
     "start_time": "2024-04-17T15:30:47.755129Z",
     "end_time": "2024-04-17T15:30:49.071470Z"
    }
   }
  },
  {
   "cell_type": "code",
   "execution_count": 60,
   "outputs": [
    {
     "name": "stdout",
     "output_type": "stream",
     "text": [
      "Number of word embeddings: 683\n"
     ]
    }
   ],
   "source": [
    "#embeddings\n",
    "#Embedded_Word_labels, word_embeddings = create_word_label_embeddings(EEG_word_level_labels)\n",
    "\n",
    "word_embeddings, list_of_embeddings = create_word_label_embeddings(list_of_word_labels)\n"
   ],
   "metadata": {
    "collapsed": false,
    "ExecuteTime": {
     "start_time": "2024-04-17T16:04:27.241575Z",
     "end_time": "2024-04-17T16:04:27.400345Z"
    }
   }
  },
  {
   "cell_type": "code",
   "execution_count": 66,
   "outputs": [],
   "source": [],
   "metadata": {
    "collapsed": false,
    "ExecuteTime": {
     "start_time": "2024-04-17T16:21:41.198950Z",
     "end_time": "2024-04-17T16:21:41.214592Z"
    }
   }
  },
  {
   "cell_type": "code",
   "execution_count": 68,
   "outputs": [],
   "source": [
    "def create_dataloader(EEG_word_level_embeddings, Embedded_Word_labels):\n",
    "    \"\"\"\n",
    "    This function takes in the EEG word level embeddings and the word labels and returns a dataloader\n",
    "\n",
    "    :param EEG_word_level_embeddings: The EEG segments of the associated textual information\n",
    "    :param Embedded_Word_labels: The word embeddings of the associated textual information\n",
    "    :return trainloader: The dataloader for the EEG word level embeddings and the word labels\n",
    "    \"\"\"\n",
    "\n",
    "    EEG_word_level_embeddings_normalize = (EEG_word_level_embeddings - np.mean(EEG_word_level_embeddings)) / np.max(\n",
    "        np.abs(EEG_word_level_embeddings))\n",
    "\n",
    "    float_tensor = torch.tensor(EEG_word_level_embeddings_normalize, dtype=torch.float)\n",
    "    float_tensor = float_tensor.unsqueeze(1)\n",
    "\n",
    "    # Sanity check\n",
    "    print(torch.isnan(float_tensor).any())\n",
    "\n",
    "    train_data = []\n",
    "    for i in range(len(float_tensor)):\n",
    "        train_data.append([float_tensor[i], Embedded_Word_labels[i]])\n",
    "    trainloader = torch.utils.data.DataLoader(train_data, shuffle=True, batch_size=64)\n",
    "    return trainloader"
   ],
   "metadata": {
    "collapsed": false,
    "ExecuteTime": {
     "start_time": "2024-04-17T16:24:11.035907Z",
     "end_time": "2024-04-17T16:24:11.053461Z"
    }
   }
  },
  {
   "cell_type": "code",
   "execution_count": 69,
   "outputs": [
    {
     "name": "stdout",
     "output_type": "stream",
     "text": [
      "tensor(False)\n"
     ]
    }
   ],
   "source": [
    "train_loader = create_dataloader(list_of_eeg_segments, list_of_embeddings)"
   ],
   "metadata": {
    "collapsed": false,
    "ExecuteTime": {
     "start_time": "2024-04-17T16:24:18.477556Z",
     "end_time": "2024-04-17T16:24:19.615106Z"
    }
   }
  },
  {
   "cell_type": "code",
   "execution_count": null,
   "outputs": [],
   "source": [],
   "metadata": {
    "collapsed": false
   }
  }
 ],
 "metadata": {
  "kernelspec": {
   "display_name": "Python 3",
   "language": "python",
   "name": "python3"
  },
  "language_info": {
   "codemirror_mode": {
    "name": "ipython",
    "version": 2
   },
   "file_extension": ".py",
   "mimetype": "text/x-python",
   "name": "python",
   "nbconvert_exporter": "python",
   "pygments_lexer": "ipython2",
   "version": "2.7.6"
  }
 },
 "nbformat": 4,
 "nbformat_minor": 0
}
