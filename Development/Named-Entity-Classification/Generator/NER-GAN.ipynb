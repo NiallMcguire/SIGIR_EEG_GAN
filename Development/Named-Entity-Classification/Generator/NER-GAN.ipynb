{
 "cells": [
  {
   "cell_type": "code",
   "execution_count": 5,
   "outputs": [],
   "source": [
    "import pickle"
   ],
   "metadata": {
    "collapsed": false,
    "ExecuteTime": {
     "start_time": "2024-04-17T15:23:35.866829Z",
     "end_time": "2024-04-17T15:23:35.885857Z"
    }
   }
  },
  {
   "cell_type": "code",
   "execution_count": 11,
   "outputs": [
    {
     "name": "stderr",
     "output_type": "stream",
     "text": [
      "[nltk_data] Downloading package punkt to\n",
      "[nltk_data]     C:\\Users\\gxb18167\\AppData\\Roaming\\nltk_data...\n",
      "[nltk_data]   Package punkt is already up-to-date!\n"
     ]
    }
   ],
   "source": [
    "import pickle\n",
    "import sys\n",
    "import nltk\n",
    "import torch.nn as nn\n",
    "import numpy as np\n",
    "nltk.download('punkt')\n",
    "from gensim.models import Word2Vec\n",
    "sys.path.insert(0, '..')\n",
    "import torch"
   ],
   "metadata": {
    "collapsed": false,
    "ExecuteTime": {
     "start_time": "2024-04-17T15:30:28.463932Z",
     "end_time": "2024-04-17T15:30:36.795348Z"
    }
   }
  },
  {
   "cell_type": "code",
   "execution_count": 12,
   "outputs": [],
   "source": [
    "def save_lists_to_file(path):\n",
    "    # Open the pickle file in binary write mode\n",
    "    with open(path, 'rb') as f:\n",
    "    # Load each list from the file\n",
    "        NE = pickle.load(f)\n",
    "        EEG_segments = pickle.load(f)\n",
    "        Classes = pickle.load(f)\n",
    "\n",
    "    return NE, EEG_segments, Classes"
   ],
   "metadata": {
    "collapsed": false,
    "ExecuteTime": {
     "start_time": "2024-04-17T15:30:45.971108Z",
     "end_time": "2024-04-17T15:30:46.003722Z"
    }
   }
  },
  {
   "cell_type": "code",
   "execution_count": 59,
   "outputs": [],
   "source": [
    "def create_word_label_embeddings(Word_Labels_List):\n",
    "    tokenized_words = []\n",
    "    for i in range(len(Word_Labels_List)):\n",
    "        tokenized_words.append([Word_Labels_List[i]])\n",
    "    model = Word2Vec(sentences=tokenized_words, vector_size=50, window=5, min_count=1, workers=4)\n",
    "    word_embeddings = {word: model.wv[word] for word in model.wv.index_to_key}\n",
    "    print(\"Number of word embeddings:\", len(word_embeddings))\n",
    "    #word, embedding = list(word_embeddings.items())[10]\n",
    "    #print(f\"Word: {word}, Embedding: {embedding}\")\n",
    "\n",
    "    Embedded_Word_labels = []\n",
    "    for word in Word_Labels_List:\n",
    "        Embedded_Word_labels.append(word_embeddings[word])\n",
    "\n",
    "    return word_embeddings, Embedded_Word_labels"
   ],
   "metadata": {
    "collapsed": false,
    "ExecuteTime": {
     "start_time": "2024-04-17T16:04:18.423694Z",
     "end_time": "2024-04-17T16:04:18.451913Z"
    }
   }
  },
  {
   "cell_type": "code",
   "execution_count": 14,
   "metadata": {
    "collapsed": true,
    "ExecuteTime": {
     "start_time": "2024-04-17T15:30:46.586992Z",
     "end_time": "2024-04-17T15:30:46.602637Z"
    }
   },
   "outputs": [],
   "source": [
    "train_path = r\"C:\\Users\\gxb18167\\PycharmProjects\\SIGIR_EEG_GAN\\Development\\Named-Entity-Classification\\Data-Management\\train_NER.pkl\"\n",
    "\n",
    "test_path = r\"C:\\Users\\gxb18167\\PycharmProjects\\SIGIR_EEG_GAN\\Development\\Named-Entity-Classification\\Data-Management\\test_NER.pkl\""
   ]
  },
  {
   "cell_type": "code",
   "execution_count": 15,
   "outputs": [],
   "source": [
    "train_NE, train_EEG_segments, train_Classes = save_lists_to_file(train_path)\n",
    "test_NE, test_EEG_segments, test_Classes = save_lists_to_file(test_path)"
   ],
   "metadata": {
    "collapsed": false,
    "ExecuteTime": {
     "start_time": "2024-04-17T15:30:47.120523Z",
     "end_time": "2024-04-17T15:30:47.356406Z"
    }
   }
  },
  {
   "cell_type": "code",
   "execution_count": 23,
   "outputs": [
    {
     "data": {
      "text/plain": "2"
     },
     "execution_count": 23,
     "metadata": {},
     "output_type": "execute_result"
    }
   ],
   "source": [
    "len(train_EEG_segments[0][0])"
   ],
   "metadata": {
    "collapsed": false,
    "ExecuteTime": {
     "start_time": "2024-04-17T15:32:09.934960Z",
     "end_time": "2024-04-17T15:32:09.950669Z"
    }
   }
  },
  {
   "cell_type": "code",
   "execution_count": 47,
   "outputs": [
    {
     "name": "stdout",
     "output_type": "stream",
     "text": [
      "['Florida', 'State', 'Normal', 'and', 'Industrial', 'College', 'and']\n"
     ]
    }
   ],
   "source": [
    "for word in train_NE:\n",
    "    if len(word) > 6:\n",
    "        print(word)"
   ],
   "metadata": {
    "collapsed": false,
    "ExecuteTime": {
     "start_time": "2024-04-17T15:58:55.519041Z",
     "end_time": "2024-04-17T15:58:55.528208Z"
    }
   }
  },
  {
   "cell_type": "code",
   "execution_count": 36,
   "outputs": [
    {
     "data": {
      "text/plain": "61"
     },
     "execution_count": 36,
     "metadata": {},
     "output_type": "execute_result"
    }
   ],
   "source": [
    "len(train_EEG_segments[0])"
   ],
   "metadata": {
    "collapsed": false,
    "ExecuteTime": {
     "start_time": "2024-04-17T15:52:08.647889Z",
     "end_time": "2024-04-17T15:52:08.663812Z"
    }
   }
  },
  {
   "cell_type": "code",
   "execution_count": 52,
   "outputs": [],
   "source": [
    "list_of_eeg_segments = []\n",
    "list_of_word_labels = []\n",
    "for i in range(len(train_NE)):\n",
    "    Named_Entity = train_NE[i]\n",
    "    Named_Entity_EEG_Segments = train_EEG_segments[i]\n",
    "    for j in range(len(Named_Entity)):\n",
    "        word = Named_Entity[j]\n",
    "        for EEG_Segments in range(len(Named_Entity_EEG_Segments)):\n",
    "            EEG_Segment = Named_Entity_EEG_Segments[EEG_Segments][j]\n",
    "            list_of_eeg_segments.append(EEG_Segment)\n",
    "            list_of_word_labels.append(word)\n",
    "\n",
    "\n"
   ],
   "metadata": {
    "collapsed": false,
    "ExecuteTime": {
     "start_time": "2024-04-17T16:00:02.035702Z",
     "end_time": "2024-04-17T16:00:02.051518Z"
    }
   }
  },
  {
   "cell_type": "code",
   "execution_count": 56,
   "outputs": [],
   "source": [],
   "metadata": {
    "collapsed": false,
    "ExecuteTime": {
     "start_time": "2024-04-17T16:01:05.198055Z",
     "end_time": "2024-04-17T16:01:05.213084Z"
    }
   }
  },
  {
   "cell_type": "code",
   "execution_count": 56,
   "outputs": [],
   "source": [],
   "metadata": {
    "collapsed": false,
    "ExecuteTime": {
     "start_time": "2024-04-17T16:01:06.475873Z",
     "end_time": "2024-04-17T16:01:06.506928Z"
    }
   }
  },
  {
   "cell_type": "code",
   "execution_count": 56,
   "outputs": [],
   "source": [],
   "metadata": {
    "collapsed": false,
    "ExecuteTime": {
     "start_time": "2024-04-17T16:00:51.375359Z",
     "end_time": "2024-04-17T16:00:51.390903Z"
    }
   }
  },
  {
   "cell_type": "code",
   "execution_count": 16,
   "outputs": [],
   "source": [
    "\n",
    "# To load the lists from the file:\n",
    "with open(r\"C:\\Users\\gxb18167\\PycharmProjects\\EEG-To-Text\\SIGIR_Development\\EEG-GAN\\EEG_Text_Pairs.pkl\", 'rb') as file:\n",
    "    EEG_word_level_embeddings = pickle.load(file)\n",
    "    EEG_word_level_labels = pickle.load(file)"
   ],
   "metadata": {
    "collapsed": false,
    "ExecuteTime": {
     "start_time": "2024-04-17T15:30:47.755129Z",
     "end_time": "2024-04-17T15:30:49.071470Z"
    }
   }
  },
  {
   "cell_type": "code",
   "execution_count": 60,
   "outputs": [
    {
     "name": "stdout",
     "output_type": "stream",
     "text": [
      "Number of word embeddings: 683\n"
     ]
    }
   ],
   "source": [
    "#embeddings\n",
    "#Embedded_Word_labels, word_embeddings = create_word_label_embeddings(EEG_word_level_labels)\n",
    "\n",
    "word_embeddings, list_of_embeddings = create_word_label_embeddings(list_of_word_labels)\n"
   ],
   "metadata": {
    "collapsed": false,
    "ExecuteTime": {
     "start_time": "2024-04-17T16:04:27.241575Z",
     "end_time": "2024-04-17T16:04:27.400345Z"
    }
   }
  },
  {
   "cell_type": "code",
   "execution_count": 61,
   "outputs": [],
   "source": [],
   "metadata": {
    "collapsed": false,
    "ExecuteTime": {
     "start_time": "2024-04-17T16:04:32.593850Z",
     "end_time": "2024-04-17T16:04:32.609654Z"
    }
   }
  },
  {
   "cell_type": "code",
   "execution_count": null,
   "outputs": [],
   "source": [],
   "metadata": {
    "collapsed": false
   }
  }
 ],
 "metadata": {
  "kernelspec": {
   "display_name": "Python 3",
   "language": "python",
   "name": "python3"
  },
  "language_info": {
   "codemirror_mode": {
    "name": "ipython",
    "version": 2
   },
   "file_extension": ".py",
   "mimetype": "text/x-python",
   "name": "python",
   "nbconvert_exporter": "python",
   "pygments_lexer": "ipython2",
   "version": "2.7.6"
  }
 },
 "nbformat": 4,
 "nbformat_minor": 0
}
