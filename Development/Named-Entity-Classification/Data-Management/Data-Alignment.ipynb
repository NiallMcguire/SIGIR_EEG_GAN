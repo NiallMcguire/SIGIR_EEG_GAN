{
 "cells": [
  {
   "cell_type": "code",
   "execution_count": 250,
   "outputs": [],
   "source": [
    "import pickle\n",
    "import re\n"
   ],
   "metadata": {
    "collapsed": false,
    "ExecuteTime": {
     "start_time": "2024-04-17T12:21:16.962011Z",
     "end_time": "2024-04-17T12:21:17.018210Z"
    }
   }
  },
  {
   "cell_type": "code",
   "execution_count": 251,
   "outputs": [],
   "source": [
    "def read_sentences(path):\n",
    "    Sentences = []\n",
    "    Sentence_Classes = []\n",
    "    Temp_Sentence = []\n",
    "    Temp_Sentence_Classes = []\n",
    "    with open(path, 'r', encoding=\"utf-8\") as file:\n",
    "        # Iterate through each line\n",
    "        for line in file:\n",
    "\n",
    "            # Split the line by the tab character\n",
    "            parts = line.split('\\t')\n",
    "\n",
    "\n",
    "            # Check if there are at least two parts\n",
    "            if len(parts) >= 2:\n",
    "                word = parts[0]\n",
    "                class_ = parts[1].strip()  # strip() to remove leading/trailing whitespace\n",
    "\n",
    "                # Do something with the word and class, for example, print them\n",
    "                #print(\"Word:\", word)\n",
    "                #print(\"Class:\", class_)\n",
    "\n",
    "\n",
    "                Temp_Sentence.append(word)\n",
    "                Temp_Sentence_Classes.append(class_)\n",
    "                #print(Temp_Sentence)\n",
    "            else:\n",
    "                #print(\"Line does not contain a tab character\")\n",
    "                Sentences.append(Temp_Sentence)\n",
    "                Sentence_Classes.append(Temp_Sentence_Classes)\n",
    "                Temp_Sentence = []\n",
    "                Temp_Sentence_Classes = []\n",
    "    return Sentences, Sentence_Classes\n"
   ],
   "metadata": {
    "collapsed": false,
    "ExecuteTime": {
     "start_time": "2024-04-17T12:21:17.590990Z",
     "end_time": "2024-04-17T12:21:17.623523Z"
    }
   }
  },
  {
   "cell_type": "code",
   "execution_count": 252,
   "metadata": {
    "collapsed": true,
    "ExecuteTime": {
     "start_time": "2024-04-17T12:21:17.621139Z",
     "end_time": "2024-04-17T12:21:17.882998Z"
    }
   },
   "outputs": [],
   "source": [
    "path_normal_reading = r'C:\\Users\\gxb18167\\PycharmProjects\\SIGIR_EEG_GAN\\Development\\Named-Entity-Classification\\Data-Management\\zuco1_normalreading_ner.txt'\n",
    "\n",
    "path_task_reading = r\"C:\\Users\\gxb18167\\PycharmProjects\\SIGIR_EEG_GAN\\Development\\Named-Entity-Classification\\Data-Management\\zuco1_taskreading_ner.txt\"\n",
    "\n",
    "path_sentiment = r\"C:\\Users\\gxb18167\\PycharmProjects\\SIGIR_EEG_GAN\\Development\\Named-Entity-Classification\\Data-Management\\zuco1_sentiment_ner.txt\"\n",
    "\n",
    "normal_reading_sentences, normal_reading_classes = read_sentences(path_normal_reading)\n",
    "task_reading_sentences, task_reading_classes = read_sentences(path_task_reading)\n",
    "sentiment_sentences, sentiment_classes = read_sentences(path_sentiment)\n",
    "\n",
    "#combine\n",
    "Sentences_labels = [item for sublist in [normal_reading_sentences, task_reading_sentences, sentiment_sentences] for item in sublist]\n",
    "Sentence_Classes = [item for sublist in [normal_reading_classes, task_reading_classes, sentiment_classes] for item in sublist]\n"
   ]
  },
  {
   "cell_type": "code",
   "execution_count": 253,
   "outputs": [
    {
     "name": "stdout",
     "output_type": "stream",
     "text": [
      "['Henry', 'Ford', 'advocated', 'long-time', 'associate', 'Harry', 'Bennett', 'to', 'take', 'the', 'spot', '.']\n"
     ]
    }
   ],
   "source": [
    "print(Sentences_labels[0])"
   ],
   "metadata": {
    "collapsed": false,
    "ExecuteTime": {
     "start_time": "2024-04-17T12:21:18.145337Z",
     "end_time": "2024-04-17T12:21:18.175637Z"
    }
   }
  },
  {
   "cell_type": "code",
   "execution_count": 254,
   "outputs": [
    {
     "name": "stdout",
     "output_type": "stream",
     "text": [
      "['B-PER', 'I-PER', 'O', 'O', 'O', 'B-PER', 'I-PER', 'O', 'O', 'O', 'O', 'O']\n"
     ]
    }
   ],
   "source": [
    "print(Sentence_Classes[0])"
   ],
   "metadata": {
    "collapsed": false,
    "ExecuteTime": {
     "start_time": "2024-04-17T12:21:18.712668Z",
     "end_time": "2024-04-17T12:21:18.744550Z"
    }
   }
  },
  {
   "cell_type": "code",
   "execution_count": 255,
   "outputs": [],
   "source": [
    "def read_EEG_embeddings_labels(path):\n",
    "    with open(path, 'rb') as file:\n",
    "        EEG_word_level_embeddings = pickle.load(file)\n",
    "        EEG_word_level_labels = pickle.load(file)\n",
    "    return EEG_word_level_embeddings, EEG_word_level_labels"
   ],
   "metadata": {
    "collapsed": false,
    "ExecuteTime": {
     "start_time": "2024-04-17T12:21:20.877478Z",
     "end_time": "2024-04-17T12:21:20.891619Z"
    }
   }
  },
  {
   "cell_type": "code",
   "execution_count": 256,
   "outputs": [],
   "source": [
    "def get_sentences_labels(EEG_word_level_labels, EEG_word_level_embeddings):\n",
    "    sentences = []\n",
    "    current_sentence = []\n",
    "    sentence_EEG_embeddings = []\n",
    "\n",
    "    # Iterate through the words\n",
    "    EEG_embedding_index = 0\n",
    "\n",
    "    for i in range(len(EEG_word_level_labels)):\n",
    "        # Check if the word marks the start of a new sentence\n",
    "        word = EEG_word_level_labels[i]\n",
    "        if word == \"SOS\":\n",
    "            # If it does, append the current sentence to the list of sentences\n",
    "            if len(current_sentence) > 0:\n",
    "                sentences.append(current_sentence)\n",
    "                sentence_length = len(current_sentence)\n",
    "                sentence_EEG_segment = EEG_word_level_embeddings[EEG_embedding_index:sentence_length]\n",
    "                sentence_EEG_embeddings.append(sentence_EEG_segment)\n",
    "                EEG_embedding_index += sentence_length\n",
    "            # Start a new sentence\n",
    "            current_sentence = []\n",
    "        else:\n",
    "            # Add the word to the current sentence\n",
    "            current_sentence.append(word)\n",
    "\n",
    "\n",
    "    # Append the last sentence\n",
    "    if current_sentence:\n",
    "        sentences.append(current_sentence)\n",
    "        sentence_length = len(current_sentence)\n",
    "        sentence_EEG_segment = EEG_word_level_embeddings[EEG_embedding_index:sentence_length]\n",
    "        sentence_EEG_embeddings.append(sentence_EEG_segment)\n",
    "\n",
    "    return sentences, sentence_EEG_embeddings"
   ],
   "metadata": {
    "collapsed": false,
    "ExecuteTime": {
     "start_time": "2024-04-17T12:21:21.605880Z",
     "end_time": "2024-04-17T12:21:21.702147Z"
    }
   }
  },
  {
   "cell_type": "code",
   "execution_count": 257,
   "outputs": [],
   "source": [
    "def combine_sentences(sentences):\n",
    "    # Combine each internal list into a string\n",
    "    combined_sentences = [' '.join(sentence) for sentence in sentences]\n",
    "    # Initialize an empty list to store the list of words for each sentence\n",
    "    list_of_words = []\n",
    "    # Iterate over each sentence in the list\n",
    "    for sentence in combined_sentences:\n",
    "        # Split the sentence into a list of words including punctuation\n",
    "        words = re.findall(r'\\b\\w+\\b|[^\\w\\s]', sentence)\n",
    "        # Append the list of words to the list of lists\n",
    "        list_of_words.append(words)\n",
    "    return list_of_words\n"
   ],
   "metadata": {
    "collapsed": false,
    "ExecuteTime": {
     "start_time": "2024-04-17T12:21:22.141250Z",
     "end_time": "2024-04-17T12:21:22.267476Z"
    }
   }
  },
  {
   "cell_type": "code",
   "execution_count": 258,
   "outputs": [],
   "source": [
    "def get_named_entities(Sentences_labels, Sentence_Classes):\n",
    "    List_of_NE = []\n",
    "    List_of_NE_Labels = []\n",
    "    Named_Entity = []\n",
    "    Named_Entity_Label = []\n",
    "\n",
    "    for i in range(len(Sentences_labels)):\n",
    "        current_sentence = Sentences_labels[i]\n",
    "        current_sentence_label = Sentence_Classes[i]\n",
    "\n",
    "        for j in range(len(current_sentence)):\n",
    "            current_word = current_sentence[j]\n",
    "            #print(current_word)\n",
    "            current_word_label = current_sentence_label[j]\n",
    "            #print(current_word_label)\n",
    "            if current_word_label != 'O':\n",
    "                Named_Entity.append(current_word)\n",
    "                Named_Entity_Label.append(current_word_label)\n",
    "            else:\n",
    "                if Named_Entity:\n",
    "                    List_of_NE.append(Named_Entity)\n",
    "                    List_of_NE_Labels.append(Named_Entity_Label)\n",
    "\n",
    "                    Named_Entity = []\n",
    "                    Named_Entity_Label = []\n",
    "    return List_of_NE, List_of_NE_Labels"
   ],
   "metadata": {
    "collapsed": false,
    "ExecuteTime": {
     "start_time": "2024-04-17T12:21:22.833707Z",
     "end_time": "2024-04-17T12:21:22.848947Z"
    }
   }
  },
  {
   "cell_type": "code",
   "execution_count": 375,
   "outputs": [],
   "source": [
    "def is_named_entity_in_sentences(named_entity, sentences, embeddings):\n",
    "\n",
    "    named_entity_eeg_list = []\n",
    "    for sentence_index in range(len(sentences)):\n",
    "        sentence = sentences[sentence_index]\n",
    "        for i in range(len(sentence) - len(named_entity) + 1):\n",
    "            if sentence[i:i+len(named_entity)] == named_entity:\n",
    "                named_entity_eeg = embeddings[sentence_index][i:i+len(named_entity)]\n",
    "                if named_entity_eeg != [] and len(named_entity_eeg) == len(named_entity):\n",
    "                    named_entity_eeg_list.append(named_entity_eeg)\n",
    "\n",
    "    return named_entity_eeg_list"
   ],
   "metadata": {
    "collapsed": false,
    "ExecuteTime": {
     "start_time": "2024-04-17T12:40:03.360132Z",
     "end_time": "2024-04-17T12:40:03.422323Z"
    }
   }
  },
  {
   "cell_type": "code",
   "execution_count": 376,
   "outputs": [],
   "source": [
    "def get_EEG_Class_NE(words, embeddings):\n",
    "    # Check if each named entity is in the list of sentences\n",
    "    NE_EEG_segment = []\n",
    "    NE_EEG_Class = []\n",
    "    NE_list = []\n",
    "\n",
    "    for i in range(len(List_of_NE)):\n",
    "        Class = List_of_NE_Labels[i]\n",
    "        NE = List_of_NE[i]\n",
    "        #print(NE)\n",
    "        EEG_list = is_named_entity_in_sentences(NE, words, embeddings)\n",
    "        if EEG_list != []:\n",
    "            NE_EEG_segment.append(EEG_list)\n",
    "            NE_EEG_Class.append(Class)\n",
    "            NE_list.append(NE)\n",
    "\n",
    "    return NE_EEG_segment, NE_EEG_Class, NE_list\n",
    "\n"
   ],
   "metadata": {
    "collapsed": false,
    "ExecuteTime": {
     "start_time": "2024-04-17T12:40:03.598004Z",
     "end_time": "2024-04-17T12:40:03.628871Z"
    }
   }
  },
  {
   "cell_type": "code",
   "execution_count": 377,
   "outputs": [],
   "source": [
    "\n",
    "def get_unique_entities(entities, EEG_segments, Classes):\n",
    "    seen_entities = set()\n",
    "    unique_entities = []\n",
    "    unique_EEG_segments = []\n",
    "    unique_Classes = []\n",
    "\n",
    "    for i in range(len(entities)):\n",
    "        sublist = entities[i]\n",
    "        if tuple(sublist) not in seen_entities:\n",
    "            unique_entities.append(sublist)\n",
    "            seen_entities.add(tuple(sublist))\n",
    "            unique_EEG_segments.append(EEG_segments[i])\n",
    "            unique_Classes.append(Classes[i])\n",
    "\n",
    "    return unique_entities, unique_EEG_segments, unique_Classes"
   ],
   "metadata": {
    "collapsed": false,
    "ExecuteTime": {
     "start_time": "2024-04-17T12:40:03.920311Z",
     "end_time": "2024-04-17T12:40:03.938326Z"
    }
   }
  },
  {
   "cell_type": "code",
   "execution_count": 378,
   "outputs": [],
   "source": [
    "train_path = r\"C:\\Users\\gxb18167\\PycharmProjects\\EEG-To-Text\\SIGIR_Development\\EEG-GAN\\EEG_Text_Pairs_Sentence.pkl\"\n",
    "test_path = r\"C:\\Users\\gxb18167\\PycharmProjects\\EEG-To-Text\\SIGIR_Development\\EEG-GAN\\Test_EEG_Text_Pairs_Sentence.pkl\"\n",
    "\n",
    "EEG_word_level_embeddings, EEG_word_level_labels = read_EEG_embeddings_labels(train_path)\n",
    "Test_EEG_word_level_embeddings, Test_EEG_word_level_labels = read_EEG_embeddings_labels(test_path)"
   ],
   "metadata": {
    "collapsed": false,
    "ExecuteTime": {
     "start_time": "2024-04-17T12:40:03.925768Z",
     "end_time": "2024-04-17T12:40:07.095505Z"
    }
   }
  },
  {
   "cell_type": "code",
   "execution_count": 379,
   "outputs": [],
   "source": [
    "def get_sentences_EEG(labels, EEG_embeddings):\n",
    "    Sentences = []\n",
    "    current_sentence = []\n",
    "\n",
    "    EEG_Sentencs = []\n",
    "    EEG_index = 0\n",
    "    for i in range(len(labels)):\n",
    "        # Check if the word marks the start of a new sentence\n",
    "        word = labels[i]\n",
    "        if word == \"SOS\":\n",
    "            # If it does, append the current sentence to the list of sentences\n",
    "            if len(current_sentence) > 0:\n",
    "                Sentences.append(current_sentence)\n",
    "                sentence_length = len(current_sentence)\n",
    "                #print(EEG_index)\n",
    "                #print(sentence_length)\n",
    "                EEG_segment = EEG_embeddings[EEG_index:EEG_index+sentence_length]\n",
    "                EEG_index += sentence_length\n",
    "                EEG_Sentencs.append(EEG_segment)\n",
    "\n",
    "                # Start a new sentence\n",
    "                current_sentence = []\n",
    "        else:\n",
    "            # Add the word to the current sentence\n",
    "            current_sentence.append(word)\n",
    "\n",
    "    return Sentences, EEG_Sentencs\n",
    "\n",
    "\n",
    "\n"
   ],
   "metadata": {
    "collapsed": false,
    "ExecuteTime": {
     "start_time": "2024-04-17T12:40:07.050134Z",
     "end_time": "2024-04-17T12:40:07.206666Z"
    }
   }
  },
  {
   "cell_type": "code",
   "execution_count": 380,
   "outputs": [],
   "source": [
    "EEG_word_level_sentences, EEG_sentence_embeddings = get_sentences_EEG(EEG_word_level_labels, EEG_word_level_embeddings)\n",
    "Test_EEG_word_level_sentences, Test_EEG_sentence_embeddings = get_sentences_EEG(Test_EEG_word_level_labels, Test_EEG_word_level_embeddings)"
   ],
   "metadata": {
    "collapsed": false,
    "ExecuteTime": {
     "start_time": "2024-04-17T12:40:07.065804Z",
     "end_time": "2024-04-17T12:40:07.428279Z"
    }
   }
  },
  {
   "cell_type": "code",
   "execution_count": 380,
   "outputs": [],
   "source": [],
   "metadata": {
    "collapsed": false,
    "ExecuteTime": {
     "start_time": "2024-04-17T12:40:07.238289Z",
     "end_time": "2024-04-17T12:40:07.459978Z"
    }
   }
  },
  {
   "cell_type": "code",
   "execution_count": 381,
   "outputs": [
    {
     "data": {
      "text/plain": "17"
     },
     "execution_count": 381,
     "metadata": {},
     "output_type": "execute_result"
    }
   ],
   "source": [
    "len(EEG_sentence_embeddings[0])"
   ],
   "metadata": {
    "collapsed": false,
    "ExecuteTime": {
     "start_time": "2024-04-17T12:40:07.269768Z",
     "end_time": "2024-04-17T12:40:07.538964Z"
    }
   }
  },
  {
   "cell_type": "code",
   "execution_count": 381,
   "outputs": [],
   "source": [],
   "metadata": {
    "collapsed": false,
    "ExecuteTime": {
     "start_time": "2024-04-17T12:40:07.301423Z",
     "end_time": "2024-04-17T12:40:07.538964Z"
    }
   }
  },
  {
   "cell_type": "code",
   "execution_count": 381,
   "outputs": [],
   "source": [],
   "metadata": {
    "collapsed": false,
    "ExecuteTime": {
     "start_time": "2024-04-17T12:40:07.301423Z",
     "end_time": "2024-04-17T12:40:07.538964Z"
    }
   }
  },
  {
   "cell_type": "code",
   "execution_count": 381,
   "outputs": [],
   "source": [],
   "metadata": {
    "collapsed": false,
    "ExecuteTime": {
     "start_time": "2024-04-17T12:40:07.322720Z",
     "end_time": "2024-04-17T12:40:07.538964Z"
    }
   }
  },
  {
   "cell_type": "code",
   "execution_count": 381,
   "outputs": [],
   "source": [],
   "metadata": {
    "collapsed": false,
    "ExecuteTime": {
     "start_time": "2024-04-17T12:40:07.338755Z",
     "end_time": "2024-04-17T12:40:07.538964Z"
    }
   }
  },
  {
   "cell_type": "code",
   "execution_count": 382,
   "outputs": [],
   "source": [
    "# Combine the sentences\n",
    "list_of_words = combine_sentences(EEG_word_level_sentences)\n",
    "Test_list_of_words = combine_sentences(Test_EEG_word_level_sentences)"
   ],
   "metadata": {
    "collapsed": false,
    "ExecuteTime": {
     "start_time": "2024-04-17T12:40:07.381367Z",
     "end_time": "2024-04-17T12:40:07.681607Z"
    }
   }
  },
  {
   "cell_type": "code",
   "execution_count": 383,
   "outputs": [
    {
     "data": {
      "text/plain": "['Bread',\n ',',\n 'My',\n 'Sweet',\n 'has',\n 'so',\n 'many',\n 'flaws',\n 'would',\n 'easy',\n 'critics',\n 'to',\n 'shred']"
     },
     "execution_count": 383,
     "metadata": {},
     "output_type": "execute_result"
    }
   ],
   "source": [
    "list_of_words[2]"
   ],
   "metadata": {
    "collapsed": false,
    "ExecuteTime": {
     "start_time": "2024-04-17T12:40:07.554638Z",
     "end_time": "2024-04-17T12:40:07.745389Z"
    }
   }
  },
  {
   "cell_type": "code",
   "execution_count": 383,
   "outputs": [],
   "source": [],
   "metadata": {
    "collapsed": false,
    "ExecuteTime": {
     "start_time": "2024-04-17T12:40:07.592611Z",
     "end_time": "2024-04-17T12:40:07.745389Z"
    }
   }
  },
  {
   "cell_type": "code",
   "execution_count": 383,
   "outputs": [],
   "source": [],
   "metadata": {
    "collapsed": false,
    "ExecuteTime": {
     "start_time": "2024-04-17T12:40:07.602158Z",
     "end_time": "2024-04-17T12:40:07.745389Z"
    }
   }
  },
  {
   "cell_type": "code",
   "execution_count": 384,
   "outputs": [],
   "source": [
    "# Get the named entities\n",
    "List_of_NE, List_of_NE_Labels = get_named_entities(Sentences_labels, Sentence_Classes)"
   ],
   "metadata": {
    "collapsed": false,
    "ExecuteTime": {
     "start_time": "2024-04-17T12:40:07.639269Z",
     "end_time": "2024-04-17T12:40:07.745389Z"
    }
   }
  },
  {
   "cell_type": "code",
   "execution_count": 384,
   "outputs": [],
   "source": [],
   "metadata": {
    "collapsed": false,
    "ExecuteTime": {
     "start_time": "2024-04-17T12:40:07.650309Z",
     "end_time": "2024-04-17T12:40:07.745389Z"
    }
   }
  },
  {
   "cell_type": "code",
   "execution_count": 385,
   "outputs": [],
   "source": [
    "# Get the EEG embeddings for the named entities\n",
    "NE_EEG_segment, NE_EEG_Class, NE = get_EEG_Class_NE(list_of_words, EEG_sentence_embeddings)"
   ],
   "metadata": {
    "collapsed": false,
    "ExecuteTime": {
     "start_time": "2024-04-17T12:40:07.665979Z",
     "end_time": "2024-04-17T12:41:21.702635Z"
    }
   }
  },
  {
   "cell_type": "code",
   "execution_count": 385,
   "outputs": [],
   "source": [],
   "metadata": {
    "collapsed": false,
    "ExecuteTime": {
     "start_time": "2024-04-17T12:41:21.702635Z",
     "end_time": "2024-04-17T12:41:21.717803Z"
    }
   }
  },
  {
   "cell_type": "code",
   "execution_count": 385,
   "outputs": [],
   "source": [],
   "metadata": {
    "collapsed": false,
    "ExecuteTime": {
     "start_time": "2024-04-17T12:41:21.733641Z",
     "end_time": "2024-04-17T12:41:21.782627Z"
    }
   }
  },
  {
   "cell_type": "code",
   "execution_count": 386,
   "outputs": [
    {
     "data": {
      "text/plain": "['Henry', 'Ford']"
     },
     "execution_count": 386,
     "metadata": {},
     "output_type": "execute_result"
    }
   ],
   "source": [
    "NE[0]"
   ],
   "metadata": {
    "collapsed": false,
    "ExecuteTime": {
     "start_time": "2024-04-17T12:41:21.766159Z",
     "end_time": "2024-04-17T12:41:21.782627Z"
    }
   }
  },
  {
   "cell_type": "code",
   "execution_count": 387,
   "outputs": [],
   "source": [
    "#Test set\n",
    "Test_NE_EEG_segment, Test_NE_EEG_Class, Test_NE = get_EEG_Class_NE(Test_list_of_words, Test_EEG_sentence_embeddings)"
   ],
   "metadata": {
    "collapsed": false,
    "ExecuteTime": {
     "start_time": "2024-04-17T12:41:21.807368Z",
     "end_time": "2024-04-17T12:41:30.261654Z"
    }
   }
  },
  {
   "cell_type": "code",
   "execution_count": 387,
   "outputs": [],
   "source": [],
   "metadata": {
    "collapsed": false,
    "ExecuteTime": {
     "start_time": "2024-04-17T12:41:30.268904Z",
     "end_time": "2024-04-17T12:41:30.275505Z"
    }
   }
  },
  {
   "cell_type": "code",
   "execution_count": 387,
   "outputs": [],
   "source": [],
   "metadata": {
    "collapsed": false,
    "ExecuteTime": {
     "start_time": "2024-04-17T12:41:30.275505Z",
     "end_time": "2024-04-17T12:41:30.292310Z"
    }
   }
  },
  {
   "cell_type": "code",
   "execution_count": 388,
   "outputs": [],
   "source": [
    "# Get the unique named entities\n",
    "unique_entities, unique_EEG_segments, unique_Classes = get_unique_entities(NE, NE_EEG_segment, NE_EEG_Class)\n",
    "\n",
    "# Test set\n",
    "Test_unique_entities, Test_unique_EEG_segments, Test_unique_Classes = get_unique_entities(Test_NE, Test_NE_EEG_segment, Test_NE_EEG_Class)"
   ],
   "metadata": {
    "collapsed": false,
    "ExecuteTime": {
     "start_time": "2024-04-17T12:41:30.509044Z",
     "end_time": "2024-04-17T12:41:30.523672Z"
    }
   }
  },
  {
   "cell_type": "code",
   "execution_count": 389,
   "outputs": [
    {
     "data": {
      "text/plain": "['Henry', 'Ford']"
     },
     "execution_count": 389,
     "metadata": {},
     "output_type": "execute_result"
    }
   ],
   "source": [
    "unique_entities[0]"
   ],
   "metadata": {
    "collapsed": false,
    "ExecuteTime": {
     "start_time": "2024-04-17T12:41:30.539711Z",
     "end_time": "2024-04-17T12:41:30.634695Z"
    }
   }
  },
  {
   "cell_type": "code",
   "execution_count": 398,
   "outputs": [
    {
     "data": {
      "text/plain": "61"
     },
     "execution_count": 398,
     "metadata": {},
     "output_type": "execute_result"
    }
   ],
   "source": [
    "len(unique_EEG_segments[0])"
   ],
   "metadata": {
    "collapsed": false,
    "ExecuteTime": {
     "start_time": "2024-04-17T12:41:51.653590Z",
     "end_time": "2024-04-17T12:41:51.731610Z"
    }
   }
  },
  {
   "cell_type": "code",
   "execution_count": 399,
   "outputs": [],
   "source": [],
   "metadata": {
    "collapsed": false,
    "ExecuteTime": {
     "start_time": "2024-04-17T12:42:45.631171Z",
     "end_time": "2024-04-17T12:42:45.693836Z"
    }
   }
  },
  {
   "cell_type": "code",
   "execution_count": 400,
   "outputs": [],
   "source": [
    "with open('train_NER.pkl', 'wb') as f:\n",
    "    # Serialize and write the list to the file\n",
    "    pickle.dump(unique_entities, f)\n",
    "    pickle.dump(unique_EEG_segments, f)\n",
    "    pickle.dump(unique_Classes, f)"
   ],
   "metadata": {
    "collapsed": false,
    "ExecuteTime": {
     "start_time": "2024-04-17T12:44:09.860419Z",
     "end_time": "2024-04-17T12:44:10.627477Z"
    }
   }
  },
  {
   "cell_type": "code",
   "execution_count": 401,
   "outputs": [],
   "source": [
    "with open('test_NER.pkl', 'wb') as f:\n",
    "    # Serialize and write the list to the file\n",
    "    pickle.dump(Test_unique_entities, f)\n",
    "    pickle.dump(Test_unique_EEG_segments, f)\n",
    "    pickle.dump(Test_unique_Classes, f)"
   ],
   "metadata": {
    "collapsed": false,
    "ExecuteTime": {
     "start_time": "2024-04-17T12:44:10.622949Z",
     "end_time": "2024-04-17T12:44:10.728542Z"
    }
   }
  },
  {
   "cell_type": "code",
   "execution_count": 108,
   "outputs": [],
   "source": [],
   "metadata": {
    "collapsed": false,
    "ExecuteTime": {
     "start_time": "2024-04-16T15:32:16.138095Z",
     "end_time": "2024-04-16T15:32:16.182039Z"
    }
   }
  },
  {
   "cell_type": "code",
   "execution_count": 129,
   "outputs": [],
   "source": [],
   "metadata": {
    "collapsed": false,
    "ExecuteTime": {
     "start_time": "2024-04-16T12:47:51.032904Z",
     "end_time": "2024-04-16T12:47:51.069248Z"
    }
   }
  },
  {
   "cell_type": "code",
   "execution_count": 33,
   "outputs": [],
   "source": [],
   "metadata": {
    "collapsed": false,
    "ExecuteTime": {
     "start_time": "2024-04-16T11:46:28.922747Z",
     "end_time": "2024-04-16T11:46:28.971336Z"
    }
   }
  },
  {
   "cell_type": "code",
   "execution_count": 44,
   "outputs": [],
   "source": [],
   "metadata": {
    "collapsed": false,
    "ExecuteTime": {
     "start_time": "2024-04-16T11:49:06.410939Z",
     "end_time": "2024-04-16T11:49:06.442321Z"
    }
   }
  },
  {
   "cell_type": "code",
   "execution_count": 44,
   "outputs": [],
   "source": [],
   "metadata": {
    "collapsed": false,
    "ExecuteTime": {
     "start_time": "2024-04-16T11:49:08.517168Z",
     "end_time": "2024-04-16T11:49:08.543874Z"
    }
   }
  },
  {
   "cell_type": "code",
   "execution_count": 44,
   "outputs": [],
   "source": [],
   "metadata": {
    "collapsed": false,
    "ExecuteTime": {
     "start_time": "2024-04-16T11:49:09.708366Z",
     "end_time": "2024-04-16T11:49:09.740436Z"
    }
   }
  },
  {
   "cell_type": "code",
   "execution_count": 44,
   "outputs": [],
   "source": [],
   "metadata": {
    "collapsed": false,
    "ExecuteTime": {
     "start_time": "2024-04-16T11:49:10.843681Z",
     "end_time": "2024-04-16T11:49:10.874564Z"
    }
   }
  },
  {
   "cell_type": "code",
   "execution_count": 44,
   "outputs": [],
   "source": [],
   "metadata": {
    "collapsed": false,
    "ExecuteTime": {
     "start_time": "2024-04-16T11:49:12.373192Z",
     "end_time": "2024-04-16T11:49:12.388997Z"
    }
   }
  },
  {
   "cell_type": "code",
   "execution_count": 45,
   "outputs": [],
   "source": [],
   "metadata": {
    "collapsed": false,
    "ExecuteTime": {
     "start_time": "2024-04-16T11:49:24.127435Z",
     "end_time": "2024-04-16T11:49:24.144752Z"
    }
   }
  },
  {
   "cell_type": "code",
   "execution_count": 21,
   "outputs": [
    {
     "data": {
      "text/plain": "157906"
     },
     "execution_count": 21,
     "metadata": {},
     "output_type": "execute_result"
    }
   ],
   "source": [],
   "metadata": {
    "collapsed": false,
    "ExecuteTime": {
     "start_time": "2024-04-14T15:27:34.445068Z",
     "end_time": "2024-04-14T15:27:34.483823Z"
    }
   }
  },
  {
   "cell_type": "code",
   "execution_count": null,
   "outputs": [],
   "source": [],
   "metadata": {
    "collapsed": false
   }
  }
 ],
 "metadata": {
  "kernelspec": {
   "display_name": "Python 3",
   "language": "python",
   "name": "python3"
  },
  "language_info": {
   "codemirror_mode": {
    "name": "ipython",
    "version": 2
   },
   "file_extension": ".py",
   "mimetype": "text/x-python",
   "name": "python",
   "nbconvert_exporter": "python",
   "pygments_lexer": "ipython2",
   "version": "2.7.6"
  }
 },
 "nbformat": 4,
 "nbformat_minor": 0
}
