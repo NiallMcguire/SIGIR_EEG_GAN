{
 "cells": [
  {
   "cell_type": "code",
   "execution_count": 5,
   "outputs": [],
   "source": [
    "import pickle\n",
    "import re\n"
   ],
   "metadata": {
    "collapsed": false,
    "ExecuteTime": {
     "start_time": "2024-04-16T11:31:54.292084Z",
     "end_time": "2024-04-16T11:31:54.307712Z"
    }
   }
  },
  {
   "cell_type": "code",
   "execution_count": 6,
   "outputs": [],
   "source": [
    "def read_sentences(path):\n",
    "    Sentences = []\n",
    "    Sentence_Classes = []\n",
    "    Temp_Sentence = []\n",
    "    Temp_Sentence_Classes = []\n",
    "    with open(path, 'r', encoding=\"utf-8\") as file:\n",
    "        # Iterate through each line\n",
    "        for line in file:\n",
    "\n",
    "            # Split the line by the tab character\n",
    "            parts = line.split('\\t')\n",
    "\n",
    "\n",
    "            # Check if there are at least two parts\n",
    "            if len(parts) >= 2:\n",
    "                word = parts[0]\n",
    "                class_ = parts[1].strip()  # strip() to remove leading/trailing whitespace\n",
    "\n",
    "                # Do something with the word and class, for example, print them\n",
    "                #print(\"Word:\", word)\n",
    "                #print(\"Class:\", class_)\n",
    "\n",
    "\n",
    "                Temp_Sentence.append(word)\n",
    "                Temp_Sentence_Classes.append(class_)\n",
    "                #print(Temp_Sentence)\n",
    "            else:\n",
    "                #print(\"Line does not contain a tab character\")\n",
    "                Sentences.append(Temp_Sentence)\n",
    "                Sentence_Classes.append(Temp_Sentence_Classes)\n",
    "                Temp_Sentence = []\n",
    "                Temp_Sentence_Classes = []\n",
    "    return Sentences, Sentence_Classes\n"
   ],
   "metadata": {
    "collapsed": false,
    "ExecuteTime": {
     "start_time": "2024-04-16T11:31:54.606134Z",
     "end_time": "2024-04-16T11:31:54.621759Z"
    }
   }
  },
  {
   "cell_type": "code",
   "execution_count": 21,
   "metadata": {
    "collapsed": true,
    "ExecuteTime": {
     "start_time": "2024-04-16T11:45:36.507439Z",
     "end_time": "2024-04-16T11:45:36.558160Z"
    }
   },
   "outputs": [],
   "source": [
    "path_normal_reading = r'C:\\Users\\gxb18167\\PycharmProjects\\SIGIR_EEG_GAN\\Development\\Named-Entity-Classification\\Data-Management\\zuco1_normalreading_ner.txt'\n",
    "\n",
    "path_task_reading = r\"C:\\Users\\gxb18167\\PycharmProjects\\SIGIR_EEG_GAN\\Development\\Named-Entity-Classification\\Data-Management\\zuco1_taskreading_ner.txt\"\n",
    "\n",
    "path_sentiment = r\"C:\\Users\\gxb18167\\PycharmProjects\\SIGIR_EEG_GAN\\Development\\Named-Entity-Classification\\Data-Management\\zuco1_sentiment_ner.txt\"\n",
    "\n",
    "normal_reading_sentences, normal_reading_classes = read_sentences(path_normal_reading)\n",
    "task_reading_sentences, task_reading_classes = read_sentences(path_task_reading)\n",
    "sentiment_sentences, sentiment_classes = read_sentences(path_sentiment)\n",
    "\n",
    "#combine\n",
    "Sentences_labels = [item for sublist in [normal_reading_sentences, task_reading_sentences, sentiment_sentences] for item in sublist]\n",
    "Sentence_Classes = [item for sublist in [normal_reading_classes, task_reading_classes, sentiment_classes] for item in sublist]\n"
   ]
  },
  {
   "cell_type": "code",
   "execution_count": 22,
   "outputs": [
    {
     "name": "stdout",
     "output_type": "stream",
     "text": [
      "['Henry', 'Ford', 'advocated', 'long-time', 'associate', 'Harry', 'Bennett', 'to', 'take', 'the', 'spot', '.']\n"
     ]
    }
   ],
   "source": [
    "print(Sentences_labels[0])"
   ],
   "metadata": {
    "collapsed": false,
    "ExecuteTime": {
     "start_time": "2024-04-16T11:45:36.672905Z",
     "end_time": "2024-04-16T11:45:36.701395Z"
    }
   }
  },
  {
   "cell_type": "code",
   "execution_count": 23,
   "outputs": [
    {
     "name": "stdout",
     "output_type": "stream",
     "text": [
      "['B-PER', 'I-PER', 'O', 'O', 'O', 'B-PER', 'I-PER', 'O', 'O', 'O', 'O', 'O']\n"
     ]
    }
   ],
   "source": [
    "print(Sentence_Classes[0])"
   ],
   "metadata": {
    "collapsed": false,
    "ExecuteTime": {
     "start_time": "2024-04-16T11:45:38.459967Z",
     "end_time": "2024-04-16T11:45:38.492678Z"
    }
   }
  },
  {
   "cell_type": "code",
   "execution_count": 24,
   "outputs": [],
   "source": [
    "def read_EEG_embeddings_labels(path):\n",
    "    with open(path, 'rb') as file:\n",
    "        EEG_word_level_embeddings = pickle.load(file)\n",
    "        EEG_word_level_labels = pickle.load(file)\n",
    "    return EEG_word_level_embeddings, EEG_word_level_labels"
   ],
   "metadata": {
    "collapsed": false,
    "ExecuteTime": {
     "start_time": "2024-04-16T11:45:38.654045Z",
     "end_time": "2024-04-16T11:45:38.685407Z"
    }
   }
  },
  {
   "cell_type": "code",
   "execution_count": 61,
   "outputs": [],
   "source": [
    "def get_sentences_labels(EEG_word_level_labels, EEG_word_level_embeddings):\n",
    "    sentences = []\n",
    "    current_sentence = []\n",
    "    sentence_EEG_embeddings = []\n",
    "\n",
    "    # Iterate through the words\n",
    "    EEG_embedding_index = 0\n",
    "\n",
    "    for i in range(len(EEG_word_level_labels)):\n",
    "        # Check if the word marks the start of a new sentence\n",
    "        word = EEG_word_level_labels[i]\n",
    "        if word == \"SOS\":\n",
    "            # If it does, append the current sentence to the list of sentences\n",
    "            if current_sentence:\n",
    "                sentences.append(current_sentence)\n",
    "                sentence_length = len(current_sentence)\n",
    "                sentence_EEG_segment = EEG_word_level_embeddings[EEG_embedding_index:sentence_length]\n",
    "                sentence_EEG_embeddings.append(sentence_EEG_segment)\n",
    "                EEG_embedding_index += sentence_length\n",
    "            # Start a new sentence\n",
    "            current_sentence = []\n",
    "        else:\n",
    "            # Add the word to the current sentence\n",
    "            current_sentence.append(word)\n",
    "    # Append the last sentence\n",
    "    if current_sentence:\n",
    "        sentences.append(current_sentence)\n",
    "        sentence_length = len(current_sentence)\n",
    "        sentence_EEG_segment = EEG_word_level_embeddings[EEG_embedding_index:sentence_length]\n",
    "        sentence_EEG_embeddings.append(sentence_EEG_segment)\n",
    "\n",
    "    return sentences, sentence_EEG_embeddings"
   ],
   "metadata": {
    "collapsed": false,
    "ExecuteTime": {
     "start_time": "2024-04-16T12:05:38.325976Z",
     "end_time": "2024-04-16T12:05:38.341118Z"
    }
   }
  },
  {
   "cell_type": "code",
   "execution_count": 62,
   "outputs": [],
   "source": [
    "def combine_sentences(sentences):\n",
    "    # Combine each internal list into a string\n",
    "    combined_sentences = [' '.join(sentence) for sentence in sentences]\n",
    "    # Initialize an empty list to store the list of words for each sentence\n",
    "    list_of_words = []\n",
    "    # Iterate over each sentence in the list\n",
    "    for sentence in combined_sentences:\n",
    "        # Split the sentence into a list of words including punctuation\n",
    "        words = re.findall(r'\\b\\w+\\b|[^\\w\\s]', sentence)\n",
    "        # Append the list of words to the list of lists\n",
    "        list_of_words.append(words)\n",
    "    return list_of_words\n"
   ],
   "metadata": {
    "collapsed": false,
    "ExecuteTime": {
     "start_time": "2024-04-16T12:05:38.540470Z",
     "end_time": "2024-04-16T12:05:38.566019Z"
    }
   }
  },
  {
   "cell_type": "code",
   "execution_count": 63,
   "outputs": [],
   "source": [
    "def get_named_entities(Sentences_labels, Sentence_Classes):\n",
    "    List_of_NE = []\n",
    "    List_of_NE_Labels = []\n",
    "    Named_Entity = []\n",
    "    Named_Entity_Label = []\n",
    "\n",
    "    for i in range(len(Sentences_labels)):\n",
    "        current_sentence = Sentences_labels[i]\n",
    "        current_sentence_label = Sentence_Classes[i]\n",
    "\n",
    "        for j in range(len(current_sentence)):\n",
    "            current_word = current_sentence[j]\n",
    "            #print(current_word)\n",
    "            current_word_label = current_sentence_label[j]\n",
    "            #print(current_word_label)\n",
    "            if current_word_label != 'O':\n",
    "                Named_Entity.append(current_word)\n",
    "                Named_Entity_Label.append(current_word_label)\n",
    "            else:\n",
    "                if Named_Entity:\n",
    "                    List_of_NE.append(Named_Entity)\n",
    "                    List_of_NE_Labels.append(Named_Entity_Label)\n",
    "\n",
    "                    Named_Entity = []\n",
    "                    Named_Entity_Label = []\n",
    "    return List_of_NE, List_of_NE_Labels"
   ],
   "metadata": {
    "collapsed": false,
    "ExecuteTime": {
     "start_time": "2024-04-16T12:05:38.827321Z",
     "end_time": "2024-04-16T12:05:38.858061Z"
    }
   }
  },
  {
   "cell_type": "code",
   "execution_count": 80,
   "outputs": [],
   "source": [
    "def is_named_entity_in_sentences(named_entity, sentences, EEG_embeddings):\n",
    "    Named_Entity_EEG_dict = {}\n",
    "    for sentence in sentences:\n",
    "        for i in range(len(sentence) - len(named_entity) + 1):\n",
    "            if sentence[i:i+len(named_entity)] == named_entity:\n",
    "                named_entity_eeg = EEG_embeddings[i:i+len(named_entity)]\n",
    "                if named_entity in Named_Entity_EEG_dict:\n",
    "                    Named_Entity_EEG_dict[named_entity].append(named_entity_eeg)\n",
    "                else:\n",
    "                    Named_Entity_EEG_dict[named_entity] = [named_entity_eeg]\n",
    "\n",
    "\n",
    "\n",
    "\n",
    "    return Named_Entity_EEG_dict"
   ],
   "metadata": {
    "collapsed": false,
    "ExecuteTime": {
     "start_time": "2024-04-16T12:14:11.506860Z",
     "end_time": "2024-04-16T12:14:11.538013Z"
    }
   }
  },
  {
   "cell_type": "code",
   "execution_count": 81,
   "outputs": [],
   "source": [
    "train_path = r\"C:\\Users\\gxb18167\\PycharmProjects\\EEG-To-Text\\SIGIR_Development\\EEG-GAN\\EEG_Text_Pairs_Sentence.pkl\"\n",
    "test_path = r\"C:\\Users\\gxb18167\\PycharmProjects\\EEG-To-Text\\SIGIR_Development\\EEG-GAN\\Test_EEG_Text_Pairs_Sentence.pkl\"\n",
    "\n",
    "EEG_word_level_embeddings, EEG_word_level_labels = read_EEG_embeddings_labels(train_path)\n",
    "Test_EEG_word_level_embeddings, Test_EEG_word_level_labels = read_EEG_embeddings_labels(test_path)"
   ],
   "metadata": {
    "collapsed": false,
    "ExecuteTime": {
     "start_time": "2024-04-16T12:14:11.806877Z",
     "end_time": "2024-04-16T12:14:14.090151Z"
    }
   }
  },
  {
   "cell_type": "code",
   "execution_count": 82,
   "outputs": [],
   "source": [
    "EEG_word_level_sentences, EEG_sentence_embeddings = get_sentences_labels(EEG_word_level_labels, EEG_word_level_embeddings)\n",
    "Test_EEG_word_level_sentences, Test_EEG_sentence_embeddings = get_sentences_labels(Test_EEG_word_level_labels, Test_EEG_word_level_embeddings)\n"
   ],
   "metadata": {
    "collapsed": false,
    "ExecuteTime": {
     "start_time": "2024-04-16T12:14:14.090151Z",
     "end_time": "2024-04-16T12:14:14.249692Z"
    }
   }
  },
  {
   "cell_type": "code",
   "execution_count": 83,
   "outputs": [],
   "source": [
    "# Combine the sentences\n",
    "list_of_words = combine_sentences(EEG_word_level_sentences)\n",
    "Test_list_of_words = combine_sentences(Test_EEG_word_level_sentences)"
   ],
   "metadata": {
    "collapsed": false,
    "ExecuteTime": {
     "start_time": "2024-04-16T12:14:14.249692Z",
     "end_time": "2024-04-16T12:14:14.357363Z"
    }
   }
  },
  {
   "cell_type": "code",
   "execution_count": 83,
   "outputs": [],
   "source": [],
   "metadata": {
    "collapsed": false,
    "ExecuteTime": {
     "start_time": "2024-04-16T12:14:14.567227Z",
     "end_time": "2024-04-16T12:14:14.584654Z"
    }
   }
  },
  {
   "cell_type": "code",
   "execution_count": 84,
   "outputs": [],
   "source": [
    "# Get the named entities\n",
    "List_of_NE, List_of_NE_Labels = get_named_entities(Sentences_labels, Sentence_Classes)"
   ],
   "metadata": {
    "collapsed": false,
    "ExecuteTime": {
     "start_time": "2024-04-16T12:14:14.877753Z",
     "end_time": "2024-04-16T12:14:14.908018Z"
    }
   }
  },
  {
   "cell_type": "code",
   "execution_count": 85,
   "outputs": [
    {
     "ename": "TypeError",
     "evalue": "unhashable type: 'list'",
     "output_type": "error",
     "traceback": [
      "\u001B[1;31m---------------------------------------------------------------------------\u001B[0m",
      "\u001B[1;31mTypeError\u001B[0m                                 Traceback (most recent call last)",
      "Cell \u001B[1;32mIn[85], line 4\u001B[0m\n\u001B[0;32m      2\u001B[0m counter_sum \u001B[38;5;241m=\u001B[39m \u001B[38;5;241m0\u001B[39m\n\u001B[0;32m      3\u001B[0m \u001B[38;5;28;01mfor\u001B[39;00m NE \u001B[38;5;129;01min\u001B[39;00m List_of_NE:\n\u001B[1;32m----> 4\u001B[0m     boolean, counter \u001B[38;5;241m=\u001B[39m \u001B[43mis_named_entity_in_sentences\u001B[49m\u001B[43m(\u001B[49m\u001B[43mNE\u001B[49m\u001B[43m,\u001B[49m\u001B[43m \u001B[49m\u001B[43mlist_of_words\u001B[49m\u001B[43m,\u001B[49m\u001B[43m \u001B[49m\u001B[43mEEG_sentence_embeddings\u001B[49m\u001B[43m)\u001B[49m\n\u001B[0;32m      5\u001B[0m     \u001B[38;5;28;01mif\u001B[39;00m boolean:\n\u001B[0;32m      6\u001B[0m         \u001B[38;5;28mprint\u001B[39m(\u001B[38;5;124mf\u001B[39m\u001B[38;5;124m\"\u001B[39m\u001B[38;5;124mNamed entity \u001B[39m\u001B[38;5;132;01m{\u001B[39;00mNE\u001B[38;5;132;01m}\u001B[39;00m\u001B[38;5;124m found in \u001B[39m\u001B[38;5;132;01m{\u001B[39;00mcounter\u001B[38;5;132;01m}\u001B[39;00m\u001B[38;5;124m sentences\u001B[39m\u001B[38;5;124m\"\u001B[39m)\n",
      "Cell \u001B[1;32mIn[80], line 7\u001B[0m, in \u001B[0;36mis_named_entity_in_sentences\u001B[1;34m(named_entity, sentences, EEG_embeddings)\u001B[0m\n\u001B[0;32m      5\u001B[0m \u001B[38;5;28;01mif\u001B[39;00m sentence[i:i\u001B[38;5;241m+\u001B[39m\u001B[38;5;28mlen\u001B[39m(named_entity)] \u001B[38;5;241m==\u001B[39m named_entity:\n\u001B[0;32m      6\u001B[0m     named_entity_eeg \u001B[38;5;241m=\u001B[39m EEG_embeddings[i:i\u001B[38;5;241m+\u001B[39m\u001B[38;5;28mlen\u001B[39m(named_entity)]\n\u001B[1;32m----> 7\u001B[0m     \u001B[38;5;28;01mif\u001B[39;00m \u001B[43mnamed_entity\u001B[49m\u001B[43m \u001B[49m\u001B[38;5;129;43;01min\u001B[39;49;00m\u001B[43m \u001B[49m\u001B[43mNamed_Entity_EEG_dict\u001B[49m:\n\u001B[0;32m      8\u001B[0m         Named_Entity_EEG_dict[named_entity]\u001B[38;5;241m.\u001B[39mappend(named_entity_eeg)\n\u001B[0;32m      9\u001B[0m     \u001B[38;5;28;01melse\u001B[39;00m:\n",
      "\u001B[1;31mTypeError\u001B[0m: unhashable type: 'list'"
     ]
    }
   ],
   "source": [
    "# Check if each named entity is in the list of sentences\n",
    "counter_sum = 0\n",
    "for NE in List_of_NE:\n",
    "    boolean, counter = is_named_entity_in_sentences(NE, list_of_words, EEG_sentence_embeddings)\n",
    "    if boolean:\n",
    "        print(f\"Named entity {NE} found in {counter} sentences\")\n",
    "    else:\n",
    "        print(f\"Named entity {NE} found in {counter} sentences\")\n",
    "    counter_sum += counter"
   ],
   "metadata": {
    "collapsed": false,
    "ExecuteTime": {
     "start_time": "2024-04-16T11:49:40.842511Z",
     "end_time": "2024-04-16T11:49:47.002277Z"
    }
   }
  },
  {
   "cell_type": "code",
   "execution_count": 48,
   "outputs": [],
   "source": [],
   "metadata": {
    "collapsed": false,
    "ExecuteTime": {
     "start_time": "2024-04-16T11:50:21.141467Z",
     "end_time": "2024-04-16T11:50:21.158361Z"
    }
   }
  },
  {
   "cell_type": "code",
   "execution_count": 44,
   "outputs": [],
   "source": [],
   "metadata": {
    "collapsed": false,
    "ExecuteTime": {
     "start_time": "2024-04-16T11:48:55.079890Z",
     "end_time": "2024-04-16T11:48:55.095058Z"
    }
   }
  },
  {
   "cell_type": "code",
   "execution_count": 11,
   "outputs": [],
   "source": [],
   "metadata": {
    "collapsed": false,
    "ExecuteTime": {
     "start_time": "2024-04-14T15:25:51.434982Z",
     "end_time": "2024-04-14T15:25:51.637098Z"
    }
   }
  },
  {
   "cell_type": "code",
   "execution_count": 44,
   "outputs": [],
   "source": [],
   "metadata": {
    "collapsed": false,
    "ExecuteTime": {
     "start_time": "2024-04-16T11:49:01.243802Z",
     "end_time": "2024-04-16T11:49:01.274964Z"
    }
   }
  },
  {
   "cell_type": "code",
   "execution_count": 44,
   "outputs": [],
   "source": [],
   "metadata": {
    "collapsed": false,
    "ExecuteTime": {
     "start_time": "2024-04-16T11:49:03.639347Z",
     "end_time": "2024-04-16T11:49:03.672329Z"
    }
   }
  },
  {
   "cell_type": "code",
   "execution_count": 33,
   "outputs": [],
   "source": [],
   "metadata": {
    "collapsed": false,
    "ExecuteTime": {
     "start_time": "2024-04-16T11:46:28.922747Z",
     "end_time": "2024-04-16T11:46:28.971336Z"
    }
   }
  },
  {
   "cell_type": "code",
   "execution_count": 44,
   "outputs": [],
   "source": [],
   "metadata": {
    "collapsed": false,
    "ExecuteTime": {
     "start_time": "2024-04-16T11:49:06.410939Z",
     "end_time": "2024-04-16T11:49:06.442321Z"
    }
   }
  },
  {
   "cell_type": "code",
   "execution_count": 44,
   "outputs": [],
   "source": [],
   "metadata": {
    "collapsed": false,
    "ExecuteTime": {
     "start_time": "2024-04-16T11:49:08.517168Z",
     "end_time": "2024-04-16T11:49:08.543874Z"
    }
   }
  },
  {
   "cell_type": "code",
   "execution_count": 44,
   "outputs": [],
   "source": [],
   "metadata": {
    "collapsed": false,
    "ExecuteTime": {
     "start_time": "2024-04-16T11:49:09.708366Z",
     "end_time": "2024-04-16T11:49:09.740436Z"
    }
   }
  },
  {
   "cell_type": "code",
   "execution_count": 44,
   "outputs": [],
   "source": [],
   "metadata": {
    "collapsed": false,
    "ExecuteTime": {
     "start_time": "2024-04-16T11:49:10.843681Z",
     "end_time": "2024-04-16T11:49:10.874564Z"
    }
   }
  },
  {
   "cell_type": "code",
   "execution_count": 44,
   "outputs": [],
   "source": [],
   "metadata": {
    "collapsed": false,
    "ExecuteTime": {
     "start_time": "2024-04-16T11:49:12.373192Z",
     "end_time": "2024-04-16T11:49:12.388997Z"
    }
   }
  },
  {
   "cell_type": "code",
   "execution_count": 45,
   "outputs": [],
   "source": [],
   "metadata": {
    "collapsed": false,
    "ExecuteTime": {
     "start_time": "2024-04-16T11:49:24.127435Z",
     "end_time": "2024-04-16T11:49:24.144752Z"
    }
   }
  },
  {
   "cell_type": "code",
   "execution_count": 21,
   "outputs": [
    {
     "data": {
      "text/plain": "157906"
     },
     "execution_count": 21,
     "metadata": {},
     "output_type": "execute_result"
    }
   ],
   "source": [],
   "metadata": {
    "collapsed": false,
    "ExecuteTime": {
     "start_time": "2024-04-14T15:27:34.445068Z",
     "end_time": "2024-04-14T15:27:34.483823Z"
    }
   }
  },
  {
   "cell_type": "code",
   "execution_count": null,
   "outputs": [],
   "source": [],
   "metadata": {
    "collapsed": false
   }
  }
 ],
 "metadata": {
  "kernelspec": {
   "display_name": "Python 3",
   "language": "python",
   "name": "python3"
  },
  "language_info": {
   "codemirror_mode": {
    "name": "ipython",
    "version": 2
   },
   "file_extension": ".py",
   "mimetype": "text/x-python",
   "name": "python",
   "nbconvert_exporter": "python",
   "pygments_lexer": "ipython2",
   "version": "2.7.6"
  }
 },
 "nbformat": 4,
 "nbformat_minor": 0
}
