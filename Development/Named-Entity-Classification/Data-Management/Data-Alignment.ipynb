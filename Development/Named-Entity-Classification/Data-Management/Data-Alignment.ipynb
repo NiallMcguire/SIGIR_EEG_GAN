{
 "cells": [
  {
   "cell_type": "code",
   "execution_count": 109,
   "outputs": [],
   "source": [
    "import pickle\n",
    "import re\n"
   ],
   "metadata": {
    "collapsed": false,
    "ExecuteTime": {
     "start_time": "2024-04-16T15:34:10.946947Z",
     "end_time": "2024-04-16T15:34:11.531283Z"
    }
   }
  },
  {
   "cell_type": "code",
   "execution_count": 110,
   "outputs": [],
   "source": [
    "def read_sentences(path):\n",
    "    Sentences = []\n",
    "    Sentence_Classes = []\n",
    "    Temp_Sentence = []\n",
    "    Temp_Sentence_Classes = []\n",
    "    with open(path, 'r', encoding=\"utf-8\") as file:\n",
    "        # Iterate through each line\n",
    "        for line in file:\n",
    "\n",
    "            # Split the line by the tab character\n",
    "            parts = line.split('\\t')\n",
    "\n",
    "\n",
    "            # Check if there are at least two parts\n",
    "            if len(parts) >= 2:\n",
    "                word = parts[0]\n",
    "                class_ = parts[1].strip()  # strip() to remove leading/trailing whitespace\n",
    "\n",
    "                # Do something with the word and class, for example, print them\n",
    "                #print(\"Word:\", word)\n",
    "                #print(\"Class:\", class_)\n",
    "\n",
    "\n",
    "                Temp_Sentence.append(word)\n",
    "                Temp_Sentence_Classes.append(class_)\n",
    "                #print(Temp_Sentence)\n",
    "            else:\n",
    "                #print(\"Line does not contain a tab character\")\n",
    "                Sentences.append(Temp_Sentence)\n",
    "                Sentence_Classes.append(Temp_Sentence_Classes)\n",
    "                Temp_Sentence = []\n",
    "                Temp_Sentence_Classes = []\n",
    "    return Sentences, Sentence_Classes\n"
   ],
   "metadata": {
    "collapsed": false,
    "ExecuteTime": {
     "start_time": "2024-04-16T15:34:11.507096Z",
     "end_time": "2024-04-16T15:34:11.594856Z"
    }
   }
  },
  {
   "cell_type": "code",
   "execution_count": 111,
   "metadata": {
    "collapsed": true,
    "ExecuteTime": {
     "start_time": "2024-04-16T15:34:12.175421Z",
     "end_time": "2024-04-16T15:34:12.276088Z"
    }
   },
   "outputs": [],
   "source": [
    "path_normal_reading = r'C:\\Users\\gxb18167\\PycharmProjects\\SIGIR_EEG_GAN\\Development\\Named-Entity-Classification\\Data-Management\\zuco1_normalreading_ner.txt'\n",
    "\n",
    "path_task_reading = r\"C:\\Users\\gxb18167\\PycharmProjects\\SIGIR_EEG_GAN\\Development\\Named-Entity-Classification\\Data-Management\\zuco1_taskreading_ner.txt\"\n",
    "\n",
    "path_sentiment = r\"C:\\Users\\gxb18167\\PycharmProjects\\SIGIR_EEG_GAN\\Development\\Named-Entity-Classification\\Data-Management\\zuco1_sentiment_ner.txt\"\n",
    "\n",
    "normal_reading_sentences, normal_reading_classes = read_sentences(path_normal_reading)\n",
    "task_reading_sentences, task_reading_classes = read_sentences(path_task_reading)\n",
    "sentiment_sentences, sentiment_classes = read_sentences(path_sentiment)\n",
    "\n",
    "#combine\n",
    "Sentences_labels = [item for sublist in [normal_reading_sentences, task_reading_sentences, sentiment_sentences] for item in sublist]\n",
    "Sentence_Classes = [item for sublist in [normal_reading_classes, task_reading_classes, sentiment_classes] for item in sublist]\n"
   ]
  },
  {
   "cell_type": "code",
   "execution_count": 112,
   "outputs": [
    {
     "name": "stdout",
     "output_type": "stream",
     "text": [
      "['Henry', 'Ford', 'advocated', 'long-time', 'associate', 'Harry', 'Bennett', 'to', 'take', 'the', 'spot', '.']\n"
     ]
    }
   ],
   "source": [
    "print(Sentences_labels[0])"
   ],
   "metadata": {
    "collapsed": false,
    "ExecuteTime": {
     "start_time": "2024-04-16T15:34:14.617194Z",
     "end_time": "2024-04-16T15:34:14.674376Z"
    }
   }
  },
  {
   "cell_type": "code",
   "execution_count": 113,
   "outputs": [
    {
     "name": "stdout",
     "output_type": "stream",
     "text": [
      "['B-PER', 'I-PER', 'O', 'O', 'O', 'B-PER', 'I-PER', 'O', 'O', 'O', 'O', 'O']\n"
     ]
    }
   ],
   "source": [
    "print(Sentence_Classes[0])"
   ],
   "metadata": {
    "collapsed": false,
    "ExecuteTime": {
     "start_time": "2024-04-16T15:34:15.420120Z",
     "end_time": "2024-04-16T15:34:15.484440Z"
    }
   }
  },
  {
   "cell_type": "code",
   "execution_count": 114,
   "outputs": [],
   "source": [
    "def read_EEG_embeddings_labels(path):\n",
    "    with open(path, 'rb') as file:\n",
    "        EEG_word_level_embeddings = pickle.load(file)\n",
    "        EEG_word_level_labels = pickle.load(file)\n",
    "    return EEG_word_level_embeddings, EEG_word_level_labels"
   ],
   "metadata": {
    "collapsed": false,
    "ExecuteTime": {
     "start_time": "2024-04-16T15:34:16.378361Z",
     "end_time": "2024-04-16T15:34:16.449086Z"
    }
   }
  },
  {
   "cell_type": "code",
   "execution_count": 167,
   "outputs": [],
   "source": [
    "def get_sentences_labels(EEG_word_level_labels, EEG_word_level_embeddings):\n",
    "    sentences = []\n",
    "    current_sentence = []\n",
    "    sentence_EEG_embeddings = []\n",
    "\n",
    "    # Iterate through the words\n",
    "    EEG_embedding_index = 0\n",
    "\n",
    "    for i in range(len(EEG_word_level_labels)):\n",
    "        # Check if the word marks the start of a new sentence\n",
    "        word = EEG_word_level_labels[i]\n",
    "        if word == \"SOS\":\n",
    "            # If it does, append the current sentence to the list of sentences\n",
    "            if len(current_sentence) > 0:\n",
    "                sentences.append(current_sentence)\n",
    "                sentence_length = len(current_sentence)\n",
    "                sentence_EEG_segment = EEG_word_level_embeddings[EEG_embedding_index:sentence_length]\n",
    "                sentence_EEG_embeddings.append(sentence_EEG_segment)\n",
    "                EEG_embedding_index += sentence_length\n",
    "            # Start a new sentence\n",
    "            current_sentence = []\n",
    "        else:\n",
    "            # Add the word to the current sentence\n",
    "            current_sentence.append(word)\n",
    "\n",
    "\n",
    "    # Append the last sentence\n",
    "    if current_sentence:\n",
    "        sentences.append(current_sentence)\n",
    "        sentence_length = len(current_sentence)\n",
    "        sentence_EEG_segment = EEG_word_level_embeddings[EEG_embedding_index:sentence_length]\n",
    "        sentence_EEG_embeddings.append(sentence_EEG_segment)\n",
    "\n",
    "    return sentences, sentence_EEG_embeddings"
   ],
   "metadata": {
    "collapsed": false,
    "ExecuteTime": {
     "start_time": "2024-04-16T15:44:56.743289Z",
     "end_time": "2024-04-16T15:44:56.775144Z"
    }
   }
  },
  {
   "cell_type": "code",
   "execution_count": 168,
   "outputs": [],
   "source": [
    "def combine_sentences(sentences):\n",
    "    # Combine each internal list into a string\n",
    "    combined_sentences = [' '.join(sentence) for sentence in sentences]\n",
    "    # Initialize an empty list to store the list of words for each sentence\n",
    "    list_of_words = []\n",
    "    # Iterate over each sentence in the list\n",
    "    for sentence in combined_sentences:\n",
    "        # Split the sentence into a list of words including punctuation\n",
    "        words = re.findall(r'\\b\\w+\\b|[^\\w\\s]', sentence)\n",
    "        # Append the list of words to the list of lists\n",
    "        list_of_words.append(words)\n",
    "    return list_of_words\n"
   ],
   "metadata": {
    "collapsed": false,
    "ExecuteTime": {
     "start_time": "2024-04-16T15:44:57.528026Z",
     "end_time": "2024-04-16T15:44:57.559686Z"
    }
   }
  },
  {
   "cell_type": "code",
   "execution_count": 169,
   "outputs": [],
   "source": [
    "def get_named_entities(Sentences_labels, Sentence_Classes):\n",
    "    List_of_NE = []\n",
    "    List_of_NE_Labels = []\n",
    "    Named_Entity = []\n",
    "    Named_Entity_Label = []\n",
    "\n",
    "    for i in range(len(Sentences_labels)):\n",
    "        current_sentence = Sentences_labels[i]\n",
    "        current_sentence_label = Sentence_Classes[i]\n",
    "\n",
    "        for j in range(len(current_sentence)):\n",
    "            current_word = current_sentence[j]\n",
    "            #print(current_word)\n",
    "            current_word_label = current_sentence_label[j]\n",
    "            #print(current_word_label)\n",
    "            if current_word_label != 'O':\n",
    "                Named_Entity.append(current_word)\n",
    "                Named_Entity_Label.append(current_word_label)\n",
    "            else:\n",
    "                if Named_Entity:\n",
    "                    List_of_NE.append(Named_Entity)\n",
    "                    List_of_NE_Labels.append(Named_Entity_Label)\n",
    "\n",
    "                    Named_Entity = []\n",
    "                    Named_Entity_Label = []\n",
    "    return List_of_NE, List_of_NE_Labels"
   ],
   "metadata": {
    "collapsed": false,
    "ExecuteTime": {
     "start_time": "2024-04-16T15:44:57.743409Z",
     "end_time": "2024-04-16T15:44:57.759260Z"
    }
   }
  },
  {
   "cell_type": "code",
   "execution_count": 170,
   "outputs": [],
   "source": [
    "def is_named_entity_in_sentences(named_entity, sentences, embeddings):\n",
    "\n",
    "    named_entity_eeg_list = []\n",
    "    for sentence in sentences:\n",
    "        for i in range(len(sentence) - len(named_entity) + 1):\n",
    "            if sentence[i:i+len(named_entity)] == named_entity:\n",
    "                named_entity_eeg = embeddings[i:i+len(named_entity)]\n",
    "                if named_entity_eeg != []:\n",
    "                    named_entity_eeg_list.append(named_entity_eeg)\n",
    "\n",
    "    return named_entity_eeg_list"
   ],
   "metadata": {
    "collapsed": false,
    "ExecuteTime": {
     "start_time": "2024-04-16T15:44:57.882914Z",
     "end_time": "2024-04-16T15:44:57.898568Z"
    }
   }
  },
  {
   "cell_type": "code",
   "execution_count": 171,
   "outputs": [],
   "source": [
    "def get_EEG_Class_NE(words, embeddings):\n",
    "    # Check if each named entity is in the list of sentences\n",
    "    NE_EEG_segment = []\n",
    "    NE_EEG_Class = []\n",
    "    NE_list = []\n",
    "\n",
    "    for i in range(len(List_of_NE)):\n",
    "        Class = List_of_NE_Labels[i]\n",
    "        NE = List_of_NE[i]\n",
    "        #print(NE)\n",
    "        EEG_list = is_named_entity_in_sentences(NE, words, embeddings)\n",
    "        if EEG_list != []:\n",
    "            NE_EEG_segment.append(EEG_list)\n",
    "            NE_EEG_Class.append(Class)\n",
    "            NE_list.append(NE)\n",
    "\n",
    "    return NE_EEG_segment, NE_EEG_Class, NE_list\n",
    "\n"
   ],
   "metadata": {
    "collapsed": false,
    "ExecuteTime": {
     "start_time": "2024-04-16T15:44:58.066660Z",
     "end_time": "2024-04-16T15:44:58.097953Z"
    }
   }
  },
  {
   "cell_type": "code",
   "execution_count": 172,
   "outputs": [],
   "source": [
    "\n",
    "def get_unique_entities(entities, EEG_segments, Classes):\n",
    "    seen_entities = set()\n",
    "    unique_entities = []\n",
    "    unique_EEG_segments = []\n",
    "    unique_Classes = []\n",
    "\n",
    "    for i in range(len(entities)):\n",
    "        sublist = entities[i]\n",
    "        if tuple(sublist) not in seen_entities:\n",
    "            unique_entities.append(sublist)\n",
    "            seen_entities.add(tuple(sublist))\n",
    "            unique_EEG_segments.append(EEG_segments[i])\n",
    "            unique_Classes.append(Classes[i])\n",
    "\n",
    "    return unique_entities, unique_EEG_segments, unique_Classes"
   ],
   "metadata": {
    "collapsed": false,
    "ExecuteTime": {
     "start_time": "2024-04-16T15:44:58.373165Z",
     "end_time": "2024-04-16T15:44:58.404641Z"
    }
   }
  },
  {
   "cell_type": "code",
   "execution_count": 173,
   "outputs": [],
   "source": [
    "train_path = r\"C:\\Users\\gxb18167\\PycharmProjects\\EEG-To-Text\\SIGIR_Development\\EEG-GAN\\EEG_Text_Pairs_Sentence.pkl\"\n",
    "test_path = r\"C:\\Users\\gxb18167\\PycharmProjects\\EEG-To-Text\\SIGIR_Development\\EEG-GAN\\Test_EEG_Text_Pairs_Sentence.pkl\"\n",
    "\n",
    "EEG_word_level_embeddings, EEG_word_level_labels = read_EEG_embeddings_labels(train_path)\n",
    "Test_EEG_word_level_embeddings, Test_EEG_word_level_labels = read_EEG_embeddings_labels(test_path)"
   ],
   "metadata": {
    "collapsed": false,
    "ExecuteTime": {
     "start_time": "2024-04-16T15:44:58.634893Z",
     "end_time": "2024-04-16T15:44:59.934999Z"
    }
   }
  },
  {
   "cell_type": "code",
   "execution_count": 238,
   "outputs": [],
   "source": [
    "def get_sentences_EEG(labels, EEG_embeddings):\n",
    "    Sentences = []\n",
    "    current_sentence = []\n",
    "\n",
    "    EEG_Sentencs = []\n",
    "    EEG_index = 0\n",
    "    for i in range(len(labels)):\n",
    "        # Check if the word marks the start of a new sentence\n",
    "        word = labels[i]\n",
    "        if word == \"SOS\":\n",
    "            # If it does, append the current sentence to the list of sentences\n",
    "            if len(current_sentence) > 0:\n",
    "                Sentences.append(current_sentence)\n",
    "                sentence_length = len(current_sentence)\n",
    "                #print(EEG_index)\n",
    "                #print(sentence_length)\n",
    "                EEG_segment = EEG_embeddings[EEG_index:EEG_index+sentence_length]\n",
    "                EEG_index += sentence_length\n",
    "                EEG_Sentencs.append(EEG_segment)\n",
    "\n",
    "                # Start a new sentence\n",
    "                current_sentence = []\n",
    "        else:\n",
    "            # Add the word to the current sentence\n",
    "            current_sentence.append(word)\n",
    "\n",
    "    return Sentences, EEG_Sentencs\n",
    "\n",
    "\n",
    "\n"
   ],
   "metadata": {
    "collapsed": false,
    "ExecuteTime": {
     "start_time": "2024-04-16T15:58:00.094711Z",
     "end_time": "2024-04-16T15:58:00.111066Z"
    }
   }
  },
  {
   "cell_type": "code",
   "execution_count": 239,
   "outputs": [],
   "source": [
    "EEG_word_level_sentences, EEG_sentence_embeddings = get_sentences_EEG(EEG_word_level_labels, EEG_word_level_embeddings)\n",
    "Test_EEG_word_level_sentences, Test_EEG_sentence_embeddings = get_sentences_EEG(Test_EEG_word_level_labels, Test_EEG_word_level_embeddings)"
   ],
   "metadata": {
    "collapsed": false,
    "ExecuteTime": {
     "start_time": "2024-04-16T15:58:00.478331Z",
     "end_time": "2024-04-16T15:58:00.557544Z"
    }
   }
  },
  {
   "cell_type": "code",
   "execution_count": 239,
   "outputs": [],
   "source": [],
   "metadata": {
    "collapsed": false,
    "ExecuteTime": {
     "start_time": "2024-04-16T15:58:01.150521Z",
     "end_time": "2024-04-16T15:58:01.162561Z"
    }
   }
  },
  {
   "cell_type": "code",
   "execution_count": 239,
   "outputs": [],
   "source": [],
   "metadata": {
    "collapsed": false,
    "ExecuteTime": {
     "start_time": "2024-04-16T15:58:01.612285Z",
     "end_time": "2024-04-16T15:58:01.617358Z"
    }
   }
  },
  {
   "cell_type": "code",
   "execution_count": 239,
   "outputs": [],
   "source": [],
   "metadata": {
    "collapsed": false,
    "ExecuteTime": {
     "start_time": "2024-04-16T15:58:01.753130Z",
     "end_time": "2024-04-16T15:58:01.783936Z"
    }
   }
  },
  {
   "cell_type": "code",
   "execution_count": 239,
   "outputs": [],
   "source": [],
   "metadata": {
    "collapsed": false,
    "ExecuteTime": {
     "start_time": "2024-04-16T15:58:01.989923Z",
     "end_time": "2024-04-16T15:58:02.003018Z"
    }
   }
  },
  {
   "cell_type": "code",
   "execution_count": 239,
   "outputs": [],
   "source": [],
   "metadata": {
    "collapsed": false,
    "ExecuteTime": {
     "start_time": "2024-04-16T15:58:02.123233Z",
     "end_time": "2024-04-16T15:58:02.151578Z"
    }
   }
  },
  {
   "cell_type": "code",
   "execution_count": 239,
   "outputs": [],
   "source": [],
   "metadata": {
    "collapsed": false,
    "ExecuteTime": {
     "start_time": "2024-04-16T15:58:03.072104Z",
     "end_time": "2024-04-16T15:58:03.087751Z"
    }
   }
  },
  {
   "cell_type": "code",
   "execution_count": 240,
   "outputs": [],
   "source": [
    "# Combine the sentences\n",
    "list_of_words = combine_sentences(EEG_word_level_sentences)\n",
    "Test_list_of_words = combine_sentences(Test_EEG_word_level_sentences)"
   ],
   "metadata": {
    "collapsed": false,
    "ExecuteTime": {
     "start_time": "2024-04-16T15:58:03.294660Z",
     "end_time": "2024-04-16T15:58:03.391538Z"
    }
   }
  },
  {
   "cell_type": "code",
   "execution_count": 241,
   "outputs": [
    {
     "data": {
      "text/plain": "['Bread',\n ',',\n 'My',\n 'Sweet',\n 'has',\n 'so',\n 'many',\n 'flaws',\n 'would',\n 'easy',\n 'critics',\n 'to',\n 'shred']"
     },
     "execution_count": 241,
     "metadata": {},
     "output_type": "execute_result"
    }
   ],
   "source": [
    "list_of_words[2]"
   ],
   "metadata": {
    "collapsed": false,
    "ExecuteTime": {
     "start_time": "2024-04-16T15:58:03.865228Z",
     "end_time": "2024-04-16T15:58:03.897157Z"
    }
   }
  },
  {
   "cell_type": "code",
   "execution_count": 241,
   "outputs": [],
   "source": [],
   "metadata": {
    "collapsed": false,
    "ExecuteTime": {
     "start_time": "2024-04-16T15:58:05.118834Z",
     "end_time": "2024-04-16T15:58:05.151423Z"
    }
   }
  },
  {
   "cell_type": "code",
   "execution_count": 241,
   "outputs": [],
   "source": [],
   "metadata": {
    "collapsed": false,
    "ExecuteTime": {
     "start_time": "2024-04-16T15:58:05.340685Z",
     "end_time": "2024-04-16T15:58:05.358714Z"
    }
   }
  },
  {
   "cell_type": "code",
   "execution_count": 242,
   "outputs": [],
   "source": [
    "# Get the named entities\n",
    "List_of_NE, List_of_NE_Labels = get_named_entities(Sentences_labels, Sentence_Classes)"
   ],
   "metadata": {
    "collapsed": false,
    "ExecuteTime": {
     "start_time": "2024-04-16T15:58:05.474003Z",
     "end_time": "2024-04-16T15:58:05.489023Z"
    }
   }
  },
  {
   "cell_type": "code",
   "execution_count": 242,
   "outputs": [],
   "source": [],
   "metadata": {
    "collapsed": false,
    "ExecuteTime": {
     "start_time": "2024-04-16T15:58:05.605429Z",
     "end_time": "2024-04-16T15:58:05.638102Z"
    }
   }
  },
  {
   "cell_type": "code",
   "execution_count": 243,
   "outputs": [],
   "source": [
    "# Get the EEG embeddings for the named entities\n",
    "NE_EEG_segment, NE_EEG_Class, NE = get_EEG_Class_NE(list_of_words, EEG_sentence_embeddings)"
   ],
   "metadata": {
    "collapsed": false,
    "ExecuteTime": {
     "start_time": "2024-04-16T15:58:05.927305Z",
     "end_time": "2024-04-16T15:58:54.445393Z"
    }
   }
  },
  {
   "cell_type": "code",
   "execution_count": 243,
   "outputs": [],
   "source": [],
   "metadata": {
    "collapsed": false,
    "ExecuteTime": {
     "start_time": "2024-04-16T15:58:54.669179Z",
     "end_time": "2024-04-16T15:58:54.685966Z"
    }
   }
  },
  {
   "cell_type": "code",
   "execution_count": 244,
   "outputs": [],
   "source": [
    "#Test set\n",
    "Test_NE_EEG_segment, Test_NE_EEG_Class, Test_NE = get_EEG_Class_NE(Test_list_of_words, Test_EEG_sentence_embeddings)"
   ],
   "metadata": {
    "collapsed": false,
    "ExecuteTime": {
     "start_time": "2024-04-16T15:58:54.719920Z",
     "end_time": "2024-04-16T15:59:00.287413Z"
    }
   }
  },
  {
   "cell_type": "code",
   "execution_count": 244,
   "outputs": [],
   "source": [],
   "metadata": {
    "collapsed": false,
    "ExecuteTime": {
     "start_time": "2024-04-16T15:59:00.287413Z",
     "end_time": "2024-04-16T15:59:00.303616Z"
    }
   }
  },
  {
   "cell_type": "code",
   "execution_count": 244,
   "outputs": [],
   "source": [],
   "metadata": {
    "collapsed": false,
    "ExecuteTime": {
     "start_time": "2024-04-16T15:59:00.303616Z",
     "end_time": "2024-04-16T15:59:00.335651Z"
    }
   }
  },
  {
   "cell_type": "code",
   "execution_count": 245,
   "outputs": [],
   "source": [
    "# Get the unique named entities\n",
    "unique_entities, unique_EEG_segments, unique_Classes = get_unique_entities(NE, NE_EEG_segment, NE_EEG_Class)\n",
    "\n",
    "# Test set\n",
    "Test_unique_entities, Test_unique_EEG_segments, Test_unique_Classes = get_unique_entities(Test_NE, Test_NE_EEG_segment, Test_NE_EEG_Class)"
   ],
   "metadata": {
    "collapsed": false,
    "ExecuteTime": {
     "start_time": "2024-04-16T15:59:00.319247Z",
     "end_time": "2024-04-16T15:59:00.351418Z"
    }
   }
  },
  {
   "cell_type": "code",
   "execution_count": 248,
   "outputs": [],
   "source": [],
   "metadata": {
    "collapsed": false,
    "ExecuteTime": {
     "start_time": "2024-04-16T16:01:46.756567Z",
     "end_time": "2024-04-16T16:01:46.772501Z"
    }
   }
  },
  {
   "cell_type": "code",
   "execution_count": 246,
   "outputs": [],
   "source": [],
   "metadata": {
    "collapsed": false,
    "ExecuteTime": {
     "start_time": "2024-04-16T15:59:00.351418Z",
     "end_time": "2024-04-16T15:59:00.414060Z"
    }
   }
  },
  {
   "cell_type": "code",
   "execution_count": 247,
   "outputs": [],
   "source": [
    "with open('train_NER.pkl', 'wb') as f:\n",
    "    # Serialize and write the list to the file\n",
    "    pickle.dump(unique_entities, f)\n",
    "    pickle.dump(unique_EEG_segments, f)\n",
    "    pickle.dump(unique_Classes, f)"
   ],
   "metadata": {
    "collapsed": false,
    "ExecuteTime": {
     "start_time": "2024-04-16T15:59:00.366518Z",
     "end_time": "2024-04-16T15:59:00.415194Z"
    }
   }
  },
  {
   "cell_type": "code",
   "execution_count": 248,
   "outputs": [],
   "source": [
    "with open('test_NER.pkl', 'wb') as f:\n",
    "    # Serialize and write the list to the file\n",
    "    pickle.dump(Test_unique_entities, f)\n",
    "    pickle.dump(Test_unique_EEG_segments, f)\n",
    "    pickle.dump(Test_unique_Classes, f)"
   ],
   "metadata": {
    "collapsed": false,
    "ExecuteTime": {
     "start_time": "2024-04-16T15:59:00.398290Z",
     "end_time": "2024-04-16T15:59:00.415194Z"
    }
   }
  },
  {
   "cell_type": "code",
   "execution_count": 108,
   "outputs": [],
   "source": [],
   "metadata": {
    "collapsed": false,
    "ExecuteTime": {
     "start_time": "2024-04-16T15:32:16.138095Z",
     "end_time": "2024-04-16T15:32:16.182039Z"
    }
   }
  },
  {
   "cell_type": "code",
   "execution_count": 129,
   "outputs": [],
   "source": [],
   "metadata": {
    "collapsed": false,
    "ExecuteTime": {
     "start_time": "2024-04-16T12:47:51.032904Z",
     "end_time": "2024-04-16T12:47:51.069248Z"
    }
   }
  },
  {
   "cell_type": "code",
   "execution_count": 33,
   "outputs": [],
   "source": [],
   "metadata": {
    "collapsed": false,
    "ExecuteTime": {
     "start_time": "2024-04-16T11:46:28.922747Z",
     "end_time": "2024-04-16T11:46:28.971336Z"
    }
   }
  },
  {
   "cell_type": "code",
   "execution_count": 44,
   "outputs": [],
   "source": [],
   "metadata": {
    "collapsed": false,
    "ExecuteTime": {
     "start_time": "2024-04-16T11:49:06.410939Z",
     "end_time": "2024-04-16T11:49:06.442321Z"
    }
   }
  },
  {
   "cell_type": "code",
   "execution_count": 44,
   "outputs": [],
   "source": [],
   "metadata": {
    "collapsed": false,
    "ExecuteTime": {
     "start_time": "2024-04-16T11:49:08.517168Z",
     "end_time": "2024-04-16T11:49:08.543874Z"
    }
   }
  },
  {
   "cell_type": "code",
   "execution_count": 44,
   "outputs": [],
   "source": [],
   "metadata": {
    "collapsed": false,
    "ExecuteTime": {
     "start_time": "2024-04-16T11:49:09.708366Z",
     "end_time": "2024-04-16T11:49:09.740436Z"
    }
   }
  },
  {
   "cell_type": "code",
   "execution_count": 44,
   "outputs": [],
   "source": [],
   "metadata": {
    "collapsed": false,
    "ExecuteTime": {
     "start_time": "2024-04-16T11:49:10.843681Z",
     "end_time": "2024-04-16T11:49:10.874564Z"
    }
   }
  },
  {
   "cell_type": "code",
   "execution_count": 44,
   "outputs": [],
   "source": [],
   "metadata": {
    "collapsed": false,
    "ExecuteTime": {
     "start_time": "2024-04-16T11:49:12.373192Z",
     "end_time": "2024-04-16T11:49:12.388997Z"
    }
   }
  },
  {
   "cell_type": "code",
   "execution_count": 45,
   "outputs": [],
   "source": [],
   "metadata": {
    "collapsed": false,
    "ExecuteTime": {
     "start_time": "2024-04-16T11:49:24.127435Z",
     "end_time": "2024-04-16T11:49:24.144752Z"
    }
   }
  },
  {
   "cell_type": "code",
   "execution_count": 21,
   "outputs": [
    {
     "data": {
      "text/plain": "157906"
     },
     "execution_count": 21,
     "metadata": {},
     "output_type": "execute_result"
    }
   ],
   "source": [],
   "metadata": {
    "collapsed": false,
    "ExecuteTime": {
     "start_time": "2024-04-14T15:27:34.445068Z",
     "end_time": "2024-04-14T15:27:34.483823Z"
    }
   }
  },
  {
   "cell_type": "code",
   "execution_count": null,
   "outputs": [],
   "source": [],
   "metadata": {
    "collapsed": false
   }
  }
 ],
 "metadata": {
  "kernelspec": {
   "display_name": "Python 3",
   "language": "python",
   "name": "python3"
  },
  "language_info": {
   "codemirror_mode": {
    "name": "ipython",
    "version": 2
   },
   "file_extension": ".py",
   "mimetype": "text/x-python",
   "name": "python",
   "nbconvert_exporter": "python",
   "pygments_lexer": "ipython2",
   "version": "2.7.6"
  }
 },
 "nbformat": 4,
 "nbformat_minor": 0
}
