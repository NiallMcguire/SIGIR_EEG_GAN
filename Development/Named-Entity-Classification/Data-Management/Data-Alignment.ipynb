{
 "cells": [
  {
   "cell_type": "code",
   "execution_count": 1,
   "outputs": [],
   "source": [
    "import pickle\n",
    "import re\n"
   ],
   "metadata": {
    "collapsed": false,
    "ExecuteTime": {
     "start_time": "2024-04-16T14:14:26.905343Z",
     "end_time": "2024-04-16T14:14:26.915481Z"
    }
   }
  },
  {
   "cell_type": "code",
   "execution_count": 2,
   "outputs": [],
   "source": [
    "def read_sentences(path):\n",
    "    Sentences = []\n",
    "    Sentence_Classes = []\n",
    "    Temp_Sentence = []\n",
    "    Temp_Sentence_Classes = []\n",
    "    with open(path, 'r', encoding=\"utf-8\") as file:\n",
    "        # Iterate through each line\n",
    "        for line in file:\n",
    "\n",
    "            # Split the line by the tab character\n",
    "            parts = line.split('\\t')\n",
    "\n",
    "\n",
    "            # Check if there are at least two parts\n",
    "            if len(parts) >= 2:\n",
    "                word = parts[0]\n",
    "                class_ = parts[1].strip()  # strip() to remove leading/trailing whitespace\n",
    "\n",
    "                # Do something with the word and class, for example, print them\n",
    "                #print(\"Word:\", word)\n",
    "                #print(\"Class:\", class_)\n",
    "\n",
    "\n",
    "                Temp_Sentence.append(word)\n",
    "                Temp_Sentence_Classes.append(class_)\n",
    "                #print(Temp_Sentence)\n",
    "            else:\n",
    "                #print(\"Line does not contain a tab character\")\n",
    "                Sentences.append(Temp_Sentence)\n",
    "                Sentence_Classes.append(Temp_Sentence_Classes)\n",
    "                Temp_Sentence = []\n",
    "                Temp_Sentence_Classes = []\n",
    "    return Sentences, Sentence_Classes\n"
   ],
   "metadata": {
    "collapsed": false,
    "ExecuteTime": {
     "start_time": "2024-04-16T14:14:27.085485Z",
     "end_time": "2024-04-16T14:14:27.092488Z"
    }
   }
  },
  {
   "cell_type": "code",
   "execution_count": 3,
   "metadata": {
    "collapsed": true,
    "ExecuteTime": {
     "start_time": "2024-04-16T14:14:27.231812Z",
     "end_time": "2024-04-16T14:14:27.304717Z"
    }
   },
   "outputs": [],
   "source": [
    "path_normal_reading = r'C:\\Users\\gxb18167\\PycharmProjects\\SIGIR_EEG_GAN\\Development\\Named-Entity-Classification\\Data-Management\\zuco1_normalreading_ner.txt'\n",
    "\n",
    "path_task_reading = r\"C:\\Users\\gxb18167\\PycharmProjects\\SIGIR_EEG_GAN\\Development\\Named-Entity-Classification\\Data-Management\\zuco1_taskreading_ner.txt\"\n",
    "\n",
    "path_sentiment = r\"C:\\Users\\gxb18167\\PycharmProjects\\SIGIR_EEG_GAN\\Development\\Named-Entity-Classification\\Data-Management\\zuco1_sentiment_ner.txt\"\n",
    "\n",
    "normal_reading_sentences, normal_reading_classes = read_sentences(path_normal_reading)\n",
    "task_reading_sentences, task_reading_classes = read_sentences(path_task_reading)\n",
    "sentiment_sentences, sentiment_classes = read_sentences(path_sentiment)\n",
    "\n",
    "#combine\n",
    "Sentences_labels = [item for sublist in [normal_reading_sentences, task_reading_sentences, sentiment_sentences] for item in sublist]\n",
    "Sentence_Classes = [item for sublist in [normal_reading_classes, task_reading_classes, sentiment_classes] for item in sublist]\n"
   ]
  },
  {
   "cell_type": "code",
   "execution_count": 4,
   "outputs": [
    {
     "name": "stdout",
     "output_type": "stream",
     "text": [
      "['Henry', 'Ford', 'advocated', 'long-time', 'associate', 'Harry', 'Bennett', 'to', 'take', 'the', 'spot', '.']\n"
     ]
    }
   ],
   "source": [
    "print(Sentences_labels[0])"
   ],
   "metadata": {
    "collapsed": false,
    "ExecuteTime": {
     "start_time": "2024-04-16T14:14:27.414151Z",
     "end_time": "2024-04-16T14:14:27.446989Z"
    }
   }
  },
  {
   "cell_type": "code",
   "execution_count": 5,
   "outputs": [
    {
     "name": "stdout",
     "output_type": "stream",
     "text": [
      "['B-PER', 'I-PER', 'O', 'O', 'O', 'B-PER', 'I-PER', 'O', 'O', 'O', 'O', 'O']\n"
     ]
    }
   ],
   "source": [
    "print(Sentence_Classes[0])"
   ],
   "metadata": {
    "collapsed": false,
    "ExecuteTime": {
     "start_time": "2024-04-16T14:14:27.765582Z",
     "end_time": "2024-04-16T14:14:27.782090Z"
    }
   }
  },
  {
   "cell_type": "code",
   "execution_count": 6,
   "outputs": [],
   "source": [
    "def read_EEG_embeddings_labels(path):\n",
    "    with open(path, 'rb') as file:\n",
    "        EEG_word_level_embeddings = pickle.load(file)\n",
    "        EEG_word_level_labels = pickle.load(file)\n",
    "    return EEG_word_level_embeddings, EEG_word_level_labels"
   ],
   "metadata": {
    "collapsed": false,
    "ExecuteTime": {
     "start_time": "2024-04-16T14:14:28.037218Z",
     "end_time": "2024-04-16T14:14:28.037218Z"
    }
   }
  },
  {
   "cell_type": "code",
   "execution_count": 7,
   "outputs": [],
   "source": [
    "def get_sentences_labels(EEG_word_level_labels, EEG_word_level_embeddings):\n",
    "    sentences = []\n",
    "    current_sentence = []\n",
    "    sentence_EEG_embeddings = []\n",
    "\n",
    "    # Iterate through the words\n",
    "    EEG_embedding_index = 0\n",
    "\n",
    "    for i in range(len(EEG_word_level_labels)):\n",
    "        # Check if the word marks the start of a new sentence\n",
    "        word = EEG_word_level_labels[i]\n",
    "        if word == \"SOS\":\n",
    "            # If it does, append the current sentence to the list of sentences\n",
    "            if current_sentence:\n",
    "                sentences.append(current_sentence)\n",
    "                sentence_length = len(current_sentence)\n",
    "                sentence_EEG_segment = EEG_word_level_embeddings[EEG_embedding_index:sentence_length]\n",
    "                sentence_EEG_embeddings.append(sentence_EEG_segment)\n",
    "                EEG_embedding_index += sentence_length\n",
    "            # Start a new sentence\n",
    "            current_sentence = []\n",
    "        else:\n",
    "            # Add the word to the current sentence\n",
    "            current_sentence.append(word)\n",
    "    # Append the last sentence\n",
    "    if current_sentence:\n",
    "        sentences.append(current_sentence)\n",
    "        sentence_length = len(current_sentence)\n",
    "        sentence_EEG_segment = EEG_word_level_embeddings[EEG_embedding_index:sentence_length]\n",
    "        sentence_EEG_embeddings.append(sentence_EEG_segment)\n",
    "\n",
    "    return sentences, sentence_EEG_embeddings"
   ],
   "metadata": {
    "collapsed": false,
    "ExecuteTime": {
     "start_time": "2024-04-16T14:14:28.349563Z",
     "end_time": "2024-04-16T14:14:28.377539Z"
    }
   }
  },
  {
   "cell_type": "code",
   "execution_count": 8,
   "outputs": [],
   "source": [
    "def combine_sentences(sentences):\n",
    "    # Combine each internal list into a string\n",
    "    combined_sentences = [' '.join(sentence) for sentence in sentences]\n",
    "    # Initialize an empty list to store the list of words for each sentence\n",
    "    list_of_words = []\n",
    "    # Iterate over each sentence in the list\n",
    "    for sentence in combined_sentences:\n",
    "        # Split the sentence into a list of words including punctuation\n",
    "        words = re.findall(r'\\b\\w+\\b|[^\\w\\s]', sentence)\n",
    "        # Append the list of words to the list of lists\n",
    "        list_of_words.append(words)\n",
    "    return list_of_words\n"
   ],
   "metadata": {
    "collapsed": false,
    "ExecuteTime": {
     "start_time": "2024-04-16T14:14:28.657590Z",
     "end_time": "2024-04-16T14:14:28.662579Z"
    }
   }
  },
  {
   "cell_type": "code",
   "execution_count": 9,
   "outputs": [],
   "source": [
    "def get_named_entities(Sentences_labels, Sentence_Classes):\n",
    "    List_of_NE = []\n",
    "    List_of_NE_Labels = []\n",
    "    Named_Entity = []\n",
    "    Named_Entity_Label = []\n",
    "\n",
    "    for i in range(len(Sentences_labels)):\n",
    "        current_sentence = Sentences_labels[i]\n",
    "        current_sentence_label = Sentence_Classes[i]\n",
    "\n",
    "        for j in range(len(current_sentence)):\n",
    "            current_word = current_sentence[j]\n",
    "            #print(current_word)\n",
    "            current_word_label = current_sentence_label[j]\n",
    "            #print(current_word_label)\n",
    "            if current_word_label != 'O':\n",
    "                Named_Entity.append(current_word)\n",
    "                Named_Entity_Label.append(current_word_label)\n",
    "            else:\n",
    "                if Named_Entity:\n",
    "                    List_of_NE.append(Named_Entity)\n",
    "                    List_of_NE_Labels.append(Named_Entity_Label)\n",
    "\n",
    "                    Named_Entity = []\n",
    "                    Named_Entity_Label = []\n",
    "    return List_of_NE, List_of_NE_Labels"
   ],
   "metadata": {
    "collapsed": false,
    "ExecuteTime": {
     "start_time": "2024-04-16T14:14:28.935218Z",
     "end_time": "2024-04-16T14:14:28.961200Z"
    }
   }
  },
  {
   "cell_type": "code",
   "execution_count": 10,
   "outputs": [],
   "source": [
    "def is_named_entity_in_sentences(named_entity, sentences, embeddings):\n",
    "\n",
    "    named_entity_eeg_list = []\n",
    "    for sentence in sentences:\n",
    "        for i in range(len(sentence) - len(named_entity) + 1):\n",
    "            if sentence[i:i+len(named_entity)] == named_entity:\n",
    "                named_entity_eeg = embeddings[i:i+len(named_entity)]\n",
    "                named_entity_eeg_list.append(named_entity_eeg)\n",
    "\n",
    "    return named_entity_eeg_list"
   ],
   "metadata": {
    "collapsed": false,
    "ExecuteTime": {
     "start_time": "2024-04-16T14:14:29.248794Z",
     "end_time": "2024-04-16T14:14:29.266944Z"
    }
   }
  },
  {
   "cell_type": "code",
   "execution_count": 11,
   "outputs": [],
   "source": [
    "def get_EEG_Class_NE(words, embeddings):\n",
    "    # Check if each named entity is in the list of sentences\n",
    "    NE_EEG_segment = []\n",
    "    NE_EEG_Class = []\n",
    "    NE_list = []\n",
    "\n",
    "    for i in range(len(List_of_NE)):\n",
    "        Class = List_of_NE_Labels[i]\n",
    "        NE = List_of_NE[i]\n",
    "        #print(NE)\n",
    "        EEG_list = is_named_entity_in_sentences(NE, words, embeddings)\n",
    "        if EEG_list:\n",
    "            NE_EEG_segment.append(EEG_list)\n",
    "            NE_EEG_Class.append(Class)\n",
    "            NE_list.append(NE)\n",
    "\n",
    "    return NE_EEG_segment, NE_EEG_Class, NE_list\n",
    "\n"
   ],
   "metadata": {
    "collapsed": false,
    "ExecuteTime": {
     "start_time": "2024-04-16T14:14:29.549026Z",
     "end_time": "2024-04-16T14:14:29.565764Z"
    }
   }
  },
  {
   "cell_type": "code",
   "execution_count": 12,
   "outputs": [],
   "source": [
    "train_path = r\"C:\\Users\\gxb18167\\PycharmProjects\\EEG-To-Text\\SIGIR_Development\\EEG-GAN\\EEG_Text_Pairs_Sentence.pkl\"\n",
    "test_path = r\"C:\\Users\\gxb18167\\PycharmProjects\\EEG-To-Text\\SIGIR_Development\\EEG-GAN\\Test_EEG_Text_Pairs_Sentence.pkl\"\n",
    "\n",
    "EEG_word_level_embeddings, EEG_word_level_labels = read_EEG_embeddings_labels(train_path)\n",
    "Test_EEG_word_level_embeddings, Test_EEG_word_level_labels = read_EEG_embeddings_labels(test_path)"
   ],
   "metadata": {
    "collapsed": false,
    "ExecuteTime": {
     "start_time": "2024-04-16T14:14:29.989357Z",
     "end_time": "2024-04-16T14:14:31.929817Z"
    }
   }
  },
  {
   "cell_type": "code",
   "execution_count": 13,
   "outputs": [],
   "source": [
    "EEG_word_level_sentences, EEG_sentence_embeddings = get_sentences_labels(EEG_word_level_labels, EEG_word_level_embeddings)\n",
    "Test_EEG_word_level_sentences, Test_EEG_sentence_embeddings = get_sentences_labels(Test_EEG_word_level_labels, Test_EEG_word_level_embeddings)\n"
   ],
   "metadata": {
    "collapsed": false,
    "ExecuteTime": {
     "start_time": "2024-04-16T14:14:31.929817Z",
     "end_time": "2024-04-16T14:14:31.961560Z"
    }
   }
  },
  {
   "cell_type": "code",
   "execution_count": 14,
   "outputs": [],
   "source": [
    "# Combine the sentences\n",
    "list_of_words = combine_sentences(EEG_word_level_sentences)\n",
    "Test_list_of_words = combine_sentences(Test_EEG_word_level_sentences)"
   ],
   "metadata": {
    "collapsed": false,
    "ExecuteTime": {
     "start_time": "2024-04-16T14:14:31.961560Z",
     "end_time": "2024-04-16T14:14:32.118129Z"
    }
   }
  },
  {
   "cell_type": "code",
   "execution_count": 14,
   "outputs": [],
   "source": [],
   "metadata": {
    "collapsed": false,
    "ExecuteTime": {
     "start_time": "2024-04-16T14:14:32.118129Z",
     "end_time": "2024-04-16T14:14:32.134879Z"
    }
   }
  },
  {
   "cell_type": "code",
   "execution_count": 15,
   "outputs": [],
   "source": [
    "# Get the named entities\n",
    "List_of_NE, List_of_NE_Labels = get_named_entities(Sentences_labels, Sentence_Classes)"
   ],
   "metadata": {
    "collapsed": false,
    "ExecuteTime": {
     "start_time": "2024-04-16T14:14:32.139586Z",
     "end_time": "2024-04-16T14:14:32.156153Z"
    }
   }
  },
  {
   "cell_type": "code",
   "execution_count": 15,
   "outputs": [],
   "source": [],
   "metadata": {
    "collapsed": false,
    "ExecuteTime": {
     "start_time": "2024-04-16T14:14:32.156153Z",
     "end_time": "2024-04-16T14:14:32.181413Z"
    }
   }
  },
  {
   "cell_type": "code",
   "execution_count": 15,
   "outputs": [],
   "source": [],
   "metadata": {
    "collapsed": false,
    "ExecuteTime": {
     "start_time": "2024-04-16T14:14:32.167313Z",
     "end_time": "2024-04-16T14:14:32.191905Z"
    }
   }
  },
  {
   "cell_type": "code",
   "execution_count": 16,
   "outputs": [],
   "source": [
    "# Get the EEG embeddings for the named entities\n",
    "NE_EEG_segment, NE_EEG_Class, NE = get_EEG_Class_NE(list_of_words, EEG_sentence_embeddings)"
   ],
   "metadata": {
    "collapsed": false,
    "ExecuteTime": {
     "start_time": "2024-04-16T14:14:32.187299Z",
     "end_time": "2024-04-16T14:15:53.926362Z"
    }
   }
  },
  {
   "cell_type": "code",
   "execution_count": 16,
   "outputs": [],
   "source": [],
   "metadata": {
    "collapsed": false,
    "ExecuteTime": {
     "start_time": "2024-04-16T14:15:53.927363Z",
     "end_time": "2024-04-16T14:15:53.939965Z"
    }
   }
  },
  {
   "cell_type": "code",
   "execution_count": 17,
   "outputs": [],
   "source": [
    "#Test set\n",
    "Test_NE_EEG_segment, Test_NE_EEG_Class, Test_NE = get_EEG_Class_NE(Test_list_of_words, Test_EEG_sentence_embeddings)"
   ],
   "metadata": {
    "collapsed": false,
    "ExecuteTime": {
     "start_time": "2024-04-16T14:15:53.946096Z",
     "end_time": "2024-04-16T14:16:04.674448Z"
    }
   }
  },
  {
   "cell_type": "code",
   "execution_count": 17,
   "outputs": [],
   "source": [],
   "metadata": {
    "collapsed": false,
    "ExecuteTime": {
     "start_time": "2024-04-16T14:16:04.678378Z",
     "end_time": "2024-04-16T14:16:04.687441Z"
    }
   }
  },
  {
   "cell_type": "code",
   "execution_count": 18,
   "outputs": [],
   "source": [],
   "metadata": {
    "collapsed": false,
    "ExecuteTime": {
     "start_time": "2024-04-16T14:16:23.309885Z",
     "end_time": "2024-04-16T14:16:23.341018Z"
    }
   }
  },
  {
   "cell_type": "code",
   "execution_count": 27,
   "outputs": [],
   "source": [
    "\n",
    "def get_unique_entities(entities, EEG_segments, Classes):\n",
    "    seen_entities = set()\n",
    "    unique_entities = []\n",
    "    unique_EEG_segments = []\n",
    "    unique_Classes = []\n",
    "\n",
    "    for i in range(len(entities)):\n",
    "        sublist = entities[i]\n",
    "        if tuple(sublist) not in seen_entities:\n",
    "            unique_entities.append(sublist)\n",
    "            seen_entities.add(tuple(sublist))\n",
    "            unique_EEG_segments.append(EEG_segments[i])\n",
    "            unique_Classes.append(Classes[i])\n",
    "\n",
    "    return unique_entities, unique_EEG_segments, unique_Classes"
   ],
   "metadata": {
    "collapsed": false,
    "ExecuteTime": {
     "start_time": "2024-04-16T14:20:34.239892Z",
     "end_time": "2024-04-16T14:20:34.271356Z"
    }
   }
  },
  {
   "cell_type": "code",
   "execution_count": 30,
   "outputs": [],
   "source": [],
   "metadata": {
    "collapsed": false,
    "ExecuteTime": {
     "start_time": "2024-04-16T14:21:09.583734Z",
     "end_time": "2024-04-16T14:21:09.617145Z"
    }
   }
  },
  {
   "cell_type": "code",
   "execution_count": 300,
   "outputs": [],
   "source": [],
   "metadata": {
    "collapsed": false,
    "ExecuteTime": {
     "start_time": "2024-04-16T14:09:51.797840Z",
     "end_time": "2024-04-16T14:09:51.813713Z"
    }
   }
  },
  {
   "cell_type": "code",
   "execution_count": 129,
   "outputs": [],
   "source": [],
   "metadata": {
    "collapsed": false,
    "ExecuteTime": {
     "start_time": "2024-04-16T12:47:51.032904Z",
     "end_time": "2024-04-16T12:47:51.069248Z"
    }
   }
  },
  {
   "cell_type": "code",
   "execution_count": 33,
   "outputs": [],
   "source": [],
   "metadata": {
    "collapsed": false,
    "ExecuteTime": {
     "start_time": "2024-04-16T11:46:28.922747Z",
     "end_time": "2024-04-16T11:46:28.971336Z"
    }
   }
  },
  {
   "cell_type": "code",
   "execution_count": 44,
   "outputs": [],
   "source": [],
   "metadata": {
    "collapsed": false,
    "ExecuteTime": {
     "start_time": "2024-04-16T11:49:06.410939Z",
     "end_time": "2024-04-16T11:49:06.442321Z"
    }
   }
  },
  {
   "cell_type": "code",
   "execution_count": 44,
   "outputs": [],
   "source": [],
   "metadata": {
    "collapsed": false,
    "ExecuteTime": {
     "start_time": "2024-04-16T11:49:08.517168Z",
     "end_time": "2024-04-16T11:49:08.543874Z"
    }
   }
  },
  {
   "cell_type": "code",
   "execution_count": 44,
   "outputs": [],
   "source": [],
   "metadata": {
    "collapsed": false,
    "ExecuteTime": {
     "start_time": "2024-04-16T11:49:09.708366Z",
     "end_time": "2024-04-16T11:49:09.740436Z"
    }
   }
  },
  {
   "cell_type": "code",
   "execution_count": 44,
   "outputs": [],
   "source": [],
   "metadata": {
    "collapsed": false,
    "ExecuteTime": {
     "start_time": "2024-04-16T11:49:10.843681Z",
     "end_time": "2024-04-16T11:49:10.874564Z"
    }
   }
  },
  {
   "cell_type": "code",
   "execution_count": 44,
   "outputs": [],
   "source": [],
   "metadata": {
    "collapsed": false,
    "ExecuteTime": {
     "start_time": "2024-04-16T11:49:12.373192Z",
     "end_time": "2024-04-16T11:49:12.388997Z"
    }
   }
  },
  {
   "cell_type": "code",
   "execution_count": 45,
   "outputs": [],
   "source": [],
   "metadata": {
    "collapsed": false,
    "ExecuteTime": {
     "start_time": "2024-04-16T11:49:24.127435Z",
     "end_time": "2024-04-16T11:49:24.144752Z"
    }
   }
  },
  {
   "cell_type": "code",
   "execution_count": 21,
   "outputs": [
    {
     "data": {
      "text/plain": "157906"
     },
     "execution_count": 21,
     "metadata": {},
     "output_type": "execute_result"
    }
   ],
   "source": [],
   "metadata": {
    "collapsed": false,
    "ExecuteTime": {
     "start_time": "2024-04-14T15:27:34.445068Z",
     "end_time": "2024-04-14T15:27:34.483823Z"
    }
   }
  },
  {
   "cell_type": "code",
   "execution_count": null,
   "outputs": [],
   "source": [],
   "metadata": {
    "collapsed": false
   }
  }
 ],
 "metadata": {
  "kernelspec": {
   "display_name": "Python 3",
   "language": "python",
   "name": "python3"
  },
  "language_info": {
   "codemirror_mode": {
    "name": "ipython",
    "version": 2
   },
   "file_extension": ".py",
   "mimetype": "text/x-python",
   "name": "python",
   "nbconvert_exporter": "python",
   "pygments_lexer": "ipython2",
   "version": "2.7.6"
  }
 },
 "nbformat": 4,
 "nbformat_minor": 0
}
