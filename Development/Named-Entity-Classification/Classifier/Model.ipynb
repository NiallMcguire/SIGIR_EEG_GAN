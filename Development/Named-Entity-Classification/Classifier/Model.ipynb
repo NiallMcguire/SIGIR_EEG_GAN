{
 "cells": [
  {
   "cell_type": "code",
   "execution_count": 34,
   "outputs": [
    {
     "name": "stderr",
     "output_type": "stream",
     "text": [
      "[nltk_data] Downloading package punkt to\n",
      "[nltk_data]     C:\\Users\\gxb18167\\AppData\\Roaming\\nltk_data...\n",
      "[nltk_data]   Package punkt is already up-to-date!\n"
     ]
    }
   ],
   "source": [
    "import pickle\n",
    "import numpy as np\n",
    "import nltk\n",
    "nltk.download('punkt')\n",
    "from gensim.models import Word2Vec\n",
    "from keras.utils import to_categorical\n",
    "from nltk.tokenize import word_tokenize\n",
    "import pickle"
   ],
   "metadata": {
    "collapsed": false,
    "ExecuteTime": {
     "start_time": "2024-04-17T12:47:12.276994Z",
     "end_time": "2024-04-17T12:47:25.350323Z"
    }
   }
  },
  {
   "cell_type": "code",
   "execution_count": 227,
   "outputs": [],
   "source": [
    "def save_lists_to_file(path):\n",
    "    # Open the pickle file in binary write mode\n",
    "    with open(path, 'rb') as f:\n",
    "    # Load each list from the file\n",
    "        NE = pickle.load(f)\n",
    "        EEG_segments = pickle.load(f)\n",
    "        Classes = pickle.load(f)\n",
    "\n",
    "    return NE, EEG_segments, Classes"
   ],
   "metadata": {
    "collapsed": false,
    "ExecuteTime": {
     "start_time": "2024-04-17T15:28:55.425500Z",
     "end_time": "2024-04-17T15:28:55.429908Z"
    }
   }
  },
  {
   "cell_type": "code",
   "execution_count": 87,
   "outputs": [],
   "source": [
    "def padding_x_y(EEG_segments, Classes, named_entity_list):\n",
    "    X = []\n",
    "    y = []\n",
    "    NE = []\n",
    "    for i in range(len(EEG_segments)):\n",
    "        named_entity = named_entity_list[i]\n",
    "        label = Classes[i][0]\n",
    "        #print(label)\n",
    "        EEG_list = EEG_segments[i]\n",
    "        for EEG in EEG_list:\n",
    "            if EEG != []:\n",
    "                X.append(EEG)\n",
    "                y.append(label)\n",
    "                NE.append(named_entity)\n",
    "    max_seq_length = max([len(x) for x in X])\n",
    "    #paddding\n",
    "    for i in range(len(X)):\n",
    "        padding_count = max_seq_length - len(X[i])\n",
    "        #print(padding_count)\n",
    "        for j in range(padding_count):\n",
    "            X[i].append(np.zeros((105,8)))\n",
    "\n",
    "    return X, y, NE\n"
   ],
   "metadata": {
    "collapsed": false,
    "ExecuteTime": {
     "start_time": "2024-04-17T13:05:31.325207Z",
     "end_time": "2024-04-17T13:05:31.372936Z"
    }
   }
  },
  {
   "cell_type": "code",
   "execution_count": 228,
   "outputs": [],
   "source": [
    "def create_word_label_embeddings(Word_Labels_List):\n",
    "    tokenized_words = []\n",
    "    for i in range(len(Word_Labels_List)):\n",
    "        tokenized_words.append([Word_Labels_List[i]])\n",
    "    model = Word2Vec(sentences=tokenized_words, vector_size=50, window=5, min_count=1, workers=4)\n",
    "    word_embeddings = {word: model.wv[word] for word in model.wv.index_to_key}\n",
    "    print(\"Number of word embeddings:\", len(word_embeddings))\n",
    "    #word, embedding = list(word_embeddings.items())[10]\n",
    "    #print(f\"Word: {word}, Embedding: {embedding}\")\n",
    "\n",
    "\n",
    "    return word_embeddings"
   ],
   "metadata": {
    "collapsed": false,
    "ExecuteTime": {
     "start_time": "2024-04-17T16:01:59.687910Z",
     "end_time": "2024-04-17T16:01:59.695213Z"
    }
   }
  },
  {
   "cell_type": "code",
   "execution_count": 38,
   "outputs": [],
   "source": [
    "from sklearn.preprocessing import LabelEncoder\n",
    "\n",
    "def encode_labels(y):\n",
    "    label_encoder = LabelEncoder()\n",
    "    encoded_labels = label_encoder.fit_transform(y)\n",
    "\n",
    "    y_categorical = to_categorical(encoded_labels)\n",
    "\n",
    "    return y_categorical"
   ],
   "metadata": {
    "collapsed": false,
    "ExecuteTime": {
     "start_time": "2024-04-17T12:48:27.221180Z",
     "end_time": "2024-04-17T12:48:27.268873Z"
    }
   }
  },
  {
   "cell_type": "code",
   "execution_count": 113,
   "outputs": [],
   "source": [
    "def reshape_data(X):\n",
    "    #reshape the data to 840\n",
    "    new_list = []\n",
    "    for i in range(len(X)):\n",
    "        array_list = X_train_numpy[i]\n",
    "        arrays_list_reshaped = [arr.reshape(-1) for arr in array_list]\n",
    "        new_list.append(arrays_list_reshaped)\n",
    "\n",
    "    new_list = np.array(new_list)\n",
    "    return new_list"
   ],
   "metadata": {
    "collapsed": false,
    "ExecuteTime": {
     "start_time": "2024-04-17T13:10:39.464861Z",
     "end_time": "2024-04-17T13:10:39.512216Z"
    }
   }
  },
  {
   "cell_type": "code",
   "execution_count": 166,
   "outputs": [],
   "source": [],
   "metadata": {
    "collapsed": false,
    "ExecuteTime": {
     "start_time": "2024-04-17T13:36:54.936930Z",
     "end_time": "2024-04-17T13:36:54.964577Z"
    }
   }
  },
  {
   "cell_type": "code",
   "execution_count": 20,
   "metadata": {
    "collapsed": true,
    "ExecuteTime": {
     "start_time": "2024-04-17T12:44:15.833166Z",
     "end_time": "2024-04-17T12:44:15.904383Z"
    }
   },
   "outputs": [],
   "source": [
    "#read in train and test data\n",
    "\n",
    "train_path = r\"C:\\Users\\gxb18167\\PycharmProjects\\SIGIR_EEG_GAN\\Development\\Named-Entity-Classification\\Data-Management\\train_NER.pkl\"\n",
    "\n",
    "test_path = r\"C:\\Users\\gxb18167\\PycharmProjects\\SIGIR_EEG_GAN\\Development\\Named-Entity-Classification\\Data-Management\\test_NER.pkl\""
   ]
  },
  {
   "cell_type": "code",
   "execution_count": 21,
   "outputs": [],
   "source": [
    "\n",
    "# To load the lists from the file:\n",
    "with open(r\"C:\\Users\\gxb18167\\PycharmProjects\\EEG-To-Text\\SIGIR_Development\\EEG-GAN\\EEG_Text_Pairs.pkl\", 'rb') as file:\n",
    "    EEG_word_level_embeddings = pickle.load(file)\n",
    "    EEG_word_level_labels = pickle.load(file)"
   ],
   "metadata": {
    "collapsed": false,
    "ExecuteTime": {
     "start_time": "2024-04-17T12:44:15.885455Z",
     "end_time": "2024-04-17T12:44:19.646135Z"
    }
   }
  },
  {
   "cell_type": "code",
   "execution_count": 229,
   "outputs": [],
   "source": [],
   "metadata": {
    "collapsed": false,
    "ExecuteTime": {
     "start_time": "2024-04-17T16:02:12.414214Z",
     "end_time": "2024-04-17T16:02:12.418730Z"
    }
   }
  },
  {
   "cell_type": "code",
   "execution_count": 22,
   "outputs": [
    {
     "name": "stdout",
     "output_type": "stream",
     "text": [
      "Number of word embeddings: 5860\n"
     ]
    }
   ],
   "source": [
    "#Embedded_Word_labels, word_embeddings = create_word_label_embeddings(EEG_word_level_labels)"
   ],
   "metadata": {
    "collapsed": false,
    "ExecuteTime": {
     "start_time": "2024-04-17T12:44:19.630433Z",
     "end_time": "2024-04-17T12:44:22.219690Z"
    }
   }
  },
  {
   "cell_type": "code",
   "execution_count": null,
   "outputs": [],
   "source": [],
   "metadata": {
    "collapsed": false
   }
  },
  {
   "cell_type": "code",
   "execution_count": 23,
   "outputs": [],
   "source": [
    "train_NE, train_EEG_segments, train_Classes = save_lists_to_file(train_path)\n",
    "test_NE, test_EEG_segments, test_Classes = save_lists_to_file(test_path)"
   ],
   "metadata": {
    "collapsed": false,
    "ExecuteTime": {
     "start_time": "2024-04-17T12:44:22.229984Z",
     "end_time": "2024-04-17T12:44:22.777105Z"
    }
   }
  },
  {
   "cell_type": "code",
   "execution_count": 248,
   "outputs": [],
   "source": [
    "\n",
    "#padding\n",
    "X_train, y_train, NE_list = padding_x_y(train_EEG_segments, train_Classes, train_NE)\n",
    "X_train_numpy = np.array(X_train)\n",
    "X_train_numpy = reshape_data(X_train_numpy)\n",
    "y_train_categorical = encode_labels(y_train)\n",
    "\n",
    "X_test, y_test, NE_list_test     = padding_x_y(test_EEG_segments, test_Classes, test_NE)\n",
    "X_test_numpy = np.array(X_test)\n",
    "X_test_numpy = reshape_data(X_test_numpy)\n",
    "y_test_categorical = encode_labels(y_test)"
   ],
   "metadata": {
    "collapsed": false,
    "ExecuteTime": {
     "start_time": "2024-04-17T17:22:05.321037Z",
     "end_time": "2024-04-17T17:22:08.315203Z"
    }
   }
  },
  {
   "cell_type": "code",
   "execution_count": 258,
   "outputs": [],
   "source": [
    "pairs = list(zip(NE_list, y_train_categorical))"
   ],
   "metadata": {
    "collapsed": false,
    "ExecuteTime": {
     "start_time": "2024-04-17T17:49:52.465988Z",
     "end_time": "2024-04-17T17:49:52.481616Z"
    }
   }
  },
  {
   "cell_type": "code",
   "execution_count": 260,
   "outputs": [],
   "source": [
    "import random\n",
    "\n",
    "sample_size = int(0.1 * len(NE_list))\n",
    "\n",
    "# Randomly sample 10% of the words\n",
    "sampled_words = random.sample(pairs, sample_size)\n",
    "\n",
    "NE_sampled, y_train_sampled = zip(*sampled_words)\n"
   ],
   "metadata": {
    "collapsed": false,
    "ExecuteTime": {
     "start_time": "2024-04-17T17:50:17.262999Z",
     "end_time": "2024-04-17T17:50:17.278654Z"
    }
   }
  },
  {
   "cell_type": "code",
   "execution_count": 261,
   "outputs": [
    {
     "data": {
      "text/plain": "2187"
     },
     "execution_count": 261,
     "metadata": {},
     "output_type": "execute_result"
    }
   ],
   "source": [
    "sample_size"
   ],
   "metadata": {
    "collapsed": false,
    "ExecuteTime": {
     "start_time": "2024-04-17T17:50:18.562081Z",
     "end_time": "2024-04-17T17:50:18.578669Z"
    }
   }
  },
  {
   "cell_type": "code",
   "execution_count": 263,
   "outputs": [
    {
     "data": {
      "text/plain": "(['Geiger'],\n ['the'],\n ['the'],\n ['the'],\n ['and'],\n ['Bing', 'Crosby'],\n ['and'],\n ['Franklin'],\n ['Thomas', 'Wolfe'],\n ['and'],\n ['Henry'],\n ['the'],\n ['Alain', 'Choquart'],\n ['the'],\n ['and'],\n ['Ulm'],\n ['Adolf', 'Hitler'],\n ['Godard'],\n ['Arkansas'],\n ['Ferrer'],\n ['Bush'],\n ['and'],\n ['and'],\n ['New', 'York'],\n ['Betty'],\n ['of'],\n ['Eva', 'Le', 'Gallienne'],\n ['Rob', 'Minkoff'],\n ['of'],\n ['Roosevelt'],\n ['of'],\n ['the'],\n ['South', 'Braintree'],\n ['and'],\n ['the', 'Clooney', 'sisters'],\n ['and'],\n ['and'],\n ['Republican'],\n ['of'],\n ['of'],\n ['William'],\n ['California'],\n ['the'],\n ['Germany'],\n ['Mika'],\n ['United', 'States', 'Marine', 'Corps'],\n ['William', 'Barrett', 'Travis'],\n ['Winthrop'],\n ['France'],\n ['General'],\n ['and'],\n ['Hodgkin'],\n ['of'],\n ['and'],\n ['Bush'],\n ['of'],\n ['of'],\n ['Ferrer'],\n ['John', 'Carew', 'Eccles'],\n ['Clooney'],\n ['Baldwin'],\n ['Springport'],\n ['Hollywood'],\n ['and'],\n ['Senate'],\n ['CBS'],\n ['Rocky'],\n ['of'],\n ['Miguel', 'Ferrer'],\n ['Timothy', 'Bush'],\n ['He'],\n ['of'],\n ['the'],\n ['and'],\n ['the'],\n ['Bush'],\n ['of'],\n ['the'],\n ['of'],\n ['of'],\n ['Winifred', 'Wagner'],\n ['the'],\n ['Charles', 'Francis'],\n ['the'],\n ['the'],\n ['the', 'Netherlands'],\n ['George'],\n ['Cincinnati'],\n ['of'],\n ['Spain'],\n ['the'],\n ['American', 'Expeditionary', 'Forces'],\n ['Richard', 'Gere'],\n ['Coppola'],\n ['Ford'],\n ['Gifford'],\n ['Bush'],\n ['Talia', 'Shire'],\n ['Arista', 'Records'],\n ['American'],\n ['Bullock'],\n ['of'],\n ['jazz'],\n ['Ferrer'],\n ['and'],\n ['Clooney'],\n ['the'],\n ['France'],\n ['Republican'],\n ['the'],\n ['Frances', 'Marie', 'Guilfoyle'],\n ['of'],\n ['Michael'],\n ['United', 'Negro', 'College', 'Fund'],\n ['the'],\n ['and'],\n ['Albert', 'Einstein'],\n ['Wyoming'],\n ['Bush'],\n ['UNCF'],\n ['Knight', 'Wooley'],\n ['the'],\n ['Amoses'],\n ['and'],\n ['American'],\n ['Hopkins'],\n ['and'],\n ['the'],\n ['the'],\n ['Cincinnati'],\n ['King'],\n ['Clooney'],\n ['the'],\n ['Portugal'],\n ['Marge', 'Simpson'],\n ['Daniel', 'Olson'],\n ['Percy', 'Rockefeller'],\n ['General'],\n ['and'],\n ['American'],\n ['BBC'],\n ['Presley'],\n ['MGM', 'Records'],\n ['William', 'Ford'],\n ['of'],\n ['the'],\n ['the'],\n ['the'],\n ['the'],\n ['and'],\n ['Ford'],\n ['and'],\n ['of'],\n ['Michael'],\n ['the'],\n ['and'],\n ['and'],\n ['Clive', 'Jay', 'Davis'],\n ['Spike', 'Lee'],\n ['and'],\n ['Prescott', 'Bush'],\n ['George'],\n ['and'],\n ['Portugal'],\n ['Einstein'],\n ['Barrymore'],\n ['the'],\n ['George'],\n ['and'],\n ['the'],\n ['the'],\n ['Wells'],\n ['the'],\n ['Miguel'],\n ['Fillmore'],\n ['the'],\n ['the'],\n ['the'],\n ['the'],\n ['England'],\n ['the'],\n ['and'],\n ['Eleanor'],\n ['the'],\n ['Reagan'],\n ['Cheney'],\n ['of'],\n ['of'],\n ['the'],\n ['Thomas', 'Henry', 'Huxley'],\n ['Barrymore'],\n ['of'],\n ['Alabama'],\n ['the'],\n ['the'],\n ['the'],\n ['the'],\n ['Fillmore'],\n ['Quincy'],\n ['Gabriel', 'Ferrer'],\n ['Bush'],\n ['Philadelphia'],\n ['the'],\n ['Columbia'],\n ['the'],\n ['the'],\n ['Arista', 'Records'],\n ['Griffiths'],\n ['NBC'],\n ['Henry'],\n ['Republican'],\n ['American'],\n ['the'],\n ['Maryland'],\n ['Ferrer'],\n ['Michigan'],\n ['Franklin'],\n ['Homer'],\n ['of'],\n ['and'],\n ['of'],\n ['the'],\n ['Baldwin'],\n ['the'],\n ['Clooney'],\n ['Anne', 'Hutchinson'],\n ['and'],\n ['and'],\n ['Rockefeller'],\n ['Elston', 'Hall'],\n ['Henry'],\n ['Connecticut'],\n ['USA'],\n ['the'],\n ['Dole'],\n ['Aurelie'],\n ['White'],\n ['Clooney'],\n ['Joan'],\n ['George'],\n ['and'],\n ['Leonard', 'Huxley'],\n ['the'],\n ['and'],\n ['the'],\n ['Ford', 'Foundation'],\n ['Baldwin'],\n ['and'],\n ['John'],\n ['Arnold', 'Schwarzenegger'],\n ['and'],\n ['Germany'],\n ['and'],\n ['Huxley'],\n ['Columbia'],\n ['John'],\n ['the'],\n ['the'],\n ['Chester'],\n ['Hodgkin'],\n ['of'],\n ['Dorothy', 'Walker'],\n ['the'],\n ['of'],\n ['American'],\n ['He'],\n ['Winifred', 'Wagner'],\n ['Richard', 'Wagner'],\n ['the'],\n ['Timothy', 'Bush'],\n ['Huxley'],\n ['the'],\n ['School'],\n ['William', 'Ford'],\n ['of'],\n ['George'],\n ['the'],\n ['Atlanta'],\n ['and'],\n ['12'],\n ['Charles'],\n ['Mary'],\n ['the'],\n ['Boston'],\n ['the'],\n ['He'],\n ['Barrymore'],\n ['Europe'],\n ['Charles'],\n ['the'],\n ['the'],\n ['Marvin'],\n ['Cayuga', 'County'],\n ['Harvard'],\n ['Gail', 'Davis'],\n ['the'],\n ['Richard', 'Wagner'],\n ['the'],\n ['the'],\n ['the'],\n ['Baldwin'],\n ['England'],\n ['Marvin'],\n ['the'],\n ['the'],\n ['Lincoln'],\n ['the'],\n ['the'],\n ['Hitler'],\n ['the'],\n ['the'],\n ['of'],\n ['and'],\n ['Ford'],\n ['of'],\n ['the'],\n ['the'],\n ['Gail', 'Davis'],\n ['Ferrer'],\n ['Columbus'],\n ['Charles'],\n ['and'],\n ['Woody', 'Allen'],\n ['Soderbergh'],\n ['Bush'],\n ['Miguel'],\n ['Great'],\n ['of'],\n ['and'],\n ['and'],\n ['and'],\n ['the'],\n ['George'],\n ['Ferrer'],\n ['Huxley', 'family'],\n ['of'],\n ['the'],\n ['Huxley'],\n ['and'],\n ['Ford'],\n ['Ohio'],\n ['Boston'],\n ['the'],\n ['the'],\n ['Elizabeth'],\n ['Miguel'],\n ['Lisa'],\n ['the'],\n ['Ford'],\n ['Wilson'],\n ['American'],\n ['and'],\n ['Betty'],\n ['Columbus'],\n ['Bush'],\n ['Winthrop'],\n ['Kansas'],\n ['Ohio'],\n ['Hollywood'],\n ['the'],\n ['jazz'],\n ['Richard', 'Gere'],\n ['American'],\n ['the'],\n ['Kerry'],\n ['and'],\n ['Kennedy'],\n ['Allen'],\n ['Ethel'],\n ['Kirshner'],\n ['of'],\n ['Kennedy'],\n ['Annie', 'Oakley'],\n ['the'],\n ['Columbus'],\n ['the'],\n ['of'],\n ['and'],\n ['Columbia'],\n ['Eve', 'LaPlante'],\n ['the'],\n ['the'],\n ['Aquidneck', 'Island'],\n ['of'],\n ['Chabrol'],\n ['of'],\n ['Germany'],\n ['Hollywood'],\n ['and'],\n ['Massachusetts'],\n ['and'],\n ['American'],\n ['Clooney'],\n ['the'],\n ['John'],\n ['Rosemary'],\n ['of'],\n ['He'],\n ['Staffordshire'],\n ['the'],\n ['and'],\n ['Ohio'],\n ['Great'],\n ['Kansas'],\n ['and'],\n ['Clinton'],\n ['Denis'],\n ['the'],\n ['the'],\n ['Hindman'],\n ['the'],\n ['the'],\n ['Erin', 'Fleming'],\n ['Alford'],\n ['Talia', 'Shire'],\n ['the'],\n ['the'],\n ['the'],\n ['Dahmer'],\n ['of'],\n ['of'],\n ['John'],\n ['William', 'Barrett', 'Travis'],\n ['Amoses'],\n ['of'],\n ['and'],\n ['American'],\n ['the'],\n ['and'],\n ['New', 'York'],\n ['Lee'],\n ['and'],\n ['United', 'Artists', 'Records'],\n ['United', 'Artists', 'Records'],\n ['Senate'],\n ['the'],\n ['and'],\n ['the'],\n ['the'],\n ['Austin'],\n ['He'],\n ['Rochester'],\n ['Miguel'],\n ['John'],\n ['England'],\n ['United', 'States', 'Senate'],\n ['of'],\n ['Columbia', 'Records'],\n ['Hutchinson'],\n ['Ulm'],\n ['of'],\n ['of'],\n ['and'],\n ['Ford'],\n ['the'],\n ['General'],\n ['Portsmouth'],\n ['and'],\n ['Martha', 'Pittman'],\n ['and'],\n ['the'],\n ['Verdun'],\n ['Massapequa'],\n ['and'],\n ['and'],\n ['Kennebunkport'],\n ['Charles', 'Francis'],\n ['the'],\n ['Columbia', 'Records'],\n ['George'],\n ['Miramax'],\n ['Alexander', 'Winton'],\n ['American'],\n ['the'],\n ['the'],\n ['the'],\n ['Egoyan'],\n ['Louisa', 'Catherine', 'Johnson'],\n ['Charles'],\n ['of'],\n ['Clooney'],\n ['the'],\n ['Lincoln'],\n ['Los', 'Angeles'],\n ['the'],\n ['School'],\n ['the'],\n ['Glendale'],\n ['and'],\n ['the'],\n ['Wells'],\n ['Bush'],\n ['and'],\n ['the'],\n ['the'],\n ['Roosevelt'],\n ['the'],\n ['the'],\n ['Senate'],\n ['Bush'],\n ['the'],\n ['and'],\n ['Kennedy'],\n ['Daniel', 'Olson'],\n ['the'],\n ['the'],\n ['of'],\n ['Mississippi'],\n ['Cincinnati'],\n ['William'],\n ['Maja'],\n ['the'],\n ['Columbia'],\n ['Gloria', 'Stuart'],\n ['Connecticut'],\n ['Clooney'],\n ['of'],\n ['Republican'],\n ['Abram', 'Joffe'],\n ['and'],\n ['Marine'],\n ['King'],\n ['Forster'],\n ['and'],\n ['Debby', 'Boone'],\n ['American'],\n ['United', 'States'],\n ['of'],\n ['Mike', 'Epps'],\n ['and'],\n ['Michigan'],\n ['Richard', 'Bush'],\n ['Cheney'],\n ['William'],\n ['Brookline'],\n ['and'],\n ['and'],\n ['the'],\n ['New', 'York'],\n ['the'],\n ['of'],\n ['the'],\n ['Bush'],\n ['Andys'],\n ['South', 'Carolina'],\n ['and'],\n ['John'],\n ['and'],\n ['of'],\n ['and'],\n ['Rosemary'],\n ['and'],\n ['Katharine', 'Hepburn'],\n ['General'],\n ['the'],\n ['the'],\n ['jazz'],\n ['the'],\n ['Cincinnati'],\n ['Daniel', 'Olson'],\n ['the'],\n ['Columbus'],\n ['Gabriel', 'Ferrer'],\n ['Hitler'],\n ['Louisa', 'Catherine', 'Johnson'],\n ['Marine'],\n ['and'],\n ['Michael'],\n ['the'],\n ['of'],\n ['Tennessee'],\n ['and'],\n ['Edison', 'Illuminating'],\n ['George'],\n ['Florida', 'State', 'Normal', 'and', 'Industrial', 'College', 'and'],\n ['The', 'Rock'],\n ['CBS'],\n ['John'],\n ['Gifford'],\n ['the'],\n ['the'],\n ['and'],\n ['Geiger'],\n ['and'],\n ['the'],\n ['Kerouac'],\n ['Clooney'],\n ['the'],\n ['the'],\n ['the'],\n ['the'],\n ['the'],\n ['Huxley'],\n ['and'],\n ['Hopkins'],\n ['John'],\n ['Julian', 'Huxley'],\n ['the'],\n ['King'],\n ['American'],\n ['Einstein'],\n ['and'],\n ['John', 'Winthrop'],\n ['King'],\n ['William'],\n ['and'],\n ['Ethel'],\n ['Florida'],\n ['George'],\n ['Hollywood'],\n ['the'],\n ['the'],\n ['and'],\n ['Continental'],\n ['Wells'],\n ['American'],\n ['and'],\n ['and'],\n ['Arista', 'Records'],\n ['Jack'],\n ['Washington'],\n ['the'],\n ['Margot'],\n ['United', 'States'],\n ['of'],\n ['Edsel'],\n ['the'],\n ['and'],\n ['King'],\n ['and'],\n ['the'],\n ['Miramax'],\n ['and'],\n ['of'],\n ['Nova', 'Scotia'],\n ['and'],\n ['and'],\n ['Talia', 'Rose', 'Coppola'],\n ['Hindman'],\n ['of'],\n ['Springwells', 'Township'],\n ['the'],\n ['John'],\n ['the'],\n ['the'],\n ['Austin'],\n ['the'],\n ['Gabriel', 'Ferrer'],\n ['of'],\n ['and'],\n ['Edsel'],\n ['Denis'],\n ['Pennsylvania'],\n ['Keith', 'Moon'],\n ['of'],\n ['Ford'],\n ['Reagan'],\n ['of'],\n ['Portugal'],\n ['He'],\n ['King'],\n ['United', 'States'],\n ['Bush'],\n ['of'],\n ['the'],\n ['New', 'York'],\n ['of'],\n ['Hitler'],\n ['Geiger'],\n ['Abraham', 'Ribicoff'],\n ['David', 'Manners'],\n ['and'],\n ['and'],\n ['and'],\n ['Boston'],\n ['Jesse', 'Garon', 'Presley'],\n ['Boston'],\n ['Maryland'],\n ['the'],\n ['and'],\n ['the'],\n ['London'],\n ['Bush'],\n ['He'],\n ['Great'],\n ['Manners'],\n ['the'],\n ['United', 'States', 'Marine', 'Corps'],\n ['Adams'],\n ['Clooney'],\n ['United', 'States', 'Golf', 'Association'],\n ['Moon'],\n ['Long', 'Island'],\n ['and'],\n ['The', 'Bronx'],\n ['Rudy', 'Yellow', 'Lodge'],\n ['Ferrer'],\n ['Hutchinson'],\n ['Adams'],\n ['the'],\n ['the'],\n ['the'],\n ['South', 'Braintree'],\n ['Ulm'],\n ['Baldwin'],\n ['Tennessee'],\n ['Dorchester', 'County'],\n ['CBS'],\n ['and'],\n ['of'],\n ['Philadelphia'],\n ['Benoit', 'Delhomme'],\n ['Clooney'],\n ['Godalming'],\n ['Surrey'],\n ['of'],\n ['California'],\n ['Senate'],\n ['the'],\n ['Henry'],\n ['and'],\n ['Grant'],\n ['and'],\n ['Greenwich'],\n ['United', 'States'],\n ['Franklin'],\n ['Reprise'],\n ['and'],\n ['the'],\n ['Bush'],\n ['the'],\n ['of'],\n ['Dole'],\n ['Ethel'],\n ['Nick'],\n ['the'],\n ['the'],\n ['Nicolas', 'Cage'],\n ['Geiger'],\n ['Davis'],\n ['the'],\n ['Reagan'],\n ['of'],\n ['Clooney'],\n ['Wuerttemberg'],\n ['Leonard', 'Huxley'],\n ['Great'],\n ['and', 'Walker'],\n ['Louisiana'],\n ['Henry', 'Ford'],\n ['Barrymore'],\n ['and'],\n ['London'],\n ['Norwich'],\n ['the'],\n ['LaBute'],\n ['and'],\n ['the'],\n ['Leonard', 'Huxley'],\n ['Rochester'],\n ['Hollywood'],\n ['the'],\n ['California'],\n ['Columbus'],\n ['Eleanor'],\n ['Rochester'],\n ['and'],\n ['of'],\n ['Henry'],\n ['Vernon', 'Elvis', 'Presley'],\n ['Europe'],\n ['the'],\n ['Maryland'],\n ['Little', 'Rock'],\n ['and'],\n ['the'],\n ['Dole'],\n ['Parker'],\n ['and'],\n ['and'],\n ['Polanski'],\n ['the'],\n ['of'],\n ['and'],\n ['of'],\n ['Massapequa'],\n ['of'],\n ['American'],\n ['Allen'],\n ['Maryland'],\n ['Senate'],\n ['the'],\n ['Fleming'],\n ['American'],\n ['of'],\n ['Roy', 'Stanley', 'Geiger'],\n ['Reagan'],\n ['the'],\n ['Lake', 'Success'],\n ['of'],\n ['and'],\n ['of'],\n ['Gabriel', 'Ferrer'],\n ['Hollywood'],\n ['Presley'],\n ['NBC'],\n ['Clooney'],\n ['and'],\n ['Mileva', 'Maria'],\n ['the'],\n ['Henry', 'Ford'],\n ['the'],\n ['of'],\n ['the'],\n ['Henry'],\n ['Henry'],\n ['the'],\n ['Brown', 'Brothers'],\n ['Samuel', 'Prescott', 'Bush'],\n ['the'],\n ['Kerouac'],\n ['the'],\n ['the'],\n ['Kerouac'],\n ['Senate'],\n ['Geiger'],\n ['New', 'York'],\n ['Bush'],\n ['of'],\n ['and'],\n ['the'],\n ['and'],\n ['and'],\n ['Senate'],\n ['and'],\n ['and'],\n ['Miguel'],\n ['Rochester'],\n ['Miguel'],\n ['Europe'],\n ['and'],\n ['Senate'],\n ['He'],\n ['and'],\n ['the'],\n ['William'],\n ['Dearborn'],\n ['Verdun'],\n ['Isabelle', 'Huppert'],\n ['Miguel'],\n ['and'],\n ['of'],\n ['the'],\n ['of'],\n ['John', 'Drew', 'Barrymore'],\n ['Braintree'],\n ['the'],\n ['and'],\n ['Republican'],\n ['William'],\n ['and'],\n ['Raja', 'Amari'],\n ['He'],\n ['and'],\n ['He'],\n ['Ford'],\n ['Albert'],\n ['Henry', 'Clay'],\n ['General'],\n ['the'],\n ['Presley'],\n ['the'],\n ['Columbia', 'Records'],\n ['Connecticut'],\n ['and'],\n ['and'],\n ['of'],\n ['Portsmouth'],\n ['Richard', 'Gere'],\n ['Rosemary'],\n ['King'],\n ['Rosemary', 'Clooney'],\n ['Columbia'],\n ['United', 'States'],\n ['the'],\n ['and'],\n ['American'],\n ['Koch'],\n ['Einstein'],\n ['George'],\n ['Gabriel', 'Ferrer'],\n ['the'],\n ['Senate'],\n ['London'],\n ['and'],\n ['Michele'],\n ['of'],\n ['and'],\n ['the'],\n ['Grant'],\n ['George'],\n ['Michael'],\n ['Marion'],\n ['the'],\n ['the'],\n ['of'],\n ['Hodgkin'],\n ['and'],\n ['Annie', 'Oakley'],\n ['Jacob', 'Hindman'],\n ['Prescott', 'Bush'],\n ['Bridget', 'Byron'],\n ['Michele'],\n ['Henry'],\n ['of'],\n ['General'],\n ['of'],\n ['and'],\n ['the'],\n ['of'],\n ['College'],\n ['the'],\n ['and'],\n ['Wuerttemberg'],\n ['Hollywood'],\n ['James', 'Bowdoin'],\n ['Nancy', 'Cartwright'],\n ['the', 'Netherlands'],\n ['the'],\n ['Davis'],\n ['and'],\n ['and'],\n ['the'],\n ['Bush'],\n ['Annie', 'Oakley'],\n ['the'],\n ['the'],\n ['the'],\n ['Louisiana'],\n ['Bush'],\n ['Reagan'],\n ['the'],\n ['the'],\n ['and'],\n ['and'],\n ['Soderbergh'],\n ['Huxley'],\n ['Henry', 'Ford'],\n ['and'],\n ['General'],\n ['Prescott', 'Bush'],\n ['and'],\n ['the'],\n ['Job'],\n ['and'],\n ['Monroe'],\n ['of'],\n ['of'],\n ['William'],\n ['of'],\n ['and'],\n ['He'],\n ['Ford'],\n ['American'],\n ['the'],\n ['Eleanor'],\n ['Prescott', 'Bush'],\n ['George'],\n ['Ford'],\n ['Studio', '54'],\n ['School'],\n ['both', 'Bushes'],\n ['Meara'],\n ['Pennsylvania'],\n ['Monroe'],\n ['Phi', 'Beta', 'Kappa'],\n ['George'],\n ['Denmark'],\n ['General'],\n ['the'],\n ['Miguel'],\n ['Michael', 'McManus'],\n ['and'],\n ['and'],\n ['and'],\n ['American'],\n ['the'],\n ['Connecticut'],\n ['He'],\n ['Ford'],\n ['George'],\n ['Stedman', 'Products'],\n ['the'],\n ['Philadelphia'],\n ['Harris'],\n ['New', 'York', 'City'],\n ['12'],\n ['Bush'],\n ['Mississippi'],\n ['of'],\n ...)"
     },
     "execution_count": 263,
     "metadata": {},
     "output_type": "execute_result"
    }
   ],
   "source": [
    "NE_sampled"
   ],
   "metadata": {
    "collapsed": false,
    "ExecuteTime": {
     "start_time": "2024-04-17T17:50:23.774928Z",
     "end_time": "2024-04-17T17:50:23.823064Z"
    }
   }
  },
  {
   "cell_type": "code",
   "execution_count": 264,
   "outputs": [
    {
     "data": {
      "text/plain": "(array([0., 0., 1.], dtype=float32),\n array([0., 0., 1.], dtype=float32),\n array([0., 0., 1.], dtype=float32),\n array([0., 0., 1.], dtype=float32),\n array([0., 1., 0.], dtype=float32),\n array([0., 0., 1.], dtype=float32),\n array([0., 1., 0.], dtype=float32),\n array([0., 0., 1.], dtype=float32),\n array([0., 0., 1.], dtype=float32),\n array([0., 1., 0.], dtype=float32),\n array([0., 0., 1.], dtype=float32),\n array([0., 0., 1.], dtype=float32),\n array([0., 0., 1.], dtype=float32),\n array([0., 0., 1.], dtype=float32),\n array([0., 1., 0.], dtype=float32),\n array([1., 0., 0.], dtype=float32),\n array([0., 0., 1.], dtype=float32),\n array([0., 0., 1.], dtype=float32),\n array([1., 0., 0.], dtype=float32),\n array([0., 0., 1.], dtype=float32),\n array([0., 0., 1.], dtype=float32),\n array([0., 1., 0.], dtype=float32),\n array([0., 1., 0.], dtype=float32),\n array([1., 0., 0.], dtype=float32),\n array([0., 0., 1.], dtype=float32),\n array([0., 1., 0.], dtype=float32),\n array([0., 0., 1.], dtype=float32),\n array([0., 0., 1.], dtype=float32),\n array([0., 1., 0.], dtype=float32),\n array([0., 0., 1.], dtype=float32),\n array([0., 1., 0.], dtype=float32),\n array([0., 0., 1.], dtype=float32),\n array([1., 0., 0.], dtype=float32),\n array([0., 1., 0.], dtype=float32),\n array([0., 0., 1.], dtype=float32),\n array([0., 1., 0.], dtype=float32),\n array([0., 1., 0.], dtype=float32),\n array([0., 1., 0.], dtype=float32),\n array([0., 1., 0.], dtype=float32),\n array([0., 1., 0.], dtype=float32),\n array([0., 0., 1.], dtype=float32),\n array([1., 0., 0.], dtype=float32),\n array([0., 0., 1.], dtype=float32),\n array([1., 0., 0.], dtype=float32),\n array([0., 0., 1.], dtype=float32),\n array([0., 1., 0.], dtype=float32),\n array([0., 0., 1.], dtype=float32),\n array([0., 0., 1.], dtype=float32),\n array([1., 0., 0.], dtype=float32),\n array([0., 0., 1.], dtype=float32),\n array([0., 1., 0.], dtype=float32),\n array([0., 0., 1.], dtype=float32),\n array([0., 1., 0.], dtype=float32),\n array([0., 1., 0.], dtype=float32),\n array([0., 0., 1.], dtype=float32),\n array([0., 1., 0.], dtype=float32),\n array([0., 1., 0.], dtype=float32),\n array([0., 0., 1.], dtype=float32),\n array([0., 0., 1.], dtype=float32),\n array([0., 0., 1.], dtype=float32),\n array([0., 0., 1.], dtype=float32),\n array([1., 0., 0.], dtype=float32),\n array([1., 0., 0.], dtype=float32),\n array([0., 1., 0.], dtype=float32),\n array([0., 1., 0.], dtype=float32),\n array([0., 1., 0.], dtype=float32),\n array([0., 0., 1.], dtype=float32),\n array([0., 1., 0.], dtype=float32),\n array([0., 0., 1.], dtype=float32),\n array([0., 0., 1.], dtype=float32),\n array([0., 0., 1.], dtype=float32),\n array([0., 1., 0.], dtype=float32),\n array([0., 0., 1.], dtype=float32),\n array([0., 1., 0.], dtype=float32),\n array([0., 0., 1.], dtype=float32),\n array([0., 0., 1.], dtype=float32),\n array([0., 1., 0.], dtype=float32),\n array([0., 0., 1.], dtype=float32),\n array([0., 1., 0.], dtype=float32),\n array([0., 1., 0.], dtype=float32),\n array([0., 0., 1.], dtype=float32),\n array([0., 0., 1.], dtype=float32),\n array([0., 0., 1.], dtype=float32),\n array([0., 0., 1.], dtype=float32),\n array([0., 0., 1.], dtype=float32),\n array([0., 0., 1.], dtype=float32),\n array([0., 0., 1.], dtype=float32),\n array([1., 0., 0.], dtype=float32),\n array([0., 1., 0.], dtype=float32),\n array([1., 0., 0.], dtype=float32),\n array([0., 0., 1.], dtype=float32),\n array([0., 1., 0.], dtype=float32),\n array([0., 0., 1.], dtype=float32),\n array([0., 0., 1.], dtype=float32),\n array([0., 1., 0.], dtype=float32),\n array([0., 0., 1.], dtype=float32),\n array([0., 0., 1.], dtype=float32),\n array([0., 0., 1.], dtype=float32),\n array([0., 1., 0.], dtype=float32),\n array([0., 1., 0.], dtype=float32),\n array([0., 0., 1.], dtype=float32),\n array([0., 1., 0.], dtype=float32),\n array([0., 1., 0.], dtype=float32),\n array([0., 0., 1.], dtype=float32),\n array([0., 1., 0.], dtype=float32),\n array([0., 0., 1.], dtype=float32),\n array([0., 0., 1.], dtype=float32),\n array([1., 0., 0.], dtype=float32),\n array([0., 1., 0.], dtype=float32),\n array([0., 0., 1.], dtype=float32),\n array([0., 0., 1.], dtype=float32),\n array([0., 1., 0.], dtype=float32),\n array([0., 0., 1.], dtype=float32),\n array([0., 1., 0.], dtype=float32),\n array([0., 0., 1.], dtype=float32),\n array([0., 1., 0.], dtype=float32),\n array([0., 0., 1.], dtype=float32),\n array([1., 0., 0.], dtype=float32),\n array([0., 0., 1.], dtype=float32),\n array([0., 1., 0.], dtype=float32),\n array([0., 0., 1.], dtype=float32),\n array([0., 0., 1.], dtype=float32),\n array([0., 0., 1.], dtype=float32),\n array([0., 1., 0.], dtype=float32),\n array([0., 1., 0.], dtype=float32),\n array([0., 0., 1.], dtype=float32),\n array([0., 1., 0.], dtype=float32),\n array([0., 0., 1.], dtype=float32),\n array([0., 0., 1.], dtype=float32),\n array([1., 0., 0.], dtype=float32),\n array([0., 0., 1.], dtype=float32),\n array([0., 0., 1.], dtype=float32),\n array([0., 0., 1.], dtype=float32),\n array([1., 0., 0.], dtype=float32),\n array([0., 0., 1.], dtype=float32),\n array([0., 0., 1.], dtype=float32),\n array([0., 0., 1.], dtype=float32),\n array([0., 0., 1.], dtype=float32),\n array([0., 1., 0.], dtype=float32),\n array([0., 1., 0.], dtype=float32),\n array([0., 1., 0.], dtype=float32),\n array([0., 0., 1.], dtype=float32),\n array([0., 1., 0.], dtype=float32),\n array([0., 0., 1.], dtype=float32),\n array([0., 1., 0.], dtype=float32),\n array([0., 0., 1.], dtype=float32),\n array([0., 0., 1.], dtype=float32),\n array([0., 0., 1.], dtype=float32),\n array([0., 0., 1.], dtype=float32),\n array([0., 1., 0.], dtype=float32),\n array([0., 1., 0.], dtype=float32),\n array([0., 1., 0.], dtype=float32),\n array([0., 1., 0.], dtype=float32),\n array([0., 0., 1.], dtype=float32),\n array([0., 0., 1.], dtype=float32),\n array([0., 1., 0.], dtype=float32),\n array([0., 1., 0.], dtype=float32),\n array([0., 0., 1.], dtype=float32),\n array([0., 0., 1.], dtype=float32),\n array([0., 1., 0.], dtype=float32),\n array([0., 0., 1.], dtype=float32),\n array([0., 0., 1.], dtype=float32),\n array([0., 1., 0.], dtype=float32),\n array([1., 0., 0.], dtype=float32),\n array([0., 0., 1.], dtype=float32),\n array([0., 0., 1.], dtype=float32),\n array([0., 0., 1.], dtype=float32),\n array([0., 0., 1.], dtype=float32),\n array([0., 1., 0.], dtype=float32),\n array([0., 0., 1.], dtype=float32),\n array([0., 0., 1.], dtype=float32),\n array([0., 0., 1.], dtype=float32),\n array([0., 0., 1.], dtype=float32),\n array([0., 0., 1.], dtype=float32),\n array([1., 0., 0.], dtype=float32),\n array([0., 0., 1.], dtype=float32),\n array([0., 0., 1.], dtype=float32),\n array([0., 0., 1.], dtype=float32),\n array([0., 0., 1.], dtype=float32),\n array([1., 0., 0.], dtype=float32),\n array([0., 0., 1.], dtype=float32),\n array([0., 1., 0.], dtype=float32),\n array([0., 0., 1.], dtype=float32),\n array([0., 0., 1.], dtype=float32),\n array([0., 0., 1.], dtype=float32),\n array([0., 0., 1.], dtype=float32),\n array([0., 1., 0.], dtype=float32),\n array([0., 1., 0.], dtype=float32),\n array([0., 0., 1.], dtype=float32),\n array([0., 0., 1.], dtype=float32),\n array([0., 0., 1.], dtype=float32),\n array([0., 1., 0.], dtype=float32),\n array([1., 0., 0.], dtype=float32),\n array([0., 0., 1.], dtype=float32),\n array([0., 0., 1.], dtype=float32),\n array([0., 0., 1.], dtype=float32),\n array([0., 0., 1.], dtype=float32),\n array([1., 0., 0.], dtype=float32),\n array([1., 0., 0.], dtype=float32),\n array([0., 0., 1.], dtype=float32),\n array([0., 0., 1.], dtype=float32),\n array([1., 0., 0.], dtype=float32),\n array([0., 0., 1.], dtype=float32),\n array([0., 1., 0.], dtype=float32),\n array([0., 0., 1.], dtype=float32),\n array([0., 0., 1.], dtype=float32),\n array([0., 1., 0.], dtype=float32),\n array([0., 0., 1.], dtype=float32),\n array([0., 1., 0.], dtype=float32),\n array([0., 0., 1.], dtype=float32),\n array([0., 1., 0.], dtype=float32),\n array([0., 1., 0.], dtype=float32),\n array([0., 0., 1.], dtype=float32),\n array([1., 0., 0.], dtype=float32),\n array([0., 0., 1.], dtype=float32),\n array([1., 0., 0.], dtype=float32),\n array([0., 0., 1.], dtype=float32),\n array([0., 0., 1.], dtype=float32),\n array([0., 1., 0.], dtype=float32),\n array([0., 1., 0.], dtype=float32),\n array([0., 1., 0.], dtype=float32),\n array([0., 0., 1.], dtype=float32),\n array([0., 0., 1.], dtype=float32),\n array([0., 0., 1.], dtype=float32),\n array([0., 0., 1.], dtype=float32),\n array([0., 0., 1.], dtype=float32),\n array([0., 1., 0.], dtype=float32),\n array([0., 1., 0.], dtype=float32),\n array([0., 0., 1.], dtype=float32),\n array([1., 0., 0.], dtype=float32),\n array([0., 0., 1.], dtype=float32),\n array([1., 0., 0.], dtype=float32),\n array([1., 0., 0.], dtype=float32),\n array([0., 0., 1.], dtype=float32),\n array([0., 0., 1.], dtype=float32),\n array([0., 0., 1.], dtype=float32),\n array([0., 0., 1.], dtype=float32),\n array([0., 0., 1.], dtype=float32),\n array([0., 0., 1.], dtype=float32),\n array([0., 0., 1.], dtype=float32),\n array([0., 1., 0.], dtype=float32),\n array([0., 0., 1.], dtype=float32),\n array([0., 0., 1.], dtype=float32),\n array([0., 1., 0.], dtype=float32),\n array([0., 0., 1.], dtype=float32),\n array([0., 1., 0.], dtype=float32),\n array([0., 0., 1.], dtype=float32),\n array([0., 1., 0.], dtype=float32),\n array([0., 0., 1.], dtype=float32),\n array([0., 0., 1.], dtype=float32),\n array([0., 1., 0.], dtype=float32),\n array([1., 0., 0.], dtype=float32),\n array([0., 1., 0.], dtype=float32),\n array([0., 0., 1.], dtype=float32),\n array([0., 1., 0.], dtype=float32),\n array([0., 0., 1.], dtype=float32),\n array([0., 0., 1.], dtype=float32),\n array([0., 0., 1.], dtype=float32),\n array([1., 0., 0.], dtype=float32),\n array([0., 0., 1.], dtype=float32),\n array([0., 1., 0.], dtype=float32),\n array([0., 0., 1.], dtype=float32),\n array([0., 0., 1.], dtype=float32),\n array([0., 1., 0.], dtype=float32),\n array([0., 1., 0.], dtype=float32),\n array([0., 0., 1.], dtype=float32),\n array([0., 0., 1.], dtype=float32),\n array([0., 0., 1.], dtype=float32),\n array([0., 0., 1.], dtype=float32),\n array([0., 0., 1.], dtype=float32),\n array([0., 0., 1.], dtype=float32),\n array([0., 0., 1.], dtype=float32),\n array([0., 1., 0.], dtype=float32),\n array([0., 0., 1.], dtype=float32),\n array([0., 1., 0.], dtype=float32),\n array([0., 0., 1.], dtype=float32),\n array([0., 0., 1.], dtype=float32),\n array([1., 0., 0.], dtype=float32),\n array([0., 1., 0.], dtype=float32),\n array([0., 0., 1.], dtype=float32),\n array([0., 0., 1.], dtype=float32),\n array([0., 0., 1.], dtype=float32),\n array([0., 0., 1.], dtype=float32),\n array([1., 0., 0.], dtype=float32),\n array([0., 0., 1.], dtype=float32),\n array([0., 0., 1.], dtype=float32),\n array([0., 0., 1.], dtype=float32),\n array([1., 0., 0.], dtype=float32),\n array([0., 0., 1.], dtype=float32),\n array([0., 0., 1.], dtype=float32),\n array([0., 0., 1.], dtype=float32),\n array([0., 0., 1.], dtype=float32),\n array([1., 0., 0.], dtype=float32),\n array([0., 1., 0.], dtype=float32),\n array([0., 0., 1.], dtype=float32),\n array([0., 0., 1.], dtype=float32),\n array([0., 0., 1.], dtype=float32),\n array([0., 0., 1.], dtype=float32),\n array([0., 0., 1.], dtype=float32),\n array([0., 0., 1.], dtype=float32),\n array([0., 0., 1.], dtype=float32),\n array([1., 0., 0.], dtype=float32),\n array([0., 0., 1.], dtype=float32),\n array([0., 0., 1.], dtype=float32),\n array([0., 0., 1.], dtype=float32),\n array([0., 0., 1.], dtype=float32),\n array([0., 0., 1.], dtype=float32),\n array([0., 0., 1.], dtype=float32),\n array([0., 0., 1.], dtype=float32),\n array([0., 0., 1.], dtype=float32),\n array([0., 0., 1.], dtype=float32),\n array([0., 1., 0.], dtype=float32),\n array([0., 1., 0.], dtype=float32),\n array([0., 1., 0.], dtype=float32),\n array([0., 1., 0.], dtype=float32),\n array([0., 0., 1.], dtype=float32),\n array([0., 0., 1.], dtype=float32),\n array([0., 0., 1.], dtype=float32),\n array([0., 0., 1.], dtype=float32),\n array([1., 0., 0.], dtype=float32),\n array([0., 0., 1.], dtype=float32),\n array([0., 1., 0.], dtype=float32),\n array([0., 0., 1.], dtype=float32),\n array([0., 0., 1.], dtype=float32),\n array([0., 0., 1.], dtype=float32),\n array([0., 0., 1.], dtype=float32),\n array([1., 0., 0.], dtype=float32),\n array([0., 1., 0.], dtype=float32),\n array([0., 1., 0.], dtype=float32),\n array([0., 1., 0.], dtype=float32),\n array([0., 1., 0.], dtype=float32),\n array([0., 0., 1.], dtype=float32),\n array([0., 0., 1.], dtype=float32),\n array([0., 0., 1.], dtype=float32),\n array([0., 0., 1.], dtype=float32),\n array([0., 1., 0.], dtype=float32),\n array([0., 0., 1.], dtype=float32),\n array([0., 0., 1.], dtype=float32),\n array([0., 1., 0.], dtype=float32),\n array([0., 1., 0.], dtype=float32),\n array([1., 0., 0.], dtype=float32),\n array([1., 0., 0.], dtype=float32),\n array([0., 0., 1.], dtype=float32),\n array([0., 0., 1.], dtype=float32),\n array([0., 0., 1.], dtype=float32),\n array([0., 0., 1.], dtype=float32),\n array([0., 0., 1.], dtype=float32),\n array([0., 0., 1.], dtype=float32),\n array([0., 1., 0.], dtype=float32),\n array([0., 0., 1.], dtype=float32),\n array([0., 1., 0.], dtype=float32),\n array([0., 1., 0.], dtype=float32),\n array([0., 0., 1.], dtype=float32),\n array([1., 0., 0.], dtype=float32),\n array([0., 0., 1.], dtype=float32),\n array([0., 0., 1.], dtype=float32),\n array([1., 0., 0.], dtype=float32),\n array([1., 0., 0.], dtype=float32),\n array([1., 0., 0.], dtype=float32),\n array([0., 0., 1.], dtype=float32),\n array([0., 1., 0.], dtype=float32),\n array([0., 0., 1.], dtype=float32),\n array([0., 1., 0.], dtype=float32),\n array([0., 0., 1.], dtype=float32),\n array([0., 0., 1.], dtype=float32),\n array([0., 1., 0.], dtype=float32),\n array([0., 0., 1.], dtype=float32),\n array([0., 0., 1.], dtype=float32),\n array([0., 0., 1.], dtype=float32),\n array([0., 0., 1.], dtype=float32),\n array([0., 1., 0.], dtype=float32),\n array([0., 0., 1.], dtype=float32),\n array([0., 0., 1.], dtype=float32),\n array([0., 0., 1.], dtype=float32),\n array([1., 0., 0.], dtype=float32),\n array([0., 0., 1.], dtype=float32),\n array([0., 1., 0.], dtype=float32),\n array([0., 1., 0.], dtype=float32),\n array([0., 1., 0.], dtype=float32),\n array([0., 0., 1.], dtype=float32),\n array([0., 0., 1.], dtype=float32),\n array([0., 0., 1.], dtype=float32),\n array([1., 0., 0.], dtype=float32),\n array([0., 1., 0.], dtype=float32),\n array([0., 0., 1.], dtype=float32),\n array([0., 1., 0.], dtype=float32),\n array([1., 0., 0.], dtype=float32),\n array([1., 0., 0.], dtype=float32),\n array([0., 1., 0.], dtype=float32),\n array([1., 0., 0.], dtype=float32),\n array([0., 1., 0.], dtype=float32),\n array([0., 1., 0.], dtype=float32),\n array([0., 0., 1.], dtype=float32),\n array([0., 0., 1.], dtype=float32),\n array([0., 0., 1.], dtype=float32),\n array([0., 0., 1.], dtype=float32),\n array([0., 1., 0.], dtype=float32),\n array([0., 0., 1.], dtype=float32),\n array([1., 0., 0.], dtype=float32),\n array([0., 0., 1.], dtype=float32),\n array([0., 1., 0.], dtype=float32),\n array([1., 0., 0.], dtype=float32),\n array([1., 0., 0.], dtype=float32),\n array([1., 0., 0.], dtype=float32),\n array([0., 1., 0.], dtype=float32),\n array([0., 0., 1.], dtype=float32),\n array([0., 0., 1.], dtype=float32),\n array([0., 0., 1.], dtype=float32),\n array([0., 0., 1.], dtype=float32),\n array([0., 0., 1.], dtype=float32),\n array([0., 0., 1.], dtype=float32),\n array([0., 0., 1.], dtype=float32),\n array([0., 0., 1.], dtype=float32),\n array([1., 0., 0.], dtype=float32),\n array([0., 0., 1.], dtype=float32),\n array([0., 0., 1.], dtype=float32),\n array([0., 0., 1.], dtype=float32),\n array([0., 0., 1.], dtype=float32),\n array([0., 0., 1.], dtype=float32),\n array([0., 1., 0.], dtype=float32),\n array([0., 1., 0.], dtype=float32),\n array([0., 0., 1.], dtype=float32),\n array([0., 0., 1.], dtype=float32),\n array([0., 0., 1.], dtype=float32),\n array([0., 1., 0.], dtype=float32),\n array([0., 1., 0.], dtype=float32),\n array([0., 1., 0.], dtype=float32),\n array([0., 0., 1.], dtype=float32),\n array([0., 1., 0.], dtype=float32),\n array([1., 0., 0.], dtype=float32),\n array([0., 0., 1.], dtype=float32),\n array([0., 1., 0.], dtype=float32),\n array([0., 1., 0.], dtype=float32),\n array([0., 1., 0.], dtype=float32),\n array([0., 1., 0.], dtype=float32),\n array([0., 0., 1.], dtype=float32),\n array([0., 1., 0.], dtype=float32),\n array([0., 0., 1.], dtype=float32),\n array([0., 0., 1.], dtype=float32),\n array([0., 0., 1.], dtype=float32),\n array([0., 0., 1.], dtype=float32),\n array([1., 0., 0.], dtype=float32),\n array([0., 0., 1.], dtype=float32),\n array([0., 0., 1.], dtype=float32),\n array([1., 0., 0.], dtype=float32),\n array([0., 1., 0.], dtype=float32),\n array([0., 1., 0.], dtype=float32),\n array([0., 1., 0.], dtype=float32),\n array([0., 0., 1.], dtype=float32),\n array([1., 0., 0.], dtype=float32),\n array([0., 1., 0.], dtype=float32),\n array([0., 1., 0.], dtype=float32),\n array([0., 1., 0.], dtype=float32),\n array([0., 1., 0.], dtype=float32),\n array([0., 0., 1.], dtype=float32),\n array([0., 0., 1.], dtype=float32),\n array([1., 0., 0.], dtype=float32),\n array([0., 1., 0.], dtype=float32),\n array([0., 0., 1.], dtype=float32),\n array([0., 1., 0.], dtype=float32),\n array([0., 0., 1.], dtype=float32),\n array([1., 0., 0.], dtype=float32),\n array([1., 0., 0.], dtype=float32),\n array([0., 1., 0.], dtype=float32),\n array([0., 1., 0.], dtype=float32),\n array([1., 0., 0.], dtype=float32),\n array([0., 0., 1.], dtype=float32),\n array([0., 0., 1.], dtype=float32),\n array([0., 1., 0.], dtype=float32),\n array([0., 0., 1.], dtype=float32),\n array([0., 1., 0.], dtype=float32),\n array([0., 0., 1.], dtype=float32),\n array([0., 1., 0.], dtype=float32),\n array([0., 0., 1.], dtype=float32),\n array([0., 0., 1.], dtype=float32),\n array([0., 0., 1.], dtype=float32),\n array([0., 0., 1.], dtype=float32),\n array([0., 0., 1.], dtype=float32),\n array([0., 0., 1.], dtype=float32),\n array([0., 1., 0.], dtype=float32),\n array([0., 0., 1.], dtype=float32),\n array([0., 0., 1.], dtype=float32),\n array([0., 0., 1.], dtype=float32),\n array([1., 0., 0.], dtype=float32),\n array([0., 0., 1.], dtype=float32),\n array([0., 1., 0.], dtype=float32),\n array([0., 0., 1.], dtype=float32),\n array([1., 0., 0.], dtype=float32),\n array([0., 1., 0.], dtype=float32),\n array([0., 0., 1.], dtype=float32),\n array([0., 0., 1.], dtype=float32),\n array([0., 0., 1.], dtype=float32),\n array([0., 1., 0.], dtype=float32),\n array([0., 0., 1.], dtype=float32),\n array([0., 0., 1.], dtype=float32),\n array([0., 0., 1.], dtype=float32),\n array([0., 0., 1.], dtype=float32),\n array([0., 0., 1.], dtype=float32),\n array([0., 1., 0.], dtype=float32),\n array([0., 0., 1.], dtype=float32),\n array([0., 0., 1.], dtype=float32),\n array([0., 1., 0.], dtype=float32),\n array([0., 0., 1.], dtype=float32),\n array([0., 0., 1.], dtype=float32),\n array([0., 0., 1.], dtype=float32),\n array([0., 0., 1.], dtype=float32),\n array([0., 1., 0.], dtype=float32),\n array([1., 0., 0.], dtype=float32),\n array([1., 0., 0.], dtype=float32),\n array([0., 0., 1.], dtype=float32),\n array([0., 0., 1.], dtype=float32),\n array([0., 0., 1.], dtype=float32),\n array([0., 1., 0.], dtype=float32),\n array([0., 0., 1.], dtype=float32),\n array([1., 0., 0.], dtype=float32),\n array([0., 0., 1.], dtype=float32),\n array([0., 1., 0.], dtype=float32),\n array([0., 1., 0.], dtype=float32),\n array([0., 0., 1.], dtype=float32),\n array([0., 1., 0.], dtype=float32),\n array([0., 1., 0.], dtype=float32),\n array([0., 0., 1.], dtype=float32),\n array([0., 0., 1.], dtype=float32),\n array([0., 1., 0.], dtype=float32),\n array([0., 0., 1.], dtype=float32),\n array([0., 1., 0.], dtype=float32),\n array([1., 0., 0.], dtype=float32),\n array([0., 1., 0.], dtype=float32),\n array([0., 0., 1.], dtype=float32),\n array([0., 1., 0.], dtype=float32),\n array([1., 0., 0.], dtype=float32),\n array([0., 0., 1.], dtype=float32),\n array([0., 0., 1.], dtype=float32),\n array([0., 0., 1.], dtype=float32),\n array([1., 0., 0.], dtype=float32),\n array([0., 1., 0.], dtype=float32),\n array([0., 1., 0.], dtype=float32),\n array([0., 0., 1.], dtype=float32),\n array([1., 0., 0.], dtype=float32),\n array([0., 0., 1.], dtype=float32),\n array([0., 1., 0.], dtype=float32),\n array([0., 0., 1.], dtype=float32),\n array([0., 0., 1.], dtype=float32),\n array([0., 0., 1.], dtype=float32),\n array([1., 0., 0.], dtype=float32),\n array([0., 1., 0.], dtype=float32),\n array([0., 0., 1.], dtype=float32),\n array([0., 1., 0.], dtype=float32),\n array([0., 1., 0.], dtype=float32),\n array([0., 1., 0.], dtype=float32),\n array([0., 0., 1.], dtype=float32),\n array([0., 1., 0.], dtype=float32),\n array([0., 0., 1.], dtype=float32),\n array([0., 0., 1.], dtype=float32),\n array([0., 0., 1.], dtype=float32),\n array([0., 0., 1.], dtype=float32),\n array([0., 1., 0.], dtype=float32),\n array([0., 0., 1.], dtype=float32),\n array([1., 0., 0.], dtype=float32),\n array([0., 0., 1.], dtype=float32),\n array([0., 0., 1.], dtype=float32),\n array([1., 0., 0.], dtype=float32),\n array([0., 0., 1.], dtype=float32),\n array([0., 0., 1.], dtype=float32),\n array([0., 0., 1.], dtype=float32),\n array([0., 1., 0.], dtype=float32),\n array([0., 1., 0.], dtype=float32),\n array([0., 0., 1.], dtype=float32),\n array([0., 0., 1.], dtype=float32),\n array([0., 1., 0.], dtype=float32),\n array([1., 0., 0.], dtype=float32),\n array([0., 1., 0.], dtype=float32),\n array([0., 1., 0.], dtype=float32),\n array([0., 0., 1.], dtype=float32),\n array([0., 1., 0.], dtype=float32),\n array([0., 0., 1.], dtype=float32),\n array([0., 1., 0.], dtype=float32),\n array([0., 0., 1.], dtype=float32),\n array([0., 0., 1.], dtype=float32),\n array([0., 0., 1.], dtype=float32),\n array([0., 0., 1.], dtype=float32),\n array([0., 1., 0.], dtype=float32),\n array([0., 0., 1.], dtype=float32),\n array([0., 1., 0.], dtype=float32),\n array([0., 0., 1.], dtype=float32),\n array([0., 0., 1.], dtype=float32),\n array([0., 0., 1.], dtype=float32),\n array([0., 0., 1.], dtype=float32),\n array([0., 0., 1.], dtype=float32),\n array([0., 0., 1.], dtype=float32),\n array([0., 0., 1.], dtype=float32),\n array([0., 0., 1.], dtype=float32),\n array([0., 0., 1.], dtype=float32),\n array([0., 1., 0.], dtype=float32),\n array([0., 0., 1.], dtype=float32),\n array([0., 0., 1.], dtype=float32),\n array([0., 0., 1.], dtype=float32),\n array([0., 0., 1.], dtype=float32),\n array([0., 0., 1.], dtype=float32),\n array([0., 1., 0.], dtype=float32),\n array([0., 0., 1.], dtype=float32),\n array([0., 1., 0.], dtype=float32),\n array([0., 0., 1.], dtype=float32),\n array([0., 0., 1.], dtype=float32),\n array([0., 0., 1.], dtype=float32),\n array([0., 1., 0.], dtype=float32),\n array([0., 0., 1.], dtype=float32),\n array([1., 0., 0.], dtype=float32),\n array([0., 0., 1.], dtype=float32),\n array([1., 0., 0.], dtype=float32),\n array([0., 0., 1.], dtype=float32),\n array([0., 0., 1.], dtype=float32),\n array([0., 1., 0.], dtype=float32),\n array([0., 1., 0.], dtype=float32),\n array([0., 0., 1.], dtype=float32),\n array([0., 1., 0.], dtype=float32),\n array([0., 1., 0.], dtype=float32),\n array([0., 1., 0.], dtype=float32),\n array([0., 1., 0.], dtype=float32),\n array([0., 0., 1.], dtype=float32),\n array([1., 0., 0.], dtype=float32),\n array([0., 0., 1.], dtype=float32),\n array([0., 0., 1.], dtype=float32),\n array([1., 0., 0.], dtype=float32),\n array([0., 1., 0.], dtype=float32),\n array([0., 0., 1.], dtype=float32),\n array([0., 0., 1.], dtype=float32),\n array([0., 1., 0.], dtype=float32),\n array([0., 0., 1.], dtype=float32),\n array([0., 1., 0.], dtype=float32),\n array([0., 0., 1.], dtype=float32),\n array([0., 1., 0.], dtype=float32),\n array([0., 1., 0.], dtype=float32),\n array([0., 1., 0.], dtype=float32),\n array([1., 0., 0.], dtype=float32),\n array([0., 1., 0.], dtype=float32),\n array([0., 1., 0.], dtype=float32),\n array([0., 0., 1.], dtype=float32),\n array([0., 0., 1.], dtype=float32),\n array([0., 1., 0.], dtype=float32),\n array([1., 0., 0.], dtype=float32),\n array([0., 0., 1.], dtype=float32),\n array([0., 0., 1.], dtype=float32),\n array([0., 0., 1.], dtype=float32),\n array([0., 0., 1.], dtype=float32),\n array([0., 0., 1.], dtype=float32),\n array([0., 0., 1.], dtype=float32),\n array([0., 0., 1.], dtype=float32),\n array([0., 1., 0.], dtype=float32),\n array([0., 1., 0.], dtype=float32),\n array([0., 0., 1.], dtype=float32),\n array([0., 0., 1.], dtype=float32),\n array([1., 0., 0.], dtype=float32),\n array([0., 0., 1.], dtype=float32),\n array([0., 1., 0.], dtype=float32),\n array([0., 1., 0.], dtype=float32),\n array([0., 0., 1.], dtype=float32),\n array([0., 1., 0.], dtype=float32),\n array([1., 0., 0.], dtype=float32),\n array([0., 0., 1.], dtype=float32),\n array([0., 0., 1.], dtype=float32),\n array([1., 0., 0.], dtype=float32),\n array([0., 0., 1.], dtype=float32),\n array([0., 1., 0.], dtype=float32),\n array([0., 0., 1.], dtype=float32),\n array([1., 0., 0.], dtype=float32),\n array([0., 1., 0.], dtype=float32),\n array([0., 0., 1.], dtype=float32),\n array([0., 0., 1.], dtype=float32),\n array([0., 0., 1.], dtype=float32),\n array([0., 0., 1.], dtype=float32),\n array([0., 1., 0.], dtype=float32),\n array([0., 1., 0.], dtype=float32),\n array([0., 1., 0.], dtype=float32),\n array([1., 0., 0.], dtype=float32),\n array([0., 0., 1.], dtype=float32),\n array([1., 0., 0.], dtype=float32),\n array([1., 0., 0.], dtype=float32),\n array([0., 0., 1.], dtype=float32),\n array([0., 1., 0.], dtype=float32),\n array([0., 0., 1.], dtype=float32),\n array([1., 0., 0.], dtype=float32),\n array([0., 0., 1.], dtype=float32),\n array([0., 0., 1.], dtype=float32),\n array([1., 0., 0.], dtype=float32),\n array([0., 0., 1.], dtype=float32),\n array([0., 0., 1.], dtype=float32),\n array([0., 1., 0.], dtype=float32),\n array([0., 0., 1.], dtype=float32),\n array([0., 0., 1.], dtype=float32),\n array([0., 1., 0.], dtype=float32),\n array([0., 0., 1.], dtype=float32),\n array([1., 0., 0.], dtype=float32),\n array([0., 1., 0.], dtype=float32),\n array([1., 0., 0.], dtype=float32),\n array([0., 0., 1.], dtype=float32),\n array([0., 0., 1.], dtype=float32),\n array([0., 0., 1.], dtype=float32),\n array([0., 0., 1.], dtype=float32),\n array([0., 0., 1.], dtype=float32),\n array([0., 0., 1.], dtype=float32),\n array([0., 0., 1.], dtype=float32),\n array([1., 0., 0.], dtype=float32),\n array([1., 0., 0.], dtype=float32),\n array([0., 0., 1.], dtype=float32),\n array([1., 0., 0.], dtype=float32),\n array([1., 0., 0.], dtype=float32),\n array([0., 1., 0.], dtype=float32),\n array([0., 1., 0.], dtype=float32),\n array([0., 1., 0.], dtype=float32),\n array([1., 0., 0.], dtype=float32),\n array([0., 0., 1.], dtype=float32),\n array([0., 0., 1.], dtype=float32),\n array([1., 0., 0.], dtype=float32),\n array([1., 0., 0.], dtype=float32),\n array([0., 1., 0.], dtype=float32),\n array([1., 0., 0.], dtype=float32),\n array([0., 1., 0.], dtype=float32),\n array([0., 0., 1.], dtype=float32),\n array([0., 0., 1.], dtype=float32),\n array([0., 1., 0.], dtype=float32),\n array([0., 0., 1.], dtype=float32),\n array([0., 1., 0.], dtype=float32),\n array([1., 0., 0.], dtype=float32),\n array([1., 0., 0.], dtype=float32),\n array([0., 0., 1.], dtype=float32),\n array([0., 1., 0.], dtype=float32),\n array([0., 1., 0.], dtype=float32),\n array([0., 0., 1.], dtype=float32),\n array([0., 0., 1.], dtype=float32),\n array([0., 0., 1.], dtype=float32),\n array([0., 1., 0.], dtype=float32),\n array([0., 0., 1.], dtype=float32),\n array([0., 0., 1.], dtype=float32),\n array([0., 0., 1.], dtype=float32),\n array([0., 0., 1.], dtype=float32),\n array([0., 0., 1.], dtype=float32),\n array([0., 0., 1.], dtype=float32),\n array([0., 0., 1.], dtype=float32),\n array([0., 0., 1.], dtype=float32),\n array([0., 0., 1.], dtype=float32),\n array([0., 0., 1.], dtype=float32),\n array([0., 1., 0.], dtype=float32),\n array([0., 0., 1.], dtype=float32),\n array([1., 0., 0.], dtype=float32),\n array([0., 0., 1.], dtype=float32),\n array([1., 0., 0.], dtype=float32),\n array([0., 1., 0.], dtype=float32),\n array([1., 0., 0.], dtype=float32),\n array([0., 0., 1.], dtype=float32),\n array([0., 0., 1.], dtype=float32),\n array([0., 1., 0.], dtype=float32),\n array([1., 0., 0.], dtype=float32),\n array([1., 0., 0.], dtype=float32),\n array([0., 0., 1.], dtype=float32),\n array([0., 0., 1.], dtype=float32),\n array([0., 1., 0.], dtype=float32),\n array([0., 0., 1.], dtype=float32),\n array([0., 0., 1.], dtype=float32),\n array([1., 0., 0.], dtype=float32),\n array([1., 0., 0.], dtype=float32),\n array([0., 0., 1.], dtype=float32),\n array([1., 0., 0.], dtype=float32),\n array([1., 0., 0.], dtype=float32),\n array([0., 0., 1.], dtype=float32),\n array([1., 0., 0.], dtype=float32),\n array([0., 1., 0.], dtype=float32),\n array([0., 1., 0.], dtype=float32),\n array([0., 0., 1.], dtype=float32),\n array([0., 0., 1.], dtype=float32),\n array([1., 0., 0.], dtype=float32),\n array([0., 0., 1.], dtype=float32),\n array([1., 0., 0.], dtype=float32),\n array([1., 0., 0.], dtype=float32),\n array([0., 1., 0.], dtype=float32),\n array([0., 0., 1.], dtype=float32),\n array([0., 0., 1.], dtype=float32),\n array([0., 0., 1.], dtype=float32),\n array([0., 1., 0.], dtype=float32),\n array([0., 1., 0.], dtype=float32),\n array([0., 0., 1.], dtype=float32),\n array([0., 0., 1.], dtype=float32),\n array([0., 1., 0.], dtype=float32),\n array([0., 1., 0.], dtype=float32),\n array([0., 1., 0.], dtype=float32),\n array([1., 0., 0.], dtype=float32),\n array([0., 1., 0.], dtype=float32),\n array([0., 1., 0.], dtype=float32),\n array([0., 0., 1.], dtype=float32),\n array([1., 0., 0.], dtype=float32),\n array([0., 1., 0.], dtype=float32),\n array([0., 0., 1.], dtype=float32),\n array([0., 0., 1.], dtype=float32),\n array([0., 1., 0.], dtype=float32),\n array([0., 1., 0.], dtype=float32),\n array([0., 0., 1.], dtype=float32),\n array([0., 0., 1.], dtype=float32),\n array([0., 0., 1.], dtype=float32),\n array([1., 0., 0.], dtype=float32),\n array([0., 1., 0.], dtype=float32),\n array([0., 1., 0.], dtype=float32),\n array([0., 1., 0.], dtype=float32),\n array([0., 0., 1.], dtype=float32),\n array([1., 0., 0.], dtype=float32),\n array([0., 0., 1.], dtype=float32),\n array([0., 1., 0.], dtype=float32),\n array([0., 0., 1.], dtype=float32),\n array([0., 1., 0.], dtype=float32),\n array([0., 0., 1.], dtype=float32),\n array([0., 0., 1.], dtype=float32),\n array([0., 0., 1.], dtype=float32),\n array([0., 0., 1.], dtype=float32),\n array([0., 1., 0.], dtype=float32),\n array([0., 0., 1.], dtype=float32),\n array([0., 0., 1.], dtype=float32),\n array([0., 0., 1.], dtype=float32),\n array([0., 0., 1.], dtype=float32),\n array([0., 1., 0.], dtype=float32),\n array([0., 0., 1.], dtype=float32),\n array([0., 0., 1.], dtype=float32),\n array([0., 0., 1.], dtype=float32),\n array([0., 0., 1.], dtype=float32),\n array([0., 0., 1.], dtype=float32),\n array([0., 0., 1.], dtype=float32),\n array([0., 1., 0.], dtype=float32),\n array([0., 0., 1.], dtype=float32),\n array([1., 0., 0.], dtype=float32),\n array([0., 0., 1.], dtype=float32),\n array([0., 1., 0.], dtype=float32),\n array([0., 1., 0.], dtype=float32),\n array([0., 0., 1.], dtype=float32),\n array([0., 1., 0.], dtype=float32),\n array([0., 1., 0.], dtype=float32),\n array([0., 1., 0.], dtype=float32),\n array([0., 1., 0.], dtype=float32),\n array([0., 1., 0.], dtype=float32),\n array([0., 0., 1.], dtype=float32),\n array([1., 0., 0.], dtype=float32),\n array([0., 0., 1.], dtype=float32),\n array([1., 0., 0.], dtype=float32),\n array([0., 1., 0.], dtype=float32),\n array([0., 1., 0.], dtype=float32),\n array([0., 0., 1.], dtype=float32),\n array([0., 1., 0.], dtype=float32),\n array([0., 0., 1.], dtype=float32),\n array([0., 0., 1.], dtype=float32),\n array([1., 0., 0.], dtype=float32),\n array([1., 0., 0.], dtype=float32),\n array([0., 0., 1.], dtype=float32),\n array([0., 0., 1.], dtype=float32),\n array([0., 1., 0.], dtype=float32),\n array([0., 1., 0.], dtype=float32),\n array([0., 0., 1.], dtype=float32),\n array([0., 1., 0.], dtype=float32),\n array([0., 0., 1.], dtype=float32),\n array([1., 0., 0.], dtype=float32),\n array([0., 0., 1.], dtype=float32),\n array([0., 1., 0.], dtype=float32),\n array([0., 1., 0.], dtype=float32),\n array([0., 0., 1.], dtype=float32),\n array([0., 1., 0.], dtype=float32),\n array([0., 0., 1.], dtype=float32),\n array([0., 0., 1.], dtype=float32),\n array([0., 1., 0.], dtype=float32),\n array([0., 0., 1.], dtype=float32),\n array([0., 1., 0.], dtype=float32),\n array([0., 0., 1.], dtype=float32),\n array([0., 0., 1.], dtype=float32),\n array([0., 0., 1.], dtype=float32),\n array([0., 0., 1.], dtype=float32),\n array([0., 0., 1.], dtype=float32),\n array([0., 0., 1.], dtype=float32),\n array([0., 1., 0.], dtype=float32),\n array([1., 0., 0.], dtype=float32),\n array([0., 1., 0.], dtype=float32),\n array([0., 1., 0.], dtype=float32),\n array([0., 1., 0.], dtype=float32),\n array([1., 0., 0.], dtype=float32),\n array([0., 0., 1.], dtype=float32),\n array([0., 0., 1.], dtype=float32),\n array([0., 0., 1.], dtype=float32),\n array([0., 0., 1.], dtype=float32),\n array([0., 1., 0.], dtype=float32),\n array([1., 0., 0.], dtype=float32),\n array([0., 0., 1.], dtype=float32),\n array([0., 1., 0.], dtype=float32),\n array([0., 1., 0.], dtype=float32),\n array([0., 0., 1.], dtype=float32),\n array([0., 0., 1.], dtype=float32),\n array([0., 0., 1.], dtype=float32),\n array([0., 0., 1.], dtype=float32),\n array([0., 0., 1.], dtype=float32),\n array([0., 1., 0.], dtype=float32),\n array([1., 0., 0.], dtype=float32),\n array([0., 1., 0.], dtype=float32),\n array([0., 0., 1.], dtype=float32),\n array([0., 1., 0.], dtype=float32),\n array([0., 1., 0.], dtype=float32),\n array([0., 0., 1.], dtype=float32),\n array([0., 0., 1.], dtype=float32),\n array([0., 0., 1.], dtype=float32),\n array([0., 0., 1.], dtype=float32),\n array([1., 0., 0.], dtype=float32),\n array([0., 0., 1.], dtype=float32),\n array([0., 0., 1.], dtype=float32),\n array([0., 1., 0.], dtype=float32),\n array([0., 0., 1.], dtype=float32),\n array([0., 1., 0.], dtype=float32),\n array([0., 0., 1.], dtype=float32),\n array([0., 0., 1.], dtype=float32),\n array([0., 0., 1.], dtype=float32),\n array([0., 0., 1.], dtype=float32),\n array([0., 0., 1.], dtype=float32),\n array([0., 0., 1.], dtype=float32),\n array([0., 1., 0.], dtype=float32),\n array([0., 0., 1.], dtype=float32),\n array([0., 1., 0.], dtype=float32),\n array([0., 1., 0.], dtype=float32),\n array([0., 0., 1.], dtype=float32),\n array([0., 1., 0.], dtype=float32),\n array([0., 1., 0.], dtype=float32),\n array([0., 0., 1.], dtype=float32),\n array([0., 1., 0.], dtype=float32),\n array([1., 0., 0.], dtype=float32),\n array([1., 0., 0.], dtype=float32),\n array([0., 0., 1.], dtype=float32),\n array([0., 0., 1.], dtype=float32),\n array([0., 0., 1.], dtype=float32),\n array([0., 0., 1.], dtype=float32),\n array([0., 0., 1.], dtype=float32),\n array([0., 1., 0.], dtype=float32),\n array([0., 1., 0.], dtype=float32),\n array([0., 0., 1.], dtype=float32),\n array([0., 0., 1.], dtype=float32),\n array([0., 0., 1.], dtype=float32),\n array([0., 0., 1.], dtype=float32),\n array([0., 0., 1.], dtype=float32),\n array([0., 0., 1.], dtype=float32),\n array([1., 0., 0.], dtype=float32),\n array([0., 0., 1.], dtype=float32),\n array([0., 0., 1.], dtype=float32),\n array([0., 0., 1.], dtype=float32),\n array([0., 0., 1.], dtype=float32),\n array([0., 1., 0.], dtype=float32),\n array([0., 1., 0.], dtype=float32),\n array([0., 0., 1.], dtype=float32),\n array([0., 0., 1.], dtype=float32),\n array([0., 0., 1.], dtype=float32),\n array([0., 1., 0.], dtype=float32),\n array([0., 0., 1.], dtype=float32),\n array([0., 0., 1.], dtype=float32),\n array([0., 1., 0.], dtype=float32),\n array([0., 0., 1.], dtype=float32),\n array([0., 0., 1.], dtype=float32),\n array([0., 1., 0.], dtype=float32),\n array([0., 0., 1.], dtype=float32),\n array([0., 1., 0.], dtype=float32),\n array([0., 1., 0.], dtype=float32),\n array([0., 0., 1.], dtype=float32),\n array([0., 1., 0.], dtype=float32),\n array([0., 1., 0.], dtype=float32),\n array([0., 0., 1.], dtype=float32),\n array([0., 1., 0.], dtype=float32),\n array([0., 1., 0.], dtype=float32),\n array([0., 0., 1.], dtype=float32),\n array([0., 0., 1.], dtype=float32),\n array([0., 0., 1.], dtype=float32),\n array([0., 0., 1.], dtype=float32),\n array([0., 1., 0.], dtype=float32),\n array([0., 1., 0.], dtype=float32),\n array([0., 1., 0.], dtype=float32),\n array([0., 0., 1.], dtype=float32),\n array([0., 0., 1.], dtype=float32),\n array([1., 0., 0.], dtype=float32),\n array([0., 0., 1.], dtype=float32),\n array([0., 1., 0.], dtype=float32),\n array([0., 0., 1.], dtype=float32),\n array([1., 0., 0.], dtype=float32),\n array([0., 0., 1.], dtype=float32),\n array([0., 0., 1.], dtype=float32),\n array([0., 0., 1.], dtype=float32),\n array([0., 0., 1.], dtype=float32),\n array([0., 1., 0.], dtype=float32),\n array([0., 1., 0.], dtype=float32),\n array([0., 1., 0.], dtype=float32),\n array([0., 1., 0.], dtype=float32),\n array([0., 0., 1.], dtype=float32),\n array([1., 0., 0.], dtype=float32),\n array([0., 0., 1.], dtype=float32),\n array([0., 1., 0.], dtype=float32),\n array([0., 0., 1.], dtype=float32),\n array([0., 1., 0.], dtype=float32),\n array([0., 0., 1.], dtype=float32),\n array([1., 0., 0.], dtype=float32),\n array([0., 0., 1.], dtype=float32),\n array([1., 0., 0.], dtype=float32),\n array([0., 0., 1.], dtype=float32),\n array([0., 0., 1.], dtype=float32),\n array([1., 0., 0.], dtype=float32),\n array([0., 1., 0.], dtype=float32),\n ...)"
     },
     "execution_count": 264,
     "metadata": {},
     "output_type": "execute_result"
    }
   ],
   "source": [
    "y_train_sampled"
   ],
   "metadata": {
    "collapsed": false,
    "ExecuteTime": {
     "start_time": "2024-04-17T17:50:29.190196Z",
     "end_time": "2024-04-17T17:50:29.221771Z"
    }
   }
  },
  {
   "cell_type": "code",
   "execution_count": 197,
   "outputs": [
    {
     "data": {
      "text/plain": "25865"
     },
     "execution_count": 197,
     "metadata": {},
     "output_type": "execute_result"
    }
   ],
   "source": [
    "flat_list = [word for sublist in NE_list for word in sublist]\n",
    "len(flat_list)"
   ],
   "metadata": {
    "collapsed": false,
    "ExecuteTime": {
     "start_time": "2024-04-17T14:57:01.931347Z",
     "end_time": "2024-04-17T14:57:01.976076Z"
    }
   }
  },
  {
   "cell_type": "code",
   "execution_count": 198,
   "outputs": [
    {
     "name": "stdout",
     "output_type": "stream",
     "text": [
      "Number of word embeddings: 683\n"
     ]
    }
   ],
   "source": [
    "word_embeddings = create_word_label_embeddings(flat_list)"
   ],
   "metadata": {
    "collapsed": false,
    "ExecuteTime": {
     "start_time": "2024-04-17T14:57:01.944365Z",
     "end_time": "2024-04-17T14:57:02.148877Z"
    }
   }
  },
  {
   "cell_type": "code",
   "execution_count": 223,
   "outputs": [],
   "source": [
    "def NE_embeddings(NE_list, word_embeddings):\n",
    "    NE_list_embeddings = []\n",
    "    for i in range(len(NE_list)):\n",
    "        max_length = 7\n",
    "        words = NE_list[i]\n",
    "        words_embedding_list = []\n",
    "        for word in words:\n",
    "            if word in word_embeddings:\n",
    "                embedding_word = word_embeddings[word]\n",
    "                words_embedding_list.append(embedding_word)\n",
    "            else:\n",
    "                print(word)\n",
    "        #padding\n",
    "        if len(words_embedding_list) < max_length:\n",
    "            for i in range(max_length - len(words_embedding_list)):\n",
    "                words_embedding_list.append(np.zeros(50))\n",
    "        NE_list_embeddings.append(words_embedding_list)\n",
    "\n",
    "    return NE_list_embeddings"
   ],
   "metadata": {
    "collapsed": false,
    "ExecuteTime": {
     "start_time": "2024-04-17T15:01:55.418524Z",
     "end_time": "2024-04-17T15:01:55.443454Z"
    }
   }
  },
  {
   "cell_type": "code",
   "execution_count": 224,
   "outputs": [],
   "source": [
    "NE_list_embeddings = NE_embeddings(NE_list, word_embeddings)"
   ],
   "metadata": {
    "collapsed": false,
    "ExecuteTime": {
     "start_time": "2024-04-17T15:01:55.603002Z",
     "end_time": "2024-04-17T15:01:55.746294Z"
    }
   }
  },
  {
   "cell_type": "code",
   "execution_count": 211,
   "outputs": [],
   "source": [],
   "metadata": {
    "collapsed": false,
    "ExecuteTime": {
     "start_time": "2024-04-17T14:58:26.550767Z",
     "end_time": "2024-04-17T14:58:26.566408Z"
    }
   }
  },
  {
   "cell_type": "code",
   "execution_count": 146,
   "outputs": [
    {
     "data": {
      "text/plain": "21875"
     },
     "execution_count": 146,
     "metadata": {},
     "output_type": "execute_result"
    }
   ],
   "source": [
    "len(X_train_numpy)"
   ],
   "metadata": {
    "collapsed": false,
    "ExecuteTime": {
     "start_time": "2024-04-17T13:16:09.465886Z",
     "end_time": "2024-04-17T13:16:09.560209Z"
    }
   }
  },
  {
   "cell_type": "code",
   "execution_count": 167,
   "outputs": [
    {
     "data": {
      "text/plain": "21875"
     },
     "execution_count": 167,
     "metadata": {},
     "output_type": "execute_result"
    }
   ],
   "source": [
    "len(NE_list)"
   ],
   "metadata": {
    "collapsed": false,
    "ExecuteTime": {
     "start_time": "2024-04-17T14:42:57.251676Z",
     "end_time": "2024-04-17T14:42:57.283442Z"
    }
   }
  },
  {
   "cell_type": "code",
   "execution_count": 170,
   "outputs": [],
   "source": [],
   "metadata": {
    "collapsed": false,
    "ExecuteTime": {
     "start_time": "2024-04-17T14:44:04.815369Z",
     "end_time": "2024-04-17T14:44:04.832247Z"
    }
   }
  },
  {
   "cell_type": "code",
   "execution_count": 169,
   "outputs": [
    {
     "ename": "ValueError",
     "evalue": "setting an array element with a sequence. The requested array has an inhomogeneous shape after 1 dimensions. The detected shape was (21875,) + inhomogeneous part.",
     "output_type": "error",
     "traceback": [
      "\u001B[1;31m---------------------------------------------------------------------------\u001B[0m",
      "\u001B[1;31mValueError\u001B[0m                                Traceback (most recent call last)",
      "Cell \u001B[1;32mIn[169], line 1\u001B[0m\n\u001B[1;32m----> 1\u001B[0m NE_list \u001B[38;5;241m=\u001B[39m \u001B[43mnp\u001B[49m\u001B[38;5;241;43m.\u001B[39;49m\u001B[43marray\u001B[49m\u001B[43m(\u001B[49m\u001B[43mNE_list\u001B[49m\u001B[43m)\u001B[49m\n",
      "\u001B[1;31mValueError\u001B[0m: setting an array element with a sequence. The requested array has an inhomogeneous shape after 1 dimensions. The detected shape was (21875,) + inhomogeneous part."
     ]
    }
   ],
   "source": [
    "NE_list = np.array(NE_list)"
   ],
   "metadata": {
    "collapsed": false
   }
  },
  {
   "cell_type": "code",
   "execution_count": 147,
   "outputs": [
    {
     "name": "stdout",
     "output_type": "stream",
     "text": [
      "(21875, 7, 840)\n",
      "(21875, 3)\n"
     ]
    }
   ],
   "source": [
    "print(X_train_numpy.shape)\n",
    "print(y_train_categorical.shape)"
   ],
   "metadata": {
    "collapsed": false,
    "ExecuteTime": {
     "start_time": "2024-04-17T13:16:10.798925Z",
     "end_time": "2024-04-17T13:16:10.845199Z"
    }
   }
  },
  {
   "cell_type": "markdown",
   "source": [
    "BLSTM pytorch implementation"
   ],
   "metadata": {
    "collapsed": false
   }
  },
  {
   "cell_type": "code",
   "execution_count": 225,
   "outputs": [],
   "source": [
    "import torch\n",
    "from torch.utils.data import DataLoader, TensorDataset\n",
    "\n",
    "\n",
    "associated_words_tensor = torch.tensor(NE_list_embeddings, dtype=torch.float32)"
   ],
   "metadata": {
    "collapsed": false,
    "ExecuteTime": {
     "start_time": "2024-04-17T15:02:08.813224Z",
     "end_time": "2024-04-17T15:02:09.796589Z"
    }
   }
  },
  {
   "cell_type": "code",
   "execution_count": 226,
   "outputs": [],
   "source": [
    "\n",
    "\n",
    "# Assuming x_train and y_train are your input data and target labels, respectively\n",
    "\n",
    "# Convert numpy arrays to PyTorch tensors\n",
    "x_train_tensor = torch.tensor(X_train_numpy, dtype=torch.float32)\n",
    "y_train_tensor = torch.tensor(y_train_categorical, dtype=torch.float32)  # Assuming your labels are integers\n",
    "\n",
    "# Create a custom dataset\n",
    "train_dataset = TensorDataset(x_train_tensor, y_train_tensor, associated_words_tensor)\n",
    "\n",
    "# Define batch size\n",
    "batch_size = 32  # Adjust according to your preference\n",
    "\n",
    "# Create the train loader\n",
    "train_loader = DataLoader(dataset=train_dataset, batch_size=batch_size, shuffle=True)"
   ],
   "metadata": {
    "collapsed": false,
    "ExecuteTime": {
     "start_time": "2024-04-17T15:02:14.307850Z",
     "end_time": "2024-04-17T15:02:14.539747Z"
    }
   }
  },
  {
   "cell_type": "code",
   "execution_count": 148,
   "outputs": [],
   "source": [],
   "metadata": {
    "collapsed": false,
    "ExecuteTime": {
     "start_time": "2024-04-17T13:17:46.249270Z",
     "end_time": "2024-04-17T13:17:46.273372Z"
    }
   }
  },
  {
   "cell_type": "code",
   "execution_count": 149,
   "outputs": [],
   "source": [
    "import torch\n",
    "import torch.nn as nn\n",
    "import torch.optim as optim\n",
    "import numpy as np"
   ],
   "metadata": {
    "collapsed": false,
    "ExecuteTime": {
     "start_time": "2024-04-17T13:17:46.486358Z",
     "end_time": "2024-04-17T13:17:46.513048Z"
    }
   }
  },
  {
   "cell_type": "code",
   "execution_count": 150,
   "outputs": [],
   "source": [
    "# Device configuration\n",
    "device = torch.device('cuda' if torch.cuda.is_available() else 'cpu')"
   ],
   "metadata": {
    "collapsed": false,
    "ExecuteTime": {
     "start_time": "2024-04-17T13:17:46.617699Z",
     "end_time": "2024-04-17T13:17:46.651610Z"
    }
   }
  },
  {
   "cell_type": "code",
   "execution_count": 151,
   "outputs": [],
   "source": [
    "# Define the BLSTM classifier model\n",
    "class BLSTMClassifier(nn.Module):\n",
    "    def __init__(self, input_size, hidden_size, num_layers, num_classes, dropout=0.2):\n",
    "        super(BLSTMClassifier, self).__init__()\n",
    "        self.hidden_size = hidden_size\n",
    "        self.num_layers = num_layers\n",
    "        self.lstm = nn.LSTM(input_size, hidden_size, num_layers, batch_first=True, bidirectional=True)\n",
    "        self.fc = nn.Linear(hidden_size * 2, num_classes)  # *2 for bidirectional\n",
    "\n",
    "        self.dropout = nn.Dropout(dropout)\n",
    "\n",
    "    def forward(self, x):\n",
    "        h0 = torch.zeros(self.num_layers * 2, x.size(0), self.hidden_size).to(x.device)  # *2 for bidirectional\n",
    "        c0 = torch.zeros(self.num_layers * 2, x.size(0), self.hidden_size).to(x.device)\n",
    "\n",
    "        out, _ = self.lstm(x, (h0, c0))\n",
    "        out = self.dropout(out)\n",
    "        out = self.fc(out[:, -1, :])\n",
    "        return out"
   ],
   "metadata": {
    "collapsed": false,
    "ExecuteTime": {
     "start_time": "2024-04-17T13:17:47.036830Z",
     "end_time": "2024-04-17T13:17:47.087021Z"
    }
   }
  },
  {
   "cell_type": "code",
   "execution_count": 152,
   "outputs": [],
   "source": [
    "# Define model parameters\n",
    "input_size = 840\n",
    "hidden_size = 64\n",
    "num_layers = 2\n",
    "num_classes = 3"
   ],
   "metadata": {
    "collapsed": false,
    "ExecuteTime": {
     "start_time": "2024-04-17T13:17:47.622302Z",
     "end_time": "2024-04-17T13:17:47.674395Z"
    }
   }
  },
  {
   "cell_type": "code",
   "execution_count": 153,
   "outputs": [],
   "source": [
    "\n",
    "# Instantiate the model\n",
    "model = BLSTMClassifier(input_size, hidden_size, num_layers, num_classes)\n",
    "model.to(device)\n",
    "# Define loss function and optimizer\n",
    "criterion = nn.CrossEntropyLoss()\n",
    "optimizer = optim.Adam(model.parameters(), lr=0.001)"
   ],
   "metadata": {
    "collapsed": false,
    "ExecuteTime": {
     "start_time": "2024-04-17T13:17:47.980480Z",
     "end_time": "2024-04-17T13:17:47.999692Z"
    }
   }
  },
  {
   "cell_type": "code",
   "execution_count": 254,
   "outputs": [],
   "source": [
    "num_epochs = 10"
   ],
   "metadata": {
    "collapsed": false,
    "ExecuteTime": {
     "start_time": "2024-04-17T17:41:47.851847Z",
     "end_time": "2024-04-17T17:41:47.878686Z"
    }
   }
  },
  {
   "cell_type": "code",
   "execution_count": 254,
   "outputs": [],
   "source": [],
   "metadata": {
    "collapsed": false,
    "ExecuteTime": {
     "start_time": "2024-04-17T17:41:48.130723Z",
     "end_time": "2024-04-17T17:41:48.131440Z"
    }
   }
  },
  {
   "cell_type": "code",
   "execution_count": 155,
   "outputs": [
    {
     "name": "stdout",
     "output_type": "stream",
     "text": [
      "Epoch [1/10], Loss: 0.9415\n"
     ]
    },
    {
     "ename": "KeyboardInterrupt",
     "evalue": "",
     "output_type": "error",
     "traceback": [
      "\u001B[1;31m---------------------------------------------------------------------------\u001B[0m",
      "\u001B[1;31mKeyboardInterrupt\u001B[0m                         Traceback (most recent call last)",
      "Cell \u001B[1;32mIn[155], line 17\u001B[0m\n\u001B[0;32m     14\u001B[0m _, predicted \u001B[38;5;241m=\u001B[39m torch\u001B[38;5;241m.\u001B[39mmax(outputs, \u001B[38;5;241m1\u001B[39m)\n\u001B[0;32m     16\u001B[0m loss \u001B[38;5;241m=\u001B[39m criterion(outputs, batch_y\u001B[38;5;241m.\u001B[39msqueeze())  \u001B[38;5;66;03m# Ensure target tensor is Long type\u001B[39;00m\n\u001B[1;32m---> 17\u001B[0m \u001B[43mloss\u001B[49m\u001B[38;5;241;43m.\u001B[39;49m\u001B[43mbackward\u001B[49m\u001B[43m(\u001B[49m\u001B[43m)\u001B[49m\n\u001B[0;32m     18\u001B[0m optimizer\u001B[38;5;241m.\u001B[39mstep()\n\u001B[0;32m     20\u001B[0m total_loss \u001B[38;5;241m+\u001B[39m\u001B[38;5;241m=\u001B[39m loss\u001B[38;5;241m.\u001B[39mitem()\n",
      "File \u001B[1;32m~\\Anaconda3\\lib\\site-packages\\torch\\_tensor.py:487\u001B[0m, in \u001B[0;36mTensor.backward\u001B[1;34m(self, gradient, retain_graph, create_graph, inputs)\u001B[0m\n\u001B[0;32m    477\u001B[0m \u001B[38;5;28;01mif\u001B[39;00m has_torch_function_unary(\u001B[38;5;28mself\u001B[39m):\n\u001B[0;32m    478\u001B[0m     \u001B[38;5;28;01mreturn\u001B[39;00m handle_torch_function(\n\u001B[0;32m    479\u001B[0m         Tensor\u001B[38;5;241m.\u001B[39mbackward,\n\u001B[0;32m    480\u001B[0m         (\u001B[38;5;28mself\u001B[39m,),\n\u001B[1;32m   (...)\u001B[0m\n\u001B[0;32m    485\u001B[0m         inputs\u001B[38;5;241m=\u001B[39minputs,\n\u001B[0;32m    486\u001B[0m     )\n\u001B[1;32m--> 487\u001B[0m \u001B[43mtorch\u001B[49m\u001B[38;5;241;43m.\u001B[39;49m\u001B[43mautograd\u001B[49m\u001B[38;5;241;43m.\u001B[39;49m\u001B[43mbackward\u001B[49m\u001B[43m(\u001B[49m\n\u001B[0;32m    488\u001B[0m \u001B[43m    \u001B[49m\u001B[38;5;28;43mself\u001B[39;49m\u001B[43m,\u001B[49m\u001B[43m \u001B[49m\u001B[43mgradient\u001B[49m\u001B[43m,\u001B[49m\u001B[43m \u001B[49m\u001B[43mretain_graph\u001B[49m\u001B[43m,\u001B[49m\u001B[43m \u001B[49m\u001B[43mcreate_graph\u001B[49m\u001B[43m,\u001B[49m\u001B[43m \u001B[49m\u001B[43minputs\u001B[49m\u001B[38;5;241;43m=\u001B[39;49m\u001B[43minputs\u001B[49m\n\u001B[0;32m    489\u001B[0m \u001B[43m\u001B[49m\u001B[43m)\u001B[49m\n",
      "File \u001B[1;32m~\\Anaconda3\\lib\\site-packages\\torch\\autograd\\__init__.py:200\u001B[0m, in \u001B[0;36mbackward\u001B[1;34m(tensors, grad_tensors, retain_graph, create_graph, grad_variables, inputs)\u001B[0m\n\u001B[0;32m    195\u001B[0m     retain_graph \u001B[38;5;241m=\u001B[39m create_graph\n\u001B[0;32m    197\u001B[0m \u001B[38;5;66;03m# The reason we repeat same the comment below is that\u001B[39;00m\n\u001B[0;32m    198\u001B[0m \u001B[38;5;66;03m# some Python versions print out the first line of a multi-line function\u001B[39;00m\n\u001B[0;32m    199\u001B[0m \u001B[38;5;66;03m# calls in the traceback and some print out the last line\u001B[39;00m\n\u001B[1;32m--> 200\u001B[0m \u001B[43mVariable\u001B[49m\u001B[38;5;241;43m.\u001B[39;49m\u001B[43m_execution_engine\u001B[49m\u001B[38;5;241;43m.\u001B[39;49m\u001B[43mrun_backward\u001B[49m\u001B[43m(\u001B[49m\u001B[43m  \u001B[49m\u001B[38;5;66;43;03m# Calls into the C++ engine to run the backward pass\u001B[39;49;00m\n\u001B[0;32m    201\u001B[0m \u001B[43m    \u001B[49m\u001B[43mtensors\u001B[49m\u001B[43m,\u001B[49m\u001B[43m \u001B[49m\u001B[43mgrad_tensors_\u001B[49m\u001B[43m,\u001B[49m\u001B[43m \u001B[49m\u001B[43mretain_graph\u001B[49m\u001B[43m,\u001B[49m\u001B[43m \u001B[49m\u001B[43mcreate_graph\u001B[49m\u001B[43m,\u001B[49m\u001B[43m \u001B[49m\u001B[43minputs\u001B[49m\u001B[43m,\u001B[49m\n\u001B[0;32m    202\u001B[0m \u001B[43m    \u001B[49m\u001B[43mallow_unreachable\u001B[49m\u001B[38;5;241;43m=\u001B[39;49m\u001B[38;5;28;43;01mTrue\u001B[39;49;00m\u001B[43m,\u001B[49m\u001B[43m \u001B[49m\u001B[43maccumulate_grad\u001B[49m\u001B[38;5;241;43m=\u001B[39;49m\u001B[38;5;28;43;01mTrue\u001B[39;49;00m\u001B[43m)\u001B[49m\n",
      "\u001B[1;31mKeyboardInterrupt\u001B[0m: "
     ]
    }
   ],
   "source": [
    "for epoch in range(num_epochs):\n",
    "    model.train()\n",
    "    total_loss = 0\n",
    "\n",
    "    for batch_x, batch_y in train_loader:\n",
    "        batch_x, batch_y = batch_x.to(device), batch_y.to(device)\n",
    "\n",
    "\n",
    "        optimizer.zero_grad()\n",
    "\n",
    "        outputs = model(batch_x)\n",
    "\n",
    "        # Convert class probabilities to class indices\n",
    "        _, predicted = torch.max(outputs, 1)\n",
    "\n",
    "        loss = criterion(outputs, batch_y.squeeze())  # Ensure target tensor is Long type\n",
    "        loss.backward()\n",
    "        optimizer.step()\n",
    "\n",
    "        total_loss += loss.item()\n",
    "\n",
    "    avg_loss = total_loss / len(train_loader)\n",
    "    print(f'Epoch [{epoch+1}/{num_epochs}], Loss: {avg_loss:.4f}')\n"
   ],
   "metadata": {
    "collapsed": false
   }
  },
  {
   "cell_type": "code",
   "execution_count": null,
   "outputs": [],
   "source": [
    "# Save the trained model\n",
    "torch.save(model.state_dict(), 'blstm_model.pth')\n",
    "\n",
    "# Load the saved model\n",
    "loaded_model = BLSTMClassifier(input_size, hidden_size, num_layers, num_classes)\n",
    "loaded_model.load_state_dict(torch.load('blstm_model.pth'))\n",
    "loaded_model.eval()  # Switch to evaluation mode\n",
    "\n",
    "# Evaluate the model\n",
    "with torch.no_grad():\n",
    "    correct = 0\n",
    "    total = 0\n",
    "    for batch_x, batch_y in test_loader:  # Assuming you have a test DataLoader\n",
    "        batch_x, batch_y = batch_x.to(device), batch_y.to(device)\n",
    "        batch_x = batch_x.squeeze(3)\n",
    "        outputs = loaded_model(batch_x)\n",
    "        _, predicted = torch.max(outputs.data, 1)\n",
    "        total += batch_y.size(0)\n",
    "        correct += (predicted == batch_y).sum().item()\n",
    "\n",
    "    print('Accuracy of the model on the test set: {}%'.format(100 * correct / total))"
   ],
   "metadata": {
    "collapsed": false
   }
  }
 ],
 "metadata": {
  "kernelspec": {
   "display_name": "Python 3",
   "language": "python",
   "name": "python3"
  },
  "language_info": {
   "codemirror_mode": {
    "name": "ipython",
    "version": 2
   },
   "file_extension": ".py",
   "mimetype": "text/x-python",
   "name": "python",
   "nbconvert_exporter": "python",
   "pygments_lexer": "ipython2",
   "version": "2.7.6"
  }
 },
 "nbformat": 4,
 "nbformat_minor": 0
}
