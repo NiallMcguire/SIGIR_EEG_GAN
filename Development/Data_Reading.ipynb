{
 "cells": [
  {
   "cell_type": "code",
   "execution_count": 1,
   "metadata": {
    "collapsed": true,
    "ExecuteTime": {
     "start_time": "2023-10-13T14:53:20.637843Z",
     "end_time": "2023-10-13T14:53:30.318272Z"
    }
   },
   "outputs": [],
   "source": [
    "import numpy as np\n",
    "import pandas as pd\n",
    "from Preprocessing import *\n",
    "import torch.nn as nn\n",
    "import torch"
   ]
  },
  {
   "cell_type": "code",
   "execution_count": 2,
   "outputs": [],
   "source": [
    "def data_structure(raw):\n",
    "    sampling_freq = raw.info['sfreq']\n",
    "    start_end_secs = np.array([0,4850]) # Fro this dataset data start at 0.000 and end at 4840.166 secs\n",
    "    start_sample, stop_sample = (start_end_secs * sampling_freq).astype(int)\n",
    "    df = raw.to_data_frame(picks=['all'], start=start_sample, stop=stop_sample)\n",
    "    # then save using df.to_csv(...), df.to_hdf(...), etc\n",
    "\n",
    "    df = df.drop(['time', \"STI 014\"], axis=1)\n",
    "    return df"
   ],
   "metadata": {
    "collapsed": false,
    "ExecuteTime": {
     "start_time": "2023-10-13T14:53:30.320752Z",
     "end_time": "2023-10-13T14:53:30.323232Z"
    }
   }
  },
  {
   "cell_type": "code",
   "execution_count": 3,
   "outputs": [],
   "source": [
    "def create_rolling_window(data, window_size=5):\n",
    "    \"\"\"\n",
    "    This function creates a rolling window of a given size from a data frame.\n",
    "    It assigns the majority label to the window.\n",
    "\n",
    "    Creator : Niall\n",
    "\n",
    "    Args:\n",
    "        data: Dataframe to be windowed\n",
    "        window_size: The size of the window to be created\n",
    "\n",
    "    Returns:\n",
    "        windows: A list of dataframes containing the windows\n",
    "        labels: A list of labels corresponding to the windows\n",
    "\n",
    "    \"\"\"\n",
    "\n",
    "    windows = []\n",
    "    labels = []\n",
    "    data = data.to_numpy()\n",
    "    for i in range(len(data) - window_size + 1):\n",
    "        window_data = data[i:i + window_size]\n",
    "        label = window_data[:, -1][0]  # Assign majority label\n",
    "        labels.append(label)\n",
    "        window_data = window_data[:, :-1]\n",
    "        windows.append(window_data)\n",
    "\n",
    "    return windows, labels"
   ],
   "metadata": {
    "collapsed": false,
    "ExecuteTime": {
     "start_time": "2023-10-13T14:53:30.323232Z",
     "end_time": "2023-10-13T14:53:30.394656Z"
    }
   }
  },
  {
   "cell_type": "code",
   "execution_count": 10,
   "outputs": [],
   "source": [
    "from torch.utils.data import Dataset\n",
    "\n",
    "class CustomDataset(Dataset):\n",
    "    def __init__(self, data):\n",
    "        self.data = data\n",
    "\n",
    "    def __len__(self):\n",
    "        return len(self.data)\n",
    "\n",
    "    def __getitem__(self, index):\n",
    "        sample = self.data[index]\n",
    "        return sample"
   ],
   "metadata": {
    "collapsed": false,
    "ExecuteTime": {
     "start_time": "2023-10-13T14:56:28.214583Z",
     "end_time": "2023-10-13T14:56:28.221527Z"
    }
   }
  },
  {
   "cell_type": "code",
   "execution_count": 4,
   "outputs": [
    {
     "name": "stdout",
     "output_type": "stream",
     "text": [
      "Opening raw data file C:\\Users\\niall\\Desktop\\PhD\\OpenMIIR-RawEEG_v1\\P04-raw.fif...\n",
      "Isotrak not found\n",
      "    Read a total of 1 projection items:\n",
      "        Average EEG reference (1 x 64)  idle\n",
      "    Range : 0 ... 2480032 =      0.000 ...  4843.812 secs\n",
      "Ready.\n"
     ]
    }
   ],
   "source": [
    "raw = import_data(r\"C:\\Users\\niall\\Desktop\\PhD\\OpenMIIR-RawEEG_v1\\P04-raw.fif\")"
   ],
   "metadata": {
    "collapsed": false,
    "ExecuteTime": {
     "start_time": "2023-10-13T14:53:30.393168Z",
     "end_time": "2023-10-13T14:53:30.991840Z"
    }
   }
  },
  {
   "cell_type": "code",
   "execution_count": 5,
   "outputs": [],
   "source": [
    "df = data_structure(raw)"
   ],
   "metadata": {
    "collapsed": false,
    "ExecuteTime": {
     "start_time": "2023-10-13T14:53:30.991840Z",
     "end_time": "2023-10-13T14:53:39.301822Z"
    }
   }
  },
  {
   "cell_type": "code",
   "execution_count": 6,
   "outputs": [],
   "source": [
    "windows, labels = create_rolling_window(df, window_size=5)"
   ],
   "metadata": {
    "collapsed": false,
    "ExecuteTime": {
     "start_time": "2023-10-13T14:53:39.302318Z",
     "end_time": "2023-10-13T14:53:41.298221Z"
    }
   }
  },
  {
   "cell_type": "code",
   "execution_count": 7,
   "outputs": [],
   "source": [
    "data_list = windows[:200]  # Replace with your actual data\n",
    "\n",
    "# Convert the list of arrays to PyTorch tensors\n",
    "data_tensors = [torch.Tensor(array) for array in data_list]\n",
    "\n",
    "# Stack the tensors to create a 3D tensor (200x5x67)\n",
    "data_tensor = torch.stack(data_tensors, dim=0)"
   ],
   "metadata": {
    "collapsed": false,
    "ExecuteTime": {
     "start_time": "2023-10-13T14:53:41.298221Z",
     "end_time": "2023-10-13T14:53:41.575981Z"
    }
   }
  },
  {
   "cell_type": "code",
   "execution_count": 11,
   "outputs": [],
   "source": [
    "from torch.utils.data import DataLoader\n",
    "\n",
    "batch_size = 32  # Set your desired batch size\n",
    "shuffle = True   # You can set this to True if you want to shuffle the data\n",
    "\n",
    "dataset = CustomDataset(data_tensor)\n",
    "dataloader = DataLoader(dataset, batch_size=batch_size, shuffle=shuffle)\n"
   ],
   "metadata": {
    "collapsed": false,
    "ExecuteTime": {
     "start_time": "2023-10-13T14:56:36.534485Z",
     "end_time": "2023-10-13T14:56:36.545893Z"
    }
   }
  },
  {
   "cell_type": "code",
   "execution_count": 13,
   "outputs": [
    {
     "name": "stdout",
     "output_type": "stream",
     "text": [
      "torch.Size([32, 5, 67])\n",
      "torch.Size([32, 5, 67])\n",
      "torch.Size([32, 5, 67])\n",
      "torch.Size([32, 5, 67])\n",
      "torch.Size([32, 5, 67])\n",
      "torch.Size([32, 5, 67])\n",
      "torch.Size([8, 5, 67])\n"
     ]
    }
   ],
   "source": [
    "for batch in dataloader:\n",
    "    print(batch.shape)\n",
    "    # Do stuff with the batch"
   ],
   "metadata": {
    "collapsed": false,
    "ExecuteTime": {
     "start_time": "2023-10-13T14:56:50.242930Z",
     "end_time": "2023-10-13T14:56:50.272194Z"
    }
   }
  },
  {
   "cell_type": "code",
   "execution_count": 23,
   "outputs": [],
   "source": [],
   "metadata": {
    "collapsed": false,
    "ExecuteTime": {
     "start_time": "2023-10-13T14:58:31.194282Z",
     "end_time": "2023-10-13T14:58:31.206186Z"
    }
   }
  },
  {
   "cell_type": "code",
   "execution_count": 15,
   "outputs": [],
   "source": [
    "def make_discriminator_network(\n",
    "        input_size,\n",
    "        num_hidden_layers=1,\n",
    "        num_hidden_units=100,\n",
    "        num_output_units=1\n",
    "):\n",
    "    model = nn.Sequential()\n",
    "    for i in range(num_hidden_layers):\n",
    "        model.add_module(\n",
    "            f'fc_d{i}',\n",
    "            nn.Linear(input_size, num_hidden_units, bias=False)\n",
    "        )\n",
    "        model.add_module(f'relu_d{i}', nn.LeakyReLU())\n",
    "        model.add_module('dropout', nn.Dropout(p=0.5))\n",
    "        input_size = num_hidden_units\n",
    "    model.add_module(f'fc_d{num_hidden_layers}',\n",
    "                     nn.Linear(input_size, num_output_units))\n",
    "    model.add_module('sigmoid', nn.Sigmoid())\n",
    "    return model"
   ],
   "metadata": {
    "collapsed": false,
    "ExecuteTime": {
     "start_time": "2023-10-13T14:57:06.154111Z",
     "end_time": "2023-10-13T14:57:06.160558Z"
    }
   }
  },
  {
   "cell_type": "code",
   "execution_count": 32,
   "outputs": [],
   "source": [
    "disc_model = make_discriminator_network(\n",
    "    input_size=335,\n",
    "    num_hidden_layers=1,\n",
    "    num_hidden_units=100\n",
    ")"
   ],
   "metadata": {
    "collapsed": false,
    "ExecuteTime": {
     "start_time": "2023-10-13T14:59:32.508300Z",
     "end_time": "2023-10-13T14:59:32.515740Z"
    }
   }
  },
  {
   "cell_type": "code",
   "execution_count": 33,
   "outputs": [
    {
     "name": "stdout",
     "output_type": "stream",
     "text": [
      "Sequential(\n",
      "  (fc_d0): Linear(in_features=335, out_features=100, bias=False)\n",
      "  (relu_d0): LeakyReLU(negative_slope=0.01)\n",
      "  (dropout): Dropout(p=0.5, inplace=False)\n",
      "  (fc_d1): Linear(in_features=100, out_features=1, bias=True)\n",
      "  (sigmoid): Sigmoid()\n",
      ")\n"
     ]
    }
   ],
   "source": [
    "print(disc_model)"
   ],
   "metadata": {
    "collapsed": false,
    "ExecuteTime": {
     "start_time": "2023-10-13T14:59:33.021164Z",
     "end_time": "2023-10-13T14:59:33.023644Z"
    }
   }
  },
  {
   "cell_type": "code",
   "execution_count": 34,
   "outputs": [],
   "source": [
    "input_real = next(iter(dataloader))\n",
    "input_real = input_real.view(batch_size, -1)"
   ],
   "metadata": {
    "collapsed": false,
    "ExecuteTime": {
     "start_time": "2023-10-13T14:59:33.561308Z",
     "end_time": "2023-10-13T14:59:33.572220Z"
    }
   }
  },
  {
   "cell_type": "code",
   "execution_count": 35,
   "outputs": [],
   "source": [
    "d_proba_real = disc_model(input_real)"
   ],
   "metadata": {
    "collapsed": false,
    "ExecuteTime": {
     "start_time": "2023-10-13T14:59:33.569740Z",
     "end_time": "2023-10-13T14:59:33.576188Z"
    }
   }
  },
  {
   "cell_type": "code",
   "execution_count": 37,
   "outputs": [
    {
     "data": {
      "text/plain": "torch.Size([32, 1])"
     },
     "execution_count": 37,
     "metadata": {},
     "output_type": "execute_result"
    }
   ],
   "source": [
    "d_proba_real.shape"
   ],
   "metadata": {
    "collapsed": false,
    "ExecuteTime": {
     "start_time": "2023-10-13T15:00:04.507733Z",
     "end_time": "2023-10-13T15:00:04.513189Z"
    }
   }
  },
  {
   "cell_type": "code",
   "execution_count": null,
   "outputs": [],
   "source": [],
   "metadata": {
    "collapsed": false
   }
  }
 ],
 "metadata": {
  "kernelspec": {
   "display_name": "Python 3",
   "language": "python",
   "name": "python3"
  },
  "language_info": {
   "codemirror_mode": {
    "name": "ipython",
    "version": 2
   },
   "file_extension": ".py",
   "mimetype": "text/x-python",
   "name": "python",
   "nbconvert_exporter": "python",
   "pygments_lexer": "ipython2",
   "version": "2.7.6"
  }
 },
 "nbformat": 4,
 "nbformat_minor": 0
}
