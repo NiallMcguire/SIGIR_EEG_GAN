{
 "cells": [
  {
   "cell_type": "code",
   "execution_count": 12,
   "metadata": {
    "collapsed": true,
    "ExecuteTime": {
     "start_time": "2023-10-18T19:31:40.151881Z",
     "end_time": "2023-10-18T19:31:41.464297Z"
    }
   },
   "outputs": [
    {
     "name": "stdout",
     "output_type": "stream",
     "text": [
      "FID Score: -0.00-0.00j\n"
     ]
    }
   ],
   "source": [
    "import torch\n",
    "from torchvision import datasets, transforms\n",
    "import numpy as np\n",
    "from scipy.linalg import sqrtm\n",
    "\n",
    "# Helper function to calculate FID score\n",
    "def calculate_fid_score(images_real, images_fake, batch_size=64):\n",
    "    mu_real = np.mean(images_real, axis=0)\n",
    "    sigma_real = np.cov(images_real, rowvar=False)\n",
    "\n",
    "    mu_fake = np.mean(images_fake, axis=0)\n",
    "    sigma_fake = np.cov(images_fake, rowvar=False)\n",
    "\n",
    "    # Calculate the square root of the product of covariances\n",
    "    cov_sqrt_real_fake = sqrtm(sigma_real @ sigma_fake)\n",
    "\n",
    "    # Calculate the FID score\n",
    "    fid = np.linalg.norm(mu_real - mu_fake) + np.trace(sigma_real + sigma_fake - 2 * cov_sqrt_real_fake)\n",
    "    return fid\n",
    "\n",
    "# Download and load MNIST dataset\n",
    "transform = transforms.Compose([transforms.ToTensor()])\n",
    "mnist_dataset = datasets.MNIST('./data', train=True, download=True, transform=transform)\n",
    "dataloader = torch.utils.data.DataLoader(mnist_dataset, batch_size=64, shuffle=True)\n",
    "\n",
    "# Generate a reference dataset (e.g., using a GAN or any other method)\n",
    "# Here, we'll just use random noise as an example.\n",
    "fake_images = np.random.rand(len(mnist_dataset), 28 * 28)\n",
    "\n",
    "# Flatten the real images before computing FID\n",
    "real_images_flattened = mnist_dataset.data.numpy().reshape(len(mnist_dataset), -1)\n",
    "\n",
    "# Calculate FID score\n",
    "fid_score = calculate_fid_score(real_images_flattened, real_images_flattened)\n",
    "print(f'FID Score: {fid_score:.2f}')\n"
   ]
  },
  {
   "cell_type": "code",
   "execution_count": 9,
   "outputs": [],
   "source": [],
   "metadata": {
    "collapsed": false,
    "ExecuteTime": {
     "start_time": "2023-10-18T19:30:41.607032Z",
     "end_time": "2023-10-18T19:30:41.614471Z"
    }
   }
  },
  {
   "cell_type": "code",
   "execution_count": 6,
   "outputs": [],
   "source": [],
   "metadata": {
    "collapsed": false,
    "ExecuteTime": {
     "start_time": "2023-10-18T19:25:37.064590Z",
     "end_time": "2023-10-18T19:25:37.072525Z"
    }
   }
  },
  {
   "cell_type": "code",
   "execution_count": null,
   "outputs": [],
   "source": [],
   "metadata": {
    "collapsed": false
   }
  }
 ],
 "metadata": {
  "kernelspec": {
   "display_name": "Python 3",
   "language": "python",
   "name": "python3"
  },
  "language_info": {
   "codemirror_mode": {
    "name": "ipython",
    "version": 2
   },
   "file_extension": ".py",
   "mimetype": "text/x-python",
   "name": "python",
   "nbconvert_exporter": "python",
   "pygments_lexer": "ipython2",
   "version": "2.7.6"
  }
 },
 "nbformat": 4,
 "nbformat_minor": 0
}
