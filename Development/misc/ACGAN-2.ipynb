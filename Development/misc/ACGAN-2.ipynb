{
 "cells": [
  {
   "cell_type": "code",
   "execution_count": 1,
   "metadata": {
    "collapsed": true,
    "ExecuteTime": {
     "start_time": "2024-03-14T13:23:19.261968Z",
     "end_time": "2024-03-14T13:23:27.442806Z"
    }
   },
   "outputs": [
    {
     "name": "stderr",
     "output_type": "stream",
     "text": [
      "[nltk_data] Downloading package punkt to\n",
      "[nltk_data]     C:\\Users\\gxb18167\\AppData\\Roaming\\nltk_data...\n",
      "[nltk_data]   Package punkt is already up-to-date!\n"
     ]
    }
   ],
   "source": [
    "import sys\n",
    "import nltk\n",
    "import torch.nn.functional as F\n",
    "import torch\n",
    "import torch.nn as nn\n",
    "import numpy as np\n",
    "from sklearn.preprocessing import MinMaxScaler\n",
    "import torch\n",
    "nltk.download('punkt')\n",
    "from gensim.models import Word2Vec\n",
    "from nltk.tokenize import word_tokenize\n",
    "sys.path.insert(0, '..')\n",
    "import pickle\n",
    "from sklearn.preprocessing import LabelEncoder\n",
    "from torch.autograd import grad as torch_grad\n",
    "from sklearn.preprocessing import OneHotEncoder\n",
    "\n"
   ]
  },
  {
   "cell_type": "code",
   "execution_count": 2,
   "outputs": [
    {
     "name": "stdout",
     "output_type": "stream",
     "text": [
      "2.0.1\n",
      "GPU Available: False\n"
     ]
    }
   ],
   "source": [
    "import torch\n",
    "\n",
    "\n",
    "print(torch.__version__)\n",
    "print(\"GPU Available:\", torch.cuda.is_available())\n",
    "\n",
    "if torch.cuda.is_available():\n",
    "    device = torch.device(\"cuda:0\")\n",
    "else:\n",
    "    device = \"cpu\""
   ],
   "metadata": {
    "collapsed": false,
    "ExecuteTime": {
     "start_time": "2024-03-14T13:23:27.442806Z",
     "end_time": "2024-03-14T13:23:27.459618Z"
    }
   }
  },
  {
   "cell_type": "code",
   "execution_count": 3,
   "outputs": [],
   "source": [
    "batch_size = 64\n",
    "word_embedding_dim = 50\n",
    "output_shape = (1, 105, 8)\n",
    "torch.manual_seed(1)\n",
    "np.random.seed(1)"
   ],
   "metadata": {
    "collapsed": false,
    "ExecuteTime": {
     "start_time": "2024-03-14T13:23:27.459618Z",
     "end_time": "2024-03-14T13:23:27.521743Z"
    }
   }
  },
  {
   "cell_type": "code",
   "execution_count": 4,
   "outputs": [],
   "source": [
    "\n",
    "# To load the lists from the file:\n",
    "with open(r\"C:\\Users\\gxb18167\\PycharmProjects\\EEG-To-Text\\SIGIR_Development\\EEG-GAN\\EEG_Text_Pairs.pkl\", 'rb') as file:\n",
    "    EEG_word_level_embeddings = pickle.load(file)\n",
    "    EEG_word_level_labels = pickle.load(file)"
   ],
   "metadata": {
    "collapsed": false,
    "ExecuteTime": {
     "start_time": "2024-03-14T13:23:27.495559Z",
     "end_time": "2024-03-14T13:23:28.727120Z"
    }
   }
  },
  {
   "cell_type": "code",
   "execution_count": 5,
   "outputs": [],
   "source": [
    "def create_word_label_embeddings(Word_Labels_List):\n",
    "    tokenized_words = []\n",
    "    for i in range(len(Word_Labels_List)):\n",
    "        tokenized_words.append([Word_Labels_List[i]])\n",
    "    model = Word2Vec(sentences=tokenized_words, vector_size=word_embedding_dim, window=5, min_count=1, workers=4)\n",
    "    word_embeddings = {word: model.wv[word] for word in model.wv.index_to_key}\n",
    "    print(\"Number of word embeddings:\", len(word_embeddings))\n",
    "    #word, embedding = list(word_embeddings.items())[10]\n",
    "    #print(f\"Word: {word}, Embedding: {embedding}\")\n",
    "\n",
    "    Embedded_Word_labels = []\n",
    "    for word in EEG_word_level_labels:\n",
    "        Embedded_Word_labels.append(word_embeddings[word])\n",
    "\n",
    "    return Embedded_Word_labels, word_embeddings\n",
    "\n",
    "def create_dataloader(EEG_word_level_embeddings, Embedded_Word_labels):\n",
    "    EEG_word_level_embeddings_normalize = (EEG_word_level_embeddings - np.mean(EEG_word_level_embeddings)) / np.std(EEG_word_level_embeddings)\n",
    "\n",
    "    float_tensor = torch.tensor(EEG_word_level_embeddings_normalize, dtype=torch.float)\n",
    "    float_tensor = float_tensor.unsqueeze(1)\n",
    "\n",
    "    #print(EEG_word_level_embeddings_normalize)\n",
    "    # Calculate mean and standard deviation\n",
    "    print(torch.isnan(float_tensor).any())\n",
    "\n",
    "    train_data = []\n",
    "    for i in range(len(float_tensor)):\n",
    "       train_data.append([float_tensor[i], Embedded_Word_labels[i]])\n",
    "    trainloader = torch.utils.data.DataLoader(train_data, shuffle=True, batch_size=64)\n",
    "    return trainloader"
   ],
   "metadata": {
    "collapsed": false,
    "ExecuteTime": {
     "start_time": "2024-03-14T13:23:28.727120Z",
     "end_time": "2024-03-14T13:23:28.742779Z"
    }
   }
  },
  {
   "cell_type": "code",
   "execution_count": 76,
   "outputs": [
    {
     "name": "stderr",
     "output_type": "stream",
     "text": [
      "C:\\Users\\gxb18167\\Anaconda3\\lib\\site-packages\\sklearn\\preprocessing\\_label.py:116: DataConversionWarning: A column-vector y was passed when a 1d array was expected. Please change the shape of y to (n_samples, ), for example using ravel().\n",
      "  y = column_or_1d(y, warn=True)\n"
     ]
    }
   ],
   "source": [
    "#Embedded_Word_labels, word_embeddings = create_word_label_embeddings(EEG_word_level_labels)\n",
    "encoder = LabelEncoder()\n",
    "Embedded_Word_labels = encoder.fit_transform(np.array(EEG_word_level_labels).reshape(-1, 1))\n",
    "\n",
    "Embedded_Word_labels = torch.tensor(Embedded_Word_labels, dtype=torch.float)\n"
   ],
   "metadata": {
    "collapsed": false,
    "ExecuteTime": {
     "start_time": "2024-03-14T14:38:43.806728Z",
     "end_time": "2024-03-14T14:38:43.902522Z"
    }
   }
  },
  {
   "cell_type": "code",
   "execution_count": 77,
   "outputs": [],
   "source": [],
   "metadata": {
    "collapsed": false,
    "ExecuteTime": {
     "start_time": "2024-03-14T14:38:52.975042Z",
     "end_time": "2024-03-14T14:38:52.990061Z"
    }
   }
  },
  {
   "cell_type": "code",
   "execution_count": 77,
   "outputs": [],
   "source": [],
   "metadata": {
    "collapsed": false,
    "ExecuteTime": {
     "start_time": "2024-03-14T14:38:54.647954Z",
     "end_time": "2024-03-14T14:38:54.679398Z"
    }
   }
  },
  {
   "cell_type": "code",
   "execution_count": 238,
   "outputs": [
    {
     "name": "stdout",
     "output_type": "stream",
     "text": [
      "tensor(False)\n"
     ]
    }
   ],
   "source": [
    "trainloader = create_dataloader(EEG_word_level_embeddings, Embedded_Word_labels)"
   ],
   "metadata": {
    "collapsed": false,
    "ExecuteTime": {
     "start_time": "2024-03-14T15:35:01.156753Z",
     "end_time": "2024-03-14T15:35:07.410528Z"
    }
   }
  },
  {
   "cell_type": "code",
   "execution_count": 239,
   "outputs": [],
   "source": [
    "z_size = 100\n",
    "image_size = (105, 8)\n",
    "n_classes = 5860\n",
    "n_filters = 32"
   ],
   "metadata": {
    "collapsed": false,
    "ExecuteTime": {
     "start_time": "2024-03-14T15:35:07.410528Z",
     "end_time": "2024-03-14T15:35:07.426048Z"
    }
   }
  },
  {
   "cell_type": "code",
   "execution_count": 240,
   "outputs": [],
   "source": [
    "class Generator(nn.Module):\n",
    "    def __init__(self, noise_dim, word_embedding_dim):\n",
    "        super(Generator, self).__init__()\n",
    "\n",
    "        self.noise_dim = noise_dim\n",
    "        self.label_emb = nn.Embedding(n_classes, 100)\n",
    "\n",
    "        # Define the layers of your generator\n",
    "        self.fc_noise = nn.Linear(noise_dim, 105 * 8)\n",
    "        self.fc_word_embedding = nn.Linear(100, 105 * 8)\n",
    "        self.conv1 = nn.Conv2d(2, 64, kernel_size=3, stride=1, padding=1)\n",
    "        self.bn1 = nn.BatchNorm2d(64)\n",
    "        self.relu = nn.ReLU()\n",
    "        self.conv2 = nn.Conv2d(64, 1, kernel_size=3, stride=1, padding=1)\n",
    "\n",
    "\n",
    "\n",
    "    def forward(self, noise, word_embedding):\n",
    "        # Process noise\n",
    "        noise = self.fc_noise(noise)\n",
    "        noise = noise.view(noise.size(0), 1, 105, 8)\n",
    "\n",
    "        # Process word embedding\n",
    "        word_embedding = self.label_emb(word_embedding)\n",
    "\n",
    "        word_embedding = self.fc_word_embedding(word_embedding)\n",
    "\n",
    "        word_embedding = word_embedding.view(word_embedding.size(0), 1, 105, 8)\n",
    "\n",
    "        # Concatenate noise and word embedding\n",
    "        combined_input = torch.cat([noise, word_embedding], dim=1)\n",
    "\n",
    "        # Upsample and generate the output\n",
    "        z = self.conv1(combined_input)\n",
    "        z = self.bn1(z)\n",
    "        z = self.relu(z)\n",
    "        z = self.conv2(z)\n",
    "\n",
    "        return z\n",
    "\n",
    "class DiscriminatorWGAN(nn.Module):\n",
    "    def __init__(self, n_filters):\n",
    "        super(DiscriminatorWGAN, self).__init__()\n",
    "\n",
    "        self.network = nn.Sequential(\n",
    "            nn.Conv2d(1, n_filters, kernel_size=4, stride=2, padding=1, bias=False),\n",
    "            nn.LeakyReLU(0.2),\n",
    "\n",
    "            nn.Conv2d(n_filters, n_filters*2, kernel_size=4, stride=2, padding=1, bias=False),\n",
    "            nn.InstanceNorm2d(n_filters * 2),\n",
    "            nn.LeakyReLU(0.2),\n",
    "\n",
    "            nn.Conv2d(n_filters*2, n_filters*4, kernel_size=3, stride=2, padding=1, bias=False),\n",
    "            nn.InstanceNorm2d(n_filters*4),\n",
    "            nn.LeakyReLU(0.2),\n",
    "\n",
    "            nn.Flatten(),  # Flatten spatial dimensions\n",
    "\n",
    "            # Fully connected layer to reduce to a single value per sample\n",
    "\n",
    "        )\n",
    "\n",
    "        self.adv_layer = nn.Sequential(\n",
    "            nn.Linear(n_filters*4 * (105 // 8) * (8 // 8), 1),\n",
    "            nn.Sigmoid()\n",
    "        )\n",
    "        self.aux_layer = nn.Sequential(\n",
    "            nn.Linear(n_filters*4 * (105 // 8) * (8 // 8), 1),\n",
    "            nn.Softmax()\n",
    "        )\n",
    "\n",
    "    def forward(self, input):\n",
    "        #print(\"combined_input:\", combined_input.shape)\n",
    "\n",
    "        output = self.network(input)\n",
    "        valid = self.adv_layer(output)\n",
    "        label = self.aux_layer(output)\n",
    "\n",
    "\n",
    "        return valid, label\n"
   ],
   "metadata": {
    "collapsed": false,
    "ExecuteTime": {
     "start_time": "2024-03-14T15:35:07.426048Z",
     "end_time": "2024-03-14T15:35:07.465841Z"
    }
   }
  },
  {
   "cell_type": "code",
   "execution_count": 241,
   "outputs": [],
   "source": [
    "gen_model = Generator(z_size, 1).to(device)\n",
    "disc_model = DiscriminatorWGAN(n_filters).to(device)\n",
    "adversarial_loss = nn.BCELoss()\n",
    "auxiliary_loss = nn.CrossEntropyLoss()\n",
    "g_optimizer = torch.optim.Adam(gen_model.parameters(), 0.00002)\n",
    "d_optimizer = torch.optim.Adam(disc_model.parameters(), 0.00002)"
   ],
   "metadata": {
    "collapsed": false,
    "ExecuteTime": {
     "start_time": "2024-03-14T15:35:07.465841Z",
     "end_time": "2024-03-14T15:35:07.489533Z"
    }
   }
  },
  {
   "cell_type": "code",
   "execution_count": 242,
   "outputs": [],
   "source": [
    "def create_noise(batch_size, z_size, mode_z):\n",
    "    if mode_z == 'uniform':\n",
    "        input_z = torch.rand(batch_size, z_size)*2 - 1\n",
    "    elif mode_z == 'normal':\n",
    "        input_z = torch.randn(batch_size, z_size)\n",
    "    return input_z\n",
    "\n",
    "mode_z = 'uniform'\n",
    "fixed_z = create_noise(batch_size, z_size, mode_z).to(device)\n",
    "\n",
    "def create_samples(g_model, input_z, input_t):\n",
    "    g_output = g_model(input_z, input_t)\n",
    "    images = torch.reshape(g_output, (batch_size, *image_size))\n",
    "    return (images+1)/2.0"
   ],
   "metadata": {
    "collapsed": false,
    "ExecuteTime": {
     "start_time": "2024-03-14T15:35:07.489533Z",
     "end_time": "2024-03-14T15:35:07.505945Z"
    }
   }
  },
  {
   "cell_type": "code",
   "execution_count": 243,
   "outputs": [],
   "source": [
    "\n",
    "## Train the discriminator\n",
    "def d_train(x, T):\n",
    "\n",
    "    #init gradient\n",
    "    disc_model.zero_grad()\n",
    "\n",
    "    # Train discriminator with a real batch\n",
    "    batch_size = x.size(0)\n",
    "    x = x.to(device)\n",
    "    d_proba_real, real_aux = disc_model(x)\n",
    "\n",
    "    #Calculate loss (real images)\n",
    "    d_labels_real = torch.ones(batch_size, 1, device=device)\n",
    "    #d_loss_real = adversarial_loss(d_proba_real, d_labels_real)\n",
    "\n",
    "    real_aux = real_aux.squeeze(dim=1)\n",
    "    d_real_loss = (adversarial_loss(d_proba_real, d_labels_real) + auxiliary_loss(real_aux, T)) / 2\n",
    "\n",
    "    #building Z\n",
    "    input_z = create_noise(batch_size, z_size, mode_z).to(device)\n",
    "\n",
    "    #building fake T\n",
    "    gen_labels = torch.randint(0, n_classes, (batch_size,))\n",
    "\n",
    "    # Train discriminator on a fake batch\n",
    "    g_output = gen_model(input_z, gen_labels)\n",
    "\n",
    "    #Discriminating fake images\n",
    "    d_proba_fake, fake_aux = disc_model(g_output)\n",
    "\n",
    "    #Calculate loss (fake images)\n",
    "    d_labels_fake = torch.zeros(batch_size, 1, device=device)\n",
    "\n",
    "    gen_labels = gen_labels.type(torch.float32).to(device)\n",
    "    fake_aux = fake_aux.squeeze(dim=1)\n",
    "\n",
    "    d_fake_loss = (adversarial_loss(d_proba_fake, d_labels_fake) + auxiliary_loss(fake_aux, gen_labels)) / 2\n",
    "\n",
    "    # gradient backprop & optimize ONLY D's parameters\n",
    "    d_loss = (d_real_loss + d_fake_loss) / 2\n",
    "    d_loss.backward()\n",
    "    d_optimizer.step()\n",
    "\n",
    "    return d_loss.data.item(), d_proba_real.detach(), d_proba_fake.detach()"
   ],
   "metadata": {
    "collapsed": false,
    "ExecuteTime": {
     "start_time": "2024-03-14T15:35:07.505945Z",
     "end_time": "2024-03-14T15:35:07.520956Z"
    }
   }
  },
  {
   "cell_type": "code",
   "execution_count": 244,
   "outputs": [],
   "source": [
    "## Train the generator\n",
    "def g_train(x):\n",
    "\n",
    "    #Init gradient\n",
    "    gen_model.zero_grad()\n",
    "\n",
    "    #Building Z\n",
    "    batch_size = x.size(0)\n",
    "    input_z = create_noise(batch_size, z_size, mode_z).to(device)\n",
    "\n",
    "    #building real labels\n",
    "    g_labels_real = torch.ones((batch_size, 1), device=device)\n",
    "\n",
    "    #generate fake text embeddings\n",
    "    gen_labels = torch.randint(0, n_classes, (batch_size,))\n",
    "\n",
    "    g_output = gen_model(input_z, gen_labels)\n",
    "\n",
    "    #in this case, d_proba_fake is their validity\n",
    "    d_proba_fake, pred_label = disc_model(g_output)\n",
    "\n",
    "    pred_label = pred_label.squeeze(dim=1)\n",
    "\n",
    "    gen_labels = gen_labels.type(torch.float32).to(device)\n",
    "    g_loss = 0.5 * (adversarial_loss(d_proba_fake, g_labels_real) + auxiliary_loss(pred_label, gen_labels))\n",
    "\n",
    "    # gradient backprop & optimize ONLY G's parameters\n",
    "    g_loss.backward()\n",
    "    g_optimizer.step()\n",
    "\n",
    "    return g_loss.data.item()"
   ],
   "metadata": {
    "collapsed": false,
    "ExecuteTime": {
     "start_time": "2024-03-14T15:35:07.520956Z",
     "end_time": "2024-03-14T15:35:07.536630Z"
    }
   }
  },
  {
   "cell_type": "code",
   "execution_count": 246,
   "outputs": [
    {
     "name": "stdout",
     "output_type": "stream",
     "text": [
      "D Loss: 424373.5625\n",
      "D Loss: 457704.9375\n",
      "D Loss: 393035.3125\n",
      "D Loss: 397463.5\n",
      "D Loss: 412990.6875\n",
      "D Loss: 392489.5\n",
      "D Loss: 426612.0625\n",
      "D Loss: 384024.0625\n",
      "D Loss: 389095.8125\n",
      "D Loss: 406857.375\n",
      "D Loss: 403790.1875\n",
      "D Loss: 453039.6875\n",
      "D Loss: 416902.09375\n",
      "D Loss: 437270.25\n",
      "D Loss: 401462.28125\n",
      "D Loss: 429782.1875\n",
      "D Loss: 395222.9375\n",
      "D Loss: 404133.3125\n",
      "D Loss: 420572.3125\n",
      "D Loss: 403210.0\n",
      "D Loss: 399325.625\n",
      "D Loss: 389183.15625\n",
      "D Loss: 423793.375\n",
      "D Loss: 422344.0\n",
      "D Loss: 444082.46875\n",
      "D Loss: 429303.875\n",
      "D Loss: 396334.34375\n",
      "D Loss: 427417.8125\n",
      "D Loss: 399917.25\n",
      "D Loss: 436652.625\n",
      "D Loss: 386551.625\n",
      "D Loss: 431187.875\n",
      "D Loss: 388970.0\n",
      "D Loss: 393410.65625\n",
      "D Loss: 401817.875\n",
      "D Loss: 406060.9375\n",
      "D Loss: 386172.125\n",
      "D Loss: 437405.375\n",
      "D Loss: 407775.46875\n",
      "D Loss: 415940.34375\n",
      "D Loss: 435987.21875\n",
      "D Loss: 404570.0\n",
      "D Loss: 388072.75\n",
      "D Loss: 426127.5625\n",
      "D Loss: 424638.65625\n",
      "D Loss: 366027.53125\n",
      "D Loss: 415099.21875\n",
      "D Loss: 424394.3125\n",
      "D Loss: 405112.71875\n",
      "D Loss: 430885.3125\n",
      "D Loss: 395719.90625\n",
      "D Loss: 392439.5625\n",
      "D Loss: 394207.0625\n",
      "D Loss: 461557.0625\n",
      "D Loss: 404618.84375\n",
      "D Loss: 400300.875\n",
      "D Loss: 403063.40625\n",
      "D Loss: 420898.8125\n",
      "D Loss: 416160.8125\n",
      "D Loss: 418866.125\n",
      "D Loss: 417169.28125\n",
      "D Loss: 407896.03125\n",
      "D Loss: 445434.125\n",
      "D Loss: 420874.875\n",
      "D Loss: 424787.34375\n",
      "D Loss: 401540.21875\n",
      "D Loss: 393195.4375\n",
      "D Loss: 416938.5\n",
      "D Loss: 420228.1875\n",
      "D Loss: 422059.125\n",
      "D Loss: 389534.59375\n",
      "D Loss: 431679.65625\n",
      "D Loss: 407253.5\n",
      "D Loss: 396486.15625\n",
      "D Loss: 427252.5625\n",
      "D Loss: 436950.0\n",
      "D Loss: 402066.34375\n",
      "D Loss: 410499.5\n",
      "D Loss: 441734.8125\n",
      "D Loss: 390611.71875\n",
      "D Loss: 374178.9375\n",
      "D Loss: 370914.21875\n",
      "D Loss: 390312.28125\n",
      "D Loss: 417536.34375\n",
      "D Loss: 422452.125\n",
      "D Loss: 369067.6875\n",
      "D Loss: 370218.625\n",
      "D Loss: 400052.375\n",
      "D Loss: 408262.0\n",
      "D Loss: 404093.75\n",
      "D Loss: 433093.65625\n",
      "D Loss: 404145.75\n",
      "D Loss: 385114.75\n",
      "D Loss: 424429.65625\n",
      "D Loss: 424622.03125\n",
      "D Loss: 408851.5625\n",
      "D Loss: 420405.96875\n",
      "D Loss: 418095.71875\n",
      "D Loss: 397513.40625\n",
      "D Loss: 381532.875\n",
      "D Loss: 437538.46875\n",
      "D Loss: 444379.8125\n",
      "D Loss: 412427.125\n",
      "D Loss: 436911.5625\n",
      "D Loss: 447800.5625\n",
      "D Loss: 423418.03125\n",
      "D Loss: 411443.59375\n",
      "D Loss: 425750.125\n",
      "D Loss: 418393.0625\n",
      "D Loss: 391259.46875\n",
      "D Loss: 419389.125\n",
      "D Loss: 384728.96875\n",
      "D Loss: 422097.59375\n",
      "D Loss: 397028.875\n",
      "D Loss: 419719.71875\n",
      "D Loss: 429893.375\n",
      "D Loss: 391062.9375\n",
      "D Loss: 399477.375\n",
      "D Loss: 389587.5625\n",
      "D Loss: 415895.65625\n",
      "D Loss: 455429.0\n",
      "D Loss: 416911.46875\n",
      "D Loss: 404920.3125\n",
      "D Loss: 387098.46875\n"
     ]
    },
    {
     "ename": "KeyboardInterrupt",
     "evalue": "",
     "output_type": "error",
     "traceback": [
      "\u001B[1;31m---------------------------------------------------------------------------\u001B[0m",
      "\u001B[1;31mKeyboardInterrupt\u001B[0m                         Traceback (most recent call last)",
      "Cell \u001B[1;32mIn[246], line 15\u001B[0m\n\u001B[0;32m     13\u001B[0m \u001B[38;5;28;01mfor\u001B[39;00m i, (x, t) \u001B[38;5;129;01min\u001B[39;00m \u001B[38;5;28menumerate\u001B[39m(trainloader):\n\u001B[0;32m     14\u001B[0m     g_losses\u001B[38;5;241m.\u001B[39mappend(g_train(x))\n\u001B[1;32m---> 15\u001B[0m     d_loss, d_proba_real, d_proba_fake \u001B[38;5;241m=\u001B[39m \u001B[43md_train\u001B[49m\u001B[43m(\u001B[49m\u001B[43mx\u001B[49m\u001B[43m,\u001B[49m\u001B[43m \u001B[49m\u001B[43mt\u001B[49m\u001B[43m)\u001B[49m\n\u001B[0;32m     16\u001B[0m     \u001B[38;5;28mprint\u001B[39m(\u001B[38;5;124m\"\u001B[39m\u001B[38;5;124mD Loss:\u001B[39m\u001B[38;5;124m\"\u001B[39m, d_loss)\n\u001B[0;32m     17\u001B[0m     d_losses\u001B[38;5;241m.\u001B[39mappend(d_loss)\n",
      "Cell \u001B[1;32mIn[243], line 17\u001B[0m, in \u001B[0;36md_train\u001B[1;34m(x, T)\u001B[0m\n\u001B[0;32m     14\u001B[0m \u001B[38;5;66;03m#d_loss_real = adversarial_loss(d_proba_real, d_labels_real)\u001B[39;00m\n\u001B[0;32m     16\u001B[0m real_aux \u001B[38;5;241m=\u001B[39m real_aux\u001B[38;5;241m.\u001B[39msqueeze(dim\u001B[38;5;241m=\u001B[39m\u001B[38;5;241m1\u001B[39m)\n\u001B[1;32m---> 17\u001B[0m d_real_loss \u001B[38;5;241m=\u001B[39m (\u001B[43madversarial_loss\u001B[49m\u001B[43m(\u001B[49m\u001B[43md_proba_real\u001B[49m\u001B[43m,\u001B[49m\u001B[43m \u001B[49m\u001B[43md_labels_real\u001B[49m\u001B[43m)\u001B[49m\u001B[43m \u001B[49m\u001B[38;5;241;43m+\u001B[39;49m\u001B[43m \u001B[49m\u001B[43mauxiliary_loss\u001B[49m\u001B[43m(\u001B[49m\u001B[43mreal_aux\u001B[49m\u001B[43m,\u001B[49m\u001B[43m \u001B[49m\u001B[43mT\u001B[49m\u001B[43m)\u001B[49m) \u001B[38;5;241m/\u001B[39m \u001B[38;5;241m2\u001B[39m\n\u001B[0;32m     19\u001B[0m \u001B[38;5;66;03m#building Z\u001B[39;00m\n\u001B[0;32m     20\u001B[0m input_z \u001B[38;5;241m=\u001B[39m create_noise(batch_size, z_size, mode_z)\u001B[38;5;241m.\u001B[39mto(device)\n",
      "\u001B[1;31mKeyboardInterrupt\u001B[0m: "
     ]
    }
   ],
   "source": [
    "mode_z = 'uniform'\n",
    "epoch_samples = []\n",
    "num_epochs = 100\n",
    "torch.manual_seed(1)\n",
    "save_interval = 5\n",
    "checkpoint_path = 'Textual_DCGAN_model_checkpoint_epoch_{}.pth'\n",
    "final_model_path = 'Textual_DCGAN_model_final.pth'\n",
    "\n",
    "for epoch in range(1, num_epochs+1):\n",
    "    gen_model.train()\n",
    "    fixed_z = create_noise(batch_size, z_size, mode_z).to(device)\n",
    "    d_losses, g_losses = [], []\n",
    "    for i, (x, t) in enumerate(trainloader):\n",
    "        g_losses.append(g_train(x))\n",
    "        d_loss, d_proba_real, d_proba_fake = d_train(x, t)\n",
    "        print(\"D Loss:\", d_loss)\n",
    "        d_losses.append(d_loss)\n",
    "\n",
    "\n",
    "    print(f'Epoch {epoch:03d} | D Loss >>'\n",
    "          f' {torch.FloatTensor(d_losses).mean():.4f}')\n",
    "    print(f'Epoch {epoch:03d} | G Loss >>'\n",
    "          f' {torch.FloatTensor(g_losses).mean():.4f}')\n",
    "\n",
    "    if epoch % save_interval == 0:\n",
    "        torch.save({\n",
    "            'epoch': epoch,\n",
    "            'gen_model_state_dict': gen_model.state_dict(),\n",
    "            'optimizer_state_dict': g_optimizer.state_dict(),\n",
    "            'd_losses': d_losses,\n",
    "            'g_losses': g_losses,\n",
    "        }, checkpoint_path.format(epoch))"
   ],
   "metadata": {
    "collapsed": false
   }
  },
  {
   "cell_type": "code",
   "execution_count": 198,
   "outputs": [],
   "source": [],
   "metadata": {
    "collapsed": false,
    "ExecuteTime": {
     "start_time": "2024-03-14T15:19:58.971144Z",
     "end_time": "2024-03-14T15:19:59.025093Z"
    }
   }
  },
  {
   "cell_type": "code",
   "execution_count": 31,
   "outputs": [],
   "source": [],
   "metadata": {
    "collapsed": false,
    "ExecuteTime": {
     "start_time": "2024-03-14T13:35:13.866075Z",
     "end_time": "2024-03-14T13:35:13.866075Z"
    }
   }
  },
  {
   "cell_type": "code",
   "execution_count": 28,
   "outputs": [],
   "source": [],
   "metadata": {
    "collapsed": false,
    "ExecuteTime": {
     "start_time": "2024-03-14T13:29:34.109613Z",
     "end_time": "2024-03-14T13:29:34.155982Z"
    }
   }
  },
  {
   "cell_type": "code",
   "execution_count": null,
   "outputs": [],
   "source": [],
   "metadata": {
    "collapsed": false
   }
  }
 ],
 "metadata": {
  "kernelspec": {
   "display_name": "Python 3",
   "language": "python",
   "name": "python3"
  },
  "language_info": {
   "codemirror_mode": {
    "name": "ipython",
    "version": 2
   },
   "file_extension": ".py",
   "mimetype": "text/x-python",
   "name": "python",
   "nbconvert_exporter": "python",
   "pygments_lexer": "ipython2",
   "version": "2.7.6"
  }
 },
 "nbformat": 4,
 "nbformat_minor": 0
}
