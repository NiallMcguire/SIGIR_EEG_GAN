{
 "cells": [
  {
   "cell_type": "code",
   "execution_count": 2,
   "metadata": {
    "collapsed": true,
    "ExecuteTime": {
     "start_time": "2024-04-11T17:12:54.340767Z",
     "end_time": "2024-04-11T17:12:54.362770Z"
    }
   },
   "outputs": [
    {
     "data": {
      "text/plain": "'/users/gxb18167/Datasets/Checkpoints/train_decoding/Generation_size_Word_Level_batch_size_64_g_d_learning_rate2e-05_2e-05_word_embedding_dim_50_z_size_100_num_epochs_100_device_cuda:0_model_final/Augment_v2_2_TF-IDF-Medium_task1_task2_taskNRv2_finetune_WGAN_v1_Text_skipstep1_b32_20_30_5e-05_5e-07_unique_sent.json'"
     },
     "execution_count": 1,
     "metadata": {},
     "output_type": "execute_result"
    }
   ],
   "source": [
    "path = \"/users/gxb18167/Datasets/Checkpoints/train_decoding/Generation_size_Word_Level_batch_size_64_g_d_learning_rate2e-05_2e-05_word_embedding_dim_50_z_size_100_num_epochs_100_device_cuda:0_model_final/Augment_v2_2_TF-IDF-Medium_task1_task2_taskNRv2_finetune_WGAN_v1_Text_skipstep1_b32_20_30_5e-05_5e-07_unique_sent.json\""
   ]
  },
  {
   "cell_type": "code",
   "execution_count": 3,
   "outputs": [
    {
     "name": "stdout",
     "output_type": "stream",
     "text": [
      "Last folder: Generation_size_Word_Level_batch_size_64_g_d_learning_rate2e-05_2e-05_word_embedding_dim_50_z_size_100_num_epochs_100_device_cuda:0_model_final\n",
      "File name: Augment_v2_2_TF-IDF-Medium_task1_task2_taskNRv2_finetune_WGAN_v1_Text_skipstep1_b32_20_30_5e-05_5e-07_unique_sent.json\n"
     ]
    }
   ],
   "source": [
    "# Split the path by '/'\n",
    "path_elements = path.split('/')\n",
    "\n",
    "# Extract the last two elements\n",
    "last_folder = path_elements[-2]\n",
    "file_name = path_elements[-1]\n",
    "\n",
    "print(\"Last folder:\", last_folder)\n",
    "print(\"File name:\", file_name)"
   ],
   "metadata": {
    "collapsed": false,
    "ExecuteTime": {
     "start_time": "2024-04-11T17:13:09.105875Z",
     "end_time": "2024-04-11T17:13:09.166639Z"
    }
   }
  },
  {
   "cell_type": "code",
   "execution_count": null,
   "outputs": [],
   "source": [],
   "metadata": {
    "collapsed": false
   }
  }
 ],
 "metadata": {
  "kernelspec": {
   "display_name": "Python 3",
   "language": "python",
   "name": "python3"
  },
  "language_info": {
   "codemirror_mode": {
    "name": "ipython",
    "version": 2
   },
   "file_extension": ".py",
   "mimetype": "text/x-python",
   "name": "python",
   "nbconvert_exporter": "python",
   "pygments_lexer": "ipython2",
   "version": "2.7.6"
  }
 },
 "nbformat": 4,
 "nbformat_minor": 0
}
